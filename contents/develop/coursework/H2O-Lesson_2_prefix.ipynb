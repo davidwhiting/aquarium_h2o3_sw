{
 "cells": [
  {
   "cell_type": "markdown",
   "metadata": {
    "deletable": false,
    "editable": false
   },
   "source": [
    "## License \n",
    "\n",
    "<span style=\"color:gray\"> Copyright 2019 David Whiting and the H2O.ai team\n",
    "\n",
    "<span style=\"color:gray\"> Licensed under the Apache License, Version 2.0 (the \"License\");\n",
    "you may not use this file except in compliance with the License.\n",
    "You may obtain a copy of the License at\n",
    "\n",
    "<span style=\"color:gray\">     http://www.apache.org/licenses/LICENSE-2.0\n",
    "\n",
    "<span style=\"color:gray\"> Unless required by applicable law or agreed to in writing, software\n",
    "distributed under the License is distributed on an \"AS IS\" BASIS,\n",
    "WITHOUT WARRANTIES OR CONDITIONS OF ANY KIND, either express or implied.\n",
    "See the License for the specific language governing permissions and\n",
    "limitations under the License.\n",
    "\n",
    "<span style=\"color:gray\"> **DISCLAIMER:** This notebook is not legal compliance advice. </span>\n",
    "\n",
    "<hr style=\"background-color: gray;height: 2.0px;\"/>"
   ]
  },
  {
   "cell_type": "markdown",
   "metadata": {},
   "source": [
    "<img src=\"./img/h2o_banner2.png\">"
   ]
  },
  {
   "cell_type": "markdown",
   "metadata": {},
   "source": [
    "# Introduction to H2O-3: Lesson 2\n",
    "\n",
    "This is the second in a series of instructional Jupyter notebooks on H2O-3. These notebooks are built to be run on the H2O.ai Aquarium training platform [http://aquarium.h2o.ai](http://aquarium.h2o.ai) under the `Coursework` lab. There is an accompanying instructional video with additional commentary found <span style=\"color:red\">**_here_** _(link to be added)_.</span>"
   ]
  },
  {
   "cell_type": "markdown",
   "metadata": {},
   "source": [
    "<div style=\"margin-left: 3em;\">\n",
    "\n",
    "### Intended Audience\n",
    "\n",
    "The target audience for this training notebook is data scientists, machine learning engineers, and other experienced modelers. Technically advanced analysts may also find this training understandable.\n",
    "\n",
    "### Prerequisites\n",
    "Successful completion of <span style=\"color:blue\">Introduction to H2O-3: Lesson 1</span>\n",
    "\n",
    "In addition, a working knowledge of python and previous experience building statistical or machine learning models is assumed.\n",
    "\n",
    "### Learning Outcomes\n",
    "\n",
    "By the end of this notebook, you will be able to ...\n",
    "\n",
    "<ul style=\"list-style: none;\">\n",
    "    <li><input type=\"checkbox\" disabled ><span style=\"color:black\"> \n",
    "    Start the H2O-3 server\n",
    "    </span></li><li><input type=\"checkbox\" disabled ><span style=\"color:black\">\n",
    "    Load data directly into the H2O-3 cluster\n",
    "    </span></li><li><input type=\"checkbox\" disabled ><span style=\"color:black\">\n",
    "    Inspect data using H2O Flow\n",
    "    </span></li><li><input type=\"checkbox\" disabled><span style=\"color:black\">\n",
    "    Perform basic data munging tasks with H2O\n",
    "    </span></li><li><input type=\"checkbox\" disabled><span style=\"color:black\">\n",
    "    Engineer new data features\n",
    "    </span></li><li><input type=\"checkbox\" disabled><span style=\"color:black\">\n",
    "    Train and evaluate an XGBoost ML model (in H2O and H2O Flow)\n",
    "    </span></li><li><input type=\"checkbox\" disabled><span style=\"color:black\">\n",
    "    Create and save a MOJO for model production\n",
    "    </span></li><li><input type=\"checkbox\" disabled><span style=\"color:black\">\n",
    "    Stop the H2O-3 server\n",
    "    </span></li>\n",
    "</ul>\n",
    "\n",
    "</div>\n",
    "\n",
    "<hr style=\"background-color: black;height: 2.0px;\"/>"
   ]
  },
  {
   "cell_type": "markdown",
   "metadata": {},
   "source": [
    "# About H2O-3\n",
    "\n",
    "H2O is an open source, in-memory, distributed, fast, and scalable machine learning and predictive analytics platform that allows you to build machine learning models on big data and provides easy productionalization of those models in an enterprise environment."
   ]
  },
  {
   "cell_type": "markdown",
   "metadata": {},
   "source": [
    "# Step 1. Start the H2O-3 cluster"
   ]
  },
  {
   "cell_type": "markdown",
   "metadata": {},
   "source": [
    "<div class=\"alert alert-block alert-info\"><span style=\"color:black\">\n",
    "    \n",
    "The `os` commands below check whether this notebook is being run on the Aquarium platform. We use the `h2o.init` command to connect to the H2O-3 cluster, starting it if it is not already up. (The parameters used in `h2o.init` will depend on your specific environment.)\n",
    "</span></div>"
   ]
  },
  {
   "cell_type": "code",
   "execution_count": null,
   "metadata": {
    "code_folding": []
   },
   "outputs": [],
   "source": [
    "import os\n",
    "import h2o\n",
    "\n",
    "startup = '/home/h2o/bin/aquarium_startup'\n",
    "if os.path.exists(startup):\n",
    "    os.system(startup)\n",
    "    local_url = 'http://localhost:54321/h2o'\n",
    "    aquarium = True\n",
    "else:\n",
    "    local_url = 'http://localhost:54321'\n",
    "    aquarium = False\n",
    "\n",
    "h2o.init(url=local_url)"
   ]
  },
  {
   "cell_type": "markdown",
   "metadata": {},
   "source": [
    "Note: The method you use for starting and stopping an H2O-3 cluster will depend on how H2O is installed and configured on your system. Regardless of how H2O is installed, if you start a cluster, you will need to ensure that it is shut down when you are done."
   ]
  },
  {
   "cell_type": "markdown",
   "metadata": {
    "deletable": false,
    "editable": false
   },
   "source": [
    "<div class=\"alert alert-block alert-warning\"><span style=\"color:black\">\n",
    "\n",
    "## Learning Outcomes\n",
    "\n",
    "<ul style=\"list-style: none;\">\n",
    "    <li><input type=\"checkbox\" disabled checked><span style=\"color:gray\"> \n",
    "    Start the H2O-3 server\n",
    "    </span></li><li><input type=\"checkbox\" disabled><span style=\"color:black\">\n",
    "    Load data directly into the H2O-3 cluster\n",
    "    </span></li><li><input type=\"checkbox\" disabled><span style=\"color:black\">\n",
    "    Inspect data using H2O Flow\n",
    "    </span></li><li><input type=\"checkbox\" disabled><span style=\"color:black\">\n",
    "    Perform basic data munging tasks with H2O\n",
    "    </span></li><li><input type=\"checkbox\" disabled><span style=\"color:black\">\n",
    "    Engineer new data features\n",
    "    </span></li><li><input type=\"checkbox\" disabled><span style=\"color:black\">\n",
    "    Train and evaluate an XGBoost ML model (in H2O and H2O Flow)\n",
    "    </span></li><li><input type=\"checkbox\" disabled><span style=\"color:black\">\n",
    "    Create and save a MOJO for model production\n",
    "    </span></li><li><input type=\"checkbox\" disabled><span style=\"color:black\">\n",
    "    Stop the H2O-3 server\n",
    "    </span></li>\n",
    "</ul>\n",
    "\n",
    "</span>\n",
    "</div>\n"
   ]
  },
  {
   "cell_type": "markdown",
   "metadata": {},
   "source": [
    "# Step 2. Import data\n",
    "\n",
    "The data set we use below is a local copy of https://s3-us-west-2.amazonaws.com/h2o-tutorials/data/topics/lending/lending_club/LoanStats3a.csv. "
   ]
  },
  {
   "cell_type": "code",
   "execution_count": null,
   "metadata": {},
   "outputs": [],
   "source": [
    "if aquarium:\n",
    "    input_csv = \"/home/h2o/data/lending_club/LoanStats3a.csv\"\n",
    "else:\n",
    "    input_csv = \"https://s3-us-west-2.amazonaws.com/h2o-tutorials/data/topics/lending/lending_club/LoanStats3a.csv\""
   ]
  },
  {
   "cell_type": "markdown",
   "metadata": {},
   "source": [
    "<div class=\"alert alert-block alert-info\"><span style=\"color:black\">\n",
    "Besides delimited files (CSV and gzipped CSV), H2O-3 currently supports the following file types:\n",
    "\n",
    "- ORC\n",
    "- SVMLight\n",
    "- ARFF\n",
    "- XLS (BIFF 8 only)\n",
    "- XLSX (BIFF 8 only)\n",
    "- Avro version 1.8.0 (without multifile parsing or column type modification)\n",
    "- Parquet\n",
    "</span></div>\n",
    "\n",
    "The loans data set is loaded directly into the H2O-3 cluster using the `h2o.import_file` command shown below:"
   ]
  },
  {
   "cell_type": "code",
   "execution_count": null,
   "metadata": {},
   "outputs": [],
   "source": [
    "loans = h2o.import_file(input_csv,\n",
    "                        col_types = {\"int_rate\":\"string\", \n",
    "                                     \"revol_util\":\"string\", \n",
    "                                     \"emp_length\":\"string\", \n",
    "                                     \"verification_status\":\"string\"})"
   ]
  },
  {
   "cell_type": "markdown",
   "metadata": {
    "deletable": false,
    "editable": false
   },
   "source": [
    "<div class=\"alert alert-block alert-warning\"><span style=\"color:black\">\n",
    "\n",
    "## Learning Outcomes\n",
    "\n",
    "<ul style=\"list-style: none;\">\n",
    "    <li><input type=\"checkbox\" disabled checked><span style=\"color:gray\"> \n",
    "    Start the H2O-3 server\n",
    "    </span></li><li><input type=\"checkbox\" disabled checked><span style=\"color:gray\">\n",
    "    Load data directly into the H2O-3 cluster\n",
    "    </span></li><li><input type=\"checkbox\" disabled><span style=\"color:black\">\n",
    "    Inspect data using H2O Flow\n",
    "    </span></li><li><input type=\"checkbox\" disabled><span style=\"color:black\">\n",
    "    Perform basic data munging tasks with H2O\n",
    "    </span></li><li><input type=\"checkbox\" disabled><span style=\"color:black\">\n",
    "    Engineer new data features\n",
    "    </span></li><li><input type=\"checkbox\" disabled><span style=\"color:black\">\n",
    "    Train and evaluate an XGBoost ML model (in H2O and H2O Flow)\n",
    "    </span></li><li><input type=\"checkbox\" disabled><span style=\"color:black\">\n",
    "    Create and save a MOJO for model production\n",
    "    </span></li><li><input type=\"checkbox\" disabled><span style=\"color:black\">\n",
    "    Stop the H2O-3 server\n",
    "    </span></li>\n",
    "</ul>\n",
    "\n",
    "</span>\n",
    "</div>"
   ]
  },
  {
   "cell_type": "markdown",
   "metadata": {},
   "source": [
    "## Details: How H2O file import works"
   ]
  },
  {
   "cell_type": "markdown",
   "metadata": {},
   "source": [
    "The `h2o.import_file` command gives the H2O-3 cluster the location of the data file. The actual data never go into or through Python.\n",
    "\n",
    "**Step 1**: The user passes the file location to the H2O server via a Python function call.\n",
    "\n",
    "<img src=\"./img/h2o_read_step1.png\" style=\"height:250px\">\n",
    "\n",
    "**Step 2**: H2O initiates the the distributed data ingest from the filesystem.\n",
    "\n",
    "<img src=\"./img/h2o_read_step2.png\" style=\"height:320px\">\n",
    "\n",
    "**Step 3**: H2O then performs a parallel upload of the data directly into the H2O-3 cluster's memory. The H2O Frame object is a proxy for the big data in H2O. \n",
    "\n",
    "<img src=\"./img/h2o_read_step3.png\" style=\"height:320px\">\n",
    "\n",
    "This data upload happens in parallel and is extremely efficient."
   ]
  },
  {
   "cell_type": "markdown",
   "metadata": {},
   "source": [
    "## Inspect the Data with H2O Flow\n",
    "\n",
    "Now is a good time to connect to H2O Flow. Although H2O Flow can be used for everything from loading data to building models to creating production code, we use it here for data investigation and H2O system monitoring."
   ]
  },
  {
   "cell_type": "markdown",
   "metadata": {},
   "source": [
    "<div class=\"alert alert-block alert-info\"><span style=\"color:black\">\n",
    "\n",
    "**Note**: the reported IP above, `http://localhost`, is the local IP within your particular cloud instance. To open H2O Flow in your own browser, copy the browser URL and (in Aquarium), replace \n",
    "`http://{your_URL}/jupyter/` with `http://{your_URL}/h2o/`.\n",
    "\n",
    "More generally, Jupyter notebooks are found on port 8888 (`http://{your_URL}:8888`) by default. H2O Flow can be accessed by replacing 8888 with 54321: `http://{your_URL}:54321`.\n",
    "</span></div>"
   ]
  },
  {
   "cell_type": "markdown",
   "metadata": {},
   "source": [
    "Use the `List All Frames` command from the `Data` menu, or select `getFrames` from the Assistance options, to list the frames.\n",
    "\n",
    "<img src=\"./img/flow_list_frames.png\" style=\"width:600px\">\n",
    "\n",
    "The `LoanStats3a.hex` file is the in-memory H2OFrame.\n",
    "\n",
    "<img src=\"./img/loans_hex.png\" style=\"width:600px\">\n",
    "\n",
    "Clicking on the `LoanStats3a.hex` link will display column summaries for the data. You can also click `View Data` to visually inspect the data values themselves.\n",
    "\n",
    "**Within Python** we can get the same summary information by"
   ]
  },
  {
   "cell_type": "code",
   "execution_count": null,
   "metadata": {},
   "outputs": [],
   "source": [
    "loans.dim"
   ]
  },
  {
   "cell_type": "code",
   "execution_count": null,
   "metadata": {},
   "outputs": [],
   "source": [
    "loans.head()"
   ]
  },
  {
   "cell_type": "markdown",
   "metadata": {
    "deletable": false,
    "editable": false
   },
   "source": [
    "<div class=\"alert alert-block alert-warning\"><span style=\"color:black\">\n",
    "\n",
    "## Learning Outcomes\n",
    "\n",
    "<ul style=\"list-style: none;\">\n",
    "    <li><input type=\"checkbox\" disabled checked><span style=\"color:gray\"> \n",
    "    Start the H2O-3 server\n",
    "    </span></li><li><input type=\"checkbox\" disabled checked><span style=\"color:gray\">\n",
    "    Load data directly into the H2O-3 cluster\n",
    "    </span></li><li><input type=\"checkbox\" disabled checked><span style=\"color:gray\">\n",
    "    Inspect data using H2O Flow\n",
    "    </span></li><li><input type=\"checkbox\" disabled><span style=\"color:black\">\n",
    "    Perform basic data munging tasks with H2O\n",
    "    </span></li><li><input type=\"checkbox\" disabled><span style=\"color:black\">\n",
    "    Engineer new data features\n",
    "    </span></li><li><input type=\"checkbox\" disabled><span style=\"color:black\">\n",
    "    Train and evaluate an XGBoost ML model (in H2O and H2O Flow)\n",
    "    </span></li><li><input type=\"checkbox\" disabled><span style=\"color:black\">\n",
    "    Create and save a MOJO for model production\n",
    "    </span></li><li><input type=\"checkbox\" disabled><span style=\"color:black\">\n",
    "    Stop the H2O-3 server\n",
    "    </span></li>\n",
    "</ul>\n",
    "\n",
    "</span>\n",
    "</div>\n"
   ]
  },
  {
   "cell_type": "markdown",
   "metadata": {},
   "source": [
    "# Step 3.  Clean data (data munging)"
   ]
  },
  {
   "cell_type": "markdown",
   "metadata": {},
   "source": [
    "## Part 1. Defining the problem and creating the response variable\n",
    "\n",
    "The total number of loans in our data set is"
   ]
  },
  {
   "cell_type": "code",
   "execution_count": null,
   "metadata": {},
   "outputs": [],
   "source": [
    "num_unfiltered_loans = loans.dim[0]\n",
    "num_unfiltered_loans"
   ]
  },
  {
   "cell_type": "markdown",
   "metadata": {},
   "source": [
    "Because we are interested in loan default, we need to look at the `loan_status` column."
   ]
  },
  {
   "cell_type": "code",
   "execution_count": null,
   "metadata": {},
   "outputs": [],
   "source": [
    "loans[\"loan_status\"].table().head(20)"
   ]
  },
  {
   "cell_type": "markdown",
   "metadata": {},
   "source": [
    "Like many real data sources, `loan_status` is messy and contains multiple, somewhat overlapping, categories. Before modeling, we will need to clean this up by (a) removing loans that are still ongoing, and (b) simplifying the response column."
   ]
  },
  {
   "cell_type": "markdown",
   "metadata": {},
   "source": [
    "### (a) Filter Loans\n",
    "\n",
    "In order to build a valid model, we have to remove loans that are still in process. They have `loan_status` like \"Current\" and \"In Grace Period\":"
   ]
  },
  {
   "cell_type": "code",
   "execution_count": null,
   "metadata": {
    "code_folding": []
   },
   "outputs": [],
   "source": [
    "ongoing_status = [\"Current\",\n",
    "                  \"In Grace Period\",\n",
    "                  \"Late (16-30 days)\"\n",
    "                 ]"
   ]
  },
  {
   "cell_type": "markdown",
   "metadata": {},
   "source": [
    "<div class=\"alert alert-block alert-success\"><span style=\"color:black\">\n",
    " \n",
    "**YOUR TURN**: Use the empty cell below to complete the `ongoing_status` object.\n",
    "</span></div>"
   ]
  },
  {
   "cell_type": "code",
   "execution_count": null,
   "metadata": {},
   "outputs": [],
   "source": [
    "# ongoing status\n"
   ]
  },
  {
   "cell_type": "markdown",
   "metadata": {
    "solution2": "hidden",
    "solution2_first": true
   },
   "source": [
    "<div class=\"alert alert-block alert-success\"><span style=\"color:black\">\n",
    "You can compare your answer to what we got below:\n",
    "    </span></div>"
   ]
  },
  {
   "cell_type": "code",
   "execution_count": null,
   "metadata": {
    "solution2": "hidden"
   },
   "outputs": [],
   "source": [
    "ongoing_status = [\"Current\",\n",
    "                  \"In Grace Period\",\n",
    "                  \"Late (16-30 days)\",\n",
    "                  \"Late (31-120 days)\",\n",
    "                  \"Does not meet the credit policy.  Status:Current\",\n",
    "                  \"Does not meet the credit policy.  Status:In Grace Period\"\n",
    "                 ]"
   ]
  },
  {
   "cell_type": "markdown",
   "metadata": {},
   "source": [
    "Now we can use the following code to filter out loans that are ongoing:"
   ]
  },
  {
   "cell_type": "code",
   "execution_count": null,
   "metadata": {},
   "outputs": [],
   "source": [
    "loans = loans[~loans[\"loan_status\"].isin(ongoing_status)]"
   ]
  },
  {
   "cell_type": "markdown",
   "metadata": {},
   "source": [
    "After filtering out these loans, we have"
   ]
  },
  {
   "cell_type": "code",
   "execution_count": null,
   "metadata": {},
   "outputs": [],
   "source": [
    "num_filtered_loans = loans.dim[0]\n",
    "num_filtered_loans"
   ]
  },
  {
   "cell_type": "markdown",
   "metadata": {},
   "source": [
    "loans whose final state is known, which means we filtered out"
   ]
  },
  {
   "cell_type": "code",
   "execution_count": null,
   "metadata": {},
   "outputs": [],
   "source": [
    "num_loans_filtered_out = num_unfiltered_loans - num_filtered_loans\n",
    "num_loans_filtered_out"
   ]
  },
  {
   "cell_type": "markdown",
   "metadata": {},
   "source": [
    "loans. These loans are now summarized by `loan_status` as"
   ]
  },
  {
   "cell_type": "code",
   "execution_count": null,
   "metadata": {},
   "outputs": [],
   "source": [
    "loans[\"loan_status\"].table().head(20)"
   ]
  },
  {
   "cell_type": "markdown",
   "metadata": {},
   "source": [
    "### (b) Create Response Column\n",
    "\n",
    "Let's name our response column `bad_loan`, which will equal one if the loan was not completely paid off."
   ]
  },
  {
   "cell_type": "code",
   "execution_count": null,
   "metadata": {},
   "outputs": [],
   "source": [
    "fully_paid = [\"Fully Paid\",\n",
    "              \"Does not meet the credit policy.  Status:Fully Paid\"\n",
    "             ]\n",
    "loans[\"bad_loan\"] = ~(loans[\"loan_status\"].isin(fully_paid))"
   ]
  },
  {
   "cell_type": "markdown",
   "metadata": {},
   "source": [
    "Next make the `bad_loan` column a factor so that we can build a classification model,"
   ]
  },
  {
   "cell_type": "code",
   "execution_count": null,
   "metadata": {},
   "outputs": [],
   "source": [
    "loans[\"bad_loan\"] = loans[\"bad_loan\"].asfactor()"
   ]
  },
  {
   "cell_type": "markdown",
   "metadata": {},
   "source": [
    "The percentage of bad loans is given by"
   ]
  },
  {
   "cell_type": "code",
   "execution_count": null,
   "metadata": {},
   "outputs": [],
   "source": [
    "bad_loan_dist = loans[\"bad_loan\"].table()\n",
    "bad_loan_dist[\"Percentage\"] = (100 * bad_loan_dist[\"Count\"] / loans.nrow).round()\n",
    "bad_loan_dist"
   ]
  },
  {
   "cell_type": "markdown",
   "metadata": {},
   "source": [
    "## Part 2. Convert strings to numeric\n",
    "\n",
    "Consider the columns `int_rate`, `revol_util`, and `emp_length`:"
   ]
  },
  {
   "cell_type": "code",
   "execution_count": null,
   "metadata": {},
   "outputs": [],
   "source": [
    "loans[[\"int_rate\", \"revol_util\", \"emp_length\"]].head()"
   ]
  },
  {
   "cell_type": "markdown",
   "metadata": {},
   "source": [
    "Both `int_rate` and `revol_util` are inherently numeric but entered as percentages. Since they include a \"%\" sign, they are read in as strings. The solution for both of these columns is simple: strip the \"%\" sign and convert the strings to numeric.\n",
    "\n",
    "The `emp_length` column is only slightly more complex. Besides removing the \"year\" or \"years\" term, we have to deal with `< 1` and `10+`, which aren't directly numeric. If we define `< 1` as 0 and `10+` as 10, then `emp_length` can also be cast as numeric.\n",
    "\n",
    "We demonstrate the steps for converting these string variables into numeric values below."
   ]
  },
  {
   "cell_type": "markdown",
   "metadata": {},
   "source": [
    "### Convert `int_rate`"
   ]
  },
  {
   "cell_type": "code",
   "execution_count": null,
   "metadata": {},
   "outputs": [],
   "source": [
    "loans[\"int_rate\"] = loans[\"int_rate\"].gsub(pattern = \"%\", replacement = \"\") # strip %\n",
    "loans[\"int_rate\"] = loans[\"int_rate\"].trim() # trim whitespace\n",
    "loans[\"int_rate\"] = loans[\"int_rate\"].asnumeric() # change to numeric "
   ]
  },
  {
   "cell_type": "markdown",
   "metadata": {},
   "source": [
    "### Convert `revol_util`"
   ]
  },
  {
   "cell_type": "markdown",
   "metadata": {},
   "source": [
    "<div class=\"alert alert-block alert-success\"><span style=\"color:black\">\n",
    " \n",
    "**YOUR TURN**: Use the empty cell below to convert the `revol_util` variable to numeric.\n",
    "</span></div>"
   ]
  },
  {
   "cell_type": "code",
   "execution_count": null,
   "metadata": {},
   "outputs": [],
   "source": [
    "# revol_util\n"
   ]
  },
  {
   "cell_type": "markdown",
   "metadata": {
    "solution2": "hidden",
    "solution2_first": true
   },
   "source": [
    "<div class=\"alert alert-block alert-success\"><span style=\"color:black\">\n",
    "Check your answer below:\n",
    "    </span></div>"
   ]
  },
  {
   "cell_type": "code",
   "execution_count": null,
   "metadata": {
    "solution2": "hidden"
   },
   "outputs": [],
   "source": [
    "loans[\"revol_util\"] = loans[\"revol_util\"].gsub(pattern=\"%\", replacement=\"\") # strip %\n",
    "loans[\"revol_util\"] = loans[\"revol_util\"].trim() # trim whitespace\n",
    "loans[\"revol_util\"] = loans[\"revol_util\"].asnumeric() # change to numeric "
   ]
  },
  {
   "cell_type": "markdown",
   "metadata": {},
   "source": [
    "### Convert `emp_length`"
   ]
  },
  {
   "cell_type": "markdown",
   "metadata": {},
   "source": [
    "<div class=\"alert alert-block alert-success\"><span style=\"color:black\">\n",
    " \n",
    "**YOUR TURN**: Use the empty cell below to convert the `emp_length` variable to numeric.\n",
    "</span></div>"
   ]
  },
  {
   "cell_type": "code",
   "execution_count": null,
   "metadata": {},
   "outputs": [],
   "source": [
    "# emp_length\n"
   ]
  },
  {
   "cell_type": "markdown",
   "metadata": {
    "solution2": "hidden",
    "solution2_first": true
   },
   "source": [
    "<div class=\"alert alert-block alert-success\"><span style=\"color:black\">\n",
    "Check your answer below:\n",
    "    </span></div>"
   ]
  },
  {
   "cell_type": "code",
   "execution_count": null,
   "metadata": {
    "solution2": "hidden"
   },
   "outputs": [],
   "source": [
    "# Use gsub to remove \" year\" and \" years\"; also translate n/a to \"\" \n",
    "loans[\"emp_length\"] = loans[\"emp_length\"].gsub(pattern=\"([ ]*+[a-zA-Z].*)|(n/a)\", replacement=\"\") \n",
    "loans[\"emp_length\"] = loans[\"emp_length\"].trim() # trim whitespace\n",
    "\n",
    "loans[\"emp_length\"] = loans[\"emp_length\"].gsub(pattern=\"< 1\", replacement=\"0\") # convert \"< 1\" to 0\n",
    "loans[\"emp_length\"] = loans[\"emp_length\"].gsub(pattern=\"10\\\\+\", replacement=\"10\") # convert \"10+\" to 10\n",
    "loans[\"emp_length\"] = loans[\"emp_length\"].asnumeric()"
   ]
  },
  {
   "cell_type": "markdown",
   "metadata": {},
   "source": [
    "These steps result in"
   ]
  },
  {
   "cell_type": "code",
   "execution_count": null,
   "metadata": {},
   "outputs": [],
   "source": [
    "loans[[\"int_rate\", \"revol_util\", \"emp_length\"]].head()"
   ]
  },
  {
   "cell_type": "markdown",
   "metadata": {},
   "source": [
    "### Plotting interest rate distributions\n",
    "\n",
    "Now that we have converted interest rate to numeric, we can use the `hist` function to compare the interest rate distributions for good and bad loans."
   ]
  },
  {
   "cell_type": "code",
   "execution_count": null,
   "metadata": {},
   "outputs": [],
   "source": [
    "%matplotlib inline\n",
    "\n",
    "print(\"Bad Loans\")\n",
    "loans[loans[\"bad_loan\"] == \"1\", \"int_rate\"].hist()\n",
    "\n",
    "print(\"Good Loans\")\n",
    "loans[loans[\"bad_loan\"] == \"0\", \"int_rate\"].hist()"
   ]
  },
  {
   "cell_type": "markdown",
   "metadata": {},
   "source": [
    "As expected, the bad loan distribution contains proportionately more high interest rate loans than the distribution for good loans. Likewise, the good loan distribution contains a higher proportion of low interest rate loans than that for bad loans. It would not surprise us if interest rate were a strong predictor of loan performance.\n",
    "\n",
    "<div class=\"alert alert-block alert-info\"><span style=\"color:black\">\n",
    "Financial institutions typically set a borrower's interest rate based on factors like estimated risk and customer demand. If the underwriting rules are any good at all, we would expect interest rate to be one of the best predictors of default. \n",
    "    </span></div>\n",
    "    "
   ]
  },
  {
   "cell_type": "markdown",
   "metadata": {},
   "source": [
    "## Part 3. Clean up messy categorical columns\n",
    "\n",
    "Much as we did with the `loan_status` column, the `verification_status` column needs cleaning"
   ]
  },
  {
   "cell_type": "code",
   "execution_count": null,
   "metadata": {},
   "outputs": [],
   "source": [
    "loans[\"verification_status\"].head()"
   ]
  },
  {
   "cell_type": "markdown",
   "metadata": {},
   "source": [
    "Because there are multiple values that mean verified (\"VERIFIED - income\" and \"VERIFIED - income source\"), we should replace them simply with \"verified\","
   ]
  },
  {
   "cell_type": "markdown",
   "metadata": {},
   "source": [
    "<div class=\"alert alert-block alert-success\"><span style=\"color:black\">\n",
    " \n",
    "**YOUR TURN**: Use the empty cell to clean up the `verification_status` variable\n",
    "</span></div>"
   ]
  },
  {
   "cell_type": "code",
   "execution_count": null,
   "metadata": {},
   "outputs": [],
   "source": [
    "# verification_status\n"
   ]
  },
  {
   "cell_type": "markdown",
   "metadata": {
    "solution2": "hidden",
    "solution2_first": true
   },
   "source": [
    "<div class=\"alert alert-block alert-success\"><span style=\"color:black\">\n",
    "Check your answer below:\n",
    "    </span></div>"
   ]
  },
  {
   "cell_type": "code",
   "execution_count": null,
   "metadata": {
    "solution2": "hidden"
   },
   "outputs": [],
   "source": [
    "loans[\"verification_status\"] = loans[\"verification_status\"].sub(pattern=\"VERIFIED - income source\", \n",
    "                                                                replacement=\"verified\")\n",
    "loans[\"verification_status\"] = loans[\"verification_status\"].sub(pattern=\"VERIFIED - income\", \n",
    "                                                                replacement=\"verified\")\n",
    "loans[\"verification_status\"] = loans[\"verification_status\"].asfactor()"
   ]
  },
  {
   "cell_type": "markdown",
   "metadata": {},
   "source": [
    "We can confirm that status is cleaned up using"
   ]
  },
  {
   "cell_type": "code",
   "execution_count": null,
   "metadata": {},
   "outputs": [],
   "source": [
    "loans[\"verification_status\"].table()"
   ]
  },
  {
   "cell_type": "markdown",
   "metadata": {
    "deletable": false,
    "editable": false
   },
   "source": [
    "<div class=\"alert alert-block alert-warning\"><span style=\"color:black\">\n",
    "\n",
    "## Learning Outcomes\n",
    "\n",
    "<ul style=\"list-style: none;\">\n",
    "    <li><input type=\"checkbox\" disabled checked><span style=\"color:gray\"> \n",
    "    Start the H2O-3 server\n",
    "    </span></li><li><input type=\"checkbox\" disabled checked><span style=\"color:gray\">\n",
    "    Load data directly into the H2O-3 cluster\n",
    "    </span></li><li><input type=\"checkbox\" disabled checked><span style=\"color:gray\">\n",
    "    Inspect data using H2O Flow\n",
    "    </span></li><li><input type=\"checkbox\" disabled checked><span style=\"color:gray\">\n",
    "    Perform basic data munging tasks with H2O\n",
    "    </span></li><li><input type=\"checkbox\" disabled><span style=\"color:black\">\n",
    "    Engineer new data features\n",
    "    </span></li><li><input type=\"checkbox\" disabled><span style=\"color:black\">\n",
    "    Train and evaluate an XGBoost ML model (in H2O and H2O Flow)\n",
    "    </span></li><li><input type=\"checkbox\" disabled><span style=\"color:black\">\n",
    "    Create and save a MOJO for model production\n",
    "    </span></li><li><input type=\"checkbox\" disabled><span style=\"color:black\">\n",
    "    Stop the H2O-3 server\n",
    "    </span></li>\n",
    "</ul>\n",
    "\n",
    "</span>\n",
    "</div>"
   ]
  },
  {
   "cell_type": "markdown",
   "metadata": {},
   "source": [
    "# Step 4.  Feature engineering\n",
    "\n",
    "Now that we have cleaned our data, we can extract information from our current columns to create new features. This process is referred to as _feature engineering_. The general idea is to express information found in our data in a manner that is most understandable to the algorithms we employ, with the goal of improving the performance of our supervised learning models."
   ]
  },
  {
   "cell_type": "markdown",
   "metadata": {},
   "source": [
    "Feature engineering can be considered the \"secret sauce\" in building a superior predictive model: it is often (although not always) more important than the choice of machine learning algorithm. A very good summary of feature engineering recipes can be found in the online [Driverless AI Documentation](http://docs.h2o.ai/driverless-ai/latest-stable/docs/userguide/transformations.html). \n",
    "\n",
    "We will do some basic feature engineering using the date fields in our data. The new columns we will create are: \n",
    "* `credit_length`: the number of years someone has had a credit history\n",
    "* `issue_d_year` and `issue_d_month`: the year and month from the loan issue date"
   ]
  },
  {
   "cell_type": "markdown",
   "metadata": {},
   "source": [
    "### Credit Length\n",
    "\n",
    "We create the `credit_length` feature by subtracting the year of a customer's earliest credit line from the year they were issued the loan."
   ]
  },
  {
   "cell_type": "code",
   "execution_count": null,
   "metadata": {},
   "outputs": [],
   "source": [
    "loans[\"credit_length\"] = loans[\"issue_d\"].year() - loans[\"earliest_cr_line\"].year()\n",
    "loans[\"credit_length\"].head()"
   ]
  },
  {
   "cell_type": "markdown",
   "metadata": {},
   "source": [
    "### Issue Date Expansion\n",
    "\n",
    "We next extract the year and month from the issue date.  We may find that the month or the year when the loan was issued will impact the probability of a bad loan. Additionally, since months are cyclical we will treat `issue_d_month` as a factor."
   ]
  },
  {
   "cell_type": "code",
   "execution_count": null,
   "metadata": {},
   "outputs": [],
   "source": [
    "loans[\"issue_d_year\"] = loans[\"issue_d\"].year()\n",
    "loans[\"issue_d_month\"] = loans[\"issue_d\"].month().asfactor()\n",
    "\n",
    "loans[[\"issue_d_year\", \"issue_d_month\"]].head()"
   ]
  },
  {
   "cell_type": "markdown",
   "metadata": {},
   "source": [
    "<div class=\"alert alert-block alert-info\"><span style=\"color:black\">\n",
    "There are a multitude of other options for feature engineering. In the date field alone we could have created day of the week, weekday vs. weekend, etc. In the second lesson in this series, we will look at creating features using natural language processing of the loan description field.\n",
    "</span></div>"
   ]
  },
  {
   "cell_type": "markdown",
   "metadata": {},
   "source": [
    "<div class=\"alert alert-block alert-warning\"><span style=\"color:black\">\n",
    "\n",
    "## Learning Outcomes\n",
    "\n",
    "<ul style=\"list-style: none;\">\n",
    "    <li><input type=\"checkbox\" disabled checked><span style=\"color:gray\"> \n",
    "    Start the H2O-3 server\n",
    "    </span></li><li><input type=\"checkbox\" disabled checked><span style=\"color:gray\">\n",
    "    Load data directly into the H2O-3 cluster\n",
    "    </span></li><li><input type=\"checkbox\" disabled checked><span style=\"color:gray\">\n",
    "    Inspect data using H2O Flow\n",
    "    </span></li><li><input type=\"checkbox\" disabled checked><span style=\"color:gray\">\n",
    "    Perform basic data munging tasks with H2O\n",
    "    </span></li><li><input type=\"checkbox\" disabled checked><span style=\"color:gray\">\n",
    "    Engineer new data features\n",
    "    </span></li><li><input type=\"checkbox\" disabled><span style=\"color:black\">\n",
    "    Train and evaluate an XGBoost ML model (in H2O and H2O Flow)\n",
    "    </span></li><li><input type=\"checkbox\" disabled><span style=\"color:black\">\n",
    "    Create and save a MOJO for model production\n",
    "    </span></li><li><input type=\"checkbox\" disabled><span style=\"color:black\">\n",
    "    Stop the H2O-3 server\n",
    "    </span></li>\n",
    "</ul>\n",
    "\n",
    "</span>\n",
    "</div>"
   ]
  },
  {
   "cell_type": "markdown",
   "metadata": {},
   "source": [
    "# Step 5. Model training"
   ]
  },
  {
   "cell_type": "markdown",
   "metadata": {},
   "source": [
    "Now that we have cleaned our data and added new columns, we train a model to predict bad loans. First split our loans data into train and test."
   ]
  },
  {
   "cell_type": "code",
   "execution_count": null,
   "metadata": {},
   "outputs": [],
   "source": [
    "train, test = loans.split_frame(seed=25, ratios=[0.75])"
   ]
  },
  {
   "cell_type": "markdown",
   "metadata": {},
   "source": [
    "Next create a list of predictors as a subset of the columns of the `loans` H2O Frame. We do this by listing the columns we will exclude from the predictors."
   ]
  },
  {
   "cell_type": "code",
   "execution_count": null,
   "metadata": {},
   "outputs": [],
   "source": [
    "cols_to_remove = [\"initial_list_status\",\n",
    "                  \"out_prncp\",\n",
    "                  \"out_prncp_inv\",\n",
    "                  \"total_pymnt\",\n",
    "                  \"total_pymnt_inv\",\n",
    "                  \"total_rec_prncp\", \n",
    "                  \"total_rec_int\",\n",
    "                  \"total_rec_late_fee\",\n",
    "                  \"recoveries\",\n",
    "                  \"issue_d\",\n",
    "                  \"collection_recovery_fee\",\n",
    "                  \"last_pymnt_d\", \n",
    "                  \"last_pymnt_amnt\",\n",
    "                  \"next_pymnt_d\",\n",
    "                  \"last_credit_pull_d\",\n",
    "                  \"collections_12_mths_ex_med\" , \n",
    "                  \"mths_since_last_major_derog\",\n",
    "                  \"policy_code\",\n",
    "                  \"loan_status\",\n",
    "                  \"funded_amnt\",\n",
    "                  \"funded_amnt_inv\",\n",
    "                  \"mths_since_last_delinq\",\n",
    "                  \"mths_since_last_record\",\n",
    "                  \"id\",\n",
    "                  \"member_id\",\n",
    "                  \"desc\",\n",
    "                  \"zip_code\"]\n",
    "\n",
    "predictors = list(set(loans.col_names) - set(cols_to_remove))"
   ]
  },
  {
   "cell_type": "code",
   "execution_count": null,
   "metadata": {},
   "outputs": [],
   "source": [
    "predictors"
   ]
  },
  {
   "cell_type": "markdown",
   "metadata": {},
   "source": [
    "Now create an XGBoost model for predicting loan default. \n",
    "\n",
    "<div class=\"alert alert-block alert-info\"><span style=\"color:black\">\n",
    "This model is being run with almost all of the model-tuning values at their defaults. Later we may want to optimize the hyperparameters using a grid search or AutoML.\n",
    "    \n",
    "</span></div>"
   ]
  },
  {
   "cell_type": "code",
   "execution_count": null,
   "metadata": {},
   "outputs": [],
   "source": [
    "from h2o.estimators import H2OXGBoostEstimator\n",
    "\n",
    "param = {\n",
    "      \"ntrees\" : 20\n",
    "    , \"nfolds\" : 5\n",
    "    , \"seed\": 25\n",
    "}\n",
    "xgboost_model = H2OXGBoostEstimator(**param)\n",
    "xgboost_model.train(x = predictors,\n",
    "                    y = \"bad_loan\",\n",
    "                    training_frame=train,\n",
    "                    validation_frame=test)"
   ]
  },
  {
   "cell_type": "markdown",
   "metadata": {},
   "source": [
    "# Step 6.  Examine model accuracy\n",
    "\n",
    "The plot below shows the performance of the model as more trees are built.  This graph can help us see at what point our model begins overfitting.  Our test data error rate stops improving at around 8-10 trees."
   ]
  },
  {
   "cell_type": "code",
   "execution_count": null,
   "metadata": {},
   "outputs": [],
   "source": [
    "%matplotlib inline\n",
    "xgboost_model.plot()"
   ]
  },
  {
   "cell_type": "markdown",
   "metadata": {},
   "source": [
    "The ROC curve of the training and testing data are shown below.  The area under the ROC curve is much higher for the training data than the test data, indicating that the model is beginning to memorize the training data."
   ]
  },
  {
   "cell_type": "code",
   "execution_count": null,
   "metadata": {},
   "outputs": [],
   "source": [
    "print(\"Training Data\")\n",
    "xgboost_model.model_performance(train = True).plot()\n",
    "print(\"X-Val\")\n",
    "xgboost_model.model_performance(xval=True).plot()\n",
    "print(\"Testing Data\")\n",
    "xgboost_model.model_performance(valid = True).plot()"
   ]
  },
  {
   "cell_type": "markdown",
   "metadata": {},
   "source": [
    "# Step 7. Interpret model\n",
    "\n",
    "The variable importance plot shows us which variables are most important to predicting `bad_loan`.  We can use partial dependency plots to learn more about how these variables affect the prediction."
   ]
  },
  {
   "cell_type": "code",
   "execution_count": null,
   "metadata": {},
   "outputs": [],
   "source": [
    "xgboost_model.varimp_plot(20)"
   ]
  },
  {
   "cell_type": "markdown",
   "metadata": {},
   "source": [
    "As suspected, interest rate appears to be the most important feature in predicting loan default. The partial dependency plot of the `int_rate` predictor shows us that as the interest rate increases, the likelihood of the loan defaulting also increases."
   ]
  },
  {
   "cell_type": "code",
   "execution_count": null,
   "metadata": {},
   "outputs": [],
   "source": [
    "pdp = xgboost_model.partial_plot(cols=[\"int_rate\"], data=train)"
   ]
  },
  {
   "cell_type": "markdown",
   "metadata": {},
   "source": [
    "## Examine model accuracy and interpretability in H2O Flow\n",
    "\n",
    "Use the `Models` directory to list all models, or input use the `getModels` directive. Your results should look something like"
   ]
  },
  {
   "cell_type": "markdown",
   "metadata": {},
   "source": [
    "<img src=\"./img/list_models.png\" style=\"height:300px\">\n",
    "\n",
    "Note that this contains the XGBoost model plus the five XGBoost folds from our cross-validation. Select the overall model and make sure you can find at very least\n",
    "\n",
    "- Scoring history plots\n",
    "- AUC metrics and ROC plots\n",
    "- Variable importances\n",
    "- Confusion matrices\n",
    "- XGBoost parameters\n",
    "\n",
    "<div class=\"alert alert-block alert-info\"><span style=\"color:black\">\n",
    "H2O Flow is a very convenient tool for interactive model investigation.\n",
    "</span></div>"
   ]
  },
  {
   "cell_type": "markdown",
   "metadata": {
    "deletable": false,
    "editable": false
   },
   "source": [
    "<div class=\"alert alert-block alert-warning\"><span style=\"color:black\">\n",
    "\n",
    "## Learning Outcomes\n",
    "\n",
    "<ul style=\"list-style: none;\">\n",
    "    <li><input type=\"checkbox\" disabled checked><span style=\"color:gray\"> \n",
    "    Start the H2O-3 server\n",
    "    </span></li><li><input type=\"checkbox\" disabled checked><span style=\"color:gray\">\n",
    "    Load data directly into the H2O-3 cluster\n",
    "    </span></li><li><input type=\"checkbox\" disabled checked><span style=\"color:gray\">\n",
    "    Inspect data using H2O Flow\n",
    "    </span></li><li><input type=\"checkbox\" disabled checked><span style=\"color:gray\">\n",
    "    Perform basic data munging tasks with H2O\n",
    "    </span></li><li><input type=\"checkbox\" disabled checked><span style=\"color:gray\">\n",
    "    Engineer new data features\n",
    "    </span></li><li><input type=\"checkbox\" disabled checked><span style=\"color:gray\">\n",
    "    Train and evaluate an XGBoost ML model (in H2O and H2O Flow)\n",
    "    </span></li><li><input type=\"checkbox\" disabled><span style=\"color:black\">\n",
    "    Create and save a MOJO for model production\n",
    "    </span></li><li><input type=\"checkbox\" disabled><span style=\"color:black\">\n",
    "    Stop the H2O-3 server\n",
    "    </span></li>\n",
    "</ul>\n",
    "\n",
    "</span>\n",
    "</div>\n"
   ]
  },
  {
   "cell_type": "markdown",
   "metadata": {},
   "source": [
    "# Assignment"
   ]
  },
  {
   "cell_type": "markdown",
   "metadata": {},
   "source": [
    "<div class=\"alert alert-block alert-success\"><span style=\"color:black\">\n",
    "    \n",
    "## YOUR TURN: Build and investigate a new model\n",
    "\n",
    "Building a model including `int_rate`, as we did above, is perhaps a questionable choice. Build an XGBoost model without interest rate and include the following:\n",
    "\n",
    "- A scoring history model plot\n",
    "- ROC curves for training, cross-validation, and testing data\n",
    "- An updated variable importance plot\n",
    "- Partial dependence plots for the top two variables \n",
    "\n",
    "Insert as many cells below as needed to complete."
   ]
  },
  {
   "cell_type": "code",
   "execution_count": null,
   "metadata": {},
   "outputs": [],
   "source": [
    "# new model\n"
   ]
  },
  {
   "cell_type": "markdown",
   "metadata": {},
   "source": [
    "# Step 8. Save and reuse model\n",
    "\n",
    "The model can either be embedded into a self-contained Java MOJO package\n",
    "or it can be saved and later loaded directly into an H2O-3 cluster. For production\n",
    "use, we recommend using MOJO as it is optimized for speed. See the [guide](http://docs.h2o.ai/h2o/latest-stable/h2o-docs/productionizing.html) for further information."
   ]
  },
  {
   "cell_type": "markdown",
   "metadata": {},
   "source": [
    "### Downloading MOJO\n",
    "\n",
    "Creating and downloading a MOJO is a simple matter of using the `download_mojo` method"
   ]
  },
  {
   "cell_type": "code",
   "execution_count": null,
   "metadata": {},
   "outputs": [],
   "source": [
    "xgboost_model.download_mojo()"
   ]
  },
  {
   "cell_type": "markdown",
   "metadata": {},
   "source": [
    "### Save and reuse the model \n",
    "\n",
    "We can also save the model to disk for later use."
   ]
  },
  {
   "cell_type": "code",
   "execution_count": null,
   "metadata": {},
   "outputs": [],
   "source": [
    "model_path = h2o.save_model(model=xgboost_model, force=True)\n",
    "print(model_path)"
   ]
  },
  {
   "cell_type": "markdown",
   "metadata": {},
   "source": [
    "After the H2O cluster shuts down, all unsaved data and models are lost. At some future date, we can load the model for batch scoring in the H2O cluster."
   ]
  },
  {
   "cell_type": "code",
   "execution_count": null,
   "metadata": {},
   "outputs": [],
   "source": [
    "loaded_model = h2o.load_model(path=model_path)"
   ]
  },
  {
   "cell_type": "markdown",
   "metadata": {},
   "source": [
    "Using that model, we can also score new data with the predict function:"
   ]
  },
  {
   "cell_type": "code",
   "execution_count": null,
   "metadata": {
    "scrolled": true
   },
   "outputs": [],
   "source": [
    "bad_loan_hat = loaded_model.predict(test)\n",
    "bad_loan_hat.head(15)"
   ]
  },
  {
   "cell_type": "markdown",
   "metadata": {},
   "source": [
    "<div class=\"alert alert-block alert-info\"><span style=\"color:black\">\n",
    "It is a good idea to save any work on your H2O cluster before shutting it down. \n",
    "</span></div>"
   ]
  },
  {
   "cell_type": "markdown",
   "metadata": {
    "deletable": false,
    "editable": false
   },
   "source": [
    "<div class=\"alert alert-block alert-warning\"><span style=\"color:black\">\n",
    "\n",
    "## Learning Outcomes\n",
    "\n",
    "<ul style=\"list-style: none;\">\n",
    "    <li><input type=\"checkbox\" disabled checked><span style=\"color:gray\"> \n",
    "    Start the H2O-3 server\n",
    "    </span></li><li><input type=\"checkbox\" disabled checked><span style=\"color:gray\">\n",
    "    Load data directly into the H2O-3 cluster\n",
    "    </span></li><li><input type=\"checkbox\" disabled checked><span style=\"color:gray\">\n",
    "    Inspect data using H2O Flow\n",
    "    </span></li><li><input type=\"checkbox\" disabled checked><span style=\"color:gray\">\n",
    "    Perform basic data munging tasks with H2O\n",
    "    </span></li><li><input type=\"checkbox\" disabled checked><span style=\"color:gray\">\n",
    "    Engineer new data features\n",
    "    </span></li><li><input type=\"checkbox\" disabled checked><span style=\"color:gray\">\n",
    "    Train and evaluate an XGBoost ML model (in H2O and H2O Flow)\n",
    "    </span></li><li><input type=\"checkbox\" disabled checked><span style=\"color:gray\">\n",
    "    Create and save a MOJO for model production\n",
    "    </span></li><li><input type=\"checkbox\" disabled><span style=\"color:black\">\n",
    "    Stop the H2O-3 server\n",
    "    </span></li>\n",
    "</ul>\n",
    "\n",
    "</span>\n",
    "</div>"
   ]
  },
  {
   "cell_type": "markdown",
   "metadata": {},
   "source": [
    "# Step 9. Stop the H2O-3 server"
   ]
  },
  {
   "cell_type": "code",
   "execution_count": null,
   "metadata": {},
   "outputs": [],
   "source": [
    "h2o.cluster().shutdown()"
   ]
  },
  {
   "cell_type": "markdown",
   "metadata": {},
   "source": [
    "Once your work is completed, shutting down the H2O cluster frees up the resources reserved by H2O."
   ]
  },
  {
   "cell_type": "markdown",
   "metadata": {
    "deletable": false,
    "editable": false
   },
   "source": [
    "<div class=\"alert alert-block alert-warning\"><span style=\"color:black\">\n",
    "\n",
    "## Learning Outcomes\n",
    "\n",
    "<ul style=\"list-style: none;\">\n",
    "    <li><input type=\"checkbox\" disabled checked><span style=\"color:gray\"> \n",
    "    Start the H2O-3 server\n",
    "    </span></li><li><input type=\"checkbox\" disabled checked><span style=\"color:gray\">\n",
    "    Load data directly into the H2O-3 cluster\n",
    "    </span></li><li><input type=\"checkbox\" disabled checked><span style=\"color:gray\">\n",
    "    Inspect data using H2O Flow\n",
    "    </span></li><li><input type=\"checkbox\" disabled checked><span style=\"color:gray\">\n",
    "    Perform basic data munging tasks with H2O\n",
    "    </span></li><li><input type=\"checkbox\" disabled checked><span style=\"color:gray\">\n",
    "    Engineer new data features\n",
    "    </span></li><li><input type=\"checkbox\" disabled checked><span style=\"color:gray\">\n",
    "    Train and evaluate an XGBoost ML model (in H2O and H2O Flow)\n",
    "    </span></li><li><input type=\"checkbox\" disabled checked><span style=\"color:gray\">\n",
    "    Create and save a MOJO for model production\n",
    "    </span></li><li><input type=\"checkbox\" disabled checked><span style=\"color:gray\">\n",
    "    Stop the H2O-3 server\n",
    "    </span></li>\n",
    "</ul>\n",
    "\n",
    "</span>\n",
    "</div>"
   ]
  },
  {
   "cell_type": "markdown",
   "metadata": {},
   "source": [
    "# CONGRATULATIONS! You have completed Lesson 1."
   ]
  }
 ],
 "metadata": {
  "kernelspec": {
   "display_name": "Python 3",
   "language": "python",
   "name": "python3"
  },
  "language_info": {
   "codemirror_mode": {
    "name": "ipython",
    "version": 3
   },
   "file_extension": ".py",
   "mimetype": "text/x-python",
   "name": "python",
   "nbconvert_exporter": "python",
   "pygments_lexer": "ipython3",
   "version": "3.6.9"
  }
 },
 "nbformat": 4,
 "nbformat_minor": 2
}
