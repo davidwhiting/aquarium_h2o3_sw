{
 "cells": [
  {
   "cell_type": "markdown",
   "metadata": {},
   "source": [
    "## License \n",
    "\n",
    "Copyright 2019 Patrick Hall and the H2O.ai team\n",
    "\n",
    "Licensed under the Apache License, Version 2.0 (the \"License\");\n",
    "you may not use this file except in compliance with the License.\n",
    "You may obtain a copy of the License at\n",
    "\n",
    "    http://www.apache.org/licenses/LICENSE-2.0\n",
    "\n",
    "Unless required by applicable law or agreed to in writing, software\n",
    "distributed under the License is distributed on an \"AS IS\" BASIS,\n",
    "WITHOUT WARRANTIES OR CONDITIONS OF ANY KIND, either express or implied.\n",
    "See the License for the specific language governing permissions and\n",
    "limitations under the License.\n",
    "\n",
    "**DISCLAIMER:** This notebook is not legal compliance advice."
   ]
  },
  {
   "cell_type": "markdown",
   "metadata": {},
   "source": [
    "# Increase Fairness in Your Machine Learning Project with Disparate Impact Analysis using Python and H2O\n",
    "\n",
    "#### Assess if your machine learning model is treating different groups of people similarly or differently\n",
    "\n",
    "Fairness is an incredibly important, but highly complex entity. So much so that leading scholars have yet to agree on a strict definition. However, there is a practical way to discuss and handle *observational* fairness, or how your model predictions affect different groups of people. This procedure is often known as disparate impact analysis (DIA). DIA is far from perfect, as it relies heavily on user-defined thresholds and reference levels for disparity and does not attempt to remediate disparity or provide information on sources of disparity, but it is a fairly straightforward method to quantify your model’s behavior across sensitive demographic segments or other potentially interesting groups of observations. DIA is also an accepted, regulation-compliant tool for fair-lending purposes in the U.S. financial services industry. If it’s good enough for multibillion-dollar credit portfolios, it’s probably good enough for your project. \n",
    "\n",
    "This example DIA notebook starts by training a constrained, monotonic gradient boosting machine (GBM) classifier on the UCI credit card default data using the popular open source library, h2o. A probability cutoff for making credit decisions is selected by maximizing the F1 statistic and confusion matrices are generated to summarize the GBM’s decisions across male and female customers. A basic DIA procedure is then conducted using the information stored in the confusion matrices to calculate an adverse impact ratio. Several other disparity and parity metrics are calculated, and although it's abusing the technique, those will also be discussed and analyzed in the context of DIA.  \n",
    "\n",
    "Because DIA really only considers groups of people, it's important to pair DIA with constrained models that can't treat similar people too differently. When using complex models with DIA, it's also important to look for any local, or individual, dicrimination that would not be flagged in the group quantities.\n",
    "\n",
    "For an excellent and free reference on the topics of fairness and machine learning be sure to follow the book being written by Solon Barocas, Moritz Hardt and Arvind Narayanan: https://fairmlbook.org/. \n",
    "\n",
    "For Python fairness libraries that go far beyond the scope of this notebook see: \n",
    "* aequitas: https://github.com/dssg/aequitas\n",
    "* AI Fairness 360: http://aif360.mybluemix.net/\n",
    "* Themis: https://github.com/LASER-UMASS/Themis\n",
    "\n",
    "#### Start H2O cluster\n",
    "\n",
    "\n",
    "The `os` commands below check whether this notebook is being run on the Aquarium platform. "
   ]
  },
  {
   "cell_type": "code",
   "execution_count": 15,
   "metadata": {},
   "outputs": [],
   "source": [
    "import os\n",
    "\n",
    "startup = '/home/h2o/bin/aquarium_startup'\n",
    "if os.path.exists(startup):\n",
    "    os.system(startup)\n",
    "    local_url = 'http://localhost:54321/h2o'\n",
    "    aquarium = True\n",
    "    !sleep 5\n",
    "else:\n",
    "    local_url = 'http://localhost:54321'\n",
    "    aquarium = False"
   ]
  },
  {
   "cell_type": "markdown",
   "metadata": {},
   "source": [
    "#### Python imports\n",
    "In general, NumPy and Pandas will be used for data manipulation purposes and h2o will be used for modeling tasks. "
   ]
  },
  {
   "cell_type": "code",
   "execution_count": 16,
   "metadata": {},
   "outputs": [],
   "source": [
    "# h2o Python API with specific classes\n",
    "import h2o                                        \n",
    "from h2o.estimators.gbm import H2OGradientBoostingEstimator # for GBM\n",
    "from h2o.grid.grid_search import H2OGridSearch \n",
    "\n",
    "import numpy as np   # array, vector, matrix calculations\n",
    "import pandas as pd  # DataFrame handling\n",
    "import shap          # for visualizing Shapley values\n",
    "\n",
    "import matplotlib.pyplot as plt # general plotting\n",
    "pd.options.display.max_columns = 999 # enable display of all columns in notebook\n",
    "\n",
    "# display plots in-notebook\n",
    "%matplotlib inline   "
   ]
  },
  {
   "cell_type": "markdown",
   "metadata": {},
   "source": [
    "#### Start h2o\n",
    "H2o is both a library and a server. The machine learning algorithms in the library take advantage of the multithreaded and distributed architecture provided by the server to train machine learning algorithms extremely efficiently. The API for the library was imported above in cell 2, but the server still needs to be started.\n",
    "\n",
    ">The parameters used in `h2o.init` will depend on your specific environment. Regardless of how H2O is installed, if you start a cluster, you will need to ensure that it is shut down when you are done."
   ]
  },
  {
   "cell_type": "code",
   "execution_count": 17,
   "metadata": {},
   "outputs": [
    {
     "name": "stdout",
     "output_type": "stream",
     "text": [
      "Checking whether there is an H2O instance running at http://localhost:54321/h2o . connected.\n"
     ]
    },
    {
     "data": {
      "text/html": [
       "<div style=\"overflow:auto\"><table style=\"width:50%\"><tr><td>H2O cluster uptime:</td>\n",
       "<td>15 secs</td></tr>\n",
       "<tr><td>H2O cluster timezone:</td>\n",
       "<td>Etc/UTC</td></tr>\n",
       "<tr><td>H2O data parsing timezone:</td>\n",
       "<td>UTC</td></tr>\n",
       "<tr><td>H2O cluster version:</td>\n",
       "<td>3.26.0.2</td></tr>\n",
       "<tr><td>H2O cluster version age:</td>\n",
       "<td>1 month and 9 days </td></tr>\n",
       "<tr><td>H2O cluster name:</td>\n",
       "<td>h2o</td></tr>\n",
       "<tr><td>H2O cluster total nodes:</td>\n",
       "<td>1</td></tr>\n",
       "<tr><td>H2O cluster free memory:</td>\n",
       "<td>13.98 Gb</td></tr>\n",
       "<tr><td>H2O cluster total cores:</td>\n",
       "<td>16</td></tr>\n",
       "<tr><td>H2O cluster allowed cores:</td>\n",
       "<td>16</td></tr>\n",
       "<tr><td>H2O cluster status:</td>\n",
       "<td>accepting new members, healthy</td></tr>\n",
       "<tr><td>H2O connection url:</td>\n",
       "<td>http://localhost:54321/h2o</td></tr>\n",
       "<tr><td>H2O connection proxy:</td>\n",
       "<td>None</td></tr>\n",
       "<tr><td>H2O internal security:</td>\n",
       "<td>False</td></tr>\n",
       "<tr><td>H2O API Extensions:</td>\n",
       "<td>Amazon S3, XGBoost, Algos, AutoML, Core V3, Core V4</td></tr>\n",
       "<tr><td>Python version:</td>\n",
       "<td>3.6.9 final</td></tr></table></div>"
      ],
      "text/plain": [
       "--------------------------  ---------------------------------------------------\n",
       "H2O cluster uptime:         15 secs\n",
       "H2O cluster timezone:       Etc/UTC\n",
       "H2O data parsing timezone:  UTC\n",
       "H2O cluster version:        3.26.0.2\n",
       "H2O cluster version age:    1 month and 9 days\n",
       "H2O cluster name:           h2o\n",
       "H2O cluster total nodes:    1\n",
       "H2O cluster free memory:    13.98 Gb\n",
       "H2O cluster total cores:    16\n",
       "H2O cluster allowed cores:  16\n",
       "H2O cluster status:         accepting new members, healthy\n",
       "H2O connection url:         http://localhost:54321/h2o\n",
       "H2O connection proxy:\n",
       "H2O internal security:      False\n",
       "H2O API Extensions:         Amazon S3, XGBoost, Algos, AutoML, Core V3, Core V4\n",
       "Python version:             3.6.9 final\n",
       "--------------------------  ---------------------------------------------------"
      ]
     },
     "metadata": {},
     "output_type": "display_data"
    }
   ],
   "source": [
    "h2o.init(url=local_url, max_mem_size='2G')\n",
    "h2o.remove_all()    # remove any existing data structures from h2o memory"
   ]
  },
  {
   "cell_type": "markdown",
   "metadata": {},
   "source": [
    "## 1. Download, explore, and prepare UCI credit card default data (REWRITE)\n",
    "\n",
    "UCI credit card default data: https://archive.ics.uci.edu/ml/datasets/default+of+credit+card+clients\n",
    "\n",
    "The UCI credit card default data contains demographic and payment information about credit card customers in Taiwan in the year 2005. The data set contains 23 input variables: \n",
    "\n",
    "* **`LIMIT_BAL`**: Amount of given credit (NT dollar)\n",
    "* **`SEX`**: 1 = male; 2 = female\n",
    "* **`EDUCATION`**: 1 = graduate school; 2 = university; 3 = high school; 4 = others \n",
    "* **`MARRIAGE`**: 1 = married; 2 = single; 3 = others\n",
    "* **`AGE`**: Age in years \n",
    "* **`PAY_0`, `PAY_2` - `PAY_6`**: History of past payment; `PAY_0` = the repayment status in September, 2005; `PAY_2` = the repayment status in August, 2005; ...; `PAY_6` = the repayment status in April, 2005. The measurement scale for the repayment status is: -1 = pay duly; 1 = payment delay for one month; 2 = payment delay for two months; ...; 8 = payment delay for eight months; 9 = payment delay for nine months and above. \n",
    "* **`BILL_AMT1` - `BILL_AMT6`**: Amount of bill statement (NT dollar). `BILL_AMNT1` = amount of bill statement in September, 2005; `BILL_AMT2` = amount of bill statement in August, 2005; ...; `BILL_AMT6` = amount of bill statement in April, 2005. \n",
    "* **`PAY_AMT1` - `PAY_AMT6`**: Amount of previous payment (NT dollar). `PAY_AMT1` = amount paid in September, 2005; `PAY_AMT2` = amount paid in August, 2005; ...; `PAY_AMT6` = amount paid in April, 2005. \n",
    "\n",
    "These 23 input variables are used to predict the target variable, whether or not a customer defaulted on their credit card bill in late 2005.\n",
    "\n",
    "Because h2o accepts both numeric and character inputs, some variables will be recoded into more transparent character values.\n",
    "\n",
    "#### Import data and clean\n",
    "The credit card default data is available as an `.xls` file. Pandas reads `.xls` files automatically, so it's used to load the credit card default data and give the prediction target a shorter name: `DEFAULT_NEXT_MONTH`."
   ]
  },
  {
   "cell_type": "code",
   "execution_count": 18,
   "metadata": {},
   "outputs": [],
   "source": [
    "# import XLS file\n",
    "path = 'default_of_credit_card_clients.xls'\n",
    "data = pd.read_excel(path, skiprows=1)\n",
    "\n",
    "# remove spaces from target column name \n",
    "data = data.rename(columns={'default payment next month': 'Default'})"
   ]
  },
  {
   "cell_type": "markdown",
   "metadata": {},
   "source": [
    "Rename data fields and censor data appropriately"
   ]
  },
  {
   "cell_type": "code",
   "execution_count": 19,
   "metadata": {
    "scrolled": true
   },
   "outputs": [],
   "source": [
    "data = data.rename(columns = {\n",
    "    'LIMIT_BAL': 'CreditLimit',\n",
    "    'SEX': 'Sex',\n",
    "    'EDUCATION': 'Education',\n",
    "    'MARRIAGE': 'Marriage',\n",
    "    'AGE': 'Age',\n",
    "    'PAY_0': 'Status1',\n",
    "    'PAY_2': 'Status2',\n",
    "    'PAY_3': 'Status3',\n",
    "    'PAY_4': 'Status4',\n",
    "    'PAY_5': 'Status5',\n",
    "    'PAY_6': 'Status6',\n",
    "    'BILL_AMT1': 'BillAmt1',\n",
    "    'BILL_AMT2': 'BillAmt2',\n",
    "    'BILL_AMT3': 'BillAmt3',\n",
    "    'BILL_AMT4': 'BillAmt4',\n",
    "    'BILL_AMT5': 'BillAmt5',\n",
    "    'BILL_AMT6': 'BillAmt6',\n",
    "    'PAY_AMT1': 'PayAmt1',\n",
    "    'PAY_AMT2': 'PayAmt2',\n",
    "    'PAY_AMT3': 'PayAmt3',\n",
    "    'PAY_AMT4': 'PayAmt4',\n",
    "    'PAY_AMT5': 'PayAmt5',\n",
    "    'PAY_AMT6': 'PayAmt6',\n",
    "})\n",
    "\n",
    "## Censor data (to ensure that we are using only what we know at the time of prediction)\n",
    "##   For Status1, replace any values >= 1 with 1\n",
    "##   ...\n",
    "##   For Status6, replace any values >= 6 with 6\n",
    "\n",
    "data['Status1'][data['Status1']>1] = 1\n",
    "data['Status2'][data['Status2']>2] = 2\n",
    "data['Status3'][data['Status3']>3] = 3\n",
    "data['Status4'][data['Status4']>4] = 4\n",
    "data['Status5'][data['Status5']>5] = 5\n",
    "data['Status6'][data['Status6']>6] = 6\n",
    "\n",
    "## Truncate StatusX negative values to 0 since we treat StatusX as numeric below\n",
    "\n",
    "statuses = ['Status1', 'Status2', 'Status3', 'Status4', 'Status5', 'Status6']\n",
    "\n",
    "for status in statuses:\n",
    "    data[status][data[status]<0] = 0\n",
    "\n",
    "sex_dict = {1:'M', 2:'F'}\n",
    "data['Sex'] = data['Sex'].apply(lambda i: sex_dict[i])\n",
    "\n",
    "marriage_dict = {0:'O', 1:'M', 2:'S', 3:'D'}\n",
    "data['Marriage'] = data['Marriage'].apply(lambda i: marriage_dict[i])"
   ]
  },
  {
   "cell_type": "markdown",
   "metadata": {},
   "source": [
    "#### Helper function for recoding values in the UCI credict card default data [REWRITE]\n",
    "\n",
    "These character values can be used directly in h2o decision tree models, and the function returns the original Pandas DataFrame as an h2o object, an H2OFrame. H2o models cannot run on Pandas DataFrames. They require H2OFrames."
   ]
  },
  {
   "cell_type": "code",
   "execution_count": 20,
   "metadata": {},
   "outputs": [
    {
     "name": "stdout",
     "output_type": "stream",
     "text": [
      "Parse progress: |█████████████████████████████████████████████████████████| 100%\n"
     ]
    }
   ],
   "source": [
    "data = h2o.H2OFrame(data)"
   ]
  },
  {
   "cell_type": "markdown",
   "metadata": {},
   "source": [
    "#### Assign modeling roles\n",
    "The shorthand name `y` is assigned to the prediction target. `X` is assigned to all other input variables in the credit card default data except the row indentifier, `ID`."
   ]
  },
  {
   "cell_type": "code",
   "execution_count": 21,
   "metadata": {},
   "outputs": [
    {
     "name": "stdout",
     "output_type": "stream",
     "text": [
      "y = Default\n",
      "X = ['CreditLimit', 'Sex', 'Education', 'Marriage', 'Age', 'Status1', 'Status2', 'Status3', 'Status4', 'Status5', 'Status6', 'BillAmt1', 'BillAmt2', 'BillAmt3', 'BillAmt4', 'BillAmt5', 'BillAmt6', 'PayAmt1', 'PayAmt2', 'PayAmt3', 'PayAmt4', 'PayAmt5', 'PayAmt6']\n"
     ]
    }
   ],
   "source": [
    "# assign target and inputs for GBM\n",
    "y = 'Default'\n",
    "X = [name for name in data.columns if name not in [y, 'ID']]\n",
    "print('y =', y)\n",
    "print('X =', X)"
   ]
  },
  {
   "cell_type": "markdown",
   "metadata": {},
   "source": [
    "#### Ensure target is handled as a categorical variable\n",
    "In H2O, a numeric variable can be treated as numeric or categorical. The target variable `Default` takes on values of `0` or `1`. To ensure this numeric variable is treated as a categorical variable, the `asfactor()` function is used to explicitly declare that it is a categorical variable. "
   ]
  },
  {
   "cell_type": "code",
   "execution_count": 22,
   "metadata": {},
   "outputs": [],
   "source": [
    "data[y] = data[y].asfactor() "
   ]
  },
  {
   "cell_type": "markdown",
   "metadata": {},
   "source": [
    "#### Ensure Education and Status1-Status6 are handled as categorical variables"
   ]
  },
  {
   "cell_type": "code",
   "execution_count": 23,
   "metadata": {},
   "outputs": [],
   "source": [
    "##num_to_categorical = ['Education', 'Status1', 'Status2', 'Status3', 'Status4', 'Status5', 'Status6']\n",
    "#num_to_categorical = ['Education']\n",
    "#for name in num_to_categorical:\n",
    "#    data[name] = data[name].asfactor()"
   ]
  },
  {
   "cell_type": "markdown",
   "metadata": {},
   "source": [
    "#### Display descriptive statistics\n",
    "The h2o `describe()` function displays a brief description of the credit card default data. For the categorical input variables `CreditLimit`, `Sex`, `Education`, `Marriage`, and `Status1`-`Status6`, the new character values created above in cell 5 are visible. Basic descriptive statistics are displayed for numeric inputs."
   ]
  },
  {
   "cell_type": "code",
   "execution_count": 24,
   "metadata": {
    "scrolled": true
   },
   "outputs": [
    {
     "name": "stdout",
     "output_type": "stream",
     "text": [
      "Rows:30000\n",
      "Cols:25\n",
      "\n",
      "\n"
     ]
    },
    {
     "data": {
      "text/html": [
       "<table>\n",
       "<thead>\n",
       "<tr><th>       </th><th>ID               </th><th>CreditLimit       </th><th>Sex  </th><th>Education         </th><th>Marriage  </th><th>Age              </th><th>Status1            </th><th>Status2            </th><th>Status3           </th><th>Status4           </th><th>Status5            </th><th>Status6            </th><th>BillAmt1         </th><th>BillAmt2         </th><th>BillAmt3          </th><th>BillAmt4          </th><th>BillAmt5         </th><th>BillAmt6         </th><th>PayAmt1          </th><th>PayAmt2          </th><th>PayAmt3          </th><th>PayAmt4           </th><th>PayAmt5           </th><th>PayAmt6          </th><th>Default  </th></tr>\n",
       "</thead>\n",
       "<tbody>\n",
       "<tr><td>type   </td><td>int              </td><td>int               </td><td>enum </td><td>int               </td><td>enum      </td><td>int              </td><td>int                </td><td>int                </td><td>int               </td><td>int               </td><td>int                </td><td>int                </td><td>int              </td><td>int              </td><td>int               </td><td>int               </td><td>int              </td><td>int              </td><td>int              </td><td>int              </td><td>int              </td><td>int               </td><td>int               </td><td>int              </td><td>enum     </td></tr>\n",
       "<tr><td>mins   </td><td>1.0              </td><td>10000.0           </td><td>     </td><td>0.0               </td><td>          </td><td>21.0             </td><td>0.0                </td><td>0.0                </td><td>0.0               </td><td>0.0               </td><td>0.0                </td><td>0.0                </td><td>-165580.0        </td><td>-69777.0         </td><td>-157264.0         </td><td>-170000.0         </td><td>-81334.0         </td><td>-339603.0        </td><td>0.0              </td><td>0.0              </td><td>0.0              </td><td>0.0               </td><td>0.0               </td><td>0.0              </td><td>         </td></tr>\n",
       "<tr><td>mean   </td><td>15000.5          </td><td>167484.32266666673</td><td>     </td><td>1.8531333333333393</td><td>          </td><td>35.48549999999956</td><td>0.22726666666666667</td><td>0.29493333333333327</td><td>0.2937333333333309</td><td>0.2511999999999998</td><td>0.21740000000000032</td><td>0.22489999999999963</td><td>51223.33090000043</td><td>49179.07516666629</td><td>47013.154799999655</td><td>43262.94896666659 </td><td>40311.40096666682</td><td>38871.76039999976</td><td>5663.580500000035</td><td>5921.163499999979</td><td>5225.681499999981</td><td>4826.076866666652 </td><td>4799.387633333336 </td><td>5215.50256666665 </td><td>         </td></tr>\n",
       "<tr><td>maxs   </td><td>30000.0          </td><td>1000000.0         </td><td>     </td><td>6.0               </td><td>          </td><td>79.0             </td><td>1.0                </td><td>2.0                </td><td>3.0               </td><td>4.0               </td><td>5.0                </td><td>6.0                </td><td>964511.0         </td><td>983931.0         </td><td>1664089.0         </td><td>891586.0          </td><td>927171.0         </td><td>961664.0         </td><td>873552.0         </td><td>1684259.0        </td><td>896040.0         </td><td>621000.0          </td><td>426529.0          </td><td>528666.0         </td><td>         </td></tr>\n",
       "<tr><td>sigma  </td><td>8660.398374208891</td><td>129747.66156720246</td><td>     </td><td>0.7903486597207269</td><td>          </td><td>9.217904068090155</td><td>0.41907324296394916</td><td>0.7084944561312378 </td><td>0.7348959549653103</td><td>0.7087420573406523</td><td>0.6839245804626852 </td><td>0.7005733485990058 </td><td>73635.86057552966</td><td>71173.76878252832</td><td>69349.38742703677 </td><td>64332.856133916444</td><td>60797.15577026471</td><td>59554.1075367459 </td><td>16563.28035402577</td><td>23040.87040205719</td><td>17606.96146980311</td><td>15666.159744032062</td><td>15278.305679144742</td><td>17777.46577543531</td><td>         </td></tr>\n",
       "<tr><td>zeros  </td><td>0                </td><td>0                 </td><td>     </td><td>14                </td><td>          </td><td>0                </td><td>23182              </td><td>25562              </td><td>25787             </td><td>26490             </td><td>27032              </td><td>26921              </td><td>2008             </td><td>2506             </td><td>2870              </td><td>3195              </td><td>3506             </td><td>4020             </td><td>5249             </td><td>5396             </td><td>5968             </td><td>6408              </td><td>6703              </td><td>7173             </td><td>         </td></tr>\n",
       "<tr><td>missing</td><td>0                </td><td>0                 </td><td>0    </td><td>0                 </td><td>0         </td><td>0                </td><td>0                  </td><td>0                  </td><td>0                 </td><td>0                 </td><td>0                  </td><td>0                  </td><td>0                </td><td>0                </td><td>0                 </td><td>0                 </td><td>0                </td><td>0                </td><td>0                </td><td>0                </td><td>0                </td><td>0                 </td><td>0                 </td><td>0                </td><td>0        </td></tr>\n",
       "<tr><td>0      </td><td>1.0              </td><td>20000.0           </td><td>F    </td><td>2.0               </td><td>M         </td><td>24.0             </td><td>1.0                </td><td>2.0                </td><td>0.0               </td><td>0.0               </td><td>0.0                </td><td>0.0                </td><td>3913.0           </td><td>3102.0           </td><td>689.0             </td><td>0.0               </td><td>0.0              </td><td>0.0              </td><td>0.0              </td><td>689.0            </td><td>0.0              </td><td>0.0               </td><td>0.0               </td><td>0.0              </td><td>1        </td></tr>\n",
       "<tr><td>1      </td><td>2.0              </td><td>120000.0          </td><td>F    </td><td>2.0               </td><td>S         </td><td>26.0             </td><td>0.0                </td><td>2.0                </td><td>0.0               </td><td>0.0               </td><td>0.0                </td><td>2.0                </td><td>2682.0           </td><td>1725.0           </td><td>2682.0            </td><td>3272.0            </td><td>3455.0           </td><td>3261.0           </td><td>0.0              </td><td>1000.0           </td><td>1000.0           </td><td>1000.0            </td><td>0.0               </td><td>2000.0           </td><td>1        </td></tr>\n",
       "<tr><td>2      </td><td>3.0              </td><td>90000.0           </td><td>F    </td><td>2.0               </td><td>S         </td><td>34.0             </td><td>0.0                </td><td>0.0                </td><td>0.0               </td><td>0.0               </td><td>0.0                </td><td>0.0                </td><td>29239.0          </td><td>14027.0          </td><td>13559.0           </td><td>14331.0           </td><td>14948.0          </td><td>15549.0          </td><td>1518.0           </td><td>1500.0           </td><td>1000.0           </td><td>1000.0            </td><td>1000.0            </td><td>5000.0           </td><td>0        </td></tr>\n",
       "<tr><td>3      </td><td>4.0              </td><td>50000.0           </td><td>F    </td><td>2.0               </td><td>M         </td><td>37.0             </td><td>0.0                </td><td>0.0                </td><td>0.0               </td><td>0.0               </td><td>0.0                </td><td>0.0                </td><td>46990.0          </td><td>48233.0          </td><td>49291.0           </td><td>28314.0           </td><td>28959.0          </td><td>29547.0          </td><td>2000.0           </td><td>2019.0           </td><td>1200.0           </td><td>1100.0            </td><td>1069.0            </td><td>1000.0           </td><td>0        </td></tr>\n",
       "<tr><td>4      </td><td>5.0              </td><td>50000.0           </td><td>M    </td><td>2.0               </td><td>M         </td><td>57.0             </td><td>0.0                </td><td>0.0                </td><td>0.0               </td><td>0.0               </td><td>0.0                </td><td>0.0                </td><td>8617.0           </td><td>5670.0           </td><td>35835.0           </td><td>20940.0           </td><td>19146.0          </td><td>19131.0          </td><td>2000.0           </td><td>36681.0          </td><td>10000.0          </td><td>9000.0            </td><td>689.0             </td><td>679.0            </td><td>0        </td></tr>\n",
       "<tr><td>5      </td><td>6.0              </td><td>50000.0           </td><td>M    </td><td>1.0               </td><td>S         </td><td>37.0             </td><td>0.0                </td><td>0.0                </td><td>0.0               </td><td>0.0               </td><td>0.0                </td><td>0.0                </td><td>64400.0          </td><td>57069.0          </td><td>57608.0           </td><td>19394.0           </td><td>19619.0          </td><td>20024.0          </td><td>2500.0           </td><td>1815.0           </td><td>657.0            </td><td>1000.0            </td><td>1000.0            </td><td>800.0            </td><td>0        </td></tr>\n",
       "<tr><td>6      </td><td>7.0              </td><td>500000.0          </td><td>M    </td><td>1.0               </td><td>S         </td><td>29.0             </td><td>0.0                </td><td>0.0                </td><td>0.0               </td><td>0.0               </td><td>0.0                </td><td>0.0                </td><td>367965.0         </td><td>412023.0         </td><td>445007.0          </td><td>542653.0          </td><td>483003.0         </td><td>473944.0         </td><td>55000.0          </td><td>40000.0          </td><td>38000.0          </td><td>20239.0           </td><td>13750.0           </td><td>13770.0          </td><td>0        </td></tr>\n",
       "<tr><td>7      </td><td>8.0              </td><td>100000.0          </td><td>F    </td><td>2.0               </td><td>S         </td><td>23.0             </td><td>0.0                </td><td>0.0                </td><td>0.0               </td><td>0.0               </td><td>0.0                </td><td>0.0                </td><td>11876.0          </td><td>380.0            </td><td>601.0             </td><td>221.0             </td><td>-159.0           </td><td>567.0            </td><td>380.0            </td><td>601.0            </td><td>0.0              </td><td>581.0             </td><td>1687.0            </td><td>1542.0           </td><td>0        </td></tr>\n",
       "<tr><td>8      </td><td>9.0              </td><td>140000.0          </td><td>F    </td><td>3.0               </td><td>M         </td><td>28.0             </td><td>0.0                </td><td>0.0                </td><td>2.0               </td><td>0.0               </td><td>0.0                </td><td>0.0                </td><td>11285.0          </td><td>14096.0          </td><td>12108.0           </td><td>12211.0           </td><td>11793.0          </td><td>3719.0           </td><td>3329.0           </td><td>0.0              </td><td>432.0            </td><td>1000.0            </td><td>1000.0            </td><td>1000.0           </td><td>0        </td></tr>\n",
       "<tr><td>9      </td><td>10.0             </td><td>20000.0           </td><td>M    </td><td>3.0               </td><td>S         </td><td>35.0             </td><td>0.0                </td><td>0.0                </td><td>0.0               </td><td>0.0               </td><td>0.0                </td><td>0.0                </td><td>0.0              </td><td>0.0              </td><td>0.0               </td><td>0.0               </td><td>13007.0          </td><td>13912.0          </td><td>0.0              </td><td>0.0              </td><td>0.0              </td><td>13007.0           </td><td>1122.0            </td><td>0.0              </td><td>0        </td></tr>\n",
       "</tbody>\n",
       "</table>"
      ]
     },
     "metadata": {},
     "output_type": "display_data"
    }
   ],
   "source": [
    "data.describe()"
   ]
  },
  {
   "cell_type": "markdown",
   "metadata": {},
   "source": [
    "## 2. Train an H2O GBM classifier\n",
    "\n",
    "#### Split data into training and test sets for early stopping\n",
    "The credit card default data is split into training and test sets to monitor and prevent overtraining. Reproducibility is also an important factor in creating trustworthy models, and randomly splitting datasets can introduce randomness in model predictions and other results. A random seed is used here to ensure the data split is reproducible."
   ]
  },
  {
   "cell_type": "code",
   "execution_count": 25,
   "metadata": {},
   "outputs": [
    {
     "name": "stdout",
     "output_type": "stream",
     "text": [
      "Train data rows = 21060, columns = 25\n",
      "Test data rows = 8940, columns = 25\n"
     ]
    }
   ],
   "source": [
    "# split into training and validation\n",
    "train, test = data.split_frame([0.7], seed=12345)\n",
    "\n",
    "# summarize split\n",
    "print('Train data rows = %d, columns = %d' % (train.shape[0], train.shape[1]))\n",
    "print('Test data rows = %d, columns = %d' % (test.shape[0], test.shape[1]))"
   ]
  },
  {
   "cell_type": "markdown",
   "metadata": {},
   "source": [
    "#### Establish monotonicity constraints based on Pearson correlation\n",
    "In general for high-stakes situations, it's best to use constrained machine learning models. Constrained models are easier to explain and to test for disparate impact. (Constrained models may also generalize better in low signal-to-noise scenarios.) Very complex models may be nearly impossible to test for disparate impact, as they can treat similar individuals quite differently, making it possible for local instances of discrimination to occur and not be detected by disparate impact testing. \n",
    "\n",
    "This GBM model will be constrained using the pairwise Pearson correlation between the inputs and the targets to establish the direction of the monotonicity constraints. H2o expects a dictionary with input variable names as keys and values of 1 for a positive monotonic constrain, 0 for no constraint, and -1 for a negative monotonic constraint."
   ]
  },
  {
   "cell_type": "code",
   "execution_count": 26,
   "metadata": {},
   "outputs": [
    {
     "name": "stdout",
     "output_type": "stream",
     "text": [
      "              Default\n",
      "CreditLimit -0.151732\n",
      "Education    0.023140\n",
      "Age          0.003770\n",
      "Status1      0.364880\n",
      "Status2      0.325940\n",
      "Status3      0.279657\n",
      "Status4      0.261216\n",
      "Status5      0.254764\n",
      "Status6      0.244315\n",
      "BillAmt1    -0.023252\n",
      "BillAmt2    -0.019563\n",
      "BillAmt3    -0.021105\n",
      "BillAmt4    -0.018092\n",
      "BillAmt5    -0.012072\n",
      "BillAmt6    -0.011350\n",
      "PayAmt1     -0.085398\n",
      "PayAmt2     -0.062419\n",
      "PayAmt3     -0.069603\n",
      "PayAmt4     -0.055825\n",
      "PayAmt5     -0.051942\n",
      "PayAmt6     -0.047694\n",
      "\n",
      " {'CreditLimit': -1, 'Education': 1, 'Age': 1, 'Status1': 1, 'Status2': 1, 'Status3': 1, 'Status4': 1, 'Status5': 1, 'Status6': 1, 'BillAmt1': -1, 'BillAmt2': -1, 'BillAmt3': -1, 'BillAmt4': -1, 'BillAmt5': -1, 'BillAmt6': -1, 'PayAmt1': -1, 'PayAmt2': -1, 'PayAmt3': -1, 'PayAmt4': -1, 'PayAmt5': -1, 'PayAmt6': -1}\n"
     ]
    }
   ],
   "source": [
    "# display Pearson correlation between inputs and targets\n",
    "print(pd.DataFrame(test.as_data_frame()[X + [y]].corr()[y]).iloc[:-1])\n",
    "\n",
    "# positive Pearson correlation w/ P_DEFAULT_NEXT_MONTH == positive constraint == 1\n",
    "# negative Pearson correlation w/ P_DEFAULT_NEXT_MONTH == negative constraint == -1\n",
    "names = list(test.as_data_frame()[X + [y]].corr()[y].index)[:-1]\n",
    "signs = list([int(i) for i in np.sign(test.as_data_frame()[X + [y]].corr()[y].values[:-1])])\n",
    "\n",
    "mc = {}\n",
    "for i, name in enumerate(names):\n",
    "    mc[name] = signs[i]\n",
    "\n",
    "print('\\n', mc)"
   ]
  },
  {
   "cell_type": "markdown",
   "metadata": {},
   "source": [
    "(For this model, if status1, etc. is numeric, then we should have all of the <=0 changed to 0)"
   ]
  },
  {
   "cell_type": "markdown",
   "metadata": {},
   "source": [
    "#### Train H2O GBM classifier with monotonicity constraints\n",
    "Many tuning parameters must be specified to train a GBM using h2o. Typically a grid search would be performed to identify the best parameters for a given modeling task using the `H2OGridSearch` class. For brevity's sake, a previously-discovered set of good tuning parameters are specified here. Because gradient boosting methods typically resample training data, an additional random seed is also specified for the h2o GBM using the `seed` parameter to create reproducible predictions, error rates, and variable importance values. To avoid overfitting, the `stopping_rounds` parameter is used to stop the training process after the test error fails to decrease for 5 iterations. Monotonicity constraints are passed to the GBM using the `monotone_constraints` parameter."
   ]
  },
  {
   "cell_type": "code",
   "execution_count": 27,
   "metadata": {},
   "outputs": [
    {
     "name": "stdout",
     "output_type": "stream",
     "text": [
      "gbm Model Build progress: |███████████████████████████████████████████████| 100%\n",
      "GBM Test AUC = 0.76\n"
     ]
    }
   ],
   "source": [
    "# initialize GBM model\n",
    "model = H2OGradientBoostingEstimator(ntrees=150,              # maximum 150 trees in GBM\n",
    "                                     max_depth=4,             # trees can have maximum depth of 4\n",
    "                                     sample_rate=0.9,         # use 90% of rows in each iteration (tree)\n",
    "                                     col_sample_rate=0.9,     # use 90% of variables in each iteration (tree)\n",
    "                                     #balance_classes=True,   # sample to balance 0/1 distribution of target - can help LOCO\n",
    "                                     stopping_rounds=5,       # stop if validation error does not decrease for 5 iterations (trees)\n",
    "                                     score_tree_interval=1,   # for reproducibility, set higher for bigger data\n",
    "                                     monotone_constraints=mc, # enforces monotonicity wrt each input\n",
    "                                     model_id='dia_gbm',      # for locating the model in Flow UI \n",
    "                                     seed=12345)              # for reproducibility\n",
    "\n",
    "# train a GBM model\n",
    "model.train(y=y, x=X, training_frame=train, validation_frame=test)\n",
    "\n",
    "# print AUC\n",
    "print('GBM Test AUC = %.2f' % model.auc(valid=True))\n",
    "\n",
    "# uncomment to see model details\n",
    "# print(model) "
   ]
  },
  {
   "cell_type": "markdown",
   "metadata": {},
   "source": [
    "#### Display Shapley variable importance\n",
    "Shapley values are a locally-accurate and globally consistent variable importance metric. Instead of relying on traditional single-value variable importance measures, local Shapley values for each input will be calculated and aggregated below to get a more holistic and consisent measurement for the global importance of each input variable. "
   ]
  },
  {
   "cell_type": "code",
   "execution_count": 28,
   "metadata": {},
   "outputs": [
    {
     "data": {
      "image/png": "[encoded data removed]",
      "text/plain": [
       "<Figure size 576x684 with 1 Axes>"
      ]
     },
     "metadata": {
      "needs_background": "light"
     },
     "output_type": "display_data"
    }
   ],
   "source": [
    "contributions = model.predict_contributions(test)\n",
    "contributions_matrix = contributions.as_data_frame().values\n",
    "shap_values = contributions_matrix[:,:-1]\n",
    "shap.summary_plot(shap_values, X, plot_type='bar', color='royalblue')"
   ]
  },
  {
   "cell_type": "markdown",
   "metadata": {},
   "source": [
    "Repayment `PAY_*` variables appear to be most important in this model along with a credit limit, `LIMIT_BAL`.\n",
    "\n",
    "(In a more realistic scenario, credit limit would likely not be used as a model input because it could cause target leakage. It's used here in this small data example to improve model accuracy.)\n",
    "\n",
    "# 3. Select a Probability Cutoff by Maximizing F1 Statistic\n",
    "\n",
    "#### Bind model predictions to test data for further calculations\n",
    "Model predictions will be used in numerous subsequent calculations."
   ]
  },
  {
   "cell_type": "code",
   "execution_count": 29,
   "metadata": {},
   "outputs": [
    {
     "name": "stdout",
     "output_type": "stream",
     "text": [
      "gbm prediction progress: |████████████████████████████████████████████████| 100%\n"
     ]
    }
   ],
   "source": [
    "# cbind predictions to training frame\n",
    "# give them a nice name\n",
    "yhat = 'p_Default'\n",
    "preds1 = test['ID'].cbind(model.predict(test).drop(['predict', 'p0']))\n",
    "preds1.columns = ['ID', yhat]\n",
    "test_yhat = test.cbind(preds1[yhat]).as_data_frame()\n",
    "test_yhat.reset_index(drop=True, inplace=True) # necessary for later searches/joins"
   ]
  },
  {
   "cell_type": "markdown",
   "metadata": {},
   "source": [
    "#### Function to calculate PR-AUC Curve\n",
    "\n",
    "Predictive models often produce probabilities, not decisions. So to make a decision with a model-generated predicted probability for any one customer, you must specify a numeric cutoff above which we say a customer will default and below which we say they will not default. Cutoffs play a crucial role in DIA as they impact the underlying measurements used to calculate diparity. In fact, tuning cutoffs carefully is a potential remdiation tactic for any discovered disparity. There are many accepted ways to select a cutoff (besides simply using 0.5) and in this notebook the cutoff will be selected by striking a balance between the model's recall (true positive rate) and it's precision using the F1 statistic. Using precision and recall to select a cutoff is sometimes seen as more robust to imbalanced data than the standard ROC approach. Maximizing F1 typically results in a good balance between sensitivity and precision. \n",
    "\n",
    "Selecting a cutoff can be done intervactively with h2o Flow as well. Enter the url: http://localhost:54321/flow/index.html (or your H2O Connection URL displayed in cell 2) into your browser. Select `Models` -> `List all models` -> `dia_gbm` and you should see an interactive ROC curve where you can pick your own cutoff.\n",
    "\n",
    "To learn more about confusion matrices see: https://en.wikipedia.org/wiki/Confusion_matrix.\n",
    "\n",
    "**Note:** h2o supports `pr_auc` directly: http://docs.h2o.ai/h2o/latest-stable/h2o-py/docs/metrics.html#h2o.model.metrics_base.MetricsBase.pr_auc. This utility function is used here to give more control over the plotting of the PR curve below."
   ]
  },
  {
   "cell_type": "code",
   "execution_count": 31,
   "metadata": {},
   "outputs": [],
   "source": [
    "def get_prauc(frame, y, yhat, pos=1, neg=0, res=0.01):\n",
    "    \n",
    "    \"\"\" Calculates precision, recall, and f1 for a pandas dataframe of y and yhat values.\n",
    "    \n",
    "    Args:\n",
    "        frame: Pandas dataframe of actual (y) and predicted (yhat) values.\n",
    "        y: Name of actual value column.\n",
    "        yhat: Name of predicted value column.\n",
    "        pos: Primary target value, default 1.\n",
    "        neg: Secondary target value, default 0.\n",
    "        res: Resolution by which to loop through cutoffs, default 0.01.\n",
    "    \n",
    "    Returns:\n",
    "        Pandas dataframe of precision, recall, and f1 values. \n",
    "    \"\"\"\n",
    "    \n",
    "    frame_ = frame.copy(deep=True) # don't destroy original data\n",
    "    dname = 'd_' + str(y) # column for predicted decisions\n",
    "    eps = 1e-20 # for safe numerical operations\n",
    "    \n",
    "    # init p-r roc frame\n",
    "    prauc_frame = pd.DataFrame(columns=['cutoff', 'recall', 'precision', 'f1'])\n",
    "    \n",
    "    # loop through cutoffs to create p-r roc frame\n",
    "    for cutoff in np.arange(0, 1 + res, res):\n",
    "\n",
    "        # binarize decision to create confusion matrix values\n",
    "        frame_[dname] = np.where(frame_[yhat] > cutoff , 1, 0)\n",
    "        \n",
    "        # calculate confusion matrix values\n",
    "        tp = frame_[(frame_[dname] == pos) & (frame_[y] == pos)].shape[0]\n",
    "        fp = frame_[(frame_[dname] == pos) & (frame_[y] == neg)].shape[0]\n",
    "        tn = frame_[(frame_[dname] == neg) & (frame_[y] == neg)].shape[0]\n",
    "        fn = frame_[(frame_[dname] == neg) & (frame_[y] == pos)].shape[0]\n",
    "        \n",
    "        # calculate precision, recall, and f1\n",
    "        recall = (tp + eps)/((tp + fn) + eps)\n",
    "        precision = (tp + eps)/((tp + fp) + eps)\n",
    "        f1 = 2/((1/(recall + eps)) + (1/(precision + eps)))\n",
    "        \n",
    "        # add new values to frame\n",
    "        prauc_frame = prauc_frame.append({'cutoff': cutoff,\n",
    "                                          'recall': recall,\n",
    "                                          'precision': precision,\n",
    "                                          'f1': f1}, \n",
    "                                          ignore_index=True)\n",
    "    \n",
    "    # housekeeping\n",
    "    del frame_\n",
    "    \n",
    "    return prauc_frame\n",
    "        \n",
    "prauc_frame = get_prauc(test_yhat, 'Default', 'p_Default')"
   ]
  },
  {
   "cell_type": "markdown",
   "metadata": {},
   "source": [
    "#### Select best cutoff"
   ]
  },
  {
   "cell_type": "code",
   "execution_count": 32,
   "metadata": {},
   "outputs": [
    {
     "name": "stdout",
     "output_type": "stream",
     "text": [
      "0.19\n"
     ]
    }
   ],
   "source": [
    "best_cut = prauc_frame.loc[prauc_frame['f1'].idxmax(), 'cutoff'] # Find cutoff w/ max F1\n",
    "### !!! UNCOMMENT LINES BELOW TO REMEDIATE MINOR FAIRNESS ISSUES !!! ###\n",
    "# best_cut = 0.3  # min threshold with overall fairness\n",
    "# best_cut = 0.46 # max accuracy\n",
    "# best_cut = 0.35 # max MCC\n",
    "print('%.2f' % best_cut)"
   ]
  },
  {
   "cell_type": "markdown",
   "metadata": {},
   "source": [
    "#### Plot PR-AUC Curve\n",
    "\n",
    "An area under the curve for precision and recall (PR-AUC) plot is a typical way to visualize recall and precision for a predictive model. The F1 statistic is the harmonic mean of recall and precision, and we can visualize where F1 is maximized on with the AUC-PR curve."
   ]
  },
  {
   "cell_type": "code",
   "execution_count": 33,
   "metadata": {},
   "outputs": [
    {
     "data": {
      "image/png": "[encoded data removed]",
      "text/plain": [
       "<Figure size 432x288 with 1 Axes>"
      ]
     },
     "metadata": {
      "needs_background": "light"
     },
     "output_type": "display_data"
    }
   ],
   "source": [
    "# Plot P-R AUC w/ best cutoff\n",
    "title_ = 'P-R Curve: Cutoff = ' + str(best_cut)\n",
    "ax = prauc_frame.plot(x='recall', y='precision', kind='scatter', title=title_, xlim=[0,1])\n",
    "_ = ax.axvline(best_cut, color='r')"
   ]
  },
  {
   "cell_type": "markdown",
   "metadata": {},
   "source": [
    "In h2o Flow a traditional ROC curve is displayed, in which true positive rate is plotted against false positive rate. You can still use h2o Flow and the traditional ROC curve to verify that F1 is maximized at a probability cutoff of ~ 0.27.\n",
    "\n",
    "# 4. Report Raw Confusion Matrices\n",
    "\n",
    "The basic DIA procedure in this notebook is based on measurements found commonly in confusion matrices, so confusion matrices are calculated as a precursor to DIA and to provide a basic summary of the GBM's behavior in general and across men and women.\n",
    "\n",
    "#### Function to print confusion matrices by an input variable"
   ]
  },
  {
   "cell_type": "code",
   "execution_count": 35,
   "metadata": {},
   "outputs": [
    {
     "name": "stdout",
     "output_type": "stream",
     "text": [
      "Confusion matrix:\n"
     ]
    },
    {
     "data": {
      "text/html": [
       "<div>\n",
       "<style scoped>\n",
       "    .dataframe tbody tr th:only-of-type {\n",
       "        vertical-align: middle;\n",
       "    }\n",
       "\n",
       "    .dataframe tbody tr th {\n",
       "        vertical-align: top;\n",
       "    }\n",
       "\n",
       "    .dataframe thead th {\n",
       "        text-align: right;\n",
       "    }\n",
       "</style>\n",
       "<table border=\"1\" class=\"dataframe\">\n",
       "  <thead>\n",
       "    <tr style=\"text-align: right;\">\n",
       "      <th></th>\n",
       "      <th>actual: 1</th>\n",
       "      <th>actual: 0</th>\n",
       "    </tr>\n",
       "  </thead>\n",
       "  <tbody>\n",
       "    <tr>\n",
       "      <td>predicted: 1</td>\n",
       "      <td>1243</td>\n",
       "      <td>1437</td>\n",
       "    </tr>\n",
       "    <tr>\n",
       "      <td>predicted: 0</td>\n",
       "      <td>760</td>\n",
       "      <td>5500</td>\n",
       "    </tr>\n",
       "  </tbody>\n",
       "</table>\n",
       "</div>"
      ],
      "text/plain": [
       "             actual: 1 actual: 0\n",
       "predicted: 1      1243      1437\n",
       "predicted: 0       760      5500"
      ]
     },
     "execution_count": 35,
     "metadata": {},
     "output_type": "execute_result"
    }
   ],
   "source": [
    "def get_confusion_matrix(frame, y, yhat, by=None, level=None, cutoff=0.5):\n",
    "\n",
    "    \"\"\" Creates confusion matrix from pandas dataframe of y and yhat values, can be sliced \n",
    "        by a variable and level.\n",
    "    \n",
    "    Args:\n",
    "        frame: Pandas dataframe of actual (y) and predicted (yhat) values.\n",
    "        y: Name of actual value column.\n",
    "        yhat: Name of predicted value column.\n",
    "        by: By variable to slice frame before creating confusion matrix, default None.\n",
    "        level: Value of by variable to slice frame before creating confusion matrix, default None.\n",
    "        cutoff: Cutoff threshold for confusion matrix, default 0.5. \n",
    "\n",
    "    Returns:\n",
    "        Confusion matrix as pandas dataframe. \n",
    "    \"\"\"\n",
    "    \n",
    "    # determine levels of target (y) variable\n",
    "    # sort for consistency\n",
    "    level_list = list(frame[y].unique())\n",
    "    level_list.sort(reverse=True)\n",
    "\n",
    "    # init confusion matrix\n",
    "    cm_frame = pd.DataFrame(columns=['actual: ' +  str(i) for i in level_list], \n",
    "                            index=['predicted: ' + str(i) for i in level_list])\n",
    "    \n",
    "    # don't destroy original data\n",
    "    frame_ = frame.copy(deep=True)\n",
    "    \n",
    "    # convert numeric predictions to binary decisions using cutoff\n",
    "    dname = 'd_' + str(y)\n",
    "    frame_[dname] = np.where(frame_[yhat] > cutoff , 1, 0)\n",
    "    \n",
    "    # slice frame\n",
    "    if (by is not None) & (level is not None):\n",
    "        frame_ = frame_[frame[by] == level]\n",
    "    \n",
    "    # calculate size of each confusion matrix value\n",
    "    for i, lev_i in enumerate(level_list):\n",
    "        for j, lev_j in enumerate(level_list):\n",
    "            cm_frame.iat[j, i] = frame_[(frame_[y] == lev_i) & (frame_[dname] == lev_j)].shape[0]\n",
    "            # i, j vs. j, i nasty little bug ... updated 8/30/19\n",
    "    \n",
    "    # output results\n",
    "    if by is None:\n",
    "        print('Confusion matrix:')\n",
    "    else:\n",
    "        print('Confusion matrix by ' + by + '=' + level)\n",
    "    \n",
    "    return cm_frame\n",
    "    \n",
    "    \n",
    "get_confusion_matrix(test_yhat, 'Default', 'p_Default', cutoff=best_cut)"
   ]
  },
  {
   "cell_type": "markdown",
   "metadata": {},
   "source": [
    "The general confusion matrix shows that the GBM is more accurate than not because the true positive and true negative cells contain the largest values by far. But the GBM seems to make a larger number of type II errors or false negative predictions. False negatives can be a disparity issue, because for complex reasons, many credit scoring and other models tend to over-estimate the likelihood of non-reference groups - typically people other than white males - to default. This is both a sociological fairness problem and a financial problem if an unpriviledged group is not recieving the credit they deserve, in favor of undeserving white males. Deserving people miss out on potentially life-changing credit and lenders incur large write-off costs.\n",
    "\n",
    "#### Report confusion matrices by `SEX`\n",
    "\n",
    "The only values for `SEX` in the dataset are `female` and `male`. "
   ]
  },
  {
   "cell_type": "code",
   "execution_count": 37,
   "metadata": {},
   "outputs": [
    {
     "data": {
      "text/html": [
       "['F', 'M']"
      ],
      "text/plain": [
       "['F', 'M']"
      ]
     },
     "execution_count": 37,
     "metadata": {},
     "output_type": "execute_result"
    }
   ],
   "source": [
    "sex_levels = list(test_yhat['Sex'].unique())\n",
    "sex_levels"
   ]
  },
  {
   "cell_type": "markdown",
   "metadata": {},
   "source": [
    "#### Confusion matrix for `SEX = male`"
   ]
  },
  {
   "cell_type": "code",
   "execution_count": 38,
   "metadata": {},
   "outputs": [
    {
     "name": "stdout",
     "output_type": "stream",
     "text": [
      "Confusion matrix by Sex=M\n"
     ]
    },
    {
     "data": {
      "text/html": [
       "<div>\n",
       "<style scoped>\n",
       "    .dataframe tbody tr th:only-of-type {\n",
       "        vertical-align: middle;\n",
       "    }\n",
       "\n",
       "    .dataframe tbody tr th {\n",
       "        vertical-align: top;\n",
       "    }\n",
       "\n",
       "    .dataframe thead th {\n",
       "        text-align: right;\n",
       "    }\n",
       "</style>\n",
       "<table border=\"1\" class=\"dataframe\">\n",
       "  <thead>\n",
       "    <tr style=\"text-align: right;\">\n",
       "      <th></th>\n",
       "      <th>actual: 1</th>\n",
       "      <th>actual: 0</th>\n",
       "    </tr>\n",
       "  </thead>\n",
       "  <tbody>\n",
       "    <tr>\n",
       "      <td>predicted: 1</td>\n",
       "      <td>542</td>\n",
       "      <td>574</td>\n",
       "    </tr>\n",
       "    <tr>\n",
       "      <td>predicted: 0</td>\n",
       "      <td>329</td>\n",
       "      <td>2032</td>\n",
       "    </tr>\n",
       "  </tbody>\n",
       "</table>\n",
       "</div>"
      ],
      "text/plain": [
       "             actual: 1 actual: 0\n",
       "predicted: 1       542       574\n",
       "predicted: 0       329      2032"
      ]
     },
     "execution_count": 38,
     "metadata": {},
     "output_type": "execute_result"
    }
   ],
   "source": [
    "male_cm = get_confusion_matrix(test_yhat, 'Default', 'p_Default', by='Sex', level='M', cutoff=best_cut)\n",
    "male_cm"
   ]
  },
  {
   "cell_type": "markdown",
   "metadata": {},
   "source": [
    "#### Confusion matrix for `SEX = female`"
   ]
  },
  {
   "cell_type": "code",
   "execution_count": 39,
   "metadata": {},
   "outputs": [
    {
     "name": "stdout",
     "output_type": "stream",
     "text": [
      "Confusion matrix by Sex=F\n"
     ]
    },
    {
     "data": {
      "text/html": [
       "<div>\n",
       "<style scoped>\n",
       "    .dataframe tbody tr th:only-of-type {\n",
       "        vertical-align: middle;\n",
       "    }\n",
       "\n",
       "    .dataframe tbody tr th {\n",
       "        vertical-align: top;\n",
       "    }\n",
       "\n",
       "    .dataframe thead th {\n",
       "        text-align: right;\n",
       "    }\n",
       "</style>\n",
       "<table border=\"1\" class=\"dataframe\">\n",
       "  <thead>\n",
       "    <tr style=\"text-align: right;\">\n",
       "      <th></th>\n",
       "      <th>actual: 1</th>\n",
       "      <th>actual: 0</th>\n",
       "    </tr>\n",
       "  </thead>\n",
       "  <tbody>\n",
       "    <tr>\n",
       "      <td>predicted: 1</td>\n",
       "      <td>701</td>\n",
       "      <td>863</td>\n",
       "    </tr>\n",
       "    <tr>\n",
       "      <td>predicted: 0</td>\n",
       "      <td>431</td>\n",
       "      <td>3468</td>\n",
       "    </tr>\n",
       "  </tbody>\n",
       "</table>\n",
       "</div>"
      ],
      "text/plain": [
       "             actual: 1 actual: 0\n",
       "predicted: 1       701       863\n",
       "predicted: 0       431      3468"
      ]
     },
     "execution_count": 39,
     "metadata": {},
     "output_type": "execute_result"
    }
   ],
   "source": [
    "female_cm = get_confusion_matrix(test_yhat, 'Default', 'p_Default', by='Sex', level='F', cutoff=best_cut)\n",
    "female_cm"
   ]
  },
  {
   "cell_type": "markdown",
   "metadata": {},
   "source": [
    "Both confusion matrices reflect the global confusion matrix: more accurate than not with a larger number of false positive predictions (type I errors) than false negative predictions (type II errors).\n",
    "\n",
    "# 6. Disparate Impact Analysis (DIA)\n",
    "\n",
    "To perform the following basic DIA many different values from the confusion matrices reflecting different prediction behavior are calculated. These metrics essentially help us understand the GBM's overall performance and how it behaves when predicting:\n",
    "\n",
    "* Default correctly\n",
    "* Non-default correctly\n",
    "* Default incorrectly (type I errors)\n",
    "* Non-default incorrectly (type II errors)\n",
    "\n",
    "In a real-life lending scenario, type I errors essentially amount to false accusations of financial impropriety and type II errors result in awarding loans to undeserving customers. Both types of errors can be costly to the lender too. Type I errors likely result in lost interest and fees. Type II errors often result in write-offs.\n",
    "\n",
    "#### Dictionary of metrics used to assess disparity and parity"
   ]
  },
  {
   "cell_type": "code",
   "execution_count": 40,
   "metadata": {},
   "outputs": [],
   "source": [
    "# represent metrics as dictionary for use later\n",
    "metric_dict = {\n",
    "\n",
    "#### overall performance\n",
    "#'Prevalence': '(tp + fn) / (tp + tn +fp + fn)', # how much default actually happens for this group\n",
    "'Adverse Impact': '(tp + fp) / (tp + tn + fp + fn)', # how often the model predicted default for each group   \n",
    "'Accuracy':       '(tp + tn) / (tp + tn + fp + fn)', # how often the model predicts default and non-default correctly for this group\n",
    "\n",
    "#### predicting default will happen\n",
    "# (correctly)\n",
    "'True Positive Rate': 'tp / (tp + fn)',  # out of the people in the group *that did* default, how many the model predicted *correctly* would default              \n",
    "'Precision':          'tp / (tp + fp)',  # out of the people in the group the model *predicted* would default, how many the model predicted *correctly* would default\n",
    "\n",
    "#### predicting default won't happen\n",
    "# (correctly)\n",
    "'Specificity':              'tn / (tn + fp)', # out of the people in the group *that did not* default, how many the model predicted *correctly* would not default\n",
    "'Negative Predicted Value': 'tn / (tn + fn)', # out of the people in the group the model *predicted* would not default, how many the model predicted *correctly* would not default  \n",
    "\n",
    "#### analyzing errors - type I\n",
    "# false accusations \n",
    "'False Positive Rate':  'fp / (tn + fp)', # out of the people in the group *that did not* default, how many the model predicted *incorrectly* would default\n",
    "'False Discovery Rate': 'fp / (tp + fp)', # out of the people in the group the model *predicted* would default, how many the model predicted *incorrectly* would default\n",
    "\n",
    "#### analyzing errors - type II\n",
    "# costly ommisions\n",
    "'False Negative Rate': 'fn / (tp + fn)', # out of the people in the group *that did* default, how many the model predicted *incorrectly* would not default\n",
    "'False Omissions Rate':'fn / (tn + fn)'  # out of the people in the group the model *predicted* would not default, how many the model predicted *incorrectly* would not default\n",
    "}    "
   ]
  },
  {
   "cell_type": "markdown",
   "metadata": {},
   "source": [
    "#### Utility function to translate metrics into Pandas statements"
   ]
  },
  {
   "cell_type": "code",
   "execution_count": 41,
   "metadata": {},
   "outputs": [],
   "source": [
    "# small utility function\n",
    "# translates abbreviated metric expressions into executable Python statements\n",
    "\n",
    "def cm_exp_parser(expression):\n",
    "    \n",
    "    # tp | fp       cm_dict[level].iat[0, 0] | cm_dict[level].iat[0, 1]\n",
    "    # -------  ==>  --------------------------------------------\n",
    "    # fn | tn       cm_dict[level].iat[1, 0] | cm_dict[level].iat[1, 1]\n",
    "\n",
    "    expression = expression.replace('tp', 'cm_dict[level].iat[0, 0]')\\\n",
    "                           .replace('fp', 'cm_dict[level].iat[0, 1]')\\\n",
    "                           .replace('fn', 'cm_dict[level].iat[1, 0]')\\\n",
    "                           .replace('tn', 'cm_dict[level].iat[1, 1]')\n",
    "\n",
    "    return expression\n"
   ]
  },
  {
   "cell_type": "markdown",
   "metadata": {},
   "source": [
    "#### Calculate and report metrics\n",
    "This nested loop calculates all the metrics defined above for men and women."
   ]
  },
  {
   "cell_type": "code",
   "execution_count": 42,
   "metadata": {},
   "outputs": [
    {
     "data": {
      "text/html": [
       "<div>\n",
       "<style scoped>\n",
       "    .dataframe tbody tr th:only-of-type {\n",
       "        vertical-align: middle;\n",
       "    }\n",
       "\n",
       "    .dataframe tbody tr th {\n",
       "        vertical-align: top;\n",
       "    }\n",
       "\n",
       "    .dataframe thead th {\n",
       "        text-align: right;\n",
       "    }\n",
       "</style>\n",
       "<table border=\"1\" class=\"dataframe\">\n",
       "  <thead>\n",
       "    <tr style=\"text-align: right;\">\n",
       "      <th></th>\n",
       "      <th>Adverse Impact</th>\n",
       "      <th>Accuracy</th>\n",
       "      <th>True Positive Rate</th>\n",
       "      <th>Precision</th>\n",
       "      <th>Specificity</th>\n",
       "      <th>Negative Predicted Value</th>\n",
       "      <th>False Positive Rate</th>\n",
       "      <th>False Discovery Rate</th>\n",
       "      <th>False Negative Rate</th>\n",
       "      <th>False Omissions Rate</th>\n",
       "    </tr>\n",
       "  </thead>\n",
       "  <tbody>\n",
       "    <tr>\n",
       "      <td>F</td>\n",
       "      <td>0.286290</td>\n",
       "      <td>0.763134</td>\n",
       "      <td>0.619258</td>\n",
       "      <td>0.448210</td>\n",
       "      <td>0.800739</td>\n",
       "      <td>0.889459</td>\n",
       "      <td>0.199261</td>\n",
       "      <td>0.551790</td>\n",
       "      <td>0.380742</td>\n",
       "      <td>0.110541</td>\n",
       "    </tr>\n",
       "    <tr>\n",
       "      <td>M</td>\n",
       "      <td>0.320966</td>\n",
       "      <td>0.740293</td>\n",
       "      <td>0.622273</td>\n",
       "      <td>0.485663</td>\n",
       "      <td>0.779739</td>\n",
       "      <td>0.860652</td>\n",
       "      <td>0.220261</td>\n",
       "      <td>0.514337</td>\n",
       "      <td>0.377727</td>\n",
       "      <td>0.139348</td>\n",
       "    </tr>\n",
       "  </tbody>\n",
       "</table>\n",
       "</div>"
      ],
      "text/plain": [
       "   Adverse Impact  Accuracy  True Positive Rate  Precision  Specificity  \\\n",
       "F        0.286290  0.763134            0.619258   0.448210     0.800739   \n",
       "M        0.320966  0.740293            0.622273   0.485663     0.779739   \n",
       "\n",
       "   Negative Predicted Value  False Positive Rate  False Discovery Rate  \\\n",
       "F                  0.889459             0.199261              0.551790   \n",
       "M                  0.860652             0.220261              0.514337   \n",
       "\n",
       "   False Negative Rate  False Omissions Rate  \n",
       "F             0.380742              0.110541  \n",
       "M             0.377727              0.139348  "
      ]
     },
     "execution_count": 42,
     "metadata": {},
     "output_type": "execute_result"
    }
   ],
   "source": [
    "# initialize dict of confusion matrices and corresponding rows of dataframe\n",
    "cm_dict = {'M': male_cm, \n",
    "           'F': female_cm} \n",
    "\n",
    "metrics_frame = pd.DataFrame(index=sex_levels) # frame for metrics\n",
    "\n",
    "# nested loop through:\n",
    "# - sex levels\n",
    "# - metrics \n",
    "for level in sex_levels:\n",
    "    for metric in metric_dict.keys():\n",
    "              \n",
    "        # parse metric expressions into executable pandas statements\n",
    "        expression = cm_exp_parser(metric_dict[metric])\n",
    "\n",
    "        # dynamically evaluate metrics to avoid code duplication\n",
    "        metrics_frame.loc[level, metric] = eval(expression)  \n",
    "\n",
    "# display results                \n",
    "metrics_frame"
   ]
  },
  {
   "cell_type": "markdown",
   "metadata": {},
   "source": [
    "From eyeballing the raw metrics it appears that the model is treating men and women roughly similarly as groups. (These metrics do not indicate very much about specific, individual cases of bias, but only give information for the groups as a whole.)\n",
    "\n",
    "#### Plot false positive rate by `SEX`\n",
    "\n",
    "Because the confusion matrices indicated there might be a problem with false positives, that metric will be examined more closely than others. (Of course other metrics are important from a fairness and business perspective. For an excellent in-depth discussion and example regarding numerous disparity metrics, see: https://github.com/dssg/aequitas/blob/master/docs/source/examples/compas_demo.ipynb)"
   ]
  },
  {
   "cell_type": "code",
   "execution_count": 43,
   "metadata": {},
   "outputs": [
    {
     "data": {
      "image/png": "[encoded data removed]",
      "text/plain": [
       "<Figure size 432x288 with 1 Axes>"
      ]
     },
     "metadata": {
      "needs_background": "light"
     },
     "output_type": "display_data"
    }
   ],
   "source": [
    "_ = metrics_frame['False Positive Rate'].plot(kind='bar', color='b', title='False Positive Rate')"
   ]
  },
  {
   "cell_type": "markdown",
   "metadata": {},
   "source": [
    "#### Calculate and report disparity\n",
    "To calculate disparity we compare the confusion matrix for each sex to the metrics for a user-defined reference level and to user-defined thresholds. In this case, we take the class of people who seem most priviledged as the reference level, i.e. `SEX = male`. (Usually the reference level would be `race = white` or `sex = male`.) According to the four-fifths rule (https://en.wikipedia.org/wiki/Disparate_impact#The_80%_rule) thresholds are set such that metrics 20% lower or higher than the reference level metric will be flagged as disparate. Technically, the four-fifths rule only applies to the adverse impact ratio, or \"adverse impact disparity\" below, but it will be applied to all other displayed metric as a rule of thumb."
   ]
  },
  {
   "cell_type": "code",
   "execution_count": 44,
   "metadata": {},
   "outputs": [
    {
     "data": {
      "text/html": [
       "<style  type=\"text/css\" >\n",
       "    #T_89856088_d00b_11e9_81dd_9fb0b7a75afdrow0_col0 {\n",
       "            color:  blue;\n",
       "        }    #T_89856088_d00b_11e9_81dd_9fb0b7a75afdrow0_col1 {\n",
       "            color:  blue;\n",
       "        }    #T_89856088_d00b_11e9_81dd_9fb0b7a75afdrow0_col2 {\n",
       "            color:  blue;\n",
       "        }    #T_89856088_d00b_11e9_81dd_9fb0b7a75afdrow0_col3 {\n",
       "            color:  blue;\n",
       "        }    #T_89856088_d00b_11e9_81dd_9fb0b7a75afdrow0_col4 {\n",
       "            color:  blue;\n",
       "        }    #T_89856088_d00b_11e9_81dd_9fb0b7a75afdrow0_col5 {\n",
       "            color:  blue;\n",
       "        }    #T_89856088_d00b_11e9_81dd_9fb0b7a75afdrow0_col6 {\n",
       "            color:  blue;\n",
       "        }    #T_89856088_d00b_11e9_81dd_9fb0b7a75afdrow0_col7 {\n",
       "            color:  blue;\n",
       "        }    #T_89856088_d00b_11e9_81dd_9fb0b7a75afdrow0_col8 {\n",
       "            color:  blue;\n",
       "        }    #T_89856088_d00b_11e9_81dd_9fb0b7a75afdrow0_col9 {\n",
       "            color:  red;\n",
       "        }    #T_89856088_d00b_11e9_81dd_9fb0b7a75afdrow1_col0 {\n",
       "            color:  blue;\n",
       "        }    #T_89856088_d00b_11e9_81dd_9fb0b7a75afdrow1_col1 {\n",
       "            color:  blue;\n",
       "        }    #T_89856088_d00b_11e9_81dd_9fb0b7a75afdrow1_col2 {\n",
       "            color:  blue;\n",
       "        }    #T_89856088_d00b_11e9_81dd_9fb0b7a75afdrow1_col3 {\n",
       "            color:  blue;\n",
       "        }    #T_89856088_d00b_11e9_81dd_9fb0b7a75afdrow1_col4 {\n",
       "            color:  blue;\n",
       "        }    #T_89856088_d00b_11e9_81dd_9fb0b7a75afdrow1_col5 {\n",
       "            color:  blue;\n",
       "        }    #T_89856088_d00b_11e9_81dd_9fb0b7a75afdrow1_col6 {\n",
       "            color:  blue;\n",
       "        }    #T_89856088_d00b_11e9_81dd_9fb0b7a75afdrow1_col7 {\n",
       "            color:  blue;\n",
       "        }    #T_89856088_d00b_11e9_81dd_9fb0b7a75afdrow1_col8 {\n",
       "            color:  blue;\n",
       "        }    #T_89856088_d00b_11e9_81dd_9fb0b7a75afdrow1_col9 {\n",
       "            color:  blue;\n",
       "        }</style><table id=\"T_89856088_d00b_11e9_81dd_9fb0b7a75afd\" ><thead>    <tr>        <th class=\"blank level0\" ></th>        <th class=\"col_heading level0 col0\" >Adverse Impact Disparity</th>        <th class=\"col_heading level0 col1\" >Accuracy Disparity</th>        <th class=\"col_heading level0 col2\" >True Positive Rate Disparity</th>        <th class=\"col_heading level0 col3\" >Precision Disparity</th>        <th class=\"col_heading level0 col4\" >Specificity Disparity</th>        <th class=\"col_heading level0 col5\" >Negative Predicted Value Disparity</th>        <th class=\"col_heading level0 col6\" >False Positive Rate Disparity</th>        <th class=\"col_heading level0 col7\" >False Discovery Rate Disparity</th>        <th class=\"col_heading level0 col8\" >False Negative Rate Disparity</th>        <th class=\"col_heading level0 col9\" >False Omissions Rate Disparity</th>    </tr></thead><tbody>\n",
       "                <tr>\n",
       "                        <th id=\"T_89856088_d00b_11e9_81dd_9fb0b7a75afdlevel0_row0\" class=\"row_heading level0 row0\" >F</th>\n",
       "                        <td id=\"T_89856088_d00b_11e9_81dd_9fb0b7a75afdrow0_col0\" class=\"data row0 col0\" >0.891961</td>\n",
       "                        <td id=\"T_89856088_d00b_11e9_81dd_9fb0b7a75afdrow0_col1\" class=\"data row0 col1\" >1.03085</td>\n",
       "                        <td id=\"T_89856088_d00b_11e9_81dd_9fb0b7a75afdrow0_col2\" class=\"data row0 col2\" >0.995154</td>\n",
       "                        <td id=\"T_89856088_d00b_11e9_81dd_9fb0b7a75afdrow0_col3\" class=\"data row0 col3\" >0.922882</td>\n",
       "                        <td id=\"T_89856088_d00b_11e9_81dd_9fb0b7a75afdrow0_col4\" class=\"data row0 col4\" >1.02693</td>\n",
       "                        <td id=\"T_89856088_d00b_11e9_81dd_9fb0b7a75afdrow0_col5\" class=\"data row0 col5\" >1.03347</td>\n",
       "                        <td id=\"T_89856088_d00b_11e9_81dd_9fb0b7a75afdrow0_col6\" class=\"data row0 col6\" >0.904659</td>\n",
       "                        <td id=\"T_89856088_d00b_11e9_81dd_9fb0b7a75afdrow0_col7\" class=\"data row0 col7\" >1.07282</td>\n",
       "                        <td id=\"T_89856088_d00b_11e9_81dd_9fb0b7a75afdrow0_col8\" class=\"data row0 col8\" >1.00798</td>\n",
       "                        <td id=\"T_89856088_d00b_11e9_81dd_9fb0b7a75afdrow0_col9\" class=\"data row0 col9\" >0.793276</td>\n",
       "            </tr>\n",
       "            <tr>\n",
       "                        <th id=\"T_89856088_d00b_11e9_81dd_9fb0b7a75afdlevel0_row1\" class=\"row_heading level0 row1\" >M</th>\n",
       "                        <td id=\"T_89856088_d00b_11e9_81dd_9fb0b7a75afdrow1_col0\" class=\"data row1 col0\" >1</td>\n",
       "                        <td id=\"T_89856088_d00b_11e9_81dd_9fb0b7a75afdrow1_col1\" class=\"data row1 col1\" >1</td>\n",
       "                        <td id=\"T_89856088_d00b_11e9_81dd_9fb0b7a75afdrow1_col2\" class=\"data row1 col2\" >1</td>\n",
       "                        <td id=\"T_89856088_d00b_11e9_81dd_9fb0b7a75afdrow1_col3\" class=\"data row1 col3\" >1</td>\n",
       "                        <td id=\"T_89856088_d00b_11e9_81dd_9fb0b7a75afdrow1_col4\" class=\"data row1 col4\" >1</td>\n",
       "                        <td id=\"T_89856088_d00b_11e9_81dd_9fb0b7a75afdrow1_col5\" class=\"data row1 col5\" >1</td>\n",
       "                        <td id=\"T_89856088_d00b_11e9_81dd_9fb0b7a75afdrow1_col6\" class=\"data row1 col6\" >1</td>\n",
       "                        <td id=\"T_89856088_d00b_11e9_81dd_9fb0b7a75afdrow1_col7\" class=\"data row1 col7\" >1</td>\n",
       "                        <td id=\"T_89856088_d00b_11e9_81dd_9fb0b7a75afdrow1_col8\" class=\"data row1 col8\" >1</td>\n",
       "                        <td id=\"T_89856088_d00b_11e9_81dd_9fb0b7a75afdrow1_col9\" class=\"data row1 col9\" >1</td>\n",
       "            </tr>\n",
       "    </tbody></table>"
      ],
      "text/plain": [
       "<pandas.io.formats.style.Styler at 0x7f40e45ae2b0>"
      ]
     },
     "execution_count": 44,
     "metadata": {},
     "output_type": "execute_result"
    }
   ],
   "source": [
    "ref_level = 'M' # user-defined reference level\n",
    "\n",
    "parity_threshold_low = 0.8    # user-defined low threshold value\n",
    "parity_threshold_hi = 1.25    # user-defined high threshold value\n",
    "\n",
    "# init frame to store disparity measures\n",
    "disp_frame = pd.DataFrame(index=sex_levels)\n",
    "\n",
    "# compare all metrics to reference level\n",
    "disp_frame = metrics_frame/metrics_frame.loc[ref_level, :]\n",
    "\n",
    "# change column names\n",
    "disp_frame.columns=[col + ' Disparity' for col in metrics_frame.columns]\n",
    "\n",
    "# small utility function to format pandas table output\n",
    "def disparate_red(val):\n",
    "    \n",
    "    color = 'blue' if (parity_threshold_low < val < parity_threshold_hi) else 'red'\n",
    "    return 'color: %s' % color \n",
    "\n",
    "# display results\n",
    "disp_frame.style.applymap(disparate_red)"
   ]
  },
  {
   "cell_type": "markdown",
   "metadata": {},
   "source": [
    "For the selected thresholds, the GBM appears to have only one value for metrics that is low out-of-range, false positive rate. According to the more common and accepted test of `0.8 < Adverse Impact Disparity < 1.25` this model could be considered to be free from disparate impact w.r.t to `SEX`. \n",
    "\n",
    "#### Plot false positive rate disparity"
   ]
  },
  {
   "cell_type": "code",
   "execution_count": 45,
   "metadata": {},
   "outputs": [
    {
     "data": {
      "image/png": "[encoded data removed]",
      "text/plain": [
       "<Figure size 432x288 with 1 Axes>"
      ]
     },
     "metadata": {
      "needs_background": "light"
     },
     "output_type": "display_data"
    }
   ],
   "source": [
    "ax = disp_frame['False Positive Rate Disparity'].plot(kind='bar', color='b', title='False Positive Rate Disparity')\n",
    "_ = ax.axhline(parity_threshold_low, color='r', linestyle='--')\n",
    "_ = ax.axhline(parity_threshold_hi, color='r', linestyle='--')"
   ]
  },
  {
   "cell_type": "markdown",
   "metadata": {},
   "source": [
    "#### Assess and report parity\n",
    "A binary indication of parity for metrics is reported by simply checking whether disparity values are within the user-defined thresholds. Further parity indicators are defined as combinations of other disparity values:\n",
    "\n",
    "* Type I Parity: Fairness in both FDR Parity and FPR Parity\n",
    "* Type II Parity: Fairness in both FOR Parity and FNR Parity\n",
    "* Equalized Odds: Fairness in both FPR Parity and TPR Parity\n",
    "* Supervised Fairness: Fairness in both Type I and Type II Parity\n",
    "* Overall Fairness: Fairness across all parities for all metrics"
   ]
  },
  {
   "cell_type": "code",
   "execution_count": 46,
   "metadata": {},
   "outputs": [
    {
     "data": {
      "text/html": [
       "<style  type=\"text/css\" >\n",
       "    #T_9548c8ce_d00b_11e9_81dd_9fb0b7a75afdrow0_col0 {\n",
       "            color:  blue;\n",
       "        }    #T_9548c8ce_d00b_11e9_81dd_9fb0b7a75afdrow0_col1 {\n",
       "            color:  blue;\n",
       "        }    #T_9548c8ce_d00b_11e9_81dd_9fb0b7a75afdrow0_col2 {\n",
       "            color:  blue;\n",
       "        }    #T_9548c8ce_d00b_11e9_81dd_9fb0b7a75afdrow0_col3 {\n",
       "            color:  blue;\n",
       "        }    #T_9548c8ce_d00b_11e9_81dd_9fb0b7a75afdrow0_col4 {\n",
       "            color:  blue;\n",
       "        }    #T_9548c8ce_d00b_11e9_81dd_9fb0b7a75afdrow0_col5 {\n",
       "            color:  blue;\n",
       "        }    #T_9548c8ce_d00b_11e9_81dd_9fb0b7a75afdrow0_col6 {\n",
       "            color:  blue;\n",
       "        }    #T_9548c8ce_d00b_11e9_81dd_9fb0b7a75afdrow0_col7 {\n",
       "            color:  blue;\n",
       "        }    #T_9548c8ce_d00b_11e9_81dd_9fb0b7a75afdrow0_col8 {\n",
       "            color:  blue;\n",
       "        }    #T_9548c8ce_d00b_11e9_81dd_9fb0b7a75afdrow0_col9 {\n",
       "            color:  red;\n",
       "        }    #T_9548c8ce_d00b_11e9_81dd_9fb0b7a75afdrow0_col10 {\n",
       "            color:  blue;\n",
       "        }    #T_9548c8ce_d00b_11e9_81dd_9fb0b7a75afdrow0_col11 {\n",
       "            color:  red;\n",
       "        }    #T_9548c8ce_d00b_11e9_81dd_9fb0b7a75afdrow0_col12 {\n",
       "            color:  blue;\n",
       "        }    #T_9548c8ce_d00b_11e9_81dd_9fb0b7a75afdrow0_col13 {\n",
       "            color:  red;\n",
       "        }    #T_9548c8ce_d00b_11e9_81dd_9fb0b7a75afdrow0_col14 {\n",
       "            color:  red;\n",
       "        }    #T_9548c8ce_d00b_11e9_81dd_9fb0b7a75afdrow1_col0 {\n",
       "            color:  blue;\n",
       "        }    #T_9548c8ce_d00b_11e9_81dd_9fb0b7a75afdrow1_col1 {\n",
       "            color:  blue;\n",
       "        }    #T_9548c8ce_d00b_11e9_81dd_9fb0b7a75afdrow1_col2 {\n",
       "            color:  blue;\n",
       "        }    #T_9548c8ce_d00b_11e9_81dd_9fb0b7a75afdrow1_col3 {\n",
       "            color:  blue;\n",
       "        }    #T_9548c8ce_d00b_11e9_81dd_9fb0b7a75afdrow1_col4 {\n",
       "            color:  blue;\n",
       "        }    #T_9548c8ce_d00b_11e9_81dd_9fb0b7a75afdrow1_col5 {\n",
       "            color:  blue;\n",
       "        }    #T_9548c8ce_d00b_11e9_81dd_9fb0b7a75afdrow1_col6 {\n",
       "            color:  blue;\n",
       "        }    #T_9548c8ce_d00b_11e9_81dd_9fb0b7a75afdrow1_col7 {\n",
       "            color:  blue;\n",
       "        }    #T_9548c8ce_d00b_11e9_81dd_9fb0b7a75afdrow1_col8 {\n",
       "            color:  blue;\n",
       "        }    #T_9548c8ce_d00b_11e9_81dd_9fb0b7a75afdrow1_col9 {\n",
       "            color:  blue;\n",
       "        }    #T_9548c8ce_d00b_11e9_81dd_9fb0b7a75afdrow1_col10 {\n",
       "            color:  blue;\n",
       "        }    #T_9548c8ce_d00b_11e9_81dd_9fb0b7a75afdrow1_col11 {\n",
       "            color:  blue;\n",
       "        }    #T_9548c8ce_d00b_11e9_81dd_9fb0b7a75afdrow1_col12 {\n",
       "            color:  blue;\n",
       "        }    #T_9548c8ce_d00b_11e9_81dd_9fb0b7a75afdrow1_col13 {\n",
       "            color:  blue;\n",
       "        }    #T_9548c8ce_d00b_11e9_81dd_9fb0b7a75afdrow1_col14 {\n",
       "            color:  blue;\n",
       "        }    #T_9548c8ce_d00b_11e9_81dd_9fb0b7a75afdrow2_col0 {\n",
       "            color:  blue;\n",
       "        }    #T_9548c8ce_d00b_11e9_81dd_9fb0b7a75afdrow2_col1 {\n",
       "            color:  blue;\n",
       "        }    #T_9548c8ce_d00b_11e9_81dd_9fb0b7a75afdrow2_col2 {\n",
       "            color:  blue;\n",
       "        }    #T_9548c8ce_d00b_11e9_81dd_9fb0b7a75afdrow2_col3 {\n",
       "            color:  blue;\n",
       "        }    #T_9548c8ce_d00b_11e9_81dd_9fb0b7a75afdrow2_col4 {\n",
       "            color:  blue;\n",
       "        }    #T_9548c8ce_d00b_11e9_81dd_9fb0b7a75afdrow2_col5 {\n",
       "            color:  blue;\n",
       "        }    #T_9548c8ce_d00b_11e9_81dd_9fb0b7a75afdrow2_col6 {\n",
       "            color:  blue;\n",
       "        }    #T_9548c8ce_d00b_11e9_81dd_9fb0b7a75afdrow2_col7 {\n",
       "            color:  blue;\n",
       "        }    #T_9548c8ce_d00b_11e9_81dd_9fb0b7a75afdrow2_col8 {\n",
       "            color:  blue;\n",
       "        }    #T_9548c8ce_d00b_11e9_81dd_9fb0b7a75afdrow2_col9 {\n",
       "            color:  red;\n",
       "        }    #T_9548c8ce_d00b_11e9_81dd_9fb0b7a75afdrow2_col10 {\n",
       "            color:  blue;\n",
       "        }    #T_9548c8ce_d00b_11e9_81dd_9fb0b7a75afdrow2_col11 {\n",
       "            color:  red;\n",
       "        }    #T_9548c8ce_d00b_11e9_81dd_9fb0b7a75afdrow2_col12 {\n",
       "            color:  blue;\n",
       "        }    #T_9548c8ce_d00b_11e9_81dd_9fb0b7a75afdrow2_col13 {\n",
       "            color:  red;\n",
       "        }    #T_9548c8ce_d00b_11e9_81dd_9fb0b7a75afdrow2_col14 {\n",
       "            color:  red;\n",
       "        }</style><table id=\"T_9548c8ce_d00b_11e9_81dd_9fb0b7a75afd\" ><thead>    <tr>        <th class=\"blank level0\" ></th>        <th class=\"col_heading level0 col0\" >Adverse Impact Parity</th>        <th class=\"col_heading level0 col1\" >Accuracy Parity</th>        <th class=\"col_heading level0 col2\" >True Positive Rate Parity</th>        <th class=\"col_heading level0 col3\" >Precision Parity</th>        <th class=\"col_heading level0 col4\" >Specificity Parity</th>        <th class=\"col_heading level0 col5\" >Negative Predicted Value Parity</th>        <th class=\"col_heading level0 col6\" >False Positive Rate Parity</th>        <th class=\"col_heading level0 col7\" >False Discovery Rate Parity</th>        <th class=\"col_heading level0 col8\" >False Negative Rate Parity</th>        <th class=\"col_heading level0 col9\" >False Omissions Rate Parity</th>        <th class=\"col_heading level0 col10\" >Type I Parity</th>        <th class=\"col_heading level0 col11\" >Type II Parity</th>        <th class=\"col_heading level0 col12\" >Equalized Odds</th>        <th class=\"col_heading level0 col13\" >Supervised Fairness</th>        <th class=\"col_heading level0 col14\" >Overall Fairness</th>    </tr></thead><tbody>\n",
       "                <tr>\n",
       "                        <th id=\"T_9548c8ce_d00b_11e9_81dd_9fb0b7a75afdlevel0_row0\" class=\"row_heading level0 row0\" >F</th>\n",
       "                        <td id=\"T_9548c8ce_d00b_11e9_81dd_9fb0b7a75afdrow0_col0\" class=\"data row0 col0\" >True</td>\n",
       "                        <td id=\"T_9548c8ce_d00b_11e9_81dd_9fb0b7a75afdrow0_col1\" class=\"data row0 col1\" >True</td>\n",
       "                        <td id=\"T_9548c8ce_d00b_11e9_81dd_9fb0b7a75afdrow0_col2\" class=\"data row0 col2\" >True</td>\n",
       "                        <td id=\"T_9548c8ce_d00b_11e9_81dd_9fb0b7a75afdrow0_col3\" class=\"data row0 col3\" >True</td>\n",
       "                        <td id=\"T_9548c8ce_d00b_11e9_81dd_9fb0b7a75afdrow0_col4\" class=\"data row0 col4\" >True</td>\n",
       "                        <td id=\"T_9548c8ce_d00b_11e9_81dd_9fb0b7a75afdrow0_col5\" class=\"data row0 col5\" >True</td>\n",
       "                        <td id=\"T_9548c8ce_d00b_11e9_81dd_9fb0b7a75afdrow0_col6\" class=\"data row0 col6\" >True</td>\n",
       "                        <td id=\"T_9548c8ce_d00b_11e9_81dd_9fb0b7a75afdrow0_col7\" class=\"data row0 col7\" >True</td>\n",
       "                        <td id=\"T_9548c8ce_d00b_11e9_81dd_9fb0b7a75afdrow0_col8\" class=\"data row0 col8\" >True</td>\n",
       "                        <td id=\"T_9548c8ce_d00b_11e9_81dd_9fb0b7a75afdrow0_col9\" class=\"data row0 col9\" >False</td>\n",
       "                        <td id=\"T_9548c8ce_d00b_11e9_81dd_9fb0b7a75afdrow0_col10\" class=\"data row0 col10\" >True</td>\n",
       "                        <td id=\"T_9548c8ce_d00b_11e9_81dd_9fb0b7a75afdrow0_col11\" class=\"data row0 col11\" >False</td>\n",
       "                        <td id=\"T_9548c8ce_d00b_11e9_81dd_9fb0b7a75afdrow0_col12\" class=\"data row0 col12\" >True</td>\n",
       "                        <td id=\"T_9548c8ce_d00b_11e9_81dd_9fb0b7a75afdrow0_col13\" class=\"data row0 col13\" >False</td>\n",
       "                        <td id=\"T_9548c8ce_d00b_11e9_81dd_9fb0b7a75afdrow0_col14\" class=\"data row0 col14\" >False</td>\n",
       "            </tr>\n",
       "            <tr>\n",
       "                        <th id=\"T_9548c8ce_d00b_11e9_81dd_9fb0b7a75afdlevel0_row1\" class=\"row_heading level0 row1\" >M</th>\n",
       "                        <td id=\"T_9548c8ce_d00b_11e9_81dd_9fb0b7a75afdrow1_col0\" class=\"data row1 col0\" >True</td>\n",
       "                        <td id=\"T_9548c8ce_d00b_11e9_81dd_9fb0b7a75afdrow1_col1\" class=\"data row1 col1\" >True</td>\n",
       "                        <td id=\"T_9548c8ce_d00b_11e9_81dd_9fb0b7a75afdrow1_col2\" class=\"data row1 col2\" >True</td>\n",
       "                        <td id=\"T_9548c8ce_d00b_11e9_81dd_9fb0b7a75afdrow1_col3\" class=\"data row1 col3\" >True</td>\n",
       "                        <td id=\"T_9548c8ce_d00b_11e9_81dd_9fb0b7a75afdrow1_col4\" class=\"data row1 col4\" >True</td>\n",
       "                        <td id=\"T_9548c8ce_d00b_11e9_81dd_9fb0b7a75afdrow1_col5\" class=\"data row1 col5\" >True</td>\n",
       "                        <td id=\"T_9548c8ce_d00b_11e9_81dd_9fb0b7a75afdrow1_col6\" class=\"data row1 col6\" >True</td>\n",
       "                        <td id=\"T_9548c8ce_d00b_11e9_81dd_9fb0b7a75afdrow1_col7\" class=\"data row1 col7\" >True</td>\n",
       "                        <td id=\"T_9548c8ce_d00b_11e9_81dd_9fb0b7a75afdrow1_col8\" class=\"data row1 col8\" >True</td>\n",
       "                        <td id=\"T_9548c8ce_d00b_11e9_81dd_9fb0b7a75afdrow1_col9\" class=\"data row1 col9\" >True</td>\n",
       "                        <td id=\"T_9548c8ce_d00b_11e9_81dd_9fb0b7a75afdrow1_col10\" class=\"data row1 col10\" >True</td>\n",
       "                        <td id=\"T_9548c8ce_d00b_11e9_81dd_9fb0b7a75afdrow1_col11\" class=\"data row1 col11\" >True</td>\n",
       "                        <td id=\"T_9548c8ce_d00b_11e9_81dd_9fb0b7a75afdrow1_col12\" class=\"data row1 col12\" >True</td>\n",
       "                        <td id=\"T_9548c8ce_d00b_11e9_81dd_9fb0b7a75afdrow1_col13\" class=\"data row1 col13\" >True</td>\n",
       "                        <td id=\"T_9548c8ce_d00b_11e9_81dd_9fb0b7a75afdrow1_col14\" class=\"data row1 col14\" >True</td>\n",
       "            </tr>\n",
       "            <tr>\n",
       "                        <th id=\"T_9548c8ce_d00b_11e9_81dd_9fb0b7a75afdlevel0_row2\" class=\"row_heading level0 row2\" >all</th>\n",
       "                        <td id=\"T_9548c8ce_d00b_11e9_81dd_9fb0b7a75afdrow2_col0\" class=\"data row2 col0\" >True</td>\n",
       "                        <td id=\"T_9548c8ce_d00b_11e9_81dd_9fb0b7a75afdrow2_col1\" class=\"data row2 col1\" >True</td>\n",
       "                        <td id=\"T_9548c8ce_d00b_11e9_81dd_9fb0b7a75afdrow2_col2\" class=\"data row2 col2\" >True</td>\n",
       "                        <td id=\"T_9548c8ce_d00b_11e9_81dd_9fb0b7a75afdrow2_col3\" class=\"data row2 col3\" >True</td>\n",
       "                        <td id=\"T_9548c8ce_d00b_11e9_81dd_9fb0b7a75afdrow2_col4\" class=\"data row2 col4\" >True</td>\n",
       "                        <td id=\"T_9548c8ce_d00b_11e9_81dd_9fb0b7a75afdrow2_col5\" class=\"data row2 col5\" >True</td>\n",
       "                        <td id=\"T_9548c8ce_d00b_11e9_81dd_9fb0b7a75afdrow2_col6\" class=\"data row2 col6\" >True</td>\n",
       "                        <td id=\"T_9548c8ce_d00b_11e9_81dd_9fb0b7a75afdrow2_col7\" class=\"data row2 col7\" >True</td>\n",
       "                        <td id=\"T_9548c8ce_d00b_11e9_81dd_9fb0b7a75afdrow2_col8\" class=\"data row2 col8\" >True</td>\n",
       "                        <td id=\"T_9548c8ce_d00b_11e9_81dd_9fb0b7a75afdrow2_col9\" class=\"data row2 col9\" >False</td>\n",
       "                        <td id=\"T_9548c8ce_d00b_11e9_81dd_9fb0b7a75afdrow2_col10\" class=\"data row2 col10\" >True</td>\n",
       "                        <td id=\"T_9548c8ce_d00b_11e9_81dd_9fb0b7a75afdrow2_col11\" class=\"data row2 col11\" >False</td>\n",
       "                        <td id=\"T_9548c8ce_d00b_11e9_81dd_9fb0b7a75afdrow2_col12\" class=\"data row2 col12\" >True</td>\n",
       "                        <td id=\"T_9548c8ce_d00b_11e9_81dd_9fb0b7a75afdrow2_col13\" class=\"data row2 col13\" >False</td>\n",
       "                        <td id=\"T_9548c8ce_d00b_11e9_81dd_9fb0b7a75afdrow2_col14\" class=\"data row2 col14\" >False</td>\n",
       "            </tr>\n",
       "    </tbody></table>"
      ],
      "text/plain": [
       "<pandas.io.formats.style.Styler at 0x7f40e0610f60>"
      ]
     },
     "execution_count": 46,
     "metadata": {},
     "output_type": "execute_result"
    }
   ],
   "source": [
    "# parity checks\n",
    "# low_threshold (0.8) < *_metric/white_metric < (high_threshold) 1.25 => parity, else disparity \n",
    "\n",
    "# init frame for parity\n",
    "par_frame = pd.DataFrame(index=sex_levels, \n",
    "                         columns=[col + ' Parity' for col in metrics_frame.columns])\n",
    "# nested loop through: \n",
    "# - races\n",
    "# - disparity metrics\n",
    "for i, _ in enumerate(sex_levels):\n",
    "    for j, _ in enumerate(par_frame.columns):\n",
    "        par_frame.iat[i, j] = (parity_threshold_low < disp_frame.iat[i, j] < parity_threshold_hi)\n",
    "\n",
    "# add overall parity checks\n",
    "# Type I Parity: Fairness in both FDR Parity and FPR Parity\n",
    "# Type II Parity: Fairness in both FOR Parity and FNR Parity\n",
    "# Equalized Odds: Fairness in both FPR Parity and TPR Parity\n",
    "# Supervised Fairness: Fairness in both Type I and Type II Parity\n",
    "# Overall Fairness: Fairness across all parities for all metrics\n",
    "par_frame['Type I Parity'] = (par_frame['False Discovery Rate Parity']) & (par_frame['False Positive Rate Parity'])\n",
    "par_frame['Type II Parity'] = (par_frame['False Omissions Rate Parity']) & (par_frame['False Negative Rate Parity'])\n",
    "par_frame['Equalized Odds'] = (par_frame['False Positive Rate Parity']) & (par_frame['True Positive Rate Parity'])\n",
    "par_frame['Supervised Fairness'] = (par_frame['Type I Parity']) & (par_frame['Type II Parity'])\n",
    "par_frame['Overall Fairness'] = par_frame.all(axis='columns')\n",
    "par_frame.loc['all', :] = par_frame.all(axis='index')\n",
    "    \n",
    "# small utility function to format pandas table output    \n",
    "def color_false_red(val):\n",
    "\n",
    "    color = 'red' if not val else 'blue'\n",
    "    return 'color: %s' % color \n",
    "    \n",
    "par_frame.style.applymap(color_false_red)"
   ]
  },
  {
   "cell_type": "markdown",
   "metadata": {},
   "source": [
    "Importantly, the GBM appears to have adverse impact parity, and many other types of positive parity characteristics. However, the model is still suffering from a minor disparity problem due to it's propensity to make false positive predictions. To address such disparate impact users could tune the GBM cutoff or regularization, could try new methods for reweighing data prior to model training, try new modeling methods specifically designed for fairness, or post-process the decisions. Before attempting remediation, local or individual fairness will also be investigated.\n",
    "\n",
    "## 7. Investigate Individual Disparity \n",
    "\n",
    "In nonlinear models, similar people can be treated differenly by the model, so even if the model is mostly fair for most kinds of people, there could still be people the model treated unfairly. This could occur for multiple reasons, including the functional form of the learned model or because different variables are combined by the model to represent strong signals. If a variable is important in a dataset, model, or problem domain it's likely that a nonlinear model will find combinations of other variables to act as proxies for the problematic variable -- potentially even different combinations for different rows of data! So by simply testing for group fairness, you may miss instances of individual discrimination.\n",
    "\n",
    "#### Augment predictions with decisions and logloss residuals for women with false positive predictions\n",
    "In this notebook, residuals for false positive predictions for women will be examined in an attempt to locate any individual instances of model discrimination."
   ]
  },
  {
   "cell_type": "code",
   "execution_count": 47,
   "metadata": {},
   "outputs": [],
   "source": [
    "test_yhat_female = test_yhat[test_yhat['Sex'] == 'F'].copy(deep=True)\n",
    "\n",
    "\n",
    "test_yhat_female['d_Default'] = 0\n",
    "test_yhat_female.loc[test_yhat_female[yhat] > best_cut, 'd_Default'] = 1\n",
    "\n",
    "test_yhat_female['r_Default'] = -test_yhat_female[y]*np.log(test_yhat_female[yhat]) -\\\n",
    "                       (1 - test_yhat_female[y])*np.log(1 - test_yhat_female[yhat]) \n",
    "    \n",
    "test_yhat_female_fp = test_yhat_female[(test_yhat_female[y] == 0) &\\\n",
    "                                       (test_yhat_female['d_Default'] == 1)]"
   ]
  },
  {
   "cell_type": "markdown",
   "metadata": {},
   "source": [
    "#### Plot logloss residuals\n",
    "There are clear high-magnitude outliers in the logloss residuals for women who were issued false positive predictions. Given that those people were the people the model was most wrong about, those predictions will be checked first, just in case something very strange happened."
   ]
  },
  {
   "cell_type": "code",
   "execution_count": 48,
   "metadata": {},
   "outputs": [
    {
     "name": "stderr",
     "output_type": "stream",
     "text": [
      "WARNING:matplotlib.legend:No handles with labels found to put in legend.\n"
     ]
    },
    {
     "data": {
      "image/png": "[encoded data removed]",
      "text/plain": [
       "<Figure size 576x576 with 1 Axes>"
      ]
     },
     "metadata": {
      "needs_background": "light"
     },
     "output_type": "display_data"
    }
   ],
   "source": [
    "# initialize figure\n",
    "fig, ax_ = plt.subplots(figsize=(8, 8))         \n",
    "\n",
    "ax_.plot(test_yhat_female_fp[yhat],\n",
    "         test_yhat_female_fp['r_Default'],\n",
    "         marker='o', linestyle='', alpha=0.3)\n",
    "\n",
    "# annotate plot\n",
    "_ = plt.xlabel(yhat)\n",
    "_ = plt.ylabel('r_Default')\n",
    "_ = ax_.legend(loc=4)\n",
    "_ = plt.title('Logloss Residuals')"
   ]
  },
  {
   "cell_type": "markdown",
   "metadata": {},
   "source": [
    "#### Examine top 3 outlying individuals"
   ]
  },
  {
   "cell_type": "code",
   "execution_count": 49,
   "metadata": {},
   "outputs": [
    {
     "data": {
      "text/html": [
       "<div>\n",
       "<style scoped>\n",
       "    .dataframe tbody tr th:only-of-type {\n",
       "        vertical-align: middle;\n",
       "    }\n",
       "\n",
       "    .dataframe tbody tr th {\n",
       "        vertical-align: top;\n",
       "    }\n",
       "\n",
       "    .dataframe thead th {\n",
       "        text-align: right;\n",
       "    }\n",
       "</style>\n",
       "<table border=\"1\" class=\"dataframe\">\n",
       "  <thead>\n",
       "    <tr style=\"text-align: right;\">\n",
       "      <th></th>\n",
       "      <th>ID</th>\n",
       "      <th>CreditLimit</th>\n",
       "      <th>Sex</th>\n",
       "      <th>Education</th>\n",
       "      <th>Marriage</th>\n",
       "      <th>Age</th>\n",
       "      <th>Status1</th>\n",
       "      <th>Status2</th>\n",
       "      <th>Status3</th>\n",
       "      <th>Status4</th>\n",
       "      <th>Status5</th>\n",
       "      <th>Status6</th>\n",
       "      <th>BillAmt1</th>\n",
       "      <th>BillAmt2</th>\n",
       "      <th>BillAmt3</th>\n",
       "      <th>BillAmt4</th>\n",
       "      <th>BillAmt5</th>\n",
       "      <th>BillAmt6</th>\n",
       "      <th>PayAmt1</th>\n",
       "      <th>PayAmt2</th>\n",
       "      <th>PayAmt3</th>\n",
       "      <th>PayAmt4</th>\n",
       "      <th>PayAmt5</th>\n",
       "      <th>PayAmt6</th>\n",
       "      <th>Default</th>\n",
       "      <th>p_Default</th>\n",
       "      <th>d_Default</th>\n",
       "      <th>r_Default</th>\n",
       "    </tr>\n",
       "  </thead>\n",
       "  <tbody>\n",
       "    <tr>\n",
       "      <td>1760</td>\n",
       "      <td>5916</td>\n",
       "      <td>110000</td>\n",
       "      <td>F</td>\n",
       "      <td>1</td>\n",
       "      <td>M</td>\n",
       "      <td>41</td>\n",
       "      <td>1</td>\n",
       "      <td>2</td>\n",
       "      <td>3</td>\n",
       "      <td>4</td>\n",
       "      <td>5</td>\n",
       "      <td>6</td>\n",
       "      <td>150</td>\n",
       "      <td>150</td>\n",
       "      <td>150</td>\n",
       "      <td>150</td>\n",
       "      <td>150</td>\n",
       "      <td>150</td>\n",
       "      <td>0</td>\n",
       "      <td>0</td>\n",
       "      <td>0</td>\n",
       "      <td>0</td>\n",
       "      <td>0</td>\n",
       "      <td>0</td>\n",
       "      <td>0</td>\n",
       "      <td>0.905192</td>\n",
       "      <td>1</td>\n",
       "      <td>2.355904</td>\n",
       "    </tr>\n",
       "    <tr>\n",
       "      <td>5731</td>\n",
       "      <td>19316</td>\n",
       "      <td>110000</td>\n",
       "      <td>F</td>\n",
       "      <td>1</td>\n",
       "      <td>M</td>\n",
       "      <td>41</td>\n",
       "      <td>1</td>\n",
       "      <td>2</td>\n",
       "      <td>2</td>\n",
       "      <td>4</td>\n",
       "      <td>5</td>\n",
       "      <td>6</td>\n",
       "      <td>150</td>\n",
       "      <td>150</td>\n",
       "      <td>150</td>\n",
       "      <td>150</td>\n",
       "      <td>150</td>\n",
       "      <td>150</td>\n",
       "      <td>0</td>\n",
       "      <td>0</td>\n",
       "      <td>0</td>\n",
       "      <td>0</td>\n",
       "      <td>0</td>\n",
       "      <td>0</td>\n",
       "      <td>0</td>\n",
       "      <td>0.905192</td>\n",
       "      <td>1</td>\n",
       "      <td>2.355904</td>\n",
       "    </tr>\n",
       "    <tr>\n",
       "      <td>6755</td>\n",
       "      <td>22725</td>\n",
       "      <td>100000</td>\n",
       "      <td>F</td>\n",
       "      <td>2</td>\n",
       "      <td>M</td>\n",
       "      <td>38</td>\n",
       "      <td>1</td>\n",
       "      <td>2</td>\n",
       "      <td>2</td>\n",
       "      <td>3</td>\n",
       "      <td>3</td>\n",
       "      <td>3</td>\n",
       "      <td>750</td>\n",
       "      <td>750</td>\n",
       "      <td>750</td>\n",
       "      <td>750</td>\n",
       "      <td>750</td>\n",
       "      <td>750</td>\n",
       "      <td>0</td>\n",
       "      <td>0</td>\n",
       "      <td>0</td>\n",
       "      <td>0</td>\n",
       "      <td>0</td>\n",
       "      <td>1500</td>\n",
       "      <td>0</td>\n",
       "      <td>0.833741</td>\n",
       "      <td>1</td>\n",
       "      <td>1.794211</td>\n",
       "    </tr>\n",
       "  </tbody>\n",
       "</table>\n",
       "</div>"
      ],
      "text/plain": [
       "         ID  CreditLimit Sex  Education Marriage  Age  Status1  Status2  \\\n",
       "1760   5916       110000   F          1        M   41        1        2   \n",
       "5731  19316       110000   F          1        M   41        1        2   \n",
       "6755  22725       100000   F          2        M   38        1        2   \n",
       "\n",
       "      Status3  Status4  Status5  Status6  BillAmt1  BillAmt2  BillAmt3  \\\n",
       "1760        3        4        5        6       150       150       150   \n",
       "5731        2        4        5        6       150       150       150   \n",
       "6755        2        3        3        3       750       750       750   \n",
       "\n",
       "      BillAmt4  BillAmt5  BillAmt6  PayAmt1  PayAmt2  PayAmt3  PayAmt4  \\\n",
       "1760       150       150       150        0        0        0        0   \n",
       "5731       150       150       150        0        0        0        0   \n",
       "6755       750       750       750        0        0        0        0   \n",
       "\n",
       "      PayAmt5  PayAmt6  Default  p_Default  d_Default  r_Default  \n",
       "1760        0        0        0   0.905192          1   2.355904  \n",
       "5731        0        0        0   0.905192          1   2.355904  \n",
       "6755        0     1500        0   0.833741          1   1.794211  "
      ]
     },
     "execution_count": 49,
     "metadata": {},
     "output_type": "execute_result"
    }
   ],
   "source": [
    "test_yhat_female_fp.sort_values(by='r_Default', ascending=False).head(n=3)"
   ]
  },
  {
   "cell_type": "markdown",
   "metadata": {},
   "source": [
    "Looking at the top 3 highest residual predictions, it's clear these were customers with a horrible payment track record that somehow were able to make a last-minute payment. Although it's not possible to say they were not discrimated against by the model, it seems very clear that the model was justified to issue default predictions for these women. \n",
    "\n",
    "#### Adverse Action Notices \n",
    "Anyone that is denied further credit due to this model in the U.S. must be given reasons why. Shapley values provide a mechanism to rank the contributions of input variables to any given model decision and may be suitable for adverse action notice generation. Because the highest residual false positive female seems like a probable candidate to be rejected for further credit at some point, Shapley values can be used to say why according to this model."
   ]
  },
  {
   "cell_type": "code",
   "execution_count": 50,
   "metadata": {},
   "outputs": [
    {
     "name": "stdout",
     "output_type": "stream",
     "text": [
      "Sum of Shapley contributions and bias: 2.2562952984008007\n",
      "Model prediction in margin space: 2.2562965013571223\n"
     ]
    },
    {
     "data": {
      "image/png": "[encoded data removed]",
      "text/plain": [
       "<Figure size 432x288 with 1 Axes>"
      ]
     },
     "metadata": {
      "needs_background": "light"
     },
     "output_type": "display_data"
    }
   ],
   "source": [
    "# select highest residual female false positive\n",
    "row = test_yhat_female_fp.sort_values(by='r_Default', ascending=False).head(n=1)\n",
    "\n",
    "# search for her index in shap_values array\n",
    "# create Pandas DataFrame and plot\n",
    "s_df = pd.DataFrame(shap_values[row.index[0], :].reshape(len(X), 1), columns=['Reason Codes'], index=X)\n",
    "_ = s_df.sort_values(by='Reason Codes', ascending=False).plot(kind='bar', legend=False, \n",
    "                                                              title='Shapley Contributions to Predictions')\n",
    "\n",
    "# check that Shapley is locally accurate\n",
    "print('Sum of Shapley contributions and bias:', s_df.sum()[0] + contributions_matrix[0, -1])\n",
    "print('Model prediction in margin space:', np.log(row[yhat].values/(1 - row[yhat].values))[0])"
   ]
  },
  {
   "cell_type": "markdown",
   "metadata": {},
   "source": [
    "Combining the Shapley values with the individual's data values allows ranked reasons to be given for denial of credit:\n",
    "\n",
    "1. Two months late on most recent payment\n",
    "2. Two months late on second most recent payment\n",
    "3. Seven months late on sixth most recent payment\n",
    "\n",
    "Because monotonicity contraints were used during model training, these reasons should be consistent across all denial decisions meaning that no one who was denied credit would have a better value for an input variable than someone who was granted credit.\n",
    "\n",
    "#### Examine low logloss residual individuals\n",
    "\n",
    "Given that high-residual individuals were not clearly discriminated against, their low-residual counter parts could be interesting to investigate next."
   ]
  },
  {
   "cell_type": "code",
   "execution_count": 51,
   "metadata": {},
   "outputs": [
    {
     "data": {
      "text/html": [
       "<div>\n",
       "<style scoped>\n",
       "    .dataframe tbody tr th:only-of-type {\n",
       "        vertical-align: middle;\n",
       "    }\n",
       "\n",
       "    .dataframe tbody tr th {\n",
       "        vertical-align: top;\n",
       "    }\n",
       "\n",
       "    .dataframe thead th {\n",
       "        text-align: right;\n",
       "    }\n",
       "</style>\n",
       "<table border=\"1\" class=\"dataframe\">\n",
       "  <thead>\n",
       "    <tr style=\"text-align: right;\">\n",
       "      <th></th>\n",
       "      <th>ID</th>\n",
       "      <th>CreditLimit</th>\n",
       "      <th>Sex</th>\n",
       "      <th>Education</th>\n",
       "      <th>Marriage</th>\n",
       "      <th>Age</th>\n",
       "      <th>Status1</th>\n",
       "      <th>Status2</th>\n",
       "      <th>Status3</th>\n",
       "      <th>Status4</th>\n",
       "      <th>Status5</th>\n",
       "      <th>Status6</th>\n",
       "      <th>BillAmt1</th>\n",
       "      <th>BillAmt2</th>\n",
       "      <th>BillAmt3</th>\n",
       "      <th>BillAmt4</th>\n",
       "      <th>BillAmt5</th>\n",
       "      <th>BillAmt6</th>\n",
       "      <th>PayAmt1</th>\n",
       "      <th>PayAmt2</th>\n",
       "      <th>PayAmt3</th>\n",
       "      <th>PayAmt4</th>\n",
       "      <th>PayAmt5</th>\n",
       "      <th>PayAmt6</th>\n",
       "      <th>Default</th>\n",
       "      <th>p_Default</th>\n",
       "      <th>d_Default</th>\n",
       "      <th>r_Default</th>\n",
       "    </tr>\n",
       "  </thead>\n",
       "  <tbody>\n",
       "    <tr>\n",
       "      <td>6416</td>\n",
       "      <td>21585</td>\n",
       "      <td>20000</td>\n",
       "      <td>F</td>\n",
       "      <td>1</td>\n",
       "      <td>S</td>\n",
       "      <td>23</td>\n",
       "      <td>0</td>\n",
       "      <td>0</td>\n",
       "      <td>0</td>\n",
       "      <td>0</td>\n",
       "      <td>2</td>\n",
       "      <td>0</td>\n",
       "      <td>23809</td>\n",
       "      <td>24798</td>\n",
       "      <td>24258</td>\n",
       "      <td>24172</td>\n",
       "      <td>21959</td>\n",
       "      <td>20898</td>\n",
       "      <td>1700</td>\n",
       "      <td>1800</td>\n",
       "      <td>2350</td>\n",
       "      <td>0</td>\n",
       "      <td>1000</td>\n",
       "      <td>2700</td>\n",
       "      <td>0</td>\n",
       "      <td>0.190097</td>\n",
       "      <td>1</td>\n",
       "      <td>0.210841</td>\n",
       "    </tr>\n",
       "    <tr>\n",
       "      <td>5818</td>\n",
       "      <td>19599</td>\n",
       "      <td>50000</td>\n",
       "      <td>F</td>\n",
       "      <td>1</td>\n",
       "      <td>M</td>\n",
       "      <td>40</td>\n",
       "      <td>0</td>\n",
       "      <td>0</td>\n",
       "      <td>0</td>\n",
       "      <td>0</td>\n",
       "      <td>0</td>\n",
       "      <td>0</td>\n",
       "      <td>0</td>\n",
       "      <td>1470</td>\n",
       "      <td>0</td>\n",
       "      <td>0</td>\n",
       "      <td>591</td>\n",
       "      <td>426</td>\n",
       "      <td>1470</td>\n",
       "      <td>0</td>\n",
       "      <td>0</td>\n",
       "      <td>591</td>\n",
       "      <td>426</td>\n",
       "      <td>595</td>\n",
       "      <td>0</td>\n",
       "      <td>0.190334</td>\n",
       "      <td>1</td>\n",
       "      <td>0.211133</td>\n",
       "    </tr>\n",
       "    <tr>\n",
       "      <td>584</td>\n",
       "      <td>1900</td>\n",
       "      <td>50000</td>\n",
       "      <td>F</td>\n",
       "      <td>2</td>\n",
       "      <td>M</td>\n",
       "      <td>44</td>\n",
       "      <td>0</td>\n",
       "      <td>0</td>\n",
       "      <td>0</td>\n",
       "      <td>0</td>\n",
       "      <td>0</td>\n",
       "      <td>0</td>\n",
       "      <td>1473</td>\n",
       "      <td>390</td>\n",
       "      <td>390</td>\n",
       "      <td>390</td>\n",
       "      <td>390</td>\n",
       "      <td>0</td>\n",
       "      <td>390</td>\n",
       "      <td>390</td>\n",
       "      <td>390</td>\n",
       "      <td>390</td>\n",
       "      <td>0</td>\n",
       "      <td>780</td>\n",
       "      <td>0</td>\n",
       "      <td>0.190334</td>\n",
       "      <td>1</td>\n",
       "      <td>0.211133</td>\n",
       "    </tr>\n",
       "    <tr>\n",
       "      <td>4879</td>\n",
       "      <td>16414</td>\n",
       "      <td>30000</td>\n",
       "      <td>F</td>\n",
       "      <td>2</td>\n",
       "      <td>M</td>\n",
       "      <td>38</td>\n",
       "      <td>0</td>\n",
       "      <td>0</td>\n",
       "      <td>0</td>\n",
       "      <td>0</td>\n",
       "      <td>0</td>\n",
       "      <td>2</td>\n",
       "      <td>18971</td>\n",
       "      <td>20344</td>\n",
       "      <td>21705</td>\n",
       "      <td>22537</td>\n",
       "      <td>24161</td>\n",
       "      <td>25128</td>\n",
       "      <td>2000</td>\n",
       "      <td>2000</td>\n",
       "      <td>1500</td>\n",
       "      <td>2000</td>\n",
       "      <td>1500</td>\n",
       "      <td>0</td>\n",
       "      <td>0</td>\n",
       "      <td>0.190363</td>\n",
       "      <td>1</td>\n",
       "      <td>0.211169</td>\n",
       "    </tr>\n",
       "    <tr>\n",
       "      <td>5152</td>\n",
       "      <td>17331</td>\n",
       "      <td>30000</td>\n",
       "      <td>F</td>\n",
       "      <td>1</td>\n",
       "      <td>S</td>\n",
       "      <td>38</td>\n",
       "      <td>0</td>\n",
       "      <td>0</td>\n",
       "      <td>0</td>\n",
       "      <td>0</td>\n",
       "      <td>0</td>\n",
       "      <td>0</td>\n",
       "      <td>1232</td>\n",
       "      <td>764</td>\n",
       "      <td>1909</td>\n",
       "      <td>544</td>\n",
       "      <td>390</td>\n",
       "      <td>954</td>\n",
       "      <td>764</td>\n",
       "      <td>1920</td>\n",
       "      <td>544</td>\n",
       "      <td>390</td>\n",
       "      <td>954</td>\n",
       "      <td>1913</td>\n",
       "      <td>0</td>\n",
       "      <td>0.190502</td>\n",
       "      <td>1</td>\n",
       "      <td>0.211341</td>\n",
       "    </tr>\n",
       "    <tr>\n",
       "      <td>...</td>\n",
       "      <td>...</td>\n",
       "      <td>...</td>\n",
       "      <td>...</td>\n",
       "      <td>...</td>\n",
       "      <td>...</td>\n",
       "      <td>...</td>\n",
       "      <td>...</td>\n",
       "      <td>...</td>\n",
       "      <td>...</td>\n",
       "      <td>...</td>\n",
       "      <td>...</td>\n",
       "      <td>...</td>\n",
       "      <td>...</td>\n",
       "      <td>...</td>\n",
       "      <td>...</td>\n",
       "      <td>...</td>\n",
       "      <td>...</td>\n",
       "      <td>...</td>\n",
       "      <td>...</td>\n",
       "      <td>...</td>\n",
       "      <td>...</td>\n",
       "      <td>...</td>\n",
       "      <td>...</td>\n",
       "      <td>...</td>\n",
       "      <td>...</td>\n",
       "      <td>...</td>\n",
       "      <td>...</td>\n",
       "      <td>...</td>\n",
       "    </tr>\n",
       "    <tr>\n",
       "      <td>5603</td>\n",
       "      <td>18903</td>\n",
       "      <td>50000</td>\n",
       "      <td>F</td>\n",
       "      <td>2</td>\n",
       "      <td>M</td>\n",
       "      <td>28</td>\n",
       "      <td>0</td>\n",
       "      <td>0</td>\n",
       "      <td>0</td>\n",
       "      <td>2</td>\n",
       "      <td>0</td>\n",
       "      <td>0</td>\n",
       "      <td>1019</td>\n",
       "      <td>1672</td>\n",
       "      <td>836</td>\n",
       "      <td>836</td>\n",
       "      <td>836</td>\n",
       "      <td>1517</td>\n",
       "      <td>1672</td>\n",
       "      <td>836</td>\n",
       "      <td>0</td>\n",
       "      <td>836</td>\n",
       "      <td>1517</td>\n",
       "      <td>1394</td>\n",
       "      <td>0</td>\n",
       "      <td>0.229902</td>\n",
       "      <td>1</td>\n",
       "      <td>0.261238</td>\n",
       "    </tr>\n",
       "    <tr>\n",
       "      <td>6359</td>\n",
       "      <td>21401</td>\n",
       "      <td>220000</td>\n",
       "      <td>F</td>\n",
       "      <td>1</td>\n",
       "      <td>S</td>\n",
       "      <td>27</td>\n",
       "      <td>0</td>\n",
       "      <td>0</td>\n",
       "      <td>2</td>\n",
       "      <td>0</td>\n",
       "      <td>0</td>\n",
       "      <td>0</td>\n",
       "      <td>375</td>\n",
       "      <td>750</td>\n",
       "      <td>375</td>\n",
       "      <td>375</td>\n",
       "      <td>750</td>\n",
       "      <td>375</td>\n",
       "      <td>750</td>\n",
       "      <td>0</td>\n",
       "      <td>375</td>\n",
       "      <td>750</td>\n",
       "      <td>0</td>\n",
       "      <td>420</td>\n",
       "      <td>0</td>\n",
       "      <td>0.230358</td>\n",
       "      <td>1</td>\n",
       "      <td>0.261830</td>\n",
       "    </tr>\n",
       "    <tr>\n",
       "      <td>3629</td>\n",
       "      <td>12118</td>\n",
       "      <td>50000</td>\n",
       "      <td>F</td>\n",
       "      <td>2</td>\n",
       "      <td>M</td>\n",
       "      <td>49</td>\n",
       "      <td>0</td>\n",
       "      <td>0</td>\n",
       "      <td>2</td>\n",
       "      <td>0</td>\n",
       "      <td>0</td>\n",
       "      <td>0</td>\n",
       "      <td>48501</td>\n",
       "      <td>51105</td>\n",
       "      <td>39094</td>\n",
       "      <td>19476</td>\n",
       "      <td>19483</td>\n",
       "      <td>19634</td>\n",
       "      <td>3500</td>\n",
       "      <td>0</td>\n",
       "      <td>680</td>\n",
       "      <td>693</td>\n",
       "      <td>851</td>\n",
       "      <td>700</td>\n",
       "      <td>0</td>\n",
       "      <td>0.231341</td>\n",
       "      <td>1</td>\n",
       "      <td>0.263107</td>\n",
       "    </tr>\n",
       "    <tr>\n",
       "      <td>2805</td>\n",
       "      <td>9426</td>\n",
       "      <td>140000</td>\n",
       "      <td>F</td>\n",
       "      <td>2</td>\n",
       "      <td>M</td>\n",
       "      <td>45</td>\n",
       "      <td>0</td>\n",
       "      <td>0</td>\n",
       "      <td>0</td>\n",
       "      <td>2</td>\n",
       "      <td>2</td>\n",
       "      <td>2</td>\n",
       "      <td>55444</td>\n",
       "      <td>57549</td>\n",
       "      <td>60971</td>\n",
       "      <td>61374</td>\n",
       "      <td>63243</td>\n",
       "      <td>64554</td>\n",
       "      <td>3000</td>\n",
       "      <td>5000</td>\n",
       "      <td>2000</td>\n",
       "      <td>3000</td>\n",
       "      <td>2500</td>\n",
       "      <td>0</td>\n",
       "      <td>0</td>\n",
       "      <td>0.232169</td>\n",
       "      <td>1</td>\n",
       "      <td>0.264185</td>\n",
       "    </tr>\n",
       "    <tr>\n",
       "      <td>2967</td>\n",
       "      <td>9938</td>\n",
       "      <td>70000</td>\n",
       "      <td>F</td>\n",
       "      <td>2</td>\n",
       "      <td>S</td>\n",
       "      <td>29</td>\n",
       "      <td>0</td>\n",
       "      <td>0</td>\n",
       "      <td>2</td>\n",
       "      <td>0</td>\n",
       "      <td>0</td>\n",
       "      <td>0</td>\n",
       "      <td>4059</td>\n",
       "      <td>5791</td>\n",
       "      <td>208</td>\n",
       "      <td>4170</td>\n",
       "      <td>4563</td>\n",
       "      <td>5331</td>\n",
       "      <td>2000</td>\n",
       "      <td>0</td>\n",
       "      <td>4170</td>\n",
       "      <td>1000</td>\n",
       "      <td>1000</td>\n",
       "      <td>1000</td>\n",
       "      <td>0</td>\n",
       "      <td>0.232915</td>\n",
       "      <td>1</td>\n",
       "      <td>0.265158</td>\n",
       "    </tr>\n",
       "  </tbody>\n",
       "</table>\n",
       "<p>150 rows × 28 columns</p>\n",
       "</div>"
      ],
      "text/plain": [
       "         ID  CreditLimit Sex  Education Marriage  Age  Status1  Status2  \\\n",
       "6416  21585        20000   F          1        S   23        0        0   \n",
       "5818  19599        50000   F          1        M   40        0        0   \n",
       "584    1900        50000   F          2        M   44        0        0   \n",
       "4879  16414        30000   F          2        M   38        0        0   \n",
       "5152  17331        30000   F          1        S   38        0        0   \n",
       "...     ...          ...  ..        ...      ...  ...      ...      ...   \n",
       "5603  18903        50000   F          2        M   28        0        0   \n",
       "6359  21401       220000   F          1        S   27        0        0   \n",
       "3629  12118        50000   F          2        M   49        0        0   \n",
       "2805   9426       140000   F          2        M   45        0        0   \n",
       "2967   9938        70000   F          2        S   29        0        0   \n",
       "\n",
       "      Status3  Status4  Status5  Status6  BillAmt1  BillAmt2  BillAmt3  \\\n",
       "6416        0        0        2        0     23809     24798     24258   \n",
       "5818        0        0        0        0         0      1470         0   \n",
       "584         0        0        0        0      1473       390       390   \n",
       "4879        0        0        0        2     18971     20344     21705   \n",
       "5152        0        0        0        0      1232       764      1909   \n",
       "...       ...      ...      ...      ...       ...       ...       ...   \n",
       "5603        0        2        0        0      1019      1672       836   \n",
       "6359        2        0        0        0       375       750       375   \n",
       "3629        2        0        0        0     48501     51105     39094   \n",
       "2805        0        2        2        2     55444     57549     60971   \n",
       "2967        2        0        0        0      4059      5791       208   \n",
       "\n",
       "      BillAmt4  BillAmt5  BillAmt6  PayAmt1  PayAmt2  PayAmt3  PayAmt4  \\\n",
       "6416     24172     21959     20898     1700     1800     2350        0   \n",
       "5818         0       591       426     1470        0        0      591   \n",
       "584        390       390         0      390      390      390      390   \n",
       "4879     22537     24161     25128     2000     2000     1500     2000   \n",
       "5152       544       390       954      764     1920      544      390   \n",
       "...        ...       ...       ...      ...      ...      ...      ...   \n",
       "5603       836       836      1517     1672      836        0      836   \n",
       "6359       375       750       375      750        0      375      750   \n",
       "3629     19476     19483     19634     3500        0      680      693   \n",
       "2805     61374     63243     64554     3000     5000     2000     3000   \n",
       "2967      4170      4563      5331     2000        0     4170     1000   \n",
       "\n",
       "      PayAmt5  PayAmt6  Default  p_Default  d_Default  r_Default  \n",
       "6416     1000     2700        0   0.190097          1   0.210841  \n",
       "5818      426      595        0   0.190334          1   0.211133  \n",
       "584         0      780        0   0.190334          1   0.211133  \n",
       "4879     1500        0        0   0.190363          1   0.211169  \n",
       "5152      954     1913        0   0.190502          1   0.211341  \n",
       "...       ...      ...      ...        ...        ...        ...  \n",
       "5603     1517     1394        0   0.229902          1   0.261238  \n",
       "6359        0      420        0   0.230358          1   0.261830  \n",
       "3629      851      700        0   0.231341          1   0.263107  \n",
       "2805     2500        0        0   0.232169          1   0.264185  \n",
       "2967     1000     1000        0   0.232915          1   0.265158  \n",
       "\n",
       "[150 rows x 28 columns]"
      ]
     },
     "execution_count": 51,
     "metadata": {},
     "output_type": "execute_result"
    }
   ],
   "source": [
    "test_yhat_female_fp.sort_values(by='r_Default', ascending=True).head(n=150)"
   ]
  },
  {
   "cell_type": "markdown",
   "metadata": {},
   "source": [
    "Examing the low-residual false positives, it can be seen that perhaps the F1-selected cutoff is a bit too conservative. Many women just above the cutoff have missed 0-2 payments, and only been late 1-2 months on the fw payments they missed, if any. This potential bias problem can be remediated by increasing the cutoff in cell 14.\n",
    "\n",
    "#### Shutdown H2O\n",
    "After using h2o, it's typically best to shut it down. However, before doing so, users should ensure that they have saved any h2o data structures, such as models and H2OFrames, or scoring artifacts, such as POJOs and MOJOs."
   ]
  },
  {
   "cell_type": "code",
   "execution_count": 52,
   "metadata": {},
   "outputs": [
    {
     "name": "stdout",
     "output_type": "stream",
     "text": [
      "H2O session _sid_98b9 closed.\n"
     ]
    }
   ],
   "source": [
    "# be careful, this can erase your work!\n",
    "h2o.cluster().shutdown()"
   ]
  },
  {
   "cell_type": "markdown",
   "metadata": {},
   "source": [
    "#### Conclusion\n",
    "\n",
    "This notebook outlines a basic approach to DIA (and over-generalizes that phrase). In a complex, real-world machine learning project the hard-to-define phenomenas of sociological bias and unfairness can materialize in many ways and from many different sources. Although far from a flawless technique, the beauty of DIA is it is straightforward to implement, functions in a model-agnostic fashion on known labels and model predictions, and is applied in complex real-world fair lending situations, so it can probably be applied to your model too! \n",
    "\n",
    "Why risk being called out in the media for training an unfair model? Or why not investigate the monetary opportunity costs of type I errors and potential losses from type II errors? Why not do the right thing and investigate how your model treats people?"
   ]
  }
 ],
 "metadata": {
  "anaconda-cloud": {},
  "kernelspec": {
   "display_name": "Python 3",
   "language": "python",
   "name": "python3"
  },
  "language_info": {
   "codemirror_mode": {
    "name": "ipython",
    "version": 3
   },
   "file_extension": ".py",
   "mimetype": "text/x-python",
   "name": "python",
   "nbconvert_exporter": "python",
   "pygments_lexer": "ipython3",
   "version": "3.6.9"
  }
 },
 "nbformat": 4,
 "nbformat_minor": 2
}
