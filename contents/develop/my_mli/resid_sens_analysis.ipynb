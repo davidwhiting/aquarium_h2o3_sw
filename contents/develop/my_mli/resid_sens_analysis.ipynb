{
 "cells": [
  {
   "cell_type": "markdown",
   "metadata": {},
   "source": [
    "## License \n",
    "\n",
    "Copyright 2017 - 2019 Patrick Hall and the H2O.ai team\n",
    "\n",
    "Licensed under the Apache License, Version 2.0 (the \"License\");\n",
    "you may not use this file except in compliance with the License.\n",
    "You may obtain a copy of the License at\n",
    "\n",
    "    http://www.apache.org/licenses/LICENSE-2.0\n",
    "\n",
    "Unless required by applicable law or agreed to in writing, software\n",
    "distributed under the License is distributed on an \"AS IS\" BASIS,\n",
    "WITHOUT WARRANTIES OR CONDITIONS OF ANY KIND, either express or implied.\n",
    "See the License for the specific language governing permissions and\n",
    "limitations under the License.\n",
    "\n",
    "**DISCLAIMER:** This notebook is not legal compliance advice."
   ]
  },
  {
   "cell_type": "markdown",
   "metadata": {},
   "source": [
    "# Testing machine learning models for accuracy, trustworthiness, and stability with Python and H2O\n",
    "#### Performing residual analysis and sensitivity analysis to validate complex models\n",
    "\n",
    "This notebook provides a basic introduction to two traditional data analysis and model diagnostic techniques that can be applied to machine learning models: residual analysis and sensitivity analysis. The notebook starts by loading the UCI credit card default dataset and using h2o to train a GBM model to predict credit card defaults. Then, residual analysis is used to discover and debug an issue with the GBM, and the GBM is retrained and improved. The notebook concludes by conducting sensitivity analysis to test the GBM credit card default model for fairness and stability. \n",
    "\n",
    "#### Start H2O cluster\n",
    "\n",
    "The `os` commands below check whether this notebook is being run on the Aquarium platform. "
   ]
  },
  {
   "cell_type": "code",
   "execution_count": 1,
   "metadata": {},
   "outputs": [],
   "source": [
    "import os\n",
    "\n",
    "startup = '/home/h2o/bin/aquarium_startup'\n",
    "if os.path.exists(startup):\n",
    "    os.system(startup)\n",
    "    local_url = 'http://localhost:54321/h2o'\n",
    "    aquarium = True\n",
    "    !sleep 5\n",
    "else:\n",
    "    local_url = 'http://localhost:54321'\n",
    "    aquarium = False"
   ]
  },
  {
   "cell_type": "markdown",
   "metadata": {},
   "source": [
    "#### Python imports\n",
    "In general, NumPy and Pandas will be used for data manipulation purposes and h2o will be used for modeling tasks. "
   ]
  },
  {
   "cell_type": "code",
   "execution_count": 2,
   "metadata": {},
   "outputs": [],
   "source": [
    "# h2o Python API with specific classes\n",
    "import h2o \n",
    "from h2o.estimators.gbm import H2OGradientBoostingEstimator\n",
    "\n",
    "import numpy as np   # array, vector, matrix calculations\n",
    "import pandas as pd  # DataFrame handling\n",
    "\n",
    "pd.options.display.max_columns = 999 # enable display of all columns in notebook\n",
    "\n",
    "# plotting functionality\n",
    "import matplotlib.pyplot as plt\n",
    "import seaborn as sns\n",
    "\n",
    "# display plots in notebook\n",
    "%matplotlib inline"
   ]
  },
  {
   "cell_type": "markdown",
   "metadata": {},
   "source": [
    "#### Start h2o\n",
    "H2o is both a library and a server. The machine learning algorithms in the library take advantage of the multithreaded and distributed architecture provided by the server to train machine learning algorithms extremely efficiently. The API for the library was imported above in cell 2, but the server still needs to be started.\n",
    "\n",
    ">The parameters used in `h2o.init` will depend on your specific environment. Regardless of how H2O is installed, if you start a cluster, you will need to ensure that it is shut down when you are done."
   ]
  },
  {
   "cell_type": "code",
   "execution_count": 3,
   "metadata": {},
   "outputs": [
    {
     "name": "stdout",
     "output_type": "stream",
     "text": [
      "Checking whether there is an H2O instance running at http://localhost:54321/h2o . connected.\n"
     ]
    },
    {
     "data": {
      "text/html": [
       "<div style=\"overflow:auto\"><table style=\"width:50%\"><tr><td>H2O cluster uptime:</td>\n",
       "<td>26 secs</td></tr>\n",
       "<tr><td>H2O cluster timezone:</td>\n",
       "<td>Etc/UTC</td></tr>\n",
       "<tr><td>H2O data parsing timezone:</td>\n",
       "<td>UTC</td></tr>\n",
       "<tr><td>H2O cluster version:</td>\n",
       "<td>3.26.0.2</td></tr>\n",
       "<tr><td>H2O cluster version age:</td>\n",
       "<td>1 month and 10 days </td></tr>\n",
       "<tr><td>H2O cluster name:</td>\n",
       "<td>h2o</td></tr>\n",
       "<tr><td>H2O cluster total nodes:</td>\n",
       "<td>1</td></tr>\n",
       "<tr><td>H2O cluster free memory:</td>\n",
       "<td>13.34 Gb</td></tr>\n",
       "<tr><td>H2O cluster total cores:</td>\n",
       "<td>16</td></tr>\n",
       "<tr><td>H2O cluster allowed cores:</td>\n",
       "<td>16</td></tr>\n",
       "<tr><td>H2O cluster status:</td>\n",
       "<td>accepting new members, healthy</td></tr>\n",
       "<tr><td>H2O connection url:</td>\n",
       "<td>http://localhost:54321/h2o</td></tr>\n",
       "<tr><td>H2O connection proxy:</td>\n",
       "<td>None</td></tr>\n",
       "<tr><td>H2O internal security:</td>\n",
       "<td>False</td></tr>\n",
       "<tr><td>H2O API Extensions:</td>\n",
       "<td>Amazon S3, XGBoost, Algos, AutoML, Core V3, Core V4</td></tr>\n",
       "<tr><td>Python version:</td>\n",
       "<td>3.6.9 final</td></tr></table></div>"
      ],
      "text/plain": [
       "--------------------------  ---------------------------------------------------\n",
       "H2O cluster uptime:         26 secs\n",
       "H2O cluster timezone:       Etc/UTC\n",
       "H2O data parsing timezone:  UTC\n",
       "H2O cluster version:        3.26.0.2\n",
       "H2O cluster version age:    1 month and 10 days\n",
       "H2O cluster name:           h2o\n",
       "H2O cluster total nodes:    1\n",
       "H2O cluster free memory:    13.34 Gb\n",
       "H2O cluster total cores:    16\n",
       "H2O cluster allowed cores:  16\n",
       "H2O cluster status:         accepting new members, healthy\n",
       "H2O connection url:         http://localhost:54321/h2o\n",
       "H2O connection proxy:\n",
       "H2O internal security:      False\n",
       "H2O API Extensions:         Amazon S3, XGBoost, Algos, AutoML, Core V3, Core V4\n",
       "Python version:             3.6.9 final\n",
       "--------------------------  ---------------------------------------------------"
      ]
     },
     "metadata": {},
     "output_type": "display_data"
    }
   ],
   "source": [
    "h2o.init(url=local_url, max_mem_size='2G')\n",
    "h2o.remove_all()    # remove any existing data structures from h2o memory"
   ]
  },
  {
   "cell_type": "markdown",
   "metadata": {},
   "source": [
    "## 1. Download, explore, and prepare UCI credit card default data (REWRITE)\n",
    "\n",
    "UCI credit card default data: https://archive.ics.uci.edu/ml/datasets/default+of+credit+card+clients\n",
    "\n",
    "The UCI credit card default data contains demographic and payment information about credit card customers in Taiwan in the year 2005. The data set contains 23 input variables: \n",
    "\n",
    "* **`LIMIT_BAL`**: Amount of given credit (NT dollar)\n",
    "* **`SEX`**: 1 = male; 2 = female\n",
    "* **`EDUCATION`**: 1 = graduate school; 2 = university; 3 = high school; 4 = others \n",
    "* **`MARRIAGE`**: 1 = married; 2 = single; 3 = others\n",
    "* **`AGE`**: Age in years \n",
    "* **`PAY_0`, `PAY_2` - `PAY_6`**: History of past payment; `PAY_0` = the repayment status in September, 2005; `PAY_2` = the repayment status in August, 2005; ...; `PAY_6` = the repayment status in April, 2005. The measurement scale for the repayment status is: -1 = pay duly; 1 = payment delay for one month; 2 = payment delay for two months; ...; 8 = payment delay for eight months; 9 = payment delay for nine months and above. \n",
    "* **`BILL_AMT1` - `BILL_AMT6`**: Amount of bill statement (NT dollar). `BILL_AMNT1` = amount of bill statement in September, 2005; `BILL_AMT2` = amount of bill statement in August, 2005; ...; `BILL_AMT6` = amount of bill statement in April, 2005. \n",
    "* **`PAY_AMT1` - `PAY_AMT6`**: Amount of previous payment (NT dollar). `PAY_AMT1` = amount paid in September, 2005; `PAY_AMT2` = amount paid in August, 2005; ...; `PAY_AMT6` = amount paid in April, 2005. \n",
    "\n",
    "These 23 input variables are used to predict the target variable, whether or not a customer defaulted on their credit card bill in late 2005.\n",
    "\n",
    "Because h2o accepts both numeric and character inputs, some variables will be recoded into more transparent character values.\n",
    "\n",
    "#### Import data and clean\n",
    "The credit card default data is available as an `.xls` file. Pandas reads `.xls` files automatically, so it's used to load the credit card default data and give the prediction target a shorter name: `DEFAULT_NEXT_MONTH`."
   ]
  },
  {
   "cell_type": "code",
   "execution_count": 4,
   "metadata": {},
   "outputs": [],
   "source": [
    "# import XLS file\n",
    "path = 'default_of_credit_card_clients.xls'\n",
    "data = pd.read_excel(path, skiprows=1)\n",
    "\n",
    "# remove spaces from target column name \n",
    "data = data.rename(columns={'default payment next month': 'Default'})"
   ]
  },
  {
   "cell_type": "markdown",
   "metadata": {},
   "source": [
    "Rename data fields and censor data appropriately"
   ]
  },
  {
   "cell_type": "code",
   "execution_count": 5,
   "metadata": {
    "scrolled": true
   },
   "outputs": [],
   "source": [
    "data = data.rename(columns = {\n",
    "    'LIMIT_BAL': 'CreditLimit',\n",
    "    'SEX': 'Sex',\n",
    "    'EDUCATION': 'Education',\n",
    "    'MARRIAGE': 'Marriage',\n",
    "    'AGE': 'Age',\n",
    "    'PAY_0': 'Status1',\n",
    "    'PAY_2': 'Status2',\n",
    "    'PAY_3': 'Status3',\n",
    "    'PAY_4': 'Status4',\n",
    "    'PAY_5': 'Status5',\n",
    "    'PAY_6': 'Status6',\n",
    "    'BILL_AMT1': 'BillAmt1',\n",
    "    'BILL_AMT2': 'BillAmt2',\n",
    "    'BILL_AMT3': 'BillAmt3',\n",
    "    'BILL_AMT4': 'BillAmt4',\n",
    "    'BILL_AMT5': 'BillAmt5',\n",
    "    'BILL_AMT6': 'BillAmt6',\n",
    "    'PAY_AMT1': 'PayAmt1',\n",
    "    'PAY_AMT2': 'PayAmt2',\n",
    "    'PAY_AMT3': 'PayAmt3',\n",
    "    'PAY_AMT4': 'PayAmt4',\n",
    "    'PAY_AMT5': 'PayAmt5',\n",
    "    'PAY_AMT6': 'PayAmt6',\n",
    "})\n",
    "\n",
    "## Censor data (to ensure that we are using only what we know at the time of prediction)\n",
    "##   For Status1, replace any values >= 1 with 1\n",
    "##   ...\n",
    "##   For Status6, replace any values >= 6 with 6\n",
    "\n",
    "data['Status1'][data['Status1']>1] = 1\n",
    "data['Status2'][data['Status2']>2] = 2\n",
    "data['Status3'][data['Status3']>3] = 3\n",
    "data['Status4'][data['Status4']>4] = 4\n",
    "data['Status5'][data['Status5']>5] = 5\n",
    "data['Status6'][data['Status6']>6] = 6\n",
    "\n",
    "## Truncate StatusX negative values to 0 since we treat StatusX as numeric below\n",
    "\n",
    "statuses = ['Status1', 'Status2', 'Status3', 'Status4', 'Status5', 'Status6']\n",
    "\n",
    "for status in statuses:\n",
    "    data[status][data[status]<0] = 0\n",
    "\n",
    "sex_dict = {1:'M', 2:'F'}\n",
    "data['Sex'] = data['Sex'].apply(lambda i: sex_dict[i])\n",
    "\n",
    "marriage_dict = {0:'O', 1:'M', 2:'S', 3:'D'}\n",
    "data['Marriage'] = data['Marriage'].apply(lambda i: marriage_dict[i])"
   ]
  },
  {
   "cell_type": "markdown",
   "metadata": {},
   "source": [
    "#### Helper function for recoding values in the UCI credict card default data [REWRITE]\n",
    "\n",
    "These character values can be used directly in h2o decision tree models, and the function returns the original Pandas DataFrame as an h2o object, an H2OFrame. H2o models cannot run on Pandas DataFrames. They require H2OFrames."
   ]
  },
  {
   "cell_type": "code",
   "execution_count": 6,
   "metadata": {},
   "outputs": [
    {
     "name": "stdout",
     "output_type": "stream",
     "text": [
      "Parse progress: |█████████████████████████████████████████████████████████| 100%\n"
     ]
    }
   ],
   "source": [
    "data = h2o.H2OFrame(data)"
   ]
  },
  {
   "cell_type": "markdown",
   "metadata": {},
   "source": [
    "#### Assign modeling roles\n",
    "The shorthand name `y` is assigned to the prediction target. `X` is assigned to all other input variables in the credit card default data except the row indentifier, `ID`."
   ]
  },
  {
   "cell_type": "code",
   "execution_count": 7,
   "metadata": {},
   "outputs": [
    {
     "name": "stdout",
     "output_type": "stream",
     "text": [
      "y = Default\n",
      "X = ['CreditLimit', 'Sex', 'Education', 'Marriage', 'Age', 'Status1', 'Status2', 'Status3', 'Status4', 'Status5', 'Status6', 'BillAmt1', 'BillAmt2', 'BillAmt3', 'BillAmt4', 'BillAmt5', 'BillAmt6', 'PayAmt1', 'PayAmt2', 'PayAmt3', 'PayAmt4', 'PayAmt5', 'PayAmt6']\n"
     ]
    }
   ],
   "source": [
    "# assign target and inputs for GBM\n",
    "y = 'Default'\n",
    "X = [name for name in data.columns if name not in [y, 'ID']]\n",
    "print('y =', y)\n",
    "print('X =', X)"
   ]
  },
  {
   "cell_type": "markdown",
   "metadata": {},
   "source": [
    "#### Ensure target is handled as a categorical variable\n",
    "In H2O, a numeric variable can be treated as numeric or categorical. The target variable `Default` takes on values of `0` or `1`. To ensure this numeric variable is treated as a categorical variable, the `asfactor()` function is used to explicitly declare that it is a categorical variable. "
   ]
  },
  {
   "cell_type": "code",
   "execution_count": 8,
   "metadata": {},
   "outputs": [],
   "source": [
    "data[y] = data[y].asfactor() "
   ]
  },
  {
   "cell_type": "markdown",
   "metadata": {},
   "source": [
    "#### Ensure Education and Status1-Status6 are handled as categorical variables"
   ]
  },
  {
   "cell_type": "code",
   "execution_count": 9,
   "metadata": {},
   "outputs": [],
   "source": [
    "##num_to_categorical = ['Education', 'Status1', 'Status2', 'Status3', 'Status4', 'Status5', 'Status6']\n",
    "#num_to_categorical = ['Education']\n",
    "#for name in num_to_categorical:\n",
    "#    data[name] = data[name].asfactor()"
   ]
  },
  {
   "cell_type": "markdown",
   "metadata": {},
   "source": [
    "#### Display descriptive statistics\n",
    "The h2o `describe()` function displays a brief description of the credit card default data. For the categorical input variables `CreditLimit`, `Sex`, `Education`, `Marriage`, and `Status1`-`Status6`, the new character values created above in cell 5 are visible. Basic descriptive statistics are displayed for numeric inputs."
   ]
  },
  {
   "cell_type": "code",
   "execution_count": 10,
   "metadata": {
    "scrolled": true
   },
   "outputs": [
    {
     "name": "stdout",
     "output_type": "stream",
     "text": [
      "Rows:30000\n",
      "Cols:25\n",
      "\n",
      "\n"
     ]
    },
    {
     "data": {
      "text/html": [
       "<table>\n",
       "<thead>\n",
       "<tr><th>       </th><th>ID               </th><th>CreditLimit       </th><th>Sex  </th><th>Education         </th><th>Marriage  </th><th>Age              </th><th>Status1            </th><th>Status2            </th><th>Status3           </th><th>Status4           </th><th>Status5            </th><th>Status6            </th><th>BillAmt1         </th><th>BillAmt2         </th><th>BillAmt3          </th><th>BillAmt4          </th><th>BillAmt5         </th><th>BillAmt6         </th><th>PayAmt1          </th><th>PayAmt2          </th><th>PayAmt3          </th><th>PayAmt4           </th><th>PayAmt5           </th><th>PayAmt6          </th><th>Default  </th></tr>\n",
       "</thead>\n",
       "<tbody>\n",
       "<tr><td>type   </td><td>int              </td><td>int               </td><td>enum </td><td>int               </td><td>enum      </td><td>int              </td><td>int                </td><td>int                </td><td>int               </td><td>int               </td><td>int                </td><td>int                </td><td>int              </td><td>int              </td><td>int               </td><td>int               </td><td>int              </td><td>int              </td><td>int              </td><td>int              </td><td>int              </td><td>int               </td><td>int               </td><td>int              </td><td>enum     </td></tr>\n",
       "<tr><td>mins   </td><td>1.0              </td><td>10000.0           </td><td>     </td><td>0.0               </td><td>          </td><td>21.0             </td><td>0.0                </td><td>0.0                </td><td>0.0               </td><td>0.0               </td><td>0.0                </td><td>0.0                </td><td>-165580.0        </td><td>-69777.0         </td><td>-157264.0         </td><td>-170000.0         </td><td>-81334.0         </td><td>-339603.0        </td><td>0.0              </td><td>0.0              </td><td>0.0              </td><td>0.0               </td><td>0.0               </td><td>0.0              </td><td>         </td></tr>\n",
       "<tr><td>mean   </td><td>15000.5          </td><td>167484.32266666673</td><td>     </td><td>1.8531333333333393</td><td>          </td><td>35.48549999999956</td><td>0.22726666666666667</td><td>0.29493333333333327</td><td>0.2937333333333309</td><td>0.2511999999999998</td><td>0.21740000000000032</td><td>0.22489999999999963</td><td>51223.33090000043</td><td>49179.07516666629</td><td>47013.154799999655</td><td>43262.94896666659 </td><td>40311.40096666682</td><td>38871.76039999976</td><td>5663.580500000035</td><td>5921.163499999979</td><td>5225.681499999981</td><td>4826.076866666652 </td><td>4799.387633333336 </td><td>5215.50256666665 </td><td>         </td></tr>\n",
       "<tr><td>maxs   </td><td>30000.0          </td><td>1000000.0         </td><td>     </td><td>6.0               </td><td>          </td><td>79.0             </td><td>1.0                </td><td>2.0                </td><td>3.0               </td><td>4.0               </td><td>5.0                </td><td>6.0                </td><td>964511.0         </td><td>983931.0         </td><td>1664089.0         </td><td>891586.0          </td><td>927171.0         </td><td>961664.0         </td><td>873552.0         </td><td>1684259.0        </td><td>896040.0         </td><td>621000.0          </td><td>426529.0          </td><td>528666.0         </td><td>         </td></tr>\n",
       "<tr><td>sigma  </td><td>8660.398374208891</td><td>129747.66156720246</td><td>     </td><td>0.7903486597207269</td><td>          </td><td>9.217904068090155</td><td>0.41907324296394916</td><td>0.7084944561312378 </td><td>0.7348959549653103</td><td>0.7087420573406523</td><td>0.6839245804626852 </td><td>0.7005733485990058 </td><td>73635.86057552966</td><td>71173.76878252832</td><td>69349.38742703677 </td><td>64332.856133916444</td><td>60797.15577026471</td><td>59554.1075367459 </td><td>16563.28035402577</td><td>23040.87040205719</td><td>17606.96146980311</td><td>15666.159744032062</td><td>15278.305679144742</td><td>17777.46577543531</td><td>         </td></tr>\n",
       "<tr><td>zeros  </td><td>0                </td><td>0                 </td><td>     </td><td>14                </td><td>          </td><td>0                </td><td>23182              </td><td>25562              </td><td>25787             </td><td>26490             </td><td>27032              </td><td>26921              </td><td>2008             </td><td>2506             </td><td>2870              </td><td>3195              </td><td>3506             </td><td>4020             </td><td>5249             </td><td>5396             </td><td>5968             </td><td>6408              </td><td>6703              </td><td>7173             </td><td>         </td></tr>\n",
       "<tr><td>missing</td><td>0                </td><td>0                 </td><td>0    </td><td>0                 </td><td>0         </td><td>0                </td><td>0                  </td><td>0                  </td><td>0                 </td><td>0                 </td><td>0                  </td><td>0                  </td><td>0                </td><td>0                </td><td>0                 </td><td>0                 </td><td>0                </td><td>0                </td><td>0                </td><td>0                </td><td>0                </td><td>0                 </td><td>0                 </td><td>0                </td><td>0        </td></tr>\n",
       "<tr><td>0      </td><td>1.0              </td><td>20000.0           </td><td>F    </td><td>2.0               </td><td>M         </td><td>24.0             </td><td>1.0                </td><td>2.0                </td><td>0.0               </td><td>0.0               </td><td>0.0                </td><td>0.0                </td><td>3913.0           </td><td>3102.0           </td><td>689.0             </td><td>0.0               </td><td>0.0              </td><td>0.0              </td><td>0.0              </td><td>689.0            </td><td>0.0              </td><td>0.0               </td><td>0.0               </td><td>0.0              </td><td>1        </td></tr>\n",
       "<tr><td>1      </td><td>2.0              </td><td>120000.0          </td><td>F    </td><td>2.0               </td><td>S         </td><td>26.0             </td><td>0.0                </td><td>2.0                </td><td>0.0               </td><td>0.0               </td><td>0.0                </td><td>2.0                </td><td>2682.0           </td><td>1725.0           </td><td>2682.0            </td><td>3272.0            </td><td>3455.0           </td><td>3261.0           </td><td>0.0              </td><td>1000.0           </td><td>1000.0           </td><td>1000.0            </td><td>0.0               </td><td>2000.0           </td><td>1        </td></tr>\n",
       "<tr><td>2      </td><td>3.0              </td><td>90000.0           </td><td>F    </td><td>2.0               </td><td>S         </td><td>34.0             </td><td>0.0                </td><td>0.0                </td><td>0.0               </td><td>0.0               </td><td>0.0                </td><td>0.0                </td><td>29239.0          </td><td>14027.0          </td><td>13559.0           </td><td>14331.0           </td><td>14948.0          </td><td>15549.0          </td><td>1518.0           </td><td>1500.0           </td><td>1000.0           </td><td>1000.0            </td><td>1000.0            </td><td>5000.0           </td><td>0        </td></tr>\n",
       "<tr><td>3      </td><td>4.0              </td><td>50000.0           </td><td>F    </td><td>2.0               </td><td>M         </td><td>37.0             </td><td>0.0                </td><td>0.0                </td><td>0.0               </td><td>0.0               </td><td>0.0                </td><td>0.0                </td><td>46990.0          </td><td>48233.0          </td><td>49291.0           </td><td>28314.0           </td><td>28959.0          </td><td>29547.0          </td><td>2000.0           </td><td>2019.0           </td><td>1200.0           </td><td>1100.0            </td><td>1069.0            </td><td>1000.0           </td><td>0        </td></tr>\n",
       "<tr><td>4      </td><td>5.0              </td><td>50000.0           </td><td>M    </td><td>2.0               </td><td>M         </td><td>57.0             </td><td>0.0                </td><td>0.0                </td><td>0.0               </td><td>0.0               </td><td>0.0                </td><td>0.0                </td><td>8617.0           </td><td>5670.0           </td><td>35835.0           </td><td>20940.0           </td><td>19146.0          </td><td>19131.0          </td><td>2000.0           </td><td>36681.0          </td><td>10000.0          </td><td>9000.0            </td><td>689.0             </td><td>679.0            </td><td>0        </td></tr>\n",
       "<tr><td>5      </td><td>6.0              </td><td>50000.0           </td><td>M    </td><td>1.0               </td><td>S         </td><td>37.0             </td><td>0.0                </td><td>0.0                </td><td>0.0               </td><td>0.0               </td><td>0.0                </td><td>0.0                </td><td>64400.0          </td><td>57069.0          </td><td>57608.0           </td><td>19394.0           </td><td>19619.0          </td><td>20024.0          </td><td>2500.0           </td><td>1815.0           </td><td>657.0            </td><td>1000.0            </td><td>1000.0            </td><td>800.0            </td><td>0        </td></tr>\n",
       "<tr><td>6      </td><td>7.0              </td><td>500000.0          </td><td>M    </td><td>1.0               </td><td>S         </td><td>29.0             </td><td>0.0                </td><td>0.0                </td><td>0.0               </td><td>0.0               </td><td>0.0                </td><td>0.0                </td><td>367965.0         </td><td>412023.0         </td><td>445007.0          </td><td>542653.0          </td><td>483003.0         </td><td>473944.0         </td><td>55000.0          </td><td>40000.0          </td><td>38000.0          </td><td>20239.0           </td><td>13750.0           </td><td>13770.0          </td><td>0        </td></tr>\n",
       "<tr><td>7      </td><td>8.0              </td><td>100000.0          </td><td>F    </td><td>2.0               </td><td>S         </td><td>23.0             </td><td>0.0                </td><td>0.0                </td><td>0.0               </td><td>0.0               </td><td>0.0                </td><td>0.0                </td><td>11876.0          </td><td>380.0            </td><td>601.0             </td><td>221.0             </td><td>-159.0           </td><td>567.0            </td><td>380.0            </td><td>601.0            </td><td>0.0              </td><td>581.0             </td><td>1687.0            </td><td>1542.0           </td><td>0        </td></tr>\n",
       "<tr><td>8      </td><td>9.0              </td><td>140000.0          </td><td>F    </td><td>3.0               </td><td>M         </td><td>28.0             </td><td>0.0                </td><td>0.0                </td><td>2.0               </td><td>0.0               </td><td>0.0                </td><td>0.0                </td><td>11285.0          </td><td>14096.0          </td><td>12108.0           </td><td>12211.0           </td><td>11793.0          </td><td>3719.0           </td><td>3329.0           </td><td>0.0              </td><td>432.0            </td><td>1000.0            </td><td>1000.0            </td><td>1000.0           </td><td>0        </td></tr>\n",
       "<tr><td>9      </td><td>10.0             </td><td>20000.0           </td><td>M    </td><td>3.0               </td><td>S         </td><td>35.0             </td><td>0.0                </td><td>0.0                </td><td>0.0               </td><td>0.0               </td><td>0.0                </td><td>0.0                </td><td>0.0              </td><td>0.0              </td><td>0.0               </td><td>0.0               </td><td>13007.0          </td><td>13912.0          </td><td>0.0              </td><td>0.0              </td><td>0.0              </td><td>13007.0           </td><td>1122.0            </td><td>0.0              </td><td>0        </td></tr>\n",
       "</tbody>\n",
       "</table>"
      ]
     },
     "metadata": {},
     "output_type": "display_data"
    }
   ],
   "source": [
    "data.describe()"
   ]
  },
  {
   "cell_type": "markdown",
   "metadata": {},
   "source": [
    "## 2. Train an H2O GBM classifier\n",
    "\n",
    "#### Split data into training and test sets for early stopping\n",
    "The credit card default data is split into training and test sets to monitor and prevent overtraining. Reproducibility is also important factor in creating trustworthy models, and randomly splitting datasets can introduce randomness in model predictions and other results. A random seed is used here to ensure the data split is reproducible."
   ]
  },
  {
   "cell_type": "code",
   "execution_count": 11,
   "metadata": {},
   "outputs": [
    {
     "name": "stdout",
     "output_type": "stream",
     "text": [
      "Train data rows = 21060, columns = 25\n",
      "Test data rows = 8940, columns = 25\n"
     ]
    }
   ],
   "source": [
    "# split into training and validation\n",
    "train, test = data.split_frame([0.7], seed=12345)\n",
    "\n",
    "# summarize split\n",
    "print('Train data rows = %d, columns = %d' % (train.shape[0], train.shape[1]))\n",
    "print('Test data rows = %d, columns = %d' % (test.shape[0], test.shape[1]))"
   ]
  },
  {
   "cell_type": "markdown",
   "metadata": {},
   "source": [
    "#### Train h2o GBM classifier\n",
    "Many tuning parameters must be specified to train a GBM using h2o. Typically a grid search would be performed to identify the best parameters for a given modeling task using the `H2OGridSearch` class. For brevity's sake, a previously-discovered set of good tuning parameters are specified here. Because gradient boosting methods typically resample training data, an additional random seed is also specified for the h2o GBM using the `seed` parameter to create reproducible predictions, error rates, and variable importance values. To avoid overfitting, the `stopping_rounds` parameter is used to stop the training process after the test error fails to decrease for 5 iterations. "
   ]
  },
  {
   "cell_type": "code",
   "execution_count": 12,
   "metadata": {},
   "outputs": [
    {
     "name": "stdout",
     "output_type": "stream",
     "text": [
      "gbm Model Build progress: |███████████████████████████████████████████████| 100%\n",
      "GBM Test AUC = 0.7735\n"
     ]
    }
   ],
   "source": [
    "# initialize GBM model\n",
    "model = H2OGradientBoostingEstimator(ntrees=150,            # maximum 150 trees in GBM\n",
    "                                     max_depth=4,           # trees can have maximum depth of 4\n",
    "                                     sample_rate=0.9,       # use 90% of rows in each iteration (tree)\n",
    "                                     col_sample_rate=0.9,   # use 90% of variables in each iteration (tree)\n",
    "                                     stopping_rounds=5,     # stop if validation error does not decrease for 5 iterations (trees)\n",
    "                                     seed=12345)            # for reproducibility\n",
    "\n",
    "# train a GBM model\n",
    "model.train(y=y, x=X, training_frame=train, validation_frame=test)\n",
    "\n",
    "# print AUC\n",
    "print('GBM Test AUC = %.4f' % model.auc(valid=True))\n",
    "\n",
    "# uncomment to see model details\n",
    "# print(model) "
   ]
  },
  {
   "cell_type": "markdown",
   "metadata": {},
   "source": [
    "#### Display variable importance\n",
    "During training, the h2o GBM aggregates the improvement in error caused by each split in each decision tree across all the decision trees in the ensemble classifier. These values are attributed to the input variable used in each split and give an indication of the contribution each input variable makes toward the model's predictions. The variable importance ranking should be parsimonious with human domain knowledge and reasonable expectations. In this case, a customer's most recent payment behavior, `PAY_0`, is by far the most important variable followed by their second most recent payment, `PAY_2`, their credit limit, `LIMIT_BAL`, and third most recent payment behavior, `PAY_3`. This result is well-aligned with business practices in credit lending: people who miss their most recent payments are likely to default soon."
   ]
  },
  {
   "cell_type": "code",
   "execution_count": 13,
   "metadata": {},
   "outputs": [
    {
     "data": {
      "image/png": "[encoded data removed]",
      "text/plain": [
       "<Figure size 1008x720 with 1 Axes>"
      ]
     },
     "metadata": {
      "needs_background": "light"
     },
     "output_type": "display_data"
    }
   ],
   "source": [
    "model.varimp_plot()"
   ]
  },
  {
   "cell_type": "markdown",
   "metadata": {},
   "source": [
    "## 3. Conduct residual analysis to debug model\n",
    "Residuals refer to the difference between the recorded value of a dependent variable and the predicted value of a dependent variable for every row in a data set. Plotting the residual values against the predicted values is a time-honored model assessment technique and a great way to see all your modeling results in two dimensions.\n",
    "\n",
    "#### Bind model predictions onto test data \n",
    "To calculate the residuals for our GBM model, first the model predictions are merged onto onto the test set. The test data is used here to see how the model behaves on holdout data, which should be closer to its behavior on new data than analyzing residuals for the training inputs and predictions."
   ]
  },
  {
   "cell_type": "code",
   "execution_count": 14,
   "metadata": {},
   "outputs": [
    {
     "name": "stdout",
     "output_type": "stream",
     "text": [
      "gbm prediction progress: |████████████████████████████████████████████████| 100%\n"
     ]
    }
   ],
   "source": [
    "yhat = 'p_Default'\n",
    "preds1 = model.predict(test).drop(['predict', 'p0'])\n",
    "preds1.columns = [yhat]\n",
    "test_yhat = test.cbind(preds1[yhat])"
   ]
  },
  {
   "cell_type": "markdown",
   "metadata": {},
   "source": [
    "#### Calculate deviance residuals for binomial classification\n",
    "For binomial classification, deviance residuals are related to the logloss cost function. Like analyzing $y - \\hat{y}$ for linear regression, these residuals are the quantities that the GBM sought to minimize. Deviance residual values are calculated by applying the simple formula in the cell directly below."
   ]
  },
  {
   "cell_type": "code",
   "execution_count": 15,
   "metadata": {},
   "outputs": [],
   "source": [
    "# use Pandas for adding columns and plotting\n",
    "test_yhat = test_yhat.as_data_frame()\n",
    "test_yhat['s'] = 1\n",
    "test_yhat.loc[test_yhat['Default'] == 0, 's'] = -1\n",
    "test_yhat['r_Default'] = test_yhat['s'] * np.sqrt(-2*(test_yhat[y]*np.log(test_yhat[yhat]) +\n",
    "                                                                 ((1 - test_yhat[y])*np.log(1 - test_yhat[yhat]))))\n",
    "test_yhat = test_yhat.drop('s', axis=1)"
   ]
  },
  {
   "cell_type": "markdown",
   "metadata": {},
   "source": [
    "#### Plot residuals\n",
    "Plotting residuals is a model debugging and diagnostic tool that enables users to see modeling results, and any anomolies, in a single two-dimensional plot. Here the green points represent customers who defaulted, and the blue points represent customers who did not. A few potential outliers are visible. There appear to be several cases in the test data with relatively large negative residuals. Understanding and addressing the factors that cause these outliers could lead to a more acccurate model."
   ]
  },
  {
   "cell_type": "code",
   "execution_count": 16,
   "metadata": {},
   "outputs": [
    {
     "data": {
      "image/png": "[encoded data removed]",
      "text/plain": [
       "<Figure size 576x576 with 1 Axes>"
      ]
     },
     "metadata": {
      "needs_background": "light"
     },
     "output_type": "display_data"
    }
   ],
   "source": [
    "groups = test_yhat.groupby('Default') # define groups\n",
    "fig, ax_ = plt.subplots(figsize=(8, 8))          # initialize figure\n",
    "\n",
    "plt.xlabel('Predicted: Default')\n",
    "plt.ylabel('Residual: Default')\n",
    "\n",
    "# plot groups with appropriate color\n",
    "color_list = ['b', 'g'] \n",
    "c_idx = 0\n",
    "for name, group in groups:\n",
    "    ax_.plot(group.p_Default, group.r_Default, label=' '.join(['Default:', str(name)]),\n",
    "             marker='o', linestyle='', color=color_list[c_idx], alpha=0.3)\n",
    "    c_idx += 1\n",
    "\n",
    "_ = ax_.legend(loc=1) # legend"
   ]
  },
  {
   "cell_type": "markdown",
   "metadata": {},
   "source": [
    "#### Sort data by residuals and display data and residuals\n",
    "Printing a table with model inputs, actual target values, and model predictions sorted by residuals is another simple way to analyze residuals. Customers that defaulted, but were predicted not to, are listed at the top of the table below. Scroll to the bottom of the table to see the customers who were predicted to default, but then did not. Also notice the jumps in residual values. These are the potential outliers pictured in the residual plot above. "
   ]
  },
  {
   "cell_type": "code",
   "execution_count": 17,
   "metadata": {},
   "outputs": [
    {
     "data": {
      "text/html": [
       "<div>\n",
       "<style scoped>\n",
       "    .dataframe tbody tr th:only-of-type {\n",
       "        vertical-align: middle;\n",
       "    }\n",
       "\n",
       "    .dataframe tbody tr th {\n",
       "        vertical-align: top;\n",
       "    }\n",
       "\n",
       "    .dataframe thead th {\n",
       "        text-align: right;\n",
       "    }\n",
       "</style>\n",
       "<table border=\"1\" class=\"dataframe\">\n",
       "  <thead>\n",
       "    <tr style=\"text-align: right;\">\n",
       "      <th></th>\n",
       "      <th>ID</th>\n",
       "      <th>CreditLimit</th>\n",
       "      <th>Sex</th>\n",
       "      <th>Education</th>\n",
       "      <th>Marriage</th>\n",
       "      <th>Age</th>\n",
       "      <th>Status1</th>\n",
       "      <th>Status2</th>\n",
       "      <th>Status3</th>\n",
       "      <th>Status4</th>\n",
       "      <th>Status5</th>\n",
       "      <th>Status6</th>\n",
       "      <th>BillAmt1</th>\n",
       "      <th>BillAmt2</th>\n",
       "      <th>BillAmt3</th>\n",
       "      <th>BillAmt4</th>\n",
       "      <th>BillAmt5</th>\n",
       "      <th>BillAmt6</th>\n",
       "      <th>PayAmt1</th>\n",
       "      <th>PayAmt2</th>\n",
       "      <th>PayAmt3</th>\n",
       "      <th>PayAmt4</th>\n",
       "      <th>PayAmt5</th>\n",
       "      <th>PayAmt6</th>\n",
       "      <th>Default</th>\n",
       "      <th>p_Default</th>\n",
       "      <th>r_Default</th>\n",
       "    </tr>\n",
       "  </thead>\n",
       "  <tbody>\n",
       "    <tr>\n",
       "      <td>0</td>\n",
       "      <td>2561</td>\n",
       "      <td>310000</td>\n",
       "      <td>F</td>\n",
       "      <td>1</td>\n",
       "      <td>S</td>\n",
       "      <td>32</td>\n",
       "      <td>0</td>\n",
       "      <td>0</td>\n",
       "      <td>0</td>\n",
       "      <td>0</td>\n",
       "      <td>0</td>\n",
       "      <td>0</td>\n",
       "      <td>20138</td>\n",
       "      <td>8267</td>\n",
       "      <td>65993</td>\n",
       "      <td>8543</td>\n",
       "      <td>1695</td>\n",
       "      <td>750</td>\n",
       "      <td>8267</td>\n",
       "      <td>66008</td>\n",
       "      <td>8543</td>\n",
       "      <td>1695</td>\n",
       "      <td>750</td>\n",
       "      <td>7350</td>\n",
       "      <td>1</td>\n",
       "      <td>0.045917</td>\n",
       "      <td>2.482305</td>\n",
       "    </tr>\n",
       "    <tr>\n",
       "      <td>1</td>\n",
       "      <td>8339</td>\n",
       "      <td>480000</td>\n",
       "      <td>M</td>\n",
       "      <td>1</td>\n",
       "      <td>M</td>\n",
       "      <td>58</td>\n",
       "      <td>0</td>\n",
       "      <td>0</td>\n",
       "      <td>0</td>\n",
       "      <td>0</td>\n",
       "      <td>0</td>\n",
       "      <td>0</td>\n",
       "      <td>24610</td>\n",
       "      <td>-310</td>\n",
       "      <td>148544</td>\n",
       "      <td>18791</td>\n",
       "      <td>5909</td>\n",
       "      <td>68988</td>\n",
       "      <td>4</td>\n",
       "      <td>149654</td>\n",
       "      <td>18885</td>\n",
       "      <td>5940</td>\n",
       "      <td>69337</td>\n",
       "      <td>200655</td>\n",
       "      <td>1</td>\n",
       "      <td>0.047749</td>\n",
       "      <td>2.466496</td>\n",
       "    </tr>\n",
       "    <tr>\n",
       "      <td>2</td>\n",
       "      <td>6933</td>\n",
       "      <td>500000</td>\n",
       "      <td>M</td>\n",
       "      <td>1</td>\n",
       "      <td>S</td>\n",
       "      <td>37</td>\n",
       "      <td>0</td>\n",
       "      <td>0</td>\n",
       "      <td>0</td>\n",
       "      <td>0</td>\n",
       "      <td>0</td>\n",
       "      <td>0</td>\n",
       "      <td>4331</td>\n",
       "      <td>60446</td>\n",
       "      <td>30592</td>\n",
       "      <td>154167</td>\n",
       "      <td>13410</td>\n",
       "      <td>25426</td>\n",
       "      <td>60446</td>\n",
       "      <td>30594</td>\n",
       "      <td>150843</td>\n",
       "      <td>163881</td>\n",
       "      <td>25426</td>\n",
       "      <td>39526</td>\n",
       "      <td>1</td>\n",
       "      <td>0.050744</td>\n",
       "      <td>2.441706</td>\n",
       "    </tr>\n",
       "    <tr>\n",
       "      <td>3</td>\n",
       "      <td>25772</td>\n",
       "      <td>350000</td>\n",
       "      <td>F</td>\n",
       "      <td>1</td>\n",
       "      <td>M</td>\n",
       "      <td>33</td>\n",
       "      <td>0</td>\n",
       "      <td>0</td>\n",
       "      <td>0</td>\n",
       "      <td>0</td>\n",
       "      <td>0</td>\n",
       "      <td>0</td>\n",
       "      <td>82964</td>\n",
       "      <td>68532</td>\n",
       "      <td>17926</td>\n",
       "      <td>17966</td>\n",
       "      <td>30741</td>\n",
       "      <td>31088</td>\n",
       "      <td>68940</td>\n",
       "      <td>18018</td>\n",
       "      <td>18058</td>\n",
       "      <td>30897</td>\n",
       "      <td>31244</td>\n",
       "      <td>88461</td>\n",
       "      <td>1</td>\n",
       "      <td>0.051426</td>\n",
       "      <td>2.436231</td>\n",
       "    </tr>\n",
       "    <tr>\n",
       "      <td>4</td>\n",
       "      <td>22505</td>\n",
       "      <td>260000</td>\n",
       "      <td>F</td>\n",
       "      <td>2</td>\n",
       "      <td>S</td>\n",
       "      <td>33</td>\n",
       "      <td>0</td>\n",
       "      <td>0</td>\n",
       "      <td>0</td>\n",
       "      <td>0</td>\n",
       "      <td>0</td>\n",
       "      <td>0</td>\n",
       "      <td>5188</td>\n",
       "      <td>12357</td>\n",
       "      <td>28656</td>\n",
       "      <td>7497</td>\n",
       "      <td>7685</td>\n",
       "      <td>15434</td>\n",
       "      <td>13000</td>\n",
       "      <td>29022</td>\n",
       "      <td>7500</td>\n",
       "      <td>27769</td>\n",
       "      <td>12000</td>\n",
       "      <td>6200</td>\n",
       "      <td>1</td>\n",
       "      <td>0.051968</td>\n",
       "      <td>2.431921</td>\n",
       "    </tr>\n",
       "    <tr>\n",
       "      <td>...</td>\n",
       "      <td>...</td>\n",
       "      <td>...</td>\n",
       "      <td>...</td>\n",
       "      <td>...</td>\n",
       "      <td>...</td>\n",
       "      <td>...</td>\n",
       "      <td>...</td>\n",
       "      <td>...</td>\n",
       "      <td>...</td>\n",
       "      <td>...</td>\n",
       "      <td>...</td>\n",
       "      <td>...</td>\n",
       "      <td>...</td>\n",
       "      <td>...</td>\n",
       "      <td>...</td>\n",
       "      <td>...</td>\n",
       "      <td>...</td>\n",
       "      <td>...</td>\n",
       "      <td>...</td>\n",
       "      <td>...</td>\n",
       "      <td>...</td>\n",
       "      <td>...</td>\n",
       "      <td>...</td>\n",
       "      <td>...</td>\n",
       "      <td>...</td>\n",
       "      <td>...</td>\n",
       "      <td>...</td>\n",
       "    </tr>\n",
       "    <tr>\n",
       "      <td>8935</td>\n",
       "      <td>9672</td>\n",
       "      <td>170000</td>\n",
       "      <td>M</td>\n",
       "      <td>1</td>\n",
       "      <td>S</td>\n",
       "      <td>48</td>\n",
       "      <td>1</td>\n",
       "      <td>2</td>\n",
       "      <td>3</td>\n",
       "      <td>4</td>\n",
       "      <td>5</td>\n",
       "      <td>6</td>\n",
       "      <td>2400</td>\n",
       "      <td>2400</td>\n",
       "      <td>2400</td>\n",
       "      <td>2400</td>\n",
       "      <td>2400</td>\n",
       "      <td>2400</td>\n",
       "      <td>0</td>\n",
       "      <td>0</td>\n",
       "      <td>0</td>\n",
       "      <td>0</td>\n",
       "      <td>0</td>\n",
       "      <td>0</td>\n",
       "      <td>0</td>\n",
       "      <td>0.782549</td>\n",
       "      <td>-1.746872</td>\n",
       "    </tr>\n",
       "    <tr>\n",
       "      <td>8936</td>\n",
       "      <td>14589</td>\n",
       "      <td>280000</td>\n",
       "      <td>M</td>\n",
       "      <td>1</td>\n",
       "      <td>M</td>\n",
       "      <td>50</td>\n",
       "      <td>1</td>\n",
       "      <td>2</td>\n",
       "      <td>3</td>\n",
       "      <td>3</td>\n",
       "      <td>2</td>\n",
       "      <td>0</td>\n",
       "      <td>327918</td>\n",
       "      <td>321476</td>\n",
       "      <td>314931</td>\n",
       "      <td>176439</td>\n",
       "      <td>154010</td>\n",
       "      <td>134334</td>\n",
       "      <td>0</td>\n",
       "      <td>0</td>\n",
       "      <td>500</td>\n",
       "      <td>0</td>\n",
       "      <td>6267</td>\n",
       "      <td>2257</td>\n",
       "      <td>0</td>\n",
       "      <td>0.785610</td>\n",
       "      <td>-1.754969</td>\n",
       "    </tr>\n",
       "    <tr>\n",
       "      <td>8937</td>\n",
       "      <td>16957</td>\n",
       "      <td>270000</td>\n",
       "      <td>M</td>\n",
       "      <td>1</td>\n",
       "      <td>M</td>\n",
       "      <td>50</td>\n",
       "      <td>1</td>\n",
       "      <td>2</td>\n",
       "      <td>3</td>\n",
       "      <td>3</td>\n",
       "      <td>2</td>\n",
       "      <td>2</td>\n",
       "      <td>213616</td>\n",
       "      <td>208784</td>\n",
       "      <td>212058</td>\n",
       "      <td>207226</td>\n",
       "      <td>202394</td>\n",
       "      <td>231339</td>\n",
       "      <td>0</td>\n",
       "      <td>8000</td>\n",
       "      <td>0</td>\n",
       "      <td>0</td>\n",
       "      <td>32236</td>\n",
       "      <td>3000</td>\n",
       "      <td>0</td>\n",
       "      <td>0.786637</td>\n",
       "      <td>-1.757703</td>\n",
       "    </tr>\n",
       "    <tr>\n",
       "      <td>8938</td>\n",
       "      <td>26512</td>\n",
       "      <td>100000</td>\n",
       "      <td>F</td>\n",
       "      <td>3</td>\n",
       "      <td>M</td>\n",
       "      <td>55</td>\n",
       "      <td>1</td>\n",
       "      <td>2</td>\n",
       "      <td>2</td>\n",
       "      <td>0</td>\n",
       "      <td>3</td>\n",
       "      <td>2</td>\n",
       "      <td>1520</td>\n",
       "      <td>1349</td>\n",
       "      <td>959</td>\n",
       "      <td>1623</td>\n",
       "      <td>1470</td>\n",
       "      <td>930</td>\n",
       "      <td>0</td>\n",
       "      <td>0</td>\n",
       "      <td>1623</td>\n",
       "      <td>0</td>\n",
       "      <td>0</td>\n",
       "      <td>780</td>\n",
       "      <td>0</td>\n",
       "      <td>0.791979</td>\n",
       "      <td>-1.772071</td>\n",
       "    </tr>\n",
       "    <tr>\n",
       "      <td>8939</td>\n",
       "      <td>17748</td>\n",
       "      <td>30000</td>\n",
       "      <td>F</td>\n",
       "      <td>3</td>\n",
       "      <td>M</td>\n",
       "      <td>54</td>\n",
       "      <td>1</td>\n",
       "      <td>2</td>\n",
       "      <td>2</td>\n",
       "      <td>2</td>\n",
       "      <td>4</td>\n",
       "      <td>3</td>\n",
       "      <td>22147</td>\n",
       "      <td>24770</td>\n",
       "      <td>26068</td>\n",
       "      <td>28842</td>\n",
       "      <td>28094</td>\n",
       "      <td>27361</td>\n",
       "      <td>3000</td>\n",
       "      <td>2000</td>\n",
       "      <td>3500</td>\n",
       "      <td>0</td>\n",
       "      <td>0</td>\n",
       "      <td>1000</td>\n",
       "      <td>0</td>\n",
       "      <td>0.803125</td>\n",
       "      <td>-1.802879</td>\n",
       "    </tr>\n",
       "  </tbody>\n",
       "</table>\n",
       "<p>8940 rows × 27 columns</p>\n",
       "</div>"
      ],
      "text/plain": [
       "         ID  CreditLimit Sex  Education Marriage  Age  Status1  Status2  \\\n",
       "0      2561       310000   F          1        S   32        0        0   \n",
       "1      8339       480000   M          1        M   58        0        0   \n",
       "2      6933       500000   M          1        S   37        0        0   \n",
       "3     25772       350000   F          1        M   33        0        0   \n",
       "4     22505       260000   F          2        S   33        0        0   \n",
       "...     ...          ...  ..        ...      ...  ...      ...      ...   \n",
       "8935   9672       170000   M          1        S   48        1        2   \n",
       "8936  14589       280000   M          1        M   50        1        2   \n",
       "8937  16957       270000   M          1        M   50        1        2   \n",
       "8938  26512       100000   F          3        M   55        1        2   \n",
       "8939  17748        30000   F          3        M   54        1        2   \n",
       "\n",
       "      Status3  Status4  Status5  Status6  BillAmt1  BillAmt2  BillAmt3  \\\n",
       "0           0        0        0        0     20138      8267     65993   \n",
       "1           0        0        0        0     24610      -310    148544   \n",
       "2           0        0        0        0      4331     60446     30592   \n",
       "3           0        0        0        0     82964     68532     17926   \n",
       "4           0        0        0        0      5188     12357     28656   \n",
       "...       ...      ...      ...      ...       ...       ...       ...   \n",
       "8935        3        4        5        6      2400      2400      2400   \n",
       "8936        3        3        2        0    327918    321476    314931   \n",
       "8937        3        3        2        2    213616    208784    212058   \n",
       "8938        2        0        3        2      1520      1349       959   \n",
       "8939        2        2        4        3     22147     24770     26068   \n",
       "\n",
       "      BillAmt4  BillAmt5  BillAmt6  PayAmt1  PayAmt2  PayAmt3  PayAmt4  \\\n",
       "0         8543      1695       750     8267    66008     8543     1695   \n",
       "1        18791      5909     68988        4   149654    18885     5940   \n",
       "2       154167     13410     25426    60446    30594   150843   163881   \n",
       "3        17966     30741     31088    68940    18018    18058    30897   \n",
       "4         7497      7685     15434    13000    29022     7500    27769   \n",
       "...        ...       ...       ...      ...      ...      ...      ...   \n",
       "8935      2400      2400      2400        0        0        0        0   \n",
       "8936    176439    154010    134334        0        0      500        0   \n",
       "8937    207226    202394    231339        0     8000        0        0   \n",
       "8938      1623      1470       930        0        0     1623        0   \n",
       "8939     28842     28094     27361     3000     2000     3500        0   \n",
       "\n",
       "      PayAmt5  PayAmt6  Default  p_Default  r_Default  \n",
       "0         750     7350        1   0.045917   2.482305  \n",
       "1       69337   200655        1   0.047749   2.466496  \n",
       "2       25426    39526        1   0.050744   2.441706  \n",
       "3       31244    88461        1   0.051426   2.436231  \n",
       "4       12000     6200        1   0.051968   2.431921  \n",
       "...       ...      ...      ...        ...        ...  \n",
       "8935        0        0        0   0.782549  -1.746872  \n",
       "8936     6267     2257        0   0.785610  -1.754969  \n",
       "8937    32236     3000        0   0.786637  -1.757703  \n",
       "8938        0      780        0   0.791979  -1.772071  \n",
       "8939        0     1000        0   0.803125  -1.802879  \n",
       "\n",
       "[8940 rows x 27 columns]"
      ]
     },
     "execution_count": 17,
     "metadata": {},
     "output_type": "execute_result"
    }
   ],
   "source": [
    "test_yhat = test_yhat.sort_values(by='r_Default', ascending=False).reset_index(drop=True)\n",
    "test_yhat"
   ]
  },
  {
   "cell_type": "markdown",
   "metadata": {},
   "source": [
    "This simple analysis has uncovered some of the most difficult customers for the GBM to correctly predict default. Perhaps because of the high importance of the payment features, `PAY_0`-`PAY_6`, the GBM struggles to correctly predict several cases in which customers made timely recent payments and then suddenly defaulted (high positive residuals) and those customers that were chronically late making payments but did not default (high negative residuals).\n",
    "\n",
    "#### Plot residuals by most important input variable \n",
    "Residuals can also be plotted for important input variables to understand how the values of a single input variable affect prediction errors. When plotted by `PAY_0`, the residuals confirm that the GBM is struggling to accurately predict cases where default status is not correlated with recent payment behavior in an obvious way. The residual plots for values of `PAY_0` indicating timely payment behavior (e.g., `use of revolving credit`, `pay duly`, and `no consumption`) generally display the highest positive residuals and relatively small negative residuals. Residuals for the other values of `PAY_0`, those that represent late recent payments, tend to show large negative residuals and relatively small positive residuals."
   ]
  },
  {
   "cell_type": "code",
   "execution_count": 18,
   "metadata": {
    "scrolled": false
   },
   "outputs": [
    {
     "data": {
      "image/png": "[encoded data removed]",
      "text/plain": [
       "<Figure size 216x432 with 2 Axes>"
      ]
     },
     "metadata": {
      "needs_background": "light"
     },
     "output_type": "display_data"
    }
   ],
   "source": [
    "# use Seaborn FacetGrid for convenience\n",
    "g = sns.FacetGrid(test_yhat, row='Status1', hue=y)\n",
    "_ = g.map(plt.scatter, yhat, 'r_Default', alpha=0.4)"
   ]
  },
  {
   "cell_type": "markdown",
   "metadata": {},
   "source": [
    "## 4. Retrain GBM classifier based on results of residual analysis\n",
    "Now that an issue has been discovered using residual analysis, can it be resolved? \n",
    "\n",
    "#### Create a feature that contains information about behavior over time\n",
    "One strategy to improve prediction accuracy is to introduce a new feature that summarizes a customer's spending behavior over time to expose any potential financial instability: the standard deviation of a customer's bill amounts over six months. Pandas has a one-liner for calculating standard deviations for a set of columns, so the H2OFrame is casted back into Pandas DataFrame for convenience."
   ]
  },
  {
   "cell_type": "code",
   "execution_count": 19,
   "metadata": {},
   "outputs": [
    {
     "data": {
      "text/html": [
       "<div>\n",
       "<style scoped>\n",
       "    .dataframe tbody tr th:only-of-type {\n",
       "        vertical-align: middle;\n",
       "    }\n",
       "\n",
       "    .dataframe tbody tr th {\n",
       "        vertical-align: top;\n",
       "    }\n",
       "\n",
       "    .dataframe thead th {\n",
       "        text-align: right;\n",
       "    }\n",
       "</style>\n",
       "<table border=\"1\" class=\"dataframe\">\n",
       "  <thead>\n",
       "    <tr style=\"text-align: right;\">\n",
       "      <th></th>\n",
       "      <th>ID</th>\n",
       "      <th>CreditLimit</th>\n",
       "      <th>Sex</th>\n",
       "      <th>Education</th>\n",
       "      <th>Marriage</th>\n",
       "      <th>Age</th>\n",
       "      <th>Status1</th>\n",
       "      <th>Status2</th>\n",
       "      <th>Status3</th>\n",
       "      <th>Status4</th>\n",
       "      <th>Status5</th>\n",
       "      <th>Status6</th>\n",
       "      <th>BillAmt1</th>\n",
       "      <th>BillAmt2</th>\n",
       "      <th>BillAmt3</th>\n",
       "      <th>BillAmt4</th>\n",
       "      <th>BillAmt5</th>\n",
       "      <th>BillAmt6</th>\n",
       "      <th>PayAmt1</th>\n",
       "      <th>PayAmt2</th>\n",
       "      <th>PayAmt3</th>\n",
       "      <th>PayAmt4</th>\n",
       "      <th>PayAmt5</th>\n",
       "      <th>PayAmt6</th>\n",
       "      <th>Default</th>\n",
       "      <th>bill_std</th>\n",
       "    </tr>\n",
       "  </thead>\n",
       "  <tbody>\n",
       "    <tr>\n",
       "      <td>0</td>\n",
       "      <td>1</td>\n",
       "      <td>20000</td>\n",
       "      <td>F</td>\n",
       "      <td>2</td>\n",
       "      <td>M</td>\n",
       "      <td>24</td>\n",
       "      <td>1</td>\n",
       "      <td>2</td>\n",
       "      <td>0</td>\n",
       "      <td>0</td>\n",
       "      <td>0</td>\n",
       "      <td>0</td>\n",
       "      <td>3913</td>\n",
       "      <td>3102</td>\n",
       "      <td>689</td>\n",
       "      <td>0</td>\n",
       "      <td>0</td>\n",
       "      <td>0</td>\n",
       "      <td>0</td>\n",
       "      <td>689</td>\n",
       "      <td>0</td>\n",
       "      <td>0</td>\n",
       "      <td>0</td>\n",
       "      <td>0</td>\n",
       "      <td>1</td>\n",
       "      <td>1761.633219</td>\n",
       "    </tr>\n",
       "    <tr>\n",
       "      <td>1</td>\n",
       "      <td>2</td>\n",
       "      <td>120000</td>\n",
       "      <td>F</td>\n",
       "      <td>2</td>\n",
       "      <td>S</td>\n",
       "      <td>26</td>\n",
       "      <td>0</td>\n",
       "      <td>2</td>\n",
       "      <td>0</td>\n",
       "      <td>0</td>\n",
       "      <td>0</td>\n",
       "      <td>2</td>\n",
       "      <td>2682</td>\n",
       "      <td>1725</td>\n",
       "      <td>2682</td>\n",
       "      <td>3272</td>\n",
       "      <td>3455</td>\n",
       "      <td>3261</td>\n",
       "      <td>0</td>\n",
       "      <td>1000</td>\n",
       "      <td>1000</td>\n",
       "      <td>1000</td>\n",
       "      <td>0</td>\n",
       "      <td>2000</td>\n",
       "      <td>1</td>\n",
       "      <td>637.967841</td>\n",
       "    </tr>\n",
       "    <tr>\n",
       "      <td>2</td>\n",
       "      <td>3</td>\n",
       "      <td>90000</td>\n",
       "      <td>F</td>\n",
       "      <td>2</td>\n",
       "      <td>S</td>\n",
       "      <td>34</td>\n",
       "      <td>0</td>\n",
       "      <td>0</td>\n",
       "      <td>0</td>\n",
       "      <td>0</td>\n",
       "      <td>0</td>\n",
       "      <td>0</td>\n",
       "      <td>29239</td>\n",
       "      <td>14027</td>\n",
       "      <td>13559</td>\n",
       "      <td>14331</td>\n",
       "      <td>14948</td>\n",
       "      <td>15549</td>\n",
       "      <td>1518</td>\n",
       "      <td>1500</td>\n",
       "      <td>1000</td>\n",
       "      <td>1000</td>\n",
       "      <td>1000</td>\n",
       "      <td>5000</td>\n",
       "      <td>0</td>\n",
       "      <td>6064.518593</td>\n",
       "    </tr>\n",
       "  </tbody>\n",
       "</table>\n",
       "</div>"
      ],
      "text/plain": [
       "   ID  CreditLimit Sex  Education Marriage  Age  Status1  Status2  Status3  \\\n",
       "0   1        20000   F          2        M   24        1        2        0   \n",
       "1   2       120000   F          2        S   26        0        2        0   \n",
       "2   3        90000   F          2        S   34        0        0        0   \n",
       "\n",
       "   Status4  Status5  Status6  BillAmt1  BillAmt2  BillAmt3  BillAmt4  \\\n",
       "0        0        0        0      3913      3102       689         0   \n",
       "1        0        0        2      2682      1725      2682      3272   \n",
       "2        0        0        0     29239     14027     13559     14331   \n",
       "\n",
       "   BillAmt5  BillAmt6  PayAmt1  PayAmt2  PayAmt3  PayAmt4  PayAmt5  PayAmt6  \\\n",
       "0         0         0        0      689        0        0        0        0   \n",
       "1      3455      3261        0     1000     1000     1000        0     2000   \n",
       "2     14948     15549     1518     1500     1000     1000     1000     5000   \n",
       "\n",
       "   Default     bill_std  \n",
       "0        1  1761.633219  \n",
       "1        1   637.967841  \n",
       "2        0  6064.518593  "
      ]
     },
     "execution_count": 19,
     "metadata": {},
     "output_type": "execute_result"
    }
   ],
   "source": [
    "data = data.as_data_frame()\n",
    "data['bill_std'] = data[['BillAmt1', 'BillAmt2', 'BillAmt3', 'BillAmt4', 'BillAmt5', 'BillAmt6']].std(axis=1)\n",
    "data.head(n=3)"
   ]
  },
  {
   "cell_type": "markdown",
   "metadata": {},
   "source": [
    "#### Convert Pandas DataFrame back to H2OFrame for modeling\n",
    "To retrain the model with the new feature, an H2OFrame is required and that H2OFrame is split using the same proportion and random seed as in cell 8 for the first GBM model."
   ]
  },
  {
   "cell_type": "code",
   "execution_count": 20,
   "metadata": {},
   "outputs": [
    {
     "name": "stdout",
     "output_type": "stream",
     "text": [
      "Parse progress: |█████████████████████████████████████████████████████████| 100%\n"
     ]
    }
   ],
   "source": [
    "data = h2o.H2OFrame(data)                          # convert \n",
    "data[y] = data[y].asfactor()                       # ensure target is handled as a categorical variable\n",
    "train, test = data.split_frame([0.7], seed=12345)  # split into training and validation"
   ]
  },
  {
   "cell_type": "markdown",
   "metadata": {},
   "source": [
    "#### Retrain GBM with new feature\n",
    "The `train()` function is used to retrain the GBM model with the nearly same hyperparameters used previously in cell 9. A slight, but noticable, increase in accuracy results from retraining with the new feature. "
   ]
  },
  {
   "cell_type": "code",
   "execution_count": 21,
   "metadata": {},
   "outputs": [
    {
     "name": "stdout",
     "output_type": "stream",
     "text": [
      "gbm Model Build progress: |███████████████████████████████████████████████| 100%\n",
      "GBM Test AUC = 0.7756\n"
     ]
    }
   ],
   "source": [
    "# initialize GBM model\n",
    "model = H2OGradientBoostingEstimator(ntrees=150,            # maximum 150 trees in GBM\n",
    "                                     max_depth=6,           # trees can have maximum depth of 6\n",
    "                                     sample_rate=0.9,       # use 90% of rows in each iteration (tree)\n",
    "                                     col_sample_rate=0.85,  # use 90% of variables in each iteration (tree)\n",
    "                                     stopping_rounds=5,     # stop if validation error does not decrease for 5 iterations (trees)\n",
    "                                     seed=12345)            # for reproducibility\n",
    "\n",
    "# retrain GBM model\n",
    "model.train(y=y,\n",
    "            x=X + ['bill_std'], # add new feature\n",
    "            training_frame=train, \n",
    "            validation_frame=test)\n",
    "\n",
    "# print AUC\n",
    "print('GBM Test AUC = %.4f' % model.auc(valid=True))"
   ]
  },
  {
   "cell_type": "markdown",
   "metadata": {},
   "source": [
    "While there maybe be other more complex features or a more optimal set of hyperparameters that could lead to further incremental increases in accuracy, more information is needed to achieve meaningful improvement in prediction performance. In particular, a common measure for credit lending, the customers' debt-to-income ratio, for each payment and billing period could be particularly useful. Spikes in debt-to-income ratio, representing loss of income or large increases in debt, would likely be very indicative of a default and would expose the GBM to information not currently available in the UCI credit card default data. Introducing new data could also de-emphasize `PAY_0`, which would likely result in a more stable model as well."
   ]
  },
  {
   "cell_type": "markdown",
   "metadata": {},
   "source": [
    "## 5. Perform sensitivity analysis to test model performance on unseen data\n",
    "\n",
    "Sensitivity analysis investigates whether model behavior and outputs remain stable when data is intentionally perturbed or other changes are simulated in data. Beyond traditional assessment practices, sensitivity analysis of machine learning model predictions is perhaps the most important validation technique for machine learning models. Machine learning models can make drastically differing predictions for only minor changes in input variable values. In practice, many linear model validation techniques focus on the numerical instability of regression parameters due to correlation between input variables or between input variables and the dependent variable. It may be prudent for those switching from linear modeling techniques to machine learning techniques to focus less on numerical instability of model parameters and to focus more on the potential instability of model predictions.\n",
    "\n",
    "Here sensitivity analysis is used to understand the impact of  changing the most important input variable, `PAY_0`, and the impact of a sociologically sensitive variable, `SEX`, in the model. If the model changes in reasonable and expected ways when important variable values are changed this can enhance trust in the model. If the contribution of potentially sensitive variables, such as those related to gender, race, age, marital status, or disability status, can be shown to have minimal impact on the model, this is an indication of fairness in the model predictions and can also increase overall trust in the model.\n",
    "\n",
    "#### Bind new model predictions onto test data \n",
    "Typically, a productive exercise in model debugging and validation is to investigate customers with very high or low predicted probabilities to determine if their predictions stay within reasonable bounds when important variables are changed. The predictions from the new, more accurate model are merged onto the test set to find these potentially interesting customers. "
   ]
  },
  {
   "cell_type": "code",
   "execution_count": 22,
   "metadata": {},
   "outputs": [
    {
     "name": "stdout",
     "output_type": "stream",
     "text": [
      "gbm prediction progress: |████████████████████████████████████████████████| 100%\n"
     ]
    }
   ],
   "source": [
    "preds2 = model.predict(test).drop(['predict', 'p0'])\n",
    "preds2.columns = [yhat]\n",
    "test_yhat = test.cbind(preds1[yhat])"
   ]
  },
  {
   "cell_type": "markdown",
   "metadata": {},
   "source": [
    "#### Helper function for finding percentile indices\n",
    "The function below finds and returns the row indices for the minimum, the maximum, and the deciles of one column in terms of another -- in this case, the model predictions (`p_DEFAULT_NEXT_MONTH`) and the row identifier (`ID`), respectively. These indices are used as a starting point for boundary testing. Outlying predictions found through residual analysis is another group of potentially interesting local predictions to investigate."
   ]
  },
  {
   "cell_type": "code",
   "execution_count": 23,
   "metadata": {},
   "outputs": [
    {
     "data": {
      "text/plain": [
       "{0: 7041,\n",
       " 99: 7857,\n",
       " 10: 288,\n",
       " 20: 20099,\n",
       " 30: 8897,\n",
       " 40: 8289,\n",
       " 50: 6780,\n",
       " 60: 4923,\n",
       " 70: 6985,\n",
       " 80: 10251,\n",
       " 90: 3823}"
      ]
     },
     "execution_count": 23,
     "metadata": {},
     "output_type": "execute_result"
    }
   ],
   "source": [
    "def get_percentile_dict(yhat, id_, frame):\n",
    "\n",
    "    \"\"\" Returns the minimum, the maximum, and the deciles of a column, yhat, \n",
    "        as the indices based on another column id_.\n",
    "    \n",
    "    Args:\n",
    "        yhat: Column in which to find percentiles.\n",
    "        id_: Id column that stores indices for percentiles of yhat.\n",
    "        frame: H2OFrame containing yhat and id_. \n",
    "    \n",
    "    Returns:\n",
    "        Dictionary of percentile values and index column values.\n",
    "    \n",
    "    \"\"\"\n",
    "    \n",
    "    # create a copy of frame and sort it by yhat\n",
    "    sort_df = frame.as_data_frame()\n",
    "    sort_df.sort_values(yhat, inplace=True)\n",
    "    sort_df.reset_index(inplace=True)\n",
    "    \n",
    "    # find top and bottom percentiles\n",
    "    percentiles_dict = {}\n",
    "    percentiles_dict[0] = sort_df.loc[0, id_]\n",
    "    percentiles_dict[99] = sort_df.loc[sort_df.shape[0]-1, id_]\n",
    "\n",
    "    # find 10th-90th percentiles\n",
    "    inc = sort_df.shape[0]//10\n",
    "    for i in range(1, 10):\n",
    "        percentiles_dict[i * 10] = sort_df.loc[i * inc,  id_]\n",
    "\n",
    "    return percentiles_dict\n",
    "\n",
    "# display percentiles dictionary\n",
    "# ID values for rows\n",
    "# from lowest prediction \n",
    "# to highest prediction\n",
    "pred_percentile_dict = get_percentile_dict(yhat, 'ID', test_yhat)\n",
    "pred_percentile_dict"
   ]
  },
  {
   "cell_type": "markdown",
   "metadata": {},
   "source": [
    "#### Display test data prediction range\n",
    "Unlike some regression models and neural networks that can produce outrageous predictions for changes in input variables, GBM predictions in new data are bounded by the lowest and highest probability leaf nodes in each constiuent decision tree in the trained model. While unbounded, extreme predictions are typically not an issue for tree models and classification tasks, it is often a good idea to check that the model predictions cover a full range of useful values in the test set. Below, we can see that the model produces both low and high predictions in the test set, indicating that it is likely responsive to signal in new data and not simply predicting the majority class or an average value. "
   ]
  },
  {
   "cell_type": "code",
   "execution_count": 24,
   "metadata": {},
   "outputs": [
    {
     "name": "stdout",
     "output_type": "stream",
     "text": [
      "Lowest prediction: "
     ]
    },
    {
     "data": {
      "text/html": [
       "<table>\n",
       "<thead>\n",
       "<tr><th style=\"text-align: right;\">  Default</th><th style=\"text-align: right;\">  p_Default</th></tr>\n",
       "</thead>\n",
       "<tbody>\n",
       "<tr><td style=\"text-align: right;\">        0</td><td style=\"text-align: right;\">  0.0374856</td></tr>\n",
       "</tbody>\n",
       "</table>"
      ]
     },
     "metadata": {},
     "output_type": "display_data"
    },
    {
     "name": "stdout",
     "output_type": "stream",
     "text": [
      "\n",
      "Highest prediction: "
     ]
    },
    {
     "data": {
      "text/html": [
       "<table>\n",
       "<thead>\n",
       "<tr><th style=\"text-align: right;\">  Default</th><th style=\"text-align: right;\">  p_Default</th></tr>\n",
       "</thead>\n",
       "<tbody>\n",
       "<tr><td style=\"text-align: right;\">        1</td><td style=\"text-align: right;\">   0.846665</td></tr>\n",
       "</tbody>\n",
       "</table>"
      ]
     },
     "metadata": {},
     "output_type": "display_data"
    },
    {
     "name": "stdout",
     "output_type": "stream",
     "text": [
      "\n"
     ]
    }
   ],
   "source": [
    "print('Lowest prediction:', test_yhat[test_yhat['ID'] == int(pred_percentile_dict[0])][[y, yhat]])\n",
    "print('Highest prediction:', test_yhat[test_yhat['ID'] == int(pred_percentile_dict[99])][[y, yhat]])"
   ]
  },
  {
   "cell_type": "markdown",
   "metadata": {},
   "source": [
    "#### Use trained model to test predictions for interesting situations: customer least likely to default\n",
    "As a starting point for further analysis, sensitivity analysis is performed for the customer least likely to default. This woman has a very low probability of defaulting according to the trained GBM."
   ]
  },
  {
   "cell_type": "code",
   "execution_count": 25,
   "metadata": {},
   "outputs": [
    {
     "data": {
      "text/html": [
       "<table>\n",
       "<thead>\n",
       "<tr><th style=\"text-align: right;\">  ID</th><th style=\"text-align: right;\">  CreditLimit</th><th>Sex  </th><th style=\"text-align: right;\">  Education</th><th>Marriage  </th><th style=\"text-align: right;\">  Age</th><th style=\"text-align: right;\">  Status1</th><th style=\"text-align: right;\">  Status2</th><th style=\"text-align: right;\">  Status3</th><th style=\"text-align: right;\">  Status4</th><th style=\"text-align: right;\">  Status5</th><th style=\"text-align: right;\">  Status6</th><th style=\"text-align: right;\">  BillAmt1</th><th style=\"text-align: right;\">  BillAmt2</th><th style=\"text-align: right;\">  BillAmt3</th><th style=\"text-align: right;\">  BillAmt4</th><th style=\"text-align: right;\">  BillAmt5</th><th style=\"text-align: right;\">  BillAmt6</th><th style=\"text-align: right;\">  PayAmt1</th><th style=\"text-align: right;\">  PayAmt2</th><th style=\"text-align: right;\">  PayAmt3</th><th style=\"text-align: right;\">  PayAmt4</th><th style=\"text-align: right;\">  PayAmt5</th><th style=\"text-align: right;\">  PayAmt6</th><th style=\"text-align: right;\">  Default</th><th style=\"text-align: right;\">  bill_std</th><th style=\"text-align: right;\">  p_Default</th></tr>\n",
       "</thead>\n",
       "<tbody>\n",
       "<tr><td style=\"text-align: right;\">7041</td><td style=\"text-align: right;\">       500000</td><td>F    </td><td style=\"text-align: right;\">          1</td><td>M         </td><td style=\"text-align: right;\">   39</td><td style=\"text-align: right;\">        0</td><td style=\"text-align: right;\">        0</td><td style=\"text-align: right;\">        0</td><td style=\"text-align: right;\">        0</td><td style=\"text-align: right;\">        0</td><td style=\"text-align: right;\">        0</td><td style=\"text-align: right;\">     39823</td><td style=\"text-align: right;\">     61597</td><td style=\"text-align: right;\">     52210</td><td style=\"text-align: right;\">     27843</td><td style=\"text-align: right;\">     28926</td><td style=\"text-align: right;\">     11931</td><td style=\"text-align: right;\">    30006</td><td style=\"text-align: right;\">    23016</td><td style=\"text-align: right;\">      566</td><td style=\"text-align: right;\">    22323</td><td style=\"text-align: right;\">    11931</td><td style=\"text-align: right;\">    10683</td><td style=\"text-align: right;\">        0</td><td style=\"text-align: right;\">     18010</td><td style=\"text-align: right;\">  0.0374856</td></tr>\n",
       "</tbody>\n",
       "</table>"
      ]
     },
     "metadata": {},
     "output_type": "display_data"
    },
    {
     "data": {
      "text/plain": []
     },
     "execution_count": 25,
     "metadata": {},
     "output_type": "execute_result"
    }
   ],
   "source": [
    "test_case = test_yhat[test_yhat['ID'] == int(pred_percentile_dict[0])]\n",
    "test_case"
   ]
  },
  {
   "cell_type": "markdown",
   "metadata": {},
   "source": [
    "#### Test effect of changing `Sex`\n",
    "\n",
    "`Sex` should not have a large impact on predictions. This could indicate unwanted sociological bias in the GBM model."
   ]
  },
  {
   "cell_type": "code",
   "execution_count": 26,
   "metadata": {},
   "outputs": [
    {
     "name": "stdout",
     "output_type": "stream",
     "text": [
      "gbm prediction progress: |████████████████████████████████████████████████| 100%\n"
     ]
    },
    {
     "data": {
      "text/html": [
       "<table>\n",
       "<thead>\n",
       "<tr><th style=\"text-align: right;\">  ID</th><th style=\"text-align: right;\">  CreditLimit</th><th>Sex  </th><th style=\"text-align: right;\">  Education</th><th>Marriage  </th><th style=\"text-align: right;\">  Age</th><th style=\"text-align: right;\">  Status1</th><th style=\"text-align: right;\">  Status2</th><th style=\"text-align: right;\">  Status3</th><th style=\"text-align: right;\">  Status4</th><th style=\"text-align: right;\">  Status5</th><th style=\"text-align: right;\">  Status6</th><th style=\"text-align: right;\">  BillAmt1</th><th style=\"text-align: right;\">  BillAmt2</th><th style=\"text-align: right;\">  BillAmt3</th><th style=\"text-align: right;\">  BillAmt4</th><th style=\"text-align: right;\">  BillAmt5</th><th style=\"text-align: right;\">  BillAmt6</th><th style=\"text-align: right;\">  PayAmt1</th><th style=\"text-align: right;\">  PayAmt2</th><th style=\"text-align: right;\">  PayAmt3</th><th style=\"text-align: right;\">  PayAmt4</th><th style=\"text-align: right;\">  PayAmt5</th><th style=\"text-align: right;\">  PayAmt6</th><th style=\"text-align: right;\">  Default</th><th style=\"text-align: right;\">  bill_std</th><th style=\"text-align: right;\">  predict</th><th style=\"text-align: right;\">      p0</th><th style=\"text-align: right;\">      p1</th></tr>\n",
       "</thead>\n",
       "<tbody>\n",
       "<tr><td style=\"text-align: right;\">7041</td><td style=\"text-align: right;\">       500000</td><td>M    </td><td style=\"text-align: right;\">          1</td><td>M         </td><td style=\"text-align: right;\">   39</td><td style=\"text-align: right;\">        0</td><td style=\"text-align: right;\">        0</td><td style=\"text-align: right;\">        0</td><td style=\"text-align: right;\">        0</td><td style=\"text-align: right;\">        0</td><td style=\"text-align: right;\">        0</td><td style=\"text-align: right;\">     39823</td><td style=\"text-align: right;\">     61597</td><td style=\"text-align: right;\">     52210</td><td style=\"text-align: right;\">     27843</td><td style=\"text-align: right;\">     28926</td><td style=\"text-align: right;\">     11931</td><td style=\"text-align: right;\">    30006</td><td style=\"text-align: right;\">    23016</td><td style=\"text-align: right;\">      566</td><td style=\"text-align: right;\">    22323</td><td style=\"text-align: right;\">    11931</td><td style=\"text-align: right;\">    10683</td><td style=\"text-align: right;\">        0</td><td style=\"text-align: right;\">     18010</td><td style=\"text-align: right;\">        0</td><td style=\"text-align: right;\">0.966138</td><td style=\"text-align: right;\">0.033862</td></tr>\n",
       "</tbody>\n",
       "</table>"
      ]
     },
     "metadata": {},
     "output_type": "display_data"
    },
    {
     "data": {
      "text/plain": []
     },
     "execution_count": 26,
     "metadata": {},
     "output_type": "execute_result"
    }
   ],
   "source": [
    "test_case = test_yhat[test_yhat['ID'] == int(pred_percentile_dict[0])]\n",
    "test_case = test_case.drop([yhat])\n",
    "test_case['Sex'] = 'M'\n",
    "test_case = test_case.cbind(model.predict(test_case))\n",
    "test_case"
   ]
  },
  {
   "cell_type": "markdown",
   "metadata": {},
   "source": [
    "As desired, simulating this person as a male does not have a large impact on their probability of default.\n",
    "\n",
    "#### Test effect of changing `Status1` [rewrite]\n",
    "\n",
    "Variable importance and residual analysis indicates that the value of `Status1` can have a strong effect on model predictions. Measuring the change in predicted probability when the value of `Status1` is changed from a timely payment to late payment is probably a good test case for prediction stability. "
   ]
  },
  {
   "cell_type": "code",
   "execution_count": 28,
   "metadata": {},
   "outputs": [
    {
     "name": "stdout",
     "output_type": "stream",
     "text": [
      "gbm prediction progress: |████████████████████████████████████████████████| 100%\n"
     ]
    },
    {
     "data": {
      "text/html": [
       "<table>\n",
       "<thead>\n",
       "<tr><th style=\"text-align: right;\">  ID</th><th style=\"text-align: right;\">  CreditLimit</th><th>Sex  </th><th style=\"text-align: right;\">  Education</th><th>Marriage  </th><th style=\"text-align: right;\">  Age</th><th style=\"text-align: right;\">  Status1</th><th style=\"text-align: right;\">  Status2</th><th style=\"text-align: right;\">  Status3</th><th style=\"text-align: right;\">  Status4</th><th style=\"text-align: right;\">  Status5</th><th style=\"text-align: right;\">  Status6</th><th style=\"text-align: right;\">  BillAmt1</th><th style=\"text-align: right;\">  BillAmt2</th><th style=\"text-align: right;\">  BillAmt3</th><th style=\"text-align: right;\">  BillAmt4</th><th style=\"text-align: right;\">  BillAmt5</th><th style=\"text-align: right;\">  BillAmt6</th><th style=\"text-align: right;\">  PayAmt1</th><th style=\"text-align: right;\">  PayAmt2</th><th style=\"text-align: right;\">  PayAmt3</th><th style=\"text-align: right;\">  PayAmt4</th><th style=\"text-align: right;\">  PayAmt5</th><th style=\"text-align: right;\">  PayAmt6</th><th style=\"text-align: right;\">  Default</th><th style=\"text-align: right;\">  bill_std</th><th style=\"text-align: right;\">  predict</th><th style=\"text-align: right;\">      p0</th><th style=\"text-align: right;\">       p1</th></tr>\n",
       "</thead>\n",
       "<tbody>\n",
       "<tr><td style=\"text-align: right;\">7041</td><td style=\"text-align: right;\">       500000</td><td>F    </td><td style=\"text-align: right;\">          1</td><td>M         </td><td style=\"text-align: right;\">   39</td><td style=\"text-align: right;\">        1</td><td style=\"text-align: right;\">        0</td><td style=\"text-align: right;\">        0</td><td style=\"text-align: right;\">        0</td><td style=\"text-align: right;\">        0</td><td style=\"text-align: right;\">        0</td><td style=\"text-align: right;\">     39823</td><td style=\"text-align: right;\">     61597</td><td style=\"text-align: right;\">     52210</td><td style=\"text-align: right;\">     27843</td><td style=\"text-align: right;\">     28926</td><td style=\"text-align: right;\">     11931</td><td style=\"text-align: right;\">    30006</td><td style=\"text-align: right;\">    23016</td><td style=\"text-align: right;\">      566</td><td style=\"text-align: right;\">    22323</td><td style=\"text-align: right;\">    11931</td><td style=\"text-align: right;\">    10683</td><td style=\"text-align: right;\">        0</td><td style=\"text-align: right;\">     18010</td><td style=\"text-align: right;\">        0</td><td style=\"text-align: right;\">0.909453</td><td style=\"text-align: right;\">0.0905475</td></tr>\n",
       "</tbody>\n",
       "</table>"
      ]
     },
     "metadata": {},
     "output_type": "display_data"
    },
    {
     "data": {
      "text/plain": []
     },
     "execution_count": 28,
     "metadata": {},
     "output_type": "execute_result"
    }
   ],
   "source": [
    "test_case = test_yhat[test_yhat['ID'] == int(pred_percentile_dict[0])]\n",
    "test_case = test_case.drop([yhat])\n",
    "test_case['Status1'] = 1 \n",
    "test_case = test_case.cbind(model.predict(test_case))\n",
    "test_case"
   ]
  },
  {
   "cell_type": "markdown",
   "metadata": {},
   "source": [
    "When the value is changed from `-2` to `2` there is a very large increase in predicted probability. Such a marked change related to the value of one variable is problematic for numerous reasons.\n",
    "\n",
    "#### Use trained model to test predictions for interesting situations: customer most likely to default\n",
    "\n",
    "Now the same test will be performed on the customer most likely to default. This woman has a very high probability of default under the GBM model. "
   ]
  },
  {
   "cell_type": "code",
   "execution_count": 31,
   "metadata": {},
   "outputs": [
    {
     "data": {
      "text/html": [
       "<table>\n",
       "<thead>\n",
       "<tr><th style=\"text-align: right;\">  ID</th><th style=\"text-align: right;\">  CreditLimit</th><th>Sex  </th><th style=\"text-align: right;\">  Education</th><th>Marriage  </th><th style=\"text-align: right;\">  Age</th><th style=\"text-align: right;\">  Status1</th><th style=\"text-align: right;\">  Status2</th><th style=\"text-align: right;\">  Status3</th><th style=\"text-align: right;\">  Status4</th><th style=\"text-align: right;\">  Status5</th><th style=\"text-align: right;\">  Status6</th><th style=\"text-align: right;\">  BillAmt1</th><th style=\"text-align: right;\">  BillAmt2</th><th style=\"text-align: right;\">  BillAmt3</th><th style=\"text-align: right;\">  BillAmt4</th><th style=\"text-align: right;\">  BillAmt5</th><th style=\"text-align: right;\">  BillAmt6</th><th style=\"text-align: right;\">  PayAmt1</th><th style=\"text-align: right;\">  PayAmt2</th><th style=\"text-align: right;\">  PayAmt3</th><th style=\"text-align: right;\">  PayAmt4</th><th style=\"text-align: right;\">  PayAmt5</th><th style=\"text-align: right;\">  PayAmt6</th><th style=\"text-align: right;\">  Default</th><th style=\"text-align: right;\">  bill_std</th><th style=\"text-align: right;\">  p_Default</th></tr>\n",
       "</thead>\n",
       "<tbody>\n",
       "<tr><td style=\"text-align: right;\">7857</td><td style=\"text-align: right;\">       300000</td><td>F    </td><td style=\"text-align: right;\">          1</td><td>S         </td><td style=\"text-align: right;\">   25</td><td style=\"text-align: right;\">        1</td><td style=\"text-align: right;\">        2</td><td style=\"text-align: right;\">        3</td><td style=\"text-align: right;\">        3</td><td style=\"text-align: right;\">        2</td><td style=\"text-align: right;\">        3</td><td style=\"text-align: right;\">    315632</td><td style=\"text-align: right;\">    309330</td><td style=\"text-align: right;\">    302869</td><td style=\"text-align: right;\">    306395</td><td style=\"text-align: right;\">    311256</td><td style=\"text-align: right;\">    305413</td><td style=\"text-align: right;\">        0</td><td style=\"text-align: right;\">        0</td><td style=\"text-align: right;\">    10000</td><td style=\"text-align: right;\">    10000</td><td style=\"text-align: right;\">        0</td><td style=\"text-align: right;\">        0</td><td style=\"text-align: right;\">        1</td><td style=\"text-align: right;\">   4578.58</td><td style=\"text-align: right;\">   0.846665</td></tr>\n",
       "</tbody>\n",
       "</table>"
      ]
     },
     "metadata": {},
     "output_type": "display_data"
    },
    {
     "data": {
      "text/plain": []
     },
     "execution_count": 31,
     "metadata": {},
     "output_type": "execute_result"
    }
   ],
   "source": [
    "test_case = test_yhat[test_yhat['ID'] == int(pred_percentile_dict[99])]\n",
    "test_case"
   ]
  },
  {
   "cell_type": "markdown",
   "metadata": {},
   "source": [
    "#### Test effect of changing `Sex`\n",
    "Changing the value for `Sex` from female to male for this customer decreases the predicted probability by a relatively small amount."
   ]
  },
  {
   "cell_type": "code",
   "execution_count": 32,
   "metadata": {},
   "outputs": [
    {
     "name": "stdout",
     "output_type": "stream",
     "text": [
      "gbm prediction progress: |████████████████████████████████████████████████| 100%\n"
     ]
    },
    {
     "data": {
      "text/html": [
       "<table>\n",
       "<thead>\n",
       "<tr><th style=\"text-align: right;\">  ID</th><th style=\"text-align: right;\">  CreditLimit</th><th>Sex  </th><th style=\"text-align: right;\">  Education</th><th>Marriage  </th><th style=\"text-align: right;\">  Age</th><th style=\"text-align: right;\">  Status1</th><th style=\"text-align: right;\">  Status2</th><th style=\"text-align: right;\">  Status3</th><th style=\"text-align: right;\">  Status4</th><th style=\"text-align: right;\">  Status5</th><th style=\"text-align: right;\">  Status6</th><th style=\"text-align: right;\">  BillAmt1</th><th style=\"text-align: right;\">  BillAmt2</th><th style=\"text-align: right;\">  BillAmt3</th><th style=\"text-align: right;\">  BillAmt4</th><th style=\"text-align: right;\">  BillAmt5</th><th style=\"text-align: right;\">  BillAmt6</th><th style=\"text-align: right;\">  PayAmt1</th><th style=\"text-align: right;\">  PayAmt2</th><th style=\"text-align: right;\">  PayAmt3</th><th style=\"text-align: right;\">  PayAmt4</th><th style=\"text-align: right;\">  PayAmt5</th><th style=\"text-align: right;\">  PayAmt6</th><th style=\"text-align: right;\">  Default</th><th style=\"text-align: right;\">  bill_std</th><th style=\"text-align: right;\">  predict</th><th style=\"text-align: right;\">      p0</th><th style=\"text-align: right;\">      p1</th></tr>\n",
       "</thead>\n",
       "<tbody>\n",
       "<tr><td style=\"text-align: right;\">7857</td><td style=\"text-align: right;\">       300000</td><td>M    </td><td style=\"text-align: right;\">          1</td><td>S         </td><td style=\"text-align: right;\">   25</td><td style=\"text-align: right;\">        1</td><td style=\"text-align: right;\">        2</td><td style=\"text-align: right;\">        3</td><td style=\"text-align: right;\">        3</td><td style=\"text-align: right;\">        2</td><td style=\"text-align: right;\">        3</td><td style=\"text-align: right;\">    315632</td><td style=\"text-align: right;\">    309330</td><td style=\"text-align: right;\">    302869</td><td style=\"text-align: right;\">    306395</td><td style=\"text-align: right;\">    311256</td><td style=\"text-align: right;\">    305413</td><td style=\"text-align: right;\">        0</td><td style=\"text-align: right;\">        0</td><td style=\"text-align: right;\">    10000</td><td style=\"text-align: right;\">    10000</td><td style=\"text-align: right;\">        0</td><td style=\"text-align: right;\">        0</td><td style=\"text-align: right;\">        1</td><td style=\"text-align: right;\">   4578.58</td><td style=\"text-align: right;\">        1</td><td style=\"text-align: right;\">0.233259</td><td style=\"text-align: right;\">0.766741</td></tr>\n",
       "</tbody>\n",
       "</table>"
      ]
     },
     "metadata": {},
     "output_type": "display_data"
    },
    {
     "data": {
      "text/plain": []
     },
     "execution_count": 32,
     "metadata": {},
     "output_type": "execute_result"
    }
   ],
   "source": [
    "test_case = test_yhat[test_yhat['ID'] == int(pred_percentile_dict[99])]\n",
    "test_case = test_case.drop([yhat])\n",
    "test_case['Sex'] = 'M'\n",
    "test_case = test_case.cbind(model.predict(test_case))\n",
    "test_case"
   ]
  },
  {
   "cell_type": "markdown",
   "metadata": {},
   "source": [
    "#### Test effect of changing `Status1`\n",
    "Switching the riskiest customer's value for `Status1` from `1` to `0` reduces the their chance of default by about 20%, a noticable swing in probability but still a higher probability value, notably greater than common lending cutoffs."
   ]
  },
  {
   "cell_type": "code",
   "execution_count": 33,
   "metadata": {},
   "outputs": [
    {
     "name": "stdout",
     "output_type": "stream",
     "text": [
      "gbm prediction progress: |████████████████████████████████████████████████| 100%\n"
     ]
    },
    {
     "data": {
      "text/html": [
       "<table>\n",
       "<thead>\n",
       "<tr><th style=\"text-align: right;\">  ID</th><th style=\"text-align: right;\">  CreditLimit</th><th>Sex  </th><th style=\"text-align: right;\">  Education</th><th>Marriage  </th><th style=\"text-align: right;\">  Age</th><th style=\"text-align: right;\">  Status1</th><th style=\"text-align: right;\">  Status2</th><th style=\"text-align: right;\">  Status3</th><th style=\"text-align: right;\">  Status4</th><th style=\"text-align: right;\">  Status5</th><th style=\"text-align: right;\">  Status6</th><th style=\"text-align: right;\">  BillAmt1</th><th style=\"text-align: right;\">  BillAmt2</th><th style=\"text-align: right;\">  BillAmt3</th><th style=\"text-align: right;\">  BillAmt4</th><th style=\"text-align: right;\">  BillAmt5</th><th style=\"text-align: right;\">  BillAmt6</th><th style=\"text-align: right;\">  PayAmt1</th><th style=\"text-align: right;\">  PayAmt2</th><th style=\"text-align: right;\">  PayAmt3</th><th style=\"text-align: right;\">  PayAmt4</th><th style=\"text-align: right;\">  PayAmt5</th><th style=\"text-align: right;\">  PayAmt6</th><th style=\"text-align: right;\">  Default</th><th style=\"text-align: right;\">  bill_std</th><th style=\"text-align: right;\">  predict</th><th style=\"text-align: right;\">      p0</th><th style=\"text-align: right;\">      p1</th></tr>\n",
       "</thead>\n",
       "<tbody>\n",
       "<tr><td style=\"text-align: right;\">7857</td><td style=\"text-align: right;\">       300000</td><td>F    </td><td style=\"text-align: right;\">          1</td><td>S         </td><td style=\"text-align: right;\">   25</td><td style=\"text-align: right;\">        0</td><td style=\"text-align: right;\">        2</td><td style=\"text-align: right;\">        3</td><td style=\"text-align: right;\">        3</td><td style=\"text-align: right;\">        2</td><td style=\"text-align: right;\">        3</td><td style=\"text-align: right;\">    315632</td><td style=\"text-align: right;\">    309330</td><td style=\"text-align: right;\">    302869</td><td style=\"text-align: right;\">    306395</td><td style=\"text-align: right;\">    311256</td><td style=\"text-align: right;\">    305413</td><td style=\"text-align: right;\">        0</td><td style=\"text-align: right;\">        0</td><td style=\"text-align: right;\">    10000</td><td style=\"text-align: right;\">    10000</td><td style=\"text-align: right;\">        0</td><td style=\"text-align: right;\">        0</td><td style=\"text-align: right;\">        1</td><td style=\"text-align: right;\">   4578.58</td><td style=\"text-align: right;\">        1</td><td style=\"text-align: right;\">0.267241</td><td style=\"text-align: right;\">0.732759</td></tr>\n",
       "</tbody>\n",
       "</table>"
      ]
     },
     "metadata": {},
     "output_type": "display_data"
    },
    {
     "data": {
      "text/plain": []
     },
     "execution_count": 33,
     "metadata": {},
     "output_type": "execute_result"
    }
   ],
   "source": [
    "test_case = test_yhat[test_yhat['ID'] == int(pred_percentile_dict[99])]\n",
    "test_case = test_case.drop([yhat])\n",
    "test_case['Status1'] = 0\n",
    "test_case = test_case.cbind(model.predict(test_case))\n",
    "test_case"
   ]
  },
  {
   "cell_type": "markdown",
   "metadata": {},
   "source": [
    "From this small number of boundary test cases, the GBM model appears stable. However, if large swings in predictions occur for sensitive or important variables, practicioners are urged to retrain unstable models without the problematic variables or combinations of variables, which may unfortunately involve some trial and error. Also, four test cases is woefully inadequate for real-world models. Automated sensitivity analysis across many variables, combinations of variables, and for many different rows of data seems more appropriate for mission-critical machine learning.\n",
    "\n",
    "#### Shutdown H2O\n",
    "After using h2o, it's typically best to shut it down. However, before doing so, users should ensure that they have saved any h2o data structures, such as models, H2OFrames, or scoring artifacts, such as POJOs or MOJOs."
   ]
  },
  {
   "cell_type": "code",
   "execution_count": 34,
   "metadata": {},
   "outputs": [
    {
     "name": "stdout",
     "output_type": "stream",
     "text": [
      "H2O session _sid_ba50 closed.\n"
     ]
    }
   ],
   "source": [
    "# be careful, this can erase your work!\n",
    "h2o.cluster().shutdown()"
   ]
  },
  {
   "cell_type": "markdown",
   "metadata": {},
   "source": [
    "#### Summary\n",
    "\n",
    "In this notebook, a complex GBM classifier was trained to predict credit card defaults. Residual analysis was used to debug the GBM model predictions and enabled a slight improvement in accuracy. Sensitivity analysis was used to test the GBM for trustworthiness and stability. In a small number of boundary test cases, the trained GBM appeared stable. Residual analysis and sensitivity analysis are powerful model debugging techniques and can increase trust in complex models. These techniques should generalize well for many types of business and research problems, enabling you to train a complex model and justify it to your colleagues, bosses, and potentially, external regulators. "
   ]
  }
 ],
 "metadata": {
  "anaconda-cloud": {},
  "kernelspec": {
   "display_name": "Python 3",
   "language": "python",
   "name": "python3"
  },
  "language_info": {
   "codemirror_mode": {
    "name": "ipython",
    "version": 3
   },
   "file_extension": ".py",
   "mimetype": "text/x-python",
   "name": "python",
   "nbconvert_exporter": "python",
   "pygments_lexer": "ipython3",
   "version": "3.6.9"
  }
 },
 "nbformat": 4,
 "nbformat_minor": 2
}
