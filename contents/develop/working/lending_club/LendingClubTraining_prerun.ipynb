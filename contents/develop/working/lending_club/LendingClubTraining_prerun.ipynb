{
 "cells": [
  {
   "cell_type": "markdown",
   "metadata": {},
   "source": [
    "# *Lending Club Loan Default*\n",
    "\n",
    "In this tutorial, we will go through a step-by-step workflow to determine loan deliquency. We will make predictions based only on the information available at the time the loan was issued.  The data for this exercise come from the public Lending Club data set, a description can be found [here](https://www.kaggle.com/pragyanbo/a-hitchhiker-s-guide-to-lending-club-loan-data/notebook)."
   ]
  },
  {
   "cell_type": "markdown",
   "metadata": {},
   "source": [
    "## Workflow\n",
    "\n",
    "1. Start H2O-3 cluster\n",
    "2. Import data\n",
    "3. Clean data\n",
    "4. Feature engineering\n",
    "5. Model training\n",
    "6. Examine model accuracy\n",
    "7. Interpret model\n",
    "8. Save and reuse model\n",
    "9. AutoML (optional)\n",
    "10. Stop H2O-3 cluster"
   ]
  },
  {
   "cell_type": "markdown",
   "metadata": {},
   "source": [
    "# Step 1 (of 10). Start H2O-3 cluster"
   ]
  },
  {
   "cell_type": "markdown",
   "metadata": {},
   "source": [
    "_**Note**: The `os.system` command below is used solely for the H2O Aquarium training platform._"
   ]
  },
  {
   "cell_type": "code",
   "execution_count": 1,
   "metadata": {},
   "outputs": [],
   "source": [
    "import os\n",
    "os.system('/home/h2o/bin/startup')\n",
    "!sleep 10"
   ]
  },
  {
   "cell_type": "markdown",
   "metadata": {},
   "source": [
    "Start by importing `h2o` and creating a connection to the server. The parameters used in `h2o.init` will depend on your specific environment."
   ]
  },
  {
   "cell_type": "code",
   "execution_count": 2,
   "metadata": {},
   "outputs": [
    {
     "name": "stdout",
     "output_type": "stream",
     "text": [
      "Checking whether there is an H2O instance running at http://localhost:54321/h2o . connected.\n"
     ]
    },
    {
     "data": {
      "text/html": [
       "<div style=\"overflow:auto\"><table style=\"width:50%\"><tr><td>H2O cluster uptime:</td>\n",
       "<td>20 secs</td></tr>\n",
       "<tr><td>H2O cluster timezone:</td>\n",
       "<td>Etc/UTC</td></tr>\n",
       "<tr><td>H2O data parsing timezone:</td>\n",
       "<td>UTC</td></tr>\n",
       "<tr><td>H2O cluster version:</td>\n",
       "<td>3.24.0.5</td></tr>\n",
       "<tr><td>H2O cluster version age:</td>\n",
       "<td>1 month and 30 days </td></tr>\n",
       "<tr><td>H2O cluster name:</td>\n",
       "<td>h2o</td></tr>\n",
       "<tr><td>H2O cluster total nodes:</td>\n",
       "<td>1</td></tr>\n",
       "<tr><td>H2O cluster free memory:</td>\n",
       "<td>13.98 Gb</td></tr>\n",
       "<tr><td>H2O cluster total cores:</td>\n",
       "<td>16</td></tr>\n",
       "<tr><td>H2O cluster allowed cores:</td>\n",
       "<td>16</td></tr>\n",
       "<tr><td>H2O cluster status:</td>\n",
       "<td>accepting new members, healthy</td></tr>\n",
       "<tr><td>H2O connection url:</td>\n",
       "<td>http://localhost:54321/h2o</td></tr>\n",
       "<tr><td>H2O connection proxy:</td>\n",
       "<td>None</td></tr>\n",
       "<tr><td>H2O internal security:</td>\n",
       "<td>False</td></tr>\n",
       "<tr><td>H2O API Extensions:</td>\n",
       "<td>Amazon S3, XGBoost, Algos, AutoML, Core V3, Core V4</td></tr>\n",
       "<tr><td>Python version:</td>\n",
       "<td>3.6.9 final</td></tr></table></div>"
      ],
      "text/plain": [
       "--------------------------  ---------------------------------------------------\n",
       "H2O cluster uptime:         20 secs\n",
       "H2O cluster timezone:       Etc/UTC\n",
       "H2O data parsing timezone:  UTC\n",
       "H2O cluster version:        3.24.0.5\n",
       "H2O cluster version age:    1 month and 30 days\n",
       "H2O cluster name:           h2o\n",
       "H2O cluster total nodes:    1\n",
       "H2O cluster free memory:    13.98 Gb\n",
       "H2O cluster total cores:    16\n",
       "H2O cluster allowed cores:  16\n",
       "H2O cluster status:         accepting new members, healthy\n",
       "H2O connection url:         http://localhost:54321/h2o\n",
       "H2O connection proxy:\n",
       "H2O internal security:      False\n",
       "H2O API Extensions:         Amazon S3, XGBoost, Algos, AutoML, Core V3, Core V4\n",
       "Python version:             3.6.9 final\n",
       "--------------------------  ---------------------------------------------------"
      ]
     },
     "metadata": {},
     "output_type": "display_data"
    }
   ],
   "source": [
    "import h2o\n",
    "h2o.init(url='http://localhost:54321/h2o')"
   ]
  },
  {
   "cell_type": "markdown",
   "metadata": {},
   "source": [
    "Note: The method you use for starting and stopping an H2O-3 cluster will depend on how H2O is installed and configured on your system. Regardless of how H2O is installed, if you start a cluster, you will need to ensure that it is shut down when you are done."
   ]
  },
  {
   "cell_type": "markdown",
   "metadata": {},
   "source": [
    "# Step 2 (of 10). Import data\n",
    "\n",
    "The data set we use below is a local copy of https://s3-us-west-2.amazonaws.com/h2o-tutorials/data/topics/lending/lending_club/LoanStats3a.csv.\n",
    "\n",
    "### View and Inspect the Data\n",
    "\n",
    "The loans data set is loaded directly into H2O using the following command:"
   ]
  },
  {
   "cell_type": "code",
   "execution_count": 3,
   "metadata": {},
   "outputs": [
    {
     "name": "stdout",
     "output_type": "stream",
     "text": [
      "Parse progress: |█████████████████████████████████████████████████████████| 100%\n"
     ]
    }
   ],
   "source": [
    "loans = h2o.import_file(\"../../data/lending_club/LoanStats3a.csv\",\n",
    "                        col_types = {\"int_rate\":\"string\", \n",
    "                                     \"revol_util\":\"string\", \n",
    "                                     \"emp_length\":\"string\", \n",
    "                                     \"verification_status\":\"string\"})"
   ]
  },
  {
   "cell_type": "markdown",
   "metadata": {},
   "source": [
    "The `h2o.import_file` command loaded the data directly into H2O memory, bypassing python. Alternatively, one could load a data set into a python object, then pass it to H2O. The `h2o.import_file` approach is far more efficient, especially for larger data sets.\n",
    "\n",
    "### Inspect the Data with H2O Flow\n",
    "\n",
    "Now is a good time to connect to H2O Flow. Although H2O Flow can be used for everything from loading data to building models to creating production code, we use it here for data investigation and H2O system monitoring.\n",
    "\n",
    "> Note: the reported IP above \n",
    ">\n",
    ">```\n",
    "Connecting to H2O server at http://127.0.0.1:54321 ... successful.\n",
    ">```\n",
    ">\n",
    "> is the local IP within your particular cloud instance. \n",
    ">\n",
    "> **To open H2O Flow in your own browser, copy your browser URL and replace the port with 54321.**\n",
    ">\n",
    ">> For example, my Jupyter notebook's URL is \n",
    ">>\n",
    ">>`http://52.202.98.125:8888`\n",
    ">>\n",
    ">> After opening a new browser tab or window, I copy the address and replace port `8888` with `54321`:\n",
    ">>\n",
    ">>`http://52.202.98.125:54321`\n",
    "\n",
    "Some summary information on the data is provided below:"
   ]
  },
  {
   "cell_type": "code",
   "execution_count": 4,
   "metadata": {},
   "outputs": [
    {
     "data": {
      "text/plain": [
       "[42536, 52]"
      ]
     },
     "execution_count": 4,
     "metadata": {},
     "output_type": "execute_result"
    }
   ],
   "source": [
    "loans.dim"
   ]
  },
  {
   "cell_type": "code",
   "execution_count": 5,
   "metadata": {},
   "outputs": [
    {
     "data": {
      "text/html": [
       "<table>\n",
       "<thead>\n",
       "<tr><th style=\"text-align: right;\">         id</th><th style=\"text-align: right;\">  member_id</th><th style=\"text-align: right;\">  loan_amnt</th><th style=\"text-align: right;\">  funded_amnt</th><th style=\"text-align: right;\">  funded_amnt_inv</th><th>term     </th><th>int_rate  </th><th style=\"text-align: right;\">  installment</th><th>grade  </th><th>sub_grade  </th><th>emp_title                </th><th>emp_length  </th><th>home_ownership  </th><th style=\"text-align: right;\">  annual_inc</th><th>verification_status     </th><th>issue_d            </th><th>loan_status  </th><th>pymnt_plan  </th><th>url                                                                 </th><th>desc                                                                                                                                                                                                                                                                                                                                                                                                                                                                                                                                                                                                        </th><th>purpose           </th><th>title                                </th><th>zip_code  </th><th>addr_state  </th><th style=\"text-align: right;\">  dti</th><th style=\"text-align: right;\">  delinq_2yrs</th><th>earliest_cr_line   </th><th style=\"text-align: right;\">  inq_last_6mths</th><th>mths_since_last_delinq  </th><th>mths_since_last_record  </th><th style=\"text-align: right;\">  open_acc</th><th style=\"text-align: right;\">  pub_rec</th><th style=\"text-align: right;\">  revol_bal</th><th>revol_util  </th><th style=\"text-align: right;\">  total_acc</th><th>initial_list_status  </th><th style=\"text-align: right;\">  out_prncp</th><th style=\"text-align: right;\">  out_prncp_inv</th><th style=\"text-align: right;\">  total_pymnt</th><th style=\"text-align: right;\">  total_pymnt_inv</th><th style=\"text-align: right;\">  total_rec_prncp</th><th style=\"text-align: right;\">  total_rec_int</th><th style=\"text-align: right;\">  total_rec_late_fee</th><th style=\"text-align: right;\">  recoveries</th><th style=\"text-align: right;\">  collection_recovery_fee</th><th>last_pymnt_d       </th><th style=\"text-align: right;\">  last_pymnt_amnt</th><th>next_pymnt_d       </th><th>last_credit_pull_d  </th><th style=\"text-align: right;\">  collections_12_mths_ex_med</th><th>mths_since_last_major_derog  </th><th style=\"text-align: right;\">  policy_code</th></tr>\n",
       "</thead>\n",
       "<tbody>\n",
       "<tr><td style=\"text-align: right;\">1.0775e+06 </td><td style=\"text-align: right;\">1.2966e+06 </td><td style=\"text-align: right;\">       5000</td><td style=\"text-align: right;\">         5000</td><td style=\"text-align: right;\">             4975</td><td>36 months</td><td>10.65%    </td><td style=\"text-align: right;\">       162.87</td><td>B      </td><td>B2         </td><td>                         </td><td>10+ years   </td><td>RENT            </td><td style=\"text-align: right;\">       24000</td><td>VERIFIED - income       </td><td>2011-12-01 00:00:00</td><td>Fully Paid   </td><td>n           </td><td>https://www.lendingclub.com/browse/loanDetail.action?loan_id=1077501</td><td>Borrower added on 12/22/11 > I need to upgrade my business technologies.<br>                                                                                                                                                                                                                                                                                                                                                                                                                                                                                                                                </td><td>credit_card       </td><td>Computer                             </td><td>860xx     </td><td>AZ          </td><td style=\"text-align: right;\">27.65</td><td style=\"text-align: right;\">            0</td><td>1985-01-01 00:00:00</td><td style=\"text-align: right;\">               1</td><td>                        </td><td>                        </td><td style=\"text-align: right;\">         3</td><td style=\"text-align: right;\">        0</td><td style=\"text-align: right;\">      13648</td><td>83.7%       </td><td style=\"text-align: right;\">          9</td><td>f                    </td><td style=\"text-align: right;\">       0   </td><td style=\"text-align: right;\">           0   </td><td style=\"text-align: right;\">      5861.07</td><td style=\"text-align: right;\">          5831.78</td><td style=\"text-align: right;\">          5000   </td><td style=\"text-align: right;\">         861.07</td><td style=\"text-align: right;\">                0   </td><td style=\"text-align: right;\">        0   </td><td style=\"text-align: right;\">                     0   </td><td>2015-01-01 00:00:00</td><td style=\"text-align: right;\">           171.62</td><td>                   </td><td>2015-01-01 00:00:00 </td><td style=\"text-align: right;\">                           0</td><td>                             </td><td style=\"text-align: right;\">            1</td></tr>\n",
       "<tr><td style=\"text-align: right;\">1.07743e+06</td><td style=\"text-align: right;\">1.31417e+06</td><td style=\"text-align: right;\">       2500</td><td style=\"text-align: right;\">         2500</td><td style=\"text-align: right;\">             2500</td><td>60 months</td><td>15.27%    </td><td style=\"text-align: right;\">        59.83</td><td>C      </td><td>C4         </td><td>Ryder                    </td><td>< 1 year    </td><td>RENT            </td><td style=\"text-align: right;\">       30000</td><td>VERIFIED - income source</td><td>2011-12-01 00:00:00</td><td>Charged Off  </td><td>n           </td><td>https://www.lendingclub.com/browse/loanDetail.action?loan_id=1077430</td><td>Borrower added on 12/22/11 > I plan to use this money to finance the motorcycle i am looking at. I plan to have it paid off as soon as possible/when i sell my old bike. I only need this money because the deal im looking at is to good to pass up.<br><br>  Borrower added on 12/22/11 > I plan to use this money to finance the motorcycle i am looking at. I plan to have it paid off as soon as possible/when i sell my old bike.I only need this money because the deal im looking at is to good to pass up. I have finished college with an associates degree in business and its takingmeplaces<br></td><td>car               </td><td>bike                                 </td><td>309xx     </td><td>GA          </td><td style=\"text-align: right;\"> 1   </td><td style=\"text-align: right;\">            0</td><td>1999-04-01 00:00:00</td><td style=\"text-align: right;\">               5</td><td>                        </td><td>                        </td><td style=\"text-align: right;\">         3</td><td style=\"text-align: right;\">        0</td><td style=\"text-align: right;\">       1687</td><td>9.4%        </td><td style=\"text-align: right;\">          4</td><td>f                    </td><td style=\"text-align: right;\">       0   </td><td style=\"text-align: right;\">           0   </td><td style=\"text-align: right;\">      1008.71</td><td style=\"text-align: right;\">          1008.71</td><td style=\"text-align: right;\">           456.46</td><td style=\"text-align: right;\">         435.17</td><td style=\"text-align: right;\">                0   </td><td style=\"text-align: right;\">      117.08</td><td style=\"text-align: right;\">                     1.11</td><td>2013-04-01 00:00:00</td><td style=\"text-align: right;\">           119.66</td><td>                   </td><td>2013-09-01 00:00:00 </td><td style=\"text-align: right;\">                           0</td><td>                             </td><td style=\"text-align: right;\">            1</td></tr>\n",
       "<tr><td style=\"text-align: right;\">1.07718e+06</td><td style=\"text-align: right;\">1.31352e+06</td><td style=\"text-align: right;\">       2400</td><td style=\"text-align: right;\">         2400</td><td style=\"text-align: right;\">             2400</td><td>36 months</td><td>15.96%    </td><td style=\"text-align: right;\">        84.33</td><td>C      </td><td>C5         </td><td>                         </td><td>10+ years   </td><td>RENT            </td><td style=\"text-align: right;\">       12252</td><td>not verified            </td><td>2011-12-01 00:00:00</td><td>Fully Paid   </td><td>n           </td><td>https://www.lendingclub.com/browse/loanDetail.action?loan_id=1077175</td><td>                                                                                                                                                                                                                                                                                                                                                                                                                                                                                                                                                                                                            </td><td>small_business    </td><td>real estate business                 </td><td>606xx     </td><td>IL          </td><td style=\"text-align: right;\"> 8.72</td><td style=\"text-align: right;\">            0</td><td>2001-11-01 00:00:00</td><td style=\"text-align: right;\">               2</td><td>                        </td><td>                        </td><td style=\"text-align: right;\">         2</td><td style=\"text-align: right;\">        0</td><td style=\"text-align: right;\">       2956</td><td>98.5%       </td><td style=\"text-align: right;\">         10</td><td>f                    </td><td style=\"text-align: right;\">       0   </td><td style=\"text-align: right;\">           0   </td><td style=\"text-align: right;\">      3003.65</td><td style=\"text-align: right;\">          3003.65</td><td style=\"text-align: right;\">          2400   </td><td style=\"text-align: right;\">         603.65</td><td style=\"text-align: right;\">                0   </td><td style=\"text-align: right;\">        0   </td><td style=\"text-align: right;\">                     0   </td><td>2014-06-01 00:00:00</td><td style=\"text-align: right;\">           649.91</td><td>                   </td><td>2015-06-01 00:00:00 </td><td style=\"text-align: right;\">                           0</td><td>                             </td><td style=\"text-align: right;\">            1</td></tr>\n",
       "<tr><td style=\"text-align: right;\">1.07686e+06</td><td style=\"text-align: right;\">1.27718e+06</td><td style=\"text-align: right;\">      10000</td><td style=\"text-align: right;\">        10000</td><td style=\"text-align: right;\">            10000</td><td>36 months</td><td>13.49%    </td><td style=\"text-align: right;\">       339.31</td><td>C      </td><td>C1         </td><td>AIR RESOURCES BOARD      </td><td>10+ years   </td><td>RENT            </td><td style=\"text-align: right;\">       49200</td><td>VERIFIED - income source</td><td>2011-12-01 00:00:00</td><td>Fully Paid   </td><td>n           </td><td>https://www.lendingclub.com/browse/loanDetail.action?loan_id=1076863</td><td>Borrower added on 12/21/11 > to pay for property tax (borrow from friend, need to pay back) & central A/C need to be replace. I'm very sorry to let my loan expired last time.<br>                                                                                                                                                                                                                                                                                                                                                                                                                          </td><td>other             </td><td>personel                             </td><td>917xx     </td><td>CA          </td><td style=\"text-align: right;\">20   </td><td style=\"text-align: right;\">            0</td><td>1996-02-01 00:00:00</td><td style=\"text-align: right;\">               1</td><td>35                      </td><td>                        </td><td style=\"text-align: right;\">        10</td><td style=\"text-align: right;\">        0</td><td style=\"text-align: right;\">       5598</td><td>21%         </td><td style=\"text-align: right;\">         37</td><td>f                    </td><td style=\"text-align: right;\">       0   </td><td style=\"text-align: right;\">           0   </td><td style=\"text-align: right;\">     12226.3 </td><td style=\"text-align: right;\">         12226.3 </td><td style=\"text-align: right;\">         10000   </td><td style=\"text-align: right;\">        2209.33</td><td style=\"text-align: right;\">               16.97</td><td style=\"text-align: right;\">        0   </td><td style=\"text-align: right;\">                     0   </td><td>2015-01-01 00:00:00</td><td style=\"text-align: right;\">           357.48</td><td>                   </td><td>2015-01-01 00:00:00 </td><td style=\"text-align: right;\">                           0</td><td>                             </td><td style=\"text-align: right;\">            1</td></tr>\n",
       "<tr><td style=\"text-align: right;\">1.07536e+06</td><td style=\"text-align: right;\">1.31175e+06</td><td style=\"text-align: right;\">       3000</td><td style=\"text-align: right;\">         3000</td><td style=\"text-align: right;\">             3000</td><td>60 months</td><td>12.69%    </td><td style=\"text-align: right;\">        67.79</td><td>B      </td><td>B5         </td><td>University Medical Group </td><td>1 year      </td><td>RENT            </td><td style=\"text-align: right;\">       80000</td><td>VERIFIED - income source</td><td>2011-12-01 00:00:00</td><td>Current      </td><td>n           </td><td>https://www.lendingclub.com/browse/loanDetail.action?loan_id=1075358</td><td>Borrower added on 12/21/11 > I plan on combining three large interest bills together and freeing up some extra each month to pay toward other bills.  I've always been a good payor but have found myself needing to make adjustments to my budget due to a medical scare. My job is very stable, I love it.<br>                                                                                                                                                                                                                                                                                            </td><td>other             </td><td>Personal                             </td><td>972xx     </td><td>OR          </td><td style=\"text-align: right;\">17.94</td><td style=\"text-align: right;\">            0</td><td>1996-01-01 00:00:00</td><td style=\"text-align: right;\">               0</td><td>38                      </td><td>                        </td><td style=\"text-align: right;\">        15</td><td style=\"text-align: right;\">        0</td><td style=\"text-align: right;\">      27783</td><td>53.9%       </td><td style=\"text-align: right;\">         38</td><td>f                    </td><td style=\"text-align: right;\">    1168.04</td><td style=\"text-align: right;\">        1168.04</td><td style=\"text-align: right;\">      2767.64</td><td style=\"text-align: right;\">          2767.64</td><td style=\"text-align: right;\">          1831.96</td><td style=\"text-align: right;\">         935.68</td><td style=\"text-align: right;\">                0   </td><td style=\"text-align: right;\">        0   </td><td style=\"text-align: right;\">                     0   </td><td>2015-06-01 00:00:00</td><td style=\"text-align: right;\">            67.79</td><td>2015-07-01 00:00:00</td><td>2015-06-01 00:00:00 </td><td style=\"text-align: right;\">                           0</td><td>                             </td><td style=\"text-align: right;\">            1</td></tr>\n",
       "<tr><td style=\"text-align: right;\">1.07527e+06</td><td style=\"text-align: right;\">1.31144e+06</td><td style=\"text-align: right;\">       5000</td><td style=\"text-align: right;\">         5000</td><td style=\"text-align: right;\">             5000</td><td>36 months</td><td>7.90%     </td><td style=\"text-align: right;\">       156.46</td><td>A      </td><td>A4         </td><td>Veolia Transportaton     </td><td>3 years     </td><td>RENT            </td><td style=\"text-align: right;\">       36000</td><td>VERIFIED - income source</td><td>2011-12-01 00:00:00</td><td>Fully Paid   </td><td>n           </td><td>https://www.lendingclub.com/browse/loanDetail.action?loan_id=1075269</td><td>                                                                                                                                                                                                                                                                                                                                                                                                                                                                                                                                                                                                            </td><td>wedding           </td><td>My wedding loan I promise to pay back</td><td>852xx     </td><td>AZ          </td><td style=\"text-align: right;\">11.2 </td><td style=\"text-align: right;\">            0</td><td>2004-11-01 00:00:00</td><td style=\"text-align: right;\">               3</td><td>                        </td><td>                        </td><td style=\"text-align: right;\">         9</td><td style=\"text-align: right;\">        0</td><td style=\"text-align: right;\">       7963</td><td>28.3%       </td><td style=\"text-align: right;\">         12</td><td>f                    </td><td style=\"text-align: right;\">       0   </td><td style=\"text-align: right;\">           0   </td><td style=\"text-align: right;\">      5631.38</td><td style=\"text-align: right;\">          5631.38</td><td style=\"text-align: right;\">          5000   </td><td style=\"text-align: right;\">         631.38</td><td style=\"text-align: right;\">                0   </td><td style=\"text-align: right;\">        0   </td><td style=\"text-align: right;\">                     0   </td><td>2015-01-01 00:00:00</td><td style=\"text-align: right;\">           161.03</td><td>                   </td><td>2015-06-01 00:00:00 </td><td style=\"text-align: right;\">                           0</td><td>                             </td><td style=\"text-align: right;\">            1</td></tr>\n",
       "<tr><td style=\"text-align: right;\">1.06964e+06</td><td style=\"text-align: right;\">1.30474e+06</td><td style=\"text-align: right;\">       7000</td><td style=\"text-align: right;\">         7000</td><td style=\"text-align: right;\">             7000</td><td>60 months</td><td>15.96%    </td><td style=\"text-align: right;\">       170.08</td><td>C      </td><td>C5         </td><td>Southern Star Photography</td><td>8 years     </td><td>RENT            </td><td style=\"text-align: right;\">       47004</td><td>not verified            </td><td>2011-12-01 00:00:00</td><td>Current      </td><td>n           </td><td>https://www.lendingclub.com/browse/loanDetail.action?loan_id=1069639</td><td>Borrower added on 12/18/11 > I am planning on using the funds to pay off two retail credit cards with 24.99% interest rates, as well as a major bank credit card with a 18.99% rate.  I pay all my bills on time, looking for a lower combined payment and lower monthly payment.<br>                                                                                                                                                                                                                                                                                                                       </td><td>debt_consolidation</td><td>Loan                                 </td><td>280xx     </td><td>NC          </td><td style=\"text-align: right;\">23.51</td><td style=\"text-align: right;\">            0</td><td>2005-07-01 00:00:00</td><td style=\"text-align: right;\">               1</td><td>                        </td><td>                        </td><td style=\"text-align: right;\">         7</td><td style=\"text-align: right;\">        0</td><td style=\"text-align: right;\">      17726</td><td>85.6%       </td><td style=\"text-align: right;\">         11</td><td>f                    </td><td style=\"text-align: right;\">    2853.21</td><td style=\"text-align: right;\">        2853.21</td><td style=\"text-align: right;\">      6946.28</td><td style=\"text-align: right;\">          6946.28</td><td style=\"text-align: right;\">          4146.8 </td><td style=\"text-align: right;\">        2799.48</td><td style=\"text-align: right;\">                0   </td><td style=\"text-align: right;\">        0   </td><td style=\"text-align: right;\">                     0   </td><td>2015-06-01 00:00:00</td><td style=\"text-align: right;\">           170.08</td><td>2015-08-01 00:00:00</td><td>2015-06-01 00:00:00 </td><td style=\"text-align: right;\">                           0</td><td>                             </td><td style=\"text-align: right;\">            1</td></tr>\n",
       "<tr><td style=\"text-align: right;\">1.07205e+06</td><td style=\"text-align: right;\">1.28869e+06</td><td style=\"text-align: right;\">       3000</td><td style=\"text-align: right;\">         3000</td><td style=\"text-align: right;\">             3000</td><td>36 months</td><td>18.64%    </td><td style=\"text-align: right;\">       109.43</td><td>E      </td><td>E1         </td><td>MKC Accounting           </td><td>9 years     </td><td>RENT            </td><td style=\"text-align: right;\">       48000</td><td>VERIFIED - income source</td><td>2011-12-01 00:00:00</td><td>Fully Paid   </td><td>n           </td><td>https://www.lendingclub.com/browse/loanDetail.action?loan_id=1072053</td><td>Borrower added on 12/16/11 > Downpayment for a car.<br>                                                                                                                                                                                                                                                                                                                                                                                                                                                                                                                                                     </td><td>car               </td><td>Car Downpayment                      </td><td>900xx     </td><td>CA          </td><td style=\"text-align: right;\"> 5.35</td><td style=\"text-align: right;\">            0</td><td>2007-01-01 00:00:00</td><td style=\"text-align: right;\">               2</td><td>                        </td><td>                        </td><td style=\"text-align: right;\">         4</td><td style=\"text-align: right;\">        0</td><td style=\"text-align: right;\">       8221</td><td>87.5%       </td><td style=\"text-align: right;\">          4</td><td>f                    </td><td style=\"text-align: right;\">       0   </td><td style=\"text-align: right;\">           0   </td><td style=\"text-align: right;\">      3938.14</td><td style=\"text-align: right;\">          3938.14</td><td style=\"text-align: right;\">          3000   </td><td style=\"text-align: right;\">         938.14</td><td style=\"text-align: right;\">                0   </td><td style=\"text-align: right;\">        0   </td><td style=\"text-align: right;\">                     0   </td><td>2015-01-01 00:00:00</td><td style=\"text-align: right;\">           111.34</td><td>                   </td><td>2014-12-01 00:00:00 </td><td style=\"text-align: right;\">                           0</td><td>                             </td><td style=\"text-align: right;\">            1</td></tr>\n",
       "<tr><td style=\"text-align: right;\">1.0718e+06 </td><td style=\"text-align: right;\">1.30696e+06</td><td style=\"text-align: right;\">       5600</td><td style=\"text-align: right;\">         5600</td><td style=\"text-align: right;\">             5600</td><td>60 months</td><td>21.28%    </td><td style=\"text-align: right;\">       152.39</td><td>F      </td><td>F2         </td><td>                         </td><td>4 years     </td><td>OWN             </td><td style=\"text-align: right;\">       40000</td><td>VERIFIED - income source</td><td>2011-12-01 00:00:00</td><td>Charged Off  </td><td>n           </td><td>https://www.lendingclub.com/browse/loanDetail.action?loan_id=1071795</td><td>Borrower added on 12/21/11 > I own a small home-based judgment collection business. I have 5 years experience collecting debts. I am now going from a home office to a small office. I also plan to buy a small debt portfolio (eg. $10K for $1M of debt) <br>My score is not A+ because I own my home and have no mortgage.<br>                                                                                                                                                                                                                                                                            </td><td>small_business    </td><td>Expand Business & Buy Debt Portfolio </td><td>958xx     </td><td>CA          </td><td style=\"text-align: right;\"> 5.55</td><td style=\"text-align: right;\">            0</td><td>2004-04-01 00:00:00</td><td style=\"text-align: right;\">               2</td><td>                        </td><td>                        </td><td style=\"text-align: right;\">        11</td><td style=\"text-align: right;\">        0</td><td style=\"text-align: right;\">       5210</td><td>32.6%       </td><td style=\"text-align: right;\">         13</td><td>f                    </td><td style=\"text-align: right;\">       0   </td><td style=\"text-align: right;\">           0   </td><td style=\"text-align: right;\">       646.02</td><td style=\"text-align: right;\">           646.02</td><td style=\"text-align: right;\">           162.02</td><td style=\"text-align: right;\">         294.94</td><td style=\"text-align: right;\">                0   </td><td style=\"text-align: right;\">      189.06</td><td style=\"text-align: right;\">                     2.09</td><td>2012-04-01 00:00:00</td><td style=\"text-align: right;\">           152.39</td><td>                   </td><td>2012-08-01 00:00:00 </td><td style=\"text-align: right;\">                           0</td><td>                             </td><td style=\"text-align: right;\">            1</td></tr>\n",
       "<tr><td style=\"text-align: right;\">1.07157e+06</td><td style=\"text-align: right;\">1.30672e+06</td><td style=\"text-align: right;\">       5375</td><td style=\"text-align: right;\">         5375</td><td style=\"text-align: right;\">             5350</td><td>60 months</td><td>12.69%    </td><td style=\"text-align: right;\">       121.45</td><td>B      </td><td>B5         </td><td>Starbucks                </td><td>< 1 year    </td><td>RENT            </td><td style=\"text-align: right;\">       15000</td><td>VERIFIED - income       </td><td>2011-12-01 00:00:00</td><td>Charged Off  </td><td>n           </td><td>https://www.lendingclub.com/browse/loanDetail.action?loan_id=1071570</td><td>Borrower added on 12/16/11 > I'm trying to build up my credit history. I live with my brother and have no car payment or credit cards. I am in community college and work full time. Im going to use the money to make some repairs around the house and get some maintenance done on my car.<br><br>  Borrower added on 12/20/11 > $1000 down only $4375 to go. Thanks to everyone that invested so far, looking forward to surprising my brother with the fixes around the house.<br>                                                                                                                     </td><td>other             </td><td>Building my credit history.          </td><td>774xx     </td><td>TX          </td><td style=\"text-align: right;\">18.08</td><td style=\"text-align: right;\">            0</td><td>2004-09-01 00:00:00</td><td style=\"text-align: right;\">               0</td><td>                        </td><td>                        </td><td style=\"text-align: right;\">         2</td><td style=\"text-align: right;\">        0</td><td style=\"text-align: right;\">       9279</td><td>36.5%       </td><td style=\"text-align: right;\">          3</td><td>f                    </td><td style=\"text-align: right;\">       0   </td><td style=\"text-align: right;\">           0   </td><td style=\"text-align: right;\">      1476.19</td><td style=\"text-align: right;\">          1469.34</td><td style=\"text-align: right;\">           673.48</td><td style=\"text-align: right;\">         533.42</td><td style=\"text-align: right;\">                0   </td><td style=\"text-align: right;\">      269.29</td><td style=\"text-align: right;\">                     2.52</td><td>2012-11-01 00:00:00</td><td style=\"text-align: right;\">           121.45</td><td>                   </td><td>2013-03-01 00:00:00 </td><td style=\"text-align: right;\">                           0</td><td>                             </td><td style=\"text-align: right;\">            1</td></tr>\n",
       "</tbody>\n",
       "</table>"
      ]
     },
     "metadata": {},
     "output_type": "display_data"
    },
    {
     "data": {
      "text/plain": []
     },
     "execution_count": 5,
     "metadata": {},
     "output_type": "execute_result"
    }
   ],
   "source": [
    "loans.head()"
   ]
  },
  {
   "cell_type": "markdown",
   "metadata": {},
   "source": [
    "------\n",
    "\n",
    ">## Comment: Data preparation for modeling\n",
    ">\n",
    ">In this tutorial, we either rush through or, at times, skip steps that a modeler would typically spend a considerable amount of effort on. For example, we omit entirely exploratory data analysis. Additionally, the process of **_defining the problem_** is often iterative and takes a lot of thought and effort. We make the assumption here that this work has already been done by the modeler.\n",
    ">\n",
    ">In reality, the majority of a modeler's time is spent on problem definition and data cleaning/wrangling/munging. Our speed at going through these steps to demonstrate the use of H2O-3 in no way minimizes the importance of careful and thoughtful data preparation for model building. \n",
    "\n",
    "-----\n"
   ]
  },
  {
   "cell_type": "markdown",
   "metadata": {},
   "source": [
    "# Step 3 (of 10).  Clean data\n",
    "\n",
    "\n",
    "## Part 1. Defining the problem and creating the response variable\n",
    "\n",
    "The total number of loans in our data set is"
   ]
  },
  {
   "cell_type": "code",
   "execution_count": 6,
   "metadata": {},
   "outputs": [
    {
     "data": {
      "text/plain": [
       "42536"
      ]
     },
     "execution_count": 6,
     "metadata": {},
     "output_type": "execute_result"
    }
   ],
   "source": [
    "num_unfiltered_loans = loans.dim[0]\n",
    "num_unfiltered_loans"
   ]
  },
  {
   "cell_type": "markdown",
   "metadata": {},
   "source": [
    "Because we are interested in loan default, we need to look at the `loan_status` column."
   ]
  },
  {
   "cell_type": "code",
   "execution_count": 7,
   "metadata": {},
   "outputs": [
    {
     "data": {
      "text/html": [
       "<table>\n",
       "<thead>\n",
       "<tr><th>loan_status                                             </th><th style=\"text-align: right;\">  Count</th></tr>\n",
       "</thead>\n",
       "<tbody>\n",
       "<tr><td>Charged Off                                             </td><td style=\"text-align: right;\">   5435</td></tr>\n",
       "<tr><td>Current                                                 </td><td style=\"text-align: right;\">   3351</td></tr>\n",
       "<tr><td>Default                                                 </td><td style=\"text-align: right;\">      7</td></tr>\n",
       "<tr><td>Does not meet the credit policy.  Status:Charged Off    </td><td style=\"text-align: right;\">    761</td></tr>\n",
       "<tr><td>Does not meet the credit policy.  Status:Current        </td><td style=\"text-align: right;\">     53</td></tr>\n",
       "<tr><td>Does not meet the credit policy.  Status:Fully Paid     </td><td style=\"text-align: right;\">   1933</td></tr>\n",
       "<tr><td>Does not meet the credit policy.  Status:In Grace Period</td><td style=\"text-align: right;\">      2</td></tr>\n",
       "<tr><td>Fully Paid                                              </td><td style=\"text-align: right;\">  30843</td></tr>\n",
       "<tr><td>In Grace Period                                         </td><td style=\"text-align: right;\">     60</td></tr>\n",
       "<tr><td>Late (16-30 days)                                       </td><td style=\"text-align: right;\">     16</td></tr>\n",
       "<tr><td>Late (31-120 days)                                      </td><td style=\"text-align: right;\">     74</td></tr>\n",
       "</tbody>\n",
       "</table>"
      ]
     },
     "metadata": {},
     "output_type": "display_data"
    },
    {
     "data": {
      "text/plain": []
     },
     "execution_count": 7,
     "metadata": {},
     "output_type": "execute_result"
    }
   ],
   "source": [
    "loans[\"loan_status\"].table().head(20)"
   ]
  },
  {
   "cell_type": "markdown",
   "metadata": {},
   "source": [
    "Like many real data sources, `loan_status` is messy and contains multiple, somewhat overlapping, categories. Before modeling, we will need to clean this up by (a) removing loans that are still ongoing, and (b) simplifying the response column.\n",
    "\n",
    "### (a) Filter Loans\n",
    "\n",
    "In order to build a valid model, we have to remove loans that are still in process. They have `loan_status` like \"Current\" and \"In Grace Period\":"
   ]
  },
  {
   "cell_type": "code",
   "execution_count": 8,
   "metadata": {},
   "outputs": [],
   "source": [
    "ongoing_status = [\"Current\",\n",
    "                  \"In Grace Period\",\n",
    "                  \"Late (16-30 days)\",\n",
    "                  \"Late (31-120 days)\",\n",
    "                  \"Does not meet the credit policy.  Status:Current\",\n",
    "                  \"Does not meet the credit policy.  Status:In Grace Period\"\n",
    "                 ]\n",
    "loans = loans[~loans[\"loan_status\"].isin(ongoing_status)]"
   ]
  },
  {
   "cell_type": "markdown",
   "metadata": {},
   "source": [
    "After filtering out ongoing loans, we now have"
   ]
  },
  {
   "cell_type": "code",
   "execution_count": 9,
   "metadata": {},
   "outputs": [
    {
     "data": {
      "text/plain": [
       "38980"
      ]
     },
     "execution_count": 9,
     "metadata": {},
     "output_type": "execute_result"
    }
   ],
   "source": [
    "num_filtered_loans = loans.dim[0]\n",
    "num_filtered_loans"
   ]
  },
  {
   "cell_type": "markdown",
   "metadata": {},
   "source": [
    "loans whose final state is known, which means we filtered out"
   ]
  },
  {
   "cell_type": "code",
   "execution_count": 10,
   "metadata": {},
   "outputs": [
    {
     "data": {
      "text/plain": [
       "3556"
      ]
     },
     "execution_count": 10,
     "metadata": {},
     "output_type": "execute_result"
    }
   ],
   "source": [
    "num_loans_filtered_out = num_unfiltered_loans - num_filtered_loans\n",
    "num_loans_filtered_out"
   ]
  },
  {
   "cell_type": "markdown",
   "metadata": {},
   "source": [
    "loans. These loans are now summarized by `loan_status` as"
   ]
  },
  {
   "cell_type": "code",
   "execution_count": 11,
   "metadata": {},
   "outputs": [
    {
     "data": {
      "text/html": [
       "<table>\n",
       "<thead>\n",
       "<tr><th>loan_status                                         </th><th style=\"text-align: right;\">  Count</th></tr>\n",
       "</thead>\n",
       "<tbody>\n",
       "<tr><td>Charged Off                                         </td><td style=\"text-align: right;\">   5435</td></tr>\n",
       "<tr><td>Default                                             </td><td style=\"text-align: right;\">      7</td></tr>\n",
       "<tr><td>Does not meet the credit policy.  Status:Charged Off</td><td style=\"text-align: right;\">    761</td></tr>\n",
       "<tr><td>Does not meet the credit policy.  Status:Fully Paid </td><td style=\"text-align: right;\">   1933</td></tr>\n",
       "<tr><td>Fully Paid                                          </td><td style=\"text-align: right;\">  30843</td></tr>\n",
       "</tbody>\n",
       "</table>"
      ]
     },
     "metadata": {},
     "output_type": "display_data"
    },
    {
     "data": {
      "text/plain": []
     },
     "execution_count": 11,
     "metadata": {},
     "output_type": "execute_result"
    }
   ],
   "source": [
    "loans[\"loan_status\"].table().head(20)"
   ]
  },
  {
   "cell_type": "markdown",
   "metadata": {},
   "source": [
    "### (b) Create Response Column\n",
    "\n",
    "Let's name our response column `bad_loan`, which will equal one if the loan was not completely paid off."
   ]
  },
  {
   "cell_type": "code",
   "execution_count": 12,
   "metadata": {},
   "outputs": [],
   "source": [
    "fully_paid = [\"Fully Paid\",\n",
    "              \"Does not meet the credit policy.  Status:Fully Paid\"\n",
    "             ]\n",
    "loans[\"bad_loan\"] = ~(loans[\"loan_status\"].isin(fully_paid))"
   ]
  },
  {
   "cell_type": "markdown",
   "metadata": {},
   "source": [
    "Next make the `bad_loan` column a factor so that we can build a classification model,"
   ]
  },
  {
   "cell_type": "code",
   "execution_count": 13,
   "metadata": {},
   "outputs": [],
   "source": [
    "loans[\"bad_loan\"] = loans[\"bad_loan\"].asfactor()"
   ]
  },
  {
   "cell_type": "markdown",
   "metadata": {},
   "source": [
    "The percentage of bad loans is given by"
   ]
  },
  {
   "cell_type": "code",
   "execution_count": 14,
   "metadata": {},
   "outputs": [
    {
     "data": {
      "text/html": [
       "<table>\n",
       "<thead>\n",
       "<tr><th style=\"text-align: right;\">  bad_loan</th><th style=\"text-align: right;\">  Count</th><th style=\"text-align: right;\">  Percentage</th></tr>\n",
       "</thead>\n",
       "<tbody>\n",
       "<tr><td style=\"text-align: right;\">         0</td><td style=\"text-align: right;\">  32776</td><td style=\"text-align: right;\">          84</td></tr>\n",
       "<tr><td style=\"text-align: right;\">         1</td><td style=\"text-align: right;\">   6204</td><td style=\"text-align: right;\">          16</td></tr>\n",
       "</tbody>\n",
       "</table>"
      ]
     },
     "metadata": {},
     "output_type": "display_data"
    },
    {
     "data": {
      "text/plain": []
     },
     "execution_count": 14,
     "metadata": {},
     "output_type": "execute_result"
    }
   ],
   "source": [
    "bad_loan_dist = loans[\"bad_loan\"].table()\n",
    "bad_loan_dist[\"Percentage\"] = (100 * bad_loan_dist[\"Count\"] / loans.nrow).round()\n",
    "bad_loan_dist"
   ]
  },
  {
   "cell_type": "markdown",
   "metadata": {},
   "source": [
    "## Part 2. Convert strings to numeric\n",
    "\n",
    "Consider the columns `int_rate`, `revol_util`, and `emp_length`:"
   ]
  },
  {
   "cell_type": "code",
   "execution_count": 15,
   "metadata": {},
   "outputs": [
    {
     "data": {
      "text/html": [
       "<table>\n",
       "<thead>\n",
       "<tr><th>int_rate  </th><th>revol_util  </th><th>emp_length  </th></tr>\n",
       "</thead>\n",
       "<tbody>\n",
       "<tr><td>10.65%    </td><td>83.7%       </td><td>10+ years   </td></tr>\n",
       "<tr><td>15.27%    </td><td>9.4%        </td><td>< 1 year    </td></tr>\n",
       "<tr><td>15.96%    </td><td>98.5%       </td><td>10+ years   </td></tr>\n",
       "<tr><td>13.49%    </td><td>21%         </td><td>10+ years   </td></tr>\n",
       "<tr><td>7.90%     </td><td>28.3%       </td><td>3 years     </td></tr>\n",
       "<tr><td>18.64%    </td><td>87.5%       </td><td>9 years     </td></tr>\n",
       "<tr><td>21.28%    </td><td>32.6%       </td><td>4 years     </td></tr>\n",
       "<tr><td>12.69%    </td><td>36.5%       </td><td>< 1 year    </td></tr>\n",
       "<tr><td>14.65%    </td><td>20.6%       </td><td>5 years     </td></tr>\n",
       "<tr><td>12.69%    </td><td>67.1%       </td><td>10+ years   </td></tr>\n",
       "</tbody>\n",
       "</table>"
      ]
     },
     "metadata": {},
     "output_type": "display_data"
    },
    {
     "data": {
      "text/plain": []
     },
     "execution_count": 15,
     "metadata": {},
     "output_type": "execute_result"
    }
   ],
   "source": [
    "loans[[\"int_rate\", \"revol_util\", \"emp_length\"]].head()"
   ]
  },
  {
   "cell_type": "markdown",
   "metadata": {},
   "source": [
    "Both `int_rate` and `revol_util` are inherently numeric but entered as percentages. Since they include a \"%\" sign, they are read in as strings. The solution for both of these columns is simple: strip the \"%\" sign and convert the strings to numeric.\n",
    "\n",
    "The `emp_length` column is only slightly more complex. Besides removing the \"year\" or \"years\" term, we have to deal with `< 1` and `10+`, which aren't directly numeric. If we define `< 1` as 0 and `10+` as 10, then `emp_length` can also be cast as numeric.\n",
    "\n",
    "We demonstrate the steps for converting these string variables into numeric values below.\n",
    "\n",
    "### Convert `int_rate`"
   ]
  },
  {
   "cell_type": "code",
   "execution_count": 16,
   "metadata": {},
   "outputs": [],
   "source": [
    "loans[\"int_rate\"] = loans[\"int_rate\"].gsub(pattern = \"%\", replacement = \"\") # strip %\n",
    "loans[\"int_rate\"] = loans[\"int_rate\"].trim() # trim whitespace\n",
    "loans[\"int_rate\"] = loans[\"int_rate\"].asnumeric() # change to numeric "
   ]
  },
  {
   "cell_type": "markdown",
   "metadata": {},
   "source": [
    "### Convert `revol_util`"
   ]
  },
  {
   "cell_type": "code",
   "execution_count": 17,
   "metadata": {},
   "outputs": [],
   "source": [
    "loans[\"revol_util\"] = loans[\"revol_util\"].gsub(pattern=\"%\", replacement=\"\") # strip %\n",
    "loans[\"revol_util\"] = loans[\"revol_util\"].trim() # trim whitespace\n",
    "loans[\"revol_util\"] = loans[\"revol_util\"].asnumeric() # change to numeric "
   ]
  },
  {
   "cell_type": "markdown",
   "metadata": {},
   "source": [
    "### Convert `emp_length`"
   ]
  },
  {
   "cell_type": "code",
   "execution_count": 18,
   "metadata": {},
   "outputs": [],
   "source": [
    "# Use gsub to remove \" year\" and \" years\"; also translate n/a to \"\" \n",
    "loans[\"emp_length\"] = loans[\"emp_length\"].gsub(pattern=\"([ ]*+[a-zA-Z].*)|(n/a)\", replacement=\"\") \n",
    "loans[\"emp_length\"] = loans[\"emp_length\"].trim() # trim whitespace\n",
    "\n",
    "loans[\"emp_length\"] = loans[\"emp_length\"].gsub(pattern=\"< 1\", replacement=\"0\") # convert \"< 1\" to 0\n",
    "loans[\"emp_length\"] = loans[\"emp_length\"].gsub(pattern=\"10\\\\+\", replacement=\"10\") # convert \"10+\" to 10\n",
    "loans[\"emp_length\"] = loans[\"emp_length\"].asnumeric() # trim whitespace"
   ]
  },
  {
   "cell_type": "markdown",
   "metadata": {},
   "source": [
    "These steps result in"
   ]
  },
  {
   "cell_type": "code",
   "execution_count": 19,
   "metadata": {},
   "outputs": [
    {
     "data": {
      "text/html": [
       "<table>\n",
       "<thead>\n",
       "<tr><th style=\"text-align: right;\">  int_rate</th><th style=\"text-align: right;\">  revol_util</th><th style=\"text-align: right;\">  emp_length</th></tr>\n",
       "</thead>\n",
       "<tbody>\n",
       "<tr><td style=\"text-align: right;\">     10.65</td><td style=\"text-align: right;\">        83.7</td><td style=\"text-align: right;\">          10</td></tr>\n",
       "<tr><td style=\"text-align: right;\">     15.27</td><td style=\"text-align: right;\">         9.4</td><td style=\"text-align: right;\">           0</td></tr>\n",
       "<tr><td style=\"text-align: right;\">     15.96</td><td style=\"text-align: right;\">        98.5</td><td style=\"text-align: right;\">          10</td></tr>\n",
       "<tr><td style=\"text-align: right;\">     13.49</td><td style=\"text-align: right;\">        21  </td><td style=\"text-align: right;\">          10</td></tr>\n",
       "<tr><td style=\"text-align: right;\">      7.9 </td><td style=\"text-align: right;\">        28.3</td><td style=\"text-align: right;\">           3</td></tr>\n",
       "<tr><td style=\"text-align: right;\">     18.64</td><td style=\"text-align: right;\">        87.5</td><td style=\"text-align: right;\">           9</td></tr>\n",
       "<tr><td style=\"text-align: right;\">     21.28</td><td style=\"text-align: right;\">        32.6</td><td style=\"text-align: right;\">           4</td></tr>\n",
       "<tr><td style=\"text-align: right;\">     12.69</td><td style=\"text-align: right;\">        36.5</td><td style=\"text-align: right;\">           0</td></tr>\n",
       "<tr><td style=\"text-align: right;\">     14.65</td><td style=\"text-align: right;\">        20.6</td><td style=\"text-align: right;\">           5</td></tr>\n",
       "<tr><td style=\"text-align: right;\">     12.69</td><td style=\"text-align: right;\">        67.1</td><td style=\"text-align: right;\">          10</td></tr>\n",
       "</tbody>\n",
       "</table>"
      ]
     },
     "metadata": {},
     "output_type": "display_data"
    },
    {
     "data": {
      "text/plain": []
     },
     "execution_count": 19,
     "metadata": {},
     "output_type": "execute_result"
    }
   ],
   "source": [
    "loans[[\"int_rate\", \"revol_util\", \"emp_length\"]].head()"
   ]
  },
  {
   "cell_type": "markdown",
   "metadata": {},
   "source": [
    "### Note: Interest rate distributions\n",
    "\n",
    "Now that we have converted interest rate to numeric, we can use the `hist` function to compare the interest rate distributions for good and bad loans."
   ]
  },
  {
   "cell_type": "code",
   "execution_count": 20,
   "metadata": {},
   "outputs": [
    {
     "name": "stdout",
     "output_type": "stream",
     "text": [
      "Bad Loans\n"
     ]
    },
    {
     "data": {
      "image/png": "[encoded data removed]",
      "text/plain": [
       "<Figure size 432x288 with 1 Axes>"
      ]
     },
     "metadata": {
      "needs_background": "light"
     },
     "output_type": "display_data"
    },
    {
     "name": "stdout",
     "output_type": "stream",
     "text": [
      "Good Loans\n"
     ]
    },
    {
     "data": {
      "image/png": "[encoded data removed]",
      "text/plain": [
       "<Figure size 432x288 with 1 Axes>"
      ]
     },
     "metadata": {
      "needs_background": "light"
     },
     "output_type": "display_data"
    }
   ],
   "source": [
    "%matplotlib inline\n",
    "\n",
    "print(\"Bad Loans\")\n",
    "loans[loans[\"bad_loan\"] == \"1\", \"int_rate\"].hist()\n",
    "\n",
    "print(\"Good Loans\")\n",
    "loans[loans[\"bad_loan\"] == \"0\", \"int_rate\"].hist()"
   ]
  },
  {
   "cell_type": "markdown",
   "metadata": {},
   "source": [
    "As expected, the bad loan distribution contains proportionately more high interest rate loans than the distribution for good loans. Likewise, the good loan distribution contains a higher proportion of low interest rate loans than that for bad loans. It would not surprise us if interest rate were a strong predictor of loan performance.\n",
    "\n",
    ">Financial institutions typically set a borrower's interest rate based on factors like estimated risk and customer demand. If the underwriting rules are any good at all, we would expect interest rate to be one of the best predictors of default. "
   ]
  },
  {
   "cell_type": "markdown",
   "metadata": {},
   "source": [
    "## Part 3. Clean up messy categorical columns\n",
    "\n",
    "Much as we did with the `loan_status` column, the `verification_status` column needs cleaning"
   ]
  },
  {
   "cell_type": "code",
   "execution_count": 21,
   "metadata": {},
   "outputs": [
    {
     "data": {
      "text/html": [
       "<table>\n",
       "<thead>\n",
       "<tr><th>verification_status     </th></tr>\n",
       "</thead>\n",
       "<tbody>\n",
       "<tr><td>VERIFIED - income       </td></tr>\n",
       "<tr><td>VERIFIED - income source</td></tr>\n",
       "<tr><td>not verified            </td></tr>\n",
       "<tr><td>VERIFIED - income source</td></tr>\n",
       "<tr><td>VERIFIED - income source</td></tr>\n",
       "<tr><td>VERIFIED - income source</td></tr>\n",
       "<tr><td>VERIFIED - income source</td></tr>\n",
       "<tr><td>VERIFIED - income       </td></tr>\n",
       "<tr><td>not verified            </td></tr>\n",
       "<tr><td>VERIFIED - income source</td></tr>\n",
       "</tbody>\n",
       "</table>"
      ]
     },
     "metadata": {},
     "output_type": "display_data"
    },
    {
     "data": {
      "text/plain": []
     },
     "execution_count": 21,
     "metadata": {},
     "output_type": "execute_result"
    }
   ],
   "source": [
    "loans[\"verification_status\"].head()"
   ]
  },
  {
   "cell_type": "markdown",
   "metadata": {},
   "source": [
    "Because there are multiple values that mean verified (\"VERIFIED - income\" and \"VERIFIED - income source\"), we replace them simply with \"verified\","
   ]
  },
  {
   "cell_type": "code",
   "execution_count": 22,
   "metadata": {},
   "outputs": [],
   "source": [
    "loans[\"verification_status\"] = loans[\"verification_status\"].sub(pattern=\"VERIFIED - income source\", \n",
    "                                                                replacement=\"verified\")\n",
    "loans[\"verification_status\"] = loans[\"verification_status\"].sub(pattern=\"VERIFIED - income\", \n",
    "                                                                replacement=\"verified\")\n",
    "loans[\"verification_status\"] = loans[\"verification_status\"].asfactor()"
   ]
  },
  {
   "cell_type": "markdown",
   "metadata": {},
   "source": [
    "resulting in"
   ]
  },
  {
   "cell_type": "code",
   "execution_count": 23,
   "metadata": {
    "scrolled": true
   },
   "outputs": [
    {
     "data": {
      "text/html": [
       "<table>\n",
       "<thead>\n",
       "<tr><th>verification_status  </th><th style=\"text-align: right;\">  Count</th></tr>\n",
       "</thead>\n",
       "<tbody>\n",
       "<tr><td>not verified         </td><td style=\"text-align: right;\">  17947</td></tr>\n",
       "<tr><td>verified             </td><td style=\"text-align: right;\">  21032</td></tr>\n",
       "</tbody>\n",
       "</table>"
      ]
     },
     "metadata": {},
     "output_type": "display_data"
    },
    {
     "data": {
      "text/plain": []
     },
     "execution_count": 23,
     "metadata": {},
     "output_type": "execute_result"
    }
   ],
   "source": [
    "loans[\"verification_status\"].table()"
   ]
  },
  {
   "cell_type": "markdown",
   "metadata": {},
   "source": [
    "# Step 4 (of 10).  Feature engineering\n",
    "\n",
    "Now that we have cleaned our data, we can extract information from our current columns to create new features. This process is referred to as _feature engineering_. The general idea is to express information found in our data in a manner that is most understandable to the algorithms we employ, with the goal of improving the performance of our supervised learning models.\n",
    "\n",
    "Feature engineering can be considered the \"secret sauce\" in building a superior predictive model: it is often (although not always) more important than the choice of machine learning algorithm. A very good summary of feature engineering recipes can be found in the online [Driverless AI Documentation](http://docs.h2o.ai/driverless-ai/latest-stable/docs/userguide/transformations.html). \n",
    "\n",
    "We will do some basic feature engineering using the date fields in our data, and then use NLP (natural language processing) to create word embedding features from the loan description text field in our data.\n",
    "\n",
    "The new columns we will create are: \n",
    "* `credit_length`: the number of years someone has had a credit history\n",
    "* `issue_d_year` and `issue_d_month`: the year and month from the loan issue date\n",
    "* word embeddings from the loan description\n",
    "\n",
    "### Credit Length\n",
    "\n",
    "We create the `credit_length` feature by subtracting the year of a customer's earliest credit line from the year they were issued the loan."
   ]
  },
  {
   "cell_type": "code",
   "execution_count": 24,
   "metadata": {},
   "outputs": [
    {
     "data": {
      "text/html": [
       "<table>\n",
       "<thead>\n",
       "<tr><th style=\"text-align: right;\">  credit_length</th></tr>\n",
       "</thead>\n",
       "<tbody>\n",
       "<tr><td style=\"text-align: right;\">             26</td></tr>\n",
       "<tr><td style=\"text-align: right;\">             12</td></tr>\n",
       "<tr><td style=\"text-align: right;\">             10</td></tr>\n",
       "<tr><td style=\"text-align: right;\">             15</td></tr>\n",
       "<tr><td style=\"text-align: right;\">              7</td></tr>\n",
       "<tr><td style=\"text-align: right;\">              4</td></tr>\n",
       "<tr><td style=\"text-align: right;\">              7</td></tr>\n",
       "<tr><td style=\"text-align: right;\">              7</td></tr>\n",
       "<tr><td style=\"text-align: right;\">             13</td></tr>\n",
       "<tr><td style=\"text-align: right;\">             22</td></tr>\n",
       "</tbody>\n",
       "</table>"
      ]
     },
     "metadata": {},
     "output_type": "display_data"
    },
    {
     "data": {
      "text/plain": []
     },
     "execution_count": 24,
     "metadata": {},
     "output_type": "execute_result"
    }
   ],
   "source": [
    "loans[\"credit_length\"] = loans[\"issue_d\"].year() - loans[\"earliest_cr_line\"].year()\n",
    "loans[\"credit_length\"].head()"
   ]
  },
  {
   "cell_type": "markdown",
   "metadata": {},
   "source": [
    "### Issue Date Expansion\n",
    "\n",
    "We next extract the year and month from the issue date.  We may find that the month or the year when the loan was issued will impact the probability of a bad loan. Additionally, since months are cyclical we will treat `issue_d_month` as a factor."
   ]
  },
  {
   "cell_type": "code",
   "execution_count": 25,
   "metadata": {},
   "outputs": [
    {
     "data": {
      "text/html": [
       "<table>\n",
       "<thead>\n",
       "<tr><th style=\"text-align: right;\">  issue_d_year</th><th style=\"text-align: right;\">  issue_d_month</th></tr>\n",
       "</thead>\n",
       "<tbody>\n",
       "<tr><td style=\"text-align: right;\">          2011</td><td style=\"text-align: right;\">             12</td></tr>\n",
       "<tr><td style=\"text-align: right;\">          2011</td><td style=\"text-align: right;\">             12</td></tr>\n",
       "<tr><td style=\"text-align: right;\">          2011</td><td style=\"text-align: right;\">             12</td></tr>\n",
       "<tr><td style=\"text-align: right;\">          2011</td><td style=\"text-align: right;\">             12</td></tr>\n",
       "<tr><td style=\"text-align: right;\">          2011</td><td style=\"text-align: right;\">             12</td></tr>\n",
       "<tr><td style=\"text-align: right;\">          2011</td><td style=\"text-align: right;\">             12</td></tr>\n",
       "<tr><td style=\"text-align: right;\">          2011</td><td style=\"text-align: right;\">             12</td></tr>\n",
       "<tr><td style=\"text-align: right;\">          2011</td><td style=\"text-align: right;\">             12</td></tr>\n",
       "<tr><td style=\"text-align: right;\">          2011</td><td style=\"text-align: right;\">             12</td></tr>\n",
       "<tr><td style=\"text-align: right;\">          2011</td><td style=\"text-align: right;\">             12</td></tr>\n",
       "</tbody>\n",
       "</table>"
      ]
     },
     "metadata": {},
     "output_type": "display_data"
    },
    {
     "data": {
      "text/plain": []
     },
     "execution_count": 25,
     "metadata": {},
     "output_type": "execute_result"
    }
   ],
   "source": [
    "loans[\"issue_d_year\"] = loans[\"issue_d\"].year()\n",
    "loans[\"issue_d_month\"] = loans[\"issue_d\"].month().asfactor()\n",
    "\n",
    "loans[[\"issue_d_year\", \"issue_d_month\"]].head()"
   ]
  },
  {
   "cell_type": "markdown",
   "metadata": {},
   "source": [
    "### Word Embeddings\n",
    "\n",
    "One of the columns in our dataset is a user-provided description of why the loan was requested. The first few descriptions in the dataset are shown below."
   ]
  },
  {
   "cell_type": "code",
   "execution_count": 26,
   "metadata": {},
   "outputs": [
    {
     "data": {
      "text/html": [
       "<table>\n",
       "<thead>\n",
       "<tr><th>desc                                                                                                                                                                                                                                                                                                                                                                                                                                                                                                                                                                                                        </th></tr>\n",
       "</thead>\n",
       "<tbody>\n",
       "<tr><td>Borrower added on 12/22/11 > I need to upgrade my business technologies.<br>                                                                                                                                                                                                                                                                                                                                                                                                                                                                                                                                </td></tr>\n",
       "<tr><td>Borrower added on 12/22/11 > I plan to use this money to finance the motorcycle i am looking at. I plan to have it paid off as soon as possible/when i sell my old bike. I only need this money because the deal im looking at is to good to pass up.<br><br>  Borrower added on 12/22/11 > I plan to use this money to finance the motorcycle i am looking at. I plan to have it paid off as soon as possible/when i sell my old bike.I only need this money because the deal im looking at is to good to pass up. I have finished college with an associates degree in business and its takingmeplaces<br></td></tr>\n",
       "<tr><td>                                                                                                                                                                                                                                                                                                                                                                                                                                                                                                                                                                                                            </td></tr>\n",
       "<tr><td>Borrower added on 12/21/11 > to pay for property tax (borrow from friend, need to pay back) & central A/C need to be replace. I'm very sorry to let my loan expired last time.<br>                                                                                                                                                                                                                                                                                                                                                                                                                          </td></tr>\n",
       "<tr><td>                                                                                                                                                                                                                                                                                                                                                                                                                                                                                                                                                                                                            </td></tr>\n",
       "<tr><td>Borrower added on 12/16/11 > Downpayment for a car.<br>                                                                                                                                                                                                                                                                                                                                                                                                                                                                                                                                                     </td></tr>\n",
       "<tr><td>Borrower added on 12/21/11 > I own a small home-based judgment collection business. I have 5 years experience collecting debts. I am now going from a home office to a small office. I also plan to buy a small debt portfolio (eg. $10K for $1M of debt) <br>My score is not A+ because I own my home and have no mortgage.<br>                                                                                                                                                                                                                                                                            </td></tr>\n",
       "<tr><td>Borrower added on 12/16/11 > I'm trying to build up my credit history. I live with my brother and have no car payment or credit cards. I am in community college and work full time. Im going to use the money to make some repairs around the house and get some maintenance done on my car.<br><br>  Borrower added on 12/20/11 > $1000 down only $4375 to go. Thanks to everyone that invested so far, looking forward to surprising my brother with the fixes around the house.<br>                                                                                                                     </td></tr>\n",
       "<tr><td>Borrower added on 12/15/11 > I had recived a loan from Citi Financial about a year ago, I was paying 29.99 intrest, so the refinance is to cut that rate since cleaning up my credit I have been paying everything on time as shown on my credit report<br>                                                                                                                                                                                                                                                                                                                                                 </td></tr>\n",
       "<tr><td>                                                                                                                                                                                                                                                                                                                                                                                                                                                                                                                                                                                                            </td></tr>\n",
       "</tbody>\n",
       "</table>"
      ]
     },
     "metadata": {},
     "output_type": "display_data"
    },
    {
     "data": {
      "text/plain": []
     },
     "execution_count": 26,
     "metadata": {},
     "output_type": "execute_result"
    }
   ],
   "source": [
    "loans[\"desc\"].head()"
   ]
  },
  {
   "cell_type": "markdown",
   "metadata": {},
   "source": [
    "The descriptions may contain information that would assist in predicting default, but supervised learning algorithms in general have a hard time understanding text. We need to convert these strings into a numeric representation of the text in order for our algorithms to operate on it. There are multiple choices for doing so, in this example we will use the Word2Vec algorithm.\n",
    "\n",
    "We start by defining stop words (terms that are considered too frequent to carry much information) "
   ]
  },
  {
   "cell_type": "code",
   "execution_count": 27,
   "metadata": {},
   "outputs": [],
   "source": [
    "STOP_WORDS = [\"ax\",\"i\",\"you\",\"edu\",\"s\",\"t\",\"m\",\"subject\",\"can\",\"lines\",\"re\",\"what\",\n",
    "              \"there\",\"all\",\"we\",\"one\",\"the\",\"a\",\"an\",\"of\",\"or\",\"in\",\"for\",\"by\",\"on\",\n",
    "              \"but\",\"is\",\"in\",\"a\",\"not\",\"with\",\"as\",\"was\",\"if\",\"they\",\"are\",\"this\",\"and\",\"it\",\"have\",\n",
    "              \"from\",\"at\",\"my\",\"be\",\"by\",\"not\",\"that\",\"to\",\"from\",\"com\",\"org\",\"like\",\"likes\",\"so\"]"
   ]
  },
  {
   "cell_type": "markdown",
   "metadata": {},
   "source": [
    "We next _tokenize_ the descriptions by breaking the text into individual words"
   ]
  },
  {
   "cell_type": "code",
   "execution_count": 28,
   "metadata": {},
   "outputs": [],
   "source": [
    "def tokenize(sentences, stop_word = STOP_WORDS):\n",
    "    tokenized = sentences.tokenize(\"\\\\W+\")\n",
    "    tokenized_lower = tokenized.tolower()\n",
    "    tokenized_filtered = tokenized_lower[(tokenized_lower.nchar() >= 2) | (tokenized_lower.isna()),:]\n",
    "    tokenized_words = tokenized_filtered[tokenized_filtered.grep(\"[0-9]\",invert=True,output_logical=True),:]\n",
    "    tokenized_words = tokenized_words[(tokenized_words.isna()) | (~ tokenized_words.isin(STOP_WORDS)),:]\n",
    "    return tokenized_words\n",
    "\n",
    "words = tokenize(loans[\"desc\"].ascharacter())"
   ]
  },
  {
   "cell_type": "markdown",
   "metadata": {},
   "source": [
    "Then we train our Word2Vec model on the words extracted from our descriptions. We choose an output vector size of 100.\n",
    "\n",
    ">What does Word2Vec do? At a high level, it is a dimensionality reduction method for numerical representations of text. But it reduces dimensionality while preserving relationships between words in the text.\n",
    ">\n",
    ">Suppose we were to create a dictionary of all the words in our descriptions, and further suppose that dictionary contained 2500 unique words. At one extreme, we could create an indicator variable for each word (i.e., one-hot encoding). This would yield 2500 new features that would certainly lead to massive overfitting of models.\n",
    ">\n",
    ">At the other extreme, suppose we had someone classify those words into different groups and create indicator variables for each group: e.g., `risky_words` (\"bankruptcy\", \"default\", \"forfeit\", \"lien\", etc.), `angry_words` (profanity, \"complaint\", etc.), and so on. This reduces dimensionality by manually grouping words, but it is extremely labor intensive.\n",
    ">\n",
    ">Word2Vec starts with the entire dictionary size $K$ as inputs and the selected vector size $k$ as the target number of outputs. Passing through the intermediate layer(s) of the Word2Vec neural net, a $k$-dimensional numeric representation of each word is derived. "
   ]
  },
  {
   "cell_type": "code",
   "execution_count": 29,
   "metadata": {},
   "outputs": [
    {
     "name": "stdout",
     "output_type": "stream",
     "text": [
      "word2vec Model Build progress: |██████████████████████████████████████████| 100%\n"
     ]
    }
   ],
   "source": [
    "from h2o.estimators.word2vec import H2OWord2vecEstimator\n",
    "\n",
    "w2v_model = H2OWord2vecEstimator(vec_size=100, model_id=\"w2v\")\n",
    "w2v_model.train(training_frame=words)"
   ]
  },
  {
   "cell_type": "markdown",
   "metadata": {},
   "source": [
    "One way we quickly sanity check the Word2Vec model is by finding synonyms for specified words, e.g., \"car\""
   ]
  },
  {
   "cell_type": "code",
   "execution_count": 30,
   "metadata": {},
   "outputs": [
    {
     "data": {
      "text/plain": [
       "OrderedDict([('auto', 0.7713091373443604),\n",
       "             ('prius', 0.6837234497070312),\n",
       "             ('subaru', 0.6617433428764343),\n",
       "             ('insr', 0.6456354856491089),\n",
       "             ('cellphone', 0.642288327217102)])"
      ]
     },
     "execution_count": 30,
     "metadata": {},
     "output_type": "execute_result"
    }
   ],
   "source": [
    "w2v_model.find_synonyms(\"car\", count=5)"
   ]
  },
  {
   "cell_type": "markdown",
   "metadata": {},
   "source": [
    "Assuming we are satisfied with our Word2Vec model results, we next calculate a vector for each description by averaging over all of the words in that description"
   ]
  },
  {
   "cell_type": "code",
   "execution_count": 31,
   "metadata": {
    "scrolled": true
   },
   "outputs": [
    {
     "data": {
      "text/html": [
       "<table>\n",
       "<thead>\n",
       "<tr><th style=\"text-align: right;\">          C1</th><th style=\"text-align: right;\">          C2</th><th style=\"text-align: right;\">         C3</th><th style=\"text-align: right;\">        C4</th><th style=\"text-align: right;\">          C5</th><th style=\"text-align: right;\">        C6</th><th style=\"text-align: right;\">          C7</th><th style=\"text-align: right;\">         C8</th><th style=\"text-align: right;\">         C9</th><th style=\"text-align: right;\">        C10</th><th style=\"text-align: right;\">         C11</th><th style=\"text-align: right;\">         C12</th><th style=\"text-align: right;\">          C13</th><th style=\"text-align: right;\">        C14</th><th style=\"text-align: right;\">        C15</th><th style=\"text-align: right;\">        C16</th><th style=\"text-align: right;\">       C17</th><th style=\"text-align: right;\">        C18</th><th style=\"text-align: right;\">        C19</th><th style=\"text-align: right;\">        C20</th><th style=\"text-align: right;\">        C21</th><th style=\"text-align: right;\">        C22</th><th style=\"text-align: right;\">        C23</th><th style=\"text-align: right;\">        C24</th><th style=\"text-align: right;\">        C25</th><th style=\"text-align: right;\">       C26</th><th style=\"text-align: right;\">         C27</th><th style=\"text-align: right;\">        C28</th><th style=\"text-align: right;\">         C29</th><th style=\"text-align: right;\">         C30</th><th style=\"text-align: right;\">        C31</th><th style=\"text-align: right;\">       C32</th><th style=\"text-align: right;\">         C33</th><th style=\"text-align: right;\">        C34</th><th style=\"text-align: right;\">         C35</th><th style=\"text-align: right;\">        C36</th><th style=\"text-align: right;\">        C37</th><th style=\"text-align: right;\">        C38</th><th style=\"text-align: right;\">        C39</th><th style=\"text-align: right;\">        C40</th><th style=\"text-align: right;\">        C41</th><th style=\"text-align: right;\">         C42</th><th style=\"text-align: right;\">        C43</th><th style=\"text-align: right;\">          C44</th><th style=\"text-align: right;\">         C45</th><th style=\"text-align: right;\">        C46</th><th style=\"text-align: right;\">        C47</th><th style=\"text-align: right;\">         C48</th><th style=\"text-align: right;\">         C49</th><th style=\"text-align: right;\">       C50</th><th style=\"text-align: right;\">        C51</th><th style=\"text-align: right;\">         C52</th><th style=\"text-align: right;\">        C53</th><th style=\"text-align: right;\">        C54</th><th style=\"text-align: right;\">          C55</th><th style=\"text-align: right;\">        C56</th><th style=\"text-align: right;\">        C57</th><th style=\"text-align: right;\">         C58</th><th style=\"text-align: right;\">        C59</th><th style=\"text-align: right;\">         C60</th><th style=\"text-align: right;\">         C61</th><th style=\"text-align: right;\">        C62</th><th style=\"text-align: right;\">         C63</th><th style=\"text-align: right;\">        C64</th><th style=\"text-align: right;\">       C65</th><th style=\"text-align: right;\">         C66</th><th style=\"text-align: right;\">        C67</th><th style=\"text-align: right;\">         C68</th><th style=\"text-align: right;\">         C69</th><th style=\"text-align: right;\">        C70</th><th style=\"text-align: right;\">       C71</th><th style=\"text-align: right;\">         C72</th><th style=\"text-align: right;\">         C73</th><th style=\"text-align: right;\">         C74</th><th style=\"text-align: right;\">         C75</th><th style=\"text-align: right;\">         C76</th><th style=\"text-align: right;\">        C77</th><th style=\"text-align: right;\">         C78</th><th style=\"text-align: right;\">       C79</th><th style=\"text-align: right;\">        C80</th><th style=\"text-align: right;\">        C81</th><th style=\"text-align: right;\">         C82</th><th style=\"text-align: right;\">         C83</th><th style=\"text-align: right;\">         C84</th><th style=\"text-align: right;\">         C85</th><th style=\"text-align: right;\">        C86</th><th style=\"text-align: right;\">        C87</th><th style=\"text-align: right;\">        C88</th><th style=\"text-align: right;\">        C89</th><th style=\"text-align: right;\">         C90</th><th style=\"text-align: right;\">         C91</th><th style=\"text-align: right;\">        C92</th><th style=\"text-align: right;\">          C93</th><th style=\"text-align: right;\">        C94</th><th style=\"text-align: right;\">         C95</th><th style=\"text-align: right;\">        C96</th><th style=\"text-align: right;\">         C97</th><th style=\"text-align: right;\">          C98</th><th style=\"text-align: right;\">         C99</th><th style=\"text-align: right;\">         C100</th></tr>\n",
       "</thead>\n",
       "<tbody>\n",
       "<tr><td style=\"text-align: right;\">  0.130732  </td><td style=\"text-align: right;\">  0.2371    </td><td style=\"text-align: right;\"> -0.0968068</td><td style=\"text-align: right;\"> -0.190053</td><td style=\"text-align: right;\"> -0.239465  </td><td style=\"text-align: right;\">  0.30257 </td><td style=\"text-align: right;\">  0.00984965</td><td style=\"text-align: right;\"> -0.0243002</td><td style=\"text-align: right;\"> -0.36988  </td><td style=\"text-align: right;\">  0.0438733</td><td style=\"text-align: right;\">  0.0498021 </td><td style=\"text-align: right;\">  0.0687691 </td><td style=\"text-align: right;\">  0.000623774</td><td style=\"text-align: right;\">  0.0491899</td><td style=\"text-align: right;\">  0.0764558</td><td style=\"text-align: right;\"> -0.0259483</td><td style=\"text-align: right;\">  0.244555</td><td style=\"text-align: right;\">  0.142933 </td><td style=\"text-align: right;\"> -0.0117392</td><td style=\"text-align: right;\"> -0.128429 </td><td style=\"text-align: right;\">  0.193675 </td><td style=\"text-align: right;\">  0.0715172</td><td style=\"text-align: right;\">  0.0316816</td><td style=\"text-align: right;\"> -0.211    </td><td style=\"text-align: right;\">  0.195798 </td><td style=\"text-align: right;\"> -0.187672</td><td style=\"text-align: right;\"> -0.00767171</td><td style=\"text-align: right;\"> -0.0093378</td><td style=\"text-align: right;\">  0.051228  </td><td style=\"text-align: right;\"> -0.00165881</td><td style=\"text-align: right;\"> -0.0765397</td><td style=\"text-align: right;\">  0.116918</td><td style=\"text-align: right;\">  0.0624693 </td><td style=\"text-align: right;\">  0.072118 </td><td style=\"text-align: right;\"> -0.0709604 </td><td style=\"text-align: right;\"> -0.0922903</td><td style=\"text-align: right;\"> -0.0521051</td><td style=\"text-align: right;\"> -0.0641205</td><td style=\"text-align: right;\">  0.0191605</td><td style=\"text-align: right;\"> -0.106336 </td><td style=\"text-align: right;\">  0.0644111</td><td style=\"text-align: right;\"> -0.0491406 </td><td style=\"text-align: right;\">  0.133322 </td><td style=\"text-align: right;\">  0.0847298  </td><td style=\"text-align: right;\">  0.0287299 </td><td style=\"text-align: right;\">  0.110798 </td><td style=\"text-align: right;\"> -0.105419 </td><td style=\"text-align: right;\">  0.144252  </td><td style=\"text-align: right;\">  0.135113  </td><td style=\"text-align: right;\"> -0.196491</td><td style=\"text-align: right;\"> -0.186975 </td><td style=\"text-align: right;\">  0.00681679</td><td style=\"text-align: right;\">  0.0164249</td><td style=\"text-align: right;\">  0.0341879</td><td style=\"text-align: right;\"> -0.0733504  </td><td style=\"text-align: right;\">  0.133512 </td><td style=\"text-align: right;\">  0.174844 </td><td style=\"text-align: right;\"> -0.0188726 </td><td style=\"text-align: right;\"> -0.113621 </td><td style=\"text-align: right;\">  0.0499437 </td><td style=\"text-align: right;\"> -0.0910975 </td><td style=\"text-align: right;\"> -0.157589 </td><td style=\"text-align: right;\">  0.00906587</td><td style=\"text-align: right;\">  0.0819029</td><td style=\"text-align: right;\"> -0.147873</td><td style=\"text-align: right;\"> -0.0411375 </td><td style=\"text-align: right;\">  0.0675472</td><td style=\"text-align: right;\"> -0.0739019 </td><td style=\"text-align: right;\">  0.00505948</td><td style=\"text-align: right;\">  0.0782313</td><td style=\"text-align: right;\">  0.047675</td><td style=\"text-align: right;\"> -0.00354187</td><td style=\"text-align: right;\">  0.207051  </td><td style=\"text-align: right;\"> -0.0808372 </td><td style=\"text-align: right;\">  0.00953163</td><td style=\"text-align: right;\"> -0.00545716</td><td style=\"text-align: right;\"> -0.0105274</td><td style=\"text-align: right;\">  0.00636395</td><td style=\"text-align: right;\"> -0.281947</td><td style=\"text-align: right;\"> -0.034311 </td><td style=\"text-align: right;\">  0.0394697</td><td style=\"text-align: right;\">  0.0392284 </td><td style=\"text-align: right;\"> -0.0844928 </td><td style=\"text-align: right;\">  0.253064  </td><td style=\"text-align: right;\"> -0.0987785 </td><td style=\"text-align: right;\">  0.117134 </td><td style=\"text-align: right;\">  0.0751479</td><td style=\"text-align: right;\">  0.123017 </td><td style=\"text-align: right;\"> -0.13887  </td><td style=\"text-align: right;\"> -0.0405337 </td><td style=\"text-align: right;\"> -0.048093  </td><td style=\"text-align: right;\">  0.216667 </td><td style=\"text-align: right;\"> -0.145108   </td><td style=\"text-align: right;\"> -0.0953402</td><td style=\"text-align: right;\">  0.021335  </td><td style=\"text-align: right;\"> -0.1183   </td><td style=\"text-align: right;\"> -0.0508788 </td><td style=\"text-align: right;\">  0.0386078  </td><td style=\"text-align: right;\">  0.125738  </td><td style=\"text-align: right;\">  0.0420615  </td></tr>\n",
       "<tr><td style=\"text-align: right;\">  0.015261  </td><td style=\"text-align: right;\"> -0.0189946 </td><td style=\"text-align: right;\"> -0.0377986</td><td style=\"text-align: right;\"> -0.352824</td><td style=\"text-align: right;\"> -0.0421806 </td><td style=\"text-align: right;\">  0.273602</td><td style=\"text-align: right;\">  0.0257185 </td><td style=\"text-align: right;\">  0.0368466</td><td style=\"text-align: right;\"> -0.159298 </td><td style=\"text-align: right;\">  0.084412 </td><td style=\"text-align: right;\">  0.00821949</td><td style=\"text-align: right;\">  0.0287549 </td><td style=\"text-align: right;\">  0.000335703</td><td style=\"text-align: right;\">  0.141467 </td><td style=\"text-align: right;\">  0.0820211</td><td style=\"text-align: right;\">  0.0268281</td><td style=\"text-align: right;\">  0.221193</td><td style=\"text-align: right;\">  0.189572 </td><td style=\"text-align: right;\"> -0.0476454</td><td style=\"text-align: right;\"> -0.0747635</td><td style=\"text-align: right;\">  0.109324 </td><td style=\"text-align: right;\">  0.166215 </td><td style=\"text-align: right;\"> -0.0453003</td><td style=\"text-align: right;\"> -0.0190978</td><td style=\"text-align: right;\">  0.162598 </td><td style=\"text-align: right;\"> -0.249966</td><td style=\"text-align: right;\"> -0.0823548 </td><td style=\"text-align: right;\"> -0.118167 </td><td style=\"text-align: right;\">  0.0232662 </td><td style=\"text-align: right;\"> -0.0503459 </td><td style=\"text-align: right;\"> -0.0374512</td><td style=\"text-align: right;\">  0.223274</td><td style=\"text-align: right;\">  0.106854  </td><td style=\"text-align: right;\">  0.113392 </td><td style=\"text-align: right;\"> -0.0131322 </td><td style=\"text-align: right;\">  0.135834 </td><td style=\"text-align: right;\">  0.0836064</td><td style=\"text-align: right;\"> -0.0215996</td><td style=\"text-align: right;\"> -0.0658767</td><td style=\"text-align: right;\"> -0.105895 </td><td style=\"text-align: right;\"> -0.0438048</td><td style=\"text-align: right;\"> -0.0299641 </td><td style=\"text-align: right;\">  0.0968625</td><td style=\"text-align: right;\">  0.0445964  </td><td style=\"text-align: right;\"> -0.0646708 </td><td style=\"text-align: right;\">  0.169112 </td><td style=\"text-align: right;\"> -0.102144 </td><td style=\"text-align: right;\">  0.0272527 </td><td style=\"text-align: right;\">  0.0659486 </td><td style=\"text-align: right;\"> -0.190737</td><td style=\"text-align: right;\"> -0.0946162</td><td style=\"text-align: right;\">  0.0831563 </td><td style=\"text-align: right;\">  0.0447998</td><td style=\"text-align: right;\"> -0.0296908</td><td style=\"text-align: right;\"> -0.000815011</td><td style=\"text-align: right;\">  0.0708364</td><td style=\"text-align: right;\">  0.105433 </td><td style=\"text-align: right;\">  0.0304992 </td><td style=\"text-align: right;\"> -0.0909002</td><td style=\"text-align: right;\">  0.0474676 </td><td style=\"text-align: right;\"> -0.075714  </td><td style=\"text-align: right;\"> -0.0379151</td><td style=\"text-align: right;\"> -0.0368688 </td><td style=\"text-align: right;\">  0.0384935</td><td style=\"text-align: right;\"> -0.139039</td><td style=\"text-align: right;\"> -0.0534576 </td><td style=\"text-align: right;\">  0.0760585</td><td style=\"text-align: right;\"> -0.00528338</td><td style=\"text-align: right;\"> -0.00736612</td><td style=\"text-align: right;\">  0.118782 </td><td style=\"text-align: right;\">  0.263968</td><td style=\"text-align: right;\"> -0.00567725</td><td style=\"text-align: right;\">  0.116826  </td><td style=\"text-align: right;\"> -0.0819534 </td><td style=\"text-align: right;\"> -0.0118152 </td><td style=\"text-align: right;\">  0.0176106 </td><td style=\"text-align: right;\"> -0.0510207</td><td style=\"text-align: right;\">  0.0691106 </td><td style=\"text-align: right;\"> -0.234969</td><td style=\"text-align: right;\"> -0.127599 </td><td style=\"text-align: right;\">  0.0526787</td><td style=\"text-align: right;\">  0.0547641 </td><td style=\"text-align: right;\">  0.00447404</td><td style=\"text-align: right;\">  0.0116135 </td><td style=\"text-align: right;\">  0.0909164 </td><td style=\"text-align: right;\">  0.105184 </td><td style=\"text-align: right;\">  0.0474114</td><td style=\"text-align: right;\">  0.098871 </td><td style=\"text-align: right;\"> -0.0444376</td><td style=\"text-align: right;\"> -0.0242455 </td><td style=\"text-align: right;\"> -0.0131769 </td><td style=\"text-align: right;\">  0.13945  </td><td style=\"text-align: right;\"> -0.111008   </td><td style=\"text-align: right;\"> -0.0914391</td><td style=\"text-align: right;\">  0.0449096 </td><td style=\"text-align: right;\"> -0.108624 </td><td style=\"text-align: right;\">  0.0284994 </td><td style=\"text-align: right;\"> -0.0126688  </td><td style=\"text-align: right;\">  0.0343206 </td><td style=\"text-align: right;\">  0.0811124  </td></tr>\n",
       "<tr><td style=\"text-align: right;\">nan         </td><td style=\"text-align: right;\">nan         </td><td style=\"text-align: right;\">nan        </td><td style=\"text-align: right;\">nan       </td><td style=\"text-align: right;\">nan         </td><td style=\"text-align: right;\">nan       </td><td style=\"text-align: right;\">nan         </td><td style=\"text-align: right;\">nan        </td><td style=\"text-align: right;\">nan        </td><td style=\"text-align: right;\">nan        </td><td style=\"text-align: right;\">nan         </td><td style=\"text-align: right;\">nan         </td><td style=\"text-align: right;\">nan          </td><td style=\"text-align: right;\">nan        </td><td style=\"text-align: right;\">nan        </td><td style=\"text-align: right;\">nan        </td><td style=\"text-align: right;\">nan       </td><td style=\"text-align: right;\">nan        </td><td style=\"text-align: right;\">nan        </td><td style=\"text-align: right;\">nan        </td><td style=\"text-align: right;\">nan        </td><td style=\"text-align: right;\">nan        </td><td style=\"text-align: right;\">nan        </td><td style=\"text-align: right;\">nan        </td><td style=\"text-align: right;\">nan        </td><td style=\"text-align: right;\">nan       </td><td style=\"text-align: right;\">nan         </td><td style=\"text-align: right;\">nan        </td><td style=\"text-align: right;\">nan         </td><td style=\"text-align: right;\">nan         </td><td style=\"text-align: right;\">nan        </td><td style=\"text-align: right;\">nan       </td><td style=\"text-align: right;\">nan         </td><td style=\"text-align: right;\">nan        </td><td style=\"text-align: right;\">nan         </td><td style=\"text-align: right;\">nan        </td><td style=\"text-align: right;\">nan        </td><td style=\"text-align: right;\">nan        </td><td style=\"text-align: right;\">nan        </td><td style=\"text-align: right;\">nan        </td><td style=\"text-align: right;\">nan        </td><td style=\"text-align: right;\">nan         </td><td style=\"text-align: right;\">nan        </td><td style=\"text-align: right;\">nan          </td><td style=\"text-align: right;\">nan         </td><td style=\"text-align: right;\">nan        </td><td style=\"text-align: right;\">nan        </td><td style=\"text-align: right;\">nan         </td><td style=\"text-align: right;\">nan         </td><td style=\"text-align: right;\">nan       </td><td style=\"text-align: right;\">nan        </td><td style=\"text-align: right;\">nan         </td><td style=\"text-align: right;\">nan        </td><td style=\"text-align: right;\">nan        </td><td style=\"text-align: right;\">nan          </td><td style=\"text-align: right;\">nan        </td><td style=\"text-align: right;\">nan        </td><td style=\"text-align: right;\">nan         </td><td style=\"text-align: right;\">nan        </td><td style=\"text-align: right;\">nan         </td><td style=\"text-align: right;\">nan         </td><td style=\"text-align: right;\">nan        </td><td style=\"text-align: right;\">nan         </td><td style=\"text-align: right;\">nan        </td><td style=\"text-align: right;\">nan       </td><td style=\"text-align: right;\">nan         </td><td style=\"text-align: right;\">nan        </td><td style=\"text-align: right;\">nan         </td><td style=\"text-align: right;\">nan         </td><td style=\"text-align: right;\">nan        </td><td style=\"text-align: right;\">nan       </td><td style=\"text-align: right;\">nan         </td><td style=\"text-align: right;\">nan         </td><td style=\"text-align: right;\">nan         </td><td style=\"text-align: right;\">nan         </td><td style=\"text-align: right;\">nan         </td><td style=\"text-align: right;\">nan        </td><td style=\"text-align: right;\">nan         </td><td style=\"text-align: right;\">nan       </td><td style=\"text-align: right;\">nan        </td><td style=\"text-align: right;\">nan        </td><td style=\"text-align: right;\">nan         </td><td style=\"text-align: right;\">nan         </td><td style=\"text-align: right;\">nan         </td><td style=\"text-align: right;\">nan         </td><td style=\"text-align: right;\">nan        </td><td style=\"text-align: right;\">nan        </td><td style=\"text-align: right;\">nan        </td><td style=\"text-align: right;\">nan        </td><td style=\"text-align: right;\">nan         </td><td style=\"text-align: right;\">nan         </td><td style=\"text-align: right;\">nan        </td><td style=\"text-align: right;\">nan          </td><td style=\"text-align: right;\">nan        </td><td style=\"text-align: right;\">nan         </td><td style=\"text-align: right;\">nan        </td><td style=\"text-align: right;\">nan         </td><td style=\"text-align: right;\">nan          </td><td style=\"text-align: right;\">nan         </td><td style=\"text-align: right;\">nan          </td></tr>\n",
       "<tr><td style=\"text-align: right;\">  0.0341925 </td><td style=\"text-align: right;\"> -0.00103927</td><td style=\"text-align: right;\"> -0.0486682</td><td style=\"text-align: right;\"> -0.322893</td><td style=\"text-align: right;\">  0.0550038 </td><td style=\"text-align: right;\">  0.347691</td><td style=\"text-align: right;\">  0.212858  </td><td style=\"text-align: right;\"> -0.0457849</td><td style=\"text-align: right;\"> -0.149617 </td><td style=\"text-align: right;\">  0.0980106</td><td style=\"text-align: right;\"> -0.00865846</td><td style=\"text-align: right;\">  0.00936294</td><td style=\"text-align: right;\"> -0.0302273  </td><td style=\"text-align: right;\">  0.0536572</td><td style=\"text-align: right;\">  0.0932448</td><td style=\"text-align: right;\">  0.017904 </td><td style=\"text-align: right;\">  0.256602</td><td style=\"text-align: right;\">  0.20083  </td><td style=\"text-align: right;\"> -0.128658 </td><td style=\"text-align: right;\"> -0.060176 </td><td style=\"text-align: right;\">  0.0914405</td><td style=\"text-align: right;\">  0.0677524</td><td style=\"text-align: right;\"> -0.0432043</td><td style=\"text-align: right;\"> -0.0104747</td><td style=\"text-align: right;\">  0.183163 </td><td style=\"text-align: right;\"> -0.157799</td><td style=\"text-align: right;\"> -0.11994   </td><td style=\"text-align: right;\"> -0.107054 </td><td style=\"text-align: right;\">  0.0357416 </td><td style=\"text-align: right;\"> -0.0631723 </td><td style=\"text-align: right;\"> -0.0765382</td><td style=\"text-align: right;\">  0.138294</td><td style=\"text-align: right;\">  0.0268689 </td><td style=\"text-align: right;\">  0.0316601</td><td style=\"text-align: right;\"> -0.0912499 </td><td style=\"text-align: right;\"> -0.030547 </td><td style=\"text-align: right;\">  0.0435697</td><td style=\"text-align: right;\"> -0.0228287</td><td style=\"text-align: right;\">  0.018828 </td><td style=\"text-align: right;\"> -0.103038 </td><td style=\"text-align: right;\"> -0.0316113</td><td style=\"text-align: right;\"> -0.130096  </td><td style=\"text-align: right;\">  0.0950495</td><td style=\"text-align: right;\">  0.0904056  </td><td style=\"text-align: right;\"> -0.021948  </td><td style=\"text-align: right;\">  0.198225 </td><td style=\"text-align: right;\"> -0.237472 </td><td style=\"text-align: right;\">  0.0122564 </td><td style=\"text-align: right;\">  0.100919  </td><td style=\"text-align: right;\"> -0.179787</td><td style=\"text-align: right;\"> -0.187481 </td><td style=\"text-align: right;\">  0.0634508 </td><td style=\"text-align: right;\"> -0.040423 </td><td style=\"text-align: right;\">  0.0732521</td><td style=\"text-align: right;\"> -0.00803819 </td><td style=\"text-align: right;\">  0.118237 </td><td style=\"text-align: right;\">  0.128346 </td><td style=\"text-align: right;\"> -0.00898615</td><td style=\"text-align: right;\"> -0.0812655</td><td style=\"text-align: right;\"> -0.0619357 </td><td style=\"text-align: right;\">  0.00570495</td><td style=\"text-align: right;\"> -0.0122287</td><td style=\"text-align: right;\"> -0.0377513 </td><td style=\"text-align: right;\">  0.0715978</td><td style=\"text-align: right;\"> -0.200631</td><td style=\"text-align: right;\"> -0.0854178 </td><td style=\"text-align: right;\">  0.16792  </td><td style=\"text-align: right;\">  0.0336001 </td><td style=\"text-align: right;\"> -0.0632041 </td><td style=\"text-align: right;\">  0.0624004</td><td style=\"text-align: right;\">  0.232147</td><td style=\"text-align: right;\"> -0.0181253 </td><td style=\"text-align: right;\">  0.113295  </td><td style=\"text-align: right;\">  0.0076237 </td><td style=\"text-align: right;\">  0.0156761 </td><td style=\"text-align: right;\">  0.0194646 </td><td style=\"text-align: right;\"> -0.107166 </td><td style=\"text-align: right;\">  0.0324226 </td><td style=\"text-align: right;\"> -0.196699</td><td style=\"text-align: right;\"> -0.063095 </td><td style=\"text-align: right;\">  0.0256931</td><td style=\"text-align: right;\">  0.0952507 </td><td style=\"text-align: right;\"> -0.0553404 </td><td style=\"text-align: right;\">  0.0473101 </td><td style=\"text-align: right;\">  0.0734234 </td><td style=\"text-align: right;\">  0.0339005</td><td style=\"text-align: right;\">  0.0118485</td><td style=\"text-align: right;\">  0.072105 </td><td style=\"text-align: right;\"> -0.0127965</td><td style=\"text-align: right;\"> -0.0365087 </td><td style=\"text-align: right;\">  0.00925304</td><td style=\"text-align: right;\">  0.150155 </td><td style=\"text-align: right;\"> -0.107499   </td><td style=\"text-align: right;\"> -0.100109 </td><td style=\"text-align: right;\">  0.0684668 </td><td style=\"text-align: right;\"> -0.0265548</td><td style=\"text-align: right;\"> -0.060167  </td><td style=\"text-align: right;\">  7.77915e-05</td><td style=\"text-align: right;\">  0.0878716 </td><td style=\"text-align: right;\">  0.0283483  </td></tr>\n",
       "<tr><td style=\"text-align: right;\">nan         </td><td style=\"text-align: right;\">nan         </td><td style=\"text-align: right;\">nan        </td><td style=\"text-align: right;\">nan       </td><td style=\"text-align: right;\">nan         </td><td style=\"text-align: right;\">nan       </td><td style=\"text-align: right;\">nan         </td><td style=\"text-align: right;\">nan        </td><td style=\"text-align: right;\">nan        </td><td style=\"text-align: right;\">nan        </td><td style=\"text-align: right;\">nan         </td><td style=\"text-align: right;\">nan         </td><td style=\"text-align: right;\">nan          </td><td style=\"text-align: right;\">nan        </td><td style=\"text-align: right;\">nan        </td><td style=\"text-align: right;\">nan        </td><td style=\"text-align: right;\">nan       </td><td style=\"text-align: right;\">nan        </td><td style=\"text-align: right;\">nan        </td><td style=\"text-align: right;\">nan        </td><td style=\"text-align: right;\">nan        </td><td style=\"text-align: right;\">nan        </td><td style=\"text-align: right;\">nan        </td><td style=\"text-align: right;\">nan        </td><td style=\"text-align: right;\">nan        </td><td style=\"text-align: right;\">nan       </td><td style=\"text-align: right;\">nan         </td><td style=\"text-align: right;\">nan        </td><td style=\"text-align: right;\">nan         </td><td style=\"text-align: right;\">nan         </td><td style=\"text-align: right;\">nan        </td><td style=\"text-align: right;\">nan       </td><td style=\"text-align: right;\">nan         </td><td style=\"text-align: right;\">nan        </td><td style=\"text-align: right;\">nan         </td><td style=\"text-align: right;\">nan        </td><td style=\"text-align: right;\">nan        </td><td style=\"text-align: right;\">nan        </td><td style=\"text-align: right;\">nan        </td><td style=\"text-align: right;\">nan        </td><td style=\"text-align: right;\">nan        </td><td style=\"text-align: right;\">nan         </td><td style=\"text-align: right;\">nan        </td><td style=\"text-align: right;\">nan          </td><td style=\"text-align: right;\">nan         </td><td style=\"text-align: right;\">nan        </td><td style=\"text-align: right;\">nan        </td><td style=\"text-align: right;\">nan         </td><td style=\"text-align: right;\">nan         </td><td style=\"text-align: right;\">nan       </td><td style=\"text-align: right;\">nan        </td><td style=\"text-align: right;\">nan         </td><td style=\"text-align: right;\">nan        </td><td style=\"text-align: right;\">nan        </td><td style=\"text-align: right;\">nan          </td><td style=\"text-align: right;\">nan        </td><td style=\"text-align: right;\">nan        </td><td style=\"text-align: right;\">nan         </td><td style=\"text-align: right;\">nan        </td><td style=\"text-align: right;\">nan         </td><td style=\"text-align: right;\">nan         </td><td style=\"text-align: right;\">nan        </td><td style=\"text-align: right;\">nan         </td><td style=\"text-align: right;\">nan        </td><td style=\"text-align: right;\">nan       </td><td style=\"text-align: right;\">nan         </td><td style=\"text-align: right;\">nan        </td><td style=\"text-align: right;\">nan         </td><td style=\"text-align: right;\">nan         </td><td style=\"text-align: right;\">nan        </td><td style=\"text-align: right;\">nan       </td><td style=\"text-align: right;\">nan         </td><td style=\"text-align: right;\">nan         </td><td style=\"text-align: right;\">nan         </td><td style=\"text-align: right;\">nan         </td><td style=\"text-align: right;\">nan         </td><td style=\"text-align: right;\">nan        </td><td style=\"text-align: right;\">nan         </td><td style=\"text-align: right;\">nan       </td><td style=\"text-align: right;\">nan        </td><td style=\"text-align: right;\">nan        </td><td style=\"text-align: right;\">nan         </td><td style=\"text-align: right;\">nan         </td><td style=\"text-align: right;\">nan         </td><td style=\"text-align: right;\">nan         </td><td style=\"text-align: right;\">nan        </td><td style=\"text-align: right;\">nan        </td><td style=\"text-align: right;\">nan        </td><td style=\"text-align: right;\">nan        </td><td style=\"text-align: right;\">nan         </td><td style=\"text-align: right;\">nan         </td><td style=\"text-align: right;\">nan        </td><td style=\"text-align: right;\">nan          </td><td style=\"text-align: right;\">nan        </td><td style=\"text-align: right;\">nan         </td><td style=\"text-align: right;\">nan        </td><td style=\"text-align: right;\">nan         </td><td style=\"text-align: right;\">nan          </td><td style=\"text-align: right;\">nan         </td><td style=\"text-align: right;\">nan          </td></tr>\n",
       "<tr><td style=\"text-align: right;\">  0.188452  </td><td style=\"text-align: right;\">  0.060142  </td><td style=\"text-align: right;\"> -0.141081 </td><td style=\"text-align: right;\"> -0.328376</td><td style=\"text-align: right;\">  0.00578141</td><td style=\"text-align: right;\">  0.371448</td><td style=\"text-align: right;\"> -0.0631901 </td><td style=\"text-align: right;\"> -0.110845 </td><td style=\"text-align: right;\"> -0.0513823</td><td style=\"text-align: right;\">  0.175641 </td><td style=\"text-align: right;\">  0.0894424 </td><td style=\"text-align: right;\">  0.0740616 </td><td style=\"text-align: right;\"> -0.0499501  </td><td style=\"text-align: right;\">  0.0701332</td><td style=\"text-align: right;\">  0.039787 </td><td style=\"text-align: right;\"> -0.0328484</td><td style=\"text-align: right;\">  0.319327</td><td style=\"text-align: right;\">  0.190434 </td><td style=\"text-align: right;\"> -0.0482344</td><td style=\"text-align: right;\"> -0.127454 </td><td style=\"text-align: right;\">  0.182757 </td><td style=\"text-align: right;\"> -0.0277464</td><td style=\"text-align: right;\">  0.0609139</td><td style=\"text-align: right;\"> -0.0370418</td><td style=\"text-align: right;\">  0.255052 </td><td style=\"text-align: right;\"> -0.264059</td><td style=\"text-align: right;\"> -0.0578901 </td><td style=\"text-align: right;\"> -0.0254418</td><td style=\"text-align: right;\">  0.115762  </td><td style=\"text-align: right;\">  0.00774949</td><td style=\"text-align: right;\"> -0.144438 </td><td style=\"text-align: right;\">  0.19671 </td><td style=\"text-align: right;\">  0.00976124</td><td style=\"text-align: right;\">  0.157073 </td><td style=\"text-align: right;\"> -0.0752865 </td><td style=\"text-align: right;\">  0.139654 </td><td style=\"text-align: right;\"> -0.0920569</td><td style=\"text-align: right;\"> -0.0084179</td><td style=\"text-align: right;\">  0.0148794</td><td style=\"text-align: right;\">  0.0134738</td><td style=\"text-align: right;\"> -0.109063 </td><td style=\"text-align: right;\"> -0.0929442 </td><td style=\"text-align: right;\">  0.177904 </td><td style=\"text-align: right;\">  0.0776159  </td><td style=\"text-align: right;\">  0.00629818</td><td style=\"text-align: right;\">  0.361484 </td><td style=\"text-align: right;\"> -0.240474 </td><td style=\"text-align: right;\">  0.0762584 </td><td style=\"text-align: right;\">  0.0636731 </td><td style=\"text-align: right;\"> -0.291398</td><td style=\"text-align: right;\"> -0.167577 </td><td style=\"text-align: right;\">  0.102972  </td><td style=\"text-align: right;\">  0.191858 </td><td style=\"text-align: right;\">  0.104389 </td><td style=\"text-align: right;\"> -0.066615   </td><td style=\"text-align: right;\">  0.0765318</td><td style=\"text-align: right;\">  0.0965976</td><td style=\"text-align: right;\"> -0.103904  </td><td style=\"text-align: right;\"> -0.125183 </td><td style=\"text-align: right;\">  0.0546708 </td><td style=\"text-align: right;\"> -0.0546656 </td><td style=\"text-align: right;\"> -0.132392 </td><td style=\"text-align: right;\"> -0.10995   </td><td style=\"text-align: right;\">  0.0508478</td><td style=\"text-align: right;\"> -0.137211</td><td style=\"text-align: right;\">  0.00222838</td><td style=\"text-align: right;\">  0.0894254</td><td style=\"text-align: right;\"> -0.110374  </td><td style=\"text-align: right;\"> -0.138071  </td><td style=\"text-align: right;\">  0.157384 </td><td style=\"text-align: right;\">  0.146978</td><td style=\"text-align: right;\"> -0.0820417 </td><td style=\"text-align: right;\">  0.14749   </td><td style=\"text-align: right;\"> -0.0313926 </td><td style=\"text-align: right;\"> -0.0518346 </td><td style=\"text-align: right;\">  0.034183  </td><td style=\"text-align: right;\"> -0.0070019</td><td style=\"text-align: right;\">  0.00370445</td><td style=\"text-align: right;\"> -0.230635</td><td style=\"text-align: right;\"> -0.101117 </td><td style=\"text-align: right;\"> -0.053143 </td><td style=\"text-align: right;\"> -0.00559878</td><td style=\"text-align: right;\"> -0.152264  </td><td style=\"text-align: right;\">  0.00234341</td><td style=\"text-align: right;\">  0.128946  </td><td style=\"text-align: right;\">  0.0548377</td><td style=\"text-align: right;\">  0.16318  </td><td style=\"text-align: right;\">  0.122743 </td><td style=\"text-align: right;\"> -0.075012 </td><td style=\"text-align: right;\"> -0.153431  </td><td style=\"text-align: right;\"> -0.156433  </td><td style=\"text-align: right;\">  0.242555 </td><td style=\"text-align: right;\">  8.77887e-05</td><td style=\"text-align: right;\"> -0.172143 </td><td style=\"text-align: right;\">  0.00412631</td><td style=\"text-align: right;\"> -0.0322067</td><td style=\"text-align: right;\">  0.00810651</td><td style=\"text-align: right;\"> -0.031112   </td><td style=\"text-align: right;\">  0.00212626</td><td style=\"text-align: right;\"> -0.10503    </td></tr>\n",
       "<tr><td style=\"text-align: right;\">  0.0750178 </td><td style=\"text-align: right;\">  0.0155016 </td><td style=\"text-align: right;\"> -0.0601305</td><td style=\"text-align: right;\"> -0.262378</td><td style=\"text-align: right;\"> -0.0975396 </td><td style=\"text-align: right;\">  0.311779</td><td style=\"text-align: right;\">  0.0725242 </td><td style=\"text-align: right;\">  0.202452 </td><td style=\"text-align: right;\"> -0.288579 </td><td style=\"text-align: right;\">  0.060242 </td><td style=\"text-align: right;\">  0.06335   </td><td style=\"text-align: right;\">  0.0170416 </td><td style=\"text-align: right;\">  0.006158   </td><td style=\"text-align: right;\"> -0.0263579</td><td style=\"text-align: right;\">  0.116892 </td><td style=\"text-align: right;\">  0.0840975</td><td style=\"text-align: right;\">  0.153089</td><td style=\"text-align: right;\">  0.0947632</td><td style=\"text-align: right;\"> -0.036046 </td><td style=\"text-align: right;\"> -0.138016 </td><td style=\"text-align: right;\">  0.14291  </td><td style=\"text-align: right;\">  0.126328 </td><td style=\"text-align: right;\"> -0.0258083</td><td style=\"text-align: right;\"> -0.0391022</td><td style=\"text-align: right;\">  0.15468  </td><td style=\"text-align: right;\"> -0.243401</td><td style=\"text-align: right;\"> -0.0464144 </td><td style=\"text-align: right;\"> -0.0455263</td><td style=\"text-align: right;\">  0.0410077 </td><td style=\"text-align: right;\"> -0.0282762 </td><td style=\"text-align: right;\"> -0.0337661</td><td style=\"text-align: right;\">  0.209684</td><td style=\"text-align: right;\">  0.0599563 </td><td style=\"text-align: right;\">  0.121491 </td><td style=\"text-align: right;\"> -0.0722907 </td><td style=\"text-align: right;\">  0.0341809</td><td style=\"text-align: right;\">  0.0297713</td><td style=\"text-align: right;\"> -0.0609344</td><td style=\"text-align: right;\"> -0.0114243</td><td style=\"text-align: right;\"> -0.0659017</td><td style=\"text-align: right;\"> -0.0273377</td><td style=\"text-align: right;\">  0.00748994</td><td style=\"text-align: right;\">  0.0996805</td><td style=\"text-align: right;\"> -0.000470336</td><td style=\"text-align: right;\"> -0.0128263 </td><td style=\"text-align: right;\">  0.0640295</td><td style=\"text-align: right;\"> -0.111443 </td><td style=\"text-align: right;\">  0.131793  </td><td style=\"text-align: right;\">  0.0648568 </td><td style=\"text-align: right;\"> -0.183436</td><td style=\"text-align: right;\"> -0.0950904</td><td style=\"text-align: right;\">  0.114902  </td><td style=\"text-align: right;\">  0.0118597</td><td style=\"text-align: right;\"> -0.0139563</td><td style=\"text-align: right;\">  0.0300359  </td><td style=\"text-align: right;\">  0.117736 </td><td style=\"text-align: right;\">  0.0590615</td><td style=\"text-align: right;\">  0.0159393 </td><td style=\"text-align: right;\"> -0.0511425</td><td style=\"text-align: right;\"> -0.00310226</td><td style=\"text-align: right;\"> -0.0208964 </td><td style=\"text-align: right;\"> -0.0510545</td><td style=\"text-align: right;\">  0.0504974 </td><td style=\"text-align: right;\">  0.052356 </td><td style=\"text-align: right;\"> -0.148125</td><td style=\"text-align: right;\"> -0.116026  </td><td style=\"text-align: right;\">  0.0826369</td><td style=\"text-align: right;\"> -0.0360821 </td><td style=\"text-align: right;\"> -0.110284  </td><td style=\"text-align: right;\">  0.0156452</td><td style=\"text-align: right;\">  0.113536</td><td style=\"text-align: right;\">  0.0115648 </td><td style=\"text-align: right;\">  0.137904  </td><td style=\"text-align: right;\">  0.0497785 </td><td style=\"text-align: right;\">  0.0563916 </td><td style=\"text-align: right;\">  0.00740893</td><td style=\"text-align: right;\">  0.0116596</td><td style=\"text-align: right;\">  0.00398535</td><td style=\"text-align: right;\"> -0.152455</td><td style=\"text-align: right;\"> -0.0278945</td><td style=\"text-align: right;\"> -0.0708348</td><td style=\"text-align: right;\"> -0.118429  </td><td style=\"text-align: right;\"> -0.0374896 </td><td style=\"text-align: right;\">  0.00919192</td><td style=\"text-align: right;\">  0.00512027</td><td style=\"text-align: right;\">  0.0926561</td><td style=\"text-align: right;\">  0.0243747</td><td style=\"text-align: right;\">  0.161119 </td><td style=\"text-align: right;\"> -0.110633 </td><td style=\"text-align: right;\"> -0.0363386 </td><td style=\"text-align: right;\"> -0.114975  </td><td style=\"text-align: right;\">  0.0929222</td><td style=\"text-align: right;\"> -0.0534106  </td><td style=\"text-align: right;\"> -0.151298 </td><td style=\"text-align: right;\">  0.0230883 </td><td style=\"text-align: right;\"> -0.0477118</td><td style=\"text-align: right;\"> -0.117668  </td><td style=\"text-align: right;\">  0.00718714 </td><td style=\"text-align: right;\">  0.0120605 </td><td style=\"text-align: right;\"> -0.000876556</td></tr>\n",
       "<tr><td style=\"text-align: right;\"> -0.00176785</td><td style=\"text-align: right;\"> -0.053771  </td><td style=\"text-align: right;\"> -0.0938504</td><td style=\"text-align: right;\"> -0.325335</td><td style=\"text-align: right;\"> -0.0711409 </td><td style=\"text-align: right;\">  0.312859</td><td style=\"text-align: right;\">  0.0839964 </td><td style=\"text-align: right;\">  0.047431 </td><td style=\"text-align: right;\"> -0.159812 </td><td style=\"text-align: right;\">  0.116139 </td><td style=\"text-align: right;\">  0.0170906 </td><td style=\"text-align: right;\">  0.0582262 </td><td style=\"text-align: right;\"> -0.0172736  </td><td style=\"text-align: right;\">  0.083834 </td><td style=\"text-align: right;\">  0.0401854</td><td style=\"text-align: right;\">  0.0945469</td><td style=\"text-align: right;\">  0.199126</td><td style=\"text-align: right;\">  0.183014 </td><td style=\"text-align: right;\"> -0.0935558</td><td style=\"text-align: right;\"> -0.0988493</td><td style=\"text-align: right;\">  0.161484 </td><td style=\"text-align: right;\">  0.104377 </td><td style=\"text-align: right;\"> -0.0536133</td><td style=\"text-align: right;\">  0.0661385</td><td style=\"text-align: right;\">  0.176506 </td><td style=\"text-align: right;\"> -0.195726</td><td style=\"text-align: right;\"> -0.115953  </td><td style=\"text-align: right;\"> -0.0606935</td><td style=\"text-align: right;\">  0.00209817</td><td style=\"text-align: right;\"> -0.00451444</td><td style=\"text-align: right;\"> -0.0581415</td><td style=\"text-align: right;\">  0.15974 </td><td style=\"text-align: right;\">  0.0570739 </td><td style=\"text-align: right;\">  0.0918666</td><td style=\"text-align: right;\">  0.00737273</td><td style=\"text-align: right;\">  0.116897 </td><td style=\"text-align: right;\">  0.0158303</td><td style=\"text-align: right;\">  0.0256421</td><td style=\"text-align: right;\">  0.0272425</td><td style=\"text-align: right;\"> -0.0578619</td><td style=\"text-align: right;\"> -0.0503296</td><td style=\"text-align: right;\"> -0.0645496 </td><td style=\"text-align: right;\">  0.178088 </td><td style=\"text-align: right;\">  0.00823895 </td><td style=\"text-align: right;\"> -0.0483032 </td><td style=\"text-align: right;\">  0.162199 </td><td style=\"text-align: right;\"> -0.121719 </td><td style=\"text-align: right;\">  0.0789702 </td><td style=\"text-align: right;\">  0.0212865 </td><td style=\"text-align: right;\"> -0.205631</td><td style=\"text-align: right;\"> -0.074874 </td><td style=\"text-align: right;\">  0.111786  </td><td style=\"text-align: right;\">  0.0312099</td><td style=\"text-align: right;\">  0.0161779</td><td style=\"text-align: right;\"> -0.0508925  </td><td style=\"text-align: right;\">  0.141156 </td><td style=\"text-align: right;\">  0.128612 </td><td style=\"text-align: right;\"> -0.0504715 </td><td style=\"text-align: right;\"> -0.0653969</td><td style=\"text-align: right;\">  0.0283498 </td><td style=\"text-align: right;\"> -0.0291927 </td><td style=\"text-align: right;\"> -0.0732407</td><td style=\"text-align: right;\"> -0.0158395 </td><td style=\"text-align: right;\">  0.0689091</td><td style=\"text-align: right;\"> -0.119943</td><td style=\"text-align: right;\"> -0.0273001 </td><td style=\"text-align: right;\">  0.0599472</td><td style=\"text-align: right;\"> -0.0566629 </td><td style=\"text-align: right;\"> -0.0261191 </td><td style=\"text-align: right;\">  0.0847076</td><td style=\"text-align: right;\">  0.2687  </td><td style=\"text-align: right;\">  0.0732703 </td><td style=\"text-align: right;\">  0.109863  </td><td style=\"text-align: right;\">  0.00485125</td><td style=\"text-align: right;\"> -0.018263  </td><td style=\"text-align: right;\"> -0.0108576 </td><td style=\"text-align: right;\"> -0.0112262</td><td style=\"text-align: right;\">  0.0144916 </td><td style=\"text-align: right;\"> -0.183557</td><td style=\"text-align: right;\"> -0.147307 </td><td style=\"text-align: right;\"> -0.0433157</td><td style=\"text-align: right;\">  0.0190784 </td><td style=\"text-align: right;\"> -0.0231988 </td><td style=\"text-align: right;\">  0.0730993 </td><td style=\"text-align: right;\">  0.0785039 </td><td style=\"text-align: right;\">  0.0831194</td><td style=\"text-align: right;\">  0.0429458</td><td style=\"text-align: right;\">  0.110023 </td><td style=\"text-align: right;\"> -0.0372077</td><td style=\"text-align: right;\">  0.00300241</td><td style=\"text-align: right;\"> -0.112216  </td><td style=\"text-align: right;\">  0.181599 </td><td style=\"text-align: right;\"> -0.129231   </td><td style=\"text-align: right;\"> -0.0926863</td><td style=\"text-align: right;\">  0.00201212</td><td style=\"text-align: right;\">  0.0133351</td><td style=\"text-align: right;\"> -0.0233784 </td><td style=\"text-align: right;\">  0.0309523  </td><td style=\"text-align: right;\"> -0.106158  </td><td style=\"text-align: right;\">  0.0159836  </td></tr>\n",
       "<tr><td style=\"text-align: right;\">  0.0247243 </td><td style=\"text-align: right;\"> -0.0578736 </td><td style=\"text-align: right;\"> -0.0426735</td><td style=\"text-align: right;\"> -0.410843</td><td style=\"text-align: right;\"> -0.0262631 </td><td style=\"text-align: right;\">  0.384407</td><td style=\"text-align: right;\">  0.123153  </td><td style=\"text-align: right;\">  0.170038 </td><td style=\"text-align: right;\"> -0.103144 </td><td style=\"text-align: right;\">  0.0921658</td><td style=\"text-align: right;\">  0.00415447</td><td style=\"text-align: right;\">  0.052922  </td><td style=\"text-align: right;\">  0.072367   </td><td style=\"text-align: right;\">  0.0747767</td><td style=\"text-align: right;\">  0.139958 </td><td style=\"text-align: right;\">  0.0248478</td><td style=\"text-align: right;\">  0.187175</td><td style=\"text-align: right;\">  0.148254 </td><td style=\"text-align: right;\"> -0.110354 </td><td style=\"text-align: right;\"> -0.0551183</td><td style=\"text-align: right;\">  0.199721 </td><td style=\"text-align: right;\">  0.0377659</td><td style=\"text-align: right;\"> -0.125542 </td><td style=\"text-align: right;\"> -0.0546337</td><td style=\"text-align: right;\">  0.0741525</td><td style=\"text-align: right;\"> -0.230732</td><td style=\"text-align: right;\"> -0.0754864 </td><td style=\"text-align: right;\"> -0.0477671</td><td style=\"text-align: right;\">  0.00274972</td><td style=\"text-align: right;\">  0.0455485 </td><td style=\"text-align: right;\"> -0.0837455</td><td style=\"text-align: right;\">  0.138376</td><td style=\"text-align: right;\">  0.10745   </td><td style=\"text-align: right;\">  0.0542528</td><td style=\"text-align: right;\">  0.00191251</td><td style=\"text-align: right;\">  0.0679155</td><td style=\"text-align: right;\">  0.0667175</td><td style=\"text-align: right;\"> -0.0951127</td><td style=\"text-align: right;\">  0.0808692</td><td style=\"text-align: right;\"> -0.0295075</td><td style=\"text-align: right;\"> -0.0987599</td><td style=\"text-align: right;\"> -0.0976328 </td><td style=\"text-align: right;\">  0.127262 </td><td style=\"text-align: right;\">  0.0804312  </td><td style=\"text-align: right;\"> -0.0321585 </td><td style=\"text-align: right;\">  0.107232 </td><td style=\"text-align: right;\"> -0.0835255</td><td style=\"text-align: right;\">  0.00858104</td><td style=\"text-align: right;\">  0.00359292</td><td style=\"text-align: right;\"> -0.100413</td><td style=\"text-align: right;\"> -0.0843798</td><td style=\"text-align: right;\">  0.168874  </td><td style=\"text-align: right;\"> -0.0129485</td><td style=\"text-align: right;\"> -0.0532847</td><td style=\"text-align: right;\"> -0.0606571  </td><td style=\"text-align: right;\">  0.111346 </td><td style=\"text-align: right;\">  0.106055 </td><td style=\"text-align: right;\">  0.00493084</td><td style=\"text-align: right;\"> -0.0203269</td><td style=\"text-align: right;\">  0.060781  </td><td style=\"text-align: right;\">  0.0564914 </td><td style=\"text-align: right;\">  0.024914 </td><td style=\"text-align: right;\"> -0.00223229</td><td style=\"text-align: right;\">  0.0888238</td><td style=\"text-align: right;\"> -0.15085 </td><td style=\"text-align: right;\"> -0.116854  </td><td style=\"text-align: right;\">  0.211936 </td><td style=\"text-align: right;\">  0.0462486 </td><td style=\"text-align: right;\"> -0.038888  </td><td style=\"text-align: right;\"> -0.0136212</td><td style=\"text-align: right;\">  0.187385</td><td style=\"text-align: right;\">  0.0024902 </td><td style=\"text-align: right;\"> -0.00700419</td><td style=\"text-align: right;\">  0.0688533 </td><td style=\"text-align: right;\">  0.00523767</td><td style=\"text-align: right;\">  0.0979821 </td><td style=\"text-align: right;\"> -0.0154236</td><td style=\"text-align: right;\"> -0.0577246 </td><td style=\"text-align: right;\"> -0.174814</td><td style=\"text-align: right;\"> -0.0722399</td><td style=\"text-align: right;\"> -0.0780144</td><td style=\"text-align: right;\">  0.0897832 </td><td style=\"text-align: right;\">  0.0292422 </td><td style=\"text-align: right;\">  0.0877255 </td><td style=\"text-align: right;\">  0.126512  </td><td style=\"text-align: right;\">  0.0875119</td><td style=\"text-align: right;\"> -0.0589486</td><td style=\"text-align: right;\">  0.0995604</td><td style=\"text-align: right;\">  0.0440949</td><td style=\"text-align: right;\"> -0.0719065 </td><td style=\"text-align: right;\"> -0.054407  </td><td style=\"text-align: right;\">  0.231223 </td><td style=\"text-align: right;\"> -0.118467   </td><td style=\"text-align: right;\"> -0.0263569</td><td style=\"text-align: right;\"> -0.074362  </td><td style=\"text-align: right;\"> -0.0113307</td><td style=\"text-align: right;\"> -0.0610057 </td><td style=\"text-align: right;\">  0.0844349  </td><td style=\"text-align: right;\"> -0.06371   </td><td style=\"text-align: right;\">  0.0193042  </td></tr>\n",
       "<tr><td style=\"text-align: right;\">nan         </td><td style=\"text-align: right;\">nan         </td><td style=\"text-align: right;\">nan        </td><td style=\"text-align: right;\">nan       </td><td style=\"text-align: right;\">nan         </td><td style=\"text-align: right;\">nan       </td><td style=\"text-align: right;\">nan         </td><td style=\"text-align: right;\">nan        </td><td style=\"text-align: right;\">nan        </td><td style=\"text-align: right;\">nan        </td><td style=\"text-align: right;\">nan         </td><td style=\"text-align: right;\">nan         </td><td style=\"text-align: right;\">nan          </td><td style=\"text-align: right;\">nan        </td><td style=\"text-align: right;\">nan        </td><td style=\"text-align: right;\">nan        </td><td style=\"text-align: right;\">nan       </td><td style=\"text-align: right;\">nan        </td><td style=\"text-align: right;\">nan        </td><td style=\"text-align: right;\">nan        </td><td style=\"text-align: right;\">nan        </td><td style=\"text-align: right;\">nan        </td><td style=\"text-align: right;\">nan        </td><td style=\"text-align: right;\">nan        </td><td style=\"text-align: right;\">nan        </td><td style=\"text-align: right;\">nan       </td><td style=\"text-align: right;\">nan         </td><td style=\"text-align: right;\">nan        </td><td style=\"text-align: right;\">nan         </td><td style=\"text-align: right;\">nan         </td><td style=\"text-align: right;\">nan        </td><td style=\"text-align: right;\">nan       </td><td style=\"text-align: right;\">nan         </td><td style=\"text-align: right;\">nan        </td><td style=\"text-align: right;\">nan         </td><td style=\"text-align: right;\">nan        </td><td style=\"text-align: right;\">nan        </td><td style=\"text-align: right;\">nan        </td><td style=\"text-align: right;\">nan        </td><td style=\"text-align: right;\">nan        </td><td style=\"text-align: right;\">nan        </td><td style=\"text-align: right;\">nan         </td><td style=\"text-align: right;\">nan        </td><td style=\"text-align: right;\">nan          </td><td style=\"text-align: right;\">nan         </td><td style=\"text-align: right;\">nan        </td><td style=\"text-align: right;\">nan        </td><td style=\"text-align: right;\">nan         </td><td style=\"text-align: right;\">nan         </td><td style=\"text-align: right;\">nan       </td><td style=\"text-align: right;\">nan        </td><td style=\"text-align: right;\">nan         </td><td style=\"text-align: right;\">nan        </td><td style=\"text-align: right;\">nan        </td><td style=\"text-align: right;\">nan          </td><td style=\"text-align: right;\">nan        </td><td style=\"text-align: right;\">nan        </td><td style=\"text-align: right;\">nan         </td><td style=\"text-align: right;\">nan        </td><td style=\"text-align: right;\">nan         </td><td style=\"text-align: right;\">nan         </td><td style=\"text-align: right;\">nan        </td><td style=\"text-align: right;\">nan         </td><td style=\"text-align: right;\">nan        </td><td style=\"text-align: right;\">nan       </td><td style=\"text-align: right;\">nan         </td><td style=\"text-align: right;\">nan        </td><td style=\"text-align: right;\">nan         </td><td style=\"text-align: right;\">nan         </td><td style=\"text-align: right;\">nan        </td><td style=\"text-align: right;\">nan       </td><td style=\"text-align: right;\">nan         </td><td style=\"text-align: right;\">nan         </td><td style=\"text-align: right;\">nan         </td><td style=\"text-align: right;\">nan         </td><td style=\"text-align: right;\">nan         </td><td style=\"text-align: right;\">nan        </td><td style=\"text-align: right;\">nan         </td><td style=\"text-align: right;\">nan       </td><td style=\"text-align: right;\">nan        </td><td style=\"text-align: right;\">nan        </td><td style=\"text-align: right;\">nan         </td><td style=\"text-align: right;\">nan         </td><td style=\"text-align: right;\">nan         </td><td style=\"text-align: right;\">nan         </td><td style=\"text-align: right;\">nan        </td><td style=\"text-align: right;\">nan        </td><td style=\"text-align: right;\">nan        </td><td style=\"text-align: right;\">nan        </td><td style=\"text-align: right;\">nan         </td><td style=\"text-align: right;\">nan         </td><td style=\"text-align: right;\">nan        </td><td style=\"text-align: right;\">nan          </td><td style=\"text-align: right;\">nan        </td><td style=\"text-align: right;\">nan         </td><td style=\"text-align: right;\">nan        </td><td style=\"text-align: right;\">nan         </td><td style=\"text-align: right;\">nan          </td><td style=\"text-align: right;\">nan         </td><td style=\"text-align: right;\">nan          </td></tr>\n",
       "</tbody>\n",
       "</table>"
      ]
     },
     "metadata": {},
     "output_type": "display_data"
    },
    {
     "data": {
      "text/plain": []
     },
     "execution_count": 31,
     "metadata": {},
     "output_type": "execute_result"
    }
   ],
   "source": [
    "desc_vecs = w2v_model.transform(words, aggregate_method=\"AVERAGE\")\n",
    "desc_vecs.head()"
   ]
  },
  {
   "cell_type": "markdown",
   "metadata": {},
   "source": [
    "Finally, we add the aggregated word embeddings from the Word2Vec model to the loans data"
   ]
  },
  {
   "cell_type": "code",
   "execution_count": 32,
   "metadata": {},
   "outputs": [],
   "source": [
    "loans = loans.cbind(desc_vecs)"
   ]
  },
  {
   "cell_type": "markdown",
   "metadata": {},
   "source": [
    "# Step 5 (of 10). Model training\n",
    "\n",
    "Now that we have cleaned our data and added new columns, we train a model to predict bad loans. First split our loans data into train and test."
   ]
  },
  {
   "cell_type": "code",
   "execution_count": 33,
   "metadata": {},
   "outputs": [],
   "source": [
    "train, test = loans.split_frame(seed=25, ratios=[0.75])"
   ]
  },
  {
   "cell_type": "markdown",
   "metadata": {},
   "source": [
    "Next create a list of predictors as a subset of the columns of the `loans` H2O Frame"
   ]
  },
  {
   "cell_type": "code",
   "execution_count": 34,
   "metadata": {},
   "outputs": [],
   "source": [
    "cols_to_remove = [\"initial_list_status\",\n",
    "                  \"out_prncp\",\n",
    "                  \"out_prncp_inv\",\n",
    "                  \"total_pymnt\",\n",
    "                  \"total_pymnt_inv\",\n",
    "                  \"total_rec_prncp\", \n",
    "                  \"total_rec_int\",\n",
    "                  \"total_rec_late_fee\",\n",
    "                  \"recoveries\",\n",
    "                  \"collection_recovery_fee\",\n",
    "                  \"last_pymnt_d\", \n",
    "                  \"last_pymnt_amnt\",\n",
    "                  \"next_pymnt_d\",\n",
    "                  \"last_credit_pull_d\",\n",
    "                  \"collections_12_mths_ex_med\" , \n",
    "                  \"mths_since_last_major_derog\",\n",
    "                  \"policy_code\",\n",
    "                  \"loan_status\",\n",
    "                  \"funded_amnt\",\n",
    "                  \"funded_amnt_inv\",\n",
    "                  \"mths_since_last_delinq\",\n",
    "                  \"mths_since_last_record\",\n",
    "                  \"id\",\n",
    "                  \"member_id\",\n",
    "                  \"desc\",\n",
    "                  \"zip_code\"]\n",
    "\n",
    "predictors = list(set(loans.col_names) - set(cols_to_remove))"
   ]
  },
  {
   "cell_type": "code",
   "execution_count": 35,
   "metadata": {},
   "outputs": [
    {
     "data": {
      "text/plain": [
       "['C19',\n",
       " 'C31',\n",
       " 'C15',\n",
       " 'C46',\n",
       " 'total_acc',\n",
       " 'purpose',\n",
       " 'C88',\n",
       " 'C65',\n",
       " 'C8',\n",
       " 'C32',\n",
       " 'C59',\n",
       " 'C10',\n",
       " 'C71',\n",
       " 'C60',\n",
       " 'pub_rec',\n",
       " 'C28',\n",
       " 'term',\n",
       " 'C35',\n",
       " 'revol_bal',\n",
       " 'C36',\n",
       " 'C24',\n",
       " 'emp_title',\n",
       " 'C80',\n",
       " 'C57',\n",
       " 'C97',\n",
       " 'C99',\n",
       " 'C79',\n",
       " 'title',\n",
       " 'C96',\n",
       " 'C18',\n",
       " 'C34',\n",
       " 'C92',\n",
       " 'open_acc',\n",
       " 'C86',\n",
       " 'C27',\n",
       " 'C63',\n",
       " 'installment',\n",
       " 'C13',\n",
       " 'C26',\n",
       " 'C41',\n",
       " 'issue_d',\n",
       " 'inq_last_6mths',\n",
       " 'C82',\n",
       " 'C37',\n",
       " 'C51',\n",
       " 'C100',\n",
       " 'C90',\n",
       " 'C39',\n",
       " 'verification_status',\n",
       " 'C53',\n",
       " 'C21',\n",
       " 'emp_length',\n",
       " 'C6',\n",
       " 'C66',\n",
       " 'C5',\n",
       " 'C62',\n",
       " 'C42',\n",
       " 'C45',\n",
       " 'dti',\n",
       " 'C56',\n",
       " 'C87',\n",
       " 'C73',\n",
       " 'C68',\n",
       " 'C85',\n",
       " 'pymnt_plan',\n",
       " 'revol_util',\n",
       " 'C38',\n",
       " 'issue_d_month',\n",
       " 'C3',\n",
       " 'loan_amnt',\n",
       " 'C75',\n",
       " 'C72',\n",
       " 'C55',\n",
       " 'C49',\n",
       " 'C91',\n",
       " 'C17',\n",
       " 'C22',\n",
       " 'C29',\n",
       " 'C93',\n",
       " 'C12',\n",
       " 'C4',\n",
       " 'C81',\n",
       " 'sub_grade',\n",
       " 'credit_length',\n",
       " 'C61',\n",
       " 'C47',\n",
       " 'C98',\n",
       " 'C23',\n",
       " 'C64',\n",
       " 'C9',\n",
       " 'url',\n",
       " 'C70',\n",
       " 'C1',\n",
       " 'delinq_2yrs',\n",
       " 'C16',\n",
       " 'addr_state',\n",
       " 'C40',\n",
       " 'C14',\n",
       " 'C67',\n",
       " 'C54',\n",
       " 'bad_loan',\n",
       " 'C52',\n",
       " 'grade',\n",
       " 'C25',\n",
       " 'int_rate',\n",
       " 'earliest_cr_line',\n",
       " 'C84',\n",
       " 'C33',\n",
       " 'issue_d_year',\n",
       " 'C74',\n",
       " 'C2',\n",
       " 'C95',\n",
       " 'annual_inc',\n",
       " 'C78',\n",
       " 'C76',\n",
       " 'C43',\n",
       " 'C69',\n",
       " 'C7',\n",
       " 'C11',\n",
       " 'C89',\n",
       " 'C77',\n",
       " 'C83',\n",
       " 'home_ownership',\n",
       " 'C30',\n",
       " 'C50',\n",
       " 'C20',\n",
       " 'C44',\n",
       " 'C58',\n",
       " 'C94',\n",
       " 'C48']"
      ]
     },
     "execution_count": 35,
     "metadata": {},
     "output_type": "execute_result"
    }
   ],
   "source": [
    "predictors"
   ]
  },
  {
   "cell_type": "markdown",
   "metadata": {},
   "source": [
    "Now create an XGBoost model for predicting loan default. This model is being run with almost all of the model-tuning values at their defaults. Later we may want to optimize the hyperparameters using a grid search. "
   ]
  },
  {
   "cell_type": "code",
   "execution_count": 36,
   "metadata": {},
   "outputs": [
    {
     "name": "stdout",
     "output_type": "stream",
     "text": [
      "xgboost Model Build progress: |███████████████████████████████████████████| 100%\n"
     ]
    }
   ],
   "source": [
    "from h2o.estimators import H2OXGBoostEstimator\n",
    "\n",
    "param = {\n",
    "      \"ntrees\" : 20\n",
    "    , \"nfolds\" : 5\n",
    "    , \"seed\": 25\n",
    "}\n",
    "xgboost_model = H2OXGBoostEstimator(**param)\n",
    "xgboost_model.train(x = predictors,\n",
    "                    y = \"bad_loan\",\n",
    "                    training_frame=train,\n",
    "                    validation_frame=test)"
   ]
  },
  {
   "cell_type": "markdown",
   "metadata": {},
   "source": [
    "# Step 6 (of 10).  Examine model accuracy\n",
    "\n",
    "The plot below shows the performance of the model as more trees are built.  This graph can help us see at what point our model begins overfitting.  Our test data error rate stops improving at around 8-10 trees."
   ]
  },
  {
   "cell_type": "code",
   "execution_count": 37,
   "metadata": {},
   "outputs": [
    {
     "data": {
      "image/png": "[encoded data removed]",
      "text/plain": [
       "<Figure size 432x288 with 1 Axes>"
      ]
     },
     "metadata": {
      "needs_background": "light"
     },
     "output_type": "display_data"
    }
   ],
   "source": [
    "%matplotlib inline\n",
    "xgboost_model.plot()"
   ]
  },
  {
   "cell_type": "markdown",
   "metadata": {},
   "source": [
    "The ROC curve of the training and testing data are shown below.  The area under the ROC curve is much higher for the training data than the test data, indicating that the model is beginning to memorize the training data."
   ]
  },
  {
   "cell_type": "code",
   "execution_count": 38,
   "metadata": {},
   "outputs": [
    {
     "name": "stdout",
     "output_type": "stream",
     "text": [
      "Training Data\n"
     ]
    },
    {
     "data": {
      "image/png": "[encoded data removed]",
      "text/plain": [
       "<Figure size 432x288 with 1 Axes>"
      ]
     },
     "metadata": {
      "needs_background": "light"
     },
     "output_type": "display_data"
    },
    {
     "name": "stdout",
     "output_type": "stream",
     "text": [
      "Testing Data\n"
     ]
    },
    {
     "data": {
      "image/png": "[encoded data removed]",
      "text/plain": [
       "<Figure size 432x288 with 1 Axes>"
      ]
     },
     "metadata": {
      "needs_background": "light"
     },
     "output_type": "display_data"
    },
    {
     "name": "stdout",
     "output_type": "stream",
     "text": [
      "X-Val\n"
     ]
    },
    {
     "data": {
      "image/png": "[encoded data removed]",
      "text/plain": [
       "<Figure size 432x288 with 1 Axes>"
      ]
     },
     "metadata": {
      "needs_background": "light"
     },
     "output_type": "display_data"
    }
   ],
   "source": [
    "print(\"Training Data\")\n",
    "xgboost_model.model_performance(train = True).plot()\n",
    "print(\"Testing Data\")\n",
    "xgboost_model.model_performance(valid = True).plot()\n",
    "print(\"X-Val\")\n",
    "xgboost_model.model_performance(xval=True).plot()"
   ]
  },
  {
   "cell_type": "markdown",
   "metadata": {},
   "source": [
    "# Step 7 (of 10). Interpret model"
   ]
  },
  {
   "cell_type": "markdown",
   "metadata": {},
   "source": [
    "The variable importance plot shows us which variables are most important to predicting `bad_loan`.  We can use partial dependency plots to learn more about how these variables affect the prediction."
   ]
  },
  {
   "cell_type": "code",
   "execution_count": 39,
   "metadata": {},
   "outputs": [
    {
     "data": {
      "image/png": "[encoded data removed]",
      "text/plain": [
       "<Figure size 1008x720 with 1 Axes>"
      ]
     },
     "metadata": {
      "needs_background": "light"
     },
     "output_type": "display_data"
    }
   ],
   "source": [
    "xgboost_model.varimp_plot(20)"
   ]
  },
  {
   "cell_type": "markdown",
   "metadata": {},
   "source": [
    "As suspected, interest rate appears to be the most important feature in predicting loan default. The partial dependency plot of the `int_rate` predictor shows us that as the interest rate increases, the likelihood of the loan defaulting also increases."
   ]
  },
  {
   "cell_type": "code",
   "execution_count": 40,
   "metadata": {
    "scrolled": false
   },
   "outputs": [
    {
     "name": "stdout",
     "output_type": "stream",
     "text": [
      "PartialDependencePlot progress: |█████████████████████████████████████████| 100%\n"
     ]
    },
    {
     "data": {
      "image/png": "[encoded data removed]",
      "text/plain": [
       "<Figure size 504x720 with 1 Axes>"
      ]
     },
     "metadata": {
      "needs_background": "light"
     },
     "output_type": "display_data"
    }
   ],
   "source": [
    "pdp = xgboost_model.partial_plot(cols=[\"int_rate\"], data=train)"
   ]
  },
  {
   "cell_type": "markdown",
   "metadata": {},
   "source": [
    "# Step 8 (of 10). Save and reuse model"
   ]
  },
  {
   "cell_type": "markdown",
   "metadata": {},
   "source": [
    "The model can either be embedded into a self-contained Java MOJO package\n",
    "or it can be saved and later loaded directly into an H2O-3 cluster. For production\n",
    "use, we recommend using MOJO as it is optimized for speed. See the [guide](http://docs.h2o.ai/h2o/latest-stable/h2o-docs/productionizing.html) for further information."
   ]
  },
  {
   "cell_type": "markdown",
   "metadata": {},
   "source": [
    "### Downloading MOJO"
   ]
  },
  {
   "cell_type": "code",
   "execution_count": 41,
   "metadata": {},
   "outputs": [
    {
     "data": {
      "text/plain": [
       "'/home/h2o/h2o-3_hands_on/lending_club_loan_default/XGBoost_model_python_1566132367943_1.zip'"
      ]
     },
     "execution_count": 41,
     "metadata": {},
     "output_type": "execute_result"
    }
   ],
   "source": [
    "xgboost_model.download_mojo()"
   ]
  },
  {
   "cell_type": "markdown",
   "metadata": {},
   "source": [
    "### Save and reuse the model "
   ]
  },
  {
   "cell_type": "markdown",
   "metadata": {},
   "source": [
    "We can save the model to disk for later use."
   ]
  },
  {
   "cell_type": "code",
   "execution_count": 42,
   "metadata": {},
   "outputs": [
    {
     "name": "stdout",
     "output_type": "stream",
     "text": [
      "/home/h2o/h2o-3_hands_on/lending_club_loan_default/XGBoost_model_python_1566132367943_1\n"
     ]
    }
   ],
   "source": [
    "model_path = h2o.save_model(model=xgboost_model, force=True)\n",
    "print(model_path)"
   ]
  },
  {
   "cell_type": "markdown",
   "metadata": {},
   "source": [
    "After the H2O cluster shuts down, all unsaved data and models are lost. At some future date, we can load the model for batch scoring in the H2O cluster."
   ]
  },
  {
   "cell_type": "code",
   "execution_count": 43,
   "metadata": {},
   "outputs": [],
   "source": [
    "loaded_model = h2o.load_model(path=model_path)"
   ]
  },
  {
   "cell_type": "markdown",
   "metadata": {},
   "source": [
    "Using that model, we can also score new data with the predict function:"
   ]
  },
  {
   "cell_type": "code",
   "execution_count": 44,
   "metadata": {
    "scrolled": true
   },
   "outputs": [
    {
     "name": "stdout",
     "output_type": "stream",
     "text": [
      "xgboost prediction progress: |████████████████████████████████████████████| 100%\n"
     ]
    },
    {
     "data": {
      "text/html": [
       "<table>\n",
       "<thead>\n",
       "<tr><th style=\"text-align: right;\">  predict</th><th style=\"text-align: right;\">      p0</th><th style=\"text-align: right;\">       p1</th></tr>\n",
       "</thead>\n",
       "<tbody>\n",
       "<tr><td style=\"text-align: right;\">        1</td><td style=\"text-align: right;\">0.75464 </td><td style=\"text-align: right;\">0.24536  </td></tr>\n",
       "<tr><td style=\"text-align: right;\">        0</td><td style=\"text-align: right;\">0.989808</td><td style=\"text-align: right;\">0.0101922</td></tr>\n",
       "<tr><td style=\"text-align: right;\">        0</td><td style=\"text-align: right;\">0.826332</td><td style=\"text-align: right;\">0.173668 </td></tr>\n",
       "<tr><td style=\"text-align: right;\">        0</td><td style=\"text-align: right;\">0.902392</td><td style=\"text-align: right;\">0.0976081</td></tr>\n",
       "<tr><td style=\"text-align: right;\">        0</td><td style=\"text-align: right;\">0.846712</td><td style=\"text-align: right;\">0.153288 </td></tr>\n",
       "<tr><td style=\"text-align: right;\">        0</td><td style=\"text-align: right;\">0.914848</td><td style=\"text-align: right;\">0.0851518</td></tr>\n",
       "<tr><td style=\"text-align: right;\">        0</td><td style=\"text-align: right;\">0.900067</td><td style=\"text-align: right;\">0.0999334</td></tr>\n",
       "<tr><td style=\"text-align: right;\">        0</td><td style=\"text-align: right;\">0.899171</td><td style=\"text-align: right;\">0.100829 </td></tr>\n",
       "<tr><td style=\"text-align: right;\">        0</td><td style=\"text-align: right;\">0.966692</td><td style=\"text-align: right;\">0.033308 </td></tr>\n",
       "<tr><td style=\"text-align: right;\">        1</td><td style=\"text-align: right;\">0.761619</td><td style=\"text-align: right;\">0.238381 </td></tr>\n",
       "<tr><td style=\"text-align: right;\">        0</td><td style=\"text-align: right;\">0.878795</td><td style=\"text-align: right;\">0.121205 </td></tr>\n",
       "<tr><td style=\"text-align: right;\">        0</td><td style=\"text-align: right;\">0.896821</td><td style=\"text-align: right;\">0.103179 </td></tr>\n",
       "<tr><td style=\"text-align: right;\">        1</td><td style=\"text-align: right;\">0.680937</td><td style=\"text-align: right;\">0.319063 </td></tr>\n",
       "<tr><td style=\"text-align: right;\">        0</td><td style=\"text-align: right;\">0.854509</td><td style=\"text-align: right;\">0.145491 </td></tr>\n",
       "<tr><td style=\"text-align: right;\">        0</td><td style=\"text-align: right;\">0.955452</td><td style=\"text-align: right;\">0.0445478</td></tr>\n",
       "</tbody>\n",
       "</table>"
      ]
     },
     "metadata": {},
     "output_type": "display_data"
    },
    {
     "data": {
      "text/plain": []
     },
     "execution_count": 44,
     "metadata": {},
     "output_type": "execute_result"
    }
   ],
   "source": [
    "bad_loan_hat = loaded_model.predict(test)\n",
    "bad_loan_hat.head(15)"
   ]
  },
  {
   "cell_type": "markdown",
   "metadata": {},
   "source": [
    "# Step 9 (of 10). AutoML (optional)\n",
    "\n",
    "AutoML can be used for automating the machine learning workflow, which includes automatic training and tuning of many models within a user-specified time-limit or user specified model build limit. \n",
    "\n",
    "Stacked Ensembles will be automatically trained on collections of individual models to produce highly predictive ensemble models."
   ]
  },
  {
   "cell_type": "code",
   "execution_count": 45,
   "metadata": {},
   "outputs": [
    {
     "name": "stdout",
     "output_type": "stream",
     "text": [
      "AutoML progress: |████████████████████████████████████████████████████████| 100%\n"
     ]
    }
   ],
   "source": [
    "from h2o.automl import H2OAutoML\n",
    "\n",
    "aml = H2OAutoML(max_models=5, \n",
    "                max_runtime_secs_per_model=60, \n",
    "                include_algos = [\"GLM\", \"DRF\", \"XGBoost\", \"StackedEnsemble\"],\n",
    "                seed=25)\n",
    "aml.train(x=predictors, y='bad_loan', training_frame=train)"
   ]
  },
  {
   "cell_type": "markdown",
   "metadata": {},
   "source": [
    "_While the AutoML job is running, you can open H2O Flow and monitor the model building process._\n",
    "\n",
    "Once complete, the leaderboard contains the performance metrics of the models generated by AutoML:"
   ]
  },
  {
   "cell_type": "code",
   "execution_count": 46,
   "metadata": {
    "scrolled": false
   },
   "outputs": [
    {
     "data": {
      "text/html": [
       "<table>\n",
       "<thead>\n",
       "<tr><th>model_id                                           </th><th style=\"text-align: right;\">     auc</th><th style=\"text-align: right;\">  logloss</th><th style=\"text-align: right;\">  mean_per_class_error</th><th style=\"text-align: right;\">    rmse</th><th style=\"text-align: right;\">     mse</th></tr>\n",
       "</thead>\n",
       "<tbody>\n",
       "<tr><td>StackedEnsemble_AllModels_AutoML_20190818_133635   </td><td style=\"text-align: right;\">0.738901</td><td style=\"text-align: right;\"> 0.39401 </td><td style=\"text-align: right;\">              0.338917</td><td style=\"text-align: right;\">0.34838 </td><td style=\"text-align: right;\">0.121368</td></tr>\n",
       "<tr><td>StackedEnsemble_BestOfFamily_AutoML_20190818_133635</td><td style=\"text-align: right;\">0.738789</td><td style=\"text-align: right;\"> 0.394833</td><td style=\"text-align: right;\">              0.327182</td><td style=\"text-align: right;\">0.348778</td><td style=\"text-align: right;\">0.121646</td></tr>\n",
       "<tr><td>GLM_grid_1_AutoML_20190818_133635_model_1          </td><td style=\"text-align: right;\">0.73245 </td><td style=\"text-align: right;\"> 0.394447</td><td style=\"text-align: right;\">              0.335082</td><td style=\"text-align: right;\">0.348691</td><td style=\"text-align: right;\">0.121585</td></tr>\n",
       "<tr><td>XGBoost_1_AutoML_20190818_133635                   </td><td style=\"text-align: right;\">0.726302</td><td style=\"text-align: right;\"> 0.418351</td><td style=\"text-align: right;\">              0.339458</td><td style=\"text-align: right;\">0.357136</td><td style=\"text-align: right;\">0.127546</td></tr>\n",
       "<tr><td>XGBoost_2_AutoML_20190818_133635                   </td><td style=\"text-align: right;\">0.72481 </td><td style=\"text-align: right;\"> 0.437172</td><td style=\"text-align: right;\">              0.344106</td><td style=\"text-align: right;\">0.365249</td><td style=\"text-align: right;\">0.133407</td></tr>\n",
       "<tr><td>XGBoost_3_AutoML_20190818_133635                   </td><td style=\"text-align: right;\">0.723817</td><td style=\"text-align: right;\"> 0.440145</td><td style=\"text-align: right;\">              0.3429  </td><td style=\"text-align: right;\">0.36628 </td><td style=\"text-align: right;\">0.134161</td></tr>\n",
       "<tr><td>DRF_1_AutoML_20190818_133635                       </td><td style=\"text-align: right;\">0.709294</td><td style=\"text-align: right;\"> 0.40444 </td><td style=\"text-align: right;\">              0.3543  </td><td style=\"text-align: right;\">0.353395</td><td style=\"text-align: right;\">0.124888</td></tr>\n",
       "</tbody>\n",
       "</table>"
      ]
     },
     "metadata": {},
     "output_type": "display_data"
    },
    {
     "data": {
      "text/plain": []
     },
     "execution_count": 46,
     "metadata": {},
     "output_type": "execute_result"
    }
   ],
   "source": [
    "aml.leaderboard"
   ]
  },
  {
   "cell_type": "markdown",
   "metadata": {},
   "source": [
    "Since we provided only the training H2O Frame during training, the models are sorted by their cross-validated performance metrics (AUC by default for classification). We can evaluate the best model (`leader`) on the test data:"
   ]
  },
  {
   "cell_type": "code",
   "execution_count": 47,
   "metadata": {},
   "outputs": [
    {
     "data": {
      "image/png": "[encoded data removed]",
      "text/plain": [
       "<Figure size 432x288 with 1 Axes>"
      ]
     },
     "metadata": {
      "needs_background": "light"
     },
     "output_type": "display_data"
    },
    {
     "name": "stdout",
     "output_type": "stream",
     "text": [
      "\n",
      "ModelMetricsBinomialGLM: stackedensemble\n",
      "** Reported on test data. **\n",
      "\n",
      "MSE: 0.11897922063211568\n",
      "RMSE: 0.3449336467092123\n",
      "LogLoss: 0.3892715478665768\n",
      "Null degrees of freedom: 9681\n",
      "Residual degrees of freedom: 9676\n",
      "Null deviance: 8292.432037983566\n",
      "Residual deviance: 7537.854252888394\n",
      "AIC: 7549.854252888394\n",
      "AUC: 0.7205550343964978\n",
      "pr_auc: 0.3260311912248395\n",
      "Gini: 0.44111006879299564\n",
      "Confusion Matrix (Act/Pred) for max f1 @ threshold = 0.1808027946344888: \n"
     ]
    },
    {
     "data": {
      "text/html": [
       "<div style=\"overflow:auto\"><table style=\"width:50%\"><tr><td><b></b></td>\n",
       "<td><b>0</b></td>\n",
       "<td><b>1</b></td>\n",
       "<td><b>Error</b></td>\n",
       "<td><b>Rate</b></td></tr>\n",
       "<tr><td>0</td>\n",
       "<td>6448.0</td>\n",
       "<td>1752.0</td>\n",
       "<td>0.2137</td>\n",
       "<td> (1752.0/8200.0)</td></tr>\n",
       "<tr><td>1</td>\n",
       "<td>700.0</td>\n",
       "<td>782.0</td>\n",
       "<td>0.4723</td>\n",
       "<td> (700.0/1482.0)</td></tr>\n",
       "<tr><td>Total</td>\n",
       "<td>7148.0</td>\n",
       "<td>2534.0</td>\n",
       "<td>0.2533</td>\n",
       "<td> (2452.0/9682.0)</td></tr></table></div>"
      ],
      "text/plain": [
       "       0     1     Error    Rate\n",
       "-----  ----  ----  -------  ---------------\n",
       "0      6448  1752  0.2137   (1752.0/8200.0)\n",
       "1      700   782   0.4723   (700.0/1482.0)\n",
       "Total  7148  2534  0.2533   (2452.0/9682.0)"
      ]
     },
     "metadata": {},
     "output_type": "display_data"
    },
    {
     "name": "stdout",
     "output_type": "stream",
     "text": [
      "Maximum Metrics: Maximum metrics at their respective thresholds\n",
      "\n"
     ]
    },
    {
     "data": {
      "text/html": [
       "<div style=\"overflow:auto\"><table style=\"width:50%\"><tr><td><b>metric</b></td>\n",
       "<td><b>threshold</b></td>\n",
       "<td><b>value</b></td>\n",
       "<td><b>idx</b></td></tr>\n",
       "<tr><td>max f1</td>\n",
       "<td>0.1808028</td>\n",
       "<td>0.3894422</td>\n",
       "<td>246.0</td></tr>\n",
       "<tr><td>max f2</td>\n",
       "<td>0.0918494</td>\n",
       "<td>0.5259746</td>\n",
       "<td>341.0</td></tr>\n",
       "<tr><td>max f0point5</td>\n",
       "<td>0.2402386</td>\n",
       "<td>0.3602673</td>\n",
       "<td>201.0</td></tr>\n",
       "<tr><td>max accuracy</td>\n",
       "<td>0.6413748</td>\n",
       "<td>0.8492047</td>\n",
       "<td>28.0</td></tr>\n",
       "<tr><td>max precision</td>\n",
       "<td>0.8169715</td>\n",
       "<td>1.0</td>\n",
       "<td>0.0</td></tr>\n",
       "<tr><td>max recall</td>\n",
       "<td>0.0563941</td>\n",
       "<td>1.0</td>\n",
       "<td>396.0</td></tr>\n",
       "<tr><td>max specificity</td>\n",
       "<td>0.8169715</td>\n",
       "<td>1.0</td>\n",
       "<td>0.0</td></tr>\n",
       "<tr><td>max absolute_mcc</td>\n",
       "<td>0.1808028</td>\n",
       "<td>0.2572021</td>\n",
       "<td>246.0</td></tr>\n",
       "<tr><td>max min_per_class_accuracy</td>\n",
       "<td>0.1384440</td>\n",
       "<td>0.6605938</td>\n",
       "<td>285.0</td></tr>\n",
       "<tr><td>max mean_per_class_accuracy</td>\n",
       "<td>0.1397527</td>\n",
       "<td>0.6625409</td>\n",
       "<td>284.0</td></tr></table></div>"
      ],
      "text/plain": [
       "metric                       threshold    value     idx\n",
       "---------------------------  -----------  --------  -----\n",
       "max f1                       0.180803     0.389442  246\n",
       "max f2                       0.0918494    0.525975  341\n",
       "max f0point5                 0.240239     0.360267  201\n",
       "max accuracy                 0.641375     0.849205  28\n",
       "max precision                0.816972     1         0\n",
       "max recall                   0.0563941    1         396\n",
       "max specificity              0.816972     1         0\n",
       "max absolute_mcc             0.180803     0.257202  246\n",
       "max min_per_class_accuracy   0.138444     0.660594  285\n",
       "max mean_per_class_accuracy  0.139753     0.662541  284"
      ]
     },
     "metadata": {},
     "output_type": "display_data"
    },
    {
     "name": "stdout",
     "output_type": "stream",
     "text": [
      "Gains/Lift Table: Avg response rate: 15.31 %, avg score: 16.02 %\n",
      "\n"
     ]
    },
    {
     "data": {
      "text/html": [
       "<div style=\"overflow:auto\"><table style=\"width:50%\"><tr><td><b></b></td>\n",
       "<td><b>group</b></td>\n",
       "<td><b>cumulative_data_fraction</b></td>\n",
       "<td><b>lower_threshold</b></td>\n",
       "<td><b>lift</b></td>\n",
       "<td><b>cumulative_lift</b></td>\n",
       "<td><b>response_rate</b></td>\n",
       "<td><b>score</b></td>\n",
       "<td><b>cumulative_response_rate</b></td>\n",
       "<td><b>cumulative_score</b></td>\n",
       "<td><b>capture_rate</b></td>\n",
       "<td><b>cumulative_capture_rate</b></td>\n",
       "<td><b>gain</b></td>\n",
       "<td><b>cumulative_gain</b></td></tr>\n",
       "<tr><td></td>\n",
       "<td>1</td>\n",
       "<td>0.0100186</td>\n",
       "<td>0.6152814</td>\n",
       "<td>3.7716655</td>\n",
       "<td>3.7716655</td>\n",
       "<td>0.5773196</td>\n",
       "<td>0.6766864</td>\n",
       "<td>0.5773196</td>\n",
       "<td>0.6766864</td>\n",
       "<td>0.0377868</td>\n",
       "<td>0.0377868</td>\n",
       "<td>277.1665484</td>\n",
       "<td>277.1665484</td></tr>\n",
       "<tr><td></td>\n",
       "<td>2</td>\n",
       "<td>0.0200372</td>\n",
       "<td>0.5606236</td>\n",
       "<td>2.8287491</td>\n",
       "<td>3.3002073</td>\n",
       "<td>0.4329897</td>\n",
       "<td>0.5885795</td>\n",
       "<td>0.5051546</td>\n",
       "<td>0.6326330</td>\n",
       "<td>0.0283401</td>\n",
       "<td>0.0661269</td>\n",
       "<td>182.8749113</td>\n",
       "<td>230.0207299</td></tr>\n",
       "<tr><td></td>\n",
       "<td>3</td>\n",
       "<td>0.0300558</td>\n",
       "<td>0.5061211</td>\n",
       "<td>2.6266956</td>\n",
       "<td>3.0757034</td>\n",
       "<td>0.4020619</td>\n",
       "<td>0.5313407</td>\n",
       "<td>0.4707904</td>\n",
       "<td>0.5988689</td>\n",
       "<td>0.0263158</td>\n",
       "<td>0.0924426</td>\n",
       "<td>162.6695605</td>\n",
       "<td>207.5703401</td></tr>\n",
       "<tr><td></td>\n",
       "<td>4</td>\n",
       "<td>0.0400744</td>\n",
       "<td>0.4750242</td>\n",
       "<td>2.4246421</td>\n",
       "<td>2.9129381</td>\n",
       "<td>0.3711340</td>\n",
       "<td>0.4898711</td>\n",
       "<td>0.4458763</td>\n",
       "<td>0.5716194</td>\n",
       "<td>0.0242915</td>\n",
       "<td>0.1167341</td>\n",
       "<td>142.4642097</td>\n",
       "<td>191.2938075</td></tr>\n",
       "<tr><td></td>\n",
       "<td>5</td>\n",
       "<td>0.0500930</td>\n",
       "<td>0.4397986</td>\n",
       "<td>2.8961003</td>\n",
       "<td>2.9095705</td>\n",
       "<td>0.4432990</td>\n",
       "<td>0.4566899</td>\n",
       "<td>0.4453608</td>\n",
       "<td>0.5486335</td>\n",
       "<td>0.0290148</td>\n",
       "<td>0.1457490</td>\n",
       "<td>189.6100282</td>\n",
       "<td>190.9570516</td></tr>\n",
       "<tr><td></td>\n",
       "<td>6</td>\n",
       "<td>0.1000826</td>\n",
       "<td>0.3295953</td>\n",
       "<td>2.0922001</td>\n",
       "<td>2.5013071</td>\n",
       "<td>0.3202479</td>\n",
       "<td>0.3789187</td>\n",
       "<td>0.3828689</td>\n",
       "<td>0.4638637</td>\n",
       "<td>0.1045884</td>\n",
       "<td>0.2503374</td>\n",
       "<td>109.2200065</td>\n",
       "<td>150.1307050</td></tr>\n",
       "<tr><td></td>\n",
       "<td>7</td>\n",
       "<td>0.1500723</td>\n",
       "<td>0.2635569</td>\n",
       "<td>1.9707175</td>\n",
       "<td>2.3245656</td>\n",
       "<td>0.3016529</td>\n",
       "<td>0.2943464</td>\n",
       "<td>0.3558156</td>\n",
       "<td>0.4073968</td>\n",
       "<td>0.0985155</td>\n",
       "<td>0.3488529</td>\n",
       "<td>97.0717480</td>\n",
       "<td>132.4565583</td></tr>\n",
       "<tr><td></td>\n",
       "<td>8</td>\n",
       "<td>0.2000620</td>\n",
       "<td>0.2181784</td>\n",
       "<td>1.7142542</td>\n",
       "<td>2.1720665</td>\n",
       "<td>0.2623967</td>\n",
       "<td>0.2394790</td>\n",
       "<td>0.3324729</td>\n",
       "<td>0.3654390</td>\n",
       "<td>0.0856950</td>\n",
       "<td>0.4345479</td>\n",
       "<td>71.4254247</td>\n",
       "<td>117.2066519</td></tr>\n",
       "<tr><td></td>\n",
       "<td>9</td>\n",
       "<td>0.3000413</td>\n",
       "<td>0.1641908</td>\n",
       "<td>1.3025633</td>\n",
       "<td>1.8823319</td>\n",
       "<td>0.1993802</td>\n",
       "<td>0.1874337</td>\n",
       "<td>0.2881239</td>\n",
       "<td>0.3061243</td>\n",
       "<td>0.1302294</td>\n",
       "<td>0.5647773</td>\n",
       "<td>30.2563266</td>\n",
       "<td>88.2331872</td></tr>\n",
       "<tr><td></td>\n",
       "<td>10</td>\n",
       "<td>0.4000207</td>\n",
       "<td>0.1338317</td>\n",
       "<td>1.0595981</td>\n",
       "<td>1.6767015</td>\n",
       "<td>0.1621901</td>\n",
       "<td>0.1480284</td>\n",
       "<td>0.2566486</td>\n",
       "<td>0.2666106</td>\n",
       "<td>0.1059379</td>\n",
       "<td>0.6707152</td>\n",
       "<td>5.9598097</td>\n",
       "<td>67.6701536</td></tr>\n",
       "<tr><td></td>\n",
       "<td>11</td>\n",
       "<td>0.5</td>\n",
       "<td>0.1130538</td>\n",
       "<td>0.8098839</td>\n",
       "<td>1.5033738</td>\n",
       "<td>0.1239669</td>\n",
       "<td>0.1229215</td>\n",
       "<td>0.2301177</td>\n",
       "<td>0.2378787</td>\n",
       "<td>0.0809717</td>\n",
       "<td>0.7516869</td>\n",
       "<td>-19.0116104</td>\n",
       "<td>50.3373819</td></tr>\n",
       "<tr><td></td>\n",
       "<td>12</td>\n",
       "<td>0.5999793</td>\n",
       "<td>0.0988571</td>\n",
       "<td>0.7558916</td>\n",
       "<td>1.3788149</td>\n",
       "<td>0.1157025</td>\n",
       "<td>0.1055325</td>\n",
       "<td>0.2110518</td>\n",
       "<td>0.2158248</td>\n",
       "<td>0.0755735</td>\n",
       "<td>0.8272605</td>\n",
       "<td>-24.4108364</td>\n",
       "<td>37.8814901</td></tr>\n",
       "<tr><td></td>\n",
       "<td>13</td>\n",
       "<td>0.6999587</td>\n",
       "<td>0.0870604</td>\n",
       "<td>0.6749032</td>\n",
       "<td>1.2782709</td>\n",
       "<td>0.1033058</td>\n",
       "<td>0.0929748</td>\n",
       "<td>0.1956618</td>\n",
       "<td>0.1982774</td>\n",
       "<td>0.0674764</td>\n",
       "<td>0.8947368</td>\n",
       "<td>-32.5096753</td>\n",
       "<td>27.8270932</td></tr>\n",
       "<tr><td></td>\n",
       "<td>14</td>\n",
       "<td>0.7999380</td>\n",
       "<td>0.0762662</td>\n",
       "<td>0.5601697</td>\n",
       "<td>1.1885199</td>\n",
       "<td>0.0857438</td>\n",
       "<td>0.0815620</td>\n",
       "<td>0.1819238</td>\n",
       "<td>0.1836898</td>\n",
       "<td>0.0560054</td>\n",
       "<td>0.9507422</td>\n",
       "<td>-43.9830305</td>\n",
       "<td>18.8519867</td></tr>\n",
       "<tr><td></td>\n",
       "<td>15</td>\n",
       "<td>0.8999174</td>\n",
       "<td>0.0665705</td>\n",
       "<td>0.3307026</td>\n",
       "<td>1.0932178</td>\n",
       "<td>0.0506198</td>\n",
       "<td>0.0714270</td>\n",
       "<td>0.1673362</td>\n",
       "<td>0.1712176</td>\n",
       "<td>0.0330634</td>\n",
       "<td>0.9838057</td>\n",
       "<td>-66.9297409</td>\n",
       "<td>9.3217775</td></tr>\n",
       "<tr><td></td>\n",
       "<td>16</td>\n",
       "<td>1.0</td>\n",
       "<td>0.0512063</td>\n",
       "<td>0.1618096</td>\n",
       "<td>1.0</td>\n",
       "<td>0.0247678</td>\n",
       "<td>0.0612961</td>\n",
       "<td>0.1530675</td>\n",
       "<td>0.1602164</td>\n",
       "<td>0.0161943</td>\n",
       "<td>1.0</td>\n",
       "<td>-83.8190379</td>\n",
       "<td>0.0</td></tr></table></div>"
      ],
      "text/plain": [
       "    group    cumulative_data_fraction    lower_threshold    lift      cumulative_lift    response_rate    score      cumulative_response_rate    cumulative_score    capture_rate    cumulative_capture_rate    gain      cumulative_gain\n",
       "--  -------  --------------------------  -----------------  --------  -----------------  ---------------  ---------  --------------------------  ------------------  --------------  -------------------------  --------  -----------------\n",
       "    1        0.0100186                   0.615281           3.77167   3.77167            0.57732          0.676686   0.57732                     0.676686            0.0377868       0.0377868                  277.167   277.167\n",
       "    2        0.0200372                   0.560624           2.82875   3.30021            0.43299          0.58858    0.505155                    0.632633            0.0283401       0.0661269                  182.875   230.021\n",
       "    3        0.0300558                   0.506121           2.6267    3.0757             0.402062         0.531341   0.47079                     0.598869            0.0263158       0.0924426                  162.67    207.57\n",
       "    4        0.0400744                   0.475024           2.42464   2.91294            0.371134         0.489871   0.445876                    0.571619            0.0242915       0.116734                   142.464   191.294\n",
       "    5        0.050093                    0.439799           2.8961    2.90957            0.443299         0.45669    0.445361                    0.548634            0.0290148       0.145749                   189.61    190.957\n",
       "    6        0.100083                    0.329595           2.0922    2.50131            0.320248         0.378919   0.382869                    0.463864            0.104588        0.250337                   109.22    150.131\n",
       "    7        0.150072                    0.263557           1.97072   2.32457            0.301653         0.294346   0.355816                    0.407397            0.0985155       0.348853                   97.0717   132.457\n",
       "    8        0.200062                    0.218178           1.71425   2.17207            0.262397         0.239479   0.332473                    0.365439            0.085695        0.434548                   71.4254   117.207\n",
       "    9        0.300041                    0.164191           1.30256   1.88233            0.19938          0.187434   0.288124                    0.306124            0.130229        0.564777                   30.2563   88.2332\n",
       "    10       0.400021                    0.133832           1.0596    1.6767             0.16219          0.148028   0.256649                    0.266611            0.105938        0.670715                   5.95981   67.6702\n",
       "    11       0.5                         0.113054           0.809884  1.50337            0.123967         0.122921   0.230118                    0.237879            0.0809717       0.751687                   -19.0116  50.3374\n",
       "    12       0.599979                    0.0988571          0.755892  1.37881            0.115702         0.105533   0.211052                    0.215825            0.0755735       0.82726                    -24.4108  37.8815\n",
       "    13       0.699959                    0.0870604          0.674903  1.27827            0.103306         0.0929748  0.195662                    0.198277            0.0674764       0.894737                   -32.5097  27.8271\n",
       "    14       0.799938                    0.0762662          0.56017   1.18852            0.0857438        0.081562   0.181924                    0.18369             0.0560054       0.950742                   -43.983   18.852\n",
       "    15       0.899917                    0.0665705          0.330703  1.09322            0.0506198        0.071427   0.167336                    0.171218            0.0330634       0.983806                   -66.9297  9.32178\n",
       "    16       1                           0.0512063          0.16181   1                  0.0247678        0.0612961  0.153068                    0.160216            0.0161943       1                          -83.819   0"
      ]
     },
     "metadata": {},
     "output_type": "display_data"
    },
    {
     "name": "stdout",
     "output_type": "stream",
     "text": [
      "\n"
     ]
    },
    {
     "data": {
      "text/plain": []
     },
     "execution_count": 47,
     "metadata": {},
     "output_type": "execute_result"
    }
   ],
   "source": [
    "aml.leader.model_performance(test_data=test).plot()\n",
    "aml.leader.model_performance(test_data=test)"
   ]
  },
  {
   "cell_type": "markdown",
   "metadata": {},
   "source": [
    "Another convenient use of H2O Flow is to explore the various models built by AutoML."
   ]
  },
  {
   "cell_type": "markdown",
   "metadata": {},
   "source": [
    "# Step 10 (of 10). Stop H2O-3 cluster"
   ]
  },
  {
   "cell_type": "code",
   "execution_count": 48,
   "metadata": {},
   "outputs": [
    {
     "name": "stdout",
     "output_type": "stream",
     "text": [
      "H2O session _sid_a0ce closed.\n"
     ]
    }
   ],
   "source": [
    "h2o.cluster().shutdown()"
   ]
  },
  {
   "cell_type": "markdown",
   "metadata": {},
   "source": [
    "Once your work is completed, shutting down the H2O cluster frees up the resources reserved by H2O.\n",
    "\n",
    "# Bonus: H2O-3 documentation\n",
    "\n",
    "* http://docs.h2o.ai"
   ]
  }
 ],
 "metadata": {
  "kernelspec": {
   "display_name": "Python 3",
   "language": "python",
   "name": "python3"
  },
  "language_info": {
   "codemirror_mode": {
    "name": "ipython",
    "version": 3
   },
   "file_extension": ".py",
   "mimetype": "text/x-python",
   "name": "python",
   "nbconvert_exporter": "python",
   "pygments_lexer": "ipython3",
   "version": "3.6.9"
  }
 },
 "nbformat": 4,
 "nbformat_minor": 2
}
