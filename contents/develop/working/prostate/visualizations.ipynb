{
 "cells": [
  {
   "cell_type": "markdown",
   "metadata": {},
   "source": [
    "## Tree Visualization "
   ]
  },
  {
   "cell_type": "code",
   "execution_count": null,
   "metadata": {
    "collapsed": true
   },
   "outputs": [],
   "source": [
    "mojo_file_name = \"/Users/avkashchauhan/Downloads/my_rf_001.zip\"\n",
    "my_rf.download_mojo(mojo_file_name)"
   ]
  },
  {
   "cell_type": "code",
   "execution_count": null,
   "metadata": {
    "collapsed": true
   },
   "outputs": [],
   "source": [
    "import subprocess\n",
    "from IPython.display import Image\n",
    "\n",
    "def generateTree(h2o_jar_path, mojo_full_path, gv_file_path, image_file_path, tree_id = 0):\n",
    "    result = subprocess.call([\"java\",  \"-cp\", h2o_jar_path, \"hex.genmodel.tools.PrintMojo\", \"--tree\", str(tree_id), \"-i\",  mojo_full_path , \"-o\", gv_file_path ], shell=False)\n",
    "    result = subprocess.call([\"ls\",gv_file_path], shell = False) # change \"ls\" to \"dir\" if using windows\n",
    "    if result is 0:\n",
    "        print(\"Success: Graphviz file \" + gv_file_path + \" is generated.\")\n",
    "    else:    \n",
    "        print(\"Error: Graphviz file \" + gv_file_path + \" could not be generated.\")\n",
    "        \n",
    "\n",
    "# -------------------        \n",
    "# I had to do in 2 steps. If I put all in 1 step the process hung after graphviz is created. Still investigating\n",
    "# -------------------\n",
    "def displayTreeImage(gv_file_path, image_file_path):\n",
    "    result = subprocess.call([\"dot\", \"-Tpng\", gv_file_path, \"-o\", image_file_path], shell=False)\n",
    "    result = subprocess.call([\"ls\",image_file_path], shell = False)\n",
    "    if result is 0:\n",
    "        print(\"Success: Image File \" + image_file_path + \" is generated.\")\n",
    "        print(\"Now you can execute the follow line as-it-is to see the tree graph:\") \n",
    "        print(\"Image(filename='\" + image_file_path + \"\\')\")\n",
    "    else:\n",
    "        print(\"Error: Image file \" + image_file_path + \" could not be generated.\")\n",
    "    \n",
    "#Call above function with various parameters    "
   ]
  },
  {
   "cell_type": "code",
   "execution_count": null,
   "metadata": {
    "collapsed": true
   },
   "outputs": [],
   "source": [
    "h2o_jar_path= '/Users/avkashchauhan/tools/h2o-3/h2o-3.14.0.3/h2o.jar'\n",
    "mojo_full_path = mojo_file_name\n",
    "gv_file_path = \"/Users/avkashchauhan/Downloads/my_rf__000.gv\"\n",
    "image_file_path = \"/Users/avkashchauhan/Downloads/my_rf_001.png\""
   ]
  },
  {
   "cell_type": "code",
   "execution_count": null,
   "metadata": {
    "collapsed": true
   },
   "outputs": [],
   "source": [
    "# Note just change the tree id in the function below to get which particular tree you want\n",
    "generateTree(h2o_jar_path, mojo_full_path, gv_file_path, image_file_path, 1)"
   ]
  },
  {
   "cell_type": "code",
   "execution_count": null,
   "metadata": {
    "collapsed": true
   },
   "outputs": [],
   "source": [
    "displayTreeImage(gv_file_path, image_file_path)\n",
    "# Note: If this step hangs, you can look at \"dot\" active process in osx and try killing it"
   ]
  },
  {
   "cell_type": "code",
   "execution_count": null,
   "metadata": {
    "collapsed": true
   },
   "outputs": [],
   "source": [
    "Image(filename='/Users/avkashchauhan/Downloads/my_rf_001.png')"
   ]
  }
 ],
 "metadata": {
  "kernelspec": {
   "display_name": "Python 3",
   "language": "python",
   "name": "python3"
  },
  "language_info": {
   "codemirror_mode": {
    "name": "ipython",
    "version": 3
   },
   "file_extension": ".py",
   "mimetype": "text/x-python",
   "name": "python",
   "nbconvert_exporter": "python",
   "pygments_lexer": "ipython3",
   "version": "3.6.9"
  }
 },
 "nbformat": 4,
 "nbformat_minor": 2
}
