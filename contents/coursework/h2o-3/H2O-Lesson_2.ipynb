{
 "cells": [
  {
   "cell_type": "markdown",
   "metadata": {},
   "source": [
    "## License \n",
    "\n",
    "<span style=\"color:gray\"> Copyright 2019 David Whiting and the H2O.ai team\n",
    "\n",
    "<span style=\"color:gray\"> Licensed under the Apache License, Version 2.0 (the \"License\");\n",
    "you may not use this file except in compliance with the License.\n",
    "You may obtain a copy of the License at\n",
    "\n",
    "<span style=\"color:gray\">     http://www.apache.org/licenses/LICENSE-2.0\n",
    "\n",
    "<span style=\"color:gray\"> Unless required by applicable law or agreed to in writing, software\n",
    "distributed under the License is distributed on an \"AS IS\" BASIS,\n",
    "WITHOUT WARRANTIES OR CONDITIONS OF ANY KIND, either express or implied.\n",
    "See the License for the specific language governing permissions and\n",
    "limitations under the License.\n",
    "\n",
    "<span style=\"color:gray\"> **DISCLAIMER:** This notebook is not legal compliance advice. </span>\n",
    "\n",
    "<hr style=\"background-color: gray;height: 2.0px;\"/>"
   ]
  },
  {
   "cell_type": "markdown",
   "metadata": {},
   "source": [
    "# Introduction to H2O-3: Lesson 2\n",
    "\n",
    "This is the second in a series of instructional Jupyter notebooks on H2O-3. While these notebooks are intended to be completely self-contained, an accompanying instructional video with additional commentary can be found <span style=\"color:red\">**_here_** _(link to be added)_.</span>\n",
    "\n",
    "These notebooks are built to be run on the <span style=\"color:blue\">H2O.ai Aquarium&trade;</span> training platform under the `Coursework` lab. Please register for an account at [http://aquarium.h2o.ai](http://aquarium.h2o.ai). Registration and use of Aquarium is free.\n",
    "\n",
    "<div style=\"margin-left: 3em;\">\n",
    "\n",
    "### Intended Audience\n",
    "\n",
    "The target audience for this training notebook is data scientists, machine learning engineers, and other experienced modelers. Technically advanced analysts may also find this training useful. A working knowledge of python and some experience building statistical or machine learning models is assumed.\n",
    "\n",
    "\n",
    "### Prerequisites\n",
    "\n",
    "You should complete Lesson 1 before beginning this lesson.\n",
    "\n",
    "### Learning Outcomes\n",
    "\n",
    "By the end of this notebook, you will be able to ...\n",
    "\n",
    "- [ ] Feature engineering: target encoding\n",
    "- [ ] Load data directly into the H2O-3 cluster\n",
    "- [ ] Use H2O-3 commands to perform basic data munging tasks \n",
    "- [ ] Engineer new data features\n",
    "- [ ] Train and evaluate an XGBoost ML model\n",
    "- [ ] Create and save a MOJO for model production\n",
    "- [ ] Use H2O Flow for monitoring H2O-cluster activity and health\n",
    "- [ ] Use H2O Flow for inspecting data and models\n",
    "\n",
    "#### \"Machine Learning\" Outcomes\n",
    "\n",
    "- [ ] Advanced XGBoost\n",
    "\n",
    "</div>\n",
    "\n",
    "<hr style=\"background-color: rgb(170,0,0);height: 2.0px;\"/>\n"
   ]
  },
  {
   "cell_type": "markdown",
   "metadata": {},
   "source": [
    "# Lending Club Loan Default\n",
    "\n",
    "In this tutorial, we will go through a step-by-step workflow to determine loan deliquency. We will make predictions based only on the information available at the time the loan was issued.  The data for this exercise come from the public Lending Club data set, a description can be found [here](https://www.kaggle.com/pragyanbo/a-hitchhiker-s-guide-to-lending-club-loan-data/notebook).\n",
    "\n",
    "## Workflow\n",
    "\n",
    "1. Start the H2O-3 cluster\n",
    "2. Import data\n",
    "3. Clean data\n",
    "4. Feature engineering\n",
    "5. Model training\n",
    "6. Examine model accuracy\n",
    "7. Interpret model\n",
    "8. Save and reuse model\n",
    "9. AutoML (optional)\n",
    "10. Stop H2O-3 cluster"
   ]
  },
  {
   "cell_type": "markdown",
   "metadata": {},
   "source": [
    "# Step 1 (of ?). Start the H2O-3 cluster\n",
    "\n",
    "The `os` commands below check whether this notebook is being run on the Aquarium platform. We use `h2o.init` command to connect to the H2O-3 cluster, starting it if it is not already up. The parameters used in `h2o.init` will depend on your specific environment."
   ]
  },
  {
   "cell_type": "code",
   "execution_count": 1,
   "metadata": {},
   "outputs": [
    {
     "name": "stdout",
     "output_type": "stream",
     "text": [
      "Checking whether there is an H2O instance running at http://localhost:54321/h2o . connected.\n"
     ]
    },
    {
     "data": {
      "text/html": [
       "<div style=\"overflow:auto\"><table style=\"width:50%\"><tr><td>H2O cluster uptime:</td>\n",
       "<td>01 secs</td></tr>\n",
       "<tr><td>H2O cluster timezone:</td>\n",
       "<td>Etc/UTC</td></tr>\n",
       "<tr><td>H2O data parsing timezone:</td>\n",
       "<td>UTC</td></tr>\n",
       "<tr><td>H2O cluster version:</td>\n",
       "<td>3.26.0.2</td></tr>\n",
       "<tr><td>H2O cluster version age:</td>\n",
       "<td>1 month and 30 days </td></tr>\n",
       "<tr><td>H2O cluster name:</td>\n",
       "<td>h2o</td></tr>\n",
       "<tr><td>H2O cluster total nodes:</td>\n",
       "<td>1</td></tr>\n",
       "<tr><td>H2O cluster free memory:</td>\n",
       "<td>13.98 Gb</td></tr>\n",
       "<tr><td>H2O cluster total cores:</td>\n",
       "<td>16</td></tr>\n",
       "<tr><td>H2O cluster allowed cores:</td>\n",
       "<td>16</td></tr>\n",
       "<tr><td>H2O cluster status:</td>\n",
       "<td>accepting new members, healthy</td></tr>\n",
       "<tr><td>H2O connection url:</td>\n",
       "<td>http://localhost:54321/h2o</td></tr>\n",
       "<tr><td>H2O connection proxy:</td>\n",
       "<td>None</td></tr>\n",
       "<tr><td>H2O internal security:</td>\n",
       "<td>False</td></tr>\n",
       "<tr><td>H2O API Extensions:</td>\n",
       "<td>Amazon S3, XGBoost, Algos, AutoML, Core V3, Core V4</td></tr>\n",
       "<tr><td>Python version:</td>\n",
       "<td>3.6.9 final</td></tr></table></div>"
      ],
      "text/plain": [
       "--------------------------  ---------------------------------------------------\n",
       "H2O cluster uptime:         01 secs\n",
       "H2O cluster timezone:       Etc/UTC\n",
       "H2O data parsing timezone:  UTC\n",
       "H2O cluster version:        3.26.0.2\n",
       "H2O cluster version age:    1 month and 30 days\n",
       "H2O cluster name:           h2o\n",
       "H2O cluster total nodes:    1\n",
       "H2O cluster free memory:    13.98 Gb\n",
       "H2O cluster total cores:    16\n",
       "H2O cluster allowed cores:  16\n",
       "H2O cluster status:         accepting new members, healthy\n",
       "H2O connection url:         http://localhost:54321/h2o\n",
       "H2O connection proxy:\n",
       "H2O internal security:      False\n",
       "H2O API Extensions:         Amazon S3, XGBoost, Algos, AutoML, Core V3, Core V4\n",
       "Python version:             3.6.9 final\n",
       "--------------------------  ---------------------------------------------------"
      ]
     },
     "metadata": {},
     "output_type": "display_data"
    }
   ],
   "source": [
    "import os\n",
    "import h2o\n",
    "\n",
    "startup = '/home/h2o/bin/aquarium_startup'\n",
    "if os.path.exists(startup):\n",
    "    os.system(startup)\n",
    "    local_url = 'http://localhost:54321/h2o'\n",
    "    aquarium = True\n",
    "else:\n",
    "    local_url = 'http://localhost:54321'\n",
    "    aquarium = False\n",
    "\n",
    "h2o.init(url=local_url)"
   ]
  },
  {
   "cell_type": "markdown",
   "metadata": {},
   "source": [
    "Note: The method you use for starting and stopping an H2O-3 cluster will depend on how H2O is installed and configured on your system. Remember that if you start a cluster, you will need to ensure that it is shut down when you are done."
   ]
  },
  {
   "cell_type": "markdown",
   "metadata": {},
   "source": [
    "# Step 2 (of ?). Import and update data\n",
    "\n",
    "Just as we did in Lesson 1, import, clean, and transform the data using the following steps."
   ]
  },
  {
   "cell_type": "code",
   "execution_count": 2,
   "metadata": {},
   "outputs": [
    {
     "name": "stdout",
     "output_type": "stream",
     "text": [
      "Parse progress: |█████████████████████████████████████████████████████████| 100%\n"
     ]
    }
   ],
   "source": [
    "if aquarium:\n",
    "    input_csv = \"/home/h2o/data/lending_club/LoanStats3a.csv\"\n",
    "else:\n",
    "    input_csv = \"https://s3-us-west-2.amazonaws.com/h2o-tutorials/data/topics/lending/lending_club/LoanStats3a.csv\"\n",
    "\n",
    "loans = h2o.import_file(input_csv,\n",
    "                        col_types = {\"int_rate\":\"string\", \n",
    "                                     \"revol_util\":\"string\", \n",
    "                                     \"emp_length\":\"string\", \n",
    "                                     \"verification_status\":\"string\"})"
   ]
  },
  {
   "cell_type": "code",
   "execution_count": 4,
   "metadata": {},
   "outputs": [],
   "source": [
    "num_unfiltered_loans = loans.dim[0]\n",
    "\n",
    "ongoing_status = [\"Current\",\n",
    "                  \"In Grace Period\",\n",
    "                  \"Late (16-30 days)\",\n",
    "                  \"Late (31-120 days)\",\n",
    "                  \"Does not meet the credit policy.  Status:Current\",\n",
    "                  \"Does not meet the credit policy.  Status:In Grace Period\"\n",
    "                 ]\n",
    "loans = loans[~loans[\"loan_status\"].isin(ongoing_status)]\n",
    "\n",
    "num_filtered_loans = loans.dim[0]\n",
    "num_loans_filtered_out = num_unfiltered_loans - num_filtered_loans\n",
    "\n",
    "fully_paid = [\"Fully Paid\",\n",
    "              \"Does not meet the credit policy.  Status:Fully Paid\"]\n",
    "loans[\"bad_loan\"] = ~(loans[\"loan_status\"].isin(fully_paid))\n",
    "\n",
    "loans[\"bad_loan\"] = loans[\"bad_loan\"].asfactor()\n",
    "\n",
    "bad_loan_dist = loans[\"bad_loan\"].table()\n",
    "bad_loan_dist[\"Percentage\"] = (100 * bad_loan_dist[\"Count\"] / loans.nrow).round()\n",
    "\n",
    "loans[\"int_rate\"] = loans[\"int_rate\"].gsub(pattern = \"%\", replacement = \"\") \n",
    "loans[\"int_rate\"] = loans[\"int_rate\"].trim()\n",
    "loans[\"int_rate\"] = loans[\"int_rate\"].asnumeric()\n",
    "\n",
    "loans[\"revol_util\"] = loans[\"revol_util\"].gsub(pattern=\"%\", replacement=\"\")\n",
    "loans[\"revol_util\"] = loans[\"revol_util\"].trim()\n",
    "loans[\"revol_util\"] = loans[\"revol_util\"].asnumeric()\n",
    "\n",
    "loans[\"emp_length\"] = loans[\"emp_length\"].gsub(pattern=\"([ ]*+[a-zA-Z].*)|(n/a)\", replacement=\"\") \n",
    "loans[\"emp_length\"] = loans[\"emp_length\"].trim()\n",
    "\n",
    "loans[\"emp_length\"] = loans[\"emp_length\"].gsub(pattern=\"< 1\", replacement=\"0\")\n",
    "loans[\"emp_length\"] = loans[\"emp_length\"].gsub(pattern=\"10\\\\+\", replacement=\"10\")\n",
    "loans[\"emp_length\"] = loans[\"emp_length\"].asnumeric()\n",
    "\n",
    "loans[\"verification_status\"] = loans[\"verification_status\"].sub(pattern=\"VERIFIED - income source\", \n",
    "                                                                replacement=\"verified\")\n",
    "loans[\"verification_status\"] = loans[\"verification_status\"].sub(pattern=\"VERIFIED - income\", \n",
    "                                                                replacement=\"verified\")\n",
    "loans[\"verification_status\"] = loans[\"verification_status\"].asfactor()\n",
    "\n",
    "loans[\"credit_length\"] = loans[\"issue_d\"].year() - loans[\"earliest_cr_line\"].year()\n",
    "loans[\"credit_length\"].head()\n",
    "\n",
    "loans[\"issue_d_year\"] = loans[\"issue_d\"].year()\n",
    "loans[\"issue_d_month\"] = loans[\"issue_d\"].month().asfactor()"
   ]
  },
  {
   "cell_type": "markdown",
   "metadata": {},
   "source": [
    "# Step 3 (of ?).  NLP Feature engineering\n",
    "\n",
    "Feature engineering can be considered the \"secret sauce\" in building a superior predictive model: it is often (although not always) more important than the choice of machine learning algorithm. A very good summary of feature engineering recipes can be found in the online [Driverless AI Documentation](http://docs.h2o.ai/driverless-ai/latest-stable/docs/userguide/transformations.html). \n",
    "\n",
    "We will use NLP (natural language processing) to create word embedding features from the loan description text field in our data.\n",
    "\n",
    "### Word Embeddings\n",
    "\n",
    "One of the columns in our dataset is a user-provided description of why the loan was requested. The first few descriptions in the dataset are shown below."
   ]
  },
  {
   "cell_type": "code",
   "execution_count": 5,
   "metadata": {},
   "outputs": [
    {
     "data": {
      "text/html": [
       "<table>\n",
       "<thead>\n",
       "<tr><th>desc                                                                                                                                                                                                                                                                                                                                                                                                                                                                                                                                                                                                        </th></tr>\n",
       "</thead>\n",
       "<tbody>\n",
       "<tr><td>Borrower added on 12/22/11 > I need to upgrade my business technologies.<br>                                                                                                                                                                                                                                                                                                                                                                                                                                                                                                                                </td></tr>\n",
       "<tr><td>Borrower added on 12/22/11 > I plan to use this money to finance the motorcycle i am looking at. I plan to have it paid off as soon as possible/when i sell my old bike. I only need this money because the deal im looking at is to good to pass up.<br><br>  Borrower added on 12/22/11 > I plan to use this money to finance the motorcycle i am looking at. I plan to have it paid off as soon as possible/when i sell my old bike.I only need this money because the deal im looking at is to good to pass up. I have finished college with an associates degree in business and its takingmeplaces<br></td></tr>\n",
       "<tr><td>                                                                                                                                                                                                                                                                                                                                                                                                                                                                                                                                                                                                            </td></tr>\n",
       "<tr><td>Borrower added on 12/21/11 > to pay for property tax (borrow from friend, need to pay back) & central A/C need to be replace. I'm very sorry to let my loan expired last time.<br>                                                                                                                                                                                                                                                                                                                                                                                                                          </td></tr>\n",
       "<tr><td>                                                                                                                                                                                                                                                                                                                                                                                                                                                                                                                                                                                                            </td></tr>\n",
       "<tr><td>Borrower added on 12/16/11 > Downpayment for a car.<br>                                                                                                                                                                                                                                                                                                                                                                                                                                                                                                                                                     </td></tr>\n",
       "<tr><td>Borrower added on 12/21/11 > I own a small home-based judgment collection business. I have 5 years experience collecting debts. I am now going from a home office to a small office. I also plan to buy a small debt portfolio (eg. $10K for $1M of debt) <br>My score is not A+ because I own my home and have no mortgage.<br>                                                                                                                                                                                                                                                                            </td></tr>\n",
       "<tr><td>Borrower added on 12/16/11 > I'm trying to build up my credit history. I live with my brother and have no car payment or credit cards. I am in community college and work full time. Im going to use the money to make some repairs around the house and get some maintenance done on my car.<br><br>  Borrower added on 12/20/11 > $1000 down only $4375 to go. Thanks to everyone that invested so far, looking forward to surprising my brother with the fixes around the house.<br>                                                                                                                     </td></tr>\n",
       "<tr><td>Borrower added on 12/15/11 > I had recived a loan from Citi Financial about a year ago, I was paying 29.99 intrest, so the refinance is to cut that rate since cleaning up my credit I have been paying everything on time as shown on my credit report<br>                                                                                                                                                                                                                                                                                                                                                 </td></tr>\n",
       "<tr><td>                                                                                                                                                                                                                                                                                                                                                                                                                                                                                                                                                                                                            </td></tr>\n",
       "</tbody>\n",
       "</table>"
      ]
     },
     "metadata": {},
     "output_type": "display_data"
    },
    {
     "data": {
      "text/plain": []
     },
     "execution_count": 5,
     "metadata": {},
     "output_type": "execute_result"
    }
   ],
   "source": [
    "loans[\"desc\"].head()"
   ]
  },
  {
   "cell_type": "markdown",
   "metadata": {},
   "source": [
    "The descriptions may contain information that would assist in predicting default, but supervised learning algorithms in general have a hard time understanding text. We need to convert these strings into a numeric representation of the text in order for our algorithms to operate on it. There are multiple choices for doing so, in this example we will use the Word2Vec algorithm.\n",
    "\n",
    "We start by defining stop words (terms that are considered too frequent to carry much information) "
   ]
  },
  {
   "cell_type": "code",
   "execution_count": 6,
   "metadata": {},
   "outputs": [],
   "source": [
    "STOP_WORDS = [\"ax\",\"i\",\"you\",\"edu\",\"s\",\"t\",\"m\",\"subject\",\"can\",\"lines\",\"re\",\"what\",\n",
    "              \"there\",\"all\",\"we\",\"one\",\"the\",\"a\",\"an\",\"of\",\"or\",\"in\",\"for\",\"by\",\"on\",\n",
    "              \"but\",\"is\",\"in\",\"a\",\"not\",\"with\",\"as\",\"was\",\"if\",\"they\",\"are\",\"this\",\"and\",\"it\",\"have\",\n",
    "              \"from\",\"at\",\"my\",\"be\",\"by\",\"not\",\"that\",\"to\",\"from\",\"com\",\"org\",\"like\",\"likes\",\"so\"]"
   ]
  },
  {
   "cell_type": "markdown",
   "metadata": {},
   "source": [
    "We next _tokenize_ the descriptions by breaking the text into individual words"
   ]
  },
  {
   "cell_type": "code",
   "execution_count": 7,
   "metadata": {},
   "outputs": [],
   "source": [
    "def tokenize(sentences, stop_word = STOP_WORDS):\n",
    "    tokenized = sentences.tokenize(\"\\\\W+\")\n",
    "    tokenized_lower = tokenized.tolower()\n",
    "    tokenized_filtered = tokenized_lower[(tokenized_lower.nchar() >= 2) | (tokenized_lower.isna()),:]\n",
    "    tokenized_words = tokenized_filtered[tokenized_filtered.grep(\"[0-9]\",invert=True,output_logical=True),:]\n",
    "    tokenized_words = tokenized_words[(tokenized_words.isna()) | (~ tokenized_words.isin(STOP_WORDS)),:]\n",
    "    return tokenized_words\n",
    "\n",
    "words = tokenize(loans[\"desc\"].ascharacter())"
   ]
  },
  {
   "cell_type": "markdown",
   "metadata": {},
   "source": [
    "Then we train our Word2Vec model on the words extracted from our descriptions. We choose an output vector size of 100.\n",
    "\n",
    ">What does Word2Vec do? At a high level, it is a dimensionality reduction method for numerical representations of text. But it reduces dimensionality while preserving relationships between words in the text.\n",
    ">\n",
    ">Suppose we were to create a dictionary of all the words in our descriptions, and further suppose that dictionary contained 2500 unique words. At one extreme, we could create an indicator variable for each word (i.e., one-hot encoding). This would yield 2500 new features that would certainly lead to massive overfitting of models.\n",
    ">\n",
    ">At the other extreme, suppose we had someone classify those words into different groups and create indicator variables for each group: e.g., `risky_words` (\"bankruptcy\", \"default\", \"forfeit\", \"lien\", etc.), `angry_words` (profanity, \"complaint\", etc.), and so on. This reduces dimensionality by manually grouping words, but it is extremely labor intensive.\n",
    ">\n",
    ">Word2Vec starts with the entire dictionary size $K$ as inputs and the selected vector size $k$ as the target number of outputs. Passing through the intermediate layer(s) of the Word2Vec neural net, a $k$-dimensional numeric representation of each word is derived. "
   ]
  },
  {
   "cell_type": "code",
   "execution_count": 8,
   "metadata": {},
   "outputs": [
    {
     "name": "stdout",
     "output_type": "stream",
     "text": [
      "word2vec Model Build progress: |██████████████████████████████████████████| 100%\n"
     ]
    }
   ],
   "source": [
    "from h2o.estimators.word2vec import H2OWord2vecEstimator\n",
    "\n",
    "w2v_model = H2OWord2vecEstimator(vec_size=100, model_id=\"w2v\")\n",
    "w2v_model.train(training_frame=words)"
   ]
  },
  {
   "cell_type": "markdown",
   "metadata": {},
   "source": [
    "One way we quickly sanity check the Word2Vec model is by finding synonyms for specified words, e.g., \"car\""
   ]
  },
  {
   "cell_type": "code",
   "execution_count": 9,
   "metadata": {},
   "outputs": [
    {
     "data": {
      "text/plain": [
       "OrderedDict([('auto', 0.7422929406166077),\n",
       "             ('vehicle', 0.7028231620788574),\n",
       "             ('prius', 0.6695665717124939),\n",
       "             ('camry', 0.6531004905700684),\n",
       "             ('chevy', 0.6526370048522949),\n",
       "             ('truck', 0.6467186808586121),\n",
       "             ('lexus', 0.6433395743370056),\n",
       "             ('subaru', 0.6385617852210999),\n",
       "             ('automobile', 0.6319136619567871),\n",
       "             ('tahoe', 0.624847948551178)])"
      ]
     },
     "execution_count": 9,
     "metadata": {},
     "output_type": "execute_result"
    }
   ],
   "source": [
    "w2v_model.find_synonyms(\"car\", count=10)"
   ]
  },
  {
   "cell_type": "markdown",
   "metadata": {},
   "source": [
    "Assuming we are satisfied with our Word2Vec model results, we next calculate a vector for each description by averaging over all of the words in that description"
   ]
  },
  {
   "cell_type": "code",
   "execution_count": 10,
   "metadata": {
    "scrolled": true
   },
   "outputs": [
    {
     "data": {
      "text/html": [
       "<table>\n",
       "<thead>\n",
       "<tr><th style=\"text-align: right;\">          C1</th><th style=\"text-align: right;\">        C2</th><th style=\"text-align: right;\">         C3</th><th style=\"text-align: right;\">         C4</th><th style=\"text-align: right;\">         C5</th><th style=\"text-align: right;\">         C6</th><th style=\"text-align: right;\">         C7</th><th style=\"text-align: right;\">         C8</th><th style=\"text-align: right;\">         C9</th><th style=\"text-align: right;\">        C10</th><th style=\"text-align: right;\">         C11</th><th style=\"text-align: right;\">        C12</th><th style=\"text-align: right;\">         C13</th><th style=\"text-align: right;\">        C14</th><th style=\"text-align: right;\">        C15</th><th style=\"text-align: right;\">        C16</th><th style=\"text-align: right;\">         C17</th><th style=\"text-align: right;\">          C18</th><th style=\"text-align: right;\">         C19</th><th style=\"text-align: right;\">        C20</th><th style=\"text-align: right;\">          C21</th><th style=\"text-align: right;\">        C22</th><th style=\"text-align: right;\">         C23</th><th style=\"text-align: right;\">         C24</th><th style=\"text-align: right;\">        C25</th><th style=\"text-align: right;\">        C26</th><th style=\"text-align: right;\">       C27</th><th style=\"text-align: right;\">        C28</th><th style=\"text-align: right;\">         C29</th><th style=\"text-align: right;\">        C30</th><th style=\"text-align: right;\">        C31</th><th style=\"text-align: right;\">        C32</th><th style=\"text-align: right;\">       C33</th><th style=\"text-align: right;\">         C34</th><th style=\"text-align: right;\">          C35</th><th style=\"text-align: right;\">        C36</th><th style=\"text-align: right;\">         C37</th><th style=\"text-align: right;\">       C38</th><th style=\"text-align: right;\">        C39</th><th style=\"text-align: right;\">         C40</th><th style=\"text-align: right;\">        C41</th><th style=\"text-align: right;\">         C42</th><th style=\"text-align: right;\">        C43</th><th style=\"text-align: right;\">        C44</th><th style=\"text-align: right;\">        C45</th><th style=\"text-align: right;\">        C46</th><th style=\"text-align: right;\">         C47</th><th style=\"text-align: right;\">        C48</th><th style=\"text-align: right;\">         C49</th><th style=\"text-align: right;\">        C50</th><th style=\"text-align: right;\">        C51</th><th style=\"text-align: right;\">       C52</th><th style=\"text-align: right;\">         C53</th><th style=\"text-align: right;\">        C54</th><th style=\"text-align: right;\">       C55</th><th style=\"text-align: right;\">        C56</th><th style=\"text-align: right;\">        C57</th><th style=\"text-align: right;\">         C58</th><th style=\"text-align: right;\">         C59</th><th style=\"text-align: right;\">        C60</th><th style=\"text-align: right;\">        C61</th><th style=\"text-align: right;\">         C62</th><th style=\"text-align: right;\">        C63</th><th style=\"text-align: right;\">        C64</th><th style=\"text-align: right;\">        C65</th><th style=\"text-align: right;\">         C66</th><th style=\"text-align: right;\">        C67</th><th style=\"text-align: right;\">          C68</th><th style=\"text-align: right;\">        C69</th><th style=\"text-align: right;\">        C70</th><th style=\"text-align: right;\">       C71</th><th style=\"text-align: right;\">         C72</th><th style=\"text-align: right;\">        C73</th><th style=\"text-align: right;\">         C74</th><th style=\"text-align: right;\">         C75</th><th style=\"text-align: right;\">        C76</th><th style=\"text-align: right;\">         C77</th><th style=\"text-align: right;\">         C78</th><th style=\"text-align: right;\">        C79</th><th style=\"text-align: right;\">        C80</th><th style=\"text-align: right;\">        C81</th><th style=\"text-align: right;\">        C82</th><th style=\"text-align: right;\">        C83</th><th style=\"text-align: right;\">        C84</th><th style=\"text-align: right;\">        C85</th><th style=\"text-align: right;\">        C86</th><th style=\"text-align: right;\">        C87</th><th style=\"text-align: right;\">        C88</th><th style=\"text-align: right;\">        C89</th><th style=\"text-align: right;\">        C90</th><th style=\"text-align: right;\">         C91</th><th style=\"text-align: right;\">         C92</th><th style=\"text-align: right;\">        C93</th><th style=\"text-align: right;\">         C94</th><th style=\"text-align: right;\">        C95</th><th style=\"text-align: right;\">       C96</th><th style=\"text-align: right;\">         C97</th><th style=\"text-align: right;\">        C98</th><th style=\"text-align: right;\">          C99</th><th style=\"text-align: right;\">       C100</th></tr>\n",
       "</thead>\n",
       "<tbody>\n",
       "<tr><td style=\"text-align: right;\"> -0.0827432 </td><td style=\"text-align: right;\"> -0.311592</td><td style=\"text-align: right;\">  0.0916469</td><td style=\"text-align: right;\"> -0.119461 </td><td style=\"text-align: right;\"> -0.0670864</td><td style=\"text-align: right;\">  0.210824 </td><td style=\"text-align: right;\">  0.237594 </td><td style=\"text-align: right;\">  0.084594 </td><td style=\"text-align: right;\"> -0.147895 </td><td style=\"text-align: right;\">  0.0267837</td><td style=\"text-align: right;\"> -0.0483551 </td><td style=\"text-align: right;\"> -0.0557261</td><td style=\"text-align: right;\">  0.120727  </td><td style=\"text-align: right;\"> -0.156047 </td><td style=\"text-align: right;\"> -0.309712 </td><td style=\"text-align: right;\"> -0.023978 </td><td style=\"text-align: right;\">  0.00722305</td><td style=\"text-align: right;\">  0.0306448  </td><td style=\"text-align: right;\">  0.00429697</td><td style=\"text-align: right;\">  0.0623061</td><td style=\"text-align: right;\">  0.100103   </td><td style=\"text-align: right;\">  0.0173946</td><td style=\"text-align: right;\">  0.0265167 </td><td style=\"text-align: right;\">  0.0361656 </td><td style=\"text-align: right;\">  0.0472754</td><td style=\"text-align: right;\"> -0.0829572</td><td style=\"text-align: right;\"> -0.282085</td><td style=\"text-align: right;\"> -0.0779016</td><td style=\"text-align: right;\">  0.0772898 </td><td style=\"text-align: right;\">  0.0382716</td><td style=\"text-align: right;\"> -0.205816 </td><td style=\"text-align: right;\">  0.261986 </td><td style=\"text-align: right;\"> -0.19116 </td><td style=\"text-align: right;\"> -0.0766714 </td><td style=\"text-align: right;\"> -0.0877876  </td><td style=\"text-align: right;\">  0.0594898</td><td style=\"text-align: right;\"> -0.0451095 </td><td style=\"text-align: right;\"> -0.167086</td><td style=\"text-align: right;\">  0.203768 </td><td style=\"text-align: right;\"> -0.00540842</td><td style=\"text-align: right;\">  0.182413 </td><td style=\"text-align: right;\">  0.0499954 </td><td style=\"text-align: right;\">  0.0425691</td><td style=\"text-align: right;\">  0.03574  </td><td style=\"text-align: right;\"> -0.0565721</td><td style=\"text-align: right;\"> -0.119666 </td><td style=\"text-align: right;\">  0.0189156 </td><td style=\"text-align: right;\"> -0.0920114</td><td style=\"text-align: right;\"> -0.0246883 </td><td style=\"text-align: right;\"> -0.0730491</td><td style=\"text-align: right;\">  0.0248127</td><td style=\"text-align: right;\">  0.121442</td><td style=\"text-align: right;\"> -0.0591111 </td><td style=\"text-align: right;\">  0.11742  </td><td style=\"text-align: right;\">  0.180158</td><td style=\"text-align: right;\">  0.133639 </td><td style=\"text-align: right;\">  0.11118  </td><td style=\"text-align: right;\">  0.0162391 </td><td style=\"text-align: right;\"> -0.0613446 </td><td style=\"text-align: right;\"> -0.123346 </td><td style=\"text-align: right;\">  0.147424 </td><td style=\"text-align: right;\"> -0.0748907 </td><td style=\"text-align: right;\">  0.152998 </td><td style=\"text-align: right;\"> -0.0109899</td><td style=\"text-align: right;\"> -0.0296048</td><td style=\"text-align: right;\"> -0.0256001 </td><td style=\"text-align: right;\"> -0.0396424</td><td style=\"text-align: right;\">  0.0603905  </td><td style=\"text-align: right;\">  0.2336   </td><td style=\"text-align: right;\"> -0.0835621</td><td style=\"text-align: right;\">  0.184963</td><td style=\"text-align: right;\"> -0.0959705 </td><td style=\"text-align: right;\"> -0.0465195</td><td style=\"text-align: right;\"> -0.0793141 </td><td style=\"text-align: right;\"> -0.00786958</td><td style=\"text-align: right;\"> -0.131096 </td><td style=\"text-align: right;\">  0.0754839 </td><td style=\"text-align: right;\"> -0.0294643 </td><td style=\"text-align: right;\"> -0.071675 </td><td style=\"text-align: right;\"> -0.0364565</td><td style=\"text-align: right;\"> -0.0717914</td><td style=\"text-align: right;\">  0.182632 </td><td style=\"text-align: right;\"> -0.111425 </td><td style=\"text-align: right;\"> -0.0682433</td><td style=\"text-align: right;\">  0.0809352</td><td style=\"text-align: right;\">  0.0151769</td><td style=\"text-align: right;\"> -0.20785  </td><td style=\"text-align: right;\">  0.204633 </td><td style=\"text-align: right;\"> -0.109951 </td><td style=\"text-align: right;\"> -0.0470898</td><td style=\"text-align: right;\"> -0.00664428</td><td style=\"text-align: right;\"> -0.033281  </td><td style=\"text-align: right;\"> -0.136532 </td><td style=\"text-align: right;\"> -0.0362196 </td><td style=\"text-align: right;\">  0.265603 </td><td style=\"text-align: right;\"> -0.144144</td><td style=\"text-align: right;\"> -0.0363123 </td><td style=\"text-align: right;\"> -0.137763 </td><td style=\"text-align: right;\"> -0.000297798</td><td style=\"text-align: right;\">  0.0971281</td></tr>\n",
       "<tr><td style=\"text-align: right;\"> -0.042703  </td><td style=\"text-align: right;\"> -0.266927</td><td style=\"text-align: right;\">  0.0667996</td><td style=\"text-align: right;\"> -0.223674 </td><td style=\"text-align: right;\"> -0.0244438</td><td style=\"text-align: right;\">  0.161026 </td><td style=\"text-align: right;\">  0.123476 </td><td style=\"text-align: right;\">  0.05961  </td><td style=\"text-align: right;\"> -0.106715 </td><td style=\"text-align: right;\">  0.105301 </td><td style=\"text-align: right;\"> -0.0809612 </td><td style=\"text-align: right;\">  0.166925 </td><td style=\"text-align: right;\">  0.0792761 </td><td style=\"text-align: right;\"> -0.0910884</td><td style=\"text-align: right;\"> -0.177516 </td><td style=\"text-align: right;\"> -0.0473783</td><td style=\"text-align: right;\">  0.0915445 </td><td style=\"text-align: right;\">  0.0121603  </td><td style=\"text-align: right;\"> -0.00314142</td><td style=\"text-align: right;\"> -0.10087  </td><td style=\"text-align: right;\"> -0.0773362  </td><td style=\"text-align: right;\">  0.0549768</td><td style=\"text-align: right;\">  0.0350505 </td><td style=\"text-align: right;\">  0.0333728 </td><td style=\"text-align: right;\"> -0.0739098</td><td style=\"text-align: right;\">  0.0606739</td><td style=\"text-align: right;\"> -0.308276</td><td style=\"text-align: right;\"> -0.0601732</td><td style=\"text-align: right;\">  0.0319071 </td><td style=\"text-align: right;\">  0.0624162</td><td style=\"text-align: right;\"> -0.1689   </td><td style=\"text-align: right;\">  0.0942023</td><td style=\"text-align: right;\"> -0.26958 </td><td style=\"text-align: right;\"> -0.0916332 </td><td style=\"text-align: right;\">  0.000407537</td><td style=\"text-align: right;\">  0.166706 </td><td style=\"text-align: right;\">  0.0259836 </td><td style=\"text-align: right;\"> -0.206251</td><td style=\"text-align: right;\">  0.0592816</td><td style=\"text-align: right;\">  0.107729  </td><td style=\"text-align: right;\">  0.0636908</td><td style=\"text-align: right;\">  0.00220441</td><td style=\"text-align: right;\">  0.0202878</td><td style=\"text-align: right;\"> -0.113982 </td><td style=\"text-align: right;\"> -0.0556164</td><td style=\"text-align: right;\"> -0.0451116</td><td style=\"text-align: right;\"> -0.00597455</td><td style=\"text-align: right;\"> -0.186629 </td><td style=\"text-align: right;\"> -0.0211866 </td><td style=\"text-align: right;\"> -0.158636 </td><td style=\"text-align: right;\">  0.0657134</td><td style=\"text-align: right;\">  0.186828</td><td style=\"text-align: right;\">  0.0561265 </td><td style=\"text-align: right;\">  0.0667466</td><td style=\"text-align: right;\">  0.300404</td><td style=\"text-align: right;\">  0.0283427</td><td style=\"text-align: right;\">  0.0473695</td><td style=\"text-align: right;\">  0.0469345 </td><td style=\"text-align: right;\">  0.0241677 </td><td style=\"text-align: right;\"> -0.0393244</td><td style=\"text-align: right;\">  0.0810989</td><td style=\"text-align: right;\">  0.00300378</td><td style=\"text-align: right;\">  0.121713 </td><td style=\"text-align: right;\"> -0.0351339</td><td style=\"text-align: right;\"> -0.063187 </td><td style=\"text-align: right;\"> -0.0258348 </td><td style=\"text-align: right;\">  0.0466622</td><td style=\"text-align: right;\">  0.119279   </td><td style=\"text-align: right;\">  0.0428098</td><td style=\"text-align: right;\"> -0.122688 </td><td style=\"text-align: right;\">  0.152696</td><td style=\"text-align: right;\"> -0.0825322 </td><td style=\"text-align: right;\">  0.0018682</td><td style=\"text-align: right;\"> -0.0386345 </td><td style=\"text-align: right;\"> -0.0248463 </td><td style=\"text-align: right;\"> -0.107219 </td><td style=\"text-align: right;\"> -0.0793773 </td><td style=\"text-align: right;\"> -0.00181596</td><td style=\"text-align: right;\"> -0.11146  </td><td style=\"text-align: right;\"> -0.110977 </td><td style=\"text-align: right;\"> -0.0150939</td><td style=\"text-align: right;\">  0.15418  </td><td style=\"text-align: right;\">  0.0623848</td><td style=\"text-align: right;\">  0.0579595</td><td style=\"text-align: right;\">  0.159006 </td><td style=\"text-align: right;\"> -0.137848 </td><td style=\"text-align: right;\"> -0.103462 </td><td style=\"text-align: right;\">  0.0354854</td><td style=\"text-align: right;\"> -0.10136  </td><td style=\"text-align: right;\"> -0.0387062</td><td style=\"text-align: right;\"> -0.073366  </td><td style=\"text-align: right;\"> -0.0359299 </td><td style=\"text-align: right;\"> -0.135912 </td><td style=\"text-align: right;\">  0.0441085 </td><td style=\"text-align: right;\">  0.201908 </td><td style=\"text-align: right;\"> -0.221087</td><td style=\"text-align: right;\">  0.0567038 </td><td style=\"text-align: right;\"> -0.0714564</td><td style=\"text-align: right;\"> -0.0935563  </td><td style=\"text-align: right;\">  0.0177299</td></tr>\n",
       "<tr><td style=\"text-align: right;\">nan         </td><td style=\"text-align: right;\">nan       </td><td style=\"text-align: right;\">nan        </td><td style=\"text-align: right;\">nan        </td><td style=\"text-align: right;\">nan        </td><td style=\"text-align: right;\">nan        </td><td style=\"text-align: right;\">nan        </td><td style=\"text-align: right;\">nan        </td><td style=\"text-align: right;\">nan        </td><td style=\"text-align: right;\">nan        </td><td style=\"text-align: right;\">nan         </td><td style=\"text-align: right;\">nan        </td><td style=\"text-align: right;\">nan         </td><td style=\"text-align: right;\">nan        </td><td style=\"text-align: right;\">nan        </td><td style=\"text-align: right;\">nan        </td><td style=\"text-align: right;\">nan         </td><td style=\"text-align: right;\">nan          </td><td style=\"text-align: right;\">nan         </td><td style=\"text-align: right;\">nan        </td><td style=\"text-align: right;\">nan          </td><td style=\"text-align: right;\">nan        </td><td style=\"text-align: right;\">nan         </td><td style=\"text-align: right;\">nan         </td><td style=\"text-align: right;\">nan        </td><td style=\"text-align: right;\">nan        </td><td style=\"text-align: right;\">nan       </td><td style=\"text-align: right;\">nan        </td><td style=\"text-align: right;\">nan         </td><td style=\"text-align: right;\">nan        </td><td style=\"text-align: right;\">nan        </td><td style=\"text-align: right;\">nan        </td><td style=\"text-align: right;\">nan       </td><td style=\"text-align: right;\">nan         </td><td style=\"text-align: right;\">nan          </td><td style=\"text-align: right;\">nan        </td><td style=\"text-align: right;\">nan         </td><td style=\"text-align: right;\">nan       </td><td style=\"text-align: right;\">nan        </td><td style=\"text-align: right;\">nan         </td><td style=\"text-align: right;\">nan        </td><td style=\"text-align: right;\">nan         </td><td style=\"text-align: right;\">nan        </td><td style=\"text-align: right;\">nan        </td><td style=\"text-align: right;\">nan        </td><td style=\"text-align: right;\">nan        </td><td style=\"text-align: right;\">nan         </td><td style=\"text-align: right;\">nan        </td><td style=\"text-align: right;\">nan         </td><td style=\"text-align: right;\">nan        </td><td style=\"text-align: right;\">nan        </td><td style=\"text-align: right;\">nan       </td><td style=\"text-align: right;\">nan         </td><td style=\"text-align: right;\">nan        </td><td style=\"text-align: right;\">nan       </td><td style=\"text-align: right;\">nan        </td><td style=\"text-align: right;\">nan        </td><td style=\"text-align: right;\">nan         </td><td style=\"text-align: right;\">nan         </td><td style=\"text-align: right;\">nan        </td><td style=\"text-align: right;\">nan        </td><td style=\"text-align: right;\">nan         </td><td style=\"text-align: right;\">nan        </td><td style=\"text-align: right;\">nan        </td><td style=\"text-align: right;\">nan        </td><td style=\"text-align: right;\">nan         </td><td style=\"text-align: right;\">nan        </td><td style=\"text-align: right;\">nan          </td><td style=\"text-align: right;\">nan        </td><td style=\"text-align: right;\">nan        </td><td style=\"text-align: right;\">nan       </td><td style=\"text-align: right;\">nan         </td><td style=\"text-align: right;\">nan        </td><td style=\"text-align: right;\">nan         </td><td style=\"text-align: right;\">nan         </td><td style=\"text-align: right;\">nan        </td><td style=\"text-align: right;\">nan         </td><td style=\"text-align: right;\">nan         </td><td style=\"text-align: right;\">nan        </td><td style=\"text-align: right;\">nan        </td><td style=\"text-align: right;\">nan        </td><td style=\"text-align: right;\">nan        </td><td style=\"text-align: right;\">nan        </td><td style=\"text-align: right;\">nan        </td><td style=\"text-align: right;\">nan        </td><td style=\"text-align: right;\">nan        </td><td style=\"text-align: right;\">nan        </td><td style=\"text-align: right;\">nan        </td><td style=\"text-align: right;\">nan        </td><td style=\"text-align: right;\">nan        </td><td style=\"text-align: right;\">nan         </td><td style=\"text-align: right;\">nan         </td><td style=\"text-align: right;\">nan        </td><td style=\"text-align: right;\">nan         </td><td style=\"text-align: right;\">nan        </td><td style=\"text-align: right;\">nan       </td><td style=\"text-align: right;\">nan         </td><td style=\"text-align: right;\">nan        </td><td style=\"text-align: right;\">nan          </td><td style=\"text-align: right;\">nan        </td></tr>\n",
       "<tr><td style=\"text-align: right;\"> -0.156906  </td><td style=\"text-align: right;\"> -0.309844</td><td style=\"text-align: right;\">  0.0707774</td><td style=\"text-align: right;\"> -0.26208  </td><td style=\"text-align: right;\"> -0.0101614</td><td style=\"text-align: right;\">  0.0814126</td><td style=\"text-align: right;\">  0.163429 </td><td style=\"text-align: right;\">  0.109107 </td><td style=\"text-align: right;\"> -0.0587882</td><td style=\"text-align: right;\">  0.106927 </td><td style=\"text-align: right;\"> -0.0608258 </td><td style=\"text-align: right;\">  0.144341 </td><td style=\"text-align: right;\">  0.0911347 </td><td style=\"text-align: right;\"> -0.0848769</td><td style=\"text-align: right;\"> -0.250078 </td><td style=\"text-align: right;\"> -0.063564 </td><td style=\"text-align: right;\">  0.0178131 </td><td style=\"text-align: right;\"> -0.000557045</td><td style=\"text-align: right;\"> -0.0571395 </td><td style=\"text-align: right;\"> -0.0767115</td><td style=\"text-align: right;\"> -0.00830751 </td><td style=\"text-align: right;\">  0.0161359</td><td style=\"text-align: right;\"> -0.0282732 </td><td style=\"text-align: right;\">  0.0398093 </td><td style=\"text-align: right;\"> -0.0303693</td><td style=\"text-align: right;\"> -0.0599793</td><td style=\"text-align: right;\"> -0.29321 </td><td style=\"text-align: right;\"> -0.0590218</td><td style=\"text-align: right;\"> -0.00801291</td><td style=\"text-align: right;\">  0.0409507</td><td style=\"text-align: right;\"> -0.0819052</td><td style=\"text-align: right;\">  0.115663 </td><td style=\"text-align: right;\"> -0.111824</td><td style=\"text-align: right;\"> -0.0433147 </td><td style=\"text-align: right;\"> -0.0349358  </td><td style=\"text-align: right;\">  0.109148 </td><td style=\"text-align: right;\"> -0.0220894 </td><td style=\"text-align: right;\"> -0.233683</td><td style=\"text-align: right;\">  0.0849643</td><td style=\"text-align: right;\">  0.119454  </td><td style=\"text-align: right;\"> -0.013634 </td><td style=\"text-align: right;\"> -0.0292892 </td><td style=\"text-align: right;\">  0.105649 </td><td style=\"text-align: right;\"> -0.122573 </td><td style=\"text-align: right;\"> -0.02541  </td><td style=\"text-align: right;\"> -0.127681 </td><td style=\"text-align: right;\"> -0.0891773 </td><td style=\"text-align: right;\"> -0.0656652</td><td style=\"text-align: right;\"> -0.0488446 </td><td style=\"text-align: right;\"> -0.0951372</td><td style=\"text-align: right;\"> -0.0109315</td><td style=\"text-align: right;\">  0.105248</td><td style=\"text-align: right;\">  0.00484259</td><td style=\"text-align: right;\">  0.0489804</td><td style=\"text-align: right;\">  0.218857</td><td style=\"text-align: right;\">  0.116777 </td><td style=\"text-align: right;\">  0.13877  </td><td style=\"text-align: right;\">  0.045073  </td><td style=\"text-align: right;\">  0.0730338 </td><td style=\"text-align: right;\"> -0.121298 </td><td style=\"text-align: right;\">  0.0901677</td><td style=\"text-align: right;\"> -0.0496865 </td><td style=\"text-align: right;\">  0.151495 </td><td style=\"text-align: right;\"> -0.161853 </td><td style=\"text-align: right;\"> -0.0565972</td><td style=\"text-align: right;\"> -0.0348895 </td><td style=\"text-align: right;\">  0.113754 </td><td style=\"text-align: right;\">  0.11751    </td><td style=\"text-align: right;\">  0.0258257</td><td style=\"text-align: right;\"> -0.149406 </td><td style=\"text-align: right;\">  0.185045</td><td style=\"text-align: right;\"> -0.0562983 </td><td style=\"text-align: right;\"> -0.131476 </td><td style=\"text-align: right;\"> -0.0312093 </td><td style=\"text-align: right;\"> -0.0165813 </td><td style=\"text-align: right;\"> -0.110901 </td><td style=\"text-align: right;\"> -0.043998  </td><td style=\"text-align: right;\"> -0.0611378 </td><td style=\"text-align: right;\"> -0.0385125</td><td style=\"text-align: right;\"> -0.0581036</td><td style=\"text-align: right;\"> -0.0766229</td><td style=\"text-align: right;\">  0.204845 </td><td style=\"text-align: right;\"> -0.0508468</td><td style=\"text-align: right;\">  0.0686639</td><td style=\"text-align: right;\">  0.213649 </td><td style=\"text-align: right;\"> -0.109125 </td><td style=\"text-align: right;\"> -0.115007 </td><td style=\"text-align: right;\">  0.183448 </td><td style=\"text-align: right;\"> -0.103882 </td><td style=\"text-align: right;\"> -0.0673413</td><td style=\"text-align: right;\"> -0.0938222 </td><td style=\"text-align: right;\"> -0.0293929 </td><td style=\"text-align: right;\"> -0.0944009</td><td style=\"text-align: right;\">  0.00732803</td><td style=\"text-align: right;\">  0.0810202</td><td style=\"text-align: right;\"> -0.156518</td><td style=\"text-align: right;\">  0.141011  </td><td style=\"text-align: right;\"> -0.173256 </td><td style=\"text-align: right;\"> -0.0532413  </td><td style=\"text-align: right;\">  0.102924 </td></tr>\n",
       "<tr><td style=\"text-align: right;\">nan         </td><td style=\"text-align: right;\">nan       </td><td style=\"text-align: right;\">nan        </td><td style=\"text-align: right;\">nan        </td><td style=\"text-align: right;\">nan        </td><td style=\"text-align: right;\">nan        </td><td style=\"text-align: right;\">nan        </td><td style=\"text-align: right;\">nan        </td><td style=\"text-align: right;\">nan        </td><td style=\"text-align: right;\">nan        </td><td style=\"text-align: right;\">nan         </td><td style=\"text-align: right;\">nan        </td><td style=\"text-align: right;\">nan         </td><td style=\"text-align: right;\">nan        </td><td style=\"text-align: right;\">nan        </td><td style=\"text-align: right;\">nan        </td><td style=\"text-align: right;\">nan         </td><td style=\"text-align: right;\">nan          </td><td style=\"text-align: right;\">nan         </td><td style=\"text-align: right;\">nan        </td><td style=\"text-align: right;\">nan          </td><td style=\"text-align: right;\">nan        </td><td style=\"text-align: right;\">nan         </td><td style=\"text-align: right;\">nan         </td><td style=\"text-align: right;\">nan        </td><td style=\"text-align: right;\">nan        </td><td style=\"text-align: right;\">nan       </td><td style=\"text-align: right;\">nan        </td><td style=\"text-align: right;\">nan         </td><td style=\"text-align: right;\">nan        </td><td style=\"text-align: right;\">nan        </td><td style=\"text-align: right;\">nan        </td><td style=\"text-align: right;\">nan       </td><td style=\"text-align: right;\">nan         </td><td style=\"text-align: right;\">nan          </td><td style=\"text-align: right;\">nan        </td><td style=\"text-align: right;\">nan         </td><td style=\"text-align: right;\">nan       </td><td style=\"text-align: right;\">nan        </td><td style=\"text-align: right;\">nan         </td><td style=\"text-align: right;\">nan        </td><td style=\"text-align: right;\">nan         </td><td style=\"text-align: right;\">nan        </td><td style=\"text-align: right;\">nan        </td><td style=\"text-align: right;\">nan        </td><td style=\"text-align: right;\">nan        </td><td style=\"text-align: right;\">nan         </td><td style=\"text-align: right;\">nan        </td><td style=\"text-align: right;\">nan         </td><td style=\"text-align: right;\">nan        </td><td style=\"text-align: right;\">nan        </td><td style=\"text-align: right;\">nan       </td><td style=\"text-align: right;\">nan         </td><td style=\"text-align: right;\">nan        </td><td style=\"text-align: right;\">nan       </td><td style=\"text-align: right;\">nan        </td><td style=\"text-align: right;\">nan        </td><td style=\"text-align: right;\">nan         </td><td style=\"text-align: right;\">nan         </td><td style=\"text-align: right;\">nan        </td><td style=\"text-align: right;\">nan        </td><td style=\"text-align: right;\">nan         </td><td style=\"text-align: right;\">nan        </td><td style=\"text-align: right;\">nan        </td><td style=\"text-align: right;\">nan        </td><td style=\"text-align: right;\">nan         </td><td style=\"text-align: right;\">nan        </td><td style=\"text-align: right;\">nan          </td><td style=\"text-align: right;\">nan        </td><td style=\"text-align: right;\">nan        </td><td style=\"text-align: right;\">nan       </td><td style=\"text-align: right;\">nan         </td><td style=\"text-align: right;\">nan        </td><td style=\"text-align: right;\">nan         </td><td style=\"text-align: right;\">nan         </td><td style=\"text-align: right;\">nan        </td><td style=\"text-align: right;\">nan         </td><td style=\"text-align: right;\">nan         </td><td style=\"text-align: right;\">nan        </td><td style=\"text-align: right;\">nan        </td><td style=\"text-align: right;\">nan        </td><td style=\"text-align: right;\">nan        </td><td style=\"text-align: right;\">nan        </td><td style=\"text-align: right;\">nan        </td><td style=\"text-align: right;\">nan        </td><td style=\"text-align: right;\">nan        </td><td style=\"text-align: right;\">nan        </td><td style=\"text-align: right;\">nan        </td><td style=\"text-align: right;\">nan        </td><td style=\"text-align: right;\">nan        </td><td style=\"text-align: right;\">nan         </td><td style=\"text-align: right;\">nan         </td><td style=\"text-align: right;\">nan        </td><td style=\"text-align: right;\">nan         </td><td style=\"text-align: right;\">nan        </td><td style=\"text-align: right;\">nan       </td><td style=\"text-align: right;\">nan         </td><td style=\"text-align: right;\">nan        </td><td style=\"text-align: right;\">nan          </td><td style=\"text-align: right;\">nan        </td></tr>\n",
       "<tr><td style=\"text-align: right;\"> -0.0587564 </td><td style=\"text-align: right;\"> -0.347772</td><td style=\"text-align: right;\">  0.0278172</td><td style=\"text-align: right;\"> -0.276746 </td><td style=\"text-align: right;\"> -0.0171535</td><td style=\"text-align: right;\">  0.257657 </td><td style=\"text-align: right;\">  0.216522 </td><td style=\"text-align: right;\">  0.106447 </td><td style=\"text-align: right;\"> -0.130893 </td><td style=\"text-align: right;\">  0.182988 </td><td style=\"text-align: right;\"> -0.0607289 </td><td style=\"text-align: right;\"> -0.0219244</td><td style=\"text-align: right;\">  0.00518333</td><td style=\"text-align: right;\"> -0.183313 </td><td style=\"text-align: right;\"> -0.280491 </td><td style=\"text-align: right;\"> -0.115703 </td><td style=\"text-align: right;\">  0.100635  </td><td style=\"text-align: right;\">  0.11187    </td><td style=\"text-align: right;\">  0.0720728 </td><td style=\"text-align: right;\">  0.059803 </td><td style=\"text-align: right;\">  0.0405301  </td><td style=\"text-align: right;\"> -0.0365439</td><td style=\"text-align: right;\">  0.0750252 </td><td style=\"text-align: right;\">  0.026652  </td><td style=\"text-align: right;\"> -0.0888063</td><td style=\"text-align: right;\"> -0.118379 </td><td style=\"text-align: right;\"> -0.344584</td><td style=\"text-align: right;\">  0.0392183</td><td style=\"text-align: right;\">  0.0441645 </td><td style=\"text-align: right;\">  0.121733 </td><td style=\"text-align: right;\"> -0.118395 </td><td style=\"text-align: right;\">  0.0846368</td><td style=\"text-align: right;\"> -0.214491</td><td style=\"text-align: right;\"> -0.185964  </td><td style=\"text-align: right;\"> -0.044424   </td><td style=\"text-align: right;\">  0.204656 </td><td style=\"text-align: right;\"> -0.137581  </td><td style=\"text-align: right;\"> -0.182001</td><td style=\"text-align: right;\">  0.153971 </td><td style=\"text-align: right;\">  0.315672  </td><td style=\"text-align: right;\">  0.0420034</td><td style=\"text-align: right;\"> -0.00535937</td><td style=\"text-align: right;\">  0.161857 </td><td style=\"text-align: right;\"> -0.0761196</td><td style=\"text-align: right;\">  0.0984551</td><td style=\"text-align: right;\">  0.0374898</td><td style=\"text-align: right;\">  0.00698874</td><td style=\"text-align: right;\"> -0.121699 </td><td style=\"text-align: right;\"> -0.200227  </td><td style=\"text-align: right;\"> -0.144493 </td><td style=\"text-align: right;\"> -0.0131954</td><td style=\"text-align: right;\">  0.26777 </td><td style=\"text-align: right;\"> -0.0425521 </td><td style=\"text-align: right;\">  0.12283  </td><td style=\"text-align: right;\">  0.147979</td><td style=\"text-align: right;\"> -0.0140917</td><td style=\"text-align: right;\">  0.111634 </td><td style=\"text-align: right;\"> -0.0171811 </td><td style=\"text-align: right;\">  0.0492246 </td><td style=\"text-align: right;\"> -0.169273 </td><td style=\"text-align: right;\">  0.161945 </td><td style=\"text-align: right;\"> -0.078339  </td><td style=\"text-align: right;\">  0.345256 </td><td style=\"text-align: right;\"> -0.0704261</td><td style=\"text-align: right;\"> -0.0271261</td><td style=\"text-align: right;\"> -0.0231751 </td><td style=\"text-align: right;\"> -0.0687445</td><td style=\"text-align: right;\"> -0.000874938</td><td style=\"text-align: right;\"> -0.0668496</td><td style=\"text-align: right;\"> -0.24701  </td><td style=\"text-align: right;\">  0.130015</td><td style=\"text-align: right;\"> -0.169705  </td><td style=\"text-align: right;\"> -0.0614858</td><td style=\"text-align: right;\"> -0.0591619 </td><td style=\"text-align: right;\"> -0.123595  </td><td style=\"text-align: right;\">  0.0552749</td><td style=\"text-align: right;\"> -0.0794253 </td><td style=\"text-align: right;\"> -0.11482   </td><td style=\"text-align: right;\"> -0.0570593</td><td style=\"text-align: right;\"> -0.0539766</td><td style=\"text-align: right;\"> -0.0895308</td><td style=\"text-align: right;\">  0.157041 </td><td style=\"text-align: right;\">  0.0326386</td><td style=\"text-align: right;\">  0.0573216</td><td style=\"text-align: right;\">  0.208779 </td><td style=\"text-align: right;\"> -0.0358734</td><td style=\"text-align: right;\"> -0.24527  </td><td style=\"text-align: right;\">  0.0963532</td><td style=\"text-align: right;\"> -0.0111799</td><td style=\"text-align: right;\"> -0.091174 </td><td style=\"text-align: right;\"> -0.129303  </td><td style=\"text-align: right;\"> -0.127452  </td><td style=\"text-align: right;\"> -0.0385931</td><td style=\"text-align: right;\"> -0.0683591 </td><td style=\"text-align: right;\">  0.287539 </td><td style=\"text-align: right;\"> -0.119923</td><td style=\"text-align: right;\">  0.00655688</td><td style=\"text-align: right;\"> -0.209723 </td><td style=\"text-align: right;\"> -0.0931422  </td><td style=\"text-align: right;\">  0.0150101</td></tr>\n",
       "<tr><td style=\"text-align: right;\"> -0.00160979</td><td style=\"text-align: right;\"> -0.261757</td><td style=\"text-align: right;\">  0.0354293</td><td style=\"text-align: right;\"> -0.0558406</td><td style=\"text-align: right;\"> -0.0286244</td><td style=\"text-align: right;\">  0.197986 </td><td style=\"text-align: right;\">  0.0724596</td><td style=\"text-align: right;\">  0.0881259</td><td style=\"text-align: right;\"> -0.132211 </td><td style=\"text-align: right;\">  0.0884224</td><td style=\"text-align: right;\">  0.0273253 </td><td style=\"text-align: right;\">  0.0472231</td><td style=\"text-align: right;\">  0.132969  </td><td style=\"text-align: right;\"> -0.156162 </td><td style=\"text-align: right;\"> -0.131305 </td><td style=\"text-align: right;\"> -0.0509535</td><td style=\"text-align: right;\"> -0.0315414 </td><td style=\"text-align: right;\"> -0.00553793 </td><td style=\"text-align: right;\">  0.0062778 </td><td style=\"text-align: right;\">  0.021639 </td><td style=\"text-align: right;\">  0.0501085  </td><td style=\"text-align: right;\">  0.0338637</td><td style=\"text-align: right;\">  0.00274286</td><td style=\"text-align: right;\">  0.0642395 </td><td style=\"text-align: right;\"> -0.0403082</td><td style=\"text-align: right;\"> -0.0674588</td><td style=\"text-align: right;\"> -0.338022</td><td style=\"text-align: right;\"> -0.090662 </td><td style=\"text-align: right;\">  0.0263937 </td><td style=\"text-align: right;\">  0.0260419</td><td style=\"text-align: right;\"> -0.0772884</td><td style=\"text-align: right;\">  0.193006 </td><td style=\"text-align: right;\"> -0.161742</td><td style=\"text-align: right;\"> -0.0194794 </td><td style=\"text-align: right;\"> -0.0586656  </td><td style=\"text-align: right;\">  0.136122 </td><td style=\"text-align: right;\">  0.0119752 </td><td style=\"text-align: right;\"> -0.14077 </td><td style=\"text-align: right;\">  0.102219 </td><td style=\"text-align: right;\">  0.0894912 </td><td style=\"text-align: right;\">  0.0910743</td><td style=\"text-align: right;\"> -0.0286704 </td><td style=\"text-align: right;\">  0.0711409</td><td style=\"text-align: right;\"> -0.0528916</td><td style=\"text-align: right;\"> -0.0643613</td><td style=\"text-align: right;\"> -0.141131 </td><td style=\"text-align: right;\">  0.0546331 </td><td style=\"text-align: right;\"> -0.0189568</td><td style=\"text-align: right;\"> -0.00786135</td><td style=\"text-align: right;\"> -0.133759 </td><td style=\"text-align: right;\">  0.0601195</td><td style=\"text-align: right;\">  0.194616</td><td style=\"text-align: right;\"> -0.00658462</td><td style=\"text-align: right;\">  0.0354641</td><td style=\"text-align: right;\">  0.215353</td><td style=\"text-align: right;\">  0.153906 </td><td style=\"text-align: right;\"> -0.0710396</td><td style=\"text-align: right;\"> -0.0444651 </td><td style=\"text-align: right;\">  0.00048887</td><td style=\"text-align: right;\"> -0.0272792</td><td style=\"text-align: right;\">  0.149328 </td><td style=\"text-align: right;\"> -0.0128249 </td><td style=\"text-align: right;\">  0.123724 </td><td style=\"text-align: right;\"> -0.0269667</td><td style=\"text-align: right;\"> -0.121713 </td><td style=\"text-align: right;\"> -0.0452857 </td><td style=\"text-align: right;\"> -0.0404181</td><td style=\"text-align: right;\"> -0.00732709 </td><td style=\"text-align: right;\">  0.0972152</td><td style=\"text-align: right;\"> -0.0108874</td><td style=\"text-align: right;\">  0.263852</td><td style=\"text-align: right;\"> -0.0386611 </td><td style=\"text-align: right;\"> -0.107176 </td><td style=\"text-align: right;\">  0.00627612</td><td style=\"text-align: right;\">  0.031614  </td><td style=\"text-align: right;\"> -0.107115 </td><td style=\"text-align: right;\">  0.00629937</td><td style=\"text-align: right;\">  0.0319488 </td><td style=\"text-align: right;\">  0.0141815</td><td style=\"text-align: right;\"> -0.0642521</td><td style=\"text-align: right;\"> -0.131111 </td><td style=\"text-align: right;\">  0.0551733</td><td style=\"text-align: right;\">  0.05261  </td><td style=\"text-align: right;\">  0.121616 </td><td style=\"text-align: right;\">  0.115929 </td><td style=\"text-align: right;\"> -0.0944155</td><td style=\"text-align: right;\"> -0.0265097</td><td style=\"text-align: right;\">  0.0680871</td><td style=\"text-align: right;\"> -0.125559 </td><td style=\"text-align: right;\"> -0.0455295</td><td style=\"text-align: right;\"> -0.212081  </td><td style=\"text-align: right;\"> -0.0822826 </td><td style=\"text-align: right;\"> -0.160183 </td><td style=\"text-align: right;\">  0.00133624</td><td style=\"text-align: right;\">  0.16897  </td><td style=\"text-align: right;\"> -0.192702</td><td style=\"text-align: right;\">  0.0587252 </td><td style=\"text-align: right;\"> -0.0383082</td><td style=\"text-align: right;\">  0.0295724  </td><td style=\"text-align: right;\">  0.102007 </td></tr>\n",
       "<tr><td style=\"text-align: right;\"> -0.0804148 </td><td style=\"text-align: right;\"> -0.29577 </td><td style=\"text-align: right;\">  0.0759042</td><td style=\"text-align: right;\"> -0.209711 </td><td style=\"text-align: right;\"> -0.04261  </td><td style=\"text-align: right;\">  0.162508 </td><td style=\"text-align: right;\">  0.0653562</td><td style=\"text-align: right;\">  0.0366877</td><td style=\"text-align: right;\"> -0.110783 </td><td style=\"text-align: right;\">  0.104999 </td><td style=\"text-align: right;\"> -0.0164198 </td><td style=\"text-align: right;\">  0.142468 </td><td style=\"text-align: right;\">  0.0244827 </td><td style=\"text-align: right;\"> -0.044842 </td><td style=\"text-align: right;\"> -0.0471552</td><td style=\"text-align: right;\"> -0.048927 </td><td style=\"text-align: right;\">  0.115637  </td><td style=\"text-align: right;\">  0.0488799  </td><td style=\"text-align: right;\"> -0.0602321 </td><td style=\"text-align: right;\"> -0.0704644</td><td style=\"text-align: right;\">  0.000288035</td><td style=\"text-align: right;\">  0.0556337</td><td style=\"text-align: right;\"> -0.00822585</td><td style=\"text-align: right;\">  0.0959443 </td><td style=\"text-align: right;\"> -0.0111491</td><td style=\"text-align: right;\">  0.0198756</td><td style=\"text-align: right;\"> -0.378995</td><td style=\"text-align: right;\"> -0.0261387</td><td style=\"text-align: right;\">  0.111727  </td><td style=\"text-align: right;\">  0.0019933</td><td style=\"text-align: right;\"> -0.0932726</td><td style=\"text-align: right;\">  0.151157 </td><td style=\"text-align: right;\"> -0.176316</td><td style=\"text-align: right;\"> -0.064691  </td><td style=\"text-align: right;\"> -0.0505853  </td><td style=\"text-align: right;\">  0.12137  </td><td style=\"text-align: right;\"> -0.0460431 </td><td style=\"text-align: right;\"> -0.207471</td><td style=\"text-align: right;\">  0.133418 </td><td style=\"text-align: right;\">  0.19258   </td><td style=\"text-align: right;\">  0.0251492</td><td style=\"text-align: right;\">  0.0164852 </td><td style=\"text-align: right;\">  0.118232 </td><td style=\"text-align: right;\"> -0.0624598</td><td style=\"text-align: right;\"> -0.0232136</td><td style=\"text-align: right;\"> -0.113567 </td><td style=\"text-align: right;\">  0.0508704 </td><td style=\"text-align: right;\"> -0.167244 </td><td style=\"text-align: right;\"> -0.089732  </td><td style=\"text-align: right;\"> -0.152571 </td><td style=\"text-align: right;\">  0.0817865</td><td style=\"text-align: right;\">  0.210176</td><td style=\"text-align: right;\"> -0.0450795 </td><td style=\"text-align: right;\">  0.124305 </td><td style=\"text-align: right;\">  0.279157</td><td style=\"text-align: right;\">  0.0842585</td><td style=\"text-align: right;\">  0.0540701</td><td style=\"text-align: right;\">  0.00481241</td><td style=\"text-align: right;\">  0.0163129 </td><td style=\"text-align: right;\"> -0.0070923</td><td style=\"text-align: right;\">  0.134907 </td><td style=\"text-align: right;\"> -0.0205995 </td><td style=\"text-align: right;\">  0.0968141</td><td style=\"text-align: right;\"> -0.0673427</td><td style=\"text-align: right;\"> -0.0343874</td><td style=\"text-align: right;\">  0.0302252 </td><td style=\"text-align: right;\"> -0.0192097</td><td style=\"text-align: right;\">  0.0433351  </td><td style=\"text-align: right;\">  0.0286352</td><td style=\"text-align: right;\"> -0.10161  </td><td style=\"text-align: right;\">  0.135474</td><td style=\"text-align: right;\"> -0.0602342 </td><td style=\"text-align: right;\"> -0.0677393</td><td style=\"text-align: right;\">  0.025766  </td><td style=\"text-align: right;\"> -0.0571481 </td><td style=\"text-align: right;\"> -0.0775547</td><td style=\"text-align: right;\"> -0.0329467 </td><td style=\"text-align: right;\">  0.00357985</td><td style=\"text-align: right;\"> -0.0770769</td><td style=\"text-align: right;\"> -0.0414337</td><td style=\"text-align: right;\"> -0.0487918</td><td style=\"text-align: right;\">  0.112647 </td><td style=\"text-align: right;\">  0.0614049</td><td style=\"text-align: right;\">  0.0883786</td><td style=\"text-align: right;\">  0.139467 </td><td style=\"text-align: right;\"> -0.11377  </td><td style=\"text-align: right;\"> -0.11449  </td><td style=\"text-align: right;\">  0.0915669</td><td style=\"text-align: right;\"> -0.105276 </td><td style=\"text-align: right;\"> -0.0509495</td><td style=\"text-align: right;\"> -0.114526  </td><td style=\"text-align: right;\"> -0.0465607 </td><td style=\"text-align: right;\"> -0.0658198</td><td style=\"text-align: right;\"> -0.0396055 </td><td style=\"text-align: right;\">  0.141543 </td><td style=\"text-align: right;\"> -0.183749</td><td style=\"text-align: right;\">  0.0363431 </td><td style=\"text-align: right;\"> -0.108312 </td><td style=\"text-align: right;\"> -0.0456469  </td><td style=\"text-align: right;\">  0.039896 </td></tr>\n",
       "<tr><td style=\"text-align: right;\"> -0.0493473 </td><td style=\"text-align: right;\"> -0.190292</td><td style=\"text-align: right;\">  0.051856 </td><td style=\"text-align: right;\"> -0.0780241</td><td style=\"text-align: right;\">  0.074858 </td><td style=\"text-align: right;\">  0.168928 </td><td style=\"text-align: right;\">  0.0314627</td><td style=\"text-align: right;\"> -0.0096113</td><td style=\"text-align: right;\"> -0.0919011</td><td style=\"text-align: right;\">  0.0424718</td><td style=\"text-align: right;\"> -0.00555601</td><td style=\"text-align: right;\">  0.0834624</td><td style=\"text-align: right;\">  0.169787  </td><td style=\"text-align: right;\">  0.034135 </td><td style=\"text-align: right;\"> -0.0565272</td><td style=\"text-align: right;\"> -0.0383031</td><td style=\"text-align: right;\">  0.0633765 </td><td style=\"text-align: right;\">  0.0409267  </td><td style=\"text-align: right;\"> -0.0928223 </td><td style=\"text-align: right;\"> -0.0878927</td><td style=\"text-align: right;\">  0.0175697  </td><td style=\"text-align: right;\">  0.027574 </td><td style=\"text-align: right;\"> -0.0750681 </td><td style=\"text-align: right;\">  0.00202377</td><td style=\"text-align: right;\"> -0.0535386</td><td style=\"text-align: right;\"> -0.0275694</td><td style=\"text-align: right;\"> -0.301136</td><td style=\"text-align: right;\"> -0.0644769</td><td style=\"text-align: right;\">  0.120782  </td><td style=\"text-align: right;\"> -0.0546243</td><td style=\"text-align: right;\"> -0.0542868</td><td style=\"text-align: right;\">  0.0159261</td><td style=\"text-align: right;\"> -0.129464</td><td style=\"text-align: right;\">  0.00113492</td><td style=\"text-align: right;\"> -0.035435   </td><td style=\"text-align: right;\">  0.146049 </td><td style=\"text-align: right;\"> -0.00531334</td><td style=\"text-align: right;\"> -0.300705</td><td style=\"text-align: right;\">  0.113097 </td><td style=\"text-align: right;\">  0.139945  </td><td style=\"text-align: right;\">  0.0384822</td><td style=\"text-align: right;\"> -0.0571221 </td><td style=\"text-align: right;\"> -0.0376952</td><td style=\"text-align: right;\"> -0.100442 </td><td style=\"text-align: right;\">  0.0153894</td><td style=\"text-align: right;\"> -0.171846 </td><td style=\"text-align: right;\">  0.0215707 </td><td style=\"text-align: right;\"> -0.193827 </td><td style=\"text-align: right;\"> -0.0738294 </td><td style=\"text-align: right;\"> -0.119133 </td><td style=\"text-align: right;\">  0.0709673</td><td style=\"text-align: right;\">  0.149691</td><td style=\"text-align: right;\"> -0.0916988 </td><td style=\"text-align: right;\">  0.0314131</td><td style=\"text-align: right;\">  0.244808</td><td style=\"text-align: right;\">  0.0307487</td><td style=\"text-align: right;\">  0.0246011</td><td style=\"text-align: right;\">  0.0838594 </td><td style=\"text-align: right;\">  0.0736561 </td><td style=\"text-align: right;\"> -0.0932434</td><td style=\"text-align: right;\">  0.09076  </td><td style=\"text-align: right;\">  0.0854839 </td><td style=\"text-align: right;\">  0.143843 </td><td style=\"text-align: right;\"> -0.0632628</td><td style=\"text-align: right;\"> -0.0793556</td><td style=\"text-align: right;\"> -0.00794894</td><td style=\"text-align: right;\">  0.0275922</td><td style=\"text-align: right;\">  0.0422217  </td><td style=\"text-align: right;\">  0.0179543</td><td style=\"text-align: right;\"> -0.0431927</td><td style=\"text-align: right;\">  0.143842</td><td style=\"text-align: right;\"> -0.00457006</td><td style=\"text-align: right;\"> -0.160779 </td><td style=\"text-align: right;\">  0.041083  </td><td style=\"text-align: right;\"> -0.0456254 </td><td style=\"text-align: right;\"> -0.201904 </td><td style=\"text-align: right;\">  0.0227261 </td><td style=\"text-align: right;\"> -0.0104121 </td><td style=\"text-align: right;\"> -0.070475 </td><td style=\"text-align: right;\"> -0.159956 </td><td style=\"text-align: right;\"> -0.103924 </td><td style=\"text-align: right;\">  0.17437  </td><td style=\"text-align: right;\">  0.19957  </td><td style=\"text-align: right;\">  0.188569 </td><td style=\"text-align: right;\">  0.297137 </td><td style=\"text-align: right;\"> -0.217995 </td><td style=\"text-align: right;\"> -0.0812366</td><td style=\"text-align: right;\">  0.175974 </td><td style=\"text-align: right;\"> -0.10201  </td><td style=\"text-align: right;\"> -0.218108 </td><td style=\"text-align: right;\"> -0.113323  </td><td style=\"text-align: right;\"> -0.00971345</td><td style=\"text-align: right;\"> -0.0778505</td><td style=\"text-align: right;\">  0.0301665 </td><td style=\"text-align: right;\">  0.0411377</td><td style=\"text-align: right;\"> -0.235325</td><td style=\"text-align: right;\">  0.0580109 </td><td style=\"text-align: right;\"> -0.0617678</td><td style=\"text-align: right;\"> -0.0781786  </td><td style=\"text-align: right;\">  0.0164541</td></tr>\n",
       "<tr><td style=\"text-align: right;\">nan         </td><td style=\"text-align: right;\">nan       </td><td style=\"text-align: right;\">nan        </td><td style=\"text-align: right;\">nan        </td><td style=\"text-align: right;\">nan        </td><td style=\"text-align: right;\">nan        </td><td style=\"text-align: right;\">nan        </td><td style=\"text-align: right;\">nan        </td><td style=\"text-align: right;\">nan        </td><td style=\"text-align: right;\">nan        </td><td style=\"text-align: right;\">nan         </td><td style=\"text-align: right;\">nan        </td><td style=\"text-align: right;\">nan         </td><td style=\"text-align: right;\">nan        </td><td style=\"text-align: right;\">nan        </td><td style=\"text-align: right;\">nan        </td><td style=\"text-align: right;\">nan         </td><td style=\"text-align: right;\">nan          </td><td style=\"text-align: right;\">nan         </td><td style=\"text-align: right;\">nan        </td><td style=\"text-align: right;\">nan          </td><td style=\"text-align: right;\">nan        </td><td style=\"text-align: right;\">nan         </td><td style=\"text-align: right;\">nan         </td><td style=\"text-align: right;\">nan        </td><td style=\"text-align: right;\">nan        </td><td style=\"text-align: right;\">nan       </td><td style=\"text-align: right;\">nan        </td><td style=\"text-align: right;\">nan         </td><td style=\"text-align: right;\">nan        </td><td style=\"text-align: right;\">nan        </td><td style=\"text-align: right;\">nan        </td><td style=\"text-align: right;\">nan       </td><td style=\"text-align: right;\">nan         </td><td style=\"text-align: right;\">nan          </td><td style=\"text-align: right;\">nan        </td><td style=\"text-align: right;\">nan         </td><td style=\"text-align: right;\">nan       </td><td style=\"text-align: right;\">nan        </td><td style=\"text-align: right;\">nan         </td><td style=\"text-align: right;\">nan        </td><td style=\"text-align: right;\">nan         </td><td style=\"text-align: right;\">nan        </td><td style=\"text-align: right;\">nan        </td><td style=\"text-align: right;\">nan        </td><td style=\"text-align: right;\">nan        </td><td style=\"text-align: right;\">nan         </td><td style=\"text-align: right;\">nan        </td><td style=\"text-align: right;\">nan         </td><td style=\"text-align: right;\">nan        </td><td style=\"text-align: right;\">nan        </td><td style=\"text-align: right;\">nan       </td><td style=\"text-align: right;\">nan         </td><td style=\"text-align: right;\">nan        </td><td style=\"text-align: right;\">nan       </td><td style=\"text-align: right;\">nan        </td><td style=\"text-align: right;\">nan        </td><td style=\"text-align: right;\">nan         </td><td style=\"text-align: right;\">nan         </td><td style=\"text-align: right;\">nan        </td><td style=\"text-align: right;\">nan        </td><td style=\"text-align: right;\">nan         </td><td style=\"text-align: right;\">nan        </td><td style=\"text-align: right;\">nan        </td><td style=\"text-align: right;\">nan        </td><td style=\"text-align: right;\">nan         </td><td style=\"text-align: right;\">nan        </td><td style=\"text-align: right;\">nan          </td><td style=\"text-align: right;\">nan        </td><td style=\"text-align: right;\">nan        </td><td style=\"text-align: right;\">nan       </td><td style=\"text-align: right;\">nan         </td><td style=\"text-align: right;\">nan        </td><td style=\"text-align: right;\">nan         </td><td style=\"text-align: right;\">nan         </td><td style=\"text-align: right;\">nan        </td><td style=\"text-align: right;\">nan         </td><td style=\"text-align: right;\">nan         </td><td style=\"text-align: right;\">nan        </td><td style=\"text-align: right;\">nan        </td><td style=\"text-align: right;\">nan        </td><td style=\"text-align: right;\">nan        </td><td style=\"text-align: right;\">nan        </td><td style=\"text-align: right;\">nan        </td><td style=\"text-align: right;\">nan        </td><td style=\"text-align: right;\">nan        </td><td style=\"text-align: right;\">nan        </td><td style=\"text-align: right;\">nan        </td><td style=\"text-align: right;\">nan        </td><td style=\"text-align: right;\">nan        </td><td style=\"text-align: right;\">nan         </td><td style=\"text-align: right;\">nan         </td><td style=\"text-align: right;\">nan        </td><td style=\"text-align: right;\">nan         </td><td style=\"text-align: right;\">nan        </td><td style=\"text-align: right;\">nan       </td><td style=\"text-align: right;\">nan         </td><td style=\"text-align: right;\">nan        </td><td style=\"text-align: right;\">nan          </td><td style=\"text-align: right;\">nan        </td></tr>\n",
       "</tbody>\n",
       "</table>"
      ]
     },
     "metadata": {},
     "output_type": "display_data"
    },
    {
     "data": {
      "text/plain": []
     },
     "execution_count": 10,
     "metadata": {},
     "output_type": "execute_result"
    }
   ],
   "source": [
    "desc_vecs = w2v_model.transform(words, aggregate_method=\"AVERAGE\")\n",
    "desc_vecs.head()"
   ]
  },
  {
   "cell_type": "markdown",
   "metadata": {},
   "source": [
    "Finally, we add the aggregated word embeddings from the Word2Vec model to the loans data"
   ]
  },
  {
   "cell_type": "code",
   "execution_count": 11,
   "metadata": {},
   "outputs": [],
   "source": [
    "loans_w2v = loans\n",
    "loans_w2v = loans_w2v.cbind(desc_vecs)"
   ]
  },
  {
   "cell_type": "markdown",
   "metadata": {},
   "source": [
    "# Step 4 (of ?). Model training\n",
    "\n",
    "Now that we have cleaned our data and added new columns, we train a model to predict bad loans. First split our loans data into train and test."
   ]
  },
  {
   "cell_type": "code",
   "execution_count": 12,
   "metadata": {},
   "outputs": [],
   "source": [
    "train, test = loans.split_frame(seed=25, ratios=[0.75])\n",
    "train_w2v, test_w2v = loans_w2v.split_frame(seed=25, ratios=[0.75])"
   ]
  },
  {
   "cell_type": "markdown",
   "metadata": {},
   "source": [
    "Next create a list of predictors as a subset of the columns of the `loans` H2O Frame"
   ]
  },
  {
   "cell_type": "code",
   "execution_count": null,
   "metadata": {},
   "outputs": [],
   "source": [
    "cols_to_remove = [\"initial_list_status\",\n",
    "                  \"out_prncp\",\n",
    "                  \"out_prncp_inv\",\n",
    "                  \"total_pymnt\",\n",
    "                  \"total_pymnt_inv\",\n",
    "                  \"total_rec_prncp\", \n",
    "                  \"total_rec_int\",\n",
    "                  \"total_rec_late_fee\",\n",
    "                  \"recoveries\",\n",
    "                  \"issue_d\",\n",
    "                  \"collection_recovery_fee\",\n",
    "                  \"last_pymnt_d\", \n",
    "                  \"last_pymnt_amnt\",\n",
    "                  \"next_pymnt_d\",\n",
    "                  \"last_credit_pull_d\",\n",
    "                  \"collections_12_mths_ex_med\" , \n",
    "                  \"mths_since_last_major_derog\",\n",
    "                  \"policy_code\",\n",
    "                  \"loan_status\",\n",
    "                  \"funded_amnt\",\n",
    "                  \"funded_amnt_inv\",\n",
    "                  \"mths_since_last_delinq\",\n",
    "                  \"mths_since_last_record\",\n",
    "                  \"id\",\n",
    "                  \"member_id\",\n",
    "                  \"desc\",\n",
    "                  \"zip_code\"]\n",
    "\n",
    "predictors = list(set(loans.col_names) - set(cols_to_remove))"
   ]
  },
  {
   "cell_type": "code",
   "execution_count": null,
   "metadata": {},
   "outputs": [],
   "source": [
    "predictors"
   ]
  },
  {
   "cell_type": "markdown",
   "metadata": {},
   "source": [
    "Now create an XGBoost model for predicting loan default. This model is being run with almost all of the model-tuning values at their defaults. Later we may want to optimize the hyperparameters using a grid search. "
   ]
  },
  {
   "cell_type": "code",
   "execution_count": null,
   "metadata": {},
   "outputs": [],
   "source": [
    "from h2o.estimators import H2OXGBoostEstimator\n",
    "\n",
    "param = {\n",
    "      \"ntrees\" : 20\n",
    "    , \"nfolds\" : 5\n",
    "    , \"seed\": 25\n",
    "}\n",
    "xgboost_model = H2OXGBoostEstimator(**param)\n",
    "xgboost_model.train(x = predictors,\n",
    "                    y = \"bad_loan\",\n",
    "                    training_frame=train_w2v,\n",
    "                    validation_frame=test_w2v)"
   ]
  },
  {
   "cell_type": "markdown",
   "metadata": {},
   "source": [
    "# Step 5 (of ?).  Examine model accuracy\n",
    "\n",
    "The plot below shows the performance of the model as more trees are built.  This graph can help us see at what point our model begins overfitting.  Our test data error rate stops improving at around 8-10 trees."
   ]
  },
  {
   "cell_type": "code",
   "execution_count": null,
   "metadata": {},
   "outputs": [],
   "source": [
    "%matplotlib inline\n",
    "xgboost_model.plot()"
   ]
  },
  {
   "cell_type": "markdown",
   "metadata": {},
   "source": [
    "The ROC curve of the training and testing data are shown below.  The area under the ROC curve is much higher for the training data than the test data, indicating that the model is beginning to memorize the training data."
   ]
  },
  {
   "cell_type": "code",
   "execution_count": null,
   "metadata": {},
   "outputs": [],
   "source": [
    "print(\"Training Data\")\n",
    "xgboost_model.model_performance(train = True).plot()\n",
    "print(\"Testing Data\")\n",
    "xgboost_model.model_performance(valid = True).plot()\n",
    "print(\"X-Val\")\n",
    "xgboost_model.model_performance(xval=True).plot()"
   ]
  },
  {
   "cell_type": "markdown",
   "metadata": {},
   "source": [
    "# Step 6 (of ?). Interpret model\n",
    "\n",
    "The variable importance plot shows us which variables are most important to predicting `bad_loan`.  We can use partial dependency plots to learn more about how these variables affect the prediction."
   ]
  },
  {
   "cell_type": "code",
   "execution_count": null,
   "metadata": {},
   "outputs": [],
   "source": [
    "xgboost_model.varimp_plot(20)"
   ]
  },
  {
   "cell_type": "markdown",
   "metadata": {},
   "source": [
    "As suspected, interest rate appears to be the most important feature in predicting loan default. The partial dependency plot of the `int_rate` predictor shows us that as the interest rate increases, the likelihood of the loan defaulting also increases."
   ]
  },
  {
   "cell_type": "code",
   "execution_count": null,
   "metadata": {
    "scrolled": false
   },
   "outputs": [],
   "source": [
    "pdp = xgboost_model.partial_plot(cols=[\"int_rate\"], data=train)"
   ]
  },
  {
   "cell_type": "markdown",
   "metadata": {},
   "source": [
    "# Step 8 (of 10). Save and reuse model\n",
    "\n",
    "The model can either be embedded into a self-contained Java MOJO package\n",
    "or it can be saved and later loaded directly into an H2O-3 cluster. For production\n",
    "use, we recommend using MOJO as it is optimized for speed. See the [guide](http://docs.h2o.ai/h2o/latest-stable/h2o-docs/productionizing.html) for further information.\n",
    "\n",
    "### Downloading MOJO"
   ]
  },
  {
   "cell_type": "code",
   "execution_count": null,
   "metadata": {},
   "outputs": [],
   "source": [
    "xgboost_model.download_mojo()"
   ]
  },
  {
   "cell_type": "markdown",
   "metadata": {},
   "source": [
    "### Save and reuse the model \n",
    "\n",
    "We can save the model to disk for later use."
   ]
  },
  {
   "cell_type": "code",
   "execution_count": null,
   "metadata": {},
   "outputs": [],
   "source": [
    "model_path = h2o.save_model(model=xgboost_model, force=True)\n",
    "print(model_path)"
   ]
  },
  {
   "cell_type": "markdown",
   "metadata": {},
   "source": [
    "After the H2O cluster shuts down, all unsaved data and models are lost. At some future date, we can load the model for batch scoring in the H2O cluster."
   ]
  },
  {
   "cell_type": "code",
   "execution_count": null,
   "metadata": {},
   "outputs": [],
   "source": [
    "loaded_model = h2o.load_model(path=model_path)"
   ]
  },
  {
   "cell_type": "markdown",
   "metadata": {},
   "source": [
    "Using that model, we can also score new data with the predict function:"
   ]
  },
  {
   "cell_type": "code",
   "execution_count": null,
   "metadata": {
    "scrolled": true
   },
   "outputs": [],
   "source": [
    "bad_loan_hat = loaded_model.predict(test)\n",
    "bad_loan_hat.head(15)"
   ]
  },
  {
   "cell_type": "markdown",
   "metadata": {},
   "source": [
    "# Step 9 (of 10). AutoML (optional)\n",
    "\n",
    "AutoML can be used for automating the machine learning workflow, which includes automatic training and tuning of many models within a user-specified time-limit or user specified model build limit. \n",
    "\n",
    "Stacked Ensembles will be automatically trained on collections of individual models to produce highly predictive ensemble models."
   ]
  },
  {
   "cell_type": "code",
   "execution_count": null,
   "metadata": {},
   "outputs": [],
   "source": [
    "from h2o.automl import H2OAutoML\n",
    "\n",
    "aml = H2OAutoML(max_models=5, \n",
    "                max_runtime_secs_per_model=60, \n",
    "                include_algos = [\"GLM\", \"DRF\", \"XGBoost\", \"StackedEnsemble\"],\n",
    "                seed=25)\n",
    "aml.train(x=predictors, y='bad_loan', training_frame=train)"
   ]
  },
  {
   "cell_type": "markdown",
   "metadata": {},
   "source": [
    "_While the AutoML job is running, you can open H2O Flow and monitor the model building process._\n",
    "\n",
    "Once complete, the leaderboard contains the performance metrics of the models generated by AutoML:"
   ]
  },
  {
   "cell_type": "code",
   "execution_count": null,
   "metadata": {
    "scrolled": false
   },
   "outputs": [],
   "source": [
    "aml.leaderboard"
   ]
  },
  {
   "cell_type": "markdown",
   "metadata": {},
   "source": [
    "Since we provided only the training H2O Frame during training, the models are sorted by their cross-validated performance metrics (AUC by default for classification). We can evaluate the best model (`leader`) on the test data:"
   ]
  },
  {
   "cell_type": "code",
   "execution_count": null,
   "metadata": {},
   "outputs": [],
   "source": [
    "aml.leader.model_performance(test_data=test).plot()\n",
    "aml.leader.model_performance(test_data=test)"
   ]
  },
  {
   "cell_type": "markdown",
   "metadata": {},
   "source": [
    "Another convenient use of H2O Flow is to explore the various models built by AutoML."
   ]
  },
  {
   "cell_type": "markdown",
   "metadata": {},
   "source": [
    "# Step 10 (of 10). Stop H2O-3 cluster"
   ]
  },
  {
   "cell_type": "code",
   "execution_count": null,
   "metadata": {},
   "outputs": [],
   "source": [
    "h2o.cluster().shutdown()"
   ]
  },
  {
   "cell_type": "markdown",
   "metadata": {},
   "source": [
    "Once your work is completed, shutting down the H2O cluster frees up the resources reserved by H2O.\n",
    "\n",
    "# Bonus: H2O-3 documentation\n",
    "\n",
    "* http://docs.h2o.ai"
   ]
  }
 ],
 "metadata": {
  "kernelspec": {
   "display_name": "Python 3",
   "language": "python",
   "name": "python3"
  },
  "language_info": {
   "codemirror_mode": {
    "name": "ipython",
    "version": 3
   },
   "file_extension": ".py",
   "mimetype": "text/x-python",
   "name": "python",
   "nbconvert_exporter": "python",
   "pygments_lexer": "ipython3",
   "version": "3.6.9"
  }
 },
 "nbformat": 4,
 "nbformat_minor": 2
}
