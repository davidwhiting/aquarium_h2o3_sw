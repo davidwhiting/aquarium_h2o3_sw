{
 "cells": [
  {
   "cell_type": "markdown",
   "metadata": {},
   "source": [
    "# Interpreting Anomalies from Isolation Forest\n",
    "\n",
    "\n",
    "## Isolation Forest\n",
    "\n",
    "The idea behind Isolation Forest is that anomalies are easier to separate from the rest of the data than other points.  The Isolation Forest algorithm partitions the data through a forest of decision trees.  Each split is made randomly.  The number of splits it takes to isolate a record indicates whether or not the record is an anomaly. When a forest of random trees collectively produces shorter path lengths for particular samples, they are highly likely to be anomalies.\n",
    "\n",
    "In this demo, we will use the Isolation Forest technique to find employees that may be anomalies.  \n",
    "\n",
    "## Start H2O-3 cluster\n",
    "_**Note**: The `os.system` command below is used solely for the H2O Aquarium training platform._"
   ]
  },
  {
   "cell_type": "code",
   "execution_count": null,
   "metadata": {},
   "outputs": [],
   "source": [
    "import os\n",
    "os.system('/home/h2o/bin/startup')\n",
    "!sleep 10"
   ]
  },
  {
   "cell_type": "markdown",
   "metadata": {},
   "source": [
    "Start by importing `h2o` and creating a connection to the server. The parameters used in `h2o.init` will depend on your specific environment."
   ]
  },
  {
   "cell_type": "code",
   "execution_count": null,
   "metadata": {},
   "outputs": [],
   "source": [
    "import h2o\n",
    "h2o.init(url='http://localhost:54321/h2o')"
   ]
  },
  {
   "cell_type": "markdown",
   "metadata": {},
   "source": [
    "## Loading the Data\n",
    "\n",
    "We will be using the [synthetic employee attrition dataset](https://www.ibm.com/communities/analytics/watson-analytics-blog/hr-employee-attrition/). This contains a record per employee with information about their employment history and whether they engaged in attrition."
   ]
  },
  {
   "cell_type": "code",
   "execution_count": null,
   "metadata": {},
   "outputs": [],
   "source": [
    "employee_data = h2o.import_file(\"/home/h2o/data/employee_attrition/HR-Employee-Attrition.csv\")"
   ]
  },
  {
   "cell_type": "code",
   "execution_count": null,
   "metadata": {},
   "outputs": [],
   "source": [
    "employee_data.head()"
   ]
  },
  {
   "cell_type": "markdown",
   "metadata": {},
   "source": [
    "## Isolation Forests\n",
    "\n",
    "To find our anomalous employees, let's train our isolation forest and see how the predictions look. We will only use a subset of columns for demo purposes."
   ]
  },
  {
   "cell_type": "code",
   "execution_count": null,
   "metadata": {},
   "outputs": [],
   "source": [
    "from h2o.estimators import H2OIsolationForestEstimator\n",
    "myX = ['Age', 'BusinessTravel', 'DistanceFromHome', 'Education', 'Gender', 'JobInvolvement', 'JobLevel', \n",
    "       'MaritalStatus', 'MonthlyIncome', 'NumCompaniesWorked', 'OverTime', 'PercentSalaryHike',\n",
    "       'PerformanceRating', 'TotalWorkingYears', 'TrainingTimesLastYear', 'YearsAtCompany', \n",
    "       'YearsInCurrentRole', 'YearsSinceLastPromotion', 'YearsWithCurrManager']\n",
    "\n",
    "isolation_model = H2OIsolationForestEstimator(model_id = \"isolation_forest.hex\", seed = 1234)\n",
    "isolation_model.train(training_frame = employee_data, x = myX)"
   ]
  },
  {
   "cell_type": "markdown",
   "metadata": {},
   "source": [
    "The predictions from the isolation forest return the `mean_length`.  This is the average number of splits it took to isolate the record across all the decision trees in the forest.  Records with a smaller `mean_length` are more likely to be anomalous since it takes fewer partitions of the data to isolate them."
   ]
  },
  {
   "cell_type": "code",
   "execution_count": null,
   "metadata": {},
   "outputs": [],
   "source": [
    "predictions = isolation_model.predict(employee_data)\n",
    "predictions.head()"
   ]
  },
  {
   "cell_type": "markdown",
   "metadata": {},
   "source": [
    "The histogram of the `mean_length` shows that most employees have a `mean_length` greater than 6.5.  This means that it takes more than 6 splits on average to partition them.  "
   ]
  },
  {
   "cell_type": "code",
   "execution_count": null,
   "metadata": {},
   "outputs": [],
   "source": [
    "predictions[\"mean_length\"].hist()"
   ]
  },
  {
   "cell_type": "markdown",
   "metadata": {},
   "source": [
    "## Defining Anomalies\n",
    "\n",
    "We will define an anomaly as an employee who's `mean_length` is less than 5.5.  These were employees who were easier to isolate from the rest of the data.\n",
    "\n",
    "There are 34 anomalous employees."
   ]
  },
  {
   "cell_type": "code",
   "execution_count": null,
   "metadata": {},
   "outputs": [],
   "source": [
    "anomalies = employee_data[predictions[\"mean_length\"] < 5.5]\n",
    "print(\"Number of Anomalies: \" + str(anomalies.nrow))"
   ]
  },
  {
   "cell_type": "code",
   "execution_count": null,
   "metadata": {},
   "outputs": [],
   "source": [
    "isolation_model.predict(anomalies)[\"mean_length\"].cbind(anomalies[myX])"
   ]
  },
  {
   "cell_type": "markdown",
   "metadata": {},
   "source": [
    "## Interpreting Anomalies\n",
    "\n",
    "There are two levels of interpretation:\n",
    "\n",
    "* global level: high level understanding of what segments of data are considered anomalous\n",
    "* local level: understanding of why an individual record is considered anomalous\n",
    "\n",
    "We will start with the global level.  Our goal is to gain an understanding of what segments of data are considered anomalous.\n",
    "\n",
    "### Global Level\n",
    "\n",
    "Now that we have found anomalous employees, we are interested in why they are considered anomalies.  To do this, we will train a surrogate decision tree.  The purpose of the surrogate decision tree is to find records with the anomaly flag.  To do this, it will find segments of similar anomalies and discover how to separate them from records that are not anomalies.  We can use this decision tree to then describe anomalous segments of the data.\n",
    "\n",
    "The steps of interpreting anomalies on a global level are:\n",
    "\n",
    "1. Create a frame with a column that indicates whether the record was considered an anomaly.\n",
    "2. Train a decision tree to predict the anomaly flag.\n",
    "3. Visualize the decision tree to determine which segments of the data are considered anomalous.\n",
    "\n",
    "In our first step, we will add a column called `anomaly`.  This is a flag that indicates whether the isolation forest considered the record an anomaly."
   ]
  },
  {
   "cell_type": "code",
   "execution_count": null,
   "metadata": {},
   "outputs": [],
   "source": [
    "global_surrogate_data = employee_data[:, :]\n",
    "global_surrogate_data[\"anomaly\"] = (predictions[\"mean_length\"] < 5.5).ifelse(\"Yes\", \"No\")\n",
    "global_surrogate_data[\"anomaly\"].table()"
   ]
  },
  {
   "cell_type": "markdown",
   "metadata": {},
   "source": [
    "Now that we have the surrogate data, we can train a single decision tree to predict the anomaly flag.  We will keep this decision tree simple (only a single decision tree with a depth of 3) because the purpose of the decision tree is to be completely interpretable."
   ]
  },
  {
   "cell_type": "code",
   "execution_count": null,
   "metadata": {},
   "outputs": [],
   "source": [
    "from h2o.estimators import H2ORandomForestEstimator\n",
    "\n",
    "global_surrogate_dt = H2ORandomForestEstimator(model_id = \"global_surrogate_decision_tree.hex\", \n",
    "                                               ntrees = 1, max_depth = 3,\n",
    "                                               sample_rate = 1, mtries = len(myX))\n",
    "global_surrogate_dt.train(training_frame = global_surrogate_data, x = myX, y = \"anomaly\")"
   ]
  },
  {
   "cell_type": "markdown",
   "metadata": {},
   "source": [
    "We can now visualize the decision tree to find segments of the data that are anomalous."
   ]
  },
  {
   "cell_type": "code",
   "execution_count": null,
   "metadata": {},
   "outputs": [],
   "source": [
    "import subprocess\n",
    "from IPython.display import Image\n",
    "\n",
    "def generateTreeImage(decision_tree, image_file_path):\n",
    "    # Download MOJO\n",
    "    mojo_path = decision_tree.download_mojo(get_genmodel_jar=True)\n",
    "    directory = os.path.dirname(mojo_path)\n",
    "    h2o_jar_path = os.path.join(directory, \"h2o-genmodel.jar\")\n",
    "    # Create Graphviz file\n",
    "    gv_file_path = os.path.join(directory, \"decision_tree.gv\")\n",
    "    gv_call = \" \".join([\"java\", \"-cp\", h2o_jar_path, \"hex.genmodel.tools.PrintMojo\", \"--tree 0 -i\", mojo_path , \"-o\", gv_file_path])\n",
    "    result = subprocess.call(gv_call, shell=True)\n",
    "    result = subprocess.call([\"ls\", gv_file_path], shell = False)\n",
    "    result = subprocess.call([\"dot\", \"-Tpng\", gv_file_path, \"-o\", image_file_path], shell=False)\n",
    "    result = subprocess.call([\"ls\",image_file_path], shell = False)\n",
    "    \n",
    "    return Image(image_file_path)"
   ]
  },
  {
   "cell_type": "code",
   "execution_count": null,
   "metadata": {},
   "outputs": [],
   "source": [
    "generateTreeImage(global_surrogate_dt, \"./global_surrogate_decision_tree.png\")"
   ]
  },
  {
   "cell_type": "markdown",
   "metadata": {},
   "source": [
    "The visualization shows our global surrogate decision tree.  The values in the leaf nodes represent the probability of the record not being an anomaly.  We are, therefore, interested in leaf nodes with low values - these will indicate a segment of data that is anomalous.\n",
    "\n",
    "We can see that there are three leaf nodes with all anomalies.  One leaf node is defined as: \n",
    "\n",
    "* Total Working Years < 32.5\n",
    "* Years Since Last Promotion < 12.5\n",
    "* Percent Salary Hike >= 18.0\n",
    "\n",
    "This segment seems strange for two reasons: \n",
    "\n",
    "* the employees have been working 32 years or less but have not received a promotion for more than 12 years\n",
    "    * most employees have a promotion ever 4 years of working \n",
    "* the employee has not had a promotion recently but has received a large salary hike\n",
    "    * years since last promotion is negatively correlated with salary hike"
   ]
  },
  {
   "cell_type": "code",
   "execution_count": null,
   "metadata": {},
   "outputs": [],
   "source": [
    "promotion_per_working_years = employee_data[employee_data[\"YearsSinceLastPromotion\"] > 0]\n",
    "promotion_per_working_years = promotion_per_working_years[\"TotalWorkingYears\"]/promotion_per_working_years[\"YearsSinceLastPromotion\"]\n",
    "promotion_per_working_years.median()"
   ]
  },
  {
   "cell_type": "code",
   "execution_count": null,
   "metadata": {},
   "outputs": [],
   "source": [
    "employee_data[[\"YearsSinceLastPromotion\", \"PercentSalaryHike\"]].cor()"
   ]
  },
  {
   "cell_type": "markdown",
   "metadata": {},
   "source": [
    "### Local Level\n",
    "\n",
    "Now we will perform a local level interpretation.  The goal of this interpretation is to determine why a specific employee is considered an anomaly.\n",
    "\n",
    "The steps of interpreting anomalies on a local level are:\n",
    "\n",
    "1. Create a frame with a column that indicates whether the record is our selected anomaly.\n",
    "2. Train a decision tree to predict the anomaly flag.\n",
    "3. Visualize the decision tree to determine how the selected anomaly separates from the rest of the dat.a.\n",
    "\n",
    "Let's begin by examining our first anomaly."
   ]
  },
  {
   "cell_type": "code",
   "execution_count": null,
   "metadata": {},
   "outputs": [],
   "source": [
    "anomalies[0, myX]"
   ]
  },
  {
   "cell_type": "code",
   "execution_count": null,
   "metadata": {},
   "outputs": [],
   "source": [
    "isolation_model.predict(anomalies[0, :])"
   ]
  },
  {
   "cell_type": "markdown",
   "metadata": {},
   "source": [
    "To determine why this employee is considered anomalous, we will build a surrogate decision tree.  The goal of the decision tree is to separate this employee from all other employees.\n",
    "\n",
    "The structure of the decision tree will tell us why the employee is different from others."
   ]
  },
  {
   "cell_type": "code",
   "execution_count": null,
   "metadata": {},
   "outputs": [],
   "source": [
    "local_surrogate_data = employee_data[:, :]\n",
    "local_surrogate_data[\"anomaly_record\"] = (local_surrogate_data[\"EmployeeNumber\"] == 81).ifelse(\"Anomaly\", \"NotAnomaly\")"
   ]
  },
  {
   "cell_type": "code",
   "execution_count": null,
   "metadata": {},
   "outputs": [],
   "source": [
    "local_surrogate_data[\"anomaly_record\"].table()"
   ]
  },
  {
   "cell_type": "code",
   "execution_count": null,
   "metadata": {},
   "outputs": [],
   "source": [
    "local_surrogate_dt = H2ORandomForestEstimator(model_id = \"local_level_surrogate_decision_tree.hex\", \n",
    "                                              ntrees = 1, max_depth = 3,\n",
    "                                              sample_rate = 1, mtries = len(myX))\n",
    "local_surrogate_dt.train(training_frame = local_surrogate_data, x = myX, y = \"anomaly_record\")"
   ]
  },
  {
   "cell_type": "markdown",
   "metadata": {},
   "source": [
    "We can visualize this decision tree to see how it split to isolate our anomaly record."
   ]
  },
  {
   "cell_type": "code",
   "execution_count": null,
   "metadata": {
    "scrolled": true
   },
   "outputs": [],
   "source": [
    "generateTreeImage(local_surrogate_dt, \"./global_surrogate_decision_tree.png\")"
   ]
  },
  {
   "cell_type": "markdown",
   "metadata": {},
   "source": [
    "The anomalous employee falls in the bucket of employees with a high number of years in the Current Role and Age. It falls in the bucket: `YearsInCurrentRole >= 15.5` and `Age >= 57.5`.  \n",
    "\n",
    "We can see that our simple decision tree is perfectly able to separate the anomaly from the other employees because it has an AUC of 1.  This means that this employee is the only one in the data that has been in his/her current role more than 15.5 years and is older than 57."
   ]
  },
  {
   "cell_type": "code",
   "execution_count": null,
   "metadata": {},
   "outputs": [],
   "source": [
    "local_surrogate_dt.model_performance(local_surrogate_data).auc()"
   ]
  },
  {
   "cell_type": "code",
   "execution_count": null,
   "metadata": {},
   "outputs": [],
   "source": [
    "anomalies[0, [\"Age\", \"YearsInCurrentRole\"]]"
   ]
  },
  {
   "cell_type": "markdown",
   "metadata": {},
   "source": [
    "If we examine the distribution of these two features, we can see that the employee falls on the right of the spectrum for both."
   ]
  },
  {
   "cell_type": "code",
   "execution_count": null,
   "metadata": {},
   "outputs": [],
   "source": [
    "employee_data[\"Age\"].hist()"
   ]
  },
  {
   "cell_type": "code",
   "execution_count": null,
   "metadata": {},
   "outputs": [],
   "source": [
    "employee_data[\"YearsInCurrentRole\"].hist()"
   ]
  },
  {
   "cell_type": "code",
   "execution_count": null,
   "metadata": {},
   "outputs": [],
   "source": [
    "h2o.cluster().shutdown()"
   ]
  }
 ],
 "metadata": {
  "kernelspec": {
   "display_name": "Python 3",
   "language": "python",
   "name": "python3"
  },
  "language_info": {
   "codemirror_mode": {
    "name": "ipython",
    "version": 3
   },
   "file_extension": ".py",
   "mimetype": "text/x-python",
   "name": "python",
   "nbconvert_exporter": "python",
   "pygments_lexer": "ipython3",
   "version": "3.6.9"
  }
 },
 "nbformat": 4,
 "nbformat_minor": 2
}
