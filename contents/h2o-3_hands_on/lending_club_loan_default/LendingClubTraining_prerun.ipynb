{
 "cells": [
  {
   "cell_type": "markdown",
   "metadata": {},
   "source": [
    "# Lending Club Loan Default\n",
    "\n",
    "In this tutorial, we will go through a step-by-step workflow to determine loan deliquency. We will make predictions based only on the information available at the time the loan was issued.  The data for this exercise come from the public Lending Club data set, a description can be found [here](https://www.kaggle.com/pragyanbo/a-hitchhiker-s-guide-to-lending-club-loan-data/notebook).\n",
    "\n",
    "## Workflow\n",
    "\n",
    "1. Start the H2O-3 cluster\n",
    "2. Import data\n",
    "3. Clean data\n",
    "4. Feature engineering\n",
    "5. Model training\n",
    "6. Examine model accuracy\n",
    "7. Interpret model\n",
    "8. Save and reuse model\n",
    "9. AutoML (optional)\n",
    "10. Stop H2O-3 cluster"
   ]
  },
  {
   "cell_type": "markdown",
   "metadata": {},
   "source": [
    "# Step 1 (of 10). Start the H2O-3 cluster\n",
    "\n",
    "The `os` commands below check whether this notebook is being run on the Aquarium platform. We use `h2o.init` command to connect to the H2O-3 cluster, starting it if it is not already up. The parameters used in `h2o.init` will depend on your specific environment."
   ]
  },
  {
   "cell_type": "code",
   "execution_count": 1,
   "metadata": {},
   "outputs": [
    {
     "name": "stdout",
     "output_type": "stream",
     "text": [
      "Checking whether there is an H2O instance running at http://localhost:54321/h2o . connected.\n"
     ]
    },
    {
     "data": {
      "text/html": [
       "<div style=\"overflow:auto\"><table style=\"width:50%\"><tr><td>H2O cluster uptime:</td>\n",
       "<td>05 secs</td></tr>\n",
       "<tr><td>H2O cluster timezone:</td>\n",
       "<td>Etc/UTC</td></tr>\n",
       "<tr><td>H2O data parsing timezone:</td>\n",
       "<td>UTC</td></tr>\n",
       "<tr><td>H2O cluster version:</td>\n",
       "<td>3.26.0.2</td></tr>\n",
       "<tr><td>H2O cluster version age:</td>\n",
       "<td>1 month and 6 days </td></tr>\n",
       "<tr><td>H2O cluster name:</td>\n",
       "<td>h2o</td></tr>\n",
       "<tr><td>H2O cluster total nodes:</td>\n",
       "<td>1</td></tr>\n",
       "<tr><td>H2O cluster free memory:</td>\n",
       "<td>13.98 Gb</td></tr>\n",
       "<tr><td>H2O cluster total cores:</td>\n",
       "<td>16</td></tr>\n",
       "<tr><td>H2O cluster allowed cores:</td>\n",
       "<td>16</td></tr>\n",
       "<tr><td>H2O cluster status:</td>\n",
       "<td>accepting new members, healthy</td></tr>\n",
       "<tr><td>H2O connection url:</td>\n",
       "<td>http://localhost:54321/h2o</td></tr>\n",
       "<tr><td>H2O connection proxy:</td>\n",
       "<td>None</td></tr>\n",
       "<tr><td>H2O internal security:</td>\n",
       "<td>False</td></tr>\n",
       "<tr><td>H2O API Extensions:</td>\n",
       "<td>Amazon S3, XGBoost, Algos, AutoML, Core V3, Core V4</td></tr>\n",
       "<tr><td>Python version:</td>\n",
       "<td>3.6.9 final</td></tr></table></div>"
      ],
      "text/plain": [
       "--------------------------  ---------------------------------------------------\n",
       "H2O cluster uptime:         05 secs\n",
       "H2O cluster timezone:       Etc/UTC\n",
       "H2O data parsing timezone:  UTC\n",
       "H2O cluster version:        3.26.0.2\n",
       "H2O cluster version age:    1 month and 6 days\n",
       "H2O cluster name:           h2o\n",
       "H2O cluster total nodes:    1\n",
       "H2O cluster free memory:    13.98 Gb\n",
       "H2O cluster total cores:    16\n",
       "H2O cluster allowed cores:  16\n",
       "H2O cluster status:         accepting new members, healthy\n",
       "H2O connection url:         http://localhost:54321/h2o\n",
       "H2O connection proxy:\n",
       "H2O internal security:      False\n",
       "H2O API Extensions:         Amazon S3, XGBoost, Algos, AutoML, Core V3, Core V4\n",
       "Python version:             3.6.9 final\n",
       "--------------------------  ---------------------------------------------------"
      ]
     },
     "metadata": {},
     "output_type": "display_data"
    }
   ],
   "source": [
    "import os\n",
    "import h2o\n",
    "\n",
    "startup = '/home/h2o/bin/aquarium_startup'\n",
    "if os.path.exists(startup):\n",
    "    os.system(startup)\n",
    "    local_url = 'http://localhost:54321/h2o'\n",
    "    aquarium = True\n",
    "    !sleep 5\n",
    "else:\n",
    "    local_url = 'http://localhost:54321'\n",
    "    aquarium = False\n",
    "\n",
    "h2o.init(url=local_url)"
   ]
  },
  {
   "cell_type": "markdown",
   "metadata": {},
   "source": [
    "Note: The method you use for starting and stopping an H2O-3 cluster will depend on how H2O is installed and configured on your system. Regardless of how H2O is installed, if you start a cluster, you will need to ensure that it is shut down when you are done.\n",
    "\n",
    "# Step 2 (of 10). Import data\n",
    "\n",
    "The data set we use below is a local copy of https://s3-us-west-2.amazonaws.com/h2o-tutorials/data/topics/lending/lending_club/LoanStats3a.csv. "
   ]
  },
  {
   "cell_type": "code",
   "execution_count": 2,
   "metadata": {},
   "outputs": [],
   "source": [
    "if aquarium:\n",
    "    input_csv = \"/home/h2o/data/lending_club/LoanStats3a.csv\"\n",
    "else:\n",
    "    input_csv = \"https://s3-us-west-2.amazonaws.com/h2o-tutorials/data/topics/lending/lending_club/LoanStats3a.csv\""
   ]
  },
  {
   "cell_type": "markdown",
   "metadata": {},
   "source": [
    "### View and Inspect the Data\n",
    "\n",
    "The loans data set is loaded directly into the H2O-3 cluster using the `h2o.import_file` command:"
   ]
  },
  {
   "cell_type": "code",
   "execution_count": 3,
   "metadata": {},
   "outputs": [
    {
     "name": "stdout",
     "output_type": "stream",
     "text": [
      "Parse progress: |█████████████████████████████████████████████████████████| 100%\n"
     ]
    }
   ],
   "source": [
    "loans = h2o.import_file(input_csv,\n",
    "                        col_types = {\"int_rate\":\"string\", \n",
    "                                     \"revol_util\":\"string\", \n",
    "                                     \"emp_length\":\"string\", \n",
    "                                     \"verification_status\":\"string\"})"
   ]
  },
  {
   "cell_type": "markdown",
   "metadata": {},
   "source": [
    "The `h2o.import_file` command loads the data directly into the H2O-3 cluster's memory, bypassing python. If one already has data in python, one can pass that object to a H2O Frame. The `h2o.import_file` approach is incredibly efficient, particularly for larg data sets.\n",
    "\n",
    "### Inspect the Data with H2O Flow\n",
    "\n",
    "Now is a good time to connect to H2O Flow. Although H2O Flow can be used for everything from loading data to building models to creating production code, we use it here for data investigation and H2O system monitoring.\n",
    "\n",
    "**Note**: the reported IP above, `http://localhost`, is the local IP within your particular cloud instance. To open H2O Flow in your own browser, copy the browser URL and\n",
    "\n",
    "**Aquarium**: \n",
    ">Replace \n",
    ">```\n",
    "http://{your URL}/jupyter/\n",
    ">``` \n",
    ">with \n",
    ">```\n",
    "http://{your URL}/h2o/\n",
    ">```\n",
    "\n",
    "**Otherwise**: \n",
    ">Replace\n",
    ">```\n",
    "http://{your URL}:8888\n",
    ">``` \n",
    ">with \n",
    ">```\n",
    "http://{your URL}:54321\n",
    ">```\n",
    "\n",
    "Some summary information on the data is provided below:"
   ]
  },
  {
   "cell_type": "code",
   "execution_count": 4,
   "metadata": {},
   "outputs": [
    {
     "data": {
      "text/plain": [
       "[42536, 52]"
      ]
     },
     "execution_count": 4,
     "metadata": {},
     "output_type": "execute_result"
    }
   ],
   "source": [
    "loans.dim"
   ]
  },
  {
   "cell_type": "code",
   "execution_count": 5,
   "metadata": {},
   "outputs": [
    {
     "data": {
      "text/html": [
       "<table>\n",
       "<thead>\n",
       "<tr><th style=\"text-align: right;\">         id</th><th style=\"text-align: right;\">  member_id</th><th style=\"text-align: right;\">  loan_amnt</th><th style=\"text-align: right;\">  funded_amnt</th><th style=\"text-align: right;\">  funded_amnt_inv</th><th>term     </th><th>int_rate  </th><th style=\"text-align: right;\">  installment</th><th>grade  </th><th>sub_grade  </th><th>emp_title                </th><th>emp_length  </th><th>home_ownership  </th><th style=\"text-align: right;\">  annual_inc</th><th>verification_status     </th><th>issue_d            </th><th>loan_status  </th><th>pymnt_plan  </th><th>url                                                                 </th><th>desc                                                                                                                                                                                                                                                                                                                                                                                                                                                                                                                                                                                                        </th><th>purpose           </th><th>title                                </th><th>zip_code  </th><th>addr_state  </th><th style=\"text-align: right;\">  dti</th><th style=\"text-align: right;\">  delinq_2yrs</th><th>earliest_cr_line   </th><th style=\"text-align: right;\">  inq_last_6mths</th><th>mths_since_last_delinq  </th><th>mths_since_last_record  </th><th style=\"text-align: right;\">  open_acc</th><th style=\"text-align: right;\">  pub_rec</th><th style=\"text-align: right;\">  revol_bal</th><th>revol_util  </th><th style=\"text-align: right;\">  total_acc</th><th>initial_list_status  </th><th style=\"text-align: right;\">  out_prncp</th><th style=\"text-align: right;\">  out_prncp_inv</th><th style=\"text-align: right;\">  total_pymnt</th><th style=\"text-align: right;\">  total_pymnt_inv</th><th style=\"text-align: right;\">  total_rec_prncp</th><th style=\"text-align: right;\">  total_rec_int</th><th style=\"text-align: right;\">  total_rec_late_fee</th><th style=\"text-align: right;\">  recoveries</th><th style=\"text-align: right;\">  collection_recovery_fee</th><th>last_pymnt_d       </th><th style=\"text-align: right;\">  last_pymnt_amnt</th><th>next_pymnt_d       </th><th>last_credit_pull_d  </th><th style=\"text-align: right;\">  collections_12_mths_ex_med</th><th>mths_since_last_major_derog  </th><th style=\"text-align: right;\">  policy_code</th></tr>\n",
       "</thead>\n",
       "<tbody>\n",
       "<tr><td style=\"text-align: right;\">1.0775e+06 </td><td style=\"text-align: right;\">1.2966e+06 </td><td style=\"text-align: right;\">       5000</td><td style=\"text-align: right;\">         5000</td><td style=\"text-align: right;\">             4975</td><td>36 months</td><td>10.65%    </td><td style=\"text-align: right;\">       162.87</td><td>B      </td><td>B2         </td><td>                         </td><td>10+ years   </td><td>RENT            </td><td style=\"text-align: right;\">       24000</td><td>VERIFIED - income       </td><td>2011-12-01 00:00:00</td><td>Fully Paid   </td><td>n           </td><td>https://www.lendingclub.com/browse/loanDetail.action?loan_id=1077501</td><td>Borrower added on 12/22/11 > I need to upgrade my business technologies.<br>                                                                                                                                                                                                                                                                                                                                                                                                                                                                                                                                </td><td>credit_card       </td><td>Computer                             </td><td>860xx     </td><td>AZ          </td><td style=\"text-align: right;\">27.65</td><td style=\"text-align: right;\">            0</td><td>1985-01-01 00:00:00</td><td style=\"text-align: right;\">               1</td><td>                        </td><td>                        </td><td style=\"text-align: right;\">         3</td><td style=\"text-align: right;\">        0</td><td style=\"text-align: right;\">      13648</td><td>83.7%       </td><td style=\"text-align: right;\">          9</td><td>f                    </td><td style=\"text-align: right;\">       0   </td><td style=\"text-align: right;\">           0   </td><td style=\"text-align: right;\">      5861.07</td><td style=\"text-align: right;\">          5831.78</td><td style=\"text-align: right;\">          5000   </td><td style=\"text-align: right;\">         861.07</td><td style=\"text-align: right;\">                0   </td><td style=\"text-align: right;\">        0   </td><td style=\"text-align: right;\">                     0   </td><td>2015-01-01 00:00:00</td><td style=\"text-align: right;\">           171.62</td><td>                   </td><td>2015-01-01 00:00:00 </td><td style=\"text-align: right;\">                           0</td><td>                             </td><td style=\"text-align: right;\">            1</td></tr>\n",
       "<tr><td style=\"text-align: right;\">1.07743e+06</td><td style=\"text-align: right;\">1.31417e+06</td><td style=\"text-align: right;\">       2500</td><td style=\"text-align: right;\">         2500</td><td style=\"text-align: right;\">             2500</td><td>60 months</td><td>15.27%    </td><td style=\"text-align: right;\">        59.83</td><td>C      </td><td>C4         </td><td>Ryder                    </td><td>< 1 year    </td><td>RENT            </td><td style=\"text-align: right;\">       30000</td><td>VERIFIED - income source</td><td>2011-12-01 00:00:00</td><td>Charged Off  </td><td>n           </td><td>https://www.lendingclub.com/browse/loanDetail.action?loan_id=1077430</td><td>Borrower added on 12/22/11 > I plan to use this money to finance the motorcycle i am looking at. I plan to have it paid off as soon as possible/when i sell my old bike. I only need this money because the deal im looking at is to good to pass up.<br><br>  Borrower added on 12/22/11 > I plan to use this money to finance the motorcycle i am looking at. I plan to have it paid off as soon as possible/when i sell my old bike.I only need this money because the deal im looking at is to good to pass up. I have finished college with an associates degree in business and its takingmeplaces<br></td><td>car               </td><td>bike                                 </td><td>309xx     </td><td>GA          </td><td style=\"text-align: right;\"> 1   </td><td style=\"text-align: right;\">            0</td><td>1999-04-01 00:00:00</td><td style=\"text-align: right;\">               5</td><td>                        </td><td>                        </td><td style=\"text-align: right;\">         3</td><td style=\"text-align: right;\">        0</td><td style=\"text-align: right;\">       1687</td><td>9.4%        </td><td style=\"text-align: right;\">          4</td><td>f                    </td><td style=\"text-align: right;\">       0   </td><td style=\"text-align: right;\">           0   </td><td style=\"text-align: right;\">      1008.71</td><td style=\"text-align: right;\">          1008.71</td><td style=\"text-align: right;\">           456.46</td><td style=\"text-align: right;\">         435.17</td><td style=\"text-align: right;\">                0   </td><td style=\"text-align: right;\">      117.08</td><td style=\"text-align: right;\">                     1.11</td><td>2013-04-01 00:00:00</td><td style=\"text-align: right;\">           119.66</td><td>                   </td><td>2013-09-01 00:00:00 </td><td style=\"text-align: right;\">                           0</td><td>                             </td><td style=\"text-align: right;\">            1</td></tr>\n",
       "<tr><td style=\"text-align: right;\">1.07718e+06</td><td style=\"text-align: right;\">1.31352e+06</td><td style=\"text-align: right;\">       2400</td><td style=\"text-align: right;\">         2400</td><td style=\"text-align: right;\">             2400</td><td>36 months</td><td>15.96%    </td><td style=\"text-align: right;\">        84.33</td><td>C      </td><td>C5         </td><td>                         </td><td>10+ years   </td><td>RENT            </td><td style=\"text-align: right;\">       12252</td><td>not verified            </td><td>2011-12-01 00:00:00</td><td>Fully Paid   </td><td>n           </td><td>https://www.lendingclub.com/browse/loanDetail.action?loan_id=1077175</td><td>                                                                                                                                                                                                                                                                                                                                                                                                                                                                                                                                                                                                            </td><td>small_business    </td><td>real estate business                 </td><td>606xx     </td><td>IL          </td><td style=\"text-align: right;\"> 8.72</td><td style=\"text-align: right;\">            0</td><td>2001-11-01 00:00:00</td><td style=\"text-align: right;\">               2</td><td>                        </td><td>                        </td><td style=\"text-align: right;\">         2</td><td style=\"text-align: right;\">        0</td><td style=\"text-align: right;\">       2956</td><td>98.5%       </td><td style=\"text-align: right;\">         10</td><td>f                    </td><td style=\"text-align: right;\">       0   </td><td style=\"text-align: right;\">           0   </td><td style=\"text-align: right;\">      3003.65</td><td style=\"text-align: right;\">          3003.65</td><td style=\"text-align: right;\">          2400   </td><td style=\"text-align: right;\">         603.65</td><td style=\"text-align: right;\">                0   </td><td style=\"text-align: right;\">        0   </td><td style=\"text-align: right;\">                     0   </td><td>2014-06-01 00:00:00</td><td style=\"text-align: right;\">           649.91</td><td>                   </td><td>2015-06-01 00:00:00 </td><td style=\"text-align: right;\">                           0</td><td>                             </td><td style=\"text-align: right;\">            1</td></tr>\n",
       "<tr><td style=\"text-align: right;\">1.07686e+06</td><td style=\"text-align: right;\">1.27718e+06</td><td style=\"text-align: right;\">      10000</td><td style=\"text-align: right;\">        10000</td><td style=\"text-align: right;\">            10000</td><td>36 months</td><td>13.49%    </td><td style=\"text-align: right;\">       339.31</td><td>C      </td><td>C1         </td><td>AIR RESOURCES BOARD      </td><td>10+ years   </td><td>RENT            </td><td style=\"text-align: right;\">       49200</td><td>VERIFIED - income source</td><td>2011-12-01 00:00:00</td><td>Fully Paid   </td><td>n           </td><td>https://www.lendingclub.com/browse/loanDetail.action?loan_id=1076863</td><td>Borrower added on 12/21/11 > to pay for property tax (borrow from friend, need to pay back) & central A/C need to be replace. I'm very sorry to let my loan expired last time.<br>                                                                                                                                                                                                                                                                                                                                                                                                                          </td><td>other             </td><td>personel                             </td><td>917xx     </td><td>CA          </td><td style=\"text-align: right;\">20   </td><td style=\"text-align: right;\">            0</td><td>1996-02-01 00:00:00</td><td style=\"text-align: right;\">               1</td><td>35                      </td><td>                        </td><td style=\"text-align: right;\">        10</td><td style=\"text-align: right;\">        0</td><td style=\"text-align: right;\">       5598</td><td>21%         </td><td style=\"text-align: right;\">         37</td><td>f                    </td><td style=\"text-align: right;\">       0   </td><td style=\"text-align: right;\">           0   </td><td style=\"text-align: right;\">     12226.3 </td><td style=\"text-align: right;\">         12226.3 </td><td style=\"text-align: right;\">         10000   </td><td style=\"text-align: right;\">        2209.33</td><td style=\"text-align: right;\">               16.97</td><td style=\"text-align: right;\">        0   </td><td style=\"text-align: right;\">                     0   </td><td>2015-01-01 00:00:00</td><td style=\"text-align: right;\">           357.48</td><td>                   </td><td>2015-01-01 00:00:00 </td><td style=\"text-align: right;\">                           0</td><td>                             </td><td style=\"text-align: right;\">            1</td></tr>\n",
       "<tr><td style=\"text-align: right;\">1.07536e+06</td><td style=\"text-align: right;\">1.31175e+06</td><td style=\"text-align: right;\">       3000</td><td style=\"text-align: right;\">         3000</td><td style=\"text-align: right;\">             3000</td><td>60 months</td><td>12.69%    </td><td style=\"text-align: right;\">        67.79</td><td>B      </td><td>B5         </td><td>University Medical Group </td><td>1 year      </td><td>RENT            </td><td style=\"text-align: right;\">       80000</td><td>VERIFIED - income source</td><td>2011-12-01 00:00:00</td><td>Current      </td><td>n           </td><td>https://www.lendingclub.com/browse/loanDetail.action?loan_id=1075358</td><td>Borrower added on 12/21/11 > I plan on combining three large interest bills together and freeing up some extra each month to pay toward other bills.  I've always been a good payor but have found myself needing to make adjustments to my budget due to a medical scare. My job is very stable, I love it.<br>                                                                                                                                                                                                                                                                                            </td><td>other             </td><td>Personal                             </td><td>972xx     </td><td>OR          </td><td style=\"text-align: right;\">17.94</td><td style=\"text-align: right;\">            0</td><td>1996-01-01 00:00:00</td><td style=\"text-align: right;\">               0</td><td>38                      </td><td>                        </td><td style=\"text-align: right;\">        15</td><td style=\"text-align: right;\">        0</td><td style=\"text-align: right;\">      27783</td><td>53.9%       </td><td style=\"text-align: right;\">         38</td><td>f                    </td><td style=\"text-align: right;\">    1168.04</td><td style=\"text-align: right;\">        1168.04</td><td style=\"text-align: right;\">      2767.64</td><td style=\"text-align: right;\">          2767.64</td><td style=\"text-align: right;\">          1831.96</td><td style=\"text-align: right;\">         935.68</td><td style=\"text-align: right;\">                0   </td><td style=\"text-align: right;\">        0   </td><td style=\"text-align: right;\">                     0   </td><td>2015-06-01 00:00:00</td><td style=\"text-align: right;\">            67.79</td><td>2015-07-01 00:00:00</td><td>2015-06-01 00:00:00 </td><td style=\"text-align: right;\">                           0</td><td>                             </td><td style=\"text-align: right;\">            1</td></tr>\n",
       "<tr><td style=\"text-align: right;\">1.07527e+06</td><td style=\"text-align: right;\">1.31144e+06</td><td style=\"text-align: right;\">       5000</td><td style=\"text-align: right;\">         5000</td><td style=\"text-align: right;\">             5000</td><td>36 months</td><td>7.90%     </td><td style=\"text-align: right;\">       156.46</td><td>A      </td><td>A4         </td><td>Veolia Transportaton     </td><td>3 years     </td><td>RENT            </td><td style=\"text-align: right;\">       36000</td><td>VERIFIED - income source</td><td>2011-12-01 00:00:00</td><td>Fully Paid   </td><td>n           </td><td>https://www.lendingclub.com/browse/loanDetail.action?loan_id=1075269</td><td>                                                                                                                                                                                                                                                                                                                                                                                                                                                                                                                                                                                                            </td><td>wedding           </td><td>My wedding loan I promise to pay back</td><td>852xx     </td><td>AZ          </td><td style=\"text-align: right;\">11.2 </td><td style=\"text-align: right;\">            0</td><td>2004-11-01 00:00:00</td><td style=\"text-align: right;\">               3</td><td>                        </td><td>                        </td><td style=\"text-align: right;\">         9</td><td style=\"text-align: right;\">        0</td><td style=\"text-align: right;\">       7963</td><td>28.3%       </td><td style=\"text-align: right;\">         12</td><td>f                    </td><td style=\"text-align: right;\">       0   </td><td style=\"text-align: right;\">           0   </td><td style=\"text-align: right;\">      5631.38</td><td style=\"text-align: right;\">          5631.38</td><td style=\"text-align: right;\">          5000   </td><td style=\"text-align: right;\">         631.38</td><td style=\"text-align: right;\">                0   </td><td style=\"text-align: right;\">        0   </td><td style=\"text-align: right;\">                     0   </td><td>2015-01-01 00:00:00</td><td style=\"text-align: right;\">           161.03</td><td>                   </td><td>2015-06-01 00:00:00 </td><td style=\"text-align: right;\">                           0</td><td>                             </td><td style=\"text-align: right;\">            1</td></tr>\n",
       "<tr><td style=\"text-align: right;\">1.06964e+06</td><td style=\"text-align: right;\">1.30474e+06</td><td style=\"text-align: right;\">       7000</td><td style=\"text-align: right;\">         7000</td><td style=\"text-align: right;\">             7000</td><td>60 months</td><td>15.96%    </td><td style=\"text-align: right;\">       170.08</td><td>C      </td><td>C5         </td><td>Southern Star Photography</td><td>8 years     </td><td>RENT            </td><td style=\"text-align: right;\">       47004</td><td>not verified            </td><td>2011-12-01 00:00:00</td><td>Current      </td><td>n           </td><td>https://www.lendingclub.com/browse/loanDetail.action?loan_id=1069639</td><td>Borrower added on 12/18/11 > I am planning on using the funds to pay off two retail credit cards with 24.99% interest rates, as well as a major bank credit card with a 18.99% rate.  I pay all my bills on time, looking for a lower combined payment and lower monthly payment.<br>                                                                                                                                                                                                                                                                                                                       </td><td>debt_consolidation</td><td>Loan                                 </td><td>280xx     </td><td>NC          </td><td style=\"text-align: right;\">23.51</td><td style=\"text-align: right;\">            0</td><td>2005-07-01 00:00:00</td><td style=\"text-align: right;\">               1</td><td>                        </td><td>                        </td><td style=\"text-align: right;\">         7</td><td style=\"text-align: right;\">        0</td><td style=\"text-align: right;\">      17726</td><td>85.6%       </td><td style=\"text-align: right;\">         11</td><td>f                    </td><td style=\"text-align: right;\">    2853.21</td><td style=\"text-align: right;\">        2853.21</td><td style=\"text-align: right;\">      6946.28</td><td style=\"text-align: right;\">          6946.28</td><td style=\"text-align: right;\">          4146.8 </td><td style=\"text-align: right;\">        2799.48</td><td style=\"text-align: right;\">                0   </td><td style=\"text-align: right;\">        0   </td><td style=\"text-align: right;\">                     0   </td><td>2015-06-01 00:00:00</td><td style=\"text-align: right;\">           170.08</td><td>2015-08-01 00:00:00</td><td>2015-06-01 00:00:00 </td><td style=\"text-align: right;\">                           0</td><td>                             </td><td style=\"text-align: right;\">            1</td></tr>\n",
       "<tr><td style=\"text-align: right;\">1.07205e+06</td><td style=\"text-align: right;\">1.28869e+06</td><td style=\"text-align: right;\">       3000</td><td style=\"text-align: right;\">         3000</td><td style=\"text-align: right;\">             3000</td><td>36 months</td><td>18.64%    </td><td style=\"text-align: right;\">       109.43</td><td>E      </td><td>E1         </td><td>MKC Accounting           </td><td>9 years     </td><td>RENT            </td><td style=\"text-align: right;\">       48000</td><td>VERIFIED - income source</td><td>2011-12-01 00:00:00</td><td>Fully Paid   </td><td>n           </td><td>https://www.lendingclub.com/browse/loanDetail.action?loan_id=1072053</td><td>Borrower added on 12/16/11 > Downpayment for a car.<br>                                                                                                                                                                                                                                                                                                                                                                                                                                                                                                                                                     </td><td>car               </td><td>Car Downpayment                      </td><td>900xx     </td><td>CA          </td><td style=\"text-align: right;\"> 5.35</td><td style=\"text-align: right;\">            0</td><td>2007-01-01 00:00:00</td><td style=\"text-align: right;\">               2</td><td>                        </td><td>                        </td><td style=\"text-align: right;\">         4</td><td style=\"text-align: right;\">        0</td><td style=\"text-align: right;\">       8221</td><td>87.5%       </td><td style=\"text-align: right;\">          4</td><td>f                    </td><td style=\"text-align: right;\">       0   </td><td style=\"text-align: right;\">           0   </td><td style=\"text-align: right;\">      3938.14</td><td style=\"text-align: right;\">          3938.14</td><td style=\"text-align: right;\">          3000   </td><td style=\"text-align: right;\">         938.14</td><td style=\"text-align: right;\">                0   </td><td style=\"text-align: right;\">        0   </td><td style=\"text-align: right;\">                     0   </td><td>2015-01-01 00:00:00</td><td style=\"text-align: right;\">           111.34</td><td>                   </td><td>2014-12-01 00:00:00 </td><td style=\"text-align: right;\">                           0</td><td>                             </td><td style=\"text-align: right;\">            1</td></tr>\n",
       "<tr><td style=\"text-align: right;\">1.0718e+06 </td><td style=\"text-align: right;\">1.30696e+06</td><td style=\"text-align: right;\">       5600</td><td style=\"text-align: right;\">         5600</td><td style=\"text-align: right;\">             5600</td><td>60 months</td><td>21.28%    </td><td style=\"text-align: right;\">       152.39</td><td>F      </td><td>F2         </td><td>                         </td><td>4 years     </td><td>OWN             </td><td style=\"text-align: right;\">       40000</td><td>VERIFIED - income source</td><td>2011-12-01 00:00:00</td><td>Charged Off  </td><td>n           </td><td>https://www.lendingclub.com/browse/loanDetail.action?loan_id=1071795</td><td>Borrower added on 12/21/11 > I own a small home-based judgment collection business. I have 5 years experience collecting debts. I am now going from a home office to a small office. I also plan to buy a small debt portfolio (eg. $10K for $1M of debt) <br>My score is not A+ because I own my home and have no mortgage.<br>                                                                                                                                                                                                                                                                            </td><td>small_business    </td><td>Expand Business & Buy Debt Portfolio </td><td>958xx     </td><td>CA          </td><td style=\"text-align: right;\"> 5.55</td><td style=\"text-align: right;\">            0</td><td>2004-04-01 00:00:00</td><td style=\"text-align: right;\">               2</td><td>                        </td><td>                        </td><td style=\"text-align: right;\">        11</td><td style=\"text-align: right;\">        0</td><td style=\"text-align: right;\">       5210</td><td>32.6%       </td><td style=\"text-align: right;\">         13</td><td>f                    </td><td style=\"text-align: right;\">       0   </td><td style=\"text-align: right;\">           0   </td><td style=\"text-align: right;\">       646.02</td><td style=\"text-align: right;\">           646.02</td><td style=\"text-align: right;\">           162.02</td><td style=\"text-align: right;\">         294.94</td><td style=\"text-align: right;\">                0   </td><td style=\"text-align: right;\">      189.06</td><td style=\"text-align: right;\">                     2.09</td><td>2012-04-01 00:00:00</td><td style=\"text-align: right;\">           152.39</td><td>                   </td><td>2012-08-01 00:00:00 </td><td style=\"text-align: right;\">                           0</td><td>                             </td><td style=\"text-align: right;\">            1</td></tr>\n",
       "<tr><td style=\"text-align: right;\">1.07157e+06</td><td style=\"text-align: right;\">1.30672e+06</td><td style=\"text-align: right;\">       5375</td><td style=\"text-align: right;\">         5375</td><td style=\"text-align: right;\">             5350</td><td>60 months</td><td>12.69%    </td><td style=\"text-align: right;\">       121.45</td><td>B      </td><td>B5         </td><td>Starbucks                </td><td>< 1 year    </td><td>RENT            </td><td style=\"text-align: right;\">       15000</td><td>VERIFIED - income       </td><td>2011-12-01 00:00:00</td><td>Charged Off  </td><td>n           </td><td>https://www.lendingclub.com/browse/loanDetail.action?loan_id=1071570</td><td>Borrower added on 12/16/11 > I'm trying to build up my credit history. I live with my brother and have no car payment or credit cards. I am in community college and work full time. Im going to use the money to make some repairs around the house and get some maintenance done on my car.<br><br>  Borrower added on 12/20/11 > $1000 down only $4375 to go. Thanks to everyone that invested so far, looking forward to surprising my brother with the fixes around the house.<br>                                                                                                                     </td><td>other             </td><td>Building my credit history.          </td><td>774xx     </td><td>TX          </td><td style=\"text-align: right;\">18.08</td><td style=\"text-align: right;\">            0</td><td>2004-09-01 00:00:00</td><td style=\"text-align: right;\">               0</td><td>                        </td><td>                        </td><td style=\"text-align: right;\">         2</td><td style=\"text-align: right;\">        0</td><td style=\"text-align: right;\">       9279</td><td>36.5%       </td><td style=\"text-align: right;\">          3</td><td>f                    </td><td style=\"text-align: right;\">       0   </td><td style=\"text-align: right;\">           0   </td><td style=\"text-align: right;\">      1476.19</td><td style=\"text-align: right;\">          1469.34</td><td style=\"text-align: right;\">           673.48</td><td style=\"text-align: right;\">         533.42</td><td style=\"text-align: right;\">                0   </td><td style=\"text-align: right;\">      269.29</td><td style=\"text-align: right;\">                     2.52</td><td>2012-11-01 00:00:00</td><td style=\"text-align: right;\">           121.45</td><td>                   </td><td>2013-03-01 00:00:00 </td><td style=\"text-align: right;\">                           0</td><td>                             </td><td style=\"text-align: right;\">            1</td></tr>\n",
       "</tbody>\n",
       "</table>"
      ]
     },
     "metadata": {},
     "output_type": "display_data"
    },
    {
     "data": {
      "text/plain": []
     },
     "execution_count": 5,
     "metadata": {},
     "output_type": "execute_result"
    }
   ],
   "source": [
    "loans.head()"
   ]
  },
  {
   "cell_type": "markdown",
   "metadata": {},
   "source": [
    "------\n",
    "\n",
    ">## Comment: Data preparation for modeling\n",
    ">\n",
    ">In this tutorial, we either rush through or perhaps skip steps that a modeler would typically spend a considerable amount of effort on. For example, we omit entirely exploratory data analysis. Additionally, the process of **_defining the problem_** is often iterative and takes a lot of thought and effort. We make the assumption here that this work has already been done by the modeler.\n",
    ">\n",
    ">In reality, the majority of a modeler's time is spent on problem definition and data cleaning/wrangling/munging. Our speed at going through these steps to demonstrate the use of H2O-3 in no way minimizes the importance of careful and thoughtful data preparation for model building. \n",
    "\n",
    "-----\n"
   ]
  },
  {
   "cell_type": "markdown",
   "metadata": {},
   "source": [
    "# Step 3 (of 10).  Clean data\n",
    "\n",
    "\n",
    "## Part 1. Defining the problem and creating the response variable\n",
    "\n",
    "The total number of loans in our data set is"
   ]
  },
  {
   "cell_type": "code",
   "execution_count": 6,
   "metadata": {},
   "outputs": [
    {
     "data": {
      "text/plain": [
       "42536"
      ]
     },
     "execution_count": 6,
     "metadata": {},
     "output_type": "execute_result"
    }
   ],
   "source": [
    "num_unfiltered_loans = loans.dim[0]\n",
    "num_unfiltered_loans"
   ]
  },
  {
   "cell_type": "markdown",
   "metadata": {},
   "source": [
    "Because we are interested in loan default, we need to look at the `loan_status` column."
   ]
  },
  {
   "cell_type": "code",
   "execution_count": 7,
   "metadata": {},
   "outputs": [
    {
     "data": {
      "text/html": [
       "<table>\n",
       "<thead>\n",
       "<tr><th>loan_status                                             </th><th style=\"text-align: right;\">  Count</th></tr>\n",
       "</thead>\n",
       "<tbody>\n",
       "<tr><td>Charged Off                                             </td><td style=\"text-align: right;\">   5435</td></tr>\n",
       "<tr><td>Current                                                 </td><td style=\"text-align: right;\">   3351</td></tr>\n",
       "<tr><td>Default                                                 </td><td style=\"text-align: right;\">      7</td></tr>\n",
       "<tr><td>Does not meet the credit policy.  Status:Charged Off    </td><td style=\"text-align: right;\">    761</td></tr>\n",
       "<tr><td>Does not meet the credit policy.  Status:Current        </td><td style=\"text-align: right;\">     53</td></tr>\n",
       "<tr><td>Does not meet the credit policy.  Status:Fully Paid     </td><td style=\"text-align: right;\">   1933</td></tr>\n",
       "<tr><td>Does not meet the credit policy.  Status:In Grace Period</td><td style=\"text-align: right;\">      2</td></tr>\n",
       "<tr><td>Fully Paid                                              </td><td style=\"text-align: right;\">  30843</td></tr>\n",
       "<tr><td>In Grace Period                                         </td><td style=\"text-align: right;\">     60</td></tr>\n",
       "<tr><td>Late (16-30 days)                                       </td><td style=\"text-align: right;\">     16</td></tr>\n",
       "<tr><td>Late (31-120 days)                                      </td><td style=\"text-align: right;\">     74</td></tr>\n",
       "</tbody>\n",
       "</table>"
      ]
     },
     "metadata": {},
     "output_type": "display_data"
    },
    {
     "data": {
      "text/plain": []
     },
     "execution_count": 7,
     "metadata": {},
     "output_type": "execute_result"
    }
   ],
   "source": [
    "loans[\"loan_status\"].table().head(20)"
   ]
  },
  {
   "cell_type": "markdown",
   "metadata": {},
   "source": [
    "Like many real data sources, `loan_status` is messy and contains multiple, somewhat overlapping, categories. Before modeling, we will need to clean this up by (a) removing loans that are still ongoing, and (b) simplifying the response column.\n",
    "\n",
    "### (a) Filter Loans\n",
    "\n",
    "In order to build a valid model, we have to remove loans that are still in process. They have `loan_status` like \"Current\" and \"In Grace Period\":"
   ]
  },
  {
   "cell_type": "code",
   "execution_count": 8,
   "metadata": {},
   "outputs": [],
   "source": [
    "ongoing_status = [\"Current\",\n",
    "                  \"In Grace Period\",\n",
    "                  \"Late (16-30 days)\",\n",
    "                  \"Late (31-120 days)\",\n",
    "                  \"Does not meet the credit policy.  Status:Current\",\n",
    "                  \"Does not meet the credit policy.  Status:In Grace Period\"\n",
    "                 ]\n",
    "loans = loans[~loans[\"loan_status\"].isin(ongoing_status)]"
   ]
  },
  {
   "cell_type": "markdown",
   "metadata": {},
   "source": [
    "After filtering out ongoing loans, we now have"
   ]
  },
  {
   "cell_type": "code",
   "execution_count": 9,
   "metadata": {},
   "outputs": [
    {
     "data": {
      "text/plain": [
       "38980"
      ]
     },
     "execution_count": 9,
     "metadata": {},
     "output_type": "execute_result"
    }
   ],
   "source": [
    "num_filtered_loans = loans.dim[0]\n",
    "num_filtered_loans"
   ]
  },
  {
   "cell_type": "markdown",
   "metadata": {},
   "source": [
    "loans whose final state is known, which means we filtered out"
   ]
  },
  {
   "cell_type": "code",
   "execution_count": 10,
   "metadata": {},
   "outputs": [
    {
     "data": {
      "text/plain": [
       "3556"
      ]
     },
     "execution_count": 10,
     "metadata": {},
     "output_type": "execute_result"
    }
   ],
   "source": [
    "num_loans_filtered_out = num_unfiltered_loans - num_filtered_loans\n",
    "num_loans_filtered_out"
   ]
  },
  {
   "cell_type": "markdown",
   "metadata": {},
   "source": [
    "loans. These loans are now summarized by `loan_status` as"
   ]
  },
  {
   "cell_type": "code",
   "execution_count": 11,
   "metadata": {},
   "outputs": [
    {
     "data": {
      "text/html": [
       "<table>\n",
       "<thead>\n",
       "<tr><th>loan_status                                         </th><th style=\"text-align: right;\">  Count</th></tr>\n",
       "</thead>\n",
       "<tbody>\n",
       "<tr><td>Charged Off                                         </td><td style=\"text-align: right;\">   5435</td></tr>\n",
       "<tr><td>Default                                             </td><td style=\"text-align: right;\">      7</td></tr>\n",
       "<tr><td>Does not meet the credit policy.  Status:Charged Off</td><td style=\"text-align: right;\">    761</td></tr>\n",
       "<tr><td>Does not meet the credit policy.  Status:Fully Paid </td><td style=\"text-align: right;\">   1933</td></tr>\n",
       "<tr><td>Fully Paid                                          </td><td style=\"text-align: right;\">  30843</td></tr>\n",
       "</tbody>\n",
       "</table>"
      ]
     },
     "metadata": {},
     "output_type": "display_data"
    },
    {
     "data": {
      "text/plain": []
     },
     "execution_count": 11,
     "metadata": {},
     "output_type": "execute_result"
    }
   ],
   "source": [
    "loans[\"loan_status\"].table().head(20)"
   ]
  },
  {
   "cell_type": "markdown",
   "metadata": {},
   "source": [
    "### (b) Create Response Column\n",
    "\n",
    "Let's name our response column `bad_loan`, which will equal one if the loan was not completely paid off."
   ]
  },
  {
   "cell_type": "code",
   "execution_count": 12,
   "metadata": {},
   "outputs": [],
   "source": [
    "fully_paid = [\"Fully Paid\",\n",
    "              \"Does not meet the credit policy.  Status:Fully Paid\"\n",
    "             ]\n",
    "loans[\"bad_loan\"] = ~(loans[\"loan_status\"].isin(fully_paid))"
   ]
  },
  {
   "cell_type": "markdown",
   "metadata": {},
   "source": [
    "Next make the `bad_loan` column a factor so that we can build a classification model,"
   ]
  },
  {
   "cell_type": "code",
   "execution_count": 13,
   "metadata": {},
   "outputs": [],
   "source": [
    "loans[\"bad_loan\"] = loans[\"bad_loan\"].asfactor()"
   ]
  },
  {
   "cell_type": "markdown",
   "metadata": {},
   "source": [
    "The percentage of bad loans is given by"
   ]
  },
  {
   "cell_type": "code",
   "execution_count": 14,
   "metadata": {},
   "outputs": [
    {
     "data": {
      "text/html": [
       "<table>\n",
       "<thead>\n",
       "<tr><th style=\"text-align: right;\">  bad_loan</th><th style=\"text-align: right;\">  Count</th><th style=\"text-align: right;\">  Percentage</th></tr>\n",
       "</thead>\n",
       "<tbody>\n",
       "<tr><td style=\"text-align: right;\">         0</td><td style=\"text-align: right;\">  32776</td><td style=\"text-align: right;\">          84</td></tr>\n",
       "<tr><td style=\"text-align: right;\">         1</td><td style=\"text-align: right;\">   6204</td><td style=\"text-align: right;\">          16</td></tr>\n",
       "</tbody>\n",
       "</table>"
      ]
     },
     "metadata": {},
     "output_type": "display_data"
    },
    {
     "data": {
      "text/plain": []
     },
     "execution_count": 14,
     "metadata": {},
     "output_type": "execute_result"
    }
   ],
   "source": [
    "bad_loan_dist = loans[\"bad_loan\"].table()\n",
    "bad_loan_dist[\"Percentage\"] = (100 * bad_loan_dist[\"Count\"] / loans.nrow).round()\n",
    "bad_loan_dist"
   ]
  },
  {
   "cell_type": "markdown",
   "metadata": {},
   "source": [
    "## Part 2. Convert strings to numeric\n",
    "\n",
    "Consider the columns `int_rate`, `revol_util`, and `emp_length`:"
   ]
  },
  {
   "cell_type": "code",
   "execution_count": 15,
   "metadata": {},
   "outputs": [
    {
     "data": {
      "text/html": [
       "<table>\n",
       "<thead>\n",
       "<tr><th>int_rate  </th><th>revol_util  </th><th>emp_length  </th></tr>\n",
       "</thead>\n",
       "<tbody>\n",
       "<tr><td>10.65%    </td><td>83.7%       </td><td>10+ years   </td></tr>\n",
       "<tr><td>15.27%    </td><td>9.4%        </td><td>< 1 year    </td></tr>\n",
       "<tr><td>15.96%    </td><td>98.5%       </td><td>10+ years   </td></tr>\n",
       "<tr><td>13.49%    </td><td>21%         </td><td>10+ years   </td></tr>\n",
       "<tr><td>7.90%     </td><td>28.3%       </td><td>3 years     </td></tr>\n",
       "<tr><td>18.64%    </td><td>87.5%       </td><td>9 years     </td></tr>\n",
       "<tr><td>21.28%    </td><td>32.6%       </td><td>4 years     </td></tr>\n",
       "<tr><td>12.69%    </td><td>36.5%       </td><td>< 1 year    </td></tr>\n",
       "<tr><td>14.65%    </td><td>20.6%       </td><td>5 years     </td></tr>\n",
       "<tr><td>12.69%    </td><td>67.1%       </td><td>10+ years   </td></tr>\n",
       "</tbody>\n",
       "</table>"
      ]
     },
     "metadata": {},
     "output_type": "display_data"
    },
    {
     "data": {
      "text/plain": []
     },
     "execution_count": 15,
     "metadata": {},
     "output_type": "execute_result"
    }
   ],
   "source": [
    "loans[[\"int_rate\", \"revol_util\", \"emp_length\"]].head()"
   ]
  },
  {
   "cell_type": "markdown",
   "metadata": {},
   "source": [
    "Both `int_rate` and `revol_util` are inherently numeric but entered as percentages. Since they include a \"%\" sign, they are read in as strings. The solution for both of these columns is simple: strip the \"%\" sign and convert the strings to numeric.\n",
    "\n",
    "The `emp_length` column is only slightly more complex. Besides removing the \"year\" or \"years\" term, we have to deal with `< 1` and `10+`, which aren't directly numeric. If we define `< 1` as 0 and `10+` as 10, then `emp_length` can also be cast as numeric.\n",
    "\n",
    "We demonstrate the steps for converting these string variables into numeric values below.\n",
    "\n",
    "### Convert `int_rate`"
   ]
  },
  {
   "cell_type": "code",
   "execution_count": 16,
   "metadata": {},
   "outputs": [],
   "source": [
    "loans[\"int_rate\"] = loans[\"int_rate\"].gsub(pattern = \"%\", replacement = \"\") # strip %\n",
    "loans[\"int_rate\"] = loans[\"int_rate\"].trim() # trim whitespace\n",
    "loans[\"int_rate\"] = loans[\"int_rate\"].asnumeric() # change to numeric "
   ]
  },
  {
   "cell_type": "markdown",
   "metadata": {},
   "source": [
    "### Convert `revol_util`"
   ]
  },
  {
   "cell_type": "code",
   "execution_count": 17,
   "metadata": {},
   "outputs": [],
   "source": [
    "loans[\"revol_util\"] = loans[\"revol_util\"].gsub(pattern=\"%\", replacement=\"\") # strip %\n",
    "loans[\"revol_util\"] = loans[\"revol_util\"].trim() # trim whitespace\n",
    "loans[\"revol_util\"] = loans[\"revol_util\"].asnumeric() # change to numeric "
   ]
  },
  {
   "cell_type": "markdown",
   "metadata": {},
   "source": [
    "### Convert `emp_length`"
   ]
  },
  {
   "cell_type": "code",
   "execution_count": 18,
   "metadata": {},
   "outputs": [],
   "source": [
    "# Use gsub to remove \" year\" and \" years\"; also translate n/a to \"\" \n",
    "loans[\"emp_length\"] = loans[\"emp_length\"].gsub(pattern=\"([ ]*+[a-zA-Z].*)|(n/a)\", replacement=\"\") \n",
    "loans[\"emp_length\"] = loans[\"emp_length\"].trim() # trim whitespace\n",
    "\n",
    "loans[\"emp_length\"] = loans[\"emp_length\"].gsub(pattern=\"< 1\", replacement=\"0\") # convert \"< 1\" to 0\n",
    "loans[\"emp_length\"] = loans[\"emp_length\"].gsub(pattern=\"10\\\\+\", replacement=\"10\") # convert \"10+\" to 10\n",
    "loans[\"emp_length\"] = loans[\"emp_length\"].asnumeric() # trim whitespace"
   ]
  },
  {
   "cell_type": "markdown",
   "metadata": {},
   "source": [
    "These steps result in"
   ]
  },
  {
   "cell_type": "code",
   "execution_count": 19,
   "metadata": {},
   "outputs": [
    {
     "data": {
      "text/html": [
       "<table>\n",
       "<thead>\n",
       "<tr><th style=\"text-align: right;\">  int_rate</th><th style=\"text-align: right;\">  revol_util</th><th style=\"text-align: right;\">  emp_length</th></tr>\n",
       "</thead>\n",
       "<tbody>\n",
       "<tr><td style=\"text-align: right;\">     10.65</td><td style=\"text-align: right;\">        83.7</td><td style=\"text-align: right;\">          10</td></tr>\n",
       "<tr><td style=\"text-align: right;\">     15.27</td><td style=\"text-align: right;\">         9.4</td><td style=\"text-align: right;\">           0</td></tr>\n",
       "<tr><td style=\"text-align: right;\">     15.96</td><td style=\"text-align: right;\">        98.5</td><td style=\"text-align: right;\">          10</td></tr>\n",
       "<tr><td style=\"text-align: right;\">     13.49</td><td style=\"text-align: right;\">        21  </td><td style=\"text-align: right;\">          10</td></tr>\n",
       "<tr><td style=\"text-align: right;\">      7.9 </td><td style=\"text-align: right;\">        28.3</td><td style=\"text-align: right;\">           3</td></tr>\n",
       "<tr><td style=\"text-align: right;\">     18.64</td><td style=\"text-align: right;\">        87.5</td><td style=\"text-align: right;\">           9</td></tr>\n",
       "<tr><td style=\"text-align: right;\">     21.28</td><td style=\"text-align: right;\">        32.6</td><td style=\"text-align: right;\">           4</td></tr>\n",
       "<tr><td style=\"text-align: right;\">     12.69</td><td style=\"text-align: right;\">        36.5</td><td style=\"text-align: right;\">           0</td></tr>\n",
       "<tr><td style=\"text-align: right;\">     14.65</td><td style=\"text-align: right;\">        20.6</td><td style=\"text-align: right;\">           5</td></tr>\n",
       "<tr><td style=\"text-align: right;\">     12.69</td><td style=\"text-align: right;\">        67.1</td><td style=\"text-align: right;\">          10</td></tr>\n",
       "</tbody>\n",
       "</table>"
      ]
     },
     "metadata": {},
     "output_type": "display_data"
    },
    {
     "data": {
      "text/plain": []
     },
     "execution_count": 19,
     "metadata": {},
     "output_type": "execute_result"
    }
   ],
   "source": [
    "loans[[\"int_rate\", \"revol_util\", \"emp_length\"]].head()"
   ]
  },
  {
   "cell_type": "markdown",
   "metadata": {},
   "source": [
    "### Note: Interest rate distributions\n",
    "\n",
    "Now that we have converted interest rate to numeric, we can use the `hist` function to compare the interest rate distributions for good and bad loans."
   ]
  },
  {
   "cell_type": "code",
   "execution_count": 20,
   "metadata": {},
   "outputs": [
    {
     "name": "stdout",
     "output_type": "stream",
     "text": [
      "Bad Loans\n"
     ]
    },
    {
     "data": {
      "image/png": "[encoded data removed]",
      "text/plain": [
       "<Figure size 432x288 with 1 Axes>"
      ]
     },
     "metadata": {
      "needs_background": "light"
     },
     "output_type": "display_data"
    },
    {
     "name": "stdout",
     "output_type": "stream",
     "text": [
      "Good Loans\n"
     ]
    },
    {
     "data": {
      "image/png": "[encoded data removed]",
      "text/plain": [
       "<Figure size 432x288 with 1 Axes>"
      ]
     },
     "metadata": {
      "needs_background": "light"
     },
     "output_type": "display_data"
    }
   ],
   "source": [
    "%matplotlib inline\n",
    "\n",
    "print(\"Bad Loans\")\n",
    "loans[loans[\"bad_loan\"] == \"1\", \"int_rate\"].hist()\n",
    "\n",
    "print(\"Good Loans\")\n",
    "loans[loans[\"bad_loan\"] == \"0\", \"int_rate\"].hist()"
   ]
  },
  {
   "cell_type": "markdown",
   "metadata": {},
   "source": [
    "As expected, the bad loan distribution contains proportionately more high interest rate loans than the distribution for good loans. Likewise, the good loan distribution contains a higher proportion of low interest rate loans than that for bad loans. It would not surprise us if interest rate were a strong predictor of loan performance.\n",
    "\n",
    ">Financial institutions typically set a borrower's interest rate based on factors like estimated risk and customer demand. If the underwriting rules are any good at all, we would expect interest rate to be one of the best predictors of default. "
   ]
  },
  {
   "cell_type": "markdown",
   "metadata": {},
   "source": [
    "## Part 3. Clean up messy categorical columns\n",
    "\n",
    "Much as we did with the `loan_status` column, the `verification_status` column needs cleaning"
   ]
  },
  {
   "cell_type": "code",
   "execution_count": 21,
   "metadata": {},
   "outputs": [
    {
     "data": {
      "text/html": [
       "<table>\n",
       "<thead>\n",
       "<tr><th>verification_status     </th></tr>\n",
       "</thead>\n",
       "<tbody>\n",
       "<tr><td>VERIFIED - income       </td></tr>\n",
       "<tr><td>VERIFIED - income source</td></tr>\n",
       "<tr><td>not verified            </td></tr>\n",
       "<tr><td>VERIFIED - income source</td></tr>\n",
       "<tr><td>VERIFIED - income source</td></tr>\n",
       "<tr><td>VERIFIED - income source</td></tr>\n",
       "<tr><td>VERIFIED - income source</td></tr>\n",
       "<tr><td>VERIFIED - income       </td></tr>\n",
       "<tr><td>not verified            </td></tr>\n",
       "<tr><td>VERIFIED - income source</td></tr>\n",
       "</tbody>\n",
       "</table>"
      ]
     },
     "metadata": {},
     "output_type": "display_data"
    },
    {
     "data": {
      "text/plain": []
     },
     "execution_count": 21,
     "metadata": {},
     "output_type": "execute_result"
    }
   ],
   "source": [
    "loans[\"verification_status\"].head()"
   ]
  },
  {
   "cell_type": "markdown",
   "metadata": {},
   "source": [
    "Because there are multiple values that mean verified (\"VERIFIED - income\" and \"VERIFIED - income source\"), we replace them simply with \"verified\","
   ]
  },
  {
   "cell_type": "code",
   "execution_count": 22,
   "metadata": {},
   "outputs": [],
   "source": [
    "loans[\"verification_status\"] = loans[\"verification_status\"].sub(pattern=\"VERIFIED - income source\", \n",
    "                                                                replacement=\"verified\")\n",
    "loans[\"verification_status\"] = loans[\"verification_status\"].sub(pattern=\"VERIFIED - income\", \n",
    "                                                                replacement=\"verified\")\n",
    "loans[\"verification_status\"] = loans[\"verification_status\"].asfactor()"
   ]
  },
  {
   "cell_type": "markdown",
   "metadata": {},
   "source": [
    "resulting in"
   ]
  },
  {
   "cell_type": "code",
   "execution_count": 23,
   "metadata": {
    "scrolled": true
   },
   "outputs": [
    {
     "data": {
      "text/html": [
       "<table>\n",
       "<thead>\n",
       "<tr><th>verification_status  </th><th style=\"text-align: right;\">  Count</th></tr>\n",
       "</thead>\n",
       "<tbody>\n",
       "<tr><td>not verified         </td><td style=\"text-align: right;\">  17947</td></tr>\n",
       "<tr><td>verified             </td><td style=\"text-align: right;\">  21032</td></tr>\n",
       "</tbody>\n",
       "</table>"
      ]
     },
     "metadata": {},
     "output_type": "display_data"
    },
    {
     "data": {
      "text/plain": []
     },
     "execution_count": 23,
     "metadata": {},
     "output_type": "execute_result"
    }
   ],
   "source": [
    "loans[\"verification_status\"].table()"
   ]
  },
  {
   "cell_type": "markdown",
   "metadata": {},
   "source": [
    "# Step 4 (of 10).  Feature engineering\n",
    "\n",
    "Now that we have cleaned our data, we can extract information from our current columns to create new features. This process is referred to as _feature engineering_. The general idea is to express information found in our data in a manner that is most understandable to the algorithms we employ, with the goal of improving the performance of our supervised learning models.\n",
    "\n",
    "Feature engineering can be considered the \"secret sauce\" in building a superior predictive model: it is often (although not always) more important than the choice of machine learning algorithm. A very good summary of feature engineering recipes can be found in the online [Driverless AI Documentation](http://docs.h2o.ai/driverless-ai/latest-stable/docs/userguide/transformations.html). \n",
    "\n",
    "We will do some basic feature engineering using the date fields in our data, and then use NLP (natural language processing) to create word embedding features from the loan description text field in our data.\n",
    "\n",
    "The new columns we will create are: \n",
    "* `credit_length`: the number of years someone has had a credit history\n",
    "* `issue_d_year` and `issue_d_month`: the year and month from the loan issue date\n",
    "* word embeddings from the loan description\n",
    "\n",
    "### Credit Length\n",
    "\n",
    "We create the `credit_length` feature by subtracting the year of a customer's earliest credit line from the year they were issued the loan."
   ]
  },
  {
   "cell_type": "code",
   "execution_count": 24,
   "metadata": {},
   "outputs": [
    {
     "data": {
      "text/html": [
       "<table>\n",
       "<thead>\n",
       "<tr><th style=\"text-align: right;\">  credit_length</th></tr>\n",
       "</thead>\n",
       "<tbody>\n",
       "<tr><td style=\"text-align: right;\">             26</td></tr>\n",
       "<tr><td style=\"text-align: right;\">             12</td></tr>\n",
       "<tr><td style=\"text-align: right;\">             10</td></tr>\n",
       "<tr><td style=\"text-align: right;\">             15</td></tr>\n",
       "<tr><td style=\"text-align: right;\">              7</td></tr>\n",
       "<tr><td style=\"text-align: right;\">              4</td></tr>\n",
       "<tr><td style=\"text-align: right;\">              7</td></tr>\n",
       "<tr><td style=\"text-align: right;\">              7</td></tr>\n",
       "<tr><td style=\"text-align: right;\">             13</td></tr>\n",
       "<tr><td style=\"text-align: right;\">             22</td></tr>\n",
       "</tbody>\n",
       "</table>"
      ]
     },
     "metadata": {},
     "output_type": "display_data"
    },
    {
     "data": {
      "text/plain": []
     },
     "execution_count": 24,
     "metadata": {},
     "output_type": "execute_result"
    }
   ],
   "source": [
    "loans[\"credit_length\"] = loans[\"issue_d\"].year() - loans[\"earliest_cr_line\"].year()\n",
    "loans[\"credit_length\"].head()"
   ]
  },
  {
   "cell_type": "markdown",
   "metadata": {},
   "source": [
    "### Issue Date Expansion\n",
    "\n",
    "We next extract the year and month from the issue date.  We may find that the month or the year when the loan was issued will impact the probability of a bad loan. Additionally, since months are cyclical we will treat `issue_d_month` as a factor."
   ]
  },
  {
   "cell_type": "code",
   "execution_count": 25,
   "metadata": {},
   "outputs": [
    {
     "data": {
      "text/html": [
       "<table>\n",
       "<thead>\n",
       "<tr><th style=\"text-align: right;\">  issue_d_year</th><th style=\"text-align: right;\">  issue_d_month</th></tr>\n",
       "</thead>\n",
       "<tbody>\n",
       "<tr><td style=\"text-align: right;\">          2011</td><td style=\"text-align: right;\">             12</td></tr>\n",
       "<tr><td style=\"text-align: right;\">          2011</td><td style=\"text-align: right;\">             12</td></tr>\n",
       "<tr><td style=\"text-align: right;\">          2011</td><td style=\"text-align: right;\">             12</td></tr>\n",
       "<tr><td style=\"text-align: right;\">          2011</td><td style=\"text-align: right;\">             12</td></tr>\n",
       "<tr><td style=\"text-align: right;\">          2011</td><td style=\"text-align: right;\">             12</td></tr>\n",
       "<tr><td style=\"text-align: right;\">          2011</td><td style=\"text-align: right;\">             12</td></tr>\n",
       "<tr><td style=\"text-align: right;\">          2011</td><td style=\"text-align: right;\">             12</td></tr>\n",
       "<tr><td style=\"text-align: right;\">          2011</td><td style=\"text-align: right;\">             12</td></tr>\n",
       "<tr><td style=\"text-align: right;\">          2011</td><td style=\"text-align: right;\">             12</td></tr>\n",
       "<tr><td style=\"text-align: right;\">          2011</td><td style=\"text-align: right;\">             12</td></tr>\n",
       "</tbody>\n",
       "</table>"
      ]
     },
     "metadata": {},
     "output_type": "display_data"
    },
    {
     "data": {
      "text/plain": []
     },
     "execution_count": 25,
     "metadata": {},
     "output_type": "execute_result"
    }
   ],
   "source": [
    "loans[\"issue_d_year\"] = loans[\"issue_d\"].year()\n",
    "loans[\"issue_d_month\"] = loans[\"issue_d\"].month().asfactor()\n",
    "\n",
    "loans[[\"issue_d_year\", \"issue_d_month\"]].head()"
   ]
  },
  {
   "cell_type": "markdown",
   "metadata": {},
   "source": [
    "### Word Embeddings\n",
    "\n",
    "One of the columns in our dataset is a user-provided description of why the loan was requested. The first few descriptions in the dataset are shown below."
   ]
  },
  {
   "cell_type": "code",
   "execution_count": 26,
   "metadata": {},
   "outputs": [
    {
     "data": {
      "text/html": [
       "<table>\n",
       "<thead>\n",
       "<tr><th>desc                                                                                                                                                                                                                                                                                                                                                                                                                                                                                                                                                                                                        </th></tr>\n",
       "</thead>\n",
       "<tbody>\n",
       "<tr><td>Borrower added on 12/22/11 > I need to upgrade my business technologies.<br>                                                                                                                                                                                                                                                                                                                                                                                                                                                                                                                                </td></tr>\n",
       "<tr><td>Borrower added on 12/22/11 > I plan to use this money to finance the motorcycle i am looking at. I plan to have it paid off as soon as possible/when i sell my old bike. I only need this money because the deal im looking at is to good to pass up.<br><br>  Borrower added on 12/22/11 > I plan to use this money to finance the motorcycle i am looking at. I plan to have it paid off as soon as possible/when i sell my old bike.I only need this money because the deal im looking at is to good to pass up. I have finished college with an associates degree in business and its takingmeplaces<br></td></tr>\n",
       "<tr><td>                                                                                                                                                                                                                                                                                                                                                                                                                                                                                                                                                                                                            </td></tr>\n",
       "<tr><td>Borrower added on 12/21/11 > to pay for property tax (borrow from friend, need to pay back) & central A/C need to be replace. I'm very sorry to let my loan expired last time.<br>                                                                                                                                                                                                                                                                                                                                                                                                                          </td></tr>\n",
       "<tr><td>                                                                                                                                                                                                                                                                                                                                                                                                                                                                                                                                                                                                            </td></tr>\n",
       "<tr><td>Borrower added on 12/16/11 > Downpayment for a car.<br>                                                                                                                                                                                                                                                                                                                                                                                                                                                                                                                                                     </td></tr>\n",
       "<tr><td>Borrower added on 12/21/11 > I own a small home-based judgment collection business. I have 5 years experience collecting debts. I am now going from a home office to a small office. I also plan to buy a small debt portfolio (eg. $10K for $1M of debt) <br>My score is not A+ because I own my home and have no mortgage.<br>                                                                                                                                                                                                                                                                            </td></tr>\n",
       "<tr><td>Borrower added on 12/16/11 > I'm trying to build up my credit history. I live with my brother and have no car payment or credit cards. I am in community college and work full time. Im going to use the money to make some repairs around the house and get some maintenance done on my car.<br><br>  Borrower added on 12/20/11 > $1000 down only $4375 to go. Thanks to everyone that invested so far, looking forward to surprising my brother with the fixes around the house.<br>                                                                                                                     </td></tr>\n",
       "<tr><td>Borrower added on 12/15/11 > I had recived a loan from Citi Financial about a year ago, I was paying 29.99 intrest, so the refinance is to cut that rate since cleaning up my credit I have been paying everything on time as shown on my credit report<br>                                                                                                                                                                                                                                                                                                                                                 </td></tr>\n",
       "<tr><td>                                                                                                                                                                                                                                                                                                                                                                                                                                                                                                                                                                                                            </td></tr>\n",
       "</tbody>\n",
       "</table>"
      ]
     },
     "metadata": {},
     "output_type": "display_data"
    },
    {
     "data": {
      "text/plain": []
     },
     "execution_count": 26,
     "metadata": {},
     "output_type": "execute_result"
    }
   ],
   "source": [
    "loans[\"desc\"].head()"
   ]
  },
  {
   "cell_type": "markdown",
   "metadata": {},
   "source": [
    "The descriptions may contain information that would assist in predicting default, but supervised learning algorithms in general have a hard time understanding text. We need to convert these strings into a numeric representation of the text in order for our algorithms to operate on it. There are multiple choices for doing so, in this example we will use the Word2Vec algorithm.\n",
    "\n",
    "We start by defining stop words (terms that are considered too frequent to carry much information) "
   ]
  },
  {
   "cell_type": "code",
   "execution_count": 27,
   "metadata": {},
   "outputs": [],
   "source": [
    "STOP_WORDS = [\"ax\",\"i\",\"you\",\"edu\",\"s\",\"t\",\"m\",\"subject\",\"can\",\"lines\",\"re\",\"what\",\n",
    "              \"there\",\"all\",\"we\",\"one\",\"the\",\"a\",\"an\",\"of\",\"or\",\"in\",\"for\",\"by\",\"on\",\n",
    "              \"but\",\"is\",\"in\",\"a\",\"not\",\"with\",\"as\",\"was\",\"if\",\"they\",\"are\",\"this\",\"and\",\"it\",\"have\",\n",
    "              \"from\",\"at\",\"my\",\"be\",\"by\",\"not\",\"that\",\"to\",\"from\",\"com\",\"org\",\"like\",\"likes\",\"so\"]"
   ]
  },
  {
   "cell_type": "markdown",
   "metadata": {},
   "source": [
    "We next _tokenize_ the descriptions by breaking the text into individual words"
   ]
  },
  {
   "cell_type": "code",
   "execution_count": 28,
   "metadata": {},
   "outputs": [],
   "source": [
    "def tokenize(sentences, stop_word = STOP_WORDS):\n",
    "    tokenized = sentences.tokenize(\"\\\\W+\")\n",
    "    tokenized_lower = tokenized.tolower()\n",
    "    tokenized_filtered = tokenized_lower[(tokenized_lower.nchar() >= 2) | (tokenized_lower.isna()),:]\n",
    "    tokenized_words = tokenized_filtered[tokenized_filtered.grep(\"[0-9]\",invert=True,output_logical=True),:]\n",
    "    tokenized_words = tokenized_words[(tokenized_words.isna()) | (~ tokenized_words.isin(STOP_WORDS)),:]\n",
    "    return tokenized_words\n",
    "\n",
    "words = tokenize(loans[\"desc\"].ascharacter())"
   ]
  },
  {
   "cell_type": "markdown",
   "metadata": {},
   "source": [
    "Then we train our Word2Vec model on the words extracted from our descriptions. We choose an output vector size of 100.\n",
    "\n",
    ">What does Word2Vec do? At a high level, it is a dimensionality reduction method for numerical representations of text. But it reduces dimensionality while preserving relationships between words in the text.\n",
    ">\n",
    ">Suppose we were to create a dictionary of all the words in our descriptions, and further suppose that dictionary contained 2500 unique words. At one extreme, we could create an indicator variable for each word (i.e., one-hot encoding). This would yield 2500 new features that would certainly lead to massive overfitting of models.\n",
    ">\n",
    ">At the other extreme, suppose we had someone classify those words into different groups and create indicator variables for each group: e.g., `risky_words` (\"bankruptcy\", \"default\", \"forfeit\", \"lien\", etc.), `angry_words` (profanity, \"complaint\", etc.), and so on. This reduces dimensionality by manually grouping words, but it is extremely labor intensive.\n",
    ">\n",
    ">Word2Vec starts with the entire dictionary size $K$ as inputs and the selected vector size $k$ as the target number of outputs. Passing through the intermediate layer(s) of the Word2Vec neural net, a $k$-dimensional numeric representation of each word is derived. "
   ]
  },
  {
   "cell_type": "code",
   "execution_count": 29,
   "metadata": {},
   "outputs": [
    {
     "name": "stdout",
     "output_type": "stream",
     "text": [
      "word2vec Model Build progress: |██████████████████████████████████████████| 100%\n"
     ]
    }
   ],
   "source": [
    "from h2o.estimators.word2vec import H2OWord2vecEstimator\n",
    "\n",
    "w2v_model = H2OWord2vecEstimator(vec_size=100, model_id=\"w2v\")\n",
    "w2v_model.train(training_frame=words)"
   ]
  },
  {
   "cell_type": "markdown",
   "metadata": {},
   "source": [
    "One way we quickly sanity check the Word2Vec model is by finding synonyms for specified words, e.g., \"car\""
   ]
  },
  {
   "cell_type": "code",
   "execution_count": 30,
   "metadata": {},
   "outputs": [
    {
     "data": {
      "text/plain": [
       "OrderedDict([('auto', 0.7671787738800049),\n",
       "             ('vehicle', 0.7068583965301514),\n",
       "             ('lexus', 0.7020594477653503),\n",
       "             ('camry', 0.6754133105278015),\n",
       "             ('prius', 0.6687757968902588)])"
      ]
     },
     "execution_count": 30,
     "metadata": {},
     "output_type": "execute_result"
    }
   ],
   "source": [
    "w2v_model.find_synonyms(\"car\", count=5)"
   ]
  },
  {
   "cell_type": "markdown",
   "metadata": {},
   "source": [
    "Assuming we are satisfied with our Word2Vec model results, we next calculate a vector for each description by averaging over all of the words in that description"
   ]
  },
  {
   "cell_type": "code",
   "execution_count": 31,
   "metadata": {
    "scrolled": true
   },
   "outputs": [
    {
     "data": {
      "text/html": [
       "<table>\n",
       "<thead>\n",
       "<tr><th style=\"text-align: right;\">         C1</th><th style=\"text-align: right;\">         C2</th><th style=\"text-align: right;\">        C3</th><th style=\"text-align: right;\">          C4</th><th style=\"text-align: right;\">          C5</th><th style=\"text-align: right;\">        C6</th><th style=\"text-align: right;\">          C7</th><th style=\"text-align: right;\">         C8</th><th style=\"text-align: right;\">         C9</th><th style=\"text-align: right;\">        C10</th><th style=\"text-align: right;\">         C11</th><th style=\"text-align: right;\">        C12</th><th style=\"text-align: right;\">         C13</th><th style=\"text-align: right;\">        C14</th><th style=\"text-align: right;\">         C15</th><th style=\"text-align: right;\">        C16</th><th style=\"text-align: right;\">        C17</th><th style=\"text-align: right;\">        C18</th><th style=\"text-align: right;\">        C19</th><th style=\"text-align: right;\">         C20</th><th style=\"text-align: right;\">         C21</th><th style=\"text-align: right;\">         C22</th><th style=\"text-align: right;\">         C23</th><th style=\"text-align: right;\">        C24</th><th style=\"text-align: right;\">        C25</th><th style=\"text-align: right;\">         C26</th><th style=\"text-align: right;\">        C27</th><th style=\"text-align: right;\">         C28</th><th style=\"text-align: right;\">        C29</th><th style=\"text-align: right;\">        C30</th><th style=\"text-align: right;\">         C31</th><th style=\"text-align: right;\">       C32</th><th style=\"text-align: right;\">         C33</th><th style=\"text-align: right;\">        C34</th><th style=\"text-align: right;\">        C35</th><th style=\"text-align: right;\">        C36</th><th style=\"text-align: right;\">        C37</th><th style=\"text-align: right;\">       C38</th><th style=\"text-align: right;\">        C39</th><th style=\"text-align: right;\">         C40</th><th style=\"text-align: right;\">        C41</th><th style=\"text-align: right;\">       C42</th><th style=\"text-align: right;\">         C43</th><th style=\"text-align: right;\">         C44</th><th style=\"text-align: right;\">       C45</th><th style=\"text-align: right;\">       C46</th><th style=\"text-align: right;\">       C47</th><th style=\"text-align: right;\">         C48</th><th style=\"text-align: right;\">        C49</th><th style=\"text-align: right;\">       C50</th><th style=\"text-align: right;\">         C51</th><th style=\"text-align: right;\">        C52</th><th style=\"text-align: right;\">        C53</th><th style=\"text-align: right;\">        C54</th><th style=\"text-align: right;\">        C55</th><th style=\"text-align: right;\">        C56</th><th style=\"text-align: right;\">        C57</th><th style=\"text-align: right;\">        C58</th><th style=\"text-align: right;\">        C59</th><th style=\"text-align: right;\">        C60</th><th style=\"text-align: right;\">        C61</th><th style=\"text-align: right;\">        C62</th><th style=\"text-align: right;\">         C63</th><th style=\"text-align: right;\">        C64</th><th style=\"text-align: right;\">         C65</th><th style=\"text-align: right;\">        C66</th><th style=\"text-align: right;\">         C67</th><th style=\"text-align: right;\">          C68</th><th style=\"text-align: right;\">         C69</th><th style=\"text-align: right;\">        C70</th><th style=\"text-align: right;\">        C71</th><th style=\"text-align: right;\">        C72</th><th style=\"text-align: right;\">        C73</th><th style=\"text-align: right;\">        C74</th><th style=\"text-align: right;\">         C75</th><th style=\"text-align: right;\">        C76</th><th style=\"text-align: right;\">         C77</th><th style=\"text-align: right;\">          C78</th><th style=\"text-align: right;\">        C79</th><th style=\"text-align: right;\">       C80</th><th style=\"text-align: right;\">         C81</th><th style=\"text-align: right;\">         C82</th><th style=\"text-align: right;\">       C83</th><th style=\"text-align: right;\">       C84</th><th style=\"text-align: right;\">       C85</th><th style=\"text-align: right;\">        C86</th><th style=\"text-align: right;\">        C87</th><th style=\"text-align: right;\">       C88</th><th style=\"text-align: right;\">        C89</th><th style=\"text-align: right;\">         C90</th><th style=\"text-align: right;\">         C91</th><th style=\"text-align: right;\">        C92</th><th style=\"text-align: right;\">        C93</th><th style=\"text-align: right;\">        C94</th><th style=\"text-align: right;\">         C95</th><th style=\"text-align: right;\">        C96</th><th style=\"text-align: right;\">         C97</th><th style=\"text-align: right;\">        C98</th><th style=\"text-align: right;\">         C99</th><th style=\"text-align: right;\">      C100</th></tr>\n",
       "</thead>\n",
       "<tbody>\n",
       "<tr><td style=\"text-align: right;\"> -0.0150468</td><td style=\"text-align: right;\">  0.0574229</td><td style=\"text-align: right;\"> -0.274938</td><td style=\"text-align: right;\">  0.0363572 </td><td style=\"text-align: right;\"> -0.163509  </td><td style=\"text-align: right;\">  0.160055</td><td style=\"text-align: right;\">  0.144455  </td><td style=\"text-align: right;\"> -0.0819984</td><td style=\"text-align: right;\"> -0.0631372</td><td style=\"text-align: right;\">  0.0736658</td><td style=\"text-align: right;\"> -0.0951282 </td><td style=\"text-align: right;\">  0.16131  </td><td style=\"text-align: right;\">  0.105584  </td><td style=\"text-align: right;\"> -0.0335627</td><td style=\"text-align: right;\"> -0.00125349</td><td style=\"text-align: right;\">  0.0839772</td><td style=\"text-align: right;\"> -0.0312096</td><td style=\"text-align: right;\">  0.057632 </td><td style=\"text-align: right;\">  0.143891 </td><td style=\"text-align: right;\"> -0.0252117 </td><td style=\"text-align: right;\"> -0.0858071 </td><td style=\"text-align: right;\"> -0.131541  </td><td style=\"text-align: right;\">  0.159294  </td><td style=\"text-align: right;\"> -0.145895 </td><td style=\"text-align: right;\">  0.163013 </td><td style=\"text-align: right;\">  0.00414807</td><td style=\"text-align: right;\"> -0.032845 </td><td style=\"text-align: right;\"> -0.0275507 </td><td style=\"text-align: right;\">  0.0670754</td><td style=\"text-align: right;\">  0.0381781</td><td style=\"text-align: right;\"> -0.0162501 </td><td style=\"text-align: right;\">  0.239707</td><td style=\"text-align: right;\">  0.00556109</td><td style=\"text-align: right;\">  0.119611 </td><td style=\"text-align: right;\"> -0.0691637</td><td style=\"text-align: right;\">  0.154916 </td><td style=\"text-align: right;\"> -0.307581 </td><td style=\"text-align: right;\"> -0.096845</td><td style=\"text-align: right;\">  0.253418 </td><td style=\"text-align: right;\">  0.0987209 </td><td style=\"text-align: right;\">  0.0487917</td><td style=\"text-align: right;\"> -0.086192</td><td style=\"text-align: right;\"> -0.0070711 </td><td style=\"text-align: right;\">  0.0541192 </td><td style=\"text-align: right;\">  0.108748</td><td style=\"text-align: right;\">  0.18639 </td><td style=\"text-align: right;\"> -0.223145</td><td style=\"text-align: right;\"> -0.00771487</td><td style=\"text-align: right;\"> -0.0477738</td><td style=\"text-align: right;\"> -0.126493</td><td style=\"text-align: right;\"> -0.0625522 </td><td style=\"text-align: right;\">  0.0123209</td><td style=\"text-align: right;\"> -0.0949685</td><td style=\"text-align: right;\"> -0.0782229</td><td style=\"text-align: right;\">  0.0522911</td><td style=\"text-align: right;\">  0.0801315</td><td style=\"text-align: right;\">  0.125038 </td><td style=\"text-align: right;\">  0.0459858</td><td style=\"text-align: right;\"> -0.162417 </td><td style=\"text-align: right;\">  0.0760297</td><td style=\"text-align: right;\"> -0.139166 </td><td style=\"text-align: right;\">  0.0389974</td><td style=\"text-align: right;\"> -0.0523212 </td><td style=\"text-align: right;\">  0.0847394</td><td style=\"text-align: right;\"> -0.0327712 </td><td style=\"text-align: right;\">  0.0464084</td><td style=\"text-align: right;\"> -0.0324276 </td><td style=\"text-align: right;\">  0.0745399  </td><td style=\"text-align: right;\"> -0.00567941</td><td style=\"text-align: right;\">  0.110884 </td><td style=\"text-align: right;\">  0.0222641</td><td style=\"text-align: right;\"> -0.0111335</td><td style=\"text-align: right;\">  0.0616571</td><td style=\"text-align: right;\"> -0.0139792</td><td style=\"text-align: right;\"> -0.0251577 </td><td style=\"text-align: right;\">  0.0474848</td><td style=\"text-align: right;\"> -0.0293985 </td><td style=\"text-align: right;\">  0.037255   </td><td style=\"text-align: right;\"> -0.211795 </td><td style=\"text-align: right;\"> -0.135479</td><td style=\"text-align: right;\"> -0.0412252 </td><td style=\"text-align: right;\"> -0.0861878 </td><td style=\"text-align: right;\">  0.141321</td><td style=\"text-align: right;\">  0.241691</td><td style=\"text-align: right;\">  0.242973</td><td style=\"text-align: right;\"> -0.158633 </td><td style=\"text-align: right;\">  0.107386 </td><td style=\"text-align: right;\">  0.098056</td><td style=\"text-align: right;\">  0.139201 </td><td style=\"text-align: right;\">  0.214002  </td><td style=\"text-align: right;\"> -0.148595  </td><td style=\"text-align: right;\">  0.0488059</td><td style=\"text-align: right;\"> -0.207367 </td><td style=\"text-align: right;\">  0.0575641</td><td style=\"text-align: right;\">  0.0508512 </td><td style=\"text-align: right;\"> -0.263    </td><td style=\"text-align: right;\">  0.0904775 </td><td style=\"text-align: right;\"> -0.0588666</td><td style=\"text-align: right;\"> -0.233412  </td><td style=\"text-align: right;\">  0.169107</td></tr>\n",
       "<tr><td style=\"text-align: right;\"> -0.0088074</td><td style=\"text-align: right;\"> -0.0775891</td><td style=\"text-align: right;\"> -0.184591</td><td style=\"text-align: right;\"> -0.00242683</td><td style=\"text-align: right;\"> -0.0318552 </td><td style=\"text-align: right;\">  0.211655</td><td style=\"text-align: right;\">  0.00155245</td><td style=\"text-align: right;\">  0.111274 </td><td style=\"text-align: right;\"> -0.0653414</td><td style=\"text-align: right;\">  0.0952516</td><td style=\"text-align: right;\"> -0.0241437 </td><td style=\"text-align: right;\">  0.220584 </td><td style=\"text-align: right;\">  0.0957555 </td><td style=\"text-align: right;\">  0.145921 </td><td style=\"text-align: right;\">  0.0465564 </td><td style=\"text-align: right;\">  0.226058 </td><td style=\"text-align: right;\">  0.115044 </td><td style=\"text-align: right;\">  0.109682 </td><td style=\"text-align: right;\">  0.037992 </td><td style=\"text-align: right;\"> -0.0202175 </td><td style=\"text-align: right;\"> -0.129834  </td><td style=\"text-align: right;\"> -0.0891616 </td><td style=\"text-align: right;\">  0.0371484 </td><td style=\"text-align: right;\"> -0.0963641</td><td style=\"text-align: right;\">  0.0553306</td><td style=\"text-align: right;\"> -0.0882999 </td><td style=\"text-align: right;\"> -0.10066  </td><td style=\"text-align: right;\">  0.0093056 </td><td style=\"text-align: right;\"> -0.0275494</td><td style=\"text-align: right;\">  0.0974903</td><td style=\"text-align: right;\"> -0.0191886 </td><td style=\"text-align: right;\">  0.208738</td><td style=\"text-align: right;\"> -0.0571997 </td><td style=\"text-align: right;\">  0.168677 </td><td style=\"text-align: right;\">  0.0694055</td><td style=\"text-align: right;\">  0.146603 </td><td style=\"text-align: right;\"> -0.107523 </td><td style=\"text-align: right;\"> -0.131906</td><td style=\"text-align: right;\">  0.0372048</td><td style=\"text-align: right;\">  0.0238939 </td><td style=\"text-align: right;\">  0.0579502</td><td style=\"text-align: right;\"> -0.143537</td><td style=\"text-align: right;\"> -0.00975527</td><td style=\"text-align: right;\">  0.0501408 </td><td style=\"text-align: right;\">  0.105073</td><td style=\"text-align: right;\">  0.182385</td><td style=\"text-align: right;\"> -0.15389 </td><td style=\"text-align: right;\"> -0.0470386 </td><td style=\"text-align: right;\"> -0.0204644</td><td style=\"text-align: right;\"> -0.144065</td><td style=\"text-align: right;\">  0.0123547 </td><td style=\"text-align: right;\"> -0.0619476</td><td style=\"text-align: right;\"> -0.0365309</td><td style=\"text-align: right;\"> -0.0147283</td><td style=\"text-align: right;\">  0.0429599</td><td style=\"text-align: right;\">  0.172667 </td><td style=\"text-align: right;\">  0.0124956</td><td style=\"text-align: right;\">  0.093491 </td><td style=\"text-align: right;\"> -0.0684951</td><td style=\"text-align: right;\">  0.0861276</td><td style=\"text-align: right;\"> -0.0388472</td><td style=\"text-align: right;\">  0.0167406</td><td style=\"text-align: right;\">  0.115713  </td><td style=\"text-align: right;\">  0.154733 </td><td style=\"text-align: right;\">  0.0472827 </td><td style=\"text-align: right;\">  0.147956 </td><td style=\"text-align: right;\"> -0.0517896 </td><td style=\"text-align: right;\">  0.0637257  </td><td style=\"text-align: right;\"> -0.039213  </td><td style=\"text-align: right;\">  0.110651 </td><td style=\"text-align: right;\">  0.0178557</td><td style=\"text-align: right;\"> -0.0126774</td><td style=\"text-align: right;\">  0.0877356</td><td style=\"text-align: right;\"> -0.0829295</td><td style=\"text-align: right;\">  0.0760794 </td><td style=\"text-align: right;\">  0.0791282</td><td style=\"text-align: right;\"> -0.00805684</td><td style=\"text-align: right;\">  0.0869169  </td><td style=\"text-align: right;\"> -0.141438 </td><td style=\"text-align: right;\"> -0.191718</td><td style=\"text-align: right;\">  0.0797239 </td><td style=\"text-align: right;\"> -0.0214579 </td><td style=\"text-align: right;\">  0.215024</td><td style=\"text-align: right;\">  0.166563</td><td style=\"text-align: right;\">  0.274771</td><td style=\"text-align: right;\"> -0.155116 </td><td style=\"text-align: right;\">  0.161813 </td><td style=\"text-align: right;\">  0.181838</td><td style=\"text-align: right;\">  0.0485269</td><td style=\"text-align: right;\"> -0.00694064</td><td style=\"text-align: right;\">  0.00724357</td><td style=\"text-align: right;\">  0.150541 </td><td style=\"text-align: right;\"> -0.122563 </td><td style=\"text-align: right;\">  0.124048 </td><td style=\"text-align: right;\"> -0.0364655 </td><td style=\"text-align: right;\"> -0.210149 </td><td style=\"text-align: right;\">  0.0151793 </td><td style=\"text-align: right;\"> -0.10145  </td><td style=\"text-align: right;\"> -0.0344194 </td><td style=\"text-align: right;\">  0.15773 </td></tr>\n",
       "<tr><td style=\"text-align: right;\">nan        </td><td style=\"text-align: right;\">nan        </td><td style=\"text-align: right;\">nan       </td><td style=\"text-align: right;\">nan         </td><td style=\"text-align: right;\">nan         </td><td style=\"text-align: right;\">nan       </td><td style=\"text-align: right;\">nan         </td><td style=\"text-align: right;\">nan        </td><td style=\"text-align: right;\">nan        </td><td style=\"text-align: right;\">nan        </td><td style=\"text-align: right;\">nan         </td><td style=\"text-align: right;\">nan        </td><td style=\"text-align: right;\">nan         </td><td style=\"text-align: right;\">nan        </td><td style=\"text-align: right;\">nan         </td><td style=\"text-align: right;\">nan        </td><td style=\"text-align: right;\">nan        </td><td style=\"text-align: right;\">nan        </td><td style=\"text-align: right;\">nan        </td><td style=\"text-align: right;\">nan         </td><td style=\"text-align: right;\">nan         </td><td style=\"text-align: right;\">nan         </td><td style=\"text-align: right;\">nan         </td><td style=\"text-align: right;\">nan        </td><td style=\"text-align: right;\">nan        </td><td style=\"text-align: right;\">nan         </td><td style=\"text-align: right;\">nan        </td><td style=\"text-align: right;\">nan         </td><td style=\"text-align: right;\">nan        </td><td style=\"text-align: right;\">nan        </td><td style=\"text-align: right;\">nan         </td><td style=\"text-align: right;\">nan       </td><td style=\"text-align: right;\">nan         </td><td style=\"text-align: right;\">nan        </td><td style=\"text-align: right;\">nan        </td><td style=\"text-align: right;\">nan        </td><td style=\"text-align: right;\">nan        </td><td style=\"text-align: right;\">nan       </td><td style=\"text-align: right;\">nan        </td><td style=\"text-align: right;\">nan         </td><td style=\"text-align: right;\">nan        </td><td style=\"text-align: right;\">nan       </td><td style=\"text-align: right;\">nan         </td><td style=\"text-align: right;\">nan         </td><td style=\"text-align: right;\">nan       </td><td style=\"text-align: right;\">nan       </td><td style=\"text-align: right;\">nan       </td><td style=\"text-align: right;\">nan         </td><td style=\"text-align: right;\">nan        </td><td style=\"text-align: right;\">nan       </td><td style=\"text-align: right;\">nan         </td><td style=\"text-align: right;\">nan        </td><td style=\"text-align: right;\">nan        </td><td style=\"text-align: right;\">nan        </td><td style=\"text-align: right;\">nan        </td><td style=\"text-align: right;\">nan        </td><td style=\"text-align: right;\">nan        </td><td style=\"text-align: right;\">nan        </td><td style=\"text-align: right;\">nan        </td><td style=\"text-align: right;\">nan        </td><td style=\"text-align: right;\">nan        </td><td style=\"text-align: right;\">nan        </td><td style=\"text-align: right;\">nan         </td><td style=\"text-align: right;\">nan        </td><td style=\"text-align: right;\">nan         </td><td style=\"text-align: right;\">nan        </td><td style=\"text-align: right;\">nan         </td><td style=\"text-align: right;\">nan          </td><td style=\"text-align: right;\">nan         </td><td style=\"text-align: right;\">nan        </td><td style=\"text-align: right;\">nan        </td><td style=\"text-align: right;\">nan        </td><td style=\"text-align: right;\">nan        </td><td style=\"text-align: right;\">nan        </td><td style=\"text-align: right;\">nan         </td><td style=\"text-align: right;\">nan        </td><td style=\"text-align: right;\">nan         </td><td style=\"text-align: right;\">nan          </td><td style=\"text-align: right;\">nan        </td><td style=\"text-align: right;\">nan       </td><td style=\"text-align: right;\">nan         </td><td style=\"text-align: right;\">nan         </td><td style=\"text-align: right;\">nan       </td><td style=\"text-align: right;\">nan       </td><td style=\"text-align: right;\">nan       </td><td style=\"text-align: right;\">nan        </td><td style=\"text-align: right;\">nan        </td><td style=\"text-align: right;\">nan       </td><td style=\"text-align: right;\">nan        </td><td style=\"text-align: right;\">nan         </td><td style=\"text-align: right;\">nan         </td><td style=\"text-align: right;\">nan        </td><td style=\"text-align: right;\">nan        </td><td style=\"text-align: right;\">nan        </td><td style=\"text-align: right;\">nan         </td><td style=\"text-align: right;\">nan        </td><td style=\"text-align: right;\">nan         </td><td style=\"text-align: right;\">nan        </td><td style=\"text-align: right;\">nan         </td><td style=\"text-align: right;\">nan       </td></tr>\n",
       "<tr><td style=\"text-align: right;\"> -0.0683609</td><td style=\"text-align: right;\"> -0.148162 </td><td style=\"text-align: right;\"> -0.171424</td><td style=\"text-align: right;\"> -0.0646861 </td><td style=\"text-align: right;\"> -0.0170286 </td><td style=\"text-align: right;\">  0.219009</td><td style=\"text-align: right;\">  0.117734  </td><td style=\"text-align: right;\">  0.138435 </td><td style=\"text-align: right;\"> -0.037316 </td><td style=\"text-align: right;\">  0.0738978</td><td style=\"text-align: right;\"> -0.0393253 </td><td style=\"text-align: right;\">  0.165211 </td><td style=\"text-align: right;\">  0.130774  </td><td style=\"text-align: right;\">  0.0166898</td><td style=\"text-align: right;\">  0.0236385 </td><td style=\"text-align: right;\">  0.193454 </td><td style=\"text-align: right;\">  0.0650996</td><td style=\"text-align: right;\">  0.211697 </td><td style=\"text-align: right;\">  0.0137938</td><td style=\"text-align: right;\"> -0.0428445 </td><td style=\"text-align: right;\"> -0.0625799 </td><td style=\"text-align: right;\"> -0.134072  </td><td style=\"text-align: right;\">  0.042908  </td><td style=\"text-align: right;\"> -0.0827001</td><td style=\"text-align: right;\">  0.0683958</td><td style=\"text-align: right;\"> -0.157944  </td><td style=\"text-align: right;\"> -0.165795 </td><td style=\"text-align: right;\">  0.0677421 </td><td style=\"text-align: right;\"> -0.0182966</td><td style=\"text-align: right;\"> -0.0505199</td><td style=\"text-align: right;\">  0.0108949 </td><td style=\"text-align: right;\">  0.152748</td><td style=\"text-align: right;\"> -0.0424415 </td><td style=\"text-align: right;\">  0.0641289</td><td style=\"text-align: right;\"> -0.0157993</td><td style=\"text-align: right;\">  0.0553229</td><td style=\"text-align: right;\"> -0.169839 </td><td style=\"text-align: right;\"> -0.156525</td><td style=\"text-align: right;\">  0.0847165</td><td style=\"text-align: right;\"> -0.023184  </td><td style=\"text-align: right;\">  0.0317551</td><td style=\"text-align: right;\"> -0.227599</td><td style=\"text-align: right;\">  0.0325555 </td><td style=\"text-align: right;\"> -0.00299351</td><td style=\"text-align: right;\">  0.118021</td><td style=\"text-align: right;\">  0.208654</td><td style=\"text-align: right;\"> -0.167382</td><td style=\"text-align: right;\"> -0.0449176 </td><td style=\"text-align: right;\"> -0.0475764</td><td style=\"text-align: right;\"> -0.180074</td><td style=\"text-align: right;\"> -0.0077514 </td><td style=\"text-align: right;\">  0.0288378</td><td style=\"text-align: right;\"> -0.0518336</td><td style=\"text-align: right;\"> -0.0860159</td><td style=\"text-align: right;\">  0.0628   </td><td style=\"text-align: right;\">  0.084454 </td><td style=\"text-align: right;\">  0.115551 </td><td style=\"text-align: right;\">  0.0334739</td><td style=\"text-align: right;\"> -0.117719 </td><td style=\"text-align: right;\">  0.0661028</td><td style=\"text-align: right;\"> -0.053517 </td><td style=\"text-align: right;\">  0.065751 </td><td style=\"text-align: right;\">  0.104794  </td><td style=\"text-align: right;\">  0.0654217</td><td style=\"text-align: right;\">  0.091257  </td><td style=\"text-align: right;\">  0.0738807</td><td style=\"text-align: right;\">  0.0195033 </td><td style=\"text-align: right;\"> -0.00776685 </td><td style=\"text-align: right;\"> -0.113197  </td><td style=\"text-align: right;\">  0.101295 </td><td style=\"text-align: right;\">  0.0113851</td><td style=\"text-align: right;\">  0.0615856</td><td style=\"text-align: right;\"> -0.018179 </td><td style=\"text-align: right;\"> -0.0255   </td><td style=\"text-align: right;\">  0.00187293</td><td style=\"text-align: right;\">  0.106765 </td><td style=\"text-align: right;\"> -0.0207379 </td><td style=\"text-align: right;\">  0.000152452</td><td style=\"text-align: right;\"> -0.0958885</td><td style=\"text-align: right;\"> -0.105906</td><td style=\"text-align: right;\">  0.0424588 </td><td style=\"text-align: right;\"> -0.00610913</td><td style=\"text-align: right;\">  0.117237</td><td style=\"text-align: right;\">  0.121954</td><td style=\"text-align: right;\">  0.250729</td><td style=\"text-align: right;\"> -0.166313 </td><td style=\"text-align: right;\">  0.199096 </td><td style=\"text-align: right;\">  0.202982</td><td style=\"text-align: right;\">  0.105646 </td><td style=\"text-align: right;\">  0.0869937 </td><td style=\"text-align: right;\"> -0.0854244 </td><td style=\"text-align: right;\">  0.0375706</td><td style=\"text-align: right;\"> -0.135827 </td><td style=\"text-align: right;\">  0.175391 </td><td style=\"text-align: right;\">  0.00213489</td><td style=\"text-align: right;\"> -0.150288 </td><td style=\"text-align: right;\">  0.0304569 </td><td style=\"text-align: right;\"> -0.186571 </td><td style=\"text-align: right;\"> -0.0740609 </td><td style=\"text-align: right;\">  0.266915</td></tr>\n",
       "<tr><td style=\"text-align: right;\">nan        </td><td style=\"text-align: right;\">nan        </td><td style=\"text-align: right;\">nan       </td><td style=\"text-align: right;\">nan         </td><td style=\"text-align: right;\">nan         </td><td style=\"text-align: right;\">nan       </td><td style=\"text-align: right;\">nan         </td><td style=\"text-align: right;\">nan        </td><td style=\"text-align: right;\">nan        </td><td style=\"text-align: right;\">nan        </td><td style=\"text-align: right;\">nan         </td><td style=\"text-align: right;\">nan        </td><td style=\"text-align: right;\">nan         </td><td style=\"text-align: right;\">nan        </td><td style=\"text-align: right;\">nan         </td><td style=\"text-align: right;\">nan        </td><td style=\"text-align: right;\">nan        </td><td style=\"text-align: right;\">nan        </td><td style=\"text-align: right;\">nan        </td><td style=\"text-align: right;\">nan         </td><td style=\"text-align: right;\">nan         </td><td style=\"text-align: right;\">nan         </td><td style=\"text-align: right;\">nan         </td><td style=\"text-align: right;\">nan        </td><td style=\"text-align: right;\">nan        </td><td style=\"text-align: right;\">nan         </td><td style=\"text-align: right;\">nan        </td><td style=\"text-align: right;\">nan         </td><td style=\"text-align: right;\">nan        </td><td style=\"text-align: right;\">nan        </td><td style=\"text-align: right;\">nan         </td><td style=\"text-align: right;\">nan       </td><td style=\"text-align: right;\">nan         </td><td style=\"text-align: right;\">nan        </td><td style=\"text-align: right;\">nan        </td><td style=\"text-align: right;\">nan        </td><td style=\"text-align: right;\">nan        </td><td style=\"text-align: right;\">nan       </td><td style=\"text-align: right;\">nan        </td><td style=\"text-align: right;\">nan         </td><td style=\"text-align: right;\">nan        </td><td style=\"text-align: right;\">nan       </td><td style=\"text-align: right;\">nan         </td><td style=\"text-align: right;\">nan         </td><td style=\"text-align: right;\">nan       </td><td style=\"text-align: right;\">nan       </td><td style=\"text-align: right;\">nan       </td><td style=\"text-align: right;\">nan         </td><td style=\"text-align: right;\">nan        </td><td style=\"text-align: right;\">nan       </td><td style=\"text-align: right;\">nan         </td><td style=\"text-align: right;\">nan        </td><td style=\"text-align: right;\">nan        </td><td style=\"text-align: right;\">nan        </td><td style=\"text-align: right;\">nan        </td><td style=\"text-align: right;\">nan        </td><td style=\"text-align: right;\">nan        </td><td style=\"text-align: right;\">nan        </td><td style=\"text-align: right;\">nan        </td><td style=\"text-align: right;\">nan        </td><td style=\"text-align: right;\">nan        </td><td style=\"text-align: right;\">nan        </td><td style=\"text-align: right;\">nan         </td><td style=\"text-align: right;\">nan        </td><td style=\"text-align: right;\">nan         </td><td style=\"text-align: right;\">nan        </td><td style=\"text-align: right;\">nan         </td><td style=\"text-align: right;\">nan          </td><td style=\"text-align: right;\">nan         </td><td style=\"text-align: right;\">nan        </td><td style=\"text-align: right;\">nan        </td><td style=\"text-align: right;\">nan        </td><td style=\"text-align: right;\">nan        </td><td style=\"text-align: right;\">nan        </td><td style=\"text-align: right;\">nan         </td><td style=\"text-align: right;\">nan        </td><td style=\"text-align: right;\">nan         </td><td style=\"text-align: right;\">nan          </td><td style=\"text-align: right;\">nan        </td><td style=\"text-align: right;\">nan       </td><td style=\"text-align: right;\">nan         </td><td style=\"text-align: right;\">nan         </td><td style=\"text-align: right;\">nan       </td><td style=\"text-align: right;\">nan       </td><td style=\"text-align: right;\">nan       </td><td style=\"text-align: right;\">nan        </td><td style=\"text-align: right;\">nan        </td><td style=\"text-align: right;\">nan       </td><td style=\"text-align: right;\">nan        </td><td style=\"text-align: right;\">nan         </td><td style=\"text-align: right;\">nan         </td><td style=\"text-align: right;\">nan        </td><td style=\"text-align: right;\">nan        </td><td style=\"text-align: right;\">nan        </td><td style=\"text-align: right;\">nan         </td><td style=\"text-align: right;\">nan        </td><td style=\"text-align: right;\">nan         </td><td style=\"text-align: right;\">nan        </td><td style=\"text-align: right;\">nan         </td><td style=\"text-align: right;\">nan       </td></tr>\n",
       "<tr><td style=\"text-align: right;\">  0.027151 </td><td style=\"text-align: right;\"> -0.0646631</td><td style=\"text-align: right;\"> -0.378806</td><td style=\"text-align: right;\">  0.0420308 </td><td style=\"text-align: right;\"> -0.0351144 </td><td style=\"text-align: right;\">  0.359995</td><td style=\"text-align: right;\">  0.102619  </td><td style=\"text-align: right;\">  0.0755615</td><td style=\"text-align: right;\">  0.0445318</td><td style=\"text-align: right;\">  0.120879 </td><td style=\"text-align: right;\"> -0.134943  </td><td style=\"text-align: right;\">  0.269874 </td><td style=\"text-align: right;\">  0.0394109 </td><td style=\"text-align: right;\">  0.0274109</td><td style=\"text-align: right;\">  0.00434679</td><td style=\"text-align: right;\">  0.169068 </td><td style=\"text-align: right;\"> -0.0949104</td><td style=\"text-align: right;\">  0.265074 </td><td style=\"text-align: right;\">  0.16002  </td><td style=\"text-align: right;\"> -0.00954512</td><td style=\"text-align: right;\"> -0.0818679 </td><td style=\"text-align: right;\"> -0.114772  </td><td style=\"text-align: right;\">  0.129145  </td><td style=\"text-align: right;\"> -0.0749319</td><td style=\"text-align: right;\">  0.0543623</td><td style=\"text-align: right;\"> -0.0897512 </td><td style=\"text-align: right;\"> -0.0935832</td><td style=\"text-align: right;\">  0.0361572 </td><td style=\"text-align: right;\">  0.0240824</td><td style=\"text-align: right;\">  0.0955499</td><td style=\"text-align: right;\">  0.102784  </td><td style=\"text-align: right;\">  0.238216</td><td style=\"text-align: right;\"> -0.0726461 </td><td style=\"text-align: right;\">  0.181486 </td><td style=\"text-align: right;\"> -0.0754956</td><td style=\"text-align: right;\">  0.133116 </td><td style=\"text-align: right;\"> -0.180193 </td><td style=\"text-align: right;\"> -0.167289</td><td style=\"text-align: right;\">  0.0284195</td><td style=\"text-align: right;\">  0.122738  </td><td style=\"text-align: right;\">  0.0416364</td><td style=\"text-align: right;\"> -0.14421 </td><td style=\"text-align: right;\">  0.126998  </td><td style=\"text-align: right;\"> -0.0577777 </td><td style=\"text-align: right;\">  0.192836</td><td style=\"text-align: right;\">  0.447741</td><td style=\"text-align: right;\"> -0.222648</td><td style=\"text-align: right;\"> -0.203169  </td><td style=\"text-align: right;\"> -0.183374 </td><td style=\"text-align: right;\"> -0.205789</td><td style=\"text-align: right;\"> -0.0150788 </td><td style=\"text-align: right;\"> -0.0112854</td><td style=\"text-align: right;\">  0.0994471</td><td style=\"text-align: right;\">  0.0471041</td><td style=\"text-align: right;\">  0.152644 </td><td style=\"text-align: right;\">  0.144668 </td><td style=\"text-align: right;\">  0.0756334</td><td style=\"text-align: right;\">  0.0383413</td><td style=\"text-align: right;\"> -0.244528 </td><td style=\"text-align: right;\"> -0.0424875</td><td style=\"text-align: right;\"> -0.0427375</td><td style=\"text-align: right;\">  0.0457872</td><td style=\"text-align: right;\">  0.00772148</td><td style=\"text-align: right;\">  0.0359649</td><td style=\"text-align: right;\">  0.167247  </td><td style=\"text-align: right;\">  0.0647063</td><td style=\"text-align: right;\"> -0.0437447 </td><td style=\"text-align: right;\">  0.00456426 </td><td style=\"text-align: right;\"> -0.164225  </td><td style=\"text-align: right;\">  0.0436167</td><td style=\"text-align: right;\"> -0.050708 </td><td style=\"text-align: right;\"> -0.034672 </td><td style=\"text-align: right;\">  0.0432743</td><td style=\"text-align: right;\"> -0.0935596</td><td style=\"text-align: right;\"> -0.107322  </td><td style=\"text-align: right;\">  0.0536454</td><td style=\"text-align: right;\">  0.052675  </td><td style=\"text-align: right;\">  0.028105   </td><td style=\"text-align: right;\"> -0.0960433</td><td style=\"text-align: right;\"> -0.250305</td><td style=\"text-align: right;\"> -0.0046155 </td><td style=\"text-align: right;\"> -0.0303828 </td><td style=\"text-align: right;\">  0.188267</td><td style=\"text-align: right;\">  0.170476</td><td style=\"text-align: right;\">  0.326612</td><td style=\"text-align: right;\"> -0.217932 </td><td style=\"text-align: right;\">  0.129056 </td><td style=\"text-align: right;\">  0.179441</td><td style=\"text-align: right;\"> -0.0354287</td><td style=\"text-align: right;\">  0.0567002 </td><td style=\"text-align: right;\"> -0.0209845 </td><td style=\"text-align: right;\">  0.190037 </td><td style=\"text-align: right;\"> -0.129376 </td><td style=\"text-align: right;\">  0.089795 </td><td style=\"text-align: right;\"> -0.0673814 </td><td style=\"text-align: right;\"> -0.0785601</td><td style=\"text-align: right;\">  0.00022347</td><td style=\"text-align: right;\"> -0.204451 </td><td style=\"text-align: right;\"> -0.0729382 </td><td style=\"text-align: right;\">  0.29417 </td></tr>\n",
       "<tr><td style=\"text-align: right;\">  0.06327  </td><td style=\"text-align: right;\"> -0.184491 </td><td style=\"text-align: right;\"> -0.220676</td><td style=\"text-align: right;\"> -0.147484  </td><td style=\"text-align: right;\"> -0.148507  </td><td style=\"text-align: right;\">  0.13322 </td><td style=\"text-align: right;\">  0.0808491 </td><td style=\"text-align: right;\">  0.0995112</td><td style=\"text-align: right;\"> -0.011956 </td><td style=\"text-align: right;\">  0.114954 </td><td style=\"text-align: right;\">  0.00108711</td><td style=\"text-align: right;\">  0.0998167</td><td style=\"text-align: right;\">  0.00682348</td><td style=\"text-align: right;\"> -0.0236759</td><td style=\"text-align: right;\">  0.00988866</td><td style=\"text-align: right;\">  0.168153 </td><td style=\"text-align: right;\">  0.0338009</td><td style=\"text-align: right;\">  0.0298398</td><td style=\"text-align: right;\">  0.101968 </td><td style=\"text-align: right;\">  0.0627629 </td><td style=\"text-align: right;\"> -0.0594635 </td><td style=\"text-align: right;\"> -0.00386425</td><td style=\"text-align: right;\">  0.108175  </td><td style=\"text-align: right;\">  0.0504734</td><td style=\"text-align: right;\">  0.0858085</td><td style=\"text-align: right;\"> -0.110975  </td><td style=\"text-align: right;\"> -0.0262185</td><td style=\"text-align: right;\"> -0.0424942 </td><td style=\"text-align: right;\"> -0.0331374</td><td style=\"text-align: right;\">  0.0358042</td><td style=\"text-align: right;\">  0.00487873</td><td style=\"text-align: right;\">  0.163055</td><td style=\"text-align: right;\"> -0.00774582</td><td style=\"text-align: right;\">  0.100989 </td><td style=\"text-align: right;\"> -0.0151029</td><td style=\"text-align: right;\">  0.181833 </td><td style=\"text-align: right;\"> -0.0799566</td><td style=\"text-align: right;\"> -0.111326</td><td style=\"text-align: right;\">  0.0883931</td><td style=\"text-align: right;\">  0.0417559 </td><td style=\"text-align: right;\"> -0.0070983</td><td style=\"text-align: right;\"> -0.125152</td><td style=\"text-align: right;\"> -0.0150291 </td><td style=\"text-align: right;\">  0.0368043 </td><td style=\"text-align: right;\">  0.125224</td><td style=\"text-align: right;\">  0.17885 </td><td style=\"text-align: right;\"> -0.2443  </td><td style=\"text-align: right;\">  0.0459207 </td><td style=\"text-align: right;\"> -0.0376492</td><td style=\"text-align: right;\"> -0.181644</td><td style=\"text-align: right;\">  0.00471246</td><td style=\"text-align: right;\"> -0.0239688</td><td style=\"text-align: right;\"> -0.112844 </td><td style=\"text-align: right;\"> -0.016245 </td><td style=\"text-align: right;\">  0.0697158</td><td style=\"text-align: right;\">  0.122542 </td><td style=\"text-align: right;\"> -0.0418348</td><td style=\"text-align: right;\">  0.10609  </td><td style=\"text-align: right;\"> -0.141098 </td><td style=\"text-align: right;\">  0.063536 </td><td style=\"text-align: right;\"> -0.0291851</td><td style=\"text-align: right;\">  0.0597182</td><td style=\"text-align: right;\">  0.0258476 </td><td style=\"text-align: right;\">  0.122921 </td><td style=\"text-align: right;\"> -0.00811936</td><td style=\"text-align: right;\">  0.0638026</td><td style=\"text-align: right;\">  0.0221273 </td><td style=\"text-align: right;\">  0.00919018 </td><td style=\"text-align: right;\"> -0.0700117 </td><td style=\"text-align: right;\">  0.139003 </td><td style=\"text-align: right;\">  0.0196169</td><td style=\"text-align: right;\">  0.0204212</td><td style=\"text-align: right;\">  0.161033 </td><td style=\"text-align: right;\">  0.0599272</td><td style=\"text-align: right;\">  0.0121981 </td><td style=\"text-align: right;\">  0.0755289</td><td style=\"text-align: right;\"> -0.0279861 </td><td style=\"text-align: right;\">  0.0864475  </td><td style=\"text-align: right;\"> -0.119384 </td><td style=\"text-align: right;\"> -0.117051</td><td style=\"text-align: right;\">  0.00914235</td><td style=\"text-align: right;\"> -0.0531501 </td><td style=\"text-align: right;\">  0.198189</td><td style=\"text-align: right;\">  0.24259 </td><td style=\"text-align: right;\">  0.344218</td><td style=\"text-align: right;\"> -0.0721405</td><td style=\"text-align: right;\">  0.0151201</td><td style=\"text-align: right;\">  0.114924</td><td style=\"text-align: right;\">  0.100493 </td><td style=\"text-align: right;\">  0.15762   </td><td style=\"text-align: right;\"> -0.149103  </td><td style=\"text-align: right;\">  0.0458889</td><td style=\"text-align: right;\"> -0.0602107</td><td style=\"text-align: right;\">  0.0517808</td><td style=\"text-align: right;\"> -0.0929549 </td><td style=\"text-align: right;\"> -0.0846765</td><td style=\"text-align: right;\">  0.0336128 </td><td style=\"text-align: right;\"> -0.0332688</td><td style=\"text-align: right;\"> -0.00867063</td><td style=\"text-align: right;\">  0.16164 </td></tr>\n",
       "<tr><td style=\"text-align: right;\"> -0.0179775</td><td style=\"text-align: right;\"> -0.135881 </td><td style=\"text-align: right;\"> -0.252263</td><td style=\"text-align: right;\"> -0.0699504 </td><td style=\"text-align: right;\"> -0.00282722</td><td style=\"text-align: right;\">  0.210833</td><td style=\"text-align: right;\"> -0.00730655</td><td style=\"text-align: right;\">  0.168025 </td><td style=\"text-align: right;\"> -0.0605846</td><td style=\"text-align: right;\">  0.151418 </td><td style=\"text-align: right;\"> -0.0434462 </td><td style=\"text-align: right;\">  0.222779 </td><td style=\"text-align: right;\">  0.0365386 </td><td style=\"text-align: right;\">  0.0503358</td><td style=\"text-align: right;\">  0.063294  </td><td style=\"text-align: right;\">  0.147051 </td><td style=\"text-align: right;\">  0.0722431</td><td style=\"text-align: right;\">  0.0809076</td><td style=\"text-align: right;\">  0.0162284</td><td style=\"text-align: right;\">  0.00265664</td><td style=\"text-align: right;\"> -0.0749175 </td><td style=\"text-align: right;\"> -0.0657684 </td><td style=\"text-align: right;\">  0.0244011 </td><td style=\"text-align: right;\"> -0.0233856</td><td style=\"text-align: right;\">  0.0401702</td><td style=\"text-align: right;\"> -0.106059  </td><td style=\"text-align: right;\"> -0.111011 </td><td style=\"text-align: right;\">  0.00706551</td><td style=\"text-align: right;\"> -0.0552051</td><td style=\"text-align: right;\">  0.0880927</td><td style=\"text-align: right;\"> -0.0342648 </td><td style=\"text-align: right;\">  0.236708</td><td style=\"text-align: right;\"> -0.0442219 </td><td style=\"text-align: right;\">  0.119635 </td><td style=\"text-align: right;\">  0.0135192</td><td style=\"text-align: right;\">  0.112563 </td><td style=\"text-align: right;\"> -0.107728 </td><td style=\"text-align: right;\"> -0.145148</td><td style=\"text-align: right;\">  0.0726797</td><td style=\"text-align: right;\">  0.00817433</td><td style=\"text-align: right;\"> -0.0131115</td><td style=\"text-align: right;\"> -0.109642</td><td style=\"text-align: right;\">  0.0200057 </td><td style=\"text-align: right;\">  0.0424805 </td><td style=\"text-align: right;\">  0.156533</td><td style=\"text-align: right;\">  0.183876</td><td style=\"text-align: right;\"> -0.193623</td><td style=\"text-align: right;\"> -0.0290529 </td><td style=\"text-align: right;\"> -0.0791668</td><td style=\"text-align: right;\"> -0.126013</td><td style=\"text-align: right;\"> -0.0523276 </td><td style=\"text-align: right;\"> -0.041636 </td><td style=\"text-align: right;\"> -0.0653301</td><td style=\"text-align: right;\">  0.0658281</td><td style=\"text-align: right;\">  0.0802519</td><td style=\"text-align: right;\">  0.18182  </td><td style=\"text-align: right;\">  0.0144042</td><td style=\"text-align: right;\">  0.0827815</td><td style=\"text-align: right;\"> -0.144413 </td><td style=\"text-align: right;\">  0.0843479</td><td style=\"text-align: right;\"> -0.0153305</td><td style=\"text-align: right;\">  0.0685525</td><td style=\"text-align: right;\">  0.0417736 </td><td style=\"text-align: right;\">  0.102104 </td><td style=\"text-align: right;\">  0.0163409 </td><td style=\"text-align: right;\">  0.101743 </td><td style=\"text-align: right;\"> -0.0103072 </td><td style=\"text-align: right;\">  0.000183491</td><td style=\"text-align: right;\"> -0.0879053 </td><td style=\"text-align: right;\">  0.139432 </td><td style=\"text-align: right;\">  0.0844453</td><td style=\"text-align: right;\">  0.0293043</td><td style=\"text-align: right;\">  0.0386208</td><td style=\"text-align: right;\"> -0.0536343</td><td style=\"text-align: right;\"> -0.114912  </td><td style=\"text-align: right;\">  0.071236 </td><td style=\"text-align: right;\">  0.0269619 </td><td style=\"text-align: right;\">  0.0488284  </td><td style=\"text-align: right;\"> -0.112378 </td><td style=\"text-align: right;\"> -0.148394</td><td style=\"text-align: right;\">  0.0605426 </td><td style=\"text-align: right;\"> -0.0692097 </td><td style=\"text-align: right;\">  0.197758</td><td style=\"text-align: right;\">  0.106346</td><td style=\"text-align: right;\">  0.273494</td><td style=\"text-align: right;\"> -0.196905 </td><td style=\"text-align: right;\">  0.138219 </td><td style=\"text-align: right;\">  0.101513</td><td style=\"text-align: right;\">  0.0555519</td><td style=\"text-align: right;\">  0.10306   </td><td style=\"text-align: right;\"> -0.0512833 </td><td style=\"text-align: right;\">  0.207382 </td><td style=\"text-align: right;\"> -0.0999224</td><td style=\"text-align: right;\">  0.0304536</td><td style=\"text-align: right;\"> -0.0748429 </td><td style=\"text-align: right;\"> -0.128191 </td><td style=\"text-align: right;\">  0.0203387 </td><td style=\"text-align: right;\"> -0.128439 </td><td style=\"text-align: right;\"> -0.101637  </td><td style=\"text-align: right;\">  0.159551</td></tr>\n",
       "<tr><td style=\"text-align: right;\"> -0.0558322</td><td style=\"text-align: right;\"> -0.187699 </td><td style=\"text-align: right;\"> -0.244514</td><td style=\"text-align: right;\"> -0.142122  </td><td style=\"text-align: right;\"> -0.12427   </td><td style=\"text-align: right;\">  0.173901</td><td style=\"text-align: right;\">  0.00819831</td><td style=\"text-align: right;\">  0.203875 </td><td style=\"text-align: right;\"> -0.102201 </td><td style=\"text-align: right;\">  0.185811 </td><td style=\"text-align: right;\"> -0.0170165 </td><td style=\"text-align: right;\">  0.149726 </td><td style=\"text-align: right;\"> -0.0279917 </td><td style=\"text-align: right;\">  0.0499293</td><td style=\"text-align: right;\">  0.0773541 </td><td style=\"text-align: right;\">  0.20862  </td><td style=\"text-align: right;\">  0.101102 </td><td style=\"text-align: right;\">  0.151348 </td><td style=\"text-align: right;\">  0.0503509</td><td style=\"text-align: right;\">  0.0357817 </td><td style=\"text-align: right;\"> -0.00551093</td><td style=\"text-align: right;\"> -0.123063  </td><td style=\"text-align: right;\"> -0.00177468</td><td style=\"text-align: right;\"> -0.0517695</td><td style=\"text-align: right;\">  0.0854049</td><td style=\"text-align: right;\"> -0.20528   </td><td style=\"text-align: right;\"> -0.145614 </td><td style=\"text-align: right;\">  0.0146056 </td><td style=\"text-align: right;\"> -0.0765889</td><td style=\"text-align: right;\">  0.0326645</td><td style=\"text-align: right;\">  0.0514275 </td><td style=\"text-align: right;\">  0.126597</td><td style=\"text-align: right;\">  0.0166708 </td><td style=\"text-align: right;\">  0.105205 </td><td style=\"text-align: right;\"> -0.0124627</td><td style=\"text-align: right;\">  0.1189   </td><td style=\"text-align: right;\"> -0.0766866</td><td style=\"text-align: right;\"> -0.143939</td><td style=\"text-align: right;\">  0.0298185</td><td style=\"text-align: right;\"> -0.0144354 </td><td style=\"text-align: right;\"> -0.0497529</td><td style=\"text-align: right;\"> -0.115098</td><td style=\"text-align: right;\"> -0.0706591 </td><td style=\"text-align: right;\">  0.0946841 </td><td style=\"text-align: right;\">  0.152102</td><td style=\"text-align: right;\">  0.165473</td><td style=\"text-align: right;\"> -0.099629</td><td style=\"text-align: right;\"> -0.168952  </td><td style=\"text-align: right;\"> -0.018268 </td><td style=\"text-align: right;\"> -0.107634</td><td style=\"text-align: right;\"> -0.109621  </td><td style=\"text-align: right;\"> -0.0714691</td><td style=\"text-align: right;\"> -0.183235 </td><td style=\"text-align: right;\"> -0.0539296</td><td style=\"text-align: right;\">  0.0215367</td><td style=\"text-align: right;\">  0.106238 </td><td style=\"text-align: right;\">  0.0324929</td><td style=\"text-align: right;\">  0.0869751</td><td style=\"text-align: right;\"> -0.0845088</td><td style=\"text-align: right;\">  0.0633416</td><td style=\"text-align: right;\">  0.038862 </td><td style=\"text-align: right;\">  0.110132 </td><td style=\"text-align: right;\">  0.112144  </td><td style=\"text-align: right;\">  0.13528  </td><td style=\"text-align: right;\">  0.0488168 </td><td style=\"text-align: right;\">  0.0515217</td><td style=\"text-align: right;\"> -0.00862943</td><td style=\"text-align: right;\"> -0.0722322  </td><td style=\"text-align: right;\"> -0.0600193 </td><td style=\"text-align: right;\">  0.120645 </td><td style=\"text-align: right;\"> -0.0378304</td><td style=\"text-align: right;\">  0.0815588</td><td style=\"text-align: right;\"> -0.113577 </td><td style=\"text-align: right;\">  0.0642814</td><td style=\"text-align: right;\"> -0.0211588 </td><td style=\"text-align: right;\">  0.135199 </td><td style=\"text-align: right;\">  0.11509   </td><td style=\"text-align: right;\"> -0.0494304  </td><td style=\"text-align: right;\"> -0.100639 </td><td style=\"text-align: right;\"> -0.14093 </td><td style=\"text-align: right;\">  0.10952   </td><td style=\"text-align: right;\">  0.0541479 </td><td style=\"text-align: right;\">  0.233663</td><td style=\"text-align: right;\">  0.155124</td><td style=\"text-align: right;\">  0.31297 </td><td style=\"text-align: right;\"> -0.0406748</td><td style=\"text-align: right;\">  0.0438642</td><td style=\"text-align: right;\">  0.105903</td><td style=\"text-align: right;\">  0.0740385</td><td style=\"text-align: right;\"> -0.00631462</td><td style=\"text-align: right;\"> -0.17569   </td><td style=\"text-align: right;\">  0.0984905</td><td style=\"text-align: right;\"> -0.103032 </td><td style=\"text-align: right;\">  0.0416637</td><td style=\"text-align: right;\"> -0.0663408 </td><td style=\"text-align: right;\"> -0.142153 </td><td style=\"text-align: right;\"> -0.016596  </td><td style=\"text-align: right;\"> -0.058547 </td><td style=\"text-align: right;\"> -0.0852066 </td><td style=\"text-align: right;\">  0.183141</td></tr>\n",
       "<tr><td style=\"text-align: right;\">nan        </td><td style=\"text-align: right;\">nan        </td><td style=\"text-align: right;\">nan       </td><td style=\"text-align: right;\">nan         </td><td style=\"text-align: right;\">nan         </td><td style=\"text-align: right;\">nan       </td><td style=\"text-align: right;\">nan         </td><td style=\"text-align: right;\">nan        </td><td style=\"text-align: right;\">nan        </td><td style=\"text-align: right;\">nan        </td><td style=\"text-align: right;\">nan         </td><td style=\"text-align: right;\">nan        </td><td style=\"text-align: right;\">nan         </td><td style=\"text-align: right;\">nan        </td><td style=\"text-align: right;\">nan         </td><td style=\"text-align: right;\">nan        </td><td style=\"text-align: right;\">nan        </td><td style=\"text-align: right;\">nan        </td><td style=\"text-align: right;\">nan        </td><td style=\"text-align: right;\">nan         </td><td style=\"text-align: right;\">nan         </td><td style=\"text-align: right;\">nan         </td><td style=\"text-align: right;\">nan         </td><td style=\"text-align: right;\">nan        </td><td style=\"text-align: right;\">nan        </td><td style=\"text-align: right;\">nan         </td><td style=\"text-align: right;\">nan        </td><td style=\"text-align: right;\">nan         </td><td style=\"text-align: right;\">nan        </td><td style=\"text-align: right;\">nan        </td><td style=\"text-align: right;\">nan         </td><td style=\"text-align: right;\">nan       </td><td style=\"text-align: right;\">nan         </td><td style=\"text-align: right;\">nan        </td><td style=\"text-align: right;\">nan        </td><td style=\"text-align: right;\">nan        </td><td style=\"text-align: right;\">nan        </td><td style=\"text-align: right;\">nan       </td><td style=\"text-align: right;\">nan        </td><td style=\"text-align: right;\">nan         </td><td style=\"text-align: right;\">nan        </td><td style=\"text-align: right;\">nan       </td><td style=\"text-align: right;\">nan         </td><td style=\"text-align: right;\">nan         </td><td style=\"text-align: right;\">nan       </td><td style=\"text-align: right;\">nan       </td><td style=\"text-align: right;\">nan       </td><td style=\"text-align: right;\">nan         </td><td style=\"text-align: right;\">nan        </td><td style=\"text-align: right;\">nan       </td><td style=\"text-align: right;\">nan         </td><td style=\"text-align: right;\">nan        </td><td style=\"text-align: right;\">nan        </td><td style=\"text-align: right;\">nan        </td><td style=\"text-align: right;\">nan        </td><td style=\"text-align: right;\">nan        </td><td style=\"text-align: right;\">nan        </td><td style=\"text-align: right;\">nan        </td><td style=\"text-align: right;\">nan        </td><td style=\"text-align: right;\">nan        </td><td style=\"text-align: right;\">nan        </td><td style=\"text-align: right;\">nan        </td><td style=\"text-align: right;\">nan         </td><td style=\"text-align: right;\">nan        </td><td style=\"text-align: right;\">nan         </td><td style=\"text-align: right;\">nan        </td><td style=\"text-align: right;\">nan         </td><td style=\"text-align: right;\">nan          </td><td style=\"text-align: right;\">nan         </td><td style=\"text-align: right;\">nan        </td><td style=\"text-align: right;\">nan        </td><td style=\"text-align: right;\">nan        </td><td style=\"text-align: right;\">nan        </td><td style=\"text-align: right;\">nan        </td><td style=\"text-align: right;\">nan         </td><td style=\"text-align: right;\">nan        </td><td style=\"text-align: right;\">nan         </td><td style=\"text-align: right;\">nan          </td><td style=\"text-align: right;\">nan        </td><td style=\"text-align: right;\">nan       </td><td style=\"text-align: right;\">nan         </td><td style=\"text-align: right;\">nan         </td><td style=\"text-align: right;\">nan       </td><td style=\"text-align: right;\">nan       </td><td style=\"text-align: right;\">nan       </td><td style=\"text-align: right;\">nan        </td><td style=\"text-align: right;\">nan        </td><td style=\"text-align: right;\">nan       </td><td style=\"text-align: right;\">nan        </td><td style=\"text-align: right;\">nan         </td><td style=\"text-align: right;\">nan         </td><td style=\"text-align: right;\">nan        </td><td style=\"text-align: right;\">nan        </td><td style=\"text-align: right;\">nan        </td><td style=\"text-align: right;\">nan         </td><td style=\"text-align: right;\">nan        </td><td style=\"text-align: right;\">nan         </td><td style=\"text-align: right;\">nan        </td><td style=\"text-align: right;\">nan         </td><td style=\"text-align: right;\">nan       </td></tr>\n",
       "</tbody>\n",
       "</table>"
      ]
     },
     "metadata": {},
     "output_type": "display_data"
    },
    {
     "data": {
      "text/plain": []
     },
     "execution_count": 31,
     "metadata": {},
     "output_type": "execute_result"
    }
   ],
   "source": [
    "desc_vecs = w2v_model.transform(words, aggregate_method=\"AVERAGE\")\n",
    "desc_vecs.head()"
   ]
  },
  {
   "cell_type": "markdown",
   "metadata": {},
   "source": [
    "Finally, we add the aggregated word embeddings from the Word2Vec model to the loans data"
   ]
  },
  {
   "cell_type": "code",
   "execution_count": 32,
   "metadata": {},
   "outputs": [],
   "source": [
    "loans = loans.cbind(desc_vecs)"
   ]
  },
  {
   "cell_type": "markdown",
   "metadata": {},
   "source": [
    "# Step 5 (of 10). Model training\n",
    "\n",
    "Now that we have cleaned our data and added new columns, we train a model to predict bad loans. First split our loans data into train and test."
   ]
  },
  {
   "cell_type": "code",
   "execution_count": 33,
   "metadata": {},
   "outputs": [],
   "source": [
    "train, test = loans.split_frame(seed=25, ratios=[0.75])"
   ]
  },
  {
   "cell_type": "markdown",
   "metadata": {},
   "source": [
    "Next create a list of predictors as a subset of the columns of the `loans` H2O Frame"
   ]
  },
  {
   "cell_type": "code",
   "execution_count": 34,
   "metadata": {},
   "outputs": [],
   "source": [
    "cols_to_remove = [\"initial_list_status\",\n",
    "                  \"out_prncp\",\n",
    "                  \"out_prncp_inv\",\n",
    "                  \"total_pymnt\",\n",
    "                  \"total_pymnt_inv\",\n",
    "                  \"total_rec_prncp\", \n",
    "                  \"total_rec_int\",\n",
    "                  \"total_rec_late_fee\",\n",
    "                  \"recoveries\",\n",
    "                  \"collection_recovery_fee\",\n",
    "                  \"last_pymnt_d\", \n",
    "                  \"last_pymnt_amnt\",\n",
    "                  \"next_pymnt_d\",\n",
    "                  \"last_credit_pull_d\",\n",
    "                  \"collections_12_mths_ex_med\" , \n",
    "                  \"mths_since_last_major_derog\",\n",
    "                  \"policy_code\",\n",
    "                  \"loan_status\",\n",
    "                  \"funded_amnt\",\n",
    "                  \"funded_amnt_inv\",\n",
    "                  \"mths_since_last_delinq\",\n",
    "                  \"mths_since_last_record\",\n",
    "                  \"id\",\n",
    "                  \"member_id\",\n",
    "                  \"desc\",\n",
    "                  \"zip_code\"]\n",
    "\n",
    "predictors = list(set(loans.col_names) - set(cols_to_remove))"
   ]
  },
  {
   "cell_type": "code",
   "execution_count": 35,
   "metadata": {},
   "outputs": [
    {
     "data": {
      "text/plain": [
       "['sub_grade',\n",
       " 'C50',\n",
       " 'C31',\n",
       " 'C98',\n",
       " 'pub_rec',\n",
       " 'C44',\n",
       " 'C33',\n",
       " 'dti',\n",
       " 'inq_last_6mths',\n",
       " 'url',\n",
       " 'C35',\n",
       " 'C55',\n",
       " 'C82',\n",
       " 'C56',\n",
       " 'int_rate',\n",
       " 'C27',\n",
       " 'C41',\n",
       " 'C81',\n",
       " 'C4',\n",
       " 'C17',\n",
       " 'C36',\n",
       " 'C43',\n",
       " 'installment',\n",
       " 'emp_title',\n",
       " 'C25',\n",
       " 'earliest_cr_line',\n",
       " 'C90',\n",
       " 'credit_length',\n",
       " 'C16',\n",
       " 'C63',\n",
       " 'C70',\n",
       " 'open_acc',\n",
       " 'C54',\n",
       " 'C15',\n",
       " 'C95',\n",
       " 'bad_loan',\n",
       " 'C79',\n",
       " 'C47',\n",
       " 'C76',\n",
       " 'addr_state',\n",
       " 'C49',\n",
       " 'C92',\n",
       " 'C69',\n",
       " 'C75',\n",
       " 'title',\n",
       " 'C52',\n",
       " 'home_ownership',\n",
       " 'C88',\n",
       " 'revol_bal',\n",
       " 'C34',\n",
       " 'C96',\n",
       " 'delinq_2yrs',\n",
       " 'C32',\n",
       " 'C59',\n",
       " 'verification_status',\n",
       " 'C28',\n",
       " 'C99',\n",
       " 'C2',\n",
       " 'C18',\n",
       " 'C46',\n",
       " 'pymnt_plan',\n",
       " 'C66',\n",
       " 'C80',\n",
       " 'C9',\n",
       " 'C61',\n",
       " 'C74',\n",
       " 'C72',\n",
       " 'C68',\n",
       " 'C84',\n",
       " 'issue_d_month',\n",
       " 'C26',\n",
       " 'C23',\n",
       " 'C64',\n",
       " 'C48',\n",
       " 'C12',\n",
       " 'C22',\n",
       " 'C65',\n",
       " 'C10',\n",
       " 'purpose',\n",
       " 'C83',\n",
       " 'C58',\n",
       " 'issue_d',\n",
       " 'C37',\n",
       " 'C73',\n",
       " 'C94',\n",
       " 'C51',\n",
       " 'C78',\n",
       " 'C85',\n",
       " 'revol_util',\n",
       " 'C39',\n",
       " 'C13',\n",
       " 'C87',\n",
       " 'C20',\n",
       " 'C67',\n",
       " 'C38',\n",
       " 'C5',\n",
       " 'C86',\n",
       " 'grade',\n",
       " 'C42',\n",
       " 'C57',\n",
       " 'C71',\n",
       " 'C77',\n",
       " 'C40',\n",
       " 'C89',\n",
       " 'loan_amnt',\n",
       " 'term',\n",
       " 'C53',\n",
       " 'C30',\n",
       " 'C45',\n",
       " 'C1',\n",
       " 'C97',\n",
       " 'C11',\n",
       " 'C8',\n",
       " 'total_acc',\n",
       " 'C91',\n",
       " 'C29',\n",
       " 'C3',\n",
       " 'C62',\n",
       " 'C6',\n",
       " 'C21',\n",
       " 'C19',\n",
       " 'annual_inc',\n",
       " 'C7',\n",
       " 'C93',\n",
       " 'C60',\n",
       " 'C24',\n",
       " 'issue_d_year',\n",
       " 'C100',\n",
       " 'C14',\n",
       " 'emp_length']"
      ]
     },
     "execution_count": 35,
     "metadata": {},
     "output_type": "execute_result"
    }
   ],
   "source": [
    "predictors"
   ]
  },
  {
   "cell_type": "markdown",
   "metadata": {},
   "source": [
    "Now create an XGBoost model for predicting loan default. This model is being run with almost all of the model-tuning values at their defaults. Later we may want to optimize the hyperparameters using a grid search. "
   ]
  },
  {
   "cell_type": "code",
   "execution_count": 36,
   "metadata": {},
   "outputs": [
    {
     "name": "stdout",
     "output_type": "stream",
     "text": [
      "xgboost Model Build progress: |███████████████████████████████████████████| 100%\n"
     ]
    }
   ],
   "source": [
    "from h2o.estimators import H2OXGBoostEstimator\n",
    "\n",
    "param = {\n",
    "      \"ntrees\" : 20\n",
    "    , \"nfolds\" : 5\n",
    "    , \"seed\": 25\n",
    "}\n",
    "xgboost_model = H2OXGBoostEstimator(**param)\n",
    "xgboost_model.train(x = predictors,\n",
    "                    y = \"bad_loan\",\n",
    "                    training_frame=train,\n",
    "                    validation_frame=test)"
   ]
  },
  {
   "cell_type": "markdown",
   "metadata": {},
   "source": [
    "# Step 6 (of 10).  Examine model accuracy\n",
    "\n",
    "The plot below shows the performance of the model as more trees are built.  This graph can help us see at what point our model begins overfitting.  Our test data error rate stops improving at around 8-10 trees."
   ]
  },
  {
   "cell_type": "code",
   "execution_count": 37,
   "metadata": {},
   "outputs": [
    {
     "data": {
      "image/png": "[encoded data removed]",
      "text/plain": [
       "<Figure size 432x288 with 1 Axes>"
      ]
     },
     "metadata": {
      "needs_background": "light"
     },
     "output_type": "display_data"
    }
   ],
   "source": [
    "%matplotlib inline\n",
    "xgboost_model.plot()"
   ]
  },
  {
   "cell_type": "markdown",
   "metadata": {},
   "source": [
    "The ROC curve of the training and testing data are shown below.  The area under the ROC curve is much higher for the training data than the test data, indicating that the model is beginning to memorize the training data."
   ]
  },
  {
   "cell_type": "code",
   "execution_count": 38,
   "metadata": {},
   "outputs": [
    {
     "name": "stdout",
     "output_type": "stream",
     "text": [
      "Training Data\n"
     ]
    },
    {
     "data": {
      "image/png": "[encoded data removed]",
      "text/plain": [
       "<Figure size 432x288 with 1 Axes>"
      ]
     },
     "metadata": {
      "needs_background": "light"
     },
     "output_type": "display_data"
    },
    {
     "name": "stdout",
     "output_type": "stream",
     "text": [
      "Testing Data\n"
     ]
    },
    {
     "data": {
      "image/png": "[encoded data removed]",
      "text/plain": [
       "<Figure size 432x288 with 1 Axes>"
      ]
     },
     "metadata": {
      "needs_background": "light"
     },
     "output_type": "display_data"
    },
    {
     "name": "stdout",
     "output_type": "stream",
     "text": [
      "X-Val\n"
     ]
    },
    {
     "data": {
      "image/png": "[encoded data removed]",
      "text/plain": [
       "<Figure size 432x288 with 1 Axes>"
      ]
     },
     "metadata": {
      "needs_background": "light"
     },
     "output_type": "display_data"
    }
   ],
   "source": [
    "print(\"Training Data\")\n",
    "xgboost_model.model_performance(train = True).plot()\n",
    "print(\"Testing Data\")\n",
    "xgboost_model.model_performance(valid = True).plot()\n",
    "print(\"X-Val\")\n",
    "xgboost_model.model_performance(xval=True).plot()"
   ]
  },
  {
   "cell_type": "markdown",
   "metadata": {},
   "source": [
    "# Step 7 (of 10). Interpret model\n",
    "\n",
    "The variable importance plot shows us which variables are most important to predicting `bad_loan`.  We can use partial dependency plots to learn more about how these variables affect the prediction."
   ]
  },
  {
   "cell_type": "code",
   "execution_count": 39,
   "metadata": {},
   "outputs": [
    {
     "data": {
      "image/png": "[encoded data removed]",
      "text/plain": [
       "<Figure size 1008x720 with 1 Axes>"
      ]
     },
     "metadata": {
      "needs_background": "light"
     },
     "output_type": "display_data"
    }
   ],
   "source": [
    "xgboost_model.varimp_plot(20)"
   ]
  },
  {
   "cell_type": "markdown",
   "metadata": {},
   "source": [
    "As suspected, interest rate appears to be the most important feature in predicting loan default. The partial dependency plot of the `int_rate` predictor shows us that as the interest rate increases, the likelihood of the loan defaulting also increases."
   ]
  },
  {
   "cell_type": "code",
   "execution_count": 40,
   "metadata": {
    "scrolled": false
   },
   "outputs": [
    {
     "name": "stdout",
     "output_type": "stream",
     "text": [
      "PartialDependencePlot progress: |█████████████████████████████████████████| 100%\n"
     ]
    },
    {
     "data": {
      "image/png": "[encoded data removed]",
      "text/plain": [
       "<Figure size 504x720 with 1 Axes>"
      ]
     },
     "metadata": {
      "needs_background": "light"
     },
     "output_type": "display_data"
    }
   ],
   "source": [
    "pdp = xgboost_model.partial_plot(cols=[\"int_rate\"], data=train)"
   ]
  },
  {
   "cell_type": "markdown",
   "metadata": {},
   "source": [
    "# Step 8 (of 10). Save and reuse model\n",
    "\n",
    "The model can either be embedded into a self-contained Java MOJO package\n",
    "or it can be saved and later loaded directly into an H2O-3 cluster. For production\n",
    "use, we recommend using MOJO as it is optimized for speed. See the [guide](http://docs.h2o.ai/h2o/latest-stable/h2o-docs/productionizing.html) for further information.\n",
    "\n",
    "### Downloading MOJO"
   ]
  },
  {
   "cell_type": "code",
   "execution_count": 41,
   "metadata": {},
   "outputs": [
    {
     "data": {
      "text/plain": [
       "'/home/h2o/h2o-3_hands_on/lending_club_loan_default/XGBoost_model_python_1567405905360_1.zip'"
      ]
     },
     "execution_count": 41,
     "metadata": {},
     "output_type": "execute_result"
    }
   ],
   "source": [
    "xgboost_model.download_mojo()"
   ]
  },
  {
   "cell_type": "markdown",
   "metadata": {},
   "source": [
    "### Save and reuse the model \n",
    "\n",
    "We can save the model to disk for later use."
   ]
  },
  {
   "cell_type": "code",
   "execution_count": 42,
   "metadata": {},
   "outputs": [
    {
     "name": "stdout",
     "output_type": "stream",
     "text": [
      "/home/h2o/h2o-3_hands_on/lending_club_loan_default/XGBoost_model_python_1567405905360_1\n"
     ]
    }
   ],
   "source": [
    "model_path = h2o.save_model(model=xgboost_model, force=True)\n",
    "print(model_path)"
   ]
  },
  {
   "cell_type": "markdown",
   "metadata": {},
   "source": [
    "After the H2O cluster shuts down, all unsaved data and models are lost. At some future date, we can load the model for batch scoring in the H2O cluster."
   ]
  },
  {
   "cell_type": "code",
   "execution_count": 43,
   "metadata": {},
   "outputs": [],
   "source": [
    "loaded_model = h2o.load_model(path=model_path)"
   ]
  },
  {
   "cell_type": "markdown",
   "metadata": {},
   "source": [
    "Using that model, we can also score new data with the predict function:"
   ]
  },
  {
   "cell_type": "code",
   "execution_count": 44,
   "metadata": {
    "scrolled": true
   },
   "outputs": [
    {
     "name": "stdout",
     "output_type": "stream",
     "text": [
      "xgboost prediction progress: |████████████████████████████████████████████| 100%\n"
     ]
    },
    {
     "data": {
      "text/html": [
       "<table>\n",
       "<thead>\n",
       "<tr><th style=\"text-align: right;\">  predict</th><th style=\"text-align: right;\">      p0</th><th style=\"text-align: right;\">       p1</th></tr>\n",
       "</thead>\n",
       "<tbody>\n",
       "<tr><td style=\"text-align: right;\">        1</td><td style=\"text-align: right;\">0.742603</td><td style=\"text-align: right;\">0.257397 </td></tr>\n",
       "<tr><td style=\"text-align: right;\">        0</td><td style=\"text-align: right;\">0.974467</td><td style=\"text-align: right;\">0.0255327</td></tr>\n",
       "<tr><td style=\"text-align: right;\">        0</td><td style=\"text-align: right;\">0.847024</td><td style=\"text-align: right;\">0.152976 </td></tr>\n",
       "<tr><td style=\"text-align: right;\">        0</td><td style=\"text-align: right;\">0.904992</td><td style=\"text-align: right;\">0.0950076</td></tr>\n",
       "<tr><td style=\"text-align: right;\">        0</td><td style=\"text-align: right;\">0.919936</td><td style=\"text-align: right;\">0.0800638</td></tr>\n",
       "<tr><td style=\"text-align: right;\">        0</td><td style=\"text-align: right;\">0.914329</td><td style=\"text-align: right;\">0.0856709</td></tr>\n",
       "<tr><td style=\"text-align: right;\">        0</td><td style=\"text-align: right;\">0.959782</td><td style=\"text-align: right;\">0.0402183</td></tr>\n",
       "<tr><td style=\"text-align: right;\">        0</td><td style=\"text-align: right;\">0.930776</td><td style=\"text-align: right;\">0.0692244</td></tr>\n",
       "<tr><td style=\"text-align: right;\">        0</td><td style=\"text-align: right;\">0.966524</td><td style=\"text-align: right;\">0.0334765</td></tr>\n",
       "<tr><td style=\"text-align: right;\">        1</td><td style=\"text-align: right;\">0.787673</td><td style=\"text-align: right;\">0.212327 </td></tr>\n",
       "<tr><td style=\"text-align: right;\">        0</td><td style=\"text-align: right;\">0.926615</td><td style=\"text-align: right;\">0.0733845</td></tr>\n",
       "<tr><td style=\"text-align: right;\">        0</td><td style=\"text-align: right;\">0.830169</td><td style=\"text-align: right;\">0.169831 </td></tr>\n",
       "<tr><td style=\"text-align: right;\">        1</td><td style=\"text-align: right;\">0.694826</td><td style=\"text-align: right;\">0.305174 </td></tr>\n",
       "<tr><td style=\"text-align: right;\">        0</td><td style=\"text-align: right;\">0.838963</td><td style=\"text-align: right;\">0.161037 </td></tr>\n",
       "<tr><td style=\"text-align: right;\">        0</td><td style=\"text-align: right;\">0.954465</td><td style=\"text-align: right;\">0.0455352</td></tr>\n",
       "</tbody>\n",
       "</table>"
      ]
     },
     "metadata": {},
     "output_type": "display_data"
    },
    {
     "data": {
      "text/plain": []
     },
     "execution_count": 44,
     "metadata": {},
     "output_type": "execute_result"
    }
   ],
   "source": [
    "bad_loan_hat = loaded_model.predict(test)\n",
    "bad_loan_hat.head(15)"
   ]
  },
  {
   "cell_type": "markdown",
   "metadata": {},
   "source": [
    "# Step 9 (of 10). AutoML (optional)\n",
    "\n",
    "AutoML can be used for automating the machine learning workflow, which includes automatic training and tuning of many models within a user-specified time-limit or user specified model build limit. \n",
    "\n",
    "Stacked Ensembles will be automatically trained on collections of individual models to produce highly predictive ensemble models."
   ]
  },
  {
   "cell_type": "code",
   "execution_count": 45,
   "metadata": {},
   "outputs": [
    {
     "name": "stdout",
     "output_type": "stream",
     "text": [
      "AutoML progress: |████████████████████████████████████████████████████████| 100%\n"
     ]
    }
   ],
   "source": [
    "from h2o.automl import H2OAutoML\n",
    "\n",
    "aml = H2OAutoML(max_models=5, \n",
    "                max_runtime_secs_per_model=60, \n",
    "                include_algos = [\"GLM\", \"DRF\", \"XGBoost\", \"StackedEnsemble\"],\n",
    "                seed=25)\n",
    "aml.train(x=predictors, y='bad_loan', training_frame=train)"
   ]
  },
  {
   "cell_type": "markdown",
   "metadata": {},
   "source": [
    "_While the AutoML job is running, you can open H2O Flow and monitor the model building process._\n",
    "\n",
    "Once complete, the leaderboard contains the performance metrics of the models generated by AutoML:"
   ]
  },
  {
   "cell_type": "code",
   "execution_count": 46,
   "metadata": {
    "scrolled": false
   },
   "outputs": [
    {
     "data": {
      "text/html": [
       "<table>\n",
       "<thead>\n",
       "<tr><th>model_id                                           </th><th style=\"text-align: right;\">     auc</th><th style=\"text-align: right;\">  logloss</th><th style=\"text-align: right;\">  mean_per_class_error</th><th style=\"text-align: right;\">    rmse</th><th style=\"text-align: right;\">     mse</th></tr>\n",
       "</thead>\n",
       "<tbody>\n",
       "<tr><td>StackedEnsemble_AllModels_AutoML_20190902_063552   </td><td style=\"text-align: right;\">0.739265</td><td style=\"text-align: right;\"> 0.39444 </td><td style=\"text-align: right;\">              0.335333</td><td style=\"text-align: right;\">0.348625</td><td style=\"text-align: right;\">0.121539</td></tr>\n",
       "<tr><td>StackedEnsemble_BestOfFamily_AutoML_20190902_063552</td><td style=\"text-align: right;\">0.738533</td><td style=\"text-align: right;\"> 0.394749</td><td style=\"text-align: right;\">              0.334169</td><td style=\"text-align: right;\">0.3487  </td><td style=\"text-align: right;\">0.121591</td></tr>\n",
       "<tr><td>GLM_grid_1_AutoML_20190902_063552_model_1          </td><td style=\"text-align: right;\">0.733086</td><td style=\"text-align: right;\"> 0.394169</td><td style=\"text-align: right;\">              0.338807</td><td style=\"text-align: right;\">0.348612</td><td style=\"text-align: right;\">0.121531</td></tr>\n",
       "<tr><td>XGBoost_3_AutoML_20190902_063552                   </td><td style=\"text-align: right;\">0.729347</td><td style=\"text-align: right;\"> 0.400098</td><td style=\"text-align: right;\">              0.336342</td><td style=\"text-align: right;\">0.350309</td><td style=\"text-align: right;\">0.122716</td></tr>\n",
       "<tr><td>XGBoost_1_AutoML_20190902_063552                   </td><td style=\"text-align: right;\">0.727678</td><td style=\"text-align: right;\"> 0.4188  </td><td style=\"text-align: right;\">              0.334207</td><td style=\"text-align: right;\">0.357258</td><td style=\"text-align: right;\">0.127633</td></tr>\n",
       "<tr><td>XGBoost_2_AutoML_20190902_063552                   </td><td style=\"text-align: right;\">0.723183</td><td style=\"text-align: right;\"> 0.436689</td><td style=\"text-align: right;\">              0.342984</td><td style=\"text-align: right;\">0.365087</td><td style=\"text-align: right;\">0.133289</td></tr>\n",
       "<tr><td>DRF_1_AutoML_20190902_063552                       </td><td style=\"text-align: right;\">0.708367</td><td style=\"text-align: right;\"> 0.404705</td><td style=\"text-align: right;\">              0.347452</td><td style=\"text-align: right;\">0.35372 </td><td style=\"text-align: right;\">0.125118</td></tr>\n",
       "</tbody>\n",
       "</table>"
      ]
     },
     "metadata": {},
     "output_type": "display_data"
    },
    {
     "data": {
      "text/plain": []
     },
     "execution_count": 46,
     "metadata": {},
     "output_type": "execute_result"
    }
   ],
   "source": [
    "aml.leaderboard"
   ]
  },
  {
   "cell_type": "markdown",
   "metadata": {},
   "source": [
    "Since we provided only the training H2O Frame during training, the models are sorted by their cross-validated performance metrics (AUC by default for classification). We can evaluate the best model (`leader`) on the test data:"
   ]
  },
  {
   "cell_type": "code",
   "execution_count": 47,
   "metadata": {},
   "outputs": [
    {
     "data": {
      "image/png": "[encoded data removed]",
      "text/plain": [
       "<Figure size 432x288 with 1 Axes>"
      ]
     },
     "metadata": {
      "needs_background": "light"
     },
     "output_type": "display_data"
    },
    {
     "name": "stdout",
     "output_type": "stream",
     "text": [
      "\n",
      "ModelMetricsBinomialGLM: stackedensemble\n",
      "** Reported on test data. **\n",
      "\n",
      "MSE: 0.11920999559155276\n",
      "RMSE: 0.3452680054559831\n",
      "LogLoss: 0.38990163801121575\n",
      "Null degrees of freedom: 9681\n",
      "Residual degrees of freedom: 9676\n",
      "Null deviance: 8292.432037983566\n",
      "Residual deviance: 7550.055318449182\n",
      "AIC: 7562.055318449182\n",
      "AUC: 0.72023723708897\n",
      "pr_auc: 0.3228630609788146\n",
      "Gini: 0.44047447417794006\n",
      "Confusion Matrix (Act/Pred) for max f1 @ threshold = 0.1838549684606871: \n"
     ]
    },
    {
     "data": {
      "text/html": [
       "<div style=\"overflow:auto\"><table style=\"width:50%\"><tr><td><b></b></td>\n",
       "<td><b>0</b></td>\n",
       "<td><b>1</b></td>\n",
       "<td><b>Error</b></td>\n",
       "<td><b>Rate</b></td></tr>\n",
       "<tr><td>0</td>\n",
       "<td>6522.0</td>\n",
       "<td>1678.0</td>\n",
       "<td>0.2046</td>\n",
       "<td> (1678.0/8200.0)</td></tr>\n",
       "<tr><td>1</td>\n",
       "<td>733.0</td>\n",
       "<td>749.0</td>\n",
       "<td>0.4946</td>\n",
       "<td> (733.0/1482.0)</td></tr>\n",
       "<tr><td>Total</td>\n",
       "<td>7255.0</td>\n",
       "<td>2427.0</td>\n",
       "<td>0.249</td>\n",
       "<td> (2411.0/9682.0)</td></tr></table></div>"
      ],
      "text/plain": [
       "       0     1     Error    Rate\n",
       "-----  ----  ----  -------  ---------------\n",
       "0      6522  1678  0.2046   (1678.0/8200.0)\n",
       "1      733   749   0.4946   (733.0/1482.0)\n",
       "Total  7255  2427  0.249    (2411.0/9682.0)"
      ]
     },
     "metadata": {},
     "output_type": "display_data"
    },
    {
     "name": "stdout",
     "output_type": "stream",
     "text": [
      "Maximum Metrics: Maximum metrics at their respective thresholds\n",
      "\n"
     ]
    },
    {
     "data": {
      "text/html": [
       "<div style=\"overflow:auto\"><table style=\"width:50%\"><tr><td><b>metric</b></td>\n",
       "<td><b>threshold</b></td>\n",
       "<td><b>value</b></td>\n",
       "<td><b>idx</b></td></tr>\n",
       "<tr><td>max f1</td>\n",
       "<td>0.1838550</td>\n",
       "<td>0.3832182</td>\n",
       "<td>242.0</td></tr>\n",
       "<tr><td>max f2</td>\n",
       "<td>0.0902115</td>\n",
       "<td>0.5279801</td>\n",
       "<td>344.0</td></tr>\n",
       "<tr><td>max f0point5</td>\n",
       "<td>0.2803478</td>\n",
       "<td>0.3575712</td>\n",
       "<td>174.0</td></tr>\n",
       "<tr><td>max accuracy</td>\n",
       "<td>0.6596081</td>\n",
       "<td>0.8485850</td>\n",
       "<td>25.0</td></tr>\n",
       "<tr><td>max precision</td>\n",
       "<td>0.8921908</td>\n",
       "<td>1.0</td>\n",
       "<td>0.0</td></tr>\n",
       "<tr><td>max recall</td>\n",
       "<td>0.0557972</td>\n",
       "<td>1.0</td>\n",
       "<td>397.0</td></tr>\n",
       "<tr><td>max specificity</td>\n",
       "<td>0.8921908</td>\n",
       "<td>1.0</td>\n",
       "<td>0.0</td></tr>\n",
       "<tr><td>max absolute_mcc</td>\n",
       "<td>0.2005357</td>\n",
       "<td>0.2503325</td>\n",
       "<td>228.0</td></tr>\n",
       "<tr><td>max min_per_class_accuracy</td>\n",
       "<td>0.1348896</td>\n",
       "<td>0.6582927</td>\n",
       "<td>288.0</td></tr>\n",
       "<tr><td>max mean_per_class_accuracy</td>\n",
       "<td>0.1263236</td>\n",
       "<td>0.6623446</td>\n",
       "<td>297.0</td></tr></table></div>"
      ],
      "text/plain": [
       "metric                       threshold    value     idx\n",
       "---------------------------  -----------  --------  -----\n",
       "max f1                       0.183855     0.383218  242\n",
       "max f2                       0.0902115    0.52798   344\n",
       "max f0point5                 0.280348     0.357571  174\n",
       "max accuracy                 0.659608     0.848585  25\n",
       "max precision                0.892191     1         0\n",
       "max recall                   0.0557972    1         397\n",
       "max specificity              0.892191     1         0\n",
       "max absolute_mcc             0.200536     0.250332  228\n",
       "max min_per_class_accuracy   0.13489      0.658293  288\n",
       "max mean_per_class_accuracy  0.126324     0.662345  297"
      ]
     },
     "metadata": {},
     "output_type": "display_data"
    },
    {
     "name": "stdout",
     "output_type": "stream",
     "text": [
      "Gains/Lift Table: Avg response rate: 15.31 %, avg score: 15.93 %\n",
      "\n"
     ]
    },
    {
     "data": {
      "text/html": [
       "<div style=\"overflow:auto\"><table style=\"width:50%\"><tr><td><b></b></td>\n",
       "<td><b>group</b></td>\n",
       "<td><b>cumulative_data_fraction</b></td>\n",
       "<td><b>lower_threshold</b></td>\n",
       "<td><b>lift</b></td>\n",
       "<td><b>cumulative_lift</b></td>\n",
       "<td><b>response_rate</b></td>\n",
       "<td><b>score</b></td>\n",
       "<td><b>cumulative_response_rate</b></td>\n",
       "<td><b>cumulative_score</b></td>\n",
       "<td><b>capture_rate</b></td>\n",
       "<td><b>cumulative_capture_rate</b></td>\n",
       "<td><b>gain</b></td>\n",
       "<td><b>cumulative_gain</b></td></tr>\n",
       "<tr><td></td>\n",
       "<td>1</td>\n",
       "<td>0.0100186</td>\n",
       "<td>0.6232038</td>\n",
       "<td>3.5696120</td>\n",
       "<td>3.5696120</td>\n",
       "<td>0.5463918</td>\n",
       "<td>0.6860901</td>\n",
       "<td>0.5463918</td>\n",
       "<td>0.6860901</td>\n",
       "<td>0.0357625</td>\n",
       "<td>0.0357625</td>\n",
       "<td>256.9611976</td>\n",
       "<td>256.9611976</td></tr>\n",
       "<tr><td></td>\n",
       "<td>2</td>\n",
       "<td>0.0200372</td>\n",
       "<td>0.5516937</td>\n",
       "<td>2.9634515</td>\n",
       "<td>3.2665317</td>\n",
       "<td>0.4536082</td>\n",
       "<td>0.5835281</td>\n",
       "<td>0.5</td>\n",
       "<td>0.6348091</td>\n",
       "<td>0.0296896</td>\n",
       "<td>0.0654521</td>\n",
       "<td>196.3451452</td>\n",
       "<td>226.6531714</td></tr>\n",
       "<tr><td></td>\n",
       "<td>3</td>\n",
       "<td>0.0300558</td>\n",
       "<td>0.5065867</td>\n",
       "<td>2.8287491</td>\n",
       "<td>3.1206042</td>\n",
       "<td>0.4329897</td>\n",
       "<td>0.5273516</td>\n",
       "<td>0.4776632</td>\n",
       "<td>0.5989899</td>\n",
       "<td>0.0283401</td>\n",
       "<td>0.0937922</td>\n",
       "<td>182.8749113</td>\n",
       "<td>212.0604180</td></tr>\n",
       "<tr><td></td>\n",
       "<td>4</td>\n",
       "<td>0.0400744</td>\n",
       "<td>0.4625381</td>\n",
       "<td>2.2225886</td>\n",
       "<td>2.8961003</td>\n",
       "<td>0.3402062</td>\n",
       "<td>0.4809579</td>\n",
       "<td>0.4432990</td>\n",
       "<td>0.5694819</td>\n",
       "<td>0.0222672</td>\n",
       "<td>0.1160594</td>\n",
       "<td>122.2588589</td>\n",
       "<td>189.6100282</td></tr>\n",
       "<tr><td></td>\n",
       "<td>5</td>\n",
       "<td>0.0500930</td>\n",
       "<td>0.4365353</td>\n",
       "<td>2.3572909</td>\n",
       "<td>2.7883384</td>\n",
       "<td>0.3608247</td>\n",
       "<td>0.4505869</td>\n",
       "<td>0.4268041</td>\n",
       "<td>0.5457029</td>\n",
       "<td>0.0236167</td>\n",
       "<td>0.1396761</td>\n",
       "<td>135.7290928</td>\n",
       "<td>178.8338411</td></tr>\n",
       "<tr><td></td>\n",
       "<td>6</td>\n",
       "<td>0.1000826</td>\n",
       "<td>0.3257739</td>\n",
       "<td>2.2136826</td>\n",
       "<td>2.5013071</td>\n",
       "<td>0.3388430</td>\n",
       "<td>0.3748207</td>\n",
       "<td>0.3828689</td>\n",
       "<td>0.4603500</td>\n",
       "<td>0.1106613</td>\n",
       "<td>0.2503374</td>\n",
       "<td>121.3682649</td>\n",
       "<td>150.1307050</td></tr>\n",
       "<tr><td></td>\n",
       "<td>7</td>\n",
       "<td>0.1500723</td>\n",
       "<td>0.2618533</td>\n",
       "<td>1.9572194</td>\n",
       "<td>2.3200693</td>\n",
       "<td>0.2995868</td>\n",
       "<td>0.2917580</td>\n",
       "<td>0.3551273</td>\n",
       "<td>0.4041913</td>\n",
       "<td>0.0978408</td>\n",
       "<td>0.3481781</td>\n",
       "<td>95.7219415</td>\n",
       "<td>132.0069325</td></tr>\n",
       "<tr><td></td>\n",
       "<td>8</td>\n",
       "<td>0.2000620</td>\n",
       "<td>0.2159959</td>\n",
       "<td>1.7007562</td>\n",
       "<td>2.1653210</td>\n",
       "<td>0.2603306</td>\n",
       "<td>0.2375259</td>\n",
       "<td>0.3314404</td>\n",
       "<td>0.3625465</td>\n",
       "<td>0.0850202</td>\n",
       "<td>0.4331984</td>\n",
       "<td>70.0756182</td>\n",
       "<td>116.5320971</td></tr>\n",
       "<tr><td></td>\n",
       "<td>9</td>\n",
       "<td>0.3000413</td>\n",
       "<td>0.1610553</td>\n",
       "<td>1.2755671</td>\n",
       "<td>1.8688385</td>\n",
       "<td>0.1952479</td>\n",
       "<td>0.1854863</td>\n",
       "<td>0.2860585</td>\n",
       "<td>0.3035468</td>\n",
       "<td>0.1275304</td>\n",
       "<td>0.5607287</td>\n",
       "<td>27.5567136</td>\n",
       "<td>86.8838454</td></tr>\n",
       "<tr><td></td>\n",
       "<td>10</td>\n",
       "<td>0.4000207</td>\n",
       "<td>0.1320993</td>\n",
       "<td>1.0865942</td>\n",
       "<td>1.6733279</td>\n",
       "<td>0.1663223</td>\n",
       "<td>0.1459063</td>\n",
       "<td>0.2561322</td>\n",
       "<td>0.2641468</td>\n",
       "<td>0.1086370</td>\n",
       "<td>0.6693657</td>\n",
       "<td>8.6594227</td>\n",
       "<td>67.3327891</td></tr>\n",
       "<tr><td></td>\n",
       "<td>11</td>\n",
       "<td>0.5</td>\n",
       "<td>0.1132375</td>\n",
       "<td>0.8301310</td>\n",
       "<td>1.5047233</td>\n",
       "<td>0.1270661</td>\n",
       "<td>0.1219412</td>\n",
       "<td>0.2303243</td>\n",
       "<td>0.2357116</td>\n",
       "<td>0.0829960</td>\n",
       "<td>0.7523617</td>\n",
       "<td>-16.9869007</td>\n",
       "<td>50.4723347</td></tr>\n",
       "<tr><td></td>\n",
       "<td>12</td>\n",
       "<td>0.5999793</td>\n",
       "<td>0.0990391</td>\n",
       "<td>0.7896368</td>\n",
       "<td>1.3855628</td>\n",
       "<td>0.1208678</td>\n",
       "<td>0.1057422</td>\n",
       "<td>0.2120847</td>\n",
       "<td>0.2140537</td>\n",
       "<td>0.0789474</td>\n",
       "<td>0.8313090</td>\n",
       "<td>-21.0363201</td>\n",
       "<td>38.5562772</td></tr>\n",
       "<tr><td></td>\n",
       "<td>13</td>\n",
       "<td>0.6999587</td>\n",
       "<td>0.0871227</td>\n",
       "<td>0.6884013</td>\n",
       "<td>1.2859830</td>\n",
       "<td>0.1053719</td>\n",
       "<td>0.0931001</td>\n",
       "<td>0.1968423</td>\n",
       "<td>0.1967772</td>\n",
       "<td>0.0688259</td>\n",
       "<td>0.9001350</td>\n",
       "<td>-31.1598688</td>\n",
       "<td>28.5982974</td></tr>\n",
       "<tr><td></td>\n",
       "<td>14</td>\n",
       "<td>0.7999380</td>\n",
       "<td>0.0764986</td>\n",
       "<td>0.4926794</td>\n",
       "<td>1.1868328</td>\n",
       "<td>0.0754132</td>\n",
       "<td>0.0817644</td>\n",
       "<td>0.1816656</td>\n",
       "<td>0.1824024</td>\n",
       "<td>0.0492578</td>\n",
       "<td>0.9493927</td>\n",
       "<td>-50.7320630</td>\n",
       "<td>18.6832827</td></tr>\n",
       "<tr><td></td>\n",
       "<td>15</td>\n",
       "<td>0.8999174</td>\n",
       "<td>0.0668660</td>\n",
       "<td>0.3576987</td>\n",
       "<td>1.0947174</td>\n",
       "<td>0.0547521</td>\n",
       "<td>0.0716597</td>\n",
       "<td>0.1675657</td>\n",
       "<td>0.1700991</td>\n",
       "<td>0.0357625</td>\n",
       "<td>0.9851552</td>\n",
       "<td>-64.2301279</td>\n",
       "<td>9.4717388</td></tr>\n",
       "<tr><td></td>\n",
       "<td>16</td>\n",
       "<td>1.0</td>\n",
       "<td>0.0528188</td>\n",
       "<td>0.1483255</td>\n",
       "<td>1.0</td>\n",
       "<td>0.0227038</td>\n",
       "<td>0.0617107</td>\n",
       "<td>0.1530675</td>\n",
       "<td>0.1592513</td>\n",
       "<td>0.0148448</td>\n",
       "<td>1.0</td>\n",
       "<td>-85.1674515</td>\n",
       "<td>0.0</td></tr></table></div>"
      ],
      "text/plain": [
       "    group    cumulative_data_fraction    lower_threshold    lift      cumulative_lift    response_rate    score      cumulative_response_rate    cumulative_score    capture_rate    cumulative_capture_rate    gain      cumulative_gain\n",
       "--  -------  --------------------------  -----------------  --------  -----------------  ---------------  ---------  --------------------------  ------------------  --------------  -------------------------  --------  -----------------\n",
       "    1        0.0100186                   0.623204           3.56961   3.56961            0.546392         0.68609    0.546392                    0.68609             0.0357625       0.0357625                  256.961   256.961\n",
       "    2        0.0200372                   0.551694           2.96345   3.26653            0.453608         0.583528   0.5                         0.634809            0.0296896       0.0654521                  196.345   226.653\n",
       "    3        0.0300558                   0.506587           2.82875   3.1206             0.43299          0.527352   0.477663                    0.59899             0.0283401       0.0937922                  182.875   212.06\n",
       "    4        0.0400744                   0.462538           2.22259   2.8961             0.340206         0.480958   0.443299                    0.569482            0.0222672       0.116059                   122.259   189.61\n",
       "    5        0.050093                    0.436535           2.35729   2.78834            0.360825         0.450587   0.426804                    0.545703            0.0236167       0.139676                   135.729   178.834\n",
       "    6        0.100083                    0.325774           2.21368   2.50131            0.338843         0.374821   0.382869                    0.46035             0.110661        0.250337                   121.368   150.131\n",
       "    7        0.150072                    0.261853           1.95722   2.32007            0.299587         0.291758   0.355127                    0.404191            0.0978408       0.348178                   95.7219   132.007\n",
       "    8        0.200062                    0.215996           1.70076   2.16532            0.260331         0.237526   0.33144                     0.362546            0.0850202       0.433198                   70.0756   116.532\n",
       "    9        0.300041                    0.161055           1.27557   1.86884            0.195248         0.185486   0.286059                    0.303547            0.12753         0.560729                   27.5567   86.8838\n",
       "    10       0.400021                    0.132099           1.08659   1.67333            0.166322         0.145906   0.256132                    0.264147            0.108637        0.669366                   8.65942   67.3328\n",
       "    11       0.5                         0.113237           0.830131  1.50472            0.127066         0.121941   0.230324                    0.235712            0.082996        0.752362                   -16.9869  50.4723\n",
       "    12       0.599979                    0.0990391          0.789637  1.38556            0.120868         0.105742   0.212085                    0.214054            0.0789474       0.831309                   -21.0363  38.5563\n",
       "    13       0.699959                    0.0871227          0.688401  1.28598            0.105372         0.0931001  0.196842                    0.196777            0.0688259       0.900135                   -31.1599  28.5983\n",
       "    14       0.799938                    0.0764986          0.492679  1.18683            0.0754132        0.0817644  0.181666                    0.182402            0.0492578       0.949393                   -50.7321  18.6833\n",
       "    15       0.899917                    0.066866           0.357699  1.09472            0.0547521        0.0716597  0.167566                    0.170099            0.0357625       0.985155                   -64.2301  9.47174\n",
       "    16       1                           0.0528188          0.148325  1                  0.0227038        0.0617107  0.153068                    0.159251            0.0148448       1                          -85.1675  0"
      ]
     },
     "metadata": {},
     "output_type": "display_data"
    },
    {
     "name": "stdout",
     "output_type": "stream",
     "text": [
      "\n"
     ]
    },
    {
     "data": {
      "text/plain": []
     },
     "execution_count": 47,
     "metadata": {},
     "output_type": "execute_result"
    }
   ],
   "source": [
    "aml.leader.model_performance(test_data=test).plot()\n",
    "aml.leader.model_performance(test_data=test)"
   ]
  },
  {
   "cell_type": "markdown",
   "metadata": {},
   "source": [
    "Another convenient use of H2O Flow is to explore the various models built by AutoML."
   ]
  },
  {
   "cell_type": "markdown",
   "metadata": {},
   "source": [
    "# Step 10 (of 10). Stop H2O-3 cluster"
   ]
  },
  {
   "cell_type": "code",
   "execution_count": 48,
   "metadata": {},
   "outputs": [
    {
     "name": "stdout",
     "output_type": "stream",
     "text": [
      "H2O session _sid_8257 closed.\n"
     ]
    }
   ],
   "source": [
    "h2o.cluster().shutdown()"
   ]
  },
  {
   "cell_type": "markdown",
   "metadata": {},
   "source": [
    "Once your work is completed, shutting down the H2O cluster frees up the resources reserved by H2O.\n",
    "\n",
    "# Bonus: H2O-3 documentation\n",
    "\n",
    "* http://docs.h2o.ai"
   ]
  }
 ],
 "metadata": {
  "kernelspec": {
   "display_name": "Python 3",
   "language": "python",
   "name": "python3"
  },
  "language_info": {
   "codemirror_mode": {
    "name": "ipython",
    "version": 3
   },
   "file_extension": ".py",
   "mimetype": "text/x-python",
   "name": "python",
   "nbconvert_exporter": "python",
   "pygments_lexer": "ipython3",
   "version": "3.6.9"
  }
 },
 "nbformat": 4,
 "nbformat_minor": 2
}
