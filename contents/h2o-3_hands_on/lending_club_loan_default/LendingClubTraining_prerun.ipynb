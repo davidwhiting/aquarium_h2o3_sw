{
 "cells": [
  {
   "cell_type": "markdown",
   "metadata": {},
   "source": [
    "# *Lending Club Loan Default*\n",
    "\n",
    "In this tutorial, we will go through a step-by-step workflow to determine loan deliquency. Predictions will be made based only on the information available at the time the loan was issued.  Our data is a portion of the public Lending Club data set."
   ]
  },
  {
   "cell_type": "markdown",
   "metadata": {},
   "source": [
    "## Workflow\n",
    "\n",
    "1. Start H2O-3 cluster\n",
    "2. Import data\n",
    "3. Clean data\n",
    "4. Feature engineering\n",
    "5. Model training\n",
    "6. Examine model accuracy\n",
    "7. Interpret model\n",
    "8. Save and reuse model\n",
    "9. AutoML (optional)\n",
    "10. Stop H2O-3 cluster"
   ]
  },
  {
   "cell_type": "markdown",
   "metadata": {},
   "source": [
    "# Step 1 (of 10). Start H2O-3 cluster\n",
    "\n",
    "The method you use for starting and stopping an H2O-3 cluster will depend on how H2O is set up on your system. The method we show here is the simplest and most straightforward. It is critical, however, that you properly shut down any H2O cluster that you start."
   ]
  },
  {
   "cell_type": "code",
   "execution_count": 1,
   "metadata": {},
   "outputs": [
    {
     "name": "stdout",
     "output_type": "stream",
     "text": [
      "Checking whether there is an H2O instance running at http://localhost:54321 . connected.\n"
     ]
    },
    {
     "data": {
      "text/html": [
       "<div style=\"overflow:auto\"><table style=\"width:50%\"><tr><td>H2O cluster uptime:</td>\n",
       "<td>3 hours 59 mins</td></tr>\n",
       "<tr><td>H2O cluster timezone:</td>\n",
       "<td>Etc/UTC</td></tr>\n",
       "<tr><td>H2O data parsing timezone:</td>\n",
       "<td>UTC</td></tr>\n",
       "<tr><td>H2O cluster version:</td>\n",
       "<td>3.24.0.5</td></tr>\n",
       "<tr><td>H2O cluster version age:</td>\n",
       "<td>22 days </td></tr>\n",
       "<tr><td>H2O cluster name:</td>\n",
       "<td>H2O_from_python_unknownUser_dtjiun</td></tr>\n",
       "<tr><td>H2O cluster total nodes:</td>\n",
       "<td>1</td></tr>\n",
       "<tr><td>H2O cluster free memory:</td>\n",
       "<td>11.97 Gb</td></tr>\n",
       "<tr><td>H2O cluster total cores:</td>\n",
       "<td>16</td></tr>\n",
       "<tr><td>H2O cluster allowed cores:</td>\n",
       "<td>16</td></tr>\n",
       "<tr><td>H2O cluster status:</td>\n",
       "<td>locked, healthy</td></tr>\n",
       "<tr><td>H2O connection url:</td>\n",
       "<td>http://localhost:54321</td></tr>\n",
       "<tr><td>H2O connection proxy:</td>\n",
       "<td>None</td></tr>\n",
       "<tr><td>H2O internal security:</td>\n",
       "<td>False</td></tr>\n",
       "<tr><td>H2O API Extensions:</td>\n",
       "<td>Amazon S3, XGBoost, Algos, AutoML, Core V3, Core V4</td></tr>\n",
       "<tr><td>Python version:</td>\n",
       "<td>3.6.8 final</td></tr></table></div>"
      ],
      "text/plain": [
       "--------------------------  ---------------------------------------------------\n",
       "H2O cluster uptime:         3 hours 59 mins\n",
       "H2O cluster timezone:       Etc/UTC\n",
       "H2O data parsing timezone:  UTC\n",
       "H2O cluster version:        3.24.0.5\n",
       "H2O cluster version age:    22 days\n",
       "H2O cluster name:           H2O_from_python_unknownUser_dtjiun\n",
       "H2O cluster total nodes:    1\n",
       "H2O cluster free memory:    11.97 Gb\n",
       "H2O cluster total cores:    16\n",
       "H2O cluster allowed cores:  16\n",
       "H2O cluster status:         locked, healthy\n",
       "H2O connection url:         http://localhost:54321\n",
       "H2O connection proxy:\n",
       "H2O internal security:      False\n",
       "H2O API Extensions:         Amazon S3, XGBoost, Algos, AutoML, Core V3, Core V4\n",
       "Python version:             3.6.8 final\n",
       "--------------------------  ---------------------------------------------------"
      ]
     },
     "metadata": {},
     "output_type": "display_data"
    }
   ],
   "source": [
    "import h2o\n",
    "h2o.init(bind_to_localhost=False)  # run and expose the cluster to the Internet"
   ]
  },
  {
   "cell_type": "markdown",
   "metadata": {},
   "source": [
    "# Step 2 (of 10). Import data\n",
    "\n",
    "A full description of the complete Lending Club data is available at kaggle.com [here](https://www.kaggle.com/pragyanbo/a-hitchhiker-s-guide-to-lending-club-loan-data/notebook). \n",
    "\n",
    "The data set we use below is a local copy of https://s3-us-west-2.amazonaws.com/h2o-tutorials/data/topics/lending/lending_club/LoanStats3a.csv.\n",
    "\n",
    "### View and Inspect the Data\n",
    "\n",
    "The loans data is loaded directly into H2O using the following command:"
   ]
  },
  {
   "cell_type": "code",
   "execution_count": 2,
   "metadata": {},
   "outputs": [
    {
     "name": "stdout",
     "output_type": "stream",
     "text": [
      "Parse progress: |█████████████████████████████████████████████████████████| 100%\n"
     ]
    }
   ],
   "source": [
    "loans = h2o.import_file(\"../../data/lending_club/LoanStats3a.csv\",\n",
    "                        col_types = {\"int_rate\":\"string\", \n",
    "                                     \"revol_util\":\"string\", \n",
    "                                     \"emp_length\":\"string\", \n",
    "                                     \"verification_status\":\"string\"})"
   ]
  },
  {
   "cell_type": "markdown",
   "metadata": {},
   "source": [
    "Note that the `h2o.import_file` command completely bypassed python and loaded the data directly into H2O memory. Alternatively, one could load a dataset into a python object, for instance, then pass it to H2O. The approach we use above is far more efficient and generally recommended, especially as data size increases.\n",
    "\n",
    "### Inspect the Data with H2O Flow\n",
    "\n",
    "Now is a good time to enable H2O Flow. Although H2O Flow can be used for everything from loading data to building models to creating production code, we use it here for data investigation and H2O system monitoring.\n",
    "\n",
    "> Note: the reported IP above \n",
    ">\n",
    ">```\n",
    "Connecting to H2O server at http://127.0.0.1:54321 ... successful.\n",
    ">```\n",
    ">\n",
    "> is the local IP within your particular cloud instance. \n",
    ">\n",
    "> **To open H2O Flow in your own browser, copy your browser URL and replace the port with 54321.**\n",
    ">\n",
    ">> For example, my Jupyter notebook's URL is \n",
    ">>\n",
    ">>`http://52.202.98.125:8888`. \n",
    ">>\n",
    ">> After opening a new browser tab or window, I copy the address and replace port `8888` with `54321`:\n",
    ">>\n",
    ">>`http://52.202.98.125:54321`.\n",
    "\n",
    "A quick summary of the data size and data fields are shown below."
   ]
  },
  {
   "cell_type": "code",
   "execution_count": 3,
   "metadata": {},
   "outputs": [
    {
     "data": {
      "text/plain": [
       "[42536, 52]"
      ]
     },
     "execution_count": 3,
     "metadata": {},
     "output_type": "execute_result"
    }
   ],
   "source": [
    "loans.dim"
   ]
  },
  {
   "cell_type": "code",
   "execution_count": 4,
   "metadata": {},
   "outputs": [
    {
     "data": {
      "text/html": [
       "<table>\n",
       "<thead>\n",
       "<tr><th style=\"text-align: right;\">         id</th><th style=\"text-align: right;\">  member_id</th><th style=\"text-align: right;\">  loan_amnt</th><th style=\"text-align: right;\">  funded_amnt</th><th style=\"text-align: right;\">  funded_amnt_inv</th><th>term     </th><th>int_rate  </th><th style=\"text-align: right;\">  installment</th><th>grade  </th><th>sub_grade  </th><th>emp_title                </th><th>emp_length  </th><th>home_ownership  </th><th style=\"text-align: right;\">  annual_inc</th><th>verification_status     </th><th>issue_d            </th><th>loan_status  </th><th>pymnt_plan  </th><th>url                                                                 </th><th>desc                                                                                                                                                                                                                                                                                                                                                                                                                                                                                                                                                                                                        </th><th>purpose           </th><th>title                                </th><th>zip_code  </th><th>addr_state  </th><th style=\"text-align: right;\">  dti</th><th style=\"text-align: right;\">  delinq_2yrs</th><th>earliest_cr_line   </th><th style=\"text-align: right;\">  inq_last_6mths</th><th>mths_since_last_delinq  </th><th>mths_since_last_record  </th><th style=\"text-align: right;\">  open_acc</th><th style=\"text-align: right;\">  pub_rec</th><th style=\"text-align: right;\">  revol_bal</th><th>revol_util  </th><th style=\"text-align: right;\">  total_acc</th><th>initial_list_status  </th><th style=\"text-align: right;\">  out_prncp</th><th style=\"text-align: right;\">  out_prncp_inv</th><th style=\"text-align: right;\">  total_pymnt</th><th style=\"text-align: right;\">  total_pymnt_inv</th><th style=\"text-align: right;\">  total_rec_prncp</th><th style=\"text-align: right;\">  total_rec_int</th><th style=\"text-align: right;\">  total_rec_late_fee</th><th style=\"text-align: right;\">  recoveries</th><th style=\"text-align: right;\">  collection_recovery_fee</th><th>last_pymnt_d       </th><th style=\"text-align: right;\">  last_pymnt_amnt</th><th>next_pymnt_d       </th><th>last_credit_pull_d  </th><th style=\"text-align: right;\">  collections_12_mths_ex_med</th><th>mths_since_last_major_derog  </th><th style=\"text-align: right;\">  policy_code</th></tr>\n",
       "</thead>\n",
       "<tbody>\n",
       "<tr><td style=\"text-align: right;\">1.0775e+06 </td><td style=\"text-align: right;\">1.2966e+06 </td><td style=\"text-align: right;\">       5000</td><td style=\"text-align: right;\">         5000</td><td style=\"text-align: right;\">             4975</td><td>36 months</td><td>10.65%    </td><td style=\"text-align: right;\">       162.87</td><td>B      </td><td>B2         </td><td>                         </td><td>10+ years   </td><td>RENT            </td><td style=\"text-align: right;\">       24000</td><td>VERIFIED - income       </td><td>2011-12-01 00:00:00</td><td>Fully Paid   </td><td>n           </td><td>https://www.lendingclub.com/browse/loanDetail.action?loan_id=1077501</td><td>Borrower added on 12/22/11 > I need to upgrade my business technologies.<br>                                                                                                                                                                                                                                                                                                                                                                                                                                                                                                                                </td><td>credit_card       </td><td>Computer                             </td><td>860xx     </td><td>AZ          </td><td style=\"text-align: right;\">27.65</td><td style=\"text-align: right;\">            0</td><td>1985-01-01 00:00:00</td><td style=\"text-align: right;\">               1</td><td>                        </td><td>                        </td><td style=\"text-align: right;\">         3</td><td style=\"text-align: right;\">        0</td><td style=\"text-align: right;\">      13648</td><td>83.7%       </td><td style=\"text-align: right;\">          9</td><td>f                    </td><td style=\"text-align: right;\">       0   </td><td style=\"text-align: right;\">           0   </td><td style=\"text-align: right;\">      5861.07</td><td style=\"text-align: right;\">          5831.78</td><td style=\"text-align: right;\">          5000   </td><td style=\"text-align: right;\">         861.07</td><td style=\"text-align: right;\">                0   </td><td style=\"text-align: right;\">        0   </td><td style=\"text-align: right;\">                     0   </td><td>2015-01-01 00:00:00</td><td style=\"text-align: right;\">           171.62</td><td>                   </td><td>2015-01-01 00:00:00 </td><td style=\"text-align: right;\">                           0</td><td>                             </td><td style=\"text-align: right;\">            1</td></tr>\n",
       "<tr><td style=\"text-align: right;\">1.07743e+06</td><td style=\"text-align: right;\">1.31417e+06</td><td style=\"text-align: right;\">       2500</td><td style=\"text-align: right;\">         2500</td><td style=\"text-align: right;\">             2500</td><td>60 months</td><td>15.27%    </td><td style=\"text-align: right;\">        59.83</td><td>C      </td><td>C4         </td><td>Ryder                    </td><td>< 1 year    </td><td>RENT            </td><td style=\"text-align: right;\">       30000</td><td>VERIFIED - income source</td><td>2011-12-01 00:00:00</td><td>Charged Off  </td><td>n           </td><td>https://www.lendingclub.com/browse/loanDetail.action?loan_id=1077430</td><td>Borrower added on 12/22/11 > I plan to use this money to finance the motorcycle i am looking at. I plan to have it paid off as soon as possible/when i sell my old bike. I only need this money because the deal im looking at is to good to pass up.<br><br>  Borrower added on 12/22/11 > I plan to use this money to finance the motorcycle i am looking at. I plan to have it paid off as soon as possible/when i sell my old bike.I only need this money because the deal im looking at is to good to pass up. I have finished college with an associates degree in business and its takingmeplaces<br></td><td>car               </td><td>bike                                 </td><td>309xx     </td><td>GA          </td><td style=\"text-align: right;\"> 1   </td><td style=\"text-align: right;\">            0</td><td>1999-04-01 00:00:00</td><td style=\"text-align: right;\">               5</td><td>                        </td><td>                        </td><td style=\"text-align: right;\">         3</td><td style=\"text-align: right;\">        0</td><td style=\"text-align: right;\">       1687</td><td>9.4%        </td><td style=\"text-align: right;\">          4</td><td>f                    </td><td style=\"text-align: right;\">       0   </td><td style=\"text-align: right;\">           0   </td><td style=\"text-align: right;\">      1008.71</td><td style=\"text-align: right;\">          1008.71</td><td style=\"text-align: right;\">           456.46</td><td style=\"text-align: right;\">         435.17</td><td style=\"text-align: right;\">                0   </td><td style=\"text-align: right;\">      117.08</td><td style=\"text-align: right;\">                     1.11</td><td>2013-04-01 00:00:00</td><td style=\"text-align: right;\">           119.66</td><td>                   </td><td>2013-09-01 00:00:00 </td><td style=\"text-align: right;\">                           0</td><td>                             </td><td style=\"text-align: right;\">            1</td></tr>\n",
       "<tr><td style=\"text-align: right;\">1.07718e+06</td><td style=\"text-align: right;\">1.31352e+06</td><td style=\"text-align: right;\">       2400</td><td style=\"text-align: right;\">         2400</td><td style=\"text-align: right;\">             2400</td><td>36 months</td><td>15.96%    </td><td style=\"text-align: right;\">        84.33</td><td>C      </td><td>C5         </td><td>                         </td><td>10+ years   </td><td>RENT            </td><td style=\"text-align: right;\">       12252</td><td>not verified            </td><td>2011-12-01 00:00:00</td><td>Fully Paid   </td><td>n           </td><td>https://www.lendingclub.com/browse/loanDetail.action?loan_id=1077175</td><td>                                                                                                                                                                                                                                                                                                                                                                                                                                                                                                                                                                                                            </td><td>small_business    </td><td>real estate business                 </td><td>606xx     </td><td>IL          </td><td style=\"text-align: right;\"> 8.72</td><td style=\"text-align: right;\">            0</td><td>2001-11-01 00:00:00</td><td style=\"text-align: right;\">               2</td><td>                        </td><td>                        </td><td style=\"text-align: right;\">         2</td><td style=\"text-align: right;\">        0</td><td style=\"text-align: right;\">       2956</td><td>98.5%       </td><td style=\"text-align: right;\">         10</td><td>f                    </td><td style=\"text-align: right;\">       0   </td><td style=\"text-align: right;\">           0   </td><td style=\"text-align: right;\">      3003.65</td><td style=\"text-align: right;\">          3003.65</td><td style=\"text-align: right;\">          2400   </td><td style=\"text-align: right;\">         603.65</td><td style=\"text-align: right;\">                0   </td><td style=\"text-align: right;\">        0   </td><td style=\"text-align: right;\">                     0   </td><td>2014-06-01 00:00:00</td><td style=\"text-align: right;\">           649.91</td><td>                   </td><td>2015-06-01 00:00:00 </td><td style=\"text-align: right;\">                           0</td><td>                             </td><td style=\"text-align: right;\">            1</td></tr>\n",
       "<tr><td style=\"text-align: right;\">1.07686e+06</td><td style=\"text-align: right;\">1.27718e+06</td><td style=\"text-align: right;\">      10000</td><td style=\"text-align: right;\">        10000</td><td style=\"text-align: right;\">            10000</td><td>36 months</td><td>13.49%    </td><td style=\"text-align: right;\">       339.31</td><td>C      </td><td>C1         </td><td>AIR RESOURCES BOARD      </td><td>10+ years   </td><td>RENT            </td><td style=\"text-align: right;\">       49200</td><td>VERIFIED - income source</td><td>2011-12-01 00:00:00</td><td>Fully Paid   </td><td>n           </td><td>https://www.lendingclub.com/browse/loanDetail.action?loan_id=1076863</td><td>Borrower added on 12/21/11 > to pay for property tax (borrow from friend, need to pay back) & central A/C need to be replace. I'm very sorry to let my loan expired last time.<br>                                                                                                                                                                                                                                                                                                                                                                                                                          </td><td>other             </td><td>personel                             </td><td>917xx     </td><td>CA          </td><td style=\"text-align: right;\">20   </td><td style=\"text-align: right;\">            0</td><td>1996-02-01 00:00:00</td><td style=\"text-align: right;\">               1</td><td>35                      </td><td>                        </td><td style=\"text-align: right;\">        10</td><td style=\"text-align: right;\">        0</td><td style=\"text-align: right;\">       5598</td><td>21%         </td><td style=\"text-align: right;\">         37</td><td>f                    </td><td style=\"text-align: right;\">       0   </td><td style=\"text-align: right;\">           0   </td><td style=\"text-align: right;\">     12226.3 </td><td style=\"text-align: right;\">         12226.3 </td><td style=\"text-align: right;\">         10000   </td><td style=\"text-align: right;\">        2209.33</td><td style=\"text-align: right;\">               16.97</td><td style=\"text-align: right;\">        0   </td><td style=\"text-align: right;\">                     0   </td><td>2015-01-01 00:00:00</td><td style=\"text-align: right;\">           357.48</td><td>                   </td><td>2015-01-01 00:00:00 </td><td style=\"text-align: right;\">                           0</td><td>                             </td><td style=\"text-align: right;\">            1</td></tr>\n",
       "<tr><td style=\"text-align: right;\">1.07536e+06</td><td style=\"text-align: right;\">1.31175e+06</td><td style=\"text-align: right;\">       3000</td><td style=\"text-align: right;\">         3000</td><td style=\"text-align: right;\">             3000</td><td>60 months</td><td>12.69%    </td><td style=\"text-align: right;\">        67.79</td><td>B      </td><td>B5         </td><td>University Medical Group </td><td>1 year      </td><td>RENT            </td><td style=\"text-align: right;\">       80000</td><td>VERIFIED - income source</td><td>2011-12-01 00:00:00</td><td>Current      </td><td>n           </td><td>https://www.lendingclub.com/browse/loanDetail.action?loan_id=1075358</td><td>Borrower added on 12/21/11 > I plan on combining three large interest bills together and freeing up some extra each month to pay toward other bills.  I've always been a good payor but have found myself needing to make adjustments to my budget due to a medical scare. My job is very stable, I love it.<br>                                                                                                                                                                                                                                                                                            </td><td>other             </td><td>Personal                             </td><td>972xx     </td><td>OR          </td><td style=\"text-align: right;\">17.94</td><td style=\"text-align: right;\">            0</td><td>1996-01-01 00:00:00</td><td style=\"text-align: right;\">               0</td><td>38                      </td><td>                        </td><td style=\"text-align: right;\">        15</td><td style=\"text-align: right;\">        0</td><td style=\"text-align: right;\">      27783</td><td>53.9%       </td><td style=\"text-align: right;\">         38</td><td>f                    </td><td style=\"text-align: right;\">    1168.04</td><td style=\"text-align: right;\">        1168.04</td><td style=\"text-align: right;\">      2767.64</td><td style=\"text-align: right;\">          2767.64</td><td style=\"text-align: right;\">          1831.96</td><td style=\"text-align: right;\">         935.68</td><td style=\"text-align: right;\">                0   </td><td style=\"text-align: right;\">        0   </td><td style=\"text-align: right;\">                     0   </td><td>2015-06-01 00:00:00</td><td style=\"text-align: right;\">            67.79</td><td>2015-07-01 00:00:00</td><td>2015-06-01 00:00:00 </td><td style=\"text-align: right;\">                           0</td><td>                             </td><td style=\"text-align: right;\">            1</td></tr>\n",
       "<tr><td style=\"text-align: right;\">1.07527e+06</td><td style=\"text-align: right;\">1.31144e+06</td><td style=\"text-align: right;\">       5000</td><td style=\"text-align: right;\">         5000</td><td style=\"text-align: right;\">             5000</td><td>36 months</td><td>7.90%     </td><td style=\"text-align: right;\">       156.46</td><td>A      </td><td>A4         </td><td>Veolia Transportaton     </td><td>3 years     </td><td>RENT            </td><td style=\"text-align: right;\">       36000</td><td>VERIFIED - income source</td><td>2011-12-01 00:00:00</td><td>Fully Paid   </td><td>n           </td><td>https://www.lendingclub.com/browse/loanDetail.action?loan_id=1075269</td><td>                                                                                                                                                                                                                                                                                                                                                                                                                                                                                                                                                                                                            </td><td>wedding           </td><td>My wedding loan I promise to pay back</td><td>852xx     </td><td>AZ          </td><td style=\"text-align: right;\">11.2 </td><td style=\"text-align: right;\">            0</td><td>2004-11-01 00:00:00</td><td style=\"text-align: right;\">               3</td><td>                        </td><td>                        </td><td style=\"text-align: right;\">         9</td><td style=\"text-align: right;\">        0</td><td style=\"text-align: right;\">       7963</td><td>28.3%       </td><td style=\"text-align: right;\">         12</td><td>f                    </td><td style=\"text-align: right;\">       0   </td><td style=\"text-align: right;\">           0   </td><td style=\"text-align: right;\">      5631.38</td><td style=\"text-align: right;\">          5631.38</td><td style=\"text-align: right;\">          5000   </td><td style=\"text-align: right;\">         631.38</td><td style=\"text-align: right;\">                0   </td><td style=\"text-align: right;\">        0   </td><td style=\"text-align: right;\">                     0   </td><td>2015-01-01 00:00:00</td><td style=\"text-align: right;\">           161.03</td><td>                   </td><td>2015-06-01 00:00:00 </td><td style=\"text-align: right;\">                           0</td><td>                             </td><td style=\"text-align: right;\">            1</td></tr>\n",
       "<tr><td style=\"text-align: right;\">1.06964e+06</td><td style=\"text-align: right;\">1.30474e+06</td><td style=\"text-align: right;\">       7000</td><td style=\"text-align: right;\">         7000</td><td style=\"text-align: right;\">             7000</td><td>60 months</td><td>15.96%    </td><td style=\"text-align: right;\">       170.08</td><td>C      </td><td>C5         </td><td>Southern Star Photography</td><td>8 years     </td><td>RENT            </td><td style=\"text-align: right;\">       47004</td><td>not verified            </td><td>2011-12-01 00:00:00</td><td>Current      </td><td>n           </td><td>https://www.lendingclub.com/browse/loanDetail.action?loan_id=1069639</td><td>Borrower added on 12/18/11 > I am planning on using the funds to pay off two retail credit cards with 24.99% interest rates, as well as a major bank credit card with a 18.99% rate.  I pay all my bills on time, looking for a lower combined payment and lower monthly payment.<br>                                                                                                                                                                                                                                                                                                                       </td><td>debt_consolidation</td><td>Loan                                 </td><td>280xx     </td><td>NC          </td><td style=\"text-align: right;\">23.51</td><td style=\"text-align: right;\">            0</td><td>2005-07-01 00:00:00</td><td style=\"text-align: right;\">               1</td><td>                        </td><td>                        </td><td style=\"text-align: right;\">         7</td><td style=\"text-align: right;\">        0</td><td style=\"text-align: right;\">      17726</td><td>85.6%       </td><td style=\"text-align: right;\">         11</td><td>f                    </td><td style=\"text-align: right;\">    2853.21</td><td style=\"text-align: right;\">        2853.21</td><td style=\"text-align: right;\">      6946.28</td><td style=\"text-align: right;\">          6946.28</td><td style=\"text-align: right;\">          4146.8 </td><td style=\"text-align: right;\">        2799.48</td><td style=\"text-align: right;\">                0   </td><td style=\"text-align: right;\">        0   </td><td style=\"text-align: right;\">                     0   </td><td>2015-06-01 00:00:00</td><td style=\"text-align: right;\">           170.08</td><td>2015-08-01 00:00:00</td><td>2015-06-01 00:00:00 </td><td style=\"text-align: right;\">                           0</td><td>                             </td><td style=\"text-align: right;\">            1</td></tr>\n",
       "<tr><td style=\"text-align: right;\">1.07205e+06</td><td style=\"text-align: right;\">1.28869e+06</td><td style=\"text-align: right;\">       3000</td><td style=\"text-align: right;\">         3000</td><td style=\"text-align: right;\">             3000</td><td>36 months</td><td>18.64%    </td><td style=\"text-align: right;\">       109.43</td><td>E      </td><td>E1         </td><td>MKC Accounting           </td><td>9 years     </td><td>RENT            </td><td style=\"text-align: right;\">       48000</td><td>VERIFIED - income source</td><td>2011-12-01 00:00:00</td><td>Fully Paid   </td><td>n           </td><td>https://www.lendingclub.com/browse/loanDetail.action?loan_id=1072053</td><td>Borrower added on 12/16/11 > Downpayment for a car.<br>                                                                                                                                                                                                                                                                                                                                                                                                                                                                                                                                                     </td><td>car               </td><td>Car Downpayment                      </td><td>900xx     </td><td>CA          </td><td style=\"text-align: right;\"> 5.35</td><td style=\"text-align: right;\">            0</td><td>2007-01-01 00:00:00</td><td style=\"text-align: right;\">               2</td><td>                        </td><td>                        </td><td style=\"text-align: right;\">         4</td><td style=\"text-align: right;\">        0</td><td style=\"text-align: right;\">       8221</td><td>87.5%       </td><td style=\"text-align: right;\">          4</td><td>f                    </td><td style=\"text-align: right;\">       0   </td><td style=\"text-align: right;\">           0   </td><td style=\"text-align: right;\">      3938.14</td><td style=\"text-align: right;\">          3938.14</td><td style=\"text-align: right;\">          3000   </td><td style=\"text-align: right;\">         938.14</td><td style=\"text-align: right;\">                0   </td><td style=\"text-align: right;\">        0   </td><td style=\"text-align: right;\">                     0   </td><td>2015-01-01 00:00:00</td><td style=\"text-align: right;\">           111.34</td><td>                   </td><td>2014-12-01 00:00:00 </td><td style=\"text-align: right;\">                           0</td><td>                             </td><td style=\"text-align: right;\">            1</td></tr>\n",
       "<tr><td style=\"text-align: right;\">1.0718e+06 </td><td style=\"text-align: right;\">1.30696e+06</td><td style=\"text-align: right;\">       5600</td><td style=\"text-align: right;\">         5600</td><td style=\"text-align: right;\">             5600</td><td>60 months</td><td>21.28%    </td><td style=\"text-align: right;\">       152.39</td><td>F      </td><td>F2         </td><td>                         </td><td>4 years     </td><td>OWN             </td><td style=\"text-align: right;\">       40000</td><td>VERIFIED - income source</td><td>2011-12-01 00:00:00</td><td>Charged Off  </td><td>n           </td><td>https://www.lendingclub.com/browse/loanDetail.action?loan_id=1071795</td><td>Borrower added on 12/21/11 > I own a small home-based judgment collection business. I have 5 years experience collecting debts. I am now going from a home office to a small office. I also plan to buy a small debt portfolio (eg. $10K for $1M of debt) <br>My score is not A+ because I own my home and have no mortgage.<br>                                                                                                                                                                                                                                                                            </td><td>small_business    </td><td>Expand Business & Buy Debt Portfolio </td><td>958xx     </td><td>CA          </td><td style=\"text-align: right;\"> 5.55</td><td style=\"text-align: right;\">            0</td><td>2004-04-01 00:00:00</td><td style=\"text-align: right;\">               2</td><td>                        </td><td>                        </td><td style=\"text-align: right;\">        11</td><td style=\"text-align: right;\">        0</td><td style=\"text-align: right;\">       5210</td><td>32.6%       </td><td style=\"text-align: right;\">         13</td><td>f                    </td><td style=\"text-align: right;\">       0   </td><td style=\"text-align: right;\">           0   </td><td style=\"text-align: right;\">       646.02</td><td style=\"text-align: right;\">           646.02</td><td style=\"text-align: right;\">           162.02</td><td style=\"text-align: right;\">         294.94</td><td style=\"text-align: right;\">                0   </td><td style=\"text-align: right;\">      189.06</td><td style=\"text-align: right;\">                     2.09</td><td>2012-04-01 00:00:00</td><td style=\"text-align: right;\">           152.39</td><td>                   </td><td>2012-08-01 00:00:00 </td><td style=\"text-align: right;\">                           0</td><td>                             </td><td style=\"text-align: right;\">            1</td></tr>\n",
       "<tr><td style=\"text-align: right;\">1.07157e+06</td><td style=\"text-align: right;\">1.30672e+06</td><td style=\"text-align: right;\">       5375</td><td style=\"text-align: right;\">         5375</td><td style=\"text-align: right;\">             5350</td><td>60 months</td><td>12.69%    </td><td style=\"text-align: right;\">       121.45</td><td>B      </td><td>B5         </td><td>Starbucks                </td><td>< 1 year    </td><td>RENT            </td><td style=\"text-align: right;\">       15000</td><td>VERIFIED - income       </td><td>2011-12-01 00:00:00</td><td>Charged Off  </td><td>n           </td><td>https://www.lendingclub.com/browse/loanDetail.action?loan_id=1071570</td><td>Borrower added on 12/16/11 > I'm trying to build up my credit history. I live with my brother and have no car payment or credit cards. I am in community college and work full time. Im going to use the money to make some repairs around the house and get some maintenance done on my car.<br><br>  Borrower added on 12/20/11 > $1000 down only $4375 to go. Thanks to everyone that invested so far, looking forward to surprising my brother with the fixes around the house.<br>                                                                                                                     </td><td>other             </td><td>Building my credit history.          </td><td>774xx     </td><td>TX          </td><td style=\"text-align: right;\">18.08</td><td style=\"text-align: right;\">            0</td><td>2004-09-01 00:00:00</td><td style=\"text-align: right;\">               0</td><td>                        </td><td>                        </td><td style=\"text-align: right;\">         2</td><td style=\"text-align: right;\">        0</td><td style=\"text-align: right;\">       9279</td><td>36.5%       </td><td style=\"text-align: right;\">          3</td><td>f                    </td><td style=\"text-align: right;\">       0   </td><td style=\"text-align: right;\">           0   </td><td style=\"text-align: right;\">      1476.19</td><td style=\"text-align: right;\">          1469.34</td><td style=\"text-align: right;\">           673.48</td><td style=\"text-align: right;\">         533.42</td><td style=\"text-align: right;\">                0   </td><td style=\"text-align: right;\">      269.29</td><td style=\"text-align: right;\">                     2.52</td><td>2012-11-01 00:00:00</td><td style=\"text-align: right;\">           121.45</td><td>                   </td><td>2013-03-01 00:00:00 </td><td style=\"text-align: right;\">                           0</td><td>                             </td><td style=\"text-align: right;\">            1</td></tr>\n",
       "</tbody>\n",
       "</table>"
      ]
     },
     "metadata": {},
     "output_type": "display_data"
    },
    {
     "data": {
      "text/plain": []
     },
     "execution_count": 4,
     "metadata": {},
     "output_type": "execute_result"
    }
   ],
   "source": [
    "loans.head()"
   ]
  },
  {
   "cell_type": "markdown",
   "metadata": {},
   "source": [
    "------\n",
    "\n",
    ">## Editorial comment: Data preparation for modeling\n",
    ">\n",
    ">In this tutorial, we either omit or rush through some steps that a modeler normally would spend a considerable amount of time on. For example, we completely skip exploratory data analysis used in conjunction with modeling. Additionally, the process of **_defining the problem_** is often iterative and takes a lot of thought and effort. We make the assumption here that this work has already been done by the modeler.\n",
    ">\n",
    ">In reality, the majority of a modeler's time is spent on problem definition and data cleaning/wrangling/munging. Our speed at going through these steps to demonstrate the use of H2O-3 in no way minimizes the importance of careful and thoughtful data preparation for model building. \n",
    "\n",
    "-----\n"
   ]
  },
  {
   "cell_type": "markdown",
   "metadata": {},
   "source": [
    "# Step 3 (of 10).  Clean data\n",
    "\n",
    "\n",
    "## Part 1. Defining the problem and creating the response variable\n",
    "\n",
    "The total number of loans in our data is"
   ]
  },
  {
   "cell_type": "code",
   "execution_count": 5,
   "metadata": {},
   "outputs": [
    {
     "data": {
      "text/plain": [
       "42536"
      ]
     },
     "execution_count": 5,
     "metadata": {},
     "output_type": "execute_result"
    }
   ],
   "source": [
    "num_unfiltered_loans = loans.dim[0]\n",
    "num_unfiltered_loans"
   ]
  },
  {
   "cell_type": "markdown",
   "metadata": {},
   "source": [
    "Because we are interested in loan default, we need to look at the `loan_status` column."
   ]
  },
  {
   "cell_type": "code",
   "execution_count": 6,
   "metadata": {},
   "outputs": [
    {
     "data": {
      "text/html": [
       "<table>\n",
       "<thead>\n",
       "<tr><th>loan_status                                             </th><th style=\"text-align: right;\">  Count</th></tr>\n",
       "</thead>\n",
       "<tbody>\n",
       "<tr><td>Charged Off                                             </td><td style=\"text-align: right;\">   5435</td></tr>\n",
       "<tr><td>Current                                                 </td><td style=\"text-align: right;\">   3351</td></tr>\n",
       "<tr><td>Default                                                 </td><td style=\"text-align: right;\">      7</td></tr>\n",
       "<tr><td>Does not meet the credit policy.  Status:Charged Off    </td><td style=\"text-align: right;\">    761</td></tr>\n",
       "<tr><td>Does not meet the credit policy.  Status:Current        </td><td style=\"text-align: right;\">     53</td></tr>\n",
       "<tr><td>Does not meet the credit policy.  Status:Fully Paid     </td><td style=\"text-align: right;\">   1933</td></tr>\n",
       "<tr><td>Does not meet the credit policy.  Status:In Grace Period</td><td style=\"text-align: right;\">      2</td></tr>\n",
       "<tr><td>Fully Paid                                              </td><td style=\"text-align: right;\">  30843</td></tr>\n",
       "<tr><td>In Grace Period                                         </td><td style=\"text-align: right;\">     60</td></tr>\n",
       "<tr><td>Late (16-30 days)                                       </td><td style=\"text-align: right;\">     16</td></tr>\n",
       "<tr><td>Late (31-120 days)                                      </td><td style=\"text-align: right;\">     74</td></tr>\n",
       "</tbody>\n",
       "</table>"
      ]
     },
     "metadata": {},
     "output_type": "display_data"
    },
    {
     "data": {
      "text/plain": []
     },
     "execution_count": 6,
     "metadata": {},
     "output_type": "execute_result"
    }
   ],
   "source": [
    "loans[\"loan_status\"].table().head(20)"
   ]
  },
  {
   "cell_type": "markdown",
   "metadata": {},
   "source": [
    "Like many real data sources, `loan_status` is messy and contains multiple (somewhat overlapping) categories. Before modeling, we will need to clean this up by (1) removing loans that are still ongoing, and (2) simplifying the response column.\n",
    "\n",
    "### (1) Filter Loans\n",
    "\n",
    "In order to build a valid model, we have to remove loans that are not yet completely \"good\" or \"bad\". These ongoing loans have `loan_status` like \"Current\" and \"In Grace Period\"."
   ]
  },
  {
   "cell_type": "code",
   "execution_count": 7,
   "metadata": {},
   "outputs": [],
   "source": [
    "ongoing_status = [\"Current\",\n",
    "                  \"In Grace Period\",\n",
    "                  \"Late (16-30 days)\",\n",
    "                  \"Late (31-120 days)\",\n",
    "                  \"Does not meet the credit policy.  Status:Current\",\n",
    "                  \"Does not meet the credit policy.  Status:In Grace Period\"\n",
    "                 ]\n",
    "loans = loans[~loans[\"loan_status\"].isin(ongoing_status)]"
   ]
  },
  {
   "cell_type": "markdown",
   "metadata": {},
   "source": [
    "After filtering out ongoing loans, we now have"
   ]
  },
  {
   "cell_type": "code",
   "execution_count": 8,
   "metadata": {},
   "outputs": [
    {
     "data": {
      "text/plain": [
       "38980"
      ]
     },
     "execution_count": 8,
     "metadata": {},
     "output_type": "execute_result"
    }
   ],
   "source": [
    "num_filtered_loans = loans.dim[0]\n",
    "num_filtered_loans"
   ]
  },
  {
   "cell_type": "markdown",
   "metadata": {},
   "source": [
    "loans whose final state is known, which means we filtered out"
   ]
  },
  {
   "cell_type": "code",
   "execution_count": 9,
   "metadata": {},
   "outputs": [
    {
     "data": {
      "text/plain": [
       "3556"
      ]
     },
     "execution_count": 9,
     "metadata": {},
     "output_type": "execute_result"
    }
   ],
   "source": [
    "num_loans_filtered_out = num_unfiltered_loans - num_filtered_loans\n",
    "num_loans_filtered_out"
   ]
  },
  {
   "cell_type": "markdown",
   "metadata": {},
   "source": [
    "loans. \n",
    "\n",
    "These loans are now summarized by `loan_status` as"
   ]
  },
  {
   "cell_type": "code",
   "execution_count": 10,
   "metadata": {},
   "outputs": [
    {
     "data": {
      "text/html": [
       "<table>\n",
       "<thead>\n",
       "<tr><th>loan_status                                         </th><th style=\"text-align: right;\">  Count</th></tr>\n",
       "</thead>\n",
       "<tbody>\n",
       "<tr><td>Charged Off                                         </td><td style=\"text-align: right;\">   5435</td></tr>\n",
       "<tr><td>Default                                             </td><td style=\"text-align: right;\">      7</td></tr>\n",
       "<tr><td>Does not meet the credit policy.  Status:Charged Off</td><td style=\"text-align: right;\">    761</td></tr>\n",
       "<tr><td>Does not meet the credit policy.  Status:Fully Paid </td><td style=\"text-align: right;\">   1933</td></tr>\n",
       "<tr><td>Fully Paid                                          </td><td style=\"text-align: right;\">  30843</td></tr>\n",
       "</tbody>\n",
       "</table>"
      ]
     },
     "metadata": {},
     "output_type": "display_data"
    },
    {
     "data": {
      "text/plain": []
     },
     "execution_count": 10,
     "metadata": {},
     "output_type": "execute_result"
    }
   ],
   "source": [
    "loans[\"loan_status\"].table().head(20)"
   ]
  },
  {
   "cell_type": "markdown",
   "metadata": {},
   "source": [
    "### (2) Create Response Column\n",
    "\n",
    "Let's name our response column `bad_loan`, which will be equal to one if the loan was not completely paid off."
   ]
  },
  {
   "cell_type": "code",
   "execution_count": 11,
   "metadata": {},
   "outputs": [],
   "source": [
    "fully_paid = [\"Fully Paid\",\n",
    "              \"Does not meet the credit policy.  Status:Fully Paid\"\n",
    "             ]\n",
    "loans[\"bad_loan\"] = ~(loans[\"loan_status\"].isin(fully_paid))"
   ]
  },
  {
   "cell_type": "markdown",
   "metadata": {},
   "source": [
    "Make the `bad_loan` column a factor so we can build a classification model,"
   ]
  },
  {
   "cell_type": "code",
   "execution_count": 12,
   "metadata": {},
   "outputs": [],
   "source": [
    "loans[\"bad_loan\"] = loans[\"bad_loan\"].asfactor()"
   ]
  },
  {
   "cell_type": "markdown",
   "metadata": {},
   "source": [
    "The percentage of bad loans is given by"
   ]
  },
  {
   "cell_type": "code",
   "execution_count": 13,
   "metadata": {},
   "outputs": [
    {
     "data": {
      "text/html": [
       "<table>\n",
       "<thead>\n",
       "<tr><th style=\"text-align: right;\">  bad_loan</th><th style=\"text-align: right;\">  Count</th><th style=\"text-align: right;\">  Percentage</th></tr>\n",
       "</thead>\n",
       "<tbody>\n",
       "<tr><td style=\"text-align: right;\">         0</td><td style=\"text-align: right;\">  32776</td><td style=\"text-align: right;\">          84</td></tr>\n",
       "<tr><td style=\"text-align: right;\">         1</td><td style=\"text-align: right;\">   6204</td><td style=\"text-align: right;\">          16</td></tr>\n",
       "</tbody>\n",
       "</table>"
      ]
     },
     "metadata": {},
     "output_type": "display_data"
    },
    {
     "data": {
      "text/plain": []
     },
     "execution_count": 13,
     "metadata": {},
     "output_type": "execute_result"
    }
   ],
   "source": [
    "bad_loan_dist = loans[\"bad_loan\"].table()\n",
    "bad_loan_dist[\"Percentage\"] = (100 * bad_loan_dist[\"Count\"] / loans.nrow).round()\n",
    "bad_loan_dist"
   ]
  },
  {
   "cell_type": "markdown",
   "metadata": {},
   "source": [
    "## Part 2. Convert strings to numeric\n",
    "\n",
    "Consider the data columns `int_rate`, `revol_util`, and `emp_length`:"
   ]
  },
  {
   "cell_type": "code",
   "execution_count": 14,
   "metadata": {},
   "outputs": [
    {
     "data": {
      "text/html": [
       "<table>\n",
       "<thead>\n",
       "<tr><th>int_rate  </th><th>revol_util  </th><th>emp_length  </th></tr>\n",
       "</thead>\n",
       "<tbody>\n",
       "<tr><td>10.65%    </td><td>83.7%       </td><td>10+ years   </td></tr>\n",
       "<tr><td>15.27%    </td><td>9.4%        </td><td>< 1 year    </td></tr>\n",
       "<tr><td>15.96%    </td><td>98.5%       </td><td>10+ years   </td></tr>\n",
       "<tr><td>13.49%    </td><td>21%         </td><td>10+ years   </td></tr>\n",
       "<tr><td>7.90%     </td><td>28.3%       </td><td>3 years     </td></tr>\n",
       "<tr><td>18.64%    </td><td>87.5%       </td><td>9 years     </td></tr>\n",
       "<tr><td>21.28%    </td><td>32.6%       </td><td>4 years     </td></tr>\n",
       "<tr><td>12.69%    </td><td>36.5%       </td><td>< 1 year    </td></tr>\n",
       "<tr><td>14.65%    </td><td>20.6%       </td><td>5 years     </td></tr>\n",
       "<tr><td>12.69%    </td><td>67.1%       </td><td>10+ years   </td></tr>\n",
       "</tbody>\n",
       "</table>"
      ]
     },
     "metadata": {},
     "output_type": "display_data"
    },
    {
     "data": {
      "text/plain": []
     },
     "execution_count": 14,
     "metadata": {},
     "output_type": "execute_result"
    }
   ],
   "source": [
    "loans[[\"int_rate\", \"revol_util\", \"emp_length\"]].head()"
   ]
  },
  {
   "cell_type": "markdown",
   "metadata": {},
   "source": [
    "Both `int_rate` and `revol_util` are inherently numeric but entered as percentages. Since they include a \"%\" sign, they are read in as strings. The solution for both of these columns is simple: strip the \"%\" sign and convert the strings to numeric.\n",
    "\n",
    "The `emp_length` column is only slightly more complex. Besides removing the \"year\" or \"years\" word, we have to deal with `< 1` and `10+`, which aren't directly numeric. If we define `< 1` as 0 and `10+` as 10, then `emp_length` can also be cast as numeric.\n",
    "\n",
    "We demonstrate the steps for converting these string variables into numeric values below.\n",
    "\n",
    "### Convert `int_rate`"
   ]
  },
  {
   "cell_type": "code",
   "execution_count": 15,
   "metadata": {},
   "outputs": [],
   "source": [
    "loans[\"int_rate\"] = loans[\"int_rate\"].gsub(pattern = \"%\", replacement = \"\") # strip %\n",
    "loans[\"int_rate\"] = loans[\"int_rate\"].trim() # trim whitespace\n",
    "loans[\"int_rate\"] = loans[\"int_rate\"].asnumeric() # change to numeric "
   ]
  },
  {
   "cell_type": "markdown",
   "metadata": {},
   "source": [
    "### Convert `revol_util`"
   ]
  },
  {
   "cell_type": "code",
   "execution_count": 16,
   "metadata": {},
   "outputs": [],
   "source": [
    "loans[\"revol_util\"] = loans[\"revol_util\"].gsub(pattern=\"%\", replacement=\"\") # strip %\n",
    "loans[\"revol_util\"] = loans[\"revol_util\"].trim() # trim whitespace\n",
    "loans[\"revol_util\"] = loans[\"revol_util\"].asnumeric() # change to numeric "
   ]
  },
  {
   "cell_type": "markdown",
   "metadata": {},
   "source": [
    "### Convert `emp_length`"
   ]
  },
  {
   "cell_type": "code",
   "execution_count": 17,
   "metadata": {},
   "outputs": [],
   "source": [
    "# Use gsub to remove \" year\" and \" years\"; also translate n/a to \"\" \n",
    "loans[\"emp_length\"] = loans[\"emp_length\"].gsub(pattern=\"([ ]*+[a-zA-Z].*)|(n/a)\", replacement=\"\") \n",
    "loans[\"emp_length\"] = loans[\"emp_length\"].trim() # trim whitespace\n",
    "\n",
    "loans[\"emp_length\"] = loans[\"emp_length\"].gsub(pattern=\"< 1\", replacement=\"0\") # convert \"< 1\" to 0\n",
    "loans[\"emp_length\"] = loans[\"emp_length\"].gsub(pattern=\"10\\\\+\", replacement=\"10\") # convert \"10+\" to 10\n",
    "loans[\"emp_length\"] = loans[\"emp_length\"].asnumeric() # trim whitespace"
   ]
  },
  {
   "cell_type": "markdown",
   "metadata": {},
   "source": [
    "The converted results for the three former string variables are"
   ]
  },
  {
   "cell_type": "code",
   "execution_count": 18,
   "metadata": {},
   "outputs": [
    {
     "data": {
      "text/html": [
       "<table>\n",
       "<thead>\n",
       "<tr><th style=\"text-align: right;\">  int_rate</th><th style=\"text-align: right;\">  revol_util</th><th style=\"text-align: right;\">  emp_length</th></tr>\n",
       "</thead>\n",
       "<tbody>\n",
       "<tr><td style=\"text-align: right;\">     10.65</td><td style=\"text-align: right;\">        83.7</td><td style=\"text-align: right;\">          10</td></tr>\n",
       "<tr><td style=\"text-align: right;\">     15.27</td><td style=\"text-align: right;\">         9.4</td><td style=\"text-align: right;\">           0</td></tr>\n",
       "<tr><td style=\"text-align: right;\">     15.96</td><td style=\"text-align: right;\">        98.5</td><td style=\"text-align: right;\">          10</td></tr>\n",
       "<tr><td style=\"text-align: right;\">     13.49</td><td style=\"text-align: right;\">        21  </td><td style=\"text-align: right;\">          10</td></tr>\n",
       "<tr><td style=\"text-align: right;\">      7.9 </td><td style=\"text-align: right;\">        28.3</td><td style=\"text-align: right;\">           3</td></tr>\n",
       "<tr><td style=\"text-align: right;\">     18.64</td><td style=\"text-align: right;\">        87.5</td><td style=\"text-align: right;\">           9</td></tr>\n",
       "<tr><td style=\"text-align: right;\">     21.28</td><td style=\"text-align: right;\">        32.6</td><td style=\"text-align: right;\">           4</td></tr>\n",
       "<tr><td style=\"text-align: right;\">     12.69</td><td style=\"text-align: right;\">        36.5</td><td style=\"text-align: right;\">           0</td></tr>\n",
       "<tr><td style=\"text-align: right;\">     14.65</td><td style=\"text-align: right;\">        20.6</td><td style=\"text-align: right;\">           5</td></tr>\n",
       "<tr><td style=\"text-align: right;\">     12.69</td><td style=\"text-align: right;\">        67.1</td><td style=\"text-align: right;\">          10</td></tr>\n",
       "</tbody>\n",
       "</table>"
      ]
     },
     "metadata": {},
     "output_type": "display_data"
    },
    {
     "data": {
      "text/plain": []
     },
     "execution_count": 18,
     "metadata": {},
     "output_type": "execute_result"
    }
   ],
   "source": [
    "loans[[\"int_rate\", \"revol_util\", \"emp_length\"]].head()"
   ]
  },
  {
   "cell_type": "markdown",
   "metadata": {},
   "source": [
    "### Note: Interest rate distributions\n",
    "\n",
    "Now that we have converted interest rate to numeric, we can use the `hist` function to compare the interest rate distributions for good and bad loans."
   ]
  },
  {
   "cell_type": "code",
   "execution_count": 19,
   "metadata": {},
   "outputs": [
    {
     "name": "stdout",
     "output_type": "stream",
     "text": [
      "Bad Loans\n"
     ]
    },
    {
     "data": {
      "image/png": "[encoded data removed]",
      "text/plain": [
       "<Figure size 432x288 with 1 Axes>"
      ]
     },
     "metadata": {
      "needs_background": "light"
     },
     "output_type": "display_data"
    },
    {
     "name": "stdout",
     "output_type": "stream",
     "text": [
      "Good Loans\n"
     ]
    },
    {
     "data": {
      "image/png": "[encoded data removed]",
      "text/plain": [
       "<Figure size 432x288 with 1 Axes>"
      ]
     },
     "metadata": {
      "needs_background": "light"
     },
     "output_type": "display_data"
    }
   ],
   "source": [
    "%matplotlib inline\n",
    "\n",
    "print(\"Bad Loans\")\n",
    "loans[loans[\"bad_loan\"] == \"1\", \"int_rate\"].hist()\n",
    "\n",
    "print(\"Good Loans\")\n",
    "loans[loans[\"bad_loan\"] == \"0\", \"int_rate\"].hist()"
   ]
  },
  {
   "cell_type": "markdown",
   "metadata": {},
   "source": [
    "As expected, the bad loan distribution contains a higher proportion of high interest rates than the distribution for good loans. Likewise, the good loan distribution contains a higher proportion of low interest rates than that for bad loans. It is a truism to say that interest rate should be a good predictor of default.\n",
    "\n",
    ">Financial institutions typically determine a loan's interest rate based largely on risk and customer demand. If the underwriting rules are any good at all, then we would expect that interest rate would be a strong predictor of default. In fact, we should be surprised if `int_rate` is not one of the top two or three variables in our model regardless of algorithm."
   ]
  },
  {
   "cell_type": "markdown",
   "metadata": {},
   "source": [
    "## Part 3. Clean up messy categorical columns\n",
    "\n",
    "Much as we did with the `loan_status` column to create our response variable, the `verification_status` column needs cleaning"
   ]
  },
  {
   "cell_type": "code",
   "execution_count": 20,
   "metadata": {},
   "outputs": [
    {
     "data": {
      "text/html": [
       "<table>\n",
       "<thead>\n",
       "<tr><th>verification_status     </th></tr>\n",
       "</thead>\n",
       "<tbody>\n",
       "<tr><td>VERIFIED - income       </td></tr>\n",
       "<tr><td>VERIFIED - income source</td></tr>\n",
       "<tr><td>not verified            </td></tr>\n",
       "<tr><td>VERIFIED - income source</td></tr>\n",
       "<tr><td>VERIFIED - income source</td></tr>\n",
       "<tr><td>VERIFIED - income source</td></tr>\n",
       "<tr><td>VERIFIED - income source</td></tr>\n",
       "<tr><td>VERIFIED - income       </td></tr>\n",
       "<tr><td>not verified            </td></tr>\n",
       "<tr><td>VERIFIED - income source</td></tr>\n",
       "</tbody>\n",
       "</table>"
      ]
     },
     "metadata": {},
     "output_type": "display_data"
    },
    {
     "data": {
      "text/plain": []
     },
     "execution_count": 20,
     "metadata": {},
     "output_type": "execute_result"
    }
   ],
   "source": [
    "loans[\"verification_status\"].head()"
   ]
  },
  {
   "cell_type": "markdown",
   "metadata": {},
   "source": [
    "Note that there are multiple values that mean verified: `VERIFIED - income` and `VERIFIED - income source`.  We will replace these values with `verified`,"
   ]
  },
  {
   "cell_type": "code",
   "execution_count": 21,
   "metadata": {},
   "outputs": [],
   "source": [
    "loans[\"verification_status\"] = loans[\"verification_status\"].sub(pattern=\"VERIFIED - income source\", \n",
    "                                                                replacement=\"verified\")\n",
    "loans[\"verification_status\"] = loans[\"verification_status\"].sub(pattern=\"VERIFIED - income\", \n",
    "                                                                replacement=\"verified\")\n",
    "loans[\"verification_status\"] = loans[\"verification_status\"].asfactor()"
   ]
  },
  {
   "cell_type": "markdown",
   "metadata": {},
   "source": [
    "resulting in"
   ]
  },
  {
   "cell_type": "code",
   "execution_count": 22,
   "metadata": {
    "scrolled": true
   },
   "outputs": [
    {
     "data": {
      "text/html": [
       "<table>\n",
       "<thead>\n",
       "<tr><th>verification_status  </th><th style=\"text-align: right;\">  Count</th></tr>\n",
       "</thead>\n",
       "<tbody>\n",
       "<tr><td>not verified         </td><td style=\"text-align: right;\">  17947</td></tr>\n",
       "<tr><td>verified             </td><td style=\"text-align: right;\">  21032</td></tr>\n",
       "</tbody>\n",
       "</table>"
      ]
     },
     "metadata": {},
     "output_type": "display_data"
    },
    {
     "data": {
      "text/plain": []
     },
     "execution_count": 22,
     "metadata": {},
     "output_type": "execute_result"
    }
   ],
   "source": [
    "loans[\"verification_status\"].table()"
   ]
  },
  {
   "cell_type": "markdown",
   "metadata": {},
   "source": [
    "# Step 4 (of 10).  Feature engineering\n",
    "\n",
    "Now that we have cleaned our data, we can extract information from our current columns to create new features. This process is referred to as _feature engineering_. The general idea is to express information found in our data in a manner that is most understandable to the algorithms we employ, with the goal of improving the performance of our supervised learning models.\n",
    "\n",
    "Feature engineering can be considered the \"secret sauce\" in building a superior predictive model: it is often (although not always) more important than the choice of machine learning algorithm. A very good summary of feature engineering recipes can be found in the online [Driverless AI Documentation](http://docs.h2o.ai/driverless-ai/latest-stable/docs/userguide/transformations.html). \n",
    "\n",
    "We will do some basic feature engineering using the date fields in our data, and then use NLP (natural language processing) to create word embedding features from the loan description text field in our data.\n",
    "\n",
    "The new columns we will create are: \n",
    "* `credit_length`: the number of years someone has had a credit history\n",
    "* `issue_d_year` and `issue_d_month`: the year and month from the loan issue date\n",
    "* word embeddings from the loan description\n",
    "\n",
    "### Credit Length\n",
    "\n",
    "We can extract the credit length by subtracting the year of their earliest credit line from the year they were issued the loan."
   ]
  },
  {
   "cell_type": "code",
   "execution_count": 23,
   "metadata": {},
   "outputs": [
    {
     "data": {
      "text/html": [
       "<table>\n",
       "<thead>\n",
       "<tr><th style=\"text-align: right;\">  credit_length</th></tr>\n",
       "</thead>\n",
       "<tbody>\n",
       "<tr><td style=\"text-align: right;\">             26</td></tr>\n",
       "<tr><td style=\"text-align: right;\">             12</td></tr>\n",
       "<tr><td style=\"text-align: right;\">             10</td></tr>\n",
       "<tr><td style=\"text-align: right;\">             15</td></tr>\n",
       "<tr><td style=\"text-align: right;\">              7</td></tr>\n",
       "<tr><td style=\"text-align: right;\">              4</td></tr>\n",
       "<tr><td style=\"text-align: right;\">              7</td></tr>\n",
       "<tr><td style=\"text-align: right;\">              7</td></tr>\n",
       "<tr><td style=\"text-align: right;\">             13</td></tr>\n",
       "<tr><td style=\"text-align: right;\">             22</td></tr>\n",
       "</tbody>\n",
       "</table>"
      ]
     },
     "metadata": {},
     "output_type": "display_data"
    },
    {
     "data": {
      "text/plain": []
     },
     "execution_count": 23,
     "metadata": {},
     "output_type": "execute_result"
    }
   ],
   "source": [
    "loans[\"credit_length\"] = loans[\"issue_d\"].year() - loans[\"earliest_cr_line\"].year()\n",
    "loans[\"credit_length\"].head()"
   ]
  },
  {
   "cell_type": "markdown",
   "metadata": {},
   "source": [
    "### Issue Date Expansion\n",
    "\n",
    "We next extract the year and month from the issue date.  We may find that the month or the year when the loan was issued will impact the probability of a bad loan. We will treat `issue_d_month` as a factor, since months are cyclical."
   ]
  },
  {
   "cell_type": "code",
   "execution_count": 24,
   "metadata": {},
   "outputs": [
    {
     "data": {
      "text/html": [
       "<table>\n",
       "<thead>\n",
       "<tr><th style=\"text-align: right;\">  issue_d_year</th><th style=\"text-align: right;\">  issue_d_month</th></tr>\n",
       "</thead>\n",
       "<tbody>\n",
       "<tr><td style=\"text-align: right;\">          2011</td><td style=\"text-align: right;\">             12</td></tr>\n",
       "<tr><td style=\"text-align: right;\">          2011</td><td style=\"text-align: right;\">             12</td></tr>\n",
       "<tr><td style=\"text-align: right;\">          2011</td><td style=\"text-align: right;\">             12</td></tr>\n",
       "<tr><td style=\"text-align: right;\">          2011</td><td style=\"text-align: right;\">             12</td></tr>\n",
       "<tr><td style=\"text-align: right;\">          2011</td><td style=\"text-align: right;\">             12</td></tr>\n",
       "<tr><td style=\"text-align: right;\">          2011</td><td style=\"text-align: right;\">             12</td></tr>\n",
       "<tr><td style=\"text-align: right;\">          2011</td><td style=\"text-align: right;\">             12</td></tr>\n",
       "<tr><td style=\"text-align: right;\">          2011</td><td style=\"text-align: right;\">             12</td></tr>\n",
       "<tr><td style=\"text-align: right;\">          2011</td><td style=\"text-align: right;\">             12</td></tr>\n",
       "<tr><td style=\"text-align: right;\">          2011</td><td style=\"text-align: right;\">             12</td></tr>\n",
       "</tbody>\n",
       "</table>"
      ]
     },
     "metadata": {},
     "output_type": "display_data"
    },
    {
     "data": {
      "text/plain": []
     },
     "execution_count": 24,
     "metadata": {},
     "output_type": "execute_result"
    }
   ],
   "source": [
    "loans[\"issue_d_year\"] = loans[\"issue_d\"].year()\n",
    "loans[\"issue_d_month\"] = loans[\"issue_d\"].month().asfactor()\n",
    "\n",
    "loans[[\"issue_d_year\", \"issue_d_month\"]].head()"
   ]
  },
  {
   "cell_type": "markdown",
   "metadata": {},
   "source": [
    "### Word Embeddings\n",
    "\n",
    "One of the columns in our dataset is a user-provided description of why the loan was requested. The first few descriptions in the dataset are shown below."
   ]
  },
  {
   "cell_type": "code",
   "execution_count": 25,
   "metadata": {},
   "outputs": [
    {
     "data": {
      "text/html": [
       "<table>\n",
       "<thead>\n",
       "<tr><th>desc                                                                                                                                                                                                                                                                                                                                                                                                                                                                                                                                                                                                        </th></tr>\n",
       "</thead>\n",
       "<tbody>\n",
       "<tr><td>Borrower added on 12/22/11 > I need to upgrade my business technologies.<br>                                                                                                                                                                                                                                                                                                                                                                                                                                                                                                                                </td></tr>\n",
       "<tr><td>Borrower added on 12/22/11 > I plan to use this money to finance the motorcycle i am looking at. I plan to have it paid off as soon as possible/when i sell my old bike. I only need this money because the deal im looking at is to good to pass up.<br><br>  Borrower added on 12/22/11 > I plan to use this money to finance the motorcycle i am looking at. I plan to have it paid off as soon as possible/when i sell my old bike.I only need this money because the deal im looking at is to good to pass up. I have finished college with an associates degree in business and its takingmeplaces<br></td></tr>\n",
       "<tr><td>                                                                                                                                                                                                                                                                                                                                                                                                                                                                                                                                                                                                            </td></tr>\n",
       "<tr><td>Borrower added on 12/21/11 > to pay for property tax (borrow from friend, need to pay back) & central A/C need to be replace. I'm very sorry to let my loan expired last time.<br>                                                                                                                                                                                                                                                                                                                                                                                                                          </td></tr>\n",
       "<tr><td>                                                                                                                                                                                                                                                                                                                                                                                                                                                                                                                                                                                                            </td></tr>\n",
       "<tr><td>Borrower added on 12/16/11 > Downpayment for a car.<br>                                                                                                                                                                                                                                                                                                                                                                                                                                                                                                                                                     </td></tr>\n",
       "<tr><td>Borrower added on 12/21/11 > I own a small home-based judgment collection business. I have 5 years experience collecting debts. I am now going from a home office to a small office. I also plan to buy a small debt portfolio (eg. $10K for $1M of debt) <br>My score is not A+ because I own my home and have no mortgage.<br>                                                                                                                                                                                                                                                                            </td></tr>\n",
       "<tr><td>Borrower added on 12/16/11 > I'm trying to build up my credit history. I live with my brother and have no car payment or credit cards. I am in community college and work full time. Im going to use the money to make some repairs around the house and get some maintenance done on my car.<br><br>  Borrower added on 12/20/11 > $1000 down only $4375 to go. Thanks to everyone that invested so far, looking forward to surprising my brother with the fixes around the house.<br>                                                                                                                     </td></tr>\n",
       "<tr><td>Borrower added on 12/15/11 > I had recived a loan from Citi Financial about a year ago, I was paying 29.99 intrest, so the refinance is to cut that rate since cleaning up my credit I have been paying everything on time as shown on my credit report<br>                                                                                                                                                                                                                                                                                                                                                 </td></tr>\n",
       "<tr><td>                                                                                                                                                                                                                                                                                                                                                                                                                                                                                                                                                                                                            </td></tr>\n",
       "</tbody>\n",
       "</table>"
      ]
     },
     "metadata": {},
     "output_type": "display_data"
    },
    {
     "data": {
      "text/plain": []
     },
     "execution_count": 25,
     "metadata": {},
     "output_type": "execute_result"
    }
   ],
   "source": [
    "loans[\"desc\"].head()"
   ]
  },
  {
   "cell_type": "markdown",
   "metadata": {},
   "source": [
    "The descriptions above may contain information that would assist in predicting default, but supervised learning algorithms in general have a hard time understanding text. We need to convert these strings into a numeric representation of the text in order for our algorithms to utilize it. There are multiple choices for doing so, in this example we will use the Word2Vec algorithm.\n",
    "\n",
    "We start by defining stop words (terms that are considered too frequent to carry much information) "
   ]
  },
  {
   "cell_type": "code",
   "execution_count": 26,
   "metadata": {},
   "outputs": [],
   "source": [
    "STOP_WORDS = [\"ax\",\"i\",\"you\",\"edu\",\"s\",\"t\",\"m\",\"subject\",\"can\",\"lines\",\"re\",\"what\",\n",
    "              \"there\",\"all\",\"we\",\"one\",\"the\",\"a\",\"an\",\"of\",\"or\",\"in\",\"for\",\"by\",\"on\",\n",
    "              \"but\",\"is\",\"in\",\"a\",\"not\",\"with\",\"as\",\"was\",\"if\",\"they\",\"are\",\"this\",\"and\",\"it\",\"have\",\n",
    "              \"from\",\"at\",\"my\",\"be\",\"by\",\"not\",\"that\",\"to\",\"from\",\"com\",\"org\",\"like\",\"likes\",\"so\"]"
   ]
  },
  {
   "cell_type": "markdown",
   "metadata": {},
   "source": [
    "We next _tokenize_ the descriptions by breaking the text into individual words"
   ]
  },
  {
   "cell_type": "code",
   "execution_count": 27,
   "metadata": {},
   "outputs": [],
   "source": [
    "def tokenize(sentences, stop_word = STOP_WORDS):\n",
    "    tokenized = sentences.tokenize(\"\\\\W+\")\n",
    "    tokenized_lower = tokenized.tolower()\n",
    "    tokenized_filtered = tokenized_lower[(tokenized_lower.nchar() >= 2) | (tokenized_lower.isna()),:]\n",
    "    tokenized_words = tokenized_filtered[tokenized_filtered.grep(\"[0-9]\",invert=True,output_logical=True),:]\n",
    "    tokenized_words = tokenized_words[(tokenized_words.isna()) | (~ tokenized_words.isin(STOP_WORDS)),:]\n",
    "    return tokenized_words\n",
    "\n",
    "words = tokenize(loans[\"desc\"].ascharacter())"
   ]
  },
  {
   "cell_type": "markdown",
   "metadata": {},
   "source": [
    "We next train our Word2Vec model on the words extracted from our descriptions. We choose an output vector size of 100.\n",
    "\n",
    ">What does Word2Vec do? At a high level, it is a dimensionality reduction method for numerical representations of text. But it reduces dimensionality while preserving (and discovering?) relationships between words in the text.\n",
    ">\n",
    ">Suppose we were to create a dictionary of all the words in our descriptions, and suppose that dictionary contained 2500 unique words. At one extreme, we could create an indicator variable for each word (i.e., one-hot encoding). This would yield 2500 new features that would likely lead to massive overfitting of models.\n",
    ">\n",
    ">At the other extreme, suppose we had someone classify those words into different groups and create indicator variables for each: e.g., `risky_words` (\"bankruptcy\", \"default\", \"forfeit\", \"lien\", etc.), `angry_words` (profanity, \"complaint\", etc.), and so on. This reduces dimensionality by manually grouping words, but it is extremely labor intensive.\n",
    ">\n",
    ">Word2Vec starts with the entire dictionary size $K$ as inputs and the selected vector size $k$ as the target number of outputs. In the in-between layer(s) of the Word2Vec neural net, a $k$-dimensional numeric representation of each word is derived. "
   ]
  },
  {
   "cell_type": "code",
   "execution_count": 28,
   "metadata": {},
   "outputs": [
    {
     "name": "stdout",
     "output_type": "stream",
     "text": [
      "word2vec Model Build progress: |██████████████████████████████████████████| 100%\n"
     ]
    }
   ],
   "source": [
    "from h2o.estimators.word2vec import H2OWord2vecEstimator\n",
    "\n",
    "w2v_model = H2OWord2vecEstimator(vec_size=100, model_id=\"w2v\")\n",
    "w2v_model.train(training_frame=words)"
   ]
  },
  {
   "cell_type": "markdown",
   "metadata": {},
   "source": [
    "Sanity check the Word2Vec model by finding synonyms for the word \"car\""
   ]
  },
  {
   "cell_type": "code",
   "execution_count": 29,
   "metadata": {},
   "outputs": [
    {
     "data": {
      "text/plain": [
       "OrderedDict([('auto', 0.7251068949699402),\n",
       "             ('vehicle', 0.7225008010864258),\n",
       "             ('lexus', 0.68996661901474),\n",
       "             ('prius', 0.6546204090118408),\n",
       "             ('basics', 0.6523770093917847)])"
      ]
     },
     "execution_count": 29,
     "metadata": {},
     "output_type": "execute_result"
    }
   ],
   "source": [
    "w2v_model.find_synonyms(\"car\", count=5)"
   ]
  },
  {
   "cell_type": "markdown",
   "metadata": {},
   "source": [
    "Next calculate a vector for each description by averaging over all of the words in that description"
   ]
  },
  {
   "cell_type": "code",
   "execution_count": 30,
   "metadata": {
    "scrolled": true
   },
   "outputs": [
    {
     "data": {
      "text/html": [
       "<table>\n",
       "<thead>\n",
       "<tr><th style=\"text-align: right;\">         C1</th><th style=\"text-align: right;\">          C2</th><th style=\"text-align: right;\">         C3</th><th style=\"text-align: right;\">          C4</th><th style=\"text-align: right;\">         C5</th><th style=\"text-align: right;\">         C6</th><th style=\"text-align: right;\">          C7</th><th style=\"text-align: right;\">          C8</th><th style=\"text-align: right;\">         C9</th><th style=\"text-align: right;\">       C10</th><th style=\"text-align: right;\">        C11</th><th style=\"text-align: right;\">        C12</th><th style=\"text-align: right;\">         C13</th><th style=\"text-align: right;\">        C14</th><th style=\"text-align: right;\">         C15</th><th style=\"text-align: right;\">         C16</th><th style=\"text-align: right;\">         C17</th><th style=\"text-align: right;\">         C18</th><th style=\"text-align: right;\">       C19</th><th style=\"text-align: right;\">        C20</th><th style=\"text-align: right;\">         C21</th><th style=\"text-align: right;\">        C22</th><th style=\"text-align: right;\">        C23</th><th style=\"text-align: right;\">        C24</th><th style=\"text-align: right;\">        C25</th><th style=\"text-align: right;\">       C26</th><th style=\"text-align: right;\">         C27</th><th style=\"text-align: right;\">        C28</th><th style=\"text-align: right;\">        C29</th><th style=\"text-align: right;\">       C30</th><th style=\"text-align: right;\">        C31</th><th style=\"text-align: right;\">        C32</th><th style=\"text-align: right;\">         C33</th><th style=\"text-align: right;\">        C34</th><th style=\"text-align: right;\">        C35</th><th style=\"text-align: right;\">        C36</th><th style=\"text-align: right;\">        C37</th><th style=\"text-align: right;\">        C38</th><th style=\"text-align: right;\">         C39</th><th style=\"text-align: right;\">        C40</th><th style=\"text-align: right;\">        C41</th><th style=\"text-align: right;\">        C42</th><th style=\"text-align: right;\">         C43</th><th style=\"text-align: right;\">       C44</th><th style=\"text-align: right;\">        C45</th><th style=\"text-align: right;\">        C46</th><th style=\"text-align: right;\">        C47</th><th style=\"text-align: right;\">        C48</th><th style=\"text-align: right;\">        C49</th><th style=\"text-align: right;\">        C50</th><th style=\"text-align: right;\">        C51</th><th style=\"text-align: right;\">        C52</th><th style=\"text-align: right;\">        C53</th><th style=\"text-align: right;\">         C54</th><th style=\"text-align: right;\">        C55</th><th style=\"text-align: right;\">        C56</th><th style=\"text-align: right;\">        C57</th><th style=\"text-align: right;\">         C58</th><th style=\"text-align: right;\">         C59</th><th style=\"text-align: right;\">        C60</th><th style=\"text-align: right;\">          C61</th><th style=\"text-align: right;\">         C62</th><th style=\"text-align: right;\">        C63</th><th style=\"text-align: right;\">         C64</th><th style=\"text-align: right;\">         C65</th><th style=\"text-align: right;\">         C66</th><th style=\"text-align: right;\">         C67</th><th style=\"text-align: right;\">        C68</th><th style=\"text-align: right;\">        C69</th><th style=\"text-align: right;\">         C70</th><th style=\"text-align: right;\">        C71</th><th style=\"text-align: right;\">       C72</th><th style=\"text-align: right;\">        C73</th><th style=\"text-align: right;\">        C74</th><th style=\"text-align: right;\">        C75</th><th style=\"text-align: right;\">        C76</th><th style=\"text-align: right;\">         C77</th><th style=\"text-align: right;\">         C78</th><th style=\"text-align: right;\">        C79</th><th style=\"text-align: right;\">        C80</th><th style=\"text-align: right;\">         C81</th><th style=\"text-align: right;\">         C82</th><th style=\"text-align: right;\">        C83</th><th style=\"text-align: right;\">        C84</th><th style=\"text-align: right;\">        C85</th><th style=\"text-align: right;\">         C86</th><th style=\"text-align: right;\">        C87</th><th style=\"text-align: right;\">       C88</th><th style=\"text-align: right;\">         C89</th><th style=\"text-align: right;\">          C90</th><th style=\"text-align: right;\">         C91</th><th style=\"text-align: right;\">       C92</th><th style=\"text-align: right;\">        C93</th><th style=\"text-align: right;\">        C94</th><th style=\"text-align: right;\">        C95</th><th style=\"text-align: right;\">       C96</th><th style=\"text-align: right;\">        C97</th><th style=\"text-align: right;\">       C98</th><th style=\"text-align: right;\">         C99</th><th style=\"text-align: right;\">       C100</th></tr>\n",
       "</thead>\n",
       "<tbody>\n",
       "<tr><td style=\"text-align: right;\">  0.160525 </td><td style=\"text-align: right;\">  0.00761051</td><td style=\"text-align: right;\"> -0.0377313</td><td style=\"text-align: right;\">  0.0285343 </td><td style=\"text-align: right;\">  0.0154623</td><td style=\"text-align: right;\">  0.158197 </td><td style=\"text-align: right;\"> -0.0184205 </td><td style=\"text-align: right;\"> -0.00960125</td><td style=\"text-align: right;\">  0.139328 </td><td style=\"text-align: right;\">  0.024116</td><td style=\"text-align: right;\">  0.0448829</td><td style=\"text-align: right;\">  0.0988865</td><td style=\"text-align: right;\"> -0.0261553 </td><td style=\"text-align: right;\">  0.119325 </td><td style=\"text-align: right;\"> -0.0121504 </td><td style=\"text-align: right;\"> -0.0412286 </td><td style=\"text-align: right;\"> -0.0293693 </td><td style=\"text-align: right;\">  0.0633247 </td><td style=\"text-align: right;\"> -0.116739</td><td style=\"text-align: right;\">  0.131319 </td><td style=\"text-align: right;\"> -0.0482528 </td><td style=\"text-align: right;\"> -0.0504041</td><td style=\"text-align: right;\"> -0.107736 </td><td style=\"text-align: right;\"> -0.215233 </td><td style=\"text-align: right;\">  0.100815 </td><td style=\"text-align: right;\"> -0.138292</td><td style=\"text-align: right;\">  0.00889922</td><td style=\"text-align: right;\"> -0.0496393</td><td style=\"text-align: right;\">  0.0789243</td><td style=\"text-align: right;\">  0.147803</td><td style=\"text-align: right;\">  0.0106898</td><td style=\"text-align: right;\">  0.0343641</td><td style=\"text-align: right;\"> -0.0558935 </td><td style=\"text-align: right;\">  0.204854 </td><td style=\"text-align: right;\">  0.218231 </td><td style=\"text-align: right;\">  0.0506003</td><td style=\"text-align: right;\"> -0.291379 </td><td style=\"text-align: right;\"> -0.0847885</td><td style=\"text-align: right;\">  0.139746  </td><td style=\"text-align: right;\">  0.0955225</td><td style=\"text-align: right;\">  0.132744 </td><td style=\"text-align: right;\">  0.13223  </td><td style=\"text-align: right;\"> -0.0250325 </td><td style=\"text-align: right;\">  0.122236</td><td style=\"text-align: right;\"> -0.0349447</td><td style=\"text-align: right;\">  0.0584957</td><td style=\"text-align: right;\"> -0.235584 </td><td style=\"text-align: right;\">  0.231621 </td><td style=\"text-align: right;\"> -0.0739045</td><td style=\"text-align: right;\"> -0.0628561</td><td style=\"text-align: right;\"> -0.18381  </td><td style=\"text-align: right;\">  0.113739 </td><td style=\"text-align: right;\">  0.129687 </td><td style=\"text-align: right;\">  0.00439531</td><td style=\"text-align: right;\"> -0.127242 </td><td style=\"text-align: right;\"> -0.101909 </td><td style=\"text-align: right;\"> -0.0336422</td><td style=\"text-align: right;\"> -0.0470027 </td><td style=\"text-align: right;\">  0.105895  </td><td style=\"text-align: right;\"> -0.22577  </td><td style=\"text-align: right;\"> -0.1518     </td><td style=\"text-align: right;\">  0.0361075 </td><td style=\"text-align: right;\">  0.136196 </td><td style=\"text-align: right;\"> -0.0960417 </td><td style=\"text-align: right;\">  0.024433  </td><td style=\"text-align: right;\"> -0.00190374</td><td style=\"text-align: right;\">  0.00296207</td><td style=\"text-align: right;\"> -0.171784 </td><td style=\"text-align: right;\">  0.152318 </td><td style=\"text-align: right;\"> -0.146594  </td><td style=\"text-align: right;\">  0.0319771</td><td style=\"text-align: right;\"> -0.178962</td><td style=\"text-align: right;\">  0.318153 </td><td style=\"text-align: right;\"> -0.0414293</td><td style=\"text-align: right;\">  0.044025 </td><td style=\"text-align: right;\"> -0.0454132</td><td style=\"text-align: right;\"> -0.00187672</td><td style=\"text-align: right;\">  0.0263587 </td><td style=\"text-align: right;\"> -0.180081 </td><td style=\"text-align: right;\"> -0.0647765</td><td style=\"text-align: right;\"> -0.00292424</td><td style=\"text-align: right;\"> -0.00289404</td><td style=\"text-align: right;\"> -0.236992 </td><td style=\"text-align: right;\">  0.208602 </td><td style=\"text-align: right;\"> -0.119156 </td><td style=\"text-align: right;\"> -0.0948885 </td><td style=\"text-align: right;\">  0.108986 </td><td style=\"text-align: right;\">  0.215363</td><td style=\"text-align: right;\"> -0.0548204 </td><td style=\"text-align: right;\">  0.0616262  </td><td style=\"text-align: right;\"> -0.00531904</td><td style=\"text-align: right;\">  0.201846</td><td style=\"text-align: right;\"> -0.169849 </td><td style=\"text-align: right;\">  0.0989916</td><td style=\"text-align: right;\">  0.0814215</td><td style=\"text-align: right;\"> -0.36751 </td><td style=\"text-align: right;\"> -0.0249119</td><td style=\"text-align: right;\"> -0.212598</td><td style=\"text-align: right;\"> -0.00868209</td><td style=\"text-align: right;\">  0.041939 </td></tr>\n",
       "<tr><td style=\"text-align: right;\">  0.0946685</td><td style=\"text-align: right;\"> -0.0600831 </td><td style=\"text-align: right;\"> -0.0754993</td><td style=\"text-align: right;\">  0.0192999 </td><td style=\"text-align: right;\"> -0.121621 </td><td style=\"text-align: right;\">  0.0965942</td><td style=\"text-align: right;\">  0.00718257</td><td style=\"text-align: right;\">  0.0187955 </td><td style=\"text-align: right;\">  0.0604868</td><td style=\"text-align: right;\">  0.170454</td><td style=\"text-align: right;\">  0.0431232</td><td style=\"text-align: right;\">  0.228759 </td><td style=\"text-align: right;\">  0.0307808 </td><td style=\"text-align: right;\">  0.22245  </td><td style=\"text-align: right;\"> -0.103675  </td><td style=\"text-align: right;\">  0.0705864 </td><td style=\"text-align: right;\"> -0.00133187</td><td style=\"text-align: right;\">  0.148238  </td><td style=\"text-align: right;\"> -0.181311</td><td style=\"text-align: right;\">  0.0658273</td><td style=\"text-align: right;\"> -0.0209716 </td><td style=\"text-align: right;\"> -0.0769212</td><td style=\"text-align: right;\"> -0.182288 </td><td style=\"text-align: right;\">  0.0685154</td><td style=\"text-align: right;\"> -0.03795  </td><td style=\"text-align: right;\"> -0.165008</td><td style=\"text-align: right;\"> -0.124268  </td><td style=\"text-align: right;\"> -0.016029 </td><td style=\"text-align: right;\"> -0.08626  </td><td style=\"text-align: right;\">  0.320871</td><td style=\"text-align: right;\"> -0.0595745</td><td style=\"text-align: right;\">  0.0841508</td><td style=\"text-align: right;\"> -0.0289617 </td><td style=\"text-align: right;\">  0.0754162</td><td style=\"text-align: right;\">  0.0952343</td><td style=\"text-align: right;\">  0.235495 </td><td style=\"text-align: right;\"> -0.0274061</td><td style=\"text-align: right;\"> -0.0755774</td><td style=\"text-align: right;\">  0.0847501 </td><td style=\"text-align: right;\">  0.0897273</td><td style=\"text-align: right;\">  0.0723533</td><td style=\"text-align: right;\">  0.063794 </td><td style=\"text-align: right;\"> -0.0945986 </td><td style=\"text-align: right;\">  0.118945</td><td style=\"text-align: right;\"> -0.11366  </td><td style=\"text-align: right;\">  0.0393999</td><td style=\"text-align: right;\"> -0.110674 </td><td style=\"text-align: right;\">  0.0947004</td><td style=\"text-align: right;\"> -0.0159532</td><td style=\"text-align: right;\"> -0.0910717</td><td style=\"text-align: right;\"> -0.0822164</td><td style=\"text-align: right;\">  0.0472332</td><td style=\"text-align: right;\">  0.101807 </td><td style=\"text-align: right;\">  0.0230666 </td><td style=\"text-align: right;\"> -0.0789731</td><td style=\"text-align: right;\"> -0.0629389</td><td style=\"text-align: right;\"> -0.120535 </td><td style=\"text-align: right;\"> -0.00550684</td><td style=\"text-align: right;\"> -0.0148922 </td><td style=\"text-align: right;\"> -0.12935  </td><td style=\"text-align: right;\"> -0.0622137  </td><td style=\"text-align: right;\"> -0.056351  </td><td style=\"text-align: right;\">  0.0906715</td><td style=\"text-align: right;\"> -0.0627987 </td><td style=\"text-align: right;\">  0.00271866</td><td style=\"text-align: right;\">  0.0297373 </td><td style=\"text-align: right;\"> -0.0741178 </td><td style=\"text-align: right;\"> -0.0267454</td><td style=\"text-align: right;\">  0.109704 </td><td style=\"text-align: right;\">  0.0331209 </td><td style=\"text-align: right;\">  0.0848631</td><td style=\"text-align: right;\"> -0.188856</td><td style=\"text-align: right;\">  0.146278 </td><td style=\"text-align: right;\"> -0.046894 </td><td style=\"text-align: right;\">  0.0911453</td><td style=\"text-align: right;\">  0.0168659</td><td style=\"text-align: right;\"> -0.13544   </td><td style=\"text-align: right;\">  0.114928  </td><td style=\"text-align: right;\"> -0.179049 </td><td style=\"text-align: right;\"> -0.170135 </td><td style=\"text-align: right;\">  0.0360242 </td><td style=\"text-align: right;\">  0.00945544</td><td style=\"text-align: right;\"> -0.140764 </td><td style=\"text-align: right;\">  0.154345 </td><td style=\"text-align: right;\">  0.036895 </td><td style=\"text-align: right;\">  0.0226151 </td><td style=\"text-align: right;\">  0.18463  </td><td style=\"text-align: right;\">  0.205897</td><td style=\"text-align: right;\">  0.00989798</td><td style=\"text-align: right;\">  0.141551   </td><td style=\"text-align: right;\"> -0.0453451 </td><td style=\"text-align: right;\">  0.132386</td><td style=\"text-align: right;\"> -0.1177   </td><td style=\"text-align: right;\"> -0.0370013</td><td style=\"text-align: right;\">  0.0803143</td><td style=\"text-align: right;\"> -0.302337</td><td style=\"text-align: right;\">  0.0200383</td><td style=\"text-align: right;\"> -0.171648</td><td style=\"text-align: right;\"> -0.04265   </td><td style=\"text-align: right;\">  0.011786 </td></tr>\n",
       "<tr><td style=\"text-align: right;\">nan        </td><td style=\"text-align: right;\">nan         </td><td style=\"text-align: right;\">nan        </td><td style=\"text-align: right;\">nan         </td><td style=\"text-align: right;\">nan        </td><td style=\"text-align: right;\">nan        </td><td style=\"text-align: right;\">nan         </td><td style=\"text-align: right;\">nan         </td><td style=\"text-align: right;\">nan        </td><td style=\"text-align: right;\">nan       </td><td style=\"text-align: right;\">nan        </td><td style=\"text-align: right;\">nan        </td><td style=\"text-align: right;\">nan         </td><td style=\"text-align: right;\">nan        </td><td style=\"text-align: right;\">nan         </td><td style=\"text-align: right;\">nan         </td><td style=\"text-align: right;\">nan         </td><td style=\"text-align: right;\">nan         </td><td style=\"text-align: right;\">nan       </td><td style=\"text-align: right;\">nan        </td><td style=\"text-align: right;\">nan         </td><td style=\"text-align: right;\">nan        </td><td style=\"text-align: right;\">nan        </td><td style=\"text-align: right;\">nan        </td><td style=\"text-align: right;\">nan        </td><td style=\"text-align: right;\">nan       </td><td style=\"text-align: right;\">nan         </td><td style=\"text-align: right;\">nan        </td><td style=\"text-align: right;\">nan        </td><td style=\"text-align: right;\">nan       </td><td style=\"text-align: right;\">nan        </td><td style=\"text-align: right;\">nan        </td><td style=\"text-align: right;\">nan         </td><td style=\"text-align: right;\">nan        </td><td style=\"text-align: right;\">nan        </td><td style=\"text-align: right;\">nan        </td><td style=\"text-align: right;\">nan        </td><td style=\"text-align: right;\">nan        </td><td style=\"text-align: right;\">nan         </td><td style=\"text-align: right;\">nan        </td><td style=\"text-align: right;\">nan        </td><td style=\"text-align: right;\">nan        </td><td style=\"text-align: right;\">nan         </td><td style=\"text-align: right;\">nan       </td><td style=\"text-align: right;\">nan        </td><td style=\"text-align: right;\">nan        </td><td style=\"text-align: right;\">nan        </td><td style=\"text-align: right;\">nan        </td><td style=\"text-align: right;\">nan        </td><td style=\"text-align: right;\">nan        </td><td style=\"text-align: right;\">nan        </td><td style=\"text-align: right;\">nan        </td><td style=\"text-align: right;\">nan        </td><td style=\"text-align: right;\">nan         </td><td style=\"text-align: right;\">nan        </td><td style=\"text-align: right;\">nan        </td><td style=\"text-align: right;\">nan        </td><td style=\"text-align: right;\">nan         </td><td style=\"text-align: right;\">nan         </td><td style=\"text-align: right;\">nan        </td><td style=\"text-align: right;\">nan          </td><td style=\"text-align: right;\">nan         </td><td style=\"text-align: right;\">nan        </td><td style=\"text-align: right;\">nan         </td><td style=\"text-align: right;\">nan         </td><td style=\"text-align: right;\">nan         </td><td style=\"text-align: right;\">nan         </td><td style=\"text-align: right;\">nan        </td><td style=\"text-align: right;\">nan        </td><td style=\"text-align: right;\">nan         </td><td style=\"text-align: right;\">nan        </td><td style=\"text-align: right;\">nan       </td><td style=\"text-align: right;\">nan        </td><td style=\"text-align: right;\">nan        </td><td style=\"text-align: right;\">nan        </td><td style=\"text-align: right;\">nan        </td><td style=\"text-align: right;\">nan         </td><td style=\"text-align: right;\">nan         </td><td style=\"text-align: right;\">nan        </td><td style=\"text-align: right;\">nan        </td><td style=\"text-align: right;\">nan         </td><td style=\"text-align: right;\">nan         </td><td style=\"text-align: right;\">nan        </td><td style=\"text-align: right;\">nan        </td><td style=\"text-align: right;\">nan        </td><td style=\"text-align: right;\">nan         </td><td style=\"text-align: right;\">nan        </td><td style=\"text-align: right;\">nan       </td><td style=\"text-align: right;\">nan         </td><td style=\"text-align: right;\">nan          </td><td style=\"text-align: right;\">nan         </td><td style=\"text-align: right;\">nan       </td><td style=\"text-align: right;\">nan        </td><td style=\"text-align: right;\">nan        </td><td style=\"text-align: right;\">nan        </td><td style=\"text-align: right;\">nan       </td><td style=\"text-align: right;\">nan        </td><td style=\"text-align: right;\">nan       </td><td style=\"text-align: right;\">nan         </td><td style=\"text-align: right;\">nan        </td></tr>\n",
       "<tr><td style=\"text-align: right;\">  0.0427071</td><td style=\"text-align: right;\"> -0.0489399 </td><td style=\"text-align: right;\"> -0.139117 </td><td style=\"text-align: right;\"> -0.0191604 </td><td style=\"text-align: right;\"> -0.0361171</td><td style=\"text-align: right;\">  0.216148 </td><td style=\"text-align: right;\">  0.0442603 </td><td style=\"text-align: right;\">  0.199087  </td><td style=\"text-align: right;\">  0.0771905</td><td style=\"text-align: right;\">  0.132153</td><td style=\"text-align: right;\"> -0.0313347</td><td style=\"text-align: right;\">  0.238872 </td><td style=\"text-align: right;\"> -0.00539962</td><td style=\"text-align: right;\">  0.199942 </td><td style=\"text-align: right;\"> -0.0520675 </td><td style=\"text-align: right;\">  0.00422052</td><td style=\"text-align: right;\"> -0.00450643</td><td style=\"text-align: right;\">  0.128995  </td><td style=\"text-align: right;\"> -0.126036</td><td style=\"text-align: right;\">  0.0838985</td><td style=\"text-align: right;\">  0.00423935</td><td style=\"text-align: right;\"> -0.0675533</td><td style=\"text-align: right;\"> -0.133831 </td><td style=\"text-align: right;\">  0.0399523</td><td style=\"text-align: right;\">  0.0824972</td><td style=\"text-align: right;\"> -0.142285</td><td style=\"text-align: right;\"> -0.122337  </td><td style=\"text-align: right;\"> -0.0109865</td><td style=\"text-align: right;\"> -0.0206447</td><td style=\"text-align: right;\">  0.246179</td><td style=\"text-align: right;\"> -0.0873067</td><td style=\"text-align: right;\">  0.0840225</td><td style=\"text-align: right;\"> -0.0868387 </td><td style=\"text-align: right;\">  0.127659 </td><td style=\"text-align: right;\">  0.112585 </td><td style=\"text-align: right;\">  0.151928 </td><td style=\"text-align: right;\"> -0.0322136</td><td style=\"text-align: right;\"> -0.0739292</td><td style=\"text-align: right;\">  0.128772  </td><td style=\"text-align: right;\">  0.0865003</td><td style=\"text-align: right;\">  0.172322 </td><td style=\"text-align: right;\"> -0.0336826</td><td style=\"text-align: right;\"> -0.00559888</td><td style=\"text-align: right;\">  0.137536</td><td style=\"text-align: right;\"> -0.0759385</td><td style=\"text-align: right;\">  0.0297574</td><td style=\"text-align: right;\"> -0.0407981</td><td style=\"text-align: right;\">  0.0773642</td><td style=\"text-align: right;\"> -0.0071748</td><td style=\"text-align: right;\">  0.0311618</td><td style=\"text-align: right;\"> -0.165983 </td><td style=\"text-align: right;\">  0.026619 </td><td style=\"text-align: right;\">  0.0817571</td><td style=\"text-align: right;\">  0.0749275 </td><td style=\"text-align: right;\"> -0.150863 </td><td style=\"text-align: right;\"> -0.114863 </td><td style=\"text-align: right;\"> -0.0462189</td><td style=\"text-align: right;\">  0.0285289 </td><td style=\"text-align: right;\">  0.0457149 </td><td style=\"text-align: right;\"> -0.0467766</td><td style=\"text-align: right;\"> -0.0998676  </td><td style=\"text-align: right;\">  0.12895   </td><td style=\"text-align: right;\">  0.0993069</td><td style=\"text-align: right;\"> -0.00443761</td><td style=\"text-align: right;\"> -0.0356711 </td><td style=\"text-align: right;\">  0.052551  </td><td style=\"text-align: right;\"> -0.0463792 </td><td style=\"text-align: right;\">  0.0331418</td><td style=\"text-align: right;\">  0.0910198</td><td style=\"text-align: right;\">  0.023352  </td><td style=\"text-align: right;\">  0.0710756</td><td style=\"text-align: right;\"> -0.242376</td><td style=\"text-align: right;\">  0.111388 </td><td style=\"text-align: right;\">  0.0060259</td><td style=\"text-align: right;\"> -0.0142879</td><td style=\"text-align: right;\"> -0.0220916</td><td style=\"text-align: right;\"> -0.165299  </td><td style=\"text-align: right;\">  0.00504482</td><td style=\"text-align: right;\"> -0.143959 </td><td style=\"text-align: right;\"> -0.145436 </td><td style=\"text-align: right;\"> -0.0147034 </td><td style=\"text-align: right;\"> -0.0211052 </td><td style=\"text-align: right;\"> -0.173795 </td><td style=\"text-align: right;\">  0.155726 </td><td style=\"text-align: right;\">  0.0875811</td><td style=\"text-align: right;\"> -0.00701321</td><td style=\"text-align: right;\">  0.182273 </td><td style=\"text-align: right;\">  0.168978</td><td style=\"text-align: right;\"> -0.0116081 </td><td style=\"text-align: right;\">  0.141663   </td><td style=\"text-align: right;\"> -0.120007  </td><td style=\"text-align: right;\">  0.164056</td><td style=\"text-align: right;\"> -0.11311  </td><td style=\"text-align: right;\">  0.0155107</td><td style=\"text-align: right;\">  0.0560935</td><td style=\"text-align: right;\"> -0.339076</td><td style=\"text-align: right;\">  0.0156379</td><td style=\"text-align: right;\"> -0.215856</td><td style=\"text-align: right;\">  0.0767632 </td><td style=\"text-align: right;\">  0.0371534</td></tr>\n",
       "<tr><td style=\"text-align: right;\">nan        </td><td style=\"text-align: right;\">nan         </td><td style=\"text-align: right;\">nan        </td><td style=\"text-align: right;\">nan         </td><td style=\"text-align: right;\">nan        </td><td style=\"text-align: right;\">nan        </td><td style=\"text-align: right;\">nan         </td><td style=\"text-align: right;\">nan         </td><td style=\"text-align: right;\">nan        </td><td style=\"text-align: right;\">nan       </td><td style=\"text-align: right;\">nan        </td><td style=\"text-align: right;\">nan        </td><td style=\"text-align: right;\">nan         </td><td style=\"text-align: right;\">nan        </td><td style=\"text-align: right;\">nan         </td><td style=\"text-align: right;\">nan         </td><td style=\"text-align: right;\">nan         </td><td style=\"text-align: right;\">nan         </td><td style=\"text-align: right;\">nan       </td><td style=\"text-align: right;\">nan        </td><td style=\"text-align: right;\">nan         </td><td style=\"text-align: right;\">nan        </td><td style=\"text-align: right;\">nan        </td><td style=\"text-align: right;\">nan        </td><td style=\"text-align: right;\">nan        </td><td style=\"text-align: right;\">nan       </td><td style=\"text-align: right;\">nan         </td><td style=\"text-align: right;\">nan        </td><td style=\"text-align: right;\">nan        </td><td style=\"text-align: right;\">nan       </td><td style=\"text-align: right;\">nan        </td><td style=\"text-align: right;\">nan        </td><td style=\"text-align: right;\">nan         </td><td style=\"text-align: right;\">nan        </td><td style=\"text-align: right;\">nan        </td><td style=\"text-align: right;\">nan        </td><td style=\"text-align: right;\">nan        </td><td style=\"text-align: right;\">nan        </td><td style=\"text-align: right;\">nan         </td><td style=\"text-align: right;\">nan        </td><td style=\"text-align: right;\">nan        </td><td style=\"text-align: right;\">nan        </td><td style=\"text-align: right;\">nan         </td><td style=\"text-align: right;\">nan       </td><td style=\"text-align: right;\">nan        </td><td style=\"text-align: right;\">nan        </td><td style=\"text-align: right;\">nan        </td><td style=\"text-align: right;\">nan        </td><td style=\"text-align: right;\">nan        </td><td style=\"text-align: right;\">nan        </td><td style=\"text-align: right;\">nan        </td><td style=\"text-align: right;\">nan        </td><td style=\"text-align: right;\">nan        </td><td style=\"text-align: right;\">nan         </td><td style=\"text-align: right;\">nan        </td><td style=\"text-align: right;\">nan        </td><td style=\"text-align: right;\">nan        </td><td style=\"text-align: right;\">nan         </td><td style=\"text-align: right;\">nan         </td><td style=\"text-align: right;\">nan        </td><td style=\"text-align: right;\">nan          </td><td style=\"text-align: right;\">nan         </td><td style=\"text-align: right;\">nan        </td><td style=\"text-align: right;\">nan         </td><td style=\"text-align: right;\">nan         </td><td style=\"text-align: right;\">nan         </td><td style=\"text-align: right;\">nan         </td><td style=\"text-align: right;\">nan        </td><td style=\"text-align: right;\">nan        </td><td style=\"text-align: right;\">nan         </td><td style=\"text-align: right;\">nan        </td><td style=\"text-align: right;\">nan       </td><td style=\"text-align: right;\">nan        </td><td style=\"text-align: right;\">nan        </td><td style=\"text-align: right;\">nan        </td><td style=\"text-align: right;\">nan        </td><td style=\"text-align: right;\">nan         </td><td style=\"text-align: right;\">nan         </td><td style=\"text-align: right;\">nan        </td><td style=\"text-align: right;\">nan        </td><td style=\"text-align: right;\">nan         </td><td style=\"text-align: right;\">nan         </td><td style=\"text-align: right;\">nan        </td><td style=\"text-align: right;\">nan        </td><td style=\"text-align: right;\">nan        </td><td style=\"text-align: right;\">nan         </td><td style=\"text-align: right;\">nan        </td><td style=\"text-align: right;\">nan       </td><td style=\"text-align: right;\">nan         </td><td style=\"text-align: right;\">nan          </td><td style=\"text-align: right;\">nan         </td><td style=\"text-align: right;\">nan       </td><td style=\"text-align: right;\">nan        </td><td style=\"text-align: right;\">nan        </td><td style=\"text-align: right;\">nan        </td><td style=\"text-align: right;\">nan       </td><td style=\"text-align: right;\">nan        </td><td style=\"text-align: right;\">nan       </td><td style=\"text-align: right;\">nan         </td><td style=\"text-align: right;\">nan        </td></tr>\n",
       "<tr><td style=\"text-align: right;\">  0.186556 </td><td style=\"text-align: right;\">  0.0968742 </td><td style=\"text-align: right;\"> -0.198097 </td><td style=\"text-align: right;\">  0.11991   </td><td style=\"text-align: right;\"> -0.116449 </td><td style=\"text-align: right;\">  0.245099 </td><td style=\"text-align: right;\">  0.0473636 </td><td style=\"text-align: right;\">  0.14847   </td><td style=\"text-align: right;\">  0.057297 </td><td style=\"text-align: right;\">  0.253786</td><td style=\"text-align: right;\">  0.050375 </td><td style=\"text-align: right;\">  0.291418 </td><td style=\"text-align: right;\"> -0.0464826 </td><td style=\"text-align: right;\">  0.176169 </td><td style=\"text-align: right;\"> -0.00518985</td><td style=\"text-align: right;\"> -0.119197  </td><td style=\"text-align: right;\"> -0.00357978</td><td style=\"text-align: right;\">  0.201921  </td><td style=\"text-align: right;\"> -0.250899</td><td style=\"text-align: right;\">  0.201093 </td><td style=\"text-align: right;\">  0.0505114 </td><td style=\"text-align: right;\">  0.0298885</td><td style=\"text-align: right;\"> -0.0817514</td><td style=\"text-align: right;\"> -0.0184824</td><td style=\"text-align: right;\"> -0.0252328</td><td style=\"text-align: right;\"> -0.210835</td><td style=\"text-align: right;\"> -0.0297762 </td><td style=\"text-align: right;\">  0.016497 </td><td style=\"text-align: right;\"> -0.116349 </td><td style=\"text-align: right;\">  0.239847</td><td style=\"text-align: right;\"> -0.0679001</td><td style=\"text-align: right;\">  0.0817062</td><td style=\"text-align: right;\"> -0.132454  </td><td style=\"text-align: right;\"> -0.0811072</td><td style=\"text-align: right;\">  0.147287 </td><td style=\"text-align: right;\">  0.255414 </td><td style=\"text-align: right;\"> -0.215776 </td><td style=\"text-align: right;\"> -0.127109 </td><td style=\"text-align: right;\">  0.225047  </td><td style=\"text-align: right;\">  0.13399  </td><td style=\"text-align: right;\">  0.146062 </td><td style=\"text-align: right;\">  0.102636 </td><td style=\"text-align: right;\"> -0.0546277 </td><td style=\"text-align: right;\">  0.163932</td><td style=\"text-align: right;\">  0.0626649</td><td style=\"text-align: right;\">  0.123839 </td><td style=\"text-align: right;\"> -0.158287 </td><td style=\"text-align: right;\">  0.114576 </td><td style=\"text-align: right;\"> -0.0981854</td><td style=\"text-align: right;\"> -0.0159568</td><td style=\"text-align: right;\"> -0.121635 </td><td style=\"text-align: right;\">  0.177283 </td><td style=\"text-align: right;\">  0.0225513</td><td style=\"text-align: right;\">  0.110888  </td><td style=\"text-align: right;\"> -0.132088 </td><td style=\"text-align: right;\"> -0.10895  </td><td style=\"text-align: right;\"> -0.0715553</td><td style=\"text-align: right;\"> -0.0289671 </td><td style=\"text-align: right;\">  0.0345317 </td><td style=\"text-align: right;\"> -0.223691 </td><td style=\"text-align: right;\"> -0.0293576  </td><td style=\"text-align: right;\"> -0.0121571 </td><td style=\"text-align: right;\">  0.0995712</td><td style=\"text-align: right;\"> -0.109554  </td><td style=\"text-align: right;\">  0.0926339 </td><td style=\"text-align: right;\">  0.0421356 </td><td style=\"text-align: right;\"> -0.102822  </td><td style=\"text-align: right;\"> -0.162064 </td><td style=\"text-align: right;\">  0.0846438</td><td style=\"text-align: right;\"> -0.167886  </td><td style=\"text-align: right;\">  0.031317 </td><td style=\"text-align: right;\"> -0.257464</td><td style=\"text-align: right;\">  0.171872 </td><td style=\"text-align: right;\"> -0.0964125</td><td style=\"text-align: right;\"> -0.0410555</td><td style=\"text-align: right;\">  0.0158433</td><td style=\"text-align: right;\"> -0.0999946 </td><td style=\"text-align: right;\"> -0.00601645</td><td style=\"text-align: right;\"> -0.0687908</td><td style=\"text-align: right;\"> -0.134807 </td><td style=\"text-align: right;\"> -0.115908  </td><td style=\"text-align: right;\">  0.0508379 </td><td style=\"text-align: right;\"> -0.210473 </td><td style=\"text-align: right;\">  0.0870331</td><td style=\"text-align: right;\">  0.126018 </td><td style=\"text-align: right;\"> -0.0981271 </td><td style=\"text-align: right;\">  0.126462 </td><td style=\"text-align: right;\">  0.315349</td><td style=\"text-align: right;\">  0.0315838 </td><td style=\"text-align: right;\">  0.0106109  </td><td style=\"text-align: right;\"> -0.0852895 </td><td style=\"text-align: right;\">  0.226755</td><td style=\"text-align: right;\"> -0.213291 </td><td style=\"text-align: right;\"> -0.0312693</td><td style=\"text-align: right;\">  0.0675901</td><td style=\"text-align: right;\"> -0.325268</td><td style=\"text-align: right;\"> -0.0321082</td><td style=\"text-align: right;\"> -0.248216</td><td style=\"text-align: right;\">  0.166218  </td><td style=\"text-align: right;\">  0.111785 </td></tr>\n",
       "<tr><td style=\"text-align: right;\">  0.183562 </td><td style=\"text-align: right;\"> -0.01007   </td><td style=\"text-align: right;\">  0.0302484</td><td style=\"text-align: right;\"> -0.00208014</td><td style=\"text-align: right;\"> -0.0878631</td><td style=\"text-align: right;\">  0.148642 </td><td style=\"text-align: right;\">  0.0555241 </td><td style=\"text-align: right;\">  0.0813851 </td><td style=\"text-align: right;\">  0.0712794</td><td style=\"text-align: right;\">  0.120821</td><td style=\"text-align: right;\">  0.111777 </td><td style=\"text-align: right;\">  0.144557 </td><td style=\"text-align: right;\"> -0.0324132 </td><td style=\"text-align: right;\">  0.0426624</td><td style=\"text-align: right;\"> -0.0888144 </td><td style=\"text-align: right;\">  0.054374  </td><td style=\"text-align: right;\">  0.0145575 </td><td style=\"text-align: right;\"> -0.00779568</td><td style=\"text-align: right;\"> -0.116834</td><td style=\"text-align: right;\">  0.145386 </td><td style=\"text-align: right;\">  0.0507558 </td><td style=\"text-align: right;\"> -0.0158709</td><td style=\"text-align: right;\"> -0.14639  </td><td style=\"text-align: right;\"> -0.0555366</td><td style=\"text-align: right;\"> -0.0390987</td><td style=\"text-align: right;\"> -0.168149</td><td style=\"text-align: right;\"> -0.102203  </td><td style=\"text-align: right;\"> -0.0621765</td><td style=\"text-align: right;\">  0.0439253</td><td style=\"text-align: right;\">  0.182148</td><td style=\"text-align: right;\"> -0.0197401</td><td style=\"text-align: right;\">  0.0909059</td><td style=\"text-align: right;\"> -0.0725634 </td><td style=\"text-align: right;\">  0.206218 </td><td style=\"text-align: right;\">  0.0977184</td><td style=\"text-align: right;\">  0.132376 </td><td style=\"text-align: right;\"> -0.114228 </td><td style=\"text-align: right;\"> -0.0809579</td><td style=\"text-align: right;\"> -0.00147968</td><td style=\"text-align: right;\">  0.0751508</td><td style=\"text-align: right;\">  0.0769487</td><td style=\"text-align: right;\">  0.0250589</td><td style=\"text-align: right;\"> -0.0393074 </td><td style=\"text-align: right;\">  0.141796</td><td style=\"text-align: right;\">  0.0599369</td><td style=\"text-align: right;\">  0.0355425</td><td style=\"text-align: right;\"> -0.144555 </td><td style=\"text-align: right;\">  0.172032 </td><td style=\"text-align: right;\"> -0.0644046</td><td style=\"text-align: right;\"> -0.0463195</td><td style=\"text-align: right;\"> -0.0460402</td><td style=\"text-align: right;\">  0.0615021</td><td style=\"text-align: right;\">  0.0132828</td><td style=\"text-align: right;\">  0.0830841 </td><td style=\"text-align: right;\"> -0.119134 </td><td style=\"text-align: right;\">  0.0221369</td><td style=\"text-align: right;\"> -0.151126 </td><td style=\"text-align: right;\"> -0.0182562 </td><td style=\"text-align: right;\"> -0.0112027 </td><td style=\"text-align: right;\"> -0.147043 </td><td style=\"text-align: right;\">  0.0240897  </td><td style=\"text-align: right;\">  0.00514562</td><td style=\"text-align: right;\">  0.0792054</td><td style=\"text-align: right;\"> -0.0720537 </td><td style=\"text-align: right;\"> -0.128742  </td><td style=\"text-align: right;\">  0.0552353 </td><td style=\"text-align: right;\"> -0.0225418 </td><td style=\"text-align: right;\"> -0.0638289</td><td style=\"text-align: right;\">  0.150035 </td><td style=\"text-align: right;\"> -0.0435423 </td><td style=\"text-align: right;\">  0.123042 </td><td style=\"text-align: right;\"> -0.160931</td><td style=\"text-align: right;\">  0.217813 </td><td style=\"text-align: right;\">  0.0191383</td><td style=\"text-align: right;\">  0.0825946</td><td style=\"text-align: right;\"> -0.0660052</td><td style=\"text-align: right;\"> -0.102672  </td><td style=\"text-align: right;\">  0.0326612 </td><td style=\"text-align: right;\"> -0.103586 </td><td style=\"text-align: right;\"> -0.129612 </td><td style=\"text-align: right;\"> -0.0702252 </td><td style=\"text-align: right;\"> -0.00884018</td><td style=\"text-align: right;\"> -0.0931465</td><td style=\"text-align: right;\">  0.189319 </td><td style=\"text-align: right;\"> -0.0894933</td><td style=\"text-align: right;\">  0.0108194 </td><td style=\"text-align: right;\">  0.141755 </td><td style=\"text-align: right;\">  0.228505</td><td style=\"text-align: right;\">  0.0896297 </td><td style=\"text-align: right;\">  0.0514036  </td><td style=\"text-align: right;\"> -0.141581  </td><td style=\"text-align: right;\">  0.129724</td><td style=\"text-align: right;\"> -0.103404 </td><td style=\"text-align: right;\">  0.0484047</td><td style=\"text-align: right;\">  0.0816349</td><td style=\"text-align: right;\"> -0.195781</td><td style=\"text-align: right;\"> -0.0548234</td><td style=\"text-align: right;\"> -0.212175</td><td style=\"text-align: right;\">  0.0346701 </td><td style=\"text-align: right;\">  0.0492392</td></tr>\n",
       "<tr><td style=\"text-align: right;\">  0.0815173</td><td style=\"text-align: right;\"> -0.030961  </td><td style=\"text-align: right;\"> -0.0348479</td><td style=\"text-align: right;\">  0.00523836</td><td style=\"text-align: right;\"> -0.101987 </td><td style=\"text-align: right;\">  0.134537 </td><td style=\"text-align: right;\">  0.0648361 </td><td style=\"text-align: right;\">  0.177016  </td><td style=\"text-align: right;\"> -0.025166 </td><td style=\"text-align: right;\">  0.150606</td><td style=\"text-align: right;\">  0.0701386</td><td style=\"text-align: right;\">  0.157372 </td><td style=\"text-align: right;\"> -0.0158399 </td><td style=\"text-align: right;\">  0.153816 </td><td style=\"text-align: right;\"> -0.0763815 </td><td style=\"text-align: right;\">  0.0628512 </td><td style=\"text-align: right;\">  0.083627  </td><td style=\"text-align: right;\">  0.0892473 </td><td style=\"text-align: right;\"> -0.147357</td><td style=\"text-align: right;\">  0.114226 </td><td style=\"text-align: right;\">  0.0236703 </td><td style=\"text-align: right;\"> -0.0503885</td><td style=\"text-align: right;\"> -0.182314 </td><td style=\"text-align: right;\"> -0.0178194</td><td style=\"text-align: right;\">  0.0725519</td><td style=\"text-align: right;\"> -0.123577</td><td style=\"text-align: right;\"> -0.159872  </td><td style=\"text-align: right;\"> -0.0737061</td><td style=\"text-align: right;\"> -0.0338427</td><td style=\"text-align: right;\">  0.302538</td><td style=\"text-align: right;\"> -0.103615 </td><td style=\"text-align: right;\">  0.11391  </td><td style=\"text-align: right;\"> -0.0706021 </td><td style=\"text-align: right;\">  0.0510701</td><td style=\"text-align: right;\">  0.113754 </td><td style=\"text-align: right;\">  0.187355 </td><td style=\"text-align: right;\"> -0.118836 </td><td style=\"text-align: right;\"> -0.0388365</td><td style=\"text-align: right;\">  0.123704  </td><td style=\"text-align: right;\">  0.139864 </td><td style=\"text-align: right;\">  0.020126 </td><td style=\"text-align: right;\">  0.016907 </td><td style=\"text-align: right;\"> -0.0738335 </td><td style=\"text-align: right;\">  0.136037</td><td style=\"text-align: right;\"> -0.0636967</td><td style=\"text-align: right;\">  0.053934 </td><td style=\"text-align: right;\"> -0.10682  </td><td style=\"text-align: right;\">  0.119628 </td><td style=\"text-align: right;\"> -0.0595911</td><td style=\"text-align: right;\"> -0.0683855</td><td style=\"text-align: right;\"> -0.0537689</td><td style=\"text-align: right;\">  0.0238845</td><td style=\"text-align: right;\">  0.0564839</td><td style=\"text-align: right;\">  0.149989  </td><td style=\"text-align: right;\"> -0.0465638</td><td style=\"text-align: right;\">  0.0234473</td><td style=\"text-align: right;\"> -0.134351 </td><td style=\"text-align: right;\">  0.0119832 </td><td style=\"text-align: right;\"> -0.0071201 </td><td style=\"text-align: right;\"> -0.102197 </td><td style=\"text-align: right;\">  0.000988239</td><td style=\"text-align: right;\">  0.0197307 </td><td style=\"text-align: right;\">  0.117757 </td><td style=\"text-align: right;\"> -0.036293  </td><td style=\"text-align: right;\">  0.0264092 </td><td style=\"text-align: right;\">  0.0604161 </td><td style=\"text-align: right;\"> -0.0721561 </td><td style=\"text-align: right;\"> -0.0946328</td><td style=\"text-align: right;\">  0.160634 </td><td style=\"text-align: right;\"> -0.00114576</td><td style=\"text-align: right;\">  0.141769 </td><td style=\"text-align: right;\"> -0.129025</td><td style=\"text-align: right;\">  0.100367 </td><td style=\"text-align: right;\"> -0.0840943</td><td style=\"text-align: right;\">  0.0402077</td><td style=\"text-align: right;\"> -0.0559667</td><td style=\"text-align: right;\"> -0.113153  </td><td style=\"text-align: right;\">  0.0836762 </td><td style=\"text-align: right;\"> -0.135555 </td><td style=\"text-align: right;\"> -0.138628 </td><td style=\"text-align: right;\">  0.00112147</td><td style=\"text-align: right;\"> -0.0488474 </td><td style=\"text-align: right;\"> -0.101832 </td><td style=\"text-align: right;\">  0.114829 </td><td style=\"text-align: right;\">  0.0568143</td><td style=\"text-align: right;\"> -0.0865689 </td><td style=\"text-align: right;\">  0.136429 </td><td style=\"text-align: right;\">  0.239855</td><td style=\"text-align: right;\">  0.0518003 </td><td style=\"text-align: right;\">  0.0742852  </td><td style=\"text-align: right;\"> -0.136312  </td><td style=\"text-align: right;\">  0.144516</td><td style=\"text-align: right;\"> -0.15045  </td><td style=\"text-align: right;\"> -0.056982 </td><td style=\"text-align: right;\">  0.0574093</td><td style=\"text-align: right;\"> -0.291017</td><td style=\"text-align: right;\"> -0.0363895</td><td style=\"text-align: right;\"> -0.159885</td><td style=\"text-align: right;\"> -0.102678  </td><td style=\"text-align: right;\">  0.0209551</td></tr>\n",
       "<tr><td style=\"text-align: right;\">  0.0812955</td><td style=\"text-align: right;\"> -0.0709689 </td><td style=\"text-align: right;\"> -0.0388971</td><td style=\"text-align: right;\"> -0.0995841 </td><td style=\"text-align: right;\"> -0.0603374</td><td style=\"text-align: right;\">  0.0835295</td><td style=\"text-align: right;\">  0.0548196 </td><td style=\"text-align: right;\">  0.143563  </td><td style=\"text-align: right;\"> -0.0627246</td><td style=\"text-align: right;\">  0.154451</td><td style=\"text-align: right;\">  0.0602685</td><td style=\"text-align: right;\">  0.185892 </td><td style=\"text-align: right;\">  0.035918  </td><td style=\"text-align: right;\">  0.089647 </td><td style=\"text-align: right;\"> -0.109323  </td><td style=\"text-align: right;\">  0.0944573 </td><td style=\"text-align: right;\">  0.0437396 </td><td style=\"text-align: right;\">  0.153403  </td><td style=\"text-align: right;\"> -0.263251</td><td style=\"text-align: right;\">  0.111352 </td><td style=\"text-align: right;\">  0.0679373 </td><td style=\"text-align: right;\"> -0.113539 </td><td style=\"text-align: right;\"> -0.237144 </td><td style=\"text-align: right;\"> -0.0380037</td><td style=\"text-align: right;\">  0.0265317</td><td style=\"text-align: right;\"> -0.129329</td><td style=\"text-align: right;\"> -0.158387  </td><td style=\"text-align: right;\"> -0.0348137</td><td style=\"text-align: right;\"> -0.0487146</td><td style=\"text-align: right;\">  0.254769</td><td style=\"text-align: right;\"> -0.0749231</td><td style=\"text-align: right;\">  0.0132066</td><td style=\"text-align: right;\"> -0.00777056</td><td style=\"text-align: right;\">  0.202565 </td><td style=\"text-align: right;\">  0.12749  </td><td style=\"text-align: right;\">  0.170618 </td><td style=\"text-align: right;\"> -0.0895811</td><td style=\"text-align: right;\"> -0.122643 </td><td style=\"text-align: right;\">  0.0440864 </td><td style=\"text-align: right;\">  0.0921545</td><td style=\"text-align: right;\">  0.0440575</td><td style=\"text-align: right;\"> -0.116522 </td><td style=\"text-align: right;\"> -0.0393057 </td><td style=\"text-align: right;\">  0.202277</td><td style=\"text-align: right;\"> -0.064955 </td><td style=\"text-align: right;\">  0.123747 </td><td style=\"text-align: right;\"> -0.0174428</td><td style=\"text-align: right;\">  0.132207 </td><td style=\"text-align: right;\">  0.0227197</td><td style=\"text-align: right;\"> -0.0538962</td><td style=\"text-align: right;\"> -0.0932836</td><td style=\"text-align: right;\"> -0.0330114</td><td style=\"text-align: right;\">  0.0366671</td><td style=\"text-align: right;\">  0.0473836 </td><td style=\"text-align: right;\"> -0.132691 </td><td style=\"text-align: right;\">  0.0107157</td><td style=\"text-align: right;\"> -0.107009 </td><td style=\"text-align: right;\"> -0.0143845 </td><td style=\"text-align: right;\">  0.00203424</td><td style=\"text-align: right;\"> -0.143531 </td><td style=\"text-align: right;\">  0.045061   </td><td style=\"text-align: right;\">  0.128822  </td><td style=\"text-align: right;\">  0.127746 </td><td style=\"text-align: right;\"> -0.0381338 </td><td style=\"text-align: right;\"> -0.0503353 </td><td style=\"text-align: right;\">  0.0284727 </td><td style=\"text-align: right;\"> -0.0796352 </td><td style=\"text-align: right;\"> -0.0266466</td><td style=\"text-align: right;\">  0.155116 </td><td style=\"text-align: right;\"> -0.0219395 </td><td style=\"text-align: right;\">  0.162879 </td><td style=\"text-align: right;\"> -0.188066</td><td style=\"text-align: right;\">  0.0652247</td><td style=\"text-align: right;\">  0.0403879</td><td style=\"text-align: right;\">  0.0979389</td><td style=\"text-align: right;\"> -0.0328048</td><td style=\"text-align: right;\"> -0.144678  </td><td style=\"text-align: right;\">  0.0447486 </td><td style=\"text-align: right;\"> -0.117331 </td><td style=\"text-align: right;\"> -0.252512 </td><td style=\"text-align: right;\">  0.0354089 </td><td style=\"text-align: right;\">  0.0017461 </td><td style=\"text-align: right;\">  0.0237722</td><td style=\"text-align: right;\">  0.160203 </td><td style=\"text-align: right;\">  0.152276 </td><td style=\"text-align: right;\">  0.0201284 </td><td style=\"text-align: right;\">  0.0591805</td><td style=\"text-align: right;\">  0.201193</td><td style=\"text-align: right;\">  0.0281995 </td><td style=\"text-align: right;\"> -0.000874108</td><td style=\"text-align: right;\"> -0.0934785 </td><td style=\"text-align: right;\">  0.177327</td><td style=\"text-align: right;\"> -0.0991434</td><td style=\"text-align: right;\">  0.0600103</td><td style=\"text-align: right;\"> -0.0742384</td><td style=\"text-align: right;\"> -0.207236</td><td style=\"text-align: right;\"> -0.110349 </td><td style=\"text-align: right;\"> -0.123581</td><td style=\"text-align: right;\"> -0.0865957 </td><td style=\"text-align: right;\">  0.043953 </td></tr>\n",
       "<tr><td style=\"text-align: right;\">nan        </td><td style=\"text-align: right;\">nan         </td><td style=\"text-align: right;\">nan        </td><td style=\"text-align: right;\">nan         </td><td style=\"text-align: right;\">nan        </td><td style=\"text-align: right;\">nan        </td><td style=\"text-align: right;\">nan         </td><td style=\"text-align: right;\">nan         </td><td style=\"text-align: right;\">nan        </td><td style=\"text-align: right;\">nan       </td><td style=\"text-align: right;\">nan        </td><td style=\"text-align: right;\">nan        </td><td style=\"text-align: right;\">nan         </td><td style=\"text-align: right;\">nan        </td><td style=\"text-align: right;\">nan         </td><td style=\"text-align: right;\">nan         </td><td style=\"text-align: right;\">nan         </td><td style=\"text-align: right;\">nan         </td><td style=\"text-align: right;\">nan       </td><td style=\"text-align: right;\">nan        </td><td style=\"text-align: right;\">nan         </td><td style=\"text-align: right;\">nan        </td><td style=\"text-align: right;\">nan        </td><td style=\"text-align: right;\">nan        </td><td style=\"text-align: right;\">nan        </td><td style=\"text-align: right;\">nan       </td><td style=\"text-align: right;\">nan         </td><td style=\"text-align: right;\">nan        </td><td style=\"text-align: right;\">nan        </td><td style=\"text-align: right;\">nan       </td><td style=\"text-align: right;\">nan        </td><td style=\"text-align: right;\">nan        </td><td style=\"text-align: right;\">nan         </td><td style=\"text-align: right;\">nan        </td><td style=\"text-align: right;\">nan        </td><td style=\"text-align: right;\">nan        </td><td style=\"text-align: right;\">nan        </td><td style=\"text-align: right;\">nan        </td><td style=\"text-align: right;\">nan         </td><td style=\"text-align: right;\">nan        </td><td style=\"text-align: right;\">nan        </td><td style=\"text-align: right;\">nan        </td><td style=\"text-align: right;\">nan         </td><td style=\"text-align: right;\">nan       </td><td style=\"text-align: right;\">nan        </td><td style=\"text-align: right;\">nan        </td><td style=\"text-align: right;\">nan        </td><td style=\"text-align: right;\">nan        </td><td style=\"text-align: right;\">nan        </td><td style=\"text-align: right;\">nan        </td><td style=\"text-align: right;\">nan        </td><td style=\"text-align: right;\">nan        </td><td style=\"text-align: right;\">nan        </td><td style=\"text-align: right;\">nan         </td><td style=\"text-align: right;\">nan        </td><td style=\"text-align: right;\">nan        </td><td style=\"text-align: right;\">nan        </td><td style=\"text-align: right;\">nan         </td><td style=\"text-align: right;\">nan         </td><td style=\"text-align: right;\">nan        </td><td style=\"text-align: right;\">nan          </td><td style=\"text-align: right;\">nan         </td><td style=\"text-align: right;\">nan        </td><td style=\"text-align: right;\">nan         </td><td style=\"text-align: right;\">nan         </td><td style=\"text-align: right;\">nan         </td><td style=\"text-align: right;\">nan         </td><td style=\"text-align: right;\">nan        </td><td style=\"text-align: right;\">nan        </td><td style=\"text-align: right;\">nan         </td><td style=\"text-align: right;\">nan        </td><td style=\"text-align: right;\">nan       </td><td style=\"text-align: right;\">nan        </td><td style=\"text-align: right;\">nan        </td><td style=\"text-align: right;\">nan        </td><td style=\"text-align: right;\">nan        </td><td style=\"text-align: right;\">nan         </td><td style=\"text-align: right;\">nan         </td><td style=\"text-align: right;\">nan        </td><td style=\"text-align: right;\">nan        </td><td style=\"text-align: right;\">nan         </td><td style=\"text-align: right;\">nan         </td><td style=\"text-align: right;\">nan        </td><td style=\"text-align: right;\">nan        </td><td style=\"text-align: right;\">nan        </td><td style=\"text-align: right;\">nan         </td><td style=\"text-align: right;\">nan        </td><td style=\"text-align: right;\">nan       </td><td style=\"text-align: right;\">nan         </td><td style=\"text-align: right;\">nan          </td><td style=\"text-align: right;\">nan         </td><td style=\"text-align: right;\">nan       </td><td style=\"text-align: right;\">nan        </td><td style=\"text-align: right;\">nan        </td><td style=\"text-align: right;\">nan        </td><td style=\"text-align: right;\">nan       </td><td style=\"text-align: right;\">nan        </td><td style=\"text-align: right;\">nan       </td><td style=\"text-align: right;\">nan         </td><td style=\"text-align: right;\">nan        </td></tr>\n",
       "</tbody>\n",
       "</table>"
      ]
     },
     "metadata": {},
     "output_type": "display_data"
    },
    {
     "data": {
      "text/plain": []
     },
     "execution_count": 30,
     "metadata": {},
     "output_type": "execute_result"
    }
   ],
   "source": [
    "desc_vecs = w2v_model.transform(words, aggregate_method=\"AVERAGE\")\n",
    "desc_vecs.head()"
   ]
  },
  {
   "cell_type": "markdown",
   "metadata": {},
   "source": [
    "Add the aggregated word embeddings from the Word2Vec model to the loans data"
   ]
  },
  {
   "cell_type": "code",
   "execution_count": 31,
   "metadata": {},
   "outputs": [],
   "source": [
    "loans = loans.cbind(desc_vecs)"
   ]
  },
  {
   "cell_type": "markdown",
   "metadata": {},
   "source": [
    "# Step 5 (of 10). Model training\n",
    "\n",
    "Now that we have cleaned our data and added new columns, we will train a model to predict bad loans. First split our data into train and test."
   ]
  },
  {
   "cell_type": "code",
   "execution_count": 32,
   "metadata": {},
   "outputs": [],
   "source": [
    "train, test = loans.split_frame(seed=25, ratios=[0.75])"
   ]
  },
  {
   "cell_type": "code",
   "execution_count": 33,
   "metadata": {},
   "outputs": [],
   "source": [
    "cols_to_remove = [\"initial_list_status\",\n",
    "                  \"out_prncp\",\n",
    "                  \"out_prncp_inv\",\n",
    "                  \"total_pymnt\",\n",
    "                  \"total_pymnt_inv\",\n",
    "                  \"total_rec_prncp\", \n",
    "                  \"total_rec_int\",\n",
    "                  \"total_rec_late_fee\",\n",
    "                  \"recoveries\",\n",
    "                  \"collection_recovery_fee\",\n",
    "                  \"last_pymnt_d\", \n",
    "                  \"last_pymnt_amnt\",\n",
    "                  \"next_pymnt_d\",\n",
    "                  \"last_credit_pull_d\",\n",
    "                  \"collections_12_mths_ex_med\" , \n",
    "                  \"mths_since_last_major_derog\",\n",
    "                  \"policy_code\",\n",
    "                  \"loan_status\",\n",
    "                  \"funded_amnt\",\n",
    "                  \"funded_amnt_inv\",\n",
    "                  \"mths_since_last_delinq\",\n",
    "                  \"mths_since_last_record\",\n",
    "                  \"id\",\n",
    "                  \"member_id\",\n",
    "                  \"desc\",\n",
    "                  \"zip_code\"]\n",
    "\n",
    "predictors = list(set(loans.col_names) - set(cols_to_remove))"
   ]
  },
  {
   "cell_type": "markdown",
   "metadata": {},
   "source": [
    "Next create a list of predictors as a subset of the columns of the `loans` H2O Frame"
   ]
  },
  {
   "cell_type": "code",
   "execution_count": 34,
   "metadata": {},
   "outputs": [
    {
     "data": {
      "text/plain": [
       "['C31',\n",
       " 'C36',\n",
       " 'emp_length',\n",
       " 'C80',\n",
       " 'C78',\n",
       " 'inq_last_6mths',\n",
       " 'pymnt_plan',\n",
       " 'C53',\n",
       " 'C17',\n",
       " 'C4',\n",
       " 'C72',\n",
       " 'C79',\n",
       " 'C54',\n",
       " 'bad_loan',\n",
       " 'dti',\n",
       " 'C56',\n",
       " 'C24',\n",
       " 'C41',\n",
       " 'sub_grade',\n",
       " 'C55',\n",
       " 'C9',\n",
       " 'C60',\n",
       " 'earliest_cr_line',\n",
       " 'C69',\n",
       " 'C3',\n",
       " 'C75',\n",
       " 'C16',\n",
       " 'C51',\n",
       " 'C64',\n",
       " 'credit_length',\n",
       " 'C57',\n",
       " 'C27',\n",
       " 'revol_bal',\n",
       " 'C49',\n",
       " 'C99',\n",
       " 'addr_state',\n",
       " 'C11',\n",
       " 'C28',\n",
       " 'url',\n",
       " 'C35',\n",
       " 'C76',\n",
       " 'C48',\n",
       " 'C87',\n",
       " 'C73',\n",
       " 'C1',\n",
       " 'C88',\n",
       " 'C33',\n",
       " 'issue_d',\n",
       " 'C58',\n",
       " 'C47',\n",
       " 'term',\n",
       " 'C95',\n",
       " 'C45',\n",
       " 'revol_util',\n",
       " 'C32',\n",
       " 'C19',\n",
       " 'purpose',\n",
       " 'issue_d_year',\n",
       " 'C20',\n",
       " 'C42',\n",
       " 'C23',\n",
       " 'C90',\n",
       " 'C18',\n",
       " 'C71',\n",
       " 'emp_title',\n",
       " 'C30',\n",
       " 'C2',\n",
       " 'C40',\n",
       " 'C6',\n",
       " 'C29',\n",
       " 'C59',\n",
       " 'C93',\n",
       " 'C8',\n",
       " 'C92',\n",
       " 'C34',\n",
       " 'installment',\n",
       " 'C46',\n",
       " 'C7',\n",
       " 'issue_d_month',\n",
       " 'C22',\n",
       " 'C52',\n",
       " 'C25',\n",
       " 'C100',\n",
       " 'C84',\n",
       " 'delinq_2yrs',\n",
       " 'C91',\n",
       " 'C12',\n",
       " 'C65',\n",
       " 'C61',\n",
       " 'C37',\n",
       " 'C81',\n",
       " 'C77',\n",
       " 'C70',\n",
       " 'C74',\n",
       " 'annual_inc',\n",
       " 'verification_status',\n",
       " 'C39',\n",
       " 'C66',\n",
       " 'C85',\n",
       " 'C44',\n",
       " 'C50',\n",
       " 'C15',\n",
       " 'C14',\n",
       " 'C13',\n",
       " 'home_ownership',\n",
       " 'loan_amnt',\n",
       " 'C38',\n",
       " 'grade',\n",
       " 'C62',\n",
       " 'C26',\n",
       " 'C10',\n",
       " 'C67',\n",
       " 'title',\n",
       " 'int_rate',\n",
       " 'C97',\n",
       " 'C94',\n",
       " 'C82',\n",
       " 'C68',\n",
       " 'C43',\n",
       " 'C89',\n",
       " 'C83',\n",
       " 'C86',\n",
       " 'C96',\n",
       " 'C5',\n",
       " 'C98',\n",
       " 'total_acc',\n",
       " 'open_acc',\n",
       " 'pub_rec',\n",
       " 'C63',\n",
       " 'C21']"
      ]
     },
     "execution_count": 34,
     "metadata": {},
     "output_type": "execute_result"
    }
   ],
   "source": [
    "predictors"
   ]
  },
  {
   "cell_type": "markdown",
   "metadata": {},
   "source": [
    "Now create an XGBoost model for predicting loan default. This model is being run with almost all of the values at their defaults. Later we may want to optimize the hyperparameters using a grid search. "
   ]
  },
  {
   "cell_type": "code",
   "execution_count": 35,
   "metadata": {},
   "outputs": [
    {
     "name": "stdout",
     "output_type": "stream",
     "text": [
      "xgboost Model Build progress: |███████████████████████████████████████████| 100%\n"
     ]
    }
   ],
   "source": [
    "from h2o.estimators import H2OXGBoostEstimator\n",
    "\n",
    "param = {\n",
    "      \"ntrees\" : 20\n",
    "    , \"nfolds\" : 5\n",
    "    , \"seed\": 25\n",
    "}\n",
    "xgboost_model = H2OXGBoostEstimator(**param)\n",
    "xgboost_model.train(x = predictors,\n",
    "                    y = \"bad_loan\",\n",
    "                    training_frame=train,\n",
    "                    validation_frame=test)"
   ]
  },
  {
   "cell_type": "markdown",
   "metadata": {},
   "source": [
    "# Step 6 (of 10).  Examine model accuracy\n",
    "\n",
    "The plot below shows the performance of the model as more trees are built.  This graph can help us see at what point our model begins overfitting.  Our test data error rate stops improving at around 8-10 trees."
   ]
  },
  {
   "cell_type": "code",
   "execution_count": 36,
   "metadata": {},
   "outputs": [
    {
     "data": {
      "image/png": "[encoded data removed]",
      "text/plain": [
       "<Figure size 432x288 with 1 Axes>"
      ]
     },
     "metadata": {
      "needs_background": "light"
     },
     "output_type": "display_data"
    }
   ],
   "source": [
    "%matplotlib inline\n",
    "xgboost_model.plot()"
   ]
  },
  {
   "cell_type": "markdown",
   "metadata": {},
   "source": [
    "The ROC curve of the training and testing data are shown below.  The area under the ROC curve is much higher for the training data than the test data, indicating that the model may be beginning to memorize the training data."
   ]
  },
  {
   "cell_type": "code",
   "execution_count": 37,
   "metadata": {},
   "outputs": [
    {
     "name": "stdout",
     "output_type": "stream",
     "text": [
      "Training Data\n"
     ]
    },
    {
     "data": {
      "image/png": "[encoded data removed]",
      "text/plain": [
       "<Figure size 432x288 with 1 Axes>"
      ]
     },
     "metadata": {
      "needs_background": "light"
     },
     "output_type": "display_data"
    },
    {
     "name": "stdout",
     "output_type": "stream",
     "text": [
      "Testing Data\n"
     ]
    },
    {
     "data": {
      "image/png": "[encoded data removed]",
      "text/plain": [
       "<Figure size 432x288 with 1 Axes>"
      ]
     },
     "metadata": {
      "needs_background": "light"
     },
     "output_type": "display_data"
    },
    {
     "name": "stdout",
     "output_type": "stream",
     "text": [
      "X-Val\n"
     ]
    },
    {
     "data": {
      "image/png": "[encoded data removed]",
      "text/plain": [
       "<Figure size 432x288 with 1 Axes>"
      ]
     },
     "metadata": {
      "needs_background": "light"
     },
     "output_type": "display_data"
    }
   ],
   "source": [
    "print(\"Training Data\")\n",
    "xgboost_model.model_performance(train = True).plot()\n",
    "print(\"Testing Data\")\n",
    "xgboost_model.model_performance(valid = True).plot()\n",
    "print(\"X-Val\")\n",
    "xgboost_model.model_performance(xval=True).plot()"
   ]
  },
  {
   "cell_type": "markdown",
   "metadata": {},
   "source": [
    "# Step 7 (of 10). Interpret model"
   ]
  },
  {
   "cell_type": "markdown",
   "metadata": {},
   "source": [
    "The variable importance plot shows us which variables are most important to predicting `bad_loan`.  We can use partial dependency plots to learn more about how these variables affect the prediction."
   ]
  },
  {
   "cell_type": "code",
   "execution_count": 38,
   "metadata": {},
   "outputs": [
    {
     "data": {
      "image/png": "[encoded data removed]",
      "text/plain": [
       "<Figure size 1008x720 with 1 Axes>"
      ]
     },
     "metadata": {
      "needs_background": "light"
     },
     "output_type": "display_data"
    }
   ],
   "source": [
    "xgboost_model.varimp_plot(20)"
   ]
  },
  {
   "cell_type": "markdown",
   "metadata": {},
   "source": [
    "As suspected, interest rate appears to be the most important feature in predicting loan default. The partial dependency plot of the `int_rate` predictor shows us that as the interest rate increases, the likelihood of the loan defaulting also increases."
   ]
  },
  {
   "cell_type": "code",
   "execution_count": 39,
   "metadata": {
    "scrolled": false
   },
   "outputs": [
    {
     "name": "stdout",
     "output_type": "stream",
     "text": [
      "PartialDependencePlot progress: |█████████████████████████████████████████| 100%\n"
     ]
    },
    {
     "data": {
      "image/png": "[encoded data removed]",
      "text/plain": [
       "<Figure size 504x720 with 1 Axes>"
      ]
     },
     "metadata": {
      "needs_background": "light"
     },
     "output_type": "display_data"
    }
   ],
   "source": [
    "pdp = xgboost_model.partial_plot(cols=[\"int_rate\"], data=train)"
   ]
  },
  {
   "cell_type": "markdown",
   "metadata": {},
   "source": [
    "# Step 8 (of 10). Save and reuse model"
   ]
  },
  {
   "cell_type": "markdown",
   "metadata": {},
   "source": [
    "The model can either be embedded into a self-contained Java MOJO package\n",
    "or it can be saved and later loaded directly into an H2O-3 cluster. For production\n",
    "use, we recommend using MOJO as it is optimized for speed. See the [guide](http://docs.h2o.ai/h2o/latest-stable/h2o-docs/productionizing.html) for further information."
   ]
  },
  {
   "cell_type": "markdown",
   "metadata": {},
   "source": [
    "### Downloading MOJO"
   ]
  },
  {
   "cell_type": "code",
   "execution_count": 40,
   "metadata": {},
   "outputs": [
    {
     "data": {
      "text/plain": [
       "'/home/h2o/h2o-3_hands_on/lending_club_loan_default/XGBoost_model_python_1562812581040_6274.zip'"
      ]
     },
     "execution_count": 40,
     "metadata": {},
     "output_type": "execute_result"
    }
   ],
   "source": [
    "xgboost_model.download_mojo()"
   ]
  },
  {
   "cell_type": "markdown",
   "metadata": {},
   "source": [
    "### Save and reuse the model "
   ]
  },
  {
   "cell_type": "markdown",
   "metadata": {},
   "source": [
    "We can save the model to disk for later use."
   ]
  },
  {
   "cell_type": "code",
   "execution_count": 41,
   "metadata": {},
   "outputs": [
    {
     "name": "stdout",
     "output_type": "stream",
     "text": [
      "/home/h2o/h2o-3_hands_on/lending_club_loan_default/XGBoost_model_python_1562812581040_6274\n"
     ]
    }
   ],
   "source": [
    "model_path = h2o.save_model(model=xgboost_model, force=True)\n",
    "print(model_path)"
   ]
  },
  {
   "cell_type": "markdown",
   "metadata": {},
   "source": [
    "At a later date, we can load the model for batch scoring in the H2O cluster."
   ]
  },
  {
   "cell_type": "code",
   "execution_count": 42,
   "metadata": {},
   "outputs": [],
   "source": [
    "loaded_model = h2o.load_model(path=model_path)"
   ]
  },
  {
   "cell_type": "markdown",
   "metadata": {},
   "source": [
    "We can also score new data using the predict function:"
   ]
  },
  {
   "cell_type": "code",
   "execution_count": 43,
   "metadata": {
    "scrolled": true
   },
   "outputs": [
    {
     "name": "stdout",
     "output_type": "stream",
     "text": [
      "xgboost prediction progress: |████████████████████████████████████████████| 100%\n"
     ]
    },
    {
     "data": {
      "text/html": [
       "<table>\n",
       "<thead>\n",
       "<tr><th style=\"text-align: right;\">  predict</th><th style=\"text-align: right;\">      p0</th><th style=\"text-align: right;\">       p1</th></tr>\n",
       "</thead>\n",
       "<tbody>\n",
       "<tr><td style=\"text-align: right;\">        1</td><td style=\"text-align: right;\">0.757506</td><td style=\"text-align: right;\">0.242494 </td></tr>\n",
       "<tr><td style=\"text-align: right;\">        0</td><td style=\"text-align: right;\">0.98109 </td><td style=\"text-align: right;\">0.0189097</td></tr>\n",
       "<tr><td style=\"text-align: right;\">        1</td><td style=\"text-align: right;\">0.727931</td><td style=\"text-align: right;\">0.272069 </td></tr>\n",
       "<tr><td style=\"text-align: right;\">        1</td><td style=\"text-align: right;\">0.808524</td><td style=\"text-align: right;\">0.191476 </td></tr>\n",
       "<tr><td style=\"text-align: right;\">        0</td><td style=\"text-align: right;\">0.922618</td><td style=\"text-align: right;\">0.0773818</td></tr>\n",
       "<tr><td style=\"text-align: right;\">        0</td><td style=\"text-align: right;\">0.959198</td><td style=\"text-align: right;\">0.0408023</td></tr>\n",
       "<tr><td style=\"text-align: right;\">        0</td><td style=\"text-align: right;\">0.954456</td><td style=\"text-align: right;\">0.045544 </td></tr>\n",
       "<tr><td style=\"text-align: right;\">        0</td><td style=\"text-align: right;\">0.936335</td><td style=\"text-align: right;\">0.0636654</td></tr>\n",
       "<tr><td style=\"text-align: right;\">        0</td><td style=\"text-align: right;\">0.966383</td><td style=\"text-align: right;\">0.0336167</td></tr>\n",
       "<tr><td style=\"text-align: right;\">        1</td><td style=\"text-align: right;\">0.763358</td><td style=\"text-align: right;\">0.236642 </td></tr>\n",
       "<tr><td style=\"text-align: right;\">        0</td><td style=\"text-align: right;\">0.947635</td><td style=\"text-align: right;\">0.0523653</td></tr>\n",
       "<tr><td style=\"text-align: right;\">        0</td><td style=\"text-align: right;\">0.884161</td><td style=\"text-align: right;\">0.115839 </td></tr>\n",
       "<tr><td style=\"text-align: right;\">        1</td><td style=\"text-align: right;\">0.413143</td><td style=\"text-align: right;\">0.586857 </td></tr>\n",
       "<tr><td style=\"text-align: right;\">        0</td><td style=\"text-align: right;\">0.856994</td><td style=\"text-align: right;\">0.143006 </td></tr>\n",
       "<tr><td style=\"text-align: right;\">        0</td><td style=\"text-align: right;\">0.937766</td><td style=\"text-align: right;\">0.0622341</td></tr>\n",
       "</tbody>\n",
       "</table>"
      ]
     },
     "metadata": {},
     "output_type": "display_data"
    },
    {
     "data": {
      "text/plain": []
     },
     "execution_count": 43,
     "metadata": {},
     "output_type": "execute_result"
    }
   ],
   "source": [
    "bad_loan_hat = loaded_model.predict(test)\n",
    "bad_loan_hat.head(15)"
   ]
  },
  {
   "cell_type": "markdown",
   "metadata": {},
   "source": [
    "# Step 9 (of 10). AutoML (optional)\n",
    "\n",
    "AutoML can be used for automating the machine learning workflow, which includes automatic training and tuning of many models within a user-specified time-limit or user specified model build limit. \n",
    "\n",
    "Stacked Ensembles will be automatically trained on collections of individual models to produce highly predictive ensemble models."
   ]
  },
  {
   "cell_type": "code",
   "execution_count": 44,
   "metadata": {},
   "outputs": [
    {
     "name": "stdout",
     "output_type": "stream",
     "text": [
      "AutoML progress: |████████████████████████████████████████████████████████| 100%\n"
     ]
    }
   ],
   "source": [
    "from h2o.automl import H2OAutoML\n",
    "\n",
    "aml = H2OAutoML(max_models=5, \n",
    "                max_runtime_secs_per_model=60, \n",
    "                include_algos = [\"GLM\", \"DRF\", \"XGBoost\", \"StackedEnsemble\"],\n",
    "                seed=25)\n",
    "aml.train(x=predictors, y='bad_loan', training_frame=train)"
   ]
  },
  {
   "cell_type": "markdown",
   "metadata": {},
   "source": [
    "While the AutoML job is running, this is a good time to open H2O Flow and monitor the model building process.\n",
    "\n",
    "Once complete, the leaderboard contains the performance metrics of the models generated by AutoML:"
   ]
  },
  {
   "cell_type": "code",
   "execution_count": 45,
   "metadata": {
    "scrolled": false
   },
   "outputs": [
    {
     "data": {
      "text/html": [
       "<table>\n",
       "<thead>\n",
       "<tr><th>model_id                                           </th><th style=\"text-align: right;\">     auc</th><th style=\"text-align: right;\">  logloss</th><th style=\"text-align: right;\">  mean_per_class_error</th><th style=\"text-align: right;\">    rmse</th><th style=\"text-align: right;\">     mse</th></tr>\n",
       "</thead>\n",
       "<tbody>\n",
       "<tr><td>StackedEnsemble_BestOfFamily_AutoML_20190711_063930</td><td style=\"text-align: right;\">0.740529</td><td style=\"text-align: right;\"> 0.394243</td><td style=\"text-align: right;\">              0.330099</td><td style=\"text-align: right;\">0.348539</td><td style=\"text-align: right;\">0.121479</td></tr>\n",
       "<tr><td>StackedEnsemble_AllModels_AutoML_20190711_063930   </td><td style=\"text-align: right;\">0.740112</td><td style=\"text-align: right;\"> 0.393995</td><td style=\"text-align: right;\">              0.334771</td><td style=\"text-align: right;\">0.348438</td><td style=\"text-align: right;\">0.121409</td></tr>\n",
       "<tr><td>GLM_grid_1_AutoML_20190711_063930_model_1          </td><td style=\"text-align: right;\">0.733446</td><td style=\"text-align: right;\"> 0.393915</td><td style=\"text-align: right;\">              0.334977</td><td style=\"text-align: right;\">0.348481</td><td style=\"text-align: right;\">0.121439</td></tr>\n",
       "<tr><td>XGBoost_1_AutoML_20190711_063930                   </td><td style=\"text-align: right;\">0.728453</td><td style=\"text-align: right;\"> 0.417732</td><td style=\"text-align: right;\">              0.33864 </td><td style=\"text-align: right;\">0.356807</td><td style=\"text-align: right;\">0.127311</td></tr>\n",
       "<tr><td>XGBoost_3_AutoML_20190711_063930                   </td><td style=\"text-align: right;\">0.724416</td><td style=\"text-align: right;\"> 0.44028 </td><td style=\"text-align: right;\">              0.336588</td><td style=\"text-align: right;\">0.366381</td><td style=\"text-align: right;\">0.134235</td></tr>\n",
       "<tr><td>XGBoost_2_AutoML_20190711_063930                   </td><td style=\"text-align: right;\">0.723803</td><td style=\"text-align: right;\"> 0.437677</td><td style=\"text-align: right;\">              0.336826</td><td style=\"text-align: right;\">0.36555 </td><td style=\"text-align: right;\">0.133627</td></tr>\n",
       "<tr><td>DRF_1_AutoML_20190711_063930                       </td><td style=\"text-align: right;\">0.708671</td><td style=\"text-align: right;\"> 0.40482 </td><td style=\"text-align: right;\">              0.346649</td><td style=\"text-align: right;\">0.353757</td><td style=\"text-align: right;\">0.125144</td></tr>\n",
       "</tbody>\n",
       "</table>"
      ]
     },
     "metadata": {},
     "output_type": "display_data"
    },
    {
     "data": {
      "text/plain": []
     },
     "execution_count": 45,
     "metadata": {},
     "output_type": "execute_result"
    }
   ],
   "source": [
    "aml.leaderboard"
   ]
  },
  {
   "cell_type": "markdown",
   "metadata": {},
   "source": [
    "Since we provided only the training H2O Frame during training, the models are sorted by their cross-validated performance metrics (AUC by default for classification). We can evaluate the best model (`leader`) on the test data:"
   ]
  },
  {
   "cell_type": "code",
   "execution_count": 46,
   "metadata": {},
   "outputs": [
    {
     "data": {
      "image/png": "[encoded data removed]",
      "text/plain": [
       "<Figure size 432x288 with 1 Axes>"
      ]
     },
     "metadata": {
      "needs_background": "light"
     },
     "output_type": "display_data"
    },
    {
     "name": "stdout",
     "output_type": "stream",
     "text": [
      "\n",
      "ModelMetricsBinomialGLM: stackedensemble\n",
      "** Reported on test data. **\n",
      "\n",
      "MSE: 0.11957987420853115\n",
      "RMSE: 0.34580323047729206\n",
      "LogLoss: 0.39100916487798343\n",
      "Null degrees of freedom: 9681\n",
      "Residual degrees of freedom: 9678\n",
      "Null deviance: 8292.432037983566\n",
      "Residual deviance: 7571.501468697272\n",
      "AIC: 7579.501468697272\n",
      "AUC: 0.7190282166485633\n",
      "pr_auc: 0.31858011098675587\n",
      "Gini: 0.4380564332971266\n",
      "Confusion Matrix (Act/Pred) for max f1 @ threshold = 0.17073496828948442: \n"
     ]
    },
    {
     "data": {
      "text/html": [
       "<div style=\"overflow:auto\"><table style=\"width:50%\"><tr><td><b></b></td>\n",
       "<td><b>0</b></td>\n",
       "<td><b>1</b></td>\n",
       "<td><b>Error</b></td>\n",
       "<td><b>Rate</b></td></tr>\n",
       "<tr><td>0</td>\n",
       "<td>6351.0</td>\n",
       "<td>1849.0</td>\n",
       "<td>0.2255</td>\n",
       "<td> (1849.0/8200.0)</td></tr>\n",
       "<tr><td>1</td>\n",
       "<td>687.0</td>\n",
       "<td>795.0</td>\n",
       "<td>0.4636</td>\n",
       "<td> (687.0/1482.0)</td></tr>\n",
       "<tr><td>Total</td>\n",
       "<td>7038.0</td>\n",
       "<td>2644.0</td>\n",
       "<td>0.2619</td>\n",
       "<td> (2536.0/9682.0)</td></tr></table></div>"
      ],
      "text/plain": [
       "       0     1     Error    Rate\n",
       "-----  ----  ----  -------  ---------------\n",
       "0      6351  1849  0.2255   (1849.0/8200.0)\n",
       "1      687   795   0.4636   (687.0/1482.0)\n",
       "Total  7038  2644  0.2619   (2536.0/9682.0)"
      ]
     },
     "metadata": {},
     "output_type": "display_data"
    },
    {
     "name": "stdout",
     "output_type": "stream",
     "text": [
      "Maximum Metrics: Maximum metrics at their respective thresholds\n",
      "\n"
     ]
    },
    {
     "data": {
      "text/html": [
       "<div style=\"overflow:auto\"><table style=\"width:50%\"><tr><td><b>metric</b></td>\n",
       "<td><b>threshold</b></td>\n",
       "<td><b>value</b></td>\n",
       "<td><b>idx</b></td></tr>\n",
       "<tr><td>max f1</td>\n",
       "<td>0.1707350</td>\n",
       "<td>0.3853611</td>\n",
       "<td>254.0</td></tr>\n",
       "<tr><td>max f2</td>\n",
       "<td>0.0992062</td>\n",
       "<td>0.5279952</td>\n",
       "<td>334.0</td></tr>\n",
       "<tr><td>max f0point5</td>\n",
       "<td>0.2657779</td>\n",
       "<td>0.3526466</td>\n",
       "<td>183.0</td></tr>\n",
       "<tr><td>max accuracy</td>\n",
       "<td>0.6641336</td>\n",
       "<td>0.8483784</td>\n",
       "<td>22.0</td></tr>\n",
       "<tr><td>max precision</td>\n",
       "<td>0.7969163</td>\n",
       "<td>0.75</td>\n",
       "<td>1.0</td></tr>\n",
       "<tr><td>max recall</td>\n",
       "<td>0.0591169</td>\n",
       "<td>1.0</td>\n",
       "<td>395.0</td></tr>\n",
       "<tr><td>max specificity</td>\n",
       "<td>0.8190913</td>\n",
       "<td>0.9998780</td>\n",
       "<td>0.0</td></tr>\n",
       "<tr><td>max absolute_mcc</td>\n",
       "<td>0.1707350</td>\n",
       "<td>0.2512844</td>\n",
       "<td>254.0</td></tr>\n",
       "<tr><td>max min_per_class_accuracy</td>\n",
       "<td>0.1332403</td>\n",
       "<td>0.6530488</td>\n",
       "<td>292.0</td></tr>\n",
       "<tr><td>max mean_per_class_accuracy</td>\n",
       "<td>0.1195953</td>\n",
       "<td>0.6580759</td>\n",
       "<td>307.0</td></tr></table></div>"
      ],
      "text/plain": [
       "metric                       threshold    value     idx\n",
       "---------------------------  -----------  --------  -----\n",
       "max f1                       0.170735     0.385361  254\n",
       "max f2                       0.0992062    0.527995  334\n",
       "max f0point5                 0.265778     0.352647  183\n",
       "max accuracy                 0.664134     0.848378  22\n",
       "max precision                0.796916     0.75      1\n",
       "max recall                   0.0591169    1         395\n",
       "max specificity              0.819091     0.999878  0\n",
       "max absolute_mcc             0.170735     0.251284  254\n",
       "max min_per_class_accuracy   0.13324      0.653049  292\n",
       "max mean_per_class_accuracy  0.119595     0.658076  307"
      ]
     },
     "metadata": {},
     "output_type": "display_data"
    },
    {
     "name": "stdout",
     "output_type": "stream",
     "text": [
      "Gains/Lift Table: Avg response rate: 15.31 %, avg score: 15.83 %\n",
      "\n"
     ]
    },
    {
     "data": {
      "text/html": [
       "<div style=\"overflow:auto\"><table style=\"width:50%\"><tr><td><b></b></td>\n",
       "<td><b>group</b></td>\n",
       "<td><b>cumulative_data_fraction</b></td>\n",
       "<td><b>lower_threshold</b></td>\n",
       "<td><b>lift</b></td>\n",
       "<td><b>cumulative_lift</b></td>\n",
       "<td><b>response_rate</b></td>\n",
       "<td><b>score</b></td>\n",
       "<td><b>cumulative_response_rate</b></td>\n",
       "<td><b>cumulative_score</b></td>\n",
       "<td><b>capture_rate</b></td>\n",
       "<td><b>cumulative_capture_rate</b></td>\n",
       "<td><b>gain</b></td>\n",
       "<td><b>cumulative_gain</b></td></tr>\n",
       "<tr><td></td>\n",
       "<td>1</td>\n",
       "<td>0.0100186</td>\n",
       "<td>0.6186003</td>\n",
       "<td>3.7043143</td>\n",
       "<td>3.7043143</td>\n",
       "<td>0.5670103</td>\n",
       "<td>0.6857173</td>\n",
       "<td>0.5670103</td>\n",
       "<td>0.6857173</td>\n",
       "<td>0.0371120</td>\n",
       "<td>0.0371120</td>\n",
       "<td>270.4314315</td>\n",
       "<td>270.4314315</td></tr>\n",
       "<tr><td></td>\n",
       "<td>2</td>\n",
       "<td>0.0200372</td>\n",
       "<td>0.5492220</td>\n",
       "<td>2.7613979</td>\n",
       "<td>3.2328561</td>\n",
       "<td>0.4226804</td>\n",
       "<td>0.5820001</td>\n",
       "<td>0.4948454</td>\n",
       "<td>0.6338587</td>\n",
       "<td>0.0276653</td>\n",
       "<td>0.0647773</td>\n",
       "<td>176.1397944</td>\n",
       "<td>223.2856129</td></tr>\n",
       "<tr><td></td>\n",
       "<td>3</td>\n",
       "<td>0.0300558</td>\n",
       "<td>0.4965515</td>\n",
       "<td>2.7613979</td>\n",
       "<td>3.0757034</td>\n",
       "<td>0.4226804</td>\n",
       "<td>0.5209976</td>\n",
       "<td>0.4707904</td>\n",
       "<td>0.5962383</td>\n",
       "<td>0.0276653</td>\n",
       "<td>0.0924426</td>\n",
       "<td>176.1397944</td>\n",
       "<td>207.5703401</td></tr>\n",
       "<tr><td></td>\n",
       "<td>4</td>\n",
       "<td>0.0400744</td>\n",
       "<td>0.4589289</td>\n",
       "<td>2.3572909</td>\n",
       "<td>2.8961003</td>\n",
       "<td>0.3608247</td>\n",
       "<td>0.4776276</td>\n",
       "<td>0.4432990</td>\n",
       "<td>0.5665856</td>\n",
       "<td>0.0236167</td>\n",
       "<td>0.1160594</td>\n",
       "<td>135.7290928</td>\n",
       "<td>189.6100282</td></tr>\n",
       "<tr><td></td>\n",
       "<td>5</td>\n",
       "<td>0.0500930</td>\n",
       "<td>0.4305295</td>\n",
       "<td>2.4246421</td>\n",
       "<td>2.8018086</td>\n",
       "<td>0.3711340</td>\n",
       "<td>0.4445268</td>\n",
       "<td>0.4288660</td>\n",
       "<td>0.5421739</td>\n",
       "<td>0.0242915</td>\n",
       "<td>0.1403509</td>\n",
       "<td>142.4642097</td>\n",
       "<td>180.1808645</td></tr>\n",
       "<tr><td></td>\n",
       "<td>6</td>\n",
       "<td>0.1000826</td>\n",
       "<td>0.3258105</td>\n",
       "<td>2.1866865</td>\n",
       "<td>2.4945650</td>\n",
       "<td>0.3347107</td>\n",
       "<td>0.3751560</td>\n",
       "<td>0.3818369</td>\n",
       "<td>0.4587511</td>\n",
       "<td>0.1093117</td>\n",
       "<td>0.2496626</td>\n",
       "<td>118.6686519</td>\n",
       "<td>149.4564983</td></tr>\n",
       "<tr><td></td>\n",
       "<td>7</td>\n",
       "<td>0.1500723</td>\n",
       "<td>0.2566091</td>\n",
       "<td>1.8897291</td>\n",
       "<td>2.2930918</td>\n",
       "<td>0.2892562</td>\n",
       "<td>0.2882388</td>\n",
       "<td>0.3509979</td>\n",
       "<td>0.4019528</td>\n",
       "<td>0.0944669</td>\n",
       "<td>0.3441296</td>\n",
       "<td>88.9729091</td>\n",
       "<td>129.3091774</td></tr>\n",
       "<tr><td></td>\n",
       "<td>8</td>\n",
       "<td>0.2000620</td>\n",
       "<td>0.2118105</td>\n",
       "<td>1.6332659</td>\n",
       "<td>2.1282205</td>\n",
       "<td>0.25</td>\n",
       "<td>0.2332703</td>\n",
       "<td>0.3257615</td>\n",
       "<td>0.3598039</td>\n",
       "<td>0.0816464</td>\n",
       "<td>0.4257760</td>\n",
       "<td>63.3265857</td>\n",
       "<td>112.8220456</td></tr>\n",
       "<tr><td></td>\n",
       "<td>9</td>\n",
       "<td>0.3000413</td>\n",
       "<td>0.1586565</td>\n",
       "<td>1.3565555</td>\n",
       "<td>1.8710874</td>\n",
       "<td>0.2076446</td>\n",
       "<td>0.1819385</td>\n",
       "<td>0.2864028</td>\n",
       "<td>0.3005359</td>\n",
       "<td>0.1356275</td>\n",
       "<td>0.5614035</td>\n",
       "<td>35.6555526</td>\n",
       "<td>87.1087357</td></tr>\n",
       "<tr><td></td>\n",
       "<td>10</td>\n",
       "<td>0.4000207</td>\n",
       "<td>0.1313002</td>\n",
       "<td>0.9921078</td>\n",
       "<td>1.6513992</td>\n",
       "<td>0.1518595</td>\n",
       "<td>0.1437256</td>\n",
       "<td>0.2527756</td>\n",
       "<td>0.2613434</td>\n",
       "<td>0.0991903</td>\n",
       "<td>0.6605938</td>\n",
       "<td>-0.7892227</td>\n",
       "<td>65.1399199</td></tr>\n",
       "<tr><td></td>\n",
       "<td>11</td>\n",
       "<td>0.5</td>\n",
       "<td>0.1121076</td>\n",
       "<td>1.0123549</td>\n",
       "<td>1.5236167</td>\n",
       "<td>0.1549587</td>\n",
       "<td>0.1208540</td>\n",
       "<td>0.2332163</td>\n",
       "<td>0.2332513</td>\n",
       "<td>0.1012146</td>\n",
       "<td>0.7618084</td>\n",
       "<td>1.2354870</td>\n",
       "<td>52.3616734</td></tr>\n",
       "<tr><td></td>\n",
       "<td>12</td>\n",
       "<td>0.5999793</td>\n",
       "<td>0.0990170</td>\n",
       "<td>0.7491426</td>\n",
       "<td>1.3945599</td>\n",
       "<td>0.1146694</td>\n",
       "<td>0.1052597</td>\n",
       "<td>0.2134619</td>\n",
       "<td>0.2119231</td>\n",
       "<td>0.0748988</td>\n",
       "<td>0.8367072</td>\n",
       "<td>-25.0857396</td>\n",
       "<td>39.4559933</td></tr>\n",
       "<tr><td></td>\n",
       "<td>13</td>\n",
       "<td>0.6999587</td>\n",
       "<td>0.0878540</td>\n",
       "<td>0.6209110</td>\n",
       "<td>1.2840550</td>\n",
       "<td>0.0950413</td>\n",
       "<td>0.0932384</td>\n",
       "<td>0.1965471</td>\n",
       "<td>0.1949706</td>\n",
       "<td>0.0620783</td>\n",
       "<td>0.8987854</td>\n",
       "<td>-37.9089013</td>\n",
       "<td>28.4054963</td></tr>\n",
       "<tr><td></td>\n",
       "<td>14</td>\n",
       "<td>0.7999380</td>\n",
       "<td>0.0775099</td>\n",
       "<td>0.5399226</td>\n",
       "<td>1.1910504</td>\n",
       "<td>0.0826446</td>\n",
       "<td>0.0827724</td>\n",
       "<td>0.1823112</td>\n",
       "<td>0.1809476</td>\n",
       "<td>0.0539811</td>\n",
       "<td>0.9527665</td>\n",
       "<td>-46.0077403</td>\n",
       "<td>19.1050427</td></tr>\n",
       "<tr><td></td>\n",
       "<td>15</td>\n",
       "<td>0.8999174</td>\n",
       "<td>0.0679588</td>\n",
       "<td>0.3037065</td>\n",
       "<td>1.0924680</td>\n",
       "<td>0.0464876</td>\n",
       "<td>0.0727166</td>\n",
       "<td>0.1672214</td>\n",
       "<td>0.1689234</td>\n",
       "<td>0.0303644</td>\n",
       "<td>0.9831309</td>\n",
       "<td>-69.6293539</td>\n",
       "<td>9.2467969</td></tr>\n",
       "<tr><td></td>\n",
       "<td>16</td>\n",
       "<td>1.0</td>\n",
       "<td>0.0541914</td>\n",
       "<td>0.1685517</td>\n",
       "<td>1.0</td>\n",
       "<td>0.0257998</td>\n",
       "<td>0.0628846</td>\n",
       "<td>0.1530675</td>\n",
       "<td>0.1583107</td>\n",
       "<td>0.0168691</td>\n",
       "<td>1.0</td>\n",
       "<td>-83.1448312</td>\n",
       "<td>0.0</td></tr></table></div>"
      ],
      "text/plain": [
       "    group    cumulative_data_fraction    lower_threshold    lift      cumulative_lift    response_rate    score      cumulative_response_rate    cumulative_score    capture_rate    cumulative_capture_rate    gain       cumulative_gain\n",
       "--  -------  --------------------------  -----------------  --------  -----------------  ---------------  ---------  --------------------------  ------------------  --------------  -------------------------  ---------  -----------------\n",
       "    1        0.0100186                   0.6186             3.70431   3.70431            0.56701          0.685717   0.56701                     0.685717            0.037112        0.037112                   270.431    270.431\n",
       "    2        0.0200372                   0.549222           2.7614    3.23286            0.42268          0.582      0.494845                    0.633859            0.0276653       0.0647773                  176.14     223.286\n",
       "    3        0.0300558                   0.496552           2.7614    3.0757             0.42268          0.520998   0.47079                     0.596238            0.0276653       0.0924426                  176.14     207.57\n",
       "    4        0.0400744                   0.458929           2.35729   2.8961             0.360825         0.477628   0.443299                    0.566586            0.0236167       0.116059                   135.729    189.61\n",
       "    5        0.050093                    0.43053            2.42464   2.80181            0.371134         0.444527   0.428866                    0.542174            0.0242915       0.140351                   142.464    180.181\n",
       "    6        0.100083                    0.32581            2.18669   2.49456            0.334711         0.375156   0.381837                    0.458751            0.109312        0.249663                   118.669    149.456\n",
       "    7        0.150072                    0.256609           1.88973   2.29309            0.289256         0.288239   0.350998                    0.401953            0.0944669       0.34413                    88.9729    129.309\n",
       "    8        0.200062                    0.21181            1.63327   2.12822            0.25             0.23327    0.325761                    0.359804            0.0816464       0.425776                   63.3266    112.822\n",
       "    9        0.300041                    0.158656           1.35656   1.87109            0.207645         0.181938   0.286403                    0.300536            0.135628        0.561404                   35.6556    87.1087\n",
       "    10       0.400021                    0.1313             0.992108  1.6514             0.15186          0.143726   0.252776                    0.261343            0.0991903       0.660594                   -0.789223  65.1399\n",
       "    11       0.5                         0.112108           1.01235   1.52362            0.154959         0.120854   0.233216                    0.233251            0.101215        0.761808                   1.23549    52.3617\n",
       "    12       0.599979                    0.099017           0.749143  1.39456            0.114669         0.10526    0.213462                    0.211923            0.0748988       0.836707                   -25.0857   39.456\n",
       "    13       0.699959                    0.087854           0.620911  1.28405            0.0950413        0.0932384  0.196547                    0.194971            0.0620783       0.898785                   -37.9089   28.4055\n",
       "    14       0.799938                    0.0775099          0.539923  1.19105            0.0826446        0.0827724  0.182311                    0.180948            0.0539811       0.952767                   -46.0077   19.105\n",
       "    15       0.899917                    0.0679588          0.303706  1.09247            0.0464876        0.0727166  0.167221                    0.168923            0.0303644       0.983131                   -69.6294   9.2468\n",
       "    16       1                           0.0541914          0.168552  1                  0.0257998        0.0628846  0.153068                    0.158311            0.0168691       1                          -83.1448   0"
      ]
     },
     "metadata": {},
     "output_type": "display_data"
    },
    {
     "name": "stdout",
     "output_type": "stream",
     "text": [
      "\n"
     ]
    },
    {
     "data": {
      "text/plain": []
     },
     "execution_count": 46,
     "metadata": {},
     "output_type": "execute_result"
    }
   ],
   "source": [
    "aml.leader.model_performance(test_data=test).plot()\n",
    "aml.leader.model_performance(test_data=test)"
   ]
  },
  {
   "cell_type": "markdown",
   "metadata": {},
   "source": [
    "Another convenient use of H2O Flow is to explore the various models built by AutoML."
   ]
  },
  {
   "cell_type": "markdown",
   "metadata": {},
   "source": [
    "# Step 10 (of 10). Stop H2O-3 cluster"
   ]
  },
  {
   "cell_type": "code",
   "execution_count": 47,
   "metadata": {},
   "outputs": [
    {
     "name": "stdout",
     "output_type": "stream",
     "text": [
      "H2O session _sid_ae8d closed.\n"
     ]
    }
   ],
   "source": [
    "h2o.cluster().shutdown()"
   ]
  },
  {
   "cell_type": "markdown",
   "metadata": {},
   "source": [
    "# Bonus: H2O-3 documentation\n",
    "\n",
    "* http://docs.h2o.ai"
   ]
  }
 ],
 "metadata": {
  "kernelspec": {
   "display_name": "Python 3",
   "language": "python",
   "name": "python3"
  },
  "language_info": {
   "codemirror_mode": {
    "name": "ipython",
    "version": 3
   },
   "file_extension": ".py",
   "mimetype": "text/x-python",
   "name": "python",
   "nbconvert_exporter": "python",
   "pygments_lexer": "ipython3",
   "version": "3.6.8"
  }
 },
 "nbformat": 4,
 "nbformat_minor": 2
}
