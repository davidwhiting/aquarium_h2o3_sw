{
 "cells": [
  {
   "cell_type": "markdown",
   "metadata": {},
   "source": [
    "# *Lending Club Loan Default*\n",
    "\n",
    "In this tutorial, we will go through a step-by-step workflow to determine loan deliquency. We will make predictions based only on the information available at the time the loan was issued.  The data for this exercise come from the public Lending Club data set, a description can be found [here](https://www.kaggle.com/pragyanbo/a-hitchhiker-s-guide-to-lending-club-loan-data/notebook)."
   ]
  },
  {
   "cell_type": "markdown",
   "metadata": {},
   "source": [
    "## Workflow\n",
    "\n",
    "1. Start H2O-3 cluster\n",
    "2. Import data\n",
    "3. Clean data\n",
    "4. Feature engineering\n",
    "5. Model training\n",
    "6. Examine model accuracy\n",
    "7. Interpret model\n",
    "8. Save and reuse model\n",
    "9. AutoML (optional)\n",
    "10. Stop H2O-3 cluster"
   ]
  },
  {
   "cell_type": "markdown",
   "metadata": {},
   "source": [
    "# Step 1 (of 10). Start H2O-3 cluster"
   ]
  },
  {
   "cell_type": "code",
   "execution_count": 1,
   "metadata": {},
   "outputs": [
    {
     "name": "stdout",
     "output_type": "stream",
     "text": [
      "Checking whether there is an H2O instance running at http://localhost:54321 ..... not found.\n",
      "Attempting to start a local H2O server...\n",
      "  Java Version: openjdk version \"1.8.0_212\"; OpenJDK Runtime Environment (build 1.8.0_212-8u212-b03-0ubuntu1.18.04.1-b03); OpenJDK 64-Bit Server VM (build 25.212-b03, mixed mode)\n",
      "  Starting server from /home/h2o/bin/miniconda3/envs/h2o/lib/python3.6/site-packages/h2o/backend/bin/h2o.jar\n",
      "  Ice root: /tmp/tmpvrwn1j97\n",
      "  JVM stdout: /tmp/tmpvrwn1j97/h2o_unknownUser_started_from_python.out\n",
      "  JVM stderr: /tmp/tmpvrwn1j97/h2o_unknownUser_started_from_python.err\n",
      "  Server is running at http://127.0.0.1:54321\n",
      "Connecting to H2O server at http://127.0.0.1:54321 ... successful.\n"
     ]
    },
    {
     "data": {
      "text/html": [
       "<div style=\"overflow:auto\"><table style=\"width:50%\"><tr><td>H2O cluster uptime:</td>\n",
       "<td>01 secs</td></tr>\n",
       "<tr><td>H2O cluster timezone:</td>\n",
       "<td>Etc/UTC</td></tr>\n",
       "<tr><td>H2O data parsing timezone:</td>\n",
       "<td>UTC</td></tr>\n",
       "<tr><td>H2O cluster version:</td>\n",
       "<td>3.24.0.5</td></tr>\n",
       "<tr><td>H2O cluster version age:</td>\n",
       "<td>1 month and 5 days </td></tr>\n",
       "<tr><td>H2O cluster name:</td>\n",
       "<td>H2O_from_python_unknownUser_lzk13o</td></tr>\n",
       "<tr><td>H2O cluster total nodes:</td>\n",
       "<td>1</td></tr>\n",
       "<tr><td>H2O cluster free memory:</td>\n",
       "<td>13.98 Gb</td></tr>\n",
       "<tr><td>H2O cluster total cores:</td>\n",
       "<td>16</td></tr>\n",
       "<tr><td>H2O cluster allowed cores:</td>\n",
       "<td>16</td></tr>\n",
       "<tr><td>H2O cluster status:</td>\n",
       "<td>accepting new members, healthy</td></tr>\n",
       "<tr><td>H2O connection url:</td>\n",
       "<td>http://127.0.0.1:54321</td></tr>\n",
       "<tr><td>H2O connection proxy:</td>\n",
       "<td>None</td></tr>\n",
       "<tr><td>H2O internal security:</td>\n",
       "<td>False</td></tr>\n",
       "<tr><td>H2O API Extensions:</td>\n",
       "<td>Amazon S3, XGBoost, Algos, AutoML, Core V3, Core V4</td></tr>\n",
       "<tr><td>Python version:</td>\n",
       "<td>3.6.8 final</td></tr></table></div>"
      ],
      "text/plain": [
       "--------------------------  ---------------------------------------------------\n",
       "H2O cluster uptime:         01 secs\n",
       "H2O cluster timezone:       Etc/UTC\n",
       "H2O data parsing timezone:  UTC\n",
       "H2O cluster version:        3.24.0.5\n",
       "H2O cluster version age:    1 month and 5 days\n",
       "H2O cluster name:           H2O_from_python_unknownUser_lzk13o\n",
       "H2O cluster total nodes:    1\n",
       "H2O cluster free memory:    13.98 Gb\n",
       "H2O cluster total cores:    16\n",
       "H2O cluster allowed cores:  16\n",
       "H2O cluster status:         accepting new members, healthy\n",
       "H2O connection url:         http://127.0.0.1:54321\n",
       "H2O connection proxy:\n",
       "H2O internal security:      False\n",
       "H2O API Extensions:         Amazon S3, XGBoost, Algos, AutoML, Core V3, Core V4\n",
       "Python version:             3.6.8 final\n",
       "--------------------------  ---------------------------------------------------"
      ]
     },
     "metadata": {},
     "output_type": "display_data"
    }
   ],
   "source": [
    "import h2o\n",
    "h2o.init(bind_to_localhost=False)  # run and expose the cluster to the Internet"
   ]
  },
  {
   "cell_type": "markdown",
   "metadata": {},
   "source": [
    "Note: The method you use for starting and stopping an H2O-3 cluster will depend on how H2O is installed and configured on your system. Regardless of how H2O is installed, if you start a cluster you need to shut it down when your work is done."
   ]
  },
  {
   "cell_type": "markdown",
   "metadata": {},
   "source": [
    "# Step 2 (of 10). Import data\n",
    "\n",
    "The data set we use below is a local copy of https://s3-us-west-2.amazonaws.com/h2o-tutorials/data/topics/lending/lending_club/LoanStats3a.csv.\n",
    "\n",
    "### View and Inspect the Data\n",
    "\n",
    "The loans data set is loaded directly into H2O using the following command:"
   ]
  },
  {
   "cell_type": "code",
   "execution_count": 2,
   "metadata": {},
   "outputs": [
    {
     "name": "stdout",
     "output_type": "stream",
     "text": [
      "Parse progress: |█████████████████████████████████████████████████████████| 100%\n"
     ]
    }
   ],
   "source": [
    "loans = h2o.import_file(\"../../data/lending_club/LoanStats3a.csv\",\n",
    "                        col_types = {\"int_rate\":\"string\", \n",
    "                                     \"revol_util\":\"string\", \n",
    "                                     \"emp_length\":\"string\", \n",
    "                                     \"verification_status\":\"string\"})"
   ]
  },
  {
   "cell_type": "markdown",
   "metadata": {},
   "source": [
    "The `h2o.import_file` command loaded the data directly into H2O memory, bypassing python. Alternatively, one could load a data set into a python object, then pass it to H2O. The `h2o.import_file` approach is far more efficient, especially for larger data sets.\n",
    "\n",
    "### Inspect the Data with H2O Flow\n",
    "\n",
    "Now is a good time to connect to H2O Flow. Although H2O Flow can be used for everything from loading data to building models to creating production code, we use it here for data investigation and H2O system monitoring.\n",
    "\n",
    "> Note: the reported IP above \n",
    ">\n",
    ">```\n",
    "Connecting to H2O server at http://127.0.0.1:54321 ... successful.\n",
    ">```\n",
    ">\n",
    "> is the local IP within your particular cloud instance. \n",
    ">\n",
    "> **To open H2O Flow in your own browser, copy your browser URL and replace the port with 54321.**\n",
    ">\n",
    ">> For example, my Jupyter notebook's URL is \n",
    ">>\n",
    ">>`http://52.202.98.125:8888`\n",
    ">>\n",
    ">> After opening a new browser tab or window, I copy the address and replace port `8888` with `54321`:\n",
    ">>\n",
    ">>`http://52.202.98.125:54321`\n",
    "\n",
    "Some summary information on the data is provided below:"
   ]
  },
  {
   "cell_type": "code",
   "execution_count": 3,
   "metadata": {},
   "outputs": [
    {
     "data": {
      "text/plain": [
       "[42536, 52]"
      ]
     },
     "execution_count": 3,
     "metadata": {},
     "output_type": "execute_result"
    }
   ],
   "source": [
    "loans.dim"
   ]
  },
  {
   "cell_type": "code",
   "execution_count": 4,
   "metadata": {},
   "outputs": [
    {
     "data": {
      "text/html": [
       "<table>\n",
       "<thead>\n",
       "<tr><th style=\"text-align: right;\">         id</th><th style=\"text-align: right;\">  member_id</th><th style=\"text-align: right;\">  loan_amnt</th><th style=\"text-align: right;\">  funded_amnt</th><th style=\"text-align: right;\">  funded_amnt_inv</th><th>term     </th><th>int_rate  </th><th style=\"text-align: right;\">  installment</th><th>grade  </th><th>sub_grade  </th><th>emp_title                </th><th>emp_length  </th><th>home_ownership  </th><th style=\"text-align: right;\">  annual_inc</th><th>verification_status     </th><th>issue_d            </th><th>loan_status  </th><th>pymnt_plan  </th><th>url                                                                 </th><th>desc                                                                                                                                                                                                                                                                                                                                                                                                                                                                                                                                                                                                        </th><th>purpose           </th><th>title                                </th><th>zip_code  </th><th>addr_state  </th><th style=\"text-align: right;\">  dti</th><th style=\"text-align: right;\">  delinq_2yrs</th><th>earliest_cr_line   </th><th style=\"text-align: right;\">  inq_last_6mths</th><th>mths_since_last_delinq  </th><th>mths_since_last_record  </th><th style=\"text-align: right;\">  open_acc</th><th style=\"text-align: right;\">  pub_rec</th><th style=\"text-align: right;\">  revol_bal</th><th>revol_util  </th><th style=\"text-align: right;\">  total_acc</th><th>initial_list_status  </th><th style=\"text-align: right;\">  out_prncp</th><th style=\"text-align: right;\">  out_prncp_inv</th><th style=\"text-align: right;\">  total_pymnt</th><th style=\"text-align: right;\">  total_pymnt_inv</th><th style=\"text-align: right;\">  total_rec_prncp</th><th style=\"text-align: right;\">  total_rec_int</th><th style=\"text-align: right;\">  total_rec_late_fee</th><th style=\"text-align: right;\">  recoveries</th><th style=\"text-align: right;\">  collection_recovery_fee</th><th>last_pymnt_d       </th><th style=\"text-align: right;\">  last_pymnt_amnt</th><th>next_pymnt_d       </th><th>last_credit_pull_d  </th><th style=\"text-align: right;\">  collections_12_mths_ex_med</th><th>mths_since_last_major_derog  </th><th style=\"text-align: right;\">  policy_code</th></tr>\n",
       "</thead>\n",
       "<tbody>\n",
       "<tr><td style=\"text-align: right;\">1.0775e+06 </td><td style=\"text-align: right;\">1.2966e+06 </td><td style=\"text-align: right;\">       5000</td><td style=\"text-align: right;\">         5000</td><td style=\"text-align: right;\">             4975</td><td>36 months</td><td>10.65%    </td><td style=\"text-align: right;\">       162.87</td><td>B      </td><td>B2         </td><td>                         </td><td>10+ years   </td><td>RENT            </td><td style=\"text-align: right;\">       24000</td><td>VERIFIED - income       </td><td>2011-12-01 00:00:00</td><td>Fully Paid   </td><td>n           </td><td>https://www.lendingclub.com/browse/loanDetail.action?loan_id=1077501</td><td>Borrower added on 12/22/11 > I need to upgrade my business technologies.<br>                                                                                                                                                                                                                                                                                                                                                                                                                                                                                                                                </td><td>credit_card       </td><td>Computer                             </td><td>860xx     </td><td>AZ          </td><td style=\"text-align: right;\">27.65</td><td style=\"text-align: right;\">            0</td><td>1985-01-01 00:00:00</td><td style=\"text-align: right;\">               1</td><td>                        </td><td>                        </td><td style=\"text-align: right;\">         3</td><td style=\"text-align: right;\">        0</td><td style=\"text-align: right;\">      13648</td><td>83.7%       </td><td style=\"text-align: right;\">          9</td><td>f                    </td><td style=\"text-align: right;\">       0   </td><td style=\"text-align: right;\">           0   </td><td style=\"text-align: right;\">      5861.07</td><td style=\"text-align: right;\">          5831.78</td><td style=\"text-align: right;\">          5000   </td><td style=\"text-align: right;\">         861.07</td><td style=\"text-align: right;\">                0   </td><td style=\"text-align: right;\">        0   </td><td style=\"text-align: right;\">                     0   </td><td>2015-01-01 00:00:00</td><td style=\"text-align: right;\">           171.62</td><td>                   </td><td>2015-01-01 00:00:00 </td><td style=\"text-align: right;\">                           0</td><td>                             </td><td style=\"text-align: right;\">            1</td></tr>\n",
       "<tr><td style=\"text-align: right;\">1.07743e+06</td><td style=\"text-align: right;\">1.31417e+06</td><td style=\"text-align: right;\">       2500</td><td style=\"text-align: right;\">         2500</td><td style=\"text-align: right;\">             2500</td><td>60 months</td><td>15.27%    </td><td style=\"text-align: right;\">        59.83</td><td>C      </td><td>C4         </td><td>Ryder                    </td><td>< 1 year    </td><td>RENT            </td><td style=\"text-align: right;\">       30000</td><td>VERIFIED - income source</td><td>2011-12-01 00:00:00</td><td>Charged Off  </td><td>n           </td><td>https://www.lendingclub.com/browse/loanDetail.action?loan_id=1077430</td><td>Borrower added on 12/22/11 > I plan to use this money to finance the motorcycle i am looking at. I plan to have it paid off as soon as possible/when i sell my old bike. I only need this money because the deal im looking at is to good to pass up.<br><br>  Borrower added on 12/22/11 > I plan to use this money to finance the motorcycle i am looking at. I plan to have it paid off as soon as possible/when i sell my old bike.I only need this money because the deal im looking at is to good to pass up. I have finished college with an associates degree in business and its takingmeplaces<br></td><td>car               </td><td>bike                                 </td><td>309xx     </td><td>GA          </td><td style=\"text-align: right;\"> 1   </td><td style=\"text-align: right;\">            0</td><td>1999-04-01 00:00:00</td><td style=\"text-align: right;\">               5</td><td>                        </td><td>                        </td><td style=\"text-align: right;\">         3</td><td style=\"text-align: right;\">        0</td><td style=\"text-align: right;\">       1687</td><td>9.4%        </td><td style=\"text-align: right;\">          4</td><td>f                    </td><td style=\"text-align: right;\">       0   </td><td style=\"text-align: right;\">           0   </td><td style=\"text-align: right;\">      1008.71</td><td style=\"text-align: right;\">          1008.71</td><td style=\"text-align: right;\">           456.46</td><td style=\"text-align: right;\">         435.17</td><td style=\"text-align: right;\">                0   </td><td style=\"text-align: right;\">      117.08</td><td style=\"text-align: right;\">                     1.11</td><td>2013-04-01 00:00:00</td><td style=\"text-align: right;\">           119.66</td><td>                   </td><td>2013-09-01 00:00:00 </td><td style=\"text-align: right;\">                           0</td><td>                             </td><td style=\"text-align: right;\">            1</td></tr>\n",
       "<tr><td style=\"text-align: right;\">1.07718e+06</td><td style=\"text-align: right;\">1.31352e+06</td><td style=\"text-align: right;\">       2400</td><td style=\"text-align: right;\">         2400</td><td style=\"text-align: right;\">             2400</td><td>36 months</td><td>15.96%    </td><td style=\"text-align: right;\">        84.33</td><td>C      </td><td>C5         </td><td>                         </td><td>10+ years   </td><td>RENT            </td><td style=\"text-align: right;\">       12252</td><td>not verified            </td><td>2011-12-01 00:00:00</td><td>Fully Paid   </td><td>n           </td><td>https://www.lendingclub.com/browse/loanDetail.action?loan_id=1077175</td><td>                                                                                                                                                                                                                                                                                                                                                                                                                                                                                                                                                                                                            </td><td>small_business    </td><td>real estate business                 </td><td>606xx     </td><td>IL          </td><td style=\"text-align: right;\"> 8.72</td><td style=\"text-align: right;\">            0</td><td>2001-11-01 00:00:00</td><td style=\"text-align: right;\">               2</td><td>                        </td><td>                        </td><td style=\"text-align: right;\">         2</td><td style=\"text-align: right;\">        0</td><td style=\"text-align: right;\">       2956</td><td>98.5%       </td><td style=\"text-align: right;\">         10</td><td>f                    </td><td style=\"text-align: right;\">       0   </td><td style=\"text-align: right;\">           0   </td><td style=\"text-align: right;\">      3003.65</td><td style=\"text-align: right;\">          3003.65</td><td style=\"text-align: right;\">          2400   </td><td style=\"text-align: right;\">         603.65</td><td style=\"text-align: right;\">                0   </td><td style=\"text-align: right;\">        0   </td><td style=\"text-align: right;\">                     0   </td><td>2014-06-01 00:00:00</td><td style=\"text-align: right;\">           649.91</td><td>                   </td><td>2015-06-01 00:00:00 </td><td style=\"text-align: right;\">                           0</td><td>                             </td><td style=\"text-align: right;\">            1</td></tr>\n",
       "<tr><td style=\"text-align: right;\">1.07686e+06</td><td style=\"text-align: right;\">1.27718e+06</td><td style=\"text-align: right;\">      10000</td><td style=\"text-align: right;\">        10000</td><td style=\"text-align: right;\">            10000</td><td>36 months</td><td>13.49%    </td><td style=\"text-align: right;\">       339.31</td><td>C      </td><td>C1         </td><td>AIR RESOURCES BOARD      </td><td>10+ years   </td><td>RENT            </td><td style=\"text-align: right;\">       49200</td><td>VERIFIED - income source</td><td>2011-12-01 00:00:00</td><td>Fully Paid   </td><td>n           </td><td>https://www.lendingclub.com/browse/loanDetail.action?loan_id=1076863</td><td>Borrower added on 12/21/11 > to pay for property tax (borrow from friend, need to pay back) & central A/C need to be replace. I'm very sorry to let my loan expired last time.<br>                                                                                                                                                                                                                                                                                                                                                                                                                          </td><td>other             </td><td>personel                             </td><td>917xx     </td><td>CA          </td><td style=\"text-align: right;\">20   </td><td style=\"text-align: right;\">            0</td><td>1996-02-01 00:00:00</td><td style=\"text-align: right;\">               1</td><td>35                      </td><td>                        </td><td style=\"text-align: right;\">        10</td><td style=\"text-align: right;\">        0</td><td style=\"text-align: right;\">       5598</td><td>21%         </td><td style=\"text-align: right;\">         37</td><td>f                    </td><td style=\"text-align: right;\">       0   </td><td style=\"text-align: right;\">           0   </td><td style=\"text-align: right;\">     12226.3 </td><td style=\"text-align: right;\">         12226.3 </td><td style=\"text-align: right;\">         10000   </td><td style=\"text-align: right;\">        2209.33</td><td style=\"text-align: right;\">               16.97</td><td style=\"text-align: right;\">        0   </td><td style=\"text-align: right;\">                     0   </td><td>2015-01-01 00:00:00</td><td style=\"text-align: right;\">           357.48</td><td>                   </td><td>2015-01-01 00:00:00 </td><td style=\"text-align: right;\">                           0</td><td>                             </td><td style=\"text-align: right;\">            1</td></tr>\n",
       "<tr><td style=\"text-align: right;\">1.07536e+06</td><td style=\"text-align: right;\">1.31175e+06</td><td style=\"text-align: right;\">       3000</td><td style=\"text-align: right;\">         3000</td><td style=\"text-align: right;\">             3000</td><td>60 months</td><td>12.69%    </td><td style=\"text-align: right;\">        67.79</td><td>B      </td><td>B5         </td><td>University Medical Group </td><td>1 year      </td><td>RENT            </td><td style=\"text-align: right;\">       80000</td><td>VERIFIED - income source</td><td>2011-12-01 00:00:00</td><td>Current      </td><td>n           </td><td>https://www.lendingclub.com/browse/loanDetail.action?loan_id=1075358</td><td>Borrower added on 12/21/11 > I plan on combining three large interest bills together and freeing up some extra each month to pay toward other bills.  I've always been a good payor but have found myself needing to make adjustments to my budget due to a medical scare. My job is very stable, I love it.<br>                                                                                                                                                                                                                                                                                            </td><td>other             </td><td>Personal                             </td><td>972xx     </td><td>OR          </td><td style=\"text-align: right;\">17.94</td><td style=\"text-align: right;\">            0</td><td>1996-01-01 00:00:00</td><td style=\"text-align: right;\">               0</td><td>38                      </td><td>                        </td><td style=\"text-align: right;\">        15</td><td style=\"text-align: right;\">        0</td><td style=\"text-align: right;\">      27783</td><td>53.9%       </td><td style=\"text-align: right;\">         38</td><td>f                    </td><td style=\"text-align: right;\">    1168.04</td><td style=\"text-align: right;\">        1168.04</td><td style=\"text-align: right;\">      2767.64</td><td style=\"text-align: right;\">          2767.64</td><td style=\"text-align: right;\">          1831.96</td><td style=\"text-align: right;\">         935.68</td><td style=\"text-align: right;\">                0   </td><td style=\"text-align: right;\">        0   </td><td style=\"text-align: right;\">                     0   </td><td>2015-06-01 00:00:00</td><td style=\"text-align: right;\">            67.79</td><td>2015-07-01 00:00:00</td><td>2015-06-01 00:00:00 </td><td style=\"text-align: right;\">                           0</td><td>                             </td><td style=\"text-align: right;\">            1</td></tr>\n",
       "<tr><td style=\"text-align: right;\">1.07527e+06</td><td style=\"text-align: right;\">1.31144e+06</td><td style=\"text-align: right;\">       5000</td><td style=\"text-align: right;\">         5000</td><td style=\"text-align: right;\">             5000</td><td>36 months</td><td>7.90%     </td><td style=\"text-align: right;\">       156.46</td><td>A      </td><td>A4         </td><td>Veolia Transportaton     </td><td>3 years     </td><td>RENT            </td><td style=\"text-align: right;\">       36000</td><td>VERIFIED - income source</td><td>2011-12-01 00:00:00</td><td>Fully Paid   </td><td>n           </td><td>https://www.lendingclub.com/browse/loanDetail.action?loan_id=1075269</td><td>                                                                                                                                                                                                                                                                                                                                                                                                                                                                                                                                                                                                            </td><td>wedding           </td><td>My wedding loan I promise to pay back</td><td>852xx     </td><td>AZ          </td><td style=\"text-align: right;\">11.2 </td><td style=\"text-align: right;\">            0</td><td>2004-11-01 00:00:00</td><td style=\"text-align: right;\">               3</td><td>                        </td><td>                        </td><td style=\"text-align: right;\">         9</td><td style=\"text-align: right;\">        0</td><td style=\"text-align: right;\">       7963</td><td>28.3%       </td><td style=\"text-align: right;\">         12</td><td>f                    </td><td style=\"text-align: right;\">       0   </td><td style=\"text-align: right;\">           0   </td><td style=\"text-align: right;\">      5631.38</td><td style=\"text-align: right;\">          5631.38</td><td style=\"text-align: right;\">          5000   </td><td style=\"text-align: right;\">         631.38</td><td style=\"text-align: right;\">                0   </td><td style=\"text-align: right;\">        0   </td><td style=\"text-align: right;\">                     0   </td><td>2015-01-01 00:00:00</td><td style=\"text-align: right;\">           161.03</td><td>                   </td><td>2015-06-01 00:00:00 </td><td style=\"text-align: right;\">                           0</td><td>                             </td><td style=\"text-align: right;\">            1</td></tr>\n",
       "<tr><td style=\"text-align: right;\">1.06964e+06</td><td style=\"text-align: right;\">1.30474e+06</td><td style=\"text-align: right;\">       7000</td><td style=\"text-align: right;\">         7000</td><td style=\"text-align: right;\">             7000</td><td>60 months</td><td>15.96%    </td><td style=\"text-align: right;\">       170.08</td><td>C      </td><td>C5         </td><td>Southern Star Photography</td><td>8 years     </td><td>RENT            </td><td style=\"text-align: right;\">       47004</td><td>not verified            </td><td>2011-12-01 00:00:00</td><td>Current      </td><td>n           </td><td>https://www.lendingclub.com/browse/loanDetail.action?loan_id=1069639</td><td>Borrower added on 12/18/11 > I am planning on using the funds to pay off two retail credit cards with 24.99% interest rates, as well as a major bank credit card with a 18.99% rate.  I pay all my bills on time, looking for a lower combined payment and lower monthly payment.<br>                                                                                                                                                                                                                                                                                                                       </td><td>debt_consolidation</td><td>Loan                                 </td><td>280xx     </td><td>NC          </td><td style=\"text-align: right;\">23.51</td><td style=\"text-align: right;\">            0</td><td>2005-07-01 00:00:00</td><td style=\"text-align: right;\">               1</td><td>                        </td><td>                        </td><td style=\"text-align: right;\">         7</td><td style=\"text-align: right;\">        0</td><td style=\"text-align: right;\">      17726</td><td>85.6%       </td><td style=\"text-align: right;\">         11</td><td>f                    </td><td style=\"text-align: right;\">    2853.21</td><td style=\"text-align: right;\">        2853.21</td><td style=\"text-align: right;\">      6946.28</td><td style=\"text-align: right;\">          6946.28</td><td style=\"text-align: right;\">          4146.8 </td><td style=\"text-align: right;\">        2799.48</td><td style=\"text-align: right;\">                0   </td><td style=\"text-align: right;\">        0   </td><td style=\"text-align: right;\">                     0   </td><td>2015-06-01 00:00:00</td><td style=\"text-align: right;\">           170.08</td><td>2015-08-01 00:00:00</td><td>2015-06-01 00:00:00 </td><td style=\"text-align: right;\">                           0</td><td>                             </td><td style=\"text-align: right;\">            1</td></tr>\n",
       "<tr><td style=\"text-align: right;\">1.07205e+06</td><td style=\"text-align: right;\">1.28869e+06</td><td style=\"text-align: right;\">       3000</td><td style=\"text-align: right;\">         3000</td><td style=\"text-align: right;\">             3000</td><td>36 months</td><td>18.64%    </td><td style=\"text-align: right;\">       109.43</td><td>E      </td><td>E1         </td><td>MKC Accounting           </td><td>9 years     </td><td>RENT            </td><td style=\"text-align: right;\">       48000</td><td>VERIFIED - income source</td><td>2011-12-01 00:00:00</td><td>Fully Paid   </td><td>n           </td><td>https://www.lendingclub.com/browse/loanDetail.action?loan_id=1072053</td><td>Borrower added on 12/16/11 > Downpayment for a car.<br>                                                                                                                                                                                                                                                                                                                                                                                                                                                                                                                                                     </td><td>car               </td><td>Car Downpayment                      </td><td>900xx     </td><td>CA          </td><td style=\"text-align: right;\"> 5.35</td><td style=\"text-align: right;\">            0</td><td>2007-01-01 00:00:00</td><td style=\"text-align: right;\">               2</td><td>                        </td><td>                        </td><td style=\"text-align: right;\">         4</td><td style=\"text-align: right;\">        0</td><td style=\"text-align: right;\">       8221</td><td>87.5%       </td><td style=\"text-align: right;\">          4</td><td>f                    </td><td style=\"text-align: right;\">       0   </td><td style=\"text-align: right;\">           0   </td><td style=\"text-align: right;\">      3938.14</td><td style=\"text-align: right;\">          3938.14</td><td style=\"text-align: right;\">          3000   </td><td style=\"text-align: right;\">         938.14</td><td style=\"text-align: right;\">                0   </td><td style=\"text-align: right;\">        0   </td><td style=\"text-align: right;\">                     0   </td><td>2015-01-01 00:00:00</td><td style=\"text-align: right;\">           111.34</td><td>                   </td><td>2014-12-01 00:00:00 </td><td style=\"text-align: right;\">                           0</td><td>                             </td><td style=\"text-align: right;\">            1</td></tr>\n",
       "<tr><td style=\"text-align: right;\">1.0718e+06 </td><td style=\"text-align: right;\">1.30696e+06</td><td style=\"text-align: right;\">       5600</td><td style=\"text-align: right;\">         5600</td><td style=\"text-align: right;\">             5600</td><td>60 months</td><td>21.28%    </td><td style=\"text-align: right;\">       152.39</td><td>F      </td><td>F2         </td><td>                         </td><td>4 years     </td><td>OWN             </td><td style=\"text-align: right;\">       40000</td><td>VERIFIED - income source</td><td>2011-12-01 00:00:00</td><td>Charged Off  </td><td>n           </td><td>https://www.lendingclub.com/browse/loanDetail.action?loan_id=1071795</td><td>Borrower added on 12/21/11 > I own a small home-based judgment collection business. I have 5 years experience collecting debts. I am now going from a home office to a small office. I also plan to buy a small debt portfolio (eg. $10K for $1M of debt) <br>My score is not A+ because I own my home and have no mortgage.<br>                                                                                                                                                                                                                                                                            </td><td>small_business    </td><td>Expand Business & Buy Debt Portfolio </td><td>958xx     </td><td>CA          </td><td style=\"text-align: right;\"> 5.55</td><td style=\"text-align: right;\">            0</td><td>2004-04-01 00:00:00</td><td style=\"text-align: right;\">               2</td><td>                        </td><td>                        </td><td style=\"text-align: right;\">        11</td><td style=\"text-align: right;\">        0</td><td style=\"text-align: right;\">       5210</td><td>32.6%       </td><td style=\"text-align: right;\">         13</td><td>f                    </td><td style=\"text-align: right;\">       0   </td><td style=\"text-align: right;\">           0   </td><td style=\"text-align: right;\">       646.02</td><td style=\"text-align: right;\">           646.02</td><td style=\"text-align: right;\">           162.02</td><td style=\"text-align: right;\">         294.94</td><td style=\"text-align: right;\">                0   </td><td style=\"text-align: right;\">      189.06</td><td style=\"text-align: right;\">                     2.09</td><td>2012-04-01 00:00:00</td><td style=\"text-align: right;\">           152.39</td><td>                   </td><td>2012-08-01 00:00:00 </td><td style=\"text-align: right;\">                           0</td><td>                             </td><td style=\"text-align: right;\">            1</td></tr>\n",
       "<tr><td style=\"text-align: right;\">1.07157e+06</td><td style=\"text-align: right;\">1.30672e+06</td><td style=\"text-align: right;\">       5375</td><td style=\"text-align: right;\">         5375</td><td style=\"text-align: right;\">             5350</td><td>60 months</td><td>12.69%    </td><td style=\"text-align: right;\">       121.45</td><td>B      </td><td>B5         </td><td>Starbucks                </td><td>< 1 year    </td><td>RENT            </td><td style=\"text-align: right;\">       15000</td><td>VERIFIED - income       </td><td>2011-12-01 00:00:00</td><td>Charged Off  </td><td>n           </td><td>https://www.lendingclub.com/browse/loanDetail.action?loan_id=1071570</td><td>Borrower added on 12/16/11 > I'm trying to build up my credit history. I live with my brother and have no car payment or credit cards. I am in community college and work full time. Im going to use the money to make some repairs around the house and get some maintenance done on my car.<br><br>  Borrower added on 12/20/11 > $1000 down only $4375 to go. Thanks to everyone that invested so far, looking forward to surprising my brother with the fixes around the house.<br>                                                                                                                     </td><td>other             </td><td>Building my credit history.          </td><td>774xx     </td><td>TX          </td><td style=\"text-align: right;\">18.08</td><td style=\"text-align: right;\">            0</td><td>2004-09-01 00:00:00</td><td style=\"text-align: right;\">               0</td><td>                        </td><td>                        </td><td style=\"text-align: right;\">         2</td><td style=\"text-align: right;\">        0</td><td style=\"text-align: right;\">       9279</td><td>36.5%       </td><td style=\"text-align: right;\">          3</td><td>f                    </td><td style=\"text-align: right;\">       0   </td><td style=\"text-align: right;\">           0   </td><td style=\"text-align: right;\">      1476.19</td><td style=\"text-align: right;\">          1469.34</td><td style=\"text-align: right;\">           673.48</td><td style=\"text-align: right;\">         533.42</td><td style=\"text-align: right;\">                0   </td><td style=\"text-align: right;\">      269.29</td><td style=\"text-align: right;\">                     2.52</td><td>2012-11-01 00:00:00</td><td style=\"text-align: right;\">           121.45</td><td>                   </td><td>2013-03-01 00:00:00 </td><td style=\"text-align: right;\">                           0</td><td>                             </td><td style=\"text-align: right;\">            1</td></tr>\n",
       "</tbody>\n",
       "</table>"
      ]
     },
     "metadata": {},
     "output_type": "display_data"
    },
    {
     "data": {
      "text/plain": []
     },
     "execution_count": 4,
     "metadata": {},
     "output_type": "execute_result"
    }
   ],
   "source": [
    "loans.head()"
   ]
  },
  {
   "cell_type": "markdown",
   "metadata": {},
   "source": [
    "------\n",
    "\n",
    ">## Comment: Data preparation for modeling\n",
    ">\n",
    ">In this tutorial, we either rush through or, at times, skip steps that a modeler would typically spend a considerable amount of effort on. For example, we omit entirely exploratory data analysis. Additionally, the process of **_defining the problem_** is often iterative and takes a lot of thought and effort. We make the assumption here that this work has already been done by the modeler.\n",
    ">\n",
    ">In reality, the majority of a modeler's time is spent on problem definition and data cleaning/wrangling/munging. Our speed at going through these steps to demonstrate the use of H2O-3 in no way minimizes the importance of careful and thoughtful data preparation for model building. \n",
    "\n",
    "-----\n"
   ]
  },
  {
   "cell_type": "markdown",
   "metadata": {},
   "source": [
    "# Step 3 (of 10).  Clean data\n",
    "\n",
    "\n",
    "## Part 1. Defining the problem and creating the response variable\n",
    "\n",
    "The total number of loans in our data set is"
   ]
  },
  {
   "cell_type": "code",
   "execution_count": 5,
   "metadata": {},
   "outputs": [
    {
     "data": {
      "text/plain": [
       "42536"
      ]
     },
     "execution_count": 5,
     "metadata": {},
     "output_type": "execute_result"
    }
   ],
   "source": [
    "num_unfiltered_loans = loans.dim[0]\n",
    "num_unfiltered_loans"
   ]
  },
  {
   "cell_type": "markdown",
   "metadata": {},
   "source": [
    "Because we are interested in loan default, we need to look at the `loan_status` column."
   ]
  },
  {
   "cell_type": "code",
   "execution_count": 6,
   "metadata": {},
   "outputs": [
    {
     "data": {
      "text/html": [
       "<table>\n",
       "<thead>\n",
       "<tr><th>loan_status                                             </th><th style=\"text-align: right;\">  Count</th></tr>\n",
       "</thead>\n",
       "<tbody>\n",
       "<tr><td>Charged Off                                             </td><td style=\"text-align: right;\">   5435</td></tr>\n",
       "<tr><td>Current                                                 </td><td style=\"text-align: right;\">   3351</td></tr>\n",
       "<tr><td>Default                                                 </td><td style=\"text-align: right;\">      7</td></tr>\n",
       "<tr><td>Does not meet the credit policy.  Status:Charged Off    </td><td style=\"text-align: right;\">    761</td></tr>\n",
       "<tr><td>Does not meet the credit policy.  Status:Current        </td><td style=\"text-align: right;\">     53</td></tr>\n",
       "<tr><td>Does not meet the credit policy.  Status:Fully Paid     </td><td style=\"text-align: right;\">   1933</td></tr>\n",
       "<tr><td>Does not meet the credit policy.  Status:In Grace Period</td><td style=\"text-align: right;\">      2</td></tr>\n",
       "<tr><td>Fully Paid                                              </td><td style=\"text-align: right;\">  30843</td></tr>\n",
       "<tr><td>In Grace Period                                         </td><td style=\"text-align: right;\">     60</td></tr>\n",
       "<tr><td>Late (16-30 days)                                       </td><td style=\"text-align: right;\">     16</td></tr>\n",
       "<tr><td>Late (31-120 days)                                      </td><td style=\"text-align: right;\">     74</td></tr>\n",
       "</tbody>\n",
       "</table>"
      ]
     },
     "metadata": {},
     "output_type": "display_data"
    },
    {
     "data": {
      "text/plain": []
     },
     "execution_count": 6,
     "metadata": {},
     "output_type": "execute_result"
    }
   ],
   "source": [
    "loans[\"loan_status\"].table().head(20)"
   ]
  },
  {
   "cell_type": "markdown",
   "metadata": {},
   "source": [
    "Like many real data sources, `loan_status` is messy and contains multiple, somewhat overlapping, categories. Before modeling, we will need to clean this up by (a) removing loans that are still ongoing, and (b) simplifying the response column.\n",
    "\n",
    "### (a) Filter Loans\n",
    "\n",
    "In order to build a valid model, we have to remove loans that are still in process. They have `loan_status` like \"Current\" and \"In Grace Period\":"
   ]
  },
  {
   "cell_type": "code",
   "execution_count": 7,
   "metadata": {},
   "outputs": [],
   "source": [
    "ongoing_status = [\"Current\",\n",
    "                  \"In Grace Period\",\n",
    "                  \"Late (16-30 days)\",\n",
    "                  \"Late (31-120 days)\",\n",
    "                  \"Does not meet the credit policy.  Status:Current\",\n",
    "                  \"Does not meet the credit policy.  Status:In Grace Period\"\n",
    "                 ]\n",
    "loans = loans[~loans[\"loan_status\"].isin(ongoing_status)]"
   ]
  },
  {
   "cell_type": "markdown",
   "metadata": {},
   "source": [
    "After filtering out ongoing loans, we now have"
   ]
  },
  {
   "cell_type": "code",
   "execution_count": 8,
   "metadata": {},
   "outputs": [
    {
     "data": {
      "text/plain": [
       "38980"
      ]
     },
     "execution_count": 8,
     "metadata": {},
     "output_type": "execute_result"
    }
   ],
   "source": [
    "num_filtered_loans = loans.dim[0]\n",
    "num_filtered_loans"
   ]
  },
  {
   "cell_type": "markdown",
   "metadata": {},
   "source": [
    "loans whose final state is known, which means we filtered out"
   ]
  },
  {
   "cell_type": "code",
   "execution_count": 9,
   "metadata": {},
   "outputs": [
    {
     "data": {
      "text/plain": [
       "3556"
      ]
     },
     "execution_count": 9,
     "metadata": {},
     "output_type": "execute_result"
    }
   ],
   "source": [
    "num_loans_filtered_out = num_unfiltered_loans - num_filtered_loans\n",
    "num_loans_filtered_out"
   ]
  },
  {
   "cell_type": "markdown",
   "metadata": {},
   "source": [
    "loans. These loans are now summarized by `loan_status` as"
   ]
  },
  {
   "cell_type": "code",
   "execution_count": 10,
   "metadata": {},
   "outputs": [
    {
     "data": {
      "text/html": [
       "<table>\n",
       "<thead>\n",
       "<tr><th>loan_status                                         </th><th style=\"text-align: right;\">  Count</th></tr>\n",
       "</thead>\n",
       "<tbody>\n",
       "<tr><td>Charged Off                                         </td><td style=\"text-align: right;\">   5435</td></tr>\n",
       "<tr><td>Default                                             </td><td style=\"text-align: right;\">      7</td></tr>\n",
       "<tr><td>Does not meet the credit policy.  Status:Charged Off</td><td style=\"text-align: right;\">    761</td></tr>\n",
       "<tr><td>Does not meet the credit policy.  Status:Fully Paid </td><td style=\"text-align: right;\">   1933</td></tr>\n",
       "<tr><td>Fully Paid                                          </td><td style=\"text-align: right;\">  30843</td></tr>\n",
       "</tbody>\n",
       "</table>"
      ]
     },
     "metadata": {},
     "output_type": "display_data"
    },
    {
     "data": {
      "text/plain": []
     },
     "execution_count": 10,
     "metadata": {},
     "output_type": "execute_result"
    }
   ],
   "source": [
    "loans[\"loan_status\"].table().head(20)"
   ]
  },
  {
   "cell_type": "markdown",
   "metadata": {},
   "source": [
    "### (b) Create Response Column\n",
    "\n",
    "Let's name our response column `bad_loan`, which will equal one if the loan was not completely paid off."
   ]
  },
  {
   "cell_type": "code",
   "execution_count": 11,
   "metadata": {},
   "outputs": [],
   "source": [
    "fully_paid = [\"Fully Paid\",\n",
    "              \"Does not meet the credit policy.  Status:Fully Paid\"\n",
    "             ]\n",
    "loans[\"bad_loan\"] = ~(loans[\"loan_status\"].isin(fully_paid))"
   ]
  },
  {
   "cell_type": "markdown",
   "metadata": {},
   "source": [
    "Next make the `bad_loan` column a factor so that we can build a classification model,"
   ]
  },
  {
   "cell_type": "code",
   "execution_count": 12,
   "metadata": {},
   "outputs": [],
   "source": [
    "loans[\"bad_loan\"] = loans[\"bad_loan\"].asfactor()"
   ]
  },
  {
   "cell_type": "markdown",
   "metadata": {},
   "source": [
    "The percentage of bad loans is given by"
   ]
  },
  {
   "cell_type": "code",
   "execution_count": 13,
   "metadata": {},
   "outputs": [
    {
     "data": {
      "text/html": [
       "<table>\n",
       "<thead>\n",
       "<tr><th style=\"text-align: right;\">  bad_loan</th><th style=\"text-align: right;\">  Count</th><th style=\"text-align: right;\">  Percentage</th></tr>\n",
       "</thead>\n",
       "<tbody>\n",
       "<tr><td style=\"text-align: right;\">         0</td><td style=\"text-align: right;\">  32776</td><td style=\"text-align: right;\">          84</td></tr>\n",
       "<tr><td style=\"text-align: right;\">         1</td><td style=\"text-align: right;\">   6204</td><td style=\"text-align: right;\">          16</td></tr>\n",
       "</tbody>\n",
       "</table>"
      ]
     },
     "metadata": {},
     "output_type": "display_data"
    },
    {
     "data": {
      "text/plain": []
     },
     "execution_count": 13,
     "metadata": {},
     "output_type": "execute_result"
    }
   ],
   "source": [
    "bad_loan_dist = loans[\"bad_loan\"].table()\n",
    "bad_loan_dist[\"Percentage\"] = (100 * bad_loan_dist[\"Count\"] / loans.nrow).round()\n",
    "bad_loan_dist"
   ]
  },
  {
   "cell_type": "markdown",
   "metadata": {},
   "source": [
    "## Part 2. Convert strings to numeric\n",
    "\n",
    "Consider the columns `int_rate`, `revol_util`, and `emp_length`:"
   ]
  },
  {
   "cell_type": "code",
   "execution_count": 14,
   "metadata": {},
   "outputs": [
    {
     "data": {
      "text/html": [
       "<table>\n",
       "<thead>\n",
       "<tr><th>int_rate  </th><th>revol_util  </th><th>emp_length  </th></tr>\n",
       "</thead>\n",
       "<tbody>\n",
       "<tr><td>10.65%    </td><td>83.7%       </td><td>10+ years   </td></tr>\n",
       "<tr><td>15.27%    </td><td>9.4%        </td><td>< 1 year    </td></tr>\n",
       "<tr><td>15.96%    </td><td>98.5%       </td><td>10+ years   </td></tr>\n",
       "<tr><td>13.49%    </td><td>21%         </td><td>10+ years   </td></tr>\n",
       "<tr><td>7.90%     </td><td>28.3%       </td><td>3 years     </td></tr>\n",
       "<tr><td>18.64%    </td><td>87.5%       </td><td>9 years     </td></tr>\n",
       "<tr><td>21.28%    </td><td>32.6%       </td><td>4 years     </td></tr>\n",
       "<tr><td>12.69%    </td><td>36.5%       </td><td>< 1 year    </td></tr>\n",
       "<tr><td>14.65%    </td><td>20.6%       </td><td>5 years     </td></tr>\n",
       "<tr><td>12.69%    </td><td>67.1%       </td><td>10+ years   </td></tr>\n",
       "</tbody>\n",
       "</table>"
      ]
     },
     "metadata": {},
     "output_type": "display_data"
    },
    {
     "data": {
      "text/plain": []
     },
     "execution_count": 14,
     "metadata": {},
     "output_type": "execute_result"
    }
   ],
   "source": [
    "loans[[\"int_rate\", \"revol_util\", \"emp_length\"]].head()"
   ]
  },
  {
   "cell_type": "markdown",
   "metadata": {},
   "source": [
    "Both `int_rate` and `revol_util` are inherently numeric but entered as percentages. Since they include a \"%\" sign, they are read in as strings. The solution for both of these columns is simple: strip the \"%\" sign and convert the strings to numeric.\n",
    "\n",
    "The `emp_length` column is only slightly more complex. Besides removing the \"year\" or \"years\" term, we have to deal with `< 1` and `10+`, which aren't directly numeric. If we define `< 1` as 0 and `10+` as 10, then `emp_length` can also be cast as numeric.\n",
    "\n",
    "We demonstrate the steps for converting these string variables into numeric values below.\n",
    "\n",
    "### Convert `int_rate`"
   ]
  },
  {
   "cell_type": "code",
   "execution_count": 15,
   "metadata": {},
   "outputs": [],
   "source": [
    "loans[\"int_rate\"] = loans[\"int_rate\"].gsub(pattern = \"%\", replacement = \"\") # strip %\n",
    "loans[\"int_rate\"] = loans[\"int_rate\"].trim() # trim whitespace\n",
    "loans[\"int_rate\"] = loans[\"int_rate\"].asnumeric() # change to numeric "
   ]
  },
  {
   "cell_type": "markdown",
   "metadata": {},
   "source": [
    "### Convert `revol_util`"
   ]
  },
  {
   "cell_type": "code",
   "execution_count": 16,
   "metadata": {},
   "outputs": [],
   "source": [
    "loans[\"revol_util\"] = loans[\"revol_util\"].gsub(pattern=\"%\", replacement=\"\") # strip %\n",
    "loans[\"revol_util\"] = loans[\"revol_util\"].trim() # trim whitespace\n",
    "loans[\"revol_util\"] = loans[\"revol_util\"].asnumeric() # change to numeric "
   ]
  },
  {
   "cell_type": "markdown",
   "metadata": {},
   "source": [
    "### Convert `emp_length`"
   ]
  },
  {
   "cell_type": "code",
   "execution_count": 17,
   "metadata": {},
   "outputs": [],
   "source": [
    "# Use gsub to remove \" year\" and \" years\"; also translate n/a to \"\" \n",
    "loans[\"emp_length\"] = loans[\"emp_length\"].gsub(pattern=\"([ ]*+[a-zA-Z].*)|(n/a)\", replacement=\"\") \n",
    "loans[\"emp_length\"] = loans[\"emp_length\"].trim() # trim whitespace\n",
    "\n",
    "loans[\"emp_length\"] = loans[\"emp_length\"].gsub(pattern=\"< 1\", replacement=\"0\") # convert \"< 1\" to 0\n",
    "loans[\"emp_length\"] = loans[\"emp_length\"].gsub(pattern=\"10\\\\+\", replacement=\"10\") # convert \"10+\" to 10\n",
    "loans[\"emp_length\"] = loans[\"emp_length\"].asnumeric() # trim whitespace"
   ]
  },
  {
   "cell_type": "markdown",
   "metadata": {},
   "source": [
    "These steps result in"
   ]
  },
  {
   "cell_type": "code",
   "execution_count": 18,
   "metadata": {},
   "outputs": [
    {
     "data": {
      "text/html": [
       "<table>\n",
       "<thead>\n",
       "<tr><th style=\"text-align: right;\">  int_rate</th><th style=\"text-align: right;\">  revol_util</th><th style=\"text-align: right;\">  emp_length</th></tr>\n",
       "</thead>\n",
       "<tbody>\n",
       "<tr><td style=\"text-align: right;\">     10.65</td><td style=\"text-align: right;\">        83.7</td><td style=\"text-align: right;\">          10</td></tr>\n",
       "<tr><td style=\"text-align: right;\">     15.27</td><td style=\"text-align: right;\">         9.4</td><td style=\"text-align: right;\">           0</td></tr>\n",
       "<tr><td style=\"text-align: right;\">     15.96</td><td style=\"text-align: right;\">        98.5</td><td style=\"text-align: right;\">          10</td></tr>\n",
       "<tr><td style=\"text-align: right;\">     13.49</td><td style=\"text-align: right;\">        21  </td><td style=\"text-align: right;\">          10</td></tr>\n",
       "<tr><td style=\"text-align: right;\">      7.9 </td><td style=\"text-align: right;\">        28.3</td><td style=\"text-align: right;\">           3</td></tr>\n",
       "<tr><td style=\"text-align: right;\">     18.64</td><td style=\"text-align: right;\">        87.5</td><td style=\"text-align: right;\">           9</td></tr>\n",
       "<tr><td style=\"text-align: right;\">     21.28</td><td style=\"text-align: right;\">        32.6</td><td style=\"text-align: right;\">           4</td></tr>\n",
       "<tr><td style=\"text-align: right;\">     12.69</td><td style=\"text-align: right;\">        36.5</td><td style=\"text-align: right;\">           0</td></tr>\n",
       "<tr><td style=\"text-align: right;\">     14.65</td><td style=\"text-align: right;\">        20.6</td><td style=\"text-align: right;\">           5</td></tr>\n",
       "<tr><td style=\"text-align: right;\">     12.69</td><td style=\"text-align: right;\">        67.1</td><td style=\"text-align: right;\">          10</td></tr>\n",
       "</tbody>\n",
       "</table>"
      ]
     },
     "metadata": {},
     "output_type": "display_data"
    },
    {
     "data": {
      "text/plain": []
     },
     "execution_count": 18,
     "metadata": {},
     "output_type": "execute_result"
    }
   ],
   "source": [
    "loans[[\"int_rate\", \"revol_util\", \"emp_length\"]].head()"
   ]
  },
  {
   "cell_type": "markdown",
   "metadata": {},
   "source": [
    "### Note: Interest rate distributions\n",
    "\n",
    "Now that we have converted interest rate to numeric, we can use the `hist` function to compare the interest rate distributions for good and bad loans."
   ]
  },
  {
   "cell_type": "code",
   "execution_count": 19,
   "metadata": {},
   "outputs": [
    {
     "name": "stdout",
     "output_type": "stream",
     "text": [
      "Bad Loans\n"
     ]
    },
    {
     "data": {
      "image/png": "[encoded data removed]",
      "text/plain": [
       "<Figure size 432x288 with 1 Axes>"
      ]
     },
     "metadata": {
      "needs_background": "light"
     },
     "output_type": "display_data"
    },
    {
     "name": "stdout",
     "output_type": "stream",
     "text": [
      "Good Loans\n"
     ]
    },
    {
     "data": {
      "image/png": "[encoded data removed]",
      "text/plain": [
       "<Figure size 432x288 with 1 Axes>"
      ]
     },
     "metadata": {
      "needs_background": "light"
     },
     "output_type": "display_data"
    }
   ],
   "source": [
    "%matplotlib inline\n",
    "\n",
    "print(\"Bad Loans\")\n",
    "loans[loans[\"bad_loan\"] == \"1\", \"int_rate\"].hist()\n",
    "\n",
    "print(\"Good Loans\")\n",
    "loans[loans[\"bad_loan\"] == \"0\", \"int_rate\"].hist()"
   ]
  },
  {
   "cell_type": "markdown",
   "metadata": {},
   "source": [
    "As expected, the bad loan distribution contains proportionately more high interest rate loans than the distribution for good loans. Likewise, the good loan distribution contains a higher proportion of low interest rate loans than that for bad loans. It would not surprise us if interest rate were a strong predictor of loan performance.\n",
    "\n",
    ">Financial institutions typically set a borrower's interest rate based on factors like estimated risk and customer demand. If the underwriting rules are any good at all, we would expect interest rate to be one of the best predictors of default. "
   ]
  },
  {
   "cell_type": "markdown",
   "metadata": {},
   "source": [
    "## Part 3. Clean up messy categorical columns\n",
    "\n",
    "Much as we did with the `loan_status` column, the `verification_status` column needs cleaning"
   ]
  },
  {
   "cell_type": "code",
   "execution_count": 20,
   "metadata": {},
   "outputs": [
    {
     "data": {
      "text/html": [
       "<table>\n",
       "<thead>\n",
       "<tr><th>verification_status     </th></tr>\n",
       "</thead>\n",
       "<tbody>\n",
       "<tr><td>VERIFIED - income       </td></tr>\n",
       "<tr><td>VERIFIED - income source</td></tr>\n",
       "<tr><td>not verified            </td></tr>\n",
       "<tr><td>VERIFIED - income source</td></tr>\n",
       "<tr><td>VERIFIED - income source</td></tr>\n",
       "<tr><td>VERIFIED - income source</td></tr>\n",
       "<tr><td>VERIFIED - income source</td></tr>\n",
       "<tr><td>VERIFIED - income       </td></tr>\n",
       "<tr><td>not verified            </td></tr>\n",
       "<tr><td>VERIFIED - income source</td></tr>\n",
       "</tbody>\n",
       "</table>"
      ]
     },
     "metadata": {},
     "output_type": "display_data"
    },
    {
     "data": {
      "text/plain": []
     },
     "execution_count": 20,
     "metadata": {},
     "output_type": "execute_result"
    }
   ],
   "source": [
    "loans[\"verification_status\"].head()"
   ]
  },
  {
   "cell_type": "markdown",
   "metadata": {},
   "source": [
    "Because there are multiple values that mean verified (\"VERIFIED - income\" and \"VERIFIED - income source\"), we replace them simply with \"verified\","
   ]
  },
  {
   "cell_type": "code",
   "execution_count": 21,
   "metadata": {},
   "outputs": [],
   "source": [
    "loans[\"verification_status\"] = loans[\"verification_status\"].sub(pattern=\"VERIFIED - income source\", \n",
    "                                                                replacement=\"verified\")\n",
    "loans[\"verification_status\"] = loans[\"verification_status\"].sub(pattern=\"VERIFIED - income\", \n",
    "                                                                replacement=\"verified\")\n",
    "loans[\"verification_status\"] = loans[\"verification_status\"].asfactor()"
   ]
  },
  {
   "cell_type": "markdown",
   "metadata": {},
   "source": [
    "resulting in"
   ]
  },
  {
   "cell_type": "code",
   "execution_count": 22,
   "metadata": {
    "scrolled": true
   },
   "outputs": [
    {
     "data": {
      "text/html": [
       "<table>\n",
       "<thead>\n",
       "<tr><th>verification_status  </th><th style=\"text-align: right;\">  Count</th></tr>\n",
       "</thead>\n",
       "<tbody>\n",
       "<tr><td>not verified         </td><td style=\"text-align: right;\">  17947</td></tr>\n",
       "<tr><td>verified             </td><td style=\"text-align: right;\">  21032</td></tr>\n",
       "</tbody>\n",
       "</table>"
      ]
     },
     "metadata": {},
     "output_type": "display_data"
    },
    {
     "data": {
      "text/plain": []
     },
     "execution_count": 22,
     "metadata": {},
     "output_type": "execute_result"
    }
   ],
   "source": [
    "loans[\"verification_status\"].table()"
   ]
  },
  {
   "cell_type": "markdown",
   "metadata": {},
   "source": [
    "# Step 4 (of 10).  Feature engineering\n",
    "\n",
    "Now that we have cleaned our data, we can extract information from our current columns to create new features. This process is referred to as _feature engineering_. The general idea is to express information found in our data in a manner that is most understandable to the algorithms we employ, with the goal of improving the performance of our supervised learning models.\n",
    "\n",
    "Feature engineering can be considered the \"secret sauce\" in building a superior predictive model: it is often (although not always) more important than the choice of machine learning algorithm. A very good summary of feature engineering recipes can be found in the online [Driverless AI Documentation](http://docs.h2o.ai/driverless-ai/latest-stable/docs/userguide/transformations.html). \n",
    "\n",
    "We will do some basic feature engineering using the date fields in our data, and then use NLP (natural language processing) to create word embedding features from the loan description text field in our data.\n",
    "\n",
    "The new columns we will create are: \n",
    "* `credit_length`: the number of years someone has had a credit history\n",
    "* `issue_d_year` and `issue_d_month`: the year and month from the loan issue date\n",
    "* word embeddings from the loan description\n",
    "\n",
    "### Credit Length\n",
    "\n",
    "We create the `credit_length` feature by subtracting the year of a customer's earliest credit line from the year they were issued the loan."
   ]
  },
  {
   "cell_type": "code",
   "execution_count": 23,
   "metadata": {},
   "outputs": [
    {
     "data": {
      "text/html": [
       "<table>\n",
       "<thead>\n",
       "<tr><th style=\"text-align: right;\">  credit_length</th></tr>\n",
       "</thead>\n",
       "<tbody>\n",
       "<tr><td style=\"text-align: right;\">             26</td></tr>\n",
       "<tr><td style=\"text-align: right;\">             12</td></tr>\n",
       "<tr><td style=\"text-align: right;\">             10</td></tr>\n",
       "<tr><td style=\"text-align: right;\">             15</td></tr>\n",
       "<tr><td style=\"text-align: right;\">              7</td></tr>\n",
       "<tr><td style=\"text-align: right;\">              4</td></tr>\n",
       "<tr><td style=\"text-align: right;\">              7</td></tr>\n",
       "<tr><td style=\"text-align: right;\">              7</td></tr>\n",
       "<tr><td style=\"text-align: right;\">             13</td></tr>\n",
       "<tr><td style=\"text-align: right;\">             22</td></tr>\n",
       "</tbody>\n",
       "</table>"
      ]
     },
     "metadata": {},
     "output_type": "display_data"
    },
    {
     "data": {
      "text/plain": []
     },
     "execution_count": 23,
     "metadata": {},
     "output_type": "execute_result"
    }
   ],
   "source": [
    "loans[\"credit_length\"] = loans[\"issue_d\"].year() - loans[\"earliest_cr_line\"].year()\n",
    "loans[\"credit_length\"].head()"
   ]
  },
  {
   "cell_type": "markdown",
   "metadata": {},
   "source": [
    "### Issue Date Expansion\n",
    "\n",
    "We next extract the year and month from the issue date.  We may find that the month or the year when the loan was issued will impact the probability of a bad loan. Additionally, since months are cyclical we will treat `issue_d_month` as a factor."
   ]
  },
  {
   "cell_type": "code",
   "execution_count": 24,
   "metadata": {},
   "outputs": [
    {
     "data": {
      "text/html": [
       "<table>\n",
       "<thead>\n",
       "<tr><th style=\"text-align: right;\">  issue_d_year</th><th style=\"text-align: right;\">  issue_d_month</th></tr>\n",
       "</thead>\n",
       "<tbody>\n",
       "<tr><td style=\"text-align: right;\">          2011</td><td style=\"text-align: right;\">             12</td></tr>\n",
       "<tr><td style=\"text-align: right;\">          2011</td><td style=\"text-align: right;\">             12</td></tr>\n",
       "<tr><td style=\"text-align: right;\">          2011</td><td style=\"text-align: right;\">             12</td></tr>\n",
       "<tr><td style=\"text-align: right;\">          2011</td><td style=\"text-align: right;\">             12</td></tr>\n",
       "<tr><td style=\"text-align: right;\">          2011</td><td style=\"text-align: right;\">             12</td></tr>\n",
       "<tr><td style=\"text-align: right;\">          2011</td><td style=\"text-align: right;\">             12</td></tr>\n",
       "<tr><td style=\"text-align: right;\">          2011</td><td style=\"text-align: right;\">             12</td></tr>\n",
       "<tr><td style=\"text-align: right;\">          2011</td><td style=\"text-align: right;\">             12</td></tr>\n",
       "<tr><td style=\"text-align: right;\">          2011</td><td style=\"text-align: right;\">             12</td></tr>\n",
       "<tr><td style=\"text-align: right;\">          2011</td><td style=\"text-align: right;\">             12</td></tr>\n",
       "</tbody>\n",
       "</table>"
      ]
     },
     "metadata": {},
     "output_type": "display_data"
    },
    {
     "data": {
      "text/plain": []
     },
     "execution_count": 24,
     "metadata": {},
     "output_type": "execute_result"
    }
   ],
   "source": [
    "loans[\"issue_d_year\"] = loans[\"issue_d\"].year()\n",
    "loans[\"issue_d_month\"] = loans[\"issue_d\"].month().asfactor()\n",
    "\n",
    "loans[[\"issue_d_year\", \"issue_d_month\"]].head()"
   ]
  },
  {
   "cell_type": "markdown",
   "metadata": {},
   "source": [
    "### Word Embeddings\n",
    "\n",
    "One of the columns in our dataset is a user-provided description of why the loan was requested. The first few descriptions in the dataset are shown below."
   ]
  },
  {
   "cell_type": "code",
   "execution_count": 25,
   "metadata": {},
   "outputs": [
    {
     "data": {
      "text/html": [
       "<table>\n",
       "<thead>\n",
       "<tr><th>desc                                                                                                                                                                                                                                                                                                                                                                                                                                                                                                                                                                                                        </th></tr>\n",
       "</thead>\n",
       "<tbody>\n",
       "<tr><td>Borrower added on 12/22/11 > I need to upgrade my business technologies.<br>                                                                                                                                                                                                                                                                                                                                                                                                                                                                                                                                </td></tr>\n",
       "<tr><td>Borrower added on 12/22/11 > I plan to use this money to finance the motorcycle i am looking at. I plan to have it paid off as soon as possible/when i sell my old bike. I only need this money because the deal im looking at is to good to pass up.<br><br>  Borrower added on 12/22/11 > I plan to use this money to finance the motorcycle i am looking at. I plan to have it paid off as soon as possible/when i sell my old bike.I only need this money because the deal im looking at is to good to pass up. I have finished college with an associates degree in business and its takingmeplaces<br></td></tr>\n",
       "<tr><td>                                                                                                                                                                                                                                                                                                                                                                                                                                                                                                                                                                                                            </td></tr>\n",
       "<tr><td>Borrower added on 12/21/11 > to pay for property tax (borrow from friend, need to pay back) & central A/C need to be replace. I'm very sorry to let my loan expired last time.<br>                                                                                                                                                                                                                                                                                                                                                                                                                          </td></tr>\n",
       "<tr><td>                                                                                                                                                                                                                                                                                                                                                                                                                                                                                                                                                                                                            </td></tr>\n",
       "<tr><td>Borrower added on 12/16/11 > Downpayment for a car.<br>                                                                                                                                                                                                                                                                                                                                                                                                                                                                                                                                                     </td></tr>\n",
       "<tr><td>Borrower added on 12/21/11 > I own a small home-based judgment collection business. I have 5 years experience collecting debts. I am now going from a home office to a small office. I also plan to buy a small debt portfolio (eg. $10K for $1M of debt) <br>My score is not A+ because I own my home and have no mortgage.<br>                                                                                                                                                                                                                                                                            </td></tr>\n",
       "<tr><td>Borrower added on 12/16/11 > I'm trying to build up my credit history. I live with my brother and have no car payment or credit cards. I am in community college and work full time. Im going to use the money to make some repairs around the house and get some maintenance done on my car.<br><br>  Borrower added on 12/20/11 > $1000 down only $4375 to go. Thanks to everyone that invested so far, looking forward to surprising my brother with the fixes around the house.<br>                                                                                                                     </td></tr>\n",
       "<tr><td>Borrower added on 12/15/11 > I had recived a loan from Citi Financial about a year ago, I was paying 29.99 intrest, so the refinance is to cut that rate since cleaning up my credit I have been paying everything on time as shown on my credit report<br>                                                                                                                                                                                                                                                                                                                                                 </td></tr>\n",
       "<tr><td>                                                                                                                                                                                                                                                                                                                                                                                                                                                                                                                                                                                                            </td></tr>\n",
       "</tbody>\n",
       "</table>"
      ]
     },
     "metadata": {},
     "output_type": "display_data"
    },
    {
     "data": {
      "text/plain": []
     },
     "execution_count": 25,
     "metadata": {},
     "output_type": "execute_result"
    }
   ],
   "source": [
    "loans[\"desc\"].head()"
   ]
  },
  {
   "cell_type": "markdown",
   "metadata": {},
   "source": [
    "The descriptions may contain information that would assist in predicting default, but supervised learning algorithms in general have a hard time understanding text. We need to convert these strings into a numeric representation of the text in order for our algorithms to operate on it. There are multiple choices for doing so, in this example we will use the Word2Vec algorithm.\n",
    "\n",
    "We start by defining stop words (terms that are considered too frequent to carry much information) "
   ]
  },
  {
   "cell_type": "code",
   "execution_count": 26,
   "metadata": {},
   "outputs": [],
   "source": [
    "STOP_WORDS = [\"ax\",\"i\",\"you\",\"edu\",\"s\",\"t\",\"m\",\"subject\",\"can\",\"lines\",\"re\",\"what\",\n",
    "              \"there\",\"all\",\"we\",\"one\",\"the\",\"a\",\"an\",\"of\",\"or\",\"in\",\"for\",\"by\",\"on\",\n",
    "              \"but\",\"is\",\"in\",\"a\",\"not\",\"with\",\"as\",\"was\",\"if\",\"they\",\"are\",\"this\",\"and\",\"it\",\"have\",\n",
    "              \"from\",\"at\",\"my\",\"be\",\"by\",\"not\",\"that\",\"to\",\"from\",\"com\",\"org\",\"like\",\"likes\",\"so\"]"
   ]
  },
  {
   "cell_type": "markdown",
   "metadata": {},
   "source": [
    "We next _tokenize_ the descriptions by breaking the text into individual words"
   ]
  },
  {
   "cell_type": "code",
   "execution_count": 27,
   "metadata": {},
   "outputs": [],
   "source": [
    "def tokenize(sentences, stop_word = STOP_WORDS):\n",
    "    tokenized = sentences.tokenize(\"\\\\W+\")\n",
    "    tokenized_lower = tokenized.tolower()\n",
    "    tokenized_filtered = tokenized_lower[(tokenized_lower.nchar() >= 2) | (tokenized_lower.isna()),:]\n",
    "    tokenized_words = tokenized_filtered[tokenized_filtered.grep(\"[0-9]\",invert=True,output_logical=True),:]\n",
    "    tokenized_words = tokenized_words[(tokenized_words.isna()) | (~ tokenized_words.isin(STOP_WORDS)),:]\n",
    "    return tokenized_words\n",
    "\n",
    "words = tokenize(loans[\"desc\"].ascharacter())"
   ]
  },
  {
   "cell_type": "markdown",
   "metadata": {},
   "source": [
    "Then we train our Word2Vec model on the words extracted from our descriptions. We choose an output vector size of 100.\n",
    "\n",
    ">What does Word2Vec do? At a high level, it is a dimensionality reduction method for numerical representations of text. But it reduces dimensionality while preserving relationships between words in the text.\n",
    ">\n",
    ">Suppose we were to create a dictionary of all the words in our descriptions, and further suppose that dictionary contained 2500 unique words. At one extreme, we could create an indicator variable for each word (i.e., one-hot encoding). This would yield 2500 new features that would certainly lead to massive overfitting of models.\n",
    ">\n",
    ">At the other extreme, suppose we had someone classify those words into different groups and create indicator variables for each group: e.g., `risky_words` (\"bankruptcy\", \"default\", \"forfeit\", \"lien\", etc.), `angry_words` (profanity, \"complaint\", etc.), and so on. This reduces dimensionality by manually grouping words, but it is extremely labor intensive.\n",
    ">\n",
    ">Word2Vec starts with the entire dictionary size $K$ as inputs and the selected vector size $k$ as the target number of outputs. Passing through the intermediate layer(s) of the Word2Vec neural net, a $k$-dimensional numeric representation of each word is derived. "
   ]
  },
  {
   "cell_type": "code",
   "execution_count": 28,
   "metadata": {},
   "outputs": [
    {
     "name": "stdout",
     "output_type": "stream",
     "text": [
      "word2vec Model Build progress: |██████████████████████████████████████████| 100%\n"
     ]
    }
   ],
   "source": [
    "from h2o.estimators.word2vec import H2OWord2vecEstimator\n",
    "\n",
    "w2v_model = H2OWord2vecEstimator(vec_size=100, model_id=\"w2v\")\n",
    "w2v_model.train(training_frame=words)"
   ]
  },
  {
   "cell_type": "markdown",
   "metadata": {},
   "source": [
    "One way we quickly sanity check the Word2Vec model is by finding synonyms for specified words, e.g., \"car\""
   ]
  },
  {
   "cell_type": "code",
   "execution_count": 29,
   "metadata": {},
   "outputs": [
    {
     "data": {
      "text/plain": [
       "OrderedDict([('vehicle', 0.7577829957008362),\n",
       "             ('camry', 0.7324779629707336),\n",
       "             ('prius', 0.6902819871902466),\n",
       "             ('lexus', 0.6827020049095154),\n",
       "             ('auto', 0.674635648727417)])"
      ]
     },
     "execution_count": 29,
     "metadata": {},
     "output_type": "execute_result"
    }
   ],
   "source": [
    "w2v_model.find_synonyms(\"car\", count=5)"
   ]
  },
  {
   "cell_type": "markdown",
   "metadata": {},
   "source": [
    "Assuming we are satisfied with our Word2Vec model results, we next calculate a vector for each description by averaging over all of the words in that description"
   ]
  },
  {
   "cell_type": "code",
   "execution_count": 30,
   "metadata": {
    "scrolled": true
   },
   "outputs": [
    {
     "data": {
      "text/html": [
       "<table>\n",
       "<thead>\n",
       "<tr><th style=\"text-align: right;\">          C1</th><th style=\"text-align: right;\">         C2</th><th style=\"text-align: right;\">         C3</th><th style=\"text-align: right;\">          C4</th><th style=\"text-align: right;\">          C5</th><th style=\"text-align: right;\">         C6</th><th style=\"text-align: right;\">         C7</th><th style=\"text-align: right;\">         C8</th><th style=\"text-align: right;\">          C9</th><th style=\"text-align: right;\">       C10</th><th style=\"text-align: right;\">        C11</th><th style=\"text-align: right;\">       C12</th><th style=\"text-align: right;\">        C13</th><th style=\"text-align: right;\">         C14</th><th style=\"text-align: right;\">        C15</th><th style=\"text-align: right;\">        C16</th><th style=\"text-align: right;\">         C17</th><th style=\"text-align: right;\">        C18</th><th style=\"text-align: right;\">         C19</th><th style=\"text-align: right;\">         C20</th><th style=\"text-align: right;\">         C21</th><th style=\"text-align: right;\">        C22</th><th style=\"text-align: right;\">         C23</th><th style=\"text-align: right;\">       C24</th><th style=\"text-align: right;\">         C25</th><th style=\"text-align: right;\">        C26</th><th style=\"text-align: right;\">        C27</th><th style=\"text-align: right;\">        C28</th><th style=\"text-align: right;\">        C29</th><th style=\"text-align: right;\">        C30</th><th style=\"text-align: right;\">        C31</th><th style=\"text-align: right;\">       C32</th><th style=\"text-align: right;\">          C33</th><th style=\"text-align: right;\">         C34</th><th style=\"text-align: right;\">        C35</th><th style=\"text-align: right;\">        C36</th><th style=\"text-align: right;\">        C37</th><th style=\"text-align: right;\">        C38</th><th style=\"text-align: right;\">         C39</th><th style=\"text-align: right;\">        C40</th><th style=\"text-align: right;\">         C41</th><th style=\"text-align: right;\">        C42</th><th style=\"text-align: right;\">         C43</th><th style=\"text-align: right;\">         C44</th><th style=\"text-align: right;\">        C45</th><th style=\"text-align: right;\">         C46</th><th style=\"text-align: right;\">         C47</th><th style=\"text-align: right;\">        C48</th><th style=\"text-align: right;\">        C49</th><th style=\"text-align: right;\">       C50</th><th style=\"text-align: right;\">        C51</th><th style=\"text-align: right;\">        C52</th><th style=\"text-align: right;\">        C53</th><th style=\"text-align: right;\">         C54</th><th style=\"text-align: right;\">        C55</th><th style=\"text-align: right;\">        C56</th><th style=\"text-align: right;\">        C57</th><th style=\"text-align: right;\">        C58</th><th style=\"text-align: right;\">        C59</th><th style=\"text-align: right;\">       C60</th><th style=\"text-align: right;\">        C61</th><th style=\"text-align: right;\">        C62</th><th style=\"text-align: right;\">        C63</th><th style=\"text-align: right;\">       C64</th><th style=\"text-align: right;\">        C65</th><th style=\"text-align: right;\">         C66</th><th style=\"text-align: right;\">         C67</th><th style=\"text-align: right;\">        C68</th><th style=\"text-align: right;\">        C69</th><th style=\"text-align: right;\">         C70</th><th style=\"text-align: right;\">        C71</th><th style=\"text-align: right;\">        C72</th><th style=\"text-align: right;\">        C73</th><th style=\"text-align: right;\">        C74</th><th style=\"text-align: right;\">        C75</th><th style=\"text-align: right;\">         C76</th><th style=\"text-align: right;\">        C77</th><th style=\"text-align: right;\">         C78</th><th style=\"text-align: right;\">        C79</th><th style=\"text-align: right;\">        C80</th><th style=\"text-align: right;\">        C81</th><th style=\"text-align: right;\">        C82</th><th style=\"text-align: right;\">         C83</th><th style=\"text-align: right;\">       C84</th><th style=\"text-align: right;\">         C85</th><th style=\"text-align: right;\">        C86</th><th style=\"text-align: right;\">        C87</th><th style=\"text-align: right;\">        C88</th><th style=\"text-align: right;\">         C89</th><th style=\"text-align: right;\">       C90</th><th style=\"text-align: right;\">         C91</th><th style=\"text-align: right;\">         C92</th><th style=\"text-align: right;\">        C93</th><th style=\"text-align: right;\">        C94</th><th style=\"text-align: right;\">        C95</th><th style=\"text-align: right;\">        C96</th><th style=\"text-align: right;\">        C97</th><th style=\"text-align: right;\">         C98</th><th style=\"text-align: right;\">        C99</th><th style=\"text-align: right;\">        C100</th></tr>\n",
       "</thead>\n",
       "<tbody>\n",
       "<tr><td style=\"text-align: right;\"> -0.0484074 </td><td style=\"text-align: right;\">  0.0374141</td><td style=\"text-align: right;\">  0.0510938</td><td style=\"text-align: right;\">  0.231984  </td><td style=\"text-align: right;\"> -0.0400246 </td><td style=\"text-align: right;\">  0.0750856</td><td style=\"text-align: right;\">  0.0878529</td><td style=\"text-align: right;\">  0.0988132</td><td style=\"text-align: right;\">  0.0700833 </td><td style=\"text-align: right;\">  0.158559</td><td style=\"text-align: right;\">  0.083274 </td><td style=\"text-align: right;\">  0.280659</td><td style=\"text-align: right;\">  0.0335878</td><td style=\"text-align: right;\"> -0.0776732 </td><td style=\"text-align: right;\"> -0.0787328</td><td style=\"text-align: right;\">  0.0302684</td><td style=\"text-align: right;\"> -0.0354218 </td><td style=\"text-align: right;\"> -0.109687 </td><td style=\"text-align: right;\">  0.0882609 </td><td style=\"text-align: right;\"> -0.0263459 </td><td style=\"text-align: right;\"> -0.0502742 </td><td style=\"text-align: right;\"> -0.0847725</td><td style=\"text-align: right;\"> -0.015594  </td><td style=\"text-align: right;\"> -0.298503</td><td style=\"text-align: right;\"> -0.00153032</td><td style=\"text-align: right;\"> -0.0758566</td><td style=\"text-align: right;\">  0.0607922</td><td style=\"text-align: right;\"> -0.0829296</td><td style=\"text-align: right;\">  0.257867 </td><td style=\"text-align: right;\">  0.19949  </td><td style=\"text-align: right;\"> -0.14958  </td><td style=\"text-align: right;\">  0.162028</td><td style=\"text-align: right;\"> -0.14482    </td><td style=\"text-align: right;\">  0.14494   </td><td style=\"text-align: right;\"> -0.0575913</td><td style=\"text-align: right;\"> -0.200048 </td><td style=\"text-align: right;\"> -0.0776501</td><td style=\"text-align: right;\"> -0.0913787</td><td style=\"text-align: right;\">  0.00584112</td><td style=\"text-align: right;\">  0.0819002</td><td style=\"text-align: right;\">  0.0218073 </td><td style=\"text-align: right;\">  0.0608664</td><td style=\"text-align: right;\">  0.0969191 </td><td style=\"text-align: right;\">  0.0309467 </td><td style=\"text-align: right;\">  0.0128348</td><td style=\"text-align: right;\">  0.0643841 </td><td style=\"text-align: right;\"> -0.0419882 </td><td style=\"text-align: right;\">  0.185055 </td><td style=\"text-align: right;\">  0.0109117</td><td style=\"text-align: right;\"> -0.167276</td><td style=\"text-align: right;\"> -0.154513 </td><td style=\"text-align: right;\">  0.0443361</td><td style=\"text-align: right;\">  0.0320365</td><td style=\"text-align: right;\"> -0.0375796 </td><td style=\"text-align: right;\">  0.0505011</td><td style=\"text-align: right;\"> -0.0246917</td><td style=\"text-align: right;\"> -0.0240895</td><td style=\"text-align: right;\"> -0.0348595</td><td style=\"text-align: right;\"> -0.150105 </td><td style=\"text-align: right;\"> -0.195979</td><td style=\"text-align: right;\">  0.0489069</td><td style=\"text-align: right;\"> -0.04744  </td><td style=\"text-align: right;\"> -0.0975633</td><td style=\"text-align: right;\">  0.296148</td><td style=\"text-align: right;\"> -0.158529 </td><td style=\"text-align: right;\"> -0.0156589 </td><td style=\"text-align: right;\"> -0.172622  </td><td style=\"text-align: right;\"> -0.0916651</td><td style=\"text-align: right;\"> -0.0297284</td><td style=\"text-align: right;\"> -0.0198683 </td><td style=\"text-align: right;\">  0.0304618</td><td style=\"text-align: right;\"> -0.105687 </td><td style=\"text-align: right;\">  0.138704 </td><td style=\"text-align: right;\"> -0.0353967</td><td style=\"text-align: right;\">  0.0244915</td><td style=\"text-align: right;\"> -0.101849  </td><td style=\"text-align: right;\">  0.0194108</td><td style=\"text-align: right;\"> -0.0361512 </td><td style=\"text-align: right;\"> -0.212227 </td><td style=\"text-align: right;\">  0.0926199</td><td style=\"text-align: right;\">  0.0115373</td><td style=\"text-align: right;\"> -0.0215038</td><td style=\"text-align: right;\"> -0.054398  </td><td style=\"text-align: right;\">  0.326162</td><td style=\"text-align: right;\">  0.00463982</td><td style=\"text-align: right;\">  0.203704 </td><td style=\"text-align: right;\"> -0.056874 </td><td style=\"text-align: right;\">  0.115037 </td><td style=\"text-align: right;\">  0.0949441 </td><td style=\"text-align: right;\">  0.144071</td><td style=\"text-align: right;\">  0.00241873</td><td style=\"text-align: right;\"> -0.0951179 </td><td style=\"text-align: right;\"> -0.216707 </td><td style=\"text-align: right;\">  0.086274 </td><td style=\"text-align: right;\">  0.189807 </td><td style=\"text-align: right;\"> -0.0931263</td><td style=\"text-align: right;\">  0.031826 </td><td style=\"text-align: right;\"> -0.0554853 </td><td style=\"text-align: right;\"> -0.0983655</td><td style=\"text-align: right;\">  0.031711  </td></tr>\n",
       "<tr><td style=\"text-align: right;\"> -0.103654  </td><td style=\"text-align: right;\"> -0.221962 </td><td style=\"text-align: right;\"> -0.0162682</td><td style=\"text-align: right;\">  0.0999365 </td><td style=\"text-align: right;\">  0.0213017 </td><td style=\"text-align: right;\">  0.215425 </td><td style=\"text-align: right;\">  0.0328462</td><td style=\"text-align: right;\">  0.159077 </td><td style=\"text-align: right;\">  0.0607371 </td><td style=\"text-align: right;\">  0.165278</td><td style=\"text-align: right;\">  0.135406 </td><td style=\"text-align: right;\">  0.191573</td><td style=\"text-align: right;\"> -0.0395552</td><td style=\"text-align: right;\"> -0.0916783 </td><td style=\"text-align: right;\"> -0.0842409</td><td style=\"text-align: right;\">  0.0569593</td><td style=\"text-align: right;\"> -0.00916007</td><td style=\"text-align: right;\"> -0.0960609</td><td style=\"text-align: right;\"> -0.0736483 </td><td style=\"text-align: right;\"> -0.00795633</td><td style=\"text-align: right;\"> -0.0194597 </td><td style=\"text-align: right;\"> -0.030964 </td><td style=\"text-align: right;\"> -0.163979  </td><td style=\"text-align: right;\"> -0.170036</td><td style=\"text-align: right;\"> -0.104521  </td><td style=\"text-align: right;\"> -0.120379 </td><td style=\"text-align: right;\"> -0.133722 </td><td style=\"text-align: right;\"> -0.155876 </td><td style=\"text-align: right;\">  0.0704181</td><td style=\"text-align: right;\">  0.180823 </td><td style=\"text-align: right;\"> -0.137374 </td><td style=\"text-align: right;\">  0.271941</td><td style=\"text-align: right;\">  0.000165264</td><td style=\"text-align: right;\">  0.0666587 </td><td style=\"text-align: right;\"> -0.0784019</td><td style=\"text-align: right;\"> -0.0223248</td><td style=\"text-align: right;\"> -0.0368072</td><td style=\"text-align: right;\"> -0.0846687</td><td style=\"text-align: right;\"> -0.0455524 </td><td style=\"text-align: right;\">  0.0594559</td><td style=\"text-align: right;\">  0.0387233 </td><td style=\"text-align: right;\">  0.0801978</td><td style=\"text-align: right;\">  0.0247734 </td><td style=\"text-align: right;\"> -0.0367539 </td><td style=\"text-align: right;\">  0.119888 </td><td style=\"text-align: right;\">  0.0732994 </td><td style=\"text-align: right;\">  0.0153377 </td><td style=\"text-align: right;\">  0.10551  </td><td style=\"text-align: right;\"> -0.0220732</td><td style=\"text-align: right;\"> -0.227896</td><td style=\"text-align: right;\"> -0.0452016</td><td style=\"text-align: right;\">  0.126773 </td><td style=\"text-align: right;\">  0.0602073</td><td style=\"text-align: right;\"> -0.0492541 </td><td style=\"text-align: right;\">  0.0600168</td><td style=\"text-align: right;\"> -0.0695377</td><td style=\"text-align: right;\"> -0.0293842</td><td style=\"text-align: right;\"> -0.0683474</td><td style=\"text-align: right;\"> -0.0649977</td><td style=\"text-align: right;\"> -0.107974</td><td style=\"text-align: right;\">  0.0710845</td><td style=\"text-align: right;\"> -0.0666315</td><td style=\"text-align: right;\"> -0.0772981</td><td style=\"text-align: right;\">  0.150943</td><td style=\"text-align: right;\"> -0.057135 </td><td style=\"text-align: right;\"> -0.0242031 </td><td style=\"text-align: right;\"> -0.04567   </td><td style=\"text-align: right;\">  0.0352067</td><td style=\"text-align: right;\"> -0.0820433</td><td style=\"text-align: right;\">  0.0785604 </td><td style=\"text-align: right;\">  0.0351877</td><td style=\"text-align: right;\"> -0.0290407</td><td style=\"text-align: right;\">  0.152256 </td><td style=\"text-align: right;\"> -0.0574529</td><td style=\"text-align: right;\"> -0.0518093</td><td style=\"text-align: right;\">  0.037263  </td><td style=\"text-align: right;\"> -0.0863974</td><td style=\"text-align: right;\">  0.0402498 </td><td style=\"text-align: right;\"> -0.127855 </td><td style=\"text-align: right;\"> -0.068152 </td><td style=\"text-align: right;\">  0.0577922</td><td style=\"text-align: right;\"> -0.101014 </td><td style=\"text-align: right;\">  0.131737  </td><td style=\"text-align: right;\">  0.249138</td><td style=\"text-align: right;\">  0.210546  </td><td style=\"text-align: right;\">  0.0798299</td><td style=\"text-align: right;\">  0.0360178</td><td style=\"text-align: right;\">  0.11724  </td><td style=\"text-align: right;\">  0.0991748 </td><td style=\"text-align: right;\">  0.188679</td><td style=\"text-align: right;\"> -0.17943   </td><td style=\"text-align: right;\">  0.0230528 </td><td style=\"text-align: right;\"> -0.0916634</td><td style=\"text-align: right;\">  0.0865798</td><td style=\"text-align: right;\">  0.142476 </td><td style=\"text-align: right;\"> -0.150234 </td><td style=\"text-align: right;\">  0.0319842</td><td style=\"text-align: right;\">  0.0158967 </td><td style=\"text-align: right;\"> -0.120077 </td><td style=\"text-align: right;\"> -0.0346857 </td></tr>\n",
       "<tr><td style=\"text-align: right;\">nan         </td><td style=\"text-align: right;\">nan        </td><td style=\"text-align: right;\">nan        </td><td style=\"text-align: right;\">nan         </td><td style=\"text-align: right;\">nan         </td><td style=\"text-align: right;\">nan        </td><td style=\"text-align: right;\">nan        </td><td style=\"text-align: right;\">nan        </td><td style=\"text-align: right;\">nan         </td><td style=\"text-align: right;\">nan       </td><td style=\"text-align: right;\">nan        </td><td style=\"text-align: right;\">nan       </td><td style=\"text-align: right;\">nan        </td><td style=\"text-align: right;\">nan         </td><td style=\"text-align: right;\">nan        </td><td style=\"text-align: right;\">nan        </td><td style=\"text-align: right;\">nan         </td><td style=\"text-align: right;\">nan        </td><td style=\"text-align: right;\">nan         </td><td style=\"text-align: right;\">nan         </td><td style=\"text-align: right;\">nan         </td><td style=\"text-align: right;\">nan        </td><td style=\"text-align: right;\">nan         </td><td style=\"text-align: right;\">nan       </td><td style=\"text-align: right;\">nan         </td><td style=\"text-align: right;\">nan        </td><td style=\"text-align: right;\">nan        </td><td style=\"text-align: right;\">nan        </td><td style=\"text-align: right;\">nan        </td><td style=\"text-align: right;\">nan        </td><td style=\"text-align: right;\">nan        </td><td style=\"text-align: right;\">nan       </td><td style=\"text-align: right;\">nan          </td><td style=\"text-align: right;\">nan         </td><td style=\"text-align: right;\">nan        </td><td style=\"text-align: right;\">nan        </td><td style=\"text-align: right;\">nan        </td><td style=\"text-align: right;\">nan        </td><td style=\"text-align: right;\">nan         </td><td style=\"text-align: right;\">nan        </td><td style=\"text-align: right;\">nan         </td><td style=\"text-align: right;\">nan        </td><td style=\"text-align: right;\">nan         </td><td style=\"text-align: right;\">nan         </td><td style=\"text-align: right;\">nan        </td><td style=\"text-align: right;\">nan         </td><td style=\"text-align: right;\">nan         </td><td style=\"text-align: right;\">nan        </td><td style=\"text-align: right;\">nan        </td><td style=\"text-align: right;\">nan       </td><td style=\"text-align: right;\">nan        </td><td style=\"text-align: right;\">nan        </td><td style=\"text-align: right;\">nan        </td><td style=\"text-align: right;\">nan         </td><td style=\"text-align: right;\">nan        </td><td style=\"text-align: right;\">nan        </td><td style=\"text-align: right;\">nan        </td><td style=\"text-align: right;\">nan        </td><td style=\"text-align: right;\">nan        </td><td style=\"text-align: right;\">nan       </td><td style=\"text-align: right;\">nan        </td><td style=\"text-align: right;\">nan        </td><td style=\"text-align: right;\">nan        </td><td style=\"text-align: right;\">nan       </td><td style=\"text-align: right;\">nan        </td><td style=\"text-align: right;\">nan         </td><td style=\"text-align: right;\">nan         </td><td style=\"text-align: right;\">nan        </td><td style=\"text-align: right;\">nan        </td><td style=\"text-align: right;\">nan         </td><td style=\"text-align: right;\">nan        </td><td style=\"text-align: right;\">nan        </td><td style=\"text-align: right;\">nan        </td><td style=\"text-align: right;\">nan        </td><td style=\"text-align: right;\">nan        </td><td style=\"text-align: right;\">nan         </td><td style=\"text-align: right;\">nan        </td><td style=\"text-align: right;\">nan         </td><td style=\"text-align: right;\">nan        </td><td style=\"text-align: right;\">nan        </td><td style=\"text-align: right;\">nan        </td><td style=\"text-align: right;\">nan        </td><td style=\"text-align: right;\">nan         </td><td style=\"text-align: right;\">nan       </td><td style=\"text-align: right;\">nan         </td><td style=\"text-align: right;\">nan        </td><td style=\"text-align: right;\">nan        </td><td style=\"text-align: right;\">nan        </td><td style=\"text-align: right;\">nan         </td><td style=\"text-align: right;\">nan       </td><td style=\"text-align: right;\">nan         </td><td style=\"text-align: right;\">nan         </td><td style=\"text-align: right;\">nan        </td><td style=\"text-align: right;\">nan        </td><td style=\"text-align: right;\">nan        </td><td style=\"text-align: right;\">nan        </td><td style=\"text-align: right;\">nan        </td><td style=\"text-align: right;\">nan         </td><td style=\"text-align: right;\">nan        </td><td style=\"text-align: right;\">nan         </td></tr>\n",
       "<tr><td style=\"text-align: right;\"> -0.0445259 </td><td style=\"text-align: right;\"> -0.234403 </td><td style=\"text-align: right;\">  0.0398989</td><td style=\"text-align: right;\">  0.0958624 </td><td style=\"text-align: right;\">  0.123047  </td><td style=\"text-align: right;\">  0.250786 </td><td style=\"text-align: right;\">  0.0451501</td><td style=\"text-align: right;\">  0.0759189</td><td style=\"text-align: right;\">  0.00012535</td><td style=\"text-align: right;\">  0.212833</td><td style=\"text-align: right;\">  0.0501161</td><td style=\"text-align: right;\">  0.124534</td><td style=\"text-align: right;\"> -0.0817721</td><td style=\"text-align: right;\"> -0.0946485 </td><td style=\"text-align: right;\"> -0.118697 </td><td style=\"text-align: right;\">  0.0825778</td><td style=\"text-align: right;\"> -0.0150638 </td><td style=\"text-align: right;\"> -0.0293465</td><td style=\"text-align: right;\"> -0.138186  </td><td style=\"text-align: right;\"> -0.0799541 </td><td style=\"text-align: right;\"> -0.0329765 </td><td style=\"text-align: right;\"> -0.0131598</td><td style=\"text-align: right;\">  0.0106906 </td><td style=\"text-align: right;\"> -0.150754</td><td style=\"text-align: right;\"> -0.00303764</td><td style=\"text-align: right;\"> -0.11293  </td><td style=\"text-align: right;\"> -0.144613 </td><td style=\"text-align: right;\"> -0.1784   </td><td style=\"text-align: right;\">  0.0511745</td><td style=\"text-align: right;\">  0.0618741</td><td style=\"text-align: right;\"> -0.139569 </td><td style=\"text-align: right;\">  0.183289</td><td style=\"text-align: right;\"> -0.0477617  </td><td style=\"text-align: right;\">  0.0729644 </td><td style=\"text-align: right;\"> -0.0395023</td><td style=\"text-align: right;\"> -0.0963995</td><td style=\"text-align: right;\"> -0.117257 </td><td style=\"text-align: right;\"> -0.105234 </td><td style=\"text-align: right;\"> -0.0112932 </td><td style=\"text-align: right;\">  0.0443016</td><td style=\"text-align: right;\"> -0.0558176 </td><td style=\"text-align: right;\">  0.0228302</td><td style=\"text-align: right;\">  0.133913  </td><td style=\"text-align: right;\"> -0.0327135 </td><td style=\"text-align: right;\">  0.0576052</td><td style=\"text-align: right;\">  0.112191  </td><td style=\"text-align: right;\">  0.00616325</td><td style=\"text-align: right;\">  0.0510296</td><td style=\"text-align: right;\"> -0.0083564</td><td style=\"text-align: right;\"> -0.187903</td><td style=\"text-align: right;\"> -0.173391 </td><td style=\"text-align: right;\">  0.0434756</td><td style=\"text-align: right;\">  0.0580816</td><td style=\"text-align: right;\"> -0.0555184 </td><td style=\"text-align: right;\">  0.0684096</td><td style=\"text-align: right;\"> -0.0806534</td><td style=\"text-align: right;\"> -0.0117433</td><td style=\"text-align: right;\"> -0.015954 </td><td style=\"text-align: right;\"> -0.0833712</td><td style=\"text-align: right;\"> -0.158606</td><td style=\"text-align: right;\">  0.0585542</td><td style=\"text-align: right;\">  0.0199088</td><td style=\"text-align: right;\"> -0.108764 </td><td style=\"text-align: right;\">  0.226329</td><td style=\"text-align: right;\"> -0.0400832</td><td style=\"text-align: right;\">  0.0454742 </td><td style=\"text-align: right;\"> -0.0589187 </td><td style=\"text-align: right;\">  0.0825079</td><td style=\"text-align: right;\"> -0.146217 </td><td style=\"text-align: right;\">  0.0609238 </td><td style=\"text-align: right;\">  0.084003 </td><td style=\"text-align: right;\"> -0.0537972</td><td style=\"text-align: right;\">  0.131516 </td><td style=\"text-align: right;\"> -0.0861077</td><td style=\"text-align: right;\"> -0.0961188</td><td style=\"text-align: right;\">  0.00657731</td><td style=\"text-align: right;\"> -0.0758185</td><td style=\"text-align: right;\"> -0.0614594 </td><td style=\"text-align: right;\"> -0.173202 </td><td style=\"text-align: right;\"> -0.0179721</td><td style=\"text-align: right;\"> -0.0126842</td><td style=\"text-align: right;\"> -0.0722036</td><td style=\"text-align: right;\">  0.00932848</td><td style=\"text-align: right;\">  0.300761</td><td style=\"text-align: right;\">  0.295929  </td><td style=\"text-align: right;\">  0.143228 </td><td style=\"text-align: right;\">  0.0733341</td><td style=\"text-align: right;\">  0.138706 </td><td style=\"text-align: right;\">  0.148604  </td><td style=\"text-align: right;\">  0.214474</td><td style=\"text-align: right;\"> -0.130017  </td><td style=\"text-align: right;\">  0.0511839 </td><td style=\"text-align: right;\"> -0.164523 </td><td style=\"text-align: right;\">  0.0588933</td><td style=\"text-align: right;\">  0.0811165</td><td style=\"text-align: right;\"> -0.0667637</td><td style=\"text-align: right;\"> -0.0244107</td><td style=\"text-align: right;\"> -0.0612974 </td><td style=\"text-align: right;\"> -0.061999 </td><td style=\"text-align: right;\"> -0.0149279 </td></tr>\n",
       "<tr><td style=\"text-align: right;\">nan         </td><td style=\"text-align: right;\">nan        </td><td style=\"text-align: right;\">nan        </td><td style=\"text-align: right;\">nan         </td><td style=\"text-align: right;\">nan         </td><td style=\"text-align: right;\">nan        </td><td style=\"text-align: right;\">nan        </td><td style=\"text-align: right;\">nan        </td><td style=\"text-align: right;\">nan         </td><td style=\"text-align: right;\">nan       </td><td style=\"text-align: right;\">nan        </td><td style=\"text-align: right;\">nan       </td><td style=\"text-align: right;\">nan        </td><td style=\"text-align: right;\">nan         </td><td style=\"text-align: right;\">nan        </td><td style=\"text-align: right;\">nan        </td><td style=\"text-align: right;\">nan         </td><td style=\"text-align: right;\">nan        </td><td style=\"text-align: right;\">nan         </td><td style=\"text-align: right;\">nan         </td><td style=\"text-align: right;\">nan         </td><td style=\"text-align: right;\">nan        </td><td style=\"text-align: right;\">nan         </td><td style=\"text-align: right;\">nan       </td><td style=\"text-align: right;\">nan         </td><td style=\"text-align: right;\">nan        </td><td style=\"text-align: right;\">nan        </td><td style=\"text-align: right;\">nan        </td><td style=\"text-align: right;\">nan        </td><td style=\"text-align: right;\">nan        </td><td style=\"text-align: right;\">nan        </td><td style=\"text-align: right;\">nan       </td><td style=\"text-align: right;\">nan          </td><td style=\"text-align: right;\">nan         </td><td style=\"text-align: right;\">nan        </td><td style=\"text-align: right;\">nan        </td><td style=\"text-align: right;\">nan        </td><td style=\"text-align: right;\">nan        </td><td style=\"text-align: right;\">nan         </td><td style=\"text-align: right;\">nan        </td><td style=\"text-align: right;\">nan         </td><td style=\"text-align: right;\">nan        </td><td style=\"text-align: right;\">nan         </td><td style=\"text-align: right;\">nan         </td><td style=\"text-align: right;\">nan        </td><td style=\"text-align: right;\">nan         </td><td style=\"text-align: right;\">nan         </td><td style=\"text-align: right;\">nan        </td><td style=\"text-align: right;\">nan        </td><td style=\"text-align: right;\">nan       </td><td style=\"text-align: right;\">nan        </td><td style=\"text-align: right;\">nan        </td><td style=\"text-align: right;\">nan        </td><td style=\"text-align: right;\">nan         </td><td style=\"text-align: right;\">nan        </td><td style=\"text-align: right;\">nan        </td><td style=\"text-align: right;\">nan        </td><td style=\"text-align: right;\">nan        </td><td style=\"text-align: right;\">nan        </td><td style=\"text-align: right;\">nan       </td><td style=\"text-align: right;\">nan        </td><td style=\"text-align: right;\">nan        </td><td style=\"text-align: right;\">nan        </td><td style=\"text-align: right;\">nan       </td><td style=\"text-align: right;\">nan        </td><td style=\"text-align: right;\">nan         </td><td style=\"text-align: right;\">nan         </td><td style=\"text-align: right;\">nan        </td><td style=\"text-align: right;\">nan        </td><td style=\"text-align: right;\">nan         </td><td style=\"text-align: right;\">nan        </td><td style=\"text-align: right;\">nan        </td><td style=\"text-align: right;\">nan        </td><td style=\"text-align: right;\">nan        </td><td style=\"text-align: right;\">nan        </td><td style=\"text-align: right;\">nan         </td><td style=\"text-align: right;\">nan        </td><td style=\"text-align: right;\">nan         </td><td style=\"text-align: right;\">nan        </td><td style=\"text-align: right;\">nan        </td><td style=\"text-align: right;\">nan        </td><td style=\"text-align: right;\">nan        </td><td style=\"text-align: right;\">nan         </td><td style=\"text-align: right;\">nan       </td><td style=\"text-align: right;\">nan         </td><td style=\"text-align: right;\">nan        </td><td style=\"text-align: right;\">nan        </td><td style=\"text-align: right;\">nan        </td><td style=\"text-align: right;\">nan         </td><td style=\"text-align: right;\">nan       </td><td style=\"text-align: right;\">nan         </td><td style=\"text-align: right;\">nan         </td><td style=\"text-align: right;\">nan        </td><td style=\"text-align: right;\">nan        </td><td style=\"text-align: right;\">nan        </td><td style=\"text-align: right;\">nan        </td><td style=\"text-align: right;\">nan        </td><td style=\"text-align: right;\">nan         </td><td style=\"text-align: right;\">nan        </td><td style=\"text-align: right;\">nan         </td></tr>\n",
       "<tr><td style=\"text-align: right;\"> -0.134301  </td><td style=\"text-align: right;\"> -0.0614042</td><td style=\"text-align: right;\"> -0.091709 </td><td style=\"text-align: right;\">  0.0350453 </td><td style=\"text-align: right;\">  0.319776  </td><td style=\"text-align: right;\">  0.154477 </td><td style=\"text-align: right;\">  0.0566052</td><td style=\"text-align: right;\">  0.104523 </td><td style=\"text-align: right;\">  0.165686  </td><td style=\"text-align: right;\">  0.227433</td><td style=\"text-align: right;\">  0.030631 </td><td style=\"text-align: right;\">  0.234485</td><td style=\"text-align: right;\"> -0.14491  </td><td style=\"text-align: right;\"> -0.0532311 </td><td style=\"text-align: right;\"> -0.0719447</td><td style=\"text-align: right;\"> -0.0242502</td><td style=\"text-align: right;\"> -0.103835  </td><td style=\"text-align: right;\">  0.0179673</td><td style=\"text-align: right;\">  0.00990017</td><td style=\"text-align: right;\">  0.0235926 </td><td style=\"text-align: right;\"> -0.0778932 </td><td style=\"text-align: right;\"> -0.113209 </td><td style=\"text-align: right;\"> -0.0433464 </td><td style=\"text-align: right;\"> -0.315031</td><td style=\"text-align: right;\">  0.0315408 </td><td style=\"text-align: right;\"> -0.0872949</td><td style=\"text-align: right;\"> -0.0814142</td><td style=\"text-align: right;\"> -0.0732153</td><td style=\"text-align: right;\">  0.223324 </td><td style=\"text-align: right;\">  0.245375 </td><td style=\"text-align: right;\"> -0.22893  </td><td style=\"text-align: right;\">  0.232779</td><td style=\"text-align: right;\"> -0.0631058  </td><td style=\"text-align: right;\">  0.00331714</td><td style=\"text-align: right;\"> -0.196764 </td><td style=\"text-align: right;\"> -0.0200125</td><td style=\"text-align: right;\"> -0.218241 </td><td style=\"text-align: right;\"> -0.0900578</td><td style=\"text-align: right;\">  0.0549565 </td><td style=\"text-align: right;\">  0.117515 </td><td style=\"text-align: right;\"> -0.00320589</td><td style=\"text-align: right;\"> -0.0340165</td><td style=\"text-align: right;\">  0.111483  </td><td style=\"text-align: right;\"> -0.00694905</td><td style=\"text-align: right;\">  0.0409933</td><td style=\"text-align: right;\">  0.255284  </td><td style=\"text-align: right;\"> -0.0321755 </td><td style=\"text-align: right;\">  0.140017 </td><td style=\"text-align: right;\">  0.0602646</td><td style=\"text-align: right;\"> -0.216071</td><td style=\"text-align: right;\"> -0.0470207</td><td style=\"text-align: right;\">  0.10717  </td><td style=\"text-align: right;\">  0.103785 </td><td style=\"text-align: right;\"> -0.0747038 </td><td style=\"text-align: right;\">  0.146727 </td><td style=\"text-align: right;\"> -0.053485 </td><td style=\"text-align: right;\">  0.111814 </td><td style=\"text-align: right;\"> -0.0104605</td><td style=\"text-align: right;\"> -0.141243 </td><td style=\"text-align: right;\"> -0.116844</td><td style=\"text-align: right;\">  0.121608 </td><td style=\"text-align: right;\"> -0.0353384</td><td style=\"text-align: right;\"> -0.111727 </td><td style=\"text-align: right;\">  0.297955</td><td style=\"text-align: right;\">  0.0211404</td><td style=\"text-align: right;\">  0.0726477 </td><td style=\"text-align: right;\"> -0.035272  </td><td style=\"text-align: right;\"> -0.136908 </td><td style=\"text-align: right;\"> -0.23429  </td><td style=\"text-align: right;\">  0.00192917</td><td style=\"text-align: right;\"> -0.033227 </td><td style=\"text-align: right;\"> -0.0732019</td><td style=\"text-align: right;\">  0.236968 </td><td style=\"text-align: right;\"> -0.0759152</td><td style=\"text-align: right;\"> -0.107276 </td><td style=\"text-align: right;\">  0.0159165 </td><td style=\"text-align: right;\">  0.148339 </td><td style=\"text-align: right;\"> -0.00401145</td><td style=\"text-align: right;\"> -0.224938 </td><td style=\"text-align: right;\">  0.0223814</td><td style=\"text-align: right;\"> -0.0441497</td><td style=\"text-align: right;\"> -0.167146 </td><td style=\"text-align: right;\"> -0.0311555 </td><td style=\"text-align: right;\">  0.313828</td><td style=\"text-align: right;\">  0.298449  </td><td style=\"text-align: right;\">  0.203721 </td><td style=\"text-align: right;\">  0.0383409</td><td style=\"text-align: right;\">  0.188954 </td><td style=\"text-align: right;\">  0.00762078</td><td style=\"text-align: right;\">  0.263936</td><td style=\"text-align: right;\"> -0.140253  </td><td style=\"text-align: right;\"> -0.134858  </td><td style=\"text-align: right;\"> -0.198365 </td><td style=\"text-align: right;\">  0.135884 </td><td style=\"text-align: right;\">  0.253616 </td><td style=\"text-align: right;\">  0.0217825</td><td style=\"text-align: right;\">  0.0709922</td><td style=\"text-align: right;\"> -0.0270517 </td><td style=\"text-align: right;\"> -0.132372 </td><td style=\"text-align: right;\"> -0.147681  </td></tr>\n",
       "<tr><td style=\"text-align: right;\"> -0.0842581 </td><td style=\"text-align: right;\"> -0.266128 </td><td style=\"text-align: right;\"> -0.0289106</td><td style=\"text-align: right;\">  0.0341158 </td><td style=\"text-align: right;\"> -0.045151  </td><td style=\"text-align: right;\">  0.101852 </td><td style=\"text-align: right;\">  0.0445029</td><td style=\"text-align: right;\">  0.294097 </td><td style=\"text-align: right;\">  0.0535831 </td><td style=\"text-align: right;\">  0.101503</td><td style=\"text-align: right;\">  0.114566 </td><td style=\"text-align: right;\">  0.141915</td><td style=\"text-align: right;\"> -0.0295508</td><td style=\"text-align: right;\"> -0.126011  </td><td style=\"text-align: right;\"> -0.0529287</td><td style=\"text-align: right;\">  0.0419858</td><td style=\"text-align: right;\">  0.019514  </td><td style=\"text-align: right;\"> -0.0875912</td><td style=\"text-align: right;\"> -0.00419422</td><td style=\"text-align: right;\">  0.0447842 </td><td style=\"text-align: right;\">  0.014361  </td><td style=\"text-align: right;\"> -0.0468564</td><td style=\"text-align: right;\">  0.00852706</td><td style=\"text-align: right;\"> -0.136414</td><td style=\"text-align: right;\"> -0.0432969 </td><td style=\"text-align: right;\"> -0.178334 </td><td style=\"text-align: right;\">  0.0209593</td><td style=\"text-align: right;\"> -0.216374 </td><td style=\"text-align: right;\">  0.143989 </td><td style=\"text-align: right;\">  0.0945131</td><td style=\"text-align: right;\"> -0.0990229</td><td style=\"text-align: right;\">  0.201058</td><td style=\"text-align: right;\"> -0.0688608  </td><td style=\"text-align: right;\">  0.113146  </td><td style=\"text-align: right;\"> -0.0877869</td><td style=\"text-align: right;\"> -0.0843082</td><td style=\"text-align: right;\"> -0.0661302</td><td style=\"text-align: right;\"> -0.0123936</td><td style=\"text-align: right;\"> -0.00341235</td><td style=\"text-align: right;\">  0.0560449</td><td style=\"text-align: right;\"> -0.026689  </td><td style=\"text-align: right;\">  0.0940757</td><td style=\"text-align: right;\">  0.0836175 </td><td style=\"text-align: right;\">  0.0306635 </td><td style=\"text-align: right;\">  0.137724 </td><td style=\"text-align: right;\">  0.0249501 </td><td style=\"text-align: right;\"> -0.0724922 </td><td style=\"text-align: right;\">  0.142805 </td><td style=\"text-align: right;\"> -0.0233153</td><td style=\"text-align: right;\"> -0.220023</td><td style=\"text-align: right;\"> -0.110827 </td><td style=\"text-align: right;\">  0.055602 </td><td style=\"text-align: right;\"> -0.0179787</td><td style=\"text-align: right;\"> -0.0704019 </td><td style=\"text-align: right;\">  0.0674506</td><td style=\"text-align: right;\"> -0.0623646</td><td style=\"text-align: right;\"> -0.118489 </td><td style=\"text-align: right;\"> -0.0649531</td><td style=\"text-align: right;\"> -0.106727 </td><td style=\"text-align: right;\"> -0.129158</td><td style=\"text-align: right;\">  0.116835 </td><td style=\"text-align: right;\"> -0.0149755</td><td style=\"text-align: right;\"> -0.125839 </td><td style=\"text-align: right;\">  0.112919</td><td style=\"text-align: right;\"> -0.165773 </td><td style=\"text-align: right;\"> -0.0157183 </td><td style=\"text-align: right;\"> -0.0410609 </td><td style=\"text-align: right;\"> -0.078078 </td><td style=\"text-align: right;\"> -0.0423889</td><td style=\"text-align: right;\">  0.0996217 </td><td style=\"text-align: right;\">  0.0848188</td><td style=\"text-align: right;\"> -0.0659388</td><td style=\"text-align: right;\">  0.167536 </td><td style=\"text-align: right;\"> -0.0217687</td><td style=\"text-align: right;\"> -0.0205437</td><td style=\"text-align: right;\"> -0.0515315 </td><td style=\"text-align: right;\">  0.0690967</td><td style=\"text-align: right;\"> -0.0261444 </td><td style=\"text-align: right;\"> -0.0805801</td><td style=\"text-align: right;\"> -0.0184747</td><td style=\"text-align: right;\"> -0.0925051</td><td style=\"text-align: right;\"> -0.0702282</td><td style=\"text-align: right;\"> -0.00605097</td><td style=\"text-align: right;\">  0.224844</td><td style=\"text-align: right;\">  0.0593797 </td><td style=\"text-align: right;\">  0.0929075</td><td style=\"text-align: right;\">  0.042839 </td><td style=\"text-align: right;\">  0.015011 </td><td style=\"text-align: right;\">  0.0323192 </td><td style=\"text-align: right;\">  0.117311</td><td style=\"text-align: right;\"> -0.1644    </td><td style=\"text-align: right;\">  0.00468977</td><td style=\"text-align: right;\"> -0.0984306</td><td style=\"text-align: right;\">  0.0752696</td><td style=\"text-align: right;\">  0.148598 </td><td style=\"text-align: right;\"> -0.171074 </td><td style=\"text-align: right;\">  0.104974 </td><td style=\"text-align: right;\"> -0.036177  </td><td style=\"text-align: right;\"> -0.0758182</td><td style=\"text-align: right;\"> -0.102526  </td></tr>\n",
       "<tr><td style=\"text-align: right;\"> -0.100979  </td><td style=\"text-align: right;\"> -0.280827 </td><td style=\"text-align: right;\"> -0.0367548</td><td style=\"text-align: right;\"> -0.0297038 </td><td style=\"text-align: right;\">  0.0414309 </td><td style=\"text-align: right;\">  0.139428 </td><td style=\"text-align: right;\"> -0.0195886</td><td style=\"text-align: right;\">  0.216477 </td><td style=\"text-align: right;\">  0.0229913 </td><td style=\"text-align: right;\">  0.174316</td><td style=\"text-align: right;\">  0.0654246</td><td style=\"text-align: right;\">  0.137609</td><td style=\"text-align: right;\"> -0.0808278</td><td style=\"text-align: right;\"> -0.00180111</td><td style=\"text-align: right;\"> -0.0841593</td><td style=\"text-align: right;\">  0.057882 </td><td style=\"text-align: right;\">  0.0182726 </td><td style=\"text-align: right;\"> -0.01819  </td><td style=\"text-align: right;\"> -0.0734239 </td><td style=\"text-align: right;\">  0.0294834 </td><td style=\"text-align: right;\">  0.00404838</td><td style=\"text-align: right;\"> -0.099901 </td><td style=\"text-align: right;\"> -0.142607  </td><td style=\"text-align: right;\"> -0.174802</td><td style=\"text-align: right;\"> -0.0486619 </td><td style=\"text-align: right;\"> -0.0845693</td><td style=\"text-align: right;\"> -0.0810165</td><td style=\"text-align: right;\"> -0.103935 </td><td style=\"text-align: right;\">  0.104782 </td><td style=\"text-align: right;\">  0.168173 </td><td style=\"text-align: right;\"> -0.0620454</td><td style=\"text-align: right;\">  0.223202</td><td style=\"text-align: right;\"> -0.0401465  </td><td style=\"text-align: right;\">  0.0580282 </td><td style=\"text-align: right;\"> -0.0403092</td><td style=\"text-align: right;\"> -0.0280281</td><td style=\"text-align: right;\"> -0.132102 </td><td style=\"text-align: right;\"> -0.0222195</td><td style=\"text-align: right;\">  0.0177503 </td><td style=\"text-align: right;\">  0.0945183</td><td style=\"text-align: right;\"> -0.0346192 </td><td style=\"text-align: right;\">  0.0668802</td><td style=\"text-align: right;\">  0.0540649 </td><td style=\"text-align: right;\"> -0.0380431 </td><td style=\"text-align: right;\">  0.0188192</td><td style=\"text-align: right;\">  0.0968503 </td><td style=\"text-align: right;\"> -0.0285692 </td><td style=\"text-align: right;\">  0.0652772</td><td style=\"text-align: right;\"> -0.0313375</td><td style=\"text-align: right;\"> -0.199478</td><td style=\"text-align: right;\"> -0.036104 </td><td style=\"text-align: right;\">  0.0830342</td><td style=\"text-align: right;\">  0.0514378</td><td style=\"text-align: right;\"> -0.00716957</td><td style=\"text-align: right;\">  0.0619308</td><td style=\"text-align: right;\"> -0.0545862</td><td style=\"text-align: right;\"> -0.0150711</td><td style=\"text-align: right;\"> -0.0590642</td><td style=\"text-align: right;\"> -0.10482  </td><td style=\"text-align: right;\"> -0.129541</td><td style=\"text-align: right;\">  0.11612  </td><td style=\"text-align: right;\"> -0.042942 </td><td style=\"text-align: right;\"> -0.118483 </td><td style=\"text-align: right;\">  0.231478</td><td style=\"text-align: right;\"> -0.0827771</td><td style=\"text-align: right;\">  0.00410151</td><td style=\"text-align: right;\"> -0.0779312 </td><td style=\"text-align: right;\"> -0.0845233</td><td style=\"text-align: right;\"> -0.0581984</td><td style=\"text-align: right;\">  0.09277   </td><td style=\"text-align: right;\">  0.0496473</td><td style=\"text-align: right;\"> -0.0199699</td><td style=\"text-align: right;\">  0.113091 </td><td style=\"text-align: right;\"> -0.0176007</td><td style=\"text-align: right;\"> -0.0574619</td><td style=\"text-align: right;\"> -0.0208094 </td><td style=\"text-align: right;\"> -0.0207538</td><td style=\"text-align: right;\"> -0.0180137 </td><td style=\"text-align: right;\"> -0.150534 </td><td style=\"text-align: right;\"> -0.0310044</td><td style=\"text-align: right;\"> -0.0459414</td><td style=\"text-align: right;\"> -0.109335 </td><td style=\"text-align: right;\">  0.0959799 </td><td style=\"text-align: right;\">  0.30592 </td><td style=\"text-align: right;\">  0.213574  </td><td style=\"text-align: right;\">  0.0737771</td><td style=\"text-align: right;\">  0.027573 </td><td style=\"text-align: right;\">  0.122421 </td><td style=\"text-align: right;\">  0.126935  </td><td style=\"text-align: right;\">  0.248519</td><td style=\"text-align: right;\"> -0.177146  </td><td style=\"text-align: right;\">  0.0209339 </td><td style=\"text-align: right;\"> -0.115048 </td><td style=\"text-align: right;\">  0.0379152</td><td style=\"text-align: right;\">  0.100063 </td><td style=\"text-align: right;\"> -0.138393 </td><td style=\"text-align: right;\">  0.0545385</td><td style=\"text-align: right;\">  0.00272664</td><td style=\"text-align: right;\"> -0.116403 </td><td style=\"text-align: right;\">  0.00666989</td></tr>\n",
       "<tr><td style=\"text-align: right;\"> -0.00996782</td><td style=\"text-align: right;\"> -0.3026   </td><td style=\"text-align: right;\">  0.0366109</td><td style=\"text-align: right;\"> -0.00921676</td><td style=\"text-align: right;\"> -0.00294984</td><td style=\"text-align: right;\">  0.201857 </td><td style=\"text-align: right;\"> -0.0365535</td><td style=\"text-align: right;\">  0.308836 </td><td style=\"text-align: right;\"> -0.0462447 </td><td style=\"text-align: right;\">  0.242786</td><td style=\"text-align: right;\">  0.060933 </td><td style=\"text-align: right;\">  0.106707</td><td style=\"text-align: right;\">  0.0440893</td><td style=\"text-align: right;\"> -0.0148956 </td><td style=\"text-align: right;\"> -0.0554128</td><td style=\"text-align: right;\">  0.0848173</td><td style=\"text-align: right;\">  0.0143942 </td><td style=\"text-align: right;\"> -0.115318 </td><td style=\"text-align: right;\"> -0.0655156 </td><td style=\"text-align: right;\"> -0.0405753 </td><td style=\"text-align: right;\"> -0.0131184 </td><td style=\"text-align: right;\"> -0.0995452</td><td style=\"text-align: right;\"> -0.0697593 </td><td style=\"text-align: right;\"> -0.121044</td><td style=\"text-align: right;\"> -0.0263936 </td><td style=\"text-align: right;\"> -0.20076  </td><td style=\"text-align: right;\"> -0.139108 </td><td style=\"text-align: right;\"> -0.179315 </td><td style=\"text-align: right;\">  0.0775409</td><td style=\"text-align: right;\">  0.114611 </td><td style=\"text-align: right;\"> -0.10074  </td><td style=\"text-align: right;\">  0.199305</td><td style=\"text-align: right;\">  0.0558919  </td><td style=\"text-align: right;\">  0.0877547 </td><td style=\"text-align: right;\"> -0.0818114</td><td style=\"text-align: right;\"> -0.0953293</td><td style=\"text-align: right;\"> -0.116179 </td><td style=\"text-align: right;\"> -0.0856996</td><td style=\"text-align: right;\">  0.0193764 </td><td style=\"text-align: right;\">  0.0833845</td><td style=\"text-align: right;\"> -0.0207426 </td><td style=\"text-align: right;\">  0.0819855</td><td style=\"text-align: right;\">  0.00234638</td><td style=\"text-align: right;\"> -0.0486229 </td><td style=\"text-align: right;\">  0.0596086</td><td style=\"text-align: right;\">  0.00329694</td><td style=\"text-align: right;\">  0.0800351 </td><td style=\"text-align: right;\">  0.05269  </td><td style=\"text-align: right;\">  0.0556591</td><td style=\"text-align: right;\"> -0.164327</td><td style=\"text-align: right;\"> -0.134575 </td><td style=\"text-align: right;\"> -0.0441877</td><td style=\"text-align: right;\"> -0.0390345</td><td style=\"text-align: right;\"> -0.101317  </td><td style=\"text-align: right;\">  0.0832939</td><td style=\"text-align: right;\"> -0.0102056</td><td style=\"text-align: right;\">  0.020028 </td><td style=\"text-align: right;\"> -0.0440985</td><td style=\"text-align: right;\"> -0.0611253</td><td style=\"text-align: right;\"> -0.131604</td><td style=\"text-align: right;\">  0.148283 </td><td style=\"text-align: right;\">  0.0681083</td><td style=\"text-align: right;\"> -0.163928 </td><td style=\"text-align: right;\">  0.194018</td><td style=\"text-align: right;\"> -0.0831211</td><td style=\"text-align: right;\"> -0.0152668 </td><td style=\"text-align: right;\"> -0.00275231</td><td style=\"text-align: right;\"> -0.0997025</td><td style=\"text-align: right;\"> -0.0952513</td><td style=\"text-align: right;\">  0.104479  </td><td style=\"text-align: right;\">  0.0304319</td><td style=\"text-align: right;\"> -0.0135362</td><td style=\"text-align: right;\">  0.0271473</td><td style=\"text-align: right;\">  0.0133075</td><td style=\"text-align: right;\"> -0.121358 </td><td style=\"text-align: right;\">  0.0167641 </td><td style=\"text-align: right;\">  0.0260056</td><td style=\"text-align: right;\">  0.0417687 </td><td style=\"text-align: right;\"> -0.165435 </td><td style=\"text-align: right;\"> -0.11138  </td><td style=\"text-align: right;\">  0.030655 </td><td style=\"text-align: right;\"> -0.0472923</td><td style=\"text-align: right;\">  0.210116  </td><td style=\"text-align: right;\">  0.222403</td><td style=\"text-align: right;\">  0.290045  </td><td style=\"text-align: right;\">  0.0552243</td><td style=\"text-align: right;\">  0.0284516</td><td style=\"text-align: right;\">  0.0889406</td><td style=\"text-align: right;\">  0.107712  </td><td style=\"text-align: right;\">  0.111608</td><td style=\"text-align: right;\"> -0.0900096 </td><td style=\"text-align: right;\">  0.172922  </td><td style=\"text-align: right;\"> -0.0927107</td><td style=\"text-align: right;\">  0.0970355</td><td style=\"text-align: right;\">  0.0533448</td><td style=\"text-align: right;\"> -0.159207 </td><td style=\"text-align: right;\">  0.0864469</td><td style=\"text-align: right;\">  0.0269988 </td><td style=\"text-align: right;\"> -0.172687 </td><td style=\"text-align: right;\">  0.0667909 </td></tr>\n",
       "<tr><td style=\"text-align: right;\">nan         </td><td style=\"text-align: right;\">nan        </td><td style=\"text-align: right;\">nan        </td><td style=\"text-align: right;\">nan         </td><td style=\"text-align: right;\">nan         </td><td style=\"text-align: right;\">nan        </td><td style=\"text-align: right;\">nan        </td><td style=\"text-align: right;\">nan        </td><td style=\"text-align: right;\">nan         </td><td style=\"text-align: right;\">nan       </td><td style=\"text-align: right;\">nan        </td><td style=\"text-align: right;\">nan       </td><td style=\"text-align: right;\">nan        </td><td style=\"text-align: right;\">nan         </td><td style=\"text-align: right;\">nan        </td><td style=\"text-align: right;\">nan        </td><td style=\"text-align: right;\">nan         </td><td style=\"text-align: right;\">nan        </td><td style=\"text-align: right;\">nan         </td><td style=\"text-align: right;\">nan         </td><td style=\"text-align: right;\">nan         </td><td style=\"text-align: right;\">nan        </td><td style=\"text-align: right;\">nan         </td><td style=\"text-align: right;\">nan       </td><td style=\"text-align: right;\">nan         </td><td style=\"text-align: right;\">nan        </td><td style=\"text-align: right;\">nan        </td><td style=\"text-align: right;\">nan        </td><td style=\"text-align: right;\">nan        </td><td style=\"text-align: right;\">nan        </td><td style=\"text-align: right;\">nan        </td><td style=\"text-align: right;\">nan       </td><td style=\"text-align: right;\">nan          </td><td style=\"text-align: right;\">nan         </td><td style=\"text-align: right;\">nan        </td><td style=\"text-align: right;\">nan        </td><td style=\"text-align: right;\">nan        </td><td style=\"text-align: right;\">nan        </td><td style=\"text-align: right;\">nan         </td><td style=\"text-align: right;\">nan        </td><td style=\"text-align: right;\">nan         </td><td style=\"text-align: right;\">nan        </td><td style=\"text-align: right;\">nan         </td><td style=\"text-align: right;\">nan         </td><td style=\"text-align: right;\">nan        </td><td style=\"text-align: right;\">nan         </td><td style=\"text-align: right;\">nan         </td><td style=\"text-align: right;\">nan        </td><td style=\"text-align: right;\">nan        </td><td style=\"text-align: right;\">nan       </td><td style=\"text-align: right;\">nan        </td><td style=\"text-align: right;\">nan        </td><td style=\"text-align: right;\">nan        </td><td style=\"text-align: right;\">nan         </td><td style=\"text-align: right;\">nan        </td><td style=\"text-align: right;\">nan        </td><td style=\"text-align: right;\">nan        </td><td style=\"text-align: right;\">nan        </td><td style=\"text-align: right;\">nan        </td><td style=\"text-align: right;\">nan       </td><td style=\"text-align: right;\">nan        </td><td style=\"text-align: right;\">nan        </td><td style=\"text-align: right;\">nan        </td><td style=\"text-align: right;\">nan       </td><td style=\"text-align: right;\">nan        </td><td style=\"text-align: right;\">nan         </td><td style=\"text-align: right;\">nan         </td><td style=\"text-align: right;\">nan        </td><td style=\"text-align: right;\">nan        </td><td style=\"text-align: right;\">nan         </td><td style=\"text-align: right;\">nan        </td><td style=\"text-align: right;\">nan        </td><td style=\"text-align: right;\">nan        </td><td style=\"text-align: right;\">nan        </td><td style=\"text-align: right;\">nan        </td><td style=\"text-align: right;\">nan         </td><td style=\"text-align: right;\">nan        </td><td style=\"text-align: right;\">nan         </td><td style=\"text-align: right;\">nan        </td><td style=\"text-align: right;\">nan        </td><td style=\"text-align: right;\">nan        </td><td style=\"text-align: right;\">nan        </td><td style=\"text-align: right;\">nan         </td><td style=\"text-align: right;\">nan       </td><td style=\"text-align: right;\">nan         </td><td style=\"text-align: right;\">nan        </td><td style=\"text-align: right;\">nan        </td><td style=\"text-align: right;\">nan        </td><td style=\"text-align: right;\">nan         </td><td style=\"text-align: right;\">nan       </td><td style=\"text-align: right;\">nan         </td><td style=\"text-align: right;\">nan         </td><td style=\"text-align: right;\">nan        </td><td style=\"text-align: right;\">nan        </td><td style=\"text-align: right;\">nan        </td><td style=\"text-align: right;\">nan        </td><td style=\"text-align: right;\">nan        </td><td style=\"text-align: right;\">nan         </td><td style=\"text-align: right;\">nan        </td><td style=\"text-align: right;\">nan         </td></tr>\n",
       "</tbody>\n",
       "</table>"
      ]
     },
     "metadata": {},
     "output_type": "display_data"
    },
    {
     "data": {
      "text/plain": []
     },
     "execution_count": 30,
     "metadata": {},
     "output_type": "execute_result"
    }
   ],
   "source": [
    "desc_vecs = w2v_model.transform(words, aggregate_method=\"AVERAGE\")\n",
    "desc_vecs.head()"
   ]
  },
  {
   "cell_type": "markdown",
   "metadata": {},
   "source": [
    "Finally, we add the aggregated word embeddings from the Word2Vec model to the loans data"
   ]
  },
  {
   "cell_type": "code",
   "execution_count": 31,
   "metadata": {},
   "outputs": [],
   "source": [
    "loans = loans.cbind(desc_vecs)"
   ]
  },
  {
   "cell_type": "markdown",
   "metadata": {},
   "source": [
    "# Step 5 (of 10). Model training\n",
    "\n",
    "Now that we have cleaned our data and added new columns, we train a model to predict bad loans. First split our loans data into train and test."
   ]
  },
  {
   "cell_type": "code",
   "execution_count": 32,
   "metadata": {},
   "outputs": [],
   "source": [
    "train, test = loans.split_frame(seed=25, ratios=[0.75])"
   ]
  },
  {
   "cell_type": "markdown",
   "metadata": {},
   "source": [
    "Next create a list of predictors as a subset of the columns of the `loans` H2O Frame"
   ]
  },
  {
   "cell_type": "code",
   "execution_count": 33,
   "metadata": {},
   "outputs": [],
   "source": [
    "cols_to_remove = [\"initial_list_status\",\n",
    "                  \"out_prncp\",\n",
    "                  \"out_prncp_inv\",\n",
    "                  \"total_pymnt\",\n",
    "                  \"total_pymnt_inv\",\n",
    "                  \"total_rec_prncp\", \n",
    "                  \"total_rec_int\",\n",
    "                  \"total_rec_late_fee\",\n",
    "                  \"recoveries\",\n",
    "                  \"collection_recovery_fee\",\n",
    "                  \"last_pymnt_d\", \n",
    "                  \"last_pymnt_amnt\",\n",
    "                  \"next_pymnt_d\",\n",
    "                  \"last_credit_pull_d\",\n",
    "                  \"collections_12_mths_ex_med\" , \n",
    "                  \"mths_since_last_major_derog\",\n",
    "                  \"policy_code\",\n",
    "                  \"loan_status\",\n",
    "                  \"funded_amnt\",\n",
    "                  \"funded_amnt_inv\",\n",
    "                  \"mths_since_last_delinq\",\n",
    "                  \"mths_since_last_record\",\n",
    "                  \"id\",\n",
    "                  \"member_id\",\n",
    "                  \"desc\",\n",
    "                  \"zip_code\"]\n",
    "\n",
    "predictors = list(set(loans.col_names) - set(cols_to_remove))"
   ]
  },
  {
   "cell_type": "code",
   "execution_count": 34,
   "metadata": {},
   "outputs": [
    {
     "data": {
      "text/plain": [
       "['C26',\n",
       " 'C73',\n",
       " 'issue_d',\n",
       " 'C42',\n",
       " 'C46',\n",
       " 'pymnt_plan',\n",
       " 'C77',\n",
       " 'verification_status',\n",
       " 'C66',\n",
       " 'C45',\n",
       " 'C8',\n",
       " 'url',\n",
       " 'C7',\n",
       " 'sub_grade',\n",
       " 'emp_title',\n",
       " 'home_ownership',\n",
       " 'C38',\n",
       " 'C14',\n",
       " 'grade',\n",
       " 'C33',\n",
       " 'C81',\n",
       " 'C83',\n",
       " 'C56',\n",
       " 'C16',\n",
       " 'C85',\n",
       " 'C19',\n",
       " 'C50',\n",
       " 'C29',\n",
       " 'C60',\n",
       " 'revol_util',\n",
       " 'C71',\n",
       " 'annual_inc',\n",
       " 'C36',\n",
       " 'C70',\n",
       " 'C10',\n",
       " 'C37',\n",
       " 'C39',\n",
       " 'C13',\n",
       " 'C52',\n",
       " 'C18',\n",
       " 'C25',\n",
       " 'C84',\n",
       " 'C48',\n",
       " 'C96',\n",
       " 'C59',\n",
       " 'C88',\n",
       " 'revol_bal',\n",
       " 'C44',\n",
       " 'open_acc',\n",
       " 'C95',\n",
       " 'C2',\n",
       " 'C64',\n",
       " 'C72',\n",
       " 'C91',\n",
       " 'C30',\n",
       " 'C98',\n",
       " 'C17',\n",
       " 'inq_last_6mths',\n",
       " 'dti',\n",
       " 'C89',\n",
       " 'C4',\n",
       " 'delinq_2yrs',\n",
       " 'C65',\n",
       " 'installment',\n",
       " 'C75',\n",
       " 'bad_loan',\n",
       " 'pub_rec',\n",
       " 'C86',\n",
       " 'C34',\n",
       " 'total_acc',\n",
       " 'C40',\n",
       " 'C22',\n",
       " 'C92',\n",
       " 'C5',\n",
       " 'C79',\n",
       " 'C94',\n",
       " 'C20',\n",
       " 'term',\n",
       " 'C97',\n",
       " 'issue_d_month',\n",
       " 'C12',\n",
       " 'C43',\n",
       " 'purpose',\n",
       " 'C27',\n",
       " 'C67',\n",
       " 'addr_state',\n",
       " 'C31',\n",
       " 'C15',\n",
       " 'C100',\n",
       " 'C76',\n",
       " 'C78',\n",
       " 'C80',\n",
       " 'C35',\n",
       " 'C53',\n",
       " 'C61',\n",
       " 'C68',\n",
       " 'C28',\n",
       " 'C93',\n",
       " 'earliest_cr_line',\n",
       " 'C41',\n",
       " 'int_rate',\n",
       " 'loan_amnt',\n",
       " 'C3',\n",
       " 'credit_length',\n",
       " 'C90',\n",
       " 'C87',\n",
       " 'C1',\n",
       " 'C63',\n",
       " 'C11',\n",
       " 'C6',\n",
       " 'C23',\n",
       " 'issue_d_year',\n",
       " 'C49',\n",
       " 'C99',\n",
       " 'C32',\n",
       " 'C24',\n",
       " 'C74',\n",
       " 'C9',\n",
       " 'C69',\n",
       " 'C21',\n",
       " 'C82',\n",
       " 'C54',\n",
       " 'title',\n",
       " 'C47',\n",
       " 'C57',\n",
       " 'emp_length',\n",
       " 'C58',\n",
       " 'C55',\n",
       " 'C62',\n",
       " 'C51']"
      ]
     },
     "execution_count": 34,
     "metadata": {},
     "output_type": "execute_result"
    }
   ],
   "source": [
    "predictors"
   ]
  },
  {
   "cell_type": "markdown",
   "metadata": {},
   "source": [
    "Now create an XGBoost model for predicting loan default. This model is being run with almost all of the model-tuning values at their defaults. Later we may want to optimize the hyperparameters using a grid search. "
   ]
  },
  {
   "cell_type": "code",
   "execution_count": 35,
   "metadata": {},
   "outputs": [
    {
     "name": "stdout",
     "output_type": "stream",
     "text": [
      "xgboost Model Build progress: |███████████████████████████████████████████| 100%\n"
     ]
    }
   ],
   "source": [
    "from h2o.estimators import H2OXGBoostEstimator\n",
    "\n",
    "param = {\n",
    "      \"ntrees\" : 20\n",
    "    , \"nfolds\" : 5\n",
    "    , \"seed\": 25\n",
    "}\n",
    "xgboost_model = H2OXGBoostEstimator(**param)\n",
    "xgboost_model.train(x = predictors,\n",
    "                    y = \"bad_loan\",\n",
    "                    training_frame=train,\n",
    "                    validation_frame=test)"
   ]
  },
  {
   "cell_type": "markdown",
   "metadata": {},
   "source": [
    "# Step 6 (of 10).  Examine model accuracy\n",
    "\n",
    "The plot below shows the performance of the model as more trees are built.  This graph can help us see at what point our model begins overfitting.  Our test data error rate stops improving at around 8-10 trees."
   ]
  },
  {
   "cell_type": "code",
   "execution_count": 36,
   "metadata": {},
   "outputs": [
    {
     "data": {
      "image/png": "[encoded data removed]",
      "text/plain": [
       "<Figure size 432x288 with 1 Axes>"
      ]
     },
     "metadata": {
      "needs_background": "light"
     },
     "output_type": "display_data"
    }
   ],
   "source": [
    "%matplotlib inline\n",
    "xgboost_model.plot()"
   ]
  },
  {
   "cell_type": "markdown",
   "metadata": {},
   "source": [
    "The ROC curve of the training and testing data are shown below.  The area under the ROC curve is much higher for the training data than the test data, indicating that the model is beginning to memorize the training data."
   ]
  },
  {
   "cell_type": "code",
   "execution_count": 37,
   "metadata": {},
   "outputs": [
    {
     "name": "stdout",
     "output_type": "stream",
     "text": [
      "Training Data\n"
     ]
    },
    {
     "data": {
      "image/png": "[encoded data removed]",
      "text/plain": [
       "<Figure size 432x288 with 1 Axes>"
      ]
     },
     "metadata": {
      "needs_background": "light"
     },
     "output_type": "display_data"
    },
    {
     "name": "stdout",
     "output_type": "stream",
     "text": [
      "Testing Data\n"
     ]
    },
    {
     "data": {
      "image/png": "[encoded data removed]",
      "text/plain": [
       "<Figure size 432x288 with 1 Axes>"
      ]
     },
     "metadata": {
      "needs_background": "light"
     },
     "output_type": "display_data"
    },
    {
     "name": "stdout",
     "output_type": "stream",
     "text": [
      "X-Val\n"
     ]
    },
    {
     "data": {
      "image/png": "[encoded data removed]",
      "text/plain": [
       "<Figure size 432x288 with 1 Axes>"
      ]
     },
     "metadata": {
      "needs_background": "light"
     },
     "output_type": "display_data"
    }
   ],
   "source": [
    "print(\"Training Data\")\n",
    "xgboost_model.model_performance(train = True).plot()\n",
    "print(\"Testing Data\")\n",
    "xgboost_model.model_performance(valid = True).plot()\n",
    "print(\"X-Val\")\n",
    "xgboost_model.model_performance(xval=True).plot()"
   ]
  },
  {
   "cell_type": "markdown",
   "metadata": {},
   "source": [
    "# Step 7 (of 10). Interpret model"
   ]
  },
  {
   "cell_type": "markdown",
   "metadata": {},
   "source": [
    "The variable importance plot shows us which variables are most important to predicting `bad_loan`.  We can use partial dependency plots to learn more about how these variables affect the prediction."
   ]
  },
  {
   "cell_type": "code",
   "execution_count": 38,
   "metadata": {},
   "outputs": [
    {
     "data": {
      "image/png": "[encoded data removed]",
      "text/plain": [
       "<Figure size 1008x720 with 1 Axes>"
      ]
     },
     "metadata": {
      "needs_background": "light"
     },
     "output_type": "display_data"
    }
   ],
   "source": [
    "xgboost_model.varimp_plot(20)"
   ]
  },
  {
   "cell_type": "markdown",
   "metadata": {},
   "source": [
    "As suspected, interest rate appears to be the most important feature in predicting loan default. The partial dependency plot of the `int_rate` predictor shows us that as the interest rate increases, the likelihood of the loan defaulting also increases."
   ]
  },
  {
   "cell_type": "code",
   "execution_count": 39,
   "metadata": {
    "scrolled": false
   },
   "outputs": [
    {
     "name": "stdout",
     "output_type": "stream",
     "text": [
      "PartialDependencePlot progress: |█████████████████████████████████████████| 100%\n"
     ]
    },
    {
     "data": {
      "image/png": "[encoded data removed]",
      "text/plain": [
       "<Figure size 504x720 with 1 Axes>"
      ]
     },
     "metadata": {
      "needs_background": "light"
     },
     "output_type": "display_data"
    }
   ],
   "source": [
    "pdp = xgboost_model.partial_plot(cols=[\"int_rate\"], data=train)"
   ]
  },
  {
   "cell_type": "markdown",
   "metadata": {},
   "source": [
    "# Step 8 (of 10). Save and reuse model"
   ]
  },
  {
   "cell_type": "markdown",
   "metadata": {},
   "source": [
    "The model can either be embedded into a self-contained Java MOJO package\n",
    "or it can be saved and later loaded directly into an H2O-3 cluster. For production\n",
    "use, we recommend using MOJO as it is optimized for speed. See the [guide](http://docs.h2o.ai/h2o/latest-stable/h2o-docs/productionizing.html) for further information."
   ]
  },
  {
   "cell_type": "markdown",
   "metadata": {},
   "source": [
    "### Downloading MOJO"
   ]
  },
  {
   "cell_type": "code",
   "execution_count": 40,
   "metadata": {},
   "outputs": [
    {
     "data": {
      "text/plain": [
       "'/home/h2o/h2o-3_hands_on/lending_club_loan_default/XGBoost_model_python_1563993644158_1.zip'"
      ]
     },
     "execution_count": 40,
     "metadata": {},
     "output_type": "execute_result"
    }
   ],
   "source": [
    "xgboost_model.download_mojo()"
   ]
  },
  {
   "cell_type": "markdown",
   "metadata": {},
   "source": [
    "### Save and reuse the model "
   ]
  },
  {
   "cell_type": "markdown",
   "metadata": {},
   "source": [
    "We can save the model to disk for later use."
   ]
  },
  {
   "cell_type": "code",
   "execution_count": 41,
   "metadata": {},
   "outputs": [
    {
     "name": "stdout",
     "output_type": "stream",
     "text": [
      "/home/h2o/h2o-3_hands_on/lending_club_loan_default/XGBoost_model_python_1563993644158_1\n"
     ]
    }
   ],
   "source": [
    "model_path = h2o.save_model(model=xgboost_model, force=True)\n",
    "print(model_path)"
   ]
  },
  {
   "cell_type": "markdown",
   "metadata": {},
   "source": [
    "After the H2O cluster shuts down, all unsaved data and models are lost. At some future date, we can load the model for batch scoring in the H2O cluster."
   ]
  },
  {
   "cell_type": "code",
   "execution_count": 42,
   "metadata": {},
   "outputs": [],
   "source": [
    "loaded_model = h2o.load_model(path=model_path)"
   ]
  },
  {
   "cell_type": "markdown",
   "metadata": {},
   "source": [
    "Using that model, we can also score new data with the predict function:"
   ]
  },
  {
   "cell_type": "code",
   "execution_count": 43,
   "metadata": {
    "scrolled": true
   },
   "outputs": [
    {
     "name": "stdout",
     "output_type": "stream",
     "text": [
      "xgboost prediction progress: |████████████████████████████████████████████| 100%\n"
     ]
    },
    {
     "data": {
      "text/html": [
       "<table>\n",
       "<thead>\n",
       "<tr><th style=\"text-align: right;\">  predict</th><th style=\"text-align: right;\">      p0</th><th style=\"text-align: right;\">       p1</th></tr>\n",
       "</thead>\n",
       "<tbody>\n",
       "<tr><td style=\"text-align: right;\">        1</td><td style=\"text-align: right;\">0.717501</td><td style=\"text-align: right;\">0.282499 </td></tr>\n",
       "<tr><td style=\"text-align: right;\">        0</td><td style=\"text-align: right;\">0.982247</td><td style=\"text-align: right;\">0.0177527</td></tr>\n",
       "<tr><td style=\"text-align: right;\">        1</td><td style=\"text-align: right;\">0.786923</td><td style=\"text-align: right;\">0.213077 </td></tr>\n",
       "<tr><td style=\"text-align: right;\">        0</td><td style=\"text-align: right;\">0.916692</td><td style=\"text-align: right;\">0.0833082</td></tr>\n",
       "<tr><td style=\"text-align: right;\">        0</td><td style=\"text-align: right;\">0.939179</td><td style=\"text-align: right;\">0.0608206</td></tr>\n",
       "<tr><td style=\"text-align: right;\">        0</td><td style=\"text-align: right;\">0.885261</td><td style=\"text-align: right;\">0.114739 </td></tr>\n",
       "<tr><td style=\"text-align: right;\">        0</td><td style=\"text-align: right;\">0.928356</td><td style=\"text-align: right;\">0.0716436</td></tr>\n",
       "<tr><td style=\"text-align: right;\">        0</td><td style=\"text-align: right;\">0.910706</td><td style=\"text-align: right;\">0.0892938</td></tr>\n",
       "<tr><td style=\"text-align: right;\">        0</td><td style=\"text-align: right;\">0.96917 </td><td style=\"text-align: right;\">0.0308302</td></tr>\n",
       "<tr><td style=\"text-align: right;\">        1</td><td style=\"text-align: right;\">0.78662 </td><td style=\"text-align: right;\">0.21338  </td></tr>\n",
       "<tr><td style=\"text-align: right;\">        0</td><td style=\"text-align: right;\">0.929328</td><td style=\"text-align: right;\">0.0706723</td></tr>\n",
       "<tr><td style=\"text-align: right;\">        0</td><td style=\"text-align: right;\">0.888652</td><td style=\"text-align: right;\">0.111348 </td></tr>\n",
       "<tr><td style=\"text-align: right;\">        1</td><td style=\"text-align: right;\">0.529851</td><td style=\"text-align: right;\">0.470149 </td></tr>\n",
       "<tr><td style=\"text-align: right;\">        0</td><td style=\"text-align: right;\">0.827011</td><td style=\"text-align: right;\">0.172989 </td></tr>\n",
       "<tr><td style=\"text-align: right;\">        0</td><td style=\"text-align: right;\">0.950597</td><td style=\"text-align: right;\">0.0494028</td></tr>\n",
       "</tbody>\n",
       "</table>"
      ]
     },
     "metadata": {},
     "output_type": "display_data"
    },
    {
     "data": {
      "text/plain": []
     },
     "execution_count": 43,
     "metadata": {},
     "output_type": "execute_result"
    }
   ],
   "source": [
    "bad_loan_hat = loaded_model.predict(test)\n",
    "bad_loan_hat.head(15)"
   ]
  },
  {
   "cell_type": "markdown",
   "metadata": {},
   "source": [
    "# Step 9 (of 10). AutoML (optional)\n",
    "\n",
    "AutoML can be used for automating the machine learning workflow, which includes automatic training and tuning of many models within a user-specified time-limit or user specified model build limit. \n",
    "\n",
    "Stacked Ensembles will be automatically trained on collections of individual models to produce highly predictive ensemble models."
   ]
  },
  {
   "cell_type": "code",
   "execution_count": 44,
   "metadata": {},
   "outputs": [
    {
     "name": "stdout",
     "output_type": "stream",
     "text": [
      "AutoML progress: |████████████████████████████████████████████████████████| 100%\n"
     ]
    }
   ],
   "source": [
    "from h2o.automl import H2OAutoML\n",
    "\n",
    "aml = H2OAutoML(max_models=5, \n",
    "                max_runtime_secs_per_model=60, \n",
    "                include_algos = [\"GLM\", \"DRF\", \"XGBoost\", \"StackedEnsemble\"],\n",
    "                seed=25)\n",
    "aml.train(x=predictors, y='bad_loan', training_frame=train)"
   ]
  },
  {
   "cell_type": "markdown",
   "metadata": {},
   "source": [
    "_While the AutoML job is running, you can open H2O Flow and monitor the model building process._\n",
    "\n",
    "Once complete, the leaderboard contains the performance metrics of the models generated by AutoML:"
   ]
  },
  {
   "cell_type": "code",
   "execution_count": 45,
   "metadata": {
    "scrolled": false
   },
   "outputs": [
    {
     "data": {
      "text/html": [
       "<table>\n",
       "<thead>\n",
       "<tr><th>model_id                                           </th><th style=\"text-align: right;\">     auc</th><th style=\"text-align: right;\">  logloss</th><th style=\"text-align: right;\">  mean_per_class_error</th><th style=\"text-align: right;\">    rmse</th><th style=\"text-align: right;\">     mse</th></tr>\n",
       "</thead>\n",
       "<tbody>\n",
       "<tr><td>StackedEnsemble_BestOfFamily_AutoML_20190724_184401</td><td style=\"text-align: right;\">0.738861</td><td style=\"text-align: right;\"> 0.394628</td><td style=\"text-align: right;\">              0.333509</td><td style=\"text-align: right;\">0.348662</td><td style=\"text-align: right;\">0.121565</td></tr>\n",
       "<tr><td>StackedEnsemble_AllModels_AutoML_20190724_184401   </td><td style=\"text-align: right;\">0.73883 </td><td style=\"text-align: right;\"> 0.394119</td><td style=\"text-align: right;\">              0.339129</td><td style=\"text-align: right;\">0.348406</td><td style=\"text-align: right;\">0.121387</td></tr>\n",
       "<tr><td>GLM_grid_1_AutoML_20190724_184401_model_1          </td><td style=\"text-align: right;\">0.733318</td><td style=\"text-align: right;\"> 0.394225</td><td style=\"text-align: right;\">              0.338   </td><td style=\"text-align: right;\">0.348633</td><td style=\"text-align: right;\">0.121545</td></tr>\n",
       "<tr><td>XGBoost_1_AutoML_20190724_184401                   </td><td style=\"text-align: right;\">0.725638</td><td style=\"text-align: right;\"> 0.41819 </td><td style=\"text-align: right;\">              0.336415</td><td style=\"text-align: right;\">0.35697 </td><td style=\"text-align: right;\">0.127427</td></tr>\n",
       "<tr><td>XGBoost_3_AutoML_20190724_184401                   </td><td style=\"text-align: right;\">0.725494</td><td style=\"text-align: right;\"> 0.43651 </td><td style=\"text-align: right;\">              0.334069</td><td style=\"text-align: right;\">0.364542</td><td style=\"text-align: right;\">0.132891</td></tr>\n",
       "<tr><td>XGBoost_2_AutoML_20190724_184401                   </td><td style=\"text-align: right;\">0.722886</td><td style=\"text-align: right;\"> 0.435727</td><td style=\"text-align: right;\">              0.337935</td><td style=\"text-align: right;\">0.364623</td><td style=\"text-align: right;\">0.13295 </td></tr>\n",
       "<tr><td>DRF_1_AutoML_20190724_184401                       </td><td style=\"text-align: right;\">0.709082</td><td style=\"text-align: right;\"> 0.404626</td><td style=\"text-align: right;\">              0.344225</td><td style=\"text-align: right;\">0.353456</td><td style=\"text-align: right;\">0.124931</td></tr>\n",
       "</tbody>\n",
       "</table>"
      ]
     },
     "metadata": {},
     "output_type": "display_data"
    },
    {
     "data": {
      "text/plain": []
     },
     "execution_count": 45,
     "metadata": {},
     "output_type": "execute_result"
    }
   ],
   "source": [
    "aml.leaderboard"
   ]
  },
  {
   "cell_type": "markdown",
   "metadata": {},
   "source": [
    "Since we provided only the training H2O Frame during training, the models are sorted by their cross-validated performance metrics (AUC by default for classification). We can evaluate the best model (`leader`) on the test data:"
   ]
  },
  {
   "cell_type": "code",
   "execution_count": 46,
   "metadata": {},
   "outputs": [
    {
     "data": {
      "image/png": "[encoded data removed]",
      "text/plain": [
       "<Figure size 432x288 with 1 Axes>"
      ]
     },
     "metadata": {
      "needs_background": "light"
     },
     "output_type": "display_data"
    },
    {
     "name": "stdout",
     "output_type": "stream",
     "text": [
      "\n",
      "ModelMetricsBinomialGLM: stackedensemble\n",
      "** Reported on test data. **\n",
      "\n",
      "MSE: 0.11903280017624883\n",
      "RMSE: 0.34501130441805644\n",
      "LogLoss: 0.3893879097828351\n",
      "Null degrees of freedom: 9681\n",
      "Residual degrees of freedom: 9678\n",
      "Null deviance: 8292.432037983566\n",
      "Residual deviance: 7540.107485034819\n",
      "AIC: 7548.107485034819\n",
      "AUC: 0.7215252131266252\n",
      "pr_auc: 0.32544174970474893\n",
      "Gini: 0.4430504262532504\n",
      "Confusion Matrix (Act/Pred) for max f1 @ threshold = 0.1805739816457127: \n"
     ]
    },
    {
     "data": {
      "text/html": [
       "<div style=\"overflow:auto\"><table style=\"width:50%\"><tr><td><b></b></td>\n",
       "<td><b>0</b></td>\n",
       "<td><b>1</b></td>\n",
       "<td><b>Error</b></td>\n",
       "<td><b>Rate</b></td></tr>\n",
       "<tr><td>0</td>\n",
       "<td>6439.0</td>\n",
       "<td>1761.0</td>\n",
       "<td>0.2148</td>\n",
       "<td> (1761.0/8200.0)</td></tr>\n",
       "<tr><td>1</td>\n",
       "<td>705.0</td>\n",
       "<td>777.0</td>\n",
       "<td>0.4757</td>\n",
       "<td> (705.0/1482.0)</td></tr>\n",
       "<tr><td>Total</td>\n",
       "<td>7144.0</td>\n",
       "<td>2538.0</td>\n",
       "<td>0.2547</td>\n",
       "<td> (2466.0/9682.0)</td></tr></table></div>"
      ],
      "text/plain": [
       "       0     1     Error    Rate\n",
       "-----  ----  ----  -------  ---------------\n",
       "0      6439  1761  0.2148   (1761.0/8200.0)\n",
       "1      705   777   0.4757   (705.0/1482.0)\n",
       "Total  7144  2538  0.2547   (2466.0/9682.0)"
      ]
     },
     "metadata": {},
     "output_type": "display_data"
    },
    {
     "name": "stdout",
     "output_type": "stream",
     "text": [
      "Maximum Metrics: Maximum metrics at their respective thresholds\n",
      "\n"
     ]
    },
    {
     "data": {
      "text/html": [
       "<div style=\"overflow:auto\"><table style=\"width:50%\"><tr><td><b>metric</b></td>\n",
       "<td><b>threshold</b></td>\n",
       "<td><b>value</b></td>\n",
       "<td><b>idx</b></td></tr>\n",
       "<tr><td>max f1</td>\n",
       "<td>0.1805740</td>\n",
       "<td>0.3865672</td>\n",
       "<td>245.0</td></tr>\n",
       "<tr><td>max f2</td>\n",
       "<td>0.0907277</td>\n",
       "<td>0.5274515</td>\n",
       "<td>345.0</td></tr>\n",
       "<tr><td>max f0point5</td>\n",
       "<td>0.2721572</td>\n",
       "<td>0.3659926</td>\n",
       "<td>183.0</td></tr>\n",
       "<tr><td>max accuracy</td>\n",
       "<td>0.6561206</td>\n",
       "<td>0.8491014</td>\n",
       "<td>27.0</td></tr>\n",
       "<tr><td>max precision</td>\n",
       "<td>0.7626492</td>\n",
       "<td>0.9333333</td>\n",
       "<td>9.0</td></tr>\n",
       "<tr><td>max recall</td>\n",
       "<td>0.0580430</td>\n",
       "<td>1.0</td>\n",
       "<td>396.0</td></tr>\n",
       "<tr><td>max specificity</td>\n",
       "<td>0.8558645</td>\n",
       "<td>0.9998780</td>\n",
       "<td>0.0</td></tr>\n",
       "<tr><td>max absolute_mcc</td>\n",
       "<td>0.1805740</td>\n",
       "<td>0.2534106</td>\n",
       "<td>245.0</td></tr>\n",
       "<tr><td>max min_per_class_accuracy</td>\n",
       "<td>0.1359871</td>\n",
       "<td>0.655</td>\n",
       "<td>287.0</td></tr>\n",
       "<tr><td>max mean_per_class_accuracy</td>\n",
       "<td>0.1522641</td>\n",
       "<td>0.6611072</td>\n",
       "<td>269.0</td></tr></table></div>"
      ],
      "text/plain": [
       "metric                       threshold    value     idx\n",
       "---------------------------  -----------  --------  -----\n",
       "max f1                       0.180574     0.386567  245\n",
       "max f2                       0.0907277    0.527451  345\n",
       "max f0point5                 0.272157     0.365993  183\n",
       "max accuracy                 0.656121     0.849101  27\n",
       "max precision                0.762649     0.933333  9\n",
       "max recall                   0.058043     1         396\n",
       "max specificity              0.855864     0.999878  0\n",
       "max absolute_mcc             0.180574     0.253411  245\n",
       "max min_per_class_accuracy   0.135987     0.655     287\n",
       "max mean_per_class_accuracy  0.152264     0.661107  269"
      ]
     },
     "metadata": {},
     "output_type": "display_data"
    },
    {
     "name": "stdout",
     "output_type": "stream",
     "text": [
      "Gains/Lift Table: Avg response rate: 15.31 %, avg score: 16.07 %\n",
      "\n"
     ]
    },
    {
     "data": {
      "text/html": [
       "<div style=\"overflow:auto\"><table style=\"width:50%\"><tr><td><b></b></td>\n",
       "<td><b>group</b></td>\n",
       "<td><b>cumulative_data_fraction</b></td>\n",
       "<td><b>lower_threshold</b></td>\n",
       "<td><b>lift</b></td>\n",
       "<td><b>cumulative_lift</b></td>\n",
       "<td><b>response_rate</b></td>\n",
       "<td><b>score</b></td>\n",
       "<td><b>cumulative_response_rate</b></td>\n",
       "<td><b>cumulative_score</b></td>\n",
       "<td><b>capture_rate</b></td>\n",
       "<td><b>cumulative_capture_rate</b></td>\n",
       "<td><b>gain</b></td>\n",
       "<td><b>cumulative_gain</b></td></tr>\n",
       "<tr><td></td>\n",
       "<td>1</td>\n",
       "<td>0.0100186</td>\n",
       "<td>0.6274812</td>\n",
       "<td>3.6369631</td>\n",
       "<td>3.6369631</td>\n",
       "<td>0.5567010</td>\n",
       "<td>0.6978112</td>\n",
       "<td>0.5567010</td>\n",
       "<td>0.6978112</td>\n",
       "<td>0.0364372</td>\n",
       "<td>0.0364372</td>\n",
       "<td>263.6963145</td>\n",
       "<td>263.6963145</td></tr>\n",
       "<tr><td></td>\n",
       "<td>2</td>\n",
       "<td>0.0200372</td>\n",
       "<td>0.5543454</td>\n",
       "<td>2.9634515</td>\n",
       "<td>3.3002073</td>\n",
       "<td>0.4536082</td>\n",
       "<td>0.5894649</td>\n",
       "<td>0.5051546</td>\n",
       "<td>0.6436380</td>\n",
       "<td>0.0296896</td>\n",
       "<td>0.0661269</td>\n",
       "<td>196.3451452</td>\n",
       "<td>230.0207299</td></tr>\n",
       "<tr><td></td>\n",
       "<td>3</td>\n",
       "<td>0.0300558</td>\n",
       "<td>0.4998293</td>\n",
       "<td>2.8287491</td>\n",
       "<td>3.1430546</td>\n",
       "<td>0.4329897</td>\n",
       "<td>0.5264532</td>\n",
       "<td>0.4810997</td>\n",
       "<td>0.6045764</td>\n",
       "<td>0.0283401</td>\n",
       "<td>0.0944669</td>\n",
       "<td>182.8749113</td>\n",
       "<td>214.3054570</td></tr>\n",
       "<tr><td></td>\n",
       "<td>4</td>\n",
       "<td>0.0400744</td>\n",
       "<td>0.4600571</td>\n",
       "<td>2.3572909</td>\n",
       "<td>2.9466137</td>\n",
       "<td>0.3608247</td>\n",
       "<td>0.4784912</td>\n",
       "<td>0.4510309</td>\n",
       "<td>0.5730551</td>\n",
       "<td>0.0236167</td>\n",
       "<td>0.1180837</td>\n",
       "<td>135.7290928</td>\n",
       "<td>194.6613659</td></tr>\n",
       "<tr><td></td>\n",
       "<td>5</td>\n",
       "<td>0.0500930</td>\n",
       "<td>0.4344083</td>\n",
       "<td>2.2225886</td>\n",
       "<td>2.8018086</td>\n",
       "<td>0.3402062</td>\n",
       "<td>0.4475202</td>\n",
       "<td>0.4288660</td>\n",
       "<td>0.5479481</td>\n",
       "<td>0.0222672</td>\n",
       "<td>0.1403509</td>\n",
       "<td>122.2588589</td>\n",
       "<td>180.1808645</td></tr>\n",
       "<tr><td></td>\n",
       "<td>6</td>\n",
       "<td>0.1000826</td>\n",
       "<td>0.3251238</td>\n",
       "<td>2.2136826</td>\n",
       "<td>2.5080491</td>\n",
       "<td>0.3388430</td>\n",
       "<td>0.3749766</td>\n",
       "<td>0.3839009</td>\n",
       "<td>0.4615516</td>\n",
       "<td>0.1106613</td>\n",
       "<td>0.2510121</td>\n",
       "<td>121.3682649</td>\n",
       "<td>150.8049118</td></tr>\n",
       "<tr><td></td>\n",
       "<td>7</td>\n",
       "<td>0.1500723</td>\n",
       "<td>0.2634746</td>\n",
       "<td>2.0787020</td>\n",
       "<td>2.3650319</td>\n",
       "<td>0.3181818</td>\n",
       "<td>0.2947163</td>\n",
       "<td>0.3620096</td>\n",
       "<td>0.4059781</td>\n",
       "<td>0.1039136</td>\n",
       "<td>0.3549258</td>\n",
       "<td>107.8702000</td>\n",
       "<td>136.5031908</td></tr>\n",
       "<tr><td></td>\n",
       "<td>8</td>\n",
       "<td>0.2000620</td>\n",
       "<td>0.2188893</td>\n",
       "<td>1.5657755</td>\n",
       "<td>2.1653210</td>\n",
       "<td>0.2396694</td>\n",
       "<td>0.2402799</td>\n",
       "<td>0.3314404</td>\n",
       "<td>0.3645750</td>\n",
       "<td>0.0782726</td>\n",
       "<td>0.4331984</td>\n",
       "<td>56.5775532</td>\n",
       "<td>116.5320971</td></tr>\n",
       "<tr><td></td>\n",
       "<td>9</td>\n",
       "<td>0.3000413</td>\n",
       "<td>0.1627741</td>\n",
       "<td>1.3363084</td>\n",
       "<td>1.8890786</td>\n",
       "<td>0.2045455</td>\n",
       "<td>0.1881439</td>\n",
       "<td>0.2891566</td>\n",
       "<td>0.3057849</td>\n",
       "<td>0.1336032</td>\n",
       "<td>0.5668016</td>\n",
       "<td>33.6308428</td>\n",
       "<td>88.9078582</td></tr>\n",
       "<tr><td></td>\n",
       "<td>10</td>\n",
       "<td>0.4000207</td>\n",
       "<td>0.1335464</td>\n",
       "<td>0.9988568</td>\n",
       "<td>1.6665806</td>\n",
       "<td>0.1528926</td>\n",
       "<td>0.1473759</td>\n",
       "<td>0.2550994</td>\n",
       "<td>0.2661928</td>\n",
       "<td>0.0998650</td>\n",
       "<td>0.6666667</td>\n",
       "<td>-0.1143195</td>\n",
       "<td>66.6580601</td></tr>\n",
       "<tr><td></td>\n",
       "<td>11</td>\n",
       "<td>0.5</td>\n",
       "<td>0.1137675</td>\n",
       "<td>0.8706252</td>\n",
       "<td>1.5074224</td>\n",
       "<td>0.1332645</td>\n",
       "<td>0.1233357</td>\n",
       "<td>0.2307375</td>\n",
       "<td>0.2376273</td>\n",
       "<td>0.0870445</td>\n",
       "<td>0.7537112</td>\n",
       "<td>-12.9374812</td>\n",
       "<td>50.7422402</td></tr>\n",
       "<tr><td></td>\n",
       "<td>12</td>\n",
       "<td>0.5999793</td>\n",
       "<td>0.0995827</td>\n",
       "<td>0.7963858</td>\n",
       "<td>1.3889367</td>\n",
       "<td>0.1219008</td>\n",
       "<td>0.1062915</td>\n",
       "<td>0.2126011</td>\n",
       "<td>0.2157418</td>\n",
       "<td>0.0796221</td>\n",
       "<td>0.8333333</td>\n",
       "<td>-20.3614169</td>\n",
       "<td>38.8936707</td></tr>\n",
       "<tr><td></td>\n",
       "<td>13</td>\n",
       "<td>0.6999587</td>\n",
       "<td>0.0882450</td>\n",
       "<td>0.6614052</td>\n",
       "<td>1.2850190</td>\n",
       "<td>0.1012397</td>\n",
       "<td>0.0936773</td>\n",
       "<td>0.1966947</td>\n",
       "<td>0.1983066</td>\n",
       "<td>0.0661269</td>\n",
       "<td>0.8994602</td>\n",
       "<td>-33.8594818</td>\n",
       "<td>28.5018968</td></tr>\n",
       "<tr><td></td>\n",
       "<td>14</td>\n",
       "<td>0.7999380</td>\n",
       "<td>0.0780298</td>\n",
       "<td>0.5331736</td>\n",
       "<td>1.1910504</td>\n",
       "<td>0.0816116</td>\n",
       "<td>0.0831469</td>\n",
       "<td>0.1823112</td>\n",
       "<td>0.1839135</td>\n",
       "<td>0.0533063</td>\n",
       "<td>0.9527665</td>\n",
       "<td>-46.6826435</td>\n",
       "<td>19.1050427</td></tr>\n",
       "<tr><td></td>\n",
       "<td>15</td>\n",
       "<td>0.8999174</td>\n",
       "<td>0.0677457</td>\n",
       "<td>0.3307026</td>\n",
       "<td>1.0954672</td>\n",
       "<td>0.0506198</td>\n",
       "<td>0.0728727</td>\n",
       "<td>0.1676805</td>\n",
       "<td>0.1715770</td>\n",
       "<td>0.0330634</td>\n",
       "<td>0.9858300</td>\n",
       "<td>-66.9297409</td>\n",
       "<td>9.5467195</td></tr>\n",
       "<tr><td></td>\n",
       "<td>16</td>\n",
       "<td>1.0</td>\n",
       "<td>0.0533078</td>\n",
       "<td>0.1415834</td>\n",
       "<td>1.0</td>\n",
       "<td>0.0216718</td>\n",
       "<td>0.0627520</td>\n",
       "<td>0.1530675</td>\n",
       "<td>0.1606855</td>\n",
       "<td>0.0141700</td>\n",
       "<td>1.0</td>\n",
       "<td>-85.8416582</td>\n",
       "<td>0.0</td></tr></table></div>"
      ],
      "text/plain": [
       "    group    cumulative_data_fraction    lower_threshold    lift      cumulative_lift    response_rate    score      cumulative_response_rate    cumulative_score    capture_rate    cumulative_capture_rate    gain       cumulative_gain\n",
       "--  -------  --------------------------  -----------------  --------  -----------------  ---------------  ---------  --------------------------  ------------------  --------------  -------------------------  ---------  -----------------\n",
       "    1        0.0100186                   0.627481           3.63696   3.63696            0.556701         0.697811   0.556701                    0.697811            0.0364372       0.0364372                  263.696    263.696\n",
       "    2        0.0200372                   0.554345           2.96345   3.30021            0.453608         0.589465   0.505155                    0.643638            0.0296896       0.0661269                  196.345    230.021\n",
       "    3        0.0300558                   0.499829           2.82875   3.14305            0.43299          0.526453   0.4811                      0.604576            0.0283401       0.0944669                  182.875    214.305\n",
       "    4        0.0400744                   0.460057           2.35729   2.94661            0.360825         0.478491   0.451031                    0.573055            0.0236167       0.118084                   135.729    194.661\n",
       "    5        0.050093                    0.434408           2.22259   2.80181            0.340206         0.44752    0.428866                    0.547948            0.0222672       0.140351                   122.259    180.181\n",
       "    6        0.100083                    0.325124           2.21368   2.50805            0.338843         0.374977   0.383901                    0.461552            0.110661        0.251012                   121.368    150.805\n",
       "    7        0.150072                    0.263475           2.0787    2.36503            0.318182         0.294716   0.36201                     0.405978            0.103914        0.354926                   107.87     136.503\n",
       "    8        0.200062                    0.218889           1.56578   2.16532            0.239669         0.24028    0.33144                     0.364575            0.0782726       0.433198                   56.5776    116.532\n",
       "    9        0.300041                    0.162774           1.33631   1.88908            0.204545         0.188144   0.289157                    0.305785            0.133603        0.566802                   33.6308    88.9079\n",
       "    10       0.400021                    0.133546           0.998857  1.66658            0.152893         0.147376   0.255099                    0.266193            0.099865        0.666667                   -0.114319  66.6581\n",
       "    11       0.5                         0.113767           0.870625  1.50742            0.133264         0.123336   0.230737                    0.237627            0.0870445       0.753711                   -12.9375   50.7422\n",
       "    12       0.599979                    0.0995827          0.796386  1.38894            0.121901         0.106292   0.212601                    0.215742            0.0796221       0.833333                   -20.3614   38.8937\n",
       "    13       0.699959                    0.088245           0.661405  1.28502            0.10124          0.0936773  0.196695                    0.198307            0.0661269       0.89946                    -33.8595   28.5019\n",
       "    14       0.799938                    0.0780298          0.533174  1.19105            0.0816116        0.0831469  0.182311                    0.183913            0.0533063       0.952767                   -46.6826   19.105\n",
       "    15       0.899917                    0.0677457          0.330703  1.09547            0.0506198        0.0728727  0.16768                     0.171577            0.0330634       0.98583                    -66.9297   9.54672\n",
       "    16       1                           0.0533078          0.141583  1                  0.0216718        0.062752   0.153068                    0.160686            0.01417         1                          -85.8417   0"
      ]
     },
     "metadata": {},
     "output_type": "display_data"
    },
    {
     "name": "stdout",
     "output_type": "stream",
     "text": [
      "\n"
     ]
    },
    {
     "data": {
      "text/plain": []
     },
     "execution_count": 46,
     "metadata": {},
     "output_type": "execute_result"
    }
   ],
   "source": [
    "aml.leader.model_performance(test_data=test).plot()\n",
    "aml.leader.model_performance(test_data=test)"
   ]
  },
  {
   "cell_type": "markdown",
   "metadata": {},
   "source": [
    "Another convenient use of H2O Flow is to explore the various models built by AutoML."
   ]
  },
  {
   "cell_type": "markdown",
   "metadata": {},
   "source": [
    "# Step 10 (of 10). Stop H2O-3 cluster"
   ]
  },
  {
   "cell_type": "code",
   "execution_count": 47,
   "metadata": {},
   "outputs": [
    {
     "name": "stdout",
     "output_type": "stream",
     "text": [
      "H2O session _sid_960f closed.\n"
     ]
    }
   ],
   "source": [
    "h2o.cluster().shutdown()"
   ]
  },
  {
   "cell_type": "markdown",
   "metadata": {},
   "source": [
    "Once your work is completed, shutting down the H2O cluster frees up the resources reserved by H2O.\n",
    "\n",
    "# Bonus: H2O-3 documentation\n",
    "\n",
    "* http://docs.h2o.ai"
   ]
  }
 ],
 "metadata": {
  "kernelspec": {
   "display_name": "Python 3",
   "language": "python",
   "name": "python3"
  },
  "language_info": {
   "codemirror_mode": {
    "name": "ipython",
    "version": 3
   },
   "file_extension": ".py",
   "mimetype": "text/x-python",
   "name": "python",
   "nbconvert_exporter": "python",
   "pygments_lexer": "ipython3",
   "version": "3.6.8"
  }
 },
 "nbformat": 4,
 "nbformat_minor": 2
}
