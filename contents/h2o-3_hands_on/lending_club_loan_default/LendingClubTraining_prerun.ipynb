{
 "cells": [
  {
   "cell_type": "markdown",
   "metadata": {},
   "source": [
    "# Lending Club Loan Default\n",
    "\n",
    "In this tutorial, we will go through a step-by-step workflow to determine loan deliquency. We will make predictions based only on the information available at the time the loan was issued.  The data for this exercise come from the public Lending Club data set, a description can be found [here](https://www.kaggle.com/pragyanbo/a-hitchhiker-s-guide-to-lending-club-loan-data/notebook)."
   ]
  },
  {
   "cell_type": "markdown",
   "metadata": {},
   "source": [
    "## Workflow\n",
    "\n",
    "1. Start the H2O-3 cluster\n",
    "2. Import data\n",
    "3. Clean data\n",
    "4. Feature engineering\n",
    "5. Model training\n",
    "6. Examine model accuracy\n",
    "7. Interpret model\n",
    "8. Save and reuse model\n",
    "9. AutoML (optional)\n",
    "10. Stop H2O-3 cluster"
   ]
  },
  {
   "cell_type": "markdown",
   "metadata": {},
   "source": [
    "# Step 1 (of 10). Start the H2O-3 cluster\n",
    "\n",
    "The `os` commands below check whether this notebook is being run on the Aquarium platform. We use `h2o.init` command to connect to the H2O-3 cluster, starting it if it is not already up. The parameters used in `h2o.init` will depend on your specific environment."
   ]
  },
  {
   "cell_type": "code",
   "execution_count": 1,
   "metadata": {},
   "outputs": [
    {
     "name": "stdout",
     "output_type": "stream",
     "text": [
      "Checking whether there is an H2O instance running at http://localhost:54321/h2o . connected.\n"
     ]
    },
    {
     "data": {
      "text/html": [
       "<div style=\"overflow:auto\"><table style=\"width:50%\"><tr><td>H2O cluster uptime:</td>\n",
       "<td>04 secs</td></tr>\n",
       "<tr><td>H2O cluster timezone:</td>\n",
       "<td>Etc/UTC</td></tr>\n",
       "<tr><td>H2O data parsing timezone:</td>\n",
       "<td>UTC</td></tr>\n",
       "<tr><td>H2O cluster version:</td>\n",
       "<td>3.26.0.2</td></tr>\n",
       "<tr><td>H2O cluster version age:</td>\n",
       "<td>1 month and 6 days </td></tr>\n",
       "<tr><td>H2O cluster name:</td>\n",
       "<td>h2o</td></tr>\n",
       "<tr><td>H2O cluster total nodes:</td>\n",
       "<td>1</td></tr>\n",
       "<tr><td>H2O cluster free memory:</td>\n",
       "<td>2.167 Gb</td></tr>\n",
       "<tr><td>H2O cluster total cores:</td>\n",
       "<td>4</td></tr>\n",
       "<tr><td>H2O cluster allowed cores:</td>\n",
       "<td>4</td></tr>\n",
       "<tr><td>H2O cluster status:</td>\n",
       "<td>accepting new members, healthy</td></tr>\n",
       "<tr><td>H2O connection url:</td>\n",
       "<td>http://localhost:54321/h2o</td></tr>\n",
       "<tr><td>H2O connection proxy:</td>\n",
       "<td>None</td></tr>\n",
       "<tr><td>H2O internal security:</td>\n",
       "<td>False</td></tr>\n",
       "<tr><td>H2O API Extensions:</td>\n",
       "<td>Amazon S3, XGBoost, Algos, AutoML, Core V3, Core V4</td></tr>\n",
       "<tr><td>Python version:</td>\n",
       "<td>3.6.9 final</td></tr></table></div>"
      ],
      "text/plain": [
       "--------------------------  ---------------------------------------------------\n",
       "H2O cluster uptime:         04 secs\n",
       "H2O cluster timezone:       Etc/UTC\n",
       "H2O data parsing timezone:  UTC\n",
       "H2O cluster version:        3.26.0.2\n",
       "H2O cluster version age:    1 month and 6 days\n",
       "H2O cluster name:           h2o\n",
       "H2O cluster total nodes:    1\n",
       "H2O cluster free memory:    2.167 Gb\n",
       "H2O cluster total cores:    4\n",
       "H2O cluster allowed cores:  4\n",
       "H2O cluster status:         accepting new members, healthy\n",
       "H2O connection url:         http://localhost:54321/h2o\n",
       "H2O connection proxy:\n",
       "H2O internal security:      False\n",
       "H2O API Extensions:         Amazon S3, XGBoost, Algos, AutoML, Core V3, Core V4\n",
       "Python version:             3.6.9 final\n",
       "--------------------------  ---------------------------------------------------"
      ]
     },
     "metadata": {},
     "output_type": "display_data"
    }
   ],
   "source": [
    "import os\n",
    "import h2o\n",
    "\n",
    "startup = '/home/h2o/bin/aquarium_startup'\n",
    "if os.path.exists(startup):\n",
    "    os.system(startup)\n",
    "    local_url = 'http://localhost:54321/h2o'\n",
    "    aquarium = True\n",
    "    !sleep 5\n",
    "else:\n",
    "    local_url = 'http://localhost:54321'\n",
    "    aquarium = False\n",
    "\n",
    "h2o.init(url=local_url)"
   ]
  },
  {
   "cell_type": "markdown",
   "metadata": {},
   "source": [
    "Note: The method you use for starting and stopping an H2O-3 cluster will depend on how H2O is installed and configured on your system. Regardless of how H2O is installed, if you start a cluster, you will need to ensure that it is shut down when you are done.\n",
    "\n",
    "# Step 2 (of 10). Import data\n",
    "\n",
    "The data set we use below is a local copy of https://s3-us-west-2.amazonaws.com/h2o-tutorials/data/topics/lending/lending_club/LoanStats3a.csv. "
   ]
  },
  {
   "cell_type": "code",
   "execution_count": 2,
   "metadata": {},
   "outputs": [],
   "source": [
    "if aquarium:\n",
    "    input_csv = \"/home/h2o/data/lending_club/LoanStats3a.csv\"\n",
    "else:\n",
    "    input_csv = \"https://s3-us-west-2.amazonaws.com/h2o-tutorials/data/topics/lending/lending_club/LoanStats3a.csv\""
   ]
  },
  {
   "cell_type": "markdown",
   "metadata": {},
   "source": [
    "### View and Inspect the Data\n",
    "\n",
    "The loans data set is loaded directly into the H2O-3 cluster using the `h2o.import_file` command:"
   ]
  },
  {
   "cell_type": "code",
   "execution_count": 3,
   "metadata": {},
   "outputs": [
    {
     "name": "stdout",
     "output_type": "stream",
     "text": [
      "Parse progress: |█████████████████████████████████████████████████████████| 100%\n"
     ]
    }
   ],
   "source": [
    "loans = h2o.import_file(input_csv,\n",
    "                        col_types = {\"int_rate\":\"string\", \n",
    "                                     \"revol_util\":\"string\", \n",
    "                                     \"emp_length\":\"string\", \n",
    "                                     \"verification_status\":\"string\"})"
   ]
  },
  {
   "cell_type": "markdown",
   "metadata": {},
   "source": [
    "The `h2o.import_file` command loads the data directly into the H2O-3 cluster's memory, bypassing python. If one already has data in python, one can pass that object to a H2O Frame. The `h2o.import_file` approach is incredibly efficient, particularly for larg data sets.\n",
    "\n",
    "### Inspect the Data with H2O Flow\n",
    "\n",
    "Now is a good time to connect to H2O Flow. Although H2O Flow can be used for everything from loading data to building models to creating production code, we use it here for data investigation and H2O system monitoring.\n",
    "\n",
    "**Note**: the reported IP above, `http://localhost`, is the local IP within your particular cloud instance. To open H2O Flow in your own browser, copy the browser URL and\n",
    "\n",
    "**Aquarium**: \n",
    ">Replace \n",
    ">```\n",
    "http://{your URL}/jupyter/\n",
    ">``` \n",
    ">with \n",
    ">```\n",
    "http://{your URL}/h2o/\n",
    ">```\n",
    "\n",
    "**Otherwise**: \n",
    ">Replace\n",
    ">```\n",
    "http://{your URL}:8888\n",
    ">``` \n",
    ">with \n",
    ">```\n",
    "http://{your URL}:54321\n",
    ">```\n",
    "\n",
    "Some summary information on the data is provided below:"
   ]
  },
  {
   "cell_type": "code",
   "execution_count": 4,
   "metadata": {},
   "outputs": [
    {
     "data": {
      "text/plain": [
       "[42536, 52]"
      ]
     },
     "execution_count": 4,
     "metadata": {},
     "output_type": "execute_result"
    }
   ],
   "source": [
    "loans.dim"
   ]
  },
  {
   "cell_type": "code",
   "execution_count": 5,
   "metadata": {},
   "outputs": [
    {
     "data": {
      "text/html": [
       "<table>\n",
       "<thead>\n",
       "<tr><th style=\"text-align: right;\">         id</th><th style=\"text-align: right;\">  member_id</th><th style=\"text-align: right;\">  loan_amnt</th><th style=\"text-align: right;\">  funded_amnt</th><th style=\"text-align: right;\">  funded_amnt_inv</th><th>term     </th><th>int_rate  </th><th style=\"text-align: right;\">  installment</th><th>grade  </th><th>sub_grade  </th><th>emp_title                </th><th>emp_length  </th><th>home_ownership  </th><th style=\"text-align: right;\">  annual_inc</th><th>verification_status     </th><th>issue_d            </th><th>loan_status  </th><th>pymnt_plan  </th><th>url                                                                 </th><th>desc                                                                                                                                                                                                                                                                                                                                                                                                                                                                                                                                                                                                        </th><th>purpose           </th><th>title                                </th><th>zip_code  </th><th>addr_state  </th><th style=\"text-align: right;\">  dti</th><th style=\"text-align: right;\">  delinq_2yrs</th><th>earliest_cr_line   </th><th style=\"text-align: right;\">  inq_last_6mths</th><th>mths_since_last_delinq  </th><th>mths_since_last_record  </th><th style=\"text-align: right;\">  open_acc</th><th style=\"text-align: right;\">  pub_rec</th><th style=\"text-align: right;\">  revol_bal</th><th>revol_util  </th><th style=\"text-align: right;\">  total_acc</th><th>initial_list_status  </th><th style=\"text-align: right;\">  out_prncp</th><th style=\"text-align: right;\">  out_prncp_inv</th><th style=\"text-align: right;\">  total_pymnt</th><th style=\"text-align: right;\">  total_pymnt_inv</th><th style=\"text-align: right;\">  total_rec_prncp</th><th style=\"text-align: right;\">  total_rec_int</th><th style=\"text-align: right;\">  total_rec_late_fee</th><th style=\"text-align: right;\">  recoveries</th><th style=\"text-align: right;\">  collection_recovery_fee</th><th>last_pymnt_d       </th><th style=\"text-align: right;\">  last_pymnt_amnt</th><th>next_pymnt_d       </th><th>last_credit_pull_d  </th><th style=\"text-align: right;\">  collections_12_mths_ex_med</th><th>mths_since_last_major_derog  </th><th style=\"text-align: right;\">  policy_code</th></tr>\n",
       "</thead>\n",
       "<tbody>\n",
       "<tr><td style=\"text-align: right;\">1.0775e+06 </td><td style=\"text-align: right;\">1.2966e+06 </td><td style=\"text-align: right;\">       5000</td><td style=\"text-align: right;\">         5000</td><td style=\"text-align: right;\">             4975</td><td>36 months</td><td>10.65%    </td><td style=\"text-align: right;\">       162.87</td><td>B      </td><td>B2         </td><td>                         </td><td>10+ years   </td><td>RENT            </td><td style=\"text-align: right;\">       24000</td><td>VERIFIED - income       </td><td>2011-12-01 00:00:00</td><td>Fully Paid   </td><td>n           </td><td>https://www.lendingclub.com/browse/loanDetail.action?loan_id=1077501</td><td>Borrower added on 12/22/11 > I need to upgrade my business technologies.<br>                                                                                                                                                                                                                                                                                                                                                                                                                                                                                                                                </td><td>credit_card       </td><td>Computer                             </td><td>860xx     </td><td>AZ          </td><td style=\"text-align: right;\">27.65</td><td style=\"text-align: right;\">            0</td><td>1985-01-01 00:00:00</td><td style=\"text-align: right;\">               1</td><td>                        </td><td>                        </td><td style=\"text-align: right;\">         3</td><td style=\"text-align: right;\">        0</td><td style=\"text-align: right;\">      13648</td><td>83.7%       </td><td style=\"text-align: right;\">          9</td><td>f                    </td><td style=\"text-align: right;\">       0   </td><td style=\"text-align: right;\">           0   </td><td style=\"text-align: right;\">      5861.07</td><td style=\"text-align: right;\">          5831.78</td><td style=\"text-align: right;\">          5000   </td><td style=\"text-align: right;\">         861.07</td><td style=\"text-align: right;\">                0   </td><td style=\"text-align: right;\">        0   </td><td style=\"text-align: right;\">                     0   </td><td>2015-01-01 00:00:00</td><td style=\"text-align: right;\">           171.62</td><td>                   </td><td>2015-01-01 00:00:00 </td><td style=\"text-align: right;\">                           0</td><td>                             </td><td style=\"text-align: right;\">            1</td></tr>\n",
       "<tr><td style=\"text-align: right;\">1.07743e+06</td><td style=\"text-align: right;\">1.31417e+06</td><td style=\"text-align: right;\">       2500</td><td style=\"text-align: right;\">         2500</td><td style=\"text-align: right;\">             2500</td><td>60 months</td><td>15.27%    </td><td style=\"text-align: right;\">        59.83</td><td>C      </td><td>C4         </td><td>Ryder                    </td><td>< 1 year    </td><td>RENT            </td><td style=\"text-align: right;\">       30000</td><td>VERIFIED - income source</td><td>2011-12-01 00:00:00</td><td>Charged Off  </td><td>n           </td><td>https://www.lendingclub.com/browse/loanDetail.action?loan_id=1077430</td><td>Borrower added on 12/22/11 > I plan to use this money to finance the motorcycle i am looking at. I plan to have it paid off as soon as possible/when i sell my old bike. I only need this money because the deal im looking at is to good to pass up.<br><br>  Borrower added on 12/22/11 > I plan to use this money to finance the motorcycle i am looking at. I plan to have it paid off as soon as possible/when i sell my old bike.I only need this money because the deal im looking at is to good to pass up. I have finished college with an associates degree in business and its takingmeplaces<br></td><td>car               </td><td>bike                                 </td><td>309xx     </td><td>GA          </td><td style=\"text-align: right;\"> 1   </td><td style=\"text-align: right;\">            0</td><td>1999-04-01 00:00:00</td><td style=\"text-align: right;\">               5</td><td>                        </td><td>                        </td><td style=\"text-align: right;\">         3</td><td style=\"text-align: right;\">        0</td><td style=\"text-align: right;\">       1687</td><td>9.4%        </td><td style=\"text-align: right;\">          4</td><td>f                    </td><td style=\"text-align: right;\">       0   </td><td style=\"text-align: right;\">           0   </td><td style=\"text-align: right;\">      1008.71</td><td style=\"text-align: right;\">          1008.71</td><td style=\"text-align: right;\">           456.46</td><td style=\"text-align: right;\">         435.17</td><td style=\"text-align: right;\">                0   </td><td style=\"text-align: right;\">      117.08</td><td style=\"text-align: right;\">                     1.11</td><td>2013-04-01 00:00:00</td><td style=\"text-align: right;\">           119.66</td><td>                   </td><td>2013-09-01 00:00:00 </td><td style=\"text-align: right;\">                           0</td><td>                             </td><td style=\"text-align: right;\">            1</td></tr>\n",
       "<tr><td style=\"text-align: right;\">1.07718e+06</td><td style=\"text-align: right;\">1.31352e+06</td><td style=\"text-align: right;\">       2400</td><td style=\"text-align: right;\">         2400</td><td style=\"text-align: right;\">             2400</td><td>36 months</td><td>15.96%    </td><td style=\"text-align: right;\">        84.33</td><td>C      </td><td>C5         </td><td>                         </td><td>10+ years   </td><td>RENT            </td><td style=\"text-align: right;\">       12252</td><td>not verified            </td><td>2011-12-01 00:00:00</td><td>Fully Paid   </td><td>n           </td><td>https://www.lendingclub.com/browse/loanDetail.action?loan_id=1077175</td><td>                                                                                                                                                                                                                                                                                                                                                                                                                                                                                                                                                                                                            </td><td>small_business    </td><td>real estate business                 </td><td>606xx     </td><td>IL          </td><td style=\"text-align: right;\"> 8.72</td><td style=\"text-align: right;\">            0</td><td>2001-11-01 00:00:00</td><td style=\"text-align: right;\">               2</td><td>                        </td><td>                        </td><td style=\"text-align: right;\">         2</td><td style=\"text-align: right;\">        0</td><td style=\"text-align: right;\">       2956</td><td>98.5%       </td><td style=\"text-align: right;\">         10</td><td>f                    </td><td style=\"text-align: right;\">       0   </td><td style=\"text-align: right;\">           0   </td><td style=\"text-align: right;\">      3003.65</td><td style=\"text-align: right;\">          3003.65</td><td style=\"text-align: right;\">          2400   </td><td style=\"text-align: right;\">         603.65</td><td style=\"text-align: right;\">                0   </td><td style=\"text-align: right;\">        0   </td><td style=\"text-align: right;\">                     0   </td><td>2014-06-01 00:00:00</td><td style=\"text-align: right;\">           649.91</td><td>                   </td><td>2015-06-01 00:00:00 </td><td style=\"text-align: right;\">                           0</td><td>                             </td><td style=\"text-align: right;\">            1</td></tr>\n",
       "<tr><td style=\"text-align: right;\">1.07686e+06</td><td style=\"text-align: right;\">1.27718e+06</td><td style=\"text-align: right;\">      10000</td><td style=\"text-align: right;\">        10000</td><td style=\"text-align: right;\">            10000</td><td>36 months</td><td>13.49%    </td><td style=\"text-align: right;\">       339.31</td><td>C      </td><td>C1         </td><td>AIR RESOURCES BOARD      </td><td>10+ years   </td><td>RENT            </td><td style=\"text-align: right;\">       49200</td><td>VERIFIED - income source</td><td>2011-12-01 00:00:00</td><td>Fully Paid   </td><td>n           </td><td>https://www.lendingclub.com/browse/loanDetail.action?loan_id=1076863</td><td>Borrower added on 12/21/11 > to pay for property tax (borrow from friend, need to pay back) & central A/C need to be replace. I'm very sorry to let my loan expired last time.<br>                                                                                                                                                                                                                                                                                                                                                                                                                          </td><td>other             </td><td>personel                             </td><td>917xx     </td><td>CA          </td><td style=\"text-align: right;\">20   </td><td style=\"text-align: right;\">            0</td><td>1996-02-01 00:00:00</td><td style=\"text-align: right;\">               1</td><td>35                      </td><td>                        </td><td style=\"text-align: right;\">        10</td><td style=\"text-align: right;\">        0</td><td style=\"text-align: right;\">       5598</td><td>21%         </td><td style=\"text-align: right;\">         37</td><td>f                    </td><td style=\"text-align: right;\">       0   </td><td style=\"text-align: right;\">           0   </td><td style=\"text-align: right;\">     12226.3 </td><td style=\"text-align: right;\">         12226.3 </td><td style=\"text-align: right;\">         10000   </td><td style=\"text-align: right;\">        2209.33</td><td style=\"text-align: right;\">               16.97</td><td style=\"text-align: right;\">        0   </td><td style=\"text-align: right;\">                     0   </td><td>2015-01-01 00:00:00</td><td style=\"text-align: right;\">           357.48</td><td>                   </td><td>2015-01-01 00:00:00 </td><td style=\"text-align: right;\">                           0</td><td>                             </td><td style=\"text-align: right;\">            1</td></tr>\n",
       "<tr><td style=\"text-align: right;\">1.07536e+06</td><td style=\"text-align: right;\">1.31175e+06</td><td style=\"text-align: right;\">       3000</td><td style=\"text-align: right;\">         3000</td><td style=\"text-align: right;\">             3000</td><td>60 months</td><td>12.69%    </td><td style=\"text-align: right;\">        67.79</td><td>B      </td><td>B5         </td><td>University Medical Group </td><td>1 year      </td><td>RENT            </td><td style=\"text-align: right;\">       80000</td><td>VERIFIED - income source</td><td>2011-12-01 00:00:00</td><td>Current      </td><td>n           </td><td>https://www.lendingclub.com/browse/loanDetail.action?loan_id=1075358</td><td>Borrower added on 12/21/11 > I plan on combining three large interest bills together and freeing up some extra each month to pay toward other bills.  I've always been a good payor but have found myself needing to make adjustments to my budget due to a medical scare. My job is very stable, I love it.<br>                                                                                                                                                                                                                                                                                            </td><td>other             </td><td>Personal                             </td><td>972xx     </td><td>OR          </td><td style=\"text-align: right;\">17.94</td><td style=\"text-align: right;\">            0</td><td>1996-01-01 00:00:00</td><td style=\"text-align: right;\">               0</td><td>38                      </td><td>                        </td><td style=\"text-align: right;\">        15</td><td style=\"text-align: right;\">        0</td><td style=\"text-align: right;\">      27783</td><td>53.9%       </td><td style=\"text-align: right;\">         38</td><td>f                    </td><td style=\"text-align: right;\">    1168.04</td><td style=\"text-align: right;\">        1168.04</td><td style=\"text-align: right;\">      2767.64</td><td style=\"text-align: right;\">          2767.64</td><td style=\"text-align: right;\">          1831.96</td><td style=\"text-align: right;\">         935.68</td><td style=\"text-align: right;\">                0   </td><td style=\"text-align: right;\">        0   </td><td style=\"text-align: right;\">                     0   </td><td>2015-06-01 00:00:00</td><td style=\"text-align: right;\">            67.79</td><td>2015-07-01 00:00:00</td><td>2015-06-01 00:00:00 </td><td style=\"text-align: right;\">                           0</td><td>                             </td><td style=\"text-align: right;\">            1</td></tr>\n",
       "<tr><td style=\"text-align: right;\">1.07527e+06</td><td style=\"text-align: right;\">1.31144e+06</td><td style=\"text-align: right;\">       5000</td><td style=\"text-align: right;\">         5000</td><td style=\"text-align: right;\">             5000</td><td>36 months</td><td>7.90%     </td><td style=\"text-align: right;\">       156.46</td><td>A      </td><td>A4         </td><td>Veolia Transportaton     </td><td>3 years     </td><td>RENT            </td><td style=\"text-align: right;\">       36000</td><td>VERIFIED - income source</td><td>2011-12-01 00:00:00</td><td>Fully Paid   </td><td>n           </td><td>https://www.lendingclub.com/browse/loanDetail.action?loan_id=1075269</td><td>                                                                                                                                                                                                                                                                                                                                                                                                                                                                                                                                                                                                            </td><td>wedding           </td><td>My wedding loan I promise to pay back</td><td>852xx     </td><td>AZ          </td><td style=\"text-align: right;\">11.2 </td><td style=\"text-align: right;\">            0</td><td>2004-11-01 00:00:00</td><td style=\"text-align: right;\">               3</td><td>                        </td><td>                        </td><td style=\"text-align: right;\">         9</td><td style=\"text-align: right;\">        0</td><td style=\"text-align: right;\">       7963</td><td>28.3%       </td><td style=\"text-align: right;\">         12</td><td>f                    </td><td style=\"text-align: right;\">       0   </td><td style=\"text-align: right;\">           0   </td><td style=\"text-align: right;\">      5631.38</td><td style=\"text-align: right;\">          5631.38</td><td style=\"text-align: right;\">          5000   </td><td style=\"text-align: right;\">         631.38</td><td style=\"text-align: right;\">                0   </td><td style=\"text-align: right;\">        0   </td><td style=\"text-align: right;\">                     0   </td><td>2015-01-01 00:00:00</td><td style=\"text-align: right;\">           161.03</td><td>                   </td><td>2015-06-01 00:00:00 </td><td style=\"text-align: right;\">                           0</td><td>                             </td><td style=\"text-align: right;\">            1</td></tr>\n",
       "<tr><td style=\"text-align: right;\">1.06964e+06</td><td style=\"text-align: right;\">1.30474e+06</td><td style=\"text-align: right;\">       7000</td><td style=\"text-align: right;\">         7000</td><td style=\"text-align: right;\">             7000</td><td>60 months</td><td>15.96%    </td><td style=\"text-align: right;\">       170.08</td><td>C      </td><td>C5         </td><td>Southern Star Photography</td><td>8 years     </td><td>RENT            </td><td style=\"text-align: right;\">       47004</td><td>not verified            </td><td>2011-12-01 00:00:00</td><td>Current      </td><td>n           </td><td>https://www.lendingclub.com/browse/loanDetail.action?loan_id=1069639</td><td>Borrower added on 12/18/11 > I am planning on using the funds to pay off two retail credit cards with 24.99% interest rates, as well as a major bank credit card with a 18.99% rate.  I pay all my bills on time, looking for a lower combined payment and lower monthly payment.<br>                                                                                                                                                                                                                                                                                                                       </td><td>debt_consolidation</td><td>Loan                                 </td><td>280xx     </td><td>NC          </td><td style=\"text-align: right;\">23.51</td><td style=\"text-align: right;\">            0</td><td>2005-07-01 00:00:00</td><td style=\"text-align: right;\">               1</td><td>                        </td><td>                        </td><td style=\"text-align: right;\">         7</td><td style=\"text-align: right;\">        0</td><td style=\"text-align: right;\">      17726</td><td>85.6%       </td><td style=\"text-align: right;\">         11</td><td>f                    </td><td style=\"text-align: right;\">    2853.21</td><td style=\"text-align: right;\">        2853.21</td><td style=\"text-align: right;\">      6946.28</td><td style=\"text-align: right;\">          6946.28</td><td style=\"text-align: right;\">          4146.8 </td><td style=\"text-align: right;\">        2799.48</td><td style=\"text-align: right;\">                0   </td><td style=\"text-align: right;\">        0   </td><td style=\"text-align: right;\">                     0   </td><td>2015-06-01 00:00:00</td><td style=\"text-align: right;\">           170.08</td><td>2015-08-01 00:00:00</td><td>2015-06-01 00:00:00 </td><td style=\"text-align: right;\">                           0</td><td>                             </td><td style=\"text-align: right;\">            1</td></tr>\n",
       "<tr><td style=\"text-align: right;\">1.07205e+06</td><td style=\"text-align: right;\">1.28869e+06</td><td style=\"text-align: right;\">       3000</td><td style=\"text-align: right;\">         3000</td><td style=\"text-align: right;\">             3000</td><td>36 months</td><td>18.64%    </td><td style=\"text-align: right;\">       109.43</td><td>E      </td><td>E1         </td><td>MKC Accounting           </td><td>9 years     </td><td>RENT            </td><td style=\"text-align: right;\">       48000</td><td>VERIFIED - income source</td><td>2011-12-01 00:00:00</td><td>Fully Paid   </td><td>n           </td><td>https://www.lendingclub.com/browse/loanDetail.action?loan_id=1072053</td><td>Borrower added on 12/16/11 > Downpayment for a car.<br>                                                                                                                                                                                                                                                                                                                                                                                                                                                                                                                                                     </td><td>car               </td><td>Car Downpayment                      </td><td>900xx     </td><td>CA          </td><td style=\"text-align: right;\"> 5.35</td><td style=\"text-align: right;\">            0</td><td>2007-01-01 00:00:00</td><td style=\"text-align: right;\">               2</td><td>                        </td><td>                        </td><td style=\"text-align: right;\">         4</td><td style=\"text-align: right;\">        0</td><td style=\"text-align: right;\">       8221</td><td>87.5%       </td><td style=\"text-align: right;\">          4</td><td>f                    </td><td style=\"text-align: right;\">       0   </td><td style=\"text-align: right;\">           0   </td><td style=\"text-align: right;\">      3938.14</td><td style=\"text-align: right;\">          3938.14</td><td style=\"text-align: right;\">          3000   </td><td style=\"text-align: right;\">         938.14</td><td style=\"text-align: right;\">                0   </td><td style=\"text-align: right;\">        0   </td><td style=\"text-align: right;\">                     0   </td><td>2015-01-01 00:00:00</td><td style=\"text-align: right;\">           111.34</td><td>                   </td><td>2014-12-01 00:00:00 </td><td style=\"text-align: right;\">                           0</td><td>                             </td><td style=\"text-align: right;\">            1</td></tr>\n",
       "<tr><td style=\"text-align: right;\">1.0718e+06 </td><td style=\"text-align: right;\">1.30696e+06</td><td style=\"text-align: right;\">       5600</td><td style=\"text-align: right;\">         5600</td><td style=\"text-align: right;\">             5600</td><td>60 months</td><td>21.28%    </td><td style=\"text-align: right;\">       152.39</td><td>F      </td><td>F2         </td><td>                         </td><td>4 years     </td><td>OWN             </td><td style=\"text-align: right;\">       40000</td><td>VERIFIED - income source</td><td>2011-12-01 00:00:00</td><td>Charged Off  </td><td>n           </td><td>https://www.lendingclub.com/browse/loanDetail.action?loan_id=1071795</td><td>Borrower added on 12/21/11 > I own a small home-based judgment collection business. I have 5 years experience collecting debts. I am now going from a home office to a small office. I also plan to buy a small debt portfolio (eg. $10K for $1M of debt) <br>My score is not A+ because I own my home and have no mortgage.<br>                                                                                                                                                                                                                                                                            </td><td>small_business    </td><td>Expand Business & Buy Debt Portfolio </td><td>958xx     </td><td>CA          </td><td style=\"text-align: right;\"> 5.55</td><td style=\"text-align: right;\">            0</td><td>2004-04-01 00:00:00</td><td style=\"text-align: right;\">               2</td><td>                        </td><td>                        </td><td style=\"text-align: right;\">        11</td><td style=\"text-align: right;\">        0</td><td style=\"text-align: right;\">       5210</td><td>32.6%       </td><td style=\"text-align: right;\">         13</td><td>f                    </td><td style=\"text-align: right;\">       0   </td><td style=\"text-align: right;\">           0   </td><td style=\"text-align: right;\">       646.02</td><td style=\"text-align: right;\">           646.02</td><td style=\"text-align: right;\">           162.02</td><td style=\"text-align: right;\">         294.94</td><td style=\"text-align: right;\">                0   </td><td style=\"text-align: right;\">      189.06</td><td style=\"text-align: right;\">                     2.09</td><td>2012-04-01 00:00:00</td><td style=\"text-align: right;\">           152.39</td><td>                   </td><td>2012-08-01 00:00:00 </td><td style=\"text-align: right;\">                           0</td><td>                             </td><td style=\"text-align: right;\">            1</td></tr>\n",
       "<tr><td style=\"text-align: right;\">1.07157e+06</td><td style=\"text-align: right;\">1.30672e+06</td><td style=\"text-align: right;\">       5375</td><td style=\"text-align: right;\">         5375</td><td style=\"text-align: right;\">             5350</td><td>60 months</td><td>12.69%    </td><td style=\"text-align: right;\">       121.45</td><td>B      </td><td>B5         </td><td>Starbucks                </td><td>< 1 year    </td><td>RENT            </td><td style=\"text-align: right;\">       15000</td><td>VERIFIED - income       </td><td>2011-12-01 00:00:00</td><td>Charged Off  </td><td>n           </td><td>https://www.lendingclub.com/browse/loanDetail.action?loan_id=1071570</td><td>Borrower added on 12/16/11 > I'm trying to build up my credit history. I live with my brother and have no car payment or credit cards. I am in community college and work full time. Im going to use the money to make some repairs around the house and get some maintenance done on my car.<br><br>  Borrower added on 12/20/11 > $1000 down only $4375 to go. Thanks to everyone that invested so far, looking forward to surprising my brother with the fixes around the house.<br>                                                                                                                     </td><td>other             </td><td>Building my credit history.          </td><td>774xx     </td><td>TX          </td><td style=\"text-align: right;\">18.08</td><td style=\"text-align: right;\">            0</td><td>2004-09-01 00:00:00</td><td style=\"text-align: right;\">               0</td><td>                        </td><td>                        </td><td style=\"text-align: right;\">         2</td><td style=\"text-align: right;\">        0</td><td style=\"text-align: right;\">       9279</td><td>36.5%       </td><td style=\"text-align: right;\">          3</td><td>f                    </td><td style=\"text-align: right;\">       0   </td><td style=\"text-align: right;\">           0   </td><td style=\"text-align: right;\">      1476.19</td><td style=\"text-align: right;\">          1469.34</td><td style=\"text-align: right;\">           673.48</td><td style=\"text-align: right;\">         533.42</td><td style=\"text-align: right;\">                0   </td><td style=\"text-align: right;\">      269.29</td><td style=\"text-align: right;\">                     2.52</td><td>2012-11-01 00:00:00</td><td style=\"text-align: right;\">           121.45</td><td>                   </td><td>2013-03-01 00:00:00 </td><td style=\"text-align: right;\">                           0</td><td>                             </td><td style=\"text-align: right;\">            1</td></tr>\n",
       "</tbody>\n",
       "</table>"
      ]
     },
     "metadata": {},
     "output_type": "display_data"
    },
    {
     "data": {
      "text/plain": []
     },
     "execution_count": 5,
     "metadata": {},
     "output_type": "execute_result"
    }
   ],
   "source": [
    "loans.head()"
   ]
  },
  {
   "cell_type": "markdown",
   "metadata": {},
   "source": [
    "------\n",
    "\n",
    ">## Comment: Data preparation for modeling\n",
    ">\n",
    ">In this tutorial, we either rush through or perhaps skip steps that a modeler would typically spend a considerable amount of effort on. For example, we omit entirely exploratory data analysis. Additionally, the process of **_defining the problem_** is often iterative and takes a lot of thought and effort. We make the assumption here that this work has already been done by the modeler.\n",
    ">\n",
    ">In reality, the majority of a modeler's time is spent on problem definition and data cleaning/wrangling/munging. Our speed at going through these steps to demonstrate the use of H2O-3 in no way minimizes the importance of careful and thoughtful data preparation for model building. \n",
    "\n",
    "-----\n"
   ]
  },
  {
   "cell_type": "markdown",
   "metadata": {},
   "source": [
    "# Step 3 (of 10).  Clean data\n",
    "\n",
    "\n",
    "## Part 1. Defining the problem and creating the response variable\n",
    "\n",
    "The total number of loans in our data set is"
   ]
  },
  {
   "cell_type": "code",
   "execution_count": 6,
   "metadata": {},
   "outputs": [
    {
     "data": {
      "text/plain": [
       "42536"
      ]
     },
     "execution_count": 6,
     "metadata": {},
     "output_type": "execute_result"
    }
   ],
   "source": [
    "num_unfiltered_loans = loans.dim[0]\n",
    "num_unfiltered_loans"
   ]
  },
  {
   "cell_type": "markdown",
   "metadata": {},
   "source": [
    "Because we are interested in loan default, we need to look at the `loan_status` column."
   ]
  },
  {
   "cell_type": "code",
   "execution_count": 7,
   "metadata": {},
   "outputs": [
    {
     "data": {
      "text/html": [
       "<table>\n",
       "<thead>\n",
       "<tr><th>loan_status                                             </th><th style=\"text-align: right;\">  Count</th></tr>\n",
       "</thead>\n",
       "<tbody>\n",
       "<tr><td>Charged Off                                             </td><td style=\"text-align: right;\">   5435</td></tr>\n",
       "<tr><td>Current                                                 </td><td style=\"text-align: right;\">   3351</td></tr>\n",
       "<tr><td>Default                                                 </td><td style=\"text-align: right;\">      7</td></tr>\n",
       "<tr><td>Does not meet the credit policy.  Status:Charged Off    </td><td style=\"text-align: right;\">    761</td></tr>\n",
       "<tr><td>Does not meet the credit policy.  Status:Current        </td><td style=\"text-align: right;\">     53</td></tr>\n",
       "<tr><td>Does not meet the credit policy.  Status:Fully Paid     </td><td style=\"text-align: right;\">   1933</td></tr>\n",
       "<tr><td>Does not meet the credit policy.  Status:In Grace Period</td><td style=\"text-align: right;\">      2</td></tr>\n",
       "<tr><td>Fully Paid                                              </td><td style=\"text-align: right;\">  30843</td></tr>\n",
       "<tr><td>In Grace Period                                         </td><td style=\"text-align: right;\">     60</td></tr>\n",
       "<tr><td>Late (16-30 days)                                       </td><td style=\"text-align: right;\">     16</td></tr>\n",
       "<tr><td>Late (31-120 days)                                      </td><td style=\"text-align: right;\">     74</td></tr>\n",
       "</tbody>\n",
       "</table>"
      ]
     },
     "metadata": {},
     "output_type": "display_data"
    },
    {
     "data": {
      "text/plain": []
     },
     "execution_count": 7,
     "metadata": {},
     "output_type": "execute_result"
    }
   ],
   "source": [
    "loans[\"loan_status\"].table().head(20)"
   ]
  },
  {
   "cell_type": "markdown",
   "metadata": {},
   "source": [
    "Like many real data sources, `loan_status` is messy and contains multiple, somewhat overlapping, categories. Before modeling, we will need to clean this up by (a) removing loans that are still ongoing, and (b) simplifying the response column.\n",
    "\n",
    "### (a) Filter Loans\n",
    "\n",
    "In order to build a valid model, we have to remove loans that are still in process. They have `loan_status` like \"Current\" and \"In Grace Period\":"
   ]
  },
  {
   "cell_type": "code",
   "execution_count": 8,
   "metadata": {},
   "outputs": [],
   "source": [
    "ongoing_status = [\"Current\",\n",
    "                  \"In Grace Period\",\n",
    "                  \"Late (16-30 days)\",\n",
    "                  \"Late (31-120 days)\",\n",
    "                  \"Does not meet the credit policy.  Status:Current\",\n",
    "                  \"Does not meet the credit policy.  Status:In Grace Period\"\n",
    "                 ]\n",
    "loans = loans[~loans[\"loan_status\"].isin(ongoing_status)]"
   ]
  },
  {
   "cell_type": "markdown",
   "metadata": {},
   "source": [
    "After filtering out ongoing loans, we now have"
   ]
  },
  {
   "cell_type": "code",
   "execution_count": 9,
   "metadata": {},
   "outputs": [
    {
     "data": {
      "text/plain": [
       "38980"
      ]
     },
     "execution_count": 9,
     "metadata": {},
     "output_type": "execute_result"
    }
   ],
   "source": [
    "num_filtered_loans = loans.dim[0]\n",
    "num_filtered_loans"
   ]
  },
  {
   "cell_type": "markdown",
   "metadata": {},
   "source": [
    "loans whose final state is known, which means we filtered out"
   ]
  },
  {
   "cell_type": "code",
   "execution_count": 10,
   "metadata": {},
   "outputs": [
    {
     "data": {
      "text/plain": [
       "3556"
      ]
     },
     "execution_count": 10,
     "metadata": {},
     "output_type": "execute_result"
    }
   ],
   "source": [
    "num_loans_filtered_out = num_unfiltered_loans - num_filtered_loans\n",
    "num_loans_filtered_out"
   ]
  },
  {
   "cell_type": "markdown",
   "metadata": {},
   "source": [
    "loans. These loans are now summarized by `loan_status` as"
   ]
  },
  {
   "cell_type": "code",
   "execution_count": 11,
   "metadata": {},
   "outputs": [
    {
     "data": {
      "text/html": [
       "<table>\n",
       "<thead>\n",
       "<tr><th>loan_status                                         </th><th style=\"text-align: right;\">  Count</th></tr>\n",
       "</thead>\n",
       "<tbody>\n",
       "<tr><td>Charged Off                                         </td><td style=\"text-align: right;\">   5435</td></tr>\n",
       "<tr><td>Default                                             </td><td style=\"text-align: right;\">      7</td></tr>\n",
       "<tr><td>Does not meet the credit policy.  Status:Charged Off</td><td style=\"text-align: right;\">    761</td></tr>\n",
       "<tr><td>Does not meet the credit policy.  Status:Fully Paid </td><td style=\"text-align: right;\">   1933</td></tr>\n",
       "<tr><td>Fully Paid                                          </td><td style=\"text-align: right;\">  30843</td></tr>\n",
       "</tbody>\n",
       "</table>"
      ]
     },
     "metadata": {},
     "output_type": "display_data"
    },
    {
     "data": {
      "text/plain": []
     },
     "execution_count": 11,
     "metadata": {},
     "output_type": "execute_result"
    }
   ],
   "source": [
    "loans[\"loan_status\"].table().head(20)"
   ]
  },
  {
   "cell_type": "markdown",
   "metadata": {},
   "source": [
    "### (b) Create Response Column\n",
    "\n",
    "Let's name our response column `bad_loan`, which will equal one if the loan was not completely paid off."
   ]
  },
  {
   "cell_type": "code",
   "execution_count": 12,
   "metadata": {},
   "outputs": [],
   "source": [
    "fully_paid = [\"Fully Paid\",\n",
    "              \"Does not meet the credit policy.  Status:Fully Paid\"\n",
    "             ]\n",
    "loans[\"bad_loan\"] = ~(loans[\"loan_status\"].isin(fully_paid))"
   ]
  },
  {
   "cell_type": "markdown",
   "metadata": {},
   "source": [
    "Next make the `bad_loan` column a factor so that we can build a classification model,"
   ]
  },
  {
   "cell_type": "code",
   "execution_count": 13,
   "metadata": {},
   "outputs": [],
   "source": [
    "loans[\"bad_loan\"] = loans[\"bad_loan\"].asfactor()"
   ]
  },
  {
   "cell_type": "markdown",
   "metadata": {},
   "source": [
    "The percentage of bad loans is given by"
   ]
  },
  {
   "cell_type": "code",
   "execution_count": 14,
   "metadata": {},
   "outputs": [
    {
     "data": {
      "text/html": [
       "<table>\n",
       "<thead>\n",
       "<tr><th style=\"text-align: right;\">  bad_loan</th><th style=\"text-align: right;\">  Count</th><th style=\"text-align: right;\">  Percentage</th></tr>\n",
       "</thead>\n",
       "<tbody>\n",
       "<tr><td style=\"text-align: right;\">         0</td><td style=\"text-align: right;\">  32776</td><td style=\"text-align: right;\">          84</td></tr>\n",
       "<tr><td style=\"text-align: right;\">         1</td><td style=\"text-align: right;\">   6204</td><td style=\"text-align: right;\">          16</td></tr>\n",
       "</tbody>\n",
       "</table>"
      ]
     },
     "metadata": {},
     "output_type": "display_data"
    },
    {
     "data": {
      "text/plain": []
     },
     "execution_count": 14,
     "metadata": {},
     "output_type": "execute_result"
    }
   ],
   "source": [
    "bad_loan_dist = loans[\"bad_loan\"].table()\n",
    "bad_loan_dist[\"Percentage\"] = (100 * bad_loan_dist[\"Count\"] / loans.nrow).round()\n",
    "bad_loan_dist"
   ]
  },
  {
   "cell_type": "markdown",
   "metadata": {},
   "source": [
    "## Part 2. Convert strings to numeric\n",
    "\n",
    "Consider the columns `int_rate`, `revol_util`, and `emp_length`:"
   ]
  },
  {
   "cell_type": "code",
   "execution_count": 15,
   "metadata": {},
   "outputs": [
    {
     "data": {
      "text/html": [
       "<table>\n",
       "<thead>\n",
       "<tr><th>int_rate  </th><th>revol_util  </th><th>emp_length  </th></tr>\n",
       "</thead>\n",
       "<tbody>\n",
       "<tr><td>10.65%    </td><td>83.7%       </td><td>10+ years   </td></tr>\n",
       "<tr><td>15.27%    </td><td>9.4%        </td><td>< 1 year    </td></tr>\n",
       "<tr><td>15.96%    </td><td>98.5%       </td><td>10+ years   </td></tr>\n",
       "<tr><td>13.49%    </td><td>21%         </td><td>10+ years   </td></tr>\n",
       "<tr><td>7.90%     </td><td>28.3%       </td><td>3 years     </td></tr>\n",
       "<tr><td>18.64%    </td><td>87.5%       </td><td>9 years     </td></tr>\n",
       "<tr><td>21.28%    </td><td>32.6%       </td><td>4 years     </td></tr>\n",
       "<tr><td>12.69%    </td><td>36.5%       </td><td>< 1 year    </td></tr>\n",
       "<tr><td>14.65%    </td><td>20.6%       </td><td>5 years     </td></tr>\n",
       "<tr><td>12.69%    </td><td>67.1%       </td><td>10+ years   </td></tr>\n",
       "</tbody>\n",
       "</table>"
      ]
     },
     "metadata": {},
     "output_type": "display_data"
    },
    {
     "data": {
      "text/plain": []
     },
     "execution_count": 15,
     "metadata": {},
     "output_type": "execute_result"
    }
   ],
   "source": [
    "loans[[\"int_rate\", \"revol_util\", \"emp_length\"]].head()"
   ]
  },
  {
   "cell_type": "markdown",
   "metadata": {},
   "source": [
    "Both `int_rate` and `revol_util` are inherently numeric but entered as percentages. Since they include a \"%\" sign, they are read in as strings. The solution for both of these columns is simple: strip the \"%\" sign and convert the strings to numeric.\n",
    "\n",
    "The `emp_length` column is only slightly more complex. Besides removing the \"year\" or \"years\" term, we have to deal with `< 1` and `10+`, which aren't directly numeric. If we define `< 1` as 0 and `10+` as 10, then `emp_length` can also be cast as numeric.\n",
    "\n",
    "We demonstrate the steps for converting these string variables into numeric values below.\n",
    "\n",
    "### Convert `int_rate`"
   ]
  },
  {
   "cell_type": "code",
   "execution_count": 16,
   "metadata": {},
   "outputs": [],
   "source": [
    "loans[\"int_rate\"] = loans[\"int_rate\"].gsub(pattern = \"%\", replacement = \"\") # strip %\n",
    "loans[\"int_rate\"] = loans[\"int_rate\"].trim() # trim whitespace\n",
    "loans[\"int_rate\"] = loans[\"int_rate\"].asnumeric() # change to numeric "
   ]
  },
  {
   "cell_type": "markdown",
   "metadata": {},
   "source": [
    "### Convert `revol_util`"
   ]
  },
  {
   "cell_type": "code",
   "execution_count": 17,
   "metadata": {},
   "outputs": [],
   "source": [
    "loans[\"revol_util\"] = loans[\"revol_util\"].gsub(pattern=\"%\", replacement=\"\") # strip %\n",
    "loans[\"revol_util\"] = loans[\"revol_util\"].trim() # trim whitespace\n",
    "loans[\"revol_util\"] = loans[\"revol_util\"].asnumeric() # change to numeric "
   ]
  },
  {
   "cell_type": "markdown",
   "metadata": {},
   "source": [
    "### Convert `emp_length`"
   ]
  },
  {
   "cell_type": "code",
   "execution_count": 18,
   "metadata": {},
   "outputs": [],
   "source": [
    "# Use gsub to remove \" year\" and \" years\"; also translate n/a to \"\" \n",
    "loans[\"emp_length\"] = loans[\"emp_length\"].gsub(pattern=\"([ ]*+[a-zA-Z].*)|(n/a)\", replacement=\"\") \n",
    "loans[\"emp_length\"] = loans[\"emp_length\"].trim() # trim whitespace\n",
    "\n",
    "loans[\"emp_length\"] = loans[\"emp_length\"].gsub(pattern=\"< 1\", replacement=\"0\") # convert \"< 1\" to 0\n",
    "loans[\"emp_length\"] = loans[\"emp_length\"].gsub(pattern=\"10\\\\+\", replacement=\"10\") # convert \"10+\" to 10\n",
    "loans[\"emp_length\"] = loans[\"emp_length\"].asnumeric() # trim whitespace"
   ]
  },
  {
   "cell_type": "markdown",
   "metadata": {},
   "source": [
    "These steps result in"
   ]
  },
  {
   "cell_type": "code",
   "execution_count": 19,
   "metadata": {},
   "outputs": [
    {
     "data": {
      "text/html": [
       "<table>\n",
       "<thead>\n",
       "<tr><th style=\"text-align: right;\">  int_rate</th><th style=\"text-align: right;\">  revol_util</th><th style=\"text-align: right;\">  emp_length</th></tr>\n",
       "</thead>\n",
       "<tbody>\n",
       "<tr><td style=\"text-align: right;\">     10.65</td><td style=\"text-align: right;\">        83.7</td><td style=\"text-align: right;\">          10</td></tr>\n",
       "<tr><td style=\"text-align: right;\">     15.27</td><td style=\"text-align: right;\">         9.4</td><td style=\"text-align: right;\">           0</td></tr>\n",
       "<tr><td style=\"text-align: right;\">     15.96</td><td style=\"text-align: right;\">        98.5</td><td style=\"text-align: right;\">          10</td></tr>\n",
       "<tr><td style=\"text-align: right;\">     13.49</td><td style=\"text-align: right;\">        21  </td><td style=\"text-align: right;\">          10</td></tr>\n",
       "<tr><td style=\"text-align: right;\">      7.9 </td><td style=\"text-align: right;\">        28.3</td><td style=\"text-align: right;\">           3</td></tr>\n",
       "<tr><td style=\"text-align: right;\">     18.64</td><td style=\"text-align: right;\">        87.5</td><td style=\"text-align: right;\">           9</td></tr>\n",
       "<tr><td style=\"text-align: right;\">     21.28</td><td style=\"text-align: right;\">        32.6</td><td style=\"text-align: right;\">           4</td></tr>\n",
       "<tr><td style=\"text-align: right;\">     12.69</td><td style=\"text-align: right;\">        36.5</td><td style=\"text-align: right;\">           0</td></tr>\n",
       "<tr><td style=\"text-align: right;\">     14.65</td><td style=\"text-align: right;\">        20.6</td><td style=\"text-align: right;\">           5</td></tr>\n",
       "<tr><td style=\"text-align: right;\">     12.69</td><td style=\"text-align: right;\">        67.1</td><td style=\"text-align: right;\">          10</td></tr>\n",
       "</tbody>\n",
       "</table>"
      ]
     },
     "metadata": {},
     "output_type": "display_data"
    },
    {
     "data": {
      "text/plain": []
     },
     "execution_count": 19,
     "metadata": {},
     "output_type": "execute_result"
    }
   ],
   "source": [
    "loans[[\"int_rate\", \"revol_util\", \"emp_length\"]].head()"
   ]
  },
  {
   "cell_type": "markdown",
   "metadata": {},
   "source": [
    "### Note: Interest rate distributions\n",
    "\n",
    "Now that we have converted interest rate to numeric, we can use the `hist` function to compare the interest rate distributions for good and bad loans."
   ]
  },
  {
   "cell_type": "code",
   "execution_count": 20,
   "metadata": {},
   "outputs": [
    {
     "name": "stdout",
     "output_type": "stream",
     "text": [
      "Bad Loans\n"
     ]
    },
    {
     "data": {
      "image/png": "[encoded data removed]",
      "text/plain": [
       "<Figure size 432x288 with 1 Axes>"
      ]
     },
     "metadata": {
      "needs_background": "light"
     },
     "output_type": "display_data"
    },
    {
     "name": "stdout",
     "output_type": "stream",
     "text": [
      "Good Loans\n"
     ]
    },
    {
     "data": {
      "image/png": "[encoded data removed]",
      "text/plain": [
       "<Figure size 432x288 with 1 Axes>"
      ]
     },
     "metadata": {
      "needs_background": "light"
     },
     "output_type": "display_data"
    }
   ],
   "source": [
    "%matplotlib inline\n",
    "\n",
    "print(\"Bad Loans\")\n",
    "loans[loans[\"bad_loan\"] == \"1\", \"int_rate\"].hist()\n",
    "\n",
    "print(\"Good Loans\")\n",
    "loans[loans[\"bad_loan\"] == \"0\", \"int_rate\"].hist()"
   ]
  },
  {
   "cell_type": "markdown",
   "metadata": {},
   "source": [
    "As expected, the bad loan distribution contains proportionately more high interest rate loans than the distribution for good loans. Likewise, the good loan distribution contains a higher proportion of low interest rate loans than that for bad loans. It would not surprise us if interest rate were a strong predictor of loan performance.\n",
    "\n",
    ">Financial institutions typically set a borrower's interest rate based on factors like estimated risk and customer demand. If the underwriting rules are any good at all, we would expect interest rate to be one of the best predictors of default. "
   ]
  },
  {
   "cell_type": "markdown",
   "metadata": {},
   "source": [
    "## Part 3. Clean up messy categorical columns\n",
    "\n",
    "Much as we did with the `loan_status` column, the `verification_status` column needs cleaning"
   ]
  },
  {
   "cell_type": "code",
   "execution_count": 21,
   "metadata": {},
   "outputs": [
    {
     "data": {
      "text/html": [
       "<table>\n",
       "<thead>\n",
       "<tr><th>verification_status     </th></tr>\n",
       "</thead>\n",
       "<tbody>\n",
       "<tr><td>VERIFIED - income       </td></tr>\n",
       "<tr><td>VERIFIED - income source</td></tr>\n",
       "<tr><td>not verified            </td></tr>\n",
       "<tr><td>VERIFIED - income source</td></tr>\n",
       "<tr><td>VERIFIED - income source</td></tr>\n",
       "<tr><td>VERIFIED - income source</td></tr>\n",
       "<tr><td>VERIFIED - income source</td></tr>\n",
       "<tr><td>VERIFIED - income       </td></tr>\n",
       "<tr><td>not verified            </td></tr>\n",
       "<tr><td>VERIFIED - income source</td></tr>\n",
       "</tbody>\n",
       "</table>"
      ]
     },
     "metadata": {},
     "output_type": "display_data"
    },
    {
     "data": {
      "text/plain": []
     },
     "execution_count": 21,
     "metadata": {},
     "output_type": "execute_result"
    }
   ],
   "source": [
    "loans[\"verification_status\"].head()"
   ]
  },
  {
   "cell_type": "markdown",
   "metadata": {},
   "source": [
    "Because there are multiple values that mean verified (\"VERIFIED - income\" and \"VERIFIED - income source\"), we replace them simply with \"verified\","
   ]
  },
  {
   "cell_type": "code",
   "execution_count": 22,
   "metadata": {},
   "outputs": [],
   "source": [
    "loans[\"verification_status\"] = loans[\"verification_status\"].sub(pattern=\"VERIFIED - income source\", \n",
    "                                                                replacement=\"verified\")\n",
    "loans[\"verification_status\"] = loans[\"verification_status\"].sub(pattern=\"VERIFIED - income\", \n",
    "                                                                replacement=\"verified\")\n",
    "loans[\"verification_status\"] = loans[\"verification_status\"].asfactor()"
   ]
  },
  {
   "cell_type": "markdown",
   "metadata": {},
   "source": [
    "resulting in"
   ]
  },
  {
   "cell_type": "code",
   "execution_count": 23,
   "metadata": {
    "scrolled": true
   },
   "outputs": [
    {
     "data": {
      "text/html": [
       "<table>\n",
       "<thead>\n",
       "<tr><th>verification_status  </th><th style=\"text-align: right;\">  Count</th></tr>\n",
       "</thead>\n",
       "<tbody>\n",
       "<tr><td>not verified         </td><td style=\"text-align: right;\">  17947</td></tr>\n",
       "<tr><td>verified             </td><td style=\"text-align: right;\">  21032</td></tr>\n",
       "</tbody>\n",
       "</table>"
      ]
     },
     "metadata": {},
     "output_type": "display_data"
    },
    {
     "data": {
      "text/plain": []
     },
     "execution_count": 23,
     "metadata": {},
     "output_type": "execute_result"
    }
   ],
   "source": [
    "loans[\"verification_status\"].table()"
   ]
  },
  {
   "cell_type": "markdown",
   "metadata": {},
   "source": [
    "# Step 4 (of 10).  Feature engineering\n",
    "\n",
    "Now that we have cleaned our data, we can extract information from our current columns to create new features. This process is referred to as _feature engineering_. The general idea is to express information found in our data in a manner that is most understandable to the algorithms we employ, with the goal of improving the performance of our supervised learning models.\n",
    "\n",
    "Feature engineering can be considered the \"secret sauce\" in building a superior predictive model: it is often (although not always) more important than the choice of machine learning algorithm. A very good summary of feature engineering recipes can be found in the online [Driverless AI Documentation](http://docs.h2o.ai/driverless-ai/latest-stable/docs/userguide/transformations.html). \n",
    "\n",
    "We will do some basic feature engineering using the date fields in our data, and then use NLP (natural language processing) to create word embedding features from the loan description text field in our data.\n",
    "\n",
    "The new columns we will create are: \n",
    "* `credit_length`: the number of years someone has had a credit history\n",
    "* `issue_d_year` and `issue_d_month`: the year and month from the loan issue date\n",
    "* word embeddings from the loan description\n",
    "\n",
    "### Credit Length\n",
    "\n",
    "We create the `credit_length` feature by subtracting the year of a customer's earliest credit line from the year they were issued the loan."
   ]
  },
  {
   "cell_type": "code",
   "execution_count": 24,
   "metadata": {},
   "outputs": [
    {
     "data": {
      "text/html": [
       "<table>\n",
       "<thead>\n",
       "<tr><th style=\"text-align: right;\">  credit_length</th></tr>\n",
       "</thead>\n",
       "<tbody>\n",
       "<tr><td style=\"text-align: right;\">             26</td></tr>\n",
       "<tr><td style=\"text-align: right;\">             12</td></tr>\n",
       "<tr><td style=\"text-align: right;\">             10</td></tr>\n",
       "<tr><td style=\"text-align: right;\">             15</td></tr>\n",
       "<tr><td style=\"text-align: right;\">              7</td></tr>\n",
       "<tr><td style=\"text-align: right;\">              4</td></tr>\n",
       "<tr><td style=\"text-align: right;\">              7</td></tr>\n",
       "<tr><td style=\"text-align: right;\">              7</td></tr>\n",
       "<tr><td style=\"text-align: right;\">             13</td></tr>\n",
       "<tr><td style=\"text-align: right;\">             22</td></tr>\n",
       "</tbody>\n",
       "</table>"
      ]
     },
     "metadata": {},
     "output_type": "display_data"
    },
    {
     "data": {
      "text/plain": []
     },
     "execution_count": 24,
     "metadata": {},
     "output_type": "execute_result"
    }
   ],
   "source": [
    "loans[\"credit_length\"] = loans[\"issue_d\"].year() - loans[\"earliest_cr_line\"].year()\n",
    "loans[\"credit_length\"].head()"
   ]
  },
  {
   "cell_type": "markdown",
   "metadata": {},
   "source": [
    "### Issue Date Expansion\n",
    "\n",
    "We next extract the year and month from the issue date.  We may find that the month or the year when the loan was issued will impact the probability of a bad loan. Additionally, since months are cyclical we will treat `issue_d_month` as a factor."
   ]
  },
  {
   "cell_type": "code",
   "execution_count": 25,
   "metadata": {},
   "outputs": [
    {
     "data": {
      "text/html": [
       "<table>\n",
       "<thead>\n",
       "<tr><th style=\"text-align: right;\">  issue_d_year</th><th style=\"text-align: right;\">  issue_d_month</th></tr>\n",
       "</thead>\n",
       "<tbody>\n",
       "<tr><td style=\"text-align: right;\">          2011</td><td style=\"text-align: right;\">             12</td></tr>\n",
       "<tr><td style=\"text-align: right;\">          2011</td><td style=\"text-align: right;\">             12</td></tr>\n",
       "<tr><td style=\"text-align: right;\">          2011</td><td style=\"text-align: right;\">             12</td></tr>\n",
       "<tr><td style=\"text-align: right;\">          2011</td><td style=\"text-align: right;\">             12</td></tr>\n",
       "<tr><td style=\"text-align: right;\">          2011</td><td style=\"text-align: right;\">             12</td></tr>\n",
       "<tr><td style=\"text-align: right;\">          2011</td><td style=\"text-align: right;\">             12</td></tr>\n",
       "<tr><td style=\"text-align: right;\">          2011</td><td style=\"text-align: right;\">             12</td></tr>\n",
       "<tr><td style=\"text-align: right;\">          2011</td><td style=\"text-align: right;\">             12</td></tr>\n",
       "<tr><td style=\"text-align: right;\">          2011</td><td style=\"text-align: right;\">             12</td></tr>\n",
       "<tr><td style=\"text-align: right;\">          2011</td><td style=\"text-align: right;\">             12</td></tr>\n",
       "</tbody>\n",
       "</table>"
      ]
     },
     "metadata": {},
     "output_type": "display_data"
    },
    {
     "data": {
      "text/plain": []
     },
     "execution_count": 25,
     "metadata": {},
     "output_type": "execute_result"
    }
   ],
   "source": [
    "loans[\"issue_d_year\"] = loans[\"issue_d\"].year()\n",
    "loans[\"issue_d_month\"] = loans[\"issue_d\"].month().asfactor()\n",
    "\n",
    "loans[[\"issue_d_year\", \"issue_d_month\"]].head()"
   ]
  },
  {
   "cell_type": "markdown",
   "metadata": {},
   "source": [
    "### Word Embeddings\n",
    "\n",
    "One of the columns in our dataset is a user-provided description of why the loan was requested. The first few descriptions in the dataset are shown below."
   ]
  },
  {
   "cell_type": "code",
   "execution_count": 26,
   "metadata": {},
   "outputs": [
    {
     "data": {
      "text/html": [
       "<table>\n",
       "<thead>\n",
       "<tr><th>desc                                                                                                                                                                                                                                                                                                                                                                                                                                                                                                                                                                                                        </th></tr>\n",
       "</thead>\n",
       "<tbody>\n",
       "<tr><td>Borrower added on 12/22/11 > I need to upgrade my business technologies.<br>                                                                                                                                                                                                                                                                                                                                                                                                                                                                                                                                </td></tr>\n",
       "<tr><td>Borrower added on 12/22/11 > I plan to use this money to finance the motorcycle i am looking at. I plan to have it paid off as soon as possible/when i sell my old bike. I only need this money because the deal im looking at is to good to pass up.<br><br>  Borrower added on 12/22/11 > I plan to use this money to finance the motorcycle i am looking at. I plan to have it paid off as soon as possible/when i sell my old bike.I only need this money because the deal im looking at is to good to pass up. I have finished college with an associates degree in business and its takingmeplaces<br></td></tr>\n",
       "<tr><td>                                                                                                                                                                                                                                                                                                                                                                                                                                                                                                                                                                                                            </td></tr>\n",
       "<tr><td>Borrower added on 12/21/11 > to pay for property tax (borrow from friend, need to pay back) & central A/C need to be replace. I'm very sorry to let my loan expired last time.<br>                                                                                                                                                                                                                                                                                                                                                                                                                          </td></tr>\n",
       "<tr><td>                                                                                                                                                                                                                                                                                                                                                                                                                                                                                                                                                                                                            </td></tr>\n",
       "<tr><td>Borrower added on 12/16/11 > Downpayment for a car.<br>                                                                                                                                                                                                                                                                                                                                                                                                                                                                                                                                                     </td></tr>\n",
       "<tr><td>Borrower added on 12/21/11 > I own a small home-based judgment collection business. I have 5 years experience collecting debts. I am now going from a home office to a small office. I also plan to buy a small debt portfolio (eg. $10K for $1M of debt) <br>My score is not A+ because I own my home and have no mortgage.<br>                                                                                                                                                                                                                                                                            </td></tr>\n",
       "<tr><td>Borrower added on 12/16/11 > I'm trying to build up my credit history. I live with my brother and have no car payment or credit cards. I am in community college and work full time. Im going to use the money to make some repairs around the house and get some maintenance done on my car.<br><br>  Borrower added on 12/20/11 > $1000 down only $4375 to go. Thanks to everyone that invested so far, looking forward to surprising my brother with the fixes around the house.<br>                                                                                                                     </td></tr>\n",
       "<tr><td>Borrower added on 12/15/11 > I had recived a loan from Citi Financial about a year ago, I was paying 29.99 intrest, so the refinance is to cut that rate since cleaning up my credit I have been paying everything on time as shown on my credit report<br>                                                                                                                                                                                                                                                                                                                                                 </td></tr>\n",
       "<tr><td>                                                                                                                                                                                                                                                                                                                                                                                                                                                                                                                                                                                                            </td></tr>\n",
       "</tbody>\n",
       "</table>"
      ]
     },
     "metadata": {},
     "output_type": "display_data"
    },
    {
     "data": {
      "text/plain": []
     },
     "execution_count": 26,
     "metadata": {},
     "output_type": "execute_result"
    }
   ],
   "source": [
    "loans[\"desc\"].head()"
   ]
  },
  {
   "cell_type": "markdown",
   "metadata": {},
   "source": [
    "The descriptions may contain information that would assist in predicting default, but supervised learning algorithms in general have a hard time understanding text. We need to convert these strings into a numeric representation of the text in order for our algorithms to operate on it. There are multiple choices for doing so, in this example we will use the Word2Vec algorithm.\n",
    "\n",
    "We start by defining stop words (terms that are considered too frequent to carry much information) "
   ]
  },
  {
   "cell_type": "code",
   "execution_count": 27,
   "metadata": {},
   "outputs": [],
   "source": [
    "STOP_WORDS = [\"ax\",\"i\",\"you\",\"edu\",\"s\",\"t\",\"m\",\"subject\",\"can\",\"lines\",\"re\",\"what\",\n",
    "              \"there\",\"all\",\"we\",\"one\",\"the\",\"a\",\"an\",\"of\",\"or\",\"in\",\"for\",\"by\",\"on\",\n",
    "              \"but\",\"is\",\"in\",\"a\",\"not\",\"with\",\"as\",\"was\",\"if\",\"they\",\"are\",\"this\",\"and\",\"it\",\"have\",\n",
    "              \"from\",\"at\",\"my\",\"be\",\"by\",\"not\",\"that\",\"to\",\"from\",\"com\",\"org\",\"like\",\"likes\",\"so\"]"
   ]
  },
  {
   "cell_type": "markdown",
   "metadata": {},
   "source": [
    "We next _tokenize_ the descriptions by breaking the text into individual words"
   ]
  },
  {
   "cell_type": "code",
   "execution_count": 28,
   "metadata": {},
   "outputs": [],
   "source": [
    "def tokenize(sentences, stop_word = STOP_WORDS):\n",
    "    tokenized = sentences.tokenize(\"\\\\W+\")\n",
    "    tokenized_lower = tokenized.tolower()\n",
    "    tokenized_filtered = tokenized_lower[(tokenized_lower.nchar() >= 2) | (tokenized_lower.isna()),:]\n",
    "    tokenized_words = tokenized_filtered[tokenized_filtered.grep(\"[0-9]\",invert=True,output_logical=True),:]\n",
    "    tokenized_words = tokenized_words[(tokenized_words.isna()) | (~ tokenized_words.isin(STOP_WORDS)),:]\n",
    "    return tokenized_words\n",
    "\n",
    "words = tokenize(loans[\"desc\"].ascharacter())"
   ]
  },
  {
   "cell_type": "markdown",
   "metadata": {},
   "source": [
    "Then we train our Word2Vec model on the words extracted from our descriptions. We choose an output vector size of 100.\n",
    "\n",
    ">What does Word2Vec do? At a high level, it is a dimensionality reduction method for numerical representations of text. But it reduces dimensionality while preserving relationships between words in the text.\n",
    ">\n",
    ">Suppose we were to create a dictionary of all the words in our descriptions, and further suppose that dictionary contained 2500 unique words. At one extreme, we could create an indicator variable for each word (i.e., one-hot encoding). This would yield 2500 new features that would certainly lead to massive overfitting of models.\n",
    ">\n",
    ">At the other extreme, suppose we had someone classify those words into different groups and create indicator variables for each group: e.g., `risky_words` (\"bankruptcy\", \"default\", \"forfeit\", \"lien\", etc.), `angry_words` (profanity, \"complaint\", etc.), and so on. This reduces dimensionality by manually grouping words, but it is extremely labor intensive.\n",
    ">\n",
    ">Word2Vec starts with the entire dictionary size $K$ as inputs and the selected vector size $k$ as the target number of outputs. Passing through the intermediate layer(s) of the Word2Vec neural net, a $k$-dimensional numeric representation of each word is derived. "
   ]
  },
  {
   "cell_type": "code",
   "execution_count": 29,
   "metadata": {},
   "outputs": [
    {
     "name": "stdout",
     "output_type": "stream",
     "text": [
      "word2vec Model Build progress: |██████████████████████████████████████████| 100%\n"
     ]
    }
   ],
   "source": [
    "from h2o.estimators.word2vec import H2OWord2vecEstimator\n",
    "\n",
    "w2v_model = H2OWord2vecEstimator(vec_size=100, model_id=\"w2v\")\n",
    "w2v_model.train(training_frame=words)"
   ]
  },
  {
   "cell_type": "markdown",
   "metadata": {},
   "source": [
    "One way we quickly sanity check the Word2Vec model is by finding synonyms for specified words, e.g., \"car\""
   ]
  },
  {
   "cell_type": "code",
   "execution_count": 30,
   "metadata": {},
   "outputs": [
    {
     "data": {
      "text/plain": [
       "OrderedDict([('vehicle', 0.7402013540267944),\n",
       "             ('auto', 0.7330206632614136),\n",
       "             ('camry', 0.7167404294013977),\n",
       "             ('subaru', 0.703459620475769),\n",
       "             ('cars', 0.6841863989830017)])"
      ]
     },
     "execution_count": 30,
     "metadata": {},
     "output_type": "execute_result"
    }
   ],
   "source": [
    "w2v_model.find_synonyms(\"car\", count=5)"
   ]
  },
  {
   "cell_type": "markdown",
   "metadata": {},
   "source": [
    "Assuming we are satisfied with our Word2Vec model results, we next calculate a vector for each description by averaging over all of the words in that description"
   ]
  },
  {
   "cell_type": "code",
   "execution_count": 31,
   "metadata": {
    "scrolled": true
   },
   "outputs": [
    {
     "data": {
      "text/html": [
       "<table>\n",
       "<thead>\n",
       "<tr><th style=\"text-align: right;\">         C1</th><th style=\"text-align: right;\">        C2</th><th style=\"text-align: right;\">          C3</th><th style=\"text-align: right;\">         C4</th><th style=\"text-align: right;\">         C5</th><th style=\"text-align: right;\">         C6</th><th style=\"text-align: right;\">         C7</th><th style=\"text-align: right;\">         C8</th><th style=\"text-align: right;\">         C9</th><th style=\"text-align: right;\">        C10</th><th style=\"text-align: right;\">        C11</th><th style=\"text-align: right;\">       C12</th><th style=\"text-align: right;\">        C13</th><th style=\"text-align: right;\">        C14</th><th style=\"text-align: right;\">       C15</th><th style=\"text-align: right;\">        C16</th><th style=\"text-align: right;\">       C17</th><th style=\"text-align: right;\">        C18</th><th style=\"text-align: right;\">          C19</th><th style=\"text-align: right;\">        C20</th><th style=\"text-align: right;\">         C21</th><th style=\"text-align: right;\">        C22</th><th style=\"text-align: right;\">        C23</th><th style=\"text-align: right;\">        C24</th><th style=\"text-align: right;\">         C25</th><th style=\"text-align: right;\">        C26</th><th style=\"text-align: right;\">        C27</th><th style=\"text-align: right;\">         C28</th><th style=\"text-align: right;\">         C29</th><th style=\"text-align: right;\">        C30</th><th style=\"text-align: right;\">       C31</th><th style=\"text-align: right;\">        C32</th><th style=\"text-align: right;\">         C33</th><th style=\"text-align: right;\">         C34</th><th style=\"text-align: right;\">         C35</th><th style=\"text-align: right;\">         C36</th><th style=\"text-align: right;\">        C37</th><th style=\"text-align: right;\">        C38</th><th style=\"text-align: right;\">         C39</th><th style=\"text-align: right;\">        C40</th><th style=\"text-align: right;\">        C41</th><th style=\"text-align: right;\">        C42</th><th style=\"text-align: right;\">        C43</th><th style=\"text-align: right;\">         C44</th><th style=\"text-align: right;\">         C45</th><th style=\"text-align: right;\">        C46</th><th style=\"text-align: right;\">         C47</th><th style=\"text-align: right;\">        C48</th><th style=\"text-align: right;\">       C49</th><th style=\"text-align: right;\">        C50</th><th style=\"text-align: right;\">        C51</th><th style=\"text-align: right;\">        C52</th><th style=\"text-align: right;\">         C53</th><th style=\"text-align: right;\">        C54</th><th style=\"text-align: right;\">         C55</th><th style=\"text-align: right;\">        C56</th><th style=\"text-align: right;\">        C57</th><th style=\"text-align: right;\">         C58</th><th style=\"text-align: right;\">        C59</th><th style=\"text-align: right;\">        C60</th><th style=\"text-align: right;\">       C61</th><th style=\"text-align: right;\">         C62</th><th style=\"text-align: right;\">       C63</th><th style=\"text-align: right;\">        C64</th><th style=\"text-align: right;\">        C65</th><th style=\"text-align: right;\">         C66</th><th style=\"text-align: right;\">        C67</th><th style=\"text-align: right;\">        C68</th><th style=\"text-align: right;\">         C69</th><th style=\"text-align: right;\">        C70</th><th style=\"text-align: right;\">        C71</th><th style=\"text-align: right;\">        C72</th><th style=\"text-align: right;\">        C73</th><th style=\"text-align: right;\">        C74</th><th style=\"text-align: right;\">        C75</th><th style=\"text-align: right;\">        C76</th><th style=\"text-align: right;\">         C77</th><th style=\"text-align: right;\">        C78</th><th style=\"text-align: right;\">         C79</th><th style=\"text-align: right;\">        C80</th><th style=\"text-align: right;\">         C81</th><th style=\"text-align: right;\">        C82</th><th style=\"text-align: right;\">          C83</th><th style=\"text-align: right;\">        C84</th><th style=\"text-align: right;\">        C85</th><th style=\"text-align: right;\">        C86</th><th style=\"text-align: right;\">         C87</th><th style=\"text-align: right;\">       C88</th><th style=\"text-align: right;\">        C89</th><th style=\"text-align: right;\">         C90</th><th style=\"text-align: right;\">         C91</th><th style=\"text-align: right;\">         C92</th><th style=\"text-align: right;\">          C93</th><th style=\"text-align: right;\">        C94</th><th style=\"text-align: right;\">        C95</th><th style=\"text-align: right;\">        C96</th><th style=\"text-align: right;\">        C97</th><th style=\"text-align: right;\">        C98</th><th style=\"text-align: right;\">         C99</th><th style=\"text-align: right;\">      C100</th></tr>\n",
       "</thead>\n",
       "<tbody>\n",
       "<tr><td style=\"text-align: right;\">  0.347458 </td><td style=\"text-align: right;\"> -0.364293</td><td style=\"text-align: right;\"> -0.018026  </td><td style=\"text-align: right;\"> -0.0102439</td><td style=\"text-align: right;\">  0.0520613</td><td style=\"text-align: right;\">  0.139491 </td><td style=\"text-align: right;\"> -0.0551409</td><td style=\"text-align: right;\">  0.176029 </td><td style=\"text-align: right;\"> -0.106197 </td><td style=\"text-align: right;\"> -0.0170494</td><td style=\"text-align: right;\">  0.173584 </td><td style=\"text-align: right;\">  0.101362</td><td style=\"text-align: right;\">  0.0773628</td><td style=\"text-align: right;\">  0.146764 </td><td style=\"text-align: right;\"> -0.101678</td><td style=\"text-align: right;\"> -0.158284 </td><td style=\"text-align: right;\"> -0.229172</td><td style=\"text-align: right;\">  0.192381 </td><td style=\"text-align: right;\">  0.00538606 </td><td style=\"text-align: right;\">  0.0251752</td><td style=\"text-align: right;\">  0.00643865</td><td style=\"text-align: right;\"> -0.0907855</td><td style=\"text-align: right;\">  0.0340541</td><td style=\"text-align: right;\"> -0.251301 </td><td style=\"text-align: right;\">  0.0260159 </td><td style=\"text-align: right;\"> -0.192738 </td><td style=\"text-align: right;\">  0.0109955</td><td style=\"text-align: right;\"> -0.0225896 </td><td style=\"text-align: right;\">  0.117086  </td><td style=\"text-align: right;\">  0.0333207</td><td style=\"text-align: right;\"> -0.223836</td><td style=\"text-align: right;\"> -0.124707 </td><td style=\"text-align: right;\">  0.0282633 </td><td style=\"text-align: right;\">  0.129251  </td><td style=\"text-align: right;\"> -0.00442175</td><td style=\"text-align: right;\">  0.00342815</td><td style=\"text-align: right;\"> -0.195612 </td><td style=\"text-align: right;\"> -0.105842 </td><td style=\"text-align: right;\">  0.0959428 </td><td style=\"text-align: right;\">  0.106755 </td><td style=\"text-align: right;\">  0.0728364</td><td style=\"text-align: right;\"> -0.133949 </td><td style=\"text-align: right;\">  0.0563873</td><td style=\"text-align: right;\"> -0.0285525 </td><td style=\"text-align: right;\"> -0.0137684 </td><td style=\"text-align: right;\"> -0.0356891</td><td style=\"text-align: right;\"> -0.139111  </td><td style=\"text-align: right;\">  0.129069 </td><td style=\"text-align: right;\"> -0.283135</td><td style=\"text-align: right;\"> -0.238628 </td><td style=\"text-align: right;\"> -0.122712 </td><td style=\"text-align: right;\"> -0.0412276</td><td style=\"text-align: right;\">  0.205501  </td><td style=\"text-align: right;\">  0.0586473</td><td style=\"text-align: right;\"> -0.0948806 </td><td style=\"text-align: right;\">  0.0679964</td><td style=\"text-align: right;\">  0.0795469</td><td style=\"text-align: right;\">  0.00747048</td><td style=\"text-align: right;\"> -0.0736091</td><td style=\"text-align: right;\"> -0.0639552</td><td style=\"text-align: right;\">  0.206127</td><td style=\"text-align: right;\"> -0.0190564 </td><td style=\"text-align: right;\">  0.123599</td><td style=\"text-align: right;\"> -0.106661 </td><td style=\"text-align: right;\"> -0.0398343</td><td style=\"text-align: right;\"> -0.112501  </td><td style=\"text-align: right;\"> -0.0807551</td><td style=\"text-align: right;\"> -0.0982635</td><td style=\"text-align: right;\"> -0.00286964</td><td style=\"text-align: right;\"> -0.0556716</td><td style=\"text-align: right;\">  0.0143419</td><td style=\"text-align: right;\">  0.0231007</td><td style=\"text-align: right;\">  0.158888 </td><td style=\"text-align: right;\"> -0.331795 </td><td style=\"text-align: right;\">  0.150727 </td><td style=\"text-align: right;\"> -0.0436961</td><td style=\"text-align: right;\">  0.127089  </td><td style=\"text-align: right;\">  0.0133342</td><td style=\"text-align: right;\">  0.00204047</td><td style=\"text-align: right;\">  0.067488 </td><td style=\"text-align: right;\"> -0.161777  </td><td style=\"text-align: right;\">  0.0659177</td><td style=\"text-align: right;\"> -0.000220859</td><td style=\"text-align: right;\">  0.111785 </td><td style=\"text-align: right;\"> -0.0254582</td><td style=\"text-align: right;\"> -0.0506412</td><td style=\"text-align: right;\"> -0.065544  </td><td style=\"text-align: right;\">  0.246185</td><td style=\"text-align: right;\">  0.124457 </td><td style=\"text-align: right;\"> -0.047091  </td><td style=\"text-align: right;\"> -0.0997552 </td><td style=\"text-align: right;\">  0.0982871 </td><td style=\"text-align: right;\"> -0.0404257  </td><td style=\"text-align: right;\"> -0.0257207</td><td style=\"text-align: right;\"> -0.0429383</td><td style=\"text-align: right;\"> -0.0969319</td><td style=\"text-align: right;\"> -0.113548 </td><td style=\"text-align: right;\">  0.0610145</td><td style=\"text-align: right;\">  0.0520942 </td><td style=\"text-align: right;\"> -0.164138</td></tr>\n",
       "<tr><td style=\"text-align: right;\">  0.229439 </td><td style=\"text-align: right;\"> -0.258228</td><td style=\"text-align: right;\"> -0.00295596</td><td style=\"text-align: right;\"> -0.0829278</td><td style=\"text-align: right;\">  0.0996623</td><td style=\"text-align: right;\">  0.147577 </td><td style=\"text-align: right;\">  0.018347 </td><td style=\"text-align: right;\">  0.161475 </td><td style=\"text-align: right;\"> -0.0861352</td><td style=\"text-align: right;\"> -0.0750737</td><td style=\"text-align: right;\">  0.0451175</td><td style=\"text-align: right;\">  0.182843</td><td style=\"text-align: right;\">  0.144392 </td><td style=\"text-align: right;\">  0.130193 </td><td style=\"text-align: right;\"> -0.246775</td><td style=\"text-align: right;\"> -0.0624931</td><td style=\"text-align: right;\"> -0.153824</td><td style=\"text-align: right;\">  0.115595 </td><td style=\"text-align: right;\">  0.078693   </td><td style=\"text-align: right;\"> -0.0312469</td><td style=\"text-align: right;\"> -0.0317832 </td><td style=\"text-align: right;\"> -0.180991 </td><td style=\"text-align: right;\"> -0.0316316</td><td style=\"text-align: right;\"> -0.0429827</td><td style=\"text-align: right;\">  0.0358948 </td><td style=\"text-align: right;\"> -0.156548 </td><td style=\"text-align: right;\"> -0.0685538</td><td style=\"text-align: right;\"> -0.10985   </td><td style=\"text-align: right;\">  0.0574159 </td><td style=\"text-align: right;\"> -0.0658111</td><td style=\"text-align: right;\"> -0.18809 </td><td style=\"text-align: right;\"> -0.0936783</td><td style=\"text-align: right;\">  0.0146954 </td><td style=\"text-align: right;\">  0.127531  </td><td style=\"text-align: right;\"> -0.023385  </td><td style=\"text-align: right;\">  0.085669  </td><td style=\"text-align: right;\"> -0.122685 </td><td style=\"text-align: right;\"> -0.124896 </td><td style=\"text-align: right;\">  0.00611086</td><td style=\"text-align: right;\">  0.0308918</td><td style=\"text-align: right;\">  0.116875 </td><td style=\"text-align: right;\"> -0.0624778</td><td style=\"text-align: right;\"> -0.0433874</td><td style=\"text-align: right;\">  0.0251178 </td><td style=\"text-align: right;\"> -0.0555879 </td><td style=\"text-align: right;\">  0.0720002</td><td style=\"text-align: right;\"> -0.0231125 </td><td style=\"text-align: right;\">  0.130706 </td><td style=\"text-align: right;\"> -0.218348</td><td style=\"text-align: right;\"> -0.0543697</td><td style=\"text-align: right;\"> -0.0973424</td><td style=\"text-align: right;\">  0.0755922</td><td style=\"text-align: right;\">  0.0591903 </td><td style=\"text-align: right;\">  0.0217815</td><td style=\"text-align: right;\">  0.0131879 </td><td style=\"text-align: right;\"> -0.0149928</td><td style=\"text-align: right;\">  0.0686029</td><td style=\"text-align: right;\"> -0.0560387 </td><td style=\"text-align: right;\"> -0.0499764</td><td style=\"text-align: right;\"> -0.113622 </td><td style=\"text-align: right;\">  0.133636</td><td style=\"text-align: right;\">  0.134235  </td><td style=\"text-align: right;\">  0.261805</td><td style=\"text-align: right;\"> -0.0571276</td><td style=\"text-align: right;\"> -0.140432 </td><td style=\"text-align: right;\">  0.0899539 </td><td style=\"text-align: right;\">  0.0261522</td><td style=\"text-align: right;\">  0.0442241</td><td style=\"text-align: right;\"> -0.034617  </td><td style=\"text-align: right;\"> -0.023604 </td><td style=\"text-align: right;\">  0.142851 </td><td style=\"text-align: right;\">  0.024086 </td><td style=\"text-align: right;\">  0.0544486</td><td style=\"text-align: right;\"> -0.227071 </td><td style=\"text-align: right;\">  0.0490945</td><td style=\"text-align: right;\"> -0.0615908</td><td style=\"text-align: right;\">  0.00530775</td><td style=\"text-align: right;\">  0.170208 </td><td style=\"text-align: right;\"> -0.0692135 </td><td style=\"text-align: right;\"> -0.164578 </td><td style=\"text-align: right;\">  0.0861646 </td><td style=\"text-align: right;\">  0.028062 </td><td style=\"text-align: right;\">  0.0737626  </td><td style=\"text-align: right;\">  0.109359 </td><td style=\"text-align: right;\">  0.109768 </td><td style=\"text-align: right;\"> -0.0912645</td><td style=\"text-align: right;\"> -0.0559413 </td><td style=\"text-align: right;\">  0.15735 </td><td style=\"text-align: right;\">  0.0914404</td><td style=\"text-align: right;\">  0.0395003 </td><td style=\"text-align: right;\"> -0.0792101 </td><td style=\"text-align: right;\">  0.0601395 </td><td style=\"text-align: right;\"> -0.000475119</td><td style=\"text-align: right;\">  0.0896409</td><td style=\"text-align: right;\"> -0.0820144</td><td style=\"text-align: right;\"> -0.0906083</td><td style=\"text-align: right;\"> -0.0847255</td><td style=\"text-align: right;\">  0.113656 </td><td style=\"text-align: right;\">  0.0410708 </td><td style=\"text-align: right;\"> -0.121026</td></tr>\n",
       "<tr><td style=\"text-align: right;\">nan        </td><td style=\"text-align: right;\">nan       </td><td style=\"text-align: right;\">nan         </td><td style=\"text-align: right;\">nan        </td><td style=\"text-align: right;\">nan        </td><td style=\"text-align: right;\">nan        </td><td style=\"text-align: right;\">nan        </td><td style=\"text-align: right;\">nan        </td><td style=\"text-align: right;\">nan        </td><td style=\"text-align: right;\">nan        </td><td style=\"text-align: right;\">nan        </td><td style=\"text-align: right;\">nan       </td><td style=\"text-align: right;\">nan        </td><td style=\"text-align: right;\">nan        </td><td style=\"text-align: right;\">nan       </td><td style=\"text-align: right;\">nan        </td><td style=\"text-align: right;\">nan       </td><td style=\"text-align: right;\">nan        </td><td style=\"text-align: right;\">nan          </td><td style=\"text-align: right;\">nan        </td><td style=\"text-align: right;\">nan         </td><td style=\"text-align: right;\">nan        </td><td style=\"text-align: right;\">nan        </td><td style=\"text-align: right;\">nan        </td><td style=\"text-align: right;\">nan         </td><td style=\"text-align: right;\">nan        </td><td style=\"text-align: right;\">nan        </td><td style=\"text-align: right;\">nan         </td><td style=\"text-align: right;\">nan         </td><td style=\"text-align: right;\">nan        </td><td style=\"text-align: right;\">nan       </td><td style=\"text-align: right;\">nan        </td><td style=\"text-align: right;\">nan         </td><td style=\"text-align: right;\">nan         </td><td style=\"text-align: right;\">nan         </td><td style=\"text-align: right;\">nan         </td><td style=\"text-align: right;\">nan        </td><td style=\"text-align: right;\">nan        </td><td style=\"text-align: right;\">nan         </td><td style=\"text-align: right;\">nan        </td><td style=\"text-align: right;\">nan        </td><td style=\"text-align: right;\">nan        </td><td style=\"text-align: right;\">nan        </td><td style=\"text-align: right;\">nan         </td><td style=\"text-align: right;\">nan         </td><td style=\"text-align: right;\">nan        </td><td style=\"text-align: right;\">nan         </td><td style=\"text-align: right;\">nan        </td><td style=\"text-align: right;\">nan       </td><td style=\"text-align: right;\">nan        </td><td style=\"text-align: right;\">nan        </td><td style=\"text-align: right;\">nan        </td><td style=\"text-align: right;\">nan         </td><td style=\"text-align: right;\">nan        </td><td style=\"text-align: right;\">nan         </td><td style=\"text-align: right;\">nan        </td><td style=\"text-align: right;\">nan        </td><td style=\"text-align: right;\">nan         </td><td style=\"text-align: right;\">nan        </td><td style=\"text-align: right;\">nan        </td><td style=\"text-align: right;\">nan       </td><td style=\"text-align: right;\">nan         </td><td style=\"text-align: right;\">nan       </td><td style=\"text-align: right;\">nan        </td><td style=\"text-align: right;\">nan        </td><td style=\"text-align: right;\">nan         </td><td style=\"text-align: right;\">nan        </td><td style=\"text-align: right;\">nan        </td><td style=\"text-align: right;\">nan         </td><td style=\"text-align: right;\">nan        </td><td style=\"text-align: right;\">nan        </td><td style=\"text-align: right;\">nan        </td><td style=\"text-align: right;\">nan        </td><td style=\"text-align: right;\">nan        </td><td style=\"text-align: right;\">nan        </td><td style=\"text-align: right;\">nan        </td><td style=\"text-align: right;\">nan         </td><td style=\"text-align: right;\">nan        </td><td style=\"text-align: right;\">nan         </td><td style=\"text-align: right;\">nan        </td><td style=\"text-align: right;\">nan         </td><td style=\"text-align: right;\">nan        </td><td style=\"text-align: right;\">nan          </td><td style=\"text-align: right;\">nan        </td><td style=\"text-align: right;\">nan        </td><td style=\"text-align: right;\">nan        </td><td style=\"text-align: right;\">nan         </td><td style=\"text-align: right;\">nan       </td><td style=\"text-align: right;\">nan        </td><td style=\"text-align: right;\">nan         </td><td style=\"text-align: right;\">nan         </td><td style=\"text-align: right;\">nan         </td><td style=\"text-align: right;\">nan          </td><td style=\"text-align: right;\">nan        </td><td style=\"text-align: right;\">nan        </td><td style=\"text-align: right;\">nan        </td><td style=\"text-align: right;\">nan        </td><td style=\"text-align: right;\">nan        </td><td style=\"text-align: right;\">nan         </td><td style=\"text-align: right;\">nan       </td></tr>\n",
       "<tr><td style=\"text-align: right;\">  0.168048 </td><td style=\"text-align: right;\"> -0.237076</td><td style=\"text-align: right;\"> -0.0507606 </td><td style=\"text-align: right;\"> -0.115135 </td><td style=\"text-align: right;\">  0.105162 </td><td style=\"text-align: right;\">  0.0975989</td><td style=\"text-align: right;\">  0.104308 </td><td style=\"text-align: right;\">  0.205042 </td><td style=\"text-align: right;\"> -0.135114 </td><td style=\"text-align: right;\"> -0.0253051</td><td style=\"text-align: right;\">  0.108204 </td><td style=\"text-align: right;\">  0.12205 </td><td style=\"text-align: right;\">  0.209003 </td><td style=\"text-align: right;\">  0.0991089</td><td style=\"text-align: right;\"> -0.220971</td><td style=\"text-align: right;\"> -0.101008 </td><td style=\"text-align: right;\"> -0.141985</td><td style=\"text-align: right;\">  0.187693 </td><td style=\"text-align: right;\">  1.36991e-05</td><td style=\"text-align: right;\"> -0.0155536</td><td style=\"text-align: right;\"> -0.0211376 </td><td style=\"text-align: right;\"> -0.211967 </td><td style=\"text-align: right;\">  0.0580463</td><td style=\"text-align: right;\"> -0.0922821</td><td style=\"text-align: right;\">  0.0639989 </td><td style=\"text-align: right;\"> -0.107295 </td><td style=\"text-align: right;\"> -0.0547161</td><td style=\"text-align: right;\"> -0.0993244 </td><td style=\"text-align: right;\">  0.0536917 </td><td style=\"text-align: right;\"> -0.0387693</td><td style=\"text-align: right;\"> -0.228367</td><td style=\"text-align: right;\"> -0.057282 </td><td style=\"text-align: right;\">  0.00328044</td><td style=\"text-align: right;\">  0.143542  </td><td style=\"text-align: right;\"> -0.0393255 </td><td style=\"text-align: right;\"> -0.0174438 </td><td style=\"text-align: right;\"> -0.178839 </td><td style=\"text-align: right;\"> -0.0197785</td><td style=\"text-align: right;\">  0.0219024 </td><td style=\"text-align: right;\">  0.220606 </td><td style=\"text-align: right;\"> -0.0747684</td><td style=\"text-align: right;\"> -0.103295 </td><td style=\"text-align: right;\"> -0.0473335</td><td style=\"text-align: right;\"> -0.0180648 </td><td style=\"text-align: right;\"> -0.0964971 </td><td style=\"text-align: right;\">  0.0364841</td><td style=\"text-align: right;\"> -0.0227823 </td><td style=\"text-align: right;\">  0.164505 </td><td style=\"text-align: right;\"> -0.204717</td><td style=\"text-align: right;\"> -0.0574529</td><td style=\"text-align: right;\"> -0.197057 </td><td style=\"text-align: right;\">  0.0635948</td><td style=\"text-align: right;\">  0.0517283 </td><td style=\"text-align: right;\">  0.0565673</td><td style=\"text-align: right;\"> -0.0858784 </td><td style=\"text-align: right;\">  0.0445819</td><td style=\"text-align: right;\">  0.144565 </td><td style=\"text-align: right;\"> -0.0187165 </td><td style=\"text-align: right;\"> -0.0521673</td><td style=\"text-align: right;\"> -0.0260698</td><td style=\"text-align: right;\">  0.157219</td><td style=\"text-align: right;\">  0.146333  </td><td style=\"text-align: right;\">  0.203985</td><td style=\"text-align: right;\"> -0.0239283</td><td style=\"text-align: right;\"> -0.143124 </td><td style=\"text-align: right;\">  0.0340074 </td><td style=\"text-align: right;\"> -0.017317 </td><td style=\"text-align: right;\"> -0.0180314</td><td style=\"text-align: right;\"> -0.106485  </td><td style=\"text-align: right;\"> -0.0896285</td><td style=\"text-align: right;\">  0.114987 </td><td style=\"text-align: right;\"> -0.0603109</td><td style=\"text-align: right;\">  0.0472314</td><td style=\"text-align: right;\"> -0.19229  </td><td style=\"text-align: right;\">  0.115374 </td><td style=\"text-align: right;\"> -0.107262 </td><td style=\"text-align: right;\">  0.0253932 </td><td style=\"text-align: right;\">  0.0759666</td><td style=\"text-align: right;\"> -0.054586  </td><td style=\"text-align: right;\"> -0.171968 </td><td style=\"text-align: right;\">  0.109837  </td><td style=\"text-align: right;\">  0.0873766</td><td style=\"text-align: right;\">  0.0376111  </td><td style=\"text-align: right;\">  0.0701931</td><td style=\"text-align: right;\">  0.0974369</td><td style=\"text-align: right;\"> -0.0906646</td><td style=\"text-align: right;\"> -0.00421664</td><td style=\"text-align: right;\">  0.172357</td><td style=\"text-align: right;\">  0.0178061</td><td style=\"text-align: right;\"> -0.0975946 </td><td style=\"text-align: right;\">  0.00269636</td><td style=\"text-align: right;\">  0.10808   </td><td style=\"text-align: right;\"> -0.0269445  </td><td style=\"text-align: right;\">  0.0548283</td><td style=\"text-align: right;\"> -0.0586919</td><td style=\"text-align: right;\"> -0.166608 </td><td style=\"text-align: right;\"> -0.150543 </td><td style=\"text-align: right;\">  0.0461504</td><td style=\"text-align: right;\">  0.0364299 </td><td style=\"text-align: right;\"> -0.128072</td></tr>\n",
       "<tr><td style=\"text-align: right;\">nan        </td><td style=\"text-align: right;\">nan       </td><td style=\"text-align: right;\">nan         </td><td style=\"text-align: right;\">nan        </td><td style=\"text-align: right;\">nan        </td><td style=\"text-align: right;\">nan        </td><td style=\"text-align: right;\">nan        </td><td style=\"text-align: right;\">nan        </td><td style=\"text-align: right;\">nan        </td><td style=\"text-align: right;\">nan        </td><td style=\"text-align: right;\">nan        </td><td style=\"text-align: right;\">nan       </td><td style=\"text-align: right;\">nan        </td><td style=\"text-align: right;\">nan        </td><td style=\"text-align: right;\">nan       </td><td style=\"text-align: right;\">nan        </td><td style=\"text-align: right;\">nan       </td><td style=\"text-align: right;\">nan        </td><td style=\"text-align: right;\">nan          </td><td style=\"text-align: right;\">nan        </td><td style=\"text-align: right;\">nan         </td><td style=\"text-align: right;\">nan        </td><td style=\"text-align: right;\">nan        </td><td style=\"text-align: right;\">nan        </td><td style=\"text-align: right;\">nan         </td><td style=\"text-align: right;\">nan        </td><td style=\"text-align: right;\">nan        </td><td style=\"text-align: right;\">nan         </td><td style=\"text-align: right;\">nan         </td><td style=\"text-align: right;\">nan        </td><td style=\"text-align: right;\">nan       </td><td style=\"text-align: right;\">nan        </td><td style=\"text-align: right;\">nan         </td><td style=\"text-align: right;\">nan         </td><td style=\"text-align: right;\">nan         </td><td style=\"text-align: right;\">nan         </td><td style=\"text-align: right;\">nan        </td><td style=\"text-align: right;\">nan        </td><td style=\"text-align: right;\">nan         </td><td style=\"text-align: right;\">nan        </td><td style=\"text-align: right;\">nan        </td><td style=\"text-align: right;\">nan        </td><td style=\"text-align: right;\">nan        </td><td style=\"text-align: right;\">nan         </td><td style=\"text-align: right;\">nan         </td><td style=\"text-align: right;\">nan        </td><td style=\"text-align: right;\">nan         </td><td style=\"text-align: right;\">nan        </td><td style=\"text-align: right;\">nan       </td><td style=\"text-align: right;\">nan        </td><td style=\"text-align: right;\">nan        </td><td style=\"text-align: right;\">nan        </td><td style=\"text-align: right;\">nan         </td><td style=\"text-align: right;\">nan        </td><td style=\"text-align: right;\">nan         </td><td style=\"text-align: right;\">nan        </td><td style=\"text-align: right;\">nan        </td><td style=\"text-align: right;\">nan         </td><td style=\"text-align: right;\">nan        </td><td style=\"text-align: right;\">nan        </td><td style=\"text-align: right;\">nan       </td><td style=\"text-align: right;\">nan         </td><td style=\"text-align: right;\">nan       </td><td style=\"text-align: right;\">nan        </td><td style=\"text-align: right;\">nan        </td><td style=\"text-align: right;\">nan         </td><td style=\"text-align: right;\">nan        </td><td style=\"text-align: right;\">nan        </td><td style=\"text-align: right;\">nan         </td><td style=\"text-align: right;\">nan        </td><td style=\"text-align: right;\">nan        </td><td style=\"text-align: right;\">nan        </td><td style=\"text-align: right;\">nan        </td><td style=\"text-align: right;\">nan        </td><td style=\"text-align: right;\">nan        </td><td style=\"text-align: right;\">nan        </td><td style=\"text-align: right;\">nan         </td><td style=\"text-align: right;\">nan        </td><td style=\"text-align: right;\">nan         </td><td style=\"text-align: right;\">nan        </td><td style=\"text-align: right;\">nan         </td><td style=\"text-align: right;\">nan        </td><td style=\"text-align: right;\">nan          </td><td style=\"text-align: right;\">nan        </td><td style=\"text-align: right;\">nan        </td><td style=\"text-align: right;\">nan        </td><td style=\"text-align: right;\">nan         </td><td style=\"text-align: right;\">nan       </td><td style=\"text-align: right;\">nan        </td><td style=\"text-align: right;\">nan         </td><td style=\"text-align: right;\">nan         </td><td style=\"text-align: right;\">nan         </td><td style=\"text-align: right;\">nan          </td><td style=\"text-align: right;\">nan        </td><td style=\"text-align: right;\">nan        </td><td style=\"text-align: right;\">nan        </td><td style=\"text-align: right;\">nan        </td><td style=\"text-align: right;\">nan        </td><td style=\"text-align: right;\">nan         </td><td style=\"text-align: right;\">nan       </td></tr>\n",
       "<tr><td style=\"text-align: right;\">  0.331575 </td><td style=\"text-align: right;\"> -0.33698 </td><td style=\"text-align: right;\"> -0.0372794 </td><td style=\"text-align: right;\"> -0.230774 </td><td style=\"text-align: right;\">  0.147506 </td><td style=\"text-align: right;\">  0.233371 </td><td style=\"text-align: right;\">  0.0482342</td><td style=\"text-align: right;\">  0.214918 </td><td style=\"text-align: right;\"> -0.198698 </td><td style=\"text-align: right;\"> -0.119469 </td><td style=\"text-align: right;\">  0.127351 </td><td style=\"text-align: right;\">  0.24288 </td><td style=\"text-align: right;\">  0.111036 </td><td style=\"text-align: right;\">  0.108347 </td><td style=\"text-align: right;\"> -0.214048</td><td style=\"text-align: right;\"> -0.242392 </td><td style=\"text-align: right;\"> -0.23341 </td><td style=\"text-align: right;\">  0.227421 </td><td style=\"text-align: right;\">  0.0501055  </td><td style=\"text-align: right;\"> -0.0833281</td><td style=\"text-align: right;\"> -0.0619656 </td><td style=\"text-align: right;\"> -0.326563 </td><td style=\"text-align: right;\">  0.134254 </td><td style=\"text-align: right;\"> -0.163039 </td><td style=\"text-align: right;\">  0.0840776 </td><td style=\"text-align: right;\"> -0.0819635</td><td style=\"text-align: right;\">  0.0143232</td><td style=\"text-align: right;\">  0.00327001</td><td style=\"text-align: right;\"> -0.00813802</td><td style=\"text-align: right;\"> -0.0519329</td><td style=\"text-align: right;\"> -0.136203</td><td style=\"text-align: right;\"> -0.0650713</td><td style=\"text-align: right;\"> -0.0702598 </td><td style=\"text-align: right;\"> -0.00325142</td><td style=\"text-align: right;\">  0.0929084 </td><td style=\"text-align: right;\">  0.169743  </td><td style=\"text-align: right;\"> -0.276524 </td><td style=\"text-align: right;\"> -0.121597 </td><td style=\"text-align: right;\">  0.0682485 </td><td style=\"text-align: right;\">  0.146985 </td><td style=\"text-align: right;\"> -0.0337271</td><td style=\"text-align: right;\"> -0.222021 </td><td style=\"text-align: right;\">  0.0261703</td><td style=\"text-align: right;\"> -0.00185306</td><td style=\"text-align: right;\">  0.0605205 </td><td style=\"text-align: right;\">  0.0676704</td><td style=\"text-align: right;\"> -0.031667  </td><td style=\"text-align: right;\">  0.161756 </td><td style=\"text-align: right;\"> -0.421258</td><td style=\"text-align: right;\"> -0.0976801</td><td style=\"text-align: right;\"> -0.061727 </td><td style=\"text-align: right;\">  0.107293 </td><td style=\"text-align: right;\">  0.0826285 </td><td style=\"text-align: right;\">  0.0864882</td><td style=\"text-align: right;\">  0.0338621 </td><td style=\"text-align: right;\">  0.0395411</td><td style=\"text-align: right;\">  0.198919 </td><td style=\"text-align: right;\">  0.0857971 </td><td style=\"text-align: right;\">  0.0218808</td><td style=\"text-align: right;\"> -0.0588866</td><td style=\"text-align: right;\">  0.185607</td><td style=\"text-align: right;\"> -0.00526575</td><td style=\"text-align: right;\">  0.21362 </td><td style=\"text-align: right;\"> -0.0157562</td><td style=\"text-align: right;\"> -0.0680318</td><td style=\"text-align: right;\"> -0.0394396 </td><td style=\"text-align: right;\"> -0.062975 </td><td style=\"text-align: right;\"> -0.0198449</td><td style=\"text-align: right;\"> -0.126586  </td><td style=\"text-align: right;\"> -0.14177  </td><td style=\"text-align: right;\"> -0.0263384</td><td style=\"text-align: right;\">  0.035034 </td><td style=\"text-align: right;\">  0.0634188</td><td style=\"text-align: right;\"> -0.157164 </td><td style=\"text-align: right;\">  0.123442 </td><td style=\"text-align: right;\"> -0.0566539</td><td style=\"text-align: right;\">  0.111526  </td><td style=\"text-align: right;\"> -0.0287337</td><td style=\"text-align: right;\"> -0.0905903 </td><td style=\"text-align: right;\"> -0.196268 </td><td style=\"text-align: right;\"> -0.0713054 </td><td style=\"text-align: right;\"> -0.0904772</td><td style=\"text-align: right;\">  0.132201   </td><td style=\"text-align: right;\">  0.0308824</td><td style=\"text-align: right;\">  0.0506538</td><td style=\"text-align: right;\"> -0.0658152</td><td style=\"text-align: right;\"> -0.113315  </td><td style=\"text-align: right;\">  0.211617</td><td style=\"text-align: right;\"> -0.0153218</td><td style=\"text-align: right;\">  0.00209326</td><td style=\"text-align: right;\"> -0.114518  </td><td style=\"text-align: right;\">  0.0347961 </td><td style=\"text-align: right;\"> -0.028053   </td><td style=\"text-align: right;\">  0.0406679</td><td style=\"text-align: right;\"> -0.0714313</td><td style=\"text-align: right;\"> -0.117045 </td><td style=\"text-align: right;\"> -0.0235436</td><td style=\"text-align: right;\">  0.0562256</td><td style=\"text-align: right;\">  0.0560134 </td><td style=\"text-align: right;\"> -0.124722</td></tr>\n",
       "<tr><td style=\"text-align: right;\">  0.289657 </td><td style=\"text-align: right;\"> -0.298308</td><td style=\"text-align: right;\">  0.0473831 </td><td style=\"text-align: right;\"> -0.0228438</td><td style=\"text-align: right;\">  0.0303005</td><td style=\"text-align: right;\">  0.108128 </td><td style=\"text-align: right;\">  0.0176321</td><td style=\"text-align: right;\">  0.131743 </td><td style=\"text-align: right;\"> -0.121517 </td><td style=\"text-align: right;\"> -0.0483405</td><td style=\"text-align: right;\">  0.2016   </td><td style=\"text-align: right;\">  0.121171</td><td style=\"text-align: right;\">  0.101225 </td><td style=\"text-align: right;\">  0.0409119</td><td style=\"text-align: right;\"> -0.175783</td><td style=\"text-align: right;\"> -0.0546218</td><td style=\"text-align: right;\"> -0.222935</td><td style=\"text-align: right;\">  0.0603446</td><td style=\"text-align: right;\"> -0.0435436  </td><td style=\"text-align: right;\">  0.0780074</td><td style=\"text-align: right;\">  0.0269102 </td><td style=\"text-align: right;\"> -0.0399958</td><td style=\"text-align: right;\"> -0.0288869</td><td style=\"text-align: right;\"> -0.0403427</td><td style=\"text-align: right;\"> -0.015814  </td><td style=\"text-align: right;\"> -0.166914 </td><td style=\"text-align: right;\"> -0.0495673</td><td style=\"text-align: right;\"> -0.0799965 </td><td style=\"text-align: right;\"> -0.0130403 </td><td style=\"text-align: right;\"> -0.137117 </td><td style=\"text-align: right;\"> -0.088958</td><td style=\"text-align: right;\"> -0.12555  </td><td style=\"text-align: right;\">  0.0613671 </td><td style=\"text-align: right;\">  0.173552  </td><td style=\"text-align: right;\">  0.0167028 </td><td style=\"text-align: right;\">  0.108311  </td><td style=\"text-align: right;\"> -0.13016  </td><td style=\"text-align: right;\"> -0.183423 </td><td style=\"text-align: right;\"> -0.0309192 </td><td style=\"text-align: right;\">  0.0560447</td><td style=\"text-align: right;\">  0.0169839</td><td style=\"text-align: right;\"> -0.054079 </td><td style=\"text-align: right;\"> -0.0386156</td><td style=\"text-align: right;\">  0.00322068</td><td style=\"text-align: right;\">  0.00156495</td><td style=\"text-align: right;\">  0.0840888</td><td style=\"text-align: right;\"> -0.03908   </td><td style=\"text-align: right;\">  0.149882 </td><td style=\"text-align: right;\"> -0.19792 </td><td style=\"text-align: right;\"> -0.0848742</td><td style=\"text-align: right;\"> -0.0255836</td><td style=\"text-align: right;\">  0.0237261</td><td style=\"text-align: right;\">  0.0157933 </td><td style=\"text-align: right;\">  0.082103 </td><td style=\"text-align: right;\"> -0.0725405 </td><td style=\"text-align: right;\">  0.062145 </td><td style=\"text-align: right;\">  0.0301723</td><td style=\"text-align: right;\"> -0.0623915 </td><td style=\"text-align: right;\"> -0.0798049</td><td style=\"text-align: right;\"> -0.0953429</td><td style=\"text-align: right;\">  0.15041 </td><td style=\"text-align: right;\">  0.117219  </td><td style=\"text-align: right;\">  0.136498</td><td style=\"text-align: right;\"> -0.112026 </td><td style=\"text-align: right;\"> -0.0849756</td><td style=\"text-align: right;\"> -0.0140193 </td><td style=\"text-align: right;\">  0.0603381</td><td style=\"text-align: right;\"> -0.0529025</td><td style=\"text-align: right;\"> -0.0197006 </td><td style=\"text-align: right;\">  0.0411779</td><td style=\"text-align: right;\">  0.184686 </td><td style=\"text-align: right;\">  0.0859678</td><td style=\"text-align: right;\">  0.0843008</td><td style=\"text-align: right;\"> -0.1237   </td><td style=\"text-align: right;\">  0.0168557</td><td style=\"text-align: right;\"> -0.102008 </td><td style=\"text-align: right;\"> -0.00251608</td><td style=\"text-align: right;\">  0.0252594</td><td style=\"text-align: right;\"> -0.00277191</td><td style=\"text-align: right;\"> -0.0219451</td><td style=\"text-align: right;\"> -0.0784424 </td><td style=\"text-align: right;\"> -0.0291754</td><td style=\"text-align: right;\"> -0.00949053 </td><td style=\"text-align: right;\">  0.0771547</td><td style=\"text-align: right;\">  0.0394613</td><td style=\"text-align: right;\"> -0.070802 </td><td style=\"text-align: right;\">  0.0476719 </td><td style=\"text-align: right;\">  0.18746 </td><td style=\"text-align: right;\">  0.119882 </td><td style=\"text-align: right;\"> -0.0887089 </td><td style=\"text-align: right;\"> -0.147069  </td><td style=\"text-align: right;\">  0.101635  </td><td style=\"text-align: right;\"> -0.085059   </td><td style=\"text-align: right;\">  0.0738038</td><td style=\"text-align: right;\"> -0.109848 </td><td style=\"text-align: right;\"> -0.149082 </td><td style=\"text-align: right;\"> -0.0912634</td><td style=\"text-align: right;\">  0.11304  </td><td style=\"text-align: right;\"> -0.00938712</td><td style=\"text-align: right;\"> -0.186617</td></tr>\n",
       "<tr><td style=\"text-align: right;\">  0.160436 </td><td style=\"text-align: right;\"> -0.266335</td><td style=\"text-align: right;\"> -0.0388639 </td><td style=\"text-align: right;\"> -0.141751 </td><td style=\"text-align: right;\">  0.0947487</td><td style=\"text-align: right;\">  0.0942434</td><td style=\"text-align: right;\">  0.120456 </td><td style=\"text-align: right;\">  0.183976 </td><td style=\"text-align: right;\"> -0.0909556</td><td style=\"text-align: right;\"> -0.100414 </td><td style=\"text-align: right;\">  0.102381 </td><td style=\"text-align: right;\">  0.211116</td><td style=\"text-align: right;\">  0.0861843</td><td style=\"text-align: right;\">  0.131301 </td><td style=\"text-align: right;\"> -0.172338</td><td style=\"text-align: right;\"> -0.101879 </td><td style=\"text-align: right;\"> -0.163255</td><td style=\"text-align: right;\">  0.0856094</td><td style=\"text-align: right;\">  0.00305831 </td><td style=\"text-align: right;\"> -0.0214946</td><td style=\"text-align: right;\">  0.0165714 </td><td style=\"text-align: right;\"> -0.181106 </td><td style=\"text-align: right;\"> -0.0523409</td><td style=\"text-align: right;\"> -0.0506641</td><td style=\"text-align: right;\">  0.053124  </td><td style=\"text-align: right;\"> -0.106315 </td><td style=\"text-align: right;\"> -0.0799125</td><td style=\"text-align: right;\"> -0.109448  </td><td style=\"text-align: right;\"> -0.0124685 </td><td style=\"text-align: right;\"> -0.0663308</td><td style=\"text-align: right;\"> -0.187533</td><td style=\"text-align: right;\"> -0.065661 </td><td style=\"text-align: right;\">  0.00129315</td><td style=\"text-align: right;\">  0.0781611 </td><td style=\"text-align: right;\"> -0.0138953 </td><td style=\"text-align: right;\">  0.0609466 </td><td style=\"text-align: right;\"> -0.163756 </td><td style=\"text-align: right;\"> -0.119226 </td><td style=\"text-align: right;\">  0.0131607 </td><td style=\"text-align: right;\">  0.137588 </td><td style=\"text-align: right;\">  0.0691466</td><td style=\"text-align: right;\"> -0.161635 </td><td style=\"text-align: right;\"> -0.0506689</td><td style=\"text-align: right;\">  0.0466922 </td><td style=\"text-align: right;\"> -0.0331884 </td><td style=\"text-align: right;\">  0.0973841</td><td style=\"text-align: right;\">  0.00437249</td><td style=\"text-align: right;\">  0.0932371</td><td style=\"text-align: right;\"> -0.216567</td><td style=\"text-align: right;\"> -0.14867  </td><td style=\"text-align: right;\"> -0.0647851</td><td style=\"text-align: right;\">  0.103308 </td><td style=\"text-align: right;\">  0.018626  </td><td style=\"text-align: right;\">  0.146363 </td><td style=\"text-align: right;\"> -0.00498016</td><td style=\"text-align: right;\">  0.0454294</td><td style=\"text-align: right;\">  0.034313 </td><td style=\"text-align: right;\"> -0.0670228 </td><td style=\"text-align: right;\"> -0.0144514</td><td style=\"text-align: right;\"> -0.0715875</td><td style=\"text-align: right;\">  0.181113</td><td style=\"text-align: right;\">  0.159979  </td><td style=\"text-align: right;\">  0.236392</td><td style=\"text-align: right;\"> -0.131294 </td><td style=\"text-align: right;\"> -0.0849091</td><td style=\"text-align: right;\">  0.0463209 </td><td style=\"text-align: right;\"> -0.0195901</td><td style=\"text-align: right;\"> -0.0200056</td><td style=\"text-align: right;\">  0.0558251 </td><td style=\"text-align: right;\"> -0.0553686</td><td style=\"text-align: right;\">  0.0926708</td><td style=\"text-align: right;\">  0.116677 </td><td style=\"text-align: right;\">  0.0513921</td><td style=\"text-align: right;\"> -0.0878659</td><td style=\"text-align: right;\">  0.0202225</td><td style=\"text-align: right;\"> -0.106834 </td><td style=\"text-align: right;\"> -0.0584575 </td><td style=\"text-align: right;\">  0.13771  </td><td style=\"text-align: right;\"> -0.0355622 </td><td style=\"text-align: right;\"> -0.10009  </td><td style=\"text-align: right;\">  0.00908919</td><td style=\"text-align: right;\">  0.0151784</td><td style=\"text-align: right;\">  0.0827458  </td><td style=\"text-align: right;\">  0.0880095</td><td style=\"text-align: right;\">  0.097879 </td><td style=\"text-align: right;\"> -0.094364 </td><td style=\"text-align: right;\"> -0.0514276 </td><td style=\"text-align: right;\">  0.152332</td><td style=\"text-align: right;\">  0.0562211</td><td style=\"text-align: right;\"> -0.00613552</td><td style=\"text-align: right;\"> -0.100853  </td><td style=\"text-align: right;\">  0.0416944 </td><td style=\"text-align: right;\">  0.00271298 </td><td style=\"text-align: right;\">  0.0464923</td><td style=\"text-align: right;\"> -0.0604896</td><td style=\"text-align: right;\"> -0.148628 </td><td style=\"text-align: right;\"> -0.0549167</td><td style=\"text-align: right;\">  0.117898 </td><td style=\"text-align: right;\">  0.0390164 </td><td style=\"text-align: right;\"> -0.164828</td></tr>\n",
       "<tr><td style=\"text-align: right;\">  0.0823475</td><td style=\"text-align: right;\"> -0.202656</td><td style=\"text-align: right;\">  0.0308679 </td><td style=\"text-align: right;\"> -0.130707 </td><td style=\"text-align: right;\">  0.108719 </td><td style=\"text-align: right;\">  0.160454 </td><td style=\"text-align: right;\">  0.188439 </td><td style=\"text-align: right;\">  0.0942432</td><td style=\"text-align: right;\"> -0.132478 </td><td style=\"text-align: right;\"> -0.0261395</td><td style=\"text-align: right;\">  0.188755 </td><td style=\"text-align: right;\">  0.19221 </td><td style=\"text-align: right;\">  0.128336 </td><td style=\"text-align: right;\">  0.128887 </td><td style=\"text-align: right;\"> -0.153121</td><td style=\"text-align: right;\"> -0.0613589</td><td style=\"text-align: right;\"> -0.193929</td><td style=\"text-align: right;\">  0.0850556</td><td style=\"text-align: right;\"> -0.0959023  </td><td style=\"text-align: right;\"> -0.0768386</td><td style=\"text-align: right;\">  0.0716866 </td><td style=\"text-align: right;\"> -0.225438 </td><td style=\"text-align: right;\"> -0.078039 </td><td style=\"text-align: right;\"> -0.0836152</td><td style=\"text-align: right;\"> -0.00615257</td><td style=\"text-align: right;\"> -0.182401 </td><td style=\"text-align: right;\"> -0.113781 </td><td style=\"text-align: right;\"> -0.17552   </td><td style=\"text-align: right;\">  0.0149482 </td><td style=\"text-align: right;\"> -0.0743737</td><td style=\"text-align: right;\"> -0.173902</td><td style=\"text-align: right;\"> -0.153885 </td><td style=\"text-align: right;\">  0.107944  </td><td style=\"text-align: right;\">  0.152443  </td><td style=\"text-align: right;\"> -0.087384  </td><td style=\"text-align: right;\">  0.0249817 </td><td style=\"text-align: right;\">  0.0209119</td><td style=\"text-align: right;\"> -0.111221 </td><td style=\"text-align: right;\">  0.00847923</td><td style=\"text-align: right;\">  0.137792 </td><td style=\"text-align: right;\"> -0.0166199</td><td style=\"text-align: right;\"> -0.0842184</td><td style=\"text-align: right;\"> -0.125313 </td><td style=\"text-align: right;\">  0.0431345 </td><td style=\"text-align: right;\"> -0.00873929</td><td style=\"text-align: right;\"> -0.0187687</td><td style=\"text-align: right;\">  0.0726049 </td><td style=\"text-align: right;\">  0.0900913</td><td style=\"text-align: right;\"> -0.103907</td><td style=\"text-align: right;\"> -0.0934101</td><td style=\"text-align: right;\"> -0.146405 </td><td style=\"text-align: right;\">  0.0910388</td><td style=\"text-align: right;\"> -0.00545093</td><td style=\"text-align: right;\">  0.073351 </td><td style=\"text-align: right;\">  0.0584025 </td><td style=\"text-align: right;\">  0.0490294</td><td style=\"text-align: right;\">  0.0738692</td><td style=\"text-align: right;\"> -0.066572  </td><td style=\"text-align: right;\">  0.0124928</td><td style=\"text-align: right;\"> -0.0110955</td><td style=\"text-align: right;\">  0.13028 </td><td style=\"text-align: right;\">  0.214028  </td><td style=\"text-align: right;\">  0.239991</td><td style=\"text-align: right;\"> -0.0991721</td><td style=\"text-align: right;\"> -0.0300166</td><td style=\"text-align: right;\">  0.00334024</td><td style=\"text-align: right;\">  0.037904 </td><td style=\"text-align: right;\"> -0.0126141</td><td style=\"text-align: right;\"> -0.0328595 </td><td style=\"text-align: right;\"> -0.0504223</td><td style=\"text-align: right;\">  0.137975 </td><td style=\"text-align: right;\">  0.0691729</td><td style=\"text-align: right;\">  0.0384326</td><td style=\"text-align: right;\"> -0.120119 </td><td style=\"text-align: right;\"> -0.0169187</td><td style=\"text-align: right;\"> -0.108279 </td><td style=\"text-align: right;\">  0.110439  </td><td style=\"text-align: right;\">  0.0540829</td><td style=\"text-align: right;\">  0.00200004</td><td style=\"text-align: right;\"> -0.17079  </td><td style=\"text-align: right;\">  0.0624421 </td><td style=\"text-align: right;\">  0.118695 </td><td style=\"text-align: right;\">  0.145998   </td><td style=\"text-align: right;\">  0.150093 </td><td style=\"text-align: right;\">  0.13385  </td><td style=\"text-align: right;\"> -0.177857 </td><td style=\"text-align: right;\"> -0.0342206 </td><td style=\"text-align: right;\">  0.142475</td><td style=\"text-align: right;\">  0.0779529</td><td style=\"text-align: right;\"> -0.0655105 </td><td style=\"text-align: right;\"> -0.101838  </td><td style=\"text-align: right;\">  0.00565758</td><td style=\"text-align: right;\"> -0.0562907  </td><td style=\"text-align: right;\">  0.0895137</td><td style=\"text-align: right;\"> -0.14002  </td><td style=\"text-align: right;\"> -0.151468 </td><td style=\"text-align: right;\"> -0.0280301</td><td style=\"text-align: right;\">  0.162265 </td><td style=\"text-align: right;\"> -0.0691919 </td><td style=\"text-align: right;\"> -0.109204</td></tr>\n",
       "<tr><td style=\"text-align: right;\">nan        </td><td style=\"text-align: right;\">nan       </td><td style=\"text-align: right;\">nan         </td><td style=\"text-align: right;\">nan        </td><td style=\"text-align: right;\">nan        </td><td style=\"text-align: right;\">nan        </td><td style=\"text-align: right;\">nan        </td><td style=\"text-align: right;\">nan        </td><td style=\"text-align: right;\">nan        </td><td style=\"text-align: right;\">nan        </td><td style=\"text-align: right;\">nan        </td><td style=\"text-align: right;\">nan       </td><td style=\"text-align: right;\">nan        </td><td style=\"text-align: right;\">nan        </td><td style=\"text-align: right;\">nan       </td><td style=\"text-align: right;\">nan        </td><td style=\"text-align: right;\">nan       </td><td style=\"text-align: right;\">nan        </td><td style=\"text-align: right;\">nan          </td><td style=\"text-align: right;\">nan        </td><td style=\"text-align: right;\">nan         </td><td style=\"text-align: right;\">nan        </td><td style=\"text-align: right;\">nan        </td><td style=\"text-align: right;\">nan        </td><td style=\"text-align: right;\">nan         </td><td style=\"text-align: right;\">nan        </td><td style=\"text-align: right;\">nan        </td><td style=\"text-align: right;\">nan         </td><td style=\"text-align: right;\">nan         </td><td style=\"text-align: right;\">nan        </td><td style=\"text-align: right;\">nan       </td><td style=\"text-align: right;\">nan        </td><td style=\"text-align: right;\">nan         </td><td style=\"text-align: right;\">nan         </td><td style=\"text-align: right;\">nan         </td><td style=\"text-align: right;\">nan         </td><td style=\"text-align: right;\">nan        </td><td style=\"text-align: right;\">nan        </td><td style=\"text-align: right;\">nan         </td><td style=\"text-align: right;\">nan        </td><td style=\"text-align: right;\">nan        </td><td style=\"text-align: right;\">nan        </td><td style=\"text-align: right;\">nan        </td><td style=\"text-align: right;\">nan         </td><td style=\"text-align: right;\">nan         </td><td style=\"text-align: right;\">nan        </td><td style=\"text-align: right;\">nan         </td><td style=\"text-align: right;\">nan        </td><td style=\"text-align: right;\">nan       </td><td style=\"text-align: right;\">nan        </td><td style=\"text-align: right;\">nan        </td><td style=\"text-align: right;\">nan        </td><td style=\"text-align: right;\">nan         </td><td style=\"text-align: right;\">nan        </td><td style=\"text-align: right;\">nan         </td><td style=\"text-align: right;\">nan        </td><td style=\"text-align: right;\">nan        </td><td style=\"text-align: right;\">nan         </td><td style=\"text-align: right;\">nan        </td><td style=\"text-align: right;\">nan        </td><td style=\"text-align: right;\">nan       </td><td style=\"text-align: right;\">nan         </td><td style=\"text-align: right;\">nan       </td><td style=\"text-align: right;\">nan        </td><td style=\"text-align: right;\">nan        </td><td style=\"text-align: right;\">nan         </td><td style=\"text-align: right;\">nan        </td><td style=\"text-align: right;\">nan        </td><td style=\"text-align: right;\">nan         </td><td style=\"text-align: right;\">nan        </td><td style=\"text-align: right;\">nan        </td><td style=\"text-align: right;\">nan        </td><td style=\"text-align: right;\">nan        </td><td style=\"text-align: right;\">nan        </td><td style=\"text-align: right;\">nan        </td><td style=\"text-align: right;\">nan        </td><td style=\"text-align: right;\">nan         </td><td style=\"text-align: right;\">nan        </td><td style=\"text-align: right;\">nan         </td><td style=\"text-align: right;\">nan        </td><td style=\"text-align: right;\">nan         </td><td style=\"text-align: right;\">nan        </td><td style=\"text-align: right;\">nan          </td><td style=\"text-align: right;\">nan        </td><td style=\"text-align: right;\">nan        </td><td style=\"text-align: right;\">nan        </td><td style=\"text-align: right;\">nan         </td><td style=\"text-align: right;\">nan       </td><td style=\"text-align: right;\">nan        </td><td style=\"text-align: right;\">nan         </td><td style=\"text-align: right;\">nan         </td><td style=\"text-align: right;\">nan         </td><td style=\"text-align: right;\">nan          </td><td style=\"text-align: right;\">nan        </td><td style=\"text-align: right;\">nan        </td><td style=\"text-align: right;\">nan        </td><td style=\"text-align: right;\">nan        </td><td style=\"text-align: right;\">nan        </td><td style=\"text-align: right;\">nan         </td><td style=\"text-align: right;\">nan       </td></tr>\n",
       "</tbody>\n",
       "</table>"
      ]
     },
     "metadata": {},
     "output_type": "display_data"
    },
    {
     "data": {
      "text/plain": []
     },
     "execution_count": 31,
     "metadata": {},
     "output_type": "execute_result"
    }
   ],
   "source": [
    "desc_vecs = w2v_model.transform(words, aggregate_method=\"AVERAGE\")\n",
    "desc_vecs.head()"
   ]
  },
  {
   "cell_type": "markdown",
   "metadata": {},
   "source": [
    "Finally, we add the aggregated word embeddings from the Word2Vec model to the loans data"
   ]
  },
  {
   "cell_type": "code",
   "execution_count": 32,
   "metadata": {},
   "outputs": [],
   "source": [
    "loans = loans.cbind(desc_vecs)"
   ]
  },
  {
   "cell_type": "markdown",
   "metadata": {},
   "source": [
    "# Step 5 (of 10). Model training\n",
    "\n",
    "Now that we have cleaned our data and added new columns, we train a model to predict bad loans. First split our loans data into train and test."
   ]
  },
  {
   "cell_type": "code",
   "execution_count": 33,
   "metadata": {},
   "outputs": [],
   "source": [
    "train, test = loans.split_frame(seed=25, ratios=[0.75])"
   ]
  },
  {
   "cell_type": "markdown",
   "metadata": {},
   "source": [
    "Next create a list of predictors as a subset of the columns of the `loans` H2O Frame"
   ]
  },
  {
   "cell_type": "code",
   "execution_count": 34,
   "metadata": {},
   "outputs": [],
   "source": [
    "cols_to_remove = [\"initial_list_status\",\n",
    "                  \"out_prncp\",\n",
    "                  \"out_prncp_inv\",\n",
    "                  \"total_pymnt\",\n",
    "                  \"total_pymnt_inv\",\n",
    "                  \"total_rec_prncp\", \n",
    "                  \"total_rec_int\",\n",
    "                  \"total_rec_late_fee\",\n",
    "                  \"recoveries\",\n",
    "                  \"collection_recovery_fee\",\n",
    "                  \"last_pymnt_d\", \n",
    "                  \"last_pymnt_amnt\",\n",
    "                  \"next_pymnt_d\",\n",
    "                  \"last_credit_pull_d\",\n",
    "                  \"collections_12_mths_ex_med\" , \n",
    "                  \"mths_since_last_major_derog\",\n",
    "                  \"policy_code\",\n",
    "                  \"loan_status\",\n",
    "                  \"funded_amnt\",\n",
    "                  \"funded_amnt_inv\",\n",
    "                  \"mths_since_last_delinq\",\n",
    "                  \"mths_since_last_record\",\n",
    "                  \"id\",\n",
    "                  \"member_id\",\n",
    "                  \"desc\",\n",
    "                  \"zip_code\"]\n",
    "\n",
    "predictors = list(set(loans.col_names) - set(cols_to_remove))"
   ]
  },
  {
   "cell_type": "code",
   "execution_count": 35,
   "metadata": {},
   "outputs": [
    {
     "data": {
      "text/plain": [
       "['term',\n",
       " 'C78',\n",
       " 'C60',\n",
       " 'C93',\n",
       " 'loan_amnt',\n",
       " 'revol_util',\n",
       " 'C8',\n",
       " 'issue_d_month',\n",
       " 'C67',\n",
       " 'C75',\n",
       " 'C12',\n",
       " 'C91',\n",
       " 'C72',\n",
       " 'C77',\n",
       " 'sub_grade',\n",
       " 'C21',\n",
       " 'C30',\n",
       " 'pub_rec',\n",
       " 'C63',\n",
       " 'C5',\n",
       " 'addr_state',\n",
       " 'C20',\n",
       " 'C1',\n",
       " 'C37',\n",
       " 'grade',\n",
       " 'C7',\n",
       " 'delinq_2yrs',\n",
       " 'C54',\n",
       " 'C52',\n",
       " 'C88',\n",
       " 'C15',\n",
       " 'C38',\n",
       " 'C100',\n",
       " 'C25',\n",
       " 'bad_loan',\n",
       " 'C81',\n",
       " 'C89',\n",
       " 'C55',\n",
       " 'title',\n",
       " 'int_rate',\n",
       " 'C22',\n",
       " 'C56',\n",
       " 'C46',\n",
       " 'C4',\n",
       " 'C11',\n",
       " 'C86',\n",
       " 'annual_inc',\n",
       " 'installment',\n",
       " 'C33',\n",
       " 'C59',\n",
       " 'C69',\n",
       " 'C18',\n",
       " 'C40',\n",
       " 'C51',\n",
       " 'C16',\n",
       " 'C79',\n",
       " 'C26',\n",
       " 'C83',\n",
       " 'C98',\n",
       " 'C50',\n",
       " 'C70',\n",
       " 'C80',\n",
       " 'C19',\n",
       " 'C58',\n",
       " 'issue_d_year',\n",
       " 'emp_title',\n",
       " 'C13',\n",
       " 'C43',\n",
       " 'url',\n",
       " 'C71',\n",
       " 'C94',\n",
       " 'C27',\n",
       " 'C61',\n",
       " 'C2',\n",
       " 'pymnt_plan',\n",
       " 'emp_length',\n",
       " 'C65',\n",
       " 'C32',\n",
       " 'C10',\n",
       " 'C23',\n",
       " 'C49',\n",
       " 'C97',\n",
       " 'dti',\n",
       " 'C99',\n",
       " 'C62',\n",
       " 'C57',\n",
       " 'C24',\n",
       " 'C9',\n",
       " 'C47',\n",
       " 'earliest_cr_line',\n",
       " 'open_acc',\n",
       " 'C95',\n",
       " 'C34',\n",
       " 'C29',\n",
       " 'C85',\n",
       " 'C41',\n",
       " 'C44',\n",
       " 'C53',\n",
       " 'C73',\n",
       " 'C84',\n",
       " 'C42',\n",
       " 'total_acc',\n",
       " 'C64',\n",
       " 'C3',\n",
       " 'C48',\n",
       " 'C82',\n",
       " 'C76',\n",
       " 'purpose',\n",
       " 'credit_length',\n",
       " 'C35',\n",
       " 'C96',\n",
       " 'C74',\n",
       " 'inq_last_6mths',\n",
       " 'C68',\n",
       " 'C36',\n",
       " 'C66',\n",
       " 'C90',\n",
       " 'C92',\n",
       " 'issue_d',\n",
       " 'C28',\n",
       " 'C14',\n",
       " 'verification_status',\n",
       " 'home_ownership',\n",
       " 'revol_bal',\n",
       " 'C17',\n",
       " 'C6',\n",
       " 'C87',\n",
       " 'C45',\n",
       " 'C39',\n",
       " 'C31']"
      ]
     },
     "execution_count": 35,
     "metadata": {},
     "output_type": "execute_result"
    }
   ],
   "source": [
    "predictors"
   ]
  },
  {
   "cell_type": "markdown",
   "metadata": {},
   "source": [
    "Now create an XGBoost model for predicting loan default. This model is being run with almost all of the model-tuning values at their defaults. Later we may want to optimize the hyperparameters using a grid search. "
   ]
  },
  {
   "cell_type": "code",
   "execution_count": 36,
   "metadata": {},
   "outputs": [
    {
     "name": "stdout",
     "output_type": "stream",
     "text": [
      "xgboost Model Build progress: |███████████████████████████████████████████| 100%\n"
     ]
    }
   ],
   "source": [
    "from h2o.estimators import H2OXGBoostEstimator\n",
    "\n",
    "param = {\n",
    "      \"ntrees\" : 20\n",
    "    , \"nfolds\" : 5\n",
    "    , \"seed\": 25\n",
    "}\n",
    "xgboost_model = H2OXGBoostEstimator(**param)\n",
    "xgboost_model.train(x = predictors,\n",
    "                    y = \"bad_loan\",\n",
    "                    training_frame=train,\n",
    "                    validation_frame=test)"
   ]
  },
  {
   "cell_type": "markdown",
   "metadata": {},
   "source": [
    "# Step 6 (of 10).  Examine model accuracy\n",
    "\n",
    "The plot below shows the performance of the model as more trees are built.  This graph can help us see at what point our model begins overfitting.  Our test data error rate stops improving at around 8-10 trees."
   ]
  },
  {
   "cell_type": "code",
   "execution_count": 37,
   "metadata": {},
   "outputs": [
    {
     "data": {
      "image/png": "[encoded data removed]",
      "text/plain": [
       "<Figure size 432x288 with 1 Axes>"
      ]
     },
     "metadata": {
      "needs_background": "light"
     },
     "output_type": "display_data"
    }
   ],
   "source": [
    "%matplotlib inline\n",
    "xgboost_model.plot()"
   ]
  },
  {
   "cell_type": "markdown",
   "metadata": {},
   "source": [
    "The ROC curve of the training and testing data are shown below.  The area under the ROC curve is much higher for the training data than the test data, indicating that the model is beginning to memorize the training data."
   ]
  },
  {
   "cell_type": "code",
   "execution_count": 38,
   "metadata": {},
   "outputs": [
    {
     "name": "stdout",
     "output_type": "stream",
     "text": [
      "Training Data\n"
     ]
    },
    {
     "data": {
      "image/png": "[encoded data removed]",
      "text/plain": [
       "<Figure size 432x288 with 1 Axes>"
      ]
     },
     "metadata": {
      "needs_background": "light"
     },
     "output_type": "display_data"
    },
    {
     "name": "stdout",
     "output_type": "stream",
     "text": [
      "Testing Data\n"
     ]
    },
    {
     "data": {
      "image/png": "[encoded data removed]",
      "text/plain": [
       "<Figure size 432x288 with 1 Axes>"
      ]
     },
     "metadata": {
      "needs_background": "light"
     },
     "output_type": "display_data"
    },
    {
     "name": "stdout",
     "output_type": "stream",
     "text": [
      "X-Val\n"
     ]
    },
    {
     "data": {
      "image/png": "[encoded data removed]",
      "text/plain": [
       "<Figure size 432x288 with 1 Axes>"
      ]
     },
     "metadata": {
      "needs_background": "light"
     },
     "output_type": "display_data"
    }
   ],
   "source": [
    "print(\"Training Data\")\n",
    "xgboost_model.model_performance(train = True).plot()\n",
    "print(\"Testing Data\")\n",
    "xgboost_model.model_performance(valid = True).plot()\n",
    "print(\"X-Val\")\n",
    "xgboost_model.model_performance(xval=True).plot()"
   ]
  },
  {
   "cell_type": "markdown",
   "metadata": {},
   "source": [
    "# Step 7 (of 10). Interpret model"
   ]
  },
  {
   "cell_type": "markdown",
   "metadata": {},
   "source": [
    "The variable importance plot shows us which variables are most important to predicting `bad_loan`.  We can use partial dependency plots to learn more about how these variables affect the prediction."
   ]
  },
  {
   "cell_type": "code",
   "execution_count": 39,
   "metadata": {},
   "outputs": [
    {
     "data": {
      "image/png": "[encoded data removed]",
      "text/plain": [
       "<Figure size 1008x720 with 1 Axes>"
      ]
     },
     "metadata": {
      "needs_background": "light"
     },
     "output_type": "display_data"
    }
   ],
   "source": [
    "xgboost_model.varimp_plot(20)"
   ]
  },
  {
   "cell_type": "markdown",
   "metadata": {},
   "source": [
    "As suspected, interest rate appears to be the most important feature in predicting loan default. The partial dependency plot of the `int_rate` predictor shows us that as the interest rate increases, the likelihood of the loan defaulting also increases."
   ]
  },
  {
   "cell_type": "code",
   "execution_count": 40,
   "metadata": {
    "scrolled": false
   },
   "outputs": [
    {
     "name": "stdout",
     "output_type": "stream",
     "text": [
      "PartialDependencePlot progress: |█████████████████████████████████████████| 100%\n"
     ]
    },
    {
     "data": {
      "image/png": "[encoded data removed]",
      "text/plain": [
       "<Figure size 504x720 with 1 Axes>"
      ]
     },
     "metadata": {
      "needs_background": "light"
     },
     "output_type": "display_data"
    }
   ],
   "source": [
    "pdp = xgboost_model.partial_plot(cols=[\"int_rate\"], data=train)"
   ]
  },
  {
   "cell_type": "markdown",
   "metadata": {},
   "source": [
    "# Step 8 (of 10). Save and reuse model"
   ]
  },
  {
   "cell_type": "markdown",
   "metadata": {},
   "source": [
    "The model can either be embedded into a self-contained Java MOJO package\n",
    "or it can be saved and later loaded directly into an H2O-3 cluster. For production\n",
    "use, we recommend using MOJO as it is optimized for speed. See the [guide](http://docs.h2o.ai/h2o/latest-stable/h2o-docs/productionizing.html) for further information."
   ]
  },
  {
   "cell_type": "markdown",
   "metadata": {},
   "source": [
    "### Downloading MOJO"
   ]
  },
  {
   "cell_type": "code",
   "execution_count": 41,
   "metadata": {},
   "outputs": [
    {
     "data": {
      "text/plain": [
       "'/home/h2o/h2o-3_hands_on/lending_club_loan_default/XGBoost_model_python_1567394729647_1.zip'"
      ]
     },
     "execution_count": 41,
     "metadata": {},
     "output_type": "execute_result"
    }
   ],
   "source": [
    "xgboost_model.download_mojo()"
   ]
  },
  {
   "cell_type": "markdown",
   "metadata": {},
   "source": [
    "### Save and reuse the model "
   ]
  },
  {
   "cell_type": "markdown",
   "metadata": {},
   "source": [
    "We can save the model to disk for later use."
   ]
  },
  {
   "cell_type": "code",
   "execution_count": 42,
   "metadata": {},
   "outputs": [
    {
     "name": "stdout",
     "output_type": "stream",
     "text": [
      "/home/h2o/h2o-3_hands_on/lending_club_loan_default/XGBoost_model_python_1567394729647_1\n"
     ]
    }
   ],
   "source": [
    "model_path = h2o.save_model(model=xgboost_model, force=True)\n",
    "print(model_path)"
   ]
  },
  {
   "cell_type": "markdown",
   "metadata": {},
   "source": [
    "After the H2O cluster shuts down, all unsaved data and models are lost. At some future date, we can load the model for batch scoring in the H2O cluster."
   ]
  },
  {
   "cell_type": "code",
   "execution_count": 43,
   "metadata": {},
   "outputs": [],
   "source": [
    "loaded_model = h2o.load_model(path=model_path)"
   ]
  },
  {
   "cell_type": "markdown",
   "metadata": {},
   "source": [
    "Using that model, we can also score new data with the predict function:"
   ]
  },
  {
   "cell_type": "code",
   "execution_count": 44,
   "metadata": {
    "scrolled": true
   },
   "outputs": [
    {
     "name": "stdout",
     "output_type": "stream",
     "text": [
      "xgboost prediction progress: |████████████████████████████████████████████| 100%\n"
     ]
    },
    {
     "data": {
      "text/html": [
       "<table>\n",
       "<thead>\n",
       "<tr><th style=\"text-align: right;\">  predict</th><th style=\"text-align: right;\">      p0</th><th style=\"text-align: right;\">       p1</th></tr>\n",
       "</thead>\n",
       "<tbody>\n",
       "<tr><td style=\"text-align: right;\">        1</td><td style=\"text-align: right;\">0.778906</td><td style=\"text-align: right;\">0.221094 </td></tr>\n",
       "<tr><td style=\"text-align: right;\">        0</td><td style=\"text-align: right;\">0.982151</td><td style=\"text-align: right;\">0.0178489</td></tr>\n",
       "<tr><td style=\"text-align: right;\">        0</td><td style=\"text-align: right;\">0.85358 </td><td style=\"text-align: right;\">0.14642  </td></tr>\n",
       "<tr><td style=\"text-align: right;\">        0</td><td style=\"text-align: right;\">0.908143</td><td style=\"text-align: right;\">0.0918571</td></tr>\n",
       "<tr><td style=\"text-align: right;\">        0</td><td style=\"text-align: right;\">0.883586</td><td style=\"text-align: right;\">0.116414 </td></tr>\n",
       "<tr><td style=\"text-align: right;\">        0</td><td style=\"text-align: right;\">0.941288</td><td style=\"text-align: right;\">0.0587116</td></tr>\n",
       "<tr><td style=\"text-align: right;\">        0</td><td style=\"text-align: right;\">0.975052</td><td style=\"text-align: right;\">0.0249483</td></tr>\n",
       "<tr><td style=\"text-align: right;\">        0</td><td style=\"text-align: right;\">0.872092</td><td style=\"text-align: right;\">0.127908 </td></tr>\n",
       "<tr><td style=\"text-align: right;\">        0</td><td style=\"text-align: right;\">0.965987</td><td style=\"text-align: right;\">0.0340126</td></tr>\n",
       "<tr><td style=\"text-align: right;\">        1</td><td style=\"text-align: right;\">0.792374</td><td style=\"text-align: right;\">0.207626 </td></tr>\n",
       "<tr><td style=\"text-align: right;\">        0</td><td style=\"text-align: right;\">0.912471</td><td style=\"text-align: right;\">0.0875294</td></tr>\n",
       "<tr><td style=\"text-align: right;\">        0</td><td style=\"text-align: right;\">0.890437</td><td style=\"text-align: right;\">0.109563 </td></tr>\n",
       "<tr><td style=\"text-align: right;\">        1</td><td style=\"text-align: right;\">0.487979</td><td style=\"text-align: right;\">0.512021 </td></tr>\n",
       "<tr><td style=\"text-align: right;\">        0</td><td style=\"text-align: right;\">0.859301</td><td style=\"text-align: right;\">0.140699 </td></tr>\n",
       "<tr><td style=\"text-align: right;\">        0</td><td style=\"text-align: right;\">0.914889</td><td style=\"text-align: right;\">0.0851108</td></tr>\n",
       "</tbody>\n",
       "</table>"
      ]
     },
     "metadata": {},
     "output_type": "display_data"
    },
    {
     "data": {
      "text/plain": []
     },
     "execution_count": 44,
     "metadata": {},
     "output_type": "execute_result"
    }
   ],
   "source": [
    "bad_loan_hat = loaded_model.predict(test)\n",
    "bad_loan_hat.head(15)"
   ]
  },
  {
   "cell_type": "markdown",
   "metadata": {},
   "source": [
    "# Step 9 (of 10). AutoML (optional)\n",
    "\n",
    "AutoML can be used for automating the machine learning workflow, which includes automatic training and tuning of many models within a user-specified time-limit or user specified model build limit. \n",
    "\n",
    "Stacked Ensembles will be automatically trained on collections of individual models to produce highly predictive ensemble models."
   ]
  },
  {
   "cell_type": "code",
   "execution_count": 45,
   "metadata": {},
   "outputs": [
    {
     "name": "stdout",
     "output_type": "stream",
     "text": [
      "AutoML progress: |████████████████████████████████████████████████████████| 100%\n"
     ]
    }
   ],
   "source": [
    "from h2o.automl import H2OAutoML\n",
    "\n",
    "aml = H2OAutoML(max_models=5, \n",
    "                max_runtime_secs_per_model=60, \n",
    "                include_algos = [\"GLM\", \"DRF\", \"XGBoost\", \"StackedEnsemble\"],\n",
    "                seed=25)\n",
    "aml.train(x=predictors, y='bad_loan', training_frame=train)"
   ]
  },
  {
   "cell_type": "markdown",
   "metadata": {},
   "source": [
    "_While the AutoML job is running, you can open H2O Flow and monitor the model building process._\n",
    "\n",
    "Once complete, the leaderboard contains the performance metrics of the models generated by AutoML:"
   ]
  },
  {
   "cell_type": "code",
   "execution_count": 46,
   "metadata": {
    "scrolled": false
   },
   "outputs": [
    {
     "data": {
      "text/html": [
       "<table>\n",
       "<thead>\n",
       "<tr><th>model_id                                           </th><th style=\"text-align: right;\">     auc</th><th style=\"text-align: right;\">  logloss</th><th style=\"text-align: right;\">  mean_per_class_error</th><th style=\"text-align: right;\">    rmse</th><th style=\"text-align: right;\">     mse</th></tr>\n",
       "</thead>\n",
       "<tbody>\n",
       "<tr><td>StackedEnsemble_AllModels_AutoML_20190902_032721   </td><td style=\"text-align: right;\">0.739285</td><td style=\"text-align: right;\"> 0.394603</td><td style=\"text-align: right;\">              0.330175</td><td style=\"text-align: right;\">0.348677</td><td style=\"text-align: right;\">0.121576</td></tr>\n",
       "<tr><td>StackedEnsemble_BestOfFamily_AutoML_20190902_032721</td><td style=\"text-align: right;\">0.738142</td><td style=\"text-align: right;\"> 0.395223</td><td style=\"text-align: right;\">              0.330892</td><td style=\"text-align: right;\">0.348917</td><td style=\"text-align: right;\">0.121743</td></tr>\n",
       "<tr><td>GLM_grid_1_AutoML_20190902_032721_model_1          </td><td style=\"text-align: right;\">0.733031</td><td style=\"text-align: right;\"> 0.394166</td><td style=\"text-align: right;\">              0.333954</td><td style=\"text-align: right;\">0.348554</td><td style=\"text-align: right;\">0.12149 </td></tr>\n",
       "<tr><td>XGBoost_3_AutoML_20190902_032721                   </td><td style=\"text-align: right;\">0.727935</td><td style=\"text-align: right;\"> 0.404234</td><td style=\"text-align: right;\">              0.349178</td><td style=\"text-align: right;\">0.351682</td><td style=\"text-align: right;\">0.12368 </td></tr>\n",
       "<tr><td>XGBoost_1_AutoML_20190902_032721                   </td><td style=\"text-align: right;\">0.724635</td><td style=\"text-align: right;\"> 0.429581</td><td style=\"text-align: right;\">              0.334455</td><td style=\"text-align: right;\">0.361793</td><td style=\"text-align: right;\">0.130894</td></tr>\n",
       "<tr><td>XGBoost_2_AutoML_20190902_032721                   </td><td style=\"text-align: right;\">0.722823</td><td style=\"text-align: right;\"> 0.453002</td><td style=\"text-align: right;\">              0.343782</td><td style=\"text-align: right;\">0.372854</td><td style=\"text-align: right;\">0.13902 </td></tr>\n",
       "<tr><td>DRF_1_AutoML_20190902_032721                       </td><td style=\"text-align: right;\">0.695692</td><td style=\"text-align: right;\"> 0.416124</td><td style=\"text-align: right;\">              0.35794 </td><td style=\"text-align: right;\">0.356834</td><td style=\"text-align: right;\">0.127331</td></tr>\n",
       "</tbody>\n",
       "</table>"
      ]
     },
     "metadata": {},
     "output_type": "display_data"
    },
    {
     "data": {
      "text/plain": []
     },
     "execution_count": 46,
     "metadata": {},
     "output_type": "execute_result"
    }
   ],
   "source": [
    "aml.leaderboard"
   ]
  },
  {
   "cell_type": "markdown",
   "metadata": {},
   "source": [
    "Since we provided only the training H2O Frame during training, the models are sorted by their cross-validated performance metrics (AUC by default for classification). We can evaluate the best model (`leader`) on the test data:"
   ]
  },
  {
   "cell_type": "code",
   "execution_count": 47,
   "metadata": {},
   "outputs": [
    {
     "data": {
      "image/png": "[encoded data removed]",
      "text/plain": [
       "<Figure size 432x288 with 1 Axes>"
      ]
     },
     "metadata": {
      "needs_background": "light"
     },
     "output_type": "display_data"
    },
    {
     "name": "stdout",
     "output_type": "stream",
     "text": [
      "\n",
      "ModelMetricsBinomialGLM: stackedensemble\n",
      "** Reported on test data. **\n",
      "\n",
      "MSE: 0.11927430997026489\n",
      "RMSE: 0.34536112979063655\n",
      "LogLoss: 0.39020044192320863\n",
      "Null degrees of freedom: 9681\n",
      "Residual degrees of freedom: 9676\n",
      "Null deviance: 8292.432037983572\n",
      "Residual deviance: 7555.841357401012\n",
      "AIC: 7567.841357401012\n",
      "AUC: 0.7201780306770679\n",
      "pr_auc: 0.32361183760221657\n",
      "Gini: 0.44035606135413574\n",
      "Confusion Matrix (Act/Pred) for max f1 @ threshold = 0.16087500602225888: \n"
     ]
    },
    {
     "data": {
      "text/html": [
       "<div style=\"overflow:auto\"><table style=\"width:50%\"><tr><td><b></b></td>\n",
       "<td><b>0</b></td>\n",
       "<td><b>1</b></td>\n",
       "<td><b>Error</b></td>\n",
       "<td><b>Rate</b></td></tr>\n",
       "<tr><td>0</td>\n",
       "<td>6108.0</td>\n",
       "<td>2092.0</td>\n",
       "<td>0.2551</td>\n",
       "<td> (2092.0/8200.0)</td></tr>\n",
       "<tr><td>1</td>\n",
       "<td>634.0</td>\n",
       "<td>848.0</td>\n",
       "<td>0.4278</td>\n",
       "<td> (634.0/1482.0)</td></tr>\n",
       "<tr><td>Total</td>\n",
       "<td>6742.0</td>\n",
       "<td>2940.0</td>\n",
       "<td>0.2816</td>\n",
       "<td> (2726.0/9682.0)</td></tr></table></div>"
      ],
      "text/plain": [
       "       0     1     Error    Rate\n",
       "-----  ----  ----  -------  ---------------\n",
       "0      6108  2092  0.2551   (2092.0/8200.0)\n",
       "1      634   848   0.4278   (634.0/1482.0)\n",
       "Total  6742  2940  0.2816   (2726.0/9682.0)"
      ]
     },
     "metadata": {},
     "output_type": "display_data"
    },
    {
     "name": "stdout",
     "output_type": "stream",
     "text": [
      "Maximum Metrics: Maximum metrics at their respective thresholds\n",
      "\n"
     ]
    },
    {
     "data": {
      "text/html": [
       "<div style=\"overflow:auto\"><table style=\"width:50%\"><tr><td><b>metric</b></td>\n",
       "<td><b>threshold</b></td>\n",
       "<td><b>value</b></td>\n",
       "<td><b>idx</b></td></tr>\n",
       "<tr><td>max f1</td>\n",
       "<td>0.1608750</td>\n",
       "<td>0.3835369</td>\n",
       "<td>260.0</td></tr>\n",
       "<tr><td>max f2</td>\n",
       "<td>0.0911207</td>\n",
       "<td>0.5286467</td>\n",
       "<td>345.0</td></tr>\n",
       "<tr><td>max f0point5</td>\n",
       "<td>0.2957099</td>\n",
       "<td>0.3523057</td>\n",
       "<td>163.0</td></tr>\n",
       "<tr><td>max accuracy</td>\n",
       "<td>0.6469421</td>\n",
       "<td>0.8487916</td>\n",
       "<td>26.0</td></tr>\n",
       "<tr><td>max precision</td>\n",
       "<td>0.8441258</td>\n",
       "<td>1.0</td>\n",
       "<td>0.0</td></tr>\n",
       "<tr><td>max recall</td>\n",
       "<td>0.0579898</td>\n",
       "<td>1.0</td>\n",
       "<td>397.0</td></tr>\n",
       "<tr><td>max specificity</td>\n",
       "<td>0.8441258</td>\n",
       "<td>1.0</td>\n",
       "<td>0.0</td></tr>\n",
       "<tr><td>max absolute_mcc</td>\n",
       "<td>0.1855051</td>\n",
       "<td>0.2503452</td>\n",
       "<td>238.0</td></tr>\n",
       "<tr><td>max min_per_class_accuracy</td>\n",
       "<td>0.1351316</td>\n",
       "<td>0.6582927</td>\n",
       "<td>287.0</td></tr>\n",
       "<tr><td>max mean_per_class_accuracy</td>\n",
       "<td>0.1342425</td>\n",
       "<td>0.6596383</td>\n",
       "<td>288.0</td></tr></table></div>"
      ],
      "text/plain": [
       "metric                       threshold    value     idx\n",
       "---------------------------  -----------  --------  -----\n",
       "max f1                       0.160875     0.383537  260\n",
       "max f2                       0.0911207    0.528647  345\n",
       "max f0point5                 0.29571      0.352306  163\n",
       "max accuracy                 0.646942     0.848792  26\n",
       "max precision                0.844126     1         0\n",
       "max recall                   0.0579898    1         397\n",
       "max specificity              0.844126     1         0\n",
       "max absolute_mcc             0.185505     0.250345  238\n",
       "max min_per_class_accuracy   0.135132     0.658293  287\n",
       "max mean_per_class_accuracy  0.134243     0.659638  288"
      ]
     },
     "metadata": {},
     "output_type": "display_data"
    },
    {
     "name": "stdout",
     "output_type": "stream",
     "text": [
      "Gains/Lift Table: Avg response rate: 15.31 %, avg score: 15.97 %\n",
      "\n"
     ]
    },
    {
     "data": {
      "text/html": [
       "<div style=\"overflow:auto\"><table style=\"width:50%\"><tr><td><b></b></td>\n",
       "<td><b>group</b></td>\n",
       "<td><b>cumulative_data_fraction</b></td>\n",
       "<td><b>lower_threshold</b></td>\n",
       "<td><b>lift</b></td>\n",
       "<td><b>cumulative_lift</b></td>\n",
       "<td><b>response_rate</b></td>\n",
       "<td><b>score</b></td>\n",
       "<td><b>cumulative_response_rate</b></td>\n",
       "<td><b>cumulative_score</b></td>\n",
       "<td><b>capture_rate</b></td>\n",
       "<td><b>cumulative_capture_rate</b></td>\n",
       "<td><b>gain</b></td>\n",
       "<td><b>cumulative_gain</b></td></tr>\n",
       "<tr><td></td>\n",
       "<td>1</td>\n",
       "<td>0.0100186</td>\n",
       "<td>0.6185062</td>\n",
       "<td>3.7043143</td>\n",
       "<td>3.7043143</td>\n",
       "<td>0.5670103</td>\n",
       "<td>0.6793472</td>\n",
       "<td>0.5670103</td>\n",
       "<td>0.6793472</td>\n",
       "<td>0.0371120</td>\n",
       "<td>0.0371120</td>\n",
       "<td>270.4314315</td>\n",
       "<td>270.4314315</td></tr>\n",
       "<tr><td></td>\n",
       "<td>2</td>\n",
       "<td>0.0200372</td>\n",
       "<td>0.5523989</td>\n",
       "<td>2.8287491</td>\n",
       "<td>3.2665317</td>\n",
       "<td>0.4329897</td>\n",
       "<td>0.5856834</td>\n",
       "<td>0.5</td>\n",
       "<td>0.6325153</td>\n",
       "<td>0.0283401</td>\n",
       "<td>0.0654521</td>\n",
       "<td>182.8749113</td>\n",
       "<td>226.6531714</td></tr>\n",
       "<tr><td></td>\n",
       "<td>3</td>\n",
       "<td>0.0300558</td>\n",
       "<td>0.5055522</td>\n",
       "<td>2.8287491</td>\n",
       "<td>3.1206042</td>\n",
       "<td>0.4329897</td>\n",
       "<td>0.5254027</td>\n",
       "<td>0.4776632</td>\n",
       "<td>0.5968111</td>\n",
       "<td>0.0283401</td>\n",
       "<td>0.0937922</td>\n",
       "<td>182.8749113</td>\n",
       "<td>212.0604180</td></tr>\n",
       "<tr><td></td>\n",
       "<td>4</td>\n",
       "<td>0.0400744</td>\n",
       "<td>0.4641382</td>\n",
       "<td>2.3572909</td>\n",
       "<td>2.9297759</td>\n",
       "<td>0.3608247</td>\n",
       "<td>0.4831964</td>\n",
       "<td>0.4484536</td>\n",
       "<td>0.5684074</td>\n",
       "<td>0.0236167</td>\n",
       "<td>0.1174089</td>\n",
       "<td>135.7290928</td>\n",
       "<td>192.9775867</td></tr>\n",
       "<tr><td></td>\n",
       "<td>5</td>\n",
       "<td>0.0500930</td>\n",
       "<td>0.4363707</td>\n",
       "<td>2.6266956</td>\n",
       "<td>2.8691598</td>\n",
       "<td>0.4020619</td>\n",
       "<td>0.4509016</td>\n",
       "<td>0.4391753</td>\n",
       "<td>0.5449063</td>\n",
       "<td>0.0263158</td>\n",
       "<td>0.1437247</td>\n",
       "<td>162.6695605</td>\n",
       "<td>186.9159815</td></tr>\n",
       "<tr><td></td>\n",
       "<td>6</td>\n",
       "<td>0.1000826</td>\n",
       "<td>0.3276467</td>\n",
       "<td>2.1731885</td>\n",
       "<td>2.5215333</td>\n",
       "<td>0.3326446</td>\n",
       "<td>0.3764197</td>\n",
       "<td>0.3859649</td>\n",
       "<td>0.4607499</td>\n",
       "<td>0.1086370</td>\n",
       "<td>0.2523617</td>\n",
       "<td>117.3188454</td>\n",
       "<td>152.1533253</td></tr>\n",
       "<tr><td></td>\n",
       "<td>7</td>\n",
       "<td>0.1500723</td>\n",
       "<td>0.2588091</td>\n",
       "<td>1.8357368</td>\n",
       "<td>2.2930918</td>\n",
       "<td>0.2809917</td>\n",
       "<td>0.2912822</td>\n",
       "<td>0.3509979</td>\n",
       "<td>0.4042996</td>\n",
       "<td>0.0917679</td>\n",
       "<td>0.3441296</td>\n",
       "<td>83.5736831</td>\n",
       "<td>129.3091774</td></tr>\n",
       "<tr><td></td>\n",
       "<td>8</td>\n",
       "<td>0.2000620</td>\n",
       "<td>0.2128976</td>\n",
       "<td>1.7277523</td>\n",
       "<td>2.1518299</td>\n",
       "<td>0.2644628</td>\n",
       "<td>0.2347117</td>\n",
       "<td>0.3293753</td>\n",
       "<td>0.3619245</td>\n",
       "<td>0.0863698</td>\n",
       "<td>0.4304993</td>\n",
       "<td>72.7752311</td>\n",
       "<td>115.1829875</td></tr>\n",
       "<tr><td></td>\n",
       "<td>9</td>\n",
       "<td>0.3000413</td>\n",
       "<td>0.1616131</td>\n",
       "<td>1.3363084</td>\n",
       "<td>1.8800830</td>\n",
       "<td>0.2045455</td>\n",
       "<td>0.1843664</td>\n",
       "<td>0.2877797</td>\n",
       "<td>0.3027588</td>\n",
       "<td>0.1336032</td>\n",
       "<td>0.5641026</td>\n",
       "<td>33.6308428</td>\n",
       "<td>88.0082969</td></tr>\n",
       "<tr><td></td>\n",
       "<td>10</td>\n",
       "<td>0.4000207</td>\n",
       "<td>0.1325084</td>\n",
       "<td>1.0461000</td>\n",
       "<td>1.6716411</td>\n",
       "<td>0.1601240</td>\n",
       "<td>0.1456389</td>\n",
       "<td>0.2558740</td>\n",
       "<td>0.2634890</td>\n",
       "<td>0.1045884</td>\n",
       "<td>0.6686910</td>\n",
       "<td>4.6100032</td>\n",
       "<td>67.1641068</td></tr>\n",
       "<tr><td></td>\n",
       "<td>11</td>\n",
       "<td>0.5</td>\n",
       "<td>0.1132958</td>\n",
       "<td>0.8706252</td>\n",
       "<td>1.5114710</td>\n",
       "<td>0.1332645</td>\n",
       "<td>0.1221108</td>\n",
       "<td>0.2313572</td>\n",
       "<td>0.2352192</td>\n",
       "<td>0.0870445</td>\n",
       "<td>0.7557355</td>\n",
       "<td>-12.9374812</td>\n",
       "<td>51.1470985</td></tr>\n",
       "<tr><td></td>\n",
       "<td>12</td>\n",
       "<td>0.5999793</td>\n",
       "<td>0.0998103</td>\n",
       "<td>0.7761387</td>\n",
       "<td>1.3889367</td>\n",
       "<td>0.1188017</td>\n",
       "<td>0.1061435</td>\n",
       "<td>0.2126011</td>\n",
       "<td>0.2137103</td>\n",
       "<td>0.0775978</td>\n",
       "<td>0.8333333</td>\n",
       "<td>-22.3861266</td>\n",
       "<td>38.8936707</td></tr>\n",
       "<tr><td></td>\n",
       "<td>13</td>\n",
       "<td>0.6999587</td>\n",
       "<td>0.0890170</td>\n",
       "<td>0.6884013</td>\n",
       "<td>1.2888750</td>\n",
       "<td>0.1053719</td>\n",
       "<td>0.0944802</td>\n",
       "<td>0.1972849</td>\n",
       "<td>0.1966799</td>\n",
       "<td>0.0688259</td>\n",
       "<td>0.9021592</td>\n",
       "<td>-31.1598688</td>\n",
       "<td>28.8874989</td></tr>\n",
       "<tr><td></td>\n",
       "<td>14</td>\n",
       "<td>0.7999380</td>\n",
       "<td>0.0781247</td>\n",
       "<td>0.4994284</td>\n",
       "<td>1.1902069</td>\n",
       "<td>0.0764463</td>\n",
       "<td>0.0832958</td>\n",
       "<td>0.1821821</td>\n",
       "<td>0.1825087</td>\n",
       "<td>0.0499325</td>\n",
       "<td>0.9520918</td>\n",
       "<td>-50.0571597</td>\n",
       "<td>19.0206907</td></tr>\n",
       "<tr><td></td>\n",
       "<td>15</td>\n",
       "<td>0.8999174</td>\n",
       "<td>0.0686971</td>\n",
       "<td>0.3442007</td>\n",
       "<td>1.0962170</td>\n",
       "<td>0.0526860</td>\n",
       "<td>0.0733103</td>\n",
       "<td>0.1677952</td>\n",
       "<td>0.1703770</td>\n",
       "<td>0.0344130</td>\n",
       "<td>0.9865047</td>\n",
       "<td>-65.5799344</td>\n",
       "<td>9.6217001</td></tr>\n",
       "<tr><td></td>\n",
       "<td>16</td>\n",
       "<td>1.0</td>\n",
       "<td>0.0541858</td>\n",
       "<td>0.1348414</td>\n",
       "<td>1.0</td>\n",
       "<td>0.0206398</td>\n",
       "<td>0.0636621</td>\n",
       "<td>0.1530675</td>\n",
       "<td>0.1596967</td>\n",
       "<td>0.0134953</td>\n",
       "<td>1.0</td>\n",
       "<td>-86.5158650</td>\n",
       "<td>0.0</td></tr></table></div>"
      ],
      "text/plain": [
       "    group    cumulative_data_fraction    lower_threshold    lift      cumulative_lift    response_rate    score      cumulative_response_rate    cumulative_score    capture_rate    cumulative_capture_rate    gain      cumulative_gain\n",
       "--  -------  --------------------------  -----------------  --------  -----------------  ---------------  ---------  --------------------------  ------------------  --------------  -------------------------  --------  -----------------\n",
       "    1        0.0100186                   0.618506           3.70431   3.70431            0.56701          0.679347   0.56701                     0.679347            0.037112        0.037112                   270.431   270.431\n",
       "    2        0.0200372                   0.552399           2.82875   3.26653            0.43299          0.585683   0.5                         0.632515            0.0283401       0.0654521                  182.875   226.653\n",
       "    3        0.0300558                   0.505552           2.82875   3.1206             0.43299          0.525403   0.477663                    0.596811            0.0283401       0.0937922                  182.875   212.06\n",
       "    4        0.0400744                   0.464138           2.35729   2.92978            0.360825         0.483196   0.448454                    0.568407            0.0236167       0.117409                   135.729   192.978\n",
       "    5        0.050093                    0.436371           2.6267    2.86916            0.402062         0.450902   0.439175                    0.544906            0.0263158       0.143725                   162.67    186.916\n",
       "    6        0.100083                    0.327647           2.17319   2.52153            0.332645         0.37642    0.385965                    0.46075             0.108637        0.252362                   117.319   152.153\n",
       "    7        0.150072                    0.258809           1.83574   2.29309            0.280992         0.291282   0.350998                    0.4043              0.0917679       0.34413                    83.5737   129.309\n",
       "    8        0.200062                    0.212898           1.72775   2.15183            0.264463         0.234712   0.329375                    0.361924            0.0863698       0.430499                   72.7752   115.183\n",
       "    9        0.300041                    0.161613           1.33631   1.88008            0.204545         0.184366   0.28778                     0.302759            0.133603        0.564103                   33.6308   88.0083\n",
       "    10       0.400021                    0.132508           1.0461    1.67164            0.160124         0.145639   0.255874                    0.263489            0.104588        0.668691                   4.61      67.1641\n",
       "    11       0.5                         0.113296           0.870625  1.51147            0.133264         0.122111   0.231357                    0.235219            0.0870445       0.755735                   -12.9375  51.1471\n",
       "    12       0.599979                    0.0998103          0.776139  1.38894            0.118802         0.106144   0.212601                    0.21371             0.0775978       0.833333                   -22.3861  38.8937\n",
       "    13       0.699959                    0.089017           0.688401  1.28887            0.105372         0.0944802  0.197285                    0.19668             0.0688259       0.902159                   -31.1599  28.8875\n",
       "    14       0.799938                    0.0781247          0.499428  1.19021            0.0764463        0.0832958  0.182182                    0.182509            0.0499325       0.952092                   -50.0572  19.0207\n",
       "    15       0.899917                    0.0686971          0.344201  1.09622            0.052686         0.0733103  0.167795                    0.170377            0.034413        0.986505                   -65.5799  9.6217\n",
       "    16       1                           0.0541858          0.134841  1                  0.0206398        0.0636621  0.153068                    0.159697            0.0134953       1                          -86.5159  0"
      ]
     },
     "metadata": {},
     "output_type": "display_data"
    },
    {
     "name": "stdout",
     "output_type": "stream",
     "text": [
      "\n"
     ]
    },
    {
     "data": {
      "text/plain": []
     },
     "execution_count": 47,
     "metadata": {},
     "output_type": "execute_result"
    }
   ],
   "source": [
    "aml.leader.model_performance(test_data=test).plot()\n",
    "aml.leader.model_performance(test_data=test)"
   ]
  },
  {
   "cell_type": "markdown",
   "metadata": {},
   "source": [
    "Another convenient use of H2O Flow is to explore the various models built by AutoML."
   ]
  },
  {
   "cell_type": "markdown",
   "metadata": {},
   "source": [
    "# Step 10 (of 10). Stop H2O-3 cluster"
   ]
  },
  {
   "cell_type": "code",
   "execution_count": 48,
   "metadata": {},
   "outputs": [
    {
     "name": "stdout",
     "output_type": "stream",
     "text": [
      "H2O session _sid_bbfe closed.\n"
     ]
    }
   ],
   "source": [
    "h2o.cluster().shutdown()"
   ]
  },
  {
   "cell_type": "markdown",
   "metadata": {},
   "source": [
    "Once your work is completed, shutting down the H2O cluster frees up the resources reserved by H2O.\n",
    "\n",
    "# Bonus: H2O-3 documentation\n",
    "\n",
    "* http://docs.h2o.ai"
   ]
  }
 ],
 "metadata": {
  "kernelspec": {
   "display_name": "Python 3",
   "language": "python",
   "name": "python3"
  },
  "language_info": {
   "codemirror_mode": {
    "name": "ipython",
    "version": 3
   },
   "file_extension": ".py",
   "mimetype": "text/x-python",
   "name": "python",
   "nbconvert_exporter": "python",
   "pygments_lexer": "ipython3",
   "version": "3.6.9"
  }
 },
 "nbformat": 4,
 "nbformat_minor": 2
}
