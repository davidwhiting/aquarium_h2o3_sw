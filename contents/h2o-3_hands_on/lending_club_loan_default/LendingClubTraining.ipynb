{
 "cells": [
  {
   "cell_type": "markdown",
   "metadata": {},
   "source": [
    "# *Lending Club Loan Default*\n",
    "\n",
    "In this tutorial, we will go through a step-by-step workflow to determine loan deliquency. Predictions will be made based only on the information available at the time the loan was issued.  Our data is a portion of the public Lending Club data set."
   ]
  },
  {
   "cell_type": "markdown",
   "metadata": {},
   "source": [
    "## Workflow\n",
    "\n",
    "1. Start H2O-3 cluster\n",
    "2. Import data\n",
    "3. Clean data\n",
    "4. Feature engineering\n",
    "5. Model training\n",
    "6. Examine model accuracy\n",
    "7. Interpret model\n",
    "8. Save and reuse model\n",
    "9. AutoML (optional)\n",
    "10. Stop H2O-3 cluster"
   ]
  },
  {
   "cell_type": "markdown",
   "metadata": {},
   "source": [
    "# Step 1 (of 10). Start H2O-3 cluster\n",
    "\n",
    "The method you use for starting and stopping an H2O-3 cluster will depend on how H2O is set up on your system. The method we show here is the simplest and most straightforward. It is critical, however, that you properly shut down any H2O cluster that you start."
   ]
  },
  {
   "cell_type": "code",
   "execution_count": 19,
   "metadata": {},
   "outputs": [
    {
     "name": "stdout",
     "output_type": "stream",
     "text": [
      "Checking whether there is an H2O instance running at http://localhost:54321 . connected.\n"
     ]
    },
    {
     "data": {
      "text/html": [
       "<div style=\"overflow:auto\"><table style=\"width:50%\"><tr><td>H2O cluster uptime:</td>\n",
       "<td>3 hours 21 mins</td></tr>\n",
       "<tr><td>H2O cluster timezone:</td>\n",
       "<td>America/Chicago</td></tr>\n",
       "<tr><td>H2O data parsing timezone:</td>\n",
       "<td>UTC</td></tr>\n",
       "<tr><td>H2O cluster version:</td>\n",
       "<td>3.24.0.5</td></tr>\n",
       "<tr><td>H2O cluster version age:</td>\n",
       "<td>21 days, 19 hours and 29 minutes </td></tr>\n",
       "<tr><td>H2O cluster name:</td>\n",
       "<td>H2O_from_python_dwhiting_ytmqne</td></tr>\n",
       "<tr><td>H2O cluster total nodes:</td>\n",
       "<td>1</td></tr>\n",
       "<tr><td>H2O cluster free memory:</td>\n",
       "<td>3.805 Gb</td></tr>\n",
       "<tr><td>H2O cluster total cores:</td>\n",
       "<td>8</td></tr>\n",
       "<tr><td>H2O cluster allowed cores:</td>\n",
       "<td>8</td></tr>\n",
       "<tr><td>H2O cluster status:</td>\n",
       "<td>locked, healthy</td></tr>\n",
       "<tr><td>H2O connection url:</td>\n",
       "<td>http://localhost:54321</td></tr>\n",
       "<tr><td>H2O connection proxy:</td>\n",
       "<td>None</td></tr>\n",
       "<tr><td>H2O internal security:</td>\n",
       "<td>False</td></tr>\n",
       "<tr><td>H2O API Extensions:</td>\n",
       "<td>Amazon S3, XGBoost, Algos, AutoML, Core V3, Core V4</td></tr>\n",
       "<tr><td>Python version:</td>\n",
       "<td>3.6.8 final</td></tr></table></div>"
      ],
      "text/plain": [
       "--------------------------  ---------------------------------------------------\n",
       "H2O cluster uptime:         3 hours 21 mins\n",
       "H2O cluster timezone:       America/Chicago\n",
       "H2O data parsing timezone:  UTC\n",
       "H2O cluster version:        3.24.0.5\n",
       "H2O cluster version age:    21 days, 19 hours and 29 minutes\n",
       "H2O cluster name:           H2O_from_python_dwhiting_ytmqne\n",
       "H2O cluster total nodes:    1\n",
       "H2O cluster free memory:    3.805 Gb\n",
       "H2O cluster total cores:    8\n",
       "H2O cluster allowed cores:  8\n",
       "H2O cluster status:         locked, healthy\n",
       "H2O connection url:         http://localhost:54321\n",
       "H2O connection proxy:\n",
       "H2O internal security:      False\n",
       "H2O API Extensions:         Amazon S3, XGBoost, Algos, AutoML, Core V3, Core V4\n",
       "Python version:             3.6.8 final\n",
       "--------------------------  ---------------------------------------------------"
      ]
     },
     "metadata": {},
     "output_type": "display_data"
    }
   ],
   "source": [
    "import h2o\n",
    "h2o.init(bind_to_localhost=False)  # run and expose the cluster to the Internet"
   ]
  },
  {
   "cell_type": "markdown",
   "metadata": {},
   "source": [
    "# Step 2 (of 10). Import data\n",
    "\n",
    "A full description of the complete Lending Club data is available at kaggle.com [here](https://www.kaggle.com/pragyanbo/a-hitchhiker-s-guide-to-lending-club-loan-data/notebook). \n",
    "\n",
    "The data set we use below is a local copy of https://s3-us-west-2.amazonaws.com/h2o-tutorials/data/topics/lending/lending_club/LoanStats3a.csv.\n",
    "\n",
    "### View and Inspect the Data\n",
    "\n",
    "The loans data is loaded directly into H2O using the following command:"
   ]
  },
  {
   "cell_type": "code",
   "execution_count": 20,
   "metadata": {},
   "outputs": [
    {
     "name": "stdout",
     "output_type": "stream",
     "text": [
      "Parse progress: |█████████████████████████████████████████████████████████| 100%\n"
     ]
    }
   ],
   "source": [
    "loans = h2o.import_file(\"../../data/lending_club/LoanStats3a.csv\",\n",
    "                        col_types = {\"int_rate\":\"string\", \n",
    "                                     \"revol_util\":\"string\", \n",
    "                                     \"emp_length\":\"string\", \n",
    "                                     \"verification_status\":\"string\"})"
   ]
  },
  {
   "cell_type": "markdown",
   "metadata": {},
   "source": [
    "Note that the `h2o.import_file` command completely bypassed python and loaded the data directly into H2O memory. Alternatively, one could load a dataset into a python object, for instance, then pass it to H2O. The approach we use above is far more efficient and generally recommended, especially as data size increases.\n",
    "\n",
    "### Inspect the Data with H2O Flow\n",
    "\n",
    "Now is a good time to enable H2O Flow. Although H2O Flow can be used for everything from loading data to building models to creating production code, we use it here for data investigation and H2O system monitoring.\n",
    "\n",
    "> Note: the reported IP above \n",
    ">\n",
    ">```\n",
    "Connecting to H2O server at http://127.0.0.1:54321 ... successful.\n",
    ">```\n",
    ">\n",
    "> is the local IP within your particular cloud instance. \n",
    ">\n",
    "> **To open H2O Flow in your own browser, copy your browser URL and replace the port with 54321.**\n",
    ">\n",
    ">> For example, my Jupyter notebook's URL is \n",
    ">>\n",
    ">>`http://52.202.98.125:8888`. \n",
    ">>\n",
    ">> After opening a new browser tab or window, I copy the address and replace port `8888` with `54321`:\n",
    ">>\n",
    ">>`http://52.202.98.125:54321`.\n",
    "\n",
    "A quick summary of the data size and data fields are shown below."
   ]
  },
  {
   "cell_type": "code",
   "execution_count": 21,
   "metadata": {},
   "outputs": [
    {
     "data": {
      "text/plain": [
       "[42536, 52]"
      ]
     },
     "execution_count": 21,
     "metadata": {},
     "output_type": "execute_result"
    }
   ],
   "source": [
    "loans.dim"
   ]
  },
  {
   "cell_type": "code",
   "execution_count": 22,
   "metadata": {},
   "outputs": [
    {
     "data": {
      "text/html": [
       "<table>\n",
       "<thead>\n",
       "<tr><th style=\"text-align: right;\">         id</th><th style=\"text-align: right;\">  member_id</th><th style=\"text-align: right;\">  loan_amnt</th><th style=\"text-align: right;\">  funded_amnt</th><th style=\"text-align: right;\">  funded_amnt_inv</th><th>term     </th><th>int_rate  </th><th style=\"text-align: right;\">  installment</th><th>grade  </th><th>sub_grade  </th><th>emp_title                </th><th>emp_length  </th><th>home_ownership  </th><th style=\"text-align: right;\">  annual_inc</th><th>verification_status     </th><th>issue_d            </th><th>loan_status  </th><th>pymnt_plan  </th><th>url                                                                 </th><th>desc                                                                                                                                                                                                                                                                                                                                                                                                                                                                                                                                                                                                        </th><th>purpose           </th><th>title                                </th><th>zip_code  </th><th>addr_state  </th><th style=\"text-align: right;\">  dti</th><th style=\"text-align: right;\">  delinq_2yrs</th><th>earliest_cr_line   </th><th style=\"text-align: right;\">  inq_last_6mths</th><th>mths_since_last_delinq  </th><th>mths_since_last_record  </th><th style=\"text-align: right;\">  open_acc</th><th style=\"text-align: right;\">  pub_rec</th><th style=\"text-align: right;\">  revol_bal</th><th>revol_util  </th><th style=\"text-align: right;\">  total_acc</th><th>initial_list_status  </th><th style=\"text-align: right;\">  out_prncp</th><th style=\"text-align: right;\">  out_prncp_inv</th><th style=\"text-align: right;\">  total_pymnt</th><th style=\"text-align: right;\">  total_pymnt_inv</th><th style=\"text-align: right;\">  total_rec_prncp</th><th style=\"text-align: right;\">  total_rec_int</th><th style=\"text-align: right;\">  total_rec_late_fee</th><th style=\"text-align: right;\">  recoveries</th><th style=\"text-align: right;\">  collection_recovery_fee</th><th>last_pymnt_d       </th><th style=\"text-align: right;\">  last_pymnt_amnt</th><th>next_pymnt_d       </th><th>last_credit_pull_d  </th><th style=\"text-align: right;\">  collections_12_mths_ex_med</th><th>mths_since_last_major_derog  </th><th style=\"text-align: right;\">  policy_code</th></tr>\n",
       "</thead>\n",
       "<tbody>\n",
       "<tr><td style=\"text-align: right;\">1.0775e+06 </td><td style=\"text-align: right;\">1.2966e+06 </td><td style=\"text-align: right;\">       5000</td><td style=\"text-align: right;\">         5000</td><td style=\"text-align: right;\">             4975</td><td>36 months</td><td>10.65%    </td><td style=\"text-align: right;\">       162.87</td><td>B      </td><td>B2         </td><td>                         </td><td>10+ years   </td><td>RENT            </td><td style=\"text-align: right;\">       24000</td><td>VERIFIED - income       </td><td>2011-12-01 00:00:00</td><td>Fully Paid   </td><td>n           </td><td>https://www.lendingclub.com/browse/loanDetail.action?loan_id=1077501</td><td>Borrower added on 12/22/11 > I need to upgrade my business technologies.<br>                                                                                                                                                                                                                                                                                                                                                                                                                                                                                                                                </td><td>credit_card       </td><td>Computer                             </td><td>860xx     </td><td>AZ          </td><td style=\"text-align: right;\">27.65</td><td style=\"text-align: right;\">            0</td><td>1985-01-01 00:00:00</td><td style=\"text-align: right;\">               1</td><td>                        </td><td>                        </td><td style=\"text-align: right;\">         3</td><td style=\"text-align: right;\">        0</td><td style=\"text-align: right;\">      13648</td><td>83.7%       </td><td style=\"text-align: right;\">          9</td><td>f                    </td><td style=\"text-align: right;\">       0   </td><td style=\"text-align: right;\">           0   </td><td style=\"text-align: right;\">      5861.07</td><td style=\"text-align: right;\">          5831.78</td><td style=\"text-align: right;\">          5000   </td><td style=\"text-align: right;\">         861.07</td><td style=\"text-align: right;\">                0   </td><td style=\"text-align: right;\">        0   </td><td style=\"text-align: right;\">                     0   </td><td>2015-01-01 00:00:00</td><td style=\"text-align: right;\">           171.62</td><td>                   </td><td>2015-01-01 00:00:00 </td><td style=\"text-align: right;\">                           0</td><td>                             </td><td style=\"text-align: right;\">            1</td></tr>\n",
       "<tr><td style=\"text-align: right;\">1.07743e+06</td><td style=\"text-align: right;\">1.31417e+06</td><td style=\"text-align: right;\">       2500</td><td style=\"text-align: right;\">         2500</td><td style=\"text-align: right;\">             2500</td><td>60 months</td><td>15.27%    </td><td style=\"text-align: right;\">        59.83</td><td>C      </td><td>C4         </td><td>Ryder                    </td><td>< 1 year    </td><td>RENT            </td><td style=\"text-align: right;\">       30000</td><td>VERIFIED - income source</td><td>2011-12-01 00:00:00</td><td>Charged Off  </td><td>n           </td><td>https://www.lendingclub.com/browse/loanDetail.action?loan_id=1077430</td><td>Borrower added on 12/22/11 > I plan to use this money to finance the motorcycle i am looking at. I plan to have it paid off as soon as possible/when i sell my old bike. I only need this money because the deal im looking at is to good to pass up.<br><br>  Borrower added on 12/22/11 > I plan to use this money to finance the motorcycle i am looking at. I plan to have it paid off as soon as possible/when i sell my old bike.I only need this money because the deal im looking at is to good to pass up. I have finished college with an associates degree in business and its takingmeplaces<br></td><td>car               </td><td>bike                                 </td><td>309xx     </td><td>GA          </td><td style=\"text-align: right;\"> 1   </td><td style=\"text-align: right;\">            0</td><td>1999-04-01 00:00:00</td><td style=\"text-align: right;\">               5</td><td>                        </td><td>                        </td><td style=\"text-align: right;\">         3</td><td style=\"text-align: right;\">        0</td><td style=\"text-align: right;\">       1687</td><td>9.4%        </td><td style=\"text-align: right;\">          4</td><td>f                    </td><td style=\"text-align: right;\">       0   </td><td style=\"text-align: right;\">           0   </td><td style=\"text-align: right;\">      1008.71</td><td style=\"text-align: right;\">          1008.71</td><td style=\"text-align: right;\">           456.46</td><td style=\"text-align: right;\">         435.17</td><td style=\"text-align: right;\">                0   </td><td style=\"text-align: right;\">      117.08</td><td style=\"text-align: right;\">                     1.11</td><td>2013-04-01 00:00:00</td><td style=\"text-align: right;\">           119.66</td><td>                   </td><td>2013-09-01 00:00:00 </td><td style=\"text-align: right;\">                           0</td><td>                             </td><td style=\"text-align: right;\">            1</td></tr>\n",
       "<tr><td style=\"text-align: right;\">1.07718e+06</td><td style=\"text-align: right;\">1.31352e+06</td><td style=\"text-align: right;\">       2400</td><td style=\"text-align: right;\">         2400</td><td style=\"text-align: right;\">             2400</td><td>36 months</td><td>15.96%    </td><td style=\"text-align: right;\">        84.33</td><td>C      </td><td>C5         </td><td>                         </td><td>10+ years   </td><td>RENT            </td><td style=\"text-align: right;\">       12252</td><td>not verified            </td><td>2011-12-01 00:00:00</td><td>Fully Paid   </td><td>n           </td><td>https://www.lendingclub.com/browse/loanDetail.action?loan_id=1077175</td><td>                                                                                                                                                                                                                                                                                                                                                                                                                                                                                                                                                                                                            </td><td>small_business    </td><td>real estate business                 </td><td>606xx     </td><td>IL          </td><td style=\"text-align: right;\"> 8.72</td><td style=\"text-align: right;\">            0</td><td>2001-11-01 00:00:00</td><td style=\"text-align: right;\">               2</td><td>                        </td><td>                        </td><td style=\"text-align: right;\">         2</td><td style=\"text-align: right;\">        0</td><td style=\"text-align: right;\">       2956</td><td>98.5%       </td><td style=\"text-align: right;\">         10</td><td>f                    </td><td style=\"text-align: right;\">       0   </td><td style=\"text-align: right;\">           0   </td><td style=\"text-align: right;\">      3003.65</td><td style=\"text-align: right;\">          3003.65</td><td style=\"text-align: right;\">          2400   </td><td style=\"text-align: right;\">         603.65</td><td style=\"text-align: right;\">                0   </td><td style=\"text-align: right;\">        0   </td><td style=\"text-align: right;\">                     0   </td><td>2014-06-01 00:00:00</td><td style=\"text-align: right;\">           649.91</td><td>                   </td><td>2015-06-01 00:00:00 </td><td style=\"text-align: right;\">                           0</td><td>                             </td><td style=\"text-align: right;\">            1</td></tr>\n",
       "<tr><td style=\"text-align: right;\">1.07686e+06</td><td style=\"text-align: right;\">1.27718e+06</td><td style=\"text-align: right;\">      10000</td><td style=\"text-align: right;\">        10000</td><td style=\"text-align: right;\">            10000</td><td>36 months</td><td>13.49%    </td><td style=\"text-align: right;\">       339.31</td><td>C      </td><td>C1         </td><td>AIR RESOURCES BOARD      </td><td>10+ years   </td><td>RENT            </td><td style=\"text-align: right;\">       49200</td><td>VERIFIED - income source</td><td>2011-12-01 00:00:00</td><td>Fully Paid   </td><td>n           </td><td>https://www.lendingclub.com/browse/loanDetail.action?loan_id=1076863</td><td>Borrower added on 12/21/11 > to pay for property tax (borrow from friend, need to pay back) & central A/C need to be replace. I'm very sorry to let my loan expired last time.<br>                                                                                                                                                                                                                                                                                                                                                                                                                          </td><td>other             </td><td>personel                             </td><td>917xx     </td><td>CA          </td><td style=\"text-align: right;\">20   </td><td style=\"text-align: right;\">            0</td><td>1996-02-01 00:00:00</td><td style=\"text-align: right;\">               1</td><td>35                      </td><td>                        </td><td style=\"text-align: right;\">        10</td><td style=\"text-align: right;\">        0</td><td style=\"text-align: right;\">       5598</td><td>21%         </td><td style=\"text-align: right;\">         37</td><td>f                    </td><td style=\"text-align: right;\">       0   </td><td style=\"text-align: right;\">           0   </td><td style=\"text-align: right;\">     12226.3 </td><td style=\"text-align: right;\">         12226.3 </td><td style=\"text-align: right;\">         10000   </td><td style=\"text-align: right;\">        2209.33</td><td style=\"text-align: right;\">               16.97</td><td style=\"text-align: right;\">        0   </td><td style=\"text-align: right;\">                     0   </td><td>2015-01-01 00:00:00</td><td style=\"text-align: right;\">           357.48</td><td>                   </td><td>2015-01-01 00:00:00 </td><td style=\"text-align: right;\">                           0</td><td>                             </td><td style=\"text-align: right;\">            1</td></tr>\n",
       "<tr><td style=\"text-align: right;\">1.07536e+06</td><td style=\"text-align: right;\">1.31175e+06</td><td style=\"text-align: right;\">       3000</td><td style=\"text-align: right;\">         3000</td><td style=\"text-align: right;\">             3000</td><td>60 months</td><td>12.69%    </td><td style=\"text-align: right;\">        67.79</td><td>B      </td><td>B5         </td><td>University Medical Group </td><td>1 year      </td><td>RENT            </td><td style=\"text-align: right;\">       80000</td><td>VERIFIED - income source</td><td>2011-12-01 00:00:00</td><td>Current      </td><td>n           </td><td>https://www.lendingclub.com/browse/loanDetail.action?loan_id=1075358</td><td>Borrower added on 12/21/11 > I plan on combining three large interest bills together and freeing up some extra each month to pay toward other bills.  I've always been a good payor but have found myself needing to make adjustments to my budget due to a medical scare. My job is very stable, I love it.<br>                                                                                                                                                                                                                                                                                            </td><td>other             </td><td>Personal                             </td><td>972xx     </td><td>OR          </td><td style=\"text-align: right;\">17.94</td><td style=\"text-align: right;\">            0</td><td>1996-01-01 00:00:00</td><td style=\"text-align: right;\">               0</td><td>38                      </td><td>                        </td><td style=\"text-align: right;\">        15</td><td style=\"text-align: right;\">        0</td><td style=\"text-align: right;\">      27783</td><td>53.9%       </td><td style=\"text-align: right;\">         38</td><td>f                    </td><td style=\"text-align: right;\">    1168.04</td><td style=\"text-align: right;\">        1168.04</td><td style=\"text-align: right;\">      2767.64</td><td style=\"text-align: right;\">          2767.64</td><td style=\"text-align: right;\">          1831.96</td><td style=\"text-align: right;\">         935.68</td><td style=\"text-align: right;\">                0   </td><td style=\"text-align: right;\">        0   </td><td style=\"text-align: right;\">                     0   </td><td>2015-06-01 00:00:00</td><td style=\"text-align: right;\">            67.79</td><td>2015-07-01 00:00:00</td><td>2015-06-01 00:00:00 </td><td style=\"text-align: right;\">                           0</td><td>                             </td><td style=\"text-align: right;\">            1</td></tr>\n",
       "<tr><td style=\"text-align: right;\">1.07527e+06</td><td style=\"text-align: right;\">1.31144e+06</td><td style=\"text-align: right;\">       5000</td><td style=\"text-align: right;\">         5000</td><td style=\"text-align: right;\">             5000</td><td>36 months</td><td>7.90%     </td><td style=\"text-align: right;\">       156.46</td><td>A      </td><td>A4         </td><td>Veolia Transportaton     </td><td>3 years     </td><td>RENT            </td><td style=\"text-align: right;\">       36000</td><td>VERIFIED - income source</td><td>2011-12-01 00:00:00</td><td>Fully Paid   </td><td>n           </td><td>https://www.lendingclub.com/browse/loanDetail.action?loan_id=1075269</td><td>                                                                                                                                                                                                                                                                                                                                                                                                                                                                                                                                                                                                            </td><td>wedding           </td><td>My wedding loan I promise to pay back</td><td>852xx     </td><td>AZ          </td><td style=\"text-align: right;\">11.2 </td><td style=\"text-align: right;\">            0</td><td>2004-11-01 00:00:00</td><td style=\"text-align: right;\">               3</td><td>                        </td><td>                        </td><td style=\"text-align: right;\">         9</td><td style=\"text-align: right;\">        0</td><td style=\"text-align: right;\">       7963</td><td>28.3%       </td><td style=\"text-align: right;\">         12</td><td>f                    </td><td style=\"text-align: right;\">       0   </td><td style=\"text-align: right;\">           0   </td><td style=\"text-align: right;\">      5631.38</td><td style=\"text-align: right;\">          5631.38</td><td style=\"text-align: right;\">          5000   </td><td style=\"text-align: right;\">         631.38</td><td style=\"text-align: right;\">                0   </td><td style=\"text-align: right;\">        0   </td><td style=\"text-align: right;\">                     0   </td><td>2015-01-01 00:00:00</td><td style=\"text-align: right;\">           161.03</td><td>                   </td><td>2015-06-01 00:00:00 </td><td style=\"text-align: right;\">                           0</td><td>                             </td><td style=\"text-align: right;\">            1</td></tr>\n",
       "<tr><td style=\"text-align: right;\">1.06964e+06</td><td style=\"text-align: right;\">1.30474e+06</td><td style=\"text-align: right;\">       7000</td><td style=\"text-align: right;\">         7000</td><td style=\"text-align: right;\">             7000</td><td>60 months</td><td>15.96%    </td><td style=\"text-align: right;\">       170.08</td><td>C      </td><td>C5         </td><td>Southern Star Photography</td><td>8 years     </td><td>RENT            </td><td style=\"text-align: right;\">       47004</td><td>not verified            </td><td>2011-12-01 00:00:00</td><td>Current      </td><td>n           </td><td>https://www.lendingclub.com/browse/loanDetail.action?loan_id=1069639</td><td>Borrower added on 12/18/11 > I am planning on using the funds to pay off two retail credit cards with 24.99% interest rates, as well as a major bank credit card with a 18.99% rate.  I pay all my bills on time, looking for a lower combined payment and lower monthly payment.<br>                                                                                                                                                                                                                                                                                                                       </td><td>debt_consolidation</td><td>Loan                                 </td><td>280xx     </td><td>NC          </td><td style=\"text-align: right;\">23.51</td><td style=\"text-align: right;\">            0</td><td>2005-07-01 00:00:00</td><td style=\"text-align: right;\">               1</td><td>                        </td><td>                        </td><td style=\"text-align: right;\">         7</td><td style=\"text-align: right;\">        0</td><td style=\"text-align: right;\">      17726</td><td>85.6%       </td><td style=\"text-align: right;\">         11</td><td>f                    </td><td style=\"text-align: right;\">    2853.21</td><td style=\"text-align: right;\">        2853.21</td><td style=\"text-align: right;\">      6946.28</td><td style=\"text-align: right;\">          6946.28</td><td style=\"text-align: right;\">          4146.8 </td><td style=\"text-align: right;\">        2799.48</td><td style=\"text-align: right;\">                0   </td><td style=\"text-align: right;\">        0   </td><td style=\"text-align: right;\">                     0   </td><td>2015-06-01 00:00:00</td><td style=\"text-align: right;\">           170.08</td><td>2015-08-01 00:00:00</td><td>2015-06-01 00:00:00 </td><td style=\"text-align: right;\">                           0</td><td>                             </td><td style=\"text-align: right;\">            1</td></tr>\n",
       "<tr><td style=\"text-align: right;\">1.07205e+06</td><td style=\"text-align: right;\">1.28869e+06</td><td style=\"text-align: right;\">       3000</td><td style=\"text-align: right;\">         3000</td><td style=\"text-align: right;\">             3000</td><td>36 months</td><td>18.64%    </td><td style=\"text-align: right;\">       109.43</td><td>E      </td><td>E1         </td><td>MKC Accounting           </td><td>9 years     </td><td>RENT            </td><td style=\"text-align: right;\">       48000</td><td>VERIFIED - income source</td><td>2011-12-01 00:00:00</td><td>Fully Paid   </td><td>n           </td><td>https://www.lendingclub.com/browse/loanDetail.action?loan_id=1072053</td><td>Borrower added on 12/16/11 > Downpayment for a car.<br>                                                                                                                                                                                                                                                                                                                                                                                                                                                                                                                                                     </td><td>car               </td><td>Car Downpayment                      </td><td>900xx     </td><td>CA          </td><td style=\"text-align: right;\"> 5.35</td><td style=\"text-align: right;\">            0</td><td>2007-01-01 00:00:00</td><td style=\"text-align: right;\">               2</td><td>                        </td><td>                        </td><td style=\"text-align: right;\">         4</td><td style=\"text-align: right;\">        0</td><td style=\"text-align: right;\">       8221</td><td>87.5%       </td><td style=\"text-align: right;\">          4</td><td>f                    </td><td style=\"text-align: right;\">       0   </td><td style=\"text-align: right;\">           0   </td><td style=\"text-align: right;\">      3938.14</td><td style=\"text-align: right;\">          3938.14</td><td style=\"text-align: right;\">          3000   </td><td style=\"text-align: right;\">         938.14</td><td style=\"text-align: right;\">                0   </td><td style=\"text-align: right;\">        0   </td><td style=\"text-align: right;\">                     0   </td><td>2015-01-01 00:00:00</td><td style=\"text-align: right;\">           111.34</td><td>                   </td><td>2014-12-01 00:00:00 </td><td style=\"text-align: right;\">                           0</td><td>                             </td><td style=\"text-align: right;\">            1</td></tr>\n",
       "<tr><td style=\"text-align: right;\">1.0718e+06 </td><td style=\"text-align: right;\">1.30696e+06</td><td style=\"text-align: right;\">       5600</td><td style=\"text-align: right;\">         5600</td><td style=\"text-align: right;\">             5600</td><td>60 months</td><td>21.28%    </td><td style=\"text-align: right;\">       152.39</td><td>F      </td><td>F2         </td><td>                         </td><td>4 years     </td><td>OWN             </td><td style=\"text-align: right;\">       40000</td><td>VERIFIED - income source</td><td>2011-12-01 00:00:00</td><td>Charged Off  </td><td>n           </td><td>https://www.lendingclub.com/browse/loanDetail.action?loan_id=1071795</td><td>Borrower added on 12/21/11 > I own a small home-based judgment collection business. I have 5 years experience collecting debts. I am now going from a home office to a small office. I also plan to buy a small debt portfolio (eg. $10K for $1M of debt) <br>My score is not A+ because I own my home and have no mortgage.<br>                                                                                                                                                                                                                                                                            </td><td>small_business    </td><td>Expand Business & Buy Debt Portfolio </td><td>958xx     </td><td>CA          </td><td style=\"text-align: right;\"> 5.55</td><td style=\"text-align: right;\">            0</td><td>2004-04-01 00:00:00</td><td style=\"text-align: right;\">               2</td><td>                        </td><td>                        </td><td style=\"text-align: right;\">        11</td><td style=\"text-align: right;\">        0</td><td style=\"text-align: right;\">       5210</td><td>32.6%       </td><td style=\"text-align: right;\">         13</td><td>f                    </td><td style=\"text-align: right;\">       0   </td><td style=\"text-align: right;\">           0   </td><td style=\"text-align: right;\">       646.02</td><td style=\"text-align: right;\">           646.02</td><td style=\"text-align: right;\">           162.02</td><td style=\"text-align: right;\">         294.94</td><td style=\"text-align: right;\">                0   </td><td style=\"text-align: right;\">      189.06</td><td style=\"text-align: right;\">                     2.09</td><td>2012-04-01 00:00:00</td><td style=\"text-align: right;\">           152.39</td><td>                   </td><td>2012-08-01 00:00:00 </td><td style=\"text-align: right;\">                           0</td><td>                             </td><td style=\"text-align: right;\">            1</td></tr>\n",
       "<tr><td style=\"text-align: right;\">1.07157e+06</td><td style=\"text-align: right;\">1.30672e+06</td><td style=\"text-align: right;\">       5375</td><td style=\"text-align: right;\">         5375</td><td style=\"text-align: right;\">             5350</td><td>60 months</td><td>12.69%    </td><td style=\"text-align: right;\">       121.45</td><td>B      </td><td>B5         </td><td>Starbucks                </td><td>< 1 year    </td><td>RENT            </td><td style=\"text-align: right;\">       15000</td><td>VERIFIED - income       </td><td>2011-12-01 00:00:00</td><td>Charged Off  </td><td>n           </td><td>https://www.lendingclub.com/browse/loanDetail.action?loan_id=1071570</td><td>Borrower added on 12/16/11 > I'm trying to build up my credit history. I live with my brother and have no car payment or credit cards. I am in community college and work full time. Im going to use the money to make some repairs around the house and get some maintenance done on my car.<br><br>  Borrower added on 12/20/11 > $1000 down only $4375 to go. Thanks to everyone that invested so far, looking forward to surprising my brother with the fixes around the house.<br>                                                                                                                     </td><td>other             </td><td>Building my credit history.          </td><td>774xx     </td><td>TX          </td><td style=\"text-align: right;\">18.08</td><td style=\"text-align: right;\">            0</td><td>2004-09-01 00:00:00</td><td style=\"text-align: right;\">               0</td><td>                        </td><td>                        </td><td style=\"text-align: right;\">         2</td><td style=\"text-align: right;\">        0</td><td style=\"text-align: right;\">       9279</td><td>36.5%       </td><td style=\"text-align: right;\">          3</td><td>f                    </td><td style=\"text-align: right;\">       0   </td><td style=\"text-align: right;\">           0   </td><td style=\"text-align: right;\">      1476.19</td><td style=\"text-align: right;\">          1469.34</td><td style=\"text-align: right;\">           673.48</td><td style=\"text-align: right;\">         533.42</td><td style=\"text-align: right;\">                0   </td><td style=\"text-align: right;\">      269.29</td><td style=\"text-align: right;\">                     2.52</td><td>2012-11-01 00:00:00</td><td style=\"text-align: right;\">           121.45</td><td>                   </td><td>2013-03-01 00:00:00 </td><td style=\"text-align: right;\">                           0</td><td>                             </td><td style=\"text-align: right;\">            1</td></tr>\n",
       "</tbody>\n",
       "</table>"
      ]
     },
     "metadata": {},
     "output_type": "display_data"
    },
    {
     "data": {
      "text/plain": []
     },
     "execution_count": 22,
     "metadata": {},
     "output_type": "execute_result"
    }
   ],
   "source": [
    "loans.head()"
   ]
  },
  {
   "cell_type": "markdown",
   "metadata": {},
   "source": [
    "------\n",
    "\n",
    ">## Editorial comment: Data preparation for modeling\n",
    ">\n",
    ">In this tutorial, we either omit or rush through some steps that a modeler normally would spend a considerable amount of time on. For example, we completely skip exploratory data analysis used in conjunction with modeling. Additionally, the process of **defining the problem** is often iterative and takes a lot of thought and effort. \n",
    ">\n",
    ">In reality, the majority of a modeler's time is spent on problem definition and data cleaning/wrangling/munging. Our speed at going through these steps to demonstrate the use of H2O-3 in no way minimizes the importance of careful and thoughtful data preparation for model building.\n",
    "\n",
    "-----\n"
   ]
  },
  {
   "cell_type": "markdown",
   "metadata": {},
   "source": [
    "# Step 3 (of 10).  Clean data\n",
    "\n",
    "\n",
    "## Part 1. Defining the problem and creating the response variable\n",
    "\n",
    "The total number of loans in our data is"
   ]
  },
  {
   "cell_type": "code",
   "execution_count": 23,
   "metadata": {},
   "outputs": [
    {
     "data": {
      "text/plain": [
       "42536"
      ]
     },
     "execution_count": 23,
     "metadata": {},
     "output_type": "execute_result"
    }
   ],
   "source": [
    "num_unfiltered_loans = loans.dim[0]\n",
    "num_unfiltered_loans"
   ]
  },
  {
   "cell_type": "markdown",
   "metadata": {},
   "source": [
    "Because we are interested in loan default, we need to look at the `loan_status` column."
   ]
  },
  {
   "cell_type": "code",
   "execution_count": 24,
   "metadata": {},
   "outputs": [
    {
     "data": {
      "text/html": [
       "<table>\n",
       "<thead>\n",
       "<tr><th>loan_status                                             </th><th style=\"text-align: right;\">  Count</th></tr>\n",
       "</thead>\n",
       "<tbody>\n",
       "<tr><td>Charged Off                                             </td><td style=\"text-align: right;\">   5435</td></tr>\n",
       "<tr><td>Current                                                 </td><td style=\"text-align: right;\">   3351</td></tr>\n",
       "<tr><td>Default                                                 </td><td style=\"text-align: right;\">      7</td></tr>\n",
       "<tr><td>Does not meet the credit policy.  Status:Charged Off    </td><td style=\"text-align: right;\">    761</td></tr>\n",
       "<tr><td>Does not meet the credit policy.  Status:Current        </td><td style=\"text-align: right;\">     53</td></tr>\n",
       "<tr><td>Does not meet the credit policy.  Status:Fully Paid     </td><td style=\"text-align: right;\">   1933</td></tr>\n",
       "<tr><td>Does not meet the credit policy.  Status:In Grace Period</td><td style=\"text-align: right;\">      2</td></tr>\n",
       "<tr><td>Fully Paid                                              </td><td style=\"text-align: right;\">  30843</td></tr>\n",
       "<tr><td>In Grace Period                                         </td><td style=\"text-align: right;\">     60</td></tr>\n",
       "<tr><td>Late (16-30 days)                                       </td><td style=\"text-align: right;\">     16</td></tr>\n",
       "<tr><td>Late (31-120 days)                                      </td><td style=\"text-align: right;\">     74</td></tr>\n",
       "</tbody>\n",
       "</table>"
      ]
     },
     "metadata": {},
     "output_type": "display_data"
    },
    {
     "data": {
      "text/plain": []
     },
     "execution_count": 24,
     "metadata": {},
     "output_type": "execute_result"
    }
   ],
   "source": [
    "loans[\"loan_status\"].table().head(20)"
   ]
  },
  {
   "cell_type": "markdown",
   "metadata": {},
   "source": [
    "Like many real data sources, `loan_status` is messy and contains multiple (somewhat overlapping) categories. Before modeling, we will need to clean this up by (1) removing loans that are still ongoing, and (2) simplifying the response column.\n",
    "\n",
    "### (1) Filter Loans\n",
    "\n",
    "In order to build a valid model, we have to remove loans that are not yet completely \"good\" or \"bad\". These ongoing loans have `loan_status` like \"Current\" and \"In Grace Period\"."
   ]
  },
  {
   "cell_type": "code",
   "execution_count": 25,
   "metadata": {},
   "outputs": [],
   "source": [
    "ongoing_status = [\"Current\",\n",
    "                  \"In Grace Period\",\n",
    "                  \"Late (16-30 days)\",\n",
    "                  \"Late (31-120 days)\",\n",
    "                  \"Does not meet the credit policy.  Status:Current\",\n",
    "                  \"Does not meet the credit policy.  Status:In Grace Period\"\n",
    "                 ]\n",
    "loans = loans[~loans[\"loan_status\"].isin(ongoing_status)]"
   ]
  },
  {
   "cell_type": "markdown",
   "metadata": {},
   "source": [
    "After filtering out ongoing loans, we now have"
   ]
  },
  {
   "cell_type": "code",
   "execution_count": 26,
   "metadata": {},
   "outputs": [
    {
     "data": {
      "text/plain": [
       "38980"
      ]
     },
     "execution_count": 26,
     "metadata": {},
     "output_type": "execute_result"
    }
   ],
   "source": [
    "num_filtered_loans = loans.dim[0]\n",
    "num_filtered_loans"
   ]
  },
  {
   "cell_type": "markdown",
   "metadata": {},
   "source": [
    "loans whose final state is known, which means we filtered out"
   ]
  },
  {
   "cell_type": "code",
   "execution_count": 27,
   "metadata": {},
   "outputs": [
    {
     "data": {
      "text/plain": [
       "3556"
      ]
     },
     "execution_count": 27,
     "metadata": {},
     "output_type": "execute_result"
    }
   ],
   "source": [
    "num_loans_filtered_out = num_unfiltered_loans - num_filtered_loans\n",
    "num_loans_filtered_out"
   ]
  },
  {
   "cell_type": "markdown",
   "metadata": {},
   "source": [
    "loans. \n",
    "\n",
    "These loans are now summarized by `loan_status` as"
   ]
  },
  {
   "cell_type": "code",
   "execution_count": 28,
   "metadata": {},
   "outputs": [
    {
     "data": {
      "text/html": [
       "<table>\n",
       "<thead>\n",
       "<tr><th>loan_status                                         </th><th style=\"text-align: right;\">  Count</th></tr>\n",
       "</thead>\n",
       "<tbody>\n",
       "<tr><td>Charged Off                                         </td><td style=\"text-align: right;\">   5435</td></tr>\n",
       "<tr><td>Default                                             </td><td style=\"text-align: right;\">      7</td></tr>\n",
       "<tr><td>Does not meet the credit policy.  Status:Charged Off</td><td style=\"text-align: right;\">    761</td></tr>\n",
       "<tr><td>Does not meet the credit policy.  Status:Fully Paid </td><td style=\"text-align: right;\">   1933</td></tr>\n",
       "<tr><td>Fully Paid                                          </td><td style=\"text-align: right;\">  30843</td></tr>\n",
       "</tbody>\n",
       "</table>"
      ]
     },
     "metadata": {},
     "output_type": "display_data"
    },
    {
     "data": {
      "text/plain": []
     },
     "execution_count": 28,
     "metadata": {},
     "output_type": "execute_result"
    }
   ],
   "source": [
    "loans[\"loan_status\"].table().head(20)"
   ]
  },
  {
   "cell_type": "markdown",
   "metadata": {},
   "source": [
    "### (2) Create Response Column\n",
    "\n",
    "Let's name our response column `bad_loan`, which will be equal to one if the loan was not completely paid off."
   ]
  },
  {
   "cell_type": "code",
   "execution_count": 29,
   "metadata": {},
   "outputs": [],
   "source": [
    "fully_paid = [\"Fully Paid\",\n",
    "              \"Does not meet the credit policy.  Status:Fully Paid\"\n",
    "             ]\n",
    "loans[\"bad_loan\"] = ~(loans[\"loan_status\"].isin(fully_paid))"
   ]
  },
  {
   "cell_type": "markdown",
   "metadata": {},
   "source": [
    "Make the `bad_loan` column a factor so we can build a classification model,"
   ]
  },
  {
   "cell_type": "code",
   "execution_count": 30,
   "metadata": {},
   "outputs": [],
   "source": [
    "loans[\"bad_loan\"] = loans[\"bad_loan\"].asfactor()"
   ]
  },
  {
   "cell_type": "markdown",
   "metadata": {},
   "source": [
    "The percentage of bad loans is given by"
   ]
  },
  {
   "cell_type": "code",
   "execution_count": 31,
   "metadata": {},
   "outputs": [
    {
     "data": {
      "text/html": [
       "<table>\n",
       "<thead>\n",
       "<tr><th style=\"text-align: right;\">  bad_loan</th><th style=\"text-align: right;\">  Count</th><th style=\"text-align: right;\">  Percentage</th></tr>\n",
       "</thead>\n",
       "<tbody>\n",
       "<tr><td style=\"text-align: right;\">         0</td><td style=\"text-align: right;\">  32776</td><td style=\"text-align: right;\">          84</td></tr>\n",
       "<tr><td style=\"text-align: right;\">         1</td><td style=\"text-align: right;\">   6204</td><td style=\"text-align: right;\">          16</td></tr>\n",
       "</tbody>\n",
       "</table>"
      ]
     },
     "metadata": {},
     "output_type": "display_data"
    },
    {
     "data": {
      "text/plain": []
     },
     "execution_count": 31,
     "metadata": {},
     "output_type": "execute_result"
    }
   ],
   "source": [
    "bad_loan_dist = loans[\"bad_loan\"].table()\n",
    "bad_loan_dist[\"Percentage\"] = (100 * bad_loan_dist[\"Count\"] / loans.nrow).round()\n",
    "bad_loan_dist"
   ]
  },
  {
   "cell_type": "markdown",
   "metadata": {},
   "source": [
    "## Part 2. Convert strings to numeric\n",
    "\n",
    "Consider the data columns `int_rate`, `revol_util`, and `emp_length`:"
   ]
  },
  {
   "cell_type": "code",
   "execution_count": 32,
   "metadata": {},
   "outputs": [
    {
     "data": {
      "text/html": [
       "<table>\n",
       "<thead>\n",
       "<tr><th>int_rate  </th><th>revol_util  </th><th>emp_length  </th></tr>\n",
       "</thead>\n",
       "<tbody>\n",
       "<tr><td>10.65%    </td><td>83.7%       </td><td>10+ years   </td></tr>\n",
       "<tr><td>15.27%    </td><td>9.4%        </td><td>< 1 year    </td></tr>\n",
       "<tr><td>15.96%    </td><td>98.5%       </td><td>10+ years   </td></tr>\n",
       "<tr><td>13.49%    </td><td>21%         </td><td>10+ years   </td></tr>\n",
       "<tr><td>7.90%     </td><td>28.3%       </td><td>3 years     </td></tr>\n",
       "<tr><td>18.64%    </td><td>87.5%       </td><td>9 years     </td></tr>\n",
       "<tr><td>21.28%    </td><td>32.6%       </td><td>4 years     </td></tr>\n",
       "<tr><td>12.69%    </td><td>36.5%       </td><td>< 1 year    </td></tr>\n",
       "<tr><td>14.65%    </td><td>20.6%       </td><td>5 years     </td></tr>\n",
       "<tr><td>12.69%    </td><td>67.1%       </td><td>10+ years   </td></tr>\n",
       "</tbody>\n",
       "</table>"
      ]
     },
     "metadata": {},
     "output_type": "display_data"
    },
    {
     "data": {
      "text/plain": []
     },
     "execution_count": 32,
     "metadata": {},
     "output_type": "execute_result"
    }
   ],
   "source": [
    "loans[[\"int_rate\", \"revol_util\", \"emp_length\"]].head()"
   ]
  },
  {
   "cell_type": "markdown",
   "metadata": {},
   "source": [
    "Both `int_rate` and `revol_util` are inherently numeric but entered as percentages. Since they include a \"%\" sign, they are read in as strings. The solution for both of these columns is simple: strip the \"%\" sign and convert the strings to numeric.\n",
    "\n",
    "The `emp_length` column is only slightly more complex. Besides removing the \"year\" or \"years\" word, we have to deal with `< 1` and `10+`, which aren't directly numeric. If we define `< 1` as 0 and `10+` as 10, then `emp_length` can also be cast as numeric.\n",
    "\n",
    "We demonstrate the steps for converting these string variables into numeric values below.\n",
    "\n",
    "### Convert `int_rate`"
   ]
  },
  {
   "cell_type": "code",
   "execution_count": 33,
   "metadata": {},
   "outputs": [],
   "source": [
    "loans[\"int_rate\"] = loans[\"int_rate\"].gsub(pattern = \"%\", replacement = \"\") # strip %\n",
    "loans[\"int_rate\"] = loans[\"int_rate\"].trim() # trim whitespace\n",
    "loans[\"int_rate\"] = loans[\"int_rate\"].asnumeric() # change to numeric "
   ]
  },
  {
   "cell_type": "markdown",
   "metadata": {},
   "source": [
    "### Convert `revol_util`"
   ]
  },
  {
   "cell_type": "code",
   "execution_count": 35,
   "metadata": {},
   "outputs": [],
   "source": [
    "loans[\"revol_util\"] = loans[\"revol_util\"].gsub(pattern=\"%\", replacement=\"\") # strip %\n",
    "loans[\"revol_util\"] = loans[\"revol_util\"].trim() # trim whitespace\n",
    "loans[\"revol_util\"] = loans[\"revol_util\"].asnumeric() # change to numeric "
   ]
  },
  {
   "cell_type": "markdown",
   "metadata": {},
   "source": [
    "### Convert `emp_length`"
   ]
  },
  {
   "cell_type": "code",
   "execution_count": 36,
   "metadata": {},
   "outputs": [],
   "source": [
    "# Use gsub to remove \" year\" and \" years\"; also translate n/a to \"\" \n",
    "loans[\"emp_length\"] = loans[\"emp_length\"].gsub(pattern=\"([ ]*+[a-zA-Z].*)|(n/a)\", replacement=\"\") \n",
    "loans[\"emp_length\"] = loans[\"emp_length\"].trim() # trim whitespace\n",
    "\n",
    "loans[\"emp_length\"] = loans[\"emp_length\"].gsub(pattern=\"< 1\", replacement=\"0\") # convert \"< 1\" to 0\n",
    "loans[\"emp_length\"] = loans[\"emp_length\"].gsub(pattern=\"10\\\\+\", replacement=\"10\") # convert \"10+\" to 10\n",
    "loans[\"emp_length\"] = loans[\"emp_length\"].asnumeric() # trim whitespace"
   ]
  },
  {
   "cell_type": "markdown",
   "metadata": {},
   "source": [
    "The converted results for the three former string variables are"
   ]
  },
  {
   "cell_type": "code",
   "execution_count": 37,
   "metadata": {},
   "outputs": [
    {
     "data": {
      "text/html": [
       "<table>\n",
       "<thead>\n",
       "<tr><th style=\"text-align: right;\">  int_rate</th><th style=\"text-align: right;\">  revol_util</th><th style=\"text-align: right;\">  emp_length</th></tr>\n",
       "</thead>\n",
       "<tbody>\n",
       "<tr><td style=\"text-align: right;\">     10.65</td><td style=\"text-align: right;\">        83.7</td><td style=\"text-align: right;\">          10</td></tr>\n",
       "<tr><td style=\"text-align: right;\">     15.27</td><td style=\"text-align: right;\">         9.4</td><td style=\"text-align: right;\">           0</td></tr>\n",
       "<tr><td style=\"text-align: right;\">     15.96</td><td style=\"text-align: right;\">        98.5</td><td style=\"text-align: right;\">          10</td></tr>\n",
       "<tr><td style=\"text-align: right;\">     13.49</td><td style=\"text-align: right;\">        21  </td><td style=\"text-align: right;\">          10</td></tr>\n",
       "<tr><td style=\"text-align: right;\">      7.9 </td><td style=\"text-align: right;\">        28.3</td><td style=\"text-align: right;\">           3</td></tr>\n",
       "<tr><td style=\"text-align: right;\">     18.64</td><td style=\"text-align: right;\">        87.5</td><td style=\"text-align: right;\">           9</td></tr>\n",
       "<tr><td style=\"text-align: right;\">     21.28</td><td style=\"text-align: right;\">        32.6</td><td style=\"text-align: right;\">           4</td></tr>\n",
       "<tr><td style=\"text-align: right;\">     12.69</td><td style=\"text-align: right;\">        36.5</td><td style=\"text-align: right;\">           0</td></tr>\n",
       "<tr><td style=\"text-align: right;\">     14.65</td><td style=\"text-align: right;\">        20.6</td><td style=\"text-align: right;\">           5</td></tr>\n",
       "<tr><td style=\"text-align: right;\">     12.69</td><td style=\"text-align: right;\">        67.1</td><td style=\"text-align: right;\">          10</td></tr>\n",
       "</tbody>\n",
       "</table>"
      ]
     },
     "metadata": {},
     "output_type": "display_data"
    },
    {
     "data": {
      "text/plain": []
     },
     "execution_count": 37,
     "metadata": {},
     "output_type": "execute_result"
    }
   ],
   "source": [
    "loans[[\"int_rate\", \"revol_util\", \"emp_length\"]].head()"
   ]
  },
  {
   "cell_type": "markdown",
   "metadata": {},
   "source": [
    "### Note: Interest rate distributions\n",
    "\n",
    "Now that we have converted interest rate to numeric, we can use the `hist` function to compare the interest rate distributions for good and bad loans."
   ]
  },
  {
   "cell_type": "code",
   "execution_count": 41,
   "metadata": {},
   "outputs": [
    {
     "name": "stdout",
     "output_type": "stream",
     "text": [
      "Bad Loans\n"
     ]
    },
    {
     "data": {
      "image/png": "[encoded data removed]",
      "text/plain": [
       "<Figure size 432x288 with 1 Axes>"
      ]
     },
     "metadata": {
      "needs_background": "light"
     },
     "output_type": "display_data"
    },
    {
     "name": "stdout",
     "output_type": "stream",
     "text": [
      "Good Loans\n"
     ]
    },
    {
     "data": {
      "image/png": "[encoded data removed]",
      "text/plain": [
       "<Figure size 432x288 with 1 Axes>"
      ]
     },
     "metadata": {
      "needs_background": "light"
     },
     "output_type": "display_data"
    }
   ],
   "source": [
    "%matplotlib inline\n",
    "\n",
    "print(\"Bad Loans\")\n",
    "loans[loans[\"bad_loan\"] == \"1\", \"int_rate\"].hist()\n",
    "\n",
    "print(\"Good Loans\")\n",
    "loans[loans[\"bad_loan\"] == \"0\", \"int_rate\"].hist()"
   ]
  },
  {
   "cell_type": "markdown",
   "metadata": {},
   "source": [
    "As expected, the bad loan distribution contains a higher proportion of high interest rates than the distribution for good loans. Likewise, the good loan distribution contains a higher proportion of low interest rates than that for bad loans. It is a truism to say that interest rate should be a good predictor of default.\n",
    "\n",
    ">Financial institutions typically determine a loan's interest rate based largely on risk and customer demand. If the underwriting rules are any good at all, then we would expect that interest rate would be a strong predictor of default. In fact, we should be surprised if `int_rate` is not one of the top two or three variables in our model regardless of algorithm."
   ]
  },
  {
   "cell_type": "markdown",
   "metadata": {},
   "source": [
    "## Part 3. Clean up messy categorical columns\n",
    "\n",
    "Much as we did with the `loan_status` column to create our response variable, the `verification_status` column needs cleaning"
   ]
  },
  {
   "cell_type": "code",
   "execution_count": 65,
   "metadata": {},
   "outputs": [
    {
     "data": {
      "text/html": [
       "<table>\n",
       "<thead>\n",
       "<tr><th>verification_status  </th></tr>\n",
       "</thead>\n",
       "<tbody>\n",
       "<tr><td>verified             </td></tr>\n",
       "<tr><td>verified             </td></tr>\n",
       "<tr><td>not verified         </td></tr>\n",
       "<tr><td>verified             </td></tr>\n",
       "<tr><td>verified             </td></tr>\n",
       "<tr><td>verified             </td></tr>\n",
       "<tr><td>verified             </td></tr>\n",
       "<tr><td>verified             </td></tr>\n",
       "<tr><td>not verified         </td></tr>\n",
       "<tr><td>verified             </td></tr>\n",
       "</tbody>\n",
       "</table>"
      ]
     },
     "metadata": {},
     "output_type": "display_data"
    },
    {
     "data": {
      "text/plain": []
     },
     "execution_count": 65,
     "metadata": {},
     "output_type": "execute_result"
    }
   ],
   "source": [
    "loans[\"verification_status\"].head()"
   ]
  },
  {
   "cell_type": "markdown",
   "metadata": {},
   "source": [
    "Note that there are multiple values that mean verified: `VERIFIED - income` and `VERIFIED - income source`.  We will replace these values with `verified`,"
   ]
  },
  {
   "cell_type": "code",
   "execution_count": 66,
   "metadata": {},
   "outputs": [],
   "source": [
    "loans[\"verification_status\"] = loans[\"verification_status\"].sub(pattern=\"VERIFIED - income source\", \n",
    "                                                                replacement=\"verified\")\n",
    "loans[\"verification_status\"] = loans[\"verification_status\"].sub(pattern=\"VERIFIED - income\", \n",
    "                                                                replacement=\"verified\")\n",
    "loans[\"verification_status\"] = loans[\"verification_status\"].asfactor()"
   ]
  },
  {
   "cell_type": "markdown",
   "metadata": {},
   "source": [
    "resulting in"
   ]
  },
  {
   "cell_type": "code",
   "execution_count": 67,
   "metadata": {
    "scrolled": true
   },
   "outputs": [
    {
     "data": {
      "text/html": [
       "<table>\n",
       "<thead>\n",
       "<tr><th>verification_status  </th><th style=\"text-align: right;\">  Count</th></tr>\n",
       "</thead>\n",
       "<tbody>\n",
       "<tr><td>not verified         </td><td style=\"text-align: right;\">  17947</td></tr>\n",
       "<tr><td>verified             </td><td style=\"text-align: right;\">  21032</td></tr>\n",
       "</tbody>\n",
       "</table>"
      ]
     },
     "metadata": {},
     "output_type": "display_data"
    },
    {
     "data": {
      "text/plain": []
     },
     "execution_count": 67,
     "metadata": {},
     "output_type": "execute_result"
    }
   ],
   "source": [
    "loans[\"verification_status\"].table()"
   ]
  },
  {
   "cell_type": "markdown",
   "metadata": {},
   "source": [
    "# ^^^^^ --DONE TO HERE-- ^^^^^"
   ]
  },
  {
   "cell_type": "markdown",
   "metadata": {},
   "source": [
    "# Step 4 (of 10).  Feature engineering\n",
    "\n",
    "Now that we have cleaned our data, we can add some new columns to our dataset that may help improve the performance of our supervised learning models.\n",
    "\n",
    "The new columns we will create are: \n",
    "* `credit_length`: the time from their earliest credit line to when they were issued the loan\n",
    "* `issue_d_year` and `issue_d_month`: extract year and month from the issue date\n",
    "* word embeddings from the loan description\n",
    "\n",
    "### Credit Length\n",
    "\n",
    "We can extract the credit length by subtracting the year they had their earliest credit line from the year when they issued the loan."
   ]
  },
  {
   "cell_type": "code",
   "execution_count": 45,
   "metadata": {},
   "outputs": [
    {
     "data": {
      "text/html": [
       "<table>\n",
       "<thead>\n",
       "<tr><th style=\"text-align: right;\">  credit_length</th></tr>\n",
       "</thead>\n",
       "<tbody>\n",
       "<tr><td style=\"text-align: right;\">             26</td></tr>\n",
       "<tr><td style=\"text-align: right;\">             12</td></tr>\n",
       "<tr><td style=\"text-align: right;\">             10</td></tr>\n",
       "<tr><td style=\"text-align: right;\">             15</td></tr>\n",
       "<tr><td style=\"text-align: right;\">              7</td></tr>\n",
       "<tr><td style=\"text-align: right;\">              4</td></tr>\n",
       "<tr><td style=\"text-align: right;\">              7</td></tr>\n",
       "<tr><td style=\"text-align: right;\">              7</td></tr>\n",
       "<tr><td style=\"text-align: right;\">             13</td></tr>\n",
       "<tr><td style=\"text-align: right;\">             22</td></tr>\n",
       "</tbody>\n",
       "</table>"
      ]
     },
     "metadata": {},
     "output_type": "display_data"
    },
    {
     "data": {
      "text/plain": []
     },
     "execution_count": 45,
     "metadata": {},
     "output_type": "execute_result"
    }
   ],
   "source": [
    "loans[\"credit_length\"] = loans[\"issue_d\"].year() - loans[\"earliest_cr_line\"].year()\n",
    "loans[\"credit_length\"].head()"
   ]
  },
  {
   "cell_type": "markdown",
   "metadata": {},
   "source": [
    "### Issue Date Expansion\n",
    "\n",
    "We can extract the year and month from the issue date.  We may find that the month or the year when the loan was issued can impact the probability of a bad loan."
   ]
  },
  {
   "cell_type": "code",
   "execution_count": 46,
   "metadata": {},
   "outputs": [],
   "source": [
    "loans[\"issue_d_year\"] = loans[\"issue_d\"].year()\n",
    "loans[\"issue_d_month\"] = loans[\"issue_d\"].month().asfactor()  # we will treat month as a enum/factor since its cyclical"
   ]
  },
  {
   "cell_type": "code",
   "execution_count": 47,
   "metadata": {},
   "outputs": [
    {
     "data": {
      "text/html": [
       "<table>\n",
       "<thead>\n",
       "<tr><th style=\"text-align: right;\">  issue_d_year</th><th style=\"text-align: right;\">  issue_d_month</th></tr>\n",
       "</thead>\n",
       "<tbody>\n",
       "<tr><td style=\"text-align: right;\">          2011</td><td style=\"text-align: right;\">             12</td></tr>\n",
       "<tr><td style=\"text-align: right;\">          2011</td><td style=\"text-align: right;\">             12</td></tr>\n",
       "<tr><td style=\"text-align: right;\">          2011</td><td style=\"text-align: right;\">             12</td></tr>\n",
       "<tr><td style=\"text-align: right;\">          2011</td><td style=\"text-align: right;\">             12</td></tr>\n",
       "<tr><td style=\"text-align: right;\">          2011</td><td style=\"text-align: right;\">             12</td></tr>\n",
       "<tr><td style=\"text-align: right;\">          2011</td><td style=\"text-align: right;\">             12</td></tr>\n",
       "<tr><td style=\"text-align: right;\">          2011</td><td style=\"text-align: right;\">             12</td></tr>\n",
       "<tr><td style=\"text-align: right;\">          2011</td><td style=\"text-align: right;\">             12</td></tr>\n",
       "<tr><td style=\"text-align: right;\">          2011</td><td style=\"text-align: right;\">             12</td></tr>\n",
       "<tr><td style=\"text-align: right;\">          2011</td><td style=\"text-align: right;\">             12</td></tr>\n",
       "</tbody>\n",
       "</table>"
      ]
     },
     "metadata": {},
     "output_type": "display_data"
    },
    {
     "data": {
      "text/plain": []
     },
     "execution_count": 47,
     "metadata": {},
     "output_type": "execute_result"
    }
   ],
   "source": [
    "loans[[\"issue_d_year\", \"issue_d_month\"]].head()"
   ]
  },
  {
   "cell_type": "markdown",
   "metadata": {},
   "source": [
    "### Word Embeddings\n",
    "\n",
    "One of the columns in our dataset is a description of why the loan was requested. The first few descriptions in the dataset are shown below."
   ]
  },
  {
   "cell_type": "code",
   "execution_count": 48,
   "metadata": {},
   "outputs": [
    {
     "data": {
      "text/html": [
       "<table>\n",
       "<thead>\n",
       "<tr><th>desc                                                                                                                                                                                                                                                                                                                                                                                                                                                                                                                                                                                                        </th></tr>\n",
       "</thead>\n",
       "<tbody>\n",
       "<tr><td>Borrower added on 12/22/11 > I need to upgrade my business technologies.<br>                                                                                                                                                                                                                                                                                                                                                                                                                                                                                                                                </td></tr>\n",
       "<tr><td>Borrower added on 12/22/11 > I plan to use this money to finance the motorcycle i am looking at. I plan to have it paid off as soon as possible/when i sell my old bike. I only need this money because the deal im looking at is to good to pass up.<br><br>  Borrower added on 12/22/11 > I plan to use this money to finance the motorcycle i am looking at. I plan to have it paid off as soon as possible/when i sell my old bike.I only need this money because the deal im looking at is to good to pass up. I have finished college with an associates degree in business and its takingmeplaces<br></td></tr>\n",
       "<tr><td>                                                                                                                                                                                                                                                                                                                                                                                                                                                                                                                                                                                                            </td></tr>\n",
       "<tr><td>Borrower added on 12/21/11 > to pay for property tax (borrow from friend, need to pay back) & central A/C need to be replace. I'm very sorry to let my loan expired last time.<br>                                                                                                                                                                                                                                                                                                                                                                                                                          </td></tr>\n",
       "<tr><td>                                                                                                                                                                                                                                                                                                                                                                                                                                                                                                                                                                                                            </td></tr>\n",
       "<tr><td>Borrower added on 12/16/11 > Downpayment for a car.<br>                                                                                                                                                                                                                                                                                                                                                                                                                                                                                                                                                     </td></tr>\n",
       "<tr><td>Borrower added on 12/21/11 > I own a small home-based judgment collection business. I have 5 years experience collecting debts. I am now going from a home office to a small office. I also plan to buy a small debt portfolio (eg. $10K for $1M of debt) <br>My score is not A+ because I own my home and have no mortgage.<br>                                                                                                                                                                                                                                                                            </td></tr>\n",
       "<tr><td>Borrower added on 12/16/11 > I'm trying to build up my credit history. I live with my brother and have no car payment or credit cards. I am in community college and work full time. Im going to use the money to make some repairs around the house and get some maintenance done on my car.<br><br>  Borrower added on 12/20/11 > $1000 down only $4375 to go. Thanks to everyone that invested so far, looking forward to surprising my brother with the fixes around the house.<br>                                                                                                                     </td></tr>\n",
       "<tr><td>Borrower added on 12/15/11 > I had recived a loan from Citi Financial about a year ago, I was paying 29.99 intrest, so the refinance is to cut that rate since cleaning up my credit I have been paying everything on time as shown on my credit report<br>                                                                                                                                                                                                                                                                                                                                                 </td></tr>\n",
       "<tr><td>                                                                                                                                                                                                                                                                                                                                                                                                                                                                                                                                                                                                            </td></tr>\n",
       "</tbody>\n",
       "</table>"
      ]
     },
     "metadata": {},
     "output_type": "display_data"
    },
    {
     "data": {
      "text/plain": []
     },
     "execution_count": 48,
     "metadata": {},
     "output_type": "execute_result"
    }
   ],
   "source": [
    "loans[\"desc\"].head()"
   ]
  },
  {
   "cell_type": "markdown",
   "metadata": {},
   "source": [
    "This information may be important to the model but supervised learning algorithms have a hard time understanding text.  Instead we will convert these strings to a numeric vector using the Word2Vec algorithm."
   ]
  },
  {
   "cell_type": "code",
   "execution_count": 49,
   "metadata": {},
   "outputs": [],
   "source": [
    "STOP_WORDS = [\"ax\",\"i\",\"you\",\"edu\",\"s\",\"t\",\"m\",\"subject\",\"can\",\"lines\",\"re\",\"what\",\n",
    "              \"there\",\"all\",\"we\",\"one\",\"the\",\"a\",\"an\",\"of\",\"or\",\"in\",\"for\",\"by\",\"on\",\n",
    "              \"but\",\"is\",\"in\",\"a\",\"not\",\"with\",\"as\",\"was\",\"if\",\"they\",\"are\",\"this\",\"and\",\"it\",\"have\",\n",
    "              \"from\",\"at\",\"my\",\"be\",\"by\",\"not\",\"that\",\"to\",\"from\",\"com\",\"org\",\"like\",\"likes\",\"so\"]"
   ]
  },
  {
   "cell_type": "code",
   "execution_count": 50,
   "metadata": {},
   "outputs": [],
   "source": [
    "def tokenize(sentences, stop_word = STOP_WORDS):\n",
    "    tokenized = sentences.tokenize(\"\\\\W+\")\n",
    "    tokenized_lower = tokenized.tolower()\n",
    "    tokenized_filtered = tokenized_lower[(tokenized_lower.nchar() >= 2) | (tokenized_lower.isna()),:]\n",
    "    tokenized_words = tokenized_filtered[tokenized_filtered.grep(\"[0-9]\",invert=True,output_logical=True),:]\n",
    "    tokenized_words = tokenized_words[(tokenized_words.isna()) | (~ tokenized_words.isin(STOP_WORDS)),:]\n",
    "    return tokenized_words"
   ]
  },
  {
   "cell_type": "code",
   "execution_count": 51,
   "metadata": {},
   "outputs": [],
   "source": [
    "# Break loan description into sequence of words\n",
    "words = tokenize(loans[\"desc\"].ascharacter())"
   ]
  },
  {
   "cell_type": "code",
   "execution_count": 52,
   "metadata": {},
   "outputs": [
    {
     "name": "stdout",
     "output_type": "stream",
     "text": [
      "word2vec Model Build progress: |██████████████████████████████████████████| 100%\n"
     ]
    }
   ],
   "source": [
    "# Train Word2Vec Model\n",
    "from h2o.estimators.word2vec import H2OWord2vecEstimator\n",
    "\n",
    "w2v_model = H2OWord2vecEstimator(vec_size=100, model_id=\"w2v\")\n",
    "w2v_model.train(training_frame=words)"
   ]
  },
  {
   "cell_type": "code",
   "execution_count": 53,
   "metadata": {},
   "outputs": [
    {
     "data": {
      "text/plain": [
       "OrderedDict([('auto', 0.763145387172699),\n",
       "             ('vehicle', 0.7259807586669922),\n",
       "             ('camry', 0.7110589146614075),\n",
       "             ('prius', 0.6838164329528809),\n",
       "             ('lexus', 0.6703235507011414)])"
      ]
     },
     "execution_count": 53,
     "metadata": {},
     "output_type": "execute_result"
    }
   ],
   "source": [
    "# Sanity check - find synonyms for the word 'car'\n",
    "w2v_model.find_synonyms(\"car\", count=5)"
   ]
  },
  {
   "cell_type": "code",
   "execution_count": 54,
   "metadata": {},
   "outputs": [],
   "source": [
    "# Calculate a vector for each description\n",
    "desc_vecs = w2v_model.transform(words, aggregate_method=\"AVERAGE\")"
   ]
  },
  {
   "cell_type": "code",
   "execution_count": 55,
   "metadata": {
    "scrolled": true
   },
   "outputs": [
    {
     "data": {
      "text/html": [
       "<table>\n",
       "<thead>\n",
       "<tr><th style=\"text-align: right;\">         C1</th><th style=\"text-align: right;\">          C2</th><th style=\"text-align: right;\">          C3</th><th style=\"text-align: right;\">         C4</th><th style=\"text-align: right;\">          C5</th><th style=\"text-align: right;\">          C6</th><th style=\"text-align: right;\">         C7</th><th style=\"text-align: right;\">         C8</th><th style=\"text-align: right;\">         C9</th><th style=\"text-align: right;\">        C10</th><th style=\"text-align: right;\">        C11</th><th style=\"text-align: right;\">       C12</th><th style=\"text-align: right;\">         C13</th><th style=\"text-align: right;\">        C14</th><th style=\"text-align: right;\">        C15</th><th style=\"text-align: right;\">         C16</th><th style=\"text-align: right;\">        C17</th><th style=\"text-align: right;\">        C18</th><th style=\"text-align: right;\">         C19</th><th style=\"text-align: right;\">        C20</th><th style=\"text-align: right;\">        C21</th><th style=\"text-align: right;\">          C22</th><th style=\"text-align: right;\">        C23</th><th style=\"text-align: right;\">        C24</th><th style=\"text-align: right;\">        C25</th><th style=\"text-align: right;\">        C26</th><th style=\"text-align: right;\">        C27</th><th style=\"text-align: right;\">        C28</th><th style=\"text-align: right;\">          C29</th><th style=\"text-align: right;\">         C30</th><th style=\"text-align: right;\">        C31</th><th style=\"text-align: right;\">       C32</th><th style=\"text-align: right;\">         C33</th><th style=\"text-align: right;\">        C34</th><th style=\"text-align: right;\">         C35</th><th style=\"text-align: right;\">        C36</th><th style=\"text-align: right;\">       C37</th><th style=\"text-align: right;\">        C38</th><th style=\"text-align: right;\">         C39</th><th style=\"text-align: right;\">        C40</th><th style=\"text-align: right;\">        C41</th><th style=\"text-align: right;\">        C42</th><th style=\"text-align: right;\">        C43</th><th style=\"text-align: right;\">        C44</th><th style=\"text-align: right;\">          C45</th><th style=\"text-align: right;\">         C46</th><th style=\"text-align: right;\">        C47</th><th style=\"text-align: right;\">         C48</th><th style=\"text-align: right;\">        C49</th><th style=\"text-align: right;\">        C50</th><th style=\"text-align: right;\">        C51</th><th style=\"text-align: right;\">         C52</th><th style=\"text-align: right;\">         C53</th><th style=\"text-align: right;\">        C54</th><th style=\"text-align: right;\">       C55</th><th style=\"text-align: right;\">        C56</th><th style=\"text-align: right;\">        C57</th><th style=\"text-align: right;\">        C58</th><th style=\"text-align: right;\">       C59</th><th style=\"text-align: right;\">         C60</th><th style=\"text-align: right;\">         C61</th><th style=\"text-align: right;\">        C62</th><th style=\"text-align: right;\">        C63</th><th style=\"text-align: right;\">        C64</th><th style=\"text-align: right;\">         C65</th><th style=\"text-align: right;\">        C66</th><th style=\"text-align: right;\">         C67</th><th style=\"text-align: right;\">         C68</th><th style=\"text-align: right;\">         C69</th><th style=\"text-align: right;\">        C70</th><th style=\"text-align: right;\">          C71</th><th style=\"text-align: right;\">          C72</th><th style=\"text-align: right;\">        C73</th><th style=\"text-align: right;\">        C74</th><th style=\"text-align: right;\">       C75</th><th style=\"text-align: right;\">        C76</th><th style=\"text-align: right;\">        C77</th><th style=\"text-align: right;\">        C78</th><th style=\"text-align: right;\">         C79</th><th style=\"text-align: right;\">        C80</th><th style=\"text-align: right;\">        C81</th><th style=\"text-align: right;\">        C82</th><th style=\"text-align: right;\">         C83</th><th style=\"text-align: right;\">       C84</th><th style=\"text-align: right;\">        C85</th><th style=\"text-align: right;\">       C86</th><th style=\"text-align: right;\">         C87</th><th style=\"text-align: right;\">       C88</th><th style=\"text-align: right;\">         C89</th><th style=\"text-align: right;\">        C90</th><th style=\"text-align: right;\">        C91</th><th style=\"text-align: right;\">        C92</th><th style=\"text-align: right;\">        C93</th><th style=\"text-align: right;\">         C94</th><th style=\"text-align: right;\">        C95</th><th style=\"text-align: right;\">         C96</th><th style=\"text-align: right;\">         C97</th><th style=\"text-align: right;\">        C98</th><th style=\"text-align: right;\">         C99</th><th style=\"text-align: right;\">       C100</th></tr>\n",
       "</thead>\n",
       "<tbody>\n",
       "<tr><td style=\"text-align: right;\">  0.197705 </td><td style=\"text-align: right;\">  0.0846501 </td><td style=\"text-align: right;\">  0.0253813 </td><td style=\"text-align: right;\">  0.0387419</td><td style=\"text-align: right;\">  0.0172716 </td><td style=\"text-align: right;\">  0.00308003</td><td style=\"text-align: right;\"> -0.0490285</td><td style=\"text-align: right;\">  0.22468  </td><td style=\"text-align: right;\">  0.0101228</td><td style=\"text-align: right;\">  0.111312 </td><td style=\"text-align: right;\">  0.0367925</td><td style=\"text-align: right;\">  0.284432</td><td style=\"text-align: right;\"> -0.0501633 </td><td style=\"text-align: right;\">  0.126303 </td><td style=\"text-align: right;\"> -0.0337303</td><td style=\"text-align: right;\"> -0.113763  </td><td style=\"text-align: right;\"> -0.0323753</td><td style=\"text-align: right;\">  0.14291  </td><td style=\"text-align: right;\">  0.0170148 </td><td style=\"text-align: right;\">  0.0691567</td><td style=\"text-align: right;\"> -0.127635 </td><td style=\"text-align: right;\"> -0.0322579  </td><td style=\"text-align: right;\">  0.161731 </td><td style=\"text-align: right;\"> -0.262116 </td><td style=\"text-align: right;\">  0.0724791</td><td style=\"text-align: right;\"> -0.141735 </td><td style=\"text-align: right;\">  0.0491878</td><td style=\"text-align: right;\">  0.0534475</td><td style=\"text-align: right;\"> -0.00766658 </td><td style=\"text-align: right;\">  0.0801733 </td><td style=\"text-align: right;\">  0.0167333</td><td style=\"text-align: right;\">  0.122463</td><td style=\"text-align: right;\"> -0.00263546</td><td style=\"text-align: right;\">  0.0946333</td><td style=\"text-align: right;\"> -0.0407148 </td><td style=\"text-align: right;\"> -0.0249624</td><td style=\"text-align: right;\"> -0.250554</td><td style=\"text-align: right;\"> -0.0650692</td><td style=\"text-align: right;\">  0.157923  </td><td style=\"text-align: right;\">  0.175268 </td><td style=\"text-align: right;\">  0.105844 </td><td style=\"text-align: right;\"> -0.0454766</td><td style=\"text-align: right;\"> -0.14973  </td><td style=\"text-align: right;\">  0.245281 </td><td style=\"text-align: right;\"> -0.0601556  </td><td style=\"text-align: right;\"> -0.0411163 </td><td style=\"text-align: right;\">  0.0503671</td><td style=\"text-align: right;\">  0.034353  </td><td style=\"text-align: right;\"> -0.147848 </td><td style=\"text-align: right;\"> -0.145278 </td><td style=\"text-align: right;\"> -0.13047  </td><td style=\"text-align: right;\">  0.0535316 </td><td style=\"text-align: right;\">  0.00824645</td><td style=\"text-align: right;\"> -0.101392 </td><td style=\"text-align: right;\">  0.234308</td><td style=\"text-align: right;\">  0.0241247</td><td style=\"text-align: right;\"> -0.217863 </td><td style=\"text-align: right;\">  0.0662003</td><td style=\"text-align: right;\"> -0.247796</td><td style=\"text-align: right;\">  0.00970436</td><td style=\"text-align: right;\"> -0.10506   </td><td style=\"text-align: right;\">  0.137001 </td><td style=\"text-align: right;\"> -0.142647 </td><td style=\"text-align: right;\"> -0.133504 </td><td style=\"text-align: right;\">  0.0346545 </td><td style=\"text-align: right;\">  0.0305247</td><td style=\"text-align: right;\">  0.0652317 </td><td style=\"text-align: right;\"> -0.0756486 </td><td style=\"text-align: right;\">  0.0375317 </td><td style=\"text-align: right;\">  0.0206133</td><td style=\"text-align: right;\"> -0.0111574  </td><td style=\"text-align: right;\"> -0.0884336  </td><td style=\"text-align: right;\">  0.239316 </td><td style=\"text-align: right;\"> -0.203146 </td><td style=\"text-align: right;\">  0.240564</td><td style=\"text-align: right;\">  0.111173 </td><td style=\"text-align: right;\"> -0.028851 </td><td style=\"text-align: right;\">  0.108163 </td><td style=\"text-align: right;\"> -0.0129985 </td><td style=\"text-align: right;\">  0.0178561</td><td style=\"text-align: right;\">  0.0514973</td><td style=\"text-align: right;\"> -0.104319 </td><td style=\"text-align: right;\"> -0.0818921 </td><td style=\"text-align: right;\">  0.269724</td><td style=\"text-align: right;\">  0.0174731</td><td style=\"text-align: right;\"> -0.178767</td><td style=\"text-align: right;\">  0.0897161 </td><td style=\"text-align: right;\">  0.238923</td><td style=\"text-align: right;\">  0.0241475 </td><td style=\"text-align: right;\"> -0.097289 </td><td style=\"text-align: right;\">  0.0941949</td><td style=\"text-align: right;\">  0.0515817</td><td style=\"text-align: right;\">  0.121173 </td><td style=\"text-align: right;\"> -0.0645276 </td><td style=\"text-align: right;\">  0.107661 </td><td style=\"text-align: right;\"> -0.199429  </td><td style=\"text-align: right;\"> -0.154932  </td><td style=\"text-align: right;\">  0.0216121</td><td style=\"text-align: right;\">  0.131998  </td><td style=\"text-align: right;\">  0.0864836</td></tr>\n",
       "<tr><td style=\"text-align: right;\">  0.164136 </td><td style=\"text-align: right;\">  0.0405533 </td><td style=\"text-align: right;\"> -0.0478219 </td><td style=\"text-align: right;\"> -0.0944358</td><td style=\"text-align: right;\">  0.00969207</td><td style=\"text-align: right;\"> -0.245943  </td><td style=\"text-align: right;\"> -0.0137975</td><td style=\"text-align: right;\">  0.157752 </td><td style=\"text-align: right;\">  0.0663062</td><td style=\"text-align: right;\">  0.0632403</td><td style=\"text-align: right;\">  0.0924674</td><td style=\"text-align: right;\">  0.144431</td><td style=\"text-align: right;\"> -0.0325053 </td><td style=\"text-align: right;\"> -0.0412965</td><td style=\"text-align: right;\">  0.0614722</td><td style=\"text-align: right;\">  0.0030058 </td><td style=\"text-align: right;\">  0.0471577</td><td style=\"text-align: right;\">  0.155596 </td><td style=\"text-align: right;\">  0.0311329 </td><td style=\"text-align: right;\"> -0.0262627</td><td style=\"text-align: right;\"> -0.0779998</td><td style=\"text-align: right;\"> -0.0176146  </td><td style=\"text-align: right;\">  0.0961411</td><td style=\"text-align: right;\"> -0.149455 </td><td style=\"text-align: right;\"> -0.0408993</td><td style=\"text-align: right;\"> -0.0665188</td><td style=\"text-align: right;\">  0.0298287</td><td style=\"text-align: right;\">  0.0433703</td><td style=\"text-align: right;\">  0.0242192  </td><td style=\"text-align: right;\"> -0.00494156</td><td style=\"text-align: right;\"> -0.0710944</td><td style=\"text-align: right;\">  0.189741</td><td style=\"text-align: right;\">  0.013757  </td><td style=\"text-align: right;\">  0.115975 </td><td style=\"text-align: right;\"> -0.0177112 </td><td style=\"text-align: right;\">  0.137039 </td><td style=\"text-align: right;\"> -0.161043</td><td style=\"text-align: right;\"> -0.195475 </td><td style=\"text-align: right;\">  0.0149978 </td><td style=\"text-align: right;\">  0.107624 </td><td style=\"text-align: right;\">  0.123133 </td><td style=\"text-align: right;\"> -0.0362716</td><td style=\"text-align: right;\"> -0.122495 </td><td style=\"text-align: right;\">  0.0158226</td><td style=\"text-align: right;\"> -0.0814765  </td><td style=\"text-align: right;\">  0.0377797 </td><td style=\"text-align: right;\">  0.0540302</td><td style=\"text-align: right;\"> -0.0494509 </td><td style=\"text-align: right;\"> -0.103196 </td><td style=\"text-align: right;\"> -0.134098 </td><td style=\"text-align: right;\"> -0.0212903</td><td style=\"text-align: right;\">  0.0572451 </td><td style=\"text-align: right;\"> -0.087192  </td><td style=\"text-align: right;\"> -0.0960699</td><td style=\"text-align: right;\">  0.196988</td><td style=\"text-align: right;\"> -0.0149758</td><td style=\"text-align: right;\"> -0.19031  </td><td style=\"text-align: right;\">  0.0674576</td><td style=\"text-align: right;\"> -0.175004</td><td style=\"text-align: right;\">  0.038295  </td><td style=\"text-align: right;\">  0.005699  </td><td style=\"text-align: right;\">  0.0244796</td><td style=\"text-align: right;\"> -0.0549679</td><td style=\"text-align: right;\"> -0.121808 </td><td style=\"text-align: right;\">  0.0502136 </td><td style=\"text-align: right;\"> -0.0401679</td><td style=\"text-align: right;\">  0.00548383</td><td style=\"text-align: right;\">  0.0295925 </td><td style=\"text-align: right;\">  0.0474973 </td><td style=\"text-align: right;\">  0.0612107</td><td style=\"text-align: right;\">  0.000383874</td><td style=\"text-align: right;\"> -0.0731379  </td><td style=\"text-align: right;\">  0.186402 </td><td style=\"text-align: right;\"> -0.134827 </td><td style=\"text-align: right;\">  0.19089 </td><td style=\"text-align: right;\">  0.149568 </td><td style=\"text-align: right;\"> -0.083482 </td><td style=\"text-align: right;\">  0.147129 </td><td style=\"text-align: right;\"> -0.0758558 </td><td style=\"text-align: right;\"> -0.120242 </td><td style=\"text-align: right;\">  0.153063 </td><td style=\"text-align: right;\"> -0.148508 </td><td style=\"text-align: right;\"> -0.00390821</td><td style=\"text-align: right;\">  0.363978</td><td style=\"text-align: right;\">  0.202469 </td><td style=\"text-align: right;\"> -0.165774</td><td style=\"text-align: right;\"> -0.0736031 </td><td style=\"text-align: right;\">  0.138887</td><td style=\"text-align: right;\"> -0.076485  </td><td style=\"text-align: right;\"> -0.161318 </td><td style=\"text-align: right;\"> -0.0328524</td><td style=\"text-align: right;\"> -0.0813271</td><td style=\"text-align: right;\">  0.0722321</td><td style=\"text-align: right;\"> -0.0188082 </td><td style=\"text-align: right;\">  0.105771 </td><td style=\"text-align: right;\"> -0.147258  </td><td style=\"text-align: right;\"> -0.0850242 </td><td style=\"text-align: right;\">  0.0269507</td><td style=\"text-align: right;\"> -0.0142734 </td><td style=\"text-align: right;\"> -0.021255 </td></tr>\n",
       "<tr><td style=\"text-align: right;\">nan        </td><td style=\"text-align: right;\">nan         </td><td style=\"text-align: right;\">nan         </td><td style=\"text-align: right;\">nan        </td><td style=\"text-align: right;\">nan         </td><td style=\"text-align: right;\">nan         </td><td style=\"text-align: right;\">nan        </td><td style=\"text-align: right;\">nan        </td><td style=\"text-align: right;\">nan        </td><td style=\"text-align: right;\">nan        </td><td style=\"text-align: right;\">nan        </td><td style=\"text-align: right;\">nan       </td><td style=\"text-align: right;\">nan         </td><td style=\"text-align: right;\">nan        </td><td style=\"text-align: right;\">nan        </td><td style=\"text-align: right;\">nan         </td><td style=\"text-align: right;\">nan        </td><td style=\"text-align: right;\">nan        </td><td style=\"text-align: right;\">nan         </td><td style=\"text-align: right;\">nan        </td><td style=\"text-align: right;\">nan        </td><td style=\"text-align: right;\">nan          </td><td style=\"text-align: right;\">nan        </td><td style=\"text-align: right;\">nan        </td><td style=\"text-align: right;\">nan        </td><td style=\"text-align: right;\">nan        </td><td style=\"text-align: right;\">nan        </td><td style=\"text-align: right;\">nan        </td><td style=\"text-align: right;\">nan          </td><td style=\"text-align: right;\">nan         </td><td style=\"text-align: right;\">nan        </td><td style=\"text-align: right;\">nan       </td><td style=\"text-align: right;\">nan         </td><td style=\"text-align: right;\">nan        </td><td style=\"text-align: right;\">nan         </td><td style=\"text-align: right;\">nan        </td><td style=\"text-align: right;\">nan       </td><td style=\"text-align: right;\">nan        </td><td style=\"text-align: right;\">nan         </td><td style=\"text-align: right;\">nan        </td><td style=\"text-align: right;\">nan        </td><td style=\"text-align: right;\">nan        </td><td style=\"text-align: right;\">nan        </td><td style=\"text-align: right;\">nan        </td><td style=\"text-align: right;\">nan          </td><td style=\"text-align: right;\">nan         </td><td style=\"text-align: right;\">nan        </td><td style=\"text-align: right;\">nan         </td><td style=\"text-align: right;\">nan        </td><td style=\"text-align: right;\">nan        </td><td style=\"text-align: right;\">nan        </td><td style=\"text-align: right;\">nan         </td><td style=\"text-align: right;\">nan         </td><td style=\"text-align: right;\">nan        </td><td style=\"text-align: right;\">nan       </td><td style=\"text-align: right;\">nan        </td><td style=\"text-align: right;\">nan        </td><td style=\"text-align: right;\">nan        </td><td style=\"text-align: right;\">nan       </td><td style=\"text-align: right;\">nan         </td><td style=\"text-align: right;\">nan         </td><td style=\"text-align: right;\">nan        </td><td style=\"text-align: right;\">nan        </td><td style=\"text-align: right;\">nan        </td><td style=\"text-align: right;\">nan         </td><td style=\"text-align: right;\">nan        </td><td style=\"text-align: right;\">nan         </td><td style=\"text-align: right;\">nan         </td><td style=\"text-align: right;\">nan         </td><td style=\"text-align: right;\">nan        </td><td style=\"text-align: right;\">nan          </td><td style=\"text-align: right;\">nan          </td><td style=\"text-align: right;\">nan        </td><td style=\"text-align: right;\">nan        </td><td style=\"text-align: right;\">nan       </td><td style=\"text-align: right;\">nan        </td><td style=\"text-align: right;\">nan        </td><td style=\"text-align: right;\">nan        </td><td style=\"text-align: right;\">nan         </td><td style=\"text-align: right;\">nan        </td><td style=\"text-align: right;\">nan        </td><td style=\"text-align: right;\">nan        </td><td style=\"text-align: right;\">nan         </td><td style=\"text-align: right;\">nan       </td><td style=\"text-align: right;\">nan        </td><td style=\"text-align: right;\">nan       </td><td style=\"text-align: right;\">nan         </td><td style=\"text-align: right;\">nan       </td><td style=\"text-align: right;\">nan         </td><td style=\"text-align: right;\">nan        </td><td style=\"text-align: right;\">nan        </td><td style=\"text-align: right;\">nan        </td><td style=\"text-align: right;\">nan        </td><td style=\"text-align: right;\">nan         </td><td style=\"text-align: right;\">nan        </td><td style=\"text-align: right;\">nan         </td><td style=\"text-align: right;\">nan         </td><td style=\"text-align: right;\">nan        </td><td style=\"text-align: right;\">nan         </td><td style=\"text-align: right;\">nan        </td></tr>\n",
       "<tr><td style=\"text-align: right;\">  0.110682 </td><td style=\"text-align: right;\"> -0.00520883</td><td style=\"text-align: right;\"> -0.0317378 </td><td style=\"text-align: right;\"> -0.13169  </td><td style=\"text-align: right;\">  0.0174637 </td><td style=\"text-align: right;\"> -0.0737664 </td><td style=\"text-align: right;\">  0.0763666</td><td style=\"text-align: right;\">  0.227136 </td><td style=\"text-align: right;\">  0.102623 </td><td style=\"text-align: right;\">  0.074469 </td><td style=\"text-align: right;\">  0.0483868</td><td style=\"text-align: right;\">  0.100159</td><td style=\"text-align: right;\"> -0.0623702 </td><td style=\"text-align: right;\">  0.0266576</td><td style=\"text-align: right;\">  0.0549758</td><td style=\"text-align: right;\">  0.00393723</td><td style=\"text-align: right;\">  0.0136486</td><td style=\"text-align: right;\">  0.20984  </td><td style=\"text-align: right;\"> -0.0485859 </td><td style=\"text-align: right;\"> -0.0383691</td><td style=\"text-align: right;\"> -0.0251006</td><td style=\"text-align: right;\"> -0.0628735  </td><td style=\"text-align: right;\">  0.120821 </td><td style=\"text-align: right;\"> -0.155655 </td><td style=\"text-align: right;\"> -0.0460407</td><td style=\"text-align: right;\"> -0.0433538</td><td style=\"text-align: right;\">  0.0185734</td><td style=\"text-align: right;\">  0.0507029</td><td style=\"text-align: right;\">  0.0133222  </td><td style=\"text-align: right;\"> -0.0322679 </td><td style=\"text-align: right;\"> -0.015278 </td><td style=\"text-align: right;\">  0.172422</td><td style=\"text-align: right;\">  0.00870004</td><td style=\"text-align: right;\">  0.186655 </td><td style=\"text-align: right;\"> -0.0936924 </td><td style=\"text-align: right;\">  0.149563 </td><td style=\"text-align: right;\"> -0.228144</td><td style=\"text-align: right;\"> -0.13135  </td><td style=\"text-align: right;\">  0.00793222</td><td style=\"text-align: right;\">  0.0972787</td><td style=\"text-align: right;\"> -0.0226066</td><td style=\"text-align: right;\"> -0.0619765</td><td style=\"text-align: right;\"> -0.0856864</td><td style=\"text-align: right;\">  0.0357287</td><td style=\"text-align: right;\"> -0.134563   </td><td style=\"text-align: right;\">  0.0788604 </td><td style=\"text-align: right;\">  0.0450616</td><td style=\"text-align: right;\">  0.00682109</td><td style=\"text-align: right;\"> -0.105484 </td><td style=\"text-align: right;\"> -0.0962532</td><td style=\"text-align: right;\"> -0.195282 </td><td style=\"text-align: right;\">  0.00396452</td><td style=\"text-align: right;\"> -0.0381191 </td><td style=\"text-align: right;\"> -0.106363 </td><td style=\"text-align: right;\">  0.159924</td><td style=\"text-align: right;\"> -0.0752879</td><td style=\"text-align: right;\"> -0.0505262</td><td style=\"text-align: right;\">  0.0237687</td><td style=\"text-align: right;\"> -0.188577</td><td style=\"text-align: right;\">  0.0678453 </td><td style=\"text-align: right;\">  0.0688898 </td><td style=\"text-align: right;\">  0.0265936</td><td style=\"text-align: right;\"> -0.167097 </td><td style=\"text-align: right;\"> -0.168652 </td><td style=\"text-align: right;\">  0.0337974 </td><td style=\"text-align: right;\"> -0.0222777</td><td style=\"text-align: right;\"> -0.00476023</td><td style=\"text-align: right;\">  0.00799328</td><td style=\"text-align: right;\">  0.00116332</td><td style=\"text-align: right;\">  0.0610144</td><td style=\"text-align: right;\">  0.0608556  </td><td style=\"text-align: right;\"> -0.186194   </td><td style=\"text-align: right;\">  0.189271 </td><td style=\"text-align: right;\"> -0.030142 </td><td style=\"text-align: right;\">  0.22516 </td><td style=\"text-align: right;\">  0.0924382</td><td style=\"text-align: right;\"> -0.156014 </td><td style=\"text-align: right;\">  0.146784 </td><td style=\"text-align: right;\"> -0.0480725 </td><td style=\"text-align: right;\"> -0.0838403</td><td style=\"text-align: right;\">  0.151441 </td><td style=\"text-align: right;\"> -0.186983 </td><td style=\"text-align: right;\"> -0.0746462 </td><td style=\"text-align: right;\">  0.306968</td><td style=\"text-align: right;\">  0.181513 </td><td style=\"text-align: right;\"> -0.250775</td><td style=\"text-align: right;\">  0.0286643 </td><td style=\"text-align: right;\">  0.250176</td><td style=\"text-align: right;\"> -0.0295081 </td><td style=\"text-align: right;\"> -0.137385 </td><td style=\"text-align: right;\"> -0.0692815</td><td style=\"text-align: right;\">  0.0157436</td><td style=\"text-align: right;\">  0.0745148</td><td style=\"text-align: right;\"> -0.0475676 </td><td style=\"text-align: right;\">  0.0497331</td><td style=\"text-align: right;\"> -0.112032  </td><td style=\"text-align: right;\"> -0.140675  </td><td style=\"text-align: right;\"> -0.0150226</td><td style=\"text-align: right;\">  0.0156577 </td><td style=\"text-align: right;\"> -0.0473443</td></tr>\n",
       "<tr><td style=\"text-align: right;\">nan        </td><td style=\"text-align: right;\">nan         </td><td style=\"text-align: right;\">nan         </td><td style=\"text-align: right;\">nan        </td><td style=\"text-align: right;\">nan         </td><td style=\"text-align: right;\">nan         </td><td style=\"text-align: right;\">nan        </td><td style=\"text-align: right;\">nan        </td><td style=\"text-align: right;\">nan        </td><td style=\"text-align: right;\">nan        </td><td style=\"text-align: right;\">nan        </td><td style=\"text-align: right;\">nan       </td><td style=\"text-align: right;\">nan         </td><td style=\"text-align: right;\">nan        </td><td style=\"text-align: right;\">nan        </td><td style=\"text-align: right;\">nan         </td><td style=\"text-align: right;\">nan        </td><td style=\"text-align: right;\">nan        </td><td style=\"text-align: right;\">nan         </td><td style=\"text-align: right;\">nan        </td><td style=\"text-align: right;\">nan        </td><td style=\"text-align: right;\">nan          </td><td style=\"text-align: right;\">nan        </td><td style=\"text-align: right;\">nan        </td><td style=\"text-align: right;\">nan        </td><td style=\"text-align: right;\">nan        </td><td style=\"text-align: right;\">nan        </td><td style=\"text-align: right;\">nan        </td><td style=\"text-align: right;\">nan          </td><td style=\"text-align: right;\">nan         </td><td style=\"text-align: right;\">nan        </td><td style=\"text-align: right;\">nan       </td><td style=\"text-align: right;\">nan         </td><td style=\"text-align: right;\">nan        </td><td style=\"text-align: right;\">nan         </td><td style=\"text-align: right;\">nan        </td><td style=\"text-align: right;\">nan       </td><td style=\"text-align: right;\">nan        </td><td style=\"text-align: right;\">nan         </td><td style=\"text-align: right;\">nan        </td><td style=\"text-align: right;\">nan        </td><td style=\"text-align: right;\">nan        </td><td style=\"text-align: right;\">nan        </td><td style=\"text-align: right;\">nan        </td><td style=\"text-align: right;\">nan          </td><td style=\"text-align: right;\">nan         </td><td style=\"text-align: right;\">nan        </td><td style=\"text-align: right;\">nan         </td><td style=\"text-align: right;\">nan        </td><td style=\"text-align: right;\">nan        </td><td style=\"text-align: right;\">nan        </td><td style=\"text-align: right;\">nan         </td><td style=\"text-align: right;\">nan         </td><td style=\"text-align: right;\">nan        </td><td style=\"text-align: right;\">nan       </td><td style=\"text-align: right;\">nan        </td><td style=\"text-align: right;\">nan        </td><td style=\"text-align: right;\">nan        </td><td style=\"text-align: right;\">nan       </td><td style=\"text-align: right;\">nan         </td><td style=\"text-align: right;\">nan         </td><td style=\"text-align: right;\">nan        </td><td style=\"text-align: right;\">nan        </td><td style=\"text-align: right;\">nan        </td><td style=\"text-align: right;\">nan         </td><td style=\"text-align: right;\">nan        </td><td style=\"text-align: right;\">nan         </td><td style=\"text-align: right;\">nan         </td><td style=\"text-align: right;\">nan         </td><td style=\"text-align: right;\">nan        </td><td style=\"text-align: right;\">nan          </td><td style=\"text-align: right;\">nan          </td><td style=\"text-align: right;\">nan        </td><td style=\"text-align: right;\">nan        </td><td style=\"text-align: right;\">nan       </td><td style=\"text-align: right;\">nan        </td><td style=\"text-align: right;\">nan        </td><td style=\"text-align: right;\">nan        </td><td style=\"text-align: right;\">nan         </td><td style=\"text-align: right;\">nan        </td><td style=\"text-align: right;\">nan        </td><td style=\"text-align: right;\">nan        </td><td style=\"text-align: right;\">nan         </td><td style=\"text-align: right;\">nan       </td><td style=\"text-align: right;\">nan        </td><td style=\"text-align: right;\">nan       </td><td style=\"text-align: right;\">nan         </td><td style=\"text-align: right;\">nan       </td><td style=\"text-align: right;\">nan         </td><td style=\"text-align: right;\">nan        </td><td style=\"text-align: right;\">nan        </td><td style=\"text-align: right;\">nan        </td><td style=\"text-align: right;\">nan        </td><td style=\"text-align: right;\">nan         </td><td style=\"text-align: right;\">nan        </td><td style=\"text-align: right;\">nan         </td><td style=\"text-align: right;\">nan         </td><td style=\"text-align: right;\">nan        </td><td style=\"text-align: right;\">nan         </td><td style=\"text-align: right;\">nan        </td></tr>\n",
       "<tr><td style=\"text-align: right;\">  0.191625 </td><td style=\"text-align: right;\"> -0.0563918 </td><td style=\"text-align: right;\">  0.0448873 </td><td style=\"text-align: right;\">  0.0991174</td><td style=\"text-align: right;\"> -0.0574005 </td><td style=\"text-align: right;\"> -0.230075  </td><td style=\"text-align: right;\">  0.11617  </td><td style=\"text-align: right;\">  0.335229 </td><td style=\"text-align: right;\">  0.201488 </td><td style=\"text-align: right;\">  0.127149 </td><td style=\"text-align: right;\">  0.177361 </td><td style=\"text-align: right;\">  0.127324</td><td style=\"text-align: right;\"> -0.0176879 </td><td style=\"text-align: right;\">  0.166471 </td><td style=\"text-align: right;\">  0.0765846</td><td style=\"text-align: right;\"> -0.0962861 </td><td style=\"text-align: right;\">  0.0668746</td><td style=\"text-align: right;\">  0.221718 </td><td style=\"text-align: right;\"> -0.101931  </td><td style=\"text-align: right;\">  0.0155894</td><td style=\"text-align: right;\"> -0.1917   </td><td style=\"text-align: right;\"> -0.0866184  </td><td style=\"text-align: right;\">  0.171395 </td><td style=\"text-align: right;\"> -0.23124  </td><td style=\"text-align: right;\">  0.0912994</td><td style=\"text-align: right;\"> -0.0726769</td><td style=\"text-align: right;\">  0.0495714</td><td style=\"text-align: right;\">  0.200072 </td><td style=\"text-align: right;\"> -0.000190199</td><td style=\"text-align: right;\"> -0.0304296 </td><td style=\"text-align: right;\"> -0.0745576</td><td style=\"text-align: right;\">  0.25116 </td><td style=\"text-align: right;\"> -0.103539  </td><td style=\"text-align: right;\"> -0.037105 </td><td style=\"text-align: right;\"> -0.15087   </td><td style=\"text-align: right;\">  0.121165 </td><td style=\"text-align: right;\"> -0.394686</td><td style=\"text-align: right;\"> -0.0476677</td><td style=\"text-align: right;\">  0.101886  </td><td style=\"text-align: right;\">  0.234334 </td><td style=\"text-align: right;\">  0.10183  </td><td style=\"text-align: right;\"> -0.0807909</td><td style=\"text-align: right;\"> -0.140593 </td><td style=\"text-align: right;\"> -0.0158244</td><td style=\"text-align: right;\"> -0.0785643  </td><td style=\"text-align: right;\">  0.00935632</td><td style=\"text-align: right;\">  0.0231072</td><td style=\"text-align: right;\"> -0.0761999 </td><td style=\"text-align: right;\"> -0.122284 </td><td style=\"text-align: right;\"> -0.104035 </td><td style=\"text-align: right;\"> -0.0720739</td><td style=\"text-align: right;\">  0.0128748 </td><td style=\"text-align: right;\"> -0.0686263 </td><td style=\"text-align: right;\"> -0.0238709</td><td style=\"text-align: right;\">  0.152346</td><td style=\"text-align: right;\"> -0.129591 </td><td style=\"text-align: right;\"> -0.14702  </td><td style=\"text-align: right;\">  0.0831151</td><td style=\"text-align: right;\"> -0.304929</td><td style=\"text-align: right;\">  0.0331163 </td><td style=\"text-align: right;\">  0.00143365</td><td style=\"text-align: right;\">  0.0397907</td><td style=\"text-align: right;\"> -0.0745984</td><td style=\"text-align: right;\"> -0.190548 </td><td style=\"text-align: right;\">  0.075103  </td><td style=\"text-align: right;\"> -0.0132306</td><td style=\"text-align: right;\"> -0.0482583 </td><td style=\"text-align: right;\">  0.0475442 </td><td style=\"text-align: right;\"> -0.0749956 </td><td style=\"text-align: right;\">  0.0541187</td><td style=\"text-align: right;\"> -0.0408191  </td><td style=\"text-align: right;\">  0.000486878</td><td style=\"text-align: right;\">  0.408661 </td><td style=\"text-align: right;\"> -0.185552 </td><td style=\"text-align: right;\">  0.102973</td><td style=\"text-align: right;\">  0.23974  </td><td style=\"text-align: right;\"> -0.119068 </td><td style=\"text-align: right;\">  0.11914  </td><td style=\"text-align: right;\">  0.165784  </td><td style=\"text-align: right;\"> -0.0933074</td><td style=\"text-align: right;\">  0.026278 </td><td style=\"text-align: right;\"> -0.265459 </td><td style=\"text-align: right;\"> -0.137594  </td><td style=\"text-align: right;\">  0.329017</td><td style=\"text-align: right;\">  0.207643 </td><td style=\"text-align: right;\"> -0.275348</td><td style=\"text-align: right;\"> -0.0250567 </td><td style=\"text-align: right;\">  0.194814</td><td style=\"text-align: right;\">  0.00190296</td><td style=\"text-align: right;\"> -0.110111 </td><td style=\"text-align: right;\"> -0.031977 </td><td style=\"text-align: right;\">  0.0165949</td><td style=\"text-align: right;\">  0.124956 </td><td style=\"text-align: right;\"> -0.00012711</td><td style=\"text-align: right;\">  0.187312 </td><td style=\"text-align: right;\"> -0.00969366</td><td style=\"text-align: right;\">  0.0342232 </td><td style=\"text-align: right;\"> -0.10636  </td><td style=\"text-align: right;\">  0.00198816</td><td style=\"text-align: right;\"> -0.0136949</td></tr>\n",
       "<tr><td style=\"text-align: right;\">  0.197633 </td><td style=\"text-align: right;\"> -0.0406281 </td><td style=\"text-align: right;\"> -0.0231511 </td><td style=\"text-align: right;\"> -0.0424239</td><td style=\"text-align: right;\"> -0.00502338</td><td style=\"text-align: right;\"> -0.103994  </td><td style=\"text-align: right;\">  0.0365301</td><td style=\"text-align: right;\">  0.0929466</td><td style=\"text-align: right;\">  0.120315 </td><td style=\"text-align: right;\">  0.0934938</td><td style=\"text-align: right;\">  0.102862 </td><td style=\"text-align: right;\">  0.177   </td><td style=\"text-align: right;\"> -0.0651688 </td><td style=\"text-align: right;\">  0.0300462</td><td style=\"text-align: right;\">  0.017254 </td><td style=\"text-align: right;\"> -0.0214841 </td><td style=\"text-align: right;\"> -0.0816654</td><td style=\"text-align: right;\">  0.0836355</td><td style=\"text-align: right;\">  0.0168575 </td><td style=\"text-align: right;\">  0.0310707</td><td style=\"text-align: right;\"> -0.0358232</td><td style=\"text-align: right;\">  0.0442495  </td><td style=\"text-align: right;\">  0.0998644</td><td style=\"text-align: right;\"> -0.0805194</td><td style=\"text-align: right;\">  0.0765638</td><td style=\"text-align: right;\"> -0.161084 </td><td style=\"text-align: right;\">  0.0189354</td><td style=\"text-align: right;\">  0.0256831</td><td style=\"text-align: right;\"> -0.0419811  </td><td style=\"text-align: right;\"> -0.0220337 </td><td style=\"text-align: right;\">  0.0238116</td><td style=\"text-align: right;\">  0.154597</td><td style=\"text-align: right;\">  0.0628404 </td><td style=\"text-align: right;\">  0.133813 </td><td style=\"text-align: right;\">  0.0222095 </td><td style=\"text-align: right;\">  0.106145 </td><td style=\"text-align: right;\"> -0.125585</td><td style=\"text-align: right;\"> -0.165934 </td><td style=\"text-align: right;\">  0.186839  </td><td style=\"text-align: right;\">  0.0192074</td><td style=\"text-align: right;\">  0.0558482</td><td style=\"text-align: right;\"> -0.104706 </td><td style=\"text-align: right;\"> -0.16125  </td><td style=\"text-align: right;\">  0.0873112</td><td style=\"text-align: right;\">  0.0419012  </td><td style=\"text-align: right;\"> -0.0502723 </td><td style=\"text-align: right;\">  0.0101239</td><td style=\"text-align: right;\">  0.0397061 </td><td style=\"text-align: right;\"> -0.0636404</td><td style=\"text-align: right;\"> -0.16944  </td><td style=\"text-align: right;\"> -0.0743433</td><td style=\"text-align: right;\">  0.0880332 </td><td style=\"text-align: right;\"> -0.0785981 </td><td style=\"text-align: right;\"> -0.0855908</td><td style=\"text-align: right;\">  0.266439</td><td style=\"text-align: right;\">  0.073736 </td><td style=\"text-align: right;\"> -0.167595 </td><td style=\"text-align: right;\">  0.0288613</td><td style=\"text-align: right;\"> -0.161342</td><td style=\"text-align: right;\">  0.00464663</td><td style=\"text-align: right;\"> -0.0425336 </td><td style=\"text-align: right;\">  0.0149802</td><td style=\"text-align: right;\"> -0.137307 </td><td style=\"text-align: right;\"> -0.0782856</td><td style=\"text-align: right;\">  0.0225834 </td><td style=\"text-align: right;\"> -0.0616535</td><td style=\"text-align: right;\">  0.0223499 </td><td style=\"text-align: right;\"> -0.0717713 </td><td style=\"text-align: right;\">  0.0191881 </td><td style=\"text-align: right;\">  0.022467 </td><td style=\"text-align: right;\">  0.0463569  </td><td style=\"text-align: right;\"> -0.0334518  </td><td style=\"text-align: right;\">  0.176266 </td><td style=\"text-align: right;\"> -0.0660843</td><td style=\"text-align: right;\">  0.230504</td><td style=\"text-align: right;\">  0.0560933</td><td style=\"text-align: right;\"> -0.0191528</td><td style=\"text-align: right;\">  0.0215834</td><td style=\"text-align: right;\">  0.00897353</td><td style=\"text-align: right;\"> -0.055822 </td><td style=\"text-align: right;\"> -0.025706 </td><td style=\"text-align: right;\"> -0.0981108</td><td style=\"text-align: right;\"> -0.059966  </td><td style=\"text-align: right;\">  0.327417</td><td style=\"text-align: right;\">  0.149262 </td><td style=\"text-align: right;\"> -0.182864</td><td style=\"text-align: right;\">  0.00549301</td><td style=\"text-align: right;\">  0.203345</td><td style=\"text-align: right;\"> -0.00179183</td><td style=\"text-align: right;\"> -0.0739129</td><td style=\"text-align: right;\"> -0.038635 </td><td style=\"text-align: right;\"> -0.0191268</td><td style=\"text-align: right;\">  0.13007  </td><td style=\"text-align: right;\">  0.0550768 </td><td style=\"text-align: right;\">  0.0539849</td><td style=\"text-align: right;\"> -0.150522  </td><td style=\"text-align: right;\"> -0.120038  </td><td style=\"text-align: right;\"> -0.0334109</td><td style=\"text-align: right;\"> -0.105686  </td><td style=\"text-align: right;\"> -0.0832747</td></tr>\n",
       "<tr><td style=\"text-align: right;\">  0.0929546</td><td style=\"text-align: right;\">  0.0970626 </td><td style=\"text-align: right;\"> -0.00752977</td><td style=\"text-align: right;\"> -0.103434 </td><td style=\"text-align: right;\">  0.00884938</td><td style=\"text-align: right;\"> -0.253948  </td><td style=\"text-align: right;\">  0.0997223</td><td style=\"text-align: right;\">  0.183616 </td><td style=\"text-align: right;\">  0.109244 </td><td style=\"text-align: right;\">  0.0023539</td><td style=\"text-align: right;\">  0.0879872</td><td style=\"text-align: right;\">  0.130409</td><td style=\"text-align: right;\">  0.00268858</td><td style=\"text-align: right;\">  0.0174702</td><td style=\"text-align: right;\">  0.128385 </td><td style=\"text-align: right;\"> -0.00600408</td><td style=\"text-align: right;\">  0.0478602</td><td style=\"text-align: right;\">  0.12633  </td><td style=\"text-align: right;\"> -0.00744967</td><td style=\"text-align: right;\"> -0.0103098</td><td style=\"text-align: right;\"> -0.0744301</td><td style=\"text-align: right;\">  4.94585e-05</td><td style=\"text-align: right;\">  0.070814 </td><td style=\"text-align: right;\"> -0.120415 </td><td style=\"text-align: right;\">  0.0631264</td><td style=\"text-align: right;\"> -0.0362867</td><td style=\"text-align: right;\"> -0.0437188</td><td style=\"text-align: right;\">  0.0614136</td><td style=\"text-align: right;\"> -0.0251228  </td><td style=\"text-align: right;\"> -0.077007  </td><td style=\"text-align: right;\"> -0.0370424</td><td style=\"text-align: right;\">  0.227366</td><td style=\"text-align: right;\">  0.0247221 </td><td style=\"text-align: right;\">  0.0853394</td><td style=\"text-align: right;\"> -0.00507973</td><td style=\"text-align: right;\">  0.077324 </td><td style=\"text-align: right;\"> -0.217008</td><td style=\"text-align: right;\"> -0.0744882</td><td style=\"text-align: right;\">  0.0776745 </td><td style=\"text-align: right;\">  0.170498 </td><td style=\"text-align: right;\">  0.0366337</td><td style=\"text-align: right;\"> -0.0615944</td><td style=\"text-align: right;\"> -0.187664 </td><td style=\"text-align: right;\">  0.0341284</td><td style=\"text-align: right;\"> -0.0764272  </td><td style=\"text-align: right;\"> -0.00165539</td><td style=\"text-align: right;\"> -0.0333309</td><td style=\"text-align: right;\"> -0.0349726 </td><td style=\"text-align: right;\"> -0.112162 </td><td style=\"text-align: right;\"> -0.111061 </td><td style=\"text-align: right;\"> -0.0516015</td><td style=\"text-align: right;\">  0.0483124 </td><td style=\"text-align: right;\"> -0.102586  </td><td style=\"text-align: right;\"> -0.0385544</td><td style=\"text-align: right;\">  0.214647</td><td style=\"text-align: right;\">  0.049007 </td><td style=\"text-align: right;\"> -0.15905  </td><td style=\"text-align: right;\">  0.0634444</td><td style=\"text-align: right;\"> -0.179533</td><td style=\"text-align: right;\">  0.0394853 </td><td style=\"text-align: right;\">  0.0433106 </td><td style=\"text-align: right;\">  0.0568701</td><td style=\"text-align: right;\"> -0.100299 </td><td style=\"text-align: right;\"> -0.0905606</td><td style=\"text-align: right;\">  0.00275258</td><td style=\"text-align: right;\"> -0.0851041</td><td style=\"text-align: right;\"> -0.0180682 </td><td style=\"text-align: right;\"> -0.0498026 </td><td style=\"text-align: right;\">  0.0388915 </td><td style=\"text-align: right;\">  0.114714 </td><td style=\"text-align: right;\">  0.0667293  </td><td style=\"text-align: right;\"> -0.0529392  </td><td style=\"text-align: right;\">  0.104633 </td><td style=\"text-align: right;\"> -0.161312 </td><td style=\"text-align: right;\">  0.17275 </td><td style=\"text-align: right;\">  0.127606 </td><td style=\"text-align: right;\"> -0.0705673</td><td style=\"text-align: right;\">  0.077935 </td><td style=\"text-align: right;\"> -0.00561912</td><td style=\"text-align: right;\"> -0.148484 </td><td style=\"text-align: right;\">  0.0952668</td><td style=\"text-align: right;\"> -0.139206 </td><td style=\"text-align: right;\"> -0.034231  </td><td style=\"text-align: right;\">  0.317849</td><td style=\"text-align: right;\">  0.173786 </td><td style=\"text-align: right;\"> -0.226467</td><td style=\"text-align: right;\"> -0.00210804</td><td style=\"text-align: right;\">  0.154526</td><td style=\"text-align: right;\"> -0.0167027 </td><td style=\"text-align: right;\"> -0.094975 </td><td style=\"text-align: right;\"> -0.0824073</td><td style=\"text-align: right;\"> -0.0396686</td><td style=\"text-align: right;\">  0.131933 </td><td style=\"text-align: right;\"> -0.0215369 </td><td style=\"text-align: right;\">  0.04766  </td><td style=\"text-align: right;\"> -0.146492  </td><td style=\"text-align: right;\"> -0.0328958 </td><td style=\"text-align: right;\"> -0.0275927</td><td style=\"text-align: right;\"> -0.080084  </td><td style=\"text-align: right;\"> -0.1085   </td></tr>\n",
       "<tr><td style=\"text-align: right;\">  0.129855 </td><td style=\"text-align: right;\"> -0.155115  </td><td style=\"text-align: right;\"> -0.0546122 </td><td style=\"text-align: right;\"> -0.295733 </td><td style=\"text-align: right;\">  0.0781875 </td><td style=\"text-align: right;\"> -0.189538  </td><td style=\"text-align: right;\">  0.0377301</td><td style=\"text-align: right;\">  0.0543247</td><td style=\"text-align: right;\">  0.0568629</td><td style=\"text-align: right;\"> -0.0077059</td><td style=\"text-align: right;\">  0.142952 </td><td style=\"text-align: right;\">  0.144764</td><td style=\"text-align: right;\">  0.00902933</td><td style=\"text-align: right;\"> -0.0572677</td><td style=\"text-align: right;\">  0.176774 </td><td style=\"text-align: right;\">  0.0332084 </td><td style=\"text-align: right;\">  0.0448832</td><td style=\"text-align: right;\">  0.181063 </td><td style=\"text-align: right;\"> -0.0345306 </td><td style=\"text-align: right;\"> -0.110092 </td><td style=\"text-align: right;\">  0.0280195</td><td style=\"text-align: right;\"> -0.0638863  </td><td style=\"text-align: right;\">  0.0553098</td><td style=\"text-align: right;\"> -0.218883 </td><td style=\"text-align: right;\">  0.0399543</td><td style=\"text-align: right;\"> -0.129924 </td><td style=\"text-align: right;\">  0.0528766</td><td style=\"text-align: right;\">  0.0628452</td><td style=\"text-align: right;\">  0.0256192  </td><td style=\"text-align: right;\"> -0.114834  </td><td style=\"text-align: right;\"> -0.0446304</td><td style=\"text-align: right;\">  0.131993</td><td style=\"text-align: right;\"> -0.026215  </td><td style=\"text-align: right;\">  0.0999307</td><td style=\"text-align: right;\"> -0.0329723 </td><td style=\"text-align: right;\">  0.0631765</td><td style=\"text-align: right;\"> -0.152708</td><td style=\"text-align: right;\"> -0.0406736</td><td style=\"text-align: right;\"> -0.0262673 </td><td style=\"text-align: right;\">  0.104686 </td><td style=\"text-align: right;\">  0.0109058</td><td style=\"text-align: right;\"> -0.0910639</td><td style=\"text-align: right;\"> -0.14815  </td><td style=\"text-align: right;\">  0.0690801</td><td style=\"text-align: right;\"> -0.000298773</td><td style=\"text-align: right;\"> -0.0554486 </td><td style=\"text-align: right;\"> -0.0226285</td><td style=\"text-align: right;\">  0.0353949 </td><td style=\"text-align: right;\"> -0.0895207</td><td style=\"text-align: right;\"> -0.0669988</td><td style=\"text-align: right;\"> -0.130953 </td><td style=\"text-align: right;\"> -0.074368  </td><td style=\"text-align: right;\"> -0.059979  </td><td style=\"text-align: right;\"> -0.123545 </td><td style=\"text-align: right;\">  0.270417</td><td style=\"text-align: right;\">  0.049024 </td><td style=\"text-align: right;\"> -0.0558125</td><td style=\"text-align: right;\">  0.106094 </td><td style=\"text-align: right;\"> -0.185713</td><td style=\"text-align: right;\">  0.0333138 </td><td style=\"text-align: right;\">  0.0512053 </td><td style=\"text-align: right;\">  0.017009 </td><td style=\"text-align: right;\"> -0.0621633</td><td style=\"text-align: right;\"> -0.0584764</td><td style=\"text-align: right;\">  0.0665976 </td><td style=\"text-align: right;\"> -0.0541368</td><td style=\"text-align: right;\">  0.00627314</td><td style=\"text-align: right;\">  0.00607811</td><td style=\"text-align: right;\">  0.0439396 </td><td style=\"text-align: right;\">  0.139587 </td><td style=\"text-align: right;\">  0.00088312 </td><td style=\"text-align: right;\"> -0.10504    </td><td style=\"text-align: right;\">  0.0755279</td><td style=\"text-align: right;\"> -0.0637305</td><td style=\"text-align: right;\">  0.160788</td><td style=\"text-align: right;\">  0.0476512</td><td style=\"text-align: right;\"> -0.0273154</td><td style=\"text-align: right;\">  0.0826998</td><td style=\"text-align: right;\"> -0.110417  </td><td style=\"text-align: right;\"> -0.0772521</td><td style=\"text-align: right;\">  0.0995803</td><td style=\"text-align: right;\"> -0.149544 </td><td style=\"text-align: right;\"> -0.0219209 </td><td style=\"text-align: right;\">  0.33602 </td><td style=\"text-align: right;\">  0.137173 </td><td style=\"text-align: right;\"> -0.196315</td><td style=\"text-align: right;\"> -0.016077  </td><td style=\"text-align: right;\">  0.161862</td><td style=\"text-align: right;\"> -0.0414427 </td><td style=\"text-align: right;\"> -0.172364 </td><td style=\"text-align: right;\"> -0.146775 </td><td style=\"text-align: right;\"> -0.0366762</td><td style=\"text-align: right;\">  0.103728 </td><td style=\"text-align: right;\">  0.00767049</td><td style=\"text-align: right;\"> -0.0216969</td><td style=\"text-align: right;\"> -0.291825  </td><td style=\"text-align: right;\">  0.00175334</td><td style=\"text-align: right;\"> -0.0516538</td><td style=\"text-align: right;\"> -0.103841  </td><td style=\"text-align: right;\"> -0.177675 </td></tr>\n",
       "<tr><td style=\"text-align: right;\">nan        </td><td style=\"text-align: right;\">nan         </td><td style=\"text-align: right;\">nan         </td><td style=\"text-align: right;\">nan        </td><td style=\"text-align: right;\">nan         </td><td style=\"text-align: right;\">nan         </td><td style=\"text-align: right;\">nan        </td><td style=\"text-align: right;\">nan        </td><td style=\"text-align: right;\">nan        </td><td style=\"text-align: right;\">nan        </td><td style=\"text-align: right;\">nan        </td><td style=\"text-align: right;\">nan       </td><td style=\"text-align: right;\">nan         </td><td style=\"text-align: right;\">nan        </td><td style=\"text-align: right;\">nan        </td><td style=\"text-align: right;\">nan         </td><td style=\"text-align: right;\">nan        </td><td style=\"text-align: right;\">nan        </td><td style=\"text-align: right;\">nan         </td><td style=\"text-align: right;\">nan        </td><td style=\"text-align: right;\">nan        </td><td style=\"text-align: right;\">nan          </td><td style=\"text-align: right;\">nan        </td><td style=\"text-align: right;\">nan        </td><td style=\"text-align: right;\">nan        </td><td style=\"text-align: right;\">nan        </td><td style=\"text-align: right;\">nan        </td><td style=\"text-align: right;\">nan        </td><td style=\"text-align: right;\">nan          </td><td style=\"text-align: right;\">nan         </td><td style=\"text-align: right;\">nan        </td><td style=\"text-align: right;\">nan       </td><td style=\"text-align: right;\">nan         </td><td style=\"text-align: right;\">nan        </td><td style=\"text-align: right;\">nan         </td><td style=\"text-align: right;\">nan        </td><td style=\"text-align: right;\">nan       </td><td style=\"text-align: right;\">nan        </td><td style=\"text-align: right;\">nan         </td><td style=\"text-align: right;\">nan        </td><td style=\"text-align: right;\">nan        </td><td style=\"text-align: right;\">nan        </td><td style=\"text-align: right;\">nan        </td><td style=\"text-align: right;\">nan        </td><td style=\"text-align: right;\">nan          </td><td style=\"text-align: right;\">nan         </td><td style=\"text-align: right;\">nan        </td><td style=\"text-align: right;\">nan         </td><td style=\"text-align: right;\">nan        </td><td style=\"text-align: right;\">nan        </td><td style=\"text-align: right;\">nan        </td><td style=\"text-align: right;\">nan         </td><td style=\"text-align: right;\">nan         </td><td style=\"text-align: right;\">nan        </td><td style=\"text-align: right;\">nan       </td><td style=\"text-align: right;\">nan        </td><td style=\"text-align: right;\">nan        </td><td style=\"text-align: right;\">nan        </td><td style=\"text-align: right;\">nan       </td><td style=\"text-align: right;\">nan         </td><td style=\"text-align: right;\">nan         </td><td style=\"text-align: right;\">nan        </td><td style=\"text-align: right;\">nan        </td><td style=\"text-align: right;\">nan        </td><td style=\"text-align: right;\">nan         </td><td style=\"text-align: right;\">nan        </td><td style=\"text-align: right;\">nan         </td><td style=\"text-align: right;\">nan         </td><td style=\"text-align: right;\">nan         </td><td style=\"text-align: right;\">nan        </td><td style=\"text-align: right;\">nan          </td><td style=\"text-align: right;\">nan          </td><td style=\"text-align: right;\">nan        </td><td style=\"text-align: right;\">nan        </td><td style=\"text-align: right;\">nan       </td><td style=\"text-align: right;\">nan        </td><td style=\"text-align: right;\">nan        </td><td style=\"text-align: right;\">nan        </td><td style=\"text-align: right;\">nan         </td><td style=\"text-align: right;\">nan        </td><td style=\"text-align: right;\">nan        </td><td style=\"text-align: right;\">nan        </td><td style=\"text-align: right;\">nan         </td><td style=\"text-align: right;\">nan       </td><td style=\"text-align: right;\">nan        </td><td style=\"text-align: right;\">nan       </td><td style=\"text-align: right;\">nan         </td><td style=\"text-align: right;\">nan       </td><td style=\"text-align: right;\">nan         </td><td style=\"text-align: right;\">nan        </td><td style=\"text-align: right;\">nan        </td><td style=\"text-align: right;\">nan        </td><td style=\"text-align: right;\">nan        </td><td style=\"text-align: right;\">nan         </td><td style=\"text-align: right;\">nan        </td><td style=\"text-align: right;\">nan         </td><td style=\"text-align: right;\">nan         </td><td style=\"text-align: right;\">nan        </td><td style=\"text-align: right;\">nan         </td><td style=\"text-align: right;\">nan        </td></tr>\n",
       "</tbody>\n",
       "</table>"
      ]
     },
     "metadata": {},
     "output_type": "display_data"
    },
    {
     "data": {
      "text/plain": []
     },
     "execution_count": 55,
     "metadata": {},
     "output_type": "execute_result"
    }
   ],
   "source": [
    "desc_vecs.head()"
   ]
  },
  {
   "cell_type": "code",
   "execution_count": 56,
   "metadata": {},
   "outputs": [],
   "source": [
    "# Add aggregated word embeddings \n",
    "loans = loans.cbind(desc_vecs)"
   ]
  },
  {
   "cell_type": "markdown",
   "metadata": {},
   "source": [
    "# Step 5 (of 10). Model training\n",
    "\n",
    "Now that we have cleaned our data and added new columns, we will train a model to predict bad loans."
   ]
  },
  {
   "cell_type": "code",
   "execution_count": 57,
   "metadata": {},
   "outputs": [],
   "source": [
    "train, test = loans.split_frame(seed=25, ratios=[0.75])"
   ]
  },
  {
   "cell_type": "code",
   "execution_count": 58,
   "metadata": {},
   "outputs": [],
   "source": [
    "from h2o.estimators import H2OGradientBoostingEstimator\n",
    "from h2o.estimators import H2OXGBoost\n",
    "\n",
    "cols_to_remove = [\"initial_list_status\",\n",
    "                  \"out_prncp\",\n",
    "                  \"out_prncp_inv\",\n",
    "                  \"total_pymnt\",\n",
    "                  \"total_pymnt_inv\",\n",
    "                  \"total_rec_prncp\", \n",
    "                  \"total_rec_int\",\n",
    "                  \"total_rec_late_fee\",\n",
    "                  \"recoveries\",\n",
    "                  \"collection_recovery_fee\",\n",
    "                  \"last_pymnt_d\", \n",
    "                  \"last_pymnt_amnt\",\n",
    "                  \"next_pymnt_d\",\n",
    "                  \"last_credit_pull_d\",\n",
    "                  \"collections_12_mths_ex_med\" , \n",
    "                  \"mths_since_last_major_derog\",\n",
    "                  \"policy_code\",\n",
    "                  \"loan_status\",\n",
    "                  \"funded_amnt\",\n",
    "                  \"funded_amnt_inv\",\n",
    "                  \"mths_since_last_delinq\",\n",
    "                  \"mths_since_last_record\",\n",
    "                  \"id\",\n",
    "                  \"member_id\",\n",
    "                  \"desc\",\n",
    "                  \"zip_code\"]\n",
    "\n",
    "predictors = list(set(loans.col_names) - set(cols_to_remove))"
   ]
  },
  {
   "cell_type": "code",
   "execution_count": 59,
   "metadata": {},
   "outputs": [
    {
     "data": {
      "text/plain": [
       "['int_rate',\n",
       " 'C69',\n",
       " 'inq_last_6mths',\n",
       " 'C98',\n",
       " 'grade',\n",
       " 'C62',\n",
       " 'C21',\n",
       " 'C100',\n",
       " 'C64',\n",
       " 'C16',\n",
       " 'C40',\n",
       " 'C19',\n",
       " 'C15',\n",
       " 'C52',\n",
       " 'C84',\n",
       " 'C70',\n",
       " 'earliest_cr_line',\n",
       " 'C18',\n",
       " 'C87',\n",
       " 'C92',\n",
       " 'C1',\n",
       " 'total_acc',\n",
       " 'C45',\n",
       " 'C46',\n",
       " 'C34',\n",
       " 'C38',\n",
       " 'verification_status',\n",
       " 'C37',\n",
       " 'delinq_2yrs',\n",
       " 'C68',\n",
       " 'C54',\n",
       " 'C5',\n",
       " 'C25',\n",
       " 'C14',\n",
       " 'C60',\n",
       " 'C39',\n",
       " 'bad_loan',\n",
       " 'C57',\n",
       " 'purpose',\n",
       " 'C35',\n",
       " 'C56',\n",
       " 'C24',\n",
       " 'C29',\n",
       " 'C78',\n",
       " 'C81',\n",
       " 'C88',\n",
       " 'C41',\n",
       " 'C94',\n",
       " 'C80',\n",
       " 'C49',\n",
       " 'C58',\n",
       " 'C32',\n",
       " 'C28',\n",
       " 'C75',\n",
       " 'C90',\n",
       " 'C93',\n",
       " 'C7',\n",
       " 'C53',\n",
       " 'C74',\n",
       " 'C22',\n",
       " 'url',\n",
       " 'C79',\n",
       " 'C6',\n",
       " 'credit_length',\n",
       " 'C42',\n",
       " 'C23',\n",
       " 'C85',\n",
       " 'C77',\n",
       " 'revol_util',\n",
       " 'C76',\n",
       " 'C95',\n",
       " 'C67',\n",
       " 'C51',\n",
       " 'C30',\n",
       " 'C31',\n",
       " 'addr_state',\n",
       " 'C83',\n",
       " 'C26',\n",
       " 'emp_title',\n",
       " 'annual_inc',\n",
       " 'C63',\n",
       " 'C10',\n",
       " 'C9',\n",
       " 'term',\n",
       " 'pymnt_plan',\n",
       " 'dti',\n",
       " 'C48',\n",
       " 'C65',\n",
       " 'C55',\n",
       " 'issue_d_month',\n",
       " 'C20',\n",
       " 'C99',\n",
       " 'C3',\n",
       " 'loan_amnt',\n",
       " 'issue_d',\n",
       " 'C61',\n",
       " 'C4',\n",
       " 'C13',\n",
       " 'C50',\n",
       " 'C66',\n",
       " 'C96',\n",
       " 'open_acc',\n",
       " 'C82',\n",
       " 'installment',\n",
       " 'C27',\n",
       " 'C59',\n",
       " 'C36',\n",
       " 'pub_rec',\n",
       " 'C8',\n",
       " 'C17',\n",
       " 'C86',\n",
       " 'C33',\n",
       " 'home_ownership',\n",
       " 'C44',\n",
       " 'title',\n",
       " 'C11',\n",
       " 'C2',\n",
       " 'issue_d_year',\n",
       " 'C72',\n",
       " 'C97',\n",
       " 'C12',\n",
       " 'emp_length',\n",
       " 'C43',\n",
       " 'revol_bal',\n",
       " 'C73',\n",
       " 'C91',\n",
       " 'C47',\n",
       " 'C89',\n",
       " 'sub_grade',\n",
       " 'C71']"
      ]
     },
     "execution_count": 59,
     "metadata": {},
     "output_type": "execute_result"
    }
   ],
   "source": [
    "predictors"
   ]
  },
  {
   "cell_type": "code",
   "execution_count": 62,
   "metadata": {},
   "outputs": [
    {
     "name": "stdout",
     "output_type": "stream",
     "text": [
      "gbm Model Build progress: |███████████████████████████████████████████████| 100%\n"
     ]
    }
   ],
   "source": [
    "h2o_gbm_model = H2OGradientBoostingEstimator(stopping_metric=\"logloss\",\n",
    "                                         stopping_rounds= 5,  # early stopping\n",
    "                                         score_tree_interval=5,\n",
    "                                         ntrees=500,\n",
    "                                         model_id=\"gbm\",\n",
    "                                         nfolds=5,\n",
    "                                         seed=25,\n",
    "                                         fold_assignment='stratified')\n",
    "h2o_gbm_model.train(x=predictors,\n",
    "                y=\"bad_loan\",\n",
    "                training_frame=train,\n",
    "                validation_frame=test)"
   ]
  },
  {
   "cell_type": "markdown",
   "metadata": {},
   "source": [
    "# Step 7 (of 10).  Examine model accuracy\n",
    "\n",
    "The plot below shows the performance of the model as more trees are built.  This graph can help us see if our model is overfitting.  Our early stopping kicked in at 100 trees.  This is where the model was no longer improving performance on the test data."
   ]
  },
  {
   "cell_type": "code",
   "execution_count": 63,
   "metadata": {},
   "outputs": [
    {
     "data": {
      "image/png": "[encoded data removed]",
      "text/plain": [
       "<Figure size 432x288 with 1 Axes>"
      ]
     },
     "metadata": {
      "needs_background": "light"
     },
     "output_type": "display_data"
    }
   ],
   "source": [
    "%matplotlib inline\n",
    "h2o_gbm_model.plot()"
   ]
  },
  {
   "cell_type": "markdown",
   "metadata": {},
   "source": [
    "The ROC curve of the training and testing data are shown below.  The area under the ROC curve is much higher for the training data than the testing data indicating that the model may be beginning to memorize the training data."
   ]
  },
  {
   "cell_type": "code",
   "execution_count": 64,
   "metadata": {},
   "outputs": [
    {
     "name": "stdout",
     "output_type": "stream",
     "text": [
      "Training Data\n"
     ]
    },
    {
     "data": {
      "image/png": "[encoded data removed]",
      "text/plain": [
       "<Figure size 432x288 with 1 Axes>"
      ]
     },
     "metadata": {
      "needs_background": "light"
     },
     "output_type": "display_data"
    },
    {
     "name": "stdout",
     "output_type": "stream",
     "text": [
      "Testing Data\n"
     ]
    },
    {
     "data": {
      "image/png": "[encoded data removed]",
      "text/plain": [
       "<Figure size 432x288 with 1 Axes>"
      ]
     },
     "metadata": {
      "needs_background": "light"
     },
     "output_type": "display_data"
    },
    {
     "name": "stdout",
     "output_type": "stream",
     "text": [
      "X-Val\n"
     ]
    },
    {
     "data": {
      "image/png": "[encoded data removed]",
      "text/plain": [
       "<Figure size 432x288 with 1 Axes>"
      ]
     },
     "metadata": {
      "needs_background": "light"
     },
     "output_type": "display_data"
    }
   ],
   "source": [
    "print(\"Training Data\")\n",
    "gbm_model.model_performance(train = True).plot()\n",
    "print(\"Testing Data\")\n",
    "gbm_model.model_performance(valid = True).plot()\n",
    "print(\"X-Val\")\n",
    "gbm_model.model_performance(xval=True).plot()"
   ]
  },
  {
   "cell_type": "markdown",
   "metadata": {},
   "source": [
    "# Step 7 (of 10). Interpret model"
   ]
  },
  {
   "cell_type": "markdown",
   "metadata": {},
   "source": [
    "The variable importance plot shows us which variables are most important to predicting `bad_loan`.  We can use partial dependency plots to learn more about how these variables affect the prediction."
   ]
  },
  {
   "cell_type": "code",
   "execution_count": 68,
   "metadata": {},
   "outputs": [
    {
     "data": {
      "image/png": "[encoded data removed]",
      "text/plain": [
       "<Figure size 1008x720 with 1 Axes>"
      ]
     },
     "metadata": {
      "needs_background": "light"
     },
     "output_type": "display_data"
    }
   ],
   "source": [
    "gbm_model.varimp_plot(20)"
   ]
  },
  {
   "cell_type": "markdown",
   "metadata": {},
   "source": [
    "The partial dependency plot of the `inq_last_6mths` predictor shows us that, as the number of inquiries in the last 6 months increases, the likelihood of the loan defaulting also increases."
   ]
  },
  {
   "cell_type": "code",
   "execution_count": 69,
   "metadata": {
    "scrolled": false
   },
   "outputs": [
    {
     "name": "stdout",
     "output_type": "stream",
     "text": [
      "PartialDependencePlot progress: |█████████████████████████████████████████| 100%\n"
     ]
    },
    {
     "data": {
      "image/png": "[encoded data removed]",
      "text/plain": [
       "<Figure size 504x720 with 1 Axes>"
      ]
     },
     "metadata": {
      "needs_background": "light"
     },
     "output_type": "display_data"
    }
   ],
   "source": [
    "pdp = gbm_model.partial_plot(cols=[\"inq_last_6mths\"], data=train)"
   ]
  },
  {
   "cell_type": "code",
   "execution_count": 70,
   "metadata": {},
   "outputs": [
    {
     "data": {
      "text/html": [
       "<table>\n",
       "<thead>\n",
       "<tr><th style=\"text-align: right;\">  inq_last_6mths</th><th style=\"text-align: right;\">  Count</th></tr>\n",
       "</thead>\n",
       "<tbody>\n",
       "<tr><td style=\"text-align: right;\">               0</td><td style=\"text-align: right;\">  17908</td></tr>\n",
       "<tr><td style=\"text-align: right;\">               1</td><td style=\"text-align: right;\">  10287</td></tr>\n",
       "<tr><td style=\"text-align: right;\">               2</td><td style=\"text-align: right;\">   5478</td></tr>\n",
       "<tr><td style=\"text-align: right;\">               3</td><td style=\"text-align: right;\">   2942</td></tr>\n",
       "<tr><td style=\"text-align: right;\">               4</td><td style=\"text-align: right;\">   1001</td></tr>\n",
       "<tr><td style=\"text-align: right;\">               5</td><td style=\"text-align: right;\">    577</td></tr>\n",
       "<tr><td style=\"text-align: right;\">               6</td><td style=\"text-align: right;\">    324</td></tr>\n",
       "<tr><td style=\"text-align: right;\">               7</td><td style=\"text-align: right;\">    177</td></tr>\n",
       "<tr><td style=\"text-align: right;\">               8</td><td style=\"text-align: right;\">    111</td></tr>\n",
       "<tr><td style=\"text-align: right;\">               9</td><td style=\"text-align: right;\">     50</td></tr>\n",
       "<tr><td style=\"text-align: right;\">              10</td><td style=\"text-align: right;\">     24</td></tr>\n",
       "<tr><td style=\"text-align: right;\">              11</td><td style=\"text-align: right;\">     15</td></tr>\n",
       "<tr><td style=\"text-align: right;\">              12</td><td style=\"text-align: right;\">     15</td></tr>\n",
       "<tr><td style=\"text-align: right;\">              13</td><td style=\"text-align: right;\">      6</td></tr>\n",
       "<tr><td style=\"text-align: right;\">              14</td><td style=\"text-align: right;\">      6</td></tr>\n",
       "<tr><td style=\"text-align: right;\">              15</td><td style=\"text-align: right;\">      9</td></tr>\n",
       "<tr><td style=\"text-align: right;\">              16</td><td style=\"text-align: right;\">      3</td></tr>\n",
       "<tr><td style=\"text-align: right;\">              17</td><td style=\"text-align: right;\">      2</td></tr>\n",
       "<tr><td style=\"text-align: right;\">              18</td><td style=\"text-align: right;\">      4</td></tr>\n",
       "<tr><td style=\"text-align: right;\">              19</td><td style=\"text-align: right;\">      2</td></tr>\n",
       "<tr><td style=\"text-align: right;\">              20</td><td style=\"text-align: right;\">      1</td></tr>\n",
       "<tr><td style=\"text-align: right;\">              24</td><td style=\"text-align: right;\">      2</td></tr>\n",
       "<tr><td style=\"text-align: right;\">              25</td><td style=\"text-align: right;\">      1</td></tr>\n",
       "<tr><td style=\"text-align: right;\">              27</td><td style=\"text-align: right;\">      1</td></tr>\n",
       "<tr><td style=\"text-align: right;\">              28</td><td style=\"text-align: right;\">      1</td></tr>\n",
       "<tr><td style=\"text-align: right;\">              31</td><td style=\"text-align: right;\">      1</td></tr>\n",
       "<tr><td style=\"text-align: right;\">              32</td><td style=\"text-align: right;\">      1</td></tr>\n",
       "<tr><td style=\"text-align: right;\">              33</td><td style=\"text-align: right;\">      1</td></tr>\n",
       "</tbody>\n",
       "</table>"
      ]
     },
     "metadata": {},
     "output_type": "display_data"
    },
    {
     "data": {
      "text/plain": []
     },
     "execution_count": 70,
     "metadata": {},
     "output_type": "execute_result"
    }
   ],
   "source": [
    "loans[\"inq_last_6mths\"].table().head(100)"
   ]
  },
  {
   "cell_type": "markdown",
   "metadata": {},
   "source": [
    "# Step 8 (of 10). Save and reuse model"
   ]
  },
  {
   "cell_type": "markdown",
   "metadata": {},
   "source": [
    "The model can either be embedded into a self-contained Java MOJO/POJO package\n",
    "or it can be saved and later loaded directly in H2O-3 cluster. For production\n",
    "use, we recommend to use MOJO as it is optimised for speed. See the [guide](http://docs.h2o.ai/h2o/latest-stable/h2o-docs/productionizing.html) for further information."
   ]
  },
  {
   "cell_type": "markdown",
   "metadata": {},
   "source": [
    "### Downloading MOJO"
   ]
  },
  {
   "cell_type": "code",
   "execution_count": null,
   "metadata": {},
   "outputs": [],
   "source": [
    "gbm_model.download_mojo()"
   ]
  },
  {
   "cell_type": "markdown",
   "metadata": {},
   "source": [
    "### Save and reuse the model "
   ]
  },
  {
   "cell_type": "markdown",
   "metadata": {},
   "source": [
    "We can save the model to disk for later batch scoring in H2O cluster."
   ]
  },
  {
   "cell_type": "code",
   "execution_count": null,
   "metadata": {},
   "outputs": [],
   "source": [
    "model_path = h2o.save_model(model=gbm_model, force=True)\n",
    "print(model_path)\n",
    "loaded_model = h2o.load_model(path=model_path)"
   ]
  },
  {
   "cell_type": "markdown",
   "metadata": {},
   "source": [
    "We can also score new data using the predict function:"
   ]
  },
  {
   "cell_type": "code",
   "execution_count": null,
   "metadata": {
    "scrolled": true
   },
   "outputs": [],
   "source": [
    "bad_loan_hat = loaded_model.predict(test)\n",
    "bad_loan_hat.head(15)"
   ]
  },
  {
   "cell_type": "markdown",
   "metadata": {},
   "source": [
    "# Step 9 (of 10). AutoML (optional)\n",
    "AutoML can be used for automating the machine learning workflow, which includes automatic training and tuning of many models within a user-specified time-limit. Stacked Ensembles will be automatically trained on collections of individual models to produce highly predictive ensemble models."
   ]
  },
  {
   "cell_type": "code",
   "execution_count": 71,
   "metadata": {},
   "outputs": [
    {
     "name": "stdout",
     "output_type": "stream",
     "text": [
      "AutoML progress: |████████████████████████████████████████████████████████| 100%\n"
     ]
    }
   ],
   "source": [
    "from h2o.automl import H2OAutoML\n",
    "\n",
    "aml = H2OAutoML(max_runtime_secs=300, seed=25)\n",
    "aml.train(x=predictors, y='bad_loan', training_frame=train)"
   ]
  },
  {
   "cell_type": "markdown",
   "metadata": {},
   "source": [
    "The leaderboard contains the performance metrics of the models generated by AutoML:"
   ]
  },
  {
   "cell_type": "code",
   "execution_count": 72,
   "metadata": {
    "scrolled": false
   },
   "outputs": [
    {
     "data": {
      "text/html": [
       "<table>\n",
       "<thead>\n",
       "<tr><th>model_id                        </th><th style=\"text-align: right;\">    auc</th><th style=\"text-align: right;\">  logloss</th><th style=\"text-align: right;\">  mean_per_class_error</th><th style=\"text-align: right;\">    rmse</th><th style=\"text-align: right;\">     mse</th></tr>\n",
       "</thead>\n",
       "<tbody>\n",
       "<tr><td>XGBoost_1_AutoML_20190710_210457</td><td style=\"text-align: right;\">0.73434</td><td style=\"text-align: right;\"> 0.392841</td><td style=\"text-align: right;\">              0.329755</td><td style=\"text-align: right;\">0.348424</td><td style=\"text-align: right;\">0.121399</td></tr>\n",
       "</tbody>\n",
       "</table>"
      ]
     },
     "metadata": {},
     "output_type": "display_data"
    },
    {
     "data": {
      "text/plain": []
     },
     "execution_count": 72,
     "metadata": {},
     "output_type": "execute_result"
    }
   ],
   "source": [
    "aml.leaderboard"
   ]
  },
  {
   "cell_type": "markdown",
   "metadata": {},
   "source": [
    "Since we provided only training frame during training, the models are sorted by their cross-validated performance metrics (AUROC by default for classification). We can evaluate the best model (`leader`) on the test data:"
   ]
  },
  {
   "cell_type": "code",
   "execution_count": null,
   "metadata": {},
   "outputs": [],
   "source": [
    "aml.leader.model_performance(test_data=test).plot()\n",
    "aml.leader.model_performance(test_data=test)"
   ]
  },
  {
   "cell_type": "markdown",
   "metadata": {},
   "source": [
    "# Step 10 (of 10). Stop H2O-3 cluster"
   ]
  },
  {
   "cell_type": "code",
   "execution_count": null,
   "metadata": {},
   "outputs": [],
   "source": [
    "h2o.cluster().shutdown()"
   ]
  },
  {
   "cell_type": "markdown",
   "metadata": {},
   "source": [
    "# Bonus: H2O-3 documentation\n",
    "\n",
    "* http://docs.h2o.ai"
   ]
  }
 ],
 "metadata": {
  "kernelspec": {
   "display_name": "Python 3",
   "language": "python",
   "name": "python3"
  },
  "language_info": {
   "codemirror_mode": {
    "name": "ipython",
    "version": 3
   },
   "file_extension": ".py",
   "mimetype": "text/x-python",
   "name": "python",
   "nbconvert_exporter": "python",
   "pygments_lexer": "ipython3",
   "version": "3.6.8"
  }
 },
 "nbformat": 4,
 "nbformat_minor": 2
}
