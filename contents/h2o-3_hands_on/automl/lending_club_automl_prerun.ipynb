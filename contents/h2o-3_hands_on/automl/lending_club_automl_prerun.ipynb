{
 "cells": [
  {
   "cell_type": "markdown",
   "metadata": {},
   "source": [
    "# Lending Club Analysis Using AutoML\n",
    "\n",
    "In this tutorial, we will go through a step-by-step workflow to build models using AML to determine loan deliquency. We will make predictions based only on the information available at the time the loan was issued.  The data for this exercise come from the public Lending Club data set, a description can be found [here](https://www.kaggle.com/pragyanbo/a-hitchhiker-s-guide-to-lending-club-loan-data/notebook).\n",
    "\n",
    "We will highlight data cleaning and feature engineering that will improve model performance."
   ]
  },
  {
   "cell_type": "markdown",
   "metadata": {},
   "source": [
    "## Workflow\n",
    "\n",
    "1. Start H2O-3 cluster\n",
    "2. Import data\n",
    "3. Train default models using H2O's AutoML\n",
    "4. Feature engineering to improve model performance\n",
    "5. Train models using transformed data with AutoML\n",
    "6. Stop H2O-3 cluster"
   ]
  },
  {
   "cell_type": "markdown",
   "metadata": {},
   "source": [
    "# Step 1 (of 6). Start H2O Cluster"
   ]
  },
  {
   "cell_type": "code",
   "execution_count": 1,
   "metadata": {},
   "outputs": [
    {
     "name": "stdout",
     "output_type": "stream",
     "text": [
      "Checking whether there is an H2O instance running at http://localhost:54321 ..... not found.\n",
      "Attempting to start a local H2O server...\n",
      "  Java Version: openjdk version \"1.8.0_212\"; OpenJDK Runtime Environment (build 1.8.0_212-8u212-b03-0ubuntu1.18.04.1-b03); OpenJDK 64-Bit Server VM (build 25.212-b03, mixed mode)\n",
      "  Starting server from /home/h2o/bin/miniconda3/envs/h2o/lib/python3.6/site-packages/h2o/backend/bin/h2o.jar\n",
      "  Ice root: /tmp/tmp4c0evpx6\n",
      "  JVM stdout: /tmp/tmp4c0evpx6/h2o_unknownUser_started_from_python.out\n",
      "  JVM stderr: /tmp/tmp4c0evpx6/h2o_unknownUser_started_from_python.err\n",
      "  Server is running at http://127.0.0.1:54321\n",
      "Connecting to H2O server at http://127.0.0.1:54321 ... successful.\n"
     ]
    },
    {
     "data": {
      "text/html": [
       "<div style=\"overflow:auto\"><table style=\"width:50%\"><tr><td>H2O cluster uptime:</td>\n",
       "<td>01 secs</td></tr>\n",
       "<tr><td>H2O cluster timezone:</td>\n",
       "<td>Etc/UTC</td></tr>\n",
       "<tr><td>H2O data parsing timezone:</td>\n",
       "<td>UTC</td></tr>\n",
       "<tr><td>H2O cluster version:</td>\n",
       "<td>3.24.0.5</td></tr>\n",
       "<tr><td>H2O cluster version age:</td>\n",
       "<td>1 month and 22 days </td></tr>\n",
       "<tr><td>H2O cluster name:</td>\n",
       "<td>H2O_from_python_unknownUser_3ec8ez</td></tr>\n",
       "<tr><td>H2O cluster total nodes:</td>\n",
       "<td>1</td></tr>\n",
       "<tr><td>H2O cluster free memory:</td>\n",
       "<td>5.333 Gb</td></tr>\n",
       "<tr><td>H2O cluster total cores:</td>\n",
       "<td>16</td></tr>\n",
       "<tr><td>H2O cluster allowed cores:</td>\n",
       "<td>16</td></tr>\n",
       "<tr><td>H2O cluster status:</td>\n",
       "<td>accepting new members, healthy</td></tr>\n",
       "<tr><td>H2O connection url:</td>\n",
       "<td>http://127.0.0.1:54321</td></tr>\n",
       "<tr><td>H2O connection proxy:</td>\n",
       "<td>None</td></tr>\n",
       "<tr><td>H2O internal security:</td>\n",
       "<td>False</td></tr>\n",
       "<tr><td>H2O API Extensions:</td>\n",
       "<td>Amazon S3, XGBoost, Algos, AutoML, Core V3, Core V4</td></tr>\n",
       "<tr><td>Python version:</td>\n",
       "<td>3.6.8 final</td></tr></table></div>"
      ],
      "text/plain": [
       "--------------------------  ---------------------------------------------------\n",
       "H2O cluster uptime:         01 secs\n",
       "H2O cluster timezone:       Etc/UTC\n",
       "H2O data parsing timezone:  UTC\n",
       "H2O cluster version:        3.24.0.5\n",
       "H2O cluster version age:    1 month and 22 days\n",
       "H2O cluster name:           H2O_from_python_unknownUser_3ec8ez\n",
       "H2O cluster total nodes:    1\n",
       "H2O cluster free memory:    5.333 Gb\n",
       "H2O cluster total cores:    16\n",
       "H2O cluster allowed cores:  16\n",
       "H2O cluster status:         accepting new members, healthy\n",
       "H2O connection url:         http://127.0.0.1:54321\n",
       "H2O connection proxy:\n",
       "H2O internal security:      False\n",
       "H2O API Extensions:         Amazon S3, XGBoost, Algos, AutoML, Core V3, Core V4\n",
       "Python version:             3.6.8 final\n",
       "--------------------------  ---------------------------------------------------"
      ]
     },
     "metadata": {},
     "output_type": "display_data"
    }
   ],
   "source": [
    "import h2o\n",
    "h2o.init(max_mem_size = \"6g\")"
   ]
  },
  {
   "cell_type": "markdown",
   "metadata": {},
   "source": [
    "# Step 2 (of 6). Import Data\n",
    "\n",
    "This exploration of H2O will use a version of the Lending Club Loan Data that can be found on [Kaggle](https://www.kaggle.com/wendykan/lending-club-loan-data). This data consists of 15 variables:\n",
    "\n",
    "|  Id   | Column Name | Description |\n",
    "| --- | ----------- | ----------- |\n",
    "|   1 | loan_amnt   | Requested loan amount (US dollars) |\n",
    "|   2 | term        | Loan term length (months) |\n",
    "|   3 | int_rate    | Recommended interest rate |\n",
    "|   4 | emp_length  | Employment length (years) |\n",
    "|   5 | home_ownership| Housing status |\n",
    "|   6 | annual_inc  | Annual income (US dollars) |\n",
    "|   7 | purpose     | Purpose for the loan |\n",
    "|   8 | addr_state  | State of residence |\n",
    "|   9 | dti         | Debt to income ratio |\n",
    "|  10 | delinq_2yrs | Number of delinquencies in the past 2 years |\n",
    "|  11 | revol_util  | Percent of revolving credit line utilized |\n",
    "|  12 | total_acc   | Number of active accounts |\n",
    "|  13 | bad_loan    | Bad loan indicator |\n",
    "|  14 | longest_credit_length | Age of oldest active account |\n",
    "|  15 | verification_status | Income verification status |"
   ]
  },
  {
   "cell_type": "code",
   "execution_count": 2,
   "metadata": {},
   "outputs": [
    {
     "name": "stdout",
     "output_type": "stream",
     "text": [
      "Parse progress: |█████████████████████████████████████████████████████████| 100%\n"
     ]
    }
   ],
   "source": [
    "# https://s3-us-west-2.amazonaws.com/h2o-tutorials/data/topics/data/automl/loan.csv\n",
    "loans = h2o.import_file(\"../../data/automl/loan.csv\")\n",
    "loans[\"bad_loan\"] = loans[\"bad_loan\"].asfactor()"
   ]
  },
  {
   "cell_type": "code",
   "execution_count": 3,
   "metadata": {},
   "outputs": [
    {
     "name": "stdout",
     "output_type": "stream",
     "text": [
      "Rows:163987\n",
      "Cols:15\n",
      "\n",
      "\n"
     ]
    },
    {
     "data": {
      "text/html": [
       "<table>\n",
       "<thead>\n",
       "<tr><th>       </th><th>loan_amnt         </th><th>term     </th><th>int_rate          </th><th>emp_length       </th><th>home_ownership  </th><th>annual_inc       </th><th>purpose           </th><th>addr_state  </th><th>dti               </th><th>delinq_2yrs       </th><th>revol_util        </th><th>total_acc         </th><th>bad_loan  </th><th>longest_credit_length  </th><th>verification_status  </th></tr>\n",
       "</thead>\n",
       "<tbody>\n",
       "<tr><td>type   </td><td>int               </td><td>enum     </td><td>real              </td><td>int              </td><td>enum            </td><td>real             </td><td>enum              </td><td>enum        </td><td>real              </td><td>int               </td><td>real              </td><td>int               </td><td>enum      </td><td>int                    </td><td>enum                 </td></tr>\n",
       "<tr><td>mins   </td><td>500.0             </td><td>         </td><td>5.42              </td><td>0.0              </td><td>                </td><td>1896.0           </td><td>                  </td><td>            </td><td>0.0               </td><td>0.0               </td><td>0.0               </td><td>1.0               </td><td>          </td><td>0.0                    </td><td>                     </td></tr>\n",
       "<tr><td>mean   </td><td>13074.169141456337</td><td>         </td><td>13.715904065566173</td><td>5.684352932995329</td><td>                </td><td>71915.670519749  </td><td>                  </td><td>            </td><td>15.881530121290105</td><td>0.2273570060625282</td><td>54.07917280242256 </td><td>24.579733834274627</td><td>          </td><td>14.854273655448347     </td><td>                     </td></tr>\n",
       "<tr><td>maxs   </td><td>35000.0           </td><td>         </td><td>26.06             </td><td>10.0             </td><td>                </td><td>7141778.0        </td><td>                  </td><td>            </td><td>39.99             </td><td>29.0              </td><td>150.70000000000002</td><td>118.0             </td><td>          </td><td>65.0                   </td><td>                     </td></tr>\n",
       "<tr><td>sigma  </td><td>7993.55618873465  </td><td>         </td><td>4.3919398705457935</td><td>3.610663731100236</td><td>                </td><td>59070.91565491825</td><td>                  </td><td>            </td><td>7.587668224192548 </td><td>0.6941679229284182</td><td>25.285366766770505</td><td>11.685190365910659</td><td>          </td><td>6.947732922546696      </td><td>                     </td></tr>\n",
       "<tr><td>zeros  </td><td>0                 </td><td>         </td><td>0                 </td><td>14248            </td><td>                </td><td>0                </td><td>                  </td><td>            </td><td>270               </td><td>139459            </td><td>1562              </td><td>0                 </td><td>          </td><td>11                     </td><td>                     </td></tr>\n",
       "<tr><td>missing</td><td>0                 </td><td>0        </td><td>0                 </td><td>5804             </td><td>0               </td><td>4                </td><td>0                 </td><td>0           </td><td>0                 </td><td>29                </td><td>193               </td><td>29                </td><td>0         </td><td>29                     </td><td>0                    </td></tr>\n",
       "<tr><td>0      </td><td>5000.0            </td><td>36 months</td><td>10.65             </td><td>10.0             </td><td>RENT            </td><td>24000.0          </td><td>credit_card       </td><td>AZ          </td><td>27.65             </td><td>0.0               </td><td>83.7              </td><td>9.0               </td><td>0         </td><td>26.0                   </td><td>verified             </td></tr>\n",
       "<tr><td>1      </td><td>2500.0            </td><td>60 months</td><td>15.27             </td><td>0.0              </td><td>RENT            </td><td>30000.0          </td><td>car               </td><td>GA          </td><td>1.0               </td><td>0.0               </td><td>9.4               </td><td>4.0               </td><td>1         </td><td>12.0                   </td><td>verified             </td></tr>\n",
       "<tr><td>2      </td><td>2400.0            </td><td>36 months</td><td>15.96             </td><td>10.0             </td><td>RENT            </td><td>12252.0          </td><td>small_business    </td><td>IL          </td><td>8.72              </td><td>0.0               </td><td>98.5              </td><td>10.0              </td><td>0         </td><td>10.0                   </td><td>not verified         </td></tr>\n",
       "<tr><td>3      </td><td>10000.0           </td><td>36 months</td><td>13.49             </td><td>10.0             </td><td>RENT            </td><td>49200.0          </td><td>other             </td><td>CA          </td><td>20.0              </td><td>0.0               </td><td>21.0              </td><td>37.0              </td><td>0         </td><td>15.0                   </td><td>verified             </td></tr>\n",
       "<tr><td>4      </td><td>5000.0            </td><td>36 months</td><td>7.9               </td><td>3.0              </td><td>RENT            </td><td>36000.0          </td><td>wedding           </td><td>AZ          </td><td>11.2              </td><td>0.0               </td><td>28.3              </td><td>12.0              </td><td>0         </td><td>7.0                    </td><td>verified             </td></tr>\n",
       "<tr><td>5      </td><td>3000.0            </td><td>36 months</td><td>18.64             </td><td>9.0              </td><td>RENT            </td><td>48000.0          </td><td>car               </td><td>CA          </td><td>5.3500000000000005</td><td>0.0               </td><td>87.5              </td><td>4.0               </td><td>0         </td><td>4.0                    </td><td>verified             </td></tr>\n",
       "<tr><td>6      </td><td>5600.0            </td><td>60 months</td><td>21.28             </td><td>4.0              </td><td>OWN             </td><td>40000.0          </td><td>small_business    </td><td>CA          </td><td>5.55              </td><td>0.0               </td><td>32.6              </td><td>13.0              </td><td>1         </td><td>7.0                    </td><td>verified             </td></tr>\n",
       "<tr><td>7      </td><td>5375.0            </td><td>60 months</td><td>12.69             </td><td>0.0              </td><td>RENT            </td><td>15000.0          </td><td>other             </td><td>TX          </td><td>18.08             </td><td>0.0               </td><td>36.5              </td><td>3.0               </td><td>1         </td><td>7.0                    </td><td>verified             </td></tr>\n",
       "<tr><td>8      </td><td>6500.0            </td><td>60 months</td><td>14.65             </td><td>5.0              </td><td>OWN             </td><td>72000.0          </td><td>debt_consolidation</td><td>AZ          </td><td>16.12             </td><td>0.0               </td><td>20.6              </td><td>23.0              </td><td>0         </td><td>13.0                   </td><td>not verified         </td></tr>\n",
       "<tr><td>9      </td><td>12000.0           </td><td>36 months</td><td>12.69             </td><td>10.0             </td><td>OWN             </td><td>75000.0          </td><td>debt_consolidation</td><td>CA          </td><td>10.78             </td><td>0.0               </td><td>67.10000000000001 </td><td>34.0              </td><td>0         </td><td>22.0                   </td><td>verified             </td></tr>\n",
       "</tbody>\n",
       "</table>"
      ]
     },
     "metadata": {},
     "output_type": "display_data"
    }
   ],
   "source": [
    "loans.describe()"
   ]
  },
  {
   "cell_type": "markdown",
   "metadata": {},
   "source": [
    "# Step 3 (of 6). Train Default Models with AutoML"
   ]
  },
  {
   "cell_type": "markdown",
   "metadata": {},
   "source": [
    "Start by splitting the data into train and test sets"
   ]
  },
  {
   "cell_type": "code",
   "execution_count": 4,
   "metadata": {},
   "outputs": [],
   "source": [
    "train, test = loans.split_frame(seed=1234, ratios=[0.75])"
   ]
  },
  {
   "cell_type": "markdown",
   "metadata": {},
   "source": [
    "and train 6 models using all but the `DeepLearning` algorithms"
   ]
  },
  {
   "cell_type": "code",
   "execution_count": 5,
   "metadata": {},
   "outputs": [
    {
     "name": "stdout",
     "output_type": "stream",
     "text": [
      "AutoML progress: |████████████████████████████████████████████████████████| 100%\n"
     ]
    }
   ],
   "source": [
    "# Set target and predictor variables\n",
    "y = \"bad_loan\"\n",
    "x = train.col_names\n",
    "x.remove(y)\n",
    "x.remove(\"int_rate\")\n",
    "\n",
    "# Use Auto ML to train models\n",
    "from h2o.automl import H2OAutoML\n",
    "aml = H2OAutoML(max_models = 6, exclude_algos = ['DeepLearning'])\n",
    "aml.train(x = x, y = y, training_frame = train, valid)"
   ]
  },
  {
   "cell_type": "markdown",
   "metadata": {},
   "source": [
    "Print out a leaderboard with the 6 best models and two ensembles: a stacked ensemble of all models, and a best-of-family stacked ensemble:"
   ]
  },
  {
   "cell_type": "code",
   "execution_count": 6,
   "metadata": {},
   "outputs": [
    {
     "data": {
      "text/html": [
       "<table>\n",
       "<thead>\n",
       "<tr><th>model_id                                           </th><th style=\"text-align: right;\">     auc</th><th style=\"text-align: right;\">  logloss</th><th style=\"text-align: right;\">  mean_per_class_error</th><th style=\"text-align: right;\">    rmse</th><th style=\"text-align: right;\">     mse</th></tr>\n",
       "</thead>\n",
       "<tbody>\n",
       "<tr><td>StackedEnsemble_AllModels_AutoML_20190810_025037   </td><td style=\"text-align: right;\">0.683657</td><td style=\"text-align: right;\"> 0.4454  </td><td style=\"text-align: right;\">              0.366907</td><td style=\"text-align: right;\">0.374213</td><td style=\"text-align: right;\">0.140035</td></tr>\n",
       "<tr><td>StackedEnsemble_BestOfFamily_AutoML_20190810_025037</td><td style=\"text-align: right;\">0.683554</td><td style=\"text-align: right;\"> 0.445497</td><td style=\"text-align: right;\">              0.36751 </td><td style=\"text-align: right;\">0.374265</td><td style=\"text-align: right;\">0.140074</td></tr>\n",
       "<tr><td>GBM_1_AutoML_20190810_025037                       </td><td style=\"text-align: right;\">0.681013</td><td style=\"text-align: right;\"> 0.444653</td><td style=\"text-align: right;\">              0.367941</td><td style=\"text-align: right;\">0.374063</td><td style=\"text-align: right;\">0.139923</td></tr>\n",
       "<tr><td>XGBoost_1_AutoML_20190810_025037                   </td><td style=\"text-align: right;\">0.678782</td><td style=\"text-align: right;\"> 0.445314</td><td style=\"text-align: right;\">              0.369524</td><td style=\"text-align: right;\">0.374388</td><td style=\"text-align: right;\">0.140166</td></tr>\n",
       "<tr><td>XGBoost_3_AutoML_20190810_025037                   </td><td style=\"text-align: right;\">0.677342</td><td style=\"text-align: right;\"> 0.446417</td><td style=\"text-align: right;\">              0.371173</td><td style=\"text-align: right;\">0.374516</td><td style=\"text-align: right;\">0.140263</td></tr>\n",
       "<tr><td>XGBoost_2_AutoML_20190810_025037                   </td><td style=\"text-align: right;\">0.673464</td><td style=\"text-align: right;\"> 0.44727 </td><td style=\"text-align: right;\">              0.374527</td><td style=\"text-align: right;\">0.375207</td><td style=\"text-align: right;\">0.14078 </td></tr>\n",
       "<tr><td>GLM_grid_1_AutoML_20190810_025037_model_1          </td><td style=\"text-align: right;\">0.673421</td><td style=\"text-align: right;\"> 0.44771 </td><td style=\"text-align: right;\">              0.373882</td><td style=\"text-align: right;\">0.374975</td><td style=\"text-align: right;\">0.140606</td></tr>\n",
       "<tr><td>DRF_1_AutoML_20190810_025037                       </td><td style=\"text-align: right;\">0.65847 </td><td style=\"text-align: right;\"> 0.454391</td><td style=\"text-align: right;\">              0.384234</td><td style=\"text-align: right;\">0.377906</td><td style=\"text-align: right;\">0.142813</td></tr>\n",
       "</tbody>\n",
       "</table>"
      ]
     },
     "metadata": {},
     "output_type": "display_data"
    },
    {
     "name": "stdout",
     "output_type": "stream",
     "text": [
      "\n"
     ]
    }
   ],
   "source": [
    "print(aml.leaderboard)"
   ]
  },
  {
   "cell_type": "markdown",
   "metadata": {},
   "source": [
    "As is often the case, the stacked ensemble models are among the best in performance."
   ]
  },
  {
   "cell_type": "markdown",
   "metadata": {},
   "source": [
    "## Examine the Top Model\n",
    "\n",
    "The `aml.leader` call automatically pulls out the top model"
   ]
  },
  {
   "cell_type": "code",
   "execution_count": 7,
   "metadata": {},
   "outputs": [],
   "source": [
    "top_model = aml.leader"
   ]
  },
  {
   "cell_type": "markdown",
   "metadata": {},
   "source": [
    "Details for training and cross-validated data are contained in `aml.leader`"
   ]
  },
  {
   "cell_type": "code",
   "execution_count": 8,
   "metadata": {},
   "outputs": [
    {
     "name": "stdout",
     "output_type": "stream",
     "text": [
      "Model Details\n",
      "=============\n",
      "H2OStackedEnsembleEstimator :  Stacked Ensemble\n",
      "Model Key:  StackedEnsemble_AllModels_AutoML_20190810_025037\n",
      "No model summary for this model\n",
      "\n",
      "\n",
      "ModelMetricsBinomialGLM: stackedensemble\n",
      "** Reported on train data. **\n",
      "\n",
      "MSE: 0.12271896704267946\n",
      "RMSE: 0.35031267039985786\n",
      "LogLoss: 0.39625017846633953\n",
      "Null degrees of freedom: 123061\n",
      "Residual degrees of freedom: 123055\n",
      "Null deviance: 117105.43670854633\n",
      "Residual deviance: 97526.67892484934\n",
      "AIC: 97540.67892484934\n",
      "AUC: 0.8151310580155964\n",
      "pr_auc: 0.5216436442729844\n",
      "Gini: 0.6302621160311928\n",
      "Confusion Matrix (Act/Pred) for max f1 @ threshold = 0.21356576637957697: \n"
     ]
    },
    {
     "data": {
      "text/html": [
       "<div style=\"overflow:auto\"><table style=\"width:50%\"><tr><td><b></b></td>\n",
       "<td><b>0</b></td>\n",
       "<td><b>1</b></td>\n",
       "<td><b>Error</b></td>\n",
       "<td><b>Rate</b></td></tr>\n",
       "<tr><td>0</td>\n",
       "<td>82895.0</td>\n",
       "<td>17656.0</td>\n",
       "<td>0.1756</td>\n",
       "<td> (17656.0/100551.0)</td></tr>\n",
       "<tr><td>1</td>\n",
       "<td>8710.0</td>\n",
       "<td>13801.0</td>\n",
       "<td>0.3869</td>\n",
       "<td> (8710.0/22511.0)</td></tr>\n",
       "<tr><td>Total</td>\n",
       "<td>91605.0</td>\n",
       "<td>31457.0</td>\n",
       "<td>0.2142</td>\n",
       "<td> (26366.0/123062.0)</td></tr></table></div>"
      ],
      "text/plain": [
       "       0      1      Error    Rate\n",
       "-----  -----  -----  -------  ------------------\n",
       "0      82895  17656  0.1756   (17656.0/100551.0)\n",
       "1      8710   13801  0.3869   (8710.0/22511.0)\n",
       "Total  91605  31457  0.2142   (26366.0/123062.0)"
      ]
     },
     "metadata": {},
     "output_type": "display_data"
    },
    {
     "name": "stdout",
     "output_type": "stream",
     "text": [
      "Maximum Metrics: Maximum metrics at their respective thresholds\n",
      "\n"
     ]
    },
    {
     "data": {
      "text/html": [
       "<div style=\"overflow:auto\"><table style=\"width:50%\"><tr><td><b>metric</b></td>\n",
       "<td><b>threshold</b></td>\n",
       "<td><b>value</b></td>\n",
       "<td><b>idx</b></td></tr>\n",
       "<tr><td>max f1</td>\n",
       "<td>0.2135658</td>\n",
       "<td>0.5114512</td>\n",
       "<td>239.0</td></tr>\n",
       "<tr><td>max f2</td>\n",
       "<td>0.1467549</td>\n",
       "<td>0.6409254</td>\n",
       "<td>308.0</td></tr>\n",
       "<tr><td>max f0point5</td>\n",
       "<td>0.2979042</td>\n",
       "<td>0.5096104</td>\n",
       "<td>173.0</td></tr>\n",
       "<tr><td>max accuracy</td>\n",
       "<td>0.3771561</td>\n",
       "<td>0.8380329</td>\n",
       "<td>128.0</td></tr>\n",
       "<tr><td>max precision</td>\n",
       "<td>0.8814867</td>\n",
       "<td>1.0</td>\n",
       "<td>0.0</td></tr>\n",
       "<tr><td>max recall</td>\n",
       "<td>0.0792108</td>\n",
       "<td>1.0</td>\n",
       "<td>393.0</td></tr>\n",
       "<tr><td>max specificity</td>\n",
       "<td>0.8814867</td>\n",
       "<td>1.0</td>\n",
       "<td>0.0</td></tr>\n",
       "<tr><td>max absolute_mcc</td>\n",
       "<td>0.2190399</td>\n",
       "<td>0.3884668</td>\n",
       "<td>234.0</td></tr>\n",
       "<tr><td>max min_per_class_accuracy</td>\n",
       "<td>0.1817720</td>\n",
       "<td>0.7328417</td>\n",
       "<td>268.0</td></tr>\n",
       "<tr><td>max mean_per_class_accuracy</td>\n",
       "<td>0.1817720</td>\n",
       "<td>0.7332148</td>\n",
       "<td>268.0</td></tr></table></div>"
      ],
      "text/plain": [
       "metric                       threshold    value     idx\n",
       "---------------------------  -----------  --------  -----\n",
       "max f1                       0.213566     0.511451  239\n",
       "max f2                       0.146755     0.640925  308\n",
       "max f0point5                 0.297904     0.50961   173\n",
       "max accuracy                 0.377156     0.838033  128\n",
       "max precision                0.881487     1         0\n",
       "max recall                   0.0792108    1         393\n",
       "max specificity              0.881487     1         0\n",
       "max absolute_mcc             0.21904      0.388467  234\n",
       "max min_per_class_accuracy   0.181772     0.732842  268\n",
       "max mean_per_class_accuracy  0.181772     0.733215  268"
      ]
     },
     "metadata": {},
     "output_type": "display_data"
    },
    {
     "name": "stdout",
     "output_type": "stream",
     "text": [
      "Gains/Lift Table: Avg response rate: 18.29 %, avg score: 18.38 %\n",
      "\n"
     ]
    },
    {
     "data": {
      "text/html": [
       "<div style=\"overflow:auto\"><table style=\"width:50%\"><tr><td><b></b></td>\n",
       "<td><b>group</b></td>\n",
       "<td><b>cumulative_data_fraction</b></td>\n",
       "<td><b>lower_threshold</b></td>\n",
       "<td><b>lift</b></td>\n",
       "<td><b>cumulative_lift</b></td>\n",
       "<td><b>response_rate</b></td>\n",
       "<td><b>score</b></td>\n",
       "<td><b>cumulative_response_rate</b></td>\n",
       "<td><b>cumulative_score</b></td>\n",
       "<td><b>capture_rate</b></td>\n",
       "<td><b>cumulative_capture_rate</b></td>\n",
       "<td><b>gain</b></td>\n",
       "<td><b>cumulative_gain</b></td></tr>\n",
       "<tr><td></td>\n",
       "<td>1</td>\n",
       "<td>0.0100031</td>\n",
       "<td>0.5816399</td>\n",
       "<td>4.8894324</td>\n",
       "<td>4.8894324</td>\n",
       "<td>0.8943948</td>\n",
       "<td>0.6527767</td>\n",
       "<td>0.8943948</td>\n",
       "<td>0.6527767</td>\n",
       "<td>0.0489094</td>\n",
       "<td>0.0489094</td>\n",
       "<td>388.9432411</td>\n",
       "<td>388.9432411</td></tr>\n",
       "<tr><td></td>\n",
       "<td>2</td>\n",
       "<td>0.0200062</td>\n",
       "<td>0.5150250</td>\n",
       "<td>4.1522428</td>\n",
       "<td>4.5208376</td>\n",
       "<td>0.7595451</td>\n",
       "<td>0.5453549</td>\n",
       "<td>0.8269699</td>\n",
       "<td>0.5990658</td>\n",
       "<td>0.0415352</td>\n",
       "<td>0.0904447</td>\n",
       "<td>315.2242783</td>\n",
       "<td>352.0837597</td></tr>\n",
       "<tr><td></td>\n",
       "<td>3</td>\n",
       "<td>0.0300011</td>\n",
       "<td>0.4711373</td>\n",
       "<td>3.6133881</td>\n",
       "<td>4.2185183</td>\n",
       "<td>0.6609756</td>\n",
       "<td>0.4916015</td>\n",
       "<td>0.7716685</td>\n",
       "<td>0.5632638</td>\n",
       "<td>0.0361157</td>\n",
       "<td>0.1265603</td>\n",
       "<td>261.3388143</td>\n",
       "<td>321.8518304</td></tr>\n",
       "<tr><td></td>\n",
       "<td>4</td>\n",
       "<td>0.0400042</td>\n",
       "<td>0.4382734</td>\n",
       "<td>3.2862670</td>\n",
       "<td>3.9854081</td>\n",
       "<td>0.6011373</td>\n",
       "<td>0.4541513</td>\n",
       "<td>0.7290270</td>\n",
       "<td>0.5359801</td>\n",
       "<td>0.0328728</td>\n",
       "<td>0.1594332</td>\n",
       "<td>228.6267015</td>\n",
       "<td>298.5408140</td></tr>\n",
       "<tr><td></td>\n",
       "<td>5</td>\n",
       "<td>0.0500073</td>\n",
       "<td>0.4112582</td>\n",
       "<td>3.0420174</td>\n",
       "<td>3.7966993</td>\n",
       "<td>0.5564582</td>\n",
       "<td>0.4243710</td>\n",
       "<td>0.6945076</td>\n",
       "<td>0.5136547</td>\n",
       "<td>0.0304296</td>\n",
       "<td>0.1898627</td>\n",
       "<td>204.2017440</td>\n",
       "<td>279.6699341</td></tr>\n",
       "<tr><td></td>\n",
       "<td>6</td>\n",
       "<td>0.1000065</td>\n",
       "<td>0.3229625</td>\n",
       "<td>2.6618530</td>\n",
       "<td>3.2293223</td>\n",
       "<td>0.4869170</td>\n",
       "<td>0.3625368</td>\n",
       "<td>0.5907207</td>\n",
       "<td>0.4381019</td>\n",
       "<td>0.1330905</td>\n",
       "<td>0.3229532</td>\n",
       "<td>166.1853042</td>\n",
       "<td>222.9322297</td></tr>\n",
       "<tr><td></td>\n",
       "<td>7</td>\n",
       "<td>0.1500057</td>\n",
       "<td>0.2724679</td>\n",
       "<td>2.2167301</td>\n",
       "<td>2.8918098</td>\n",
       "<td>0.4054933</td>\n",
       "<td>0.2954729</td>\n",
       "<td>0.5289816</td>\n",
       "<td>0.3905615</td>\n",
       "<td>0.1108347</td>\n",
       "<td>0.4337879</td>\n",
       "<td>121.6730087</td>\n",
       "<td>189.1809845</td></tr>\n",
       "<tr><td></td>\n",
       "<td>8</td>\n",
       "<td>0.2000049</td>\n",
       "<td>0.2392682</td>\n",
       "<td>1.8515693</td>\n",
       "<td>2.6317603</td>\n",
       "<td>0.3386966</td>\n",
       "<td>0.2550785</td>\n",
       "<td>0.4814123</td>\n",
       "<td>0.3566921</td>\n",
       "<td>0.0925770</td>\n",
       "<td>0.5263649</td>\n",
       "<td>85.1569339</td>\n",
       "<td>163.1760284</td></tr>\n",
       "<tr><td></td>\n",
       "<td>9</td>\n",
       "<td>0.3000033</td>\n",
       "<td>0.1967917</td>\n",
       "<td>1.4433178</td>\n",
       "<td>2.2356235</td>\n",
       "<td>0.2640176</td>\n",
       "<td>0.2161874</td>\n",
       "<td>0.4089493</td>\n",
       "<td>0.3098585</td>\n",
       "<td>0.1443294</td>\n",
       "<td>0.6706943</td>\n",
       "<td>44.3317846</td>\n",
       "<td>123.5623535</td></tr>\n",
       "<tr><td></td>\n",
       "<td>10</td>\n",
       "<td>0.4000016</td>\n",
       "<td>0.1691206</td>\n",
       "<td>1.1008131</td>\n",
       "<td>1.9519267</td>\n",
       "<td>0.2013652</td>\n",
       "<td>0.1821318</td>\n",
       "<td>0.3570543</td>\n",
       "<td>0.2779274</td>\n",
       "<td>0.1100795</td>\n",
       "<td>0.7807738</td>\n",
       "<td>10.0813057</td>\n",
       "<td>95.1926679</td></tr>\n",
       "<tr><td></td>\n",
       "<td>11</td>\n",
       "<td>0.5</td>\n",
       "<td>0.1488463</td>\n",
       "<td>0.8049529</td>\n",
       "<td>1.7225356</td>\n",
       "<td>0.1472452</td>\n",
       "<td>0.1585744</td>\n",
       "<td>0.3150932</td>\n",
       "<td>0.2540572</td>\n",
       "<td>0.0804940</td>\n",
       "<td>0.8612678</td>\n",
       "<td>-19.5047111</td>\n",
       "<td>72.2535649</td></tr>\n",
       "<tr><td></td>\n",
       "<td>12</td>\n",
       "<td>0.5999984</td>\n",
       "<td>0.1329219</td>\n",
       "<td>0.5983839</td>\n",
       "<td>1.5351796</td>\n",
       "<td>0.1094588</td>\n",
       "<td>0.1405921</td>\n",
       "<td>0.2808213</td>\n",
       "<td>0.2351466</td>\n",
       "<td>0.0598374</td>\n",
       "<td>0.9211052</td>\n",
       "<td>-40.1616147</td>\n",
       "<td>53.5179554</td></tr>\n",
       "<tr><td></td>\n",
       "<td>13</td>\n",
       "<td>0.6999967</td>\n",
       "<td>0.1195698</td>\n",
       "<td>0.4260209</td>\n",
       "<td>1.3767302</td>\n",
       "<td>0.0779295</td>\n",
       "<td>0.1260634</td>\n",
       "<td>0.2518371</td>\n",
       "<td>0.2195635</td>\n",
       "<td>0.0426014</td>\n",
       "<td>0.9637066</td>\n",
       "<td>-57.3979128</td>\n",
       "<td>37.6730153</td></tr>\n",
       "<tr><td></td>\n",
       "<td>14</td>\n",
       "<td>0.7999951</td>\n",
       "<td>0.1074293</td>\n",
       "<td>0.2385539</td>\n",
       "<td>1.2344596</td>\n",
       "<td>0.0436373</td>\n",
       "<td>0.1134578</td>\n",
       "<td>0.2258123</td>\n",
       "<td>0.2063004</td>\n",
       "<td>0.0238550</td>\n",
       "<td>0.9875616</td>\n",
       "<td>-76.1446081</td>\n",
       "<td>23.4459569</td></tr>\n",
       "<tr><td></td>\n",
       "<td>15</td>\n",
       "<td>0.8999935</td>\n",
       "<td>0.0950562</td>\n",
       "<td>0.1039509</td>\n",
       "<td>1.1088486</td>\n",
       "<td>0.0190151</td>\n",
       "<td>0.1013823</td>\n",
       "<td>0.2028351</td>\n",
       "<td>0.1946429</td>\n",
       "<td>0.0103949</td>\n",
       "<td>0.9979566</td>\n",
       "<td>-89.6049130</td>\n",
       "<td>10.8848626</td></tr>\n",
       "<tr><td></td>\n",
       "<td>16</td>\n",
       "<td>1.0</td>\n",
       "<td>0.0676789</td>\n",
       "<td>0.0204331</td>\n",
       "<td>1.0</td>\n",
       "<td>0.0037377</td>\n",
       "<td>0.0865858</td>\n",
       "<td>0.1829241</td>\n",
       "<td>0.1838365</td>\n",
       "<td>0.0020434</td>\n",
       "<td>1.0</td>\n",
       "<td>-97.9566874</td>\n",
       "<td>0.0</td></tr></table></div>"
      ],
      "text/plain": [
       "    group    cumulative_data_fraction    lower_threshold    lift       cumulative_lift    response_rate    score      cumulative_response_rate    cumulative_score    capture_rate    cumulative_capture_rate    gain      cumulative_gain\n",
       "--  -------  --------------------------  -----------------  ---------  -----------------  ---------------  ---------  --------------------------  ------------------  --------------  -------------------------  --------  -----------------\n",
       "    1        0.0100031                   0.58164            4.88943    4.88943            0.894395         0.652777   0.894395                    0.652777            0.0489094       0.0489094                  388.943   388.943\n",
       "    2        0.0200062                   0.515025           4.15224    4.52084            0.759545         0.545355   0.82697                     0.599066            0.0415352       0.0904447                  315.224   352.084\n",
       "    3        0.0300011                   0.471137           3.61339    4.21852            0.660976         0.491602   0.771668                    0.563264            0.0361157       0.12656                    261.339   321.852\n",
       "    4        0.0400042                   0.438273           3.28627    3.98541            0.601137         0.454151   0.729027                    0.53598             0.0328728       0.159433                   228.627   298.541\n",
       "    5        0.0500073                   0.411258           3.04202    3.7967             0.556458         0.424371   0.694508                    0.513655            0.0304296       0.189863                   204.202   279.67\n",
       "    6        0.100007                    0.322963           2.66185    3.22932            0.486917         0.362537   0.590721                    0.438102            0.13309         0.322953                   166.185   222.932\n",
       "    7        0.150006                    0.272468           2.21673    2.89181            0.405493         0.295473   0.528982                    0.390561            0.110835        0.433788                   121.673   189.181\n",
       "    8        0.200005                    0.239268           1.85157    2.63176            0.338697         0.255079   0.481412                    0.356692            0.092577        0.526365                   85.1569   163.176\n",
       "    9        0.300003                    0.196792           1.44332    2.23562            0.264018         0.216187   0.408949                    0.309858            0.144329        0.670694                   44.3318   123.562\n",
       "    10       0.400002                    0.169121           1.10081    1.95193            0.201365         0.182132   0.357054                    0.277927            0.11008         0.780774                   10.0813   95.1927\n",
       "    11       0.5                         0.148846           0.804953   1.72254            0.147245         0.158574   0.315093                    0.254057            0.080494        0.861268                   -19.5047  72.2536\n",
       "    12       0.599998                    0.132922           0.598384   1.53518            0.109459         0.140592   0.280821                    0.235147            0.0598374       0.921105                   -40.1616  53.518\n",
       "    13       0.699997                    0.11957            0.426021   1.37673            0.0779295        0.126063   0.251837                    0.219563            0.0426014       0.963707                   -57.3979  37.673\n",
       "    14       0.799995                    0.107429           0.238554   1.23446            0.0436373        0.113458   0.225812                    0.2063              0.023855        0.987562                   -76.1446  23.446\n",
       "    15       0.899993                    0.0950562          0.103951   1.10885            0.0190151        0.101382   0.202835                    0.194643            0.0103949       0.997957                   -89.6049  10.8849\n",
       "    16       1                           0.0676789          0.0204331  1                  0.00373771       0.0865858  0.182924                    0.183837            0.00204345      1                          -97.9567  0"
      ]
     },
     "metadata": {},
     "output_type": "display_data"
    },
    {
     "name": "stdout",
     "output_type": "stream",
     "text": [
      "\n",
      "\n",
      "ModelMetricsBinomialGLM: stackedensemble\n",
      "** Reported on cross-validation data. **\n",
      "\n",
      "MSE: 0.14003541472356423\n",
      "RMSE: 0.3742130605999265\n",
      "LogLoss: 0.4453995278774155\n",
      "Null degrees of freedom: 123061\n",
      "Residual degrees of freedom: 123055\n",
      "Null deviance: 117106.60132581185\n",
      "Residual deviance: 109623.51339930101\n",
      "AIC: 109637.51339930101\n",
      "AUC: 0.6836571824593652\n",
      "pr_auc: 0.3229522900358967\n",
      "Gini: 0.3673143649187305\n",
      "Confusion Matrix (Act/Pred) for max f1 @ threshold = 0.17026769423600877: \n"
     ]
    },
    {
     "data": {
      "text/html": [
       "<div style=\"overflow:auto\"><table style=\"width:50%\"><tr><td><b></b></td>\n",
       "<td><b>0</b></td>\n",
       "<td><b>1</b></td>\n",
       "<td><b>Error</b></td>\n",
       "<td><b>Rate</b></td></tr>\n",
       "<tr><td>0</td>\n",
       "<td>65300.0</td>\n",
       "<td>35251.0</td>\n",
       "<td>0.3506</td>\n",
       "<td> (35251.0/100551.0)</td></tr>\n",
       "<tr><td>1</td>\n",
       "<td>8627.0</td>\n",
       "<td>13884.0</td>\n",
       "<td>0.3832</td>\n",
       "<td> (8627.0/22511.0)</td></tr>\n",
       "<tr><td>Total</td>\n",
       "<td>73927.0</td>\n",
       "<td>49135.0</td>\n",
       "<td>0.3566</td>\n",
       "<td> (43878.0/123062.0)</td></tr></table></div>"
      ],
      "text/plain": [
       "       0      1      Error    Rate\n",
       "-----  -----  -----  -------  ------------------\n",
       "0      65300  35251  0.3506   (35251.0/100551.0)\n",
       "1      8627   13884  0.3832   (8627.0/22511.0)\n",
       "Total  73927  49135  0.3566   (43878.0/123062.0)"
      ]
     },
     "metadata": {},
     "output_type": "display_data"
    },
    {
     "name": "stdout",
     "output_type": "stream",
     "text": [
      "Maximum Metrics: Maximum metrics at their respective thresholds\n",
      "\n"
     ]
    },
    {
     "data": {
      "text/html": [
       "<div style=\"overflow:auto\"><table style=\"width:50%\"><tr><td><b>metric</b></td>\n",
       "<td><b>threshold</b></td>\n",
       "<td><b>value</b></td>\n",
       "<td><b>idx</b></td></tr>\n",
       "<tr><td>max f1</td>\n",
       "<td>0.1702677</td>\n",
       "<td>0.3875722</td>\n",
       "<td>278.0</td></tr>\n",
       "<tr><td>max f2</td>\n",
       "<td>0.1169265</td>\n",
       "<td>0.5534165</td>\n",
       "<td>345.0</td></tr>\n",
       "<tr><td>max f0point5</td>\n",
       "<td>0.2588950</td>\n",
       "<td>0.3511582</td>\n",
       "<td>197.0</td></tr>\n",
       "<tr><td>max accuracy</td>\n",
       "<td>0.6017380</td>\n",
       "<td>0.8175147</td>\n",
       "<td>34.0</td></tr>\n",
       "<tr><td>max precision</td>\n",
       "<td>0.8278621</td>\n",
       "<td>0.8333333</td>\n",
       "<td>1.0</td></tr>\n",
       "<tr><td>max recall</td>\n",
       "<td>0.0737064</td>\n",
       "<td>1.0</td>\n",
       "<td>398.0</td></tr>\n",
       "<tr><td>max specificity</td>\n",
       "<td>0.8435296</td>\n",
       "<td>0.9999901</td>\n",
       "<td>0.0</td></tr>\n",
       "<tr><td>max absolute_mcc</td>\n",
       "<td>0.1895758</td>\n",
       "<td>0.2144385</td>\n",
       "<td>258.0</td></tr>\n",
       "<tr><td>max min_per_class_accuracy</td>\n",
       "<td>0.1668596</td>\n",
       "<td>0.6328017</td>\n",
       "<td>282.0</td></tr>\n",
       "<tr><td>max mean_per_class_accuracy</td>\n",
       "<td>0.1668596</td>\n",
       "<td>0.6333793</td>\n",
       "<td>282.0</td></tr></table></div>"
      ],
      "text/plain": [
       "metric                       threshold    value     idx\n",
       "---------------------------  -----------  --------  -----\n",
       "max f1                       0.170268     0.387572  278\n",
       "max f2                       0.116926     0.553416  345\n",
       "max f0point5                 0.258895     0.351158  197\n",
       "max accuracy                 0.601738     0.817515  34\n",
       "max precision                0.827862     0.833333  1\n",
       "max recall                   0.0737064    1         398\n",
       "max specificity              0.84353      0.99999   0\n",
       "max absolute_mcc             0.189576     0.214439  258\n",
       "max min_per_class_accuracy   0.16686      0.632802  282\n",
       "max mean_per_class_accuracy  0.16686      0.633379  282"
      ]
     },
     "metadata": {},
     "output_type": "display_data"
    },
    {
     "name": "stdout",
     "output_type": "stream",
     "text": [
      "Gains/Lift Table: Avg response rate: 18.29 %, avg score: 18.29 %\n",
      "\n"
     ]
    },
    {
     "data": {
      "text/html": [
       "<div style=\"overflow:auto\"><table style=\"width:50%\"><tr><td><b></b></td>\n",
       "<td><b>group</b></td>\n",
       "<td><b>cumulative_data_fraction</b></td>\n",
       "<td><b>lower_threshold</b></td>\n",
       "<td><b>lift</b></td>\n",
       "<td><b>cumulative_lift</b></td>\n",
       "<td><b>response_rate</b></td>\n",
       "<td><b>score</b></td>\n",
       "<td><b>cumulative_response_rate</b></td>\n",
       "<td><b>cumulative_score</b></td>\n",
       "<td><b>capture_rate</b></td>\n",
       "<td><b>cumulative_capture_rate</b></td>\n",
       "<td><b>gain</b></td>\n",
       "<td><b>cumulative_gain</b></td></tr>\n",
       "<tr><td></td>\n",
       "<td>1</td>\n",
       "<td>0.0100031</td>\n",
       "<td>0.5626096</td>\n",
       "<td>2.8288542</td>\n",
       "<td>2.8288542</td>\n",
       "<td>0.5174655</td>\n",
       "<td>0.6264500</td>\n",
       "<td>0.5174655</td>\n",
       "<td>0.6264500</td>\n",
       "<td>0.0282973</td>\n",
       "<td>0.0282973</td>\n",
       "<td>182.8854174</td>\n",
       "<td>182.8854174</td></tr>\n",
       "<tr><td></td>\n",
       "<td>2</td>\n",
       "<td>0.0200062</td>\n",
       "<td>0.4995645</td>\n",
       "<td>2.4291731</td>\n",
       "<td>2.6290136</td>\n",
       "<td>0.4443542</td>\n",
       "<td>0.5280138</td>\n",
       "<td>0.4809098</td>\n",
       "<td>0.5772319</td>\n",
       "<td>0.0242992</td>\n",
       "<td>0.0525965</td>\n",
       "<td>142.9173051</td>\n",
       "<td>162.9013612</td></tr>\n",
       "<tr><td></td>\n",
       "<td>3</td>\n",
       "<td>0.0300011</td>\n",
       "<td>0.4588713</td>\n",
       "<td>2.3689248</td>\n",
       "<td>2.5423643</td>\n",
       "<td>0.4333333</td>\n",
       "<td>0.4781000</td>\n",
       "<td>0.4650596</td>\n",
       "<td>0.5442058</td>\n",
       "<td>0.0236773</td>\n",
       "<td>0.0762738</td>\n",
       "<td>136.8924822</td>\n",
       "<td>154.2364313</td></tr>\n",
       "<tr><td></td>\n",
       "<td>4</td>\n",
       "<td>0.0400042</td>\n",
       "<td>0.4264320</td>\n",
       "<td>2.2959460</td>\n",
       "<td>2.4807472</td>\n",
       "<td>0.4199838</td>\n",
       "<td>0.4416980</td>\n",
       "<td>0.4537883</td>\n",
       "<td>0.5185737</td>\n",
       "<td>0.0229665</td>\n",
       "<td>0.0992404</td>\n",
       "<td>129.5946009</td>\n",
       "<td>148.0747224</td></tr>\n",
       "<tr><td></td>\n",
       "<td>5</td>\n",
       "<td>0.0500073</td>\n",
       "<td>0.4016980</td>\n",
       "<td>1.9939647</td>\n",
       "<td>2.3833749</td>\n",
       "<td>0.3647441</td>\n",
       "<td>0.4140400</td>\n",
       "<td>0.4359766</td>\n",
       "<td>0.4976635</td>\n",
       "<td>0.0199458</td>\n",
       "<td>0.1191862</td>\n",
       "<td>99.3964716</td>\n",
       "<td>138.3374902</td></tr>\n",
       "<tr><td></td>\n",
       "<td>6</td>\n",
       "<td>0.1000065</td>\n",
       "<td>0.3177700</td>\n",
       "<td>1.9297546</td>\n",
       "<td>2.1565832</td>\n",
       "<td>0.3529985</td>\n",
       "<td>0.3549499</td>\n",
       "<td>0.3944909</td>\n",
       "<td>0.4263125</td>\n",
       "<td>0.0964862</td>\n",
       "<td>0.2156723</td>\n",
       "<td>92.9754609</td>\n",
       "<td>115.6583185</td></tr>\n",
       "<tr><td></td>\n",
       "<td>7</td>\n",
       "<td>0.1500057</td>\n",
       "<td>0.2692999</td>\n",
       "<td>1.6872026</td>\n",
       "<td>2.0001315</td>\n",
       "<td>0.3086299</td>\n",
       "<td>0.2916420</td>\n",
       "<td>0.3658722</td>\n",
       "<td>0.3814248</td>\n",
       "<td>0.0843588</td>\n",
       "<td>0.3000311</td>\n",
       "<td>68.7202579</td>\n",
       "<td>100.0131459</td></tr>\n",
       "<tr><td></td>\n",
       "<td>8</td>\n",
       "<td>0.2000049</td>\n",
       "<td>0.2378707</td>\n",
       "<td>1.4784124</td>\n",
       "<td>1.8697070</td>\n",
       "<td>0.2704372</td>\n",
       "<td>0.2527497</td>\n",
       "<td>0.3420144</td>\n",
       "<td>0.3492573</td>\n",
       "<td>0.0739194</td>\n",
       "<td>0.3739505</td>\n",
       "<td>47.8412371</td>\n",
       "<td>86.9706986</td></tr>\n",
       "<tr><td></td>\n",
       "<td>9</td>\n",
       "<td>0.3000033</td>\n",
       "<td>0.1967753</td>\n",
       "<td>1.3318150</td>\n",
       "<td>1.6904145</td>\n",
       "<td>0.2436210</td>\n",
       "<td>0.2157369</td>\n",
       "<td>0.3092175</td>\n",
       "<td>0.3047517</td>\n",
       "<td>0.1331793</td>\n",
       "<td>0.5071298</td>\n",
       "<td>33.1814990</td>\n",
       "<td>69.0414510</td></tr>\n",
       "<tr><td></td>\n",
       "<td>10</td>\n",
       "<td>0.4000016</td>\n",
       "<td>0.1696678</td>\n",
       "<td>1.1039227</td>\n",
       "<td>1.5437945</td>\n",
       "<td>0.2019340</td>\n",
       "<td>0.1824696</td>\n",
       "<td>0.2823972</td>\n",
       "<td>0.2741818</td>\n",
       "<td>0.1103905</td>\n",
       "<td>0.6175203</td>\n",
       "<td>10.3922699</td>\n",
       "<td>54.3794536</td></tr>\n",
       "<tr><td></td>\n",
       "<td>11</td>\n",
       "<td>0.5</td>\n",
       "<td>0.1498786</td>\n",
       "<td>0.9484406</td>\n",
       "<td>1.4247257</td>\n",
       "<td>0.1734926</td>\n",
       "<td>0.1593313</td>\n",
       "<td>0.2606166</td>\n",
       "<td>0.2512121</td>\n",
       "<td>0.0948425</td>\n",
       "<td>0.7123628</td>\n",
       "<td>-5.1559372</td>\n",
       "<td>42.4725690</td></tr>\n",
       "<tr><td></td>\n",
       "<td>12</td>\n",
       "<td>0.5999984</td>\n",
       "<td>0.1340743</td>\n",
       "<td>0.8133933</td>\n",
       "<td>1.3228383</td>\n",
       "<td>0.1487892</td>\n",
       "<td>0.1416547</td>\n",
       "<td>0.2419790</td>\n",
       "<td>0.2329528</td>\n",
       "<td>0.0813380</td>\n",
       "<td>0.7937009</td>\n",
       "<td>-18.6606655</td>\n",
       "<td>32.2838345</td></tr>\n",
       "<tr><td></td>\n",
       "<td>13</td>\n",
       "<td>0.6999967</td>\n",
       "<td>0.1206740</td>\n",
       "<td>0.7032232</td>\n",
       "<td>1.2343229</td>\n",
       "<td>0.1286364</td>\n",
       "<td>0.1272737</td>\n",
       "<td>0.2257874</td>\n",
       "<td>0.2178559</td>\n",
       "<td>0.0703212</td>\n",
       "<td>0.8640220</td>\n",
       "<td>-29.6776808</td>\n",
       "<td>23.4322922</td></tr>\n",
       "<tr><td></td>\n",
       "<td>14</td>\n",
       "<td>0.7999951</td>\n",
       "<td>0.1085356</td>\n",
       "<td>0.6068243</td>\n",
       "<td>1.1558864</td>\n",
       "<td>0.1110028</td>\n",
       "<td>0.1145271</td>\n",
       "<td>0.2114394</td>\n",
       "<td>0.2049400</td>\n",
       "<td>0.0606814</td>\n",
       "<td>0.9247035</td>\n",
       "<td>-39.3175692</td>\n",
       "<td>15.5886392</td></tr>\n",
       "<tr><td></td>\n",
       "<td>15</td>\n",
       "<td>0.8999935</td>\n",
       "<td>0.0960303</td>\n",
       "<td>0.4580058</td>\n",
       "<td>1.0783448</td>\n",
       "<td>0.0837803</td>\n",
       "<td>0.1024510</td>\n",
       "<td>0.1972552</td>\n",
       "<td>0.1935524</td>\n",
       "<td>0.0457998</td>\n",
       "<td>0.9705033</td>\n",
       "<td>-54.1994245</td>\n",
       "<td>7.8344800</td></tr>\n",
       "<tr><td></td>\n",
       "<td>16</td>\n",
       "<td>1.0</td>\n",
       "<td>0.0679959</td>\n",
       "<td>0.2949477</td>\n",
       "<td>1.0</td>\n",
       "<td>0.0539530</td>\n",
       "<td>0.0873462</td>\n",
       "<td>0.1829241</td>\n",
       "<td>0.1829311</td>\n",
       "<td>0.0294967</td>\n",
       "<td>1.0</td>\n",
       "<td>-70.5052269</td>\n",
       "<td>0.0</td></tr></table></div>"
      ],
      "text/plain": [
       "    group    cumulative_data_fraction    lower_threshold    lift      cumulative_lift    response_rate    score      cumulative_response_rate    cumulative_score    capture_rate    cumulative_capture_rate    gain      cumulative_gain\n",
       "--  -------  --------------------------  -----------------  --------  -----------------  ---------------  ---------  --------------------------  ------------------  --------------  -------------------------  --------  -----------------\n",
       "    1        0.0100031                   0.56261            2.82885   2.82885            0.517465         0.62645    0.517465                    0.62645             0.0282973       0.0282973                  182.885   182.885\n",
       "    2        0.0200062                   0.499564           2.42917   2.62901            0.444354         0.528014   0.48091                     0.577232            0.0242992       0.0525965                  142.917   162.901\n",
       "    3        0.0300011                   0.458871           2.36892   2.54236            0.433333         0.4781     0.46506                     0.544206            0.0236773       0.0762738                  136.892   154.236\n",
       "    4        0.0400042                   0.426432           2.29595   2.48075            0.419984         0.441698   0.453788                    0.518574            0.0229665       0.0992404                  129.595   148.075\n",
       "    5        0.0500073                   0.401698           1.99396   2.38337            0.364744         0.41404    0.435977                    0.497664            0.0199458       0.119186                   99.3965   138.337\n",
       "    6        0.100007                    0.31777            1.92975   2.15658            0.352999         0.35495    0.394491                    0.426312            0.0964862       0.215672                   92.9755   115.658\n",
       "    7        0.150006                    0.2693             1.6872    2.00013            0.30863          0.291642   0.365872                    0.381425            0.0843588       0.300031                   68.7203   100.013\n",
       "    8        0.200005                    0.237871           1.47841   1.86971            0.270437         0.25275    0.342014                    0.349257            0.0739194       0.373951                   47.8412   86.9707\n",
       "    9        0.300003                    0.196775           1.33181   1.69041            0.243621         0.215737   0.309217                    0.304752            0.133179        0.50713                    33.1815   69.0415\n",
       "    10       0.400002                    0.169668           1.10392   1.54379            0.201934         0.18247    0.282397                    0.274182            0.11039         0.61752                    10.3923   54.3795\n",
       "    11       0.5                         0.149879           0.948441  1.42473            0.173493         0.159331   0.260617                    0.251212            0.0948425       0.712363                   -5.15594  42.4726\n",
       "    12       0.599998                    0.134074           0.813393  1.32284            0.148789         0.141655   0.241979                    0.232953            0.081338        0.793701                   -18.6607  32.2838\n",
       "    13       0.699997                    0.120674           0.703223  1.23432            0.128636         0.127274   0.225787                    0.217856            0.0703212       0.864022                   -29.6777  23.4323\n",
       "    14       0.799995                    0.108536           0.606824  1.15589            0.111003         0.114527   0.211439                    0.20494             0.0606814       0.924703                   -39.3176  15.5886\n",
       "    15       0.899993                    0.0960303          0.458006  1.07834            0.0837803        0.102451   0.197255                    0.193552            0.0457998       0.970503                   -54.1994  7.83448\n",
       "    16       1                           0.0679959          0.294948  1                  0.053953         0.0873462  0.182924                    0.182931            0.0294967       1                          -70.5052  0"
      ]
     },
     "metadata": {},
     "output_type": "display_data"
    },
    {
     "name": "stdout",
     "output_type": "stream",
     "text": [
      "\n"
     ]
    },
    {
     "data": {
      "text/plain": []
     },
     "execution_count": 8,
     "metadata": {},
     "output_type": "execute_result"
    }
   ],
   "source": [
    "aml.leader"
   ]
  },
  {
   "cell_type": "markdown",
   "metadata": {},
   "source": [
    "To get details for the test data, use the `model_performance` call"
   ]
  },
  {
   "cell_type": "code",
   "execution_count": 9,
   "metadata": {},
   "outputs": [
    {
     "name": "stdout",
     "output_type": "stream",
     "text": [
      "\n",
      "ModelMetricsBinomialGLM: stackedensemble\n",
      "** Reported on test data. **\n",
      "\n",
      "MSE: 0.13981315324089297\n",
      "RMSE: 0.37391597082886546\n",
      "LogLoss: 0.44476924193225403\n",
      "Null degrees of freedom: 40924\n",
      "Residual degrees of freedom: 40918\n",
      "Null deviance: 39000.48288708934\n",
      "Residual deviance: 36404.362452154994\n",
      "AIC: 36418.362452154994\n",
      "AUC: 0.6865733377030513\n",
      "pr_auc: 0.32921946353081666\n",
      "Gini: 0.3731466754061026\n",
      "Confusion Matrix (Act/Pred) for max f1 @ threshold = 0.1731201288014297: \n"
     ]
    },
    {
     "data": {
      "text/html": [
       "<div style=\"overflow:auto\"><table style=\"width:50%\"><tr><td><b></b></td>\n",
       "<td><b>0</b></td>\n",
       "<td><b>1</b></td>\n",
       "<td><b>Error</b></td>\n",
       "<td><b>Rate</b></td></tr>\n",
       "<tr><td>0</td>\n",
       "<td>22142.0</td>\n",
       "<td>11278.0</td>\n",
       "<td>0.3375</td>\n",
       "<td> (11278.0/33420.0)</td></tr>\n",
       "<tr><td>1</td>\n",
       "<td>2955.0</td>\n",
       "<td>4550.0</td>\n",
       "<td>0.3937</td>\n",
       "<td> (2955.0/7505.0)</td></tr>\n",
       "<tr><td>Total</td>\n",
       "<td>25097.0</td>\n",
       "<td>15828.0</td>\n",
       "<td>0.3478</td>\n",
       "<td> (14233.0/40925.0)</td></tr></table></div>"
      ],
      "text/plain": [
       "       0      1      Error    Rate\n",
       "-----  -----  -----  -------  -----------------\n",
       "0      22142  11278  0.3375   (11278.0/33420.0)\n",
       "1      2955   4550   0.3937   (2955.0/7505.0)\n",
       "Total  25097  15828  0.3478   (14233.0/40925.0)"
      ]
     },
     "metadata": {},
     "output_type": "display_data"
    },
    {
     "name": "stdout",
     "output_type": "stream",
     "text": [
      "Maximum Metrics: Maximum metrics at their respective thresholds\n",
      "\n"
     ]
    },
    {
     "data": {
      "text/html": [
       "<div style=\"overflow:auto\"><table style=\"width:50%\"><tr><td><b>metric</b></td>\n",
       "<td><b>threshold</b></td>\n",
       "<td><b>value</b></td>\n",
       "<td><b>idx</b></td></tr>\n",
       "<tr><td>max f1</td>\n",
       "<td>0.1731201</td>\n",
       "<td>0.3900056</td>\n",
       "<td>271.0</td></tr>\n",
       "<tr><td>max f2</td>\n",
       "<td>0.1187020</td>\n",
       "<td>0.5570203</td>\n",
       "<td>340.0</td></tr>\n",
       "<tr><td>max f0point5</td>\n",
       "<td>0.2649014</td>\n",
       "<td>0.3558617</td>\n",
       "<td>184.0</td></tr>\n",
       "<tr><td>max accuracy</td>\n",
       "<td>0.5938627</td>\n",
       "<td>0.8175199</td>\n",
       "<td>35.0</td></tr>\n",
       "<tr><td>max precision</td>\n",
       "<td>0.8661585</td>\n",
       "<td>1.0</td>\n",
       "<td>0.0</td></tr>\n",
       "<tr><td>max recall</td>\n",
       "<td>0.0724864</td>\n",
       "<td>1.0</td>\n",
       "<td>398.0</td></tr>\n",
       "<tr><td>max specificity</td>\n",
       "<td>0.8661585</td>\n",
       "<td>1.0</td>\n",
       "<td>0.0</td></tr>\n",
       "<tr><td>max absolute_mcc</td>\n",
       "<td>0.2027009</td>\n",
       "<td>0.2170618</td>\n",
       "<td>238.0</td></tr>\n",
       "<tr><td>max min_per_class_accuracy</td>\n",
       "<td>0.1669793</td>\n",
       "<td>0.6334444</td>\n",
       "<td>278.0</td></tr>\n",
       "<tr><td>max mean_per_class_accuracy</td>\n",
       "<td>0.1688338</td>\n",
       "<td>0.6347829</td>\n",
       "<td>276.0</td></tr></table></div>"
      ],
      "text/plain": [
       "metric                       threshold    value     idx\n",
       "---------------------------  -----------  --------  -----\n",
       "max f1                       0.17312      0.390006  271\n",
       "max f2                       0.118702     0.55702   340\n",
       "max f0point5                 0.264901     0.355862  184\n",
       "max accuracy                 0.593863     0.81752   35\n",
       "max precision                0.866158     1         0\n",
       "max recall                   0.0724864    1         398\n",
       "max specificity              0.866158     1         0\n",
       "max absolute_mcc             0.202701     0.217062  238\n",
       "max min_per_class_accuracy   0.166979     0.633444  278\n",
       "max mean_per_class_accuracy  0.168834     0.634783  276"
      ]
     },
     "metadata": {},
     "output_type": "display_data"
    },
    {
     "name": "stdout",
     "output_type": "stream",
     "text": [
      "Gains/Lift Table: Avg response rate: 18.34 %, avg score: 18.29 %\n",
      "\n"
     ]
    },
    {
     "data": {
      "text/html": [
       "<div style=\"overflow:auto\"><table style=\"width:50%\"><tr><td><b></b></td>\n",
       "<td><b>group</b></td>\n",
       "<td><b>cumulative_data_fraction</b></td>\n",
       "<td><b>lower_threshold</b></td>\n",
       "<td><b>lift</b></td>\n",
       "<td><b>cumulative_lift</b></td>\n",
       "<td><b>response_rate</b></td>\n",
       "<td><b>score</b></td>\n",
       "<td><b>cumulative_response_rate</b></td>\n",
       "<td><b>cumulative_score</b></td>\n",
       "<td><b>capture_rate</b></td>\n",
       "<td><b>cumulative_capture_rate</b></td>\n",
       "<td><b>gain</b></td>\n",
       "<td><b>cumulative_gain</b></td></tr>\n",
       "<tr><td></td>\n",
       "<td>1</td>\n",
       "<td>0.0100183</td>\n",
       "<td>0.5582847</td>\n",
       "<td>2.8196162</td>\n",
       "<td>2.8196162</td>\n",
       "<td>0.5170732</td>\n",
       "<td>0.6257200</td>\n",
       "<td>0.5170732</td>\n",
       "<td>0.6257200</td>\n",
       "<td>0.0282478</td>\n",
       "<td>0.0282478</td>\n",
       "<td>181.9616191</td>\n",
       "<td>181.9616191</td></tr>\n",
       "<tr><td></td>\n",
       "<td>2</td>\n",
       "<td>0.0200122</td>\n",
       "<td>0.4990053</td>\n",
       "<td>2.7598471</td>\n",
       "<td>2.7897682</td>\n",
       "<td>0.5061125</td>\n",
       "<td>0.5257444</td>\n",
       "<td>0.5115995</td>\n",
       "<td>0.5757933</td>\n",
       "<td>0.0275816</td>\n",
       "<td>0.0558294</td>\n",
       "<td>175.9847143</td>\n",
       "<td>178.9768156</td></tr>\n",
       "<tr><td></td>\n",
       "<td>3</td>\n",
       "<td>0.0300061</td>\n",
       "<td>0.4571829</td>\n",
       "<td>2.2932063</td>\n",
       "<td>2.6243823</td>\n",
       "<td>0.4205379</td>\n",
       "<td>0.4782244</td>\n",
       "<td>0.4812704</td>\n",
       "<td>0.5432968</td>\n",
       "<td>0.0229181</td>\n",
       "<td>0.0787475</td>\n",
       "<td>129.3206322</td>\n",
       "<td>162.4382334</td></tr>\n",
       "<tr><td></td>\n",
       "<td>4</td>\n",
       "<td>0.04</td>\n",
       "<td>0.4263926</td>\n",
       "<td>2.0798848</td>\n",
       "<td>2.4883411</td>\n",
       "<td>0.3814181</td>\n",
       "<td>0.4412180</td>\n",
       "<td>0.4563225</td>\n",
       "<td>0.5177927</td>\n",
       "<td>0.0207861</td>\n",
       "<td>0.0995336</td>\n",
       "<td>107.9884804</td>\n",
       "<td>148.8341106</td></tr>\n",
       "<tr><td></td>\n",
       "<td>5</td>\n",
       "<td>0.0500183</td>\n",
       "<td>0.4014187</td>\n",
       "<td>2.4073138</td>\n",
       "<td>2.4721119</td>\n",
       "<td>0.4414634</td>\n",
       "<td>0.4134721</td>\n",
       "<td>0.4533464</td>\n",
       "<td>0.4968980</td>\n",
       "<td>0.0241173</td>\n",
       "<td>0.1236509</td>\n",
       "<td>140.7313823</td>\n",
       "<td>147.2111899</td></tr>\n",
       "<tr><td></td>\n",
       "<td>6</td>\n",
       "<td>0.1000122</td>\n",
       "<td>0.3164262</td>\n",
       "<td>1.9349466</td>\n",
       "<td>2.2035949</td>\n",
       "<td>0.3548387</td>\n",
       "<td>0.3541386</td>\n",
       "<td>0.4041046</td>\n",
       "<td>0.4255358</td>\n",
       "<td>0.0967355</td>\n",
       "<td>0.2203864</td>\n",
       "<td>93.4946595</td>\n",
       "<td>120.3594867</td></tr>\n",
       "<tr><td></td>\n",
       "<td>7</td>\n",
       "<td>0.1500061</td>\n",
       "<td>0.2692250</td>\n",
       "<td>1.6311120</td>\n",
       "<td>2.0127983</td>\n",
       "<td>0.2991202</td>\n",
       "<td>0.2911329</td>\n",
       "<td>0.3691155</td>\n",
       "<td>0.3807421</td>\n",
       "<td>0.0815456</td>\n",
       "<td>0.3019320</td>\n",
       "<td>63.1112005</td>\n",
       "<td>101.2798331</td></tr>\n",
       "<tr><td></td>\n",
       "<td>8</td>\n",
       "<td>0.2</td>\n",
       "<td>0.2382262</td>\n",
       "<td>1.4871904</td>\n",
       "<td>1.8814124</td>\n",
       "<td>0.2727273</td>\n",
       "<td>0.2526097</td>\n",
       "<td>0.3450214</td>\n",
       "<td>0.3487129</td>\n",
       "<td>0.0743504</td>\n",
       "<td>0.3762825</td>\n",
       "<td>48.7190358</td>\n",
       "<td>88.1412392</td></tr>\n",
       "<tr><td></td>\n",
       "<td>9</td>\n",
       "<td>0.3000122</td>\n",
       "<td>0.1965204</td>\n",
       "<td>1.3136303</td>\n",
       "<td>1.6921363</td>\n",
       "<td>0.2408991</td>\n",
       "<td>0.2155516</td>\n",
       "<td>0.3103111</td>\n",
       "<td>0.3043222</td>\n",
       "<td>0.1313791</td>\n",
       "<td>0.5076616</td>\n",
       "<td>31.3630314</td>\n",
       "<td>69.2136284</td></tr>\n",
       "<tr><td></td>\n",
       "<td>10</td>\n",
       "<td>0.4</td>\n",
       "<td>0.1696904</td>\n",
       "<td>1.1100623</td>\n",
       "<td>1.5466356</td>\n",
       "<td>0.2035679</td>\n",
       "<td>0.1821883</td>\n",
       "<td>0.2836286</td>\n",
       "<td>0.2737925</td>\n",
       "<td>0.1109927</td>\n",
       "<td>0.6186542</td>\n",
       "<td>11.0062337</td>\n",
       "<td>54.6635576</td></tr>\n",
       "<tr><td></td>\n",
       "<td>11</td>\n",
       "<td>0.5000122</td>\n",
       "<td>0.1497974</td>\n",
       "<td>0.9565787</td>\n",
       "<td>1.4286127</td>\n",
       "<td>0.1754215</td>\n",
       "<td>0.1592815</td>\n",
       "<td>0.2619850</td>\n",
       "<td>0.2508880</td>\n",
       "<td>0.0956696</td>\n",
       "<td>0.7143238</td>\n",
       "<td>-4.3421333</td>\n",
       "<td>42.8612660</td></tr>\n",
       "<tr><td></td>\n",
       "<td>12</td>\n",
       "<td>0.6</td>\n",
       "<td>0.1342224</td>\n",
       "<td>0.8008973</td>\n",
       "<td>1.3240062</td>\n",
       "<td>0.1468719</td>\n",
       "<td>0.1416670</td>\n",
       "<td>0.2428019</td>\n",
       "<td>0.2326868</td>\n",
       "<td>0.0800799</td>\n",
       "<td>0.7944037</td>\n",
       "<td>-19.9102684</td>\n",
       "<td>32.4006218</td></tr>\n",
       "<tr><td></td>\n",
       "<td>13</td>\n",
       "<td>0.6999878</td>\n",
       "<td>0.1210596</td>\n",
       "<td>0.7569213</td>\n",
       "<td>1.2430026</td>\n",
       "<td>0.1388074</td>\n",
       "<td>0.1274689</td>\n",
       "<td>0.2279471</td>\n",
       "<td>0.2176572</td>\n",
       "<td>0.0756829</td>\n",
       "<td>0.8700866</td>\n",
       "<td>-24.3078743</td>\n",
       "<td>24.3002565</td></tr>\n",
       "<tr><td></td>\n",
       "<td>14</td>\n",
       "<td>0.8</td>\n",
       "<td>0.1087426</td>\n",
       "<td>0.5622231</td>\n",
       "<td>1.1578947</td>\n",
       "<td>0.1031029</td>\n",
       "<td>0.1149482</td>\n",
       "<td>0.2123396</td>\n",
       "<td>0.2048170</td>\n",
       "<td>0.0562292</td>\n",
       "<td>0.9263158</td>\n",
       "<td>-43.7776884</td>\n",
       "<td>15.7894737</td></tr>\n",
       "<tr><td></td>\n",
       "<td>15</td>\n",
       "<td>0.8999878</td>\n",
       "<td>0.0964353</td>\n",
       "<td>0.4570845</td>\n",
       "<td>1.0800354</td>\n",
       "<td>0.0838221</td>\n",
       "<td>0.1027371</td>\n",
       "<td>0.1980615</td>\n",
       "<td>0.1934760</td>\n",
       "<td>0.0457029</td>\n",
       "<td>0.9720187</td>\n",
       "<td>-54.2915508</td>\n",
       "<td>8.0035388</td></tr>\n",
       "<tr><td></td>\n",
       "<td>16</td>\n",
       "<td>1.0</td>\n",
       "<td>0.0695797</td>\n",
       "<td>0.2797793</td>\n",
       "<td>1.0</td>\n",
       "<td>0.0513071</td>\n",
       "<td>0.0875895</td>\n",
       "<td>0.1833842</td>\n",
       "<td>0.1828861</td>\n",
       "<td>0.0279813</td>\n",
       "<td>1.0</td>\n",
       "<td>-72.0220724</td>\n",
       "<td>0.0</td></tr></table></div>"
      ],
      "text/plain": [
       "    group    cumulative_data_fraction    lower_threshold    lift      cumulative_lift    response_rate    score      cumulative_response_rate    cumulative_score    capture_rate    cumulative_capture_rate    gain      cumulative_gain\n",
       "--  -------  --------------------------  -----------------  --------  -----------------  ---------------  ---------  --------------------------  ------------------  --------------  -------------------------  --------  -----------------\n",
       "    1        0.0100183                   0.558285           2.81962   2.81962            0.517073         0.62572    0.517073                    0.62572             0.0282478       0.0282478                  181.962   181.962\n",
       "    2        0.0200122                   0.499005           2.75985   2.78977            0.506112         0.525744   0.5116                      0.575793            0.0275816       0.0558294                  175.985   178.977\n",
       "    3        0.0300061                   0.457183           2.29321   2.62438            0.420538         0.478224   0.48127                     0.543297            0.0229181       0.0787475                  129.321   162.438\n",
       "    4        0.04                        0.426393           2.07988   2.48834            0.381418         0.441218   0.456323                    0.517793            0.0207861       0.0995336                  107.988   148.834\n",
       "    5        0.0500183                   0.401419           2.40731   2.47211            0.441463         0.413472   0.453346                    0.496898            0.0241173       0.123651                   140.731   147.211\n",
       "    6        0.100012                    0.316426           1.93495   2.20359            0.354839         0.354139   0.404105                    0.425536            0.0967355       0.220386                   93.4947   120.359\n",
       "    7        0.150006                    0.269225           1.63111   2.0128             0.29912          0.291133   0.369115                    0.380742            0.0815456       0.301932                   63.1112   101.28\n",
       "    8        0.2                         0.238226           1.48719   1.88141            0.272727         0.25261    0.345021                    0.348713            0.0743504       0.376282                   48.719    88.1412\n",
       "    9        0.300012                    0.19652            1.31363   1.69214            0.240899         0.215552   0.310311                    0.304322            0.131379        0.507662                   31.363    69.2136\n",
       "    10       0.4                         0.16969            1.11006   1.54664            0.203568         0.182188   0.283629                    0.273792            0.110993        0.618654                   11.0062   54.6636\n",
       "    11       0.500012                    0.149797           0.956579  1.42861            0.175421         0.159282   0.261985                    0.250888            0.0956696       0.714324                   -4.34213  42.8613\n",
       "    12       0.6                         0.134222           0.800897  1.32401            0.146872         0.141667   0.242802                    0.232687            0.0800799       0.794404                   -19.9103  32.4006\n",
       "    13       0.699988                    0.12106            0.756921  1.243              0.138807         0.127469   0.227947                    0.217657            0.0756829       0.870087                   -24.3079  24.3003\n",
       "    14       0.8                         0.108743           0.562223  1.15789            0.103103         0.114948   0.21234                     0.204817            0.0562292       0.926316                   -43.7777  15.7895\n",
       "    15       0.899988                    0.0964353          0.457084  1.08004            0.0838221        0.102737   0.198061                    0.193476            0.0457029       0.972019                   -54.2916  8.00354\n",
       "    16       1                           0.0695797          0.279779  1                  0.0513071        0.0875895  0.183384                    0.182886            0.0279813       1                          -72.0221  0"
      ]
     },
     "metadata": {},
     "output_type": "display_data"
    },
    {
     "name": "stdout",
     "output_type": "stream",
     "text": [
      "\n"
     ]
    },
    {
     "data": {
      "text/plain": []
     },
     "execution_count": 9,
     "metadata": {},
     "output_type": "execute_result"
    }
   ],
   "source": [
    "perf = aml.leader.model_performance(test_data=test)\n",
    "perf"
   ]
  },
  {
   "cell_type": "code",
   "execution_count": 10,
   "metadata": {},
   "outputs": [
    {
     "name": "stdout",
     "output_type": "stream",
     "text": [
      "AUC: train = 0.8151, xval = 0.6837, test = 0.6866\n",
      "Logloss: train = 0.3963, xval = 0.4454, test = 0.4448\n"
     ]
    }
   ],
   "source": [
    "print(\"AUC: train = {:.4f}, xval = {:.4f}, test = {:.4f}\" \\\n",
    "      .format(aml.leader.auc(train = True), aml.leader.auc(xval = True), perf.auc()))\n",
    "print(\"Logloss: train = {:.4f}, xval = {:.4f}, test = {:.4f}\" \\\n",
    "      .format(aml.leader.logloss(train = True), aml.leader.logloss(xval = True), perf.logloss()))"
   ]
  },
  {
   "cell_type": "markdown",
   "metadata": {},
   "source": [
    "## Examine a Selected Model\n",
    "\n",
    "We demonstrate how to select any model from the leaderboard below."
   ]
  },
  {
   "cell_type": "code",
   "execution_count": 11,
   "metadata": {
    "scrolled": true
   },
   "outputs": [
    {
     "data": {
      "text/html": [
       "<table>\n",
       "<thead>\n",
       "<tr><th>model_id                                           </th><th style=\"text-align: right;\">     auc</th><th style=\"text-align: right;\">  logloss</th><th style=\"text-align: right;\">  mean_per_class_error</th><th style=\"text-align: right;\">    rmse</th><th style=\"text-align: right;\">     mse</th></tr>\n",
       "</thead>\n",
       "<tbody>\n",
       "<tr><td>StackedEnsemble_AllModels_AutoML_20190810_025037   </td><td style=\"text-align: right;\">0.683657</td><td style=\"text-align: right;\"> 0.4454  </td><td style=\"text-align: right;\">              0.366907</td><td style=\"text-align: right;\">0.374213</td><td style=\"text-align: right;\">0.140035</td></tr>\n",
       "<tr><td>StackedEnsemble_BestOfFamily_AutoML_20190810_025037</td><td style=\"text-align: right;\">0.683554</td><td style=\"text-align: right;\"> 0.445497</td><td style=\"text-align: right;\">              0.36751 </td><td style=\"text-align: right;\">0.374265</td><td style=\"text-align: right;\">0.140074</td></tr>\n",
       "<tr><td>GBM_1_AutoML_20190810_025037                       </td><td style=\"text-align: right;\">0.681013</td><td style=\"text-align: right;\"> 0.444653</td><td style=\"text-align: right;\">              0.367941</td><td style=\"text-align: right;\">0.374063</td><td style=\"text-align: right;\">0.139923</td></tr>\n",
       "<tr><td>XGBoost_1_AutoML_20190810_025037                   </td><td style=\"text-align: right;\">0.678782</td><td style=\"text-align: right;\"> 0.445314</td><td style=\"text-align: right;\">              0.369524</td><td style=\"text-align: right;\">0.374388</td><td style=\"text-align: right;\">0.140166</td></tr>\n",
       "<tr><td>XGBoost_3_AutoML_20190810_025037                   </td><td style=\"text-align: right;\">0.677342</td><td style=\"text-align: right;\"> 0.446417</td><td style=\"text-align: right;\">              0.371173</td><td style=\"text-align: right;\">0.374516</td><td style=\"text-align: right;\">0.140263</td></tr>\n",
       "<tr><td>XGBoost_2_AutoML_20190810_025037                   </td><td style=\"text-align: right;\">0.673464</td><td style=\"text-align: right;\"> 0.44727 </td><td style=\"text-align: right;\">              0.374527</td><td style=\"text-align: right;\">0.375207</td><td style=\"text-align: right;\">0.14078 </td></tr>\n",
       "<tr><td>GLM_grid_1_AutoML_20190810_025037_model_1          </td><td style=\"text-align: right;\">0.673421</td><td style=\"text-align: right;\"> 0.44771 </td><td style=\"text-align: right;\">              0.373882</td><td style=\"text-align: right;\">0.374975</td><td style=\"text-align: right;\">0.140606</td></tr>\n",
       "<tr><td>DRF_1_AutoML_20190810_025037                       </td><td style=\"text-align: right;\">0.65847 </td><td style=\"text-align: right;\"> 0.454391</td><td style=\"text-align: right;\">              0.384234</td><td style=\"text-align: right;\">0.377906</td><td style=\"text-align: right;\">0.142813</td></tr>\n",
       "</tbody>\n",
       "</table>"
      ]
     },
     "metadata": {},
     "output_type": "display_data"
    },
    {
     "data": {
      "text/plain": []
     },
     "execution_count": 11,
     "metadata": {},
     "output_type": "execute_result"
    }
   ],
   "source": [
    "aml.leaderboard"
   ]
  },
  {
   "cell_type": "markdown",
   "metadata": {},
   "source": [
    "We can select an specified model from the leaderboard by indicating its position. The following code will select the best model that is not a stacked ensemble:"
   ]
  },
  {
   "cell_type": "code",
   "execution_count": 12,
   "metadata": {},
   "outputs": [],
   "source": [
    "m = aml.leaderboard['model_id'].grep(\"StackedEnsemble\", invert=True).min()\n",
    "select_model = h2o.get_model(aml.leaderboard[int(m),'model_id'])"
   ]
  },
  {
   "cell_type": "markdown",
   "metadata": {},
   "source": [
    "We can look at performance with the selected model just as we did with the top model."
   ]
  },
  {
   "cell_type": "code",
   "execution_count": 13,
   "metadata": {},
   "outputs": [
    {
     "name": "stdout",
     "output_type": "stream",
     "text": [
      "Model Details\n",
      "=============\n",
      "H2OGradientBoostingEstimator :  Gradient Boosting Machine\n",
      "Model Key:  GBM_1_AutoML_20190810_025037\n",
      "\n",
      "\n",
      "ModelMetricsBinomial: gbm\n",
      "** Reported on train data. **\n",
      "\n",
      "MSE: 0.1331832206829364\n",
      "RMSE: 0.3649427635711337\n",
      "LogLoss: 0.42556146718012644\n",
      "Mean Per-Class Error: 0.33450650776334256\n",
      "AUC: 0.729031528128442\n",
      "pr_auc: 0.4035484914645604\n",
      "Gini: 0.4580630562568839\n",
      "Confusion Matrix (Act/Pred) for max f1 @ threshold = 0.2127362042057303: \n"
     ]
    },
    {
     "data": {
      "text/html": [
       "<div style=\"overflow:auto\"><table style=\"width:50%\"><tr><td><b></b></td>\n",
       "<td><b>0</b></td>\n",
       "<td><b>1</b></td>\n",
       "<td><b>Error</b></td>\n",
       "<td><b>Rate</b></td></tr>\n",
       "<tr><td>0</td>\n",
       "<td>76403.0</td>\n",
       "<td>24148.0</td>\n",
       "<td>0.2402</td>\n",
       "<td> (24148.0/100551.0)</td></tr>\n",
       "<tr><td>1</td>\n",
       "<td>9802.0</td>\n",
       "<td>12709.0</td>\n",
       "<td>0.4354</td>\n",
       "<td> (9802.0/22511.0)</td></tr>\n",
       "<tr><td>Total</td>\n",
       "<td>86205.0</td>\n",
       "<td>36857.0</td>\n",
       "<td>0.2759</td>\n",
       "<td> (33950.0/123062.0)</td></tr></table></div>"
      ],
      "text/plain": [
       "       0      1      Error    Rate\n",
       "-----  -----  -----  -------  ------------------\n",
       "0      76403  24148  0.2402   (24148.0/100551.0)\n",
       "1      9802   12709  0.4354   (9802.0/22511.0)\n",
       "Total  86205  36857  0.2759   (33950.0/123062.0)"
      ]
     },
     "metadata": {},
     "output_type": "display_data"
    },
    {
     "name": "stdout",
     "output_type": "stream",
     "text": [
      "Maximum Metrics: Maximum metrics at their respective thresholds\n",
      "\n"
     ]
    },
    {
     "data": {
      "text/html": [
       "<div style=\"overflow:auto\"><table style=\"width:50%\"><tr><td><b>metric</b></td>\n",
       "<td><b>threshold</b></td>\n",
       "<td><b>value</b></td>\n",
       "<td><b>idx</b></td></tr>\n",
       "<tr><td>max f1</td>\n",
       "<td>0.2127362</td>\n",
       "<td>0.4281431</td>\n",
       "<td>220.0</td></tr>\n",
       "<tr><td>max f2</td>\n",
       "<td>0.1303831</td>\n",
       "<td>0.5737395</td>\n",
       "<td>307.0</td></tr>\n",
       "<tr><td>max f0point5</td>\n",
       "<td>0.3079546</td>\n",
       "<td>0.4186308</td>\n",
       "<td>145.0</td></tr>\n",
       "<tr><td>max accuracy</td>\n",
       "<td>0.4372509</td>\n",
       "<td>0.8245437</td>\n",
       "<td>71.0</td></tr>\n",
       "<tr><td>max precision</td>\n",
       "<td>0.7816774</td>\n",
       "<td>1.0</td>\n",
       "<td>0.0</td></tr>\n",
       "<tr><td>max recall</td>\n",
       "<td>0.0387166</td>\n",
       "<td>1.0</td>\n",
       "<td>397.0</td></tr>\n",
       "<tr><td>max specificity</td>\n",
       "<td>0.7816774</td>\n",
       "<td>1.0</td>\n",
       "<td>0.0</td></tr>\n",
       "<tr><td>max absolute_mcc</td>\n",
       "<td>0.2253608</td>\n",
       "<td>0.2751694</td>\n",
       "<td>209.0</td></tr>\n",
       "<tr><td>max min_per_class_accuracy</td>\n",
       "<td>0.1840315</td>\n",
       "<td>0.6638820</td>\n",
       "<td>248.0</td></tr>\n",
       "<tr><td>max mean_per_class_accuracy</td>\n",
       "<td>0.1896220</td>\n",
       "<td>0.6654935</td>\n",
       "<td>242.0</td></tr></table></div>"
      ],
      "text/plain": [
       "metric                       threshold    value     idx\n",
       "---------------------------  -----------  --------  -----\n",
       "max f1                       0.212736     0.428143  220\n",
       "max f2                       0.130383     0.57374   307\n",
       "max f0point5                 0.307955     0.418631  145\n",
       "max accuracy                 0.437251     0.824544  71\n",
       "max precision                0.781677     1         0\n",
       "max recall                   0.0387166    1         397\n",
       "max specificity              0.781677     1         0\n",
       "max absolute_mcc             0.225361     0.275169  209\n",
       "max min_per_class_accuracy   0.184031     0.663882  248\n",
       "max mean_per_class_accuracy  0.189622     0.665493  242"
      ]
     },
     "metadata": {},
     "output_type": "display_data"
    },
    {
     "name": "stdout",
     "output_type": "stream",
     "text": [
      "Gains/Lift Table: Avg response rate: 18.29 %, avg score: 18.30 %\n",
      "\n"
     ]
    },
    {
     "data": {
      "text/html": [
       "<div style=\"overflow:auto\"><table style=\"width:50%\"><tr><td><b></b></td>\n",
       "<td><b>group</b></td>\n",
       "<td><b>cumulative_data_fraction</b></td>\n",
       "<td><b>lower_threshold</b></td>\n",
       "<td><b>lift</b></td>\n",
       "<td><b>cumulative_lift</b></td>\n",
       "<td><b>response_rate</b></td>\n",
       "<td><b>score</b></td>\n",
       "<td><b>cumulative_response_rate</b></td>\n",
       "<td><b>cumulative_score</b></td>\n",
       "<td><b>capture_rate</b></td>\n",
       "<td><b>cumulative_capture_rate</b></td>\n",
       "<td><b>gain</b></td>\n",
       "<td><b>cumulative_gain</b></td></tr>\n",
       "<tr><td></td>\n",
       "<td>1</td>\n",
       "<td>0.0100031</td>\n",
       "<td>0.4992260</td>\n",
       "<td>4.1033929</td>\n",
       "<td>4.1033929</td>\n",
       "<td>0.7506093</td>\n",
       "<td>0.5557046</td>\n",
       "<td>0.7506093</td>\n",
       "<td>0.5557046</td>\n",
       "<td>0.0410466</td>\n",
       "<td>0.0410466</td>\n",
       "<td>310.3392868</td>\n",
       "<td>310.3392868</td></tr>\n",
       "<tr><td></td>\n",
       "<td>2</td>\n",
       "<td>0.0200062</td>\n",
       "<td>0.4546833</td>\n",
       "<td>3.2729443</td>\n",
       "<td>3.6881686</td>\n",
       "<td>0.5987002</td>\n",
       "<td>0.4746280</td>\n",
       "<td>0.6746548</td>\n",
       "<td>0.5151663</td>\n",
       "<td>0.0327395</td>\n",
       "<td>0.0737861</td>\n",
       "<td>227.2944311</td>\n",
       "<td>268.8168590</td></tr>\n",
       "<tr><td></td>\n",
       "<td>3</td>\n",
       "<td>0.0300011</td>\n",
       "<td>0.4253596</td>\n",
       "<td>2.8178205</td>\n",
       "<td>3.3982097</td>\n",
       "<td>0.5154472</td>\n",
       "<td>0.4394501</td>\n",
       "<td>0.6216143</td>\n",
       "<td>0.4899412</td>\n",
       "<td>0.0281640</td>\n",
       "<td>0.1019502</td>\n",
       "<td>181.7820520</td>\n",
       "<td>239.8209726</td></tr>\n",
       "<tr><td></td>\n",
       "<td>4</td>\n",
       "<td>0.0400042</td>\n",
       "<td>0.4025437</td>\n",
       "<td>2.6423363</td>\n",
       "<td>3.2092030</td>\n",
       "<td>0.4833469</td>\n",
       "<td>0.4139089</td>\n",
       "<td>0.5870404</td>\n",
       "<td>0.4709293</td>\n",
       "<td>0.0264315</td>\n",
       "<td>0.1283817</td>\n",
       "<td>164.2336316</td>\n",
       "<td>220.9202989</td></tr>\n",
       "<tr><td></td>\n",
       "<td>5</td>\n",
       "<td>0.0500073</td>\n",
       "<td>0.3842626</td>\n",
       "<td>2.3980867</td>\n",
       "<td>3.0469534</td>\n",
       "<td>0.4386677</td>\n",
       "<td>0.3931359</td>\n",
       "<td>0.5573611</td>\n",
       "<td>0.4553681</td>\n",
       "<td>0.0239883</td>\n",
       "<td>0.1523700</td>\n",
       "<td>139.8086741</td>\n",
       "<td>204.6953378</td></tr>\n",
       "<tr><td></td>\n",
       "<td>6</td>\n",
       "<td>0.1000065</td>\n",
       "<td>0.3201507</td>\n",
       "<td>2.2655959</td>\n",
       "<td>2.6563064</td>\n",
       "<td>0.4144320</td>\n",
       "<td>0.3490398</td>\n",
       "<td>0.4859023</td>\n",
       "<td>0.4022082</td>\n",
       "<td>0.1132780</td>\n",
       "<td>0.2656479</td>\n",
       "<td>126.5595880</td>\n",
       "<td>165.6306374</td></tr>\n",
       "<tr><td></td>\n",
       "<td>7</td>\n",
       "<td>0.1500057</td>\n",
       "<td>0.2806030</td>\n",
       "<td>1.7565032</td>\n",
       "<td>2.3563882</td>\n",
       "<td>0.3213067</td>\n",
       "<td>0.2991721</td>\n",
       "<td>0.4310401</td>\n",
       "<td>0.3678647</td>\n",
       "<td>0.0878237</td>\n",
       "<td>0.3534716</td>\n",
       "<td>75.6503159</td>\n",
       "<td>135.6388217</td></tr>\n",
       "<tr><td></td>\n",
       "<td>8</td>\n",
       "<td>0.2000049</td>\n",
       "<td>0.2521007</td>\n",
       "<td>1.5459360</td>\n",
       "<td>2.1537834</td>\n",
       "<td>0.2827889</td>\n",
       "<td>0.2655805</td>\n",
       "<td>0.3939788</td>\n",
       "<td>0.3422947</td>\n",
       "<td>0.0772955</td>\n",
       "<td>0.4307672</td>\n",
       "<td>54.5936013</td>\n",
       "<td>115.3783398</td></tr>\n",
       "<tr><td></td>\n",
       "<td>9</td>\n",
       "<td>0.3000033</td>\n",
       "<td>0.2120205</td>\n",
       "<td>1.3433651</td>\n",
       "<td>1.8836513</td>\n",
       "<td>0.2457338</td>\n",
       "<td>0.2307316</td>\n",
       "<td>0.3445651</td>\n",
       "<td>0.3051080</td>\n",
       "<td>0.1343343</td>\n",
       "<td>0.5651015</td>\n",
       "<td>34.3365087</td>\n",
       "<td>88.3651278</td></tr>\n",
       "<tr><td></td>\n",
       "<td>10</td>\n",
       "<td>0.4000016</td>\n",
       "<td>0.1825336</td>\n",
       "<td>1.0399529</td>\n",
       "<td>1.6727310</td>\n",
       "<td>0.1902324</td>\n",
       "<td>0.1965801</td>\n",
       "<td>0.3059827</td>\n",
       "<td>0.2779766</td>\n",
       "<td>0.1039936</td>\n",
       "<td>0.6690951</td>\n",
       "<td>3.9952933</td>\n",
       "<td>67.2730976</td></tr>\n",
       "<tr><td></td>\n",
       "<td>11</td>\n",
       "<td>0.5</td>\n",
       "<td>0.1588675</td>\n",
       "<td>0.8995748</td>\n",
       "<td>1.5181023</td>\n",
       "<td>0.1645539</td>\n",
       "<td>0.1702519</td>\n",
       "<td>0.2776974</td>\n",
       "<td>0.2564320</td>\n",
       "<td>0.0899560</td>\n",
       "<td>0.7590511</td>\n",
       "<td>-10.0425165</td>\n",
       "<td>51.8102261</td></tr>\n",
       "<tr><td></td>\n",
       "<td>12</td>\n",
       "<td>0.5999984</td>\n",
       "<td>0.1384016</td>\n",
       "<td>0.7347638</td>\n",
       "<td>1.3875476</td>\n",
       "<td>0.1344060</td>\n",
       "<td>0.1483929</td>\n",
       "<td>0.2538158</td>\n",
       "<td>0.2384257</td>\n",
       "<td>0.0734752</td>\n",
       "<td>0.8325263</td>\n",
       "<td>-26.5236160</td>\n",
       "<td>38.7547626</td></tr>\n",
       "<tr><td></td>\n",
       "<td>13</td>\n",
       "<td>0.6999967</td>\n",
       "<td>0.1200297</td>\n",
       "<td>0.6219283</td>\n",
       "<td>1.2781747</td>\n",
       "<td>0.1137656</td>\n",
       "<td>0.1289833</td>\n",
       "<td>0.2338089</td>\n",
       "<td>0.2227913</td>\n",
       "<td>0.0621918</td>\n",
       "<td>0.8947181</td>\n",
       "<td>-37.8071719</td>\n",
       "<td>27.8174703</td></tr>\n",
       "<tr><td></td>\n",
       "<td>14</td>\n",
       "<td>0.7999951</td>\n",
       "<td>0.1020851</td>\n",
       "<td>0.4846598</td>\n",
       "<td>1.1789864</td>\n",
       "<td>0.0886559</td>\n",
       "<td>0.1111477</td>\n",
       "<td>0.2156650</td>\n",
       "<td>0.2088360</td>\n",
       "<td>0.0484652</td>\n",
       "<td>0.9431833</td>\n",
       "<td>-51.5340175</td>\n",
       "<td>17.8986351</td></tr>\n",
       "<tr><td></td>\n",
       "<td>15</td>\n",
       "<td>0.8999935</td>\n",
       "<td>0.0821263</td>\n",
       "<td>0.3660492</td>\n",
       "<td>1.0886608</td>\n",
       "<td>0.0669592</td>\n",
       "<td>0.0924242</td>\n",
       "<td>0.1991423</td>\n",
       "<td>0.1959014</td>\n",
       "<td>0.0366043</td>\n",
       "<td>0.9797877</td>\n",
       "<td>-63.3950783</td>\n",
       "<td>8.8660818</td></tr>\n",
       "<tr><td></td>\n",
       "<td>16</td>\n",
       "<td>1.0</td>\n",
       "<td>0.0212755</td>\n",
       "<td>0.2021103</td>\n",
       "<td>1.0</td>\n",
       "<td>0.0369708</td>\n",
       "<td>0.0665781</td>\n",
       "<td>0.1829241</td>\n",
       "<td>0.1829683</td>\n",
       "<td>0.0202123</td>\n",
       "<td>1.0</td>\n",
       "<td>-79.7889732</td>\n",
       "<td>0.0</td></tr></table></div>"
      ],
      "text/plain": [
       "    group    cumulative_data_fraction    lower_threshold    lift      cumulative_lift    response_rate    score      cumulative_response_rate    cumulative_score    capture_rate    cumulative_capture_rate    gain      cumulative_gain\n",
       "--  -------  --------------------------  -----------------  --------  -----------------  ---------------  ---------  --------------------------  ------------------  --------------  -------------------------  --------  -----------------\n",
       "    1        0.0100031                   0.499226           4.10339   4.10339            0.750609         0.555705   0.750609                    0.555705            0.0410466       0.0410466                  310.339   310.339\n",
       "    2        0.0200062                   0.454683           3.27294   3.68817            0.5987           0.474628   0.674655                    0.515166            0.0327395       0.0737861                  227.294   268.817\n",
       "    3        0.0300011                   0.42536            2.81782   3.39821            0.515447         0.43945    0.621614                    0.489941            0.028164        0.10195                    181.782   239.821\n",
       "    4        0.0400042                   0.402544           2.64234   3.2092             0.483347         0.413909   0.58704                     0.470929            0.0264315       0.128382                   164.234   220.92\n",
       "    5        0.0500073                   0.384263           2.39809   3.04695            0.438668         0.393136   0.557361                    0.455368            0.0239883       0.15237                    139.809   204.695\n",
       "    6        0.100007                    0.320151           2.2656    2.65631            0.414432         0.34904    0.485902                    0.402208            0.113278        0.265648                   126.56    165.631\n",
       "    7        0.150006                    0.280603           1.7565    2.35639            0.321307         0.299172   0.43104                     0.367865            0.0878237       0.353472                   75.6503   135.639\n",
       "    8        0.200005                    0.252101           1.54594   2.15378            0.282789         0.265581   0.393979                    0.342295            0.0772955       0.430767                   54.5936   115.378\n",
       "    9        0.300003                    0.21202            1.34337   1.88365            0.245734         0.230732   0.344565                    0.305108            0.134334        0.565102                   34.3365   88.3651\n",
       "    10       0.400002                    0.182534           1.03995   1.67273            0.190232         0.19658    0.305983                    0.277977            0.103994        0.669095                   3.99529   67.2731\n",
       "    11       0.5                         0.158868           0.899575  1.5181             0.164554         0.170252   0.277697                    0.256432            0.089956        0.759051                   -10.0425  51.8102\n",
       "    12       0.599998                    0.138402           0.734764  1.38755            0.134406         0.148393   0.253816                    0.238426            0.0734752       0.832526                   -26.5236  38.7548\n",
       "    13       0.699997                    0.12003            0.621928  1.27817            0.113766         0.128983   0.233809                    0.222791            0.0621918       0.894718                   -37.8072  27.8175\n",
       "    14       0.799995                    0.102085           0.48466   1.17899            0.0886559        0.111148   0.215665                    0.208836            0.0484652       0.943183                   -51.534   17.8986\n",
       "    15       0.899993                    0.0821263          0.366049  1.08866            0.0669592        0.0924242  0.199142                    0.195901            0.0366043       0.979788                   -63.3951  8.86608\n",
       "    16       1                           0.0212755          0.20211   1                  0.0369708        0.0665781  0.182924                    0.182968            0.0202123       1                          -79.789   0"
      ]
     },
     "metadata": {},
     "output_type": "display_data"
    },
    {
     "name": "stdout",
     "output_type": "stream",
     "text": [
      "\n",
      "\n",
      "ModelMetricsBinomial: gbm\n",
      "** Reported on cross-validation data. **\n",
      "\n",
      "MSE: 0.13992344888073308\n",
      "RMSE: 0.3740634289538782\n",
      "LogLoss: 0.4446530252235406\n",
      "Mean Per-Class Error: 0.367803714712159\n",
      "AUC: 0.6810132979508045\n",
      "pr_auc: 0.31838264094570723\n",
      "Gini: 0.3620265959016089\n",
      "Confusion Matrix (Act/Pred) for max f1 @ threshold = 0.18669831027144826: \n"
     ]
    },
    {
     "data": {
      "text/html": [
       "<div style=\"overflow:auto\"><table style=\"width:50%\"><tr><td><b></b></td>\n",
       "<td><b>0</b></td>\n",
       "<td><b>1</b></td>\n",
       "<td><b>Error</b></td>\n",
       "<td><b>Rate</b></td></tr>\n",
       "<tr><td>0</td>\n",
       "<td>66557.0</td>\n",
       "<td>33994.0</td>\n",
       "<td>0.3381</td>\n",
       "<td> (33994.0/100551.0)</td></tr>\n",
       "<tr><td>1</td>\n",
       "<td>8955.0</td>\n",
       "<td>13556.0</td>\n",
       "<td>0.3978</td>\n",
       "<td> (8955.0/22511.0)</td></tr>\n",
       "<tr><td>Total</td>\n",
       "<td>75512.0</td>\n",
       "<td>47550.0</td>\n",
       "<td>0.349</td>\n",
       "<td> (42949.0/123062.0)</td></tr></table></div>"
      ],
      "text/plain": [
       "       0      1      Error    Rate\n",
       "-----  -----  -----  -------  ------------------\n",
       "0      66557  33994  0.3381   (33994.0/100551.0)\n",
       "1      8955   13556  0.3978   (8955.0/22511.0)\n",
       "Total  75512  47550  0.349    (42949.0/123062.0)"
      ]
     },
     "metadata": {},
     "output_type": "display_data"
    },
    {
     "name": "stdout",
     "output_type": "stream",
     "text": [
      "Maximum Metrics: Maximum metrics at their respective thresholds\n",
      "\n"
     ]
    },
    {
     "data": {
      "text/html": [
       "<div style=\"overflow:auto\"><table style=\"width:50%\"><tr><td><b>metric</b></td>\n",
       "<td><b>threshold</b></td>\n",
       "<td><b>value</b></td>\n",
       "<td><b>idx</b></td></tr>\n",
       "<tr><td>max f1</td>\n",
       "<td>0.1866983</td>\n",
       "<td>0.3869771</td>\n",
       "<td>241.0</td></tr>\n",
       "<tr><td>max f2</td>\n",
       "<td>0.1089224</td>\n",
       "<td>0.5517635</td>\n",
       "<td>328.0</td></tr>\n",
       "<tr><td>max f0point5</td>\n",
       "<td>0.2760977</td>\n",
       "<td>0.3476966</td>\n",
       "<td>162.0</td></tr>\n",
       "<tr><td>max accuracy</td>\n",
       "<td>0.5763578</td>\n",
       "<td>0.8171816</td>\n",
       "<td>23.0</td></tr>\n",
       "<tr><td>max precision</td>\n",
       "<td>0.7994572</td>\n",
       "<td>0.75</td>\n",
       "<td>1.0</td></tr>\n",
       "<tr><td>max recall</td>\n",
       "<td>0.0319050</td>\n",
       "<td>1.0</td>\n",
       "<td>398.0</td></tr>\n",
       "<tr><td>max specificity</td>\n",
       "<td>0.8224387</td>\n",
       "<td>0.9999901</td>\n",
       "<td>0.0</td></tr>\n",
       "<tr><td>max absolute_mcc</td>\n",
       "<td>0.2053110</td>\n",
       "<td>0.2113362</td>\n",
       "<td>223.0</td></tr>\n",
       "<tr><td>max min_per_class_accuracy</td>\n",
       "<td>0.1790038</td>\n",
       "<td>0.6309804</td>\n",
       "<td>249.0</td></tr>\n",
       "<tr><td>max mean_per_class_accuracy</td>\n",
       "<td>0.1848192</td>\n",
       "<td>0.6321963</td>\n",
       "<td>243.0</td></tr></table></div>"
      ],
      "text/plain": [
       "metric                       threshold    value     idx\n",
       "---------------------------  -----------  --------  -----\n",
       "max f1                       0.186698     0.386977  241\n",
       "max f2                       0.108922     0.551763  328\n",
       "max f0point5                 0.276098     0.347697  162\n",
       "max accuracy                 0.576358     0.817182  23\n",
       "max precision                0.799457     0.75      1\n",
       "max recall                   0.031905     1         398\n",
       "max specificity              0.822439     0.99999   0\n",
       "max absolute_mcc             0.205311     0.211336  223\n",
       "max min_per_class_accuracy   0.179004     0.63098   249\n",
       "max mean_per_class_accuracy  0.184819     0.632196  243"
      ]
     },
     "metadata": {},
     "output_type": "display_data"
    },
    {
     "name": "stdout",
     "output_type": "stream",
     "text": [
      "Gains/Lift Table: Avg response rate: 18.29 %, avg score: 18.27 %\n",
      "\n"
     ]
    },
    {
     "data": {
      "text/html": [
       "<div style=\"overflow:auto\"><table style=\"width:50%\"><tr><td><b></b></td>\n",
       "<td><b>group</b></td>\n",
       "<td><b>cumulative_data_fraction</b></td>\n",
       "<td><b>lower_threshold</b></td>\n",
       "<td><b>lift</b></td>\n",
       "<td><b>cumulative_lift</b></td>\n",
       "<td><b>response_rate</b></td>\n",
       "<td><b>score</b></td>\n",
       "<td><b>cumulative_response_rate</b></td>\n",
       "<td><b>cumulative_score</b></td>\n",
       "<td><b>capture_rate</b></td>\n",
       "<td><b>cumulative_capture_rate</b></td>\n",
       "<td><b>gain</b></td>\n",
       "<td><b>cumulative_gain</b></td></tr>\n",
       "<tr><td></td>\n",
       "<td>1</td>\n",
       "<td>0.0100031</td>\n",
       "<td>0.4987207</td>\n",
       "<td>2.7311543</td>\n",
       "<td>2.7311543</td>\n",
       "<td>0.4995938</td>\n",
       "<td>0.5546567</td>\n",
       "<td>0.4995938</td>\n",
       "<td>0.5546567</td>\n",
       "<td>0.0273200</td>\n",
       "<td>0.0273200</td>\n",
       "<td>173.1154344</td>\n",
       "<td>173.1154344</td></tr>\n",
       "<tr><td></td>\n",
       "<td>2</td>\n",
       "<td>0.0200062</td>\n",
       "<td>0.4542221</td>\n",
       "<td>2.3758822</td>\n",
       "<td>2.5535183</td>\n",
       "<td>0.4346060</td>\n",
       "<td>0.4748463</td>\n",
       "<td>0.4670999</td>\n",
       "<td>0.5147515</td>\n",
       "<td>0.0237662</td>\n",
       "<td>0.0510861</td>\n",
       "<td>137.5882234</td>\n",
       "<td>155.3518289</td></tr>\n",
       "<tr><td></td>\n",
       "<td>3</td>\n",
       "<td>0.0300011</td>\n",
       "<td>0.4247750</td>\n",
       "<td>2.3155907</td>\n",
       "<td>2.4742520</td>\n",
       "<td>0.4235772</td>\n",
       "<td>0.4386417</td>\n",
       "<td>0.4526002</td>\n",
       "<td>0.4893953</td>\n",
       "<td>0.0231442</td>\n",
       "<td>0.0742304</td>\n",
       "<td>131.5590680</td>\n",
       "<td>147.4252049</td></tr>\n",
       "<tr><td></td>\n",
       "<td>4</td>\n",
       "<td>0.0400042</td>\n",
       "<td>0.4014021</td>\n",
       "<td>2.2382143</td>\n",
       "<td>2.4152306</td>\n",
       "<td>0.4094232</td>\n",
       "<td>0.4126771</td>\n",
       "<td>0.4418038</td>\n",
       "<td>0.4702119</td>\n",
       "<td>0.0223891</td>\n",
       "<td>0.0966194</td>\n",
       "<td>123.8214292</td>\n",
       "<td>141.5230623</td></tr>\n",
       "<tr><td></td>\n",
       "<td>5</td>\n",
       "<td>0.0500073</td>\n",
       "<td>0.3826078</td>\n",
       "<td>2.1316327</td>\n",
       "<td>2.3585018</td>\n",
       "<td>0.3899269</td>\n",
       "<td>0.3915556</td>\n",
       "<td>0.4314267</td>\n",
       "<td>0.4544781</td>\n",
       "<td>0.0213229</td>\n",
       "<td>0.1179423</td>\n",
       "<td>113.1632659</td>\n",
       "<td>135.8501813</td></tr>\n",
       "<tr><td></td>\n",
       "<td>6</td>\n",
       "<td>0.1000065</td>\n",
       "<td>0.3197920</td>\n",
       "<td>1.9119852</td>\n",
       "<td>2.1352617</td>\n",
       "<td>0.3497481</td>\n",
       "<td>0.3482264</td>\n",
       "<td>0.3905907</td>\n",
       "<td>0.4013566</td>\n",
       "<td>0.0955977</td>\n",
       "<td>0.2135400</td>\n",
       "<td>91.1985229</td>\n",
       "<td>113.5261662</td></tr>\n",
       "<tr><td></td>\n",
       "<td>7</td>\n",
       "<td>0.1500057</td>\n",
       "<td>0.2800204</td>\n",
       "<td>1.6756525</td>\n",
       "<td>1.9820669</td>\n",
       "<td>0.3065171</td>\n",
       "<td>0.2987516</td>\n",
       "<td>0.3625677</td>\n",
       "<td>0.3671568</td>\n",
       "<td>0.0837813</td>\n",
       "<td>0.2973213</td>\n",
       "<td>67.5652483</td>\n",
       "<td>98.2066901</td></tr>\n",
       "<tr><td></td>\n",
       "<td>8</td>\n",
       "<td>0.2000049</td>\n",
       "<td>0.2518706</td>\n",
       "<td>1.4473160</td>\n",
       "<td>1.8483846</td>\n",
       "<td>0.2647489</td>\n",
       "<td>0.2653472</td>\n",
       "<td>0.3381140</td>\n",
       "<td>0.3417054</td>\n",
       "<td>0.0723646</td>\n",
       "<td>0.3696859</td>\n",
       "<td>44.7315957</td>\n",
       "<td>84.8384597</td></tr>\n",
       "<tr><td></td>\n",
       "<td>9</td>\n",
       "<td>0.3000033</td>\n",
       "<td>0.2116381</td>\n",
       "<td>1.3402554</td>\n",
       "<td>1.6790128</td>\n",
       "<td>0.2451650</td>\n",
       "<td>0.2304881</td>\n",
       "<td>0.3071318</td>\n",
       "<td>0.3046340</td>\n",
       "<td>0.1340234</td>\n",
       "<td>0.5037093</td>\n",
       "<td>34.0255445</td>\n",
       "<td>67.9012801</td></tr>\n",
       "<tr><td></td>\n",
       "<td>10</td>\n",
       "<td>0.4000016</td>\n",
       "<td>0.1826268</td>\n",
       "<td>1.1208036</td>\n",
       "<td>1.5394633</td>\n",
       "<td>0.2050219</td>\n",
       "<td>0.1965194</td>\n",
       "<td>0.2816049</td>\n",
       "<td>0.2776059</td>\n",
       "<td>0.1120785</td>\n",
       "<td>0.6157878</td>\n",
       "<td>12.0803609</td>\n",
       "<td>53.9463338</td></tr>\n",
       "<tr><td></td>\n",
       "<td>11</td>\n",
       "<td>0.5</td>\n",
       "<td>0.1589824</td>\n",
       "<td>0.9422213</td>\n",
       "<td>1.4200169</td>\n",
       "<td>0.1723549</td>\n",
       "<td>0.1703445</td>\n",
       "<td>0.2597552</td>\n",
       "<td>0.2561540</td>\n",
       "<td>0.0942206</td>\n",
       "<td>0.7100084</td>\n",
       "<td>-5.7778654</td>\n",
       "<td>42.0016881</td></tr>\n",
       "<tr><td></td>\n",
       "<td>12</td>\n",
       "<td>0.5999984</td>\n",
       "<td>0.1383401</td>\n",
       "<td>0.8151703</td>\n",
       "<td>1.3192105</td>\n",
       "<td>0.1491143</td>\n",
       "<td>0.1484442</td>\n",
       "<td>0.2413153</td>\n",
       "<td>0.2382026</td>\n",
       "<td>0.0815157</td>\n",
       "<td>0.7915241</td>\n",
       "<td>-18.4829718</td>\n",
       "<td>31.9210480</td></tr>\n",
       "<tr><td></td>\n",
       "<td>13</td>\n",
       "<td>0.6999967</td>\n",
       "<td>0.1196926</td>\n",
       "<td>0.7072213</td>\n",
       "<td>1.2317845</td>\n",
       "<td>0.1293678</td>\n",
       "<td>0.1288284</td>\n",
       "<td>0.2253230</td>\n",
       "<td>0.2225779</td>\n",
       "<td>0.0707210</td>\n",
       "<td>0.8622451</td>\n",
       "<td>-29.2778698</td>\n",
       "<td>23.1784469</td></tr>\n",
       "<tr><td></td>\n",
       "<td>14</td>\n",
       "<td>0.7999951</td>\n",
       "<td>0.1017198</td>\n",
       "<td>0.6023820</td>\n",
       "<td>1.1531100</td>\n",
       "<td>0.1101902</td>\n",
       "<td>0.1107738</td>\n",
       "<td>0.2109315</td>\n",
       "<td>0.2086025</td>\n",
       "<td>0.0602372</td>\n",
       "<td>0.9224823</td>\n",
       "<td>-39.7618037</td>\n",
       "<td>15.3109955</td></tr>\n",
       "<tr><td></td>\n",
       "<td>15</td>\n",
       "<td>0.8999935</td>\n",
       "<td>0.0813901</td>\n",
       "<td>0.4811059</td>\n",
       "<td>1.0784435</td>\n",
       "<td>0.0880059</td>\n",
       "<td>0.0919352</td>\n",
       "<td>0.1972733</td>\n",
       "<td>0.1956396</td>\n",
       "<td>0.0481098</td>\n",
       "<td>0.9705922</td>\n",
       "<td>-51.8894051</td>\n",
       "<td>7.8443517</td></tr>\n",
       "<tr><td></td>\n",
       "<td>16</td>\n",
       "<td>1.0</td>\n",
       "<td>0.0187266</td>\n",
       "<td>0.2940593</td>\n",
       "<td>1.0</td>\n",
       "<td>0.0537905</td>\n",
       "<td>0.0658476</td>\n",
       "<td>0.1829241</td>\n",
       "<td>0.1826595</td>\n",
       "<td>0.0294078</td>\n",
       "<td>1.0</td>\n",
       "<td>-70.5940666</td>\n",
       "<td>0.0</td></tr></table></div>"
      ],
      "text/plain": [
       "    group    cumulative_data_fraction    lower_threshold    lift      cumulative_lift    response_rate    score      cumulative_response_rate    cumulative_score    capture_rate    cumulative_capture_rate    gain      cumulative_gain\n",
       "--  -------  --------------------------  -----------------  --------  -----------------  ---------------  ---------  --------------------------  ------------------  --------------  -------------------------  --------  -----------------\n",
       "    1        0.0100031                   0.498721           2.73115   2.73115            0.499594         0.554657   0.499594                    0.554657            0.02732         0.02732                    173.115   173.115\n",
       "    2        0.0200062                   0.454222           2.37588   2.55352            0.434606         0.474846   0.4671                      0.514752            0.0237662       0.0510861                  137.588   155.352\n",
       "    3        0.0300011                   0.424775           2.31559   2.47425            0.423577         0.438642   0.4526                      0.489395            0.0231442       0.0742304                  131.559   147.425\n",
       "    4        0.0400042                   0.401402           2.23821   2.41523            0.409423         0.412677   0.441804                    0.470212            0.0223891       0.0966194                  123.821   141.523\n",
       "    5        0.0500073                   0.382608           2.13163   2.3585             0.389927         0.391556   0.431427                    0.454478            0.0213229       0.117942                   113.163   135.85\n",
       "    6        0.100007                    0.319792           1.91199   2.13526            0.349748         0.348226   0.390591                    0.401357            0.0955977       0.21354                    91.1985   113.526\n",
       "    7        0.150006                    0.28002            1.67565   1.98207            0.306517         0.298752   0.362568                    0.367157            0.0837813       0.297321                   67.5652   98.2067\n",
       "    8        0.200005                    0.251871           1.44732   1.84838            0.264749         0.265347   0.338114                    0.341705            0.0723646       0.369686                   44.7316   84.8385\n",
       "    9        0.300003                    0.211638           1.34026   1.67901            0.245165         0.230488   0.307132                    0.304634            0.134023        0.503709                   34.0255   67.9013\n",
       "    10       0.400002                    0.182627           1.1208    1.53946            0.205022         0.196519   0.281605                    0.277606            0.112079        0.615788                   12.0804   53.9463\n",
       "    11       0.5                         0.158982           0.942221  1.42002            0.172355         0.170344   0.259755                    0.256154            0.0942206       0.710008                   -5.77787  42.0017\n",
       "    12       0.599998                    0.13834            0.81517   1.31921            0.149114         0.148444   0.241315                    0.238203            0.0815157       0.791524                   -18.483   31.921\n",
       "    13       0.699997                    0.119693           0.707221  1.23178            0.129368         0.128828   0.225323                    0.222578            0.070721        0.862245                   -29.2779  23.1784\n",
       "    14       0.799995                    0.10172            0.602382  1.15311            0.11019          0.110774   0.210932                    0.208603            0.0602372       0.922482                   -39.7618  15.311\n",
       "    15       0.899993                    0.0813901          0.481106  1.07844            0.0880059        0.0919352  0.197273                    0.19564             0.0481098       0.970592                   -51.8894  7.84435\n",
       "    16       1                           0.0187266          0.294059  1                  0.0537905        0.0658476  0.182924                    0.18266             0.0294078       1                          -70.5941  0"
      ]
     },
     "metadata": {},
     "output_type": "display_data"
    },
    {
     "name": "stdout",
     "output_type": "stream",
     "text": [
      "\n",
      "Cross-Validation Metrics Summary: \n"
     ]
    },
    {
     "data": {
      "text/html": [
       "<div style=\"overflow:auto\"><table style=\"width:50%\"><tr><td><b></b></td>\n",
       "<td><b>mean</b></td>\n",
       "<td><b>sd</b></td>\n",
       "<td><b>cv_1_valid</b></td>\n",
       "<td><b>cv_2_valid</b></td>\n",
       "<td><b>cv_3_valid</b></td>\n",
       "<td><b>cv_4_valid</b></td>\n",
       "<td><b>cv_5_valid</b></td></tr>\n",
       "<tr><td>accuracy</td>\n",
       "<td>0.6690122</td>\n",
       "<td>0.0116190</td>\n",
       "<td>0.6518506</td>\n",
       "<td>0.7003616</td>\n",
       "<td>0.6654071</td>\n",
       "<td>0.6623598</td>\n",
       "<td>0.6650821</td></tr>\n",
       "<tr><td>auc</td>\n",
       "<td>0.6811858</td>\n",
       "<td>0.0023196</td>\n",
       "<td>0.6789478</td>\n",
       "<td>0.6856673</td>\n",
       "<td>0.6778161</td>\n",
       "<td>0.6788573</td>\n",
       "<td>0.6846403</td></tr>\n",
       "<tr><td>err</td>\n",
       "<td>0.3309878</td>\n",
       "<td>0.0116190</td>\n",
       "<td>0.3481494</td>\n",
       "<td>0.2996384</td>\n",
       "<td>0.3345929</td>\n",
       "<td>0.3376402</td>\n",
       "<td>0.3349179</td></tr>\n",
       "<tr><td>err_count</td>\n",
       "<td>8146.4</td>\n",
       "<td>285.93622</td>\n",
       "<td>8569.0</td>\n",
       "<td>7375.0</td>\n",
       "<td>8235.0</td>\n",
       "<td>8310.0</td>\n",
       "<td>8243.0</td></tr>\n",
       "<tr><td>f0point5</td>\n",
       "<td>0.3255861</td>\n",
       "<td>0.0032867</td>\n",
       "<td>0.3242774</td>\n",
       "<td>0.3344854</td>\n",
       "<td>0.321055</td>\n",
       "<td>0.3230811</td>\n",
       "<td>0.3250319</td></tr>\n",
       "<tr><td>f1</td>\n",
       "<td>0.3885851</td>\n",
       "<td>0.0020989</td>\n",
       "<td>0.3919677</td>\n",
       "<td>0.3884236</td>\n",
       "<td>0.3839306</td>\n",
       "<td>0.3870777</td>\n",
       "<td>0.3915258</td></tr>\n",
       "<tr><td>f2</td>\n",
       "<td>0.4821638</td>\n",
       "<td>0.0081344</td>\n",
       "<td>0.4953727</td>\n",
       "<td>0.4631021</td>\n",
       "<td>0.4774309</td>\n",
       "<td>0.4826901</td>\n",
       "<td>0.4922232</td></tr>\n",
       "<tr><td>lift_top_group</td>\n",
       "<td>2.7224994</td>\n",
       "<td>0.1312560</td>\n",
       "<td>2.9493139</td>\n",
       "<td>2.938129</td>\n",
       "<td>2.589586</td>\n",
       "<td>2.501516</td>\n",
       "<td>2.6339514</td></tr>\n",
       "<tr><td>logloss</td>\n",
       "<td>0.4446530</td>\n",
       "<td>0.0031738</td>\n",
       "<td>0.4498620</td>\n",
       "<td>0.4374977</td>\n",
       "<td>0.4461783</td>\n",
       "<td>0.4480244</td>\n",
       "<td>0.4417028</td></tr>\n",
       "<tr><td>max_per_class_error</td>\n",
       "<td>0.4251649</td>\n",
       "<td>0.0173141</td>\n",
       "<td>0.3989119</td>\n",
       "<td>0.4688138</td>\n",
       "<td>0.4300311</td>\n",
       "<td>0.4221537</td>\n",
       "<td>0.4059140</td></tr>\n",
       "<tr><td>mcc</td>\n",
       "<td>0.213855</td>\n",
       "<td>0.0043123</td>\n",
       "<td>0.2117912</td>\n",
       "<td>0.2224313</td>\n",
       "<td>0.2067601</td>\n",
       "<td>0.2087778</td>\n",
       "<td>0.2195145</td></tr>\n",
       "<tr><td>mean_per_class_accuracy</td>\n",
       "<td>0.6324024</td>\n",
       "<td>0.0022932</td>\n",
       "<td>0.6322955</td>\n",
       "<td>0.634233</td>\n",
       "<td>0.6283708</td>\n",
       "<td>0.6296635</td>\n",
       "<td>0.637449</td></tr>\n",
       "<tr><td>mean_per_class_error</td>\n",
       "<td>0.3675976</td>\n",
       "<td>0.0022932</td>\n",
       "<td>0.3677045</td>\n",
       "<td>0.3657670</td>\n",
       "<td>0.3716292</td>\n",
       "<td>0.3703365</td>\n",
       "<td>0.362551</td></tr>\n",
       "<tr><td>mse</td>\n",
       "<td>0.1399235</td>\n",
       "<td>0.0012629</td>\n",
       "<td>0.1419288</td>\n",
       "<td>0.1370674</td>\n",
       "<td>0.1405501</td>\n",
       "<td>0.1413304</td>\n",
       "<td>0.1387406</td></tr>\n",
       "<tr><td>precision</td>\n",
       "<td>0.2938749</td>\n",
       "<td>0.0043748</td>\n",
       "<td>0.2907981</td>\n",
       "<td>0.3061438</td>\n",
       "<td>0.2894529</td>\n",
       "<td>0.2910059</td>\n",
       "<td>0.291974</td></tr>\n",
       "<tr><td>r2</td>\n",
       "<td>0.0637976</td>\n",
       "<td>0.0022115</td>\n",
       "<td>0.0652543</td>\n",
       "<td>0.0678500</td>\n",
       "<td>0.0596113</td>\n",
       "<td>0.0606902</td>\n",
       "<td>0.0655820</td></tr>\n",
       "<tr><td>recall</td>\n",
       "<td>0.5748351</td>\n",
       "<td>0.0173141</td>\n",
       "<td>0.6010882</td>\n",
       "<td>0.5311862</td>\n",
       "<td>0.5699689</td>\n",
       "<td>0.5778463</td>\n",
       "<td>0.5940861</td></tr>\n",
       "<tr><td>rmse</td>\n",
       "<td>0.3740558</td>\n",
       "<td>0.0016908</td>\n",
       "<td>0.3767344</td>\n",
       "<td>0.3702261</td>\n",
       "<td>0.3749001</td>\n",
       "<td>0.3759393</td>\n",
       "<td>0.3724790</td></tr>\n",
       "<tr><td>specificity</td>\n",
       "<td>0.6899696</td>\n",
       "<td>0.0176207</td>\n",
       "<td>0.6635029</td>\n",
       "<td>0.7372798</td>\n",
       "<td>0.6867728</td>\n",
       "<td>0.6814808</td>\n",
       "<td>0.680812</td></tr></table></div>"
      ],
      "text/plain": [
       "                         mean       sd          cv_1_valid    cv_2_valid    cv_3_valid    cv_4_valid    cv_5_valid\n",
       "-----------------------  ---------  ----------  ------------  ------------  ------------  ------------  ------------\n",
       "accuracy                 0.669012   0.011619    0.651851      0.700362      0.665407      0.66236       0.665082\n",
       "auc                      0.681186   0.00231955  0.678948      0.685667      0.677816      0.678857      0.68464\n",
       "err                      0.330988   0.011619    0.348149      0.299638      0.334593      0.33764       0.334918\n",
       "err_count                8146.4     285.936     8569          7375          8235          8310          8243\n",
       "f0point5                 0.325586   0.0032867   0.324277      0.334485      0.321055      0.323081      0.325032\n",
       "f1                       0.388585   0.00209886  0.391968      0.388424      0.383931      0.387078      0.391526\n",
       "f2                       0.482164   0.00813444  0.495373      0.463102      0.477431      0.48269       0.492223\n",
       "lift_top_group           2.7225     0.131256    2.94931       2.93813       2.58959       2.50152       2.63395\n",
       "logloss                  0.444653   0.00317378  0.449862      0.437498      0.446178      0.448024      0.441703\n",
       "max_per_class_error      0.425165   0.0173141   0.398912      0.468814      0.430031      0.422154      0.405914\n",
       "mcc                      0.213855   0.00431227  0.211791      0.222431      0.20676       0.208778      0.219515\n",
       "mean_per_class_accuracy  0.632402   0.00229316  0.632296      0.634233      0.628371      0.629664      0.637449\n",
       "mean_per_class_error     0.367598   0.00229316  0.367704      0.365767      0.371629      0.370336      0.362551\n",
       "mse                      0.139923   0.00126293  0.141929      0.137067      0.14055       0.14133       0.138741\n",
       "precision                0.293875   0.00437483  0.290798      0.306144      0.289453      0.291006      0.291974\n",
       "r2                       0.0637976  0.00221154  0.0652543     0.06785       0.0596113     0.0606902     0.065582\n",
       "recall                   0.574835   0.0173141   0.601088      0.531186      0.569969      0.577846      0.594086\n",
       "rmse                     0.374056   0.0016908   0.376734      0.370226      0.3749        0.375939      0.372479\n",
       "specificity              0.68997    0.0176207   0.663503      0.73728       0.686773      0.681481      0.680812"
      ]
     },
     "metadata": {},
     "output_type": "display_data"
    },
    {
     "name": "stdout",
     "output_type": "stream",
     "text": [
      "Scoring History: \n"
     ]
    },
    {
     "data": {
      "text/html": [
       "<div style=\"overflow:auto\"><table style=\"width:50%\"><tr><td><b></b></td>\n",
       "<td><b>timestamp</b></td>\n",
       "<td><b>duration</b></td>\n",
       "<td><b>number_of_trees</b></td>\n",
       "<td><b>training_rmse</b></td>\n",
       "<td><b>training_logloss</b></td>\n",
       "<td><b>training_auc</b></td>\n",
       "<td><b>training_pr_auc</b></td>\n",
       "<td><b>training_lift</b></td>\n",
       "<td><b>training_classification_error</b></td></tr>\n",
       "<tr><td></td>\n",
       "<td>2019-08-10 02:55:27</td>\n",
       "<td>10.107 sec</td>\n",
       "<td>0.0</td>\n",
       "<td>0.3866042</td>\n",
       "<td>0.4757985</td>\n",
       "<td>0.5</td>\n",
       "<td>0.0</td>\n",
       "<td>1.0</td>\n",
       "<td>0.8170759</td></tr>\n",
       "<tr><td></td>\n",
       "<td>2019-08-10 02:55:27</td>\n",
       "<td>10.380 sec</td>\n",
       "<td>5.0</td>\n",
       "<td>0.3788580</td>\n",
       "<td>0.4571766</td>\n",
       "<td>0.6814525</td>\n",
       "<td>0.3374599</td>\n",
       "<td>3.2907079</td>\n",
       "<td>0.3388942</td></tr>\n",
       "<tr><td></td>\n",
       "<td>2019-08-10 02:55:27</td>\n",
       "<td>10.534 sec</td>\n",
       "<td>10.0</td>\n",
       "<td>0.3748833</td>\n",
       "<td>0.4480494</td>\n",
       "<td>0.6922327</td>\n",
       "<td>0.3509518</td>\n",
       "<td>3.4389050</td>\n",
       "<td>0.3204401</td></tr>\n",
       "<tr><td></td>\n",
       "<td>2019-08-10 02:55:27</td>\n",
       "<td>10.665 sec</td>\n",
       "<td>15.0</td>\n",
       "<td>0.3725400</td>\n",
       "<td>0.4427345</td>\n",
       "<td>0.6982697</td>\n",
       "<td>0.3594338</td>\n",
       "<td>3.5882483</td>\n",
       "<td>0.3056102</td></tr>\n",
       "<tr><td></td>\n",
       "<td>2019-08-10 02:55:27</td>\n",
       "<td>10.798 sec</td>\n",
       "<td>20.0</td>\n",
       "<td>0.3707735</td>\n",
       "<td>0.4386659</td>\n",
       "<td>0.7051111</td>\n",
       "<td>0.3684355</td>\n",
       "<td>3.7259163</td>\n",
       "<td>0.2994101</td></tr>\n",
       "<tr><td></td>\n",
       "<td>2019-08-10 02:55:27</td>\n",
       "<td>10.928 sec</td>\n",
       "<td>25.0</td>\n",
       "<td>0.3694424</td>\n",
       "<td>0.4356454</td>\n",
       "<td>0.7101259</td>\n",
       "<td>0.3747489</td>\n",
       "<td>3.7525617</td>\n",
       "<td>0.2977036</td></tr>\n",
       "<tr><td></td>\n",
       "<td>2019-08-10 02:55:27</td>\n",
       "<td>11.063 sec</td>\n",
       "<td>30.0</td>\n",
       "<td>0.3682939</td>\n",
       "<td>0.4329950</td>\n",
       "<td>0.7149484</td>\n",
       "<td>0.3810228</td>\n",
       "<td>3.8324979</td>\n",
       "<td>0.2845639</td></tr>\n",
       "<tr><td></td>\n",
       "<td>2019-08-10 02:55:28</td>\n",
       "<td>11.195 sec</td>\n",
       "<td>35.0</td>\n",
       "<td>0.3673689</td>\n",
       "<td>0.4309138</td>\n",
       "<td>0.7187858</td>\n",
       "<td>0.3867234</td>\n",
       "<td>3.8724660</td>\n",
       "<td>0.2879362</td></tr>\n",
       "<tr><td></td>\n",
       "<td>2019-08-10 02:55:28</td>\n",
       "<td>11.324 sec</td>\n",
       "<td>40.0</td>\n",
       "<td>0.3665076</td>\n",
       "<td>0.4289867</td>\n",
       "<td>0.7224233</td>\n",
       "<td>0.3924377</td>\n",
       "<td>3.9257568</td>\n",
       "<td>0.2896020</td></tr>\n",
       "<tr><td></td>\n",
       "<td>2019-08-10 02:55:28</td>\n",
       "<td>11.451 sec</td>\n",
       "<td>45.0</td>\n",
       "<td>0.3658540</td>\n",
       "<td>0.4275771</td>\n",
       "<td>0.7248693</td>\n",
       "<td>0.3968259</td>\n",
       "<td>3.9968112</td>\n",
       "<td>0.2823130</td></tr>\n",
       "<tr><td></td>\n",
       "<td>2019-08-10 02:55:28</td>\n",
       "<td>11.587 sec</td>\n",
       "<td>50.0</td>\n",
       "<td>0.3651109</td>\n",
       "<td>0.4259090</td>\n",
       "<td>0.7284386</td>\n",
       "<td>0.4021434</td>\n",
       "<td>4.0634248</td>\n",
       "<td>0.2779818</td></tr>\n",
       "<tr><td></td>\n",
       "<td>2019-08-10 02:55:28</td>\n",
       "<td>11.648 sec</td>\n",
       "<td>51.0</td>\n",
       "<td>0.3649428</td>\n",
       "<td>0.4255615</td>\n",
       "<td>0.7290315</td>\n",
       "<td>0.4035485</td>\n",
       "<td>4.1033929</td>\n",
       "<td>0.2758772</td></tr></table></div>"
      ],
      "text/plain": [
       "    timestamp            duration    number_of_trees    training_rmse    training_logloss    training_auc    training_pr_auc    training_lift    training_classification_error\n",
       "--  -------------------  ----------  -----------------  ---------------  ------------------  --------------  -----------------  ---------------  -------------------------------\n",
       "    2019-08-10 02:55:27  10.107 sec  0                  0.386604         0.475799            0.5             0                  1                0.817076\n",
       "    2019-08-10 02:55:27  10.380 sec  5                  0.378858         0.457177            0.681452        0.33746            3.29071          0.338894\n",
       "    2019-08-10 02:55:27  10.534 sec  10                 0.374883         0.448049            0.692233        0.350952           3.4389           0.32044\n",
       "    2019-08-10 02:55:27  10.665 sec  15                 0.37254          0.442735            0.69827         0.359434           3.58825          0.30561\n",
       "    2019-08-10 02:55:27  10.798 sec  20                 0.370773         0.438666            0.705111        0.368436           3.72592          0.29941\n",
       "    2019-08-10 02:55:27  10.928 sec  25                 0.369442         0.435645            0.710126        0.374749           3.75256          0.297704\n",
       "    2019-08-10 02:55:27  11.063 sec  30                 0.368294         0.432995            0.714948        0.381023           3.8325           0.284564\n",
       "    2019-08-10 02:55:28  11.195 sec  35                 0.367369         0.430914            0.718786        0.386723           3.87247          0.287936\n",
       "    2019-08-10 02:55:28  11.324 sec  40                 0.366508         0.428987            0.722423        0.392438           3.92576          0.289602\n",
       "    2019-08-10 02:55:28  11.451 sec  45                 0.365854         0.427577            0.724869        0.396826           3.99681          0.282313\n",
       "    2019-08-10 02:55:28  11.587 sec  50                 0.365111         0.425909            0.728439        0.402143           4.06342          0.277982\n",
       "    2019-08-10 02:55:28  11.648 sec  51                 0.364943         0.425561            0.729032        0.403548           4.10339          0.275877"
      ]
     },
     "metadata": {},
     "output_type": "display_data"
    },
    {
     "name": "stdout",
     "output_type": "stream",
     "text": [
      "Variable Importances: \n"
     ]
    },
    {
     "data": {
      "text/html": [
       "<div style=\"overflow:auto\"><table style=\"width:50%\"><tr><td><b>variable</b></td>\n",
       "<td><b>relative_importance</b></td>\n",
       "<td><b>scaled_importance</b></td>\n",
       "<td><b>percentage</b></td></tr>\n",
       "<tr><td>term</td>\n",
       "<td>1838.3807373</td>\n",
       "<td>1.0</td>\n",
       "<td>0.1971849</td></tr>\n",
       "<tr><td>addr_state</td>\n",
       "<td>1794.6074219</td>\n",
       "<td>0.9761892</td>\n",
       "<td>0.1924898</td></tr>\n",
       "<tr><td>annual_inc</td>\n",
       "<td>1230.8222656</td>\n",
       "<td>0.6695143</td>\n",
       "<td>0.1320181</td></tr>\n",
       "<tr><td>revol_util</td>\n",
       "<td>1026.1829834</td>\n",
       "<td>0.5581994</td>\n",
       "<td>0.1100685</td></tr>\n",
       "<tr><td>dti</td>\n",
       "<td>866.4769897</td>\n",
       "<td>0.4713262</td>\n",
       "<td>0.0929384</td></tr>\n",
       "<tr><td>purpose</td>\n",
       "<td>797.5979614</td>\n",
       "<td>0.4338590</td>\n",
       "<td>0.0855504</td></tr>\n",
       "<tr><td>loan_amnt</td>\n",
       "<td>552.3961792</td>\n",
       "<td>0.3004797</td>\n",
       "<td>0.0592501</td></tr>\n",
       "<tr><td>emp_length</td>\n",
       "<td>300.9697266</td>\n",
       "<td>0.1637146</td>\n",
       "<td>0.0322820</td></tr>\n",
       "<tr><td>home_ownership</td>\n",
       "<td>262.2561951</td>\n",
       "<td>0.1426561</td>\n",
       "<td>0.0281296</td></tr>\n",
       "<tr><td>longest_credit_length</td>\n",
       "<td>244.4978638</td>\n",
       "<td>0.1329963</td>\n",
       "<td>0.0262249</td></tr>\n",
       "<tr><td>total_acc</td>\n",
       "<td>225.1454620</td>\n",
       "<td>0.1224694</td>\n",
       "<td>0.0241491</td></tr>\n",
       "<tr><td>delinq_2yrs</td>\n",
       "<td>143.9995270</td>\n",
       "<td>0.0783295</td>\n",
       "<td>0.0154454</td></tr>\n",
       "<tr><td>verification_status</td>\n",
       "<td>39.7984581</td>\n",
       "<td>0.0216486</td>\n",
       "<td>0.0042688</td></tr></table></div>"
      ],
      "text/plain": [
       "variable               relative_importance    scaled_importance    percentage\n",
       "---------------------  ---------------------  -------------------  ------------\n",
       "term                   1838.38                1                    0.197185\n",
       "addr_state             1794.61                0.976189             0.19249\n",
       "annual_inc             1230.82                0.669514             0.132018\n",
       "revol_util             1026.18                0.558199             0.110068\n",
       "dti                    866.477                0.471326             0.0929384\n",
       "purpose                797.598                0.433859             0.0855504\n",
       "loan_amnt              552.396                0.30048              0.0592501\n",
       "emp_length             300.97                 0.163715             0.032282\n",
       "home_ownership         262.256                0.142656             0.0281296\n",
       "longest_credit_length  244.498                0.132996             0.0262249\n",
       "total_acc              225.145                0.122469             0.0241491\n",
       "delinq_2yrs            144                    0.0783295            0.0154454\n",
       "verification_status    39.7985                0.0216486            0.00426879"
      ]
     },
     "metadata": {},
     "output_type": "display_data"
    },
    {
     "data": {
      "text/plain": []
     },
     "execution_count": 13,
     "metadata": {},
     "output_type": "execute_result"
    }
   ],
   "source": [
    "select_model"
   ]
  },
  {
   "cell_type": "markdown",
   "metadata": {},
   "source": [
    "and performance on test data"
   ]
  },
  {
   "cell_type": "code",
   "execution_count": 14,
   "metadata": {},
   "outputs": [
    {
     "name": "stdout",
     "output_type": "stream",
     "text": [
      "\n",
      "ModelMetricsBinomial: gbm\n",
      "** Reported on test data. **\n",
      "\n",
      "MSE: 0.13975722513449157\n",
      "RMSE: 0.37384117634965197\n",
      "LogLoss: 0.444092821479681\n",
      "Mean Per-Class Error: 0.3652027612949835\n",
      "AUC: 0.6843093951728172\n",
      "pr_auc: 0.3238575562341099\n",
      "Gini: 0.3686187903456344\n",
      "Confusion Matrix (Act/Pred) for max f1 @ threshold = 0.19739266557668264: \n"
     ]
    },
    {
     "data": {
      "text/html": [
       "<div style=\"overflow:auto\"><table style=\"width:50%\"><tr><td><b></b></td>\n",
       "<td><b>0</b></td>\n",
       "<td><b>1</b></td>\n",
       "<td><b>Error</b></td>\n",
       "<td><b>Rate</b></td></tr>\n",
       "<tr><td>0</td>\n",
       "<td>23422.0</td>\n",
       "<td>9998.0</td>\n",
       "<td>0.2992</td>\n",
       "<td> (9998.0/33420.0)</td></tr>\n",
       "<tr><td>1</td>\n",
       "<td>3275.0</td>\n",
       "<td>4230.0</td>\n",
       "<td>0.4364</td>\n",
       "<td> (3275.0/7505.0)</td></tr>\n",
       "<tr><td>Total</td>\n",
       "<td>26697.0</td>\n",
       "<td>14228.0</td>\n",
       "<td>0.3243</td>\n",
       "<td> (13273.0/40925.0)</td></tr></table></div>"
      ],
      "text/plain": [
       "       0      1      Error    Rate\n",
       "-----  -----  -----  -------  -----------------\n",
       "0      23422  9998   0.2992   (9998.0/33420.0)\n",
       "1      3275   4230   0.4364   (3275.0/7505.0)\n",
       "Total  26697  14228  0.3243   (13273.0/40925.0)"
      ]
     },
     "metadata": {},
     "output_type": "display_data"
    },
    {
     "name": "stdout",
     "output_type": "stream",
     "text": [
      "Maximum Metrics: Maximum metrics at their respective thresholds\n",
      "\n"
     ]
    },
    {
     "data": {
      "text/html": [
       "<div style=\"overflow:auto\"><table style=\"width:50%\"><tr><td><b>metric</b></td>\n",
       "<td><b>threshold</b></td>\n",
       "<td><b>value</b></td>\n",
       "<td><b>idx</b></td></tr>\n",
       "<tr><td>max f1</td>\n",
       "<td>0.1973927</td>\n",
       "<td>0.3892698</td>\n",
       "<td>230.0</td></tr>\n",
       "<tr><td>max f2</td>\n",
       "<td>0.1195420</td>\n",
       "<td>0.5555744</td>\n",
       "<td>317.0</td></tr>\n",
       "<tr><td>max f0point5</td>\n",
       "<td>0.2757612</td>\n",
       "<td>0.3536098</td>\n",
       "<td>161.0</td></tr>\n",
       "<tr><td>max accuracy</td>\n",
       "<td>0.5204009</td>\n",
       "<td>0.8171289</td>\n",
       "<td>38.0</td></tr>\n",
       "<tr><td>max precision</td>\n",
       "<td>0.8049025</td>\n",
       "<td>1.0</td>\n",
       "<td>0.0</td></tr>\n",
       "<tr><td>max recall</td>\n",
       "<td>0.0287223</td>\n",
       "<td>1.0</td>\n",
       "<td>399.0</td></tr>\n",
       "<tr><td>max specificity</td>\n",
       "<td>0.8049025</td>\n",
       "<td>1.0</td>\n",
       "<td>0.0</td></tr>\n",
       "<tr><td>max absolute_mcc</td>\n",
       "<td>0.1973927</td>\n",
       "<td>0.2149012</td>\n",
       "<td>230.0</td></tr>\n",
       "<tr><td>max min_per_class_accuracy</td>\n",
       "<td>0.1787252</td>\n",
       "<td>0.6315380</td>\n",
       "<td>248.0</td></tr>\n",
       "<tr><td>max mean_per_class_accuracy</td>\n",
       "<td>0.1730964</td>\n",
       "<td>0.6347972</td>\n",
       "<td>254.0</td></tr></table></div>"
      ],
      "text/plain": [
       "metric                       threshold    value     idx\n",
       "---------------------------  -----------  --------  -----\n",
       "max f1                       0.197393     0.38927   230\n",
       "max f2                       0.119542     0.555574  317\n",
       "max f0point5                 0.275761     0.35361   161\n",
       "max accuracy                 0.520401     0.817129  38\n",
       "max precision                0.804902     1         0\n",
       "max recall                   0.0287223    1         399\n",
       "max specificity              0.804902     1         0\n",
       "max absolute_mcc             0.197393     0.214901  230\n",
       "max min_per_class_accuracy   0.178725     0.631538  248\n",
       "max mean_per_class_accuracy  0.173096     0.634797  254"
      ]
     },
     "metadata": {},
     "output_type": "display_data"
    },
    {
     "name": "stdout",
     "output_type": "stream",
     "text": [
      "Gains/Lift Table: Avg response rate: 18.34 %, avg score: 18.28 %\n",
      "\n"
     ]
    },
    {
     "data": {
      "text/html": [
       "<div style=\"overflow:auto\"><table style=\"width:50%\"><tr><td><b></b></td>\n",
       "<td><b>group</b></td>\n",
       "<td><b>cumulative_data_fraction</b></td>\n",
       "<td><b>lower_threshold</b></td>\n",
       "<td><b>lift</b></td>\n",
       "<td><b>cumulative_lift</b></td>\n",
       "<td><b>response_rate</b></td>\n",
       "<td><b>score</b></td>\n",
       "<td><b>cumulative_response_rate</b></td>\n",
       "<td><b>cumulative_score</b></td>\n",
       "<td><b>capture_rate</b></td>\n",
       "<td><b>cumulative_capture_rate</b></td>\n",
       "<td><b>gain</b></td>\n",
       "<td><b>cumulative_gain</b></td></tr>\n",
       "<tr><td></td>\n",
       "<td>1</td>\n",
       "<td>0.0100183</td>\n",
       "<td>0.4935525</td>\n",
       "<td>2.7664159</td>\n",
       "<td>2.7664159</td>\n",
       "<td>0.5073171</td>\n",
       "<td>0.5518428</td>\n",
       "<td>0.5073171</td>\n",
       "<td>0.5518428</td>\n",
       "<td>0.0277149</td>\n",
       "<td>0.0277149</td>\n",
       "<td>176.6415885</td>\n",
       "<td>176.6415885</td></tr>\n",
       "<tr><td></td>\n",
       "<td>2</td>\n",
       "<td>0.0200122</td>\n",
       "<td>0.4510235</td>\n",
       "<td>2.5198604</td>\n",
       "<td>2.6432887</td>\n",
       "<td>0.4621027</td>\n",
       "<td>0.4699987</td>\n",
       "<td>0.4847375</td>\n",
       "<td>0.5109707</td>\n",
       "<td>0.0251832</td>\n",
       "<td>0.0528981</td>\n",
       "<td>151.9860435</td>\n",
       "<td>164.3288683</td></tr>\n",
       "<tr><td></td>\n",
       "<td>3</td>\n",
       "<td>0.0300061</td>\n",
       "<td>0.4235074</td>\n",
       "<td>2.3332041</td>\n",
       "<td>2.5400113</td>\n",
       "<td>0.4278729</td>\n",
       "<td>0.4369168</td>\n",
       "<td>0.4657980</td>\n",
       "<td>0.4863062</td>\n",
       "<td>0.0233178</td>\n",
       "<td>0.0762159</td>\n",
       "<td>133.3204107</td>\n",
       "<td>154.0011328</td></tr>\n",
       "<tr><td></td>\n",
       "<td>4</td>\n",
       "<td>0.04</td>\n",
       "<td>0.4006323</td>\n",
       "<td>2.1732130</td>\n",
       "<td>2.4483678</td>\n",
       "<td>0.3985330</td>\n",
       "<td>0.4117873</td>\n",
       "<td>0.4489921</td>\n",
       "<td>0.4676878</td>\n",
       "<td>0.0217189</td>\n",
       "<td>0.0979347</td>\n",
       "<td>117.3212968</td>\n",
       "<td>144.8367755</td></tr>\n",
       "<tr><td></td>\n",
       "<td>5</td>\n",
       "<td>0.0500183</td>\n",
       "<td>0.3825208</td>\n",
       "<td>2.0482118</td>\n",
       "<td>2.3682193</td>\n",
       "<td>0.3756098</td>\n",
       "<td>0.3915690</td>\n",
       "<td>0.4342941</td>\n",
       "<td>0.4524418</td>\n",
       "<td>0.0205197</td>\n",
       "<td>0.1184544</td>\n",
       "<td>104.8211761</td>\n",
       "<td>136.8219266</td></tr>\n",
       "<tr><td></td>\n",
       "<td>6</td>\n",
       "<td>0.1000122</td>\n",
       "<td>0.3190763</td>\n",
       "<td>1.9269509</td>\n",
       "<td>2.1476390</td>\n",
       "<td>0.3533724</td>\n",
       "<td>0.3474267</td>\n",
       "<td>0.3938431</td>\n",
       "<td>0.3999470</td>\n",
       "<td>0.0963358</td>\n",
       "<td>0.2147901</td>\n",
       "<td>92.6950948</td>\n",
       "<td>114.7639012</td></tr>\n",
       "<tr><td></td>\n",
       "<td>7</td>\n",
       "<td>0.1500061</td>\n",
       "<td>0.2796469</td>\n",
       "<td>1.7004076</td>\n",
       "<td>1.9985862</td>\n",
       "<td>0.3118280</td>\n",
       "<td>0.2975721</td>\n",
       "<td>0.3665092</td>\n",
       "<td>0.3658276</td>\n",
       "<td>0.0850100</td>\n",
       "<td>0.2998001</td>\n",
       "<td>70.0407614</td>\n",
       "<td>99.8586163</td></tr>\n",
       "<tr><td></td>\n",
       "<td>8</td>\n",
       "<td>0.2</td>\n",
       "<td>0.2516090</td>\n",
       "<td>1.4925208</td>\n",
       "<td>1.8720853</td>\n",
       "<td>0.2737048</td>\n",
       "<td>0.2648313</td>\n",
       "<td>0.3433109</td>\n",
       "<td>0.3405816</td>\n",
       "<td>0.0746169</td>\n",
       "<td>0.3744171</td>\n",
       "<td>49.2520789</td>\n",
       "<td>87.2085276</td></tr>\n",
       "<tr><td></td>\n",
       "<td>9</td>\n",
       "<td>0.3000122</td>\n",
       "<td>0.2115563</td>\n",
       "<td>1.3043043</td>\n",
       "<td>1.6828095</td>\n",
       "<td>0.2391889</td>\n",
       "<td>0.2302484</td>\n",
       "<td>0.3086007</td>\n",
       "<td>0.3038009</td>\n",
       "<td>0.1304464</td>\n",
       "<td>0.5048634</td>\n",
       "<td>30.4304338</td>\n",
       "<td>68.2809549</td></tr>\n",
       "<tr><td></td>\n",
       "<td>10</td>\n",
       "<td>0.4</td>\n",
       "<td>0.1825458</td>\n",
       "<td>1.1060645</td>\n",
       "<td>1.5386409</td>\n",
       "<td>0.2028348</td>\n",
       "<td>0.1964700</td>\n",
       "<td>0.2821625</td>\n",
       "<td>0.2769714</td>\n",
       "<td>0.1105929</td>\n",
       "<td>0.6154564</td>\n",
       "<td>10.6064514</td>\n",
       "<td>53.8640906</td></tr>\n",
       "<tr><td></td>\n",
       "<td>11</td>\n",
       "<td>0.5000122</td>\n",
       "<td>0.1588660</td>\n",
       "<td>0.9858889</td>\n",
       "<td>1.4280797</td>\n",
       "<td>0.1807965</td>\n",
       "<td>0.1705517</td>\n",
       "<td>0.2618873</td>\n",
       "<td>0.2556854</td>\n",
       "<td>0.0986009</td>\n",
       "<td>0.7140573</td>\n",
       "<td>-1.4111124</td>\n",
       "<td>42.8079695</td></tr>\n",
       "<tr><td></td>\n",
       "<td>12</td>\n",
       "<td>0.6</td>\n",
       "<td>0.1384805</td>\n",
       "<td>0.8208864</td>\n",
       "<td>1.3268932</td>\n",
       "<td>0.1505376</td>\n",
       "<td>0.1485275</td>\n",
       "<td>0.2433313</td>\n",
       "<td>0.2378280</td>\n",
       "<td>0.0820786</td>\n",
       "<td>0.7961359</td>\n",
       "<td>-17.9113566</td>\n",
       "<td>32.6893182</td></tr>\n",
       "<tr><td></td>\n",
       "<td>13</td>\n",
       "<td>0.6999878</td>\n",
       "<td>0.1203491</td>\n",
       "<td>0.7102800</td>\n",
       "<td>1.2388148</td>\n",
       "<td>0.1302542</td>\n",
       "<td>0.1293888</td>\n",
       "<td>0.2271791</td>\n",
       "<td>0.2223383</td>\n",
       "<td>0.0710193</td>\n",
       "<td>0.8671552</td>\n",
       "<td>-28.9720017</td>\n",
       "<td>23.8814807</td></tr>\n",
       "<tr><td></td>\n",
       "<td>14</td>\n",
       "<td>0.8</td>\n",
       "<td>0.1028404</td>\n",
       "<td>0.5608908</td>\n",
       "<td>1.1540640</td>\n",
       "<td>0.1028585</td>\n",
       "<td>0.1115520</td>\n",
       "<td>0.2116371</td>\n",
       "<td>0.2084883</td>\n",
       "<td>0.0560959</td>\n",
       "<td>0.9232512</td>\n",
       "<td>-43.9109166</td>\n",
       "<td>15.4063957</td></tr>\n",
       "<tr><td></td>\n",
       "<td>15</td>\n",
       "<td>0.8999878</td>\n",
       "<td>0.0830844</td>\n",
       "<td>0.4704106</td>\n",
       "<td>1.0781107</td>\n",
       "<td>0.0862659</td>\n",
       "<td>0.0931932</td>\n",
       "<td>0.1977085</td>\n",
       "<td>0.1956791</td>\n",
       "<td>0.0470353</td>\n",
       "<td>0.9702865</td>\n",
       "<td>-52.9589430</td>\n",
       "<td>7.8110719</td></tr>\n",
       "<tr><td></td>\n",
       "<td>16</td>\n",
       "<td>1.0</td>\n",
       "<td>0.0276784</td>\n",
       "<td>0.2970989</td>\n",
       "<td>1.0</td>\n",
       "<td>0.0544833</td>\n",
       "<td>0.0669377</td>\n",
       "<td>0.1833842</td>\n",
       "<td>0.1828034</td>\n",
       "<td>0.0297135</td>\n",
       "<td>1.0</td>\n",
       "<td>-70.2901055</td>\n",
       "<td>0.0</td></tr></table></div>"
      ],
      "text/plain": [
       "    group    cumulative_data_fraction    lower_threshold    lift      cumulative_lift    response_rate    score      cumulative_response_rate    cumulative_score    capture_rate    cumulative_capture_rate    gain      cumulative_gain\n",
       "--  -------  --------------------------  -----------------  --------  -----------------  ---------------  ---------  --------------------------  ------------------  --------------  -------------------------  --------  -----------------\n",
       "    1        0.0100183                   0.493552           2.76642   2.76642            0.507317         0.551843   0.507317                    0.551843            0.0277149       0.0277149                  176.642   176.642\n",
       "    2        0.0200122                   0.451023           2.51986   2.64329            0.462103         0.469999   0.484737                    0.510971            0.0251832       0.0528981                  151.986   164.329\n",
       "    3        0.0300061                   0.423507           2.3332    2.54001            0.427873         0.436917   0.465798                    0.486306            0.0233178       0.0762159                  133.32    154.001\n",
       "    4        0.04                        0.400632           2.17321   2.44837            0.398533         0.411787   0.448992                    0.467688            0.0217189       0.0979347                  117.321   144.837\n",
       "    5        0.0500183                   0.382521           2.04821   2.36822            0.37561          0.391569   0.434294                    0.452442            0.0205197       0.118454                   104.821   136.822\n",
       "    6        0.100012                    0.319076           1.92695   2.14764            0.353372         0.347427   0.393843                    0.399947            0.0963358       0.21479                    92.6951   114.764\n",
       "    7        0.150006                    0.279647           1.70041   1.99859            0.311828         0.297572   0.366509                    0.365828            0.08501         0.2998                     70.0408   99.8586\n",
       "    8        0.2                         0.251609           1.49252   1.87209            0.273705         0.264831   0.343311                    0.340582            0.0746169       0.374417                   49.2521   87.2085\n",
       "    9        0.300012                    0.211556           1.3043    1.68281            0.239189         0.230248   0.308601                    0.303801            0.130446        0.504863                   30.4304   68.281\n",
       "    10       0.4                         0.182546           1.10606   1.53864            0.202835         0.19647    0.282162                    0.276971            0.110593        0.615456                   10.6065   53.8641\n",
       "    11       0.500012                    0.158866           0.985889  1.42808            0.180796         0.170552   0.261887                    0.255685            0.0986009       0.714057                   -1.41111  42.808\n",
       "    12       0.6                         0.138481           0.820886  1.32689            0.150538         0.148528   0.243331                    0.237828            0.0820786       0.796136                   -17.9114  32.6893\n",
       "    13       0.699988                    0.120349           0.71028   1.23881            0.130254         0.129389   0.227179                    0.222338            0.0710193       0.867155                   -28.972   23.8815\n",
       "    14       0.8                         0.10284            0.560891  1.15406            0.102859         0.111552   0.211637                    0.208488            0.0560959       0.923251                   -43.9109  15.4064\n",
       "    15       0.899988                    0.0830844          0.470411  1.07811            0.0862659        0.0931932  0.197709                    0.195679            0.0470353       0.970286                   -52.9589  7.81107\n",
       "    16       1                           0.0276784          0.297099  1                  0.0544833        0.0669377  0.183384                    0.182803            0.0297135       1                          -70.2901  0"
      ]
     },
     "metadata": {},
     "output_type": "display_data"
    },
    {
     "name": "stdout",
     "output_type": "stream",
     "text": [
      "\n"
     ]
    },
    {
     "data": {
      "text/plain": []
     },
     "execution_count": 14,
     "metadata": {},
     "output_type": "execute_result"
    }
   ],
   "source": [
    "select_perf = select_model.model_performance(test_data=test)\n",
    "select_perf"
   ]
  },
  {
   "cell_type": "markdown",
   "metadata": {},
   "source": [
    "A summary is then given by"
   ]
  },
  {
   "cell_type": "code",
   "execution_count": 15,
   "metadata": {},
   "outputs": [
    {
     "name": "stdout",
     "output_type": "stream",
     "text": [
      "AUC: train = 0.7290, xval = 0.6810, test = 0.6843\n",
      "Logloss: train = 0.4256, xval = 0.4447, test = 0.4441\n"
     ]
    }
   ],
   "source": [
    "print(\"AUC: train = {:.4f}, xval = {:.4f}, test = {:.4f}\" \\\n",
    "      .format(select_model.auc(train = True), select_model.auc(xval = True), select_perf.auc()))\n",
    "print(\"Logloss: train = {:.4f}, xval = {:.4f}, test = {:.4f}\" \\\n",
    "      .format(select_model.logloss(train = True), select_model.logloss(xval = True), select_perf.logloss()))"
   ]
  },
  {
   "cell_type": "markdown",
   "metadata": {},
   "source": [
    "We next look at variable importance plots for our selected model."
   ]
  },
  {
   "cell_type": "code",
   "execution_count": 16,
   "metadata": {},
   "outputs": [
    {
     "data": {
      "image/png": "[encoded data removed]",
      "text/plain": [
       "<Figure size 1008x720 with 1 Axes>"
      ]
     },
     "metadata": {
      "needs_background": "light"
     },
     "output_type": "display_data"
    }
   ],
   "source": [
    "import matplotlib.pyplot as plt\n",
    "%matplotlib inline\n",
    "\n",
    "import warnings\n",
    "import matplotlib.cbook\n",
    "warnings.filterwarnings(\"ignore\", category = matplotlib.cbook.mplDeprecation)\n",
    "\n",
    "select_model.varimp_plot()"
   ]
  },
  {
   "cell_type": "markdown",
   "metadata": {},
   "source": [
    "Note that `addr_state`, a high-cardinality categorical variable, is the most important variable. We will next try some feature engineering to see whether we can improve this model's overall performance."
   ]
  },
  {
   "cell_type": "markdown",
   "metadata": {},
   "source": [
    "# Step 4 (of 6). Feature Engineering to Improve Model Performance\n",
    "\n",
    "The goal of this section is to improve upon these predictors through a number of feature engineering steps. In particular, we will perform four feature engineering tasks on select variables:\n",
    "\n",
    "**Creating Target Encoding** \n",
    "   - Loan Purpose\n",
    "   - State of Residence\n",
    "\n",
    "**Separating Typical from Extreme**\n",
    "   - Loan Amount\n",
    "   - Annual Income\n",
    "   - Debt to Income Ratio\n",
    "   - Number of Delinquencies in the Past 2 Years\n",
    "   - Revolving Credit Line Utilized\n",
    "   - Number of Credit Lines\n",
    "   - Longest Credit Length\n",
    "\n",
    "**Creating Indicator Functions**\n",
    "   - Term\n",
    "   - Income Verification Status\n",
    "   - Employment Length (Missing Value)\n",
    "\n",
    "**Combining Categories** \n",
    "   - Home Ownership"
   ]
  },
  {
   "cell_type": "markdown",
   "metadata": {},
   "source": [
    "## 1. Creating Target Encoding\n",
    "\n",
    "### Cross Validation with Target Encoding\n",
    "\n",
    "Some of the engineered features will use [cross-validated mean target encoding](https://github.com/h2oai/h2o-tutorials/blob/master/best-practices/categorical-predictors/target_encoding.md) of categorical predictors since one-hot encodings can lead to overfitting of infrequent categories.\n",
    "\n",
    "To achieve this goal, we will first create soft partitions using H2OFrame's [`kfold_column`](http://docs.h2o.ai/h2o/latest-stable/h2o-py/docs/frame.html?highlight=kfold_column#h2o.frame.H2OFrame.kfold_column) function, then calculate summary statistics using H2O's [`group_by`](http://docs.h2o.ai/h2o/latest-stable/h2o-py/docs/frame.html#groupby) function, and finally join these engineered features using H2OFrame's [`merge`](http://docs.h2o.ai/h2o/latest-stable/h2o-py/docs/frame.html?highlight=merge#h2o.frame.H2OFrame.merge)."
   ]
  },
  {
   "cell_type": "code",
   "execution_count": 17,
   "metadata": {},
   "outputs": [],
   "source": [
    "y = \"bad_loan\"\n",
    "x_orig = train.col_names\n",
    "x_orig.remove(y)\n",
    "x_orig.remove(\"int_rate\")\n",
    "\n",
    "x_trans = x_orig.copy()"
   ]
  },
  {
   "cell_type": "code",
   "execution_count": 18,
   "metadata": {},
   "outputs": [],
   "source": [
    "cv_nfolds = 5\n",
    "cv_seed = 1234\n",
    "train[\"cv_fold\"] = train.kfold_column(n_folds = cv_nfolds, seed = cv_seed)"
   ]
  },
  {
   "cell_type": "code",
   "execution_count": 19,
   "metadata": {},
   "outputs": [
    {
     "data": {
      "text/html": [
       "<table>\n",
       "<thead>\n",
       "<tr><th style=\"text-align: right;\">  cv_fold</th><th style=\"text-align: right;\">  Count</th></tr>\n",
       "</thead>\n",
       "<tbody>\n",
       "<tr><td style=\"text-align: right;\">        0</td><td style=\"text-align: right;\">  24674</td></tr>\n",
       "<tr><td style=\"text-align: right;\">        1</td><td style=\"text-align: right;\">  24621</td></tr>\n",
       "<tr><td style=\"text-align: right;\">        2</td><td style=\"text-align: right;\">  24740</td></tr>\n",
       "<tr><td style=\"text-align: right;\">        3</td><td style=\"text-align: right;\">  24478</td></tr>\n",
       "<tr><td style=\"text-align: right;\">        4</td><td style=\"text-align: right;\">  24549</td></tr>\n",
       "</tbody>\n",
       "</table>"
      ]
     },
     "metadata": {},
     "output_type": "display_data"
    },
    {
     "data": {
      "text/plain": []
     },
     "execution_count": 19,
     "metadata": {},
     "output_type": "execute_result"
    }
   ],
   "source": [
    "train[\"cv_fold\"].table()"
   ]
  },
  {
   "cell_type": "code",
   "execution_count": 20,
   "metadata": {},
   "outputs": [],
   "source": [
    "import numpy as np\n",
    "import pandas as pd"
   ]
  },
  {
   "cell_type": "code",
   "execution_count": 21,
   "metadata": {},
   "outputs": [],
   "source": [
    "def logit(p):\n",
    "    return np.log(p) - np.log(1 - p)"
   ]
  },
  {
   "cell_type": "code",
   "execution_count": 22,
   "metadata": {},
   "outputs": [],
   "source": [
    "def mean_target(data, x, y = \"bad_loan\"):\n",
    "    grouped_data = data[[x, y]].group_by([x])\n",
    "    stats = grouped_data.count(na = \"ignore\").mean(na = \"ignore\")\n",
    "    return stats.get_frame().as_data_frame()"
   ]
  },
  {
   "cell_type": "code",
   "execution_count": 23,
   "metadata": {},
   "outputs": [],
   "source": [
    "def mean_target_encoding(data, x, y = \"bad_loan\", fold_column = \"cv_fold\", prior_mean = 0.183, prior_count = 1):\n",
    "    \"\"\"\n",
    "    Creates target encoding for binary target\n",
    "    data (H2OFrame) : data set\n",
    "    x (string) : categorical predictor column name\n",
    "    y (string) : binary target column name\n",
    "    fold_column (string) : cross-validation fold column name\n",
    "    prior_mean (float) : proportion of 1s in the target column\n",
    "    prior_count (positive number) : weight to give to prior_mean\n",
    "    \"\"\" \n",
    "    grouped_data = data[[x, fold_column, y]].group_by([x, fold_column])\n",
    "    grouped_data.sum(na = \"ignore\").count(na = \"ignore\")\n",
    "    df = grouped_data.get_frame().as_data_frame()\n",
    "    df_list = []\n",
    "    nfold = int(data[fold_column].max()) + 1\n",
    "    for j in range(0, nfold):\n",
    "        te_x = \"te_{}\".format(x)\n",
    "        sum_y = \"sum_{}\".format(y)\n",
    "        oof = df.loc[df[fold_column] != j, [x, sum_y, \"nrow\"]]\n",
    "        stats = oof.groupby([x]).sum()\n",
    "        stats[x] = stats.index\n",
    "        stats[fold_column] = j\n",
    "        p = (stats[sum_y] + (prior_count * prior_mean)) / (stats[\"nrow\"] + prior_count)\n",
    "        stats[te_x] = logit(p)\n",
    "        df_list.append(stats[[x, fold_column, te_x]])\n",
    "    return h2o.H2OFrame(pd.concat(df_list))"
   ]
  },
  {
   "cell_type": "markdown",
   "metadata": {},
   "source": [
    "### 1.1. Creating Target Encoding for Loan Purpose\n",
    "\n",
    "Given that there is a high concentration of loans for debt consolidation (56.87%), a sizable number for credit card (18.78%), and the remaining 24.35% loans are spread amongst 12 other purposes, we will use mean target encoding to avoid overfitting the later group."
   ]
  },
  {
   "cell_type": "code",
   "execution_count": 24,
   "metadata": {},
   "outputs": [
    {
     "name": "stdout",
     "output_type": "stream",
     "text": [
      "               purpose  Count  Percent\n",
      "0   debt_consolidation  69976    56.86\n",
      "1          credit_card  23082    18.76\n",
      "2                other   7916     6.43\n",
      "3     home_improvement   7346     5.97\n",
      "4       major_purchase   3535     2.87\n",
      "5       small_business   2912     2.37\n",
      "6                  car   2126     1.73\n",
      "7              medical   1540     1.25\n",
      "8              wedding   1320     1.07\n",
      "9               moving   1091     0.89\n",
      "10               house    937     0.76\n",
      "11            vacation    834     0.68\n",
      "12         educational    303     0.25\n",
      "13    renewable_energy    144     0.12\n"
     ]
    }
   ],
   "source": [
    "tbl = train[\"purpose\"].table().as_data_frame()\n",
    "tbl[\"Percent\"] = np.round((100 * tbl[\"Count\"]/train.nrows), 2)\n",
    "tbl = tbl.sort_values(by = \"Count\", ascending = 0)\n",
    "tbl = tbl.reset_index(drop = True)\n",
    "print(tbl)"
   ]
  },
  {
   "cell_type": "code",
   "execution_count": 25,
   "metadata": {},
   "outputs": [
    {
     "data": {
      "text/html": [
       "<div>\n",
       "<style scoped>\n",
       "    .dataframe tbody tr th:only-of-type {\n",
       "        vertical-align: middle;\n",
       "    }\n",
       "\n",
       "    .dataframe tbody tr th {\n",
       "        vertical-align: top;\n",
       "    }\n",
       "\n",
       "    .dataframe thead th {\n",
       "        text-align: right;\n",
       "    }\n",
       "</style>\n",
       "<table border=\"1\" class=\"dataframe\">\n",
       "  <thead>\n",
       "    <tr style=\"text-align: right;\">\n",
       "      <th></th>\n",
       "      <th>purpose</th>\n",
       "      <th>nrow</th>\n",
       "      <th>mean_bad_loan</th>\n",
       "    </tr>\n",
       "  </thead>\n",
       "  <tbody>\n",
       "    <tr>\n",
       "      <th>0</th>\n",
       "      <td>small_business</td>\n",
       "      <td>2912</td>\n",
       "      <td>0.305975</td>\n",
       "    </tr>\n",
       "    <tr>\n",
       "      <th>1</th>\n",
       "      <td>other</td>\n",
       "      <td>7916</td>\n",
       "      <td>0.218671</td>\n",
       "    </tr>\n",
       "    <tr>\n",
       "      <th>2</th>\n",
       "      <td>educational</td>\n",
       "      <td>303</td>\n",
       "      <td>0.211221</td>\n",
       "    </tr>\n",
       "    <tr>\n",
       "      <th>3</th>\n",
       "      <td>moving</td>\n",
       "      <td>1091</td>\n",
       "      <td>0.206233</td>\n",
       "    </tr>\n",
       "    <tr>\n",
       "      <th>4</th>\n",
       "      <td>renewable_energy</td>\n",
       "      <td>144</td>\n",
       "      <td>0.201389</td>\n",
       "    </tr>\n",
       "    <tr>\n",
       "      <th>5</th>\n",
       "      <td>medical</td>\n",
       "      <td>1540</td>\n",
       "      <td>0.194156</td>\n",
       "    </tr>\n",
       "    <tr>\n",
       "      <th>6</th>\n",
       "      <td>debt_consolidation</td>\n",
       "      <td>69976</td>\n",
       "      <td>0.189465</td>\n",
       "    </tr>\n",
       "    <tr>\n",
       "      <th>7</th>\n",
       "      <td>house</td>\n",
       "      <td>937</td>\n",
       "      <td>0.177161</td>\n",
       "    </tr>\n",
       "    <tr>\n",
       "      <th>8</th>\n",
       "      <td>vacation</td>\n",
       "      <td>834</td>\n",
       "      <td>0.171463</td>\n",
       "    </tr>\n",
       "    <tr>\n",
       "      <th>9</th>\n",
       "      <td>credit_card</td>\n",
       "      <td>23082</td>\n",
       "      <td>0.155966</td>\n",
       "    </tr>\n",
       "    <tr>\n",
       "      <th>10</th>\n",
       "      <td>home_improvement</td>\n",
       "      <td>7346</td>\n",
       "      <td>0.155595</td>\n",
       "    </tr>\n",
       "    <tr>\n",
       "      <th>11</th>\n",
       "      <td>wedding</td>\n",
       "      <td>1320</td>\n",
       "      <td>0.153030</td>\n",
       "    </tr>\n",
       "    <tr>\n",
       "      <th>12</th>\n",
       "      <td>major_purchase</td>\n",
       "      <td>3535</td>\n",
       "      <td>0.140311</td>\n",
       "    </tr>\n",
       "    <tr>\n",
       "      <th>13</th>\n",
       "      <td>car</td>\n",
       "      <td>2126</td>\n",
       "      <td>0.124177</td>\n",
       "    </tr>\n",
       "  </tbody>\n",
       "</table>\n",
       "</div>"
      ],
      "text/plain": [
       "               purpose   nrow  mean_bad_loan\n",
       "0       small_business   2912       0.305975\n",
       "1                other   7916       0.218671\n",
       "2          educational    303       0.211221\n",
       "3               moving   1091       0.206233\n",
       "4     renewable_energy    144       0.201389\n",
       "5              medical   1540       0.194156\n",
       "6   debt_consolidation  69976       0.189465\n",
       "7                house    937       0.177161\n",
       "8             vacation    834       0.171463\n",
       "9          credit_card  23082       0.155966\n",
       "10    home_improvement   7346       0.155595\n",
       "11             wedding   1320       0.153030\n",
       "12      major_purchase   3535       0.140311\n",
       "13                 car   2126       0.124177"
      ]
     },
     "execution_count": 25,
     "metadata": {},
     "output_type": "execute_result"
    }
   ],
   "source": [
    "df = mean_target(train, \"purpose\")\n",
    "\n",
    "df = df.sort_values(by = \"mean_bad_loan\", ascending = 0)\n",
    "df = df.reset_index(drop = True)\n",
    "df"
   ]
  },
  {
   "cell_type": "code",
   "execution_count": 26,
   "metadata": {},
   "outputs": [
    {
     "data": {
      "text/plain": [
       "[<matplotlib.lines.Line2D at 0x7fc0386bf5c0>]"
      ]
     },
     "execution_count": 26,
     "metadata": {},
     "output_type": "execute_result"
    },
    {
     "data": {
      "image/png": "[encoded data removed]",
      "text/plain": [
       "<Figure size 432x288 with 1 Axes>"
      ]
     },
     "metadata": {
      "needs_background": "light"
     },
     "output_type": "display_data"
    }
   ],
   "source": [
    "plt.xticks(rotation = 90)\n",
    "plt.yscale(\"logit\")\n",
    "plt.plot(df[\"purpose\"], df[\"mean_bad_loan\"])"
   ]
  },
  {
   "cell_type": "code",
   "execution_count": 27,
   "metadata": {},
   "outputs": [
    {
     "name": "stdout",
     "output_type": "stream",
     "text": [
      "Parse progress: |█████████████████████████████████████████████████████████| 100%\n"
     ]
    }
   ],
   "source": [
    "te_purpose = mean_target_encoding(train, \"purpose\")"
   ]
  },
  {
   "cell_type": "code",
   "execution_count": 28,
   "metadata": {},
   "outputs": [],
   "source": [
    "train = train.merge(te_purpose, all_x = True)"
   ]
  },
  {
   "cell_type": "markdown",
   "metadata": {},
   "source": [
    "Replace `purpose` with target encoded `te_purpose`"
   ]
  },
  {
   "cell_type": "code",
   "execution_count": 29,
   "metadata": {},
   "outputs": [
    {
     "data": {
      "image/png": "[encoded data removed]",
      "text/plain": [
       "<Figure size 432x288 with 1 Axes>"
      ]
     },
     "metadata": {
      "needs_background": "light"
     },
     "output_type": "display_data"
    }
   ],
   "source": [
    "x_trans.remove(\"purpose\")\n",
    "x_trans.append(\"te_purpose\")\n",
    "\n",
    "train[\"te_purpose\"].hist()"
   ]
  },
  {
   "cell_type": "markdown",
   "metadata": {},
   "source": [
    "### 1.2. Target Encoding for State of Residence\n",
    "\n",
    "We will also use a mean target encoding for *state of residence* for a reason similar to that for *purpose*."
   ]
  },
  {
   "cell_type": "code",
   "execution_count": 30,
   "metadata": {},
   "outputs": [
    {
     "name": "stdout",
     "output_type": "stream",
     "text": [
      "  addr_state  Count  Percent\n",
      "0         CA  21493    17.47\n",
      "1         NY  10699     8.69\n",
      "2         TX   9188     7.47\n",
      "3         FL   8554     6.95\n",
      "4         NJ   4755     3.86\n"
     ]
    }
   ],
   "source": [
    "tbl = train[\"addr_state\"].table().as_data_frame()\n",
    "tbl[\"Percent\"] = np.round((100 * tbl[\"Count\"]/train.nrows), 2)\n",
    "tbl = tbl.sort_values(by = \"Count\", ascending = 0)\n",
    "tbl = tbl.reset_index(drop = True)\n",
    "print(tbl[0:5])"
   ]
  },
  {
   "cell_type": "code",
   "execution_count": 31,
   "metadata": {},
   "outputs": [
    {
     "name": "stdout",
     "output_type": "stream",
     "text": [
      "  addr_state  nrow  mean_bad_loan\n",
      "0         NE     8       0.625000\n",
      "1         IA     7       0.285714\n",
      "2         MS   124       0.233871\n",
      "3         NV  1764       0.231859\n",
      "4         TN   977       0.220061\n"
     ]
    }
   ],
   "source": [
    "df = mean_target(train, \"addr_state\")\n",
    "\n",
    "df = df.sort_values(by = \"mean_bad_loan\", ascending = 0)\n",
    "df = df.reset_index(drop = True)\n",
    "print(df[0:5])"
   ]
  },
  {
   "cell_type": "code",
   "execution_count": 32,
   "metadata": {},
   "outputs": [
    {
     "name": "stdout",
     "output_type": "stream",
     "text": [
      "   addr_state  nrow  mean_bad_loan\n",
      "45         WV   530       0.135849\n",
      "46         ID     8       0.125000\n",
      "47         DC   452       0.110619\n",
      "48         WY   289       0.096886\n",
      "49         ME     3       0.000000\n"
     ]
    }
   ],
   "source": [
    "print(df[45:50])"
   ]
  },
  {
   "cell_type": "code",
   "execution_count": 33,
   "metadata": {},
   "outputs": [
    {
     "data": {
      "text/plain": [
       "[<matplotlib.lines.Line2D at 0x7fc038560a90>]"
      ]
     },
     "execution_count": 33,
     "metadata": {},
     "output_type": "execute_result"
    },
    {
     "data": {
      "image/png": "[encoded data removed]",
      "text/plain": [
       "<Figure size 432x288 with 1 Axes>"
      ]
     },
     "metadata": {
      "needs_background": "light"
     },
     "output_type": "display_data"
    }
   ],
   "source": [
    "plt.yscale(\"logit\")\n",
    "plt.plot(df[\"addr_state\"], df[\"mean_bad_loan\"])"
   ]
  },
  {
   "cell_type": "code",
   "execution_count": 34,
   "metadata": {},
   "outputs": [
    {
     "name": "stdout",
     "output_type": "stream",
     "text": [
      "Parse progress: |█████████████████████████████████████████████████████████| 100%\n"
     ]
    }
   ],
   "source": [
    "te_addr_state = mean_target_encoding(train, \"addr_state\", prior_count = 30)"
   ]
  },
  {
   "cell_type": "code",
   "execution_count": 35,
   "metadata": {},
   "outputs": [
    {
     "data": {
      "text/plain": [
       "[<matplotlib.lines.Line2D at 0x7fc03820ae80>]"
      ]
     },
     "execution_count": 35,
     "metadata": {},
     "output_type": "execute_result"
    },
    {
     "data": {
      "image/png": "[encoded data removed]",
      "text/plain": [
       "<Figure size 432x288 with 1 Axes>"
      ]
     },
     "metadata": {
      "needs_background": "light"
     },
     "output_type": "display_data"
    }
   ],
   "source": [
    "grouped_data = te_addr_state[[\"addr_state\", \"te_addr_state\"]].group_by([\"addr_state\"])\n",
    "df = grouped_data.count(na = \"ignore\").mean(na = \"ignore\").get_frame().as_data_frame()\n",
    "\n",
    "df = df.sort_values(by = \"mean_te_addr_state\", ascending = 0)\n",
    "df = df.reset_index(drop = True)\n",
    "\n",
    "plt.plot(df[\"addr_state\"], df[\"mean_te_addr_state\"])"
   ]
  },
  {
   "cell_type": "code",
   "execution_count": 36,
   "metadata": {},
   "outputs": [
    {
     "data": {
      "image/png": "[encoded data removed]",
      "text/plain": [
       "<Figure size 432x288 with 1 Axes>"
      ]
     },
     "metadata": {
      "needs_background": "light"
     },
     "output_type": "display_data"
    }
   ],
   "source": [
    "train = train.merge(te_addr_state, all_x = True)\n",
    "\n",
    "x_trans.remove(\"addr_state\")\n",
    "x_trans.append(\"te_addr_state\")\n",
    "\n",
    "train[\"te_addr_state\"].hist()"
   ]
  },
  {
   "cell_type": "markdown",
   "metadata": {},
   "source": [
    "## 2. Separating Typical from Extreme"
   ]
  },
  {
   "cell_type": "markdown",
   "metadata": {},
   "source": [
    "### 2.1. Separating Typical from Extreme Loan Amount\n",
    "\n",
    "After binning `loan_amt` using H2OFrame's [`cut`](http://docs.h2o.ai/h2o/latest-stable/h2o-py/docs/frame.html?highlight=cut#h2o.frame.H2OFrame.cut) function and looking at the fraction of bad loans on a logit scale, we see that the chance of a bad loan roughly increases linearly in loan amount from \\\\$5,000 to \\\\$30,000 and is relatively flat below \\\\$5,000 and above \\\\$30,000. To reflect this finding in the modeling, we will replace the original `loan_amnt` measure with two derived measures:\n",
    "\n",
    "\\begin{eqnarray}\n",
    "\\text{loan_amnt_core} & = & \\max(5000, \\min(\\text{loan_amnt}, 30000)) \\\\\n",
    "\\text{loan_amnt_diff} & = & \\text{loan_amnt} - \\text{loan_amnt_core}\n",
    "\\end{eqnarray}"
   ]
  },
  {
   "cell_type": "code",
   "execution_count": 37,
   "metadata": {},
   "outputs": [
    {
     "data": {
      "text/html": [
       "<table>\n",
       "<thead>\n",
       "<tr><th style=\"text-align: right;\">  Probs</th><th style=\"text-align: right;\">  loan_amntQuantiles</th></tr>\n",
       "</thead>\n",
       "<tbody>\n",
       "<tr><td style=\"text-align: right;\">   0   </td><td style=\"text-align: right;\">                 500</td></tr>\n",
       "<tr><td style=\"text-align: right;\">   0.05</td><td style=\"text-align: right;\">                3000</td></tr>\n",
       "<tr><td style=\"text-align: right;\">   0.25</td><td style=\"text-align: right;\">                7000</td></tr>\n",
       "<tr><td style=\"text-align: right;\">   0.5 </td><td style=\"text-align: right;\">               11400</td></tr>\n",
       "<tr><td style=\"text-align: right;\">   0.75</td><td style=\"text-align: right;\">               18000</td></tr>\n",
       "<tr><td style=\"text-align: right;\">   0.95</td><td style=\"text-align: right;\">               30000</td></tr>\n",
       "<tr><td style=\"text-align: right;\">   1   </td><td style=\"text-align: right;\">               35000</td></tr>\n",
       "</tbody>\n",
       "</table>"
      ]
     },
     "metadata": {},
     "output_type": "display_data"
    },
    {
     "data": {
      "text/plain": []
     },
     "execution_count": 37,
     "metadata": {},
     "output_type": "execute_result"
    }
   ],
   "source": [
    "train[\"loan_amnt\"].quantile([0, 0.05, 0.25, 0.5, 0.75, 0.95, 1])"
   ]
  },
  {
   "cell_type": "code",
   "execution_count": 38,
   "metadata": {},
   "outputs": [],
   "source": [
    "breaks = np.linspace(0, 35000, 8).tolist()\n",
    "train[\"loan_amnt_cat\"] = train[\"loan_amnt\"].cut(breaks = breaks)\n",
    "\n",
    "df = mean_target(train, \"loan_amnt_cat\")"
   ]
  },
  {
   "cell_type": "code",
   "execution_count": 39,
   "metadata": {},
   "outputs": [
    {
     "data": {
      "text/plain": [
       "[<matplotlib.lines.Line2D at 0x7fc0387e9fd0>]"
      ]
     },
     "execution_count": 39,
     "metadata": {},
     "output_type": "execute_result"
    },
    {
     "data": {
      "image/png": "[encoded data removed]",
      "text/plain": [
       "<Figure size 432x288 with 1 Axes>"
      ]
     },
     "metadata": {
      "needs_background": "light"
     },
     "output_type": "display_data"
    }
   ],
   "source": [
    "plt.xticks(rotation = 90)\n",
    "plt.yscale(\"logit\")\n",
    "plt.plot(df[\"loan_amnt_cat\"], df[\"mean_bad_loan\"])"
   ]
  },
  {
   "cell_type": "code",
   "execution_count": 40,
   "metadata": {},
   "outputs": [
    {
     "data": {
      "text/html": [
       "<div>\n",
       "<style scoped>\n",
       "    .dataframe tbody tr th:only-of-type {\n",
       "        vertical-align: middle;\n",
       "    }\n",
       "\n",
       "    .dataframe tbody tr th {\n",
       "        vertical-align: top;\n",
       "    }\n",
       "\n",
       "    .dataframe thead th {\n",
       "        text-align: right;\n",
       "    }\n",
       "</style>\n",
       "<table border=\"1\" class=\"dataframe\">\n",
       "  <thead>\n",
       "    <tr style=\"text-align: right;\">\n",
       "      <th></th>\n",
       "      <th>loan_amnt_cat</th>\n",
       "      <th>nrow</th>\n",
       "      <th>mean_bad_loan</th>\n",
       "    </tr>\n",
       "  </thead>\n",
       "  <tbody>\n",
       "    <tr>\n",
       "      <th>0</th>\n",
       "      <td>(0.0,5000.0]</td>\n",
       "      <td>19317</td>\n",
       "      <td>0.163845</td>\n",
       "    </tr>\n",
       "    <tr>\n",
       "      <th>1</th>\n",
       "      <td>(5000.0,10000.0]</td>\n",
       "      <td>37730</td>\n",
       "      <td>0.164431</td>\n",
       "    </tr>\n",
       "    <tr>\n",
       "      <th>2</th>\n",
       "      <td>(10000.0,15000.0]</td>\n",
       "      <td>26782</td>\n",
       "      <td>0.173288</td>\n",
       "    </tr>\n",
       "    <tr>\n",
       "      <th>3</th>\n",
       "      <td>(15000.0,20000.0]</td>\n",
       "      <td>18485</td>\n",
       "      <td>0.209413</td>\n",
       "    </tr>\n",
       "    <tr>\n",
       "      <th>4</th>\n",
       "      <td>(20000.0,25000.0]</td>\n",
       "      <td>10829</td>\n",
       "      <td>0.211931</td>\n",
       "    </tr>\n",
       "    <tr>\n",
       "      <th>5</th>\n",
       "      <td>(25000.0,30000.0]</td>\n",
       "      <td>5223</td>\n",
       "      <td>0.241432</td>\n",
       "    </tr>\n",
       "    <tr>\n",
       "      <th>6</th>\n",
       "      <td>(30000.0,35000.0]</td>\n",
       "      <td>4696</td>\n",
       "      <td>0.228705</td>\n",
       "    </tr>\n",
       "  </tbody>\n",
       "</table>\n",
       "</div>"
      ],
      "text/plain": [
       "       loan_amnt_cat   nrow  mean_bad_loan\n",
       "0       (0.0,5000.0]  19317       0.163845\n",
       "1   (5000.0,10000.0]  37730       0.164431\n",
       "2  (10000.0,15000.0]  26782       0.173288\n",
       "3  (15000.0,20000.0]  18485       0.209413\n",
       "4  (20000.0,25000.0]  10829       0.211931\n",
       "5  (25000.0,30000.0]   5223       0.241432\n",
       "6  (30000.0,35000.0]   4696       0.228705"
      ]
     },
     "execution_count": 40,
     "metadata": {},
     "output_type": "execute_result"
    }
   ],
   "source": [
    "df"
   ]
  },
  {
   "cell_type": "code",
   "execution_count": 41,
   "metadata": {},
   "outputs": [],
   "source": [
    "x_trans.remove(\"loan_amnt\")\n",
    "x_trans.append(\"loan_amnt_core\")\n",
    "x_trans.append(\"loan_amnt_delta\")\n",
    "\n",
    "train[\"loan_amnt_core\"] = h2o.H2OFrame.ifelse(train[\"loan_amnt\"] <= 5000, 5000, train[\"loan_amnt\"])\n",
    "train[\"loan_amnt_core\"] = h2o.H2OFrame.ifelse(train[\"loan_amnt_core\"] <= 30000, train[\"loan_amnt_core\"], 30000)\n",
    "\n",
    "train[\"loan_amnt_delta\"] = train[\"loan_amnt\"] - train[\"loan_amnt_core\"]"
   ]
  },
  {
   "cell_type": "markdown",
   "metadata": {},
   "source": [
    "### 2.2. Separating Typical from Extreme Annual Income\n",
    "\n",
    "Looking at the occurance of bad loans on a logit scale reveal that the chance of a bad loan roughly decreases linearly in annual income from \\\\$10,000 to \\\\$105,000 and is relatively flat above \\\\$105,000. To reflect this finding in the modeling, we will replace the original `annual_inc` measure with two derived measures:\n",
    "\n",
    "\\begin{eqnarray}\n",
    "\\text{annual_inc_core} & = & \\max(10000, \\min(\\text{annual_inc}, 105000)) \\\\\n",
    "\\text{annual_inc_diff} & = & \\text{annual_inc} - \\text{annual_inc_core}\n",
    "\\end{eqnarray}"
   ]
  },
  {
   "cell_type": "code",
   "execution_count": 42,
   "metadata": {},
   "outputs": [
    {
     "data": {
      "text/html": [
       "<table>\n",
       "<thead>\n",
       "<tr><th style=\"text-align: right;\">  Probs</th><th style=\"text-align: right;\">  annual_incQuantiles</th></tr>\n",
       "</thead>\n",
       "<tbody>\n",
       "<tr><td style=\"text-align: right;\">   0   </td><td style=\"text-align: right;\">           3000      </td></tr>\n",
       "<tr><td style=\"text-align: right;\">   0.05</td><td style=\"text-align: right;\">          27000      </td></tr>\n",
       "<tr><td style=\"text-align: right;\">   0.25</td><td style=\"text-align: right;\">          45000      </td></tr>\n",
       "<tr><td style=\"text-align: right;\">   0.5 </td><td style=\"text-align: right;\">          61000      </td></tr>\n",
       "<tr><td style=\"text-align: right;\">   0.75</td><td style=\"text-align: right;\">          85000      </td></tr>\n",
       "<tr><td style=\"text-align: right;\">   0.95</td><td style=\"text-align: right;\">         146000      </td></tr>\n",
       "<tr><td style=\"text-align: right;\">   1   </td><td style=\"text-align: right;\">              6.1e+06</td></tr>\n",
       "</tbody>\n",
       "</table>"
      ]
     },
     "metadata": {},
     "output_type": "display_data"
    },
    {
     "data": {
      "text/plain": []
     },
     "execution_count": 42,
     "metadata": {},
     "output_type": "execute_result"
    }
   ],
   "source": [
    "train[\"annual_inc\"].quantile([0, 0.05, 0.25, 0.5, 0.75, 0.95, 1])"
   ]
  },
  {
   "cell_type": "code",
   "execution_count": 43,
   "metadata": {},
   "outputs": [],
   "source": [
    "breaks = np.linspace(0, 150000, 31).tolist()\n",
    "train[\"annual_inc_cat\"] = train[\"annual_inc\"].cut(breaks = breaks)\n",
    "\n",
    "df = mean_target(train, \"annual_inc_cat\")\n",
    "\n",
    "#plt.yscale(\"logit\")\n",
    "#plt.plot(df[\"annual_inc_cat\"].index, df[\"mean_bad_loan\"])"
   ]
  },
  {
   "cell_type": "code",
   "execution_count": 44,
   "metadata": {},
   "outputs": [
    {
     "data": {
      "text/html": [
       "<div>\n",
       "<style scoped>\n",
       "    .dataframe tbody tr th:only-of-type {\n",
       "        vertical-align: middle;\n",
       "    }\n",
       "\n",
       "    .dataframe tbody tr th {\n",
       "        vertical-align: top;\n",
       "    }\n",
       "\n",
       "    .dataframe thead th {\n",
       "        text-align: right;\n",
       "    }\n",
       "</style>\n",
       "<table border=\"1\" class=\"dataframe\">\n",
       "  <thead>\n",
       "    <tr style=\"text-align: right;\">\n",
       "      <th></th>\n",
       "      <th>annual_inc_cat</th>\n",
       "      <th>nrow</th>\n",
       "      <th>mean_bad_loan</th>\n",
       "    </tr>\n",
       "  </thead>\n",
       "  <tbody>\n",
       "    <tr>\n",
       "      <th>0</th>\n",
       "      <td>NaN</td>\n",
       "      <td>0</td>\n",
       "      <td>0.127308</td>\n",
       "    </tr>\n",
       "    <tr>\n",
       "      <th>1</th>\n",
       "      <td>(0.0,5000.0]</td>\n",
       "      <td>17</td>\n",
       "      <td>0.294118</td>\n",
       "    </tr>\n",
       "    <tr>\n",
       "      <th>2</th>\n",
       "      <td>(5000.0,10000.0]</td>\n",
       "      <td>145</td>\n",
       "      <td>0.213793</td>\n",
       "    </tr>\n",
       "    <tr>\n",
       "      <th>3</th>\n",
       "      <td>(10000.0,15000.0]</td>\n",
       "      <td>668</td>\n",
       "      <td>0.282934</td>\n",
       "    </tr>\n",
       "    <tr>\n",
       "      <th>4</th>\n",
       "      <td>(15000.0,20000.0]</td>\n",
       "      <td>1364</td>\n",
       "      <td>0.249267</td>\n",
       "    </tr>\n",
       "    <tr>\n",
       "      <th>5</th>\n",
       "      <td>(20000.0,25000.0]</td>\n",
       "      <td>2929</td>\n",
       "      <td>0.235575</td>\n",
       "    </tr>\n",
       "  </tbody>\n",
       "</table>\n",
       "</div>"
      ],
      "text/plain": [
       "      annual_inc_cat  nrow  mean_bad_loan\n",
       "0                NaN     0       0.127308\n",
       "1       (0.0,5000.0]    17       0.294118\n",
       "2   (5000.0,10000.0]   145       0.213793\n",
       "3  (10000.0,15000.0]   668       0.282934\n",
       "4  (15000.0,20000.0]  1364       0.249267\n",
       "5  (20000.0,25000.0]  2929       0.235575"
      ]
     },
     "execution_count": 44,
     "metadata": {},
     "output_type": "execute_result"
    }
   ],
   "source": [
    "df[0:6]"
   ]
  },
  {
   "cell_type": "code",
   "execution_count": 45,
   "metadata": {},
   "outputs": [
    {
     "data": {
      "text/html": [
       "<div>\n",
       "<style scoped>\n",
       "    .dataframe tbody tr th:only-of-type {\n",
       "        vertical-align: middle;\n",
       "    }\n",
       "\n",
       "    .dataframe tbody tr th {\n",
       "        vertical-align: top;\n",
       "    }\n",
       "\n",
       "    .dataframe thead th {\n",
       "        text-align: right;\n",
       "    }\n",
       "</style>\n",
       "<table border=\"1\" class=\"dataframe\">\n",
       "  <thead>\n",
       "    <tr style=\"text-align: right;\">\n",
       "      <th></th>\n",
       "      <th>annual_inc_cat</th>\n",
       "      <th>nrow</th>\n",
       "      <th>mean_bad_loan</th>\n",
       "    </tr>\n",
       "  </thead>\n",
       "  <tbody>\n",
       "    <tr>\n",
       "      <th>20</th>\n",
       "      <td>(95000.0,100000.0]</td>\n",
       "      <td>4055</td>\n",
       "      <td>0.136128</td>\n",
       "    </tr>\n",
       "    <tr>\n",
       "      <th>21</th>\n",
       "      <td>(100000.0,105000.0]</td>\n",
       "      <td>2135</td>\n",
       "      <td>0.124590</td>\n",
       "    </tr>\n",
       "    <tr>\n",
       "      <th>22</th>\n",
       "      <td>(105000.0,110000.0]</td>\n",
       "      <td>2450</td>\n",
       "      <td>0.130204</td>\n",
       "    </tr>\n",
       "    <tr>\n",
       "      <th>23</th>\n",
       "      <td>(110000.0,115000.0]</td>\n",
       "      <td>1428</td>\n",
       "      <td>0.111345</td>\n",
       "    </tr>\n",
       "    <tr>\n",
       "      <th>24</th>\n",
       "      <td>(115000.0,120000.0]</td>\n",
       "      <td>2272</td>\n",
       "      <td>0.145246</td>\n",
       "    </tr>\n",
       "    <tr>\n",
       "      <th>25</th>\n",
       "      <td>(120000.0,125000.0]</td>\n",
       "      <td>1298</td>\n",
       "      <td>0.121726</td>\n",
       "    </tr>\n",
       "    <tr>\n",
       "      <th>26</th>\n",
       "      <td>(125000.0,130000.0]</td>\n",
       "      <td>1242</td>\n",
       "      <td>0.110306</td>\n",
       "    </tr>\n",
       "    <tr>\n",
       "      <th>27</th>\n",
       "      <td>(130000.0,135000.0]</td>\n",
       "      <td>718</td>\n",
       "      <td>0.126741</td>\n",
       "    </tr>\n",
       "    <tr>\n",
       "      <th>28</th>\n",
       "      <td>(135000.0,140000.0]</td>\n",
       "      <td>953</td>\n",
       "      <td>0.133263</td>\n",
       "    </tr>\n",
       "    <tr>\n",
       "      <th>29</th>\n",
       "      <td>(140000.0,145000.0]</td>\n",
       "      <td>570</td>\n",
       "      <td>0.112281</td>\n",
       "    </tr>\n",
       "    <tr>\n",
       "      <th>30</th>\n",
       "      <td>(145000.0,150000.0]</td>\n",
       "      <td>1105</td>\n",
       "      <td>0.134842</td>\n",
       "    </tr>\n",
       "  </tbody>\n",
       "</table>\n",
       "</div>"
      ],
      "text/plain": [
       "         annual_inc_cat  nrow  mean_bad_loan\n",
       "20   (95000.0,100000.0]  4055       0.136128\n",
       "21  (100000.0,105000.0]  2135       0.124590\n",
       "22  (105000.0,110000.0]  2450       0.130204\n",
       "23  (110000.0,115000.0]  1428       0.111345\n",
       "24  (115000.0,120000.0]  2272       0.145246\n",
       "25  (120000.0,125000.0]  1298       0.121726\n",
       "26  (125000.0,130000.0]  1242       0.110306\n",
       "27  (130000.0,135000.0]   718       0.126741\n",
       "28  (135000.0,140000.0]   953       0.133263\n",
       "29  (140000.0,145000.0]   570       0.112281\n",
       "30  (145000.0,150000.0]  1105       0.134842"
      ]
     },
     "execution_count": 45,
     "metadata": {},
     "output_type": "execute_result"
    }
   ],
   "source": [
    "df[20:31]"
   ]
  },
  {
   "cell_type": "code",
   "execution_count": 46,
   "metadata": {},
   "outputs": [],
   "source": [
    "x_trans.remove(\"annual_inc\")\n",
    "x_trans.append(\"annual_inc_core\")\n",
    "x_trans.append(\"annual_inc_delta\")\n",
    "\n",
    "train[\"annual_inc_core\"] = h2o.H2OFrame.ifelse(train[\"annual_inc\"] <= 10000, 10000, train[\"annual_inc\"])\n",
    "train[\"annual_inc_core\"] = h2o.H2OFrame.ifelse(train[\"annual_inc_core\"] <= 105000,\n",
    "                                               train[\"annual_inc_core\"], 105000)\n",
    "\n",
    "train[\"annual_inc_delta\"] = train[\"annual_inc\"] - train[\"annual_inc_core\"]"
   ]
  },
  {
   "cell_type": "markdown",
   "metadata": {},
   "source": [
    "### 2.3. Separating Typical from Extreme Debt to Income Ratio\n",
    "\n",
    "Looking at the occurance of bad loans on a logit scale reveal that the chance of a bad loan roughly increases linearly in debt-to-income from 5% to 30% and is highly volatile outside of that range due to small numbers of observations. To reflect this finding in the modeling, we will replace the original `dti` measure with two derived measures:\n",
    "\n",
    "\\begin{eqnarray}\n",
    "\\text{dti_core} & = & \\max(5, \\min(\\text{dti}, 30)) \\\\\n",
    "\\text{dti_diff} & = & \\text{dti} - \\text{dti_core}\n",
    "\\end{eqnarray}"
   ]
  },
  {
   "cell_type": "code",
   "execution_count": 47,
   "metadata": {},
   "outputs": [
    {
     "data": {
      "text/html": [
       "<table>\n",
       "<thead>\n",
       "<tr><th style=\"text-align: right;\">  Probs</th><th style=\"text-align: right;\">  dtiQuantiles</th></tr>\n",
       "</thead>\n",
       "<tbody>\n",
       "<tr><td style=\"text-align: right;\">   0   </td><td style=\"text-align: right;\">          0   </td></tr>\n",
       "<tr><td style=\"text-align: right;\">   0.05</td><td style=\"text-align: right;\">          3.76</td></tr>\n",
       "<tr><td style=\"text-align: right;\">   0.25</td><td style=\"text-align: right;\">         10.2 </td></tr>\n",
       "<tr><td style=\"text-align: right;\">   0.5 </td><td style=\"text-align: right;\">         15.6 </td></tr>\n",
       "<tr><td style=\"text-align: right;\">   0.75</td><td style=\"text-align: right;\">         21.25</td></tr>\n",
       "<tr><td style=\"text-align: right;\">   0.95</td><td style=\"text-align: right;\">         29.01</td></tr>\n",
       "<tr><td style=\"text-align: right;\">   1   </td><td style=\"text-align: right;\">         39.93</td></tr>\n",
       "</tbody>\n",
       "</table>"
      ]
     },
     "metadata": {},
     "output_type": "display_data"
    },
    {
     "data": {
      "text/plain": []
     },
     "execution_count": 47,
     "metadata": {},
     "output_type": "execute_result"
    }
   ],
   "source": [
    "train[\"dti\"].quantile([0, 0.05, 0.25, 0.5, 0.75, 0.95, 1])"
   ]
  },
  {
   "cell_type": "code",
   "execution_count": 48,
   "metadata": {},
   "outputs": [],
   "source": [
    "breaks = np.linspace(0, 40, 41).tolist()\n",
    "train[\"dti_cat\"] = train[\"dti\"].cut(breaks = breaks)\n",
    "\n",
    "df = mean_target(train, \"dti_cat\")\n",
    "\n",
    "#plt.yscale(\"logit\")\n",
    "#plt.plot(df[\"dti_cat\"].index, df[\"mean_bad_loan\"])"
   ]
  },
  {
   "cell_type": "code",
   "execution_count": 49,
   "metadata": {},
   "outputs": [
    {
     "data": {
      "text/html": [
       "<div>\n",
       "<style scoped>\n",
       "    .dataframe tbody tr th:only-of-type {\n",
       "        vertical-align: middle;\n",
       "    }\n",
       "\n",
       "    .dataframe tbody tr th {\n",
       "        vertical-align: top;\n",
       "    }\n",
       "\n",
       "    .dataframe thead th {\n",
       "        text-align: right;\n",
       "    }\n",
       "</style>\n",
       "<table border=\"1\" class=\"dataframe\">\n",
       "  <thead>\n",
       "    <tr style=\"text-align: right;\">\n",
       "      <th></th>\n",
       "      <th>dti_cat</th>\n",
       "      <th>nrow</th>\n",
       "      <th>mean_bad_loan</th>\n",
       "    </tr>\n",
       "  </thead>\n",
       "  <tbody>\n",
       "    <tr>\n",
       "      <th>30</th>\n",
       "      <td>(29.0,30.0]</td>\n",
       "      <td>1716</td>\n",
       "      <td>0.277972</td>\n",
       "    </tr>\n",
       "    <tr>\n",
       "      <th>31</th>\n",
       "      <td>(30.0,31.0]</td>\n",
       "      <td>1103</td>\n",
       "      <td>0.291024</td>\n",
       "    </tr>\n",
       "    <tr>\n",
       "      <th>32</th>\n",
       "      <td>(31.0,32.0]</td>\n",
       "      <td>987</td>\n",
       "      <td>0.277609</td>\n",
       "    </tr>\n",
       "    <tr>\n",
       "      <th>33</th>\n",
       "      <td>(32.0,33.0]</td>\n",
       "      <td>787</td>\n",
       "      <td>0.311309</td>\n",
       "    </tr>\n",
       "    <tr>\n",
       "      <th>34</th>\n",
       "      <td>(33.0,34.0]</td>\n",
       "      <td>761</td>\n",
       "      <td>0.290407</td>\n",
       "    </tr>\n",
       "    <tr>\n",
       "      <th>35</th>\n",
       "      <td>(34.0,35.0]</td>\n",
       "      <td>561</td>\n",
       "      <td>0.340463</td>\n",
       "    </tr>\n",
       "    <tr>\n",
       "      <th>36</th>\n",
       "      <td>(35.0,36.0]</td>\n",
       "      <td>55</td>\n",
       "      <td>0.200000</td>\n",
       "    </tr>\n",
       "    <tr>\n",
       "      <th>37</th>\n",
       "      <td>(36.0,37.0]</td>\n",
       "      <td>55</td>\n",
       "      <td>0.218182</td>\n",
       "    </tr>\n",
       "    <tr>\n",
       "      <th>38</th>\n",
       "      <td>(37.0,38.0]</td>\n",
       "      <td>52</td>\n",
       "      <td>0.115385</td>\n",
       "    </tr>\n",
       "    <tr>\n",
       "      <th>39</th>\n",
       "      <td>(38.0,39.0]</td>\n",
       "      <td>46</td>\n",
       "      <td>0.347826</td>\n",
       "    </tr>\n",
       "    <tr>\n",
       "      <th>40</th>\n",
       "      <td>(39.0,40.0]</td>\n",
       "      <td>33</td>\n",
       "      <td>0.000000</td>\n",
       "    </tr>\n",
       "  </tbody>\n",
       "</table>\n",
       "</div>"
      ],
      "text/plain": [
       "        dti_cat  nrow  mean_bad_loan\n",
       "30  (29.0,30.0]  1716       0.277972\n",
       "31  (30.0,31.0]  1103       0.291024\n",
       "32  (31.0,32.0]   987       0.277609\n",
       "33  (32.0,33.0]   787       0.311309\n",
       "34  (33.0,34.0]   761       0.290407\n",
       "35  (34.0,35.0]   561       0.340463\n",
       "36  (35.0,36.0]    55       0.200000\n",
       "37  (36.0,37.0]    55       0.218182\n",
       "38  (37.0,38.0]    52       0.115385\n",
       "39  (38.0,39.0]    46       0.347826\n",
       "40  (39.0,40.0]    33       0.000000"
      ]
     },
     "execution_count": 49,
     "metadata": {},
     "output_type": "execute_result"
    }
   ],
   "source": [
    "df[30:41]"
   ]
  },
  {
   "cell_type": "code",
   "execution_count": 50,
   "metadata": {},
   "outputs": [],
   "source": [
    "x_trans.remove(\"dti\")\n",
    "x_trans.append(\"dti_core\")\n",
    "x_trans.append(\"dti_delta\")\n",
    "\n",
    "train[\"dti_core\"] = h2o.H2OFrame.ifelse(train[\"dti\"] <= 5, 5, train[\"dti\"])\n",
    "train[\"dti_core\"] = h2o.H2OFrame.ifelse(train[\"dti_core\"] <= 30, train[\"dti_core\"], 30)\n",
    "\n",
    "train[\"dti_delta\"] = train[\"dti\"] - train[\"dti_core\"]"
   ]
  },
  {
   "cell_type": "markdown",
   "metadata": {},
   "source": [
    "### 2.4. Separating Typical from Extreme Number of Delinquencies in the Past 2 Years\n",
    "\n",
    "The chance of a bad loan seems to max out at 3 delinquent payments in the past two years. To reflect this finding in the modeling, we will replace the original `delinq_2yrs` measure with two derived measures:\n",
    "\n",
    "\\begin{eqnarray}\n",
    "\\text{delinq_2yrs_core} & = & \\min(\\text{delinq_2yrs}, 3) \\\\\n",
    "\\text{delinq_2yrs_diff} & = & \\text{delinq_2yrs} - \\text{delinq_2yrs_core}\n",
    "\\end{eqnarray}"
   ]
  },
  {
   "cell_type": "code",
   "execution_count": 51,
   "metadata": {},
   "outputs": [
    {
     "data": {
      "text/html": [
       "<table>\n",
       "<thead>\n",
       "<tr><th style=\"text-align: right;\">  Probs</th><th style=\"text-align: right;\">  delinq_2yrsQuantiles</th></tr>\n",
       "</thead>\n",
       "<tbody>\n",
       "<tr><td style=\"text-align: right;\">   0   </td><td style=\"text-align: right;\">                     0</td></tr>\n",
       "<tr><td style=\"text-align: right;\">   0.05</td><td style=\"text-align: right;\">                     0</td></tr>\n",
       "<tr><td style=\"text-align: right;\">   0.25</td><td style=\"text-align: right;\">                     0</td></tr>\n",
       "<tr><td style=\"text-align: right;\">   0.5 </td><td style=\"text-align: right;\">                     0</td></tr>\n",
       "<tr><td style=\"text-align: right;\">   0.75</td><td style=\"text-align: right;\">                     0</td></tr>\n",
       "<tr><td style=\"text-align: right;\">   0.95</td><td style=\"text-align: right;\">                     1</td></tr>\n",
       "<tr><td style=\"text-align: right;\">   1   </td><td style=\"text-align: right;\">                    18</td></tr>\n",
       "</tbody>\n",
       "</table>"
      ]
     },
     "metadata": {},
     "output_type": "display_data"
    },
    {
     "data": {
      "text/plain": []
     },
     "execution_count": 51,
     "metadata": {},
     "output_type": "execute_result"
    }
   ],
   "source": [
    "train[\"delinq_2yrs\"].quantile([0, 0.05, 0.25, 0.5, 0.75, 0.95, 1])"
   ]
  },
  {
   "cell_type": "code",
   "execution_count": 52,
   "metadata": {},
   "outputs": [
    {
     "data": {
      "text/html": [
       "<div>\n",
       "<style scoped>\n",
       "    .dataframe tbody tr th:only-of-type {\n",
       "        vertical-align: middle;\n",
       "    }\n",
       "\n",
       "    .dataframe tbody tr th {\n",
       "        vertical-align: top;\n",
       "    }\n",
       "\n",
       "    .dataframe thead th {\n",
       "        text-align: right;\n",
       "    }\n",
       "</style>\n",
       "<table border=\"1\" class=\"dataframe\">\n",
       "  <thead>\n",
       "    <tr style=\"text-align: right;\">\n",
       "      <th></th>\n",
       "      <th>delinq_2yrs_cat</th>\n",
       "      <th>nrow</th>\n",
       "      <th>mean_bad_loan</th>\n",
       "    </tr>\n",
       "  </thead>\n",
       "  <tbody>\n",
       "    <tr>\n",
       "      <th>0</th>\n",
       "      <td>NaN</td>\n",
       "      <td>0</td>\n",
       "      <td>0.180783</td>\n",
       "    </tr>\n",
       "    <tr>\n",
       "      <th>1</th>\n",
       "      <td>(0.0,1.0]</td>\n",
       "      <td>12879</td>\n",
       "      <td>0.189766</td>\n",
       "    </tr>\n",
       "    <tr>\n",
       "      <th>2</th>\n",
       "      <td>(1.0,2.0]</td>\n",
       "      <td>3467</td>\n",
       "      <td>0.203057</td>\n",
       "    </tr>\n",
       "    <tr>\n",
       "      <th>3</th>\n",
       "      <td>(2.0,3.0]</td>\n",
       "      <td>1127</td>\n",
       "      <td>0.220941</td>\n",
       "    </tr>\n",
       "    <tr>\n",
       "      <th>4</th>\n",
       "      <td>(3.0,4.0]</td>\n",
       "      <td>447</td>\n",
       "      <td>0.210291</td>\n",
       "    </tr>\n",
       "    <tr>\n",
       "      <th>5</th>\n",
       "      <td>(4.0,5.0]</td>\n",
       "      <td>237</td>\n",
       "      <td>0.232068</td>\n",
       "    </tr>\n",
       "  </tbody>\n",
       "</table>\n",
       "</div>"
      ],
      "text/plain": [
       "  delinq_2yrs_cat   nrow  mean_bad_loan\n",
       "0             NaN      0       0.180783\n",
       "1       (0.0,1.0]  12879       0.189766\n",
       "2       (1.0,2.0]   3467       0.203057\n",
       "3       (2.0,3.0]   1127       0.220941\n",
       "4       (3.0,4.0]    447       0.210291\n",
       "5       (4.0,5.0]    237       0.232068"
      ]
     },
     "execution_count": 52,
     "metadata": {},
     "output_type": "execute_result"
    }
   ],
   "source": [
    "breaks = np.linspace(0, 5, 6).tolist()\n",
    "train[\"delinq_2yrs_cat\"] = train[\"delinq_2yrs\"].cut(breaks = breaks)\n",
    "\n",
    "mean_target(train, \"delinq_2yrs_cat\")"
   ]
  },
  {
   "cell_type": "code",
   "execution_count": 53,
   "metadata": {},
   "outputs": [],
   "source": [
    "x_trans.remove(\"delinq_2yrs\")\n",
    "x_trans.append(\"delinq_2yrs_core\")\n",
    "x_trans.append(\"delinq_2yrs_delta\")\n",
    "\n",
    "train[\"delinq_2yrs_core\"] = h2o.H2OFrame.ifelse(train[\"delinq_2yrs\"] <= 3, train[\"delinq_2yrs\"], 3)\n",
    "\n",
    "train[\"delinq_2yrs_delta\"] = train[\"delinq_2yrs\"] - train[\"delinq_2yrs_core\"]"
   ]
  },
  {
   "cell_type": "markdown",
   "metadata": {},
   "source": [
    "### 2.5. Separating Typical from Extreme Revolving Credit Line Utilized\n",
    "\n",
    "The relationship between credit line utilized is somewhat interesting. There appears to be a higher rate for a bad loan when 0% of the credit lines are utilized, then it drops down slightly and roughly increases linearly in credit line utilized up to 100%. To reflect this finding in the modeling, we will replace the original `revol_util` measure with three derived measures:\n",
    "\n",
    "\\begin{eqnarray}\n",
    "\\text{revol_util_0} & = & I(\\text{revol_util} == 0) \\\\\n",
    "\\text{revol_util_core} & = & \\max(5, \\min(\\text{revol_util}, 30)) \\\\\n",
    "\\text{revol_util_diff} & = & \\text{revol_util} - \\text{revol_util_core}\n",
    "\\end{eqnarray}"
   ]
  },
  {
   "cell_type": "code",
   "execution_count": 54,
   "metadata": {},
   "outputs": [
    {
     "data": {
      "text/html": [
       "<table>\n",
       "<thead>\n",
       "<tr><th style=\"text-align: right;\">  Probs</th><th style=\"text-align: right;\">  revol_utilQuantiles</th></tr>\n",
       "</thead>\n",
       "<tbody>\n",
       "<tr><td style=\"text-align: right;\">   0   </td><td style=\"text-align: right;\">                  0  </td></tr>\n",
       "<tr><td style=\"text-align: right;\">   0.05</td><td style=\"text-align: right;\">                  8.6</td></tr>\n",
       "<tr><td style=\"text-align: right;\">   0.25</td><td style=\"text-align: right;\">                 35.5</td></tr>\n",
       "<tr><td style=\"text-align: right;\">   0.5 </td><td style=\"text-align: right;\">                 55.9</td></tr>\n",
       "<tr><td style=\"text-align: right;\">   0.75</td><td style=\"text-align: right;\">                 74.3</td></tr>\n",
       "<tr><td style=\"text-align: right;\">   0.95</td><td style=\"text-align: right;\">                 92.4</td></tr>\n",
       "<tr><td style=\"text-align: right;\">   1   </td><td style=\"text-align: right;\">                150.7</td></tr>\n",
       "</tbody>\n",
       "</table>"
      ]
     },
     "metadata": {},
     "output_type": "display_data"
    },
    {
     "data": {
      "text/plain": []
     },
     "execution_count": 54,
     "metadata": {},
     "output_type": "execute_result"
    }
   ],
   "source": [
    "train[\"revol_util\"].quantile([0, 0.05, 0.25, 0.5, 0.75, 0.95, 1])"
   ]
  },
  {
   "cell_type": "code",
   "execution_count": 55,
   "metadata": {},
   "outputs": [],
   "source": [
    "breaks = np.linspace(0, 120, 25).tolist()\n",
    "train[\"revol_util_cat\"] = train[\"revol_util\"].cut(breaks = breaks)\n",
    "\n",
    "df = mean_target(train, \"revol_util_cat\")\n",
    "\n",
    "#plt.yscale(\"logit\")\n",
    "#plt.plot(df[\"revol_util_cat\"].index, df[\"mean_bad_loan\"])"
   ]
  },
  {
   "cell_type": "code",
   "execution_count": 56,
   "metadata": {},
   "outputs": [
    {
     "data": {
      "text/html": [
       "<div>\n",
       "<style scoped>\n",
       "    .dataframe tbody tr th:only-of-type {\n",
       "        vertical-align: middle;\n",
       "    }\n",
       "\n",
       "    .dataframe tbody tr th {\n",
       "        vertical-align: top;\n",
       "    }\n",
       "\n",
       "    .dataframe thead th {\n",
       "        text-align: right;\n",
       "    }\n",
       "</style>\n",
       "<table border=\"1\" class=\"dataframe\">\n",
       "  <thead>\n",
       "    <tr style=\"text-align: right;\">\n",
       "      <th></th>\n",
       "      <th>revol_util_cat</th>\n",
       "      <th>nrow</th>\n",
       "      <th>mean_bad_loan</th>\n",
       "    </tr>\n",
       "  </thead>\n",
       "  <tbody>\n",
       "    <tr>\n",
       "      <th>20</th>\n",
       "      <td>(95.0,100.0]</td>\n",
       "      <td>3214</td>\n",
       "      <td>0.254200</td>\n",
       "    </tr>\n",
       "    <tr>\n",
       "      <th>21</th>\n",
       "      <td>(100.0,105.0]</td>\n",
       "      <td>173</td>\n",
       "      <td>0.231214</td>\n",
       "    </tr>\n",
       "    <tr>\n",
       "      <th>22</th>\n",
       "      <td>(105.0,110.0]</td>\n",
       "      <td>28</td>\n",
       "      <td>0.250000</td>\n",
       "    </tr>\n",
       "    <tr>\n",
       "      <th>23</th>\n",
       "      <td>(110.0,115.0]</td>\n",
       "      <td>7</td>\n",
       "      <td>0.285714</td>\n",
       "    </tr>\n",
       "    <tr>\n",
       "      <th>24</th>\n",
       "      <td>(115.0,120.0]</td>\n",
       "      <td>3</td>\n",
       "      <td>0.000000</td>\n",
       "    </tr>\n",
       "  </tbody>\n",
       "</table>\n",
       "</div>"
      ],
      "text/plain": [
       "   revol_util_cat  nrow  mean_bad_loan\n",
       "20   (95.0,100.0]  3214       0.254200\n",
       "21  (100.0,105.0]   173       0.231214\n",
       "22  (105.0,110.0]    28       0.250000\n",
       "23  (110.0,115.0]     7       0.285714\n",
       "24  (115.0,120.0]     3       0.000000"
      ]
     },
     "execution_count": 56,
     "metadata": {},
     "output_type": "execute_result"
    }
   ],
   "source": [
    "df[20:25]"
   ]
  },
  {
   "cell_type": "code",
   "execution_count": 57,
   "metadata": {},
   "outputs": [],
   "source": [
    "x_trans.remove(\"revol_util\")\n",
    "x_trans.append(\"revol_util_0\")\n",
    "x_trans.append(\"revol_util_core\")\n",
    "x_trans.append(\"revol_util_delta\")\n",
    "\n",
    "train[\"revol_util_0\"] = train[\"revol_util\"] == 0\n",
    "train[\"revol_util_core\"] = h2o.H2OFrame.ifelse(train[\"revol_util\"] <= 100, train[\"revol_util\"], 100)\n",
    "train[\"revol_util_delta\"] = train[\"revol_util\"] - train[\"revol_util_core\"]"
   ]
  },
  {
   "cell_type": "markdown",
   "metadata": {},
   "source": [
    "### 2.6. Separating Typical from Extreme Number of Credit Lines\n",
    "\n",
    "Looking at the occurance of bad loans on a logit scale reveal that the chance of a bad loan roughly decreases linearly in number of lines of credit up to about 50. To reflect this finding in the modeling, we will replace the original `total_acc` measure with two derived measures:\n",
    "\n",
    "\\begin{eqnarray}\n",
    "\\text{total_acc_core} & = & \\min(\\text{total_acc}, 50) \\\\\n",
    "\\text{total_acc_diff} & = & \\text{total_acc} - \\text{total_acc_core}\n",
    "\\end{eqnarray}"
   ]
  },
  {
   "cell_type": "code",
   "execution_count": 58,
   "metadata": {},
   "outputs": [
    {
     "data": {
      "text/html": [
       "<table>\n",
       "<thead>\n",
       "<tr><th style=\"text-align: right;\">  Probs</th><th style=\"text-align: right;\">  total_accQuantiles</th></tr>\n",
       "</thead>\n",
       "<tbody>\n",
       "<tr><td style=\"text-align: right;\">   0   </td><td style=\"text-align: right;\">                   1</td></tr>\n",
       "<tr><td style=\"text-align: right;\">   0.05</td><td style=\"text-align: right;\">                   8</td></tr>\n",
       "<tr><td style=\"text-align: right;\">   0.25</td><td style=\"text-align: right;\">                  16</td></tr>\n",
       "<tr><td style=\"text-align: right;\">   0.5 </td><td style=\"text-align: right;\">                  23</td></tr>\n",
       "<tr><td style=\"text-align: right;\">   0.75</td><td style=\"text-align: right;\">                  31</td></tr>\n",
       "<tr><td style=\"text-align: right;\">   0.95</td><td style=\"text-align: right;\">                  46</td></tr>\n",
       "<tr><td style=\"text-align: right;\">   1   </td><td style=\"text-align: right;\">                 102</td></tr>\n",
       "</tbody>\n",
       "</table>"
      ]
     },
     "metadata": {},
     "output_type": "display_data"
    },
    {
     "data": {
      "text/plain": []
     },
     "execution_count": 58,
     "metadata": {},
     "output_type": "execute_result"
    }
   ],
   "source": [
    "train[\"total_acc\"].quantile([0, 0.05, 0.25, 0.5, 0.75, 0.95, 1])"
   ]
  },
  {
   "cell_type": "code",
   "execution_count": 59,
   "metadata": {},
   "outputs": [],
   "source": [
    "breaks = np.linspace(0, 60, 13).tolist()\n",
    "train[\"total_acc_cat\"] = train[\"total_acc\"].cut(breaks = breaks)\n",
    "\n",
    "df = mean_target(train, \"total_acc_cat\")\n",
    "\n",
    "#plt.yscale(\"logit\")\n",
    "#plt.plot(df[\"total_acc_cat\"].index, df[\"mean_bad_loan\"])"
   ]
  },
  {
   "cell_type": "code",
   "execution_count": 60,
   "metadata": {},
   "outputs": [
    {
     "data": {
      "text/html": [
       "<table>\n",
       "<thead>\n",
       "<tr><th style=\"text-align: right;\">  C1</th><th style=\"text-align: right;\">  Count</th></tr>\n",
       "</thead>\n",
       "<tbody>\n",
       "<tr><td style=\"text-align: right;\">   0</td><td style=\"text-align: right;\"> 123039</td></tr>\n",
       "<tr><td style=\"text-align: right;\">   1</td><td style=\"text-align: right;\">     23</td></tr>\n",
       "</tbody>\n",
       "</table>"
      ]
     },
     "metadata": {},
     "output_type": "display_data"
    },
    {
     "data": {
      "text/plain": []
     },
     "execution_count": 60,
     "metadata": {},
     "output_type": "execute_result"
    }
   ],
   "source": [
    "(train[\"total_acc\"] == None).table()"
   ]
  },
  {
   "cell_type": "code",
   "execution_count": 61,
   "metadata": {},
   "outputs": [
    {
     "data": {
      "text/html": [
       "<div>\n",
       "<style scoped>\n",
       "    .dataframe tbody tr th:only-of-type {\n",
       "        vertical-align: middle;\n",
       "    }\n",
       "\n",
       "    .dataframe tbody tr th {\n",
       "        vertical-align: top;\n",
       "    }\n",
       "\n",
       "    .dataframe thead th {\n",
       "        text-align: right;\n",
       "    }\n",
       "</style>\n",
       "<table border=\"1\" class=\"dataframe\">\n",
       "  <thead>\n",
       "    <tr style=\"text-align: right;\">\n",
       "      <th></th>\n",
       "      <th>total_acc_cat</th>\n",
       "      <th>nrow</th>\n",
       "      <th>mean_bad_loan</th>\n",
       "    </tr>\n",
       "  </thead>\n",
       "  <tbody>\n",
       "    <tr>\n",
       "      <th>0</th>\n",
       "      <td>NaN</td>\n",
       "      <td>0</td>\n",
       "      <td>0.154404</td>\n",
       "    </tr>\n",
       "    <tr>\n",
       "      <th>1</th>\n",
       "      <td>(0.0,5.0]</td>\n",
       "      <td>1753</td>\n",
       "      <td>0.225328</td>\n",
       "    </tr>\n",
       "    <tr>\n",
       "      <th>2</th>\n",
       "      <td>(5.0,10.0]</td>\n",
       "      <td>9578</td>\n",
       "      <td>0.212048</td>\n",
       "    </tr>\n",
       "  </tbody>\n",
       "</table>\n",
       "</div>"
      ],
      "text/plain": [
       "  total_acc_cat  nrow  mean_bad_loan\n",
       "0           NaN     0       0.154404\n",
       "1     (0.0,5.0]  1753       0.225328\n",
       "2    (5.0,10.0]  9578       0.212048"
      ]
     },
     "execution_count": 61,
     "metadata": {},
     "output_type": "execute_result"
    }
   ],
   "source": [
    "df[0:3]"
   ]
  },
  {
   "cell_type": "code",
   "execution_count": 62,
   "metadata": {},
   "outputs": [
    {
     "data": {
      "text/html": [
       "<div>\n",
       "<style scoped>\n",
       "    .dataframe tbody tr th:only-of-type {\n",
       "        vertical-align: middle;\n",
       "    }\n",
       "\n",
       "    .dataframe tbody tr th {\n",
       "        vertical-align: top;\n",
       "    }\n",
       "\n",
       "    .dataframe thead th {\n",
       "        text-align: right;\n",
       "    }\n",
       "</style>\n",
       "<table border=\"1\" class=\"dataframe\">\n",
       "  <thead>\n",
       "    <tr style=\"text-align: right;\">\n",
       "      <th></th>\n",
       "      <th>total_acc_cat</th>\n",
       "      <th>nrow</th>\n",
       "      <th>mean_bad_loan</th>\n",
       "    </tr>\n",
       "  </thead>\n",
       "  <tbody>\n",
       "    <tr>\n",
       "      <th>8</th>\n",
       "      <td>(35.0,40.0]</td>\n",
       "      <td>8476</td>\n",
       "      <td>0.164936</td>\n",
       "    </tr>\n",
       "    <tr>\n",
       "      <th>9</th>\n",
       "      <td>(40.0,45.0]</td>\n",
       "      <td>5312</td>\n",
       "      <td>0.159074</td>\n",
       "    </tr>\n",
       "    <tr>\n",
       "      <th>10</th>\n",
       "      <td>(45.0,50.0]</td>\n",
       "      <td>3153</td>\n",
       "      <td>0.156359</td>\n",
       "    </tr>\n",
       "    <tr>\n",
       "      <th>11</th>\n",
       "      <td>(50.0,55.0]</td>\n",
       "      <td>1755</td>\n",
       "      <td>0.142450</td>\n",
       "    </tr>\n",
       "    <tr>\n",
       "      <th>12</th>\n",
       "      <td>(55.0,60.0]</td>\n",
       "      <td>972</td>\n",
       "      <td>0.166667</td>\n",
       "    </tr>\n",
       "  </tbody>\n",
       "</table>\n",
       "</div>"
      ],
      "text/plain": [
       "   total_acc_cat  nrow  mean_bad_loan\n",
       "8    (35.0,40.0]  8476       0.164936\n",
       "9    (40.0,45.0]  5312       0.159074\n",
       "10   (45.0,50.0]  3153       0.156359\n",
       "11   (50.0,55.0]  1755       0.142450\n",
       "12   (55.0,60.0]   972       0.166667"
      ]
     },
     "execution_count": 62,
     "metadata": {},
     "output_type": "execute_result"
    }
   ],
   "source": [
    "df[8:13]"
   ]
  },
  {
   "cell_type": "code",
   "execution_count": 63,
   "metadata": {},
   "outputs": [],
   "source": [
    "x_trans.remove(\"total_acc\")\n",
    "x_trans.append(\"total_acc_core\")\n",
    "x_trans.append(\"total_acc_delta\")\n",
    "\n",
    "train[\"total_acc_core\"] = h2o.H2OFrame.ifelse(train[\"total_acc\"] <= 50, train[\"total_acc\"], 50)\n",
    "train[\"total_acc_delta\"] = train[\"total_acc\"] - train[\"total_acc_core\"]"
   ]
  },
  {
   "cell_type": "markdown",
   "metadata": {},
   "source": [
    "### 2.7. Separating Typical from Extreme Longest Credit Length\n",
    "\n",
    "Looking at the occurance of bad loans on a logit scale reveal that the chance of a bad loan roughly decreases linearly in longest credit length from 3 to 20 years and is highly volatile outside of that range due to small numbers of observations. To reflect this finding in the modeling, we will replace the original `longest_credit_length` measure with two derived measures:\n",
    "\n",
    "\\begin{eqnarray}\n",
    "\\text{longest_credit_length_core} & = & \\max(3, \\min(\\text{longest_credit_length}, 20)) \\\\\n",
    "\\text{longest_credit_length_diff} & = & \\text{longest_credit_length} - \\text{longest_credit_length_core}\n",
    "\\end{eqnarray}"
   ]
  },
  {
   "cell_type": "code",
   "execution_count": 64,
   "metadata": {},
   "outputs": [
    {
     "data": {
      "text/html": [
       "<table>\n",
       "<thead>\n",
       "<tr><th style=\"text-align: right;\">  Probs</th><th style=\"text-align: right;\">  longest_credit_lengthQuantiles</th></tr>\n",
       "</thead>\n",
       "<tbody>\n",
       "<tr><td style=\"text-align: right;\">   0   </td><td style=\"text-align: right;\">                               0</td></tr>\n",
       "<tr><td style=\"text-align: right;\">   0.05</td><td style=\"text-align: right;\">                               6</td></tr>\n",
       "<tr><td style=\"text-align: right;\">   0.25</td><td style=\"text-align: right;\">                              10</td></tr>\n",
       "<tr><td style=\"text-align: right;\">   0.5 </td><td style=\"text-align: right;\">                              14</td></tr>\n",
       "<tr><td style=\"text-align: right;\">   0.75</td><td style=\"text-align: right;\">                              18</td></tr>\n",
       "<tr><td style=\"text-align: right;\">   0.95</td><td style=\"text-align: right;\">                              28</td></tr>\n",
       "<tr><td style=\"text-align: right;\">   1   </td><td style=\"text-align: right;\">                              65</td></tr>\n",
       "</tbody>\n",
       "</table>"
      ]
     },
     "metadata": {},
     "output_type": "display_data"
    },
    {
     "data": {
      "text/plain": []
     },
     "execution_count": 64,
     "metadata": {},
     "output_type": "execute_result"
    }
   ],
   "source": [
    "train[\"longest_credit_length\"].quantile([0, 0.05, 0.25, 0.5, 0.75, 0.95, 1])"
   ]
  },
  {
   "cell_type": "code",
   "execution_count": 65,
   "metadata": {},
   "outputs": [],
   "source": [
    "breaks = np.linspace(0, 25, 26).tolist()\n",
    "train[\"longest_credit_length_cat\"] = train[\"longest_credit_length\"].cut(breaks = breaks)\n",
    "\n",
    "df = mean_target(train, \"longest_credit_length_cat\")\n",
    "\n",
    "#plt.yscale(\"logit\")\n",
    "#plt.plot(df[\"longest_credit_length_cat\"].index, df[\"mean_bad_loan\"])"
   ]
  },
  {
   "cell_type": "code",
   "execution_count": 66,
   "metadata": {},
   "outputs": [
    {
     "data": {
      "text/html": [
       "<div>\n",
       "<style scoped>\n",
       "    .dataframe tbody tr th:only-of-type {\n",
       "        vertical-align: middle;\n",
       "    }\n",
       "\n",
       "    .dataframe tbody tr th {\n",
       "        vertical-align: top;\n",
       "    }\n",
       "\n",
       "    .dataframe thead th {\n",
       "        text-align: right;\n",
       "    }\n",
       "</style>\n",
       "<table border=\"1\" class=\"dataframe\">\n",
       "  <thead>\n",
       "    <tr style=\"text-align: right;\">\n",
       "      <th></th>\n",
       "      <th>longest_credit_length_cat</th>\n",
       "      <th>nrow</th>\n",
       "      <th>mean_bad_loan</th>\n",
       "    </tr>\n",
       "  </thead>\n",
       "  <tbody>\n",
       "    <tr>\n",
       "      <th>0</th>\n",
       "      <td>NaN</td>\n",
       "      <td>0</td>\n",
       "      <td>0.171027</td>\n",
       "    </tr>\n",
       "    <tr>\n",
       "      <th>1</th>\n",
       "      <td>(0.0,1.0]</td>\n",
       "      <td>48</td>\n",
       "      <td>0.270833</td>\n",
       "    </tr>\n",
       "    <tr>\n",
       "      <th>2</th>\n",
       "      <td>(1.0,2.0]</td>\n",
       "      <td>72</td>\n",
       "      <td>0.333333</td>\n",
       "    </tr>\n",
       "    <tr>\n",
       "      <th>3</th>\n",
       "      <td>(2.0,3.0]</td>\n",
       "      <td>700</td>\n",
       "      <td>0.208571</td>\n",
       "    </tr>\n",
       "  </tbody>\n",
       "</table>\n",
       "</div>"
      ],
      "text/plain": [
       "  longest_credit_length_cat  nrow  mean_bad_loan\n",
       "0                       NaN     0       0.171027\n",
       "1                 (0.0,1.0]    48       0.270833\n",
       "2                 (1.0,2.0]    72       0.333333\n",
       "3                 (2.0,3.0]   700       0.208571"
      ]
     },
     "execution_count": 66,
     "metadata": {},
     "output_type": "execute_result"
    }
   ],
   "source": [
    "df[0:4]"
   ]
  },
  {
   "cell_type": "code",
   "execution_count": 67,
   "metadata": {},
   "outputs": [
    {
     "data": {
      "text/html": [
       "<div>\n",
       "<style scoped>\n",
       "    .dataframe tbody tr th:only-of-type {\n",
       "        vertical-align: middle;\n",
       "    }\n",
       "\n",
       "    .dataframe tbody tr th {\n",
       "        vertical-align: top;\n",
       "    }\n",
       "\n",
       "    .dataframe thead th {\n",
       "        text-align: right;\n",
       "    }\n",
       "</style>\n",
       "<table border=\"1\" class=\"dataframe\">\n",
       "  <thead>\n",
       "    <tr style=\"text-align: right;\">\n",
       "      <th></th>\n",
       "      <th>longest_credit_length_cat</th>\n",
       "      <th>nrow</th>\n",
       "      <th>mean_bad_loan</th>\n",
       "    </tr>\n",
       "  </thead>\n",
       "  <tbody>\n",
       "    <tr>\n",
       "      <th>20</th>\n",
       "      <td>(19.0,20.0]</td>\n",
       "      <td>3509</td>\n",
       "      <td>0.165004</td>\n",
       "    </tr>\n",
       "    <tr>\n",
       "      <th>21</th>\n",
       "      <td>(20.0,21.0]</td>\n",
       "      <td>2968</td>\n",
       "      <td>0.158693</td>\n",
       "    </tr>\n",
       "    <tr>\n",
       "      <th>22</th>\n",
       "      <td>(21.0,22.0]</td>\n",
       "      <td>2477</td>\n",
       "      <td>0.163101</td>\n",
       "    </tr>\n",
       "    <tr>\n",
       "      <th>23</th>\n",
       "      <td>(22.0,23.0]</td>\n",
       "      <td>2267</td>\n",
       "      <td>0.167181</td>\n",
       "    </tr>\n",
       "    <tr>\n",
       "      <th>24</th>\n",
       "      <td>(23.0,24.0]</td>\n",
       "      <td>2152</td>\n",
       "      <td>0.173792</td>\n",
       "    </tr>\n",
       "    <tr>\n",
       "      <th>25</th>\n",
       "      <td>(24.0,25.0]</td>\n",
       "      <td>1839</td>\n",
       "      <td>0.162045</td>\n",
       "    </tr>\n",
       "  </tbody>\n",
       "</table>\n",
       "</div>"
      ],
      "text/plain": [
       "   longest_credit_length_cat  nrow  mean_bad_loan\n",
       "20               (19.0,20.0]  3509       0.165004\n",
       "21               (20.0,21.0]  2968       0.158693\n",
       "22               (21.0,22.0]  2477       0.163101\n",
       "23               (22.0,23.0]  2267       0.167181\n",
       "24               (23.0,24.0]  2152       0.173792\n",
       "25               (24.0,25.0]  1839       0.162045"
      ]
     },
     "execution_count": 67,
     "metadata": {},
     "output_type": "execute_result"
    }
   ],
   "source": [
    "df[20:26]"
   ]
  },
  {
   "cell_type": "code",
   "execution_count": 68,
   "metadata": {},
   "outputs": [],
   "source": [
    "x_trans.remove(\"longest_credit_length\")\n",
    "x_trans.append(\"longest_credit_length_core\")\n",
    "x_trans.append(\"longest_credit_length_delta\")\n",
    "\n",
    "train[\"longest_credit_length_core\"] = h2o.H2OFrame.ifelse(train[\"longest_credit_length\"] <= 3,\n",
    "                                                          3, train[\"longest_credit_length\"])\n",
    "train[\"longest_credit_length_core\"] = h2o.H2OFrame.ifelse(train[\"longest_credit_length_core\"] <= 20,\n",
    "                                                          train[\"longest_credit_length_core\"], 20)\n",
    "\n",
    "train[\"longest_credit_length_delta\"] = train[\"longest_credit_length\"] - train[\"longest_credit_length_core\"]"
   ]
  },
  {
   "cell_type": "markdown",
   "metadata": {},
   "source": [
    "## 3. Create Indicator Functions\n",
    "\n",
    "### 3.1. Converting Term to a 0/1 Indicator\n",
    "\n",
    "Given that term of the loans are either 3 or 5 years, we will create a simplifed `term_36month` binary indicator that is 1 when the terms of the loan is for 5 years and 0 for loans with a term of 3 years."
   ]
  },
  {
   "cell_type": "code",
   "execution_count": 69,
   "metadata": {},
   "outputs": [
    {
     "data": {
      "text/html": [
       "<table>\n",
       "<thead>\n",
       "<tr><th>term     </th><th style=\"text-align: right;\">  Count</th></tr>\n",
       "</thead>\n",
       "<tbody>\n",
       "<tr><td>36 months</td><td style=\"text-align: right;\">  97490</td></tr>\n",
       "<tr><td>60 months</td><td style=\"text-align: right;\">  25572</td></tr>\n",
       "</tbody>\n",
       "</table>"
      ]
     },
     "metadata": {},
     "output_type": "display_data"
    },
    {
     "data": {
      "text/plain": []
     },
     "execution_count": 69,
     "metadata": {},
     "output_type": "execute_result"
    }
   ],
   "source": [
    "train[\"term\"].table()"
   ]
  },
  {
   "cell_type": "code",
   "execution_count": 70,
   "metadata": {},
   "outputs": [
    {
     "data": {
      "text/html": [
       "<table>\n",
       "<thead>\n",
       "<tr><th style=\"text-align: right;\">  term_60months</th><th style=\"text-align: right;\">  Count</th></tr>\n",
       "</thead>\n",
       "<tbody>\n",
       "<tr><td style=\"text-align: right;\">              0</td><td style=\"text-align: right;\">  97490</td></tr>\n",
       "<tr><td style=\"text-align: right;\">              1</td><td style=\"text-align: right;\">  25572</td></tr>\n",
       "</tbody>\n",
       "</table>"
      ]
     },
     "metadata": {},
     "output_type": "display_data"
    },
    {
     "data": {
      "text/plain": []
     },
     "execution_count": 70,
     "metadata": {},
     "output_type": "execute_result"
    }
   ],
   "source": [
    "x_trans.remove(\"term\")\n",
    "x_trans.append(\"term_60months\")\n",
    "\n",
    "train[\"term_60months\"] = train[\"term\"] == \"60 months\"\n",
    "\n",
    "train[\"term_60months\"].table()"
   ]
  },
  {
   "cell_type": "markdown",
   "metadata": {},
   "source": [
    "### 3.2. Converting Income Verification Status to a 0/1 Indicator\n",
    "\n",
    "Given that incomes are either verified or not verified, we will create a simplifed `verified` binary indicator that is 1 when income has been verified."
   ]
  },
  {
   "cell_type": "code",
   "execution_count": 71,
   "metadata": {},
   "outputs": [
    {
     "data": {
      "text/html": [
       "<table>\n",
       "<thead>\n",
       "<tr><th>verification_status  </th><th style=\"text-align: right;\">  Count</th></tr>\n",
       "</thead>\n",
       "<tbody>\n",
       "<tr><td>not verified         </td><td style=\"text-align: right;\">  44247</td></tr>\n",
       "<tr><td>verified             </td><td style=\"text-align: right;\">  78815</td></tr>\n",
       "</tbody>\n",
       "</table>"
      ]
     },
     "metadata": {},
     "output_type": "display_data"
    },
    {
     "data": {
      "text/plain": []
     },
     "execution_count": 71,
     "metadata": {},
     "output_type": "execute_result"
    }
   ],
   "source": [
    "train[\"verification_status\"].table()"
   ]
  },
  {
   "cell_type": "code",
   "execution_count": 72,
   "metadata": {},
   "outputs": [
    {
     "data": {
      "text/html": [
       "<table>\n",
       "<thead>\n",
       "<tr><th style=\"text-align: right;\">  verified</th><th style=\"text-align: right;\">  Count</th></tr>\n",
       "</thead>\n",
       "<tbody>\n",
       "<tr><td style=\"text-align: right;\">         0</td><td style=\"text-align: right;\">  44247</td></tr>\n",
       "<tr><td style=\"text-align: right;\">         1</td><td style=\"text-align: right;\">  78815</td></tr>\n",
       "</tbody>\n",
       "</table>"
      ]
     },
     "metadata": {},
     "output_type": "display_data"
    },
    {
     "data": {
      "text/plain": []
     },
     "execution_count": 72,
     "metadata": {},
     "output_type": "execute_result"
    }
   ],
   "source": [
    "x_trans.remove(\"verification_status\")\n",
    "x_trans.append(\"verified\")\n",
    "\n",
    "train[\"verified\"] = train[\"verification_status\"] == \"verified\"\n",
    "train[\"verified\"].table()"
   ]
  },
  {
   "cell_type": "markdown",
   "metadata": {},
   "source": [
    "### 3.3. Creating Missing Value Indicator for Employment Length\n",
    "\n",
    "The most interesting characteristic about employment length is whether or not it is missing. The divide between those with missing values for employment length to those who have a recorded employment length is 26.3% bad loans to 18.0% bad loans respectively. Interestingly, there doesn't appear to be any differences in bad loans across employment lengths."
   ]
  },
  {
   "cell_type": "code",
   "execution_count": 73,
   "metadata": {},
   "outputs": [
    {
     "data": {
      "text/html": [
       "<table>\n",
       "<thead>\n",
       "<tr><th>       </th><th>emp_length        </th></tr>\n",
       "</thead>\n",
       "<tbody>\n",
       "<tr><td>type   </td><td>int               </td></tr>\n",
       "<tr><td>mins   </td><td>0.0               </td></tr>\n",
       "<tr><td>mean   </td><td>5.6807001583611205</td></tr>\n",
       "<tr><td>maxs   </td><td>10.0              </td></tr>\n",
       "<tr><td>sigma  </td><td>3.610320673601871 </td></tr>\n",
       "<tr><td>zeros  </td><td>10727             </td></tr>\n",
       "<tr><td>missing</td><td>4346              </td></tr>\n",
       "<tr><td>0      </td><td>nan               </td></tr>\n",
       "<tr><td>1      </td><td>7.0               </td></tr>\n",
       "<tr><td>2      </td><td>2.0               </td></tr>\n",
       "<tr><td>3      </td><td>10.0              </td></tr>\n",
       "<tr><td>4      </td><td>4.0               </td></tr>\n",
       "<tr><td>5      </td><td>0.0               </td></tr>\n",
       "<tr><td>6      </td><td>10.0              </td></tr>\n",
       "<tr><td>7      </td><td>6.0               </td></tr>\n",
       "<tr><td>8      </td><td>0.0               </td></tr>\n",
       "<tr><td>9      </td><td>10.0              </td></tr>\n",
       "</tbody>\n",
       "</table>"
      ]
     },
     "metadata": {},
     "output_type": "display_data"
    }
   ],
   "source": [
    "train[\"emp_length\"].summary()"
   ]
  },
  {
   "cell_type": "code",
   "execution_count": 74,
   "metadata": {},
   "outputs": [
    {
     "name": "stdout",
     "output_type": "stream",
     "text": [
      "Parse progress: |█████████████████████████████████████████████████████████| 100%\n"
     ]
    },
    {
     "data": {
      "text/html": [
       "<table>\n",
       "<thead>\n",
       "<tr><th style=\"text-align: right;\">  emp_length_missing</th><th style=\"text-align: right;\">  cv_fold</th><th style=\"text-align: right;\">  te_emp_length_missing</th></tr>\n",
       "</thead>\n",
       "<tbody>\n",
       "<tr><td style=\"text-align: right;\">                   0</td><td style=\"text-align: right;\">        0</td><td style=\"text-align: right;\">              -1.52085 </td></tr>\n",
       "<tr><td style=\"text-align: right;\">                   1</td><td style=\"text-align: right;\">        0</td><td style=\"text-align: right;\">              -1.0216  </td></tr>\n",
       "<tr><td style=\"text-align: right;\">                   0</td><td style=\"text-align: right;\">        1</td><td style=\"text-align: right;\">              -1.51402 </td></tr>\n",
       "<tr><td style=\"text-align: right;\">                   1</td><td style=\"text-align: right;\">        1</td><td style=\"text-align: right;\">              -1.06329 </td></tr>\n",
       "<tr><td style=\"text-align: right;\">                   0</td><td style=\"text-align: right;\">        2</td><td style=\"text-align: right;\">              -1.51493 </td></tr>\n",
       "<tr><td style=\"text-align: right;\">                   1</td><td style=\"text-align: right;\">        2</td><td style=\"text-align: right;\">              -1.03287 </td></tr>\n",
       "<tr><td style=\"text-align: right;\">                   0</td><td style=\"text-align: right;\">        3</td><td style=\"text-align: right;\">              -1.51542 </td></tr>\n",
       "<tr><td style=\"text-align: right;\">                   1</td><td style=\"text-align: right;\">        3</td><td style=\"text-align: right;\">              -0.986137</td></tr>\n",
       "<tr><td style=\"text-align: right;\">                   0</td><td style=\"text-align: right;\">        4</td><td style=\"text-align: right;\">              -1.51821 </td></tr>\n",
       "<tr><td style=\"text-align: right;\">                   1</td><td style=\"text-align: right;\">        4</td><td style=\"text-align: right;\">              -1.01942 </td></tr>\n",
       "</tbody>\n",
       "</table>"
      ]
     },
     "metadata": {},
     "output_type": "display_data"
    },
    {
     "data": {
      "text/plain": []
     },
     "execution_count": 74,
     "metadata": {},
     "output_type": "execute_result"
    }
   ],
   "source": [
    "x_trans.append(\"emp_length_missing\")\n",
    "train[\"emp_length_missing\"] = train[\"emp_length\"] == None\n",
    "\n",
    "mean_target_encoding(train, \"emp_length_missing\")"
   ]
  },
  {
   "cell_type": "code",
   "execution_count": 75,
   "metadata": {},
   "outputs": [
    {
     "data": {
      "text/plain": [
       "[<matplotlib.lines.Line2D at 0x7fc038433940>]"
      ]
     },
     "execution_count": 75,
     "metadata": {},
     "output_type": "execute_result"
    },
    {
     "data": {
      "image/png": "[encoded data removed]",
      "text/plain": [
       "<Figure size 432x288 with 1 Axes>"
      ]
     },
     "metadata": {
      "needs_background": "light"
     },
     "output_type": "display_data"
    }
   ],
   "source": [
    "df = mean_target(train, \"emp_length\")\n",
    "\n",
    "plt.yscale(\"logit\")\n",
    "plt.plot(df[\"emp_length\"], df[\"mean_bad_loan\"])"
   ]
  },
  {
   "cell_type": "code",
   "execution_count": 76,
   "metadata": {},
   "outputs": [
    {
     "data": {
      "text/html": [
       "<div>\n",
       "<style scoped>\n",
       "    .dataframe tbody tr th:only-of-type {\n",
       "        vertical-align: middle;\n",
       "    }\n",
       "\n",
       "    .dataframe tbody tr th {\n",
       "        vertical-align: top;\n",
       "    }\n",
       "\n",
       "    .dataframe thead th {\n",
       "        text-align: right;\n",
       "    }\n",
       "</style>\n",
       "<table border=\"1\" class=\"dataframe\">\n",
       "  <thead>\n",
       "    <tr style=\"text-align: right;\">\n",
       "      <th></th>\n",
       "      <th>emp_length</th>\n",
       "      <th>nrow</th>\n",
       "      <th>mean_bad_loan</th>\n",
       "    </tr>\n",
       "  </thead>\n",
       "  <tbody>\n",
       "    <tr>\n",
       "      <th>0</th>\n",
       "      <td>NaN</td>\n",
       "      <td>0</td>\n",
       "      <td>0.264151</td>\n",
       "    </tr>\n",
       "    <tr>\n",
       "      <th>1</th>\n",
       "      <td>0.0</td>\n",
       "      <td>10727</td>\n",
       "      <td>0.180852</td>\n",
       "    </tr>\n",
       "    <tr>\n",
       "      <th>2</th>\n",
       "      <td>1.0</td>\n",
       "      <td>8506</td>\n",
       "      <td>0.176699</td>\n",
       "    </tr>\n",
       "    <tr>\n",
       "      <th>3</th>\n",
       "      <td>2.0</td>\n",
       "      <td>11877</td>\n",
       "      <td>0.173023</td>\n",
       "    </tr>\n",
       "    <tr>\n",
       "      <th>4</th>\n",
       "      <td>3.0</td>\n",
       "      <td>10243</td>\n",
       "      <td>0.177292</td>\n",
       "    </tr>\n",
       "    <tr>\n",
       "      <th>5</th>\n",
       "      <td>4.0</td>\n",
       "      <td>8285</td>\n",
       "      <td>0.176101</td>\n",
       "    </tr>\n",
       "    <tr>\n",
       "      <th>6</th>\n",
       "      <td>5.0</td>\n",
       "      <td>9313</td>\n",
       "      <td>0.180930</td>\n",
       "    </tr>\n",
       "    <tr>\n",
       "      <th>7</th>\n",
       "      <td>6.0</td>\n",
       "      <td>7472</td>\n",
       "      <td>0.189106</td>\n",
       "    </tr>\n",
       "    <tr>\n",
       "      <th>8</th>\n",
       "      <td>7.0</td>\n",
       "      <td>6766</td>\n",
       "      <td>0.192876</td>\n",
       "    </tr>\n",
       "    <tr>\n",
       "      <th>9</th>\n",
       "      <td>8.0</td>\n",
       "      <td>5584</td>\n",
       "      <td>0.189649</td>\n",
       "    </tr>\n",
       "    <tr>\n",
       "      <th>10</th>\n",
       "      <td>9.0</td>\n",
       "      <td>4600</td>\n",
       "      <td>0.186522</td>\n",
       "    </tr>\n",
       "    <tr>\n",
       "      <th>11</th>\n",
       "      <td>10.0</td>\n",
       "      <td>35343</td>\n",
       "      <td>0.177404</td>\n",
       "    </tr>\n",
       "  </tbody>\n",
       "</table>\n",
       "</div>"
      ],
      "text/plain": [
       "    emp_length   nrow  mean_bad_loan\n",
       "0          NaN      0       0.264151\n",
       "1          0.0  10727       0.180852\n",
       "2          1.0   8506       0.176699\n",
       "3          2.0  11877       0.173023\n",
       "4          3.0  10243       0.177292\n",
       "5          4.0   8285       0.176101\n",
       "6          5.0   9313       0.180930\n",
       "7          6.0   7472       0.189106\n",
       "8          7.0   6766       0.192876\n",
       "9          8.0   5584       0.189649\n",
       "10         9.0   4600       0.186522\n",
       "11        10.0  35343       0.177404"
      ]
     },
     "execution_count": 76,
     "metadata": {},
     "output_type": "execute_result"
    }
   ],
   "source": [
    "df"
   ]
  },
  {
   "cell_type": "markdown",
   "metadata": {},
   "source": [
    "## 4. Combining Categories\n",
    "### 4.1.  Combining Categories in Home Ownership\n",
    "\n",
    "Although there are 6 recorded categories within home ownership, only three had over 200 observations: OWN, MORTGAGE, and RENT. The remaining three are so infrequent we will combine them {ANY, NONE, OTHER} with RENT to form an enlarged OTHER category. This new `home_ownership_3cat` variable will have values in {MORTGAGE, OTHER, OWN}."
   ]
  },
  {
   "cell_type": "code",
   "execution_count": 77,
   "metadata": {},
   "outputs": [
    {
     "data": {
      "text/html": [
       "<div>\n",
       "<style scoped>\n",
       "    .dataframe tbody tr th:only-of-type {\n",
       "        vertical-align: middle;\n",
       "    }\n",
       "\n",
       "    .dataframe tbody tr th {\n",
       "        vertical-align: top;\n",
       "    }\n",
       "\n",
       "    .dataframe thead th {\n",
       "        text-align: right;\n",
       "    }\n",
       "</style>\n",
       "<table border=\"1\" class=\"dataframe\">\n",
       "  <thead>\n",
       "    <tr style=\"text-align: right;\">\n",
       "      <th></th>\n",
       "      <th>home_ownership</th>\n",
       "      <th>nrow</th>\n",
       "      <th>mean_bad_loan</th>\n",
       "    </tr>\n",
       "  </thead>\n",
       "  <tbody>\n",
       "    <tr>\n",
       "      <th>0</th>\n",
       "      <td>MORTGAGE</td>\n",
       "      <td>59901</td>\n",
       "      <td>0.162835</td>\n",
       "    </tr>\n",
       "    <tr>\n",
       "      <th>1</th>\n",
       "      <td>NONE</td>\n",
       "      <td>27</td>\n",
       "      <td>0.259259</td>\n",
       "    </tr>\n",
       "    <tr>\n",
       "      <th>2</th>\n",
       "      <td>OTHER</td>\n",
       "      <td>116</td>\n",
       "      <td>0.215517</td>\n",
       "    </tr>\n",
       "    <tr>\n",
       "      <th>3</th>\n",
       "      <td>OWN</td>\n",
       "      <td>10165</td>\n",
       "      <td>0.189670</td>\n",
       "    </tr>\n",
       "    <tr>\n",
       "      <th>4</th>\n",
       "      <td>RENT</td>\n",
       "      <td>52853</td>\n",
       "      <td>0.204284</td>\n",
       "    </tr>\n",
       "  </tbody>\n",
       "</table>\n",
       "</div>"
      ],
      "text/plain": [
       "  home_ownership   nrow  mean_bad_loan\n",
       "0       MORTGAGE  59901       0.162835\n",
       "1           NONE     27       0.259259\n",
       "2          OTHER    116       0.215517\n",
       "3            OWN  10165       0.189670\n",
       "4           RENT  52853       0.204284"
      ]
     },
     "execution_count": 77,
     "metadata": {},
     "output_type": "execute_result"
    }
   ],
   "source": [
    "mean_target(train, \"home_ownership\")"
   ]
  },
  {
   "cell_type": "code",
   "execution_count": 78,
   "metadata": {},
   "outputs": [
    {
     "data": {
      "text/html": [
       "<table>\n",
       "<thead>\n",
       "<tr><th>home_ownership  </th><th>home_ownership_3cat  </th><th style=\"text-align: right;\">  Counts</th></tr>\n",
       "</thead>\n",
       "<tbody>\n",
       "<tr><td>MORTGAGE        </td><td>MORTGAGE             </td><td style=\"text-align: right;\">   59901</td></tr>\n",
       "<tr><td>NONE            </td><td>OTHER                </td><td style=\"text-align: right;\">      27</td></tr>\n",
       "<tr><td>OTHER           </td><td>OTHER                </td><td style=\"text-align: right;\">     116</td></tr>\n",
       "<tr><td>OWN             </td><td>OWN                  </td><td style=\"text-align: right;\">   10165</td></tr>\n",
       "<tr><td>RENT            </td><td>OTHER                </td><td style=\"text-align: right;\">   52853</td></tr>\n",
       "</tbody>\n",
       "</table>"
      ]
     },
     "metadata": {},
     "output_type": "display_data"
    },
    {
     "data": {
      "text/plain": []
     },
     "execution_count": 78,
     "metadata": {},
     "output_type": "execute_result"
    }
   ],
   "source": [
    "lvls = [\"OTHER\", \"MORTGAGE\", \"OTHER\", \"OTHER\", \"OWN\", \"OTHER\"]\n",
    "train[\"home_ownership_3cat\"] = train[\"home_ownership\"].set_levels(lvls).ascharacter().asfactor()\n",
    "\n",
    "train[[\"home_ownership\", \"home_ownership_3cat\"]].table()"
   ]
  },
  {
   "cell_type": "code",
   "execution_count": 79,
   "metadata": {},
   "outputs": [
    {
     "data": {
      "text/html": [
       "<div>\n",
       "<style scoped>\n",
       "    .dataframe tbody tr th:only-of-type {\n",
       "        vertical-align: middle;\n",
       "    }\n",
       "\n",
       "    .dataframe tbody tr th {\n",
       "        vertical-align: top;\n",
       "    }\n",
       "\n",
       "    .dataframe thead th {\n",
       "        text-align: right;\n",
       "    }\n",
       "</style>\n",
       "<table border=\"1\" class=\"dataframe\">\n",
       "  <thead>\n",
       "    <tr style=\"text-align: right;\">\n",
       "      <th></th>\n",
       "      <th>home_ownership_3cat</th>\n",
       "      <th>nrow</th>\n",
       "      <th>mean_bad_loan</th>\n",
       "    </tr>\n",
       "  </thead>\n",
       "  <tbody>\n",
       "    <tr>\n",
       "      <th>0</th>\n",
       "      <td>MORTGAGE</td>\n",
       "      <td>59901</td>\n",
       "      <td>0.162835</td>\n",
       "    </tr>\n",
       "    <tr>\n",
       "      <th>1</th>\n",
       "      <td>OTHER</td>\n",
       "      <td>52996</td>\n",
       "      <td>0.204336</td>\n",
       "    </tr>\n",
       "    <tr>\n",
       "      <th>2</th>\n",
       "      <td>OWN</td>\n",
       "      <td>10165</td>\n",
       "      <td>0.189670</td>\n",
       "    </tr>\n",
       "  </tbody>\n",
       "</table>\n",
       "</div>"
      ],
      "text/plain": [
       "  home_ownership_3cat   nrow  mean_bad_loan\n",
       "0            MORTGAGE  59901       0.162835\n",
       "1               OTHER  52996       0.204336\n",
       "2                 OWN  10165       0.189670"
      ]
     },
     "execution_count": 79,
     "metadata": {},
     "output_type": "execute_result"
    }
   ],
   "source": [
    "mean_target(train, \"home_ownership_3cat\")"
   ]
  },
  {
   "cell_type": "code",
   "execution_count": 80,
   "metadata": {},
   "outputs": [],
   "source": [
    "x_trans.remove(\"home_ownership\")\n",
    "x_trans.append(\"home_ownership_3cat\")"
   ]
  },
  {
   "cell_type": "markdown",
   "metadata": {},
   "source": [
    "# Step 5. Train Models using Transformed Data\n",
    "\n",
    "The transformed variables are"
   ]
  },
  {
   "cell_type": "code",
   "execution_count": 81,
   "metadata": {},
   "outputs": [
    {
     "data": {
      "text/plain": [
       "['emp_length',\n",
       " 'te_purpose',\n",
       " 'te_addr_state',\n",
       " 'loan_amnt_core',\n",
       " 'loan_amnt_delta',\n",
       " 'annual_inc_core',\n",
       " 'annual_inc_delta',\n",
       " 'dti_core',\n",
       " 'dti_delta',\n",
       " 'delinq_2yrs_core',\n",
       " 'delinq_2yrs_delta',\n",
       " 'revol_util_0',\n",
       " 'revol_util_core',\n",
       " 'revol_util_delta',\n",
       " 'total_acc_core',\n",
       " 'total_acc_delta',\n",
       " 'longest_credit_length_core',\n",
       " 'longest_credit_length_delta',\n",
       " 'term_60months',\n",
       " 'verified',\n",
       " 'emp_length_missing',\n",
       " 'home_ownership_3cat']"
      ]
     },
     "execution_count": 81,
     "metadata": {},
     "output_type": "execute_result"
    }
   ],
   "source": [
    "x_trans"
   ]
  },
  {
   "cell_type": "markdown",
   "metadata": {},
   "source": [
    "We not fit a new set of models using AutoML"
   ]
  },
  {
   "cell_type": "code",
   "execution_count": 82,
   "metadata": {},
   "outputs": [
    {
     "name": "stdout",
     "output_type": "stream",
     "text": [
      "AutoML progress: |████████████████████████████████████████████████████████| 100%\n"
     ]
    }
   ],
   "source": [
    "aml_trans = H2OAutoML(max_models = 6, exclude_algos = ['DeepLearning'])\n",
    "aml_trans.train(x = x_trans, y = y, training_frame = train)"
   ]
  },
  {
   "cell_type": "code",
   "execution_count": 83,
   "metadata": {},
   "outputs": [
    {
     "data": {
      "text/html": [
       "<table>\n",
       "<thead>\n",
       "<tr><th>model_id                                           </th><th style=\"text-align: right;\">     auc</th><th style=\"text-align: right;\">  logloss</th><th style=\"text-align: right;\">  mean_per_class_error</th><th style=\"text-align: right;\">    rmse</th><th style=\"text-align: right;\">     mse</th></tr>\n",
       "</thead>\n",
       "<tbody>\n",
       "<tr><td>StackedEnsemble_AllModels_AutoML_20190810_030023   </td><td style=\"text-align: right;\">0.683187</td><td style=\"text-align: right;\"> 0.445311</td><td style=\"text-align: right;\">              0.366106</td><td style=\"text-align: right;\">0.374137</td><td style=\"text-align: right;\">0.139979</td></tr>\n",
       "<tr><td>StackedEnsemble_BestOfFamily_AutoML_20190810_030023</td><td style=\"text-align: right;\">0.682768</td><td style=\"text-align: right;\"> 0.445429</td><td style=\"text-align: right;\">              0.366194</td><td style=\"text-align: right;\">0.374178</td><td style=\"text-align: right;\">0.140009</td></tr>\n",
       "<tr><td>GBM_1_AutoML_20190810_030023                       </td><td style=\"text-align: right;\">0.682335</td><td style=\"text-align: right;\"> 0.44421 </td><td style=\"text-align: right;\">              0.366826</td><td style=\"text-align: right;\">0.37384 </td><td style=\"text-align: right;\">0.139756</td></tr>\n",
       "<tr><td>XGBoost_3_AutoML_20190810_030023                   </td><td style=\"text-align: right;\">0.680107</td><td style=\"text-align: right;\"> 0.445485</td><td style=\"text-align: right;\">              0.368822</td><td style=\"text-align: right;\">0.374131</td><td style=\"text-align: right;\">0.139974</td></tr>\n",
       "<tr><td>XGBoost_1_AutoML_20190810_030023                   </td><td style=\"text-align: right;\">0.678347</td><td style=\"text-align: right;\"> 0.445413</td><td style=\"text-align: right;\">              0.372374</td><td style=\"text-align: right;\">0.374431</td><td style=\"text-align: right;\">0.140199</td></tr>\n",
       "<tr><td>GLM_grid_1_AutoML_20190810_030023_model_1          </td><td style=\"text-align: right;\">0.67685 </td><td style=\"text-align: right;\"> 0.445642</td><td style=\"text-align: right;\">              0.371519</td><td style=\"text-align: right;\">0.374368</td><td style=\"text-align: right;\">0.140151</td></tr>\n",
       "<tr><td>XGBoost_2_AutoML_20190810_030023                   </td><td style=\"text-align: right;\">0.673935</td><td style=\"text-align: right;\"> 0.447162</td><td style=\"text-align: right;\">              0.373206</td><td style=\"text-align: right;\">0.375148</td><td style=\"text-align: right;\">0.140736</td></tr>\n",
       "<tr><td>DRF_1_AutoML_20190810_030023                       </td><td style=\"text-align: right;\">0.662424</td><td style=\"text-align: right;\"> 0.452211</td><td style=\"text-align: right;\">              0.383423</td><td style=\"text-align: right;\">0.377208</td><td style=\"text-align: right;\">0.142286</td></tr>\n",
       "</tbody>\n",
       "</table>"
      ]
     },
     "metadata": {},
     "output_type": "display_data"
    },
    {
     "name": "stdout",
     "output_type": "stream",
     "text": [
      "\n"
     ]
    }
   ],
   "source": [
    "print(aml_trans.leaderboard)"
   ]
  },
  {
   "cell_type": "code",
   "execution_count": 84,
   "metadata": {},
   "outputs": [
    {
     "data": {
      "image/png": "[encoded data removed]",
      "text/plain": [
       "<Figure size 1008x720 with 1 Axes>"
      ]
     },
     "metadata": {
      "needs_background": "light"
     },
     "output_type": "display_data"
    }
   ],
   "source": [
    "best_model_trans = h2o.get_model(aml_trans.leaderboard[2,'model_id'])\n",
    "best_model_trans.varimp_plot()"
   ]
  },
  {
   "cell_type": "code",
   "execution_count": 86,
   "metadata": {},
   "outputs": [
    {
     "name": "stdout",
     "output_type": "stream",
     "text": [
      "AUC (orig): train = 0.7139, xval = 0.6823\n"
     ]
    }
   ],
   "source": [
    "print(\"AUC (orig): train = {:.4f}, xval = {:.4f}\" \\\n",
    "      .format(best_model_trans.auc(train = True),\n",
    "              best_model_trans.auc(xval = True)))"
   ]
  },
  {
   "cell_type": "markdown",
   "metadata": {},
   "source": [
    "# Step 6 (of 6). Shutdown H2O Cluster"
   ]
  },
  {
   "cell_type": "code",
   "execution_count": 316,
   "metadata": {},
   "outputs": [
    {
     "name": "stdout",
     "output_type": "stream",
     "text": [
      "H2O session _sid_9b86 closed.\n"
     ]
    }
   ],
   "source": [
    "h2o.cluster().shutdown()"
   ]
  }
 ],
 "metadata": {
  "kernelspec": {
   "display_name": "Python 3",
   "language": "python",
   "name": "python3"
  },
  "language_info": {
   "codemirror_mode": {
    "name": "ipython",
    "version": 3
   },
   "file_extension": ".py",
   "mimetype": "text/x-python",
   "name": "python",
   "nbconvert_exporter": "python",
   "pygments_lexer": "ipython3",
   "version": "3.6.8"
  }
 },
 "nbformat": 4,
 "nbformat_minor": 2
}
