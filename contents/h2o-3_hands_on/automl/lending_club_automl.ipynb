{
 "cells": [
  {
   "cell_type": "markdown",
   "metadata": {},
   "source": [
    "# Lending Club Analysis Using AutoML\n",
    "\n",
    "In this tutorial, we will go through a step-by-step workflow to build models using AML to determine loan deliquency. We will make predictions based only on the information available at the time the loan was issued.  The data for this exercise come from the public Lending Club data set, a description can be found [here](https://www.kaggle.com/pragyanbo/a-hitchhiker-s-guide-to-lending-club-loan-data/notebook).\n",
    "\n",
    "We will highlight data cleaning and feature engineering that will improve model performance."
   ]
  },
  {
   "cell_type": "markdown",
   "metadata": {},
   "source": [
    "## Workflow\n",
    "\n",
    "1. Start H2O-3 cluster\n",
    "2. Import data\n",
    "3. Build default models using H2O's AutoML\n",
    "4. Feature engineering\n",
    "5. Model training\n",
    "6. Examine model accuracy\n",
    "7. Interpret model\n",
    "8. Save and reuse model\n",
    "9. AutoML (optional)\n",
    "10. Stop H2O-3 cluster"
   ]
  },
  {
   "cell_type": "markdown",
   "metadata": {},
   "source": [
    "# Step 1. Start H2O Cluster"
   ]
  },
  {
   "cell_type": "code",
   "execution_count": 2,
   "metadata": {},
   "outputs": [
    {
     "name": "stdout",
     "output_type": "stream",
     "text": [
      "Checking whether there is an H2O instance running at http://localhost:54321 . connected.\n"
     ]
    },
    {
     "data": {
      "text/html": [
       "<div style=\"overflow:auto\"><table style=\"width:50%\"><tr><td>H2O cluster uptime:</td>\n",
       "<td>15 hours 43 mins</td></tr>\n",
       "<tr><td>H2O cluster timezone:</td>\n",
       "<td>America/Denver</td></tr>\n",
       "<tr><td>H2O data parsing timezone:</td>\n",
       "<td>UTC</td></tr>\n",
       "<tr><td>H2O cluster version:</td>\n",
       "<td>3.24.0.5</td></tr>\n",
       "<tr><td>H2O cluster version age:</td>\n",
       "<td>1 month and 20 days </td></tr>\n",
       "<tr><td>H2O cluster name:</td>\n",
       "<td>H2O_from_python_dwhiting_8e4dyf</td></tr>\n",
       "<tr><td>H2O cluster total nodes:</td>\n",
       "<td>1</td></tr>\n",
       "<tr><td>H2O cluster free memory:</td>\n",
       "<td>3.936 Gb</td></tr>\n",
       "<tr><td>H2O cluster total cores:</td>\n",
       "<td>8</td></tr>\n",
       "<tr><td>H2O cluster allowed cores:</td>\n",
       "<td>8</td></tr>\n",
       "<tr><td>H2O cluster status:</td>\n",
       "<td>locked, healthy</td></tr>\n",
       "<tr><td>H2O connection url:</td>\n",
       "<td>http://localhost:54321</td></tr>\n",
       "<tr><td>H2O connection proxy:</td>\n",
       "<td>None</td></tr>\n",
       "<tr><td>H2O internal security:</td>\n",
       "<td>False</td></tr>\n",
       "<tr><td>H2O API Extensions:</td>\n",
       "<td>Amazon S3, XGBoost, Algos, AutoML, Core V3, Core V4</td></tr>\n",
       "<tr><td>Python version:</td>\n",
       "<td>3.6.8 final</td></tr></table></div>"
      ],
      "text/plain": [
       "--------------------------  ---------------------------------------------------\n",
       "H2O cluster uptime:         15 hours 43 mins\n",
       "H2O cluster timezone:       America/Denver\n",
       "H2O data parsing timezone:  UTC\n",
       "H2O cluster version:        3.24.0.5\n",
       "H2O cluster version age:    1 month and 20 days\n",
       "H2O cluster name:           H2O_from_python_dwhiting_8e4dyf\n",
       "H2O cluster total nodes:    1\n",
       "H2O cluster free memory:    3.936 Gb\n",
       "H2O cluster total cores:    8\n",
       "H2O cluster allowed cores:  8\n",
       "H2O cluster status:         locked, healthy\n",
       "H2O connection url:         http://localhost:54321\n",
       "H2O connection proxy:\n",
       "H2O internal security:      False\n",
       "H2O API Extensions:         Amazon S3, XGBoost, Algos, AutoML, Core V3, Core V4\n",
       "Python version:             3.6.8 final\n",
       "--------------------------  ---------------------------------------------------"
      ]
     },
     "metadata": {},
     "output_type": "display_data"
    }
   ],
   "source": [
    "import h2o\n",
    "h2o.init(max_mem_size = \"6g\")"
   ]
  },
  {
   "cell_type": "markdown",
   "metadata": {},
   "source": [
    "# Step 2. Import Data\n",
    "\n",
    "This exploration of H2O will use a version of the Lending Club Loan Data that can be found on [Kaggle](https://www.kaggle.com/wendykan/lending-club-loan-data). This data consists of 15 variables:\n",
    "\n",
    "|  Id   | Column Name | Description |\n",
    "| --- | ----------- | ----------- |\n",
    "|   1 | loan_amnt   | Requested loan amount (US dollars) |\n",
    "|   2 | term        | Loan term length (months) |\n",
    "|   3 | int_rate    | Recommended interest rate |\n",
    "|   4 | emp_length  | Employment length (years) |\n",
    "|   5 | home_ownership| Housing status |\n",
    "|   6 | annual_inc  | Annual income (US dollars) |\n",
    "|   7 | purpose     | Purpose for the loan |\n",
    "|   8 | addr_state  | State of residence |\n",
    "|   9 | dti         | Debt to income ratio |\n",
    "|  10 | delinq_2yrs | Number of delinquencies in the past 2 years |\n",
    "|  11 | revol_util  | Percent of revolving credit line utilized |\n",
    "|  12 | total_acc   | Number of active accounts |\n",
    "|  13 | bad_loan    | Bad loan indicator |\n",
    "|  14 | longest_credit_length | Age of oldest active account |\n",
    "|  15 | verification_status | Income verification status |"
   ]
  },
  {
   "cell_type": "code",
   "execution_count": 137,
   "metadata": {},
   "outputs": [
    {
     "name": "stdout",
     "output_type": "stream",
     "text": [
      "Parse progress: |█████████████████████████████████████████████████████████| 100%\n"
     ]
    }
   ],
   "source": [
    "# https://s3-us-west-2.amazonaws.com/h2o-tutorials/data/topics/data/automl/loan.csv\n",
    "loans = h2o.import_file(\"../../data/automl/loan.csv\")\n",
    "loans[\"bad_loan\"] = loans[\"bad_loan\"].asfactor()"
   ]
  },
  {
   "cell_type": "code",
   "execution_count": 138,
   "metadata": {},
   "outputs": [
    {
     "name": "stdout",
     "output_type": "stream",
     "text": [
      "Rows:163987\n",
      "Cols:15\n",
      "\n",
      "\n"
     ]
    },
    {
     "data": {
      "text/html": [
       "<table>\n",
       "<thead>\n",
       "<tr><th>       </th><th>loan_amnt         </th><th>term     </th><th>int_rate          </th><th>emp_length        </th><th>home_ownership  </th><th>annual_inc        </th><th>purpose           </th><th>addr_state  </th><th>dti               </th><th>delinq_2yrs       </th><th>revol_util        </th><th>total_acc         </th><th>bad_loan  </th><th>longest_credit_length  </th><th>verification_status  </th></tr>\n",
       "</thead>\n",
       "<tbody>\n",
       "<tr><td>type   </td><td>int               </td><td>enum     </td><td>real              </td><td>int               </td><td>enum            </td><td>real              </td><td>enum              </td><td>enum        </td><td>real              </td><td>int               </td><td>real              </td><td>int               </td><td>enum      </td><td>int                    </td><td>enum                 </td></tr>\n",
       "<tr><td>mins   </td><td>500.0             </td><td>         </td><td>5.42              </td><td>0.0               </td><td>                </td><td>1896.0            </td><td>                  </td><td>            </td><td>0.0               </td><td>0.0               </td><td>0.0               </td><td>1.0               </td><td>          </td><td>0.0                    </td><td>                     </td></tr>\n",
       "<tr><td>mean   </td><td>13074.169141456336</td><td>         </td><td>13.715904065566173</td><td>5.68435293299533  </td><td>                </td><td>71915.67051974901 </td><td>                  </td><td>            </td><td>15.881530121290117</td><td>0.2273570060625282</td><td>54.07917280242258 </td><td>24.579733834274638</td><td>          </td><td>14.854273655448353     </td><td>                     </td></tr>\n",
       "<tr><td>maxs   </td><td>35000.0           </td><td>         </td><td>26.06             </td><td>10.0              </td><td>                </td><td>7141778.0         </td><td>                  </td><td>            </td><td>39.99             </td><td>29.0              </td><td>150.70000000000002</td><td>118.0             </td><td>          </td><td>65.0                   </td><td>                     </td></tr>\n",
       "<tr><td>sigma  </td><td>7993.556188734649 </td><td>         </td><td>4.391939870545795 </td><td>3.6106637311002365</td><td>                </td><td>59070.915654918244</td><td>                  </td><td>            </td><td>7.587668224192549 </td><td>0.6941679229284182</td><td>25.285366766770505</td><td>11.685190365910659</td><td>          </td><td>6.947732922546696      </td><td>                     </td></tr>\n",
       "<tr><td>zeros  </td><td>0                 </td><td>         </td><td>0                 </td><td>14248             </td><td>                </td><td>0                 </td><td>                  </td><td>            </td><td>270               </td><td>139459            </td><td>1562              </td><td>0                 </td><td>          </td><td>11                     </td><td>                     </td></tr>\n",
       "<tr><td>missing</td><td>0                 </td><td>0        </td><td>0                 </td><td>5804              </td><td>0               </td><td>4                 </td><td>0                 </td><td>0           </td><td>0                 </td><td>29                </td><td>193               </td><td>29                </td><td>0         </td><td>29                     </td><td>0                    </td></tr>\n",
       "<tr><td>0      </td><td>5000.0            </td><td>36 months</td><td>10.65             </td><td>10.0              </td><td>RENT            </td><td>24000.0           </td><td>credit_card       </td><td>AZ          </td><td>27.65             </td><td>0.0               </td><td>83.7              </td><td>9.0               </td><td>0         </td><td>26.0                   </td><td>verified             </td></tr>\n",
       "<tr><td>1      </td><td>2500.0            </td><td>60 months</td><td>15.27             </td><td>0.0               </td><td>RENT            </td><td>30000.0           </td><td>car               </td><td>GA          </td><td>1.0               </td><td>0.0               </td><td>9.4               </td><td>4.0               </td><td>1         </td><td>12.0                   </td><td>verified             </td></tr>\n",
       "<tr><td>2      </td><td>2400.0            </td><td>36 months</td><td>15.96             </td><td>10.0              </td><td>RENT            </td><td>12252.0           </td><td>small_business    </td><td>IL          </td><td>8.72              </td><td>0.0               </td><td>98.5              </td><td>10.0              </td><td>0         </td><td>10.0                   </td><td>not verified         </td></tr>\n",
       "<tr><td>3      </td><td>10000.0           </td><td>36 months</td><td>13.49             </td><td>10.0              </td><td>RENT            </td><td>49200.0           </td><td>other             </td><td>CA          </td><td>20.0              </td><td>0.0               </td><td>21.0              </td><td>37.0              </td><td>0         </td><td>15.0                   </td><td>verified             </td></tr>\n",
       "<tr><td>4      </td><td>5000.0            </td><td>36 months</td><td>7.9               </td><td>3.0               </td><td>RENT            </td><td>36000.0           </td><td>wedding           </td><td>AZ          </td><td>11.2              </td><td>0.0               </td><td>28.3              </td><td>12.0              </td><td>0         </td><td>7.0                    </td><td>verified             </td></tr>\n",
       "<tr><td>5      </td><td>3000.0            </td><td>36 months</td><td>18.64             </td><td>9.0               </td><td>RENT            </td><td>48000.0           </td><td>car               </td><td>CA          </td><td>5.3500000000000005</td><td>0.0               </td><td>87.5              </td><td>4.0               </td><td>0         </td><td>4.0                    </td><td>verified             </td></tr>\n",
       "<tr><td>6      </td><td>5600.0            </td><td>60 months</td><td>21.28             </td><td>4.0               </td><td>OWN             </td><td>40000.0           </td><td>small_business    </td><td>CA          </td><td>5.55              </td><td>0.0               </td><td>32.6              </td><td>13.0              </td><td>1         </td><td>7.0                    </td><td>verified             </td></tr>\n",
       "<tr><td>7      </td><td>5375.0            </td><td>60 months</td><td>12.69             </td><td>0.0               </td><td>RENT            </td><td>15000.0           </td><td>other             </td><td>TX          </td><td>18.08             </td><td>0.0               </td><td>36.5              </td><td>3.0               </td><td>1         </td><td>7.0                    </td><td>verified             </td></tr>\n",
       "<tr><td>8      </td><td>6500.0            </td><td>60 months</td><td>14.65             </td><td>5.0               </td><td>OWN             </td><td>72000.0           </td><td>debt_consolidation</td><td>AZ          </td><td>16.12             </td><td>0.0               </td><td>20.6              </td><td>23.0              </td><td>0         </td><td>13.0                   </td><td>not verified         </td></tr>\n",
       "<tr><td>9      </td><td>12000.0           </td><td>36 months</td><td>12.69             </td><td>10.0              </td><td>OWN             </td><td>75000.0           </td><td>debt_consolidation</td><td>CA          </td><td>10.78             </td><td>0.0               </td><td>67.10000000000001 </td><td>34.0              </td><td>0         </td><td>22.0                   </td><td>verified             </td></tr>\n",
       "</tbody>\n",
       "</table>"
      ]
     },
     "metadata": {},
     "output_type": "display_data"
    }
   ],
   "source": [
    "loans.describe()"
   ]
  },
  {
   "cell_type": "markdown",
   "metadata": {},
   "source": [
    "# Step 3. Train Default Models using H2O's AutoML"
   ]
  },
  {
   "cell_type": "markdown",
   "metadata": {},
   "source": [
    "Start by splitting the data into train and test sets"
   ]
  },
  {
   "cell_type": "code",
   "execution_count": 139,
   "metadata": {},
   "outputs": [],
   "source": [
    "train, test = loans.split_frame(seed=1234, ratios=[0.75])"
   ]
  },
  {
   "cell_type": "markdown",
   "metadata": {},
   "source": [
    "and train 6 models using all but the `DeepLearning` algorithms"
   ]
  },
  {
   "cell_type": "code",
   "execution_count": null,
   "metadata": {},
   "outputs": [
    {
     "name": "stdout",
     "output_type": "stream",
     "text": [
      "AutoML progress: |██"
     ]
    }
   ],
   "source": [
    "# Set target and predictor variables\n",
    "y = \"bad_loan\"\n",
    "x = train.col_names\n",
    "x.remove(y)\n",
    "x.remove(\"int_rate\")\n",
    "\n",
    "# Use Auto ML to train models\n",
    "from h2o.automl import H2OAutoML\n",
    "aml = H2OAutoML(max_models = 6, exclude_algos = ['DeepLearning'])\n",
    "aml.train(x = x, y = y, training_frame = train)"
   ]
  },
  {
   "cell_type": "markdown",
   "metadata": {},
   "source": [
    "Print out a leaderboard with the 6 best models and two ensembles: a stacked ensemble of all models, and a best-of-family stacked ensemble:"
   ]
  },
  {
   "cell_type": "code",
   "execution_count": 6,
   "metadata": {},
   "outputs": [
    {
     "data": {
      "text/html": [
       "<table>\n",
       "<thead>\n",
       "<tr><th>model_id                                           </th><th style=\"text-align: right;\">     auc</th><th style=\"text-align: right;\">  logloss</th><th style=\"text-align: right;\">  mean_per_class_error</th><th style=\"text-align: right;\">    rmse</th><th style=\"text-align: right;\">     mse</th></tr>\n",
       "</thead>\n",
       "<tbody>\n",
       "<tr><td>StackedEnsemble_AllModels_AutoML_20190808_225528   </td><td style=\"text-align: right;\">0.685467</td><td style=\"text-align: right;\"> 0.44476 </td><td style=\"text-align: right;\">              0.365936</td><td style=\"text-align: right;\">0.373917</td><td style=\"text-align: right;\">0.139814</td></tr>\n",
       "<tr><td>StackedEnsemble_BestOfFamily_AutoML_20190808_225528</td><td style=\"text-align: right;\">0.685411</td><td style=\"text-align: right;\"> 0.444813</td><td style=\"text-align: right;\">              0.365647</td><td style=\"text-align: right;\">0.373942</td><td style=\"text-align: right;\">0.139833</td></tr>\n",
       "<tr><td>GBM_1_AutoML_20190808_225528                       </td><td style=\"text-align: right;\">0.682965</td><td style=\"text-align: right;\"> 0.443931</td><td style=\"text-align: right;\">              0.368204</td><td style=\"text-align: right;\">0.373709</td><td style=\"text-align: right;\">0.139659</td></tr>\n",
       "<tr><td>XGBoost_1_AutoML_20190808_225528                   </td><td style=\"text-align: right;\">0.681806</td><td style=\"text-align: right;\"> 0.444222</td><td style=\"text-align: right;\">              0.367795</td><td style=\"text-align: right;\">0.373883</td><td style=\"text-align: right;\">0.139789</td></tr>\n",
       "<tr><td>XGBoost_3_AutoML_20190808_225528                   </td><td style=\"text-align: right;\">0.678912</td><td style=\"text-align: right;\"> 0.446005</td><td style=\"text-align: right;\">              0.370638</td><td style=\"text-align: right;\">0.374385</td><td style=\"text-align: right;\">0.140164</td></tr>\n",
       "<tr><td>XGBoost_2_AutoML_20190808_225528                   </td><td style=\"text-align: right;\">0.67563 </td><td style=\"text-align: right;\"> 0.446593</td><td style=\"text-align: right;\">              0.373523</td><td style=\"text-align: right;\">0.374935</td><td style=\"text-align: right;\">0.140576</td></tr>\n",
       "<tr><td>GLM_grid_1_AutoML_20190808_225528_model_1          </td><td style=\"text-align: right;\">0.674163</td><td style=\"text-align: right;\"> 0.447619</td><td style=\"text-align: right;\">              0.373453</td><td style=\"text-align: right;\">0.374973</td><td style=\"text-align: right;\">0.140605</td></tr>\n",
       "<tr><td>DRF_1_AutoML_20190808_225528                       </td><td style=\"text-align: right;\">0.662111</td><td style=\"text-align: right;\"> 0.452901</td><td style=\"text-align: right;\">              0.382917</td><td style=\"text-align: right;\">0.377223</td><td style=\"text-align: right;\">0.142298</td></tr>\n",
       "</tbody>\n",
       "</table>"
      ]
     },
     "metadata": {},
     "output_type": "display_data"
    },
    {
     "name": "stdout",
     "output_type": "stream",
     "text": [
      "\n"
     ]
    }
   ],
   "source": [
    "print(aml.leaderboard)"
   ]
  },
  {
   "cell_type": "markdown",
   "metadata": {},
   "source": [
    "As is often the case, the stacked ensemble models are among the best in performance."
   ]
  },
  {
   "cell_type": "markdown",
   "metadata": {},
   "source": [
    "## Examine the Top Model\n",
    "\n",
    "The `aml.leader` call automatically pulls out the top model"
   ]
  },
  {
   "cell_type": "code",
   "execution_count": 116,
   "metadata": {},
   "outputs": [],
   "source": [
    "top_model = aml.leader"
   ]
  },
  {
   "cell_type": "markdown",
   "metadata": {},
   "source": [
    "Details for training and cross-validated data are contained in `aml.leader`"
   ]
  },
  {
   "cell_type": "code",
   "execution_count": 117,
   "metadata": {},
   "outputs": [
    {
     "name": "stdout",
     "output_type": "stream",
     "text": [
      "Model Details\n",
      "=============\n",
      "H2OStackedEnsembleEstimator :  Stacked Ensemble\n",
      "Model Key:  StackedEnsemble_AllModels_AutoML_20190808_225528\n",
      "No model summary for this model\n",
      "\n",
      "\n",
      "ModelMetricsBinomialGLM: stackedensemble\n",
      "** Reported on train data. **\n",
      "\n",
      "MSE: 0.12155210694925653\n",
      "RMSE: 0.34864323734909375\n",
      "LogLoss: 0.39315367187947914\n",
      "Null degrees of freedom: 163986\n",
      "Residual degrees of freedom: 163980\n",
      "Null deviance: 156105.9051269596\n",
      "Residual deviance: 128944.18238100028\n",
      "AIC: 128958.18238100028\n",
      "AUC: 0.8196672777894809\n",
      "pr_auc: 0.5339009562263869\n",
      "Gini: 0.6393345555789618\n",
      "Confusion Matrix (Act/Pred) for max f1 @ threshold = 0.2163765401037117: \n"
     ]
    },
    {
     "data": {
      "text/html": [
       "<div style=\"overflow:auto\"><table style=\"width:50%\"><tr><td><b></b></td>\n",
       "<td><b>0</b></td>\n",
       "<td><b>1</b></td>\n",
       "<td><b>Error</b></td>\n",
       "<td><b>Rate</b></td></tr>\n",
       "<tr><td>0</td>\n",
       "<td>111426.0</td>\n",
       "<td>22545.0</td>\n",
       "<td>0.1683</td>\n",
       "<td> (22545.0/133971.0)</td></tr>\n",
       "<tr><td>1</td>\n",
       "<td>11634.0</td>\n",
       "<td>18382.0</td>\n",
       "<td>0.3876</td>\n",
       "<td> (11634.0/30016.0)</td></tr>\n",
       "<tr><td>Total</td>\n",
       "<td>123060.0</td>\n",
       "<td>40927.0</td>\n",
       "<td>0.2084</td>\n",
       "<td> (34179.0/163987.0)</td></tr></table></div>"
      ],
      "text/plain": [
       "       0       1      Error    Rate\n",
       "-----  ------  -----  -------  ------------------\n",
       "0      111426  22545  0.1683   (22545.0/133971.0)\n",
       "1      11634   18382  0.3876   (11634.0/30016.0)\n",
       "Total  123060  40927  0.2084   (34179.0/163987.0)"
      ]
     },
     "metadata": {},
     "output_type": "display_data"
    },
    {
     "name": "stdout",
     "output_type": "stream",
     "text": [
      "Maximum Metrics: Maximum metrics at their respective thresholds\n",
      "\n"
     ]
    },
    {
     "data": {
      "text/html": [
       "<div style=\"overflow:auto\"><table style=\"width:50%\"><tr><td><b>metric</b></td>\n",
       "<td><b>threshold</b></td>\n",
       "<td><b>value</b></td>\n",
       "<td><b>idx</b></td></tr>\n",
       "<tr><td>max f1</td>\n",
       "<td>0.2163765</td>\n",
       "<td>0.5182189</td>\n",
       "<td>238.0</td></tr>\n",
       "<tr><td>max f2</td>\n",
       "<td>0.1454580</td>\n",
       "<td>0.6428073</td>\n",
       "<td>309.0</td></tr>\n",
       "<tr><td>max f0point5</td>\n",
       "<td>0.3024345</td>\n",
       "<td>0.5218142</td>\n",
       "<td>177.0</td></tr>\n",
       "<tr><td>max accuracy</td>\n",
       "<td>0.3794515</td>\n",
       "<td>0.8398044</td>\n",
       "<td>133.0</td></tr>\n",
       "<tr><td>max precision</td>\n",
       "<td>0.9147820</td>\n",
       "<td>1.0</td>\n",
       "<td>0.0</td></tr>\n",
       "<tr><td>max recall</td>\n",
       "<td>0.0830701</td>\n",
       "<td>1.0</td>\n",
       "<td>388.0</td></tr>\n",
       "<tr><td>max specificity</td>\n",
       "<td>0.9147820</td>\n",
       "<td>1.0</td>\n",
       "<td>0.0</td></tr>\n",
       "<tr><td>max absolute_mcc</td>\n",
       "<td>0.2294986</td>\n",
       "<td>0.3977791</td>\n",
       "<td>227.0</td></tr>\n",
       "<tr><td>max min_per_class_accuracy</td>\n",
       "<td>0.1814462</td>\n",
       "<td>0.7370625</td>\n",
       "<td>270.0</td></tr>\n",
       "<tr><td>max mean_per_class_accuracy</td>\n",
       "<td>0.1784899</td>\n",
       "<td>0.7378046</td>\n",
       "<td>273.0</td></tr></table></div>"
      ],
      "text/plain": [
       "metric                       threshold    value     idx\n",
       "---------------------------  -----------  --------  -----\n",
       "max f1                       0.216377     0.518219  238\n",
       "max f2                       0.145458     0.642807  309\n",
       "max f0point5                 0.302434     0.521814  177\n",
       "max accuracy                 0.379451     0.839804  133\n",
       "max precision                0.914782     1         0\n",
       "max recall                   0.0830701    1         388\n",
       "max specificity              0.914782     1         0\n",
       "max absolute_mcc             0.229499     0.397779  227\n",
       "max min_per_class_accuracy   0.181446     0.737062  270\n",
       "max mean_per_class_accuracy  0.17849      0.737805  273"
      ]
     },
     "metadata": {},
     "output_type": "display_data"
    },
    {
     "name": "stdout",
     "output_type": "stream",
     "text": [
      "Gains/Lift Table: Avg response rate: 18.30 %, avg score: 18.41 %\n",
      "\n"
     ]
    },
    {
     "data": {
      "text/html": [
       "<div style=\"overflow:auto\"><table style=\"width:50%\"><tr><td><b></b></td>\n",
       "<td><b>group</b></td>\n",
       "<td><b>cumulative_data_fraction</b></td>\n",
       "<td><b>lower_threshold</b></td>\n",
       "<td><b>lift</b></td>\n",
       "<td><b>cumulative_lift</b></td>\n",
       "<td><b>response_rate</b></td>\n",
       "<td><b>score</b></td>\n",
       "<td><b>cumulative_response_rate</b></td>\n",
       "<td><b>cumulative_score</b></td>\n",
       "<td><b>capture_rate</b></td>\n",
       "<td><b>cumulative_capture_rate</b></td>\n",
       "<td><b>gain</b></td>\n",
       "<td><b>cumulative_gain</b></td></tr>\n",
       "<tr><td></td>\n",
       "<td>1</td>\n",
       "<td>0.0100008</td>\n",
       "<td>0.5908009</td>\n",
       "<td>4.9669570</td>\n",
       "<td>4.9669570</td>\n",
       "<td>0.9091463</td>\n",
       "<td>0.6646050</td>\n",
       "<td>0.9091463</td>\n",
       "<td>0.6646050</td>\n",
       "<td>0.0496735</td>\n",
       "<td>0.0496735</td>\n",
       "<td>396.6956993</td>\n",
       "<td>396.6956993</td></tr>\n",
       "<tr><td></td>\n",
       "<td>2</td>\n",
       "<td>0.0200016</td>\n",
       "<td>0.5226315</td>\n",
       "<td>4.1741094</td>\n",
       "<td>4.5705332</td>\n",
       "<td>0.7640244</td>\n",
       "<td>0.5536160</td>\n",
       "<td>0.8365854</td>\n",
       "<td>0.6091105</td>\n",
       "<td>0.0417444</td>\n",
       "<td>0.0914179</td>\n",
       "<td>317.4109398</td>\n",
       "<td>357.0533195</td></tr>\n",
       "<tr><td></td>\n",
       "<td>3</td>\n",
       "<td>0.0300024</td>\n",
       "<td>0.4778882</td>\n",
       "<td>3.7410414</td>\n",
       "<td>4.2940359</td>\n",
       "<td>0.6847561</td>\n",
       "<td>0.4994604</td>\n",
       "<td>0.7859756</td>\n",
       "<td>0.5725605</td>\n",
       "<td>0.0374134</td>\n",
       "<td>0.1288313</td>\n",
       "<td>274.1041384</td>\n",
       "<td>329.4035925</td></tr>\n",
       "<tr><td></td>\n",
       "<td>4</td>\n",
       "<td>0.0400032</td>\n",
       "<td>0.4440654</td>\n",
       "<td>3.4345625</td>\n",
       "<td>4.0791676</td>\n",
       "<td>0.6286585</td>\n",
       "<td>0.4603880</td>\n",
       "<td>0.7466463</td>\n",
       "<td>0.5445174</td>\n",
       "<td>0.0343483</td>\n",
       "<td>0.1631796</td>\n",
       "<td>243.4562481</td>\n",
       "<td>307.9167564</td></tr>\n",
       "<tr><td></td>\n",
       "<td>5</td>\n",
       "<td>0.0500040</td>\n",
       "<td>0.4172408</td>\n",
       "<td>3.1913781</td>\n",
       "<td>3.9016097</td>\n",
       "<td>0.5841463</td>\n",
       "<td>0.4299212</td>\n",
       "<td>0.7141463</td>\n",
       "<td>0.5215981</td>\n",
       "<td>0.0319163</td>\n",
       "<td>0.1950959</td>\n",
       "<td>219.1378135</td>\n",
       "<td>290.1609678</td></tr>\n",
       "<tr><td></td>\n",
       "<td>6</td>\n",
       "<td>0.1000018</td>\n",
       "<td>0.3271749</td>\n",
       "<td>2.6946779</td>\n",
       "<td>3.2981806</td>\n",
       "<td>0.4932309</td>\n",
       "<td>0.3670592</td>\n",
       "<td>0.6036953</td>\n",
       "<td>0.4443334</td>\n",
       "<td>0.1347281</td>\n",
       "<td>0.3298241</td>\n",
       "<td>169.4677926</td>\n",
       "<td>229.8180601</td></tr>\n",
       "<tr><td></td>\n",
       "<td>7</td>\n",
       "<td>0.1499997</td>\n",
       "<td>0.2756184</td>\n",
       "<td>2.2269074</td>\n",
       "<td>2.9411041</td>\n",
       "<td>0.4076107</td>\n",
       "<td>0.2992430</td>\n",
       "<td>0.5383365</td>\n",
       "<td>0.3959719</td>\n",
       "<td>0.1113406</td>\n",
       "<td>0.4411647</td>\n",
       "<td>122.6907425</td>\n",
       "<td>194.1104059</td></tr>\n",
       "<tr><td></td>\n",
       "<td>8</td>\n",
       "<td>0.2000037</td>\n",
       "<td>0.2407122</td>\n",
       "<td>1.8788489</td>\n",
       "<td>2.6755241</td>\n",
       "<td>0.3439024</td>\n",
       "<td>0.2569443</td>\n",
       "<td>0.4897250</td>\n",
       "<td>0.3612129</td>\n",
       "<td>0.0939499</td>\n",
       "<td>0.5351146</td>\n",
       "<td>87.8848923</td>\n",
       "<td>167.5524081</td></tr>\n",
       "<tr><td></td>\n",
       "<td>9</td>\n",
       "<td>0.2999994</td>\n",
       "<td>0.1964996</td>\n",
       "<td>1.4492889</td>\n",
       "<td>2.2667957</td>\n",
       "<td>0.2652763</td>\n",
       "<td>0.2165781</td>\n",
       "<td>0.4149118</td>\n",
       "<td>0.3130032</td>\n",
       "<td>0.1449227</td>\n",
       "<td>0.6800373</td>\n",
       "<td>44.9288944</td>\n",
       "<td>126.6795652</td></tr>\n",
       "<tr><td></td>\n",
       "<td>10</td>\n",
       "<td>0.4000012</td>\n",
       "<td>0.1682034</td>\n",
       "<td>1.0490880</td>\n",
       "<td>1.9623641</td>\n",
       "<td>0.1920239</td>\n",
       "<td>0.1814149</td>\n",
       "<td>0.3591890</td>\n",
       "<td>0.2801056</td>\n",
       "<td>0.1049107</td>\n",
       "<td>0.7849480</td>\n",
       "<td>4.9087951</td>\n",
       "<td>96.2364086</td></tr>\n",
       "<tr><td></td>\n",
       "<td>11</td>\n",
       "<td>0.5000030</td>\n",
       "<td>0.1478351</td>\n",
       "<td>0.8032236</td>\n",
       "<td>1.7305332</td>\n",
       "<td>0.1470212</td>\n",
       "<td>0.1576330</td>\n",
       "<td>0.3167549</td>\n",
       "<td>0.2556108</td>\n",
       "<td>0.0803238</td>\n",
       "<td>0.8652719</td>\n",
       "<td>-19.6776421</td>\n",
       "<td>73.0533157</td></tr>\n",
       "<tr><td></td>\n",
       "<td>12</td>\n",
       "<td>0.5999988</td>\n",
       "<td>0.1316976</td>\n",
       "<td>0.5903770</td>\n",
       "<td>1.5405149</td>\n",
       "<td>0.1080620</td>\n",
       "<td>0.1394907</td>\n",
       "<td>0.2819741</td>\n",
       "<td>0.2362583</td>\n",
       "<td>0.0590352</td>\n",
       "<td>0.9243070</td>\n",
       "<td>-40.9622987</td>\n",
       "<td>54.0514858</td></tr>\n",
       "<tr><td></td>\n",
       "<td>13</td>\n",
       "<td>0.7000006</td>\n",
       "<td>0.1185530</td>\n",
       "<td>0.4024447</td>\n",
       "<td>1.3779306</td>\n",
       "<td>0.0736630</td>\n",
       "<td>0.1249968</td>\n",
       "<td>0.2522149</td>\n",
       "<td>0.2203635</td>\n",
       "<td>0.0402452</td>\n",
       "<td>0.9645522</td>\n",
       "<td>-59.7555337</td>\n",
       "<td>37.7930569</td></tr>\n",
       "<tr><td></td>\n",
       "<td>14</td>\n",
       "<td>0.7999963</td>\n",
       "<td>0.1064429</td>\n",
       "<td>0.2352179</td>\n",
       "<td>1.2350969</td>\n",
       "<td>0.0430540</td>\n",
       "<td>0.1124481</td>\n",
       "<td>0.2260708</td>\n",
       "<td>0.2068746</td>\n",
       "<td>0.0235208</td>\n",
       "<td>0.9880730</td>\n",
       "<td>-76.4782070</td>\n",
       "<td>23.5096933</td></tr>\n",
       "<tr><td></td>\n",
       "<td>15</td>\n",
       "<td>0.8999982</td>\n",
       "<td>0.0940575</td>\n",
       "<td>0.0986123</td>\n",
       "<td>1.1088183</td>\n",
       "<td>0.0180499</td>\n",
       "<td>0.1004053</td>\n",
       "<td>0.2029569</td>\n",
       "<td>0.1950444</td>\n",
       "<td>0.0098614</td>\n",
       "<td>0.9979344</td>\n",
       "<td>-90.1387732</td>\n",
       "<td>10.8818293</td></tr>\n",
       "<tr><td></td>\n",
       "<td>16</td>\n",
       "<td>1.0</td>\n",
       "<td>0.0669772</td>\n",
       "<td>0.0206553</td>\n",
       "<td>1.0</td>\n",
       "<td>0.0037807</td>\n",
       "<td>0.0855102</td>\n",
       "<td>0.1830389</td>\n",
       "<td>0.1840908</td>\n",
       "<td>0.0020656</td>\n",
       "<td>1.0</td>\n",
       "<td>-97.9344728</td>\n",
       "<td>0.0</td></tr></table></div>"
      ],
      "text/plain": [
       "    group    cumulative_data_fraction    lower_threshold    lift       cumulative_lift    response_rate    score      cumulative_response_rate    cumulative_score    capture_rate    cumulative_capture_rate    gain      cumulative_gain\n",
       "--  -------  --------------------------  -----------------  ---------  -----------------  ---------------  ---------  --------------------------  ------------------  --------------  -------------------------  --------  -----------------\n",
       "    1        0.0100008                   0.590801           4.96696    4.96696            0.909146         0.664605   0.909146                    0.664605            0.0496735       0.0496735                  396.696   396.696\n",
       "    2        0.0200016                   0.522631           4.17411    4.57053            0.764024         0.553616   0.836585                    0.609111            0.0417444       0.0914179                  317.411   357.053\n",
       "    3        0.0300024                   0.477888           3.74104    4.29404            0.684756         0.49946    0.785976                    0.57256             0.0374134       0.128831                   274.104   329.404\n",
       "    4        0.0400032                   0.444065           3.43456    4.07917            0.628659         0.460388   0.746646                    0.544517            0.0343483       0.16318                    243.456   307.917\n",
       "    5        0.050004                    0.417241           3.19138    3.90161            0.584146         0.429921   0.714146                    0.521598            0.0319163       0.195096                   219.138   290.161\n",
       "    6        0.100002                    0.327175           2.69468    3.29818            0.493231         0.367059   0.603695                    0.444333            0.134728        0.329824                   169.468   229.818\n",
       "    7        0.15                        0.275618           2.22691    2.9411             0.407611         0.299243   0.538336                    0.395972            0.111341        0.441165                   122.691   194.11\n",
       "    8        0.200004                    0.240712           1.87885    2.67552            0.343902         0.256944   0.489725                    0.361213            0.0939499       0.535115                   87.8849   167.552\n",
       "    9        0.299999                    0.1965             1.44929    2.2668             0.265276         0.216578   0.414912                    0.313003            0.144923        0.680037                   44.9289   126.68\n",
       "    10       0.400001                    0.168203           1.04909    1.96236            0.192024         0.181415   0.359189                    0.280106            0.104911        0.784948                   4.9088    96.2364\n",
       "    11       0.500003                    0.147835           0.803224   1.73053            0.147021         0.157633   0.316755                    0.255611            0.0803238       0.865272                   -19.6776  73.0533\n",
       "    12       0.599999                    0.131698           0.590377   1.54051            0.108062         0.139491   0.281974                    0.236258            0.0590352       0.924307                   -40.9623  54.0515\n",
       "    13       0.700001                    0.118553           0.402445   1.37793            0.073663         0.124997   0.252215                    0.220363            0.0402452       0.964552                   -59.7555  37.7931\n",
       "    14       0.799996                    0.106443           0.235218   1.2351             0.043054         0.112448   0.226071                    0.206875            0.0235208       0.988073                   -76.4782  23.5097\n",
       "    15       0.899998                    0.0940575          0.0986123  1.10882            0.0180499        0.100405   0.202957                    0.195044            0.00986141      0.997934                   -90.1388  10.8818\n",
       "    16       1                           0.0669772          0.0206553  1                  0.00378072       0.0855102  0.183039                    0.184091            0.00206557      1                          -97.9345  0"
      ]
     },
     "metadata": {},
     "output_type": "display_data"
    },
    {
     "name": "stdout",
     "output_type": "stream",
     "text": [
      "\n",
      "\n",
      "ModelMetricsBinomialGLM: stackedensemble\n",
      "** Reported on cross-validation data. **\n",
      "\n",
      "MSE: 0.1398137511644722\n",
      "RMSE: 0.3739167703707233\n",
      "LogLoss: 0.44475962578858946\n",
      "Null degrees of freedom: 163986\n",
      "Residual degrees of freedom: 163980\n",
      "Null deviance: 156108.28406921943\n",
      "Residual deviance: 145869.59350838684\n",
      "AIC: 145883.59350838684\n",
      "AUC: 0.6854666266353685\n",
      "pr_auc: 0.3263185687715472\n",
      "Gini: 0.370933253270737\n",
      "Confusion Matrix (Act/Pred) for max f1 @ threshold = 0.17572714989946636: \n"
     ]
    },
    {
     "data": {
      "text/html": [
       "<div style=\"overflow:auto\"><table style=\"width:50%\"><tr><td><b></b></td>\n",
       "<td><b>0</b></td>\n",
       "<td><b>1</b></td>\n",
       "<td><b>Error</b></td>\n",
       "<td><b>Rate</b></td></tr>\n",
       "<tr><td>0</td>\n",
       "<td>90182.0</td>\n",
       "<td>43789.0</td>\n",
       "<td>0.3269</td>\n",
       "<td> (43789.0/133971.0)</td></tr>\n",
       "<tr><td>1</td>\n",
       "<td>12157.0</td>\n",
       "<td>17859.0</td>\n",
       "<td>0.405</td>\n",
       "<td> (12157.0/30016.0)</td></tr>\n",
       "<tr><td>Total</td>\n",
       "<td>102339.0</td>\n",
       "<td>61648.0</td>\n",
       "<td>0.3412</td>\n",
       "<td> (55946.0/163987.0)</td></tr></table></div>"
      ],
      "text/plain": [
       "       0       1      Error    Rate\n",
       "-----  ------  -----  -------  ------------------\n",
       "0      90182   43789  0.3269   (43789.0/133971.0)\n",
       "1      12157   17859  0.405    (12157.0/30016.0)\n",
       "Total  102339  61648  0.3412   (55946.0/163987.0)"
      ]
     },
     "metadata": {},
     "output_type": "display_data"
    },
    {
     "name": "stdout",
     "output_type": "stream",
     "text": [
      "Maximum Metrics: Maximum metrics at their respective thresholds\n",
      "\n"
     ]
    },
    {
     "data": {
      "text/html": [
       "<div style=\"overflow:auto\"><table style=\"width:50%\"><tr><td><b>metric</b></td>\n",
       "<td><b>threshold</b></td>\n",
       "<td><b>value</b></td>\n",
       "<td><b>idx</b></td></tr>\n",
       "<tr><td>max f1</td>\n",
       "<td>0.1757271</td>\n",
       "<td>0.3896622</td>\n",
       "<td>273.0</td></tr>\n",
       "<tr><td>max f2</td>\n",
       "<td>0.1190830</td>\n",
       "<td>0.5538489</td>\n",
       "<td>342.0</td></tr>\n",
       "<tr><td>max f0point5</td>\n",
       "<td>0.2622058</td>\n",
       "<td>0.3527610</td>\n",
       "<td>196.0</td></tr>\n",
       "<tr><td>max accuracy</td>\n",
       "<td>0.5853425</td>\n",
       "<td>0.8176563</td>\n",
       "<td>44.0</td></tr>\n",
       "<tr><td>max precision</td>\n",
       "<td>0.8673282</td>\n",
       "<td>0.8333333</td>\n",
       "<td>1.0</td></tr>\n",
       "<tr><td>max recall</td>\n",
       "<td>0.0718541</td>\n",
       "<td>1.0</td>\n",
       "<td>398.0</td></tr>\n",
       "<tr><td>max specificity</td>\n",
       "<td>0.8876881</td>\n",
       "<td>0.9999925</td>\n",
       "<td>0.0</td></tr>\n",
       "<tr><td>max absolute_mcc</td>\n",
       "<td>0.1927294</td>\n",
       "<td>0.2156227</td>\n",
       "<td>256.0</td></tr>\n",
       "<tr><td>max min_per_class_accuracy</td>\n",
       "<td>0.1666886</td>\n",
       "<td>0.6332289</td>\n",
       "<td>283.0</td></tr>\n",
       "<tr><td>max mean_per_class_accuracy</td>\n",
       "<td>0.1613332</td>\n",
       "<td>0.6346100</td>\n",
       "<td>289.0</td></tr></table></div>"
      ],
      "text/plain": [
       "metric                       threshold    value     idx\n",
       "---------------------------  -----------  --------  -----\n",
       "max f1                       0.175727     0.389662  273\n",
       "max f2                       0.119083     0.553849  342\n",
       "max f0point5                 0.262206     0.352761  196\n",
       "max accuracy                 0.585342     0.817656  44\n",
       "max precision                0.867328     0.833333  1\n",
       "max recall                   0.0718541    1         398\n",
       "max specificity              0.887688     0.999993  0\n",
       "max absolute_mcc             0.192729     0.215623  256\n",
       "max min_per_class_accuracy   0.166689     0.633229  283\n",
       "max mean_per_class_accuracy  0.161333     0.63461   289"
      ]
     },
     "metadata": {},
     "output_type": "display_data"
    },
    {
     "name": "stdout",
     "output_type": "stream",
     "text": [
      "Gains/Lift Table: Avg response rate: 18.30 %, avg score: 18.30 %\n",
      "\n"
     ]
    },
    {
     "data": {
      "text/html": [
       "<div style=\"overflow:auto\"><table style=\"width:50%\"><tr><td><b></b></td>\n",
       "<td><b>group</b></td>\n",
       "<td><b>cumulative_data_fraction</b></td>\n",
       "<td><b>lower_threshold</b></td>\n",
       "<td><b>lift</b></td>\n",
       "<td><b>cumulative_lift</b></td>\n",
       "<td><b>response_rate</b></td>\n",
       "<td><b>score</b></td>\n",
       "<td><b>cumulative_response_rate</b></td>\n",
       "<td><b>cumulative_score</b></td>\n",
       "<td><b>capture_rate</b></td>\n",
       "<td><b>cumulative_capture_rate</b></td>\n",
       "<td><b>gain</b></td>\n",
       "<td><b>cumulative_gain</b></td></tr>\n",
       "<tr><td></td>\n",
       "<td>1</td>\n",
       "<td>0.0100008</td>\n",
       "<td>0.5650123</td>\n",
       "<td>2.8848992</td>\n",
       "<td>2.8848992</td>\n",
       "<td>0.5280488</td>\n",
       "<td>0.6329172</td>\n",
       "<td>0.5280488</td>\n",
       "<td>0.6329172</td>\n",
       "<td>0.0288513</td>\n",
       "<td>0.0288513</td>\n",
       "<td>188.4899233</td>\n",
       "<td>188.4899233</td></tr>\n",
       "<tr><td></td>\n",
       "<td>2</td>\n",
       "<td>0.0200016</td>\n",
       "<td>0.5029464</td>\n",
       "<td>2.5417761</td>\n",
       "<td>2.7133377</td>\n",
       "<td>0.4652439</td>\n",
       "<td>0.5312941</td>\n",
       "<td>0.4966463</td>\n",
       "<td>0.5821056</td>\n",
       "<td>0.0254198</td>\n",
       "<td>0.0542711</td>\n",
       "<td>154.1776114</td>\n",
       "<td>171.3337673</td></tr>\n",
       "<tr><td></td>\n",
       "<td>3</td>\n",
       "<td>0.0300024</td>\n",
       "<td>0.4611168</td>\n",
       "<td>2.3319047</td>\n",
       "<td>2.5861933</td>\n",
       "<td>0.4268293</td>\n",
       "<td>0.4803523</td>\n",
       "<td>0.4733740</td>\n",
       "<td>0.5481878</td>\n",
       "<td>0.0233209</td>\n",
       "<td>0.0775920</td>\n",
       "<td>133.1904691</td>\n",
       "<td>158.6193346</td></tr>\n",
       "<tr><td></td>\n",
       "<td>4</td>\n",
       "<td>0.0400032</td>\n",
       "<td>0.4293690</td>\n",
       "<td>2.2253033</td>\n",
       "<td>2.4959708</td>\n",
       "<td>0.4073171</td>\n",
       "<td>0.4447256</td>\n",
       "<td>0.4568598</td>\n",
       "<td>0.5223223</td>\n",
       "<td>0.0222548</td>\n",
       "<td>0.0998467</td>\n",
       "<td>122.5303334</td>\n",
       "<td>149.5970843</td></tr>\n",
       "<tr><td></td>\n",
       "<td>5</td>\n",
       "<td>0.0500040</td>\n",
       "<td>0.4049302</td>\n",
       "<td>2.1353584</td>\n",
       "<td>2.4238484</td>\n",
       "<td>0.3908537</td>\n",
       "<td>0.4167366</td>\n",
       "<td>0.4436585</td>\n",
       "<td>0.5012052</td>\n",
       "<td>0.0213553</td>\n",
       "<td>0.1212020</td>\n",
       "<td>113.5358439</td>\n",
       "<td>142.3848362</td></tr>\n",
       "<tr><td></td>\n",
       "<td>6</td>\n",
       "<td>0.1000018</td>\n",
       "<td>0.3203451</td>\n",
       "<td>1.9190585</td>\n",
       "<td>2.1714688</td>\n",
       "<td>0.3512623</td>\n",
       "<td>0.3578671</td>\n",
       "<td>0.3974633</td>\n",
       "<td>0.4295405</td>\n",
       "<td>0.0959488</td>\n",
       "<td>0.2171509</td>\n",
       "<td>91.9058463</td>\n",
       "<td>117.1468804</td></tr>\n",
       "<tr><td></td>\n",
       "<td>7</td>\n",
       "<td>0.1499997</td>\n",
       "<td>0.2722008</td>\n",
       "<td>1.6751781</td>\n",
       "<td>2.0060453</td>\n",
       "<td>0.3066228</td>\n",
       "<td>0.2946032</td>\n",
       "<td>0.3671843</td>\n",
       "<td>0.3845632</td>\n",
       "<td>0.0837553</td>\n",
       "<td>0.3009062</td>\n",
       "<td>67.5178117</td>\n",
       "<td>100.6045300</td></tr>\n",
       "<tr><td></td>\n",
       "<td>8</td>\n",
       "<td>0.2000037</td>\n",
       "<td>0.2390819</td>\n",
       "<td>1.5070767</td>\n",
       "<td>1.8812955</td>\n",
       "<td>0.2758537</td>\n",
       "<td>0.2544411</td>\n",
       "<td>0.3443503</td>\n",
       "<td>0.3520307</td>\n",
       "<td>0.0753598</td>\n",
       "<td>0.3762660</td>\n",
       "<td>50.7076689</td>\n",
       "<td>88.1295541</td></tr>\n",
       "<tr><td></td>\n",
       "<td>9</td>\n",
       "<td>0.2999994</td>\n",
       "<td>0.1968364</td>\n",
       "<td>1.3196859</td>\n",
       "<td>1.6940999</td>\n",
       "<td>0.2415538</td>\n",
       "<td>0.2162608</td>\n",
       "<td>0.3100862</td>\n",
       "<td>0.3067759</td>\n",
       "<td>0.1319630</td>\n",
       "<td>0.5082289</td>\n",
       "<td>31.9685863</td>\n",
       "<td>69.4099925</td></tr>\n",
       "<tr><td></td>\n",
       "<td>10</td>\n",
       "<td>0.4000012</td>\n",
       "<td>0.1693808</td>\n",
       "<td>1.1057234</td>\n",
       "<td>1.5470035</td>\n",
       "<td>0.2023904</td>\n",
       "<td>0.1823343</td>\n",
       "<td>0.2831618</td>\n",
       "<td>0.2756651</td>\n",
       "<td>0.1105744</td>\n",
       "<td>0.6188033</td>\n",
       "<td>10.5723375</td>\n",
       "<td>54.7003545</td></tr>\n",
       "<tr><td></td>\n",
       "<td>11</td>\n",
       "<td>0.5000030</td>\n",
       "<td>0.1491636</td>\n",
       "<td>0.9604702</td>\n",
       "<td>1.4296954</td>\n",
       "<td>0.1758034</td>\n",
       "<td>0.1587769</td>\n",
       "<td>0.2616899</td>\n",
       "<td>0.2522871</td>\n",
       "<td>0.0960488</td>\n",
       "<td>0.7148521</td>\n",
       "<td>-3.9529831</td>\n",
       "<td>42.9695439</td></tr>\n",
       "<tr><td></td>\n",
       "<td>12</td>\n",
       "<td>0.5999988</td>\n",
       "<td>0.1331624</td>\n",
       "<td>0.8106023</td>\n",
       "<td>1.3265174</td>\n",
       "<td>0.1483718</td>\n",
       "<td>0.1408844</td>\n",
       "<td>0.2428043</td>\n",
       "<td>0.2337208</td>\n",
       "<td>0.0810568</td>\n",
       "<td>0.7959088</td>\n",
       "<td>-18.9397701</td>\n",
       "<td>32.6517444</td></tr>\n",
       "<tr><td></td>\n",
       "<td>13</td>\n",
       "<td>0.7000006</td>\n",
       "<td>0.1198973</td>\n",
       "<td>0.6986146</td>\n",
       "<td>1.2368155</td>\n",
       "<td>0.1278737</td>\n",
       "<td>0.1264077</td>\n",
       "<td>0.2263853</td>\n",
       "<td>0.2183901</td>\n",
       "<td>0.0698627</td>\n",
       "<td>0.8657716</td>\n",
       "<td>-30.1385382</td>\n",
       "<td>23.6815478</td></tr>\n",
       "<tr><td></td>\n",
       "<td>14</td>\n",
       "<td>0.7999963</td>\n",
       "<td>0.1076796</td>\n",
       "<td>0.5790492</td>\n",
       "<td>1.1545978</td>\n",
       "<td>0.1059885</td>\n",
       "<td>0.1137321</td>\n",
       "<td>0.2113363</td>\n",
       "<td>0.2053083</td>\n",
       "<td>0.0579025</td>\n",
       "<td>0.9236740</td>\n",
       "<td>-42.0950762</td>\n",
       "<td>15.4597831</td></tr>\n",
       "<tr><td></td>\n",
       "<td>15</td>\n",
       "<td>0.8999982</td>\n",
       "<td>0.0950977</td>\n",
       "<td>0.4640773</td>\n",
       "<td>1.0778718</td>\n",
       "<td>0.0849442</td>\n",
       "<td>0.1015281</td>\n",
       "<td>0.1972925</td>\n",
       "<td>0.1937769</td>\n",
       "<td>0.0464086</td>\n",
       "<td>0.9700826</td>\n",
       "<td>-53.5922669</td>\n",
       "<td>7.7871772</td></tr>\n",
       "<tr><td></td>\n",
       "<td>16</td>\n",
       "<td>1.0</td>\n",
       "<td>0.0669853</td>\n",
       "<td>0.2991683</td>\n",
       "<td>1.0</td>\n",
       "<td>0.0547594</td>\n",
       "<td>0.0864441</td>\n",
       "<td>0.1830389</td>\n",
       "<td>0.1830435</td>\n",
       "<td>0.0299174</td>\n",
       "<td>1.0</td>\n",
       "<td>-70.0831699</td>\n",
       "<td>0.0</td></tr></table></div>"
      ],
      "text/plain": [
       "    group    cumulative_data_fraction    lower_threshold    lift      cumulative_lift    response_rate    score      cumulative_response_rate    cumulative_score    capture_rate    cumulative_capture_rate    gain      cumulative_gain\n",
       "--  -------  --------------------------  -----------------  --------  -----------------  ---------------  ---------  --------------------------  ------------------  --------------  -------------------------  --------  -----------------\n",
       "    1        0.0100008                   0.565012           2.8849    2.8849             0.528049         0.632917   0.528049                    0.632917            0.0288513       0.0288513                  188.49    188.49\n",
       "    2        0.0200016                   0.502946           2.54178   2.71334            0.465244         0.531294   0.496646                    0.582106            0.0254198       0.0542711                  154.178   171.334\n",
       "    3        0.0300024                   0.461117           2.3319    2.58619            0.426829         0.480352   0.473374                    0.548188            0.0233209       0.077592                   133.19    158.619\n",
       "    4        0.0400032                   0.429369           2.2253    2.49597            0.407317         0.444726   0.45686                     0.522322            0.0222548       0.0998467                  122.53    149.597\n",
       "    5        0.050004                    0.40493            2.13536   2.42385            0.390854         0.416737   0.443659                    0.501205            0.0213553       0.121202                   113.536   142.385\n",
       "    6        0.100002                    0.320345           1.91906   2.17147            0.351262         0.357867   0.397463                    0.42954             0.0959488       0.217151                   91.9058   117.147\n",
       "    7        0.15                        0.272201           1.67518   2.00605            0.306623         0.294603   0.367184                    0.384563            0.0837553       0.300906                   67.5178   100.605\n",
       "    8        0.200004                    0.239082           1.50708   1.8813             0.275854         0.254441   0.34435                     0.352031            0.0753598       0.376266                   50.7077   88.1296\n",
       "    9        0.299999                    0.196836           1.31969   1.6941             0.241554         0.216261   0.310086                    0.306776            0.131963        0.508229                   31.9686   69.41\n",
       "    10       0.400001                    0.169381           1.10572   1.547              0.20239          0.182334   0.283162                    0.275665            0.110574        0.618803                   10.5723   54.7004\n",
       "    11       0.500003                    0.149164           0.96047   1.4297             0.175803         0.158777   0.26169                     0.252287            0.0960488       0.714852                   -3.95298  42.9695\n",
       "    12       0.599999                    0.133162           0.810602  1.32652            0.148372         0.140884   0.242804                    0.233721            0.0810568       0.795909                   -18.9398  32.6517\n",
       "    13       0.700001                    0.119897           0.698615  1.23682            0.127874         0.126408   0.226385                    0.21839             0.0698627       0.865772                   -30.1385  23.6815\n",
       "    14       0.799996                    0.10768            0.579049  1.1546             0.105989         0.113732   0.211336                    0.205308            0.0579025       0.923674                   -42.0951  15.4598\n",
       "    15       0.899998                    0.0950977          0.464077  1.07787            0.0849442        0.101528   0.197292                    0.193777            0.0464086       0.970083                   -53.5923  7.78718\n",
       "    16       1                           0.0669853          0.299168  1                  0.0547594        0.0864441  0.183039                    0.183043            0.0299174       1                          -70.0832  0"
      ]
     },
     "metadata": {},
     "output_type": "display_data"
    },
    {
     "name": "stdout",
     "output_type": "stream",
     "text": [
      "\n"
     ]
    },
    {
     "data": {
      "text/plain": []
     },
     "execution_count": 117,
     "metadata": {},
     "output_type": "execute_result"
    }
   ],
   "source": [
    "aml.leader"
   ]
  },
  {
   "cell_type": "markdown",
   "metadata": {},
   "source": [
    "To get details for the test data, use the `model_performance` call"
   ]
  },
  {
   "cell_type": "code",
   "execution_count": 118,
   "metadata": {},
   "outputs": [
    {
     "name": "stdout",
     "output_type": "stream",
     "text": [
      "\n",
      "ModelMetricsBinomialGLM: stackedensemble\n",
      "** Reported on test data. **\n",
      "\n",
      "MSE: 0.12139143511357163\n",
      "RMSE: 0.34841273672696244\n",
      "LogLoss: 0.3927900893061549\n",
      "Null degrees of freedom: 40924\n",
      "Residual degrees of freedom: 40918\n",
      "Null deviance: 38856.851854894376\n",
      "Residual deviance: 32149.868809708772\n",
      "AIC: 32163.868809708772\n",
      "AUC: 0.8189232605009569\n",
      "pr_auc: 0.5306650004133809\n",
      "Gini: 0.6378465210019137\n",
      "Confusion Matrix (Act/Pred) for max f1 @ threshold = 0.2054349977888603: \n"
     ]
    },
    {
     "data": {
      "text/html": [
       "<div style=\"overflow:auto\"><table style=\"width:50%\"><tr><td><b></b></td>\n",
       "<td><b>0</b></td>\n",
       "<td><b>1</b></td>\n",
       "<td><b>Error</b></td>\n",
       "<td><b>Rate</b></td></tr>\n",
       "<tr><td>0</td>\n",
       "<td>27031.0</td>\n",
       "<td>6437.0</td>\n",
       "<td>0.1923</td>\n",
       "<td> (6437.0/33468.0)</td></tr>\n",
       "<tr><td>1</td>\n",
       "<td>2622.0</td>\n",
       "<td>4835.0</td>\n",
       "<td>0.3516</td>\n",
       "<td> (2622.0/7457.0)</td></tr>\n",
       "<tr><td>Total</td>\n",
       "<td>29653.0</td>\n",
       "<td>11272.0</td>\n",
       "<td>0.2214</td>\n",
       "<td> (9059.0/40925.0)</td></tr></table></div>"
      ],
      "text/plain": [
       "       0      1      Error    Rate\n",
       "-----  -----  -----  -------  ----------------\n",
       "0      27031  6437   0.1923   (6437.0/33468.0)\n",
       "1      2622   4835   0.3516   (2622.0/7457.0)\n",
       "Total  29653  11272  0.2214   (9059.0/40925.0)"
      ]
     },
     "metadata": {},
     "output_type": "display_data"
    },
    {
     "name": "stdout",
     "output_type": "stream",
     "text": [
      "Maximum Metrics: Maximum metrics at their respective thresholds\n",
      "\n"
     ]
    },
    {
     "data": {
      "text/html": [
       "<div style=\"overflow:auto\"><table style=\"width:50%\"><tr><td><b>metric</b></td>\n",
       "<td><b>threshold</b></td>\n",
       "<td><b>value</b></td>\n",
       "<td><b>idx</b></td></tr>\n",
       "<tr><td>max f1</td>\n",
       "<td>0.2054350</td>\n",
       "<td>0.5163116</td>\n",
       "<td>240.0</td></tr>\n",
       "<tr><td>max f2</td>\n",
       "<td>0.1466629</td>\n",
       "<td>0.6422581</td>\n",
       "<td>301.0</td></tr>\n",
       "<tr><td>max f0point5</td>\n",
       "<td>0.3082719</td>\n",
       "<td>0.5194607</td>\n",
       "<td>165.0</td></tr>\n",
       "<tr><td>max accuracy</td>\n",
       "<td>0.3774791</td>\n",
       "<td>0.8410996</td>\n",
       "<td>126.0</td></tr>\n",
       "<tr><td>max precision</td>\n",
       "<td>0.8886559</td>\n",
       "<td>1.0</td>\n",
       "<td>0.0</td></tr>\n",
       "<tr><td>max recall</td>\n",
       "<td>0.0855135</td>\n",
       "<td>1.0</td>\n",
       "<td>384.0</td></tr>\n",
       "<tr><td>max specificity</td>\n",
       "<td>0.8886559</td>\n",
       "<td>1.0</td>\n",
       "<td>0.0</td></tr>\n",
       "<tr><td>max absolute_mcc</td>\n",
       "<td>0.2113688</td>\n",
       "<td>0.3943359</td>\n",
       "<td>235.0</td></tr>\n",
       "<tr><td>max min_per_class_accuracy</td>\n",
       "<td>0.1807501</td>\n",
       "<td>0.7342095</td>\n",
       "<td>264.0</td></tr>\n",
       "<tr><td>max mean_per_class_accuracy</td>\n",
       "<td>0.1778645</td>\n",
       "<td>0.7366858</td>\n",
       "<td>267.0</td></tr></table></div>"
      ],
      "text/plain": [
       "metric                       threshold    value     idx\n",
       "---------------------------  -----------  --------  -----\n",
       "max f1                       0.205435     0.516312  240\n",
       "max f2                       0.146663     0.642258  301\n",
       "max f0point5                 0.308272     0.519461  165\n",
       "max accuracy                 0.377479     0.8411    126\n",
       "max precision                0.888656     1         0\n",
       "max recall                   0.0855135    1         384\n",
       "max specificity              0.888656     1         0\n",
       "max absolute_mcc             0.211369     0.394336  235\n",
       "max min_per_class_accuracy   0.18075      0.734209  264\n",
       "max mean_per_class_accuracy  0.177864     0.736686  267"
      ]
     },
     "metadata": {},
     "output_type": "display_data"
    },
    {
     "name": "stdout",
     "output_type": "stream",
     "text": [
      "Gains/Lift Table: Avg response rate: 18.22 %, avg score: 18.34 %\n",
      "\n"
     ]
    },
    {
     "data": {
      "text/html": [
       "<div style=\"overflow:auto\"><table style=\"width:50%\"><tr><td><b></b></td>\n",
       "<td><b>group</b></td>\n",
       "<td><b>cumulative_data_fraction</b></td>\n",
       "<td><b>lower_threshold</b></td>\n",
       "<td><b>lift</b></td>\n",
       "<td><b>cumulative_lift</b></td>\n",
       "<td><b>response_rate</b></td>\n",
       "<td><b>score</b></td>\n",
       "<td><b>cumulative_response_rate</b></td>\n",
       "<td><b>cumulative_score</b></td>\n",
       "<td><b>capture_rate</b></td>\n",
       "<td><b>cumulative_capture_rate</b></td>\n",
       "<td><b>gain</b></td>\n",
       "<td><b>cumulative_gain</b></td></tr>\n",
       "<tr><td></td>\n",
       "<td>1</td>\n",
       "<td>0.0100183</td>\n",
       "<td>0.5885122</td>\n",
       "<td>5.0330186</td>\n",
       "<td>5.0330186</td>\n",
       "<td>0.9170732</td>\n",
       "<td>0.6623063</td>\n",
       "<td>0.9170732</td>\n",
       "<td>0.6623063</td>\n",
       "<td>0.0504224</td>\n",
       "<td>0.0504224</td>\n",
       "<td>403.3018575</td>\n",
       "<td>403.3018575</td></tr>\n",
       "<tr><td></td>\n",
       "<td>2</td>\n",
       "<td>0.0200122</td>\n",
       "<td>0.5207233</td>\n",
       "<td>4.0926167</td>\n",
       "<td>4.5633918</td>\n",
       "<td>0.7457213</td>\n",
       "<td>0.5532280</td>\n",
       "<td>0.8315018</td>\n",
       "<td>0.6078338</td>\n",
       "<td>0.0409012</td>\n",
       "<td>0.0913236</td>\n",
       "<td>309.2616740</td>\n",
       "<td>356.3391773</td></tr>\n",
       "<tr><td></td>\n",
       "<td>3</td>\n",
       "<td>0.0300061</td>\n",
       "<td>0.4741596</td>\n",
       "<td>3.7571564</td>\n",
       "<td>4.2948655</td>\n",
       "<td>0.6845966</td>\n",
       "<td>0.4964037</td>\n",
       "<td>0.7825733</td>\n",
       "<td>0.5707207</td>\n",
       "<td>0.0375486</td>\n",
       "<td>0.1288722</td>\n",
       "<td>275.7156352</td>\n",
       "<td>329.4865481</td></tr>\n",
       "<tr><td></td>\n",
       "<td>4</td>\n",
       "<td>0.04</td>\n",
       "<td>0.4400247</td>\n",
       "<td>3.3814407</td>\n",
       "<td>4.0666488</td>\n",
       "<td>0.6161369</td>\n",
       "<td>0.4565492</td>\n",
       "<td>0.7409896</td>\n",
       "<td>0.5421952</td>\n",
       "<td>0.0337938</td>\n",
       "<td>0.1626660</td>\n",
       "<td>238.1440717</td>\n",
       "<td>306.6648786</td></tr>\n",
       "<tr><td></td>\n",
       "<td>5</td>\n",
       "<td>0.0500183</td>\n",
       "<td>0.4143134</td>\n",
       "<td>3.3598076</td>\n",
       "<td>3.9250734</td>\n",
       "<td>0.6121951</td>\n",
       "<td>0.4268930</td>\n",
       "<td>0.7151930</td>\n",
       "<td>0.5191010</td>\n",
       "<td>0.0336596</td>\n",
       "<td>0.1963256</td>\n",
       "<td>235.9807612</td>\n",
       "<td>292.5073368</td></tr>\n",
       "<tr><td></td>\n",
       "<td>6</td>\n",
       "<td>0.1000122</td>\n",
       "<td>0.3249029</td>\n",
       "<td>2.6287240</td>\n",
       "<td>3.2770570</td>\n",
       "<td>0.4789834</td>\n",
       "<td>0.3646352</td>\n",
       "<td>0.5971170</td>\n",
       "<td>0.4418870</td>\n",
       "<td>0.1314201</td>\n",
       "<td>0.3277457</td>\n",
       "<td>162.8724007</td>\n",
       "<td>227.7057049</td></tr>\n",
       "<tr><td></td>\n",
       "<td>7</td>\n",
       "<td>0.1500061</td>\n",
       "<td>0.2737308</td>\n",
       "<td>2.2236859</td>\n",
       "<td>2.9259905</td>\n",
       "<td>0.4051808</td>\n",
       "<td>0.2971044</td>\n",
       "<td>0.5331487</td>\n",
       "<td>0.3936340</td>\n",
       "<td>0.1111707</td>\n",
       "<td>0.4389165</td>\n",
       "<td>122.3685920</td>\n",
       "<td>192.5990535</td></tr>\n",
       "<tr><td></td>\n",
       "<td>8</td>\n",
       "<td>0.2</td>\n",
       "<td>0.2397155</td>\n",
       "<td>1.8401068</td>\n",
       "<td>2.6545528</td>\n",
       "<td>0.3352884</td>\n",
       "<td>0.2556886</td>\n",
       "<td>0.4836897</td>\n",
       "<td>0.3591519</td>\n",
       "<td>0.0919941</td>\n",
       "<td>0.5309106</td>\n",
       "<td>84.0106805</td>\n",
       "<td>165.4552769</td></tr>\n",
       "<tr><td></td>\n",
       "<td>9</td>\n",
       "<td>0.3000122</td>\n",
       "<td>0.1956994</td>\n",
       "<td>1.5044427</td>\n",
       "<td>2.2711515</td>\n",
       "<td>0.2741266</td>\n",
       "<td>0.2156939</td>\n",
       "<td>0.4138296</td>\n",
       "<td>0.3113286</td>\n",
       "<td>0.1504627</td>\n",
       "<td>0.6813732</td>\n",
       "<td>50.4442721</td>\n",
       "<td>127.1151529</td></tr>\n",
       "<tr><td></td>\n",
       "<td>10</td>\n",
       "<td>0.4</td>\n",
       "<td>0.1676901</td>\n",
       "<td>0.9978422</td>\n",
       "<td>1.9528631</td>\n",
       "<td>0.1818182</td>\n",
       "<td>0.1807598</td>\n",
       "<td>0.3558338</td>\n",
       "<td>0.2786904</td>\n",
       "<td>0.0997720</td>\n",
       "<td>0.7811452</td>\n",
       "<td>-0.2157826</td>\n",
       "<td>95.2863082</td></tr>\n",
       "<tr><td></td>\n",
       "<td>11</td>\n",
       "<td>0.5000122</td>\n",
       "<td>0.1473460</td>\n",
       "<td>0.8407180</td>\n",
       "<td>1.7304123</td>\n",
       "<td>0.1531884</td>\n",
       "<td>0.1570532</td>\n",
       "<td>0.3153008</td>\n",
       "<td>0.2543606</td>\n",
       "<td>0.0840821</td>\n",
       "<td>0.8652273</td>\n",
       "<td>-15.9282009</td>\n",
       "<td>73.0412324</td></tr>\n",
       "<tr><td></td>\n",
       "<td>12</td>\n",
       "<td>0.6</td>\n",
       "<td>0.1316198</td>\n",
       "<td>0.5928041</td>\n",
       "<td>1.5408341</td>\n",
       "<td>0.1080156</td>\n",
       "<td>0.1392947</td>\n",
       "<td>0.2807575</td>\n",
       "<td>0.2351853</td>\n",
       "<td>0.0592732</td>\n",
       "<td>0.9245005</td>\n",
       "<td>-40.7195913</td>\n",
       "<td>54.0834116</td></tr>\n",
       "<tr><td></td>\n",
       "<td>13</td>\n",
       "<td>0.6999878</td>\n",
       "<td>0.1185283</td>\n",
       "<td>0.4090616</td>\n",
       "<td>1.3791693</td>\n",
       "<td>0.0745357</td>\n",
       "<td>0.1249913</td>\n",
       "<td>0.2513003</td>\n",
       "<td>0.2194449</td>\n",
       "<td>0.0409012</td>\n",
       "<td>0.9654016</td>\n",
       "<td>-59.0938356</td>\n",
       "<td>37.9169266</td></tr>\n",
       "<tr><td></td>\n",
       "<td>14</td>\n",
       "<td>0.8</td>\n",
       "<td>0.1065081</td>\n",
       "<td>0.2453770</td>\n",
       "<td>1.2374279</td>\n",
       "<td>0.0447105</td>\n",
       "<td>0.1125361</td>\n",
       "<td>0.2254734</td>\n",
       "<td>0.2060797</td>\n",
       "<td>0.0245407</td>\n",
       "<td>0.9899423</td>\n",
       "<td>-75.4622979</td>\n",
       "<td>23.7427920</td></tr>\n",
       "<tr><td></td>\n",
       "<td>15</td>\n",
       "<td>0.8999878</td>\n",
       "<td>0.0939150</td>\n",
       "<td>0.0818123</td>\n",
       "<td>1.1090401</td>\n",
       "<td>0.0149071</td>\n",
       "<td>0.1002987</td>\n",
       "<td>0.2020797</td>\n",
       "<td>0.1943275</td>\n",
       "<td>0.0081802</td>\n",
       "<td>0.9981226</td>\n",
       "<td>-91.8187671</td>\n",
       "<td>10.9040132</td></tr>\n",
       "<tr><td></td>\n",
       "<td>16</td>\n",
       "<td>1.0</td>\n",
       "<td>0.0669772</td>\n",
       "<td>0.0187720</td>\n",
       "<td>1.0</td>\n",
       "<td>0.0034205</td>\n",
       "<td>0.0854436</td>\n",
       "<td>0.1822114</td>\n",
       "<td>0.1834378</td>\n",
       "<td>0.0018774</td>\n",
       "<td>1.0</td>\n",
       "<td>-98.1227987</td>\n",
       "<td>0.0</td></tr></table></div>"
      ],
      "text/plain": [
       "    group    cumulative_data_fraction    lower_threshold    lift       cumulative_lift    response_rate    score      cumulative_response_rate    cumulative_score    capture_rate    cumulative_capture_rate    gain       cumulative_gain\n",
       "--  -------  --------------------------  -----------------  ---------  -----------------  ---------------  ---------  --------------------------  ------------------  --------------  -------------------------  ---------  -----------------\n",
       "    1        0.0100183                   0.588512           5.03302    5.03302            0.917073         0.662306   0.917073                    0.662306            0.0504224       0.0504224                  403.302    403.302\n",
       "    2        0.0200122                   0.520723           4.09262    4.56339            0.745721         0.553228   0.831502                    0.607834            0.0409012       0.0913236                  309.262    356.339\n",
       "    3        0.0300061                   0.47416            3.75716    4.29487            0.684597         0.496404   0.782573                    0.570721            0.0375486       0.128872                   275.716    329.487\n",
       "    4        0.04                        0.440025           3.38144    4.06665            0.616137         0.456549   0.74099                     0.542195            0.0337938       0.162666                   238.144    306.665\n",
       "    5        0.0500183                   0.414313           3.35981    3.92507            0.612195         0.426893   0.715193                    0.519101            0.0336596       0.196326                   235.981    292.507\n",
       "    6        0.100012                    0.324903           2.62872    3.27706            0.478983         0.364635   0.597117                    0.441887            0.13142         0.327746                   162.872    227.706\n",
       "    7        0.150006                    0.273731           2.22369    2.92599            0.405181         0.297104   0.533149                    0.393634            0.111171        0.438916                   122.369    192.599\n",
       "    8        0.2                         0.239715           1.84011    2.65455            0.335288         0.255689   0.48369                     0.359152            0.0919941       0.530911                   84.0107    165.455\n",
       "    9        0.300012                    0.195699           1.50444    2.27115            0.274127         0.215694   0.41383                     0.311329            0.150463        0.681373                   50.4443    127.115\n",
       "    10       0.4                         0.16769            0.997842   1.95286            0.181818         0.18076    0.355834                    0.27869             0.099772        0.781145                   -0.215783  95.2863\n",
       "    11       0.500012                    0.147346           0.840718   1.73041            0.153188         0.157053   0.315301                    0.254361            0.0840821       0.865227                   -15.9282   73.0412\n",
       "    12       0.6                         0.13162            0.592804   1.54083            0.108016         0.139295   0.280757                    0.235185            0.0592732       0.9245                     -40.7196   54.0834\n",
       "    13       0.699988                    0.118528           0.409062   1.37917            0.0745357        0.124991   0.2513                      0.219445            0.0409012       0.965402                   -59.0938   37.9169\n",
       "    14       0.8                         0.106508           0.245377   1.23743            0.0447105        0.112536   0.225473                    0.20608             0.0245407       0.989942                   -75.4623   23.7428\n",
       "    15       0.899988                    0.093915           0.0818123  1.10904            0.0149071        0.100299   0.20208                     0.194328            0.00818023      0.998123                   -91.8188   10.904\n",
       "    16       1                           0.0669772          0.018772   1                  0.00342047       0.0854436  0.182211                    0.183438            0.00187743      1                          -98.1228   0"
      ]
     },
     "metadata": {},
     "output_type": "display_data"
    },
    {
     "name": "stdout",
     "output_type": "stream",
     "text": [
      "\n"
     ]
    },
    {
     "data": {
      "text/plain": []
     },
     "execution_count": 118,
     "metadata": {},
     "output_type": "execute_result"
    }
   ],
   "source": [
    "aml.leader.model_performance(test_data=test)"
   ]
  },
  {
   "cell_type": "markdown",
   "metadata": {},
   "source": [
    "-----\n",
    "# DONE THROUGH THIS POINT (First Pass) \n",
    "-----"
   ]
  },
  {
   "cell_type": "markdown",
   "metadata": {},
   "source": [
    "## Examine the Best of Family Ensemble Model\n",
    "\n",
    "We demonstrate how to select any model from the leaderboard below."
   ]
  },
  {
   "cell_type": "code",
   "execution_count": 119,
   "metadata": {
    "scrolled": true
   },
   "outputs": [
    {
     "data": {
      "text/html": [
       "<table>\n",
       "<thead>\n",
       "<tr><th>model_id                                           </th><th style=\"text-align: right;\">     auc</th><th style=\"text-align: right;\">  logloss</th><th style=\"text-align: right;\">  mean_per_class_error</th><th style=\"text-align: right;\">    rmse</th><th style=\"text-align: right;\">     mse</th></tr>\n",
       "</thead>\n",
       "<tbody>\n",
       "<tr><td>StackedEnsemble_AllModels_AutoML_20190808_225528   </td><td style=\"text-align: right;\">0.685467</td><td style=\"text-align: right;\"> 0.44476 </td><td style=\"text-align: right;\">              0.365936</td><td style=\"text-align: right;\">0.373917</td><td style=\"text-align: right;\">0.139814</td></tr>\n",
       "<tr><td>StackedEnsemble_BestOfFamily_AutoML_20190808_225528</td><td style=\"text-align: right;\">0.685411</td><td style=\"text-align: right;\"> 0.444813</td><td style=\"text-align: right;\">              0.365647</td><td style=\"text-align: right;\">0.373942</td><td style=\"text-align: right;\">0.139833</td></tr>\n",
       "<tr><td>GBM_1_AutoML_20190808_225528                       </td><td style=\"text-align: right;\">0.682965</td><td style=\"text-align: right;\"> 0.443931</td><td style=\"text-align: right;\">              0.368204</td><td style=\"text-align: right;\">0.373709</td><td style=\"text-align: right;\">0.139659</td></tr>\n",
       "<tr><td>XGBoost_1_AutoML_20190808_225528                   </td><td style=\"text-align: right;\">0.681806</td><td style=\"text-align: right;\"> 0.444222</td><td style=\"text-align: right;\">              0.367795</td><td style=\"text-align: right;\">0.373883</td><td style=\"text-align: right;\">0.139789</td></tr>\n",
       "<tr><td>XGBoost_3_AutoML_20190808_225528                   </td><td style=\"text-align: right;\">0.678912</td><td style=\"text-align: right;\"> 0.446005</td><td style=\"text-align: right;\">              0.370638</td><td style=\"text-align: right;\">0.374385</td><td style=\"text-align: right;\">0.140164</td></tr>\n",
       "<tr><td>XGBoost_2_AutoML_20190808_225528                   </td><td style=\"text-align: right;\">0.67563 </td><td style=\"text-align: right;\"> 0.446593</td><td style=\"text-align: right;\">              0.373523</td><td style=\"text-align: right;\">0.374935</td><td style=\"text-align: right;\">0.140576</td></tr>\n",
       "<tr><td>GLM_grid_1_AutoML_20190808_225528_model_1          </td><td style=\"text-align: right;\">0.674163</td><td style=\"text-align: right;\"> 0.447619</td><td style=\"text-align: right;\">              0.373453</td><td style=\"text-align: right;\">0.374973</td><td style=\"text-align: right;\">0.140605</td></tr>\n",
       "<tr><td>DRF_1_AutoML_20190808_225528                       </td><td style=\"text-align: right;\">0.662111</td><td style=\"text-align: right;\"> 0.452901</td><td style=\"text-align: right;\">              0.382917</td><td style=\"text-align: right;\">0.377223</td><td style=\"text-align: right;\">0.142298</td></tr>\n",
       "</tbody>\n",
       "</table>"
      ]
     },
     "metadata": {},
     "output_type": "display_data"
    },
    {
     "data": {
      "text/plain": []
     },
     "execution_count": 119,
     "metadata": {},
     "output_type": "execute_result"
    }
   ],
   "source": [
    "aml.leaderboard"
   ]
  },
  {
   "cell_type": "markdown",
   "metadata": {},
   "source": [
    "We can select an specified model from the leaderboard by indicating its position. Select the `StackedEnsemble_BestOfFamily_AutoML` model in position 2 using the command"
   ]
  },
  {
   "cell_type": "code",
   "execution_count": 120,
   "metadata": {},
   "outputs": [],
   "source": [
    "select_model = h2o.get_model(aml.leaderboard[2,'model_id'])"
   ]
  },
  {
   "cell_type": "code",
   "execution_count": 121,
   "metadata": {},
   "outputs": [],
   "source": [
    "import matplotlib.pyplot as plt\n",
    "%matplotlib inline\n",
    "\n",
    "import warnings\n",
    "import matplotlib.cbook\n",
    "warnings.filterwarnings(\"ignore\", category = matplotlib.cbook.mplDeprecation)"
   ]
  },
  {
   "cell_type": "markdown",
   "metadata": {},
   "source": [
    "With the `BestofFamily` model selected, we can look at variable importance plots"
   ]
  },
  {
   "cell_type": "code",
   "execution_count": 122,
   "metadata": {},
   "outputs": [
    {
     "data": {
      "image/png": "[encoded data removed]",
      "text/plain": [
       "<Figure size 1008x720 with 1 Axes>"
      ]
     },
     "metadata": {
      "needs_background": "light"
     },
     "output_type": "display_data"
    }
   ],
   "source": [
    "select_model.varimp_plot()"
   ]
  },
  {
   "cell_type": "markdown",
   "metadata": {},
   "source": [
    "(Talk about issues here with address state, etc. that we may want to do feature engineering on)\n",
    "\n",
    "Look model details, which show both train and cross-validated results,"
   ]
  },
  {
   "cell_type": "code",
   "execution_count": 123,
   "metadata": {},
   "outputs": [
    {
     "name": "stdout",
     "output_type": "stream",
     "text": [
      "Model Details\n",
      "=============\n",
      "H2OGradientBoostingEstimator :  Gradient Boosting Machine\n",
      "Model Key:  GBM_1_AutoML_20190808_225528\n",
      "\n",
      "\n",
      "ModelMetricsBinomial: gbm\n",
      "** Reported on train data. **\n",
      "\n",
      "MSE: 0.13420850880132718\n",
      "RMSE: 0.36634479496961214\n",
      "LogLoss: 0.4284534363470959\n",
      "Mean Per-Class Error: 0.3392781084862764\n",
      "AUC: 0.7215722356421167\n",
      "pr_auc: 0.3898714988854001\n",
      "Gini: 0.4431444712842334\n",
      "Confusion Matrix (Act/Pred) for max f1 @ threshold = 0.20122710239228642: \n"
     ]
    },
    {
     "data": {
      "text/html": [
       "<div style=\"overflow:auto\"><table style=\"width:50%\"><tr><td><b></b></td>\n",
       "<td><b>0</b></td>\n",
       "<td><b>1</b></td>\n",
       "<td><b>Error</b></td>\n",
       "<td><b>Rate</b></td></tr>\n",
       "<tr><td>0</td>\n",
       "<td>97101.0</td>\n",
       "<td>36870.0</td>\n",
       "<td>0.2752</td>\n",
       "<td> (36870.0/133971.0)</td></tr>\n",
       "<tr><td>1</td>\n",
       "<td>12161.0</td>\n",
       "<td>17855.0</td>\n",
       "<td>0.4052</td>\n",
       "<td> (12161.0/30016.0)</td></tr>\n",
       "<tr><td>Total</td>\n",
       "<td>109262.0</td>\n",
       "<td>54725.0</td>\n",
       "<td>0.299</td>\n",
       "<td> (49031.0/163987.0)</td></tr></table></div>"
      ],
      "text/plain": [
       "       0       1      Error    Rate\n",
       "-----  ------  -----  -------  ------------------\n",
       "0      97101   36870  0.2752   (36870.0/133971.0)\n",
       "1      12161   17855  0.4052   (12161.0/30016.0)\n",
       "Total  109262  54725  0.299    (49031.0/163987.0)"
      ]
     },
     "metadata": {},
     "output_type": "display_data"
    },
    {
     "name": "stdout",
     "output_type": "stream",
     "text": [
      "Maximum Metrics: Maximum metrics at their respective thresholds\n",
      "\n"
     ]
    },
    {
     "data": {
      "text/html": [
       "<div style=\"overflow:auto\"><table style=\"width:50%\"><tr><td><b>metric</b></td>\n",
       "<td><b>threshold</b></td>\n",
       "<td><b>value</b></td>\n",
       "<td><b>idx</b></td></tr>\n",
       "<tr><td>max f1</td>\n",
       "<td>0.2012271</td>\n",
       "<td>0.4214017</td>\n",
       "<td>230.0</td></tr>\n",
       "<tr><td>max f2</td>\n",
       "<td>0.1325079</td>\n",
       "<td>0.5685080</td>\n",
       "<td>301.0</td></tr>\n",
       "<tr><td>max f0point5</td>\n",
       "<td>0.2906659</td>\n",
       "<td>0.4046777</td>\n",
       "<td>156.0</td></tr>\n",
       "<tr><td>max accuracy</td>\n",
       "<td>0.4309441</td>\n",
       "<td>0.8231994</td>\n",
       "<td>74.0</td></tr>\n",
       "<tr><td>max precision</td>\n",
       "<td>0.8423239</td>\n",
       "<td>1.0</td>\n",
       "<td>0.0</td></tr>\n",
       "<tr><td>max recall</td>\n",
       "<td>0.0385442</td>\n",
       "<td>1.0</td>\n",
       "<td>396.0</td></tr>\n",
       "<tr><td>max specificity</td>\n",
       "<td>0.8423239</td>\n",
       "<td>1.0</td>\n",
       "<td>0.0</td></tr>\n",
       "<tr><td>max absolute_mcc</td>\n",
       "<td>0.2346278</td>\n",
       "<td>0.2674542</td>\n",
       "<td>201.0</td></tr>\n",
       "<tr><td>max min_per_class_accuracy</td>\n",
       "<td>0.1831146</td>\n",
       "<td>0.6599480</td>\n",
       "<td>248.0</td></tr>\n",
       "<tr><td>max mean_per_class_accuracy</td>\n",
       "<td>0.1905621</td>\n",
       "<td>0.6607219</td>\n",
       "<td>241.0</td></tr></table></div>"
      ],
      "text/plain": [
       "metric                       threshold    value     idx\n",
       "---------------------------  -----------  --------  -----\n",
       "max f1                       0.201227     0.421402  230\n",
       "max f2                       0.132508     0.568508  301\n",
       "max f0point5                 0.290666     0.404678  156\n",
       "max accuracy                 0.430944     0.823199  74\n",
       "max precision                0.842324     1         0\n",
       "max recall                   0.0385442    1         396\n",
       "max specificity              0.842324     1         0\n",
       "max absolute_mcc             0.234628     0.267454  201\n",
       "max min_per_class_accuracy   0.183115     0.659948  248\n",
       "max mean_per_class_accuracy  0.190562     0.660722  241"
      ]
     },
     "metadata": {},
     "output_type": "display_data"
    },
    {
     "name": "stdout",
     "output_type": "stream",
     "text": [
      "Gains/Lift Table: Avg response rate: 18.30 %, avg score: 18.30 %\n",
      "\n"
     ]
    },
    {
     "data": {
      "text/html": [
       "<div style=\"overflow:auto\"><table style=\"width:50%\"><tr><td><b></b></td>\n",
       "<td><b>group</b></td>\n",
       "<td><b>cumulative_data_fraction</b></td>\n",
       "<td><b>lower_threshold</b></td>\n",
       "<td><b>lift</b></td>\n",
       "<td><b>cumulative_lift</b></td>\n",
       "<td><b>response_rate</b></td>\n",
       "<td><b>score</b></td>\n",
       "<td><b>cumulative_response_rate</b></td>\n",
       "<td><b>cumulative_score</b></td>\n",
       "<td><b>capture_rate</b></td>\n",
       "<td><b>cumulative_capture_rate</b></td>\n",
       "<td><b>gain</b></td>\n",
       "<td><b>cumulative_gain</b></td></tr>\n",
       "<tr><td></td>\n",
       "<td>1</td>\n",
       "<td>0.0100008</td>\n",
       "<td>0.5004441</td>\n",
       "<td>3.8276550</td>\n",
       "<td>3.8276550</td>\n",
       "<td>0.7006098</td>\n",
       "<td>0.5570395</td>\n",
       "<td>0.7006098</td>\n",
       "<td>0.5570395</td>\n",
       "<td>0.0382796</td>\n",
       "<td>0.0382796</td>\n",
       "<td>282.7654986</td>\n",
       "<td>282.7654986</td></tr>\n",
       "<tr><td></td>\n",
       "<td>2</td>\n",
       "<td>0.0200016</td>\n",
       "<td>0.4559636</td>\n",
       "<td>3.1613965</td>\n",
       "<td>3.4945257</td>\n",
       "<td>0.5786585</td>\n",
       "<td>0.4765407</td>\n",
       "<td>0.6396341</td>\n",
       "<td>0.5167901</td>\n",
       "<td>0.0316165</td>\n",
       "<td>0.0698961</td>\n",
       "<td>216.1396503</td>\n",
       "<td>249.4525745</td></tr>\n",
       "<tr><td></td>\n",
       "<td>3</td>\n",
       "<td>0.0300024</td>\n",
       "<td>0.4271633</td>\n",
       "<td>2.8815679</td>\n",
       "<td>3.2902065</td>\n",
       "<td>0.5274390</td>\n",
       "<td>0.4408832</td>\n",
       "<td>0.6022358</td>\n",
       "<td>0.4914878</td>\n",
       "<td>0.0288180</td>\n",
       "<td>0.0987140</td>\n",
       "<td>188.1567940</td>\n",
       "<td>229.0206477</td></tr>\n",
       "<tr><td></td>\n",
       "<td>4</td>\n",
       "<td>0.0400032</td>\n",
       "<td>0.4047802</td>\n",
       "<td>2.5084632</td>\n",
       "<td>3.0947707</td>\n",
       "<td>0.4591463</td>\n",
       "<td>0.4153363</td>\n",
       "<td>0.5664634</td>\n",
       "<td>0.4724499</td>\n",
       "<td>0.0250866</td>\n",
       "<td>0.1238006</td>\n",
       "<td>150.8463190</td>\n",
       "<td>209.4770655</td></tr>\n",
       "<tr><td></td>\n",
       "<td>5</td>\n",
       "<td>0.0500040</td>\n",
       "<td>0.3856171</td>\n",
       "<td>2.5184571</td>\n",
       "<td>2.9795079</td>\n",
       "<td>0.4609756</td>\n",
       "<td>0.3949457</td>\n",
       "<td>0.5453659</td>\n",
       "<td>0.4569491</td>\n",
       "<td>0.0251866</td>\n",
       "<td>0.1489872</td>\n",
       "<td>151.8457067</td>\n",
       "<td>197.9507937</td></tr>\n",
       "<tr><td></td>\n",
       "<td>6</td>\n",
       "<td>0.1000018</td>\n",
       "<td>0.3223402</td>\n",
       "<td>2.1476130</td>\n",
       "<td>2.5635858</td>\n",
       "<td>0.3930967</td>\n",
       "<td>0.3510495</td>\n",
       "<td>0.4692359</td>\n",
       "<td>0.4040025</td>\n",
       "<td>0.1073761</td>\n",
       "<td>0.2563633</td>\n",
       "<td>114.7612996</td>\n",
       "<td>156.3585831</td></tr>\n",
       "<tr><td></td>\n",
       "<td>7</td>\n",
       "<td>0.1499997</td>\n",
       "<td>0.2822223</td>\n",
       "<td>1.7777944</td>\n",
       "<td>2.3016660</td>\n",
       "<td>0.3254055</td>\n",
       "<td>0.3010898</td>\n",
       "<td>0.4212944</td>\n",
       "<td>0.3696997</td>\n",
       "<td>0.0888859</td>\n",
       "<td>0.3452492</td>\n",
       "<td>77.7794438</td>\n",
       "<td>130.1666015</td></tr>\n",
       "<tr><td></td>\n",
       "<td>8</td>\n",
       "<td>0.2000037</td>\n",
       "<td>0.2530308</td>\n",
       "<td>1.5583786</td>\n",
       "<td>2.1158328</td>\n",
       "<td>0.2852439</td>\n",
       "<td>0.2668617</td>\n",
       "<td>0.3872797</td>\n",
       "<td>0.3439886</td>\n",
       "<td>0.0779251</td>\n",
       "<td>0.4231743</td>\n",
       "<td>55.8378592</td>\n",
       "<td>111.5832828</td></tr>\n",
       "<tr><td></td>\n",
       "<td>9</td>\n",
       "<td>0.2999994</td>\n",
       "<td>0.2116182</td>\n",
       "<td>1.3236839</td>\n",
       "<td>1.8517939</td>\n",
       "<td>0.2422856</td>\n",
       "<td>0.2310686</td>\n",
       "<td>0.3389503</td>\n",
       "<td>0.3063502</td>\n",
       "<td>0.1323627</td>\n",
       "<td>0.5555370</td>\n",
       "<td>32.3683902</td>\n",
       "<td>85.1793920</td></tr>\n",
       "<tr><td></td>\n",
       "<td>10</td>\n",
       "<td>0.4000012</td>\n",
       "<td>0.1820983</td>\n",
       "<td>1.0644128</td>\n",
       "<td>1.6549456</td>\n",
       "<td>0.1948290</td>\n",
       "<td>0.1961327</td>\n",
       "<td>0.3029194</td>\n",
       "<td>0.2787954</td>\n",
       "<td>0.1064432</td>\n",
       "<td>0.6619803</td>\n",
       "<td>6.4412830</td>\n",
       "<td>65.4945647</td></tr>\n",
       "<tr><td></td>\n",
       "<td>11</td>\n",
       "<td>0.5000030</td>\n",
       "<td>0.1582800</td>\n",
       "<td>0.8861778</td>\n",
       "<td>1.5011902</td>\n",
       "<td>0.1622050</td>\n",
       "<td>0.1698149</td>\n",
       "<td>0.2747762</td>\n",
       "<td>0.2569990</td>\n",
       "<td>0.0886194</td>\n",
       "<td>0.7505997</td>\n",
       "<td>-11.3822182</td>\n",
       "<td>50.1190206</td></tr>\n",
       "<tr><td></td>\n",
       "<td>12</td>\n",
       "<td>0.5999988</td>\n",
       "<td>0.1378775</td>\n",
       "<td>0.7529639</td>\n",
       "<td>1.3764909</td>\n",
       "<td>0.1378217</td>\n",
       "<td>0.1478556</td>\n",
       "<td>0.2519514</td>\n",
       "<td>0.2388092</td>\n",
       "<td>0.0752932</td>\n",
       "<td>0.8258929</td>\n",
       "<td>-24.7036089</td>\n",
       "<td>37.6490893</td></tr>\n",
       "<tr><td></td>\n",
       "<td>13</td>\n",
       "<td>0.7000006</td>\n",
       "<td>0.1196426</td>\n",
       "<td>0.6186587</td>\n",
       "<td>1.2682273</td>\n",
       "<td>0.1132386</td>\n",
       "<td>0.1287430</td>\n",
       "<td>0.2321349</td>\n",
       "<td>0.2230852</td>\n",
       "<td>0.0618670</td>\n",
       "<td>0.8877599</td>\n",
       "<td>-38.1341275</td>\n",
       "<td>26.8227269</td></tr>\n",
       "<tr><td></td>\n",
       "<td>14</td>\n",
       "<td>0.7999963</td>\n",
       "<td>0.1017508</td>\n",
       "<td>0.5084172</td>\n",
       "<td>1.1732546</td>\n",
       "<td>0.0930601</td>\n",
       "<td>0.1107224</td>\n",
       "<td>0.2147512</td>\n",
       "<td>0.2090404</td>\n",
       "<td>0.0508396</td>\n",
       "<td>0.9385994</td>\n",
       "<td>-49.1582775</td>\n",
       "<td>17.3254633</td></tr>\n",
       "<tr><td></td>\n",
       "<td>15</td>\n",
       "<td>0.8999982</td>\n",
       "<td>0.0817949</td>\n",
       "<td>0.3947822</td>\n",
       "<td>1.0867559</td>\n",
       "<td>0.0722605</td>\n",
       "<td>0.0921813</td>\n",
       "<td>0.1989186</td>\n",
       "<td>0.1960558</td>\n",
       "<td>0.0394789</td>\n",
       "<td>0.9780784</td>\n",
       "<td>-60.5217777</td>\n",
       "<td>8.6755940</td></tr>\n",
       "<tr><td></td>\n",
       "<td>16</td>\n",
       "<td>1.0</td>\n",
       "<td>0.0259481</td>\n",
       "<td>0.2192124</td>\n",
       "<td>1.0</td>\n",
       "<td>0.0401244</td>\n",
       "<td>0.0657673</td>\n",
       "<td>0.1830389</td>\n",
       "<td>0.1830267</td>\n",
       "<td>0.0219216</td>\n",
       "<td>1.0</td>\n",
       "<td>-78.0787592</td>\n",
       "<td>0.0</td></tr></table></div>"
      ],
      "text/plain": [
       "    group    cumulative_data_fraction    lower_threshold    lift      cumulative_lift    response_rate    score      cumulative_response_rate    cumulative_score    capture_rate    cumulative_capture_rate    gain      cumulative_gain\n",
       "--  -------  --------------------------  -----------------  --------  -----------------  ---------------  ---------  --------------------------  ------------------  --------------  -------------------------  --------  -----------------\n",
       "    1        0.0100008                   0.500444           3.82765   3.82765            0.70061          0.55704    0.70061                     0.55704             0.0382796       0.0382796                  282.765   282.765\n",
       "    2        0.0200016                   0.455964           3.1614    3.49453            0.578659         0.476541   0.639634                    0.51679             0.0316165       0.0698961                  216.14    249.453\n",
       "    3        0.0300024                   0.427163           2.88157   3.29021            0.527439         0.440883   0.602236                    0.491488            0.028818        0.098714                   188.157   229.021\n",
       "    4        0.0400032                   0.40478            2.50846   3.09477            0.459146         0.415336   0.566463                    0.47245             0.0250866       0.123801                   150.846   209.477\n",
       "    5        0.050004                    0.385617           2.51846   2.97951            0.460976         0.394946   0.545366                    0.456949            0.0251866       0.148987                   151.846   197.951\n",
       "    6        0.100002                    0.32234            2.14761   2.56359            0.393097         0.35105    0.469236                    0.404003            0.107376        0.256363                   114.761   156.359\n",
       "    7        0.15                        0.282222           1.77779   2.30167            0.325406         0.30109    0.421294                    0.3697              0.0888859       0.345249                   77.7794   130.167\n",
       "    8        0.200004                    0.253031           1.55838   2.11583            0.285244         0.266862   0.38728                     0.343989            0.0779251       0.423174                   55.8379   111.583\n",
       "    9        0.299999                    0.211618           1.32368   1.85179            0.242286         0.231069   0.33895                     0.30635             0.132363        0.555537                   32.3684   85.1794\n",
       "    10       0.400001                    0.182098           1.06441   1.65495            0.194829         0.196133   0.302919                    0.278795            0.106443        0.66198                    6.44128   65.4946\n",
       "    11       0.500003                    0.15828            0.886178  1.50119            0.162205         0.169815   0.274776                    0.256999            0.0886194       0.7506                     -11.3822  50.119\n",
       "    12       0.599999                    0.137878           0.752964  1.37649            0.137822         0.147856   0.251951                    0.238809            0.0752932       0.825893                   -24.7036  37.6491\n",
       "    13       0.700001                    0.119643           0.618659  1.26823            0.113239         0.128743   0.232135                    0.223085            0.061867        0.88776                    -38.1341  26.8227\n",
       "    14       0.799996                    0.101751           0.508417  1.17325            0.0930601        0.110722   0.214751                    0.20904             0.0508396       0.938599                   -49.1583  17.3255\n",
       "    15       0.899998                    0.0817949          0.394782  1.08676            0.0722605        0.0921813  0.198919                    0.196056            0.0394789       0.978078                   -60.5218  8.67559\n",
       "    16       1                           0.0259481          0.219212  1                  0.0401244        0.0657673  0.183039                    0.183027            0.0219216       1                          -78.0788  0"
      ]
     },
     "metadata": {},
     "output_type": "display_data"
    },
    {
     "name": "stdout",
     "output_type": "stream",
     "text": [
      "\n",
      "\n",
      "ModelMetricsBinomial: gbm\n",
      "** Reported on cross-validation data. **\n",
      "\n",
      "MSE: 0.13965851880350688\n",
      "RMSE: 0.3737091366337019\n",
      "LogLoss: 0.4439306976625164\n",
      "Mean Per-Class Error: 0.36768206533662673\n",
      "AUC: 0.6829650867848847\n",
      "pr_auc: 0.32254232566789165\n",
      "Gini: 0.3659301735697693\n",
      "Confusion Matrix (Act/Pred) for max f1 @ threshold = 0.19168668090668992: \n"
     ]
    },
    {
     "data": {
      "text/html": [
       "<div style=\"overflow:auto\"><table style=\"width:50%\"><tr><td><b></b></td>\n",
       "<td><b>0</b></td>\n",
       "<td><b>1</b></td>\n",
       "<td><b>Error</b></td>\n",
       "<td><b>Rate</b></td></tr>\n",
       "<tr><td>0</td>\n",
       "<td>91190.0</td>\n",
       "<td>42781.0</td>\n",
       "<td>0.3193</td>\n",
       "<td> (42781.0/133971.0)</td></tr>\n",
       "<tr><td>1</td>\n",
       "<td>12519.0</td>\n",
       "<td>17497.0</td>\n",
       "<td>0.4171</td>\n",
       "<td> (12519.0/30016.0)</td></tr>\n",
       "<tr><td>Total</td>\n",
       "<td>103709.0</td>\n",
       "<td>60278.0</td>\n",
       "<td>0.3372</td>\n",
       "<td> (55300.0/163987.0)</td></tr></table></div>"
      ],
      "text/plain": [
       "       0       1      Error    Rate\n",
       "-----  ------  -----  -------  ------------------\n",
       "0      91190   42781  0.3193   (42781.0/133971.0)\n",
       "1      12519   17497  0.4171   (12519.0/30016.0)\n",
       "Total  103709  60278  0.3372   (55300.0/163987.0)"
      ]
     },
     "metadata": {},
     "output_type": "display_data"
    },
    {
     "name": "stdout",
     "output_type": "stream",
     "text": [
      "Maximum Metrics: Maximum metrics at their respective thresholds\n",
      "\n"
     ]
    },
    {
     "data": {
      "text/html": [
       "<div style=\"overflow:auto\"><table style=\"width:50%\"><tr><td><b>metric</b></td>\n",
       "<td><b>threshold</b></td>\n",
       "<td><b>value</b></td>\n",
       "<td><b>idx</b></td></tr>\n",
       "<tr><td>max f1</td>\n",
       "<td>0.1916867</td>\n",
       "<td>0.3875562</td>\n",
       "<td>237.0</td></tr>\n",
       "<tr><td>max f2</td>\n",
       "<td>0.1116368</td>\n",
       "<td>0.5525059</td>\n",
       "<td>324.0</td></tr>\n",
       "<tr><td>max f0point5</td>\n",
       "<td>0.2792552</td>\n",
       "<td>0.3510409</td>\n",
       "<td>161.0</td></tr>\n",
       "<tr><td>max accuracy</td>\n",
       "<td>0.5584525</td>\n",
       "<td>0.8172599</td>\n",
       "<td>29.0</td></tr>\n",
       "<tr><td>max precision</td>\n",
       "<td>0.8041252</td>\n",
       "<td>0.8333333</td>\n",
       "<td>2.0</td></tr>\n",
       "<tr><td>max recall</td>\n",
       "<td>0.0349454</td>\n",
       "<td>1.0</td>\n",
       "<td>397.0</td></tr>\n",
       "<tr><td>max specificity</td>\n",
       "<td>0.8577401</td>\n",
       "<td>0.9999925</td>\n",
       "<td>0.0</td></tr>\n",
       "<tr><td>max absolute_mcc</td>\n",
       "<td>0.2117227</td>\n",
       "<td>0.2119827</td>\n",
       "<td>217.0</td></tr>\n",
       "<tr><td>max min_per_class_accuracy</td>\n",
       "<td>0.1786821</td>\n",
       "<td>0.6319963</td>\n",
       "<td>251.0</td></tr>\n",
       "<tr><td>max mean_per_class_accuracy</td>\n",
       "<td>0.1872562</td>\n",
       "<td>0.6323179</td>\n",
       "<td>242.0</td></tr></table></div>"
      ],
      "text/plain": [
       "metric                       threshold    value     idx\n",
       "---------------------------  -----------  --------  -----\n",
       "max f1                       0.191687     0.387556  237\n",
       "max f2                       0.111637     0.552506  324\n",
       "max f0point5                 0.279255     0.351041  161\n",
       "max accuracy                 0.558453     0.81726   29\n",
       "max precision                0.804125     0.833333  2\n",
       "max recall                   0.0349454    1         397\n",
       "max specificity              0.85774      0.999993  0\n",
       "max absolute_mcc             0.211723     0.211983  217\n",
       "max min_per_class_accuracy   0.178682     0.631996  251\n",
       "max mean_per_class_accuracy  0.187256     0.632318  242"
      ]
     },
     "metadata": {},
     "output_type": "display_data"
    },
    {
     "name": "stdout",
     "output_type": "stream",
     "text": [
      "Gains/Lift Table: Avg response rate: 18.30 %, avg score: 18.28 %\n",
      "\n"
     ]
    },
    {
     "data": {
      "text/html": [
       "<div style=\"overflow:auto\"><table style=\"width:50%\"><tr><td><b></b></td>\n",
       "<td><b>group</b></td>\n",
       "<td><b>cumulative_data_fraction</b></td>\n",
       "<td><b>lower_threshold</b></td>\n",
       "<td><b>lift</b></td>\n",
       "<td><b>cumulative_lift</b></td>\n",
       "<td><b>response_rate</b></td>\n",
       "<td><b>score</b></td>\n",
       "<td><b>cumulative_response_rate</b></td>\n",
       "<td><b>cumulative_score</b></td>\n",
       "<td><b>capture_rate</b></td>\n",
       "<td><b>cumulative_capture_rate</b></td>\n",
       "<td><b>gain</b></td>\n",
       "<td><b>cumulative_gain</b></td></tr>\n",
       "<tr><td></td>\n",
       "<td>1</td>\n",
       "<td>0.0100008</td>\n",
       "<td>0.4970002</td>\n",
       "<td>2.7416537</td>\n",
       "<td>2.7416537</td>\n",
       "<td>0.5018293</td>\n",
       "<td>0.5522941</td>\n",
       "<td>0.5018293</td>\n",
       "<td>0.5522941</td>\n",
       "<td>0.0274187</td>\n",
       "<td>0.0274187</td>\n",
       "<td>174.1653659</td>\n",
       "<td>174.1653659</td></tr>\n",
       "<tr><td></td>\n",
       "<td>2</td>\n",
       "<td>0.0200016</td>\n",
       "<td>0.4507173</td>\n",
       "<td>2.5451074</td>\n",
       "<td>2.6433805</td>\n",
       "<td>0.4658537</td>\n",
       "<td>0.4710192</td>\n",
       "<td>0.4838415</td>\n",
       "<td>0.5116566</td>\n",
       "<td>0.0254531</td>\n",
       "<td>0.0528718</td>\n",
       "<td>154.5107406</td>\n",
       "<td>164.3380532</td></tr>\n",
       "<tr><td></td>\n",
       "<td>3</td>\n",
       "<td>0.0300024</td>\n",
       "<td>0.4230844</td>\n",
       "<td>2.4118557</td>\n",
       "<td>2.5662056</td>\n",
       "<td>0.4414634</td>\n",
       "<td>0.4363476</td>\n",
       "<td>0.4697154</td>\n",
       "<td>0.4865536</td>\n",
       "<td>0.0241205</td>\n",
       "<td>0.0769923</td>\n",
       "<td>141.1855709</td>\n",
       "<td>156.6205591</td></tr>\n",
       "<tr><td></td>\n",
       "<td>4</td>\n",
       "<td>0.0400032</td>\n",
       "<td>0.4015286</td>\n",
       "<td>2.2286346</td>\n",
       "<td>2.4818129</td>\n",
       "<td>0.4079268</td>\n",
       "<td>0.4117185</td>\n",
       "<td>0.4542683</td>\n",
       "<td>0.4678449</td>\n",
       "<td>0.0222881</td>\n",
       "<td>0.0992804</td>\n",
       "<td>122.8634627</td>\n",
       "<td>148.1812850</td></tr>\n",
       "<tr><td></td>\n",
       "<td>5</td>\n",
       "<td>0.0500040</td>\n",
       "<td>0.3832029</td>\n",
       "<td>2.1020455</td>\n",
       "<td>2.4058594</td>\n",
       "<td>0.3847561</td>\n",
       "<td>0.3921055</td>\n",
       "<td>0.4403659</td>\n",
       "<td>0.4526970</td>\n",
       "<td>0.0210221</td>\n",
       "<td>0.1203025</td>\n",
       "<td>110.2045515</td>\n",
       "<td>140.5859383</td></tr>\n",
       "<tr><td></td>\n",
       "<td>6</td>\n",
       "<td>0.1000018</td>\n",
       "<td>0.3215743</td>\n",
       "<td>1.8970693</td>\n",
       "<td>2.1514798</td>\n",
       "<td>0.3472375</td>\n",
       "<td>0.3495094</td>\n",
       "<td>0.3938045</td>\n",
       "<td>0.4011063</td>\n",
       "<td>0.0948494</td>\n",
       "<td>0.2151519</td>\n",
       "<td>89.7069252</td>\n",
       "<td>115.1479830</td></tr>\n",
       "<tr><td></td>\n",
       "<td>7</td>\n",
       "<td>0.1499997</td>\n",
       "<td>0.2819107</td>\n",
       "<td>1.6918366</td>\n",
       "<td>1.9982717</td>\n",
       "<td>0.3096719</td>\n",
       "<td>0.3005441</td>\n",
       "<td>0.3657614</td>\n",
       "<td>0.3675870</td>\n",
       "<td>0.0845882</td>\n",
       "<td>0.2997401</td>\n",
       "<td>69.1836611</td>\n",
       "<td>99.8271652</td></tr>\n",
       "<tr><td></td>\n",
       "<td>8</td>\n",
       "<td>0.2000037</td>\n",
       "<td>0.2532015</td>\n",
       "<td>1.4624374</td>\n",
       "<td>1.8643049</td>\n",
       "<td>0.2676829</td>\n",
       "<td>0.2669469</td>\n",
       "<td>0.3412403</td>\n",
       "<td>0.3424254</td>\n",
       "<td>0.0731277</td>\n",
       "<td>0.3728678</td>\n",
       "<td>46.2437371</td>\n",
       "<td>86.4304913</td></tr>\n",
       "<tr><td></td>\n",
       "<td>9</td>\n",
       "<td>0.2999994</td>\n",
       "<td>0.2121197</td>\n",
       "<td>1.3216849</td>\n",
       "<td>1.6834389</td>\n",
       "<td>0.2419197</td>\n",
       "<td>0.2312467</td>\n",
       "<td>0.3081348</td>\n",
       "<td>0.3053674</td>\n",
       "<td>0.1321628</td>\n",
       "<td>0.5050307</td>\n",
       "<td>32.1684883</td>\n",
       "<td>68.3438923</td></tr>\n",
       "<tr><td></td>\n",
       "<td>10</td>\n",
       "<td>0.4000012</td>\n",
       "<td>0.1824547</td>\n",
       "<td>1.1067228</td>\n",
       "<td>1.5392577</td>\n",
       "<td>0.2025733</td>\n",
       "<td>0.1966832</td>\n",
       "<td>0.2817440</td>\n",
       "<td>0.2781959</td>\n",
       "<td>0.1106743</td>\n",
       "<td>0.6157050</td>\n",
       "<td>10.6722824</td>\n",
       "<td>53.9257700</td></tr>\n",
       "<tr><td></td>\n",
       "<td>11</td>\n",
       "<td>0.5000030</td>\n",
       "<td>0.1584768</td>\n",
       "<td>0.9614696</td>\n",
       "<td>1.4236987</td>\n",
       "<td>0.1759863</td>\n",
       "<td>0.1701032</td>\n",
       "<td>0.2605922</td>\n",
       "<td>0.2565771</td>\n",
       "<td>0.0961487</td>\n",
       "<td>0.7118537</td>\n",
       "<td>-3.8530382</td>\n",
       "<td>42.3698674</td></tr>\n",
       "<tr><td></td>\n",
       "<td>12</td>\n",
       "<td>0.5999988</td>\n",
       "<td>0.1383892</td>\n",
       "<td>0.8182652</td>\n",
       "<td>1.3227972</td>\n",
       "<td>0.1497744</td>\n",
       "<td>0.1481961</td>\n",
       "<td>0.2421233</td>\n",
       "<td>0.2385143</td>\n",
       "<td>0.0818230</td>\n",
       "<td>0.7936767</td>\n",
       "<td>-18.1734794</td>\n",
       "<td>32.2797198</td></tr>\n",
       "<tr><td></td>\n",
       "<td>13</td>\n",
       "<td>0.7000006</td>\n",
       "<td>0.1198633</td>\n",
       "<td>0.7009467</td>\n",
       "<td>1.2339599</td>\n",
       "<td>0.1283005</td>\n",
       "<td>0.1290601</td>\n",
       "<td>0.2258627</td>\n",
       "<td>0.2228777</td>\n",
       "<td>0.0700959</td>\n",
       "<td>0.8637727</td>\n",
       "<td>-29.9053335</td>\n",
       "<td>23.3959860</td></tr>\n",
       "<tr><td></td>\n",
       "<td>14</td>\n",
       "<td>0.7999963</td>\n",
       "<td>0.1015557</td>\n",
       "<td>0.5823809</td>\n",
       "<td>1.1525156</td>\n",
       "<td>0.1065984</td>\n",
       "<td>0.1108010</td>\n",
       "<td>0.2109552</td>\n",
       "<td>0.2088687</td>\n",
       "<td>0.0582356</td>\n",
       "<td>0.9220083</td>\n",
       "<td>-41.7619064</td>\n",
       "<td>15.2515599</td></tr>\n",
       "<tr><td></td>\n",
       "<td>15</td>\n",
       "<td>0.8999982</td>\n",
       "<td>0.0811692</td>\n",
       "<td>0.4824006</td>\n",
       "<td>1.0780569</td>\n",
       "<td>0.0882981</td>\n",
       "<td>0.0917225</td>\n",
       "<td>0.1973263</td>\n",
       "<td>0.1958522</td>\n",
       "<td>0.0482409</td>\n",
       "<td>0.9702492</td>\n",
       "<td>-51.7599443</td>\n",
       "<td>7.8056858</td></tr>\n",
       "<tr><td></td>\n",
       "<td>16</td>\n",
       "<td>1.0</td>\n",
       "<td>0.0205146</td>\n",
       "<td>0.2975026</td>\n",
       "<td>1.0</td>\n",
       "<td>0.0544545</td>\n",
       "<td>0.0654100</td>\n",
       "<td>0.1830389</td>\n",
       "<td>0.1828077</td>\n",
       "<td>0.0297508</td>\n",
       "<td>1.0</td>\n",
       "<td>-70.2497447</td>\n",
       "<td>0.0</td></tr></table></div>"
      ],
      "text/plain": [
       "    group    cumulative_data_fraction    lower_threshold    lift      cumulative_lift    response_rate    score      cumulative_response_rate    cumulative_score    capture_rate    cumulative_capture_rate    gain      cumulative_gain\n",
       "--  -------  --------------------------  -----------------  --------  -----------------  ---------------  ---------  --------------------------  ------------------  --------------  -------------------------  --------  -----------------\n",
       "    1        0.0100008                   0.497              2.74165   2.74165            0.501829         0.552294   0.501829                    0.552294            0.0274187       0.0274187                  174.165   174.165\n",
       "    2        0.0200016                   0.450717           2.54511   2.64338            0.465854         0.471019   0.483841                    0.511657            0.0254531       0.0528718                  154.511   164.338\n",
       "    3        0.0300024                   0.423084           2.41186   2.56621            0.441463         0.436348   0.469715                    0.486554            0.0241205       0.0769923                  141.186   156.621\n",
       "    4        0.0400032                   0.401529           2.22863   2.48181            0.407927         0.411719   0.454268                    0.467845            0.0222881       0.0992804                  122.863   148.181\n",
       "    5        0.050004                    0.383203           2.10205   2.40586            0.384756         0.392106   0.440366                    0.452697            0.0210221       0.120303                   110.205   140.586\n",
       "    6        0.100002                    0.321574           1.89707   2.15148            0.347237         0.349509   0.393805                    0.401106            0.0948494       0.215152                   89.7069   115.148\n",
       "    7        0.15                        0.281911           1.69184   1.99827            0.309672         0.300544   0.365761                    0.367587            0.0845882       0.29974                    69.1837   99.8272\n",
       "    8        0.200004                    0.253201           1.46244   1.8643             0.267683         0.266947   0.34124                     0.342425            0.0731277       0.372868                   46.2437   86.4305\n",
       "    9        0.299999                    0.21212            1.32168   1.68344            0.24192          0.231247   0.308135                    0.305367            0.132163        0.505031                   32.1685   68.3439\n",
       "    10       0.400001                    0.182455           1.10672   1.53926            0.202573         0.196683   0.281744                    0.278196            0.110674        0.615705                   10.6723   53.9258\n",
       "    11       0.500003                    0.158477           0.96147   1.4237             0.175986         0.170103   0.260592                    0.256577            0.0961487       0.711854                   -3.85304  42.3699\n",
       "    12       0.599999                    0.138389           0.818265  1.3228             0.149774         0.148196   0.242123                    0.238514            0.081823        0.793677                   -18.1735  32.2797\n",
       "    13       0.700001                    0.119863           0.700947  1.23396            0.128301         0.12906    0.225863                    0.222878            0.0700959       0.863773                   -29.9053  23.396\n",
       "    14       0.799996                    0.101556           0.582381  1.15252            0.106598         0.110801   0.210955                    0.208869            0.0582356       0.922008                   -41.7619  15.2516\n",
       "    15       0.899998                    0.0811692          0.482401  1.07806            0.0882981        0.0917225  0.197326                    0.195852            0.0482409       0.970249                   -51.7599  7.80569\n",
       "    16       1                           0.0205146          0.297503  1                  0.0544545        0.06541    0.183039                    0.182808            0.0297508       1                          -70.2497  0"
      ]
     },
     "metadata": {},
     "output_type": "display_data"
    },
    {
     "name": "stdout",
     "output_type": "stream",
     "text": [
      "\n",
      "Cross-Validation Metrics Summary: \n"
     ]
    },
    {
     "data": {
      "text/html": [
       "<div style=\"overflow:auto\"><table style=\"width:50%\"><tr><td><b></b></td>\n",
       "<td><b>mean</b></td>\n",
       "<td><b>sd</b></td>\n",
       "<td><b>cv_1_valid</b></td>\n",
       "<td><b>cv_2_valid</b></td>\n",
       "<td><b>cv_3_valid</b></td>\n",
       "<td><b>cv_4_valid</b></td>\n",
       "<td><b>cv_5_valid</b></td></tr>\n",
       "<tr><td>accuracy</td>\n",
       "<td>0.6603754</td>\n",
       "<td>0.0096880</td>\n",
       "<td>0.6769925</td>\n",
       "<td>0.6694311</td>\n",
       "<td>0.654755</td>\n",
       "<td>0.6371619</td>\n",
       "<td>0.6635363</td></tr>\n",
       "<tr><td>auc</td>\n",
       "<td>0.6830261</td>\n",
       "<td>0.0016069</td>\n",
       "<td>0.6863610</td>\n",
       "<td>0.6827682</td>\n",
       "<td>0.6847095</td>\n",
       "<td>0.6801611</td>\n",
       "<td>0.6811311</td></tr>\n",
       "<tr><td>err</td>\n",
       "<td>0.3396246</td>\n",
       "<td>0.0096880</td>\n",
       "<td>0.3230075</td>\n",
       "<td>0.3305689</td>\n",
       "<td>0.345245</td>\n",
       "<td>0.3628381</td>\n",
       "<td>0.3364637</td></tr>\n",
       "<tr><td>err_count</td>\n",
       "<td>11138.8</td>\n",
       "<td>317.65182</td>\n",
       "<td>10594.0</td>\n",
       "<td>10842.0</td>\n",
       "<td>11323.0</td>\n",
       "<td>11900.0</td>\n",
       "<td>11035.0</td></tr>\n",
       "<tr><td>f0point5</td>\n",
       "<td>0.3224245</td>\n",
       "<td>0.0029695</td>\n",
       "<td>0.3251890</td>\n",
       "<td>0.3235183</td>\n",
       "<td>0.3234241</td>\n",
       "<td>0.3142275</td>\n",
       "<td>0.3257639</td></tr>\n",
       "<tr><td>f1</td>\n",
       "<td>0.3880563</td>\n",
       "<td>0.0018044</td>\n",
       "<td>0.3871341</td>\n",
       "<td>0.3858616</td>\n",
       "<td>0.3919231</td>\n",
       "<td>0.3852671</td>\n",
       "<td>0.3900956</td></tr>\n",
       "<tr><td>f2</td>\n",
       "<td>0.4874666</td>\n",
       "<td>0.0061627</td>\n",
       "<td>0.4782323</td>\n",
       "<td>0.477968</td>\n",
       "<td>0.4972338</td>\n",
       "<td>0.4978107</td>\n",
       "<td>0.4860882</td></tr>\n",
       "<tr><td>lift_top_group</td>\n",
       "<td>2.7381501</td>\n",
       "<td>0.0276118</td>\n",
       "<td>2.7121587</td>\n",
       "<td>2.7535036</td>\n",
       "<td>2.7387934</td>\n",
       "<td>2.6854308</td>\n",
       "<td>2.8008642</td></tr>\n",
       "<tr><td>logloss</td>\n",
       "<td>0.4439307</td>\n",
       "<td>0.0022263</td>\n",
       "<td>0.4383353</td>\n",
       "<td>0.4432947</td>\n",
       "<td>0.4442467</td>\n",
       "<td>0.4465309</td>\n",
       "<td>0.4472460</td></tr>\n",
       "<tr><td>max_per_class_error</td>\n",
       "<td>0.4117869</td>\n",
       "<td>0.0144380</td>\n",
       "<td>0.4327852</td>\n",
       "<td>0.4315755</td>\n",
       "<td>0.3942563</td>\n",
       "<td>0.3817971</td>\n",
       "<td>0.4185204</td></tr>\n",
       "<tr><td>mcc</td>\n",
       "<td>0.2120215</td>\n",
       "<td>0.0030359</td>\n",
       "<td>0.2164339</td>\n",
       "<td>0.2102332</td>\n",
       "<td>0.2161692</td>\n",
       "<td>0.2048038</td>\n",
       "<td>0.2124675</td></tr>\n",
       "<tr><td>mean_per_class_accuracy</td>\n",
       "<td>0.6323528</td>\n",
       "<td>0.0016153</td>\n",
       "<td>0.6341408</td>\n",
       "<td>0.6302169</td>\n",
       "<td>0.6357632</td>\n",
       "<td>0.6298188</td>\n",
       "<td>0.6318241</td></tr>\n",
       "<tr><td>mean_per_class_error</td>\n",
       "<td>0.3676472</td>\n",
       "<td>0.0016153</td>\n",
       "<td>0.3658591</td>\n",
       "<td>0.3697831</td>\n",
       "<td>0.3642368</td>\n",
       "<td>0.3701812</td>\n",
       "<td>0.3681759</td></tr>\n",
       "<tr><td>mse</td>\n",
       "<td>0.1396585</td>\n",
       "<td>0.0009110</td>\n",
       "<td>0.1373554</td>\n",
       "<td>0.1394032</td>\n",
       "<td>0.1398165</td>\n",
       "<td>0.1407514</td>\n",
       "<td>0.1409661</td></tr>\n",
       "<tr><td>precision</td>\n",
       "<td>0.2897802</td>\n",
       "<td>0.0036682</td>\n",
       "<td>0.2938439</td>\n",
       "<td>0.2920597</td>\n",
       "<td>0.2896721</td>\n",
       "<td>0.2798289</td>\n",
       "<td>0.2934963</td></tr>\n",
       "<tr><td>r2</td>\n",
       "<td>0.0660439</td>\n",
       "<td>0.0015872</td>\n",
       "<td>0.0688363</td>\n",
       "<td>0.0663939</td>\n",
       "<td>0.0675088</td>\n",
       "<td>0.0622383</td>\n",
       "<td>0.0652420</td></tr>\n",
       "<tr><td>recall</td>\n",
       "<td>0.5882131</td>\n",
       "<td>0.0144380</td>\n",
       "<td>0.5672148</td>\n",
       "<td>0.5684246</td>\n",
       "<td>0.6057437</td>\n",
       "<td>0.6182029</td>\n",
       "<td>0.5814797</td></tr>\n",
       "<tr><td>rmse</td>\n",
       "<td>0.3737052</td>\n",
       "<td>0.0012211</td>\n",
       "<td>0.3706149</td>\n",
       "<td>0.3733674</td>\n",
       "<td>0.3739205</td>\n",
       "<td>0.3751685</td>\n",
       "<td>0.3754545</td></tr>\n",
       "<tr><td>specificity</td>\n",
       "<td>0.6764925</td>\n",
       "<td>0.0149018</td>\n",
       "<td>0.701067</td>\n",
       "<td>0.6920093</td>\n",
       "<td>0.6657827</td>\n",
       "<td>0.6414347</td>\n",
       "<td>0.6821685</td></tr></table></div>"
      ],
      "text/plain": [
       "                         mean       sd           cv_1_valid    cv_2_valid    cv_3_valid    cv_4_valid    cv_5_valid\n",
       "-----------------------  ---------  -----------  ------------  ------------  ------------  ------------  ------------\n",
       "accuracy                 0.660375   0.00968802   0.676992      0.669431      0.654755      0.637162      0.663536\n",
       "auc                      0.683026   0.00160689   0.686361      0.682768      0.684709      0.680161      0.681131\n",
       "err                      0.339625   0.00968802   0.323008      0.330569      0.345245      0.362838      0.336464\n",
       "err_count                11138.8    317.652      10594         10842         11323         11900         11035\n",
       "f0point5                 0.322425   0.00296953   0.325189      0.323518      0.323424      0.314227      0.325764\n",
       "f1                       0.388056   0.00180439   0.387134      0.385862      0.391923      0.385267      0.390096\n",
       "f2                       0.487467   0.00616274   0.478232      0.477968      0.497234      0.497811      0.486088\n",
       "lift_top_group           2.73815    0.0276118    2.71216       2.7535        2.73879       2.68543       2.80086\n",
       "logloss                  0.443931   0.00222633   0.438335      0.443295      0.444247      0.446531      0.447246\n",
       "max_per_class_error      0.411787   0.014438     0.432785      0.431575      0.394256      0.381797      0.41852\n",
       "mcc                      0.212022   0.00303587   0.216434      0.210233      0.216169      0.204804      0.212467\n",
       "mean_per_class_accuracy  0.632353   0.00161526   0.634141      0.630217      0.635763      0.629819      0.631824\n",
       "mean_per_class_error     0.367647   0.00161526   0.365859      0.369783      0.364237      0.370181      0.368176\n",
       "mse                      0.139659   0.000910958  0.137355      0.139403      0.139817      0.140751      0.140966\n",
       "precision                0.28978    0.00366823   0.293844      0.29206       0.289672      0.279829      0.293496\n",
       "r2                       0.0660439  0.00158717   0.0688363     0.0663939     0.0675088     0.0622383     0.065242\n",
       "recall                   0.588213   0.014438     0.567215      0.568425      0.605744      0.618203      0.58148\n",
       "rmse                     0.373705   0.00122112   0.370615      0.373367      0.37392       0.375169      0.375455\n",
       "specificity              0.676492   0.0149018    0.701067      0.692009      0.665783      0.641435      0.682168"
      ]
     },
     "metadata": {},
     "output_type": "display_data"
    },
    {
     "name": "stdout",
     "output_type": "stream",
     "text": [
      "Scoring History: \n"
     ]
    },
    {
     "data": {
      "text/html": [
       "<div style=\"overflow:auto\"><table style=\"width:50%\"><tr><td><b></b></td>\n",
       "<td><b>timestamp</b></td>\n",
       "<td><b>duration</b></td>\n",
       "<td><b>number_of_trees</b></td>\n",
       "<td><b>training_rmse</b></td>\n",
       "<td><b>training_logloss</b></td>\n",
       "<td><b>training_auc</b></td>\n",
       "<td><b>training_pr_auc</b></td>\n",
       "<td><b>training_lift</b></td>\n",
       "<td><b>training_classification_error</b></td></tr>\n",
       "<tr><td></td>\n",
       "<td>2019-08-08 23:13:36</td>\n",
       "<td>20.460 sec</td>\n",
       "<td>0.0</td>\n",
       "<td>0.3866984</td>\n",
       "<td>0.4759704</td>\n",
       "<td>0.5</td>\n",
       "<td>0.0</td>\n",
       "<td>1.0</td>\n",
       "<td>0.8169611</td></tr>\n",
       "<tr><td></td>\n",
       "<td>2019-08-08 23:13:37</td>\n",
       "<td>20.670 sec</td>\n",
       "<td>5.0</td>\n",
       "<td>0.3792156</td>\n",
       "<td>0.4579520</td>\n",
       "<td>0.6823686</td>\n",
       "<td>0.3357337</td>\n",
       "<td>3.2455036</td>\n",
       "<td>0.3413441</td></tr>\n",
       "<tr><td></td>\n",
       "<td>2019-08-08 23:13:37</td>\n",
       "<td>20.901 sec</td>\n",
       "<td>10.0</td>\n",
       "<td>0.3753431</td>\n",
       "<td>0.4490493</td>\n",
       "<td>0.6934877</td>\n",
       "<td>0.3507872</td>\n",
       "<td>3.4312312</td>\n",
       "<td>0.3380268</td></tr>\n",
       "<tr><td></td>\n",
       "<td>2019-08-08 23:13:37</td>\n",
       "<td>21.102 sec</td>\n",
       "<td>15.0</td>\n",
       "<td>0.3729609</td>\n",
       "<td>0.4435630</td>\n",
       "<td>0.6990067</td>\n",
       "<td>0.3572672</td>\n",
       "<td>3.4945257</td>\n",
       "<td>0.3019874</td></tr>\n",
       "<tr><td></td>\n",
       "<td>2019-08-08 23:13:37</td>\n",
       "<td>21.324 sec</td>\n",
       "<td>20.0</td>\n",
       "<td>0.3714382</td>\n",
       "<td>0.4400385</td>\n",
       "<td>0.7025826</td>\n",
       "<td>0.3619807</td>\n",
       "<td>3.5811393</td>\n",
       "<td>0.3095794</td></tr>\n",
       "<tr><td></td>\n",
       "<td>2019-08-08 23:13:37</td>\n",
       "<td>21.525 sec</td>\n",
       "<td>25.0</td>\n",
       "<td>0.3702284</td>\n",
       "<td>0.4372671</td>\n",
       "<td>0.7059447</td>\n",
       "<td>0.3665956</td>\n",
       "<td>3.6077897</td>\n",
       "<td>0.3043473</td></tr>\n",
       "<tr><td></td>\n",
       "<td>2019-08-08 23:13:38</td>\n",
       "<td>21.721 sec</td>\n",
       "<td>30.0</td>\n",
       "<td>0.3693322</td>\n",
       "<td>0.4351535</td>\n",
       "<td>0.7091356</td>\n",
       "<td>0.3706733</td>\n",
       "<td>3.6077897</td>\n",
       "<td>0.3056157</td></tr>\n",
       "<tr><td></td>\n",
       "<td>2019-08-08 23:13:38</td>\n",
       "<td>21.934 sec</td>\n",
       "<td>35.0</td>\n",
       "<td>0.3685210</td>\n",
       "<td>0.4332944</td>\n",
       "<td>0.7126032</td>\n",
       "<td>0.3753536</td>\n",
       "<td>3.6844094</td>\n",
       "<td>0.2967918</td></tr>\n",
       "<tr><td></td>\n",
       "<td>2019-08-08 23:13:38</td>\n",
       "<td>22.154 sec</td>\n",
       "<td>40.0</td>\n",
       "<td>0.3678381</td>\n",
       "<td>0.4317670</td>\n",
       "<td>0.7150312</td>\n",
       "<td>0.3794166</td>\n",
       "<td>3.7410414</td>\n",
       "<td>0.2979687</td></tr>\n",
       "<tr><td></td>\n",
       "<td>2019-08-08 23:13:38</td>\n",
       "<td>22.430 sec</td>\n",
       "<td>45.0</td>\n",
       "<td>0.3672033</td>\n",
       "<td>0.4303547</td>\n",
       "<td>0.7179984</td>\n",
       "<td>0.3840169</td>\n",
       "<td>3.7610291</td>\n",
       "<td>0.2964869</td></tr>\n",
       "<tr><td></td>\n",
       "<td>2019-08-08 23:13:39</td>\n",
       "<td>22.805 sec</td>\n",
       "<td>50.0</td>\n",
       "<td>0.3666775</td>\n",
       "<td>0.4291958</td>\n",
       "<td>0.7201850</td>\n",
       "<td>0.3876687</td>\n",
       "<td>3.8143298</td>\n",
       "<td>0.2921024</td></tr>\n",
       "<tr><td></td>\n",
       "<td>2019-08-08 23:13:39</td>\n",
       "<td>23.076 sec</td>\n",
       "<td>54.0</td>\n",
       "<td>0.3663448</td>\n",
       "<td>0.4284534</td>\n",
       "<td>0.7215722</td>\n",
       "<td>0.3898715</td>\n",
       "<td>3.8276550</td>\n",
       "<td>0.2989932</td></tr></table></div>"
      ],
      "text/plain": [
       "    timestamp            duration    number_of_trees    training_rmse    training_logloss    training_auc    training_pr_auc    training_lift    training_classification_error\n",
       "--  -------------------  ----------  -----------------  ---------------  ------------------  --------------  -----------------  ---------------  -------------------------------\n",
       "    2019-08-08 23:13:36  20.460 sec  0                  0.386698         0.47597             0.5             0                  1                0.816961\n",
       "    2019-08-08 23:13:37  20.670 sec  5                  0.379216         0.457952            0.682369        0.335734           3.2455           0.341344\n",
       "    2019-08-08 23:13:37  20.901 sec  10                 0.375343         0.449049            0.693488        0.350787           3.43123          0.338027\n",
       "    2019-08-08 23:13:37  21.102 sec  15                 0.372961         0.443563            0.699007        0.357267           3.49453          0.301987\n",
       "    2019-08-08 23:13:37  21.324 sec  20                 0.371438         0.440039            0.702583        0.361981           3.58114          0.309579\n",
       "    2019-08-08 23:13:37  21.525 sec  25                 0.370228         0.437267            0.705945        0.366596           3.60779          0.304347\n",
       "    2019-08-08 23:13:38  21.721 sec  30                 0.369332         0.435154            0.709136        0.370673           3.60779          0.305616\n",
       "    2019-08-08 23:13:38  21.934 sec  35                 0.368521         0.433294            0.712603        0.375354           3.68441          0.296792\n",
       "    2019-08-08 23:13:38  22.154 sec  40                 0.367838         0.431767            0.715031        0.379417           3.74104          0.297969\n",
       "    2019-08-08 23:13:38  22.430 sec  45                 0.367203         0.430355            0.717998        0.384017           3.76103          0.296487\n",
       "    2019-08-08 23:13:39  22.805 sec  50                 0.366677         0.429196            0.720185        0.387669           3.81433          0.292102\n",
       "    2019-08-08 23:13:39  23.076 sec  54                 0.366345         0.428453            0.721572        0.389871           3.82765          0.298993"
      ]
     },
     "metadata": {},
     "output_type": "display_data"
    },
    {
     "name": "stdout",
     "output_type": "stream",
     "text": [
      "Variable Importances: \n"
     ]
    },
    {
     "data": {
      "text/html": [
       "<div style=\"overflow:auto\"><table style=\"width:50%\"><tr><td><b>variable</b></td>\n",
       "<td><b>relative_importance</b></td>\n",
       "<td><b>scaled_importance</b></td>\n",
       "<td><b>percentage</b></td></tr>\n",
       "<tr><td>term</td>\n",
       "<td>2669.8454590</td>\n",
       "<td>1.0</td>\n",
       "<td>0.2270776</td></tr>\n",
       "<tr><td>addr_state</td>\n",
       "<td>1917.2905273</td>\n",
       "<td>0.7181279</td>\n",
       "<td>0.1630708</td></tr>\n",
       "<tr><td>annual_inc</td>\n",
       "<td>1591.6286621</td>\n",
       "<td>0.5961501</td>\n",
       "<td>0.1353723</td></tr>\n",
       "<tr><td>revol_util</td>\n",
       "<td>1339.4873047</td>\n",
       "<td>0.5017097</td>\n",
       "<td>0.1139270</td></tr>\n",
       "<tr><td>purpose</td>\n",
       "<td>1070.2753906</td>\n",
       "<td>0.4008754</td>\n",
       "<td>0.0910298</td></tr>\n",
       "<tr><td>dti</td>\n",
       "<td>999.2017212</td>\n",
       "<td>0.3742545</td>\n",
       "<td>0.0849848</td></tr>\n",
       "<tr><td>loan_amnt</td>\n",
       "<td>686.5073853</td>\n",
       "<td>0.2571338</td>\n",
       "<td>0.0583893</td></tr>\n",
       "<tr><td>emp_length</td>\n",
       "<td>319.0457153</td>\n",
       "<td>0.1194997</td>\n",
       "<td>0.0271357</td></tr>\n",
       "<tr><td>longest_credit_length</td>\n",
       "<td>314.0838928</td>\n",
       "<td>0.1176412</td>\n",
       "<td>0.0267137</td></tr>\n",
       "<tr><td>home_ownership</td>\n",
       "<td>293.0226746</td>\n",
       "<td>0.1097527</td>\n",
       "<td>0.0249224</td></tr>\n",
       "<tr><td>total_acc</td>\n",
       "<td>291.8908691</td>\n",
       "<td>0.1093288</td>\n",
       "<td>0.0248261</td></tr>\n",
       "<tr><td>delinq_2yrs</td>\n",
       "<td>202.0994720</td>\n",
       "<td>0.0756971</td>\n",
       "<td>0.0171891</td></tr>\n",
       "<tr><td>verification_status</td>\n",
       "<td>63.0345192</td>\n",
       "<td>0.0236098</td>\n",
       "<td>0.0053613</td></tr></table></div>"
      ],
      "text/plain": [
       "variable               relative_importance    scaled_importance    percentage\n",
       "---------------------  ---------------------  -------------------  ------------\n",
       "term                   2669.85                1                    0.227078\n",
       "addr_state             1917.29                0.718128             0.163071\n",
       "annual_inc             1591.63                0.59615              0.135372\n",
       "revol_util             1339.49                0.50171              0.113927\n",
       "purpose                1070.28                0.400875             0.0910298\n",
       "dti                    999.202                0.374255             0.0849848\n",
       "loan_amnt              686.507                0.257134             0.0583893\n",
       "emp_length             319.046                0.1195               0.0271357\n",
       "longest_credit_length  314.084                0.117641             0.0267137\n",
       "home_ownership         293.023                0.109753             0.0249224\n",
       "total_acc              291.891                0.109329             0.0248261\n",
       "delinq_2yrs            202.099                0.0756971            0.0171891\n",
       "verification_status    63.0345                0.0236098            0.00536126"
      ]
     },
     "metadata": {},
     "output_type": "display_data"
    },
    {
     "data": {
      "text/plain": []
     },
     "execution_count": 123,
     "metadata": {},
     "output_type": "execute_result"
    }
   ],
   "source": [
    "select_model"
   ]
  },
  {
   "cell_type": "markdown",
   "metadata": {},
   "source": [
    "and performance on test data"
   ]
  },
  {
   "cell_type": "code",
   "execution_count": 125,
   "metadata": {},
   "outputs": [
    {
     "name": "stdout",
     "output_type": "stream",
     "text": [
      "\n",
      "ModelMetricsBinomial: gbm\n",
      "** Reported on test data. **\n",
      "\n",
      "MSE: 0.1339271564945264\n",
      "RMSE: 0.36596059418266114\n",
      "LogLoss: 0.4278539086966178\n",
      "Mean Per-Class Error: 0.33843906329839535\n",
      "AUC: 0.720091203670736\n",
      "pr_auc: 0.3868482286857441\n",
      "Gini: 0.44018240734147196\n",
      "Confusion Matrix (Act/Pred) for max f1 @ threshold = 0.2105595634524753: \n"
     ]
    },
    {
     "data": {
      "text/html": [
       "<div style=\"overflow:auto\"><table style=\"width:50%\"><tr><td><b></b></td>\n",
       "<td><b>0</b></td>\n",
       "<td><b>1</b></td>\n",
       "<td><b>Error</b></td>\n",
       "<td><b>Rate</b></td></tr>\n",
       "<tr><td>0</td>\n",
       "<td>25219.0</td>\n",
       "<td>8249.0</td>\n",
       "<td>0.2465</td>\n",
       "<td> (8249.0/33468.0)</td></tr>\n",
       "<tr><td>1</td>\n",
       "<td>3294.0</td>\n",
       "<td>4163.0</td>\n",
       "<td>0.4417</td>\n",
       "<td> (3294.0/7457.0)</td></tr>\n",
       "<tr><td>Total</td>\n",
       "<td>28513.0</td>\n",
       "<td>12412.0</td>\n",
       "<td>0.2821</td>\n",
       "<td> (11543.0/40925.0)</td></tr></table></div>"
      ],
      "text/plain": [
       "       0      1      Error    Rate\n",
       "-----  -----  -----  -------  -----------------\n",
       "0      25219  8249   0.2465   (8249.0/33468.0)\n",
       "1      3294   4163   0.4417   (3294.0/7457.0)\n",
       "Total  28513  12412  0.2821   (11543.0/40925.0)"
      ]
     },
     "metadata": {},
     "output_type": "display_data"
    },
    {
     "name": "stdout",
     "output_type": "stream",
     "text": [
      "Maximum Metrics: Maximum metrics at their respective thresholds\n",
      "\n"
     ]
    },
    {
     "data": {
      "text/html": [
       "<div style=\"overflow:auto\"><table style=\"width:50%\"><tr><td><b>metric</b></td>\n",
       "<td><b>threshold</b></td>\n",
       "<td><b>value</b></td>\n",
       "<td><b>idx</b></td></tr>\n",
       "<tr><td>max f1</td>\n",
       "<td>0.2105596</td>\n",
       "<td>0.4190447</td>\n",
       "<td>214.0</td></tr>\n",
       "<tr><td>max f2</td>\n",
       "<td>0.1228885</td>\n",
       "<td>0.5653429</td>\n",
       "<td>310.0</td></tr>\n",
       "<tr><td>max f0point5</td>\n",
       "<td>0.2911392</td>\n",
       "<td>0.4062239</td>\n",
       "<td>146.0</td></tr>\n",
       "<tr><td>max accuracy</td>\n",
       "<td>0.4259636</td>\n",
       "<td>0.8238241</td>\n",
       "<td>69.0</td></tr>\n",
       "<tr><td>max precision</td>\n",
       "<td>0.8154610</td>\n",
       "<td>1.0</td>\n",
       "<td>0.0</td></tr>\n",
       "<tr><td>max recall</td>\n",
       "<td>0.0414142</td>\n",
       "<td>1.0</td>\n",
       "<td>394.0</td></tr>\n",
       "<tr><td>max specificity</td>\n",
       "<td>0.8154610</td>\n",
       "<td>1.0</td>\n",
       "<td>0.0</td></tr>\n",
       "<tr><td>max absolute_mcc</td>\n",
       "<td>0.2486880</td>\n",
       "<td>0.2648000</td>\n",
       "<td>178.0</td></tr>\n",
       "<tr><td>max min_per_class_accuracy</td>\n",
       "<td>0.1826177</td>\n",
       "<td>0.6603024</td>\n",
       "<td>241.0</td></tr>\n",
       "<tr><td>max mean_per_class_accuracy</td>\n",
       "<td>0.1807694</td>\n",
       "<td>0.6615609</td>\n",
       "<td>243.0</td></tr></table></div>"
      ],
      "text/plain": [
       "metric                       threshold    value     idx\n",
       "---------------------------  -----------  --------  -----\n",
       "max f1                       0.21056      0.419045  214\n",
       "max f2                       0.122888     0.565343  310\n",
       "max f0point5                 0.291139     0.406224  146\n",
       "max accuracy                 0.425964     0.823824  69\n",
       "max precision                0.815461     1         0\n",
       "max recall                   0.0414142    1         394\n",
       "max specificity              0.815461     1         0\n",
       "max absolute_mcc             0.248688     0.2648    178\n",
       "max min_per_class_accuracy   0.182618     0.660302  241\n",
       "max mean_per_class_accuracy  0.180769     0.661561  243"
      ]
     },
     "metadata": {},
     "output_type": "display_data"
    },
    {
     "name": "stdout",
     "output_type": "stream",
     "text": [
      "Gains/Lift Table: Avg response rate: 18.22 %, avg score: 18.26 %\n",
      "\n"
     ]
    },
    {
     "data": {
      "text/html": [
       "<div style=\"overflow:auto\"><table style=\"width:50%\"><tr><td><b></b></td>\n",
       "<td><b>group</b></td>\n",
       "<td><b>cumulative_data_fraction</b></td>\n",
       "<td><b>lower_threshold</b></td>\n",
       "<td><b>lift</b></td>\n",
       "<td><b>cumulative_lift</b></td>\n",
       "<td><b>response_rate</b></td>\n",
       "<td><b>score</b></td>\n",
       "<td><b>cumulative_response_rate</b></td>\n",
       "<td><b>cumulative_score</b></td>\n",
       "<td><b>capture_rate</b></td>\n",
       "<td><b>cumulative_capture_rate</b></td>\n",
       "<td><b>gain</b></td>\n",
       "<td><b>cumulative_gain</b></td></tr>\n",
       "<tr><td></td>\n",
       "<td>1</td>\n",
       "<td>0.0100183</td>\n",
       "<td>0.4989777</td>\n",
       "<td>3.8283067</td>\n",
       "<td>3.8283067</td>\n",
       "<td>0.6975610</td>\n",
       "<td>0.5553492</td>\n",
       "<td>0.6975610</td>\n",
       "<td>0.5553492</td>\n",
       "<td>0.0383532</td>\n",
       "<td>0.0383532</td>\n",
       "<td>282.8306682</td>\n",
       "<td>282.8306682</td></tr>\n",
       "<tr><td></td>\n",
       "<td>2</td>\n",
       "<td>0.0200122</td>\n",
       "<td>0.4542620</td>\n",
       "<td>3.1130724</td>\n",
       "<td>3.4711262</td>\n",
       "<td>0.5672372</td>\n",
       "<td>0.4740915</td>\n",
       "<td>0.6324786</td>\n",
       "<td>0.5147700</td>\n",
       "<td>0.0311117</td>\n",
       "<td>0.0694649</td>\n",
       "<td>211.3072406</td>\n",
       "<td>247.1126195</td></tr>\n",
       "<tr><td></td>\n",
       "<td>3</td>\n",
       "<td>0.0300061</td>\n",
       "<td>0.4243166</td>\n",
       "<td>2.9386330</td>\n",
       "<td>3.2937730</td>\n",
       "<td>0.5354523</td>\n",
       "<td>0.4387532</td>\n",
       "<td>0.6001629</td>\n",
       "<td>0.4894517</td>\n",
       "<td>0.0293684</td>\n",
       "<td>0.0988333</td>\n",
       "<td>193.8633004</td>\n",
       "<td>229.3773006</td></tr>\n",
       "<tr><td></td>\n",
       "<td>4</td>\n",
       "<td>0.04</td>\n",
       "<td>0.4024696</td>\n",
       "<td>2.5092437</td>\n",
       "<td>3.0977605</td>\n",
       "<td>0.4572127</td>\n",
       "<td>0.4128104</td>\n",
       "<td>0.5644472</td>\n",
       "<td>0.4703031</td>\n",
       "<td>0.0250771</td>\n",
       "<td>0.1239104</td>\n",
       "<td>150.9243706</td>\n",
       "<td>209.7760493</td></tr>\n",
       "<tr><td></td>\n",
       "<td>5</td>\n",
       "<td>0.0500183</td>\n",
       "<td>0.3838080</td>\n",
       "<td>2.5165093</td>\n",
       "<td>2.9813399</td>\n",
       "<td>0.4585366</td>\n",
       "<td>0.3929454</td>\n",
       "<td>0.5432340</td>\n",
       "<td>0.4548089</td>\n",
       "<td>0.0252112</td>\n",
       "<td>0.1491216</td>\n",
       "<td>151.6509287</td>\n",
       "<td>198.1339881</td></tr>\n",
       "<tr><td></td>\n",
       "<td>6</td>\n",
       "<td>0.1000122</td>\n",
       "<td>0.3220714</td>\n",
       "<td>2.1432148</td>\n",
       "<td>2.5623797</td>\n",
       "<td>0.3905181</td>\n",
       "<td>0.3499451</td>\n",
       "<td>0.4668947</td>\n",
       "<td>0.4023898</td>\n",
       "<td>0.1071476</td>\n",
       "<td>0.2562693</td>\n",
       "<td>114.3214777</td>\n",
       "<td>156.2379714</td></tr>\n",
       "<tr><td></td>\n",
       "<td>7</td>\n",
       "<td>0.1500061</td>\n",
       "<td>0.2811686</td>\n",
       "<td>1.7998712</td>\n",
       "<td>2.3082516</td>\n",
       "<td>0.3279570</td>\n",
       "<td>0.3004167</td>\n",
       "<td>0.4205897</td>\n",
       "<td>0.3684043</td>\n",
       "<td>0.0899826</td>\n",
       "<td>0.3462518</td>\n",
       "<td>79.9871233</td>\n",
       "<td>130.8251623</td></tr>\n",
       "<tr><td></td>\n",
       "<td>8</td>\n",
       "<td>0.2</td>\n",
       "<td>0.2523318</td>\n",
       "<td>1.5343165</td>\n",
       "<td>2.1147915</td>\n",
       "<td>0.2795699</td>\n",
       "<td>0.2662726</td>\n",
       "<td>0.3853390</td>\n",
       "<td>0.3428745</td>\n",
       "<td>0.0767065</td>\n",
       "<td>0.4229583</td>\n",
       "<td>53.4316461</td>\n",
       "<td>111.4791471</td></tr>\n",
       "<tr><td></td>\n",
       "<td>9</td>\n",
       "<td>0.3000122</td>\n",
       "<td>0.2110808</td>\n",
       "<td>1.3033140</td>\n",
       "<td>1.8442770</td>\n",
       "<td>0.2374786</td>\n",
       "<td>0.2304174</td>\n",
       "<td>0.3360482</td>\n",
       "<td>0.3053858</td>\n",
       "<td>0.1303473</td>\n",
       "<td>0.5533056</td>\n",
       "<td>30.3314015</td>\n",
       "<td>84.4276955</td></tr>\n",
       "<tr><td></td>\n",
       "<td>10</td>\n",
       "<td>0.4</td>\n",
       "<td>0.1817686</td>\n",
       "<td>1.0997723</td>\n",
       "<td>1.6581735</td>\n",
       "<td>0.2003910</td>\n",
       "<td>0.1955007</td>\n",
       "<td>0.3021381</td>\n",
       "<td>0.2779178</td>\n",
       "<td>0.1099638</td>\n",
       "<td>0.6632694</td>\n",
       "<td>9.9772288</td>\n",
       "<td>65.8173528</td></tr>\n",
       "<tr><td></td>\n",
       "<td>11</td>\n",
       "<td>0.5000122</td>\n",
       "<td>0.1580420</td>\n",
       "<td>0.8635126</td>\n",
       "<td>1.4992258</td>\n",
       "<td>0.1573418</td>\n",
       "<td>0.1696586</td>\n",
       "<td>0.2731760</td>\n",
       "<td>0.2562639</td>\n",
       "<td>0.0863618</td>\n",
       "<td>0.7496312</td>\n",
       "<td>-13.6487422</td>\n",
       "<td>49.9225804</td></tr>\n",
       "<tr><td></td>\n",
       "<td>12</td>\n",
       "<td>0.6</td>\n",
       "<td>0.1378334</td>\n",
       "<td>0.7202167</td>\n",
       "<td>1.3694068</td>\n",
       "<td>0.1312317</td>\n",
       "<td>0.1476127</td>\n",
       "<td>0.2495215</td>\n",
       "<td>0.2381576</td>\n",
       "<td>0.0720129</td>\n",
       "<td>0.8216441</td>\n",
       "<td>-27.9783270</td>\n",
       "<td>36.9406821</td></tr>\n",
       "<tr><td></td>\n",
       "<td>13</td>\n",
       "<td>0.6999878</td>\n",
       "<td>0.1195280</td>\n",
       "<td>0.6464515</td>\n",
       "<td>1.2661383</td>\n",
       "<td>0.1177908</td>\n",
       "<td>0.1286810</td>\n",
       "<td>0.2307048</td>\n",
       "<td>0.2225197</td>\n",
       "<td>0.0646373</td>\n",
       "<td>0.8862813</td>\n",
       "<td>-35.3548484</td>\n",
       "<td>26.6138308</td></tr>\n",
       "<tr><td></td>\n",
       "<td>14</td>\n",
       "<td>0.8</td>\n",
       "<td>0.1017667</td>\n",
       "<td>0.4934358</td>\n",
       "<td>1.1695387</td>\n",
       "<td>0.0899096</td>\n",
       "<td>0.1106989</td>\n",
       "<td>0.2131032</td>\n",
       "<td>0.2085404</td>\n",
       "<td>0.0493496</td>\n",
       "<td>0.9356310</td>\n",
       "<td>-50.6564241</td>\n",
       "<td>16.9538688</td></tr>\n",
       "<tr><td></td>\n",
       "<td>15</td>\n",
       "<td>0.8999878</td>\n",
       "<td>0.0816530</td>\n",
       "<td>0.4238147</td>\n",
       "<td>1.0866895</td>\n",
       "<td>0.0772239</td>\n",
       "<td>0.0921201</td>\n",
       "<td>0.1980072</td>\n",
       "<td>0.1956062</td>\n",
       "<td>0.0423763</td>\n",
       "<td>0.9780072</td>\n",
       "<td>-57.6185313</td>\n",
       "<td>8.6689465</td></tr>\n",
       "<tr><td></td>\n",
       "<td>16</td>\n",
       "<td>1.0</td>\n",
       "<td>0.0261451</td>\n",
       "<td>0.2199007</td>\n",
       "<td>1.0</td>\n",
       "<td>0.0400684</td>\n",
       "<td>0.0657903</td>\n",
       "<td>0.1822114</td>\n",
       "<td>0.1826230</td>\n",
       "<td>0.0219928</td>\n",
       "<td>1.0</td>\n",
       "<td>-78.0099281</td>\n",
       "<td>0.0</td></tr></table></div>"
      ],
      "text/plain": [
       "    group    cumulative_data_fraction    lower_threshold    lift      cumulative_lift    response_rate    score      cumulative_response_rate    cumulative_score    capture_rate    cumulative_capture_rate    gain      cumulative_gain\n",
       "--  -------  --------------------------  -----------------  --------  -----------------  ---------------  ---------  --------------------------  ------------------  --------------  -------------------------  --------  -----------------\n",
       "    1        0.0100183                   0.498978           3.82831   3.82831            0.697561         0.555349   0.697561                    0.555349            0.0383532       0.0383532                  282.831   282.831\n",
       "    2        0.0200122                   0.454262           3.11307   3.47113            0.567237         0.474092   0.632479                    0.51477             0.0311117       0.0694649                  211.307   247.113\n",
       "    3        0.0300061                   0.424317           2.93863   3.29377            0.535452         0.438753   0.600163                    0.489452            0.0293684       0.0988333                  193.863   229.377\n",
       "    4        0.04                        0.40247            2.50924   3.09776            0.457213         0.41281    0.564447                    0.470303            0.0250771       0.12391                    150.924   209.776\n",
       "    5        0.0500183                   0.383808           2.51651   2.98134            0.458537         0.392945   0.543234                    0.454809            0.0252112       0.149122                   151.651   198.134\n",
       "    6        0.100012                    0.322071           2.14321   2.56238            0.390518         0.349945   0.466895                    0.40239             0.107148        0.256269                   114.321   156.238\n",
       "    7        0.150006                    0.281169           1.79987   2.30825            0.327957         0.300417   0.42059                     0.368404            0.0899826       0.346252                   79.9871   130.825\n",
       "    8        0.2                         0.252332           1.53432   2.11479            0.27957          0.266273   0.385339                    0.342875            0.0767065       0.422958                   53.4316   111.479\n",
       "    9        0.300012                    0.211081           1.30331   1.84428            0.237479         0.230417   0.336048                    0.305386            0.130347        0.553306                   30.3314   84.4277\n",
       "    10       0.4                         0.181769           1.09977   1.65817            0.200391         0.195501   0.302138                    0.277918            0.109964        0.663269                   9.97723   65.8174\n",
       "    11       0.500012                    0.158042           0.863513  1.49923            0.157342         0.169659   0.273176                    0.256264            0.0863618       0.749631                   -13.6487  49.9226\n",
       "    12       0.6                         0.137833           0.720217  1.36941            0.131232         0.147613   0.249521                    0.238158            0.0720129       0.821644                   -27.9783  36.9407\n",
       "    13       0.699988                    0.119528           0.646452  1.26614            0.117791         0.128681   0.230705                    0.22252             0.0646373       0.886281                   -35.3548  26.6138\n",
       "    14       0.8                         0.101767           0.493436  1.16954            0.0899096        0.110699   0.213103                    0.20854             0.0493496       0.935631                   -50.6564  16.9539\n",
       "    15       0.899988                    0.081653           0.423815  1.08669            0.0772239        0.0921201  0.198007                    0.195606            0.0423763       0.978007                   -57.6185  8.66895\n",
       "    16       1                           0.0261451          0.219901  1                  0.0400684        0.0657903  0.182211                    0.182623            0.0219928       1                          -78.0099  0"
      ]
     },
     "metadata": {},
     "output_type": "display_data"
    },
    {
     "name": "stdout",
     "output_type": "stream",
     "text": [
      "\n"
     ]
    },
    {
     "data": {
      "text/plain": []
     },
     "execution_count": 125,
     "metadata": {},
     "output_type": "execute_result"
    }
   ],
   "source": [
    "perf = select_model.model_performance(test_data=test)\n",
    "perf"
   ]
  },
  {
   "cell_type": "markdown",
   "metadata": {},
   "source": [
    "and print out a side-by-side comparison"
   ]
  },
  {
   "cell_type": "code",
   "execution_count": 128,
   "metadata": {},
   "outputs": [
    {
     "name": "stdout",
     "output_type": "stream",
     "text": [
      "AUC: train = 0.7216, xval = 0.6830, test = 0.7201\n",
      "Logloss: train = 0.4285, xval = 0.4439, test = 0.4279\n"
     ]
    }
   ],
   "source": [
    "print(\"AUC: train = {:.4f}, xval = {:.4f}, test = {:.4f}\" \\\n",
    "      .format(best_model.auc(train = True), best_model.auc(xval = True), perf.auc()))\n",
    "print(\"Logloss: train = {:.4f}, xval = {:.4f}, test = {:.4f}\" \\\n",
    "      .format(best_model.logloss(train = True), best_model.logloss(xval = True), perf.logloss()))"
   ]
  },
  {
   "cell_type": "markdown",
   "metadata": {},
   "source": [
    "(Check these values!!)"
   ]
  },
  {
   "cell_type": "markdown",
   "metadata": {},
   "source": [
    "## Begin Feature Engineering\n",
    "\n",
    "The goal of this section is to improve upon these predictors through a number of feature engineering steps. In particular, we will perform four feature engineering tasks on se variables:\n",
    "\n",
    "**Creating Target Encoding** \n",
    "   - Loan Purpose\n",
    "   - State of Residence\n",
    "\n",
    "**Separating Typical from Extreme**\n",
    "   - Loan Amount\n",
    "   - Annual Income\n",
    "   - Debt to Income Ratio\n",
    "   - Number of Delinquencies in the Past 2 Years\n",
    "   - Revolving Credit Line Utilized\n",
    "   - Number of Credit Lines\n",
    "   - Longest Credit Length\n",
    "\n",
    "**Create Indicator Functions**\n",
    "   - Term\n",
    "   - Income Verification Status\n",
    "   - Employment Length (Missing Value)\n",
    "\n",
    "**Combining Categories** \n",
    "   - Home Ownership"
   ]
  },
  {
   "cell_type": "code",
   "execution_count": 129,
   "metadata": {},
   "outputs": [],
   "source": [
    "y = \"bad_loan\"\n",
    "x_orig = train.col_names\n",
    "x_orig.remove(y)\n",
    "x_orig.remove(\"int_rate\")\n",
    "\n",
    "x_trans = x_orig.copy()"
   ]
  },
  {
   "cell_type": "markdown",
   "metadata": {},
   "source": [
    "## 1. Creating Target Encoding\n",
    "\n",
    "### Cross Validation with Target Encoding\n",
    "\n",
    "Some of the engineered features will use [cross-validated mean target encoding](https://github.com/h2oai/h2o-tutorials/blob/master/best-practices/categorical-predictors/target_encoding.md) of categorical predictors since one hot encodings can lead to overfitting of infrequent categories.\n",
    "\n",
    "To achieve this goal, we will first create soft partitions using H2OFrame's [`kfold_column`](http://docs.h2o.ai/h2o/latest-stable/h2o-py/docs/frame.html?highlight=kfold_column#h2o.frame.H2OFrame.kfold_column) function, then calculate summary statistics using H2O's [`group_by`](http://docs.h2o.ai/h2o/latest-stable/h2o-py/docs/frame.html#groupby) function, and finally join these engineered features using H2OFrame's [`merge`](http://docs.h2o.ai/h2o/latest-stable/h2o-py/docs/frame.html?highlight=merge#h2o.frame.H2OFrame.merge)."
   ]
  },
  {
   "cell_type": "code",
   "execution_count": 131,
   "metadata": {},
   "outputs": [],
   "source": [
    "cv_nfolds = 5\n",
    "cv_seed = 1234\n",
    "train[\"cv_fold\"] = train.kfold_column(n_folds = cv_nfolds, seed = cv_seed)"
   ]
  },
  {
   "cell_type": "code",
   "execution_count": 132,
   "metadata": {},
   "outputs": [
    {
     "data": {
      "text/html": [
       "<table>\n",
       "<thead>\n",
       "<tr><th style=\"text-align: right;\">  cv_fold</th><th style=\"text-align: right;\">  Count</th></tr>\n",
       "</thead>\n",
       "<tbody>\n",
       "<tr><td style=\"text-align: right;\">        0</td><td style=\"text-align: right;\">  32823</td></tr>\n",
       "<tr><td style=\"text-align: right;\">        1</td><td style=\"text-align: right;\">  32804</td></tr>\n",
       "<tr><td style=\"text-align: right;\">        2</td><td style=\"text-align: right;\">  33044</td></tr>\n",
       "<tr><td style=\"text-align: right;\">        3</td><td style=\"text-align: right;\">  32570</td></tr>\n",
       "<tr><td style=\"text-align: right;\">        4</td><td style=\"text-align: right;\">  32746</td></tr>\n",
       "</tbody>\n",
       "</table>"
      ]
     },
     "metadata": {},
     "output_type": "display_data"
    },
    {
     "data": {
      "text/plain": []
     },
     "execution_count": 132,
     "metadata": {},
     "output_type": "execute_result"
    }
   ],
   "source": [
    "train[\"cv_fold\"].table()"
   ]
  },
  {
   "cell_type": "code",
   "execution_count": 133,
   "metadata": {},
   "outputs": [],
   "source": [
    "import numpy as np\n",
    "import pandas as pd"
   ]
  },
  {
   "cell_type": "code",
   "execution_count": 134,
   "metadata": {},
   "outputs": [],
   "source": [
    "def logit(p):\n",
    "    return np.log(p) - np.log(1 - p)"
   ]
  },
  {
   "cell_type": "code",
   "execution_count": 135,
   "metadata": {},
   "outputs": [],
   "source": [
    "def mean_target(data, x, y = \"bad_loan\"):\n",
    "    grouped_data = data[[x, y]].group_by([x])\n",
    "    stats = grouped_data.count(na = \"ignore\").mean(na = \"ignore\")\n",
    "    return stats.get_frame().as_data_frame()"
   ]
  },
  {
   "cell_type": "code",
   "execution_count": 136,
   "metadata": {},
   "outputs": [],
   "source": [
    "def mean_target_encoding(data, x, y = \"bad_loan\", fold_column = \"cv_fold\", prior_mean = 0.183, prior_count = 1):\n",
    "    \"\"\"\n",
    "    Creates target encoding for binary target\n",
    "    data (H2OFrame) : data set\n",
    "    x (string) : categorical predictor column name\n",
    "    y (string) : binary target column name\n",
    "    fold_column (string) : cross-validation fold column name\n",
    "    prior_mean (float) : proportion of 1s in the target column\n",
    "    prior_count (positive number) : weight to give to prior_mean\n",
    "    \"\"\" \n",
    "    grouped_data = data[[x, fold_column, y]].group_by([x, fold_column])\n",
    "    grouped_data.sum(na = \"ignore\").count(na = \"ignore\")\n",
    "    df = grouped_data.get_frame().as_data_frame()\n",
    "    df_list = []\n",
    "    nfold = int(data[fold_column].max()) + 1\n",
    "    for j in range(0, nfold):\n",
    "        te_x = \"te_{}\".format(x)\n",
    "        sum_y = \"sum_{}\".format(y)\n",
    "        oof = df.loc[df[fold_column] != j, [x, sum_y, \"nrow\"]]\n",
    "        stats = oof.groupby([x]).sum()\n",
    "        stats[x] = stats.index\n",
    "        stats[fold_column] = j\n",
    "        p = (stats[sum_y] + (prior_count * prior_mean)) / (stats[\"nrow\"] + prior_count)\n",
    "        stats[te_x] = logit(p)\n",
    "        df_list.append(stats[[x, fold_column, te_x]])\n",
    "    return h2o.H2OFrame(pd.concat(df_list))"
   ]
  },
  {
   "cell_type": "markdown",
   "metadata": {},
   "source": [
    "### 1.1. Target Encoding for Loan Purpose"
   ]
  },
  {
   "cell_type": "markdown",
   "metadata": {},
   "source": [
    "### Creating Target Encoding for Loan Purpose\n",
    "\n",
    "Given that there is a high concentration of loans for debt consolidation (56.87%), a sizable number for credit card (18.78%), and the remaining 24.35% loans are spread amongst 12 other purposes, we will use mean target encoding to avoid overfitting of the later group."
   ]
  },
  {
   "cell_type": "code",
   "execution_count": 45,
   "metadata": {},
   "outputs": [
    {
     "name": "stdout",
     "output_type": "stream",
     "text": [
      "               purpose  Count  Percent\n",
      "0   debt_consolidation  93261    56.87\n",
      "1          credit_card  30792    18.78\n",
      "2                other  10492     6.40\n",
      "3     home_improvement   9872     6.02\n",
      "4       major_purchase   4686     2.86\n",
      "5       small_business   3841     2.34\n",
      "6                  car   2842     1.73\n",
      "7              medical   2029     1.24\n",
      "8              wedding   1751     1.07\n",
      "9               moving   1464     0.89\n",
      "10               house   1245     0.76\n",
      "11            vacation   1096     0.67\n",
      "12         educational    418     0.25\n",
      "13    renewable_energy    198     0.12\n"
     ]
    }
   ],
   "source": [
    "tbl = train[\"purpose\"].table().as_data_frame()\n",
    "tbl[\"Percent\"] = np.round((100 * tbl[\"Count\"]/train.nrows), 2)\n",
    "tbl = tbl.sort_values(by = \"Count\", ascending = 0)\n",
    "tbl = tbl.reset_index(drop = True)\n",
    "print(tbl)"
   ]
  },
  {
   "cell_type": "code",
   "execution_count": 46,
   "metadata": {},
   "outputs": [],
   "source": [
    "df = mean_target(train, \"purpose\")"
   ]
  },
  {
   "cell_type": "code",
   "execution_count": 47,
   "metadata": {},
   "outputs": [
    {
     "data": {
      "text/html": [
       "<div>\n",
       "<style scoped>\n",
       "    .dataframe tbody tr th:only-of-type {\n",
       "        vertical-align: middle;\n",
       "    }\n",
       "\n",
       "    .dataframe tbody tr th {\n",
       "        vertical-align: top;\n",
       "    }\n",
       "\n",
       "    .dataframe thead th {\n",
       "        text-align: right;\n",
       "    }\n",
       "</style>\n",
       "<table border=\"1\" class=\"dataframe\">\n",
       "  <thead>\n",
       "    <tr style=\"text-align: right;\">\n",
       "      <th></th>\n",
       "      <th>purpose</th>\n",
       "      <th>nrow</th>\n",
       "      <th>mean_bad_loan</th>\n",
       "    </tr>\n",
       "  </thead>\n",
       "  <tbody>\n",
       "    <tr>\n",
       "      <th>0</th>\n",
       "      <td>small_business</td>\n",
       "      <td>3841</td>\n",
       "      <td>0.309034</td>\n",
       "    </tr>\n",
       "    <tr>\n",
       "      <th>1</th>\n",
       "      <td>renewable_energy</td>\n",
       "      <td>198</td>\n",
       "      <td>0.227273</td>\n",
       "    </tr>\n",
       "    <tr>\n",
       "      <th>2</th>\n",
       "      <td>other</td>\n",
       "      <td>10492</td>\n",
       "      <td>0.214354</td>\n",
       "    </tr>\n",
       "    <tr>\n",
       "      <th>3</th>\n",
       "      <td>educational</td>\n",
       "      <td>418</td>\n",
       "      <td>0.210526</td>\n",
       "    </tr>\n",
       "    <tr>\n",
       "      <th>4</th>\n",
       "      <td>moving</td>\n",
       "      <td>1464</td>\n",
       "      <td>0.207650</td>\n",
       "    </tr>\n",
       "    <tr>\n",
       "      <th>5</th>\n",
       "      <td>medical</td>\n",
       "      <td>2029</td>\n",
       "      <td>0.203056</td>\n",
       "    </tr>\n",
       "    <tr>\n",
       "      <th>6</th>\n",
       "      <td>debt_consolidation</td>\n",
       "      <td>93261</td>\n",
       "      <td>0.189479</td>\n",
       "    </tr>\n",
       "    <tr>\n",
       "      <th>7</th>\n",
       "      <td>house</td>\n",
       "      <td>1245</td>\n",
       "      <td>0.182329</td>\n",
       "    </tr>\n",
       "    <tr>\n",
       "      <th>8</th>\n",
       "      <td>vacation</td>\n",
       "      <td>1096</td>\n",
       "      <td>0.178832</td>\n",
       "    </tr>\n",
       "    <tr>\n",
       "      <th>9</th>\n",
       "      <td>credit_card</td>\n",
       "      <td>30792</td>\n",
       "      <td>0.157281</td>\n",
       "    </tr>\n",
       "    <tr>\n",
       "      <th>10</th>\n",
       "      <td>home_improvement</td>\n",
       "      <td>9872</td>\n",
       "      <td>0.155895</td>\n",
       "    </tr>\n",
       "    <tr>\n",
       "      <th>11</th>\n",
       "      <td>wedding</td>\n",
       "      <td>1751</td>\n",
       "      <td>0.145060</td>\n",
       "    </tr>\n",
       "    <tr>\n",
       "      <th>12</th>\n",
       "      <td>major_purchase</td>\n",
       "      <td>4686</td>\n",
       "      <td>0.137217</td>\n",
       "    </tr>\n",
       "    <tr>\n",
       "      <th>13</th>\n",
       "      <td>car</td>\n",
       "      <td>2842</td>\n",
       "      <td>0.125968</td>\n",
       "    </tr>\n",
       "  </tbody>\n",
       "</table>\n",
       "</div>"
      ],
      "text/plain": [
       "               purpose   nrow  mean_bad_loan\n",
       "0       small_business   3841       0.309034\n",
       "1     renewable_energy    198       0.227273\n",
       "2                other  10492       0.214354\n",
       "3          educational    418       0.210526\n",
       "4               moving   1464       0.207650\n",
       "5              medical   2029       0.203056\n",
       "6   debt_consolidation  93261       0.189479\n",
       "7                house   1245       0.182329\n",
       "8             vacation   1096       0.178832\n",
       "9          credit_card  30792       0.157281\n",
       "10    home_improvement   9872       0.155895\n",
       "11             wedding   1751       0.145060\n",
       "12      major_purchase   4686       0.137217\n",
       "13                 car   2842       0.125968"
      ]
     },
     "execution_count": 47,
     "metadata": {},
     "output_type": "execute_result"
    }
   ],
   "source": [
    "df = df.sort_values(by = \"mean_bad_loan\", ascending = 0)\n",
    "df = df.reset_index(drop = True)\n",
    "df"
   ]
  },
  {
   "cell_type": "code",
   "execution_count": 48,
   "metadata": {},
   "outputs": [
    {
     "data": {
      "text/plain": [
       "[<matplotlib.lines.Line2D at 0x117bf1a20>]"
      ]
     },
     "execution_count": 48,
     "metadata": {},
     "output_type": "execute_result"
    },
    {
     "data": {
      "image/png": "[encoded data removed]",
      "text/plain": [
       "<Figure size 432x288 with 1 Axes>"
      ]
     },
     "metadata": {
      "needs_background": "light"
     },
     "output_type": "display_data"
    }
   ],
   "source": [
    "plt.xticks(rotation = 90)\n",
    "plt.yscale(\"logit\")\n",
    "plt.plot(df[\"purpose\"], df[\"mean_bad_loan\"])"
   ]
  },
  {
   "cell_type": "code",
   "execution_count": 49,
   "metadata": {},
   "outputs": [
    {
     "name": "stdout",
     "output_type": "stream",
     "text": [
      "Parse progress: |█████████████████████████████████████████████████████████| 100%\n"
     ]
    }
   ],
   "source": [
    "te_purpose = mean_target_encoding(train, \"purpose\")"
   ]
  },
  {
   "cell_type": "code",
   "execution_count": 50,
   "metadata": {},
   "outputs": [],
   "source": [
    "train = train.merge(te_purpose, all_x = True)"
   ]
  },
  {
   "cell_type": "code",
   "execution_count": 51,
   "metadata": {},
   "outputs": [],
   "source": [
    "x_trans.remove(\"purpose\")\n",
    "x_trans.append(\"te_purpose\")"
   ]
  },
  {
   "cell_type": "code",
   "execution_count": 52,
   "metadata": {},
   "outputs": [
    {
     "data": {
      "image/png": "[encoded data removed]",
      "text/plain": [
       "<Figure size 432x288 with 1 Axes>"
      ]
     },
     "metadata": {
      "needs_background": "light"
     },
     "output_type": "display_data"
    }
   ],
   "source": [
    "train[\"te_purpose\"].hist()"
   ]
  },
  {
   "cell_type": "markdown",
   "metadata": {},
   "source": [
    "### 1.2. Target Encoding for State of Residence\n",
    "\n",
    "We will also use a mean target encoding for state of residence for a reason similar to that for purpose."
   ]
  },
  {
   "cell_type": "code",
   "execution_count": 53,
   "metadata": {},
   "outputs": [
    {
     "name": "stdout",
     "output_type": "stream",
     "text": [
      "  addr_state  Count  Percent\n",
      "0         CA  28702    17.50\n",
      "1         NY  14285     8.71\n",
      "2         TX  12128     7.40\n",
      "3         FL  11396     6.95\n",
      "4         NJ   6457     3.94\n"
     ]
    }
   ],
   "source": [
    "tbl = train[\"addr_state\"].table().as_data_frame()\n",
    "tbl[\"Percent\"] = np.round((100 * tbl[\"Count\"]/train.nrows), 2)\n",
    "tbl = tbl.sort_values(by = \"Count\", ascending = 0)\n",
    "tbl = tbl.reset_index(drop = True)\n",
    "print(tbl[0:5])"
   ]
  },
  {
   "cell_type": "code",
   "execution_count": 54,
   "metadata": {},
   "outputs": [],
   "source": [
    "df = mean_target(train, \"addr_state\")"
   ]
  },
  {
   "cell_type": "code",
   "execution_count": 55,
   "metadata": {},
   "outputs": [
    {
     "name": "stdout",
     "output_type": "stream",
     "text": [
      "  addr_state  nrow  mean_bad_loan\n",
      "0         NE    13       0.538462\n",
      "1         TN  1327       0.238885\n",
      "2         NV  2387       0.227901\n",
      "3         MS   163       0.226994\n",
      "4         IN  1463       0.217362\n"
     ]
    }
   ],
   "source": [
    "df = df.sort_values(by = \"mean_bad_loan\", ascending = 0)\n",
    "df = df.reset_index(drop = True)\n",
    "print(df[0:5])"
   ]
  },
  {
   "cell_type": "code",
   "execution_count": 56,
   "metadata": {},
   "outputs": [
    {
     "name": "stdout",
     "output_type": "stream",
     "text": [
      "   addr_state  nrow  mean_bad_loan\n",
      "45         WV   714       0.131653\n",
      "46         DC   584       0.114726\n",
      "47         ID     9       0.111111\n",
      "48         WY   376       0.109043\n",
      "49         ME     3       0.000000\n"
     ]
    }
   ],
   "source": [
    "print(df[45:50])"
   ]
  },
  {
   "cell_type": "code",
   "execution_count": 57,
   "metadata": {},
   "outputs": [
    {
     "data": {
      "text/plain": [
       "[<matplotlib.lines.Line2D at 0x117ebf1d0>]"
      ]
     },
     "execution_count": 57,
     "metadata": {},
     "output_type": "execute_result"
    },
    {
     "data": {
      "image/png": "[encoded data removed]",
      "text/plain": [
       "<Figure size 432x288 with 1 Axes>"
      ]
     },
     "metadata": {
      "needs_background": "light"
     },
     "output_type": "display_data"
    }
   ],
   "source": [
    "plt.yscale(\"logit\")\n",
    "plt.plot(df[\"addr_state\"], df[\"mean_bad_loan\"])"
   ]
  },
  {
   "cell_type": "code",
   "execution_count": 58,
   "metadata": {},
   "outputs": [
    {
     "name": "stdout",
     "output_type": "stream",
     "text": [
      "Parse progress: |█████████████████████████████████████████████████████████| 100%\n"
     ]
    }
   ],
   "source": [
    "te_addr_state = mean_target_encoding(train, \"addr_state\", prior_count = 30)"
   ]
  },
  {
   "cell_type": "code",
   "execution_count": 59,
   "metadata": {},
   "outputs": [],
   "source": [
    "grouped_data = te_addr_state[[\"addr_state\", \"te_addr_state\"]].group_by([\"addr_state\"])\n",
    "df = grouped_data.count(na = \"ignore\").mean(na = \"ignore\").get_frame().as_data_frame()"
   ]
  },
  {
   "cell_type": "code",
   "execution_count": 60,
   "metadata": {},
   "outputs": [],
   "source": [
    "df = df.sort_values(by = \"mean_te_addr_state\", ascending = 0)\n",
    "df = df.reset_index(drop = True)"
   ]
  },
  {
   "cell_type": "code",
   "execution_count": 61,
   "metadata": {},
   "outputs": [
    {
     "data": {
      "text/plain": [
       "[<matplotlib.lines.Line2D at 0x117c8f588>]"
      ]
     },
     "execution_count": 61,
     "metadata": {},
     "output_type": "execute_result"
    },
    {
     "data": {
      "image/png": "[encoded data removed]",
      "text/plain": [
       "<Figure size 432x288 with 1 Axes>"
      ]
     },
     "metadata": {
      "needs_background": "light"
     },
     "output_type": "display_data"
    }
   ],
   "source": [
    "plt.plot(df[\"addr_state\"], df[\"mean_te_addr_state\"])"
   ]
  },
  {
   "cell_type": "code",
   "execution_count": 62,
   "metadata": {},
   "outputs": [],
   "source": [
    "train = train.merge(te_addr_state, all_x = True)"
   ]
  },
  {
   "cell_type": "code",
   "execution_count": 63,
   "metadata": {},
   "outputs": [],
   "source": [
    "x_trans.remove(\"addr_state\")\n",
    "x_trans.append(\"te_addr_state\")"
   ]
  },
  {
   "cell_type": "code",
   "execution_count": 64,
   "metadata": {},
   "outputs": [
    {
     "data": {
      "image/png": "[encoded data removed]",
      "text/plain": [
       "<Figure size 432x288 with 1 Axes>"
      ]
     },
     "metadata": {
      "needs_background": "light"
     },
     "output_type": "display_data"
    }
   ],
   "source": [
    "train[\"te_addr_state\"].hist()"
   ]
  },
  {
   "cell_type": "markdown",
   "metadata": {},
   "source": [
    "## 2. Separating Typical from Extreme"
   ]
  },
  {
   "cell_type": "markdown",
   "metadata": {},
   "source": [
    "### 2.1. Separating Typical from Extreme Loan Amount\n",
    "\n",
    "After binning `loan_amt` using H2OFrame's [`cut`](http://docs.h2o.ai/h2o/latest-stable/h2o-py/docs/frame.html?highlight=cut#h2o.frame.H2OFrame.cut) function and looking at the fraction of bad loans on a logit scale, we see that the chance of a bad loan roughly increases linearly in loan amount from \\\\$5,000 to \\\\$30,000 and is relatively flat below \\$5,000 and above \\$30,000. To reflect this finding in the modeling, we will replace the original `loan_amnt` measure with two derived measures:\n",
    "\n",
    "\\begin{eqnarray}\n",
    "loan\\_amnt\\_core & = & \\max(5000, \\min(loan\\_amnt, 30000)) \\\\\n",
    "loan\\_amnt\\_diff & = & loan\\_amnt - loan\\_amnt\\_core\n",
    "\\end{eqnarray}"
   ]
  },
  {
   "cell_type": "code",
   "execution_count": 20,
   "metadata": {},
   "outputs": [
    {
     "data": {
      "text/html": [
       "<table>\n",
       "<thead>\n",
       "<tr><th style=\"text-align: right;\">  Probs</th><th style=\"text-align: right;\">  loan_amntQuantiles</th></tr>\n",
       "</thead>\n",
       "<tbody>\n",
       "<tr><td style=\"text-align: right;\">   0   </td><td style=\"text-align: right;\">                 500</td></tr>\n",
       "<tr><td style=\"text-align: right;\">   0.05</td><td style=\"text-align: right;\">                3000</td></tr>\n",
       "<tr><td style=\"text-align: right;\">   0.25</td><td style=\"text-align: right;\">                7000</td></tr>\n",
       "<tr><td style=\"text-align: right;\">   0.5 </td><td style=\"text-align: right;\">               11325</td></tr>\n",
       "<tr><td style=\"text-align: right;\">   0.75</td><td style=\"text-align: right;\">               18000</td></tr>\n",
       "<tr><td style=\"text-align: right;\">   0.95</td><td style=\"text-align: right;\">               30000</td></tr>\n",
       "<tr><td style=\"text-align: right;\">   1   </td><td style=\"text-align: right;\">               35000</td></tr>\n",
       "</tbody>\n",
       "</table>"
      ]
     },
     "metadata": {},
     "output_type": "display_data"
    },
    {
     "data": {
      "text/plain": []
     },
     "execution_count": 20,
     "metadata": {},
     "output_type": "execute_result"
    }
   ],
   "source": [
    "train[\"loan_amnt\"].quantile([0, 0.05, 0.25, 0.5, 0.75, 0.95, 1])"
   ]
  },
  {
   "cell_type": "code",
   "execution_count": 21,
   "metadata": {},
   "outputs": [],
   "source": [
    "breaks = np.linspace(0, 35000, 8).tolist()\n",
    "train[\"loan_amnt_cat\"] = train[\"loan_amnt\"].cut(breaks = breaks)"
   ]
  },
  {
   "cell_type": "code",
   "execution_count": 22,
   "metadata": {},
   "outputs": [],
   "source": [
    "df = mean_target(train, \"loan_amnt_cat\")"
   ]
  },
  {
   "cell_type": "code",
   "execution_count": 23,
   "metadata": {},
   "outputs": [
    {
     "data": {
      "text/plain": [
       "[<matplotlib.lines.Line2D at 0x117597f28>]"
      ]
     },
     "execution_count": 23,
     "metadata": {},
     "output_type": "execute_result"
    },
    {
     "data": {
      "image/png": "[encoded data removed]",
      "text/plain": [
       "<Figure size 432x288 with 1 Axes>"
      ]
     },
     "metadata": {
      "needs_background": "light"
     },
     "output_type": "display_data"
    }
   ],
   "source": [
    "plt.xticks(rotation = 90)\n",
    "plt.yscale(\"logit\")\n",
    "plt.plot(df[\"loan_amnt_cat\"], df[\"mean_bad_loan\"])"
   ]
  },
  {
   "cell_type": "code",
   "execution_count": 24,
   "metadata": {},
   "outputs": [
    {
     "data": {
      "text/html": [
       "<div>\n",
       "<style scoped>\n",
       "    .dataframe tbody tr th:only-of-type {\n",
       "        vertical-align: middle;\n",
       "    }\n",
       "\n",
       "    .dataframe tbody tr th {\n",
       "        vertical-align: top;\n",
       "    }\n",
       "\n",
       "    .dataframe thead th {\n",
       "        text-align: right;\n",
       "    }\n",
       "</style>\n",
       "<table border=\"1\" class=\"dataframe\">\n",
       "  <thead>\n",
       "    <tr style=\"text-align: right;\">\n",
       "      <th></th>\n",
       "      <th>loan_amnt_cat</th>\n",
       "      <th>nrow</th>\n",
       "      <th>mean_bad_loan</th>\n",
       "    </tr>\n",
       "  </thead>\n",
       "  <tbody>\n",
       "    <tr>\n",
       "      <th>0</th>\n",
       "      <td>(0.0,5000.0]</td>\n",
       "      <td>25785</td>\n",
       "      <td>0.163234</td>\n",
       "    </tr>\n",
       "    <tr>\n",
       "      <th>1</th>\n",
       "      <td>(5000.0,10000.0]</td>\n",
       "      <td>50384</td>\n",
       "      <td>0.164278</td>\n",
       "    </tr>\n",
       "    <tr>\n",
       "      <th>2</th>\n",
       "      <td>(10000.0,15000.0]</td>\n",
       "      <td>35552</td>\n",
       "      <td>0.173436</td>\n",
       "    </tr>\n",
       "    <tr>\n",
       "      <th>3</th>\n",
       "      <td>(15000.0,20000.0]</td>\n",
       "      <td>24659</td>\n",
       "      <td>0.208281</td>\n",
       "    </tr>\n",
       "    <tr>\n",
       "      <th>4</th>\n",
       "      <td>(20000.0,25000.0]</td>\n",
       "      <td>14447</td>\n",
       "      <td>0.214508</td>\n",
       "    </tr>\n",
       "    <tr>\n",
       "      <th>5</th>\n",
       "      <td>(25000.0,30000.0]</td>\n",
       "      <td>6913</td>\n",
       "      <td>0.238825</td>\n",
       "    </tr>\n",
       "    <tr>\n",
       "      <th>6</th>\n",
       "      <td>(30000.0,35000.0]</td>\n",
       "      <td>6247</td>\n",
       "      <td>0.236594</td>\n",
       "    </tr>\n",
       "  </tbody>\n",
       "</table>\n",
       "</div>"
      ],
      "text/plain": [
       "       loan_amnt_cat   nrow  mean_bad_loan\n",
       "0       (0.0,5000.0]  25785       0.163234\n",
       "1   (5000.0,10000.0]  50384       0.164278\n",
       "2  (10000.0,15000.0]  35552       0.173436\n",
       "3  (15000.0,20000.0]  24659       0.208281\n",
       "4  (20000.0,25000.0]  14447       0.214508\n",
       "5  (25000.0,30000.0]   6913       0.238825\n",
       "6  (30000.0,35000.0]   6247       0.236594"
      ]
     },
     "execution_count": 24,
     "metadata": {},
     "output_type": "execute_result"
    }
   ],
   "source": [
    "df"
   ]
  },
  {
   "cell_type": "code",
   "execution_count": 25,
   "metadata": {},
   "outputs": [],
   "source": [
    "x_trans.remove(\"loan_amnt\")\n",
    "x_trans.append(\"loan_amnt_core\")\n",
    "x_trans.append(\"loan_amnt_delta\")\n",
    "\n",
    "train[\"loan_amnt_core\"] = h2o.H2OFrame.ifelse(train[\"loan_amnt\"] <= 5000, 5000, train[\"loan_amnt\"])\n",
    "train[\"loan_amnt_core\"] = h2o.H2OFrame.ifelse(train[\"loan_amnt_core\"] <= 30000, train[\"loan_amnt_core\"], 30000)\n",
    "\n",
    "train[\"loan_amnt_delta\"] = train[\"loan_amnt\"] - train[\"loan_amnt_core\"]"
   ]
  },
  {
   "cell_type": "markdown",
   "metadata": {},
   "source": [
    "### 2.2. Separating Typical from Extreme Annual Income\n",
    "\n",
    "Looking at the occurance of bad loans on a logit scale reveal that the chance of a bad loan roughly decreases linearly in annual income from \\$10,000 to \\$105,000 and is relatively flat above \\$105,000. To reflect this finding in the modeling, we will replace the original `annual_inc` measure with two derived measures:\n",
    "\n",
    "\\begin{eqnarray}\n",
    "annual\\_inc\\_core & = & \\max(10000, \\min(annual\\_inc, 105000)) \\\\\n",
    "annual\\_inc\\_diff & = & annual\\_inc - annual\\_inc\\_core\n",
    "\\end{eqnarray}"
   ]
  },
  {
   "cell_type": "code",
   "execution_count": 40,
   "metadata": {},
   "outputs": [
    {
     "data": {
      "text/html": [
       "<table>\n",
       "<thead>\n",
       "<tr><th style=\"text-align: right;\">  Probs</th><th style=\"text-align: right;\">  annual_incQuantiles</th></tr>\n",
       "</thead>\n",
       "<tbody>\n",
       "<tr><td style=\"text-align: right;\">   0   </td><td style=\"text-align: right;\">       1896          </td></tr>\n",
       "<tr><td style=\"text-align: right;\">   0.05</td><td style=\"text-align: right;\">      27000          </td></tr>\n",
       "<tr><td style=\"text-align: right;\">   0.25</td><td style=\"text-align: right;\">      45000          </td></tr>\n",
       "<tr><td style=\"text-align: right;\">   0.5 </td><td style=\"text-align: right;\">      61000          </td></tr>\n",
       "<tr><td style=\"text-align: right;\">   0.75</td><td style=\"text-align: right;\">      85000          </td></tr>\n",
       "<tr><td style=\"text-align: right;\">   0.95</td><td style=\"text-align: right;\">     145000          </td></tr>\n",
       "<tr><td style=\"text-align: right;\">   1   </td><td style=\"text-align: right;\">          7.14178e+06</td></tr>\n",
       "</tbody>\n",
       "</table>"
      ]
     },
     "metadata": {},
     "output_type": "display_data"
    },
    {
     "data": {
      "text/plain": []
     },
     "execution_count": 40,
     "metadata": {},
     "output_type": "execute_result"
    }
   ],
   "source": [
    "train[\"annual_inc\"].quantile([0, 0.05, 0.25, 0.5, 0.75, 0.95, 1])"
   ]
  },
  {
   "cell_type": "code",
   "execution_count": 41,
   "metadata": {},
   "outputs": [],
   "source": [
    "breaks = np.linspace(0, 150000, 31).tolist()\n",
    "train[\"annual_inc_cat\"] = train[\"annual_inc\"].cut(breaks = breaks)"
   ]
  },
  {
   "cell_type": "code",
   "execution_count": 42,
   "metadata": {},
   "outputs": [],
   "source": [
    "df = mean_target(train, \"annual_inc_cat\")"
   ]
  },
  {
   "cell_type": "code",
   "execution_count": 43,
   "metadata": {},
   "outputs": [
    {
     "ename": "IndexError",
     "evalue": "tuple index out of range",
     "output_type": "error",
     "traceback": [
      "\u001b[0;31m---------------------------------------------------------------------------\u001b[0m",
      "\u001b[0;31mIndexError\u001b[0m                                Traceback (most recent call last)",
      "\u001b[0;32m<ipython-input-43-206dfe87436e>\u001b[0m in \u001b[0;36m<module>\u001b[0;34m\u001b[0m\n\u001b[1;32m      1\u001b[0m \u001b[0mplt\u001b[0m\u001b[0;34m.\u001b[0m\u001b[0myscale\u001b[0m\u001b[0;34m(\u001b[0m\u001b[0;34m\"logit\"\u001b[0m\u001b[0;34m)\u001b[0m\u001b[0;34m\u001b[0m\u001b[0;34m\u001b[0m\u001b[0m\n\u001b[0;32m----> 2\u001b[0;31m \u001b[0mplt\u001b[0m\u001b[0;34m.\u001b[0m\u001b[0mplot\u001b[0m\u001b[0;34m(\u001b[0m\u001b[0mdf\u001b[0m\u001b[0;34m[\u001b[0m\u001b[0;34m\"annual_inc_cat\"\u001b[0m\u001b[0;34m]\u001b[0m\u001b[0;34m.\u001b[0m\u001b[0mindex\u001b[0m\u001b[0;34m,\u001b[0m \u001b[0mdf\u001b[0m\u001b[0;34m[\u001b[0m\u001b[0;34m\"mean_bad_loan\"\u001b[0m\u001b[0;34m]\u001b[0m\u001b[0;34m)\u001b[0m\u001b[0;34m\u001b[0m\u001b[0;34m\u001b[0m\u001b[0m\n\u001b[0m",
      "\u001b[0;32m/anaconda3/envs/h2o-3/lib/python3.6/site-packages/matplotlib/pyplot.py\u001b[0m in \u001b[0;36mplot\u001b[0;34m(scalex, scaley, data, *args, **kwargs)\u001b[0m\n\u001b[1;32m   2793\u001b[0m     return gca().plot(\n\u001b[1;32m   2794\u001b[0m         *args, scalex=scalex, scaley=scaley, **({\"data\": data} if data\n\u001b[0;32m-> 2795\u001b[0;31m         is not None else {}), **kwargs)\n\u001b[0m\u001b[1;32m   2796\u001b[0m \u001b[0;34m\u001b[0m\u001b[0m\n\u001b[1;32m   2797\u001b[0m \u001b[0;34m\u001b[0m\u001b[0m\n",
      "\u001b[0;32m/anaconda3/envs/h2o-3/lib/python3.6/site-packages/matplotlib/axes/_axes.py\u001b[0m in \u001b[0;36mplot\u001b[0;34m(self, scalex, scaley, data, *args, **kwargs)\u001b[0m\n\u001b[1;32m   1664\u001b[0m         \"\"\"\n\u001b[1;32m   1665\u001b[0m         \u001b[0mkwargs\u001b[0m \u001b[0;34m=\u001b[0m \u001b[0mcbook\u001b[0m\u001b[0;34m.\u001b[0m\u001b[0mnormalize_kwargs\u001b[0m\u001b[0;34m(\u001b[0m\u001b[0mkwargs\u001b[0m\u001b[0;34m,\u001b[0m \u001b[0mmlines\u001b[0m\u001b[0;34m.\u001b[0m\u001b[0mLine2D\u001b[0m\u001b[0;34m.\u001b[0m\u001b[0m_alias_map\u001b[0m\u001b[0;34m)\u001b[0m\u001b[0;34m\u001b[0m\u001b[0;34m\u001b[0m\u001b[0m\n\u001b[0;32m-> 1666\u001b[0;31m         \u001b[0mlines\u001b[0m \u001b[0;34m=\u001b[0m \u001b[0;34m[\u001b[0m\u001b[0;34m*\u001b[0m\u001b[0mself\u001b[0m\u001b[0;34m.\u001b[0m\u001b[0m_get_lines\u001b[0m\u001b[0;34m(\u001b[0m\u001b[0;34m*\u001b[0m\u001b[0margs\u001b[0m\u001b[0;34m,\u001b[0m \u001b[0mdata\u001b[0m\u001b[0;34m=\u001b[0m\u001b[0mdata\u001b[0m\u001b[0;34m,\u001b[0m \u001b[0;34m**\u001b[0m\u001b[0mkwargs\u001b[0m\u001b[0;34m)\u001b[0m\u001b[0;34m]\u001b[0m\u001b[0;34m\u001b[0m\u001b[0;34m\u001b[0m\u001b[0m\n\u001b[0m\u001b[1;32m   1667\u001b[0m         \u001b[0;32mfor\u001b[0m \u001b[0mline\u001b[0m \u001b[0;32min\u001b[0m \u001b[0mlines\u001b[0m\u001b[0;34m:\u001b[0m\u001b[0;34m\u001b[0m\u001b[0;34m\u001b[0m\u001b[0m\n\u001b[1;32m   1668\u001b[0m             \u001b[0mself\u001b[0m\u001b[0;34m.\u001b[0m\u001b[0madd_line\u001b[0m\u001b[0;34m(\u001b[0m\u001b[0mline\u001b[0m\u001b[0;34m)\u001b[0m\u001b[0;34m\u001b[0m\u001b[0;34m\u001b[0m\u001b[0m\n",
      "\u001b[0;32m/anaconda3/envs/h2o-3/lib/python3.6/site-packages/matplotlib/axes/_base.py\u001b[0m in \u001b[0;36m__call__\u001b[0;34m(self, *args, **kwargs)\u001b[0m\n\u001b[1;32m    223\u001b[0m                 \u001b[0mthis\u001b[0m \u001b[0;34m+=\u001b[0m \u001b[0margs\u001b[0m\u001b[0;34m[\u001b[0m\u001b[0;36m0\u001b[0m\u001b[0;34m]\u001b[0m\u001b[0;34m,\u001b[0m\u001b[0;34m\u001b[0m\u001b[0;34m\u001b[0m\u001b[0m\n\u001b[1;32m    224\u001b[0m                 \u001b[0margs\u001b[0m \u001b[0;34m=\u001b[0m \u001b[0margs\u001b[0m\u001b[0;34m[\u001b[0m\u001b[0;36m1\u001b[0m\u001b[0;34m:\u001b[0m\u001b[0;34m]\u001b[0m\u001b[0;34m\u001b[0m\u001b[0;34m\u001b[0m\u001b[0m\n\u001b[0;32m--> 225\u001b[0;31m             \u001b[0;32myield\u001b[0m \u001b[0;32mfrom\u001b[0m \u001b[0mself\u001b[0m\u001b[0;34m.\u001b[0m\u001b[0m_plot_args\u001b[0m\u001b[0;34m(\u001b[0m\u001b[0mthis\u001b[0m\u001b[0;34m,\u001b[0m \u001b[0mkwargs\u001b[0m\u001b[0;34m)\u001b[0m\u001b[0;34m\u001b[0m\u001b[0;34m\u001b[0m\u001b[0m\n\u001b[0m\u001b[1;32m    226\u001b[0m \u001b[0;34m\u001b[0m\u001b[0m\n\u001b[1;32m    227\u001b[0m     \u001b[0;32mdef\u001b[0m \u001b[0mget_next_color\u001b[0m\u001b[0;34m(\u001b[0m\u001b[0mself\u001b[0m\u001b[0;34m)\u001b[0m\u001b[0;34m:\u001b[0m\u001b[0;34m\u001b[0m\u001b[0;34m\u001b[0m\u001b[0m\n",
      "\u001b[0;32m/anaconda3/envs/h2o-3/lib/python3.6/site-packages/matplotlib/axes/_base.py\u001b[0m in \u001b[0;36m_plot_args\u001b[0;34m(self, tup, kwargs)\u001b[0m\n\u001b[1;32m    397\u001b[0m             \u001b[0mfunc\u001b[0m \u001b[0;34m=\u001b[0m \u001b[0mself\u001b[0m\u001b[0;34m.\u001b[0m\u001b[0m_makefill\u001b[0m\u001b[0;34m\u001b[0m\u001b[0;34m\u001b[0m\u001b[0m\n\u001b[1;32m    398\u001b[0m \u001b[0;34m\u001b[0m\u001b[0m\n\u001b[0;32m--> 399\u001b[0;31m         \u001b[0mncx\u001b[0m\u001b[0;34m,\u001b[0m \u001b[0mncy\u001b[0m \u001b[0;34m=\u001b[0m \u001b[0mx\u001b[0m\u001b[0;34m.\u001b[0m\u001b[0mshape\u001b[0m\u001b[0;34m[\u001b[0m\u001b[0;36m1\u001b[0m\u001b[0;34m]\u001b[0m\u001b[0;34m,\u001b[0m \u001b[0my\u001b[0m\u001b[0;34m.\u001b[0m\u001b[0mshape\u001b[0m\u001b[0;34m[\u001b[0m\u001b[0;36m1\u001b[0m\u001b[0;34m]\u001b[0m\u001b[0;34m\u001b[0m\u001b[0;34m\u001b[0m\u001b[0m\n\u001b[0m\u001b[1;32m    400\u001b[0m         \u001b[0;32mif\u001b[0m \u001b[0mncx\u001b[0m \u001b[0;34m>\u001b[0m \u001b[0;36m1\u001b[0m \u001b[0;32mand\u001b[0m \u001b[0mncy\u001b[0m \u001b[0;34m>\u001b[0m \u001b[0;36m1\u001b[0m \u001b[0;32mand\u001b[0m \u001b[0mncx\u001b[0m \u001b[0;34m!=\u001b[0m \u001b[0mncy\u001b[0m\u001b[0;34m:\u001b[0m\u001b[0;34m\u001b[0m\u001b[0;34m\u001b[0m\u001b[0m\n\u001b[1;32m    401\u001b[0m             cbook.warn_deprecated(\n",
      "\u001b[0;31mIndexError\u001b[0m: tuple index out of range"
     ]
    },
    {
     "data": {
      "image/png": "[encoded data removed]",
      "text/plain": [
       "<Figure size 432x288 with 1 Axes>"
      ]
     },
     "metadata": {
      "needs_background": "light"
     },
     "output_type": "display_data"
    }
   ],
   "source": [
    "plt.yscale(\"logit\")\n",
    "plt.plot(df[\"annual_inc_cat\"].index, df[\"mean_bad_loan\"])"
   ]
  },
  {
   "cell_type": "code",
   "execution_count": null,
   "metadata": {},
   "outputs": [],
   "source": [
    "df[0:6]"
   ]
  },
  {
   "cell_type": "code",
   "execution_count": null,
   "metadata": {},
   "outputs": [],
   "source": [
    "df[20:31]"
   ]
  },
  {
   "cell_type": "code",
   "execution_count": 44,
   "metadata": {},
   "outputs": [],
   "source": [
    "x_trans.remove(\"annual_inc\")\n",
    "x_trans.append(\"annual_inc_core\")\n",
    "x_trans.append(\"annual_inc_delta\")\n",
    "\n",
    "train[\"annual_inc_core\"] = h2o.H2OFrame.ifelse(train[\"annual_inc\"] <= 10000, 10000, train[\"annual_inc\"])\n",
    "train[\"annual_inc_core\"] = h2o.H2OFrame.ifelse(train[\"annual_inc_core\"] <= 105000,\n",
    "                                               train[\"annual_inc_core\"], 105000)\n",
    "\n",
    "train[\"annual_inc_delta\"] = train[\"annual_inc\"] - train[\"annual_inc_core\"]"
   ]
  },
  {
   "cell_type": "markdown",
   "metadata": {},
   "source": [
    "### 2.3. Debt to Income Ratio\n",
    "\n",
    "### Separating Typical from Extreme Debt to Income Ratio\n",
    "\n",
    "Looking at the occurance of bad loans on a logit scale reveal that the chance of a bad loan roughly increases linearly in debt-to-income from 5% to 30% and is highly volatile outside of that range due to small numbers of observations. To reflect this finding in the modeling, we will replace the original `dti` measure with two derived measures:\n",
    "\n",
    "\\begin{eqnarray}\n",
    "dti\\_core & = & \\max(5, \\min(dti, 30)) \\\\\n",
    "dti\\_diff & = & dti - dti\\_core\n",
    "\\end{eqnarray}"
   ]
  },
  {
   "cell_type": "code",
   "execution_count": 65,
   "metadata": {},
   "outputs": [
    {
     "data": {
      "text/html": [
       "<table>\n",
       "<thead>\n",
       "<tr><th style=\"text-align: right;\">  Probs</th><th style=\"text-align: right;\">  dtiQuantiles</th></tr>\n",
       "</thead>\n",
       "<tbody>\n",
       "<tr><td style=\"text-align: right;\">   0   </td><td style=\"text-align: right;\">          0   </td></tr>\n",
       "<tr><td style=\"text-align: right;\">   0.05</td><td style=\"text-align: right;\">          3.79</td></tr>\n",
       "<tr><td style=\"text-align: right;\">   0.25</td><td style=\"text-align: right;\">         10.23</td></tr>\n",
       "<tr><td style=\"text-align: right;\">   0.5 </td><td style=\"text-align: right;\">         15.62</td></tr>\n",
       "<tr><td style=\"text-align: right;\">   0.75</td><td style=\"text-align: right;\">         21.26</td></tr>\n",
       "<tr><td style=\"text-align: right;\">   0.95</td><td style=\"text-align: right;\">         29.02</td></tr>\n",
       "<tr><td style=\"text-align: right;\">   1   </td><td style=\"text-align: right;\">         39.99</td></tr>\n",
       "</tbody>\n",
       "</table>"
      ]
     },
     "metadata": {},
     "output_type": "display_data"
    },
    {
     "data": {
      "text/plain": []
     },
     "execution_count": 65,
     "metadata": {},
     "output_type": "execute_result"
    }
   ],
   "source": [
    "train[\"dti\"].quantile([0, 0.05, 0.25, 0.5, 0.75, 0.95, 1])"
   ]
  },
  {
   "cell_type": "code",
   "execution_count": 66,
   "metadata": {},
   "outputs": [],
   "source": [
    "breaks = np.linspace(0, 40, 41).tolist()\n",
    "train[\"dti_cat\"] = train[\"dti\"].cut(breaks = breaks)"
   ]
  },
  {
   "cell_type": "code",
   "execution_count": 67,
   "metadata": {},
   "outputs": [],
   "source": [
    "df = mean_target(train, \"dti_cat\")"
   ]
  },
  {
   "cell_type": "code",
   "execution_count": 68,
   "metadata": {},
   "outputs": [
    {
     "ename": "IndexError",
     "evalue": "tuple index out of range",
     "output_type": "error",
     "traceback": [
      "\u001b[0;31m---------------------------------------------------------------------------\u001b[0m",
      "\u001b[0;31mIndexError\u001b[0m                                Traceback (most recent call last)",
      "\u001b[0;32m<ipython-input-68-536d93fcd4b0>\u001b[0m in \u001b[0;36m<module>\u001b[0;34m\u001b[0m\n\u001b[1;32m      1\u001b[0m \u001b[0mplt\u001b[0m\u001b[0;34m.\u001b[0m\u001b[0myscale\u001b[0m\u001b[0;34m(\u001b[0m\u001b[0;34m\"logit\"\u001b[0m\u001b[0;34m)\u001b[0m\u001b[0;34m\u001b[0m\u001b[0;34m\u001b[0m\u001b[0m\n\u001b[0;32m----> 2\u001b[0;31m \u001b[0mplt\u001b[0m\u001b[0;34m.\u001b[0m\u001b[0mplot\u001b[0m\u001b[0;34m(\u001b[0m\u001b[0mdf\u001b[0m\u001b[0;34m[\u001b[0m\u001b[0;34m\"dti_cat\"\u001b[0m\u001b[0;34m]\u001b[0m\u001b[0;34m.\u001b[0m\u001b[0mindex\u001b[0m\u001b[0;34m,\u001b[0m \u001b[0mdf\u001b[0m\u001b[0;34m[\u001b[0m\u001b[0;34m\"mean_bad_loan\"\u001b[0m\u001b[0;34m]\u001b[0m\u001b[0;34m)\u001b[0m\u001b[0;34m\u001b[0m\u001b[0;34m\u001b[0m\u001b[0m\n\u001b[0m",
      "\u001b[0;32m/anaconda3/envs/h2o-3/lib/python3.6/site-packages/matplotlib/pyplot.py\u001b[0m in \u001b[0;36mplot\u001b[0;34m(scalex, scaley, data, *args, **kwargs)\u001b[0m\n\u001b[1;32m   2793\u001b[0m     return gca().plot(\n\u001b[1;32m   2794\u001b[0m         *args, scalex=scalex, scaley=scaley, **({\"data\": data} if data\n\u001b[0;32m-> 2795\u001b[0;31m         is not None else {}), **kwargs)\n\u001b[0m\u001b[1;32m   2796\u001b[0m \u001b[0;34m\u001b[0m\u001b[0m\n\u001b[1;32m   2797\u001b[0m \u001b[0;34m\u001b[0m\u001b[0m\n",
      "\u001b[0;32m/anaconda3/envs/h2o-3/lib/python3.6/site-packages/matplotlib/axes/_axes.py\u001b[0m in \u001b[0;36mplot\u001b[0;34m(self, scalex, scaley, data, *args, **kwargs)\u001b[0m\n\u001b[1;32m   1664\u001b[0m         \"\"\"\n\u001b[1;32m   1665\u001b[0m         \u001b[0mkwargs\u001b[0m \u001b[0;34m=\u001b[0m \u001b[0mcbook\u001b[0m\u001b[0;34m.\u001b[0m\u001b[0mnormalize_kwargs\u001b[0m\u001b[0;34m(\u001b[0m\u001b[0mkwargs\u001b[0m\u001b[0;34m,\u001b[0m \u001b[0mmlines\u001b[0m\u001b[0;34m.\u001b[0m\u001b[0mLine2D\u001b[0m\u001b[0;34m.\u001b[0m\u001b[0m_alias_map\u001b[0m\u001b[0;34m)\u001b[0m\u001b[0;34m\u001b[0m\u001b[0;34m\u001b[0m\u001b[0m\n\u001b[0;32m-> 1666\u001b[0;31m         \u001b[0mlines\u001b[0m \u001b[0;34m=\u001b[0m \u001b[0;34m[\u001b[0m\u001b[0;34m*\u001b[0m\u001b[0mself\u001b[0m\u001b[0;34m.\u001b[0m\u001b[0m_get_lines\u001b[0m\u001b[0;34m(\u001b[0m\u001b[0;34m*\u001b[0m\u001b[0margs\u001b[0m\u001b[0;34m,\u001b[0m \u001b[0mdata\u001b[0m\u001b[0;34m=\u001b[0m\u001b[0mdata\u001b[0m\u001b[0;34m,\u001b[0m \u001b[0;34m**\u001b[0m\u001b[0mkwargs\u001b[0m\u001b[0;34m)\u001b[0m\u001b[0;34m]\u001b[0m\u001b[0;34m\u001b[0m\u001b[0;34m\u001b[0m\u001b[0m\n\u001b[0m\u001b[1;32m   1667\u001b[0m         \u001b[0;32mfor\u001b[0m \u001b[0mline\u001b[0m \u001b[0;32min\u001b[0m \u001b[0mlines\u001b[0m\u001b[0;34m:\u001b[0m\u001b[0;34m\u001b[0m\u001b[0;34m\u001b[0m\u001b[0m\n\u001b[1;32m   1668\u001b[0m             \u001b[0mself\u001b[0m\u001b[0;34m.\u001b[0m\u001b[0madd_line\u001b[0m\u001b[0;34m(\u001b[0m\u001b[0mline\u001b[0m\u001b[0;34m)\u001b[0m\u001b[0;34m\u001b[0m\u001b[0;34m\u001b[0m\u001b[0m\n",
      "\u001b[0;32m/anaconda3/envs/h2o-3/lib/python3.6/site-packages/matplotlib/axes/_base.py\u001b[0m in \u001b[0;36m__call__\u001b[0;34m(self, *args, **kwargs)\u001b[0m\n\u001b[1;32m    223\u001b[0m                 \u001b[0mthis\u001b[0m \u001b[0;34m+=\u001b[0m \u001b[0margs\u001b[0m\u001b[0;34m[\u001b[0m\u001b[0;36m0\u001b[0m\u001b[0;34m]\u001b[0m\u001b[0;34m,\u001b[0m\u001b[0;34m\u001b[0m\u001b[0;34m\u001b[0m\u001b[0m\n\u001b[1;32m    224\u001b[0m                 \u001b[0margs\u001b[0m \u001b[0;34m=\u001b[0m \u001b[0margs\u001b[0m\u001b[0;34m[\u001b[0m\u001b[0;36m1\u001b[0m\u001b[0;34m:\u001b[0m\u001b[0;34m]\u001b[0m\u001b[0;34m\u001b[0m\u001b[0;34m\u001b[0m\u001b[0m\n\u001b[0;32m--> 225\u001b[0;31m             \u001b[0;32myield\u001b[0m \u001b[0;32mfrom\u001b[0m \u001b[0mself\u001b[0m\u001b[0;34m.\u001b[0m\u001b[0m_plot_args\u001b[0m\u001b[0;34m(\u001b[0m\u001b[0mthis\u001b[0m\u001b[0;34m,\u001b[0m \u001b[0mkwargs\u001b[0m\u001b[0;34m)\u001b[0m\u001b[0;34m\u001b[0m\u001b[0;34m\u001b[0m\u001b[0m\n\u001b[0m\u001b[1;32m    226\u001b[0m \u001b[0;34m\u001b[0m\u001b[0m\n\u001b[1;32m    227\u001b[0m     \u001b[0;32mdef\u001b[0m \u001b[0mget_next_color\u001b[0m\u001b[0;34m(\u001b[0m\u001b[0mself\u001b[0m\u001b[0;34m)\u001b[0m\u001b[0;34m:\u001b[0m\u001b[0;34m\u001b[0m\u001b[0;34m\u001b[0m\u001b[0m\n",
      "\u001b[0;32m/anaconda3/envs/h2o-3/lib/python3.6/site-packages/matplotlib/axes/_base.py\u001b[0m in \u001b[0;36m_plot_args\u001b[0;34m(self, tup, kwargs)\u001b[0m\n\u001b[1;32m    397\u001b[0m             \u001b[0mfunc\u001b[0m \u001b[0;34m=\u001b[0m \u001b[0mself\u001b[0m\u001b[0;34m.\u001b[0m\u001b[0m_makefill\u001b[0m\u001b[0;34m\u001b[0m\u001b[0;34m\u001b[0m\u001b[0m\n\u001b[1;32m    398\u001b[0m \u001b[0;34m\u001b[0m\u001b[0m\n\u001b[0;32m--> 399\u001b[0;31m         \u001b[0mncx\u001b[0m\u001b[0;34m,\u001b[0m \u001b[0mncy\u001b[0m \u001b[0;34m=\u001b[0m \u001b[0mx\u001b[0m\u001b[0;34m.\u001b[0m\u001b[0mshape\u001b[0m\u001b[0;34m[\u001b[0m\u001b[0;36m1\u001b[0m\u001b[0;34m]\u001b[0m\u001b[0;34m,\u001b[0m \u001b[0my\u001b[0m\u001b[0;34m.\u001b[0m\u001b[0mshape\u001b[0m\u001b[0;34m[\u001b[0m\u001b[0;36m1\u001b[0m\u001b[0;34m]\u001b[0m\u001b[0;34m\u001b[0m\u001b[0;34m\u001b[0m\u001b[0m\n\u001b[0m\u001b[1;32m    400\u001b[0m         \u001b[0;32mif\u001b[0m \u001b[0mncx\u001b[0m \u001b[0;34m>\u001b[0m \u001b[0;36m1\u001b[0m \u001b[0;32mand\u001b[0m \u001b[0mncy\u001b[0m \u001b[0;34m>\u001b[0m \u001b[0;36m1\u001b[0m \u001b[0;32mand\u001b[0m \u001b[0mncx\u001b[0m \u001b[0;34m!=\u001b[0m \u001b[0mncy\u001b[0m\u001b[0;34m:\u001b[0m\u001b[0;34m\u001b[0m\u001b[0;34m\u001b[0m\u001b[0m\n\u001b[1;32m    401\u001b[0m             cbook.warn_deprecated(\n",
      "\u001b[0;31mIndexError\u001b[0m: tuple index out of range"
     ]
    },
    {
     "data": {
      "image/png": "[encoded data removed]",
      "text/plain": [
       "<Figure size 432x288 with 1 Axes>"
      ]
     },
     "metadata": {
      "needs_background": "light"
     },
     "output_type": "display_data"
    }
   ],
   "source": [
    "plt.yscale(\"logit\")\n",
    "plt.plot(df[\"dti_cat\"].index, df[\"mean_bad_loan\"])"
   ]
  },
  {
   "cell_type": "code",
   "execution_count": null,
   "metadata": {},
   "outputs": [],
   "source": [
    "df[30:41]"
   ]
  },
  {
   "cell_type": "code",
   "execution_count": null,
   "metadata": {},
   "outputs": [],
   "source": [
    "x_trans.remove(\"dti\")\n",
    "x_trans.append(\"dti_core\")\n",
    "x_trans.append(\"dti_delta\")\n",
    "\n",
    "train[\"dti_core\"] = h2o.H2OFrame.ifelse(train[\"dti\"] <= 5, 5, train[\"dti\"])\n",
    "train[\"dti_core\"] = h2o.H2OFrame.ifelse(train[\"dti_core\"] <= 30, train[\"dti_core\"], 30)\n",
    "\n",
    "train[\"dti_delta\"] = train[\"dti\"] - train[\"dti_core\"]"
   ]
  },
  {
   "cell_type": "markdown",
   "metadata": {},
   "source": [
    "### 2.4. Number of Delinquencies in the Past 2 Years"
   ]
  },
  {
   "cell_type": "markdown",
   "metadata": {},
   "source": [
    "### Separating Typical from Extreme Number of Delinquencies in the Past 2 Years\n",
    "\n",
    "The chance of a bad loan seems to max out at 3 delinquent payments in the past two years. To reflect this finding in the modeling, we will replace the original `delinq_2yrs` measure with two derived measures:\n",
    "\n",
    "\\begin{eqnarray}\n",
    "delinq\\_2yrs\\_core & = & \\min(delinq\\_2yrs, 3) \\\\\n",
    "delinq\\_2yrs\\_diff & = & delinq\\_2yrs - delinq\\_2yrs\\_core\n",
    "\\end{eqnarray}"
   ]
  },
  {
   "cell_type": "code",
   "execution_count": 69,
   "metadata": {},
   "outputs": [
    {
     "data": {
      "text/html": [
       "<table>\n",
       "<thead>\n",
       "<tr><th style=\"text-align: right;\">  Probs</th><th style=\"text-align: right;\">  delinq_2yrsQuantiles</th></tr>\n",
       "</thead>\n",
       "<tbody>\n",
       "<tr><td style=\"text-align: right;\">   0   </td><td style=\"text-align: right;\">                     0</td></tr>\n",
       "<tr><td style=\"text-align: right;\">   0.05</td><td style=\"text-align: right;\">                     0</td></tr>\n",
       "<tr><td style=\"text-align: right;\">   0.25</td><td style=\"text-align: right;\">                     0</td></tr>\n",
       "<tr><td style=\"text-align: right;\">   0.5 </td><td style=\"text-align: right;\">                     0</td></tr>\n",
       "<tr><td style=\"text-align: right;\">   0.75</td><td style=\"text-align: right;\">                     0</td></tr>\n",
       "<tr><td style=\"text-align: right;\">   0.95</td><td style=\"text-align: right;\">                     1</td></tr>\n",
       "<tr><td style=\"text-align: right;\">   1   </td><td style=\"text-align: right;\">                    29</td></tr>\n",
       "</tbody>\n",
       "</table>"
      ]
     },
     "metadata": {},
     "output_type": "display_data"
    },
    {
     "data": {
      "text/plain": []
     },
     "execution_count": 69,
     "metadata": {},
     "output_type": "execute_result"
    }
   ],
   "source": [
    "train[\"delinq_2yrs\"].quantile([0, 0.05, 0.25, 0.5, 0.75, 0.95, 1])"
   ]
  },
  {
   "cell_type": "code",
   "execution_count": 70,
   "metadata": {},
   "outputs": [],
   "source": [
    "breaks = np.linspace(0, 5, 6).tolist()\n",
    "train[\"delinq_2yrs_cat\"] = train[\"delinq_2yrs\"].cut(breaks = breaks)"
   ]
  },
  {
   "cell_type": "code",
   "execution_count": 71,
   "metadata": {},
   "outputs": [
    {
     "data": {
      "text/html": [
       "<div>\n",
       "<style scoped>\n",
       "    .dataframe tbody tr th:only-of-type {\n",
       "        vertical-align: middle;\n",
       "    }\n",
       "\n",
       "    .dataframe tbody tr th {\n",
       "        vertical-align: top;\n",
       "    }\n",
       "\n",
       "    .dataframe thead th {\n",
       "        text-align: right;\n",
       "    }\n",
       "</style>\n",
       "<table border=\"1\" class=\"dataframe\">\n",
       "  <thead>\n",
       "    <tr style=\"text-align: right;\">\n",
       "      <th></th>\n",
       "      <th>delinq_2yrs_cat</th>\n",
       "      <th>nrow</th>\n",
       "      <th>mean_bad_loan</th>\n",
       "    </tr>\n",
       "  </thead>\n",
       "  <tbody>\n",
       "    <tr>\n",
       "      <th>0</th>\n",
       "      <td>NaN</td>\n",
       "      <td>0</td>\n",
       "      <td>0.181037</td>\n",
       "    </tr>\n",
       "    <tr>\n",
       "      <th>1</th>\n",
       "      <td>(0.0,1.0]</td>\n",
       "      <td>17158</td>\n",
       "      <td>0.189299</td>\n",
       "    </tr>\n",
       "    <tr>\n",
       "      <th>2</th>\n",
       "      <td>(1.0,2.0]</td>\n",
       "      <td>4635</td>\n",
       "      <td>0.201510</td>\n",
       "    </tr>\n",
       "    <tr>\n",
       "      <th>3</th>\n",
       "      <td>(2.0,3.0]</td>\n",
       "      <td>1488</td>\n",
       "      <td>0.221774</td>\n",
       "    </tr>\n",
       "    <tr>\n",
       "      <th>4</th>\n",
       "      <td>(3.0,4.0]</td>\n",
       "      <td>579</td>\n",
       "      <td>0.215889</td>\n",
       "    </tr>\n",
       "    <tr>\n",
       "      <th>5</th>\n",
       "      <td>(4.0,5.0]</td>\n",
       "      <td>310</td>\n",
       "      <td>0.216129</td>\n",
       "    </tr>\n",
       "  </tbody>\n",
       "</table>\n",
       "</div>"
      ],
      "text/plain": [
       "  delinq_2yrs_cat   nrow  mean_bad_loan\n",
       "0             NaN      0       0.181037\n",
       "1       (0.0,1.0]  17158       0.189299\n",
       "2       (1.0,2.0]   4635       0.201510\n",
       "3       (2.0,3.0]   1488       0.221774\n",
       "4       (3.0,4.0]    579       0.215889\n",
       "5       (4.0,5.0]    310       0.216129"
      ]
     },
     "execution_count": 71,
     "metadata": {},
     "output_type": "execute_result"
    }
   ],
   "source": [
    "mean_target(train, \"delinq_2yrs_cat\")"
   ]
  },
  {
   "cell_type": "code",
   "execution_count": 72,
   "metadata": {},
   "outputs": [],
   "source": [
    "x_trans.remove(\"delinq_2yrs\")\n",
    "x_trans.append(\"delinq_2yrs_core\")\n",
    "x_trans.append(\"delinq_2yrs_delta\")\n",
    "\n",
    "train[\"delinq_2yrs_core\"] = h2o.H2OFrame.ifelse(train[\"delinq_2yrs\"] <= 3, train[\"delinq_2yrs\"], 3)\n",
    "\n",
    "train[\"delinq_2yrs_delta\"] = train[\"delinq_2yrs\"] - train[\"delinq_2yrs_core\"]"
   ]
  },
  {
   "cell_type": "markdown",
   "metadata": {},
   "source": [
    "### 2.5. Revolving Credit Line Utilized"
   ]
  },
  {
   "cell_type": "markdown",
   "metadata": {},
   "source": [
    "### Separating Typical from Extreme Revolving Credit Line Utilized\n",
    "\n",
    "The relationship between credit line utilized is somewhat interesting. There appears to be a higher rate for a bad loan when 0% of the credit lines are utilized, then it drops down slightly and roughly increases linearly in credit line utilized up to 100%. To reflect this finding in the modeling, we will replace the original `revol_util` measure with three derived measures:\n",
    "\n",
    "\\begin{eqnarray}\n",
    "revol\\_util\\_0 & = & I(revol\\_util == 0) \\\\\n",
    "revol\\_util\\_core & = & \\max(5, \\min(revol\\_util, 30)) \\\\\n",
    "revol\\_util\\_diff & = & revol\\_util - revol\\_util\\_core\n",
    "\\end{eqnarray}"
   ]
  },
  {
   "cell_type": "code",
   "execution_count": 73,
   "metadata": {},
   "outputs": [
    {
     "data": {
      "text/html": [
       "<table>\n",
       "<thead>\n",
       "<tr><th style=\"text-align: right;\">  Probs</th><th style=\"text-align: right;\">  revol_utilQuantiles</th></tr>\n",
       "</thead>\n",
       "<tbody>\n",
       "<tr><td style=\"text-align: right;\">   0   </td><td style=\"text-align: right;\">                  0  </td></tr>\n",
       "<tr><td style=\"text-align: right;\">   0.05</td><td style=\"text-align: right;\">                  8.7</td></tr>\n",
       "<tr><td style=\"text-align: right;\">   0.25</td><td style=\"text-align: right;\">                 35.6</td></tr>\n",
       "<tr><td style=\"text-align: right;\">   0.5 </td><td style=\"text-align: right;\">                 55.8</td></tr>\n",
       "<tr><td style=\"text-align: right;\">   0.75</td><td style=\"text-align: right;\">                 74.2</td></tr>\n",
       "<tr><td style=\"text-align: right;\">   0.95</td><td style=\"text-align: right;\">                 92.5</td></tr>\n",
       "<tr><td style=\"text-align: right;\">   1   </td><td style=\"text-align: right;\">                150.7</td></tr>\n",
       "</tbody>\n",
       "</table>"
      ]
     },
     "metadata": {},
     "output_type": "display_data"
    },
    {
     "data": {
      "text/plain": []
     },
     "execution_count": 73,
     "metadata": {},
     "output_type": "execute_result"
    }
   ],
   "source": [
    "train[\"revol_util\"].quantile([0, 0.05, 0.25, 0.5, 0.75, 0.95, 1])"
   ]
  },
  {
   "cell_type": "code",
   "execution_count": 74,
   "metadata": {},
   "outputs": [],
   "source": [
    "breaks = np.linspace(0, 120, 25).tolist()\n",
    "train[\"revol_util_cat\"] = train[\"revol_util\"].cut(breaks = breaks)"
   ]
  },
  {
   "cell_type": "code",
   "execution_count": 75,
   "metadata": {},
   "outputs": [],
   "source": [
    "df = mean_target(train, \"revol_util_cat\")"
   ]
  },
  {
   "cell_type": "code",
   "execution_count": 76,
   "metadata": {},
   "outputs": [
    {
     "ename": "IndexError",
     "evalue": "tuple index out of range",
     "output_type": "error",
     "traceback": [
      "\u001b[0;31m---------------------------------------------------------------------------\u001b[0m",
      "\u001b[0;31mIndexError\u001b[0m                                Traceback (most recent call last)",
      "\u001b[0;32m<ipython-input-76-e2739fbb1c0c>\u001b[0m in \u001b[0;36m<module>\u001b[0;34m\u001b[0m\n\u001b[1;32m      1\u001b[0m \u001b[0mplt\u001b[0m\u001b[0;34m.\u001b[0m\u001b[0myscale\u001b[0m\u001b[0;34m(\u001b[0m\u001b[0;34m\"logit\"\u001b[0m\u001b[0;34m)\u001b[0m\u001b[0;34m\u001b[0m\u001b[0;34m\u001b[0m\u001b[0m\n\u001b[0;32m----> 2\u001b[0;31m \u001b[0mplt\u001b[0m\u001b[0;34m.\u001b[0m\u001b[0mplot\u001b[0m\u001b[0;34m(\u001b[0m\u001b[0mdf\u001b[0m\u001b[0;34m[\u001b[0m\u001b[0;34m\"revol_util_cat\"\u001b[0m\u001b[0;34m]\u001b[0m\u001b[0;34m.\u001b[0m\u001b[0mindex\u001b[0m\u001b[0;34m,\u001b[0m \u001b[0mdf\u001b[0m\u001b[0;34m[\u001b[0m\u001b[0;34m\"mean_bad_loan\"\u001b[0m\u001b[0;34m]\u001b[0m\u001b[0;34m)\u001b[0m\u001b[0;34m\u001b[0m\u001b[0;34m\u001b[0m\u001b[0m\n\u001b[0m",
      "\u001b[0;32m/anaconda3/envs/h2o-3/lib/python3.6/site-packages/matplotlib/pyplot.py\u001b[0m in \u001b[0;36mplot\u001b[0;34m(scalex, scaley, data, *args, **kwargs)\u001b[0m\n\u001b[1;32m   2793\u001b[0m     return gca().plot(\n\u001b[1;32m   2794\u001b[0m         *args, scalex=scalex, scaley=scaley, **({\"data\": data} if data\n\u001b[0;32m-> 2795\u001b[0;31m         is not None else {}), **kwargs)\n\u001b[0m\u001b[1;32m   2796\u001b[0m \u001b[0;34m\u001b[0m\u001b[0m\n\u001b[1;32m   2797\u001b[0m \u001b[0;34m\u001b[0m\u001b[0m\n",
      "\u001b[0;32m/anaconda3/envs/h2o-3/lib/python3.6/site-packages/matplotlib/axes/_axes.py\u001b[0m in \u001b[0;36mplot\u001b[0;34m(self, scalex, scaley, data, *args, **kwargs)\u001b[0m\n\u001b[1;32m   1664\u001b[0m         \"\"\"\n\u001b[1;32m   1665\u001b[0m         \u001b[0mkwargs\u001b[0m \u001b[0;34m=\u001b[0m \u001b[0mcbook\u001b[0m\u001b[0;34m.\u001b[0m\u001b[0mnormalize_kwargs\u001b[0m\u001b[0;34m(\u001b[0m\u001b[0mkwargs\u001b[0m\u001b[0;34m,\u001b[0m \u001b[0mmlines\u001b[0m\u001b[0;34m.\u001b[0m\u001b[0mLine2D\u001b[0m\u001b[0;34m.\u001b[0m\u001b[0m_alias_map\u001b[0m\u001b[0;34m)\u001b[0m\u001b[0;34m\u001b[0m\u001b[0;34m\u001b[0m\u001b[0m\n\u001b[0;32m-> 1666\u001b[0;31m         \u001b[0mlines\u001b[0m \u001b[0;34m=\u001b[0m \u001b[0;34m[\u001b[0m\u001b[0;34m*\u001b[0m\u001b[0mself\u001b[0m\u001b[0;34m.\u001b[0m\u001b[0m_get_lines\u001b[0m\u001b[0;34m(\u001b[0m\u001b[0;34m*\u001b[0m\u001b[0margs\u001b[0m\u001b[0;34m,\u001b[0m \u001b[0mdata\u001b[0m\u001b[0;34m=\u001b[0m\u001b[0mdata\u001b[0m\u001b[0;34m,\u001b[0m \u001b[0;34m**\u001b[0m\u001b[0mkwargs\u001b[0m\u001b[0;34m)\u001b[0m\u001b[0;34m]\u001b[0m\u001b[0;34m\u001b[0m\u001b[0;34m\u001b[0m\u001b[0m\n\u001b[0m\u001b[1;32m   1667\u001b[0m         \u001b[0;32mfor\u001b[0m \u001b[0mline\u001b[0m \u001b[0;32min\u001b[0m \u001b[0mlines\u001b[0m\u001b[0;34m:\u001b[0m\u001b[0;34m\u001b[0m\u001b[0;34m\u001b[0m\u001b[0m\n\u001b[1;32m   1668\u001b[0m             \u001b[0mself\u001b[0m\u001b[0;34m.\u001b[0m\u001b[0madd_line\u001b[0m\u001b[0;34m(\u001b[0m\u001b[0mline\u001b[0m\u001b[0;34m)\u001b[0m\u001b[0;34m\u001b[0m\u001b[0;34m\u001b[0m\u001b[0m\n",
      "\u001b[0;32m/anaconda3/envs/h2o-3/lib/python3.6/site-packages/matplotlib/axes/_base.py\u001b[0m in \u001b[0;36m__call__\u001b[0;34m(self, *args, **kwargs)\u001b[0m\n\u001b[1;32m    223\u001b[0m                 \u001b[0mthis\u001b[0m \u001b[0;34m+=\u001b[0m \u001b[0margs\u001b[0m\u001b[0;34m[\u001b[0m\u001b[0;36m0\u001b[0m\u001b[0;34m]\u001b[0m\u001b[0;34m,\u001b[0m\u001b[0;34m\u001b[0m\u001b[0;34m\u001b[0m\u001b[0m\n\u001b[1;32m    224\u001b[0m                 \u001b[0margs\u001b[0m \u001b[0;34m=\u001b[0m \u001b[0margs\u001b[0m\u001b[0;34m[\u001b[0m\u001b[0;36m1\u001b[0m\u001b[0;34m:\u001b[0m\u001b[0;34m]\u001b[0m\u001b[0;34m\u001b[0m\u001b[0;34m\u001b[0m\u001b[0m\n\u001b[0;32m--> 225\u001b[0;31m             \u001b[0;32myield\u001b[0m \u001b[0;32mfrom\u001b[0m \u001b[0mself\u001b[0m\u001b[0;34m.\u001b[0m\u001b[0m_plot_args\u001b[0m\u001b[0;34m(\u001b[0m\u001b[0mthis\u001b[0m\u001b[0;34m,\u001b[0m \u001b[0mkwargs\u001b[0m\u001b[0;34m)\u001b[0m\u001b[0;34m\u001b[0m\u001b[0;34m\u001b[0m\u001b[0m\n\u001b[0m\u001b[1;32m    226\u001b[0m \u001b[0;34m\u001b[0m\u001b[0m\n\u001b[1;32m    227\u001b[0m     \u001b[0;32mdef\u001b[0m \u001b[0mget_next_color\u001b[0m\u001b[0;34m(\u001b[0m\u001b[0mself\u001b[0m\u001b[0;34m)\u001b[0m\u001b[0;34m:\u001b[0m\u001b[0;34m\u001b[0m\u001b[0;34m\u001b[0m\u001b[0m\n",
      "\u001b[0;32m/anaconda3/envs/h2o-3/lib/python3.6/site-packages/matplotlib/axes/_base.py\u001b[0m in \u001b[0;36m_plot_args\u001b[0;34m(self, tup, kwargs)\u001b[0m\n\u001b[1;32m    397\u001b[0m             \u001b[0mfunc\u001b[0m \u001b[0;34m=\u001b[0m \u001b[0mself\u001b[0m\u001b[0;34m.\u001b[0m\u001b[0m_makefill\u001b[0m\u001b[0;34m\u001b[0m\u001b[0;34m\u001b[0m\u001b[0m\n\u001b[1;32m    398\u001b[0m \u001b[0;34m\u001b[0m\u001b[0m\n\u001b[0;32m--> 399\u001b[0;31m         \u001b[0mncx\u001b[0m\u001b[0;34m,\u001b[0m \u001b[0mncy\u001b[0m \u001b[0;34m=\u001b[0m \u001b[0mx\u001b[0m\u001b[0;34m.\u001b[0m\u001b[0mshape\u001b[0m\u001b[0;34m[\u001b[0m\u001b[0;36m1\u001b[0m\u001b[0;34m]\u001b[0m\u001b[0;34m,\u001b[0m \u001b[0my\u001b[0m\u001b[0;34m.\u001b[0m\u001b[0mshape\u001b[0m\u001b[0;34m[\u001b[0m\u001b[0;36m1\u001b[0m\u001b[0;34m]\u001b[0m\u001b[0;34m\u001b[0m\u001b[0;34m\u001b[0m\u001b[0m\n\u001b[0m\u001b[1;32m    400\u001b[0m         \u001b[0;32mif\u001b[0m \u001b[0mncx\u001b[0m \u001b[0;34m>\u001b[0m \u001b[0;36m1\u001b[0m \u001b[0;32mand\u001b[0m \u001b[0mncy\u001b[0m \u001b[0;34m>\u001b[0m \u001b[0;36m1\u001b[0m \u001b[0;32mand\u001b[0m \u001b[0mncx\u001b[0m \u001b[0;34m!=\u001b[0m \u001b[0mncy\u001b[0m\u001b[0;34m:\u001b[0m\u001b[0;34m\u001b[0m\u001b[0;34m\u001b[0m\u001b[0m\n\u001b[1;32m    401\u001b[0m             cbook.warn_deprecated(\n",
      "\u001b[0;31mIndexError\u001b[0m: tuple index out of range"
     ]
    },
    {
     "data": {
      "image/png": "[encoded data removed]",
      "text/plain": [
       "<Figure size 432x288 with 1 Axes>"
      ]
     },
     "metadata": {
      "needs_background": "light"
     },
     "output_type": "display_data"
    }
   ],
   "source": [
    "plt.yscale(\"logit\")\n",
    "plt.plot(df[\"revol_util_cat\"].index, df[\"mean_bad_loan\"])"
   ]
  },
  {
   "cell_type": "code",
   "execution_count": null,
   "metadata": {},
   "outputs": [],
   "source": [
    "df[20:25]"
   ]
  },
  {
   "cell_type": "code",
   "execution_count": 77,
   "metadata": {},
   "outputs": [],
   "source": [
    "x_trans.remove(\"revol_util\")\n",
    "x_trans.append(\"revol_util_0\")\n",
    "x_trans.append(\"revol_util_core\")\n",
    "x_trans.append(\"revol_util_delta\")\n",
    "\n",
    "train[\"revol_util_0\"] = train[\"revol_util\"] == 0\n",
    "\n",
    "train[\"revol_util_core\"] = h2o.H2OFrame.ifelse(train[\"revol_util\"] <= 100, train[\"revol_util\"], 100)\n",
    "\n",
    "train[\"revol_util_delta\"] = train[\"revol_util\"] - train[\"revol_util_core\"]"
   ]
  },
  {
   "cell_type": "markdown",
   "metadata": {},
   "source": [
    "### 2.6. Number of Credit Lines"
   ]
  },
  {
   "cell_type": "markdown",
   "metadata": {},
   "source": [
    "### Separating Typical from Extreme Number of Credit Lines\n",
    "\n",
    "Looking at the occurance of bad loans on a logit scale reveal that the chance of a bad loan roughly decreases linearly in number of lines of credit up to about 50. To reflect this finding in the modeling, we will replace the original `total_acc` measure with two derived measures:\n",
    "\n",
    "\\begin{eqnarray}\n",
    "total\\_acc\\_core & = & \\min(total\\_acc, 50) \\\\\n",
    "total\\_acc\\_diff & = & total\\_acc - total\\_acc\\_core\n",
    "\\end{eqnarray}"
   ]
  },
  {
   "cell_type": "code",
   "execution_count": 78,
   "metadata": {},
   "outputs": [
    {
     "data": {
      "text/html": [
       "<table>\n",
       "<thead>\n",
       "<tr><th style=\"text-align: right;\">  Probs</th><th style=\"text-align: right;\">  total_accQuantiles</th></tr>\n",
       "</thead>\n",
       "<tbody>\n",
       "<tr><td style=\"text-align: right;\">   0   </td><td style=\"text-align: right;\">                   1</td></tr>\n",
       "<tr><td style=\"text-align: right;\">   0.05</td><td style=\"text-align: right;\">                   8</td></tr>\n",
       "<tr><td style=\"text-align: right;\">   0.25</td><td style=\"text-align: right;\">                  16</td></tr>\n",
       "<tr><td style=\"text-align: right;\">   0.5 </td><td style=\"text-align: right;\">                  23</td></tr>\n",
       "<tr><td style=\"text-align: right;\">   0.75</td><td style=\"text-align: right;\">                  31</td></tr>\n",
       "<tr><td style=\"text-align: right;\">   0.95</td><td style=\"text-align: right;\">                  46</td></tr>\n",
       "<tr><td style=\"text-align: right;\">   1   </td><td style=\"text-align: right;\">                 118</td></tr>\n",
       "</tbody>\n",
       "</table>"
      ]
     },
     "metadata": {},
     "output_type": "display_data"
    },
    {
     "data": {
      "text/plain": []
     },
     "execution_count": 78,
     "metadata": {},
     "output_type": "execute_result"
    }
   ],
   "source": [
    "train[\"total_acc\"].quantile([0, 0.05, 0.25, 0.5, 0.75, 0.95, 1])"
   ]
  },
  {
   "cell_type": "code",
   "execution_count": 79,
   "metadata": {},
   "outputs": [],
   "source": [
    "breaks = np.linspace(0, 60, 13).tolist()\n",
    "train[\"total_acc_cat\"] = train[\"total_acc\"].cut(breaks = breaks)"
   ]
  },
  {
   "cell_type": "code",
   "execution_count": 80,
   "metadata": {},
   "outputs": [],
   "source": [
    "df = mean_target(train, \"total_acc_cat\")"
   ]
  },
  {
   "cell_type": "code",
   "execution_count": 81,
   "metadata": {},
   "outputs": [
    {
     "ename": "IndexError",
     "evalue": "tuple index out of range",
     "output_type": "error",
     "traceback": [
      "\u001b[0;31m---------------------------------------------------------------------------\u001b[0m",
      "\u001b[0;31mIndexError\u001b[0m                                Traceback (most recent call last)",
      "\u001b[0;32m<ipython-input-81-cdc01ec123c7>\u001b[0m in \u001b[0;36m<module>\u001b[0;34m\u001b[0m\n\u001b[1;32m      1\u001b[0m \u001b[0mplt\u001b[0m\u001b[0;34m.\u001b[0m\u001b[0myscale\u001b[0m\u001b[0;34m(\u001b[0m\u001b[0;34m\"logit\"\u001b[0m\u001b[0;34m)\u001b[0m\u001b[0;34m\u001b[0m\u001b[0;34m\u001b[0m\u001b[0m\n\u001b[0;32m----> 2\u001b[0;31m \u001b[0mplt\u001b[0m\u001b[0;34m.\u001b[0m\u001b[0mplot\u001b[0m\u001b[0;34m(\u001b[0m\u001b[0mdf\u001b[0m\u001b[0;34m[\u001b[0m\u001b[0;34m\"total_acc_cat\"\u001b[0m\u001b[0;34m]\u001b[0m\u001b[0;34m.\u001b[0m\u001b[0mindex\u001b[0m\u001b[0;34m,\u001b[0m \u001b[0mdf\u001b[0m\u001b[0;34m[\u001b[0m\u001b[0;34m\"mean_bad_loan\"\u001b[0m\u001b[0;34m]\u001b[0m\u001b[0;34m)\u001b[0m\u001b[0;34m\u001b[0m\u001b[0;34m\u001b[0m\u001b[0m\n\u001b[0m",
      "\u001b[0;32m/anaconda3/envs/h2o-3/lib/python3.6/site-packages/matplotlib/pyplot.py\u001b[0m in \u001b[0;36mplot\u001b[0;34m(scalex, scaley, data, *args, **kwargs)\u001b[0m\n\u001b[1;32m   2793\u001b[0m     return gca().plot(\n\u001b[1;32m   2794\u001b[0m         *args, scalex=scalex, scaley=scaley, **({\"data\": data} if data\n\u001b[0;32m-> 2795\u001b[0;31m         is not None else {}), **kwargs)\n\u001b[0m\u001b[1;32m   2796\u001b[0m \u001b[0;34m\u001b[0m\u001b[0m\n\u001b[1;32m   2797\u001b[0m \u001b[0;34m\u001b[0m\u001b[0m\n",
      "\u001b[0;32m/anaconda3/envs/h2o-3/lib/python3.6/site-packages/matplotlib/axes/_axes.py\u001b[0m in \u001b[0;36mplot\u001b[0;34m(self, scalex, scaley, data, *args, **kwargs)\u001b[0m\n\u001b[1;32m   1664\u001b[0m         \"\"\"\n\u001b[1;32m   1665\u001b[0m         \u001b[0mkwargs\u001b[0m \u001b[0;34m=\u001b[0m \u001b[0mcbook\u001b[0m\u001b[0;34m.\u001b[0m\u001b[0mnormalize_kwargs\u001b[0m\u001b[0;34m(\u001b[0m\u001b[0mkwargs\u001b[0m\u001b[0;34m,\u001b[0m \u001b[0mmlines\u001b[0m\u001b[0;34m.\u001b[0m\u001b[0mLine2D\u001b[0m\u001b[0;34m.\u001b[0m\u001b[0m_alias_map\u001b[0m\u001b[0;34m)\u001b[0m\u001b[0;34m\u001b[0m\u001b[0;34m\u001b[0m\u001b[0m\n\u001b[0;32m-> 1666\u001b[0;31m         \u001b[0mlines\u001b[0m \u001b[0;34m=\u001b[0m \u001b[0;34m[\u001b[0m\u001b[0;34m*\u001b[0m\u001b[0mself\u001b[0m\u001b[0;34m.\u001b[0m\u001b[0m_get_lines\u001b[0m\u001b[0;34m(\u001b[0m\u001b[0;34m*\u001b[0m\u001b[0margs\u001b[0m\u001b[0;34m,\u001b[0m \u001b[0mdata\u001b[0m\u001b[0;34m=\u001b[0m\u001b[0mdata\u001b[0m\u001b[0;34m,\u001b[0m \u001b[0;34m**\u001b[0m\u001b[0mkwargs\u001b[0m\u001b[0;34m)\u001b[0m\u001b[0;34m]\u001b[0m\u001b[0;34m\u001b[0m\u001b[0;34m\u001b[0m\u001b[0m\n\u001b[0m\u001b[1;32m   1667\u001b[0m         \u001b[0;32mfor\u001b[0m \u001b[0mline\u001b[0m \u001b[0;32min\u001b[0m \u001b[0mlines\u001b[0m\u001b[0;34m:\u001b[0m\u001b[0;34m\u001b[0m\u001b[0;34m\u001b[0m\u001b[0m\n\u001b[1;32m   1668\u001b[0m             \u001b[0mself\u001b[0m\u001b[0;34m.\u001b[0m\u001b[0madd_line\u001b[0m\u001b[0;34m(\u001b[0m\u001b[0mline\u001b[0m\u001b[0;34m)\u001b[0m\u001b[0;34m\u001b[0m\u001b[0;34m\u001b[0m\u001b[0m\n",
      "\u001b[0;32m/anaconda3/envs/h2o-3/lib/python3.6/site-packages/matplotlib/axes/_base.py\u001b[0m in \u001b[0;36m__call__\u001b[0;34m(self, *args, **kwargs)\u001b[0m\n\u001b[1;32m    223\u001b[0m                 \u001b[0mthis\u001b[0m \u001b[0;34m+=\u001b[0m \u001b[0margs\u001b[0m\u001b[0;34m[\u001b[0m\u001b[0;36m0\u001b[0m\u001b[0;34m]\u001b[0m\u001b[0;34m,\u001b[0m\u001b[0;34m\u001b[0m\u001b[0;34m\u001b[0m\u001b[0m\n\u001b[1;32m    224\u001b[0m                 \u001b[0margs\u001b[0m \u001b[0;34m=\u001b[0m \u001b[0margs\u001b[0m\u001b[0;34m[\u001b[0m\u001b[0;36m1\u001b[0m\u001b[0;34m:\u001b[0m\u001b[0;34m]\u001b[0m\u001b[0;34m\u001b[0m\u001b[0;34m\u001b[0m\u001b[0m\n\u001b[0;32m--> 225\u001b[0;31m             \u001b[0;32myield\u001b[0m \u001b[0;32mfrom\u001b[0m \u001b[0mself\u001b[0m\u001b[0;34m.\u001b[0m\u001b[0m_plot_args\u001b[0m\u001b[0;34m(\u001b[0m\u001b[0mthis\u001b[0m\u001b[0;34m,\u001b[0m \u001b[0mkwargs\u001b[0m\u001b[0;34m)\u001b[0m\u001b[0;34m\u001b[0m\u001b[0;34m\u001b[0m\u001b[0m\n\u001b[0m\u001b[1;32m    226\u001b[0m \u001b[0;34m\u001b[0m\u001b[0m\n\u001b[1;32m    227\u001b[0m     \u001b[0;32mdef\u001b[0m \u001b[0mget_next_color\u001b[0m\u001b[0;34m(\u001b[0m\u001b[0mself\u001b[0m\u001b[0;34m)\u001b[0m\u001b[0;34m:\u001b[0m\u001b[0;34m\u001b[0m\u001b[0;34m\u001b[0m\u001b[0m\n",
      "\u001b[0;32m/anaconda3/envs/h2o-3/lib/python3.6/site-packages/matplotlib/axes/_base.py\u001b[0m in \u001b[0;36m_plot_args\u001b[0;34m(self, tup, kwargs)\u001b[0m\n\u001b[1;32m    397\u001b[0m             \u001b[0mfunc\u001b[0m \u001b[0;34m=\u001b[0m \u001b[0mself\u001b[0m\u001b[0;34m.\u001b[0m\u001b[0m_makefill\u001b[0m\u001b[0;34m\u001b[0m\u001b[0;34m\u001b[0m\u001b[0m\n\u001b[1;32m    398\u001b[0m \u001b[0;34m\u001b[0m\u001b[0m\n\u001b[0;32m--> 399\u001b[0;31m         \u001b[0mncx\u001b[0m\u001b[0;34m,\u001b[0m \u001b[0mncy\u001b[0m \u001b[0;34m=\u001b[0m \u001b[0mx\u001b[0m\u001b[0;34m.\u001b[0m\u001b[0mshape\u001b[0m\u001b[0;34m[\u001b[0m\u001b[0;36m1\u001b[0m\u001b[0;34m]\u001b[0m\u001b[0;34m,\u001b[0m \u001b[0my\u001b[0m\u001b[0;34m.\u001b[0m\u001b[0mshape\u001b[0m\u001b[0;34m[\u001b[0m\u001b[0;36m1\u001b[0m\u001b[0;34m]\u001b[0m\u001b[0;34m\u001b[0m\u001b[0;34m\u001b[0m\u001b[0m\n\u001b[0m\u001b[1;32m    400\u001b[0m         \u001b[0;32mif\u001b[0m \u001b[0mncx\u001b[0m \u001b[0;34m>\u001b[0m \u001b[0;36m1\u001b[0m \u001b[0;32mand\u001b[0m \u001b[0mncy\u001b[0m \u001b[0;34m>\u001b[0m \u001b[0;36m1\u001b[0m \u001b[0;32mand\u001b[0m \u001b[0mncx\u001b[0m \u001b[0;34m!=\u001b[0m \u001b[0mncy\u001b[0m\u001b[0;34m:\u001b[0m\u001b[0;34m\u001b[0m\u001b[0;34m\u001b[0m\u001b[0m\n\u001b[1;32m    401\u001b[0m             cbook.warn_deprecated(\n",
      "\u001b[0;31mIndexError\u001b[0m: tuple index out of range"
     ]
    },
    {
     "data": {
      "image/png": "[encoded data removed]",
      "text/plain": [
       "<Figure size 432x288 with 1 Axes>"
      ]
     },
     "metadata": {
      "needs_background": "light"
     },
     "output_type": "display_data"
    }
   ],
   "source": [
    "plt.yscale(\"logit\")\n",
    "plt.plot(df[\"total_acc_cat\"].index, df[\"mean_bad_loan\"])"
   ]
  },
  {
   "cell_type": "code",
   "execution_count": 82,
   "metadata": {},
   "outputs": [
    {
     "data": {
      "text/html": [
       "<table>\n",
       "<thead>\n",
       "<tr><th style=\"text-align: right;\">  C1</th><th style=\"text-align: right;\">  Count</th></tr>\n",
       "</thead>\n",
       "<tbody>\n",
       "<tr><td style=\"text-align: right;\">   0</td><td style=\"text-align: right;\"> 163958</td></tr>\n",
       "<tr><td style=\"text-align: right;\">   1</td><td style=\"text-align: right;\">     29</td></tr>\n",
       "</tbody>\n",
       "</table>"
      ]
     },
     "metadata": {},
     "output_type": "display_data"
    },
    {
     "data": {
      "text/plain": []
     },
     "execution_count": 82,
     "metadata": {},
     "output_type": "execute_result"
    }
   ],
   "source": [
    "(train[\"total_acc\"] == None).table()"
   ]
  },
  {
   "cell_type": "code",
   "execution_count": 83,
   "metadata": {},
   "outputs": [
    {
     "data": {
      "text/html": [
       "<div>\n",
       "<style scoped>\n",
       "    .dataframe tbody tr th:only-of-type {\n",
       "        vertical-align: middle;\n",
       "    }\n",
       "\n",
       "    .dataframe tbody tr th {\n",
       "        vertical-align: top;\n",
       "    }\n",
       "\n",
       "    .dataframe thead th {\n",
       "        text-align: right;\n",
       "    }\n",
       "</style>\n",
       "<table border=\"1\" class=\"dataframe\">\n",
       "  <thead>\n",
       "    <tr style=\"text-align: right;\">\n",
       "      <th></th>\n",
       "      <th>total_acc_cat</th>\n",
       "      <th>nrow</th>\n",
       "      <th>mean_bad_loan</th>\n",
       "    </tr>\n",
       "  </thead>\n",
       "  <tbody>\n",
       "    <tr>\n",
       "      <th>0</th>\n",
       "      <td>NaN</td>\n",
       "      <td>0</td>\n",
       "      <td>0.153788</td>\n",
       "    </tr>\n",
       "    <tr>\n",
       "      <th>1</th>\n",
       "      <td>(0.0,5.0]</td>\n",
       "      <td>2309</td>\n",
       "      <td>0.226072</td>\n",
       "    </tr>\n",
       "    <tr>\n",
       "      <th>2</th>\n",
       "      <td>(5.0,10.0]</td>\n",
       "      <td>12717</td>\n",
       "      <td>0.210034</td>\n",
       "    </tr>\n",
       "  </tbody>\n",
       "</table>\n",
       "</div>"
      ],
      "text/plain": [
       "  total_acc_cat   nrow  mean_bad_loan\n",
       "0           NaN      0       0.153788\n",
       "1     (0.0,5.0]   2309       0.226072\n",
       "2    (5.0,10.0]  12717       0.210034"
      ]
     },
     "execution_count": 83,
     "metadata": {},
     "output_type": "execute_result"
    }
   ],
   "source": [
    "df[0:3]"
   ]
  },
  {
   "cell_type": "code",
   "execution_count": 84,
   "metadata": {},
   "outputs": [
    {
     "data": {
      "text/html": [
       "<div>\n",
       "<style scoped>\n",
       "    .dataframe tbody tr th:only-of-type {\n",
       "        vertical-align: middle;\n",
       "    }\n",
       "\n",
       "    .dataframe tbody tr th {\n",
       "        vertical-align: top;\n",
       "    }\n",
       "\n",
       "    .dataframe thead th {\n",
       "        text-align: right;\n",
       "    }\n",
       "</style>\n",
       "<table border=\"1\" class=\"dataframe\">\n",
       "  <thead>\n",
       "    <tr style=\"text-align: right;\">\n",
       "      <th></th>\n",
       "      <th>total_acc_cat</th>\n",
       "      <th>nrow</th>\n",
       "      <th>mean_bad_loan</th>\n",
       "    </tr>\n",
       "  </thead>\n",
       "  <tbody>\n",
       "    <tr>\n",
       "      <th>8</th>\n",
       "      <td>(35.0,40.0]</td>\n",
       "      <td>11251</td>\n",
       "      <td>0.163719</td>\n",
       "    </tr>\n",
       "    <tr>\n",
       "      <th>9</th>\n",
       "      <td>(40.0,45.0]</td>\n",
       "      <td>7174</td>\n",
       "      <td>0.161137</td>\n",
       "    </tr>\n",
       "    <tr>\n",
       "      <th>10</th>\n",
       "      <td>(45.0,50.0]</td>\n",
       "      <td>4203</td>\n",
       "      <td>0.157507</td>\n",
       "    </tr>\n",
       "    <tr>\n",
       "      <th>11</th>\n",
       "      <td>(50.0,55.0]</td>\n",
       "      <td>2350</td>\n",
       "      <td>0.140426</td>\n",
       "    </tr>\n",
       "    <tr>\n",
       "      <th>12</th>\n",
       "      <td>(55.0,60.0]</td>\n",
       "      <td>1287</td>\n",
       "      <td>0.165501</td>\n",
       "    </tr>\n",
       "  </tbody>\n",
       "</table>\n",
       "</div>"
      ],
      "text/plain": [
       "   total_acc_cat   nrow  mean_bad_loan\n",
       "8    (35.0,40.0]  11251       0.163719\n",
       "9    (40.0,45.0]   7174       0.161137\n",
       "10   (45.0,50.0]   4203       0.157507\n",
       "11   (50.0,55.0]   2350       0.140426\n",
       "12   (55.0,60.0]   1287       0.165501"
      ]
     },
     "execution_count": 84,
     "metadata": {},
     "output_type": "execute_result"
    }
   ],
   "source": [
    "df[8:13]"
   ]
  },
  {
   "cell_type": "code",
   "execution_count": 85,
   "metadata": {},
   "outputs": [],
   "source": [
    "x_trans.remove(\"total_acc\")\n",
    "x_trans.append(\"total_acc_core\")\n",
    "x_trans.append(\"total_acc_delta\")\n",
    "\n",
    "train[\"total_acc_core\"] = h2o.H2OFrame.ifelse(train[\"total_acc\"] <= 50, train[\"total_acc\"], 50)\n",
    "\n",
    "train[\"total_acc_delta\"] = train[\"total_acc\"] - train[\"total_acc_core\"]"
   ]
  },
  {
   "cell_type": "markdown",
   "metadata": {},
   "source": [
    "### 2.7. Longest Credit Length"
   ]
  },
  {
   "cell_type": "markdown",
   "metadata": {},
   "source": [
    "### Separating Typical from Extreme Longest Credit Length\n",
    "\n",
    "Looking at the occurance of bad loans on a logit scale reveal that the chance of a bad loan roughly decreases linearly in longest credit length from 3 to 20 years and is highly volatile outside of that range due to small numbers of observations. To reflect this finding in the modeling, we will replace the original `longest_credit_length` measure with two derived measures:\n",
    "\n",
    "\\begin{eqnarray}\n",
    "longest\\_credit\\_length\\_core & = & \\max(3, \\min(longest\\_credit\\_length, 20)) \\\\\n",
    "longest\\_credit\\_length\\_diff & = & longest\\_credit\\_length - longest\\_credit\\_length\\_core\n",
    "\\end{eqnarray}"
   ]
  },
  {
   "cell_type": "code",
   "execution_count": 86,
   "metadata": {},
   "outputs": [
    {
     "data": {
      "text/html": [
       "<table>\n",
       "<thead>\n",
       "<tr><th style=\"text-align: right;\">  Probs</th><th style=\"text-align: right;\">  longest_credit_lengthQuantiles</th></tr>\n",
       "</thead>\n",
       "<tbody>\n",
       "<tr><td style=\"text-align: right;\">   0   </td><td style=\"text-align: right;\">                               0</td></tr>\n",
       "<tr><td style=\"text-align: right;\">   0.05</td><td style=\"text-align: right;\">                               6</td></tr>\n",
       "<tr><td style=\"text-align: right;\">   0.25</td><td style=\"text-align: right;\">                              10</td></tr>\n",
       "<tr><td style=\"text-align: right;\">   0.5 </td><td style=\"text-align: right;\">                              14</td></tr>\n",
       "<tr><td style=\"text-align: right;\">   0.75</td><td style=\"text-align: right;\">                              18</td></tr>\n",
       "<tr><td style=\"text-align: right;\">   0.95</td><td style=\"text-align: right;\">                              28</td></tr>\n",
       "<tr><td style=\"text-align: right;\">   1   </td><td style=\"text-align: right;\">                              65</td></tr>\n",
       "</tbody>\n",
       "</table>"
      ]
     },
     "metadata": {},
     "output_type": "display_data"
    },
    {
     "data": {
      "text/plain": []
     },
     "execution_count": 86,
     "metadata": {},
     "output_type": "execute_result"
    }
   ],
   "source": [
    "train[\"longest_credit_length\"].quantile([0, 0.05, 0.25, 0.5, 0.75, 0.95, 1])"
   ]
  },
  {
   "cell_type": "code",
   "execution_count": 87,
   "metadata": {},
   "outputs": [],
   "source": [
    "breaks = np.linspace(0, 25, 26).tolist()\n",
    "train[\"longest_credit_length_cat\"] = train[\"longest_credit_length\"].cut(breaks = breaks)"
   ]
  },
  {
   "cell_type": "code",
   "execution_count": 88,
   "metadata": {},
   "outputs": [],
   "source": [
    "df = mean_target(train, \"longest_credit_length_cat\")"
   ]
  },
  {
   "cell_type": "code",
   "execution_count": 89,
   "metadata": {},
   "outputs": [
    {
     "ename": "IndexError",
     "evalue": "tuple index out of range",
     "output_type": "error",
     "traceback": [
      "\u001b[0;31m---------------------------------------------------------------------------\u001b[0m",
      "\u001b[0;31mIndexError\u001b[0m                                Traceback (most recent call last)",
      "\u001b[0;32m<ipython-input-89-4be394b1ec3a>\u001b[0m in \u001b[0;36m<module>\u001b[0;34m\u001b[0m\n\u001b[1;32m      1\u001b[0m \u001b[0mplt\u001b[0m\u001b[0;34m.\u001b[0m\u001b[0myscale\u001b[0m\u001b[0;34m(\u001b[0m\u001b[0;34m\"logit\"\u001b[0m\u001b[0;34m)\u001b[0m\u001b[0;34m\u001b[0m\u001b[0;34m\u001b[0m\u001b[0m\n\u001b[0;32m----> 2\u001b[0;31m \u001b[0mplt\u001b[0m\u001b[0;34m.\u001b[0m\u001b[0mplot\u001b[0m\u001b[0;34m(\u001b[0m\u001b[0mdf\u001b[0m\u001b[0;34m[\u001b[0m\u001b[0;34m\"longest_credit_length_cat\"\u001b[0m\u001b[0;34m]\u001b[0m\u001b[0;34m.\u001b[0m\u001b[0mindex\u001b[0m\u001b[0;34m,\u001b[0m \u001b[0mdf\u001b[0m\u001b[0;34m[\u001b[0m\u001b[0;34m\"mean_bad_loan\"\u001b[0m\u001b[0;34m]\u001b[0m\u001b[0;34m)\u001b[0m\u001b[0;34m\u001b[0m\u001b[0;34m\u001b[0m\u001b[0m\n\u001b[0m",
      "\u001b[0;32m/anaconda3/envs/h2o-3/lib/python3.6/site-packages/matplotlib/pyplot.py\u001b[0m in \u001b[0;36mplot\u001b[0;34m(scalex, scaley, data, *args, **kwargs)\u001b[0m\n\u001b[1;32m   2793\u001b[0m     return gca().plot(\n\u001b[1;32m   2794\u001b[0m         *args, scalex=scalex, scaley=scaley, **({\"data\": data} if data\n\u001b[0;32m-> 2795\u001b[0;31m         is not None else {}), **kwargs)\n\u001b[0m\u001b[1;32m   2796\u001b[0m \u001b[0;34m\u001b[0m\u001b[0m\n\u001b[1;32m   2797\u001b[0m \u001b[0;34m\u001b[0m\u001b[0m\n",
      "\u001b[0;32m/anaconda3/envs/h2o-3/lib/python3.6/site-packages/matplotlib/axes/_axes.py\u001b[0m in \u001b[0;36mplot\u001b[0;34m(self, scalex, scaley, data, *args, **kwargs)\u001b[0m\n\u001b[1;32m   1664\u001b[0m         \"\"\"\n\u001b[1;32m   1665\u001b[0m         \u001b[0mkwargs\u001b[0m \u001b[0;34m=\u001b[0m \u001b[0mcbook\u001b[0m\u001b[0;34m.\u001b[0m\u001b[0mnormalize_kwargs\u001b[0m\u001b[0;34m(\u001b[0m\u001b[0mkwargs\u001b[0m\u001b[0;34m,\u001b[0m \u001b[0mmlines\u001b[0m\u001b[0;34m.\u001b[0m\u001b[0mLine2D\u001b[0m\u001b[0;34m.\u001b[0m\u001b[0m_alias_map\u001b[0m\u001b[0;34m)\u001b[0m\u001b[0;34m\u001b[0m\u001b[0;34m\u001b[0m\u001b[0m\n\u001b[0;32m-> 1666\u001b[0;31m         \u001b[0mlines\u001b[0m \u001b[0;34m=\u001b[0m \u001b[0;34m[\u001b[0m\u001b[0;34m*\u001b[0m\u001b[0mself\u001b[0m\u001b[0;34m.\u001b[0m\u001b[0m_get_lines\u001b[0m\u001b[0;34m(\u001b[0m\u001b[0;34m*\u001b[0m\u001b[0margs\u001b[0m\u001b[0;34m,\u001b[0m \u001b[0mdata\u001b[0m\u001b[0;34m=\u001b[0m\u001b[0mdata\u001b[0m\u001b[0;34m,\u001b[0m \u001b[0;34m**\u001b[0m\u001b[0mkwargs\u001b[0m\u001b[0;34m)\u001b[0m\u001b[0;34m]\u001b[0m\u001b[0;34m\u001b[0m\u001b[0;34m\u001b[0m\u001b[0m\n\u001b[0m\u001b[1;32m   1667\u001b[0m         \u001b[0;32mfor\u001b[0m \u001b[0mline\u001b[0m \u001b[0;32min\u001b[0m \u001b[0mlines\u001b[0m\u001b[0;34m:\u001b[0m\u001b[0;34m\u001b[0m\u001b[0;34m\u001b[0m\u001b[0m\n\u001b[1;32m   1668\u001b[0m             \u001b[0mself\u001b[0m\u001b[0;34m.\u001b[0m\u001b[0madd_line\u001b[0m\u001b[0;34m(\u001b[0m\u001b[0mline\u001b[0m\u001b[0;34m)\u001b[0m\u001b[0;34m\u001b[0m\u001b[0;34m\u001b[0m\u001b[0m\n",
      "\u001b[0;32m/anaconda3/envs/h2o-3/lib/python3.6/site-packages/matplotlib/axes/_base.py\u001b[0m in \u001b[0;36m__call__\u001b[0;34m(self, *args, **kwargs)\u001b[0m\n\u001b[1;32m    223\u001b[0m                 \u001b[0mthis\u001b[0m \u001b[0;34m+=\u001b[0m \u001b[0margs\u001b[0m\u001b[0;34m[\u001b[0m\u001b[0;36m0\u001b[0m\u001b[0;34m]\u001b[0m\u001b[0;34m,\u001b[0m\u001b[0;34m\u001b[0m\u001b[0;34m\u001b[0m\u001b[0m\n\u001b[1;32m    224\u001b[0m                 \u001b[0margs\u001b[0m \u001b[0;34m=\u001b[0m \u001b[0margs\u001b[0m\u001b[0;34m[\u001b[0m\u001b[0;36m1\u001b[0m\u001b[0;34m:\u001b[0m\u001b[0;34m]\u001b[0m\u001b[0;34m\u001b[0m\u001b[0;34m\u001b[0m\u001b[0m\n\u001b[0;32m--> 225\u001b[0;31m             \u001b[0;32myield\u001b[0m \u001b[0;32mfrom\u001b[0m \u001b[0mself\u001b[0m\u001b[0;34m.\u001b[0m\u001b[0m_plot_args\u001b[0m\u001b[0;34m(\u001b[0m\u001b[0mthis\u001b[0m\u001b[0;34m,\u001b[0m \u001b[0mkwargs\u001b[0m\u001b[0;34m)\u001b[0m\u001b[0;34m\u001b[0m\u001b[0;34m\u001b[0m\u001b[0m\n\u001b[0m\u001b[1;32m    226\u001b[0m \u001b[0;34m\u001b[0m\u001b[0m\n\u001b[1;32m    227\u001b[0m     \u001b[0;32mdef\u001b[0m \u001b[0mget_next_color\u001b[0m\u001b[0;34m(\u001b[0m\u001b[0mself\u001b[0m\u001b[0;34m)\u001b[0m\u001b[0;34m:\u001b[0m\u001b[0;34m\u001b[0m\u001b[0;34m\u001b[0m\u001b[0m\n",
      "\u001b[0;32m/anaconda3/envs/h2o-3/lib/python3.6/site-packages/matplotlib/axes/_base.py\u001b[0m in \u001b[0;36m_plot_args\u001b[0;34m(self, tup, kwargs)\u001b[0m\n\u001b[1;32m    397\u001b[0m             \u001b[0mfunc\u001b[0m \u001b[0;34m=\u001b[0m \u001b[0mself\u001b[0m\u001b[0;34m.\u001b[0m\u001b[0m_makefill\u001b[0m\u001b[0;34m\u001b[0m\u001b[0;34m\u001b[0m\u001b[0m\n\u001b[1;32m    398\u001b[0m \u001b[0;34m\u001b[0m\u001b[0m\n\u001b[0;32m--> 399\u001b[0;31m         \u001b[0mncx\u001b[0m\u001b[0;34m,\u001b[0m \u001b[0mncy\u001b[0m \u001b[0;34m=\u001b[0m \u001b[0mx\u001b[0m\u001b[0;34m.\u001b[0m\u001b[0mshape\u001b[0m\u001b[0;34m[\u001b[0m\u001b[0;36m1\u001b[0m\u001b[0;34m]\u001b[0m\u001b[0;34m,\u001b[0m \u001b[0my\u001b[0m\u001b[0;34m.\u001b[0m\u001b[0mshape\u001b[0m\u001b[0;34m[\u001b[0m\u001b[0;36m1\u001b[0m\u001b[0;34m]\u001b[0m\u001b[0;34m\u001b[0m\u001b[0;34m\u001b[0m\u001b[0m\n\u001b[0m\u001b[1;32m    400\u001b[0m         \u001b[0;32mif\u001b[0m \u001b[0mncx\u001b[0m \u001b[0;34m>\u001b[0m \u001b[0;36m1\u001b[0m \u001b[0;32mand\u001b[0m \u001b[0mncy\u001b[0m \u001b[0;34m>\u001b[0m \u001b[0;36m1\u001b[0m \u001b[0;32mand\u001b[0m \u001b[0mncx\u001b[0m \u001b[0;34m!=\u001b[0m \u001b[0mncy\u001b[0m\u001b[0;34m:\u001b[0m\u001b[0;34m\u001b[0m\u001b[0;34m\u001b[0m\u001b[0m\n\u001b[1;32m    401\u001b[0m             cbook.warn_deprecated(\n",
      "\u001b[0;31mIndexError\u001b[0m: tuple index out of range"
     ]
    },
    {
     "data": {
      "image/png": "[encoded data removed]",
      "text/plain": [
       "<Figure size 432x288 with 1 Axes>"
      ]
     },
     "metadata": {
      "needs_background": "light"
     },
     "output_type": "display_data"
    }
   ],
   "source": [
    "plt.yscale(\"logit\")\n",
    "plt.plot(df[\"longest_credit_length_cat\"].index, df[\"mean_bad_loan\"])"
   ]
  },
  {
   "cell_type": "code",
   "execution_count": null,
   "metadata": {},
   "outputs": [],
   "source": [
    "df[0:4]"
   ]
  },
  {
   "cell_type": "code",
   "execution_count": null,
   "metadata": {},
   "outputs": [],
   "source": [
    "df[20:26]"
   ]
  },
  {
   "cell_type": "code",
   "execution_count": 90,
   "metadata": {},
   "outputs": [],
   "source": [
    "x_trans.remove(\"longest_credit_length\")\n",
    "x_trans.append(\"longest_credit_length_core\")\n",
    "x_trans.append(\"longest_credit_length_delta\")\n",
    "\n",
    "train[\"longest_credit_length_core\"] = h2o.H2OFrame.ifelse(train[\"longest_credit_length\"] <= 3,\n",
    "                                                          3, train[\"longest_credit_length\"])\n",
    "train[\"longest_credit_length_core\"] = h2o.H2OFrame.ifelse(train[\"longest_credit_length_core\"] <= 20,\n",
    "                                                          train[\"longest_credit_length_core\"], 20)\n",
    "\n",
    "train[\"longest_credit_length_delta\"] = train[\"longest_credit_length\"] - train[\"longest_credit_length_core\"]"
   ]
  },
  {
   "cell_type": "markdown",
   "metadata": {},
   "source": [
    "----\n",
    "# ^^^^ EVERYTHING ABOVE THIS ^^^^\n",
    "-----"
   ]
  },
  {
   "cell_type": "markdown",
   "metadata": {},
   "source": [
    "## 3. Create Indicator Functions"
   ]
  },
  {
   "cell_type": "markdown",
   "metadata": {},
   "source": [
    "### 3.1. Term"
   ]
  },
  {
   "cell_type": "markdown",
   "metadata": {},
   "source": [
    "### Converting Term to a 0/1 Indicator\n",
    "\n",
    "Given that term of the loans are either 3 or 5 years, we will create a simplifed `term_36month` binary indicator that is 1 when the terms of the loan is for 5 years and 0 for loans with a term of 3 years."
   ]
  },
  {
   "cell_type": "code",
   "execution_count": 26,
   "metadata": {},
   "outputs": [
    {
     "data": {
      "text/html": [
       "<table>\n",
       "<thead>\n",
       "<tr><th>term     </th><th style=\"text-align: right;\">  Count</th></tr>\n",
       "</thead>\n",
       "<tbody>\n",
       "<tr><td>36 months</td><td style=\"text-align: right;\"> 129950</td></tr>\n",
       "<tr><td>60 months</td><td style=\"text-align: right;\">  34037</td></tr>\n",
       "</tbody>\n",
       "</table>"
      ]
     },
     "metadata": {},
     "output_type": "display_data"
    },
    {
     "data": {
      "text/plain": []
     },
     "execution_count": 26,
     "metadata": {},
     "output_type": "execute_result"
    }
   ],
   "source": [
    "train[\"term\"].table()"
   ]
  },
  {
   "cell_type": "code",
   "execution_count": 27,
   "metadata": {},
   "outputs": [],
   "source": [
    "x_trans.remove(\"term\")\n",
    "x_trans.append(\"term_60months\")\n",
    "\n",
    "train[\"term_60months\"] = train[\"term\"] == \"60 months\""
   ]
  },
  {
   "cell_type": "code",
   "execution_count": 28,
   "metadata": {},
   "outputs": [
    {
     "data": {
      "text/html": [
       "<table>\n",
       "<thead>\n",
       "<tr><th style=\"text-align: right;\">  term_60months</th><th style=\"text-align: right;\">  Count</th></tr>\n",
       "</thead>\n",
       "<tbody>\n",
       "<tr><td style=\"text-align: right;\">              0</td><td style=\"text-align: right;\"> 129950</td></tr>\n",
       "<tr><td style=\"text-align: right;\">              1</td><td style=\"text-align: right;\">  34037</td></tr>\n",
       "</tbody>\n",
       "</table>"
      ]
     },
     "metadata": {},
     "output_type": "display_data"
    },
    {
     "data": {
      "text/plain": []
     },
     "execution_count": 28,
     "metadata": {},
     "output_type": "execute_result"
    }
   ],
   "source": [
    "train[\"term_60months\"].table()"
   ]
  },
  {
   "cell_type": "markdown",
   "metadata": {},
   "source": [
    "### 3.2. Income Verification Status"
   ]
  },
  {
   "cell_type": "markdown",
   "metadata": {},
   "source": [
    "### Converting Income Verification Status to a 0/1 Indicator\n",
    "\n",
    "Given that incomes are either verified or not verified, we will create a simplifed `verified` binary indicator that is 1 when income has been verified."
   ]
  },
  {
   "cell_type": "code",
   "execution_count": 91,
   "metadata": {},
   "outputs": [
    {
     "data": {
      "text/html": [
       "<table>\n",
       "<thead>\n",
       "<tr><th>verification_status  </th><th style=\"text-align: right;\">  Count</th></tr>\n",
       "</thead>\n",
       "<tbody>\n",
       "<tr><td>not verified         </td><td style=\"text-align: right;\">  59155</td></tr>\n",
       "<tr><td>verified             </td><td style=\"text-align: right;\"> 104832</td></tr>\n",
       "</tbody>\n",
       "</table>"
      ]
     },
     "metadata": {},
     "output_type": "display_data"
    },
    {
     "data": {
      "text/plain": []
     },
     "execution_count": 91,
     "metadata": {},
     "output_type": "execute_result"
    }
   ],
   "source": [
    "train[\"verification_status\"].table()"
   ]
  },
  {
   "cell_type": "code",
   "execution_count": 92,
   "metadata": {},
   "outputs": [],
   "source": [
    "x_trans.remove(\"verification_status\")\n",
    "x_trans.append(\"verified\")\n",
    "\n",
    "train[\"verified\"] = train[\"verification_status\"] == \"verified\""
   ]
  },
  {
   "cell_type": "code",
   "execution_count": 93,
   "metadata": {},
   "outputs": [
    {
     "data": {
      "text/html": [
       "<table>\n",
       "<thead>\n",
       "<tr><th style=\"text-align: right;\">  verified</th><th style=\"text-align: right;\">  Count</th></tr>\n",
       "</thead>\n",
       "<tbody>\n",
       "<tr><td style=\"text-align: right;\">         0</td><td style=\"text-align: right;\">  59155</td></tr>\n",
       "<tr><td style=\"text-align: right;\">         1</td><td style=\"text-align: right;\"> 104832</td></tr>\n",
       "</tbody>\n",
       "</table>"
      ]
     },
     "metadata": {},
     "output_type": "display_data"
    },
    {
     "data": {
      "text/plain": []
     },
     "execution_count": 93,
     "metadata": {},
     "output_type": "execute_result"
    }
   ],
   "source": [
    "train[\"verified\"].table()"
   ]
  },
  {
   "cell_type": "markdown",
   "metadata": {},
   "source": [
    "### 3.3. Employment Length (Missing Value)"
   ]
  },
  {
   "cell_type": "markdown",
   "metadata": {},
   "source": [
    "### Creating Missing Value Indicator for Employment Length\n",
    "\n",
    "The most interesting characteristic about employment length is whether or not it is missing. The divide between those with missing values for employment length to those who have a recorded employment length is 26.3% bad loans to 18.0% bad loans respectively. Interestingly, there doesn't appear to be any differences in bad loans across employment lengths."
   ]
  },
  {
   "cell_type": "code",
   "execution_count": 29,
   "metadata": {},
   "outputs": [
    {
     "data": {
      "text/html": [
       "<table>\n",
       "<thead>\n",
       "<tr><th>       </th><th>emp_length        </th></tr>\n",
       "</thead>\n",
       "<tbody>\n",
       "<tr><td>type   </td><td>int               </td></tr>\n",
       "<tr><td>mins   </td><td>0.0               </td></tr>\n",
       "<tr><td>mean   </td><td>5.68435293299533  </td></tr>\n",
       "<tr><td>maxs   </td><td>10.0              </td></tr>\n",
       "<tr><td>sigma  </td><td>3.6106637311002365</td></tr>\n",
       "<tr><td>zeros  </td><td>14248             </td></tr>\n",
       "<tr><td>missing</td><td>5804              </td></tr>\n",
       "<tr><td>0      </td><td>10.0              </td></tr>\n",
       "<tr><td>1      </td><td>0.0               </td></tr>\n",
       "<tr><td>2      </td><td>10.0              </td></tr>\n",
       "<tr><td>3      </td><td>10.0              </td></tr>\n",
       "<tr><td>4      </td><td>3.0               </td></tr>\n",
       "<tr><td>5      </td><td>9.0               </td></tr>\n",
       "<tr><td>6      </td><td>4.0               </td></tr>\n",
       "<tr><td>7      </td><td>0.0               </td></tr>\n",
       "<tr><td>8      </td><td>5.0               </td></tr>\n",
       "<tr><td>9      </td><td>10.0              </td></tr>\n",
       "</tbody>\n",
       "</table>"
      ]
     },
     "metadata": {},
     "output_type": "display_data"
    }
   ],
   "source": [
    "train[\"emp_length\"].summary()"
   ]
  },
  {
   "cell_type": "code",
   "execution_count": 30,
   "metadata": {},
   "outputs": [],
   "source": [
    "x_trans.append(\"emp_length_missing\")\n",
    "\n",
    "train[\"emp_length_missing\"] = train[\"emp_length\"] == None"
   ]
  },
  {
   "cell_type": "code",
   "execution_count": 31,
   "metadata": {},
   "outputs": [
    {
     "name": "stdout",
     "output_type": "stream",
     "text": [
      "Parse progress: |█████████████████████████████████████████████████████████| 100%\n"
     ]
    },
    {
     "data": {
      "text/html": [
       "<table>\n",
       "<thead>\n",
       "<tr><th style=\"text-align: right;\">  emp_length_missing</th><th style=\"text-align: right;\">  cv_fold</th><th style=\"text-align: right;\">  te_emp_length_missing</th></tr>\n",
       "</thead>\n",
       "<tbody>\n",
       "<tr><td style=\"text-align: right;\">                   0</td><td style=\"text-align: right;\">        0</td><td style=\"text-align: right;\">               -1.52145</td></tr>\n",
       "<tr><td style=\"text-align: right;\">                   1</td><td style=\"text-align: right;\">        0</td><td style=\"text-align: right;\">               -1.03907</td></tr>\n",
       "<tr><td style=\"text-align: right;\">                   0</td><td style=\"text-align: right;\">        1</td><td style=\"text-align: right;\">               -1.51691</td></tr>\n",
       "<tr><td style=\"text-align: right;\">                   1</td><td style=\"text-align: right;\">        1</td><td style=\"text-align: right;\">               -1.02443</td></tr>\n",
       "<tr><td style=\"text-align: right;\">                   0</td><td style=\"text-align: right;\">        2</td><td style=\"text-align: right;\">               -1.51666</td></tr>\n",
       "<tr><td style=\"text-align: right;\">                   1</td><td style=\"text-align: right;\">        2</td><td style=\"text-align: right;\">               -1.05314</td></tr>\n",
       "<tr><td style=\"text-align: right;\">                   0</td><td style=\"text-align: right;\">        3</td><td style=\"text-align: right;\">               -1.51154</td></tr>\n",
       "<tr><td style=\"text-align: right;\">                   1</td><td style=\"text-align: right;\">        3</td><td style=\"text-align: right;\">               -1.02223</td></tr>\n",
       "<tr><td style=\"text-align: right;\">                   0</td><td style=\"text-align: right;\">        4</td><td style=\"text-align: right;\">               -1.51157</td></tr>\n",
       "<tr><td style=\"text-align: right;\">                   1</td><td style=\"text-align: right;\">        4</td><td style=\"text-align: right;\">               -1.01582</td></tr>\n",
       "</tbody>\n",
       "</table>"
      ]
     },
     "metadata": {},
     "output_type": "display_data"
    },
    {
     "data": {
      "text/plain": []
     },
     "execution_count": 31,
     "metadata": {},
     "output_type": "execute_result"
    }
   ],
   "source": [
    "mean_target_encoding(train, \"emp_length_missing\")"
   ]
  },
  {
   "cell_type": "code",
   "execution_count": 32,
   "metadata": {},
   "outputs": [],
   "source": [
    "df = mean_target(train, \"emp_length\")"
   ]
  },
  {
   "cell_type": "code",
   "execution_count": 33,
   "metadata": {},
   "outputs": [
    {
     "data": {
      "text/plain": [
       "[<matplotlib.lines.Line2D at 0x117681d68>]"
      ]
     },
     "execution_count": 33,
     "metadata": {},
     "output_type": "execute_result"
    },
    {
     "data": {
      "image/png": "[encoded data removed]",
      "text/plain": [
       "<Figure size 432x288 with 1 Axes>"
      ]
     },
     "metadata": {
      "needs_background": "light"
     },
     "output_type": "display_data"
    }
   ],
   "source": [
    "plt.yscale(\"logit\")\n",
    "plt.plot(df[\"emp_length\"], df[\"mean_bad_loan\"])"
   ]
  },
  {
   "cell_type": "code",
   "execution_count": 34,
   "metadata": {},
   "outputs": [
    {
     "data": {
      "text/html": [
       "<div>\n",
       "<style scoped>\n",
       "    .dataframe tbody tr th:only-of-type {\n",
       "        vertical-align: middle;\n",
       "    }\n",
       "\n",
       "    .dataframe tbody tr th {\n",
       "        vertical-align: top;\n",
       "    }\n",
       "\n",
       "    .dataframe thead th {\n",
       "        text-align: right;\n",
       "    }\n",
       "</style>\n",
       "<table border=\"1\" class=\"dataframe\">\n",
       "  <thead>\n",
       "    <tr style=\"text-align: right;\">\n",
       "      <th></th>\n",
       "      <th>emp_length</th>\n",
       "      <th>nrow</th>\n",
       "      <th>mean_bad_loan</th>\n",
       "    </tr>\n",
       "  </thead>\n",
       "  <tbody>\n",
       "    <tr>\n",
       "      <th>0</th>\n",
       "      <td>NaN</td>\n",
       "      <td>0</td>\n",
       "      <td>0.262922</td>\n",
       "    </tr>\n",
       "    <tr>\n",
       "      <th>1</th>\n",
       "      <td>0.0</td>\n",
       "      <td>14248</td>\n",
       "      <td>0.184307</td>\n",
       "    </tr>\n",
       "    <tr>\n",
       "      <th>2</th>\n",
       "      <td>1.0</td>\n",
       "      <td>11414</td>\n",
       "      <td>0.177238</td>\n",
       "    </tr>\n",
       "    <tr>\n",
       "      <th>3</th>\n",
       "      <td>2.0</td>\n",
       "      <td>15766</td>\n",
       "      <td>0.173728</td>\n",
       "    </tr>\n",
       "    <tr>\n",
       "      <th>4</th>\n",
       "      <td>3.0</td>\n",
       "      <td>13611</td>\n",
       "      <td>0.178679</td>\n",
       "    </tr>\n",
       "    <tr>\n",
       "      <th>5</th>\n",
       "      <td>4.0</td>\n",
       "      <td>11024</td>\n",
       "      <td>0.173258</td>\n",
       "    </tr>\n",
       "    <tr>\n",
       "      <th>6</th>\n",
       "      <td>5.0</td>\n",
       "      <td>12347</td>\n",
       "      <td>0.181664</td>\n",
       "    </tr>\n",
       "    <tr>\n",
       "      <th>7</th>\n",
       "      <td>6.0</td>\n",
       "      <td>10000</td>\n",
       "      <td>0.188500</td>\n",
       "    </tr>\n",
       "    <tr>\n",
       "      <th>8</th>\n",
       "      <td>7.0</td>\n",
       "      <td>9079</td>\n",
       "      <td>0.190770</td>\n",
       "    </tr>\n",
       "    <tr>\n",
       "      <th>9</th>\n",
       "      <td>8.0</td>\n",
       "      <td>7424</td>\n",
       "      <td>0.185614</td>\n",
       "    </tr>\n",
       "    <tr>\n",
       "      <th>10</th>\n",
       "      <td>9.0</td>\n",
       "      <td>6087</td>\n",
       "      <td>0.187120</td>\n",
       "    </tr>\n",
       "    <tr>\n",
       "      <th>11</th>\n",
       "      <td>10.0</td>\n",
       "      <td>47183</td>\n",
       "      <td>0.177670</td>\n",
       "    </tr>\n",
       "  </tbody>\n",
       "</table>\n",
       "</div>"
      ],
      "text/plain": [
       "    emp_length   nrow  mean_bad_loan\n",
       "0          NaN      0       0.262922\n",
       "1          0.0  14248       0.184307\n",
       "2          1.0  11414       0.177238\n",
       "3          2.0  15766       0.173728\n",
       "4          3.0  13611       0.178679\n",
       "5          4.0  11024       0.173258\n",
       "6          5.0  12347       0.181664\n",
       "7          6.0  10000       0.188500\n",
       "8          7.0   9079       0.190770\n",
       "9          8.0   7424       0.185614\n",
       "10         9.0   6087       0.187120\n",
       "11        10.0  47183       0.177670"
      ]
     },
     "execution_count": 34,
     "metadata": {},
     "output_type": "execute_result"
    }
   ],
   "source": [
    "df"
   ]
  },
  {
   "cell_type": "markdown",
   "metadata": {},
   "source": [
    "## 4. Combining Categories\n",
    "### 4.1.  Combining Categories in Home Ownership\n",
    "\n",
    "Although there are 6 recorded categories within home ownership, only three had over 200 observations: OWN, MORTGAGE, and RENT. The remaining three are so infrequent we will combine them {ANY, NONE, OTHER} with RENT to form an enlarged OTHER category. This new `home_ownership_3cat` variable will have values in {MORTGAGE, OTHER, OWN}."
   ]
  },
  {
   "cell_type": "code",
   "execution_count": 35,
   "metadata": {},
   "outputs": [
    {
     "data": {
      "text/html": [
       "<div>\n",
       "<style scoped>\n",
       "    .dataframe tbody tr th:only-of-type {\n",
       "        vertical-align: middle;\n",
       "    }\n",
       "\n",
       "    .dataframe tbody tr th {\n",
       "        vertical-align: top;\n",
       "    }\n",
       "\n",
       "    .dataframe thead th {\n",
       "        text-align: right;\n",
       "    }\n",
       "</style>\n",
       "<table border=\"1\" class=\"dataframe\">\n",
       "  <thead>\n",
       "    <tr style=\"text-align: right;\">\n",
       "      <th></th>\n",
       "      <th>home_ownership</th>\n",
       "      <th>nrow</th>\n",
       "      <th>mean_bad_loan</th>\n",
       "    </tr>\n",
       "  </thead>\n",
       "  <tbody>\n",
       "    <tr>\n",
       "      <th>0</th>\n",
       "      <td>ANY</td>\n",
       "      <td>1</td>\n",
       "      <td>0.000000</td>\n",
       "    </tr>\n",
       "    <tr>\n",
       "      <th>1</th>\n",
       "      <td>MORTGAGE</td>\n",
       "      <td>79714</td>\n",
       "      <td>0.164137</td>\n",
       "    </tr>\n",
       "    <tr>\n",
       "      <th>2</th>\n",
       "      <td>NONE</td>\n",
       "      <td>30</td>\n",
       "      <td>0.233333</td>\n",
       "    </tr>\n",
       "    <tr>\n",
       "      <th>3</th>\n",
       "      <td>OTHER</td>\n",
       "      <td>156</td>\n",
       "      <td>0.224359</td>\n",
       "    </tr>\n",
       "    <tr>\n",
       "      <th>4</th>\n",
       "      <td>OWN</td>\n",
       "      <td>13560</td>\n",
       "      <td>0.188348</td>\n",
       "    </tr>\n",
       "    <tr>\n",
       "      <th>5</th>\n",
       "      <td>RENT</td>\n",
       "      <td>70526</td>\n",
       "      <td>0.203273</td>\n",
       "    </tr>\n",
       "  </tbody>\n",
       "</table>\n",
       "</div>"
      ],
      "text/plain": [
       "  home_ownership   nrow  mean_bad_loan\n",
       "0            ANY      1       0.000000\n",
       "1       MORTGAGE  79714       0.164137\n",
       "2           NONE     30       0.233333\n",
       "3          OTHER    156       0.224359\n",
       "4            OWN  13560       0.188348\n",
       "5           RENT  70526       0.203273"
      ]
     },
     "execution_count": 35,
     "metadata": {},
     "output_type": "execute_result"
    }
   ],
   "source": [
    "mean_target(train, \"home_ownership\")"
   ]
  },
  {
   "cell_type": "code",
   "execution_count": 36,
   "metadata": {},
   "outputs": [],
   "source": [
    "lvls = [\"OTHER\", \"MORTGAGE\", \"OTHER\", \"OTHER\", \"OWN\", \"OTHER\"]\n",
    "train[\"home_ownership_3cat\"] = train[\"home_ownership\"].set_levels(lvls).ascharacter().asfactor()"
   ]
  },
  {
   "cell_type": "code",
   "execution_count": 37,
   "metadata": {},
   "outputs": [
    {
     "data": {
      "text/html": [
       "<table>\n",
       "<thead>\n",
       "<tr><th>home_ownership  </th><th>home_ownership_3cat  </th><th style=\"text-align: right;\">  Counts</th></tr>\n",
       "</thead>\n",
       "<tbody>\n",
       "<tr><td>ANY             </td><td>OTHER                </td><td style=\"text-align: right;\">       1</td></tr>\n",
       "<tr><td>MORTGAGE        </td><td>MORTGAGE             </td><td style=\"text-align: right;\">   79714</td></tr>\n",
       "<tr><td>NONE            </td><td>OTHER                </td><td style=\"text-align: right;\">      30</td></tr>\n",
       "<tr><td>OTHER           </td><td>OTHER                </td><td style=\"text-align: right;\">     156</td></tr>\n",
       "<tr><td>OWN             </td><td>OWN                  </td><td style=\"text-align: right;\">   13560</td></tr>\n",
       "<tr><td>RENT            </td><td>OTHER                </td><td style=\"text-align: right;\">   70526</td></tr>\n",
       "</tbody>\n",
       "</table>"
      ]
     },
     "metadata": {},
     "output_type": "display_data"
    },
    {
     "data": {
      "text/plain": []
     },
     "execution_count": 37,
     "metadata": {},
     "output_type": "execute_result"
    }
   ],
   "source": [
    "train[[\"home_ownership\", \"home_ownership_3cat\"]].table()"
   ]
  },
  {
   "cell_type": "code",
   "execution_count": 38,
   "metadata": {},
   "outputs": [
    {
     "data": {
      "text/html": [
       "<div>\n",
       "<style scoped>\n",
       "    .dataframe tbody tr th:only-of-type {\n",
       "        vertical-align: middle;\n",
       "    }\n",
       "\n",
       "    .dataframe tbody tr th {\n",
       "        vertical-align: top;\n",
       "    }\n",
       "\n",
       "    .dataframe thead th {\n",
       "        text-align: right;\n",
       "    }\n",
       "</style>\n",
       "<table border=\"1\" class=\"dataframe\">\n",
       "  <thead>\n",
       "    <tr style=\"text-align: right;\">\n",
       "      <th></th>\n",
       "      <th>home_ownership_3cat</th>\n",
       "      <th>nrow</th>\n",
       "      <th>mean_bad_loan</th>\n",
       "    </tr>\n",
       "  </thead>\n",
       "  <tbody>\n",
       "    <tr>\n",
       "      <th>0</th>\n",
       "      <td>MORTGAGE</td>\n",
       "      <td>79714</td>\n",
       "      <td>0.164137</td>\n",
       "    </tr>\n",
       "    <tr>\n",
       "      <th>1</th>\n",
       "      <td>OTHER</td>\n",
       "      <td>70713</td>\n",
       "      <td>0.203329</td>\n",
       "    </tr>\n",
       "    <tr>\n",
       "      <th>2</th>\n",
       "      <td>OWN</td>\n",
       "      <td>13560</td>\n",
       "      <td>0.188348</td>\n",
       "    </tr>\n",
       "  </tbody>\n",
       "</table>\n",
       "</div>"
      ],
      "text/plain": [
       "  home_ownership_3cat   nrow  mean_bad_loan\n",
       "0            MORTGAGE  79714       0.164137\n",
       "1               OTHER  70713       0.203329\n",
       "2                 OWN  13560       0.188348"
      ]
     },
     "execution_count": 38,
     "metadata": {},
     "output_type": "execute_result"
    }
   ],
   "source": [
    "mean_target(train, \"home_ownership_3cat\")"
   ]
  },
  {
   "cell_type": "code",
   "execution_count": 39,
   "metadata": {},
   "outputs": [],
   "source": [
    "x_trans.remove(\"home_ownership\")\n",
    "x_trans.append(\"home_ownership_3cat\")"
   ]
  },
  {
   "cell_type": "markdown",
   "metadata": {},
   "source": [
    "## Train Models Using Transformed Data"
   ]
  },
  {
   "cell_type": "code",
   "execution_count": 94,
   "metadata": {},
   "outputs": [
    {
     "data": {
      "text/html": [
       "<table>\n",
       "<thead>\n",
       "<tr><th>model_id                                           </th><th style=\"text-align: right;\">     auc</th><th style=\"text-align: right;\">  logloss</th><th style=\"text-align: right;\">  mean_per_class_error</th><th style=\"text-align: right;\">    rmse</th><th style=\"text-align: right;\">     mse</th></tr>\n",
       "</thead>\n",
       "<tbody>\n",
       "<tr><td>StackedEnsemble_AllModels_AutoML_20190808_225528   </td><td style=\"text-align: right;\">0.685467</td><td style=\"text-align: right;\"> 0.44476 </td><td style=\"text-align: right;\">              0.365936</td><td style=\"text-align: right;\">0.373917</td><td style=\"text-align: right;\">0.139814</td></tr>\n",
       "<tr><td>StackedEnsemble_BestOfFamily_AutoML_20190808_225528</td><td style=\"text-align: right;\">0.685411</td><td style=\"text-align: right;\"> 0.444813</td><td style=\"text-align: right;\">              0.365647</td><td style=\"text-align: right;\">0.373942</td><td style=\"text-align: right;\">0.139833</td></tr>\n",
       "<tr><td>GBM_1_AutoML_20190808_225528                       </td><td style=\"text-align: right;\">0.682965</td><td style=\"text-align: right;\"> 0.443931</td><td style=\"text-align: right;\">              0.368204</td><td style=\"text-align: right;\">0.373709</td><td style=\"text-align: right;\">0.139659</td></tr>\n",
       "<tr><td>XGBoost_1_AutoML_20190808_225528                   </td><td style=\"text-align: right;\">0.681806</td><td style=\"text-align: right;\"> 0.444222</td><td style=\"text-align: right;\">              0.367795</td><td style=\"text-align: right;\">0.373883</td><td style=\"text-align: right;\">0.139789</td></tr>\n",
       "<tr><td>XGBoost_3_AutoML_20190808_225528                   </td><td style=\"text-align: right;\">0.678912</td><td style=\"text-align: right;\"> 0.446005</td><td style=\"text-align: right;\">              0.370638</td><td style=\"text-align: right;\">0.374385</td><td style=\"text-align: right;\">0.140164</td></tr>\n",
       "<tr><td>XGBoost_2_AutoML_20190808_225528                   </td><td style=\"text-align: right;\">0.67563 </td><td style=\"text-align: right;\"> 0.446593</td><td style=\"text-align: right;\">              0.373523</td><td style=\"text-align: right;\">0.374935</td><td style=\"text-align: right;\">0.140576</td></tr>\n",
       "<tr><td>GLM_grid_1_AutoML_20190808_225528_model_1          </td><td style=\"text-align: right;\">0.674163</td><td style=\"text-align: right;\"> 0.447619</td><td style=\"text-align: right;\">              0.373453</td><td style=\"text-align: right;\">0.374973</td><td style=\"text-align: right;\">0.140605</td></tr>\n",
       "<tr><td>DRF_1_AutoML_20190808_225528                       </td><td style=\"text-align: right;\">0.662111</td><td style=\"text-align: right;\"> 0.452901</td><td style=\"text-align: right;\">              0.382917</td><td style=\"text-align: right;\">0.377223</td><td style=\"text-align: right;\">0.142298</td></tr>\n",
       "</tbody>\n",
       "</table>"
      ]
     },
     "metadata": {},
     "output_type": "display_data"
    },
    {
     "name": "stdout",
     "output_type": "stream",
     "text": [
      "\n"
     ]
    }
   ],
   "source": [
    "print(aml.leaderboard)"
   ]
  },
  {
   "cell_type": "code",
   "execution_count": 95,
   "metadata": {},
   "outputs": [
    {
     "name": "stdout",
     "output_type": "stream",
     "text": [
      "['emp_length', 'dti', 'loan_amnt_core', 'loan_amnt_delta', 'term_60months', 'emp_length_missing', 'home_ownership_3cat', 'annual_inc_core', 'annual_inc_delta', 'te_purpose', 'te_addr_state', 'delinq_2yrs_core', 'delinq_2yrs_delta', 'revol_util_0', 'revol_util_core', 'revol_util_delta', 'total_acc_core', 'total_acc_delta', 'longest_credit_length_core', 'longest_credit_length_delta', 'verified']\n"
     ]
    }
   ],
   "source": [
    "print(x_trans)"
   ]
  },
  {
   "cell_type": "code",
   "execution_count": 96,
   "metadata": {},
   "outputs": [
    {
     "name": "stdout",
     "output_type": "stream",
     "text": [
      "AutoML progress: |████████████████████████████████████████████████████████| 100%\n"
     ]
    }
   ],
   "source": [
    "aml_trans = H2OAutoML(max_models = 6, exclude_algos = ['DeepLearning'])\n",
    "aml_trans.train(x = x_trans, y = y, training_frame = train)"
   ]
  },
  {
   "cell_type": "code",
   "execution_count": 97,
   "metadata": {},
   "outputs": [
    {
     "data": {
      "text/html": [
       "<table>\n",
       "<thead>\n",
       "<tr><th>model_id                                           </th><th style=\"text-align: right;\">     auc</th><th style=\"text-align: right;\">  logloss</th><th style=\"text-align: right;\">  mean_per_class_error</th><th style=\"text-align: right;\">    rmse</th><th style=\"text-align: right;\">     mse</th></tr>\n",
       "</thead>\n",
       "<tbody>\n",
       "<tr><td>StackedEnsemble_AllModels_AutoML_20190808_231850   </td><td style=\"text-align: right;\">0.684324</td><td style=\"text-align: right;\"> 0.445088</td><td style=\"text-align: right;\">              0.367538</td><td style=\"text-align: right;\">0.374065</td><td style=\"text-align: right;\">0.139924</td></tr>\n",
       "<tr><td>StackedEnsemble_BestOfFamily_AutoML_20190808_231850</td><td style=\"text-align: right;\">0.683558</td><td style=\"text-align: right;\"> 0.445267</td><td style=\"text-align: right;\">              0.366618</td><td style=\"text-align: right;\">0.374121</td><td style=\"text-align: right;\">0.139966</td></tr>\n",
       "<tr><td>GBM_1_AutoML_20190808_231850                       </td><td style=\"text-align: right;\">0.683094</td><td style=\"text-align: right;\"> 0.44387 </td><td style=\"text-align: right;\">              0.367727</td><td style=\"text-align: right;\">0.373689</td><td style=\"text-align: right;\">0.139643</td></tr>\n",
       "<tr><td>XGBoost_3_AutoML_20190808_231850                   </td><td style=\"text-align: right;\">0.681633</td><td style=\"text-align: right;\"> 0.445192</td><td style=\"text-align: right;\">              0.368241</td><td style=\"text-align: right;\">0.374037</td><td style=\"text-align: right;\">0.139903</td></tr>\n",
       "<tr><td>XGBoost_1_AutoML_20190808_231850                   </td><td style=\"text-align: right;\">0.680815</td><td style=\"text-align: right;\"> 0.444765</td><td style=\"text-align: right;\">              0.368709</td><td style=\"text-align: right;\">0.374216</td><td style=\"text-align: right;\">0.140037</td></tr>\n",
       "<tr><td>GLM_grid_1_AutoML_20190808_231850_model_1          </td><td style=\"text-align: right;\">0.677065</td><td style=\"text-align: right;\"> 0.445743</td><td style=\"text-align: right;\">              0.372784</td><td style=\"text-align: right;\">0.374449</td><td style=\"text-align: right;\">0.140212</td></tr>\n",
       "<tr><td>XGBoost_2_AutoML_20190808_231850                   </td><td style=\"text-align: right;\">0.675872</td><td style=\"text-align: right;\"> 0.446644</td><td style=\"text-align: right;\">              0.372443</td><td style=\"text-align: right;\">0.374995</td><td style=\"text-align: right;\">0.140621</td></tr>\n",
       "<tr><td>DRF_1_AutoML_20190808_231850                       </td><td style=\"text-align: right;\">0.663243</td><td style=\"text-align: right;\"> 0.452088</td><td style=\"text-align: right;\">              0.38258 </td><td style=\"text-align: right;\">0.377242</td><td style=\"text-align: right;\">0.142312</td></tr>\n",
       "</tbody>\n",
       "</table>"
      ]
     },
     "metadata": {},
     "output_type": "display_data"
    },
    {
     "name": "stdout",
     "output_type": "stream",
     "text": [
      "\n"
     ]
    }
   ],
   "source": [
    "print(aml_trans.leaderboard)"
   ]
  },
  {
   "cell_type": "code",
   "execution_count": 98,
   "metadata": {},
   "outputs": [],
   "source": [
    "best_model_trans = h2o.get_model(aml_trans.leaderboard[2,'model_id'])"
   ]
  },
  {
   "cell_type": "code",
   "execution_count": 99,
   "metadata": {},
   "outputs": [
    {
     "data": {
      "image/png": "[encoded data removed]",
      "text/plain": [
       "<Figure size 1008x720 with 1 Axes>"
      ]
     },
     "metadata": {
      "needs_background": "light"
     },
     "output_type": "display_data"
    }
   ],
   "source": [
    "best_model_trans.varimp_plot()"
   ]
  },
  {
   "cell_type": "code",
   "execution_count": 100,
   "metadata": {},
   "outputs": [
    {
     "ename": "TypeError",
     "evalue": "unsupported format string passed to NoneType.__format__",
     "output_type": "error",
     "traceback": [
      "\u001b[0;31m---------------------------------------------------------------------------\u001b[0m",
      "\u001b[0;31mTypeError\u001b[0m                                 Traceback (most recent call last)",
      "\u001b[0;32m<ipython-input-100-9fc05780c7c4>\u001b[0m in \u001b[0;36m<module>\u001b[0;34m\u001b[0m\n\u001b[1;32m      2\u001b[0m       .format(best_model.auc(train = True),\n\u001b[1;32m      3\u001b[0m               \u001b[0mbest_model\u001b[0m\u001b[0;34m.\u001b[0m\u001b[0mauc\u001b[0m\u001b[0;34m(\u001b[0m\u001b[0mvalid\u001b[0m \u001b[0;34m=\u001b[0m \u001b[0;32mTrue\u001b[0m\u001b[0;34m)\u001b[0m\u001b[0;34m,\u001b[0m\u001b[0;34m\u001b[0m\u001b[0;34m\u001b[0m\u001b[0m\n\u001b[0;32m----> 4\u001b[0;31m               best_model.auc(xval = True)))\n\u001b[0m",
      "\u001b[0;31mTypeError\u001b[0m: unsupported format string passed to NoneType.__format__"
     ]
    }
   ],
   "source": [
    "print(\"AUC (orig): train = {:.4f}, valid = {:.4f}, xval = {:.4f}\" \\\n",
    "      .format(best_model.auc(train = True),\n",
    "              best_model.auc(valid = True),\n",
    "              best_model.auc(xval = True)))"
   ]
  },
  {
   "cell_type": "code",
   "execution_count": 101,
   "metadata": {},
   "outputs": [
    {
     "ename": "TypeError",
     "evalue": "unsupported format string passed to NoneType.__format__",
     "output_type": "error",
     "traceback": [
      "\u001b[0;31m---------------------------------------------------------------------------\u001b[0m",
      "\u001b[0;31mTypeError\u001b[0m                                 Traceback (most recent call last)",
      "\u001b[0;32m<ipython-input-101-6a1335aa61b9>\u001b[0m in \u001b[0;36m<module>\u001b[0;34m\u001b[0m\n\u001b[1;32m      2\u001b[0m       .format(best_model_trans.auc(train = True),\n\u001b[1;32m      3\u001b[0m               \u001b[0mbest_model_trans\u001b[0m\u001b[0;34m.\u001b[0m\u001b[0mauc\u001b[0m\u001b[0;34m(\u001b[0m\u001b[0mvalid\u001b[0m \u001b[0;34m=\u001b[0m \u001b[0;32mTrue\u001b[0m\u001b[0;34m)\u001b[0m\u001b[0;34m,\u001b[0m\u001b[0;34m\u001b[0m\u001b[0;34m\u001b[0m\u001b[0m\n\u001b[0;32m----> 4\u001b[0;31m               best_model_trans.auc(xval = True)))\n\u001b[0m",
      "\u001b[0;31mTypeError\u001b[0m: unsupported format string passed to NoneType.__format__"
     ]
    }
   ],
   "source": [
    "print(\"AUC (trans): train = {:.4f}, valid = {:.4f}, xval = {:.4f}\" \\\n",
    "      .format(best_model_trans.auc(train = True),\n",
    "              best_model_trans.auc(valid = True),\n",
    "              best_model_trans.auc(xval = True)))"
   ]
  },
  {
   "cell_type": "code",
   "execution_count": 102,
   "metadata": {},
   "outputs": [
    {
     "ename": "TypeError",
     "evalue": "unsupported format string passed to NoneType.__format__",
     "output_type": "error",
     "traceback": [
      "\u001b[0;31m---------------------------------------------------------------------------\u001b[0m",
      "\u001b[0;31mTypeError\u001b[0m                                 Traceback (most recent call last)",
      "\u001b[0;32m<ipython-input-102-47734644629c>\u001b[0m in \u001b[0;36m<module>\u001b[0;34m\u001b[0m\n\u001b[1;32m      2\u001b[0m       .format(best_model.logloss(train = True),\n\u001b[1;32m      3\u001b[0m               \u001b[0mbest_model\u001b[0m\u001b[0;34m.\u001b[0m\u001b[0mlogloss\u001b[0m\u001b[0;34m(\u001b[0m\u001b[0mvalid\u001b[0m \u001b[0;34m=\u001b[0m \u001b[0;32mTrue\u001b[0m\u001b[0;34m)\u001b[0m\u001b[0;34m,\u001b[0m\u001b[0;34m\u001b[0m\u001b[0;34m\u001b[0m\u001b[0m\n\u001b[0;32m----> 4\u001b[0;31m               best_model.logloss(xval = True)))\n\u001b[0m",
      "\u001b[0;31mTypeError\u001b[0m: unsupported format string passed to NoneType.__format__"
     ]
    }
   ],
   "source": [
    "print(\"Logloss (orig): train = {:.4f}, valid = {:.4f}, xval = {:.4f}\" \\\n",
    "      .format(best_model.logloss(train = True),\n",
    "              best_model.logloss(valid = True),\n",
    "              best_model.logloss(xval = True)))"
   ]
  },
  {
   "cell_type": "code",
   "execution_count": 103,
   "metadata": {},
   "outputs": [
    {
     "ename": "TypeError",
     "evalue": "unsupported format string passed to NoneType.__format__",
     "output_type": "error",
     "traceback": [
      "\u001b[0;31m---------------------------------------------------------------------------\u001b[0m",
      "\u001b[0;31mTypeError\u001b[0m                                 Traceback (most recent call last)",
      "\u001b[0;32m<ipython-input-103-83c7cd92d96b>\u001b[0m in \u001b[0;36m<module>\u001b[0;34m\u001b[0m\n\u001b[1;32m      2\u001b[0m       .format(best_model_trans.logloss(train = True),\n\u001b[1;32m      3\u001b[0m               \u001b[0mbest_model_trans\u001b[0m\u001b[0;34m.\u001b[0m\u001b[0mlogloss\u001b[0m\u001b[0;34m(\u001b[0m\u001b[0mvalid\u001b[0m \u001b[0;34m=\u001b[0m \u001b[0;32mTrue\u001b[0m\u001b[0;34m)\u001b[0m\u001b[0;34m,\u001b[0m\u001b[0;34m\u001b[0m\u001b[0;34m\u001b[0m\u001b[0m\n\u001b[0;32m----> 4\u001b[0;31m               best_model_trans.logloss(xval = True)))\n\u001b[0m",
      "\u001b[0;31mTypeError\u001b[0m: unsupported format string passed to NoneType.__format__"
     ]
    }
   ],
   "source": [
    "print(\"Logloss (trans): train = {:.4f}, valid = {:.4f}, xval = {:.4f}\" \\\n",
    "      .format(best_model_trans.logloss(train = True),\n",
    "              best_model_trans.logloss(valid = True),\n",
    "              best_model_trans.logloss(xval = True)))"
   ]
  },
  {
   "cell_type": "markdown",
   "metadata": {},
   "source": [
    "## Shutdown H2O Cluster"
   ]
  },
  {
   "cell_type": "code",
   "execution_count": null,
   "metadata": {},
   "outputs": [],
   "source": [
    "h2o.cluster().shutdown()"
   ]
  }
 ],
 "metadata": {
  "kernelspec": {
   "display_name": "Python 3",
   "language": "python",
   "name": "python3"
  },
  "language_info": {
   "codemirror_mode": {
    "name": "ipython",
    "version": 3
   },
   "file_extension": ".py",
   "mimetype": "text/x-python",
   "name": "python",
   "nbconvert_exporter": "python",
   "pygments_lexer": "ipython3",
   "version": "3.6.8"
  }
 },
 "nbformat": 4,
 "nbformat_minor": 2
}
