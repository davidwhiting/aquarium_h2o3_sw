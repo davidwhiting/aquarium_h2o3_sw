{
 "cells": [
  {
   "cell_type": "markdown",
   "metadata": {},
   "source": [
    "# Lending Club Analysis Using AutoML\n",
    "\n",
    "In this tutorial, we will go through a step-by-step workflow to build models using AML to determine loan deliquency. We will make predictions based only on the information available at the time the loan was issued.  The data for this exercise come from the public Lending Club data set, a description can be found [here](https://www.kaggle.com/pragyanbo/a-hitchhiker-s-guide-to-lending-club-loan-data/notebook).\n",
    "\n",
    "We will highlight data cleaning and feature engineering that will improve model performance."
   ]
  },
  {
   "cell_type": "markdown",
   "metadata": {},
   "source": [
    "## Workflow\n",
    "\n",
    "1. Start H2O-3 cluster\n",
    "2. Import data\n",
    "3. Train default models using H2O's AutoML\n",
    "4. Feature engineering to improve model performance\n",
    "5. Train models using transformed data with AutoML\n",
    "6. Stop H2O-3 cluster"
   ]
  },
  {
   "cell_type": "markdown",
   "metadata": {},
   "source": [
    "# Step 1 (of 6). Start H2O Cluster"
   ]
  },
  {
   "cell_type": "code",
   "execution_count": 2,
   "metadata": {},
   "outputs": [
    {
     "name": "stdout",
     "output_type": "stream",
     "text": [
      "Checking whether there is an H2O instance running at http://localhost:54321 . connected.\n"
     ]
    },
    {
     "data": {
      "text/html": [
       "<div style=\"overflow:auto\"><table style=\"width:50%\"><tr><td>H2O cluster uptime:</td>\n",
       "<td>15 hours 43 mins</td></tr>\n",
       "<tr><td>H2O cluster timezone:</td>\n",
       "<td>America/Denver</td></tr>\n",
       "<tr><td>H2O data parsing timezone:</td>\n",
       "<td>UTC</td></tr>\n",
       "<tr><td>H2O cluster version:</td>\n",
       "<td>3.24.0.5</td></tr>\n",
       "<tr><td>H2O cluster version age:</td>\n",
       "<td>1 month and 20 days </td></tr>\n",
       "<tr><td>H2O cluster name:</td>\n",
       "<td>H2O_from_python_dwhiting_8e4dyf</td></tr>\n",
       "<tr><td>H2O cluster total nodes:</td>\n",
       "<td>1</td></tr>\n",
       "<tr><td>H2O cluster free memory:</td>\n",
       "<td>3.936 Gb</td></tr>\n",
       "<tr><td>H2O cluster total cores:</td>\n",
       "<td>8</td></tr>\n",
       "<tr><td>H2O cluster allowed cores:</td>\n",
       "<td>8</td></tr>\n",
       "<tr><td>H2O cluster status:</td>\n",
       "<td>locked, healthy</td></tr>\n",
       "<tr><td>H2O connection url:</td>\n",
       "<td>http://localhost:54321</td></tr>\n",
       "<tr><td>H2O connection proxy:</td>\n",
       "<td>None</td></tr>\n",
       "<tr><td>H2O internal security:</td>\n",
       "<td>False</td></tr>\n",
       "<tr><td>H2O API Extensions:</td>\n",
       "<td>Amazon S3, XGBoost, Algos, AutoML, Core V3, Core V4</td></tr>\n",
       "<tr><td>Python version:</td>\n",
       "<td>3.6.8 final</td></tr></table></div>"
      ],
      "text/plain": [
       "--------------------------  ---------------------------------------------------\n",
       "H2O cluster uptime:         15 hours 43 mins\n",
       "H2O cluster timezone:       America/Denver\n",
       "H2O data parsing timezone:  UTC\n",
       "H2O cluster version:        3.24.0.5\n",
       "H2O cluster version age:    1 month and 20 days\n",
       "H2O cluster name:           H2O_from_python_dwhiting_8e4dyf\n",
       "H2O cluster total nodes:    1\n",
       "H2O cluster free memory:    3.936 Gb\n",
       "H2O cluster total cores:    8\n",
       "H2O cluster allowed cores:  8\n",
       "H2O cluster status:         locked, healthy\n",
       "H2O connection url:         http://localhost:54321\n",
       "H2O connection proxy:\n",
       "H2O internal security:      False\n",
       "H2O API Extensions:         Amazon S3, XGBoost, Algos, AutoML, Core V3, Core V4\n",
       "Python version:             3.6.8 final\n",
       "--------------------------  ---------------------------------------------------"
      ]
     },
     "metadata": {},
     "output_type": "display_data"
    }
   ],
   "source": [
    "import h2o\n",
    "h2o.init(max_mem_size = \"6g\")"
   ]
  },
  {
   "cell_type": "markdown",
   "metadata": {},
   "source": [
    "# Step 2 (of 6). Import Data\n",
    "\n",
    "This exploration of H2O will use a version of the Lending Club Loan Data that can be found on [Kaggle](https://www.kaggle.com/wendykan/lending-club-loan-data). This data consists of 15 variables:\n",
    "\n",
    "|  Id   | Column Name | Description |\n",
    "| --- | ----------- | ----------- |\n",
    "|   1 | loan_amnt   | Requested loan amount (US dollars) |\n",
    "|   2 | term        | Loan term length (months) |\n",
    "|   3 | int_rate    | Recommended interest rate |\n",
    "|   4 | emp_length  | Employment length (years) |\n",
    "|   5 | home_ownership| Housing status |\n",
    "|   6 | annual_inc  | Annual income (US dollars) |\n",
    "|   7 | purpose     | Purpose for the loan |\n",
    "|   8 | addr_state  | State of residence |\n",
    "|   9 | dti         | Debt to income ratio |\n",
    "|  10 | delinq_2yrs | Number of delinquencies in the past 2 years |\n",
    "|  11 | revol_util  | Percent of revolving credit line utilized |\n",
    "|  12 | total_acc   | Number of active accounts |\n",
    "|  13 | bad_loan    | Bad loan indicator |\n",
    "|  14 | longest_credit_length | Age of oldest active account |\n",
    "|  15 | verification_status | Income verification status |"
   ]
  },
  {
   "cell_type": "code",
   "execution_count": 137,
   "metadata": {},
   "outputs": [
    {
     "name": "stdout",
     "output_type": "stream",
     "text": [
      "Parse progress: |█████████████████████████████████████████████████████████| 100%\n"
     ]
    }
   ],
   "source": [
    "# https://s3-us-west-2.amazonaws.com/h2o-tutorials/data/topics/data/automl/loan.csv\n",
    "loans = h2o.import_file(\"../../data/automl/loan.csv\")\n",
    "loans[\"bad_loan\"] = loans[\"bad_loan\"].asfactor()"
   ]
  },
  {
   "cell_type": "code",
   "execution_count": 138,
   "metadata": {},
   "outputs": [
    {
     "name": "stdout",
     "output_type": "stream",
     "text": [
      "Rows:163987\n",
      "Cols:15\n",
      "\n",
      "\n"
     ]
    },
    {
     "data": {
      "text/html": [
       "<table>\n",
       "<thead>\n",
       "<tr><th>       </th><th>loan_amnt         </th><th>term     </th><th>int_rate          </th><th>emp_length        </th><th>home_ownership  </th><th>annual_inc        </th><th>purpose           </th><th>addr_state  </th><th>dti               </th><th>delinq_2yrs       </th><th>revol_util        </th><th>total_acc         </th><th>bad_loan  </th><th>longest_credit_length  </th><th>verification_status  </th></tr>\n",
       "</thead>\n",
       "<tbody>\n",
       "<tr><td>type   </td><td>int               </td><td>enum     </td><td>real              </td><td>int               </td><td>enum            </td><td>real              </td><td>enum              </td><td>enum        </td><td>real              </td><td>int               </td><td>real              </td><td>int               </td><td>enum      </td><td>int                    </td><td>enum                 </td></tr>\n",
       "<tr><td>mins   </td><td>500.0             </td><td>         </td><td>5.42              </td><td>0.0               </td><td>                </td><td>1896.0            </td><td>                  </td><td>            </td><td>0.0               </td><td>0.0               </td><td>0.0               </td><td>1.0               </td><td>          </td><td>0.0                    </td><td>                     </td></tr>\n",
       "<tr><td>mean   </td><td>13074.169141456336</td><td>         </td><td>13.715904065566173</td><td>5.68435293299533  </td><td>                </td><td>71915.67051974901 </td><td>                  </td><td>            </td><td>15.881530121290117</td><td>0.2273570060625282</td><td>54.07917280242258 </td><td>24.579733834274638</td><td>          </td><td>14.854273655448353     </td><td>                     </td></tr>\n",
       "<tr><td>maxs   </td><td>35000.0           </td><td>         </td><td>26.06             </td><td>10.0              </td><td>                </td><td>7141778.0         </td><td>                  </td><td>            </td><td>39.99             </td><td>29.0              </td><td>150.70000000000002</td><td>118.0             </td><td>          </td><td>65.0                   </td><td>                     </td></tr>\n",
       "<tr><td>sigma  </td><td>7993.556188734649 </td><td>         </td><td>4.391939870545795 </td><td>3.6106637311002365</td><td>                </td><td>59070.915654918244</td><td>                  </td><td>            </td><td>7.587668224192549 </td><td>0.6941679229284182</td><td>25.285366766770505</td><td>11.685190365910659</td><td>          </td><td>6.947732922546696      </td><td>                     </td></tr>\n",
       "<tr><td>zeros  </td><td>0                 </td><td>         </td><td>0                 </td><td>14248             </td><td>                </td><td>0                 </td><td>                  </td><td>            </td><td>270               </td><td>139459            </td><td>1562              </td><td>0                 </td><td>          </td><td>11                     </td><td>                     </td></tr>\n",
       "<tr><td>missing</td><td>0                 </td><td>0        </td><td>0                 </td><td>5804              </td><td>0               </td><td>4                 </td><td>0                 </td><td>0           </td><td>0                 </td><td>29                </td><td>193               </td><td>29                </td><td>0         </td><td>29                     </td><td>0                    </td></tr>\n",
       "<tr><td>0      </td><td>5000.0            </td><td>36 months</td><td>10.65             </td><td>10.0              </td><td>RENT            </td><td>24000.0           </td><td>credit_card       </td><td>AZ          </td><td>27.65             </td><td>0.0               </td><td>83.7              </td><td>9.0               </td><td>0         </td><td>26.0                   </td><td>verified             </td></tr>\n",
       "<tr><td>1      </td><td>2500.0            </td><td>60 months</td><td>15.27             </td><td>0.0               </td><td>RENT            </td><td>30000.0           </td><td>car               </td><td>GA          </td><td>1.0               </td><td>0.0               </td><td>9.4               </td><td>4.0               </td><td>1         </td><td>12.0                   </td><td>verified             </td></tr>\n",
       "<tr><td>2      </td><td>2400.0            </td><td>36 months</td><td>15.96             </td><td>10.0              </td><td>RENT            </td><td>12252.0           </td><td>small_business    </td><td>IL          </td><td>8.72              </td><td>0.0               </td><td>98.5              </td><td>10.0              </td><td>0         </td><td>10.0                   </td><td>not verified         </td></tr>\n",
       "<tr><td>3      </td><td>10000.0           </td><td>36 months</td><td>13.49             </td><td>10.0              </td><td>RENT            </td><td>49200.0           </td><td>other             </td><td>CA          </td><td>20.0              </td><td>0.0               </td><td>21.0              </td><td>37.0              </td><td>0         </td><td>15.0                   </td><td>verified             </td></tr>\n",
       "<tr><td>4      </td><td>5000.0            </td><td>36 months</td><td>7.9               </td><td>3.0               </td><td>RENT            </td><td>36000.0           </td><td>wedding           </td><td>AZ          </td><td>11.2              </td><td>0.0               </td><td>28.3              </td><td>12.0              </td><td>0         </td><td>7.0                    </td><td>verified             </td></tr>\n",
       "<tr><td>5      </td><td>3000.0            </td><td>36 months</td><td>18.64             </td><td>9.0               </td><td>RENT            </td><td>48000.0           </td><td>car               </td><td>CA          </td><td>5.3500000000000005</td><td>0.0               </td><td>87.5              </td><td>4.0               </td><td>0         </td><td>4.0                    </td><td>verified             </td></tr>\n",
       "<tr><td>6      </td><td>5600.0            </td><td>60 months</td><td>21.28             </td><td>4.0               </td><td>OWN             </td><td>40000.0           </td><td>small_business    </td><td>CA          </td><td>5.55              </td><td>0.0               </td><td>32.6              </td><td>13.0              </td><td>1         </td><td>7.0                    </td><td>verified             </td></tr>\n",
       "<tr><td>7      </td><td>5375.0            </td><td>60 months</td><td>12.69             </td><td>0.0               </td><td>RENT            </td><td>15000.0           </td><td>other             </td><td>TX          </td><td>18.08             </td><td>0.0               </td><td>36.5              </td><td>3.0               </td><td>1         </td><td>7.0                    </td><td>verified             </td></tr>\n",
       "<tr><td>8      </td><td>6500.0            </td><td>60 months</td><td>14.65             </td><td>5.0               </td><td>OWN             </td><td>72000.0           </td><td>debt_consolidation</td><td>AZ          </td><td>16.12             </td><td>0.0               </td><td>20.6              </td><td>23.0              </td><td>0         </td><td>13.0                   </td><td>not verified         </td></tr>\n",
       "<tr><td>9      </td><td>12000.0           </td><td>36 months</td><td>12.69             </td><td>10.0              </td><td>OWN             </td><td>75000.0           </td><td>debt_consolidation</td><td>CA          </td><td>10.78             </td><td>0.0               </td><td>67.10000000000001 </td><td>34.0              </td><td>0         </td><td>22.0                   </td><td>verified             </td></tr>\n",
       "</tbody>\n",
       "</table>"
      ]
     },
     "metadata": {},
     "output_type": "display_data"
    }
   ],
   "source": [
    "loans.describe()"
   ]
  },
  {
   "cell_type": "markdown",
   "metadata": {},
   "source": [
    "# Step 3 (of 6). Train Default Models with AutoML"
   ]
  },
  {
   "cell_type": "markdown",
   "metadata": {},
   "source": [
    "Start by splitting the data into train and test sets"
   ]
  },
  {
   "cell_type": "code",
   "execution_count": 139,
   "metadata": {},
   "outputs": [],
   "source": [
    "train, test = loans.split_frame(seed=1234, ratios=[0.75])"
   ]
  },
  {
   "cell_type": "markdown",
   "metadata": {},
   "source": [
    "and train 6 models using all but the `DeepLearning` algorithms"
   ]
  },
  {
   "cell_type": "code",
   "execution_count": 140,
   "metadata": {},
   "outputs": [
    {
     "name": "stdout",
     "output_type": "stream",
     "text": [
      "AutoML progress: |████████████████████████████████████████████████████████| 100%\n"
     ]
    }
   ],
   "source": [
    "# Set target and predictor variables\n",
    "y = \"bad_loan\"\n",
    "x = train.col_names\n",
    "x.remove(y)\n",
    "x.remove(\"int_rate\")\n",
    "\n",
    "# Use Auto ML to train models\n",
    "from h2o.automl import H2OAutoML\n",
    "aml = H2OAutoML(max_models = 6, exclude_algos = ['DeepLearning'])\n",
    "aml.train(x = x, y = y, training_frame = train)"
   ]
  },
  {
   "cell_type": "markdown",
   "metadata": {},
   "source": [
    "Print out a leaderboard with the 6 best models and two ensembles: a stacked ensemble of all models, and a best-of-family stacked ensemble:"
   ]
  },
  {
   "cell_type": "code",
   "execution_count": 141,
   "metadata": {},
   "outputs": [
    {
     "data": {
      "text/html": [
       "<table>\n",
       "<thead>\n",
       "<tr><th>model_id                                           </th><th style=\"text-align: right;\">     auc</th><th style=\"text-align: right;\">  logloss</th><th style=\"text-align: right;\">  mean_per_class_error</th><th style=\"text-align: right;\">    rmse</th><th style=\"text-align: right;\">     mse</th></tr>\n",
       "</thead>\n",
       "<tbody>\n",
       "<tr><td>StackedEnsemble_AllModels_AutoML_20190809_162540   </td><td style=\"text-align: right;\">0.683294</td><td style=\"text-align: right;\"> 0.445457</td><td style=\"text-align: right;\">              0.367797</td><td style=\"text-align: right;\">0.37423 </td><td style=\"text-align: right;\">0.140048</td></tr>\n",
       "<tr><td>StackedEnsemble_BestOfFamily_AutoML_20190809_162540</td><td style=\"text-align: right;\">0.683033</td><td style=\"text-align: right;\"> 0.44562 </td><td style=\"text-align: right;\">              0.368354</td><td style=\"text-align: right;\">0.374313</td><td style=\"text-align: right;\">0.14011 </td></tr>\n",
       "<tr><td>GBM_1_AutoML_20190809_162540                       </td><td style=\"text-align: right;\">0.6795  </td><td style=\"text-align: right;\"> 0.445064</td><td style=\"text-align: right;\">              0.371925</td><td style=\"text-align: right;\">0.374226</td><td style=\"text-align: right;\">0.140045</td></tr>\n",
       "<tr><td>XGBoost_1_AutoML_20190809_162540                   </td><td style=\"text-align: right;\">0.678888</td><td style=\"text-align: right;\"> 0.445369</td><td style=\"text-align: right;\">              0.369363</td><td style=\"text-align: right;\">0.374436</td><td style=\"text-align: right;\">0.140202</td></tr>\n",
       "<tr><td>XGBoost_3_AutoML_20190809_162540                   </td><td style=\"text-align: right;\">0.678097</td><td style=\"text-align: right;\"> 0.446038</td><td style=\"text-align: right;\">              0.372483</td><td style=\"text-align: right;\">0.374376</td><td style=\"text-align: right;\">0.140157</td></tr>\n",
       "<tr><td>XGBoost_2_AutoML_20190809_162540                   </td><td style=\"text-align: right;\">0.674272</td><td style=\"text-align: right;\"> 0.447163</td><td style=\"text-align: right;\">              0.373644</td><td style=\"text-align: right;\">0.375226</td><td style=\"text-align: right;\">0.140795</td></tr>\n",
       "<tr><td>GLM_grid_1_AutoML_20190809_162540_model_1          </td><td style=\"text-align: right;\">0.673427</td><td style=\"text-align: right;\"> 0.44771 </td><td style=\"text-align: right;\">              0.373854</td><td style=\"text-align: right;\">0.374975</td><td style=\"text-align: right;\">0.140606</td></tr>\n",
       "<tr><td>DRF_1_AutoML_20190809_162540                       </td><td style=\"text-align: right;\">0.658498</td><td style=\"text-align: right;\"> 0.454956</td><td style=\"text-align: right;\">              0.385202</td><td style=\"text-align: right;\">0.377771</td><td style=\"text-align: right;\">0.142711</td></tr>\n",
       "</tbody>\n",
       "</table>"
      ]
     },
     "metadata": {},
     "output_type": "display_data"
    },
    {
     "name": "stdout",
     "output_type": "stream",
     "text": [
      "\n"
     ]
    }
   ],
   "source": [
    "print(aml.leaderboard)"
   ]
  },
  {
   "cell_type": "markdown",
   "metadata": {},
   "source": [
    "As is often the case, the stacked ensemble models are among the best in performance."
   ]
  },
  {
   "cell_type": "markdown",
   "metadata": {},
   "source": [
    "## Examine the Top Model\n",
    "\n",
    "The `aml.leader` call automatically pulls out the top model"
   ]
  },
  {
   "cell_type": "code",
   "execution_count": 142,
   "metadata": {},
   "outputs": [],
   "source": [
    "top_model = aml.leader"
   ]
  },
  {
   "cell_type": "markdown",
   "metadata": {},
   "source": [
    "Details for training and cross-validated data are contained in `aml.leader`"
   ]
  },
  {
   "cell_type": "code",
   "execution_count": 143,
   "metadata": {},
   "outputs": [
    {
     "name": "stdout",
     "output_type": "stream",
     "text": [
      "Model Details\n",
      "=============\n",
      "H2OStackedEnsembleEstimator :  Stacked Ensemble\n",
      "Model Key:  StackedEnsemble_AllModels_AutoML_20190809_162540\n",
      "No model summary for this model\n",
      "\n",
      "\n",
      "ModelMetricsBinomialGLM: stackedensemble\n",
      "** Reported on train data. **\n",
      "\n",
      "MSE: 0.12115329547964772\n",
      "RMSE: 0.3480708196325106\n",
      "LogLoss: 0.3917219754414419\n",
      "Null degrees of freedom: 123061\n",
      "Residual degrees of freedom: 123055\n",
      "Null deviance: 117105.43670854249\n",
      "Residual deviance: 96412.17948354944\n",
      "AIC: 96426.17948354944\n",
      "AUC: 0.826719683698346\n",
      "pr_auc: 0.539553937647294\n",
      "Gini: 0.6534393673966921\n",
      "Confusion Matrix (Act/Pred) for max f1 @ threshold = 0.2151940545532514: \n"
     ]
    },
    {
     "data": {
      "text/html": [
       "<div style=\"overflow:auto\"><table style=\"width:50%\"><tr><td><b></b></td>\n",
       "<td><b>0</b></td>\n",
       "<td><b>1</b></td>\n",
       "<td><b>Error</b></td>\n",
       "<td><b>Rate</b></td></tr>\n",
       "<tr><td>0</td>\n",
       "<td>83588.0</td>\n",
       "<td>16963.0</td>\n",
       "<td>0.1687</td>\n",
       "<td> (16963.0/100551.0)</td></tr>\n",
       "<tr><td>1</td>\n",
       "<td>8469.0</td>\n",
       "<td>14042.0</td>\n",
       "<td>0.3762</td>\n",
       "<td> (8469.0/22511.0)</td></tr>\n",
       "<tr><td>Total</td>\n",
       "<td>92057.0</td>\n",
       "<td>31005.0</td>\n",
       "<td>0.2067</td>\n",
       "<td> (25432.0/123062.0)</td></tr></table></div>"
      ],
      "text/plain": [
       "       0      1      Error    Rate\n",
       "-----  -----  -----  -------  ------------------\n",
       "0      83588  16963  0.1687   (16963.0/100551.0)\n",
       "1      8469   14042  0.3762   (8469.0/22511.0)\n",
       "Total  92057  31005  0.2067   (25432.0/123062.0)"
      ]
     },
     "metadata": {},
     "output_type": "display_data"
    },
    {
     "name": "stdout",
     "output_type": "stream",
     "text": [
      "Maximum Metrics: Maximum metrics at their respective thresholds\n",
      "\n"
     ]
    },
    {
     "data": {
      "text/html": [
       "<div style=\"overflow:auto\"><table style=\"width:50%\"><tr><td><b>metric</b></td>\n",
       "<td><b>threshold</b></td>\n",
       "<td><b>value</b></td>\n",
       "<td><b>idx</b></td></tr>\n",
       "<tr><td>max f1</td>\n",
       "<td>0.2151941</td>\n",
       "<td>0.5247776</td>\n",
       "<td>236.0</td></tr>\n",
       "<tr><td>max f2</td>\n",
       "<td>0.1533649</td>\n",
       "<td>0.6507052</td>\n",
       "<td>297.0</td></tr>\n",
       "<tr><td>max f0point5</td>\n",
       "<td>0.2944863</td>\n",
       "<td>0.5256523</td>\n",
       "<td>178.0</td></tr>\n",
       "<tr><td>max accuracy</td>\n",
       "<td>0.3683753</td>\n",
       "<td>0.8400562</td>\n",
       "<td>135.0</td></tr>\n",
       "<tr><td>max precision</td>\n",
       "<td>0.8788145</td>\n",
       "<td>1.0</td>\n",
       "<td>0.0</td></tr>\n",
       "<tr><td>max recall</td>\n",
       "<td>0.0845053</td>\n",
       "<td>1.0</td>\n",
       "<td>387.0</td></tr>\n",
       "<tr><td>max specificity</td>\n",
       "<td>0.8788145</td>\n",
       "<td>1.0</td>\n",
       "<td>0.0</td></tr>\n",
       "<tr><td>max absolute_mcc</td>\n",
       "<td>0.2151941</td>\n",
       "<td>0.4052634</td>\n",
       "<td>236.0</td></tr>\n",
       "<tr><td>max min_per_class_accuracy</td>\n",
       "<td>0.1834574</td>\n",
       "<td>0.7425703</td>\n",
       "<td>267.0</td></tr>\n",
       "<tr><td>max mean_per_class_accuracy</td>\n",
       "<td>0.1745969</td>\n",
       "<td>0.7441265</td>\n",
       "<td>275.0</td></tr></table></div>"
      ],
      "text/plain": [
       "metric                       threshold    value     idx\n",
       "---------------------------  -----------  --------  -----\n",
       "max f1                       0.215194     0.524778  236\n",
       "max f2                       0.153365     0.650705  297\n",
       "max f0point5                 0.294486     0.525652  178\n",
       "max accuracy                 0.368375     0.840056  135\n",
       "max precision                0.878815     1         0\n",
       "max recall                   0.0845053    1         387\n",
       "max specificity              0.878815     1         0\n",
       "max absolute_mcc             0.215194     0.405263  236\n",
       "max min_per_class_accuracy   0.183457     0.74257   267\n",
       "max mean_per_class_accuracy  0.174597     0.744126  275"
      ]
     },
     "metadata": {},
     "output_type": "display_data"
    },
    {
     "name": "stdout",
     "output_type": "stream",
     "text": [
      "Gains/Lift Table: Avg response rate: 18.29 %, avg score: 18.40 %\n",
      "\n"
     ]
    },
    {
     "data": {
      "text/html": [
       "<div style=\"overflow:auto\"><table style=\"width:50%\"><tr><td><b></b></td>\n",
       "<td><b>group</b></td>\n",
       "<td><b>cumulative_data_fraction</b></td>\n",
       "<td><b>lower_threshold</b></td>\n",
       "<td><b>lift</b></td>\n",
       "<td><b>cumulative_lift</b></td>\n",
       "<td><b>response_rate</b></td>\n",
       "<td><b>score</b></td>\n",
       "<td><b>cumulative_response_rate</b></td>\n",
       "<td><b>cumulative_score</b></td>\n",
       "<td><b>capture_rate</b></td>\n",
       "<td><b>cumulative_capture_rate</b></td>\n",
       "<td><b>gain</b></td>\n",
       "<td><b>cumulative_gain</b></td></tr>\n",
       "<tr><td></td>\n",
       "<td>1</td>\n",
       "<td>0.0100031</td>\n",
       "<td>0.5860325</td>\n",
       "<td>4.9738095</td>\n",
       "<td>4.9738095</td>\n",
       "<td>0.9098294</td>\n",
       "<td>0.6569577</td>\n",
       "<td>0.9098294</td>\n",
       "<td>0.6569577</td>\n",
       "<td>0.0497535</td>\n",
       "<td>0.0497535</td>\n",
       "<td>397.3809537</td>\n",
       "<td>397.3809537</td></tr>\n",
       "<tr><td></td>\n",
       "<td>2</td>\n",
       "<td>0.0200062</td>\n",
       "<td>0.5192407</td>\n",
       "<td>4.2010927</td>\n",
       "<td>4.5874511</td>\n",
       "<td>0.7684809</td>\n",
       "<td>0.5491623</td>\n",
       "<td>0.8391552</td>\n",
       "<td>0.6030600</td>\n",
       "<td>0.0420239</td>\n",
       "<td>0.0917774</td>\n",
       "<td>320.1092698</td>\n",
       "<td>358.7451117</td></tr>\n",
       "<tr><td></td>\n",
       "<td>3</td>\n",
       "<td>0.0300011</td>\n",
       "<td>0.4728962</td>\n",
       "<td>3.7333900</td>\n",
       "<td>4.3029183</td>\n",
       "<td>0.6829268</td>\n",
       "<td>0.4954807</td>\n",
       "<td>0.7871073</td>\n",
       "<td>0.5672197</td>\n",
       "<td>0.0373151</td>\n",
       "<td>0.1290924</td>\n",
       "<td>273.3389963</td>\n",
       "<td>330.2918284</td></tr>\n",
       "<tr><td></td>\n",
       "<td>4</td>\n",
       "<td>0.0400042</td>\n",
       "<td>0.4403359</td>\n",
       "<td>3.3662032</td>\n",
       "<td>4.0686920</td>\n",
       "<td>0.6157595</td>\n",
       "<td>0.4565454</td>\n",
       "<td>0.7442616</td>\n",
       "<td>0.5395455</td>\n",
       "<td>0.0336724</td>\n",
       "<td>0.1627649</td>\n",
       "<td>236.6203240</td>\n",
       "<td>306.8691955</td></tr>\n",
       "<tr><td></td>\n",
       "<td>5</td>\n",
       "<td>0.0500073</td>\n",
       "<td>0.4137444</td>\n",
       "<td>3.3040306</td>\n",
       "<td>3.9157348</td>\n",
       "<td>0.6043867</td>\n",
       "<td>0.4266070</td>\n",
       "<td>0.7162821</td>\n",
       "<td>0.5169541</td>\n",
       "<td>0.0330505</td>\n",
       "<td>0.1958154</td>\n",
       "<td>230.4030621</td>\n",
       "<td>291.5734837</td></tr>\n",
       "<tr><td></td>\n",
       "<td>6</td>\n",
       "<td>0.1000065</td>\n",
       "<td>0.3240525</td>\n",
       "<td>2.7053880</td>\n",
       "<td>3.3106106</td>\n",
       "<td>0.4948805</td>\n",
       "<td>0.3642031</td>\n",
       "<td>0.6055903</td>\n",
       "<td>0.4405848</td>\n",
       "<td>0.1352672</td>\n",
       "<td>0.3310826</td>\n",
       "<td>170.5388022</td>\n",
       "<td>231.0610603</td></tr>\n",
       "<tr><td></td>\n",
       "<td>7</td>\n",
       "<td>0.1500057</td>\n",
       "<td>0.2740858</td>\n",
       "<td>2.2975808</td>\n",
       "<td>2.9729523</td>\n",
       "<td>0.4202828</td>\n",
       "<td>0.2969832</td>\n",
       "<td>0.5438245</td>\n",
       "<td>0.3927202</td>\n",
       "<td>0.1148772</td>\n",
       "<td>0.4459598</td>\n",
       "<td>129.7580763</td>\n",
       "<td>197.2952282</td></tr>\n",
       "<tr><td></td>\n",
       "<td>8</td>\n",
       "<td>0.2000049</td>\n",
       "<td>0.2398144</td>\n",
       "<td>1.8728926</td>\n",
       "<td>2.6979485</td>\n",
       "<td>0.3425971</td>\n",
       "<td>0.2556922</td>\n",
       "<td>0.4935197</td>\n",
       "<td>0.3584646</td>\n",
       "<td>0.0936431</td>\n",
       "<td>0.5396029</td>\n",
       "<td>87.2892594</td>\n",
       "<td>169.7948534</td></tr>\n",
       "<tr><td></td>\n",
       "<td>9</td>\n",
       "<td>0.3000033</td>\n",
       "<td>0.1971258</td>\n",
       "<td>1.4659738</td>\n",
       "<td>2.2873014</td>\n",
       "<td>0.2681619</td>\n",
       "<td>0.2165106</td>\n",
       "<td>0.4184024</td>\n",
       "<td>0.3111479</td>\n",
       "<td>0.1465950</td>\n",
       "<td>0.6861979</td>\n",
       "<td>46.5973805</td>\n",
       "<td>128.7301414</td></tr>\n",
       "<tr><td></td>\n",
       "<td>10</td>\n",
       "<td>0.4000016</td>\n",
       "<td>0.1690381</td>\n",
       "<td>1.1110305</td>\n",
       "<td>1.9932396</td>\n",
       "<td>0.2032342</td>\n",
       "<td>0.1822437</td>\n",
       "<td>0.3646115</td>\n",
       "<td>0.2789225</td>\n",
       "<td>0.1111012</td>\n",
       "<td>0.7972991</td>\n",
       "<td>11.1030450</td>\n",
       "<td>99.3239647</td></tr>\n",
       "<tr><td></td>\n",
       "<td>11</td>\n",
       "<td>0.5</td>\n",
       "<td>0.1488040</td>\n",
       "<td>0.7800758</td>\n",
       "<td>1.7506108</td>\n",
       "<td>0.1426946</td>\n",
       "<td>0.1584854</td>\n",
       "<td>0.3202288</td>\n",
       "<td>0.2548355</td>\n",
       "<td>0.0780063</td>\n",
       "<td>0.8753054</td>\n",
       "<td>-21.9924242</td>\n",
       "<td>75.0610812</td></tr>\n",
       "<tr><td></td>\n",
       "<td>12</td>\n",
       "<td>0.5999984</td>\n",
       "<td>0.1326387</td>\n",
       "<td>0.5846126</td>\n",
       "<td>1.5562804</td>\n",
       "<td>0.1069397</td>\n",
       "<td>0.1403607</td>\n",
       "<td>0.2846811</td>\n",
       "<td>0.2357566</td>\n",
       "<td>0.0584603</td>\n",
       "<td>0.9337657</td>\n",
       "<td>-41.5387416</td>\n",
       "<td>55.6280406</td></tr>\n",
       "<tr><td></td>\n",
       "<td>13</td>\n",
       "<td>0.6999967</td>\n",
       "<td>0.1192443</td>\n",
       "<td>0.3793763</td>\n",
       "<td>1.3881532</td>\n",
       "<td>0.0693970</td>\n",
       "<td>0.1258015</td>\n",
       "<td>0.2539266</td>\n",
       "<td>0.2200489</td>\n",
       "<td>0.0379370</td>\n",
       "<td>0.9717027</td>\n",
       "<td>-62.0623749</td>\n",
       "<td>38.8153193</td></tr>\n",
       "<tr><td></td>\n",
       "<td>14</td>\n",
       "<td>0.7999951</td>\n",
       "<td>0.1069458</td>\n",
       "<td>0.1963516</td>\n",
       "<td>1.2391795</td>\n",
       "<td>0.0359174</td>\n",
       "<td>0.1130671</td>\n",
       "<td>0.2266757</td>\n",
       "<td>0.2066763</td>\n",
       "<td>0.0196348</td>\n",
       "<td>0.9913376</td>\n",
       "<td>-80.3648357</td>\n",
       "<td>23.9179513</td></tr>\n",
       "<tr><td></td>\n",
       "<td>15</td>\n",
       "<td>0.8999935</td>\n",
       "<td>0.0945200</td>\n",
       "<td>0.0790737</td>\n",
       "<td>1.1102800</td>\n",
       "<td>0.0144645</td>\n",
       "<td>0.1008915</td>\n",
       "<td>0.2030969</td>\n",
       "<td>0.1949226</td>\n",
       "<td>0.0079072</td>\n",
       "<td>0.9992448</td>\n",
       "<td>-92.0926261</td>\n",
       "<td>11.0280035</td></tr>\n",
       "<tr><td></td>\n",
       "<td>16</td>\n",
       "<td>1.0</td>\n",
       "<td>0.0680824</td>\n",
       "<td>0.0075514</td>\n",
       "<td>1.0</td>\n",
       "<td>0.0013813</td>\n",
       "<td>0.0860115</td>\n",
       "<td>0.1829241</td>\n",
       "<td>0.1840307</td>\n",
       "<td>0.0007552</td>\n",
       "<td>1.0</td>\n",
       "<td>-99.2448627</td>\n",
       "<td>0.0</td></tr></table></div>"
      ],
      "text/plain": [
       "    group    cumulative_data_fraction    lower_threshold    lift        cumulative_lift    response_rate    score      cumulative_response_rate    cumulative_score    capture_rate    cumulative_capture_rate    gain      cumulative_gain\n",
       "--  -------  --------------------------  -----------------  ----------  -----------------  ---------------  ---------  --------------------------  ------------------  --------------  -------------------------  --------  -----------------\n",
       "    1        0.0100031                   0.586033           4.97381     4.97381            0.909829         0.656958   0.909829                    0.656958            0.0497535       0.0497535                  397.381   397.381\n",
       "    2        0.0200062                   0.519241           4.20109     4.58745            0.768481         0.549162   0.839155                    0.60306             0.0420239       0.0917774                  320.109   358.745\n",
       "    3        0.0300011                   0.472896           3.73339     4.30292            0.682927         0.495481   0.787107                    0.56722             0.0373151       0.129092                   273.339   330.292\n",
       "    4        0.0400042                   0.440336           3.3662      4.06869            0.61576          0.456545   0.744262                    0.539545            0.0336724       0.162765                   236.62    306.869\n",
       "    5        0.0500073                   0.413744           3.30403     3.91573            0.604387         0.426607   0.716282                    0.516954            0.0330505       0.195815                   230.403   291.573\n",
       "    6        0.100007                    0.324053           2.70539     3.31061            0.494881         0.364203   0.60559                     0.440585            0.135267        0.331083                   170.539   231.061\n",
       "    7        0.150006                    0.274086           2.29758     2.97295            0.420283         0.296983   0.543824                    0.39272             0.114877        0.44596                    129.758   197.295\n",
       "    8        0.200005                    0.239814           1.87289     2.69795            0.342597         0.255692   0.49352                     0.358465            0.0936431       0.539603                   87.2893   169.795\n",
       "    9        0.300003                    0.197126           1.46597     2.2873             0.268162         0.216511   0.418402                    0.311148            0.146595        0.686198                   46.5974   128.73\n",
       "    10       0.400002                    0.169038           1.11103     1.99324            0.203234         0.182244   0.364611                    0.278922            0.111101        0.797299                   11.103    99.324\n",
       "    11       0.5                         0.148804           0.780076    1.75061            0.142695         0.158485   0.320229                    0.254835            0.0780063       0.875305                   -21.9924  75.0611\n",
       "    12       0.599998                    0.132639           0.584613    1.55628            0.10694          0.140361   0.284681                    0.235757            0.0584603       0.933766                   -41.5387  55.628\n",
       "    13       0.699997                    0.119244           0.379376    1.38815            0.069397         0.125801   0.253927                    0.220049            0.037937        0.971703                   -62.0624  38.8153\n",
       "    14       0.799995                    0.106946           0.196352    1.23918            0.0359174        0.113067   0.226676                    0.206676            0.0196348       0.991338                   -80.3648  23.918\n",
       "    15       0.899993                    0.09452            0.0790737   1.11028            0.0144645        0.100892   0.203097                    0.194923            0.00790725      0.999245                   -92.0926  11.028\n",
       "    16       1                           0.0680824          0.00755137  1                  0.00138133       0.0860115  0.182924                    0.184031            0.000755186     1                          -99.2449  0"
      ]
     },
     "metadata": {},
     "output_type": "display_data"
    },
    {
     "name": "stdout",
     "output_type": "stream",
     "text": [
      "\n",
      "\n",
      "ModelMetricsBinomialGLM: stackedensemble\n",
      "** Reported on cross-validation data. **\n",
      "\n",
      "MSE: 0.1400481614822642\n",
      "RMSE: 0.37423009163115706\n",
      "LogLoss: 0.44545681268239234\n",
      "Null degrees of freedom: 123061\n",
      "Residual degrees of freedom: 123055\n",
      "Null deviance: 117106.60132581186\n",
      "Residual deviance: 109637.61256464117\n",
      "AIC: 109651.61256464117\n",
      "AUC: 0.6832937346105638\n",
      "pr_auc: 0.32283066986621195\n",
      "Gini: 0.3665874692211275\n",
      "Confusion Matrix (Act/Pred) for max f1 @ threshold = 0.17423538385317197: \n"
     ]
    },
    {
     "data": {
      "text/html": [
       "<div style=\"overflow:auto\"><table style=\"width:50%\"><tr><td><b></b></td>\n",
       "<td><b>0</b></td>\n",
       "<td><b>1</b></td>\n",
       "<td><b>Error</b></td>\n",
       "<td><b>Rate</b></td></tr>\n",
       "<tr><td>0</td>\n",
       "<td>66854.0</td>\n",
       "<td>33697.0</td>\n",
       "<td>0.3351</td>\n",
       "<td> (33697.0/100551.0)</td></tr>\n",
       "<tr><td>1</td>\n",
       "<td>9015.0</td>\n",
       "<td>13496.0</td>\n",
       "<td>0.4005</td>\n",
       "<td> (9015.0/22511.0)</td></tr>\n",
       "<tr><td>Total</td>\n",
       "<td>75869.0</td>\n",
       "<td>47193.0</td>\n",
       "<td>0.3471</td>\n",
       "<td> (42712.0/123062.0)</td></tr></table></div>"
      ],
      "text/plain": [
       "       0      1      Error    Rate\n",
       "-----  -----  -----  -------  ------------------\n",
       "0      66854  33697  0.3351   (33697.0/100551.0)\n",
       "1      9015   13496  0.4005   (9015.0/22511.0)\n",
       "Total  75869  47193  0.3471   (42712.0/123062.0)"
      ]
     },
     "metadata": {},
     "output_type": "display_data"
    },
    {
     "name": "stdout",
     "output_type": "stream",
     "text": [
      "Maximum Metrics: Maximum metrics at their respective thresholds\n",
      "\n"
     ]
    },
    {
     "data": {
      "text/html": [
       "<div style=\"overflow:auto\"><table style=\"width:50%\"><tr><td><b>metric</b></td>\n",
       "<td><b>threshold</b></td>\n",
       "<td><b>value</b></td>\n",
       "<td><b>idx</b></td></tr>\n",
       "<tr><td>max f1</td>\n",
       "<td>0.1742354</td>\n",
       "<td>0.3872375</td>\n",
       "<td>274.0</td></tr>\n",
       "<tr><td>max f2</td>\n",
       "<td>0.1175858</td>\n",
       "<td>0.5535826</td>\n",
       "<td>343.0</td></tr>\n",
       "<tr><td>max f0point5</td>\n",
       "<td>0.2582936</td>\n",
       "<td>0.3496303</td>\n",
       "<td>198.0</td></tr>\n",
       "<tr><td>max accuracy</td>\n",
       "<td>0.6320746</td>\n",
       "<td>0.8175554</td>\n",
       "<td>27.0</td></tr>\n",
       "<tr><td>max precision</td>\n",
       "<td>0.8320725</td>\n",
       "<td>0.8333333</td>\n",
       "<td>0.0</td></tr>\n",
       "<tr><td>max recall</td>\n",
       "<td>0.0728713</td>\n",
       "<td>1.0</td>\n",
       "<td>398.0</td></tr>\n",
       "<tr><td>max specificity</td>\n",
       "<td>0.8320725</td>\n",
       "<td>0.9999901</td>\n",
       "<td>0.0</td></tr>\n",
       "<tr><td>max absolute_mcc</td>\n",
       "<td>0.2027889</td>\n",
       "<td>0.2127926</td>\n",
       "<td>243.0</td></tr>\n",
       "<tr><td>max min_per_class_accuracy</td>\n",
       "<td>0.1663758</td>\n",
       "<td>0.6307545</td>\n",
       "<td>282.0</td></tr>\n",
       "<tr><td>max mean_per_class_accuracy</td>\n",
       "<td>0.1692017</td>\n",
       "<td>0.6327295</td>\n",
       "<td>279.0</td></tr></table></div>"
      ],
      "text/plain": [
       "metric                       threshold    value     idx\n",
       "---------------------------  -----------  --------  -----\n",
       "max f1                       0.174235     0.387237  274\n",
       "max f2                       0.117586     0.553583  343\n",
       "max f0point5                 0.258294     0.34963   198\n",
       "max accuracy                 0.632075     0.817555  27\n",
       "max precision                0.832073     0.833333  0\n",
       "max recall                   0.0728713    1         398\n",
       "max specificity              0.832073     0.99999   0\n",
       "max absolute_mcc             0.202789     0.212793  243\n",
       "max min_per_class_accuracy   0.166376     0.630755  282\n",
       "max mean_per_class_accuracy  0.169202     0.632729  279"
      ]
     },
     "metadata": {},
     "output_type": "display_data"
    },
    {
     "name": "stdout",
     "output_type": "stream",
     "text": [
      "Gains/Lift Table: Avg response rate: 18.29 %, avg score: 18.29 %\n",
      "\n"
     ]
    },
    {
     "data": {
      "text/html": [
       "<div style=\"overflow:auto\"><table style=\"width:50%\"><tr><td><b></b></td>\n",
       "<td><b>group</b></td>\n",
       "<td><b>cumulative_data_fraction</b></td>\n",
       "<td><b>lower_threshold</b></td>\n",
       "<td><b>lift</b></td>\n",
       "<td><b>cumulative_lift</b></td>\n",
       "<td><b>response_rate</b></td>\n",
       "<td><b>score</b></td>\n",
       "<td><b>cumulative_response_rate</b></td>\n",
       "<td><b>cumulative_score</b></td>\n",
       "<td><b>capture_rate</b></td>\n",
       "<td><b>cumulative_capture_rate</b></td>\n",
       "<td><b>gain</b></td>\n",
       "<td><b>cumulative_gain</b></td></tr>\n",
       "<tr><td></td>\n",
       "<td>1</td>\n",
       "<td>0.0100031</td>\n",
       "<td>0.5594892</td>\n",
       "<td>2.8110906</td>\n",
       "<td>2.8110906</td>\n",
       "<td>0.5142161</td>\n",
       "<td>0.6255723</td>\n",
       "<td>0.5142161</td>\n",
       "<td>0.6255723</td>\n",
       "<td>0.0281196</td>\n",
       "<td>0.0281196</td>\n",
       "<td>181.1090569</td>\n",
       "<td>181.1090569</td></tr>\n",
       "<tr><td></td>\n",
       "<td>2</td>\n",
       "<td>0.0200062</td>\n",
       "<td>0.4992681</td>\n",
       "<td>2.4691412</td>\n",
       "<td>2.6401159</td>\n",
       "<td>0.4516653</td>\n",
       "<td>0.5267348</td>\n",
       "<td>0.4829407</td>\n",
       "<td>0.5761536</td>\n",
       "<td>0.0246990</td>\n",
       "<td>0.0528186</td>\n",
       "<td>146.9141163</td>\n",
       "<td>164.0115866</td></tr>\n",
       "<tr><td></td>\n",
       "<td>3</td>\n",
       "<td>0.0300011</td>\n",
       "<td>0.4576850</td>\n",
       "<td>2.3867029</td>\n",
       "<td>2.5556906</td>\n",
       "<td>0.4365854</td>\n",
       "<td>0.4769487</td>\n",
       "<td>0.4674973</td>\n",
       "<td>0.5431032</td>\n",
       "<td>0.0238550</td>\n",
       "<td>0.0766736</td>\n",
       "<td>138.6702869</td>\n",
       "<td>155.5690626</td></tr>\n",
       "<tr><td></td>\n",
       "<td>4</td>\n",
       "<td>0.0400042</td>\n",
       "<td>0.4272582</td>\n",
       "<td>2.2026871</td>\n",
       "<td>2.4674218</td>\n",
       "<td>0.4029245</td>\n",
       "<td>0.4419622</td>\n",
       "<td>0.4513508</td>\n",
       "<td>0.5178128</td>\n",
       "<td>0.0220337</td>\n",
       "<td>0.0987073</td>\n",
       "<td>120.2687081</td>\n",
       "<td>146.7421813</td></tr>\n",
       "<tr><td></td>\n",
       "<td>5</td>\n",
       "<td>0.0500073</td>\n",
       "<td>0.4019715</td>\n",
       "<td>2.0428146</td>\n",
       "<td>2.3824866</td>\n",
       "<td>0.3736799</td>\n",
       "<td>0.4141753</td>\n",
       "<td>0.4358141</td>\n",
       "<td>0.4970819</td>\n",
       "<td>0.0204345</td>\n",
       "<td>0.1191418</td>\n",
       "<td>104.2814631</td>\n",
       "<td>138.2486578</td></tr>\n",
       "<tr><td></td>\n",
       "<td>6</td>\n",
       "<td>0.1000065</td>\n",
       "<td>0.3178671</td>\n",
       "<td>1.9235353</td>\n",
       "<td>2.1530296</td>\n",
       "<td>0.3518609</td>\n",
       "<td>0.3550627</td>\n",
       "<td>0.3938409</td>\n",
       "<td>0.4260781</td>\n",
       "<td>0.0961752</td>\n",
       "<td>0.2153170</td>\n",
       "<td>92.3535326</td>\n",
       "<td>115.3029598</td></tr>\n",
       "<tr><td></td>\n",
       "<td>7</td>\n",
       "<td>0.1500057</td>\n",
       "<td>0.2694215</td>\n",
       "<td>1.6543292</td>\n",
       "<td>1.9868051</td>\n",
       "<td>0.3026166</td>\n",
       "<td>0.2917142</td>\n",
       "<td>0.3634345</td>\n",
       "<td>0.3812925</td>\n",
       "<td>0.0827151</td>\n",
       "<td>0.2980321</td>\n",
       "<td>65.4329227</td>\n",
       "<td>98.6805146</td></tr>\n",
       "<tr><td></td>\n",
       "<td>8</td>\n",
       "<td>0.2000049</td>\n",
       "<td>0.2378454</td>\n",
       "<td>1.5041780</td>\n",
       "<td>1.8661533</td>\n",
       "<td>0.2751503</td>\n",
       "<td>0.2527747</td>\n",
       "<td>0.3413643</td>\n",
       "<td>0.3491644</td>\n",
       "<td>0.0752077</td>\n",
       "<td>0.3732397</td>\n",
       "<td>50.4177971</td>\n",
       "<td>86.6153254</td></tr>\n",
       "<tr><td></td>\n",
       "<td>9</td>\n",
       "<td>0.3000033</td>\n",
       "<td>0.1971145</td>\n",
       "<td>1.3158225</td>\n",
       "<td>1.6827147</td>\n",
       "<td>0.2406956</td>\n",
       "<td>0.2159104</td>\n",
       "<td>0.3078090</td>\n",
       "<td>0.3047476</td>\n",
       "<td>0.1315801</td>\n",
       "<td>0.5048199</td>\n",
       "<td>31.5822549</td>\n",
       "<td>68.2714655</td></tr>\n",
       "<tr><td></td>\n",
       "<td>10</td>\n",
       "<td>0.4000016</td>\n",
       "<td>0.1698404</td>\n",
       "<td>1.1123632</td>\n",
       "<td>1.5401297</td>\n",
       "<td>0.2034780</td>\n",
       "<td>0.1826700</td>\n",
       "<td>0.2817268</td>\n",
       "<td>0.2742288</td>\n",
       "<td>0.1112345</td>\n",
       "<td>0.6160544</td>\n",
       "<td>11.2363154</td>\n",
       "<td>54.0129676</td></tr>\n",
       "<tr><td></td>\n",
       "<td>11</td>\n",
       "<td>0.5</td>\n",
       "<td>0.1498040</td>\n",
       "<td>0.9493291</td>\n",
       "<td>1.4219715</td>\n",
       "<td>0.1736551</td>\n",
       "<td>0.1593592</td>\n",
       "<td>0.2601128</td>\n",
       "<td>0.2512552</td>\n",
       "<td>0.0949314</td>\n",
       "<td>0.7109857</td>\n",
       "<td>-5.0670903</td>\n",
       "<td>42.1971481</td></tr>\n",
       "<tr><td></td>\n",
       "<td>12</td>\n",
       "<td>0.5999984</td>\n",
       "<td>0.1341305</td>\n",
       "<td>0.8196126</td>\n",
       "<td>1.3215797</td>\n",
       "<td>0.1499269</td>\n",
       "<td>0.1416772</td>\n",
       "<td>0.2417487</td>\n",
       "<td>0.2329925</td>\n",
       "<td>0.0819599</td>\n",
       "<td>0.7929457</td>\n",
       "<td>-18.0387373</td>\n",
       "<td>32.1579698</td></tr>\n",
       "<tr><td></td>\n",
       "<td>13</td>\n",
       "<td>0.6999967</td>\n",
       "<td>0.1206520</td>\n",
       "<td>0.7103309</td>\n",
       "<td>1.2342595</td>\n",
       "<td>0.1299366</td>\n",
       "<td>0.1272362</td>\n",
       "<td>0.2257757</td>\n",
       "<td>0.2178846</td>\n",
       "<td>0.0710319</td>\n",
       "<td>0.8639776</td>\n",
       "<td>-28.9669056</td>\n",
       "<td>23.4259461</td></tr>\n",
       "<tr><td></td>\n",
       "<td>14</td>\n",
       "<td>0.7999951</td>\n",
       "<td>0.1085047</td>\n",
       "<td>0.5894992</td>\n",
       "<td>1.1536652</td>\n",
       "<td>0.1078336</td>\n",
       "<td>0.1145141</td>\n",
       "<td>0.2110331</td>\n",
       "<td>0.2049634</td>\n",
       "<td>0.0589490</td>\n",
       "<td>0.9229266</td>\n",
       "<td>-41.0500837</td>\n",
       "<td>15.3665243</td></tr>\n",
       "<tr><td></td>\n",
       "<td>15</td>\n",
       "<td>0.8999935</td>\n",
       "<td>0.0958763</td>\n",
       "<td>0.4788848</td>\n",
       "<td>1.0786903</td>\n",
       "<td>0.0875995</td>\n",
       "<td>0.1023689</td>\n",
       "<td>0.1973184</td>\n",
       "<td>0.1935641</td>\n",
       "<td>0.0478877</td>\n",
       "<td>0.9708143</td>\n",
       "<td>-52.1115224</td>\n",
       "<td>7.8690312</td></tr>\n",
       "<tr><td></td>\n",
       "<td>16</td>\n",
       "<td>1.0</td>\n",
       "<td>0.0684520</td>\n",
       "<td>0.2918383</td>\n",
       "<td>1.0</td>\n",
       "<td>0.0533843</td>\n",
       "<td>0.0871747</td>\n",
       "<td>0.1829241</td>\n",
       "<td>0.1829245</td>\n",
       "<td>0.0291857</td>\n",
       "<td>1.0</td>\n",
       "<td>-70.8161658</td>\n",
       "<td>0.0</td></tr></table></div>"
      ],
      "text/plain": [
       "    group    cumulative_data_fraction    lower_threshold    lift      cumulative_lift    response_rate    score      cumulative_response_rate    cumulative_score    capture_rate    cumulative_capture_rate    gain      cumulative_gain\n",
       "--  -------  --------------------------  -----------------  --------  -----------------  ---------------  ---------  --------------------------  ------------------  --------------  -------------------------  --------  -----------------\n",
       "    1        0.0100031                   0.559489           2.81109   2.81109            0.514216         0.625572   0.514216                    0.625572            0.0281196       0.0281196                  181.109   181.109\n",
       "    2        0.0200062                   0.499268           2.46914   2.64012            0.451665         0.526735   0.482941                    0.576154            0.024699        0.0528186                  146.914   164.012\n",
       "    3        0.0300011                   0.457685           2.3867    2.55569            0.436585         0.476949   0.467497                    0.543103            0.023855        0.0766736                  138.67    155.569\n",
       "    4        0.0400042                   0.427258           2.20269   2.46742            0.402924         0.441962   0.451351                    0.517813            0.0220337       0.0987073                  120.269   146.742\n",
       "    5        0.0500073                   0.401971           2.04281   2.38249            0.37368          0.414175   0.435814                    0.497082            0.0204345       0.119142                   104.281   138.249\n",
       "    6        0.100007                    0.317867           1.92354   2.15303            0.351861         0.355063   0.393841                    0.426078            0.0961752       0.215317                   92.3535   115.303\n",
       "    7        0.150006                    0.269421           1.65433   1.98681            0.302617         0.291714   0.363434                    0.381293            0.0827151       0.298032                   65.4329   98.6805\n",
       "    8        0.200005                    0.237845           1.50418   1.86615            0.27515          0.252775   0.341364                    0.349164            0.0752077       0.37324                    50.4178   86.6153\n",
       "    9        0.300003                    0.197114           1.31582   1.68271            0.240696         0.21591    0.307809                    0.304748            0.13158         0.50482                    31.5823   68.2715\n",
       "    10       0.400002                    0.16984            1.11236   1.54013            0.203478         0.18267    0.281727                    0.274229            0.111235        0.616054                   11.2363   54.013\n",
       "    11       0.5                         0.149804           0.949329  1.42197            0.173655         0.159359   0.260113                    0.251255            0.0949314       0.710986                   -5.06709  42.1971\n",
       "    12       0.599998                    0.134131           0.819613  1.32158            0.149927         0.141677   0.241749                    0.232992            0.0819599       0.792946                   -18.0387  32.158\n",
       "    13       0.699997                    0.120652           0.710331  1.23426            0.129937         0.127236   0.225776                    0.217885            0.0710319       0.863978                   -28.9669  23.4259\n",
       "    14       0.799995                    0.108505           0.589499  1.15367            0.107834         0.114514   0.211033                    0.204963            0.058949        0.922927                   -41.0501  15.3665\n",
       "    15       0.899993                    0.0958763          0.478885  1.07869            0.0875995        0.102369   0.197318                    0.193564            0.0478877       0.970814                   -52.1115  7.86903\n",
       "    16       1                           0.068452           0.291838  1                  0.0533843        0.0871747  0.182924                    0.182925            0.0291857       1                          -70.8162  0"
      ]
     },
     "metadata": {},
     "output_type": "display_data"
    },
    {
     "name": "stdout",
     "output_type": "stream",
     "text": [
      "\n"
     ]
    },
    {
     "data": {
      "text/plain": []
     },
     "execution_count": 143,
     "metadata": {},
     "output_type": "execute_result"
    }
   ],
   "source": [
    "aml.leader"
   ]
  },
  {
   "cell_type": "markdown",
   "metadata": {},
   "source": [
    "To get details for the test data, use the `model_performance` call"
   ]
  },
  {
   "cell_type": "code",
   "execution_count": 204,
   "metadata": {},
   "outputs": [
    {
     "name": "stdout",
     "output_type": "stream",
     "text": [
      "\n",
      "ModelMetricsBinomialGLM: stackedensemble\n",
      "** Reported on test data. **\n",
      "\n",
      "MSE: 0.13981753949326745\n",
      "RMSE: 0.3739218360744227\n",
      "LogLoss: 0.4447534541229015\n",
      "Null degrees of freedom: 40924\n",
      "Residual degrees of freedom: 40918\n",
      "Null deviance: 39000.482887089915\n",
      "Residual deviance: 36403.07021995949\n",
      "AIC: 36417.07021995949\n",
      "AUC: 0.6866339097294403\n",
      "pr_auc: 0.32862267862066386\n",
      "Gini: 0.37326781945888055\n",
      "Confusion Matrix (Act/Pred) for max f1 @ threshold = 0.17581607858636789: \n"
     ]
    },
    {
     "data": {
      "text/html": [
       "<div style=\"overflow:auto\"><table style=\"width:50%\"><tr><td><b></b></td>\n",
       "<td><b>0</b></td>\n",
       "<td><b>1</b></td>\n",
       "<td><b>Error</b></td>\n",
       "<td><b>Rate</b></td></tr>\n",
       "<tr><td>0</td>\n",
       "<td>22415.0</td>\n",
       "<td>11005.0</td>\n",
       "<td>0.3293</td>\n",
       "<td> (11005.0/33420.0)</td></tr>\n",
       "<tr><td>1</td>\n",
       "<td>3033.0</td>\n",
       "<td>4472.0</td>\n",
       "<td>0.4041</td>\n",
       "<td> (3033.0/7505.0)</td></tr>\n",
       "<tr><td>Total</td>\n",
       "<td>25448.0</td>\n",
       "<td>15477.0</td>\n",
       "<td>0.343</td>\n",
       "<td> (14038.0/40925.0)</td></tr></table></div>"
      ],
      "text/plain": [
       "       0      1      Error    Rate\n",
       "-----  -----  -----  -------  -----------------\n",
       "0      22415  11005  0.3293   (11005.0/33420.0)\n",
       "1      3033   4472   0.4041   (3033.0/7505.0)\n",
       "Total  25448  15477  0.343    (14038.0/40925.0)"
      ]
     },
     "metadata": {},
     "output_type": "display_data"
    },
    {
     "name": "stdout",
     "output_type": "stream",
     "text": [
      "Maximum Metrics: Maximum metrics at their respective thresholds\n",
      "\n"
     ]
    },
    {
     "data": {
      "text/html": [
       "<div style=\"overflow:auto\"><table style=\"width:50%\"><tr><td><b>metric</b></td>\n",
       "<td><b>threshold</b></td>\n",
       "<td><b>value</b></td>\n",
       "<td><b>idx</b></td></tr>\n",
       "<tr><td>max f1</td>\n",
       "<td>0.1758161</td>\n",
       "<td>0.3891741</td>\n",
       "<td>267.0</td></tr>\n",
       "<tr><td>max f2</td>\n",
       "<td>0.1199526</td>\n",
       "<td>0.5570104</td>\n",
       "<td>338.0</td></tr>\n",
       "<tr><td>max f0point5</td>\n",
       "<td>0.2521982</td>\n",
       "<td>0.3556126</td>\n",
       "<td>198.0</td></tr>\n",
       "<tr><td>max accuracy</td>\n",
       "<td>0.5131068</td>\n",
       "<td>0.8175932</td>\n",
       "<td>60.0</td></tr>\n",
       "<tr><td>max precision</td>\n",
       "<td>0.8857001</td>\n",
       "<td>1.0</td>\n",
       "<td>0.0</td></tr>\n",
       "<tr><td>max recall</td>\n",
       "<td>0.0715652</td>\n",
       "<td>1.0</td>\n",
       "<td>399.0</td></tr>\n",
       "<tr><td>max specificity</td>\n",
       "<td>0.8857001</td>\n",
       "<td>1.0</td>\n",
       "<td>0.0</td></tr>\n",
       "<tr><td>max absolute_mcc</td>\n",
       "<td>0.2027897</td>\n",
       "<td>0.2171205</td>\n",
       "<td>240.0</td></tr>\n",
       "<tr><td>max min_per_class_accuracy</td>\n",
       "<td>0.1669937</td>\n",
       "<td>0.6314482</td>\n",
       "<td>277.0</td></tr>\n",
       "<tr><td>max mean_per_class_accuracy</td>\n",
       "<td>0.1707712</td>\n",
       "<td>0.6337967</td>\n",
       "<td>273.0</td></tr></table></div>"
      ],
      "text/plain": [
       "metric                       threshold    value     idx\n",
       "---------------------------  -----------  --------  -----\n",
       "max f1                       0.175816     0.389174  267\n",
       "max f2                       0.119953     0.55701   338\n",
       "max f0point5                 0.252198     0.355613  198\n",
       "max accuracy                 0.513107     0.817593  60\n",
       "max precision                0.8857       1         0\n",
       "max recall                   0.0715652    1         399\n",
       "max specificity              0.8857       1         0\n",
       "max absolute_mcc             0.20279      0.21712   240\n",
       "max min_per_class_accuracy   0.166994     0.631448  277\n",
       "max mean_per_class_accuracy  0.170771     0.633797  273"
      ]
     },
     "metadata": {},
     "output_type": "display_data"
    },
    {
     "name": "stdout",
     "output_type": "stream",
     "text": [
      "Gains/Lift Table: Avg response rate: 18.34 %, avg score: 18.31 %\n",
      "\n"
     ]
    },
    {
     "data": {
      "text/html": [
       "<div style=\"overflow:auto\"><table style=\"width:50%\"><tr><td><b></b></td>\n",
       "<td><b>group</b></td>\n",
       "<td><b>cumulative_data_fraction</b></td>\n",
       "<td><b>lower_threshold</b></td>\n",
       "<td><b>lift</b></td>\n",
       "<td><b>cumulative_lift</b></td>\n",
       "<td><b>response_rate</b></td>\n",
       "<td><b>score</b></td>\n",
       "<td><b>cumulative_response_rate</b></td>\n",
       "<td><b>cumulative_score</b></td>\n",
       "<td><b>capture_rate</b></td>\n",
       "<td><b>cumulative_capture_rate</b></td>\n",
       "<td><b>gain</b></td>\n",
       "<td><b>cumulative_gain</b></td></tr>\n",
       "<tr><td></td>\n",
       "<td>1</td>\n",
       "<td>0.0100183</td>\n",
       "<td>0.5586579</td>\n",
       "<td>2.8462163</td>\n",
       "<td>2.8462163</td>\n",
       "<td>0.5219512</td>\n",
       "<td>0.6234970</td>\n",
       "<td>0.5219512</td>\n",
       "<td>0.6234970</td>\n",
       "<td>0.0285143</td>\n",
       "<td>0.0285143</td>\n",
       "<td>184.6216344</td>\n",
       "<td>184.6216344</td></tr>\n",
       "<tr><td></td>\n",
       "<td>2</td>\n",
       "<td>0.0200122</td>\n",
       "<td>0.5004216</td>\n",
       "<td>2.7731797</td>\n",
       "<td>2.8097426</td>\n",
       "<td>0.5085575</td>\n",
       "<td>0.5284353</td>\n",
       "<td>0.5152625</td>\n",
       "<td>0.5760242</td>\n",
       "<td>0.0277149</td>\n",
       "<td>0.0562292</td>\n",
       "<td>177.3179738</td>\n",
       "<td>180.9742630</td></tr>\n",
       "<tr><td></td>\n",
       "<td>3</td>\n",
       "<td>0.0300061</td>\n",
       "<td>0.4609375</td>\n",
       "<td>2.4265323</td>\n",
       "<td>2.6821099</td>\n",
       "<td>0.4449878</td>\n",
       "<td>0.4792291</td>\n",
       "<td>0.4918567</td>\n",
       "<td>0.5437854</td>\n",
       "<td>0.0242505</td>\n",
       "<td>0.0804797</td>\n",
       "<td>142.6532271</td>\n",
       "<td>168.2109864</td></tr>\n",
       "<tr><td></td>\n",
       "<td>4</td>\n",
       "<td>0.04</td>\n",
       "<td>0.4280935</td>\n",
       "<td>2.1065500</td>\n",
       "<td>2.5383078</td>\n",
       "<td>0.3863081</td>\n",
       "<td>0.4433676</td>\n",
       "<td>0.4654856</td>\n",
       "<td>0.5186963</td>\n",
       "<td>0.0210526</td>\n",
       "<td>0.1015323</td>\n",
       "<td>110.6549994</td>\n",
       "<td>153.8307795</td></tr>\n",
       "<tr><td></td>\n",
       "<td>5</td>\n",
       "<td>0.0500183</td>\n",
       "<td>0.4017733</td>\n",
       "<td>2.0216116</td>\n",
       "<td>2.4348171</td>\n",
       "<td>0.3707317</td>\n",
       "<td>0.4145474</td>\n",
       "<td>0.4465071</td>\n",
       "<td>0.4978360</td>\n",
       "<td>0.0202532</td>\n",
       "<td>0.1217855</td>\n",
       "<td>102.1611609</td>\n",
       "<td>143.4817108</td></tr>\n",
       "<tr><td></td>\n",
       "<td>6</td>\n",
       "<td>0.1000122</td>\n",
       "<td>0.3176898</td>\n",
       "<td>1.9722596</td>\n",
       "<td>2.2035949</td>\n",
       "<td>0.3616813</td>\n",
       "<td>0.3548766</td>\n",
       "<td>0.4041046</td>\n",
       "<td>0.4263737</td>\n",
       "<td>0.0986009</td>\n",
       "<td>0.2203864</td>\n",
       "<td>97.2259614</td>\n",
       "<td>120.3594867</td></tr>\n",
       "<tr><td></td>\n",
       "<td>7</td>\n",
       "<td>0.1500061</td>\n",
       "<td>0.2693419</td>\n",
       "<td>1.6311120</td>\n",
       "<td>2.0127983</td>\n",
       "<td>0.2991202</td>\n",
       "<td>0.2917742</td>\n",
       "<td>0.3691155</td>\n",
       "<td>0.3815145</td>\n",
       "<td>0.0815456</td>\n",
       "<td>0.3019320</td>\n",
       "<td>63.1112005</td>\n",
       "<td>101.2798331</td></tr>\n",
       "<tr><td></td>\n",
       "<td>8</td>\n",
       "<td>0.2</td>\n",
       "<td>0.2385570</td>\n",
       "<td>1.5031817</td>\n",
       "<td>1.8854097</td>\n",
       "<td>0.2756598</td>\n",
       "<td>0.2532137</td>\n",
       "<td>0.3457544</td>\n",
       "<td>0.3494432</td>\n",
       "<td>0.0751499</td>\n",
       "<td>0.3770819</td>\n",
       "<td>50.3181652</td>\n",
       "<td>88.5409727</td></tr>\n",
       "<tr><td></td>\n",
       "<td>9</td>\n",
       "<td>0.3000122</td>\n",
       "<td>0.1968269</td>\n",
       "<td>1.2923138</td>\n",
       "<td>1.6876950</td>\n",
       "<td>0.2369900</td>\n",
       "<td>0.2158854</td>\n",
       "<td>0.3094967</td>\n",
       "<td>0.3049203</td>\n",
       "<td>0.1292472</td>\n",
       "<td>0.5063291</td>\n",
       "<td>29.2313797</td>\n",
       "<td>68.7694982</td></tr>\n",
       "<tr><td></td>\n",
       "<td>10</td>\n",
       "<td>0.4</td>\n",
       "<td>0.1703743</td>\n",
       "<td>1.1180580</td>\n",
       "<td>1.5453031</td>\n",
       "<td>0.2050342</td>\n",
       "<td>0.1826499</td>\n",
       "<td>0.2833842</td>\n",
       "<td>0.2743565</td>\n",
       "<td>0.1117921</td>\n",
       "<td>0.6181213</td>\n",
       "<td>11.8057984</td>\n",
       "<td>54.5303131</td></tr>\n",
       "<tr><td></td>\n",
       "<td>11</td>\n",
       "<td>0.5000122</td>\n",
       "<td>0.1501308</td>\n",
       "<td>0.9818920</td>\n",
       "<td>1.4326099</td>\n",
       "<td>0.1800635</td>\n",
       "<td>0.1597625</td>\n",
       "<td>0.2627181</td>\n",
       "<td>0.2514354</td>\n",
       "<td>0.0982012</td>\n",
       "<td>0.7163225</td>\n",
       "<td>-1.8107970</td>\n",
       "<td>43.2609898</td></tr>\n",
       "<tr><td></td>\n",
       "<td>12</td>\n",
       "<td>0.6</td>\n",
       "<td>0.1340717</td>\n",
       "<td>0.8342125</td>\n",
       "<td>1.3328892</td>\n",
       "<td>0.1529814</td>\n",
       "<td>0.1418010</td>\n",
       "<td>0.2444309</td>\n",
       "<td>0.2331653</td>\n",
       "<td>0.0834111</td>\n",
       "<td>0.7997335</td>\n",
       "<td>-16.5787487</td>\n",
       "<td>33.2889185</td></tr>\n",
       "<tr><td></td>\n",
       "<td>13</td>\n",
       "<td>0.6999878</td>\n",
       "<td>0.1210758</td>\n",
       "<td>0.7036169</td>\n",
       "<td>1.2430026</td>\n",
       "<td>0.1290323</td>\n",
       "<td>0.1274296</td>\n",
       "<td>0.2279471</td>\n",
       "<td>0.2180617</td>\n",
       "<td>0.0703531</td>\n",
       "<td>0.8700866</td>\n",
       "<td>-29.6383056</td>\n",
       "<td>24.3002565</td></tr>\n",
       "<tr><td></td>\n",
       "<td>14</td>\n",
       "<td>0.8</td>\n",
       "<td>0.1086539</td>\n",
       "<td>0.5755459</td>\n",
       "<td>1.1595603</td>\n",
       "<td>0.1055461</td>\n",
       "<td>0.1148488</td>\n",
       "<td>0.2126451</td>\n",
       "<td>0.2051585</td>\n",
       "<td>0.0575616</td>\n",
       "<td>0.9276482</td>\n",
       "<td>-42.4454061</td>\n",
       "<td>15.9560293</td></tr>\n",
       "<tr><td></td>\n",
       "<td>15</td>\n",
       "<td>0.8999878</td>\n",
       "<td>0.0961893</td>\n",
       "<td>0.4450910</td>\n",
       "<td>1.0801834</td>\n",
       "<td>0.0816227</td>\n",
       "<td>0.1024456</td>\n",
       "<td>0.1980886</td>\n",
       "<td>0.1937472</td>\n",
       "<td>0.0445037</td>\n",
       "<td>0.9721519</td>\n",
       "<td>-55.4908979</td>\n",
       "<td>8.0183440</td></tr>\n",
       "<tr><td></td>\n",
       "<td>16</td>\n",
       "<td>1.0</td>\n",
       "<td>0.0694975</td>\n",
       "<td>0.2784470</td>\n",
       "<td>1.0</td>\n",
       "<td>0.0510628</td>\n",
       "<td>0.0872844</td>\n",
       "<td>0.1833842</td>\n",
       "<td>0.1830997</td>\n",
       "<td>0.0278481</td>\n",
       "<td>1.0</td>\n",
       "<td>-72.1553007</td>\n",
       "<td>0.0</td></tr></table></div>"
      ],
      "text/plain": [
       "    group    cumulative_data_fraction    lower_threshold    lift      cumulative_lift    response_rate    score      cumulative_response_rate    cumulative_score    capture_rate    cumulative_capture_rate    gain      cumulative_gain\n",
       "--  -------  --------------------------  -----------------  --------  -----------------  ---------------  ---------  --------------------------  ------------------  --------------  -------------------------  --------  -----------------\n",
       "    1        0.0100183                   0.558658           2.84622   2.84622            0.521951         0.623497   0.521951                    0.623497            0.0285143       0.0285143                  184.622   184.622\n",
       "    2        0.0200122                   0.500422           2.77318   2.80974            0.508557         0.528435   0.515263                    0.576024            0.0277149       0.0562292                  177.318   180.974\n",
       "    3        0.0300061                   0.460938           2.42653   2.68211            0.444988         0.479229   0.491857                    0.543785            0.0242505       0.0804797                  142.653   168.211\n",
       "    4        0.04                        0.428093           2.10655   2.53831            0.386308         0.443368   0.465486                    0.518696            0.0210526       0.101532                   110.655   153.831\n",
       "    5        0.0500183                   0.401773           2.02161   2.43482            0.370732         0.414547   0.446507                    0.497836            0.0202532       0.121785                   102.161   143.482\n",
       "    6        0.100012                    0.31769            1.97226   2.20359            0.361681         0.354877   0.404105                    0.426374            0.0986009       0.220386                   97.226    120.359\n",
       "    7        0.150006                    0.269342           1.63111   2.0128             0.29912          0.291774   0.369115                    0.381515            0.0815456       0.301932                   63.1112   101.28\n",
       "    8        0.2                         0.238557           1.50318   1.88541            0.27566          0.253214   0.345754                    0.349443            0.0751499       0.377082                   50.3182   88.541\n",
       "    9        0.300012                    0.196827           1.29231   1.68769            0.23699          0.215885   0.309497                    0.30492             0.129247        0.506329                   29.2314   68.7695\n",
       "    10       0.4                         0.170374           1.11806   1.5453             0.205034         0.18265    0.283384                    0.274356            0.111792        0.618121                   11.8058   54.5303\n",
       "    11       0.500012                    0.150131           0.981892  1.43261            0.180064         0.159762   0.262718                    0.251435            0.0982012       0.716322                   -1.8108   43.261\n",
       "    12       0.6                         0.134072           0.834213  1.33289            0.152981         0.141801   0.244431                    0.233165            0.0834111       0.799734                   -16.5787  33.2889\n",
       "    13       0.699988                    0.121076           0.703617  1.243              0.129032         0.12743    0.227947                    0.218062            0.0703531       0.870087                   -29.6383  24.3003\n",
       "    14       0.8                         0.108654           0.575546  1.15956            0.105546         0.114849   0.212645                    0.205159            0.0575616       0.927648                   -42.4454  15.956\n",
       "    15       0.899988                    0.0961893          0.445091  1.08018            0.0816227        0.102446   0.198089                    0.193747            0.0445037       0.972152                   -55.4909  8.01834\n",
       "    16       1                           0.0694975          0.278447  1                  0.0510628        0.0872844  0.183384                    0.1831              0.0278481       1                          -72.1553  0"
      ]
     },
     "metadata": {},
     "output_type": "display_data"
    },
    {
     "name": "stdout",
     "output_type": "stream",
     "text": [
      "\n"
     ]
    },
    {
     "data": {
      "text/plain": []
     },
     "execution_count": 204,
     "metadata": {},
     "output_type": "execute_result"
    }
   ],
   "source": [
    "perf = aml.leader.model_performance(test_data=test)\n",
    "perf"
   ]
  },
  {
   "cell_type": "code",
   "execution_count": 205,
   "metadata": {},
   "outputs": [
    {
     "name": "stdout",
     "output_type": "stream",
     "text": [
      "AUC: train = 0.8267, xval = 0.6833, test = 0.6866\n",
      "Logloss: train = 0.3917, xval = 0.4455, test = 0.4448\n"
     ]
    }
   ],
   "source": [
    "print(\"AUC: train = {:.4f}, xval = {:.4f}, test = {:.4f}\" \\\n",
    "      .format(aml.leader.auc(train = True), aml.leader.auc(xval = True), perf.auc()))\n",
    "print(\"Logloss: train = {:.4f}, xval = {:.4f}, test = {:.4f}\" \\\n",
    "      .format(aml.leader.logloss(train = True), aml.leader.logloss(xval = True), perf.logloss()))"
   ]
  },
  {
   "cell_type": "markdown",
   "metadata": {},
   "source": [
    "## Examine a Selected Model\n",
    "\n",
    "We demonstrate how to select any model from the leaderboard below."
   ]
  },
  {
   "cell_type": "code",
   "execution_count": 145,
   "metadata": {
    "scrolled": true
   },
   "outputs": [
    {
     "data": {
      "text/html": [
       "<table>\n",
       "<thead>\n",
       "<tr><th>model_id                                           </th><th style=\"text-align: right;\">     auc</th><th style=\"text-align: right;\">  logloss</th><th style=\"text-align: right;\">  mean_per_class_error</th><th style=\"text-align: right;\">    rmse</th><th style=\"text-align: right;\">     mse</th></tr>\n",
       "</thead>\n",
       "<tbody>\n",
       "<tr><td>StackedEnsemble_AllModels_AutoML_20190809_162540   </td><td style=\"text-align: right;\">0.683294</td><td style=\"text-align: right;\"> 0.445457</td><td style=\"text-align: right;\">              0.367797</td><td style=\"text-align: right;\">0.37423 </td><td style=\"text-align: right;\">0.140048</td></tr>\n",
       "<tr><td>StackedEnsemble_BestOfFamily_AutoML_20190809_162540</td><td style=\"text-align: right;\">0.683033</td><td style=\"text-align: right;\"> 0.44562 </td><td style=\"text-align: right;\">              0.368354</td><td style=\"text-align: right;\">0.374313</td><td style=\"text-align: right;\">0.14011 </td></tr>\n",
       "<tr><td>GBM_1_AutoML_20190809_162540                       </td><td style=\"text-align: right;\">0.6795  </td><td style=\"text-align: right;\"> 0.445064</td><td style=\"text-align: right;\">              0.371925</td><td style=\"text-align: right;\">0.374226</td><td style=\"text-align: right;\">0.140045</td></tr>\n",
       "<tr><td>XGBoost_1_AutoML_20190809_162540                   </td><td style=\"text-align: right;\">0.678888</td><td style=\"text-align: right;\"> 0.445369</td><td style=\"text-align: right;\">              0.369363</td><td style=\"text-align: right;\">0.374436</td><td style=\"text-align: right;\">0.140202</td></tr>\n",
       "<tr><td>XGBoost_3_AutoML_20190809_162540                   </td><td style=\"text-align: right;\">0.678097</td><td style=\"text-align: right;\"> 0.446038</td><td style=\"text-align: right;\">              0.372483</td><td style=\"text-align: right;\">0.374376</td><td style=\"text-align: right;\">0.140157</td></tr>\n",
       "<tr><td>XGBoost_2_AutoML_20190809_162540                   </td><td style=\"text-align: right;\">0.674272</td><td style=\"text-align: right;\"> 0.447163</td><td style=\"text-align: right;\">              0.373644</td><td style=\"text-align: right;\">0.375226</td><td style=\"text-align: right;\">0.140795</td></tr>\n",
       "<tr><td>GLM_grid_1_AutoML_20190809_162540_model_1          </td><td style=\"text-align: right;\">0.673427</td><td style=\"text-align: right;\"> 0.44771 </td><td style=\"text-align: right;\">              0.373854</td><td style=\"text-align: right;\">0.374975</td><td style=\"text-align: right;\">0.140606</td></tr>\n",
       "<tr><td>DRF_1_AutoML_20190809_162540                       </td><td style=\"text-align: right;\">0.658498</td><td style=\"text-align: right;\"> 0.454956</td><td style=\"text-align: right;\">              0.385202</td><td style=\"text-align: right;\">0.377771</td><td style=\"text-align: right;\">0.142711</td></tr>\n",
       "</tbody>\n",
       "</table>"
      ]
     },
     "metadata": {},
     "output_type": "display_data"
    },
    {
     "data": {
      "text/plain": []
     },
     "execution_count": 145,
     "metadata": {},
     "output_type": "execute_result"
    }
   ],
   "source": [
    "aml.leaderboard"
   ]
  },
  {
   "cell_type": "markdown",
   "metadata": {},
   "source": [
    "We can select an specified model from the leaderboard by indicating its position. The following code will select the best model that is not a stacked ensemble:"
   ]
  },
  {
   "cell_type": "code",
   "execution_count": 207,
   "metadata": {},
   "outputs": [],
   "source": [
    "m = aml.leaderboard['model_id'].grep(\"StackedEnsemble\", invert=True).min()\n",
    "select_model = h2o.get_model(aml.leaderboard[int(m),'model_id'])"
   ]
  },
  {
   "cell_type": "markdown",
   "metadata": {},
   "source": [
    "We can look at performance with the selected model just as we did with the top model."
   ]
  },
  {
   "cell_type": "code",
   "execution_count": 208,
   "metadata": {},
   "outputs": [
    {
     "name": "stdout",
     "output_type": "stream",
     "text": [
      "Model Details\n",
      "=============\n",
      "H2OGradientBoostingEstimator :  Gradient Boosting Machine\n",
      "Model Key:  GBM_1_AutoML_20190809_162540\n",
      "\n",
      "\n",
      "ModelMetricsBinomial: gbm\n",
      "** Reported on train data. **\n",
      "\n",
      "MSE: 0.13291337273488157\n",
      "RMSE: 0.3645728634098835\n",
      "LogLoss: 0.4247708165064435\n",
      "Mean Per-Class Error: 0.33330235944788955\n",
      "AUC: 0.7303308220861244\n",
      "pr_auc: 0.4058343768379885\n",
      "Gini: 0.46066164417224886\n",
      "Confusion Matrix (Act/Pred) for max f1 @ threshold = 0.22542114786172546: \n"
     ]
    },
    {
     "data": {
      "text/html": [
       "<div style=\"overflow:auto\"><table style=\"width:50%\"><tr><td><b></b></td>\n",
       "<td><b>0</b></td>\n",
       "<td><b>1</b></td>\n",
       "<td><b>Error</b></td>\n",
       "<td><b>Rate</b></td></tr>\n",
       "<tr><td>0</td>\n",
       "<td>79645.0</td>\n",
       "<td>20906.0</td>\n",
       "<td>0.2079</td>\n",
       "<td> (20906.0/100551.0)</td></tr>\n",
       "<tr><td>1</td>\n",
       "<td>10727.0</td>\n",
       "<td>11784.0</td>\n",
       "<td>0.4765</td>\n",
       "<td> (10727.0/22511.0)</td></tr>\n",
       "<tr><td>Total</td>\n",
       "<td>90372.0</td>\n",
       "<td>32690.0</td>\n",
       "<td>0.257</td>\n",
       "<td> (31633.0/123062.0)</td></tr></table></div>"
      ],
      "text/plain": [
       "       0      1      Error    Rate\n",
       "-----  -----  -----  -------  ------------------\n",
       "0      79645  20906  0.2079   (20906.0/100551.0)\n",
       "1      10727  11784  0.4765   (10727.0/22511.0)\n",
       "Total  90372  32690  0.257    (31633.0/123062.0)"
      ]
     },
     "metadata": {},
     "output_type": "display_data"
    },
    {
     "name": "stdout",
     "output_type": "stream",
     "text": [
      "Maximum Metrics: Maximum metrics at their respective thresholds\n",
      "\n"
     ]
    },
    {
     "data": {
      "text/html": [
       "<div style=\"overflow:auto\"><table style=\"width:50%\"><tr><td><b>metric</b></td>\n",
       "<td><b>threshold</b></td>\n",
       "<td><b>value</b></td>\n",
       "<td><b>idx</b></td></tr>\n",
       "<tr><td>max f1</td>\n",
       "<td>0.2254211</td>\n",
       "<td>0.4269488</td>\n",
       "<td>204.0</td></tr>\n",
       "<tr><td>max f2</td>\n",
       "<td>0.1272951</td>\n",
       "<td>0.5737896</td>\n",
       "<td>308.0</td></tr>\n",
       "<tr><td>max f0point5</td>\n",
       "<td>0.3115097</td>\n",
       "<td>0.4202113</td>\n",
       "<td>139.0</td></tr>\n",
       "<tr><td>max accuracy</td>\n",
       "<td>0.4197410</td>\n",
       "<td>0.8247956</td>\n",
       "<td>79.0</td></tr>\n",
       "<tr><td>max precision</td>\n",
       "<td>0.8403577</td>\n",
       "<td>1.0</td>\n",
       "<td>0.0</td></tr>\n",
       "<tr><td>max recall</td>\n",
       "<td>0.0394787</td>\n",
       "<td>1.0</td>\n",
       "<td>396.0</td></tr>\n",
       "<tr><td>max specificity</td>\n",
       "<td>0.8403577</td>\n",
       "<td>1.0</td>\n",
       "<td>0.0</td></tr>\n",
       "<tr><td>max absolute_mcc</td>\n",
       "<td>0.2400098</td>\n",
       "<td>0.2803765</td>\n",
       "<td>191.0</td></tr>\n",
       "<tr><td>max min_per_class_accuracy</td>\n",
       "<td>0.1847882</td>\n",
       "<td>0.6658967</td>\n",
       "<td>244.0</td></tr>\n",
       "<tr><td>max mean_per_class_accuracy</td>\n",
       "<td>0.1869548</td>\n",
       "<td>0.6666976</td>\n",
       "<td>242.0</td></tr></table></div>"
      ],
      "text/plain": [
       "metric                       threshold    value     idx\n",
       "---------------------------  -----------  --------  -----\n",
       "max f1                       0.225421     0.426949  204\n",
       "max f2                       0.127295     0.57379   308\n",
       "max f0point5                 0.31151      0.420211  139\n",
       "max accuracy                 0.419741     0.824796  79\n",
       "max precision                0.840358     1         0\n",
       "max recall                   0.0394787    1         396\n",
       "max specificity              0.840358     1         0\n",
       "max absolute_mcc             0.24001      0.280377  191\n",
       "max min_per_class_accuracy   0.184788     0.665897  244\n",
       "max mean_per_class_accuracy  0.186955     0.666698  242"
      ]
     },
     "metadata": {},
     "output_type": "display_data"
    },
    {
     "name": "stdout",
     "output_type": "stream",
     "text": [
      "Gains/Lift Table: Avg response rate: 18.29 %, avg score: 18.32 %\n",
      "\n"
     ]
    },
    {
     "data": {
      "text/html": [
       "<div style=\"overflow:auto\"><table style=\"width:50%\"><tr><td><b></b></td>\n",
       "<td><b>group</b></td>\n",
       "<td><b>cumulative_data_fraction</b></td>\n",
       "<td><b>lower_threshold</b></td>\n",
       "<td><b>lift</b></td>\n",
       "<td><b>cumulative_lift</b></td>\n",
       "<td><b>response_rate</b></td>\n",
       "<td><b>score</b></td>\n",
       "<td><b>cumulative_response_rate</b></td>\n",
       "<td><b>cumulative_score</b></td>\n",
       "<td><b>capture_rate</b></td>\n",
       "<td><b>cumulative_capture_rate</b></td>\n",
       "<td><b>gain</b></td>\n",
       "<td><b>cumulative_gain</b></td></tr>\n",
       "<tr><td></td>\n",
       "<td>1</td>\n",
       "<td>0.0100031</td>\n",
       "<td>0.5042576</td>\n",
       "<td>4.0767475</td>\n",
       "<td>4.0767475</td>\n",
       "<td>0.7457352</td>\n",
       "<td>0.5599777</td>\n",
       "<td>0.7457352</td>\n",
       "<td>0.5599777</td>\n",
       "<td>0.0407801</td>\n",
       "<td>0.0407801</td>\n",
       "<td>307.6747460</td>\n",
       "<td>307.6747460</td></tr>\n",
       "<tr><td></td>\n",
       "<td>2</td>\n",
       "<td>0.0200062</td>\n",
       "<td>0.4594842</td>\n",
       "<td>3.2240944</td>\n",
       "<td>3.6504209</td>\n",
       "<td>0.5897644</td>\n",
       "<td>0.4800902</td>\n",
       "<td>0.6677498</td>\n",
       "<td>0.5200340</td>\n",
       "<td>0.0322509</td>\n",
       "<td>0.0730310</td>\n",
       "<td>222.4094396</td>\n",
       "<td>265.0420928</td></tr>\n",
       "<tr><td></td>\n",
       "<td>3</td>\n",
       "<td>0.0300011</td>\n",
       "<td>0.4298388</td>\n",
       "<td>2.9422669</td>\n",
       "<td>3.4144974</td>\n",
       "<td>0.5382114</td>\n",
       "<td>0.4434445</td>\n",
       "<td>0.6245937</td>\n",
       "<td>0.4945180</td>\n",
       "<td>0.0294078</td>\n",
       "<td>0.1024388</td>\n",
       "<td>194.2266852</td>\n",
       "<td>241.4497441</td></tr>\n",
       "<tr><td></td>\n",
       "<td>4</td>\n",
       "<td>0.0400042</td>\n",
       "<td>0.4060671</td>\n",
       "<td>2.7622407</td>\n",
       "<td>3.2514001</td>\n",
       "<td>0.5052803</td>\n",
       "<td>0.4177086</td>\n",
       "<td>0.5947593</td>\n",
       "<td>0.4753117</td>\n",
       "<td>0.0276309</td>\n",
       "<td>0.1300697</td>\n",
       "<td>176.2240653</td>\n",
       "<td>225.1400121</td></tr>\n",
       "<tr><td></td>\n",
       "<td>5</td>\n",
       "<td>0.0500073</td>\n",
       "<td>0.3871626</td>\n",
       "<td>2.6512181</td>\n",
       "<td>3.1313442</td>\n",
       "<td>0.4849716</td>\n",
       "<td>0.3962212</td>\n",
       "<td>0.5727982</td>\n",
       "<td>0.4594910</td>\n",
       "<td>0.0265204</td>\n",
       "<td>0.1565901</td>\n",
       "<td>165.1218119</td>\n",
       "<td>213.1344215</td></tr>\n",
       "<tr><td></td>\n",
       "<td>6</td>\n",
       "<td>0.1000065</td>\n",
       "<td>0.3219349</td>\n",
       "<td>2.1829683</td>\n",
       "<td>2.6571948</td>\n",
       "<td>0.3993174</td>\n",
       "<td>0.3511316</td>\n",
       "<td>0.4860648</td>\n",
       "<td>0.4053157</td>\n",
       "<td>0.1091466</td>\n",
       "<td>0.2657368</td>\n",
       "<td>118.2968266</td>\n",
       "<td>165.7194771</td></tr>\n",
       "<tr><td></td>\n",
       "<td>7</td>\n",
       "<td>0.1500057</td>\n",
       "<td>0.2815025</td>\n",
       "<td>1.8213614</td>\n",
       "<td>2.3785987</td>\n",
       "<td>0.3331708</td>\n",
       "<td>0.3002627</td>\n",
       "<td>0.4351029</td>\n",
       "<td>0.3702999</td>\n",
       "<td>0.0910666</td>\n",
       "<td>0.3568033</td>\n",
       "<td>82.1361394</td>\n",
       "<td>137.8598738</td></tr>\n",
       "<tr><td></td>\n",
       "<td>8</td>\n",
       "<td>0.2000049</td>\n",
       "<td>0.2526112</td>\n",
       "<td>1.5512668</td>\n",
       "<td>2.1717742</td>\n",
       "<td>0.2837640</td>\n",
       "<td>0.2663910</td>\n",
       "<td>0.3972697</td>\n",
       "<td>0.3443237</td>\n",
       "<td>0.0775621</td>\n",
       "<td>0.4343654</td>\n",
       "<td>55.1266826</td>\n",
       "<td>117.1774163</td></tr>\n",
       "<tr><td></td>\n",
       "<td>9</td>\n",
       "<td>0.3000033</td>\n",
       "<td>0.2126497</td>\n",
       "<td>1.2878358</td>\n",
       "<td>1.8771360</td>\n",
       "<td>0.2355761</td>\n",
       "<td>0.2314778</td>\n",
       "<td>0.3433733</td>\n",
       "<td>0.3067095</td>\n",
       "<td>0.1287815</td>\n",
       "<td>0.5631469</td>\n",
       "<td>28.7835776</td>\n",
       "<td>87.7136015</td></tr>\n",
       "<tr><td></td>\n",
       "<td>10</td>\n",
       "<td>0.4000016</td>\n",
       "<td>0.1826723</td>\n",
       "<td>1.0897072</td>\n",
       "<td>1.6802828</td>\n",
       "<td>0.1993337</td>\n",
       "<td>0.1970406</td>\n",
       "<td>0.3073641</td>\n",
       "<td>0.2792928</td>\n",
       "<td>0.1089689</td>\n",
       "<td>0.6721159</td>\n",
       "<td>8.9707195</td>\n",
       "<td>68.0282809</td></tr>\n",
       "<tr><td></td>\n",
       "<td>11</td>\n",
       "<td>0.5</td>\n",
       "<td>0.1585068</td>\n",
       "<td>0.8813612</td>\n",
       "<td>1.5205011</td>\n",
       "<td>0.1612222</td>\n",
       "<td>0.1703434</td>\n",
       "<td>0.2781362</td>\n",
       "<td>0.2575033</td>\n",
       "<td>0.0881347</td>\n",
       "<td>0.7602505</td>\n",
       "<td>-11.8638779</td>\n",
       "<td>52.0501088</td></tr>\n",
       "<tr><td></td>\n",
       "<td>12</td>\n",
       "<td>0.5999984</td>\n",
       "<td>0.1380983</td>\n",
       "<td>0.7169945</td>\n",
       "<td>1.3865851</td>\n",
       "<td>0.1311555</td>\n",
       "<td>0.1480958</td>\n",
       "<td>0.2536398</td>\n",
       "<td>0.2392690</td>\n",
       "<td>0.0716983</td>\n",
       "<td>0.8319488</td>\n",
       "<td>-28.3005539</td>\n",
       "<td>38.6585131</td></tr>\n",
       "<tr><td></td>\n",
       "<td>13</td>\n",
       "<td>0.6999967</td>\n",
       "<td>0.1194117</td>\n",
       "<td>0.6343668</td>\n",
       "<td>1.2791266</td>\n",
       "<td>0.1160410</td>\n",
       "<td>0.1286640</td>\n",
       "<td>0.2339830</td>\n",
       "<td>0.2234684</td>\n",
       "<td>0.0634357</td>\n",
       "<td>0.8953845</td>\n",
       "<td>-36.5633153</td>\n",
       "<td>27.9126623</td></tr>\n",
       "<tr><td></td>\n",
       "<td>14</td>\n",
       "<td>0.7999951</td>\n",
       "<td>0.1015469</td>\n",
       "<td>0.4931003</td>\n",
       "<td>1.1808743</td>\n",
       "<td>0.0901999</td>\n",
       "<td>0.1105202</td>\n",
       "<td>0.2160103</td>\n",
       "<td>0.2093500</td>\n",
       "<td>0.0493092</td>\n",
       "<td>0.9446937</td>\n",
       "<td>-50.6899720</td>\n",
       "<td>18.0874328</td></tr>\n",
       "<tr><td></td>\n",
       "<td>15</td>\n",
       "<td>0.8999935</td>\n",
       "<td>0.0813353</td>\n",
       "<td>0.3673819</td>\n",
       "<td>1.0904871</td>\n",
       "<td>0.0672030</td>\n",
       "<td>0.0918654</td>\n",
       "<td>0.1994763</td>\n",
       "<td>0.1962963</td>\n",
       "<td>0.0367376</td>\n",
       "<td>0.9814313</td>\n",
       "<td>-63.2618080</td>\n",
       "<td>9.0487099</td></tr>\n",
       "<tr><td></td>\n",
       "<td>16</td>\n",
       "<td>1.0</td>\n",
       "<td>0.0246634</td>\n",
       "<td>0.1856749</td>\n",
       "<td>1.0</td>\n",
       "<td>0.0339644</td>\n",
       "<td>0.0655494</td>\n",
       "<td>0.1829241</td>\n",
       "<td>0.1832208</td>\n",
       "<td>0.0185687</td>\n",
       "<td>1.0</td>\n",
       "<td>-81.4325073</td>\n",
       "<td>0.0</td></tr></table></div>"
      ],
      "text/plain": [
       "    group    cumulative_data_fraction    lower_threshold    lift      cumulative_lift    response_rate    score      cumulative_response_rate    cumulative_score    capture_rate    cumulative_capture_rate    gain      cumulative_gain\n",
       "--  -------  --------------------------  -----------------  --------  -----------------  ---------------  ---------  --------------------------  ------------------  --------------  -------------------------  --------  -----------------\n",
       "    1        0.0100031                   0.504258           4.07675   4.07675            0.745735         0.559978   0.745735                    0.559978            0.0407801       0.0407801                  307.675   307.675\n",
       "    2        0.0200062                   0.459484           3.22409   3.65042            0.589764         0.48009    0.66775                     0.520034            0.0322509       0.073031                   222.409   265.042\n",
       "    3        0.0300011                   0.429839           2.94227   3.4145             0.538211         0.443444   0.624594                    0.494518            0.0294078       0.102439                   194.227   241.45\n",
       "    4        0.0400042                   0.406067           2.76224   3.2514             0.50528          0.417709   0.594759                    0.475312            0.0276309       0.13007                    176.224   225.14\n",
       "    5        0.0500073                   0.387163           2.65122   3.13134            0.484972         0.396221   0.572798                    0.459491            0.0265204       0.15659                    165.122   213.134\n",
       "    6        0.100007                    0.321935           2.18297   2.65719            0.399317         0.351132   0.486065                    0.405316            0.109147        0.265737                   118.297   165.719\n",
       "    7        0.150006                    0.281502           1.82136   2.3786             0.333171         0.300263   0.435103                    0.3703              0.0910666       0.356803                   82.1361   137.86\n",
       "    8        0.200005                    0.252611           1.55127   2.17177            0.283764         0.266391   0.39727                     0.344324            0.0775621       0.434365                   55.1267   117.177\n",
       "    9        0.300003                    0.21265            1.28784   1.87714            0.235576         0.231478   0.343373                    0.306709            0.128781        0.563147                   28.7836   87.7136\n",
       "    10       0.400002                    0.182672           1.08971   1.68028            0.199334         0.197041   0.307364                    0.279293            0.108969        0.672116                   8.97072   68.0283\n",
       "    11       0.5                         0.158507           0.881361  1.5205             0.161222         0.170343   0.278136                    0.257503            0.0881347       0.760251                   -11.8639  52.0501\n",
       "    12       0.599998                    0.138098           0.716994  1.38659            0.131156         0.148096   0.25364                     0.239269            0.0716983       0.831949                   -28.3006  38.6585\n",
       "    13       0.699997                    0.119412           0.634367  1.27913            0.116041         0.128664   0.233983                    0.223468            0.0634357       0.895384                   -36.5633  27.9127\n",
       "    14       0.799995                    0.101547           0.4931    1.18087            0.0901999        0.11052    0.21601                     0.20935             0.0493092       0.944694                   -50.69    18.0874\n",
       "    15       0.899993                    0.0813353          0.367382  1.09049            0.067203         0.0918654  0.199476                    0.196296            0.0367376       0.981431                   -63.2618  9.04871\n",
       "    16       1                           0.0246634          0.185675  1                  0.0339644        0.0655494  0.182924                    0.183221            0.0185687       1                          -81.4325  0"
      ]
     },
     "metadata": {},
     "output_type": "display_data"
    },
    {
     "name": "stdout",
     "output_type": "stream",
     "text": [
      "\n",
      "\n",
      "ModelMetricsBinomial: gbm\n",
      "** Reported on cross-validation data. **\n",
      "\n",
      "MSE: 0.14004529613705483\n",
      "RMSE: 0.3742262632914142\n",
      "LogLoss: 0.4450644856474346\n",
      "Mean Per-Class Error: 0.3704113507688005\n",
      "AUC: 0.6794998954278209\n",
      "pr_auc: 0.3172610273859076\n",
      "Gini: 0.3589997908556417\n",
      "Confusion Matrix (Act/Pred) for max f1 @ threshold = 0.19248465135358267: \n"
     ]
    },
    {
     "data": {
      "text/html": [
       "<div style=\"overflow:auto\"><table style=\"width:50%\"><tr><td><b></b></td>\n",
       "<td><b>0</b></td>\n",
       "<td><b>1</b></td>\n",
       "<td><b>Error</b></td>\n",
       "<td><b>Rate</b></td></tr>\n",
       "<tr><td>0</td>\n",
       "<td>68570.0</td>\n",
       "<td>31981.0</td>\n",
       "<td>0.3181</td>\n",
       "<td> (31981.0/100551.0)</td></tr>\n",
       "<tr><td>1</td>\n",
       "<td>9585.0</td>\n",
       "<td>12926.0</td>\n",
       "<td>0.4258</td>\n",
       "<td> (9585.0/22511.0)</td></tr>\n",
       "<tr><td>Total</td>\n",
       "<td>78155.0</td>\n",
       "<td>44907.0</td>\n",
       "<td>0.3378</td>\n",
       "<td> (41566.0/123062.0)</td></tr></table></div>"
      ],
      "text/plain": [
       "       0      1      Error    Rate\n",
       "-----  -----  -----  -------  ------------------\n",
       "0      68570  31981  0.3181   (31981.0/100551.0)\n",
       "1      9585   12926  0.4258   (9585.0/22511.0)\n",
       "Total  78155  44907  0.3378   (41566.0/123062.0)"
      ]
     },
     "metadata": {},
     "output_type": "display_data"
    },
    {
     "name": "stdout",
     "output_type": "stream",
     "text": [
      "Maximum Metrics: Maximum metrics at their respective thresholds\n",
      "\n"
     ]
    },
    {
     "data": {
      "text/html": [
       "<div style=\"overflow:auto\"><table style=\"width:50%\"><tr><td><b>metric</b></td>\n",
       "<td><b>threshold</b></td>\n",
       "<td><b>value</b></td>\n",
       "<td><b>idx</b></td></tr>\n",
       "<tr><td>max f1</td>\n",
       "<td>0.1924847</td>\n",
       "<td>0.3834584</td>\n",
       "<td>235.0</td></tr>\n",
       "<tr><td>max f2</td>\n",
       "<td>0.1147663</td>\n",
       "<td>0.5509777</td>\n",
       "<td>323.0</td></tr>\n",
       "<tr><td>max f0point5</td>\n",
       "<td>0.2687368</td>\n",
       "<td>0.3464343</td>\n",
       "<td>168.0</td></tr>\n",
       "<tr><td>max accuracy</td>\n",
       "<td>0.6076727</td>\n",
       "<td>0.8172547</td>\n",
       "<td>16.0</td></tr>\n",
       "<tr><td>max precision</td>\n",
       "<td>0.7979256</td>\n",
       "<td>1.0</td>\n",
       "<td>0.0</td></tr>\n",
       "<tr><td>max recall</td>\n",
       "<td>0.0309875</td>\n",
       "<td>1.0</td>\n",
       "<td>399.0</td></tr>\n",
       "<tr><td>max specificity</td>\n",
       "<td>0.7979256</td>\n",
       "<td>1.0</td>\n",
       "<td>0.0</td></tr>\n",
       "<tr><td>max absolute_mcc</td>\n",
       "<td>0.2196367</td>\n",
       "<td>0.2080357</td>\n",
       "<td>207.0</td></tr>\n",
       "<tr><td>max min_per_class_accuracy</td>\n",
       "<td>0.1783467</td>\n",
       "<td>0.6292130</td>\n",
       "<td>250.0</td></tr>\n",
       "<tr><td>max mean_per_class_accuracy</td>\n",
       "<td>0.1746230</td>\n",
       "<td>0.6295886</td>\n",
       "<td>254.0</td></tr></table></div>"
      ],
      "text/plain": [
       "metric                       threshold    value     idx\n",
       "---------------------------  -----------  --------  -----\n",
       "max f1                       0.192485     0.383458  235\n",
       "max f2                       0.114766     0.550978  323\n",
       "max f0point5                 0.268737     0.346434  168\n",
       "max accuracy                 0.607673     0.817255  16\n",
       "max precision                0.797926     1         0\n",
       "max recall                   0.0309875    1         399\n",
       "max specificity              0.797926     1         0\n",
       "max absolute_mcc             0.219637     0.208036  207\n",
       "max min_per_class_accuracy   0.178347     0.629213  250\n",
       "max mean_per_class_accuracy  0.174623     0.629589  254"
      ]
     },
     "metadata": {},
     "output_type": "display_data"
    },
    {
     "name": "stdout",
     "output_type": "stream",
     "text": [
      "Gains/Lift Table: Avg response rate: 18.29 %, avg score: 18.29 %\n",
      "\n"
     ]
    },
    {
     "data": {
      "text/html": [
       "<div style=\"overflow:auto\"><table style=\"width:50%\"><tr><td><b></b></td>\n",
       "<td><b>group</b></td>\n",
       "<td><b>cumulative_data_fraction</b></td>\n",
       "<td><b>lower_threshold</b></td>\n",
       "<td><b>lift</b></td>\n",
       "<td><b>cumulative_lift</b></td>\n",
       "<td><b>response_rate</b></td>\n",
       "<td><b>score</b></td>\n",
       "<td><b>cumulative_response_rate</b></td>\n",
       "<td><b>cumulative_score</b></td>\n",
       "<td><b>capture_rate</b></td>\n",
       "<td><b>cumulative_capture_rate</b></td>\n",
       "<td><b>gain</b></td>\n",
       "<td><b>cumulative_gain</b></td></tr>\n",
       "<tr><td></td>\n",
       "<td>1</td>\n",
       "<td>0.0100031</td>\n",
       "<td>0.5004928</td>\n",
       "<td>2.6023682</td>\n",
       "<td>2.6023682</td>\n",
       "<td>0.4760357</td>\n",
       "<td>0.5532510</td>\n",
       "<td>0.4760357</td>\n",
       "<td>0.5532510</td>\n",
       "<td>0.0260317</td>\n",
       "<td>0.0260317</td>\n",
       "<td>160.2368204</td>\n",
       "<td>160.2368204</td></tr>\n",
       "<tr><td></td>\n",
       "<td>2</td>\n",
       "<td>0.0200062</td>\n",
       "<td>0.4544366</td>\n",
       "<td>2.4913457</td>\n",
       "<td>2.5468569</td>\n",
       "<td>0.4557271</td>\n",
       "<td>0.4741688</td>\n",
       "<td>0.4658814</td>\n",
       "<td>0.5137099</td>\n",
       "<td>0.0249211</td>\n",
       "<td>0.0509529</td>\n",
       "<td>149.1345670</td>\n",
       "<td>154.6856937</td></tr>\n",
       "<tr><td></td>\n",
       "<td>3</td>\n",
       "<td>0.0300011</td>\n",
       "<td>0.4255485</td>\n",
       "<td>2.3067017</td>\n",
       "<td>2.4668485</td>\n",
       "<td>0.4219512</td>\n",
       "<td>0.4390791</td>\n",
       "<td>0.4512459</td>\n",
       "<td>0.4888464</td>\n",
       "<td>0.0230554</td>\n",
       "<td>0.0740083</td>\n",
       "<td>130.6701656</td>\n",
       "<td>146.6848542</td></tr>\n",
       "<tr><td></td>\n",
       "<td>4</td>\n",
       "<td>0.0400042</td>\n",
       "<td>0.4027860</td>\n",
       "<td>2.2115689</td>\n",
       "<td>2.4030157</td>\n",
       "<td>0.4045491</td>\n",
       "<td>0.4138633</td>\n",
       "<td>0.4395694</td>\n",
       "<td>0.4700968</td>\n",
       "<td>0.0221225</td>\n",
       "<td>0.0961308</td>\n",
       "<td>121.1568883</td>\n",
       "<td>140.3015663</td></tr>\n",
       "<tr><td></td>\n",
       "<td>5</td>\n",
       "<td>0.0500073</td>\n",
       "<td>0.3839916</td>\n",
       "<td>2.2915051</td>\n",
       "<td>2.3807099</td>\n",
       "<td>0.4191714</td>\n",
       "<td>0.3934086</td>\n",
       "<td>0.4354891</td>\n",
       "<td>0.4547567</td>\n",
       "<td>0.0229221</td>\n",
       "<td>0.1190529</td>\n",
       "<td>129.1505108</td>\n",
       "<td>138.0709928</td></tr>\n",
       "<tr><td></td>\n",
       "<td>6</td>\n",
       "<td>0.1000065</td>\n",
       "<td>0.3204976</td>\n",
       "<td>1.8977697</td>\n",
       "<td>2.1392594</td>\n",
       "<td>0.3471477</td>\n",
       "<td>0.3490833</td>\n",
       "<td>0.3913220</td>\n",
       "<td>0.4019243</td>\n",
       "<td>0.0948869</td>\n",
       "<td>0.2139399</td>\n",
       "<td>89.7769726</td>\n",
       "<td>113.9259448</td></tr>\n",
       "<tr><td></td>\n",
       "<td>7</td>\n",
       "<td>0.1500057</td>\n",
       "<td>0.2813159</td>\n",
       "<td>1.6303406</td>\n",
       "<td>1.9696290</td>\n",
       "<td>0.2982285</td>\n",
       "<td>0.2995201</td>\n",
       "<td>0.3602925</td>\n",
       "<td>0.3677914</td>\n",
       "<td>0.0815157</td>\n",
       "<td>0.2954556</td>\n",
       "<td>63.0340565</td>\n",
       "<td>96.9629010</td></tr>\n",
       "<tr><td></td>\n",
       "<td>8</td>\n",
       "<td>0.2000049</td>\n",
       "<td>0.2526951</td>\n",
       "<td>1.5130627</td>\n",
       "<td>1.8554921</td>\n",
       "<td>0.2767756</td>\n",
       "<td>0.2663425</td>\n",
       "<td>0.3394141</td>\n",
       "<td>0.3424302</td>\n",
       "<td>0.0756519</td>\n",
       "<td>0.3711075</td>\n",
       "<td>51.3062661</td>\n",
       "<td>85.5492060</td></tr>\n",
       "<tr><td></td>\n",
       "<td>9</td>\n",
       "<td>0.3000033</td>\n",
       "<td>0.2123973</td>\n",
       "<td>1.2967205</td>\n",
       "<td>1.6692399</td>\n",
       "<td>0.2372014</td>\n",
       "<td>0.2311342</td>\n",
       "<td>0.3053441</td>\n",
       "<td>0.3053325</td>\n",
       "<td>0.1296699</td>\n",
       "<td>0.5007774</td>\n",
       "<td>29.6720466</td>\n",
       "<td>66.9239907</td></tr>\n",
       "<tr><td></td>\n",
       "<td>10</td>\n",
       "<td>0.4000016</td>\n",
       "<td>0.1825631</td>\n",
       "<td>1.0901514</td>\n",
       "<td>1.5244707</td>\n",
       "<td>0.1994149</td>\n",
       "<td>0.1968592</td>\n",
       "<td>0.2788624</td>\n",
       "<td>0.2782148</td>\n",
       "<td>0.1090134</td>\n",
       "<td>0.6097908</td>\n",
       "<td>9.0151430</td>\n",
       "<td>52.4470728</td></tr>\n",
       "<tr><td></td>\n",
       "<td>11</td>\n",
       "<td>0.5</td>\n",
       "<td>0.1588169</td>\n",
       "<td>0.9924198</td>\n",
       "<td>1.4180623</td>\n",
       "<td>0.1815375</td>\n",
       "<td>0.1702641</td>\n",
       "<td>0.2593977</td>\n",
       "<td>0.2566250</td>\n",
       "<td>0.0992404</td>\n",
       "<td>0.7090311</td>\n",
       "<td>-0.7580157</td>\n",
       "<td>41.8062281</td></tr>\n",
       "<tr><td></td>\n",
       "<td>12</td>\n",
       "<td>0.5999984</td>\n",
       "<td>0.1382146</td>\n",
       "<td>0.8053971</td>\n",
       "<td>1.3159528</td>\n",
       "<td>0.1473265</td>\n",
       "<td>0.1482828</td>\n",
       "<td>0.2407194</td>\n",
       "<td>0.2385682</td>\n",
       "<td>0.0805384</td>\n",
       "<td>0.7895695</td>\n",
       "<td>-19.4602876</td>\n",
       "<td>31.5952804</td></tr>\n",
       "<tr><td></td>\n",
       "<td>13</td>\n",
       "<td>0.6999967</td>\n",
       "<td>0.1196465</td>\n",
       "<td>0.7103309</td>\n",
       "<td>1.2294364</td>\n",
       "<td>0.1299366</td>\n",
       "<td>0.1288930</td>\n",
       "<td>0.2248935</td>\n",
       "<td>0.2229005</td>\n",
       "<td>0.0710319</td>\n",
       "<td>0.8606015</td>\n",
       "<td>-28.9669056</td>\n",
       "<td>22.9436400</td></tr>\n",
       "<tr><td></td>\n",
       "<td>14</td>\n",
       "<td>0.7999951</td>\n",
       "<td>0.1016180</td>\n",
       "<td>0.5957184</td>\n",
       "<td>1.1502225</td>\n",
       "<td>0.1089712</td>\n",
       "<td>0.1107116</td>\n",
       "<td>0.2104034</td>\n",
       "<td>0.2088770</td>\n",
       "<td>0.0595709</td>\n",
       "<td>0.9201724</td>\n",
       "<td>-40.4281554</td>\n",
       "<td>15.0222460</td></tr>\n",
       "<tr><td></td>\n",
       "<td>15</td>\n",
       "<td>0.8999935</td>\n",
       "<td>0.0813913</td>\n",
       "<td>0.5073158</td>\n",
       "<td>1.0787890</td>\n",
       "<td>0.0928003</td>\n",
       "<td>0.0918884</td>\n",
       "<td>0.1973365</td>\n",
       "<td>0.1958784</td>\n",
       "<td>0.0507308</td>\n",
       "<td>0.9709031</td>\n",
       "<td>-49.2684217</td>\n",
       "<td>7.8789030</td></tr>\n",
       "<tr><td></td>\n",
       "<td>16</td>\n",
       "<td>1.0</td>\n",
       "<td>0.0274559</td>\n",
       "<td>0.2909499</td>\n",
       "<td>1.0</td>\n",
       "<td>0.0532217</td>\n",
       "<td>0.0659606</td>\n",
       "<td>0.1829241</td>\n",
       "<td>0.1828858</td>\n",
       "<td>0.0290969</td>\n",
       "<td>1.0</td>\n",
       "<td>-70.9050054</td>\n",
       "<td>0.0</td></tr></table></div>"
      ],
      "text/plain": [
       "    group    cumulative_data_fraction    lower_threshold    lift      cumulative_lift    response_rate    score      cumulative_response_rate    cumulative_score    capture_rate    cumulative_capture_rate    gain       cumulative_gain\n",
       "--  -------  --------------------------  -----------------  --------  -----------------  ---------------  ---------  --------------------------  ------------------  --------------  -------------------------  ---------  -----------------\n",
       "    1        0.0100031                   0.500493           2.60237   2.60237            0.476036         0.553251   0.476036                    0.553251            0.0260317       0.0260317                  160.237    160.237\n",
       "    2        0.0200062                   0.454437           2.49135   2.54686            0.455727         0.474169   0.465881                    0.51371             0.0249211       0.0509529                  149.135    154.686\n",
       "    3        0.0300011                   0.425548           2.3067    2.46685            0.421951         0.439079   0.451246                    0.488846            0.0230554       0.0740083                  130.67     146.685\n",
       "    4        0.0400042                   0.402786           2.21157   2.40302            0.404549         0.413863   0.439569                    0.470097            0.0221225       0.0961308                  121.157    140.302\n",
       "    5        0.0500073                   0.383992           2.29151   2.38071            0.419171         0.393409   0.435489                    0.454757            0.0229221       0.119053                   129.151    138.071\n",
       "    6        0.100007                    0.320498           1.89777   2.13926            0.347148         0.349083   0.391322                    0.401924            0.0948869       0.21394                    89.777     113.926\n",
       "    7        0.150006                    0.281316           1.63034   1.96963            0.298229         0.29952    0.360293                    0.367791            0.0815157       0.295456                   63.0341    96.9629\n",
       "    8        0.200005                    0.252695           1.51306   1.85549            0.276776         0.266342   0.339414                    0.34243             0.0756519       0.371107                   51.3063    85.5492\n",
       "    9        0.300003                    0.212397           1.29672   1.66924            0.237201         0.231134   0.305344                    0.305333            0.12967         0.500777                   29.672     66.924\n",
       "    10       0.400002                    0.182563           1.09015   1.52447            0.199415         0.196859   0.278862                    0.278215            0.109013        0.609791                   9.01514    52.4471\n",
       "    11       0.5                         0.158817           0.99242   1.41806            0.181537         0.170264   0.259398                    0.256625            0.0992404       0.709031                   -0.758016  41.8062\n",
       "    12       0.599998                    0.138215           0.805397  1.31595            0.147327         0.148283   0.240719                    0.238568            0.0805384       0.78957                    -19.4603   31.5953\n",
       "    13       0.699997                    0.119647           0.710331  1.22944            0.129937         0.128893   0.224893                    0.2229              0.0710319       0.860601                   -28.9669   22.9436\n",
       "    14       0.799995                    0.101618           0.595718  1.15022            0.108971         0.110712   0.210403                    0.208877            0.0595709       0.920172                   -40.4282   15.0222\n",
       "    15       0.899993                    0.0813913          0.507316  1.07879            0.0928003        0.0918884  0.197336                    0.195878            0.0507308       0.970903                   -49.2684   7.8789\n",
       "    16       1                           0.0274559          0.29095   1                  0.0532217        0.0659606  0.182924                    0.182886            0.0290969       1                          -70.905    0"
      ]
     },
     "metadata": {},
     "output_type": "display_data"
    },
    {
     "name": "stdout",
     "output_type": "stream",
     "text": [
      "\n",
      "Cross-Validation Metrics Summary: \n"
     ]
    },
    {
     "data": {
      "text/html": [
       "<div style=\"overflow:auto\"><table style=\"width:50%\"><tr><td><b></b></td>\n",
       "<td><b>mean</b></td>\n",
       "<td><b>sd</b></td>\n",
       "<td><b>cv_1_valid</b></td>\n",
       "<td><b>cv_2_valid</b></td>\n",
       "<td><b>cv_3_valid</b></td>\n",
       "<td><b>cv_4_valid</b></td>\n",
       "<td><b>cv_5_valid</b></td></tr>\n",
       "<tr><td>accuracy</td>\n",
       "<td>0.6432450</td>\n",
       "<td>0.0174590</td>\n",
       "<td>0.6063056</td>\n",
       "<td>0.6566855</td>\n",
       "<td>0.671136</td>\n",
       "<td>0.6221355</td>\n",
       "<td>0.6599626</td></tr>\n",
       "<tr><td>auc</td>\n",
       "<td>0.6796409</td>\n",
       "<td>0.0024435</td>\n",
       "<td>0.6772523</td>\n",
       "<td>0.6855043</td>\n",
       "<td>0.6755881</td>\n",
       "<td>0.678699</td>\n",
       "<td>0.6811607</td></tr>\n",
       "<tr><td>err</td>\n",
       "<td>0.3567549</td>\n",
       "<td>0.0174590</td>\n",
       "<td>0.3936944</td>\n",
       "<td>0.3433145</td>\n",
       "<td>0.3288640</td>\n",
       "<td>0.3778645</td>\n",
       "<td>0.3400374</td></tr>\n",
       "<tr><td>err_count</td>\n",
       "<td>8780.6</td>\n",
       "<td>429.7575</td>\n",
       "<td>9690.0</td>\n",
       "<td>8450.0</td>\n",
       "<td>8094.0</td>\n",
       "<td>9300.0</td>\n",
       "<td>8369.0</td></tr>\n",
       "<tr><td>f0point5</td>\n",
       "<td>0.3152068</td>\n",
       "<td>0.0033204</td>\n",
       "<td>0.3082449</td>\n",
       "<td>0.3164223</td>\n",
       "<td>0.3208335</td>\n",
       "<td>0.3114827</td>\n",
       "<td>0.3190504</td></tr>\n",
       "<tr><td>f1</td>\n",
       "<td>0.3843272</td>\n",
       "<td>0.0013654</td>\n",
       "<td>0.3853863</td>\n",
       "<td>0.3842903</td>\n",
       "<td>0.3807192</td>\n",
       "<td>0.3863816</td>\n",
       "<td>0.3848585</td></tr>\n",
       "<tr><td>f2</td>\n",
       "<td>0.4929825</td>\n",
       "<td>0.0117880</td>\n",
       "<td>0.5140266</td>\n",
       "<td>0.4892212</td>\n",
       "<td>0.4680915</td>\n",
       "<td>0.5087042</td>\n",
       "<td>0.4848687</td></tr>\n",
       "<tr><td>lift_top_group</td>\n",
       "<td>2.575858</td>\n",
       "<td>0.0761591</td>\n",
       "<td>2.7541387</td>\n",
       "<td>2.644316</td>\n",
       "<td>2.4789197</td>\n",
       "<td>2.479573</td>\n",
       "<td>2.5223434</td></tr>\n",
       "<tr><td>logloss</td>\n",
       "<td>0.4450645</td>\n",
       "<td>0.0032438</td>\n",
       "<td>0.4505163</td>\n",
       "<td>0.4374712</td>\n",
       "<td>0.4466668</td>\n",
       "<td>0.4480845</td>\n",
       "<td>0.4425837</td></tr>\n",
       "<tr><td>max_per_class_error</td>\n",
       "<td>0.4104134</td>\n",
       "<td>0.0148862</td>\n",
       "<td>0.4062843</td>\n",
       "<td>0.4019052</td>\n",
       "<td>0.4473567</td>\n",
       "<td>0.3829904</td>\n",
       "<td>0.4135305</td></tr>\n",
       "<tr><td>mcc</td>\n",
       "<td>0.2057439</td>\n",
       "<td>0.0030735</td>\n",
       "<td>0.1994768</td>\n",
       "<td>0.2115491</td>\n",
       "<td>0.2031348</td>\n",
       "<td>0.2050477</td>\n",
       "<td>0.2095113</td></tr>\n",
       "<tr><td>mean_per_class_accuracy</td>\n",
       "<td>0.6297258</td>\n",
       "<td>0.0021602</td>\n",
       "<td>0.6274346</td>\n",
       "<td>0.6337831</td>\n",
       "<td>0.6251531</td>\n",
       "<td>0.6309007</td>\n",
       "<td>0.6313577</td></tr>\n",
       "<tr><td>mean_per_class_error</td>\n",
       "<td>0.3702742</td>\n",
       "<td>0.0021602</td>\n",
       "<td>0.3725655</td>\n",
       "<td>0.3662169</td>\n",
       "<td>0.3748469</td>\n",
       "<td>0.3690992</td>\n",
       "<td>0.3686423</td></tr>\n",
       "<tr><td>mse</td>\n",
       "<td>0.1400453</td>\n",
       "<td>0.0012864</td>\n",
       "<td>0.1421145</td>\n",
       "<td>0.1370455</td>\n",
       "<td>0.1406538</td>\n",
       "<td>0.1413992</td>\n",
       "<td>0.1390135</td></tr>\n",
       "<tr><td>precision</td>\n",
       "<td>0.2815334</td>\n",
       "<td>0.0047819</td>\n",
       "<td>0.2719542</td>\n",
       "<td>0.2830918</td>\n",
       "<td>0.2903828</td>\n",
       "<td>0.2758361</td>\n",
       "<td>0.2864019</td></tr>\n",
       "<tr><td>r2</td>\n",
       "<td>0.0629849</td>\n",
       "<td>0.0022568</td>\n",
       "<td>0.0640313</td>\n",
       "<td>0.0679989</td>\n",
       "<td>0.0589172</td>\n",
       "<td>0.0602331</td>\n",
       "<td>0.0637439</td></tr>\n",
       "<tr><td>recall</td>\n",
       "<td>0.6086306</td>\n",
       "<td>0.0279338</td>\n",
       "<td>0.6611534</td>\n",
       "<td>0.5980948</td>\n",
       "<td>0.5526433</td>\n",
       "<td>0.6447919</td>\n",
       "<td>0.5864695</td></tr>\n",
       "<tr><td>rmse</td>\n",
       "<td>0.3742183</td>\n",
       "<td>0.0017219</td>\n",
       "<td>0.3769808</td>\n",
       "<td>0.3701966</td>\n",
       "<td>0.3750384</td>\n",
       "<td>0.3760308</td>\n",
       "<td>0.3728451</td></tr>\n",
       "<tr><td>specificity</td>\n",
       "<td>0.6508210</td>\n",
       "<td>0.0275548</td>\n",
       "<td>0.5937157</td>\n",
       "<td>0.6694714</td>\n",
       "<td>0.6976628</td>\n",
       "<td>0.6170096</td>\n",
       "<td>0.6762458</td></tr></table></div>"
      ],
      "text/plain": [
       "                         mean       sd          cv_1_valid    cv_2_valid    cv_3_valid    cv_4_valid    cv_5_valid\n",
       "-----------------------  ---------  ----------  ------------  ------------  ------------  ------------  ------------\n",
       "accuracy                 0.643245   0.017459    0.606306      0.656686      0.671136      0.622135      0.659963\n",
       "auc                      0.679641   0.00244351  0.677252      0.685504      0.675588      0.678699      0.681161\n",
       "err                      0.356755   0.017459    0.393694      0.343315      0.328864      0.377864      0.340037\n",
       "err_count                8780.6     429.757     9690          8450          8094          9300          8369\n",
       "f0point5                 0.315207   0.00332036  0.308245      0.316422      0.320834      0.311483      0.31905\n",
       "f1                       0.384327   0.00136542  0.385386      0.38429       0.380719      0.386382      0.384859\n",
       "f2                       0.492982   0.011788    0.514027      0.489221      0.468092      0.508704      0.484869\n",
       "lift_top_group           2.57586    0.0761591   2.75414       2.64432       2.47892       2.47957       2.52234\n",
       "logloss                  0.445064   0.00324379  0.450516      0.437471      0.446667      0.448085      0.442584\n",
       "max_per_class_error      0.410413   0.0148862   0.406284      0.401905      0.447357      0.38299       0.41353\n",
       "mcc                      0.205744   0.00307349  0.199477      0.211549      0.203135      0.205048      0.209511\n",
       "mean_per_class_accuracy  0.629726   0.00216021  0.627435      0.633783      0.625153      0.630901      0.631358\n",
       "mean_per_class_error     0.370274   0.00216021  0.372565      0.366217      0.374847      0.369099      0.368642\n",
       "mse                      0.140045   0.0012864   0.142115      0.137045      0.140654      0.141399      0.139014\n",
       "precision                0.281533   0.00478189  0.271954      0.283092      0.290383      0.275836      0.286402\n",
       "r2                       0.0629849  0.00225676  0.0640313     0.0679989     0.0589172     0.0602331     0.0637439\n",
       "recall                   0.608631   0.0279338   0.661153      0.598095      0.552643      0.644792      0.58647\n",
       "rmse                     0.374218   0.00172189  0.376981      0.370197      0.375038      0.376031      0.372845\n",
       "specificity              0.650821   0.0275548   0.593716      0.669471      0.697663      0.61701       0.676246"
      ]
     },
     "metadata": {},
     "output_type": "display_data"
    },
    {
     "name": "stdout",
     "output_type": "stream",
     "text": [
      "Scoring History: \n"
     ]
    },
    {
     "data": {
      "text/html": [
       "<div style=\"overflow:auto\"><table style=\"width:50%\"><tr><td><b></b></td>\n",
       "<td><b>timestamp</b></td>\n",
       "<td><b>duration</b></td>\n",
       "<td><b>number_of_trees</b></td>\n",
       "<td><b>training_rmse</b></td>\n",
       "<td><b>training_logloss</b></td>\n",
       "<td><b>training_auc</b></td>\n",
       "<td><b>training_pr_auc</b></td>\n",
       "<td><b>training_lift</b></td>\n",
       "<td><b>training_classification_error</b></td></tr>\n",
       "<tr><td></td>\n",
       "<td>2019-08-09 16:35:46</td>\n",
       "<td>13.551 sec</td>\n",
       "<td>0.0</td>\n",
       "<td>0.3866042</td>\n",
       "<td>0.4757985</td>\n",
       "<td>0.5</td>\n",
       "<td>0.0</td>\n",
       "<td>1.0</td>\n",
       "<td>0.8170759</td></tr>\n",
       "<tr><td></td>\n",
       "<td>2019-08-09 16:35:46</td>\n",
       "<td>13.679 sec</td>\n",
       "<td>5.0</td>\n",
       "<td>0.3788228</td>\n",
       "<td>0.4569773</td>\n",
       "<td>0.6887145</td>\n",
       "<td>0.3431482</td>\n",
       "<td>3.2640625</td>\n",
       "<td>0.3290943</td></tr>\n",
       "<tr><td></td>\n",
       "<td>2019-08-09 16:35:46</td>\n",
       "<td>13.838 sec</td>\n",
       "<td>10.0</td>\n",
       "<td>0.3749243</td>\n",
       "<td>0.4480376</td>\n",
       "<td>0.6980768</td>\n",
       "<td>0.3557118</td>\n",
       "<td>3.4639031</td>\n",
       "<td>0.3132730</td></tr>\n",
       "<tr><td></td>\n",
       "<td>2019-08-09 16:35:46</td>\n",
       "<td>14.002 sec</td>\n",
       "<td>15.0</td>\n",
       "<td>0.3722562</td>\n",
       "<td>0.4420540</td>\n",
       "<td>0.7027369</td>\n",
       "<td>0.3644416</td>\n",
       "<td>3.6370982</td>\n",
       "<td>0.2979880</td></tr>\n",
       "<tr><td></td>\n",
       "<td>2019-08-09 16:35:46</td>\n",
       "<td>14.163 sec</td>\n",
       "<td>20.0</td>\n",
       "<td>0.3704906</td>\n",
       "<td>0.4380444</td>\n",
       "<td>0.7077085</td>\n",
       "<td>0.3713763</td>\n",
       "<td>3.7703253</td>\n",
       "<td>0.2994669</td></tr>\n",
       "<tr><td></td>\n",
       "<td>2019-08-09 16:35:46</td>\n",
       "<td>14.338 sec</td>\n",
       "<td>25.0</td>\n",
       "<td>0.3690293</td>\n",
       "<td>0.4347561</td>\n",
       "<td>0.7123656</td>\n",
       "<td>0.3787356</td>\n",
       "<td>3.8058525</td>\n",
       "<td>0.2968585</td></tr>\n",
       "<tr><td></td>\n",
       "<td>2019-08-09 16:35:47</td>\n",
       "<td>14.498 sec</td>\n",
       "<td>30.0</td>\n",
       "<td>0.3679367</td>\n",
       "<td>0.4323049</td>\n",
       "<td>0.7163146</td>\n",
       "<td>0.3845538</td>\n",
       "<td>3.8813478</td>\n",
       "<td>0.2796477</td></tr>\n",
       "<tr><td></td>\n",
       "<td>2019-08-09 16:35:47</td>\n",
       "<td>14.660 sec</td>\n",
       "<td>35.0</td>\n",
       "<td>0.3670078</td>\n",
       "<td>0.4301987</td>\n",
       "<td>0.7202959</td>\n",
       "<td>0.3898166</td>\n",
       "<td>3.8724660</td>\n",
       "<td>0.3029936</td></tr>\n",
       "<tr><td></td>\n",
       "<td>2019-08-09 16:35:47</td>\n",
       "<td>14.815 sec</td>\n",
       "<td>40.0</td>\n",
       "<td>0.3662707</td>\n",
       "<td>0.4284879</td>\n",
       "<td>0.7236106</td>\n",
       "<td>0.3940996</td>\n",
       "<td>3.9213159</td>\n",
       "<td>0.3024573</td></tr>\n",
       "<tr><td></td>\n",
       "<td>2019-08-09 16:35:47</td>\n",
       "<td>14.972 sec</td>\n",
       "<td>45.0</td>\n",
       "<td>0.3655391</td>\n",
       "<td>0.4269068</td>\n",
       "<td>0.7261493</td>\n",
       "<td>0.3993499</td>\n",
       "<td>4.0056930</td>\n",
       "<td>0.2811510</td></tr>\n",
       "<tr><td></td>\n",
       "<td>2019-08-09 16:35:47</td>\n",
       "<td>15.132 sec</td>\n",
       "<td>50.0</td>\n",
       "<td>0.3647317</td>\n",
       "<td>0.4251226</td>\n",
       "<td>0.7295928</td>\n",
       "<td>0.4047089</td>\n",
       "<td>4.0634248</td>\n",
       "<td>0.2703028</td></tr>\n",
       "<tr><td></td>\n",
       "<td>2019-08-09 16:35:47</td>\n",
       "<td>15.207 sec</td>\n",
       "<td>51.0</td>\n",
       "<td>0.3645729</td>\n",
       "<td>0.4247708</td>\n",
       "<td>0.7303308</td>\n",
       "<td>0.4058344</td>\n",
       "<td>4.0767475</td>\n",
       "<td>0.2570493</td></tr></table></div>"
      ],
      "text/plain": [
       "    timestamp            duration    number_of_trees    training_rmse    training_logloss    training_auc    training_pr_auc    training_lift    training_classification_error\n",
       "--  -------------------  ----------  -----------------  ---------------  ------------------  --------------  -----------------  ---------------  -------------------------------\n",
       "    2019-08-09 16:35:46  13.551 sec  0                  0.386604         0.475799            0.5             0                  1                0.817076\n",
       "    2019-08-09 16:35:46  13.679 sec  5                  0.378823         0.456977            0.688714        0.343148           3.26406          0.329094\n",
       "    2019-08-09 16:35:46  13.838 sec  10                 0.374924         0.448038            0.698077        0.355712           3.4639           0.313273\n",
       "    2019-08-09 16:35:46  14.002 sec  15                 0.372256         0.442054            0.702737        0.364442           3.6371           0.297988\n",
       "    2019-08-09 16:35:46  14.163 sec  20                 0.370491         0.438044            0.707708        0.371376           3.77033          0.299467\n",
       "    2019-08-09 16:35:46  14.338 sec  25                 0.369029         0.434756            0.712366        0.378736           3.80585          0.296858\n",
       "    2019-08-09 16:35:47  14.498 sec  30                 0.367937         0.432305            0.716315        0.384554           3.88135          0.279648\n",
       "    2019-08-09 16:35:47  14.660 sec  35                 0.367008         0.430199            0.720296        0.389817           3.87247          0.302994\n",
       "    2019-08-09 16:35:47  14.815 sec  40                 0.366271         0.428488            0.723611        0.3941             3.92132          0.302457\n",
       "    2019-08-09 16:35:47  14.972 sec  45                 0.365539         0.426907            0.726149        0.39935            4.00569          0.281151\n",
       "    2019-08-09 16:35:47  15.132 sec  50                 0.364732         0.425123            0.729593        0.404709           4.06342          0.270303\n",
       "    2019-08-09 16:35:47  15.207 sec  51                 0.364573         0.424771            0.730331        0.405834           4.07675          0.257049"
      ]
     },
     "metadata": {},
     "output_type": "display_data"
    },
    {
     "name": "stdout",
     "output_type": "stream",
     "text": [
      "Variable Importances: \n"
     ]
    },
    {
     "data": {
      "text/html": [
       "<div style=\"overflow:auto\"><table style=\"width:50%\"><tr><td><b>variable</b></td>\n",
       "<td><b>relative_importance</b></td>\n",
       "<td><b>scaled_importance</b></td>\n",
       "<td><b>percentage</b></td></tr>\n",
       "<tr><td>addr_state</td>\n",
       "<td>1936.1915283</td>\n",
       "<td>1.0</td>\n",
       "<td>0.2027364</td></tr>\n",
       "<tr><td>term</td>\n",
       "<td>1887.4870605</td>\n",
       "<td>0.9748452</td>\n",
       "<td>0.1976366</td></tr>\n",
       "<tr><td>annual_inc</td>\n",
       "<td>1225.1881104</td>\n",
       "<td>0.6327825</td>\n",
       "<td>0.1282880</td></tr>\n",
       "<tr><td>revol_util</td>\n",
       "<td>1020.9816895</td>\n",
       "<td>0.5273144</td>\n",
       "<td>0.1069058</td></tr>\n",
       "<tr><td>dti</td>\n",
       "<td>943.7391357</td>\n",
       "<td>0.4874203</td>\n",
       "<td>0.0988178</td></tr>\n",
       "<tr><td>purpose</td>\n",
       "<td>756.5767822</td>\n",
       "<td>0.3907551</td>\n",
       "<td>0.0792203</td></tr>\n",
       "<tr><td>loan_amnt</td>\n",
       "<td>566.2157593</td>\n",
       "<td>0.2924379</td>\n",
       "<td>0.0592878</td></tr>\n",
       "<tr><td>emp_length</td>\n",
       "<td>277.0203247</td>\n",
       "<td>0.1430749</td>\n",
       "<td>0.0290065</td></tr>\n",
       "<tr><td>total_acc</td>\n",
       "<td>246.2066040</td>\n",
       "<td>0.1271603</td>\n",
       "<td>0.0257800</td></tr>\n",
       "<tr><td>longest_credit_length</td>\n",
       "<td>237.2908173</td>\n",
       "<td>0.1225554</td>\n",
       "<td>0.0248465</td></tr>\n",
       "<tr><td>home_ownership</td>\n",
       "<td>235.9926300</td>\n",
       "<td>0.1218850</td>\n",
       "<td>0.0247105</td></tr>\n",
       "<tr><td>delinq_2yrs</td>\n",
       "<td>153.0877533</td>\n",
       "<td>0.0790664</td>\n",
       "<td>0.0160296</td></tr>\n",
       "<tr><td>verification_status</td>\n",
       "<td>64.3122482</td>\n",
       "<td>0.0332159</td>\n",
       "<td>0.0067341</td></tr></table></div>"
      ],
      "text/plain": [
       "variable               relative_importance    scaled_importance    percentage\n",
       "---------------------  ---------------------  -------------------  ------------\n",
       "addr_state             1936.19                1                    0.202736\n",
       "term                   1887.49                0.974845             0.197637\n",
       "annual_inc             1225.19                0.632782             0.128288\n",
       "revol_util             1020.98                0.527314             0.106906\n",
       "dti                    943.739                0.48742              0.0988178\n",
       "purpose                756.577                0.390755             0.0792203\n",
       "loan_amnt              566.216                0.292438             0.0592878\n",
       "emp_length             277.02                 0.143075             0.0290065\n",
       "total_acc              246.207                0.12716              0.02578\n",
       "longest_credit_length  237.291                0.122555             0.0248465\n",
       "home_ownership         235.993                0.121885             0.0247105\n",
       "delinq_2yrs            153.088                0.0790664            0.0160296\n",
       "verification_status    64.3122                0.0332159            0.00673406"
      ]
     },
     "metadata": {},
     "output_type": "display_data"
    },
    {
     "data": {
      "text/plain": []
     },
     "execution_count": 208,
     "metadata": {},
     "output_type": "execute_result"
    }
   ],
   "source": [
    "select_model"
   ]
  },
  {
   "cell_type": "markdown",
   "metadata": {},
   "source": [
    "and performance on test data"
   ]
  },
  {
   "cell_type": "code",
   "execution_count": 209,
   "metadata": {},
   "outputs": [
    {
     "name": "stdout",
     "output_type": "stream",
     "text": [
      "\n",
      "ModelMetricsBinomial: gbm\n",
      "** Reported on test data. **\n",
      "\n",
      "MSE: 0.1398713964765848\n",
      "RMSE: 0.3739938455062928\n",
      "LogLoss: 0.4443729255366117\n",
      "Mean Per-Class Error: 0.3658939920762978\n",
      "AUC: 0.6836106688898005\n",
      "pr_auc: 0.3222997213245483\n",
      "Gini: 0.367221337779601\n",
      "Confusion Matrix (Act/Pred) for max f1 @ threshold = 0.1851689211721298: \n"
     ]
    },
    {
     "data": {
      "text/html": [
       "<div style=\"overflow:auto\"><table style=\"width:50%\"><tr><td><b></b></td>\n",
       "<td><b>0</b></td>\n",
       "<td><b>1</b></td>\n",
       "<td><b>Error</b></td>\n",
       "<td><b>Rate</b></td></tr>\n",
       "<tr><td>0</td>\n",
       "<td>21824.0</td>\n",
       "<td>11596.0</td>\n",
       "<td>0.347</td>\n",
       "<td> (11596.0/33420.0)</td></tr>\n",
       "<tr><td>1</td>\n",
       "<td>2888.0</td>\n",
       "<td>4617.0</td>\n",
       "<td>0.3848</td>\n",
       "<td> (2888.0/7505.0)</td></tr>\n",
       "<tr><td>Total</td>\n",
       "<td>24712.0</td>\n",
       "<td>16213.0</td>\n",
       "<td>0.3539</td>\n",
       "<td> (14484.0/40925.0)</td></tr></table></div>"
      ],
      "text/plain": [
       "       0      1      Error    Rate\n",
       "-----  -----  -----  -------  -----------------\n",
       "0      21824  11596  0.347    (11596.0/33420.0)\n",
       "1      2888   4617   0.3848   (2888.0/7505.0)\n",
       "Total  24712  16213  0.3539   (14484.0/40925.0)"
      ]
     },
     "metadata": {},
     "output_type": "display_data"
    },
    {
     "name": "stdout",
     "output_type": "stream",
     "text": [
      "Maximum Metrics: Maximum metrics at their respective thresholds\n",
      "\n"
     ]
    },
    {
     "data": {
      "text/html": [
       "<div style=\"overflow:auto\"><table style=\"width:50%\"><tr><td><b>metric</b></td>\n",
       "<td><b>threshold</b></td>\n",
       "<td><b>value</b></td>\n",
       "<td><b>idx</b></td></tr>\n",
       "<tr><td>max f1</td>\n",
       "<td>0.1851689</td>\n",
       "<td>0.3893246</td>\n",
       "<td>243.0</td></tr>\n",
       "<tr><td>max f2</td>\n",
       "<td>0.1188924</td>\n",
       "<td>0.5563182</td>\n",
       "<td>316.0</td></tr>\n",
       "<tr><td>max f0point5</td>\n",
       "<td>0.2681546</td>\n",
       "<td>0.3517065</td>\n",
       "<td>166.0</td></tr>\n",
       "<tr><td>max accuracy</td>\n",
       "<td>0.4566878</td>\n",
       "<td>0.8169334</td>\n",
       "<td>57.0</td></tr>\n",
       "<tr><td>max precision</td>\n",
       "<td>0.8577351</td>\n",
       "<td>1.0</td>\n",
       "<td>0.0</td></tr>\n",
       "<tr><td>max recall</td>\n",
       "<td>0.0310456</td>\n",
       "<td>1.0</td>\n",
       "<td>399.0</td></tr>\n",
       "<tr><td>max specificity</td>\n",
       "<td>0.8577351</td>\n",
       "<td>1.0</td>\n",
       "<td>0.0</td></tr>\n",
       "<tr><td>max absolute_mcc</td>\n",
       "<td>0.2048728</td>\n",
       "<td>0.2122899</td>\n",
       "<td>223.0</td></tr>\n",
       "<tr><td>max min_per_class_accuracy</td>\n",
       "<td>0.1796356</td>\n",
       "<td>0.6317122</td>\n",
       "<td>249.0</td></tr>\n",
       "<tr><td>max mean_per_class_accuracy</td>\n",
       "<td>0.1851689</td>\n",
       "<td>0.6341060</td>\n",
       "<td>243.0</td></tr></table></div>"
      ],
      "text/plain": [
       "metric                       threshold    value     idx\n",
       "---------------------------  -----------  --------  -----\n",
       "max f1                       0.185169     0.389325  243\n",
       "max f2                       0.118892     0.556318  316\n",
       "max f0point5                 0.268155     0.351706  166\n",
       "max accuracy                 0.456688     0.816933  57\n",
       "max precision                0.857735     1         0\n",
       "max recall                   0.0310456    1         399\n",
       "max specificity              0.857735     1         0\n",
       "max absolute_mcc             0.204873     0.21229   223\n",
       "max min_per_class_accuracy   0.179636     0.631712  249\n",
       "max mean_per_class_accuracy  0.185169     0.634106  243"
      ]
     },
     "metadata": {},
     "output_type": "display_data"
    },
    {
     "name": "stdout",
     "output_type": "stream",
     "text": [
      "Gains/Lift Table: Avg response rate: 18.34 %, avg score: 18.31 %\n",
      "\n"
     ]
    },
    {
     "data": {
      "text/html": [
       "<div style=\"overflow:auto\"><table style=\"width:50%\"><tr><td><b></b></td>\n",
       "<td><b>group</b></td>\n",
       "<td><b>cumulative_data_fraction</b></td>\n",
       "<td><b>lower_threshold</b></td>\n",
       "<td><b>lift</b></td>\n",
       "<td><b>cumulative_lift</b></td>\n",
       "<td><b>response_rate</b></td>\n",
       "<td><b>score</b></td>\n",
       "<td><b>cumulative_response_rate</b></td>\n",
       "<td><b>cumulative_score</b></td>\n",
       "<td><b>capture_rate</b></td>\n",
       "<td><b>cumulative_capture_rate</b></td>\n",
       "<td><b>gain</b></td>\n",
       "<td><b>cumulative_gain</b></td></tr>\n",
       "<tr><td></td>\n",
       "<td>1</td>\n",
       "<td>0.0100183</td>\n",
       "<td>0.4989193</td>\n",
       "<td>2.6600153</td>\n",
       "<td>2.6600153</td>\n",
       "<td>0.4878049</td>\n",
       "<td>0.5517604</td>\n",
       "<td>0.4878049</td>\n",
       "<td>0.5517604</td>\n",
       "<td>0.0266489</td>\n",
       "<td>0.0266489</td>\n",
       "<td>166.0015274</td>\n",
       "<td>166.0015274</td></tr>\n",
       "<tr><td></td>\n",
       "<td>2</td>\n",
       "<td>0.0200122</td>\n",
       "<td>0.4552835</td>\n",
       "<td>2.8665079</td>\n",
       "<td>2.7631355</td>\n",
       "<td>0.5256724</td>\n",
       "<td>0.4756856</td>\n",
       "<td>0.5067155</td>\n",
       "<td>0.5137695</td>\n",
       "<td>0.0286476</td>\n",
       "<td>0.0552965</td>\n",
       "<td>186.6507903</td>\n",
       "<td>176.3135525</td></tr>\n",
       "<tr><td></td>\n",
       "<td>3</td>\n",
       "<td>0.0300061</td>\n",
       "<td>0.4244702</td>\n",
       "<td>2.3865345</td>\n",
       "<td>2.6377041</td>\n",
       "<td>0.4376528</td>\n",
       "<td>0.4390883</td>\n",
       "<td>0.4837134</td>\n",
       "<td>0.4888960</td>\n",
       "<td>0.0238508</td>\n",
       "<td>0.0791472</td>\n",
       "<td>138.6534486</td>\n",
       "<td>163.7704071</td></tr>\n",
       "<tr><td></td>\n",
       "<td>4</td>\n",
       "<td>0.04</td>\n",
       "<td>0.4019499</td>\n",
       "<td>2.0532196</td>\n",
       "<td>2.4916722</td>\n",
       "<td>0.3765281</td>\n",
       "<td>0.4128601</td>\n",
       "<td>0.4569334</td>\n",
       "<td>0.4698987</td>\n",
       "<td>0.0205197</td>\n",
       "<td>0.0996669</td>\n",
       "<td>105.3219614</td>\n",
       "<td>149.1672219</td></tr>\n",
       "<tr><td></td>\n",
       "<td>5</td>\n",
       "<td>0.0500183</td>\n",
       "<td>0.3832927</td>\n",
       "<td>1.9817114</td>\n",
       "<td>2.3895306</td>\n",
       "<td>0.3634146</td>\n",
       "<td>0.3916272</td>\n",
       "<td>0.4382022</td>\n",
       "<td>0.4542214</td>\n",
       "<td>0.0198534</td>\n",
       "<td>0.1195203</td>\n",
       "<td>98.1711379</td>\n",
       "<td>138.9530575</td></tr>\n",
       "<tr><td></td>\n",
       "<td>6</td>\n",
       "<td>0.1000122</td>\n",
       "<td>0.3198871</td>\n",
       "<td>1.8656510</td>\n",
       "<td>2.1276548</td>\n",
       "<td>0.3421310</td>\n",
       "<td>0.3490580</td>\n",
       "<td>0.3901784</td>\n",
       "<td>0.4016525</td>\n",
       "<td>0.0932712</td>\n",
       "<td>0.2127915</td>\n",
       "<td>86.5650987</td>\n",
       "<td>112.7654778</td></tr>\n",
       "<tr><td></td>\n",
       "<td>7</td>\n",
       "<td>0.1500061</td>\n",
       "<td>0.2802386</td>\n",
       "<td>1.7243946</td>\n",
       "<td>1.9932566</td>\n",
       "<td>0.3162268</td>\n",
       "<td>0.2988041</td>\n",
       "<td>0.3655318</td>\n",
       "<td>0.3673753</td>\n",
       "<td>0.0862092</td>\n",
       "<td>0.2990007</td>\n",
       "<td>72.4394555</td>\n",
       "<td>99.3256600</td></tr>\n",
       "<tr><td></td>\n",
       "<td>8</td>\n",
       "<td>0.2</td>\n",
       "<td>0.2524780</td>\n",
       "<td>1.5111773</td>\n",
       "<td>1.8727515</td>\n",
       "<td>0.2771261</td>\n",
       "<td>0.2655953</td>\n",
       "<td>0.3434331</td>\n",
       "<td>0.3419334</td>\n",
       "<td>0.0755496</td>\n",
       "<td>0.3745503</td>\n",
       "<td>51.1177299</td>\n",
       "<td>87.2751499</td></tr>\n",
       "<tr><td></td>\n",
       "<td>9</td>\n",
       "<td>0.3000122</td>\n",
       "<td>0.2130521</td>\n",
       "<td>1.3056366</td>\n",
       "<td>1.6836978</td>\n",
       "<td>0.2394332</td>\n",
       "<td>0.2313585</td>\n",
       "<td>0.3087636</td>\n",
       "<td>0.3050721</td>\n",
       "<td>0.1305796</td>\n",
       "<td>0.5051299</td>\n",
       "<td>30.5636620</td>\n",
       "<td>68.3697810</td></tr>\n",
       "<tr><td></td>\n",
       "<td>10</td>\n",
       "<td>0.4</td>\n",
       "<td>0.1834758</td>\n",
       "<td>1.1380471</td>\n",
       "<td>1.5473018</td>\n",
       "<td>0.2086999</td>\n",
       "<td>0.1977540</td>\n",
       "<td>0.2837508</td>\n",
       "<td>0.2782459</td>\n",
       "<td>0.1137908</td>\n",
       "<td>0.6189207</td>\n",
       "<td>13.8047102</td>\n",
       "<td>54.7301799</td></tr>\n",
       "<tr><td></td>\n",
       "<td>11</td>\n",
       "<td>0.5000122</td>\n",
       "<td>0.1591054</td>\n",
       "<td>0.9325976</td>\n",
       "<td>1.4243489</td>\n",
       "<td>0.1710237</td>\n",
       "<td>0.1710374</td>\n",
       "<td>0.2612031</td>\n",
       "<td>0.2568021</td>\n",
       "<td>0.0932712</td>\n",
       "<td>0.7121919</td>\n",
       "<td>-6.7402414</td>\n",
       "<td>42.4348940</td></tr>\n",
       "<tr><td></td>\n",
       "<td>12</td>\n",
       "<td>0.6</td>\n",
       "<td>0.1384420</td>\n",
       "<td>0.8422082</td>\n",
       "<td>1.3273373</td>\n",
       "<td>0.1544477</td>\n",
       "<td>0.1485887</td>\n",
       "<td>0.2434127</td>\n",
       "<td>0.2387687</td>\n",
       "<td>0.0842105</td>\n",
       "<td>0.7964024</td>\n",
       "<td>-15.7791840</td>\n",
       "<td>32.7337331</td></tr>\n",
       "<tr><td></td>\n",
       "<td>13</td>\n",
       "<td>0.6999878</td>\n",
       "<td>0.1200301</td>\n",
       "<td>0.7316017</td>\n",
       "<td>1.2422412</td>\n",
       "<td>0.1341642</td>\n",
       "<td>0.1292261</td>\n",
       "<td>0.2278074</td>\n",
       "<td>0.2231214</td>\n",
       "<td>0.0731512</td>\n",
       "<td>0.8695536</td>\n",
       "<td>-26.8398292</td>\n",
       "<td>24.2241154</td></tr>\n",
       "<tr><td></td>\n",
       "<td>14</td>\n",
       "<td>0.8</td>\n",
       "<td>0.1018146</td>\n",
       "<td>0.5475680</td>\n",
       "<td>1.1553964</td>\n",
       "<td>0.1004153</td>\n",
       "<td>0.1110342</td>\n",
       "<td>0.2118815</td>\n",
       "<td>0.2091088</td>\n",
       "<td>0.0547635</td>\n",
       "<td>0.9243171</td>\n",
       "<td>-45.2431989</td>\n",
       "<td>15.5396402</td></tr>\n",
       "<tr><td></td>\n",
       "<td>15</td>\n",
       "<td>0.8999878</td>\n",
       "<td>0.0820490</td>\n",
       "<td>0.4410932</td>\n",
       "<td>1.0760380</td>\n",
       "<td>0.0808895</td>\n",
       "<td>0.0922423</td>\n",
       "<td>0.1973284</td>\n",
       "<td>0.1961250</td>\n",
       "<td>0.0441039</td>\n",
       "<td>0.9684211</td>\n",
       "<td>-55.8906802</td>\n",
       "<td>7.6037999</td></tr>\n",
       "<tr><td></td>\n",
       "<td>16</td>\n",
       "<td>1.0</td>\n",
       "<td>0.0283872</td>\n",
       "<td>0.3157509</td>\n",
       "<td>1.0</td>\n",
       "<td>0.0579037</td>\n",
       "<td>0.0658406</td>\n",
       "<td>0.1833842</td>\n",
       "<td>0.1830950</td>\n",
       "<td>0.0315789</td>\n",
       "<td>1.0</td>\n",
       "<td>-68.4249103</td>\n",
       "<td>0.0</td></tr></table></div>"
      ],
      "text/plain": [
       "    group    cumulative_data_fraction    lower_threshold    lift      cumulative_lift    response_rate    score      cumulative_response_rate    cumulative_score    capture_rate    cumulative_capture_rate    gain      cumulative_gain\n",
       "--  -------  --------------------------  -----------------  --------  -----------------  ---------------  ---------  --------------------------  ------------------  --------------  -------------------------  --------  -----------------\n",
       "    1        0.0100183                   0.498919           2.66002   2.66002            0.487805         0.55176    0.487805                    0.55176             0.0266489       0.0266489                  166.002   166.002\n",
       "    2        0.0200122                   0.455283           2.86651   2.76314            0.525672         0.475686   0.506716                    0.513769            0.0286476       0.0552965                  186.651   176.314\n",
       "    3        0.0300061                   0.42447            2.38653   2.6377             0.437653         0.439088   0.483713                    0.488896            0.0238508       0.0791472                  138.653   163.77\n",
       "    4        0.04                        0.40195            2.05322   2.49167            0.376528         0.41286    0.456933                    0.469899            0.0205197       0.0996669                  105.322   149.167\n",
       "    5        0.0500183                   0.383293           1.98171   2.38953            0.363415         0.391627   0.438202                    0.454221            0.0198534       0.11952                    98.1711   138.953\n",
       "    6        0.100012                    0.319887           1.86565   2.12765            0.342131         0.349058   0.390178                    0.401653            0.0932712       0.212791                   86.5651   112.765\n",
       "    7        0.150006                    0.280239           1.72439   1.99326            0.316227         0.298804   0.365532                    0.367375            0.0862092       0.299001                   72.4395   99.3257\n",
       "    8        0.2                         0.252478           1.51118   1.87275            0.277126         0.265595   0.343433                    0.341933            0.0755496       0.37455                    51.1177   87.2751\n",
       "    9        0.300012                    0.213052           1.30564   1.6837             0.239433         0.231358   0.308764                    0.305072            0.13058         0.50513                    30.5637   68.3698\n",
       "    10       0.4                         0.183476           1.13805   1.5473             0.2087           0.197754   0.283751                    0.278246            0.113791        0.618921                   13.8047   54.7302\n",
       "    11       0.500012                    0.159105           0.932598  1.42435            0.171024         0.171037   0.261203                    0.256802            0.0932712       0.712192                   -6.74024  42.4349\n",
       "    12       0.6                         0.138442           0.842208  1.32734            0.154448         0.148589   0.243413                    0.238769            0.0842105       0.796402                   -15.7792  32.7337\n",
       "    13       0.699988                    0.12003            0.731602  1.24224            0.134164         0.129226   0.227807                    0.223121            0.0731512       0.869554                   -26.8398  24.2241\n",
       "    14       0.8                         0.101815           0.547568  1.1554             0.100415         0.111034   0.211881                    0.209109            0.0547635       0.924317                   -45.2432  15.5396\n",
       "    15       0.899988                    0.082049           0.441093  1.07604            0.0808895        0.0922423  0.197328                    0.196125            0.0441039       0.968421                   -55.8907  7.6038\n",
       "    16       1                           0.0283872          0.315751  1                  0.0579037        0.0658406  0.183384                    0.183095            0.0315789       1                          -68.4249  0"
      ]
     },
     "metadata": {},
     "output_type": "display_data"
    },
    {
     "name": "stdout",
     "output_type": "stream",
     "text": [
      "\n"
     ]
    },
    {
     "data": {
      "text/plain": []
     },
     "execution_count": 209,
     "metadata": {},
     "output_type": "execute_result"
    }
   ],
   "source": [
    "select_perf = select_model.model_performance(test_data=test)\n",
    "select_perf"
   ]
  },
  {
   "cell_type": "markdown",
   "metadata": {},
   "source": [
    "A summary is then given by"
   ]
  },
  {
   "cell_type": "code",
   "execution_count": 210,
   "metadata": {},
   "outputs": [
    {
     "name": "stdout",
     "output_type": "stream",
     "text": [
      "AUC: train = 0.7303, xval = 0.6795, test = 0.6836\n",
      "Logloss: train = 0.4248, xval = 0.4451, test = 0.4444\n"
     ]
    }
   ],
   "source": [
    "print(\"AUC: train = {:.4f}, xval = {:.4f}, test = {:.4f}\" \\\n",
    "      .format(select_model.auc(train = True), select_model.auc(xval = True), select_perf.auc()))\n",
    "print(\"Logloss: train = {:.4f}, xval = {:.4f}, test = {:.4f}\" \\\n",
    "      .format(select_model.logloss(train = True), select_model.logloss(xval = True), select_perf.logloss()))"
   ]
  },
  {
   "cell_type": "markdown",
   "metadata": {},
   "source": [
    "We next look at variable importance plots for our selected model."
   ]
  },
  {
   "cell_type": "code",
   "execution_count": 203,
   "metadata": {},
   "outputs": [
    {
     "data": {
      "image/png": "[encoded data removed]",
      "text/plain": [
       "<Figure size 1008x720 with 1 Axes>"
      ]
     },
     "metadata": {
      "needs_background": "light"
     },
     "output_type": "display_data"
    }
   ],
   "source": [
    "import matplotlib.pyplot as plt\n",
    "%matplotlib inline\n",
    "\n",
    "import warnings\n",
    "import matplotlib.cbook\n",
    "warnings.filterwarnings(\"ignore\", category = matplotlib.cbook.mplDeprecation)\n",
    "\n",
    "select_model.varimp_plot()"
   ]
  },
  {
   "cell_type": "markdown",
   "metadata": {},
   "source": [
    "Note that `addr_state`, a high-cardinality categorical variable, is the most important variable. We will next try some feature engineering to see whether we can improve this model's overall performance."
   ]
  },
  {
   "cell_type": "markdown",
   "metadata": {},
   "source": [
    "# Step 4 (of 6). Feature Engineering to Improve Model Performance\n",
    "\n",
    "The goal of this section is to improve upon these predictors through a number of feature engineering steps. In particular, we will perform four feature engineering tasks on select variables:\n",
    "\n",
    "**Creating Target Encoding** \n",
    "   - Loan Purpose\n",
    "   - State of Residence\n",
    "\n",
    "**Separating Typical from Extreme**\n",
    "   - Loan Amount\n",
    "   - Annual Income\n",
    "   - Debt to Income Ratio\n",
    "   - Number of Delinquencies in the Past 2 Years\n",
    "   - Revolving Credit Line Utilized\n",
    "   - Number of Credit Lines\n",
    "   - Longest Credit Length\n",
    "\n",
    "**Creating Indicator Functions**\n",
    "   - Term\n",
    "   - Income Verification Status\n",
    "   - Employment Length (Missing Value)\n",
    "\n",
    "**Combining Categories** \n",
    "   - Home Ownership"
   ]
  },
  {
   "cell_type": "markdown",
   "metadata": {},
   "source": [
    "## 1. Creating Target Encoding\n",
    "\n",
    "### Cross Validation with Target Encoding\n",
    "\n",
    "Some of the engineered features will use [cross-validated mean target encoding](https://github.com/h2oai/h2o-tutorials/blob/master/best-practices/categorical-predictors/target_encoding.md) of categorical predictors since one-hot encodings can lead to overfitting of infrequent categories.\n",
    "\n",
    "To achieve this goal, we will first create soft partitions using H2OFrame's [`kfold_column`](http://docs.h2o.ai/h2o/latest-stable/h2o-py/docs/frame.html?highlight=kfold_column#h2o.frame.H2OFrame.kfold_column) function, then calculate summary statistics using H2O's [`group_by`](http://docs.h2o.ai/h2o/latest-stable/h2o-py/docs/frame.html#groupby) function, and finally join these engineered features using H2OFrame's [`merge`](http://docs.h2o.ai/h2o/latest-stable/h2o-py/docs/frame.html?highlight=merge#h2o.frame.H2OFrame.merge)."
   ]
  },
  {
   "cell_type": "code",
   "execution_count": 211,
   "metadata": {},
   "outputs": [],
   "source": [
    "y = \"bad_loan\"\n",
    "x_orig = train.col_names\n",
    "x_orig.remove(y)\n",
    "x_orig.remove(\"int_rate\")\n",
    "\n",
    "x_trans = x_orig.copy()"
   ]
  },
  {
   "cell_type": "code",
   "execution_count": 212,
   "metadata": {},
   "outputs": [],
   "source": [
    "cv_nfolds = 5\n",
    "cv_seed = 1234\n",
    "train[\"cv_fold\"] = train.kfold_column(n_folds = cv_nfolds, seed = cv_seed)"
   ]
  },
  {
   "cell_type": "code",
   "execution_count": 213,
   "metadata": {},
   "outputs": [
    {
     "data": {
      "text/html": [
       "<table>\n",
       "<thead>\n",
       "<tr><th style=\"text-align: right;\">  cv_fold</th><th style=\"text-align: right;\">  Count</th></tr>\n",
       "</thead>\n",
       "<tbody>\n",
       "<tr><td style=\"text-align: right;\">        0</td><td style=\"text-align: right;\">  24674</td></tr>\n",
       "<tr><td style=\"text-align: right;\">        1</td><td style=\"text-align: right;\">  24621</td></tr>\n",
       "<tr><td style=\"text-align: right;\">        2</td><td style=\"text-align: right;\">  24740</td></tr>\n",
       "<tr><td style=\"text-align: right;\">        3</td><td style=\"text-align: right;\">  24478</td></tr>\n",
       "<tr><td style=\"text-align: right;\">        4</td><td style=\"text-align: right;\">  24549</td></tr>\n",
       "</tbody>\n",
       "</table>"
      ]
     },
     "metadata": {},
     "output_type": "display_data"
    },
    {
     "data": {
      "text/plain": []
     },
     "execution_count": 213,
     "metadata": {},
     "output_type": "execute_result"
    }
   ],
   "source": [
    "train[\"cv_fold\"].table()"
   ]
  },
  {
   "cell_type": "code",
   "execution_count": 214,
   "metadata": {},
   "outputs": [],
   "source": [
    "import numpy as np\n",
    "import pandas as pd"
   ]
  },
  {
   "cell_type": "code",
   "execution_count": 215,
   "metadata": {},
   "outputs": [],
   "source": [
    "def logit(p):\n",
    "    return np.log(p) - np.log(1 - p)"
   ]
  },
  {
   "cell_type": "code",
   "execution_count": 216,
   "metadata": {},
   "outputs": [],
   "source": [
    "def mean_target(data, x, y = \"bad_loan\"):\n",
    "    grouped_data = data[[x, y]].group_by([x])\n",
    "    stats = grouped_data.count(na = \"ignore\").mean(na = \"ignore\")\n",
    "    return stats.get_frame().as_data_frame()"
   ]
  },
  {
   "cell_type": "code",
   "execution_count": 217,
   "metadata": {},
   "outputs": [],
   "source": [
    "def mean_target_encoding(data, x, y = \"bad_loan\", fold_column = \"cv_fold\", prior_mean = 0.183, prior_count = 1):\n",
    "    \"\"\"\n",
    "    Creates target encoding for binary target\n",
    "    data (H2OFrame) : data set\n",
    "    x (string) : categorical predictor column name\n",
    "    y (string) : binary target column name\n",
    "    fold_column (string) : cross-validation fold column name\n",
    "    prior_mean (float) : proportion of 1s in the target column\n",
    "    prior_count (positive number) : weight to give to prior_mean\n",
    "    \"\"\" \n",
    "    grouped_data = data[[x, fold_column, y]].group_by([x, fold_column])\n",
    "    grouped_data.sum(na = \"ignore\").count(na = \"ignore\")\n",
    "    df = grouped_data.get_frame().as_data_frame()\n",
    "    df_list = []\n",
    "    nfold = int(data[fold_column].max()) + 1\n",
    "    for j in range(0, nfold):\n",
    "        te_x = \"te_{}\".format(x)\n",
    "        sum_y = \"sum_{}\".format(y)\n",
    "        oof = df.loc[df[fold_column] != j, [x, sum_y, \"nrow\"]]\n",
    "        stats = oof.groupby([x]).sum()\n",
    "        stats[x] = stats.index\n",
    "        stats[fold_column] = j\n",
    "        p = (stats[sum_y] + (prior_count * prior_mean)) / (stats[\"nrow\"] + prior_count)\n",
    "        stats[te_x] = logit(p)\n",
    "        df_list.append(stats[[x, fold_column, te_x]])\n",
    "    return h2o.H2OFrame(pd.concat(df_list))"
   ]
  },
  {
   "cell_type": "markdown",
   "metadata": {},
   "source": [
    "### 1.1. Creating Target Encoding for Loan Purpose\n",
    "\n",
    "Given that there is a high concentration of loans for debt consolidation (56.87%), a sizable number for credit card (18.78%), and the remaining 24.35% loans are spread amongst 12 other purposes, we will use mean target encoding to avoid overfitting the later group."
   ]
  },
  {
   "cell_type": "code",
   "execution_count": 218,
   "metadata": {},
   "outputs": [
    {
     "name": "stdout",
     "output_type": "stream",
     "text": [
      "               purpose  Count  Percent\n",
      "0   debt_consolidation  69976    56.86\n",
      "1          credit_card  23082    18.76\n",
      "2                other   7916     6.43\n",
      "3     home_improvement   7346     5.97\n",
      "4       major_purchase   3535     2.87\n",
      "5       small_business   2912     2.37\n",
      "6                  car   2126     1.73\n",
      "7              medical   1540     1.25\n",
      "8              wedding   1320     1.07\n",
      "9               moving   1091     0.89\n",
      "10               house    937     0.76\n",
      "11            vacation    834     0.68\n",
      "12         educational    303     0.25\n",
      "13    renewable_energy    144     0.12\n"
     ]
    }
   ],
   "source": [
    "tbl = train[\"purpose\"].table().as_data_frame()\n",
    "tbl[\"Percent\"] = np.round((100 * tbl[\"Count\"]/train.nrows), 2)\n",
    "tbl = tbl.sort_values(by = \"Count\", ascending = 0)\n",
    "tbl = tbl.reset_index(drop = True)\n",
    "print(tbl)"
   ]
  },
  {
   "cell_type": "code",
   "execution_count": 219,
   "metadata": {},
   "outputs": [],
   "source": [
    "df = mean_target(train, \"purpose\")\n",
    "\n",
    "df = df.sort_values(by = \"mean_bad_loan\", ascending = 0)\n",
    "df = df.reset_index(drop = True)\n",
    "df"
   ]
  },
  {
   "cell_type": "code",
   "execution_count": 221,
   "metadata": {},
   "outputs": [
    {
     "data": {
      "text/plain": [
       "[<matplotlib.lines.Line2D at 0x108202ac8>]"
      ]
     },
     "execution_count": 221,
     "metadata": {},
     "output_type": "execute_result"
    },
    {
     "data": {
      "image/png": "[encoded data removed]",
      "text/plain": [
       "<Figure size 432x288 with 1 Axes>"
      ]
     },
     "metadata": {
      "needs_background": "light"
     },
     "output_type": "display_data"
    }
   ],
   "source": [
    "plt.xticks(rotation = 90)\n",
    "plt.yscale(\"logit\")\n",
    "plt.plot(df[\"purpose\"], df[\"mean_bad_loan\"])"
   ]
  },
  {
   "cell_type": "code",
   "execution_count": 222,
   "metadata": {},
   "outputs": [
    {
     "name": "stdout",
     "output_type": "stream",
     "text": [
      "Parse progress: |█████████████████████████████████████████████████████████| 100%\n"
     ]
    }
   ],
   "source": [
    "te_purpose = mean_target_encoding(train, \"purpose\")"
   ]
  },
  {
   "cell_type": "code",
   "execution_count": 223,
   "metadata": {},
   "outputs": [],
   "source": [
    "train = train.merge(te_purpose, all_x = True)"
   ]
  },
  {
   "cell_type": "markdown",
   "metadata": {},
   "source": [
    "Replace `purpose` with target encoded `te_purpose`"
   ]
  },
  {
   "cell_type": "code",
   "execution_count": 225,
   "metadata": {},
   "outputs": [
    {
     "data": {
      "image/png": "[encoded data removed]",
      "text/plain": [
       "<Figure size 432x288 with 1 Axes>"
      ]
     },
     "metadata": {
      "needs_background": "light"
     },
     "output_type": "display_data"
    }
   ],
   "source": [
    "x_trans.remove(\"purpose\")\n",
    "x_trans.append(\"te_purpose\")\n",
    "\n",
    "train[\"te_purpose\"].hist()"
   ]
  },
  {
   "cell_type": "markdown",
   "metadata": {},
   "source": [
    "### 1.2. Target Encoding for State of Residence\n",
    "\n",
    "We will also use a mean target encoding for *state of residence* for a reason similar to that for *purpose*."
   ]
  },
  {
   "cell_type": "code",
   "execution_count": 226,
   "metadata": {},
   "outputs": [
    {
     "name": "stdout",
     "output_type": "stream",
     "text": [
      "  addr_state  Count  Percent\n",
      "0         CA  21493    17.47\n",
      "1         NY  10699     8.69\n",
      "2         TX   9188     7.47\n",
      "3         FL   8554     6.95\n",
      "4         NJ   4755     3.86\n"
     ]
    }
   ],
   "source": [
    "tbl = train[\"addr_state\"].table().as_data_frame()\n",
    "tbl[\"Percent\"] = np.round((100 * tbl[\"Count\"]/train.nrows), 2)\n",
    "tbl = tbl.sort_values(by = \"Count\", ascending = 0)\n",
    "tbl = tbl.reset_index(drop = True)\n",
    "print(tbl[0:5])"
   ]
  },
  {
   "cell_type": "code",
   "execution_count": 227,
   "metadata": {},
   "outputs": [
    {
     "name": "stdout",
     "output_type": "stream",
     "text": [
      "  addr_state  nrow  mean_bad_loan\n",
      "0         NE     8       0.625000\n",
      "1         IA     7       0.285714\n",
      "2         MS   124       0.233871\n",
      "3         NV  1764       0.231859\n",
      "4         TN   977       0.220061\n"
     ]
    }
   ],
   "source": [
    "df = mean_target(train, \"addr_state\")\n",
    "\n",
    "df = df.sort_values(by = \"mean_bad_loan\", ascending = 0)\n",
    "df = df.reset_index(drop = True)\n",
    "print(df[0:5])"
   ]
  },
  {
   "cell_type": "code",
   "execution_count": 228,
   "metadata": {},
   "outputs": [
    {
     "name": "stdout",
     "output_type": "stream",
     "text": [
      "   addr_state  nrow  mean_bad_loan\n",
      "45         WV   530       0.135849\n",
      "46         ID     8       0.125000\n",
      "47         DC   452       0.110619\n",
      "48         WY   289       0.096886\n",
      "49         ME     3       0.000000\n"
     ]
    }
   ],
   "source": [
    "print(df[45:50])"
   ]
  },
  {
   "cell_type": "code",
   "execution_count": 229,
   "metadata": {},
   "outputs": [
    {
     "data": {
      "text/plain": [
       "[<matplotlib.lines.Line2D at 0x1180d1ef0>]"
      ]
     },
     "execution_count": 229,
     "metadata": {},
     "output_type": "execute_result"
    },
    {
     "data": {
      "image/png": "[encoded data removed]",
      "text/plain": [
       "<Figure size 432x288 with 1 Axes>"
      ]
     },
     "metadata": {
      "needs_background": "light"
     },
     "output_type": "display_data"
    }
   ],
   "source": [
    "plt.yscale(\"logit\")\n",
    "plt.plot(df[\"addr_state\"], df[\"mean_bad_loan\"])"
   ]
  },
  {
   "cell_type": "code",
   "execution_count": 230,
   "metadata": {},
   "outputs": [
    {
     "name": "stdout",
     "output_type": "stream",
     "text": [
      "Parse progress: |█████████████████████████████████████████████████████████| 100%\n"
     ]
    }
   ],
   "source": [
    "te_addr_state = mean_target_encoding(train, \"addr_state\", prior_count = 30)"
   ]
  },
  {
   "cell_type": "code",
   "execution_count": 231,
   "metadata": {},
   "outputs": [
    {
     "data": {
      "text/plain": [
       "[<matplotlib.lines.Line2D at 0x1177c32b0>]"
      ]
     },
     "execution_count": 231,
     "metadata": {},
     "output_type": "execute_result"
    },
    {
     "data": {
      "image/png": "[encoded data removed]",
      "text/plain": [
       "<Figure size 432x288 with 1 Axes>"
      ]
     },
     "metadata": {
      "needs_background": "light"
     },
     "output_type": "display_data"
    }
   ],
   "source": [
    "grouped_data = te_addr_state[[\"addr_state\", \"te_addr_state\"]].group_by([\"addr_state\"])\n",
    "df = grouped_data.count(na = \"ignore\").mean(na = \"ignore\").get_frame().as_data_frame()\n",
    "\n",
    "df = df.sort_values(by = \"mean_te_addr_state\", ascending = 0)\n",
    "df = df.reset_index(drop = True)\n",
    "\n",
    "plt.plot(df[\"addr_state\"], df[\"mean_te_addr_state\"])"
   ]
  },
  {
   "cell_type": "code",
   "execution_count": 233,
   "metadata": {},
   "outputs": [
    {
     "data": {
      "image/png": "[encoded data removed]",
      "text/plain": [
       "<Figure size 432x288 with 1 Axes>"
      ]
     },
     "metadata": {
      "needs_background": "light"
     },
     "output_type": "display_data"
    }
   ],
   "source": [
    "train = train.merge(te_addr_state, all_x = True)\n",
    "\n",
    "x_trans.remove(\"addr_state\")\n",
    "x_trans.append(\"te_addr_state\")\n",
    "\n",
    "train[\"te_addr_state\"].hist()"
   ]
  },
  {
   "cell_type": "markdown",
   "metadata": {},
   "source": [
    "## 2. Separating Typical from Extreme"
   ]
  },
  {
   "cell_type": "markdown",
   "metadata": {},
   "source": [
    "### 2.1. Separating Typical from Extreme Loan Amount\n",
    "\n",
    "After binning `loan_amt` using H2OFrame's [`cut`](http://docs.h2o.ai/h2o/latest-stable/h2o-py/docs/frame.html?highlight=cut#h2o.frame.H2OFrame.cut) function and looking at the fraction of bad loans on a logit scale, we see that the chance of a bad loan roughly increases linearly in loan amount from \\\\$5,000 to \\\\$30,000 and is relatively flat below \\\\$5,000 and above \\\\$30,000. To reflect this finding in the modeling, we will replace the original `loan_amnt` measure with two derived measures:\n",
    "\n",
    "\\begin{eqnarray}\n",
    "\\text{loan_amnt_core} & = & \\max(5000, \\min(\\text{loan_amnt}, 30000)) \\\\\n",
    "\\text{loan_amnt_diff} & = & \\text{loan_amnt} - \\text{loan_amnt_core}\n",
    "\\end{eqnarray}"
   ]
  },
  {
   "cell_type": "code",
   "execution_count": 234,
   "metadata": {},
   "outputs": [
    {
     "data": {
      "text/html": [
       "<table>\n",
       "<thead>\n",
       "<tr><th style=\"text-align: right;\">  Probs</th><th style=\"text-align: right;\">  loan_amntQuantiles</th></tr>\n",
       "</thead>\n",
       "<tbody>\n",
       "<tr><td style=\"text-align: right;\">   0   </td><td style=\"text-align: right;\">                 500</td></tr>\n",
       "<tr><td style=\"text-align: right;\">   0.05</td><td style=\"text-align: right;\">                3000</td></tr>\n",
       "<tr><td style=\"text-align: right;\">   0.25</td><td style=\"text-align: right;\">                7000</td></tr>\n",
       "<tr><td style=\"text-align: right;\">   0.5 </td><td style=\"text-align: right;\">               11400</td></tr>\n",
       "<tr><td style=\"text-align: right;\">   0.75</td><td style=\"text-align: right;\">               18000</td></tr>\n",
       "<tr><td style=\"text-align: right;\">   0.95</td><td style=\"text-align: right;\">               30000</td></tr>\n",
       "<tr><td style=\"text-align: right;\">   1   </td><td style=\"text-align: right;\">               35000</td></tr>\n",
       "</tbody>\n",
       "</table>"
      ]
     },
     "metadata": {},
     "output_type": "display_data"
    },
    {
     "data": {
      "text/plain": []
     },
     "execution_count": 234,
     "metadata": {},
     "output_type": "execute_result"
    }
   ],
   "source": [
    "train[\"loan_amnt\"].quantile([0, 0.05, 0.25, 0.5, 0.75, 0.95, 1])"
   ]
  },
  {
   "cell_type": "code",
   "execution_count": 236,
   "metadata": {},
   "outputs": [],
   "source": [
    "breaks = np.linspace(0, 35000, 8).tolist()\n",
    "train[\"loan_amnt_cat\"] = train[\"loan_amnt\"].cut(breaks = breaks)\n",
    "\n",
    "df = mean_target(train, \"loan_amnt_cat\")"
   ]
  },
  {
   "cell_type": "code",
   "execution_count": 237,
   "metadata": {},
   "outputs": [
    {
     "data": {
      "text/plain": [
       "[<matplotlib.lines.Line2D at 0x118f22160>]"
      ]
     },
     "execution_count": 237,
     "metadata": {},
     "output_type": "execute_result"
    },
    {
     "data": {
      "image/png": "[encoded data removed]",
      "text/plain": [
       "<Figure size 432x288 with 1 Axes>"
      ]
     },
     "metadata": {
      "needs_background": "light"
     },
     "output_type": "display_data"
    }
   ],
   "source": [
    "plt.xticks(rotation = 90)\n",
    "plt.yscale(\"logit\")\n",
    "plt.plot(df[\"loan_amnt_cat\"], df[\"mean_bad_loan\"])"
   ]
  },
  {
   "cell_type": "code",
   "execution_count": 238,
   "metadata": {},
   "outputs": [
    {
     "data": {
      "text/html": [
       "<div>\n",
       "<style scoped>\n",
       "    .dataframe tbody tr th:only-of-type {\n",
       "        vertical-align: middle;\n",
       "    }\n",
       "\n",
       "    .dataframe tbody tr th {\n",
       "        vertical-align: top;\n",
       "    }\n",
       "\n",
       "    .dataframe thead th {\n",
       "        text-align: right;\n",
       "    }\n",
       "</style>\n",
       "<table border=\"1\" class=\"dataframe\">\n",
       "  <thead>\n",
       "    <tr style=\"text-align: right;\">\n",
       "      <th></th>\n",
       "      <th>loan_amnt_cat</th>\n",
       "      <th>nrow</th>\n",
       "      <th>mean_bad_loan</th>\n",
       "    </tr>\n",
       "  </thead>\n",
       "  <tbody>\n",
       "    <tr>\n",
       "      <th>0</th>\n",
       "      <td>(0.0,5000.0]</td>\n",
       "      <td>19317</td>\n",
       "      <td>0.163845</td>\n",
       "    </tr>\n",
       "    <tr>\n",
       "      <th>1</th>\n",
       "      <td>(5000.0,10000.0]</td>\n",
       "      <td>37730</td>\n",
       "      <td>0.164431</td>\n",
       "    </tr>\n",
       "    <tr>\n",
       "      <th>2</th>\n",
       "      <td>(10000.0,15000.0]</td>\n",
       "      <td>26782</td>\n",
       "      <td>0.173288</td>\n",
       "    </tr>\n",
       "    <tr>\n",
       "      <th>3</th>\n",
       "      <td>(15000.0,20000.0]</td>\n",
       "      <td>18485</td>\n",
       "      <td>0.209413</td>\n",
       "    </tr>\n",
       "    <tr>\n",
       "      <th>4</th>\n",
       "      <td>(20000.0,25000.0]</td>\n",
       "      <td>10829</td>\n",
       "      <td>0.211931</td>\n",
       "    </tr>\n",
       "    <tr>\n",
       "      <th>5</th>\n",
       "      <td>(25000.0,30000.0]</td>\n",
       "      <td>5223</td>\n",
       "      <td>0.241432</td>\n",
       "    </tr>\n",
       "    <tr>\n",
       "      <th>6</th>\n",
       "      <td>(30000.0,35000.0]</td>\n",
       "      <td>4696</td>\n",
       "      <td>0.228705</td>\n",
       "    </tr>\n",
       "  </tbody>\n",
       "</table>\n",
       "</div>"
      ],
      "text/plain": [
       "       loan_amnt_cat   nrow  mean_bad_loan\n",
       "0       (0.0,5000.0]  19317       0.163845\n",
       "1   (5000.0,10000.0]  37730       0.164431\n",
       "2  (10000.0,15000.0]  26782       0.173288\n",
       "3  (15000.0,20000.0]  18485       0.209413\n",
       "4  (20000.0,25000.0]  10829       0.211931\n",
       "5  (25000.0,30000.0]   5223       0.241432\n",
       "6  (30000.0,35000.0]   4696       0.228705"
      ]
     },
     "execution_count": 238,
     "metadata": {},
     "output_type": "execute_result"
    }
   ],
   "source": [
    "df"
   ]
  },
  {
   "cell_type": "code",
   "execution_count": 239,
   "metadata": {},
   "outputs": [],
   "source": [
    "x_trans.remove(\"loan_amnt\")\n",
    "x_trans.append(\"loan_amnt_core\")\n",
    "x_trans.append(\"loan_amnt_delta\")\n",
    "\n",
    "train[\"loan_amnt_core\"] = h2o.H2OFrame.ifelse(train[\"loan_amnt\"] <= 5000, 5000, train[\"loan_amnt\"])\n",
    "train[\"loan_amnt_core\"] = h2o.H2OFrame.ifelse(train[\"loan_amnt_core\"] <= 30000, train[\"loan_amnt_core\"], 30000)\n",
    "\n",
    "train[\"loan_amnt_delta\"] = train[\"loan_amnt\"] - train[\"loan_amnt_core\"]"
   ]
  },
  {
   "cell_type": "markdown",
   "metadata": {},
   "source": [
    "### 2.2. Separating Typical from Extreme Annual Income\n",
    "\n",
    "Looking at the occurance of bad loans on a logit scale reveal that the chance of a bad loan roughly decreases linearly in annual income from \\\\$10,000 to \\\\$105,000 and is relatively flat above \\\\$105,000. To reflect this finding in the modeling, we will replace the original `annual_inc` measure with two derived measures:\n",
    "\n",
    "\\begin{eqnarray}\n",
    "\\text{annual_inc_core} & = & \\max(10000, \\min(\\text{annual_inc}, 105000)) \\\\\n",
    "\\text{annual_inc_diff} & = & \\text{annual_inc} - \\text{annual_inc_core}\n",
    "\\end{eqnarray}"
   ]
  },
  {
   "cell_type": "code",
   "execution_count": 241,
   "metadata": {},
   "outputs": [
    {
     "data": {
      "text/html": [
       "<table>\n",
       "<thead>\n",
       "<tr><th style=\"text-align: right;\">  Probs</th><th style=\"text-align: right;\">  annual_incQuantiles</th></tr>\n",
       "</thead>\n",
       "<tbody>\n",
       "<tr><td style=\"text-align: right;\">   0   </td><td style=\"text-align: right;\">           3000      </td></tr>\n",
       "<tr><td style=\"text-align: right;\">   0.05</td><td style=\"text-align: right;\">          27000      </td></tr>\n",
       "<tr><td style=\"text-align: right;\">   0.25</td><td style=\"text-align: right;\">          45000      </td></tr>\n",
       "<tr><td style=\"text-align: right;\">   0.5 </td><td style=\"text-align: right;\">          61000      </td></tr>\n",
       "<tr><td style=\"text-align: right;\">   0.75</td><td style=\"text-align: right;\">          85000      </td></tr>\n",
       "<tr><td style=\"text-align: right;\">   0.95</td><td style=\"text-align: right;\">         146000      </td></tr>\n",
       "<tr><td style=\"text-align: right;\">   1   </td><td style=\"text-align: right;\">              6.1e+06</td></tr>\n",
       "</tbody>\n",
       "</table>"
      ]
     },
     "metadata": {},
     "output_type": "display_data"
    },
    {
     "data": {
      "text/plain": []
     },
     "execution_count": 241,
     "metadata": {},
     "output_type": "execute_result"
    }
   ],
   "source": [
    "train[\"annual_inc\"].quantile([0, 0.05, 0.25, 0.5, 0.75, 0.95, 1])"
   ]
  },
  {
   "cell_type": "code",
   "execution_count": 295,
   "metadata": {},
   "outputs": [],
   "source": [
    "breaks = np.linspace(0, 150000, 31).tolist()\n",
    "train[\"annual_inc_cat\"] = train[\"annual_inc\"].cut(breaks = breaks)\n",
    "\n",
    "df = mean_target(train, \"annual_inc_cat\")\n",
    "\n",
    "#plt.yscale(\"logit\")\n",
    "#plt.plot(df[\"annual_inc_cat\"].index, df[\"mean_bad_loan\"])"
   ]
  },
  {
   "cell_type": "code",
   "execution_count": 263,
   "metadata": {},
   "outputs": [
    {
     "data": {
      "text/html": [
       "<div>\n",
       "<style scoped>\n",
       "    .dataframe tbody tr th:only-of-type {\n",
       "        vertical-align: middle;\n",
       "    }\n",
       "\n",
       "    .dataframe tbody tr th {\n",
       "        vertical-align: top;\n",
       "    }\n",
       "\n",
       "    .dataframe thead th {\n",
       "        text-align: right;\n",
       "    }\n",
       "</style>\n",
       "<table border=\"1\" class=\"dataframe\">\n",
       "  <thead>\n",
       "    <tr style=\"text-align: right;\">\n",
       "      <th></th>\n",
       "      <th>annual_inc_cat</th>\n",
       "      <th>nrow</th>\n",
       "      <th>mean_bad_loan</th>\n",
       "    </tr>\n",
       "  </thead>\n",
       "  <tbody>\n",
       "    <tr>\n",
       "      <th>0</th>\n",
       "      <td>NaN</td>\n",
       "      <td>0</td>\n",
       "      <td>0.127308</td>\n",
       "    </tr>\n",
       "    <tr>\n",
       "      <th>1</th>\n",
       "      <td>(0.0,5000.0]</td>\n",
       "      <td>17</td>\n",
       "      <td>0.294118</td>\n",
       "    </tr>\n",
       "    <tr>\n",
       "      <th>2</th>\n",
       "      <td>(5000.0,10000.0]</td>\n",
       "      <td>145</td>\n",
       "      <td>0.213793</td>\n",
       "    </tr>\n",
       "    <tr>\n",
       "      <th>3</th>\n",
       "      <td>(10000.0,15000.0]</td>\n",
       "      <td>668</td>\n",
       "      <td>0.282934</td>\n",
       "    </tr>\n",
       "    <tr>\n",
       "      <th>4</th>\n",
       "      <td>(15000.0,20000.0]</td>\n",
       "      <td>1364</td>\n",
       "      <td>0.249267</td>\n",
       "    </tr>\n",
       "    <tr>\n",
       "      <th>5</th>\n",
       "      <td>(20000.0,25000.0]</td>\n",
       "      <td>2929</td>\n",
       "      <td>0.235575</td>\n",
       "    </tr>\n",
       "  </tbody>\n",
       "</table>\n",
       "</div>"
      ],
      "text/plain": [
       "      annual_inc_cat  nrow  mean_bad_loan\n",
       "0                NaN     0       0.127308\n",
       "1       (0.0,5000.0]    17       0.294118\n",
       "2   (5000.0,10000.0]   145       0.213793\n",
       "3  (10000.0,15000.0]   668       0.282934\n",
       "4  (15000.0,20000.0]  1364       0.249267\n",
       "5  (20000.0,25000.0]  2929       0.235575"
      ]
     },
     "execution_count": 263,
     "metadata": {},
     "output_type": "execute_result"
    }
   ],
   "source": [
    "df[0:6]"
   ]
  },
  {
   "cell_type": "code",
   "execution_count": 294,
   "metadata": {},
   "outputs": [
    {
     "data": {
      "text/html": [
       "<div>\n",
       "<style scoped>\n",
       "    .dataframe tbody tr th:only-of-type {\n",
       "        vertical-align: middle;\n",
       "    }\n",
       "\n",
       "    .dataframe tbody tr th {\n",
       "        vertical-align: top;\n",
       "    }\n",
       "\n",
       "    .dataframe thead th {\n",
       "        text-align: right;\n",
       "    }\n",
       "</style>\n",
       "<table border=\"1\" class=\"dataframe\">\n",
       "  <thead>\n",
       "    <tr style=\"text-align: right;\">\n",
       "      <th></th>\n",
       "      <th>dti_cat</th>\n",
       "      <th>nrow</th>\n",
       "      <th>mean_bad_loan</th>\n",
       "    </tr>\n",
       "  </thead>\n",
       "  <tbody>\n",
       "    <tr>\n",
       "      <th>20</th>\n",
       "      <td>(19.0,20.0]</td>\n",
       "      <td>5312</td>\n",
       "      <td>0.196724</td>\n",
       "    </tr>\n",
       "    <tr>\n",
       "      <th>21</th>\n",
       "      <td>(20.0,21.0]</td>\n",
       "      <td>5020</td>\n",
       "      <td>0.204582</td>\n",
       "    </tr>\n",
       "    <tr>\n",
       "      <th>22</th>\n",
       "      <td>(21.0,22.0]</td>\n",
       "      <td>4684</td>\n",
       "      <td>0.207301</td>\n",
       "    </tr>\n",
       "    <tr>\n",
       "      <th>23</th>\n",
       "      <td>(22.0,23.0]</td>\n",
       "      <td>4462</td>\n",
       "      <td>0.220977</td>\n",
       "    </tr>\n",
       "    <tr>\n",
       "      <th>24</th>\n",
       "      <td>(23.0,24.0]</td>\n",
       "      <td>4071</td>\n",
       "      <td>0.225006</td>\n",
       "    </tr>\n",
       "    <tr>\n",
       "      <th>25</th>\n",
       "      <td>(24.0,25.0]</td>\n",
       "      <td>3743</td>\n",
       "      <td>0.223083</td>\n",
       "    </tr>\n",
       "    <tr>\n",
       "      <th>26</th>\n",
       "      <td>(25.0,26.0]</td>\n",
       "      <td>2577</td>\n",
       "      <td>0.233993</td>\n",
       "    </tr>\n",
       "    <tr>\n",
       "      <th>27</th>\n",
       "      <td>(26.0,27.0]</td>\n",
       "      <td>2286</td>\n",
       "      <td>0.255031</td>\n",
       "    </tr>\n",
       "    <tr>\n",
       "      <th>28</th>\n",
       "      <td>(27.0,28.0]</td>\n",
       "      <td>2031</td>\n",
       "      <td>0.256524</td>\n",
       "    </tr>\n",
       "    <tr>\n",
       "      <th>29</th>\n",
       "      <td>(28.0,29.0]</td>\n",
       "      <td>1893</td>\n",
       "      <td>0.257792</td>\n",
       "    </tr>\n",
       "    <tr>\n",
       "      <th>30</th>\n",
       "      <td>(29.0,30.0]</td>\n",
       "      <td>1716</td>\n",
       "      <td>0.277972</td>\n",
       "    </tr>\n",
       "  </tbody>\n",
       "</table>\n",
       "</div>"
      ],
      "text/plain": [
       "        dti_cat  nrow  mean_bad_loan\n",
       "20  (19.0,20.0]  5312       0.196724\n",
       "21  (20.0,21.0]  5020       0.204582\n",
       "22  (21.0,22.0]  4684       0.207301\n",
       "23  (22.0,23.0]  4462       0.220977\n",
       "24  (23.0,24.0]  4071       0.225006\n",
       "25  (24.0,25.0]  3743       0.223083\n",
       "26  (25.0,26.0]  2577       0.233993\n",
       "27  (26.0,27.0]  2286       0.255031\n",
       "28  (27.0,28.0]  2031       0.256524\n",
       "29  (28.0,29.0]  1893       0.257792\n",
       "30  (29.0,30.0]  1716       0.277972"
      ]
     },
     "execution_count": 294,
     "metadata": {},
     "output_type": "execute_result"
    }
   ],
   "source": [
    "df[20:31]"
   ]
  },
  {
   "cell_type": "code",
   "execution_count": 267,
   "metadata": {},
   "outputs": [],
   "source": [
    "x_trans.remove(\"annual_inc\")\n",
    "x_trans.append(\"annual_inc_core\")\n",
    "x_trans.append(\"annual_inc_delta\")\n",
    "\n",
    "train[\"annual_inc_core\"] = h2o.H2OFrame.ifelse(train[\"annual_inc\"] <= 10000, 10000, train[\"annual_inc\"])\n",
    "train[\"annual_inc_core\"] = h2o.H2OFrame.ifelse(train[\"annual_inc_core\"] <= 105000,\n",
    "                                               train[\"annual_inc_core\"], 105000)\n",
    "\n",
    "train[\"annual_inc_delta\"] = train[\"annual_inc\"] - train[\"annual_inc_core\"]"
   ]
  },
  {
   "cell_type": "markdown",
   "metadata": {},
   "source": [
    "### 2.3. Separating Typical from Extreme Debt to Income Ratio\n",
    "\n",
    "Looking at the occurance of bad loans on a logit scale reveal that the chance of a bad loan roughly increases linearly in debt-to-income from 5% to 30% and is highly volatile outside of that range due to small numbers of observations. To reflect this finding in the modeling, we will replace the original `dti` measure with two derived measures:\n",
    "\n",
    "\\begin{eqnarray}\n",
    "\\text{dti_core} & = & \\max(5, \\min(\\text{dti}, 30)) \\\\\n",
    "\\text{dti_diff} & = & \\text{dti} - \\text{dti_core}\n",
    "\\end{eqnarray}"
   ]
  },
  {
   "cell_type": "code",
   "execution_count": 268,
   "metadata": {},
   "outputs": [
    {
     "data": {
      "text/html": [
       "<table>\n",
       "<thead>\n",
       "<tr><th style=\"text-align: right;\">  Probs</th><th style=\"text-align: right;\">  dtiQuantiles</th></tr>\n",
       "</thead>\n",
       "<tbody>\n",
       "<tr><td style=\"text-align: right;\">   0   </td><td style=\"text-align: right;\">          0   </td></tr>\n",
       "<tr><td style=\"text-align: right;\">   0.05</td><td style=\"text-align: right;\">          3.76</td></tr>\n",
       "<tr><td style=\"text-align: right;\">   0.25</td><td style=\"text-align: right;\">         10.2 </td></tr>\n",
       "<tr><td style=\"text-align: right;\">   0.5 </td><td style=\"text-align: right;\">         15.6 </td></tr>\n",
       "<tr><td style=\"text-align: right;\">   0.75</td><td style=\"text-align: right;\">         21.25</td></tr>\n",
       "<tr><td style=\"text-align: right;\">   0.95</td><td style=\"text-align: right;\">         29.01</td></tr>\n",
       "<tr><td style=\"text-align: right;\">   1   </td><td style=\"text-align: right;\">         39.93</td></tr>\n",
       "</tbody>\n",
       "</table>"
      ]
     },
     "metadata": {},
     "output_type": "display_data"
    },
    {
     "data": {
      "text/plain": []
     },
     "execution_count": 268,
     "metadata": {},
     "output_type": "execute_result"
    }
   ],
   "source": [
    "train[\"dti\"].quantile([0, 0.05, 0.25, 0.5, 0.75, 0.95, 1])"
   ]
  },
  {
   "cell_type": "code",
   "execution_count": 293,
   "metadata": {},
   "outputs": [],
   "source": [
    "breaks = np.linspace(0, 40, 41).tolist()\n",
    "train[\"dti_cat\"] = train[\"dti\"].cut(breaks = breaks)\n",
    "\n",
    "df = mean_target(train, \"dti_cat\")\n",
    "\n",
    "#plt.yscale(\"logit\")\n",
    "#plt.plot(df[\"dti_cat\"].index, df[\"mean_bad_loan\"])"
   ]
  },
  {
   "cell_type": "code",
   "execution_count": 270,
   "metadata": {},
   "outputs": [
    {
     "data": {
      "text/html": [
       "<div>\n",
       "<style scoped>\n",
       "    .dataframe tbody tr th:only-of-type {\n",
       "        vertical-align: middle;\n",
       "    }\n",
       "\n",
       "    .dataframe tbody tr th {\n",
       "        vertical-align: top;\n",
       "    }\n",
       "\n",
       "    .dataframe thead th {\n",
       "        text-align: right;\n",
       "    }\n",
       "</style>\n",
       "<table border=\"1\" class=\"dataframe\">\n",
       "  <thead>\n",
       "    <tr style=\"text-align: right;\">\n",
       "      <th></th>\n",
       "      <th>dti_cat</th>\n",
       "      <th>nrow</th>\n",
       "      <th>mean_bad_loan</th>\n",
       "    </tr>\n",
       "  </thead>\n",
       "  <tbody>\n",
       "    <tr>\n",
       "      <th>30</th>\n",
       "      <td>(29.0,30.0]</td>\n",
       "      <td>1716</td>\n",
       "      <td>0.277972</td>\n",
       "    </tr>\n",
       "    <tr>\n",
       "      <th>31</th>\n",
       "      <td>(30.0,31.0]</td>\n",
       "      <td>1103</td>\n",
       "      <td>0.291024</td>\n",
       "    </tr>\n",
       "    <tr>\n",
       "      <th>32</th>\n",
       "      <td>(31.0,32.0]</td>\n",
       "      <td>987</td>\n",
       "      <td>0.277609</td>\n",
       "    </tr>\n",
       "    <tr>\n",
       "      <th>33</th>\n",
       "      <td>(32.0,33.0]</td>\n",
       "      <td>787</td>\n",
       "      <td>0.311309</td>\n",
       "    </tr>\n",
       "    <tr>\n",
       "      <th>34</th>\n",
       "      <td>(33.0,34.0]</td>\n",
       "      <td>761</td>\n",
       "      <td>0.290407</td>\n",
       "    </tr>\n",
       "    <tr>\n",
       "      <th>35</th>\n",
       "      <td>(34.0,35.0]</td>\n",
       "      <td>561</td>\n",
       "      <td>0.340463</td>\n",
       "    </tr>\n",
       "    <tr>\n",
       "      <th>36</th>\n",
       "      <td>(35.0,36.0]</td>\n",
       "      <td>55</td>\n",
       "      <td>0.200000</td>\n",
       "    </tr>\n",
       "    <tr>\n",
       "      <th>37</th>\n",
       "      <td>(36.0,37.0]</td>\n",
       "      <td>55</td>\n",
       "      <td>0.218182</td>\n",
       "    </tr>\n",
       "    <tr>\n",
       "      <th>38</th>\n",
       "      <td>(37.0,38.0]</td>\n",
       "      <td>52</td>\n",
       "      <td>0.115385</td>\n",
       "    </tr>\n",
       "    <tr>\n",
       "      <th>39</th>\n",
       "      <td>(38.0,39.0]</td>\n",
       "      <td>46</td>\n",
       "      <td>0.347826</td>\n",
       "    </tr>\n",
       "    <tr>\n",
       "      <th>40</th>\n",
       "      <td>(39.0,40.0]</td>\n",
       "      <td>33</td>\n",
       "      <td>0.000000</td>\n",
       "    </tr>\n",
       "  </tbody>\n",
       "</table>\n",
       "</div>"
      ],
      "text/plain": [
       "        dti_cat  nrow  mean_bad_loan\n",
       "30  (29.0,30.0]  1716       0.277972\n",
       "31  (30.0,31.0]  1103       0.291024\n",
       "32  (31.0,32.0]   987       0.277609\n",
       "33  (32.0,33.0]   787       0.311309\n",
       "34  (33.0,34.0]   761       0.290407\n",
       "35  (34.0,35.0]   561       0.340463\n",
       "36  (35.0,36.0]    55       0.200000\n",
       "37  (36.0,37.0]    55       0.218182\n",
       "38  (37.0,38.0]    52       0.115385\n",
       "39  (38.0,39.0]    46       0.347826\n",
       "40  (39.0,40.0]    33       0.000000"
      ]
     },
     "execution_count": 270,
     "metadata": {},
     "output_type": "execute_result"
    }
   ],
   "source": [
    "df[30:41]"
   ]
  },
  {
   "cell_type": "code",
   "execution_count": 271,
   "metadata": {},
   "outputs": [],
   "source": [
    "x_trans.remove(\"dti\")\n",
    "x_trans.append(\"dti_core\")\n",
    "x_trans.append(\"dti_delta\")\n",
    "\n",
    "train[\"dti_core\"] = h2o.H2OFrame.ifelse(train[\"dti\"] <= 5, 5, train[\"dti\"])\n",
    "train[\"dti_core\"] = h2o.H2OFrame.ifelse(train[\"dti_core\"] <= 30, train[\"dti_core\"], 30)\n",
    "\n",
    "train[\"dti_delta\"] = train[\"dti\"] - train[\"dti_core\"]"
   ]
  },
  {
   "cell_type": "markdown",
   "metadata": {},
   "source": [
    "### 2.4. Separating Typical from Extreme Number of Delinquencies in the Past 2 Years\n",
    "\n",
    "The chance of a bad loan seems to max out at 3 delinquent payments in the past two years. To reflect this finding in the modeling, we will replace the original `delinq_2yrs` measure with two derived measures:\n",
    "\n",
    "\\begin{eqnarray}\n",
    "\\text{delinq_2yrs_core} & = & \\min(\\text{delinq_2yrs}, 3) \\\\\n",
    "\\text{delinq_2yrs_diff} & = & \\text{delinq_2yrs} - \\text{delinq_2yrs_core}\n",
    "\\end{eqnarray}"
   ]
  },
  {
   "cell_type": "code",
   "execution_count": 272,
   "metadata": {},
   "outputs": [
    {
     "data": {
      "text/html": [
       "<table>\n",
       "<thead>\n",
       "<tr><th style=\"text-align: right;\">  Probs</th><th style=\"text-align: right;\">  delinq_2yrsQuantiles</th></tr>\n",
       "</thead>\n",
       "<tbody>\n",
       "<tr><td style=\"text-align: right;\">   0   </td><td style=\"text-align: right;\">                     0</td></tr>\n",
       "<tr><td style=\"text-align: right;\">   0.05</td><td style=\"text-align: right;\">                     0</td></tr>\n",
       "<tr><td style=\"text-align: right;\">   0.25</td><td style=\"text-align: right;\">                     0</td></tr>\n",
       "<tr><td style=\"text-align: right;\">   0.5 </td><td style=\"text-align: right;\">                     0</td></tr>\n",
       "<tr><td style=\"text-align: right;\">   0.75</td><td style=\"text-align: right;\">                     0</td></tr>\n",
       "<tr><td style=\"text-align: right;\">   0.95</td><td style=\"text-align: right;\">                     1</td></tr>\n",
       "<tr><td style=\"text-align: right;\">   1   </td><td style=\"text-align: right;\">                    18</td></tr>\n",
       "</tbody>\n",
       "</table>"
      ]
     },
     "metadata": {},
     "output_type": "display_data"
    },
    {
     "data": {
      "text/plain": []
     },
     "execution_count": 272,
     "metadata": {},
     "output_type": "execute_result"
    }
   ],
   "source": [
    "train[\"delinq_2yrs\"].quantile([0, 0.05, 0.25, 0.5, 0.75, 0.95, 1])"
   ]
  },
  {
   "cell_type": "code",
   "execution_count": 273,
   "metadata": {},
   "outputs": [
    {
     "data": {
      "text/html": [
       "<div>\n",
       "<style scoped>\n",
       "    .dataframe tbody tr th:only-of-type {\n",
       "        vertical-align: middle;\n",
       "    }\n",
       "\n",
       "    .dataframe tbody tr th {\n",
       "        vertical-align: top;\n",
       "    }\n",
       "\n",
       "    .dataframe thead th {\n",
       "        text-align: right;\n",
       "    }\n",
       "</style>\n",
       "<table border=\"1\" class=\"dataframe\">\n",
       "  <thead>\n",
       "    <tr style=\"text-align: right;\">\n",
       "      <th></th>\n",
       "      <th>delinq_2yrs_cat</th>\n",
       "      <th>nrow</th>\n",
       "      <th>mean_bad_loan</th>\n",
       "    </tr>\n",
       "  </thead>\n",
       "  <tbody>\n",
       "    <tr>\n",
       "      <th>0</th>\n",
       "      <td>NaN</td>\n",
       "      <td>0</td>\n",
       "      <td>0.180783</td>\n",
       "    </tr>\n",
       "    <tr>\n",
       "      <th>1</th>\n",
       "      <td>(0.0,1.0]</td>\n",
       "      <td>12879</td>\n",
       "      <td>0.189766</td>\n",
       "    </tr>\n",
       "    <tr>\n",
       "      <th>2</th>\n",
       "      <td>(1.0,2.0]</td>\n",
       "      <td>3467</td>\n",
       "      <td>0.203057</td>\n",
       "    </tr>\n",
       "    <tr>\n",
       "      <th>3</th>\n",
       "      <td>(2.0,3.0]</td>\n",
       "      <td>1127</td>\n",
       "      <td>0.220941</td>\n",
       "    </tr>\n",
       "    <tr>\n",
       "      <th>4</th>\n",
       "      <td>(3.0,4.0]</td>\n",
       "      <td>447</td>\n",
       "      <td>0.210291</td>\n",
       "    </tr>\n",
       "    <tr>\n",
       "      <th>5</th>\n",
       "      <td>(4.0,5.0]</td>\n",
       "      <td>237</td>\n",
       "      <td>0.232068</td>\n",
       "    </tr>\n",
       "  </tbody>\n",
       "</table>\n",
       "</div>"
      ],
      "text/plain": [
       "  delinq_2yrs_cat   nrow  mean_bad_loan\n",
       "0             NaN      0       0.180783\n",
       "1       (0.0,1.0]  12879       0.189766\n",
       "2       (1.0,2.0]   3467       0.203057\n",
       "3       (2.0,3.0]   1127       0.220941\n",
       "4       (3.0,4.0]    447       0.210291\n",
       "5       (4.0,5.0]    237       0.232068"
      ]
     },
     "execution_count": 273,
     "metadata": {},
     "output_type": "execute_result"
    }
   ],
   "source": [
    "breaks = np.linspace(0, 5, 6).tolist()\n",
    "train[\"delinq_2yrs_cat\"] = train[\"delinq_2yrs\"].cut(breaks = breaks)\n",
    "\n",
    "mean_target(train, \"delinq_2yrs_cat\")"
   ]
  },
  {
   "cell_type": "code",
   "execution_count": 274,
   "metadata": {},
   "outputs": [],
   "source": [
    "x_trans.remove(\"delinq_2yrs\")\n",
    "x_trans.append(\"delinq_2yrs_core\")\n",
    "x_trans.append(\"delinq_2yrs_delta\")\n",
    "\n",
    "train[\"delinq_2yrs_core\"] = h2o.H2OFrame.ifelse(train[\"delinq_2yrs\"] <= 3, train[\"delinq_2yrs\"], 3)\n",
    "\n",
    "train[\"delinq_2yrs_delta\"] = train[\"delinq_2yrs\"] - train[\"delinq_2yrs_core\"]"
   ]
  },
  {
   "cell_type": "markdown",
   "metadata": {},
   "source": [
    "### 2.5. Separating Typical from Extreme Revolving Credit Line Utilized\n",
    "\n",
    "The relationship between credit line utilized is somewhat interesting. There appears to be a higher rate for a bad loan when 0% of the credit lines are utilized, then it drops down slightly and roughly increases linearly in credit line utilized up to 100%. To reflect this finding in the modeling, we will replace the original `revol_util` measure with three derived measures:\n",
    "\n",
    "\\begin{eqnarray}\n",
    "\\text{revol_util_0} & = & I(\\text{revol_util} == 0) \\\\\n",
    "\\text{revol_util_core} & = & \\max(5, \\min(\\text{revol_util}, 30)) \\\\\n",
    "\\text{revol_util_diff} & = & \\text{revol_util} - \\text{revol_util_core}\n",
    "\\end{eqnarray}"
   ]
  },
  {
   "cell_type": "code",
   "execution_count": 275,
   "metadata": {},
   "outputs": [
    {
     "data": {
      "text/html": [
       "<table>\n",
       "<thead>\n",
       "<tr><th style=\"text-align: right;\">  Probs</th><th style=\"text-align: right;\">  revol_utilQuantiles</th></tr>\n",
       "</thead>\n",
       "<tbody>\n",
       "<tr><td style=\"text-align: right;\">   0   </td><td style=\"text-align: right;\">                  0  </td></tr>\n",
       "<tr><td style=\"text-align: right;\">   0.05</td><td style=\"text-align: right;\">                  8.6</td></tr>\n",
       "<tr><td style=\"text-align: right;\">   0.25</td><td style=\"text-align: right;\">                 35.5</td></tr>\n",
       "<tr><td style=\"text-align: right;\">   0.5 </td><td style=\"text-align: right;\">                 55.9</td></tr>\n",
       "<tr><td style=\"text-align: right;\">   0.75</td><td style=\"text-align: right;\">                 74.3</td></tr>\n",
       "<tr><td style=\"text-align: right;\">   0.95</td><td style=\"text-align: right;\">                 92.4</td></tr>\n",
       "<tr><td style=\"text-align: right;\">   1   </td><td style=\"text-align: right;\">                150.7</td></tr>\n",
       "</tbody>\n",
       "</table>"
      ]
     },
     "metadata": {},
     "output_type": "display_data"
    },
    {
     "data": {
      "text/plain": []
     },
     "execution_count": 275,
     "metadata": {},
     "output_type": "execute_result"
    }
   ],
   "source": [
    "train[\"revol_util\"].quantile([0, 0.05, 0.25, 0.5, 0.75, 0.95, 1])"
   ]
  },
  {
   "cell_type": "code",
   "execution_count": 292,
   "metadata": {},
   "outputs": [],
   "source": [
    "breaks = np.linspace(0, 120, 25).tolist()\n",
    "train[\"revol_util_cat\"] = train[\"revol_util\"].cut(breaks = breaks)\n",
    "\n",
    "df = mean_target(train, \"revol_util_cat\")\n",
    "\n",
    "#plt.yscale(\"logit\")\n",
    "#plt.plot(df[\"revol_util_cat\"].index, df[\"mean_bad_loan\"])"
   ]
  },
  {
   "cell_type": "code",
   "execution_count": 277,
   "metadata": {},
   "outputs": [
    {
     "data": {
      "text/html": [
       "<div>\n",
       "<style scoped>\n",
       "    .dataframe tbody tr th:only-of-type {\n",
       "        vertical-align: middle;\n",
       "    }\n",
       "\n",
       "    .dataframe tbody tr th {\n",
       "        vertical-align: top;\n",
       "    }\n",
       "\n",
       "    .dataframe thead th {\n",
       "        text-align: right;\n",
       "    }\n",
       "</style>\n",
       "<table border=\"1\" class=\"dataframe\">\n",
       "  <thead>\n",
       "    <tr style=\"text-align: right;\">\n",
       "      <th></th>\n",
       "      <th>revol_util_cat</th>\n",
       "      <th>nrow</th>\n",
       "      <th>mean_bad_loan</th>\n",
       "    </tr>\n",
       "  </thead>\n",
       "  <tbody>\n",
       "    <tr>\n",
       "      <th>20</th>\n",
       "      <td>(95.0,100.0]</td>\n",
       "      <td>3214</td>\n",
       "      <td>0.254200</td>\n",
       "    </tr>\n",
       "    <tr>\n",
       "      <th>21</th>\n",
       "      <td>(100.0,105.0]</td>\n",
       "      <td>173</td>\n",
       "      <td>0.231214</td>\n",
       "    </tr>\n",
       "    <tr>\n",
       "      <th>22</th>\n",
       "      <td>(105.0,110.0]</td>\n",
       "      <td>28</td>\n",
       "      <td>0.250000</td>\n",
       "    </tr>\n",
       "    <tr>\n",
       "      <th>23</th>\n",
       "      <td>(110.0,115.0]</td>\n",
       "      <td>7</td>\n",
       "      <td>0.285714</td>\n",
       "    </tr>\n",
       "    <tr>\n",
       "      <th>24</th>\n",
       "      <td>(115.0,120.0]</td>\n",
       "      <td>3</td>\n",
       "      <td>0.000000</td>\n",
       "    </tr>\n",
       "  </tbody>\n",
       "</table>\n",
       "</div>"
      ],
      "text/plain": [
       "   revol_util_cat  nrow  mean_bad_loan\n",
       "20   (95.0,100.0]  3214       0.254200\n",
       "21  (100.0,105.0]   173       0.231214\n",
       "22  (105.0,110.0]    28       0.250000\n",
       "23  (110.0,115.0]     7       0.285714\n",
       "24  (115.0,120.0]     3       0.000000"
      ]
     },
     "execution_count": 277,
     "metadata": {},
     "output_type": "execute_result"
    }
   ],
   "source": [
    "df[20:25]"
   ]
  },
  {
   "cell_type": "code",
   "execution_count": 278,
   "metadata": {},
   "outputs": [],
   "source": [
    "x_trans.remove(\"revol_util\")\n",
    "x_trans.append(\"revol_util_0\")\n",
    "x_trans.append(\"revol_util_core\")\n",
    "x_trans.append(\"revol_util_delta\")\n",
    "\n",
    "train[\"revol_util_0\"] = train[\"revol_util\"] == 0\n",
    "train[\"revol_util_core\"] = h2o.H2OFrame.ifelse(train[\"revol_util\"] <= 100, train[\"revol_util\"], 100)\n",
    "train[\"revol_util_delta\"] = train[\"revol_util\"] - train[\"revol_util_core\"]"
   ]
  },
  {
   "cell_type": "markdown",
   "metadata": {},
   "source": [
    "### 2.6. Separating Typical from Extreme Number of Credit Lines\n",
    "\n",
    "Looking at the occurance of bad loans on a logit scale reveal that the chance of a bad loan roughly decreases linearly in number of lines of credit up to about 50. To reflect this finding in the modeling, we will replace the original `total_acc` measure with two derived measures:\n",
    "\n",
    "\\begin{eqnarray}\n",
    "\\text{total_acc_core} & = & \\min(\\text{total_acc}, 50) \\\\\n",
    "\\text{total_acc_diff} & = & \\text{total_acc} - \\text{total_acc_core}\n",
    "\\end{eqnarray}"
   ]
  },
  {
   "cell_type": "code",
   "execution_count": 279,
   "metadata": {},
   "outputs": [
    {
     "data": {
      "text/html": [
       "<table>\n",
       "<thead>\n",
       "<tr><th style=\"text-align: right;\">  Probs</th><th style=\"text-align: right;\">  total_accQuantiles</th></tr>\n",
       "</thead>\n",
       "<tbody>\n",
       "<tr><td style=\"text-align: right;\">   0   </td><td style=\"text-align: right;\">                   1</td></tr>\n",
       "<tr><td style=\"text-align: right;\">   0.05</td><td style=\"text-align: right;\">                   8</td></tr>\n",
       "<tr><td style=\"text-align: right;\">   0.25</td><td style=\"text-align: right;\">                  16</td></tr>\n",
       "<tr><td style=\"text-align: right;\">   0.5 </td><td style=\"text-align: right;\">                  23</td></tr>\n",
       "<tr><td style=\"text-align: right;\">   0.75</td><td style=\"text-align: right;\">                  31</td></tr>\n",
       "<tr><td style=\"text-align: right;\">   0.95</td><td style=\"text-align: right;\">                  46</td></tr>\n",
       "<tr><td style=\"text-align: right;\">   1   </td><td style=\"text-align: right;\">                 102</td></tr>\n",
       "</tbody>\n",
       "</table>"
      ]
     },
     "metadata": {},
     "output_type": "display_data"
    },
    {
     "data": {
      "text/plain": []
     },
     "execution_count": 279,
     "metadata": {},
     "output_type": "execute_result"
    }
   ],
   "source": [
    "train[\"total_acc\"].quantile([0, 0.05, 0.25, 0.5, 0.75, 0.95, 1])"
   ]
  },
  {
   "cell_type": "code",
   "execution_count": 296,
   "metadata": {},
   "outputs": [],
   "source": [
    "breaks = np.linspace(0, 60, 13).tolist()\n",
    "train[\"total_acc_cat\"] = train[\"total_acc\"].cut(breaks = breaks)\n",
    "\n",
    "df = mean_target(train, \"total_acc_cat\")\n",
    "\n",
    "#plt.yscale(\"logit\")\n",
    "#plt.plot(df[\"total_acc_cat\"].index, df[\"mean_bad_loan\"])"
   ]
  },
  {
   "cell_type": "code",
   "execution_count": 281,
   "metadata": {},
   "outputs": [
    {
     "data": {
      "text/html": [
       "<table>\n",
       "<thead>\n",
       "<tr><th style=\"text-align: right;\">  C1</th><th style=\"text-align: right;\">  Count</th></tr>\n",
       "</thead>\n",
       "<tbody>\n",
       "<tr><td style=\"text-align: right;\">   0</td><td style=\"text-align: right;\"> 123039</td></tr>\n",
       "<tr><td style=\"text-align: right;\">   1</td><td style=\"text-align: right;\">     23</td></tr>\n",
       "</tbody>\n",
       "</table>"
      ]
     },
     "metadata": {},
     "output_type": "display_data"
    },
    {
     "data": {
      "text/plain": []
     },
     "execution_count": 281,
     "metadata": {},
     "output_type": "execute_result"
    }
   ],
   "source": [
    "(train[\"total_acc\"] == None).table()"
   ]
  },
  {
   "cell_type": "code",
   "execution_count": 282,
   "metadata": {},
   "outputs": [
    {
     "data": {
      "text/html": [
       "<div>\n",
       "<style scoped>\n",
       "    .dataframe tbody tr th:only-of-type {\n",
       "        vertical-align: middle;\n",
       "    }\n",
       "\n",
       "    .dataframe tbody tr th {\n",
       "        vertical-align: top;\n",
       "    }\n",
       "\n",
       "    .dataframe thead th {\n",
       "        text-align: right;\n",
       "    }\n",
       "</style>\n",
       "<table border=\"1\" class=\"dataframe\">\n",
       "  <thead>\n",
       "    <tr style=\"text-align: right;\">\n",
       "      <th></th>\n",
       "      <th>total_acc_cat</th>\n",
       "      <th>nrow</th>\n",
       "      <th>mean_bad_loan</th>\n",
       "    </tr>\n",
       "  </thead>\n",
       "  <tbody>\n",
       "    <tr>\n",
       "      <th>0</th>\n",
       "      <td>NaN</td>\n",
       "      <td>0</td>\n",
       "      <td>0.154404</td>\n",
       "    </tr>\n",
       "    <tr>\n",
       "      <th>1</th>\n",
       "      <td>(0.0,5.0]</td>\n",
       "      <td>1753</td>\n",
       "      <td>0.225328</td>\n",
       "    </tr>\n",
       "    <tr>\n",
       "      <th>2</th>\n",
       "      <td>(5.0,10.0]</td>\n",
       "      <td>9578</td>\n",
       "      <td>0.212048</td>\n",
       "    </tr>\n",
       "  </tbody>\n",
       "</table>\n",
       "</div>"
      ],
      "text/plain": [
       "  total_acc_cat  nrow  mean_bad_loan\n",
       "0           NaN     0       0.154404\n",
       "1     (0.0,5.0]  1753       0.225328\n",
       "2    (5.0,10.0]  9578       0.212048"
      ]
     },
     "execution_count": 282,
     "metadata": {},
     "output_type": "execute_result"
    }
   ],
   "source": [
    "df[0:3]"
   ]
  },
  {
   "cell_type": "code",
   "execution_count": 283,
   "metadata": {},
   "outputs": [
    {
     "data": {
      "text/html": [
       "<div>\n",
       "<style scoped>\n",
       "    .dataframe tbody tr th:only-of-type {\n",
       "        vertical-align: middle;\n",
       "    }\n",
       "\n",
       "    .dataframe tbody tr th {\n",
       "        vertical-align: top;\n",
       "    }\n",
       "\n",
       "    .dataframe thead th {\n",
       "        text-align: right;\n",
       "    }\n",
       "</style>\n",
       "<table border=\"1\" class=\"dataframe\">\n",
       "  <thead>\n",
       "    <tr style=\"text-align: right;\">\n",
       "      <th></th>\n",
       "      <th>total_acc_cat</th>\n",
       "      <th>nrow</th>\n",
       "      <th>mean_bad_loan</th>\n",
       "    </tr>\n",
       "  </thead>\n",
       "  <tbody>\n",
       "    <tr>\n",
       "      <th>8</th>\n",
       "      <td>(35.0,40.0]</td>\n",
       "      <td>8476</td>\n",
       "      <td>0.164936</td>\n",
       "    </tr>\n",
       "    <tr>\n",
       "      <th>9</th>\n",
       "      <td>(40.0,45.0]</td>\n",
       "      <td>5312</td>\n",
       "      <td>0.159074</td>\n",
       "    </tr>\n",
       "    <tr>\n",
       "      <th>10</th>\n",
       "      <td>(45.0,50.0]</td>\n",
       "      <td>3153</td>\n",
       "      <td>0.156359</td>\n",
       "    </tr>\n",
       "    <tr>\n",
       "      <th>11</th>\n",
       "      <td>(50.0,55.0]</td>\n",
       "      <td>1755</td>\n",
       "      <td>0.142450</td>\n",
       "    </tr>\n",
       "    <tr>\n",
       "      <th>12</th>\n",
       "      <td>(55.0,60.0]</td>\n",
       "      <td>972</td>\n",
       "      <td>0.166667</td>\n",
       "    </tr>\n",
       "  </tbody>\n",
       "</table>\n",
       "</div>"
      ],
      "text/plain": [
       "   total_acc_cat  nrow  mean_bad_loan\n",
       "8    (35.0,40.0]  8476       0.164936\n",
       "9    (40.0,45.0]  5312       0.159074\n",
       "10   (45.0,50.0]  3153       0.156359\n",
       "11   (50.0,55.0]  1755       0.142450\n",
       "12   (55.0,60.0]   972       0.166667"
      ]
     },
     "execution_count": 283,
     "metadata": {},
     "output_type": "execute_result"
    }
   ],
   "source": [
    "df[8:13]"
   ]
  },
  {
   "cell_type": "code",
   "execution_count": 284,
   "metadata": {},
   "outputs": [],
   "source": [
    "x_trans.remove(\"total_acc\")\n",
    "x_trans.append(\"total_acc_core\")\n",
    "x_trans.append(\"total_acc_delta\")\n",
    "\n",
    "train[\"total_acc_core\"] = h2o.H2OFrame.ifelse(train[\"total_acc\"] <= 50, train[\"total_acc\"], 50)\n",
    "train[\"total_acc_delta\"] = train[\"total_acc\"] - train[\"total_acc_core\"]"
   ]
  },
  {
   "cell_type": "markdown",
   "metadata": {},
   "source": [
    "### 2.7. Separating Typical from Extreme Longest Credit Length\n",
    "\n",
    "Looking at the occurance of bad loans on a logit scale reveal that the chance of a bad loan roughly decreases linearly in longest credit length from 3 to 20 years and is highly volatile outside of that range due to small numbers of observations. To reflect this finding in the modeling, we will replace the original `longest_credit_length` measure with two derived measures:\n",
    "\n",
    "\\begin{eqnarray}\n",
    "\\text{longest_credit_length_core} & = & \\max(3, \\min(\\text{longest_credit_length}, 20)) \\\\\n",
    "\\text{longest_credit_length_diff} & = & \\text{longest_credit_length} - \\text{longest_credit_length_core}\n",
    "\\end{eqnarray}"
   ]
  },
  {
   "cell_type": "code",
   "execution_count": 285,
   "metadata": {},
   "outputs": [
    {
     "data": {
      "text/html": [
       "<table>\n",
       "<thead>\n",
       "<tr><th style=\"text-align: right;\">  Probs</th><th style=\"text-align: right;\">  longest_credit_lengthQuantiles</th></tr>\n",
       "</thead>\n",
       "<tbody>\n",
       "<tr><td style=\"text-align: right;\">   0   </td><td style=\"text-align: right;\">                               0</td></tr>\n",
       "<tr><td style=\"text-align: right;\">   0.05</td><td style=\"text-align: right;\">                               6</td></tr>\n",
       "<tr><td style=\"text-align: right;\">   0.25</td><td style=\"text-align: right;\">                              10</td></tr>\n",
       "<tr><td style=\"text-align: right;\">   0.5 </td><td style=\"text-align: right;\">                              14</td></tr>\n",
       "<tr><td style=\"text-align: right;\">   0.75</td><td style=\"text-align: right;\">                              18</td></tr>\n",
       "<tr><td style=\"text-align: right;\">   0.95</td><td style=\"text-align: right;\">                              28</td></tr>\n",
       "<tr><td style=\"text-align: right;\">   1   </td><td style=\"text-align: right;\">                              65</td></tr>\n",
       "</tbody>\n",
       "</table>"
      ]
     },
     "metadata": {},
     "output_type": "display_data"
    },
    {
     "data": {
      "text/plain": []
     },
     "execution_count": 285,
     "metadata": {},
     "output_type": "execute_result"
    }
   ],
   "source": [
    "train[\"longest_credit_length\"].quantile([0, 0.05, 0.25, 0.5, 0.75, 0.95, 1])"
   ]
  },
  {
   "cell_type": "code",
   "execution_count": 297,
   "metadata": {},
   "outputs": [],
   "source": [
    "breaks = np.linspace(0, 25, 26).tolist()\n",
    "train[\"longest_credit_length_cat\"] = train[\"longest_credit_length\"].cut(breaks = breaks)\n",
    "\n",
    "df = mean_target(train, \"longest_credit_length_cat\")\n",
    "\n",
    "#plt.yscale(\"logit\")\n",
    "#plt.plot(df[\"longest_credit_length_cat\"].index, df[\"mean_bad_loan\"])"
   ]
  },
  {
   "cell_type": "code",
   "execution_count": 287,
   "metadata": {},
   "outputs": [
    {
     "data": {
      "text/html": [
       "<div>\n",
       "<style scoped>\n",
       "    .dataframe tbody tr th:only-of-type {\n",
       "        vertical-align: middle;\n",
       "    }\n",
       "\n",
       "    .dataframe tbody tr th {\n",
       "        vertical-align: top;\n",
       "    }\n",
       "\n",
       "    .dataframe thead th {\n",
       "        text-align: right;\n",
       "    }\n",
       "</style>\n",
       "<table border=\"1\" class=\"dataframe\">\n",
       "  <thead>\n",
       "    <tr style=\"text-align: right;\">\n",
       "      <th></th>\n",
       "      <th>longest_credit_length_cat</th>\n",
       "      <th>nrow</th>\n",
       "      <th>mean_bad_loan</th>\n",
       "    </tr>\n",
       "  </thead>\n",
       "  <tbody>\n",
       "    <tr>\n",
       "      <th>0</th>\n",
       "      <td>NaN</td>\n",
       "      <td>0</td>\n",
       "      <td>0.171027</td>\n",
       "    </tr>\n",
       "    <tr>\n",
       "      <th>1</th>\n",
       "      <td>(0.0,1.0]</td>\n",
       "      <td>48</td>\n",
       "      <td>0.270833</td>\n",
       "    </tr>\n",
       "    <tr>\n",
       "      <th>2</th>\n",
       "      <td>(1.0,2.0]</td>\n",
       "      <td>72</td>\n",
       "      <td>0.333333</td>\n",
       "    </tr>\n",
       "    <tr>\n",
       "      <th>3</th>\n",
       "      <td>(2.0,3.0]</td>\n",
       "      <td>700</td>\n",
       "      <td>0.208571</td>\n",
       "    </tr>\n",
       "  </tbody>\n",
       "</table>\n",
       "</div>"
      ],
      "text/plain": [
       "  longest_credit_length_cat  nrow  mean_bad_loan\n",
       "0                       NaN     0       0.171027\n",
       "1                 (0.0,1.0]    48       0.270833\n",
       "2                 (1.0,2.0]    72       0.333333\n",
       "3                 (2.0,3.0]   700       0.208571"
      ]
     },
     "execution_count": 287,
     "metadata": {},
     "output_type": "execute_result"
    }
   ],
   "source": [
    "df[0:4]"
   ]
  },
  {
   "cell_type": "code",
   "execution_count": 288,
   "metadata": {},
   "outputs": [
    {
     "data": {
      "text/html": [
       "<div>\n",
       "<style scoped>\n",
       "    .dataframe tbody tr th:only-of-type {\n",
       "        vertical-align: middle;\n",
       "    }\n",
       "\n",
       "    .dataframe tbody tr th {\n",
       "        vertical-align: top;\n",
       "    }\n",
       "\n",
       "    .dataframe thead th {\n",
       "        text-align: right;\n",
       "    }\n",
       "</style>\n",
       "<table border=\"1\" class=\"dataframe\">\n",
       "  <thead>\n",
       "    <tr style=\"text-align: right;\">\n",
       "      <th></th>\n",
       "      <th>longest_credit_length_cat</th>\n",
       "      <th>nrow</th>\n",
       "      <th>mean_bad_loan</th>\n",
       "    </tr>\n",
       "  </thead>\n",
       "  <tbody>\n",
       "    <tr>\n",
       "      <th>20</th>\n",
       "      <td>(19.0,20.0]</td>\n",
       "      <td>3509</td>\n",
       "      <td>0.165004</td>\n",
       "    </tr>\n",
       "    <tr>\n",
       "      <th>21</th>\n",
       "      <td>(20.0,21.0]</td>\n",
       "      <td>2968</td>\n",
       "      <td>0.158693</td>\n",
       "    </tr>\n",
       "    <tr>\n",
       "      <th>22</th>\n",
       "      <td>(21.0,22.0]</td>\n",
       "      <td>2477</td>\n",
       "      <td>0.163101</td>\n",
       "    </tr>\n",
       "    <tr>\n",
       "      <th>23</th>\n",
       "      <td>(22.0,23.0]</td>\n",
       "      <td>2267</td>\n",
       "      <td>0.167181</td>\n",
       "    </tr>\n",
       "    <tr>\n",
       "      <th>24</th>\n",
       "      <td>(23.0,24.0]</td>\n",
       "      <td>2152</td>\n",
       "      <td>0.173792</td>\n",
       "    </tr>\n",
       "    <tr>\n",
       "      <th>25</th>\n",
       "      <td>(24.0,25.0]</td>\n",
       "      <td>1839</td>\n",
       "      <td>0.162045</td>\n",
       "    </tr>\n",
       "  </tbody>\n",
       "</table>\n",
       "</div>"
      ],
      "text/plain": [
       "   longest_credit_length_cat  nrow  mean_bad_loan\n",
       "20               (19.0,20.0]  3509       0.165004\n",
       "21               (20.0,21.0]  2968       0.158693\n",
       "22               (21.0,22.0]  2477       0.163101\n",
       "23               (22.0,23.0]  2267       0.167181\n",
       "24               (23.0,24.0]  2152       0.173792\n",
       "25               (24.0,25.0]  1839       0.162045"
      ]
     },
     "execution_count": 288,
     "metadata": {},
     "output_type": "execute_result"
    }
   ],
   "source": [
    "df[20:26]"
   ]
  },
  {
   "cell_type": "code",
   "execution_count": 289,
   "metadata": {},
   "outputs": [],
   "source": [
    "x_trans.remove(\"longest_credit_length\")\n",
    "x_trans.append(\"longest_credit_length_core\")\n",
    "x_trans.append(\"longest_credit_length_delta\")\n",
    "\n",
    "train[\"longest_credit_length_core\"] = h2o.H2OFrame.ifelse(train[\"longest_credit_length\"] <= 3,\n",
    "                                                          3, train[\"longest_credit_length\"])\n",
    "train[\"longest_credit_length_core\"] = h2o.H2OFrame.ifelse(train[\"longest_credit_length_core\"] <= 20,\n",
    "                                                          train[\"longest_credit_length_core\"], 20)\n",
    "\n",
    "train[\"longest_credit_length_delta\"] = train[\"longest_credit_length\"] - train[\"longest_credit_length_core\"]"
   ]
  },
  {
   "cell_type": "markdown",
   "metadata": {},
   "source": [
    "## 3. Create Indicator Functions\n",
    "\n",
    "### 3.1. Converting Term to a 0/1 Indicator\n",
    "\n",
    "Given that term of the loans are either 3 or 5 years, we will create a simplifed `term_36month` binary indicator that is 1 when the terms of the loan is for 5 years and 0 for loans with a term of 3 years."
   ]
  },
  {
   "cell_type": "code",
   "execution_count": 290,
   "metadata": {},
   "outputs": [
    {
     "data": {
      "text/html": [
       "<table>\n",
       "<thead>\n",
       "<tr><th>term     </th><th style=\"text-align: right;\">  Count</th></tr>\n",
       "</thead>\n",
       "<tbody>\n",
       "<tr><td>36 months</td><td style=\"text-align: right;\">  97490</td></tr>\n",
       "<tr><td>60 months</td><td style=\"text-align: right;\">  25572</td></tr>\n",
       "</tbody>\n",
       "</table>"
      ]
     },
     "metadata": {},
     "output_type": "display_data"
    },
    {
     "data": {
      "text/plain": []
     },
     "execution_count": 290,
     "metadata": {},
     "output_type": "execute_result"
    }
   ],
   "source": [
    "train[\"term\"].table()"
   ]
  },
  {
   "cell_type": "code",
   "execution_count": 291,
   "metadata": {},
   "outputs": [
    {
     "data": {
      "text/html": [
       "<table>\n",
       "<thead>\n",
       "<tr><th style=\"text-align: right;\">  term_60months</th><th style=\"text-align: right;\">  Count</th></tr>\n",
       "</thead>\n",
       "<tbody>\n",
       "<tr><td style=\"text-align: right;\">              0</td><td style=\"text-align: right;\">  97490</td></tr>\n",
       "<tr><td style=\"text-align: right;\">              1</td><td style=\"text-align: right;\">  25572</td></tr>\n",
       "</tbody>\n",
       "</table>"
      ]
     },
     "metadata": {},
     "output_type": "display_data"
    },
    {
     "data": {
      "text/plain": []
     },
     "execution_count": 291,
     "metadata": {},
     "output_type": "execute_result"
    }
   ],
   "source": [
    "x_trans.remove(\"term\")\n",
    "x_trans.append(\"term_60months\")\n",
    "\n",
    "train[\"term_60months\"] = train[\"term\"] == \"60 months\"\n",
    "\n",
    "train[\"term_60months\"].table()"
   ]
  },
  {
   "cell_type": "markdown",
   "metadata": {},
   "source": [
    "### 3.2. Converting Income Verification Status to a 0/1 Indicator\n",
    "\n",
    "Given that incomes are either verified or not verified, we will create a simplifed `verified` binary indicator that is 1 when income has been verified."
   ]
  },
  {
   "cell_type": "code",
   "execution_count": 299,
   "metadata": {},
   "outputs": [
    {
     "data": {
      "text/html": [
       "<table>\n",
       "<thead>\n",
       "<tr><th>verification_status  </th><th style=\"text-align: right;\">  Count</th></tr>\n",
       "</thead>\n",
       "<tbody>\n",
       "<tr><td>not verified         </td><td style=\"text-align: right;\">  44247</td></tr>\n",
       "<tr><td>verified             </td><td style=\"text-align: right;\">  78815</td></tr>\n",
       "</tbody>\n",
       "</table>"
      ]
     },
     "metadata": {},
     "output_type": "display_data"
    },
    {
     "data": {
      "text/plain": []
     },
     "execution_count": 299,
     "metadata": {},
     "output_type": "execute_result"
    }
   ],
   "source": [
    "train[\"verification_status\"].table()"
   ]
  },
  {
   "cell_type": "code",
   "execution_count": 300,
   "metadata": {},
   "outputs": [
    {
     "ename": "ValueError",
     "evalue": "list.remove(x): x not in list",
     "output_type": "error",
     "traceback": [
      "\u001b[0;31m---------------------------------------------------------------------------\u001b[0m",
      "\u001b[0;31mValueError\u001b[0m                                Traceback (most recent call last)",
      "\u001b[0;32m<ipython-input-300-5a5edad9f187>\u001b[0m in \u001b[0;36m<module>\u001b[0;34m\u001b[0m\n\u001b[0;32m----> 1\u001b[0;31m \u001b[0mx_trans\u001b[0m\u001b[0;34m.\u001b[0m\u001b[0mremove\u001b[0m\u001b[0;34m(\u001b[0m\u001b[0;34m\"verification_status\"\u001b[0m\u001b[0;34m)\u001b[0m\u001b[0;34m\u001b[0m\u001b[0;34m\u001b[0m\u001b[0m\n\u001b[0m\u001b[1;32m      2\u001b[0m \u001b[0mx_trans\u001b[0m\u001b[0;34m.\u001b[0m\u001b[0mappend\u001b[0m\u001b[0;34m(\u001b[0m\u001b[0;34m\"verified\"\u001b[0m\u001b[0;34m)\u001b[0m\u001b[0;34m\u001b[0m\u001b[0;34m\u001b[0m\u001b[0m\n\u001b[1;32m      3\u001b[0m \u001b[0;34m\u001b[0m\u001b[0m\n\u001b[1;32m      4\u001b[0m \u001b[0mtrain\u001b[0m\u001b[0;34m[\u001b[0m\u001b[0;34m\"verified\"\u001b[0m\u001b[0;34m]\u001b[0m \u001b[0;34m=\u001b[0m \u001b[0mtrain\u001b[0m\u001b[0;34m[\u001b[0m\u001b[0;34m\"verification_status\"\u001b[0m\u001b[0;34m]\u001b[0m \u001b[0;34m==\u001b[0m \u001b[0;34m\"verified\"\u001b[0m\u001b[0;34m\u001b[0m\u001b[0;34m\u001b[0m\u001b[0m\n\u001b[1;32m      5\u001b[0m \u001b[0mtrain\u001b[0m\u001b[0;34m[\u001b[0m\u001b[0;34m\"verified\"\u001b[0m\u001b[0;34m]\u001b[0m\u001b[0;34m.\u001b[0m\u001b[0mtable\u001b[0m\u001b[0;34m(\u001b[0m\u001b[0;34m)\u001b[0m\u001b[0;34m\u001b[0m\u001b[0;34m\u001b[0m\u001b[0m\n",
      "\u001b[0;31mValueError\u001b[0m: list.remove(x): x not in list"
     ]
    }
   ],
   "source": [
    "x_trans.remove(\"verification_status\")\n",
    "x_trans.append(\"verified\")\n",
    "\n",
    "train[\"verified\"] = train[\"verification_status\"] == \"verified\"\n",
    "train[\"verified\"].table()"
   ]
  },
  {
   "cell_type": "markdown",
   "metadata": {},
   "source": [
    "### 3.3. Creating Missing Value Indicator for Employment Length\n",
    "\n",
    "The most interesting characteristic about employment length is whether or not it is missing. The divide between those with missing values for employment length to those who have a recorded employment length is 26.3% bad loans to 18.0% bad loans respectively. Interestingly, there doesn't appear to be any differences in bad loans across employment lengths."
   ]
  },
  {
   "cell_type": "code",
   "execution_count": 301,
   "metadata": {},
   "outputs": [
    {
     "data": {
      "text/html": [
       "<table>\n",
       "<thead>\n",
       "<tr><th>       </th><th>emp_length        </th></tr>\n",
       "</thead>\n",
       "<tbody>\n",
       "<tr><td>type   </td><td>int               </td></tr>\n",
       "<tr><td>mins   </td><td>0.0               </td></tr>\n",
       "<tr><td>mean   </td><td>5.6807001583611205</td></tr>\n",
       "<tr><td>maxs   </td><td>10.0              </td></tr>\n",
       "<tr><td>sigma  </td><td>3.610320673601871 </td></tr>\n",
       "<tr><td>zeros  </td><td>10727             </td></tr>\n",
       "<tr><td>missing</td><td>4346              </td></tr>\n",
       "<tr><td>0      </td><td>nan               </td></tr>\n",
       "<tr><td>1      </td><td>7.0               </td></tr>\n",
       "<tr><td>2      </td><td>2.0               </td></tr>\n",
       "<tr><td>3      </td><td>10.0              </td></tr>\n",
       "<tr><td>4      </td><td>4.0               </td></tr>\n",
       "<tr><td>5      </td><td>0.0               </td></tr>\n",
       "<tr><td>6      </td><td>10.0              </td></tr>\n",
       "<tr><td>7      </td><td>6.0               </td></tr>\n",
       "<tr><td>8      </td><td>0.0               </td></tr>\n",
       "<tr><td>9      </td><td>10.0              </td></tr>\n",
       "</tbody>\n",
       "</table>"
      ]
     },
     "metadata": {},
     "output_type": "display_data"
    }
   ],
   "source": [
    "train[\"emp_length\"].summary()"
   ]
  },
  {
   "cell_type": "code",
   "execution_count": 302,
   "metadata": {},
   "outputs": [
    {
     "name": "stdout",
     "output_type": "stream",
     "text": [
      "Parse progress: |█████████████████████████████████████████████████████████| 100%\n"
     ]
    },
    {
     "data": {
      "text/html": [
       "<table>\n",
       "<thead>\n",
       "<tr><th style=\"text-align: right;\">  emp_length_missing</th><th style=\"text-align: right;\">  cv_fold</th><th style=\"text-align: right;\">  te_emp_length_missing</th></tr>\n",
       "</thead>\n",
       "<tbody>\n",
       "<tr><td style=\"text-align: right;\">                   0</td><td style=\"text-align: right;\">        0</td><td style=\"text-align: right;\">              -1.52085 </td></tr>\n",
       "<tr><td style=\"text-align: right;\">                   1</td><td style=\"text-align: right;\">        0</td><td style=\"text-align: right;\">              -1.0216  </td></tr>\n",
       "<tr><td style=\"text-align: right;\">                   0</td><td style=\"text-align: right;\">        1</td><td style=\"text-align: right;\">              -1.51402 </td></tr>\n",
       "<tr><td style=\"text-align: right;\">                   1</td><td style=\"text-align: right;\">        1</td><td style=\"text-align: right;\">              -1.06329 </td></tr>\n",
       "<tr><td style=\"text-align: right;\">                   0</td><td style=\"text-align: right;\">        2</td><td style=\"text-align: right;\">              -1.51493 </td></tr>\n",
       "<tr><td style=\"text-align: right;\">                   1</td><td style=\"text-align: right;\">        2</td><td style=\"text-align: right;\">              -1.03287 </td></tr>\n",
       "<tr><td style=\"text-align: right;\">                   0</td><td style=\"text-align: right;\">        3</td><td style=\"text-align: right;\">              -1.51542 </td></tr>\n",
       "<tr><td style=\"text-align: right;\">                   1</td><td style=\"text-align: right;\">        3</td><td style=\"text-align: right;\">              -0.986137</td></tr>\n",
       "<tr><td style=\"text-align: right;\">                   0</td><td style=\"text-align: right;\">        4</td><td style=\"text-align: right;\">              -1.51821 </td></tr>\n",
       "<tr><td style=\"text-align: right;\">                   1</td><td style=\"text-align: right;\">        4</td><td style=\"text-align: right;\">              -1.01942 </td></tr>\n",
       "</tbody>\n",
       "</table>"
      ]
     },
     "metadata": {},
     "output_type": "display_data"
    },
    {
     "data": {
      "text/plain": []
     },
     "execution_count": 302,
     "metadata": {},
     "output_type": "execute_result"
    }
   ],
   "source": [
    "x_trans.append(\"emp_length_missing\")\n",
    "train[\"emp_length_missing\"] = train[\"emp_length\"] == None\n",
    "\n",
    "mean_target_encoding(train, \"emp_length_missing\")"
   ]
  },
  {
   "cell_type": "code",
   "execution_count": 303,
   "metadata": {},
   "outputs": [
    {
     "data": {
      "text/plain": [
       "[<matplotlib.lines.Line2D at 0x119387198>]"
      ]
     },
     "execution_count": 303,
     "metadata": {},
     "output_type": "execute_result"
    },
    {
     "data": {
      "image/png": "[encoded data removed]",
      "text/plain": [
       "<Figure size 432x288 with 1 Axes>"
      ]
     },
     "metadata": {
      "needs_background": "light"
     },
     "output_type": "display_data"
    }
   ],
   "source": [
    "df = mean_target(train, \"emp_length\")\n",
    "\n",
    "plt.yscale(\"logit\")\n",
    "plt.plot(df[\"emp_length\"], df[\"mean_bad_loan\"])"
   ]
  },
  {
   "cell_type": "code",
   "execution_count": 304,
   "metadata": {},
   "outputs": [
    {
     "data": {
      "text/html": [
       "<div>\n",
       "<style scoped>\n",
       "    .dataframe tbody tr th:only-of-type {\n",
       "        vertical-align: middle;\n",
       "    }\n",
       "\n",
       "    .dataframe tbody tr th {\n",
       "        vertical-align: top;\n",
       "    }\n",
       "\n",
       "    .dataframe thead th {\n",
       "        text-align: right;\n",
       "    }\n",
       "</style>\n",
       "<table border=\"1\" class=\"dataframe\">\n",
       "  <thead>\n",
       "    <tr style=\"text-align: right;\">\n",
       "      <th></th>\n",
       "      <th>emp_length</th>\n",
       "      <th>nrow</th>\n",
       "      <th>mean_bad_loan</th>\n",
       "    </tr>\n",
       "  </thead>\n",
       "  <tbody>\n",
       "    <tr>\n",
       "      <th>0</th>\n",
       "      <td>NaN</td>\n",
       "      <td>0</td>\n",
       "      <td>0.264151</td>\n",
       "    </tr>\n",
       "    <tr>\n",
       "      <th>1</th>\n",
       "      <td>0.0</td>\n",
       "      <td>10727</td>\n",
       "      <td>0.180852</td>\n",
       "    </tr>\n",
       "    <tr>\n",
       "      <th>2</th>\n",
       "      <td>1.0</td>\n",
       "      <td>8506</td>\n",
       "      <td>0.176699</td>\n",
       "    </tr>\n",
       "    <tr>\n",
       "      <th>3</th>\n",
       "      <td>2.0</td>\n",
       "      <td>11877</td>\n",
       "      <td>0.173023</td>\n",
       "    </tr>\n",
       "    <tr>\n",
       "      <th>4</th>\n",
       "      <td>3.0</td>\n",
       "      <td>10243</td>\n",
       "      <td>0.177292</td>\n",
       "    </tr>\n",
       "    <tr>\n",
       "      <th>5</th>\n",
       "      <td>4.0</td>\n",
       "      <td>8285</td>\n",
       "      <td>0.176101</td>\n",
       "    </tr>\n",
       "    <tr>\n",
       "      <th>6</th>\n",
       "      <td>5.0</td>\n",
       "      <td>9313</td>\n",
       "      <td>0.180930</td>\n",
       "    </tr>\n",
       "    <tr>\n",
       "      <th>7</th>\n",
       "      <td>6.0</td>\n",
       "      <td>7472</td>\n",
       "      <td>0.189106</td>\n",
       "    </tr>\n",
       "    <tr>\n",
       "      <th>8</th>\n",
       "      <td>7.0</td>\n",
       "      <td>6766</td>\n",
       "      <td>0.192876</td>\n",
       "    </tr>\n",
       "    <tr>\n",
       "      <th>9</th>\n",
       "      <td>8.0</td>\n",
       "      <td>5584</td>\n",
       "      <td>0.189649</td>\n",
       "    </tr>\n",
       "    <tr>\n",
       "      <th>10</th>\n",
       "      <td>9.0</td>\n",
       "      <td>4600</td>\n",
       "      <td>0.186522</td>\n",
       "    </tr>\n",
       "    <tr>\n",
       "      <th>11</th>\n",
       "      <td>10.0</td>\n",
       "      <td>35343</td>\n",
       "      <td>0.177404</td>\n",
       "    </tr>\n",
       "  </tbody>\n",
       "</table>\n",
       "</div>"
      ],
      "text/plain": [
       "    emp_length   nrow  mean_bad_loan\n",
       "0          NaN      0       0.264151\n",
       "1          0.0  10727       0.180852\n",
       "2          1.0   8506       0.176699\n",
       "3          2.0  11877       0.173023\n",
       "4          3.0  10243       0.177292\n",
       "5          4.0   8285       0.176101\n",
       "6          5.0   9313       0.180930\n",
       "7          6.0   7472       0.189106\n",
       "8          7.0   6766       0.192876\n",
       "9          8.0   5584       0.189649\n",
       "10         9.0   4600       0.186522\n",
       "11        10.0  35343       0.177404"
      ]
     },
     "execution_count": 304,
     "metadata": {},
     "output_type": "execute_result"
    }
   ],
   "source": [
    "df"
   ]
  },
  {
   "cell_type": "markdown",
   "metadata": {},
   "source": [
    "## 4. Combining Categories\n",
    "### 4.1.  Combining Categories in Home Ownership\n",
    "\n",
    "Although there are 6 recorded categories within home ownership, only three had over 200 observations: OWN, MORTGAGE, and RENT. The remaining three are so infrequent we will combine them {ANY, NONE, OTHER} with RENT to form an enlarged OTHER category. This new `home_ownership_3cat` variable will have values in {MORTGAGE, OTHER, OWN}."
   ]
  },
  {
   "cell_type": "code",
   "execution_count": 305,
   "metadata": {},
   "outputs": [
    {
     "data": {
      "text/html": [
       "<div>\n",
       "<style scoped>\n",
       "    .dataframe tbody tr th:only-of-type {\n",
       "        vertical-align: middle;\n",
       "    }\n",
       "\n",
       "    .dataframe tbody tr th {\n",
       "        vertical-align: top;\n",
       "    }\n",
       "\n",
       "    .dataframe thead th {\n",
       "        text-align: right;\n",
       "    }\n",
       "</style>\n",
       "<table border=\"1\" class=\"dataframe\">\n",
       "  <thead>\n",
       "    <tr style=\"text-align: right;\">\n",
       "      <th></th>\n",
       "      <th>home_ownership</th>\n",
       "      <th>nrow</th>\n",
       "      <th>mean_bad_loan</th>\n",
       "    </tr>\n",
       "  </thead>\n",
       "  <tbody>\n",
       "    <tr>\n",
       "      <th>0</th>\n",
       "      <td>MORTGAGE</td>\n",
       "      <td>59901</td>\n",
       "      <td>0.162835</td>\n",
       "    </tr>\n",
       "    <tr>\n",
       "      <th>1</th>\n",
       "      <td>NONE</td>\n",
       "      <td>27</td>\n",
       "      <td>0.259259</td>\n",
       "    </tr>\n",
       "    <tr>\n",
       "      <th>2</th>\n",
       "      <td>OTHER</td>\n",
       "      <td>116</td>\n",
       "      <td>0.215517</td>\n",
       "    </tr>\n",
       "    <tr>\n",
       "      <th>3</th>\n",
       "      <td>OWN</td>\n",
       "      <td>10165</td>\n",
       "      <td>0.189670</td>\n",
       "    </tr>\n",
       "    <tr>\n",
       "      <th>4</th>\n",
       "      <td>RENT</td>\n",
       "      <td>52853</td>\n",
       "      <td>0.204284</td>\n",
       "    </tr>\n",
       "  </tbody>\n",
       "</table>\n",
       "</div>"
      ],
      "text/plain": [
       "  home_ownership   nrow  mean_bad_loan\n",
       "0       MORTGAGE  59901       0.162835\n",
       "1           NONE     27       0.259259\n",
       "2          OTHER    116       0.215517\n",
       "3            OWN  10165       0.189670\n",
       "4           RENT  52853       0.204284"
      ]
     },
     "execution_count": 305,
     "metadata": {},
     "output_type": "execute_result"
    }
   ],
   "source": [
    "mean_target(train, \"home_ownership\")"
   ]
  },
  {
   "cell_type": "code",
   "execution_count": 306,
   "metadata": {},
   "outputs": [
    {
     "data": {
      "text/html": [
       "<table>\n",
       "<thead>\n",
       "<tr><th>home_ownership  </th><th>home_ownership_3cat  </th><th style=\"text-align: right;\">  Counts</th></tr>\n",
       "</thead>\n",
       "<tbody>\n",
       "<tr><td>MORTGAGE        </td><td>MORTGAGE             </td><td style=\"text-align: right;\">   59901</td></tr>\n",
       "<tr><td>NONE            </td><td>OTHER                </td><td style=\"text-align: right;\">      27</td></tr>\n",
       "<tr><td>OTHER           </td><td>OTHER                </td><td style=\"text-align: right;\">     116</td></tr>\n",
       "<tr><td>OWN             </td><td>OWN                  </td><td style=\"text-align: right;\">   10165</td></tr>\n",
       "<tr><td>RENT            </td><td>OTHER                </td><td style=\"text-align: right;\">   52853</td></tr>\n",
       "</tbody>\n",
       "</table>"
      ]
     },
     "metadata": {},
     "output_type": "display_data"
    },
    {
     "data": {
      "text/plain": []
     },
     "execution_count": 306,
     "metadata": {},
     "output_type": "execute_result"
    }
   ],
   "source": [
    "lvls = [\"OTHER\", \"MORTGAGE\", \"OTHER\", \"OTHER\", \"OWN\", \"OTHER\"]\n",
    "train[\"home_ownership_3cat\"] = train[\"home_ownership\"].set_levels(lvls).ascharacter().asfactor()\n",
    "\n",
    "train[[\"home_ownership\", \"home_ownership_3cat\"]].table()"
   ]
  },
  {
   "cell_type": "code",
   "execution_count": 307,
   "metadata": {},
   "outputs": [
    {
     "data": {
      "text/html": [
       "<div>\n",
       "<style scoped>\n",
       "    .dataframe tbody tr th:only-of-type {\n",
       "        vertical-align: middle;\n",
       "    }\n",
       "\n",
       "    .dataframe tbody tr th {\n",
       "        vertical-align: top;\n",
       "    }\n",
       "\n",
       "    .dataframe thead th {\n",
       "        text-align: right;\n",
       "    }\n",
       "</style>\n",
       "<table border=\"1\" class=\"dataframe\">\n",
       "  <thead>\n",
       "    <tr style=\"text-align: right;\">\n",
       "      <th></th>\n",
       "      <th>home_ownership_3cat</th>\n",
       "      <th>nrow</th>\n",
       "      <th>mean_bad_loan</th>\n",
       "    </tr>\n",
       "  </thead>\n",
       "  <tbody>\n",
       "    <tr>\n",
       "      <th>0</th>\n",
       "      <td>MORTGAGE</td>\n",
       "      <td>59901</td>\n",
       "      <td>0.162835</td>\n",
       "    </tr>\n",
       "    <tr>\n",
       "      <th>1</th>\n",
       "      <td>OTHER</td>\n",
       "      <td>52996</td>\n",
       "      <td>0.204336</td>\n",
       "    </tr>\n",
       "    <tr>\n",
       "      <th>2</th>\n",
       "      <td>OWN</td>\n",
       "      <td>10165</td>\n",
       "      <td>0.189670</td>\n",
       "    </tr>\n",
       "  </tbody>\n",
       "</table>\n",
       "</div>"
      ],
      "text/plain": [
       "  home_ownership_3cat   nrow  mean_bad_loan\n",
       "0            MORTGAGE  59901       0.162835\n",
       "1               OTHER  52996       0.204336\n",
       "2                 OWN  10165       0.189670"
      ]
     },
     "execution_count": 307,
     "metadata": {},
     "output_type": "execute_result"
    }
   ],
   "source": [
    "mean_target(train, \"home_ownership_3cat\")"
   ]
  },
  {
   "cell_type": "code",
   "execution_count": 308,
   "metadata": {},
   "outputs": [],
   "source": [
    "x_trans.remove(\"home_ownership\")\n",
    "x_trans.append(\"home_ownership_3cat\")"
   ]
  },
  {
   "cell_type": "markdown",
   "metadata": {},
   "source": [
    "# Step 5. Train Models using Transformed Data\n",
    "\n",
    "The transformed variables are"
   ]
  },
  {
   "cell_type": "code",
   "execution_count": 309,
   "metadata": {},
   "outputs": [
    {
     "data": {
      "text/plain": [
       "['emp_length',\n",
       " 'te_purpose',\n",
       " 'te_addr_state',\n",
       " 'loan_amnt_core',\n",
       " 'loan_amnt_delta',\n",
       " 'annual_inc_core',\n",
       " 'annual_inc_delta',\n",
       " 'dti_core',\n",
       " 'dti_delta',\n",
       " 'delinq_2yrs_core',\n",
       " 'delinq_2yrs_delta',\n",
       " 'revol_util_0',\n",
       " 'revol_util_core',\n",
       " 'revol_util_delta',\n",
       " 'total_acc_core',\n",
       " 'total_acc_delta',\n",
       " 'longest_credit_length_core',\n",
       " 'longest_credit_length_delta',\n",
       " 'term_60months',\n",
       " 'verified',\n",
       " 'emp_length_missing',\n",
       " 'home_ownership_3cat']"
      ]
     },
     "execution_count": 309,
     "metadata": {},
     "output_type": "execute_result"
    }
   ],
   "source": [
    "x_trans"
   ]
  },
  {
   "cell_type": "markdown",
   "metadata": {},
   "source": [
    "We not fit a new set of models using AutoML"
   ]
  },
  {
   "cell_type": "code",
   "execution_count": 310,
   "metadata": {},
   "outputs": [
    {
     "name": "stdout",
     "output_type": "stream",
     "text": [
      "AutoML progress: |████████████████████████████████████████████████████████| 100%\n"
     ]
    }
   ],
   "source": [
    "aml_trans = H2OAutoML(max_models = 6, exclude_algos = ['DeepLearning'])\n",
    "aml_trans.train(x = x_trans, y = y, training_frame = train)"
   ]
  },
  {
   "cell_type": "code",
   "execution_count": 311,
   "metadata": {},
   "outputs": [
    {
     "data": {
      "text/html": [
       "<table>\n",
       "<thead>\n",
       "<tr><th>model_id                                           </th><th style=\"text-align: right;\">     auc</th><th style=\"text-align: right;\">  logloss</th><th style=\"text-align: right;\">  mean_per_class_error</th><th style=\"text-align: right;\">    rmse</th><th style=\"text-align: right;\">     mse</th></tr>\n",
       "</thead>\n",
       "<tbody>\n",
       "<tr><td>StackedEnsemble_AllModels_AutoML_20190809_200905   </td><td style=\"text-align: right;\">0.68349 </td><td style=\"text-align: right;\"> 0.44528 </td><td style=\"text-align: right;\">              0.364896</td><td style=\"text-align: right;\">0.37414 </td><td style=\"text-align: right;\">0.139981</td></tr>\n",
       "<tr><td>StackedEnsemble_BestOfFamily_AutoML_20190809_200905</td><td style=\"text-align: right;\">0.682609</td><td style=\"text-align: right;\"> 0.445546</td><td style=\"text-align: right;\">              0.36643 </td><td style=\"text-align: right;\">0.374244</td><td style=\"text-align: right;\">0.140059</td></tr>\n",
       "<tr><td>GBM_1_AutoML_20190809_200905                       </td><td style=\"text-align: right;\">0.681719</td><td style=\"text-align: right;\"> 0.444415</td><td style=\"text-align: right;\">              0.367225</td><td style=\"text-align: right;\">0.373932</td><td style=\"text-align: right;\">0.139825</td></tr>\n",
       "<tr><td>XGBoost_3_AutoML_20190809_200905                   </td><td style=\"text-align: right;\">0.679835</td><td style=\"text-align: right;\"> 0.445515</td><td style=\"text-align: right;\">              0.369837</td><td style=\"text-align: right;\">0.374138</td><td style=\"text-align: right;\">0.139979</td></tr>\n",
       "<tr><td>XGBoost_1_AutoML_20190809_200905                   </td><td style=\"text-align: right;\">0.679322</td><td style=\"text-align: right;\"> 0.445255</td><td style=\"text-align: right;\">              0.36867 </td><td style=\"text-align: right;\">0.374358</td><td style=\"text-align: right;\">0.140144</td></tr>\n",
       "<tr><td>GLM_grid_1_AutoML_20190809_200905_model_1          </td><td style=\"text-align: right;\">0.676844</td><td style=\"text-align: right;\"> 0.445642</td><td style=\"text-align: right;\">              0.371063</td><td style=\"text-align: right;\">0.374368</td><td style=\"text-align: right;\">0.140151</td></tr>\n",
       "<tr><td>XGBoost_2_AutoML_20190809_200905                   </td><td style=\"text-align: right;\">0.675382</td><td style=\"text-align: right;\"> 0.446685</td><td style=\"text-align: right;\">              0.372382</td><td style=\"text-align: right;\">0.374971</td><td style=\"text-align: right;\">0.140603</td></tr>\n",
       "<tr><td>DRF_1_AutoML_20190809_200905                       </td><td style=\"text-align: right;\">0.662563</td><td style=\"text-align: right;\"> 0.452761</td><td style=\"text-align: right;\">              0.381284</td><td style=\"text-align: right;\">0.377448</td><td style=\"text-align: right;\">0.142467</td></tr>\n",
       "</tbody>\n",
       "</table>"
      ]
     },
     "metadata": {},
     "output_type": "display_data"
    },
    {
     "name": "stdout",
     "output_type": "stream",
     "text": [
      "\n"
     ]
    }
   ],
   "source": [
    "print(aml_trans.leaderboard)"
   ]
  },
  {
   "cell_type": "code",
   "execution_count": 314,
   "metadata": {},
   "outputs": [
    {
     "data": {
      "image/png": "[encoded data removed]",
      "text/plain": [
       "<Figure size 1008x720 with 1 Axes>"
      ]
     },
     "metadata": {
      "needs_background": "light"
     },
     "output_type": "display_data"
    }
   ],
   "source": [
    "best_model_trans = h2o.get_model(aml_trans.leaderboard[2,'model_id'])\n",
    "best_model_trans.varimp_plot()"
   ]
  },
  {
   "cell_type": "code",
   "execution_count": 315,
   "metadata": {},
   "outputs": [
    {
     "name": "stdout",
     "output_type": "stream",
     "text": [
      "AUC (orig): train = 0.7216, xval = 0.6830\n"
     ]
    }
   ],
   "source": [
    "print(\"AUC (orig): train = {:.4f}, xval = {:.4f}\" \\\n",
    "      .format(best_model.auc(train = True),\n",
    "              best_model.auc(xval = True)))"
   ]
  },
  {
   "cell_type": "markdown",
   "metadata": {},
   "source": [
    "# Step 6 (of 6). Shutdown H2O Cluster"
   ]
  },
  {
   "cell_type": "code",
   "execution_count": 316,
   "metadata": {},
   "outputs": [
    {
     "name": "stdout",
     "output_type": "stream",
     "text": [
      "H2O session _sid_9b86 closed.\n"
     ]
    }
   ],
   "source": [
    "h2o.cluster().shutdown()"
   ]
  }
 ],
 "metadata": {
  "kernelspec": {
   "display_name": "Python 3",
   "language": "python",
   "name": "python3"
  },
  "language_info": {
   "codemirror_mode": {
    "name": "ipython",
    "version": 3
   },
   "file_extension": ".py",
   "mimetype": "text/x-python",
   "name": "python",
   "nbconvert_exporter": "python",
   "pygments_lexer": "ipython3",
   "version": "3.6.8"
  }
 },
 "nbformat": 4,
 "nbformat_minor": 2
}
