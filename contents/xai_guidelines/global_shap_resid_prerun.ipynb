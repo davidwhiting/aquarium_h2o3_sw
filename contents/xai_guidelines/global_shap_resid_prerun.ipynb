{
 "cells": [
  {
   "cell_type": "markdown",
   "metadata": {},
   "source": [
    "## License \n",
    "\n",
    "Copyright 2017 - 2019 Patrick Hall, Navdeep Gill, and the H2O.ai team\n",
    "\n",
    "Licensed under the Apache License, Version 2.0 (the \"License\");\n",
    "you may not use this file except in compliance with the License.\n",
    "You may obtain a copy of the License at\n",
    "\n",
    "    http://www.apache.org/licenses/LICENSE-2.0\n",
    "\n",
    "Unless required by applicable law or agreed to in writing, software\n",
    "distributed under the License is distributed on an \"AS IS\" BASIS,\n",
    "WITHOUT WARRANTIES OR CONDITIONS OF ANY KIND, either express or implied.\n",
    "See the License for the specific language governing permissions and\n",
    "limitations under the License.\n",
    "\n",
    "**DISCLAIMER:** This notebook is not legal compliance advice."
   ]
  },
  {
   "cell_type": "markdown",
   "metadata": {},
   "source": [
    "# Global Shapley Values and Residual Analysis\n",
    "\n",
    "#### Start H2O cluster\n",
    "\n",
    "\n",
    "The `os` commands below check whether this notebook is being run on the Aquarium platform. "
   ]
  },
  {
   "cell_type": "code",
   "execution_count": 1,
   "metadata": {},
   "outputs": [],
   "source": [
    "import os\n",
    "\n",
    "startup = '/home/h2o/bin/aquarium_startup'\n",
    "if os.path.exists(startup):\n",
    "    os.system(startup)\n",
    "    local_url = 'http://localhost:54321/h2o'\n",
    "    aquarium = True\n",
    "    !sleep 5\n",
    "else:\n",
    "    local_url = 'http://localhost:54321'\n",
    "    aquarium = False"
   ]
  },
  {
   "cell_type": "markdown",
   "metadata": {},
   "source": [
    "#### Python imports\n",
    "In general, NumPy and Pandas will be used for data manipulation purposes and h2o will be used for modeling tasks."
   ]
  },
  {
   "cell_type": "code",
   "execution_count": 2,
   "metadata": {},
   "outputs": [],
   "source": [
    "# h2o Python API with specific classes\n",
    "import h2o \n",
    "from h2o.estimators.gbm import H2OGradientBoostingEstimator\n",
    "\n",
    "import numpy as np   # array, vector, matrix calculations\n",
    "import pandas as pd  # DataFrame handling\n",
    "\n",
    "pd.options.display.max_columns = 999 # enable display of all columns in notebook\n",
    "\n",
    "# plotting functionality\n",
    "import matplotlib.pyplot as plt\n",
    "import seaborn as sns\n",
    "\n",
    "import shap # Python Shapley value package\n",
    "\n",
    "# display plots in notebook\n",
    "%matplotlib inline\n",
    "\n",
    "# ignore irrelevant warnings\n",
    "import warnings\n",
    "warnings.simplefilter(action='ignore', category=FutureWarning)"
   ]
  },
  {
   "cell_type": "markdown",
   "metadata": {},
   "source": [
    "#### Start h2o\n",
    "H2o is both a library and a server. The machine learning algorithms in the library take advantage of the multithreaded and distributed architecture provided by the server to train machine learning algorithms extremely efficiently. The API for the library was imported above in cell 2, but the server still needs to be started.\n",
    "\n",
    ">The parameters used in `h2o.init` will depend on your specific environment. Regardless of how H2O is installed, if you start a cluster, you will need to ensure that it is shut down when you are done."
   ]
  },
  {
   "cell_type": "code",
   "execution_count": 3,
   "metadata": {},
   "outputs": [
    {
     "name": "stdout",
     "output_type": "stream",
     "text": [
      "Checking whether there is an H2O instance running at http://localhost:54321/h2o . connected.\n"
     ]
    },
    {
     "data": {
      "text/html": [
       "<div style=\"overflow:auto\"><table style=\"width:50%\"><tr><td>H2O cluster uptime:</td>\n",
       "<td>07 secs</td></tr>\n",
       "<tr><td>H2O cluster timezone:</td>\n",
       "<td>Etc/UTC</td></tr>\n",
       "<tr><td>H2O data parsing timezone:</td>\n",
       "<td>UTC</td></tr>\n",
       "<tr><td>H2O cluster version:</td>\n",
       "<td>3.26.0.2</td></tr>\n",
       "<tr><td>H2O cluster version age:</td>\n",
       "<td>1 month and 13 days </td></tr>\n",
       "<tr><td>H2O cluster name:</td>\n",
       "<td>h2o</td></tr>\n",
       "<tr><td>H2O cluster total nodes:</td>\n",
       "<td>1</td></tr>\n",
       "<tr><td>H2O cluster free memory:</td>\n",
       "<td>13.98 Gb</td></tr>\n",
       "<tr><td>H2O cluster total cores:</td>\n",
       "<td>16</td></tr>\n",
       "<tr><td>H2O cluster allowed cores:</td>\n",
       "<td>16</td></tr>\n",
       "<tr><td>H2O cluster status:</td>\n",
       "<td>accepting new members, healthy</td></tr>\n",
       "<tr><td>H2O connection url:</td>\n",
       "<td>http://localhost:54321/h2o</td></tr>\n",
       "<tr><td>H2O connection proxy:</td>\n",
       "<td>None</td></tr>\n",
       "<tr><td>H2O internal security:</td>\n",
       "<td>False</td></tr>\n",
       "<tr><td>H2O API Extensions:</td>\n",
       "<td>Amazon S3, XGBoost, Algos, AutoML, Core V3, Core V4</td></tr>\n",
       "<tr><td>Python version:</td>\n",
       "<td>3.6.9 final</td></tr></table></div>"
      ],
      "text/plain": [
       "--------------------------  ---------------------------------------------------\n",
       "H2O cluster uptime:         07 secs\n",
       "H2O cluster timezone:       Etc/UTC\n",
       "H2O data parsing timezone:  UTC\n",
       "H2O cluster version:        3.26.0.2\n",
       "H2O cluster version age:    1 month and 13 days\n",
       "H2O cluster name:           h2o\n",
       "H2O cluster total nodes:    1\n",
       "H2O cluster free memory:    13.98 Gb\n",
       "H2O cluster total cores:    16\n",
       "H2O cluster allowed cores:  16\n",
       "H2O cluster status:         accepting new members, healthy\n",
       "H2O connection url:         http://localhost:54321/h2o\n",
       "H2O connection proxy:\n",
       "H2O internal security:      False\n",
       "H2O API Extensions:         Amazon S3, XGBoost, Algos, AutoML, Core V3, Core V4\n",
       "Python version:             3.6.9 final\n",
       "--------------------------  ---------------------------------------------------"
      ]
     },
     "metadata": {},
     "output_type": "display_data"
    }
   ],
   "source": [
    "h2o.init(url=local_url, max_mem_size='2G')\n",
    "h2o.remove_all()    # remove any existing data structures from h2o memory"
   ]
  },
  {
   "cell_type": "markdown",
   "metadata": {},
   "source": [
    "## Load, explore, and prepare UCI credit card default data\n",
    "\n",
    "UCI credit card default data: https://archive.ics.uci.edu/ml/datasets/default+of+credit+card+clients\n",
    "\n",
    "The UCI credit card default data contains demographic and payment information about credit card customers in Taiwan in the year 2005. The data set contains 23 input variables: \n",
    "\n",
    "* **`LIMIT_BAL`**: Amount of given credit (NT dollar)\n",
    "* **`SEX`**: 1 = male; 2 = female\n",
    "* **`EDUCATION`**: 1 = graduate school; 2 = university; 3 = high school; 4 = others \n",
    "* **`MARRIAGE`**: 1 = married; 2 = single; 3 = others\n",
    "* **`AGE`**: Age in years \n",
    "* **`PAY_0`, `PAY_2` - `PAY_6`**: History of past payment; `PAY_0` = the repayment status in September, 2005; `PAY_2` = the repayment status in August, 2005; ...; `PAY_6` = the repayment status in April, 2005. The measurement scale for the repayment status is: -1 = pay duly; 1 = payment delay for one month; 2 = payment delay for two months; ...; 8 = payment delay for eight months; 9 = payment delay for nine months and above. \n",
    "* **`BILL_AMT1` - `BILL_AMT6`**: Amount of bill statement (NT dollar). `BILL_AMNT1` = amount of bill statement in September, 2005; `BILL_AMT2` = amount of bill statement in August, 2005; ...; `BILL_AMT6` = amount of bill statement in April, 2005. \n",
    "* **`PAY_AMT1` - `PAY_AMT6`**: Amount of previous payment (NT dollar). `PAY_AMT1` = amount paid in September, 2005; `PAY_AMT2` = amount paid in August, 2005; ...; `PAY_AMT6` = amount paid in April, 2005. \n",
    "\n",
    "The shorthand name y is assigned to the prediction target. X is assigned to all other input variables in the credit card default data except the row indentifier, ID, and the demographic variables are dropped from the analysis.\n",
    "\n",
    "Because h2o accepts both numeric and character inputs, some variables will be recoded into more transparent character values.\n",
    "\n",
    "#### Import data and clean"
   ]
  },
  {
   "cell_type": "code",
   "execution_count": 4,
   "metadata": {},
   "outputs": [],
   "source": [
    "# import XLS file\n",
    "path = 'default_of_credit_card_clients.xls'\n",
    "data = pd.read_excel(path,\n",
    "                     skiprows=1)\n",
    "\n",
    "# remove spaces from target column name \n",
    "data = data.rename(columns={'default payment next month': 'DEFAULT_NEXT_MONTH'}) "
   ]
  },
  {
   "cell_type": "markdown",
   "metadata": {},
   "source": [
    "#### Assign modeling roles\n",
    "The shorthand name y is assigned to the prediction target. X is assigned to all other input variables in the credit card default data except the row indentifier, ID."
   ]
  },
  {
   "cell_type": "code",
   "execution_count": 5,
   "metadata": {},
   "outputs": [
    {
     "name": "stdout",
     "output_type": "stream",
     "text": [
      "y = DEFAULT_NEXT_MONTH\n",
      "X = ['PAY_0', 'PAY_2', 'PAY_3', 'PAY_4', 'PAY_5', 'PAY_6', 'BILL_AMT1', 'BILL_AMT2', 'BILL_AMT3', 'BILL_AMT4', 'BILL_AMT5', 'BILL_AMT6', 'PAY_AMT1', 'PAY_AMT2', 'PAY_AMT3', 'PAY_AMT4', 'PAY_AMT5', 'PAY_AMT6']\n"
     ]
    }
   ],
   "source": [
    "# assign target and inputs for GBM\n",
    "y = 'DEFAULT_NEXT_MONTH'\n",
    "X = [name for name in data.columns if name not in [y, 'ID', 'AGE', 'EDUCATION', 'SEX', 'MARRIAGE', 'LIMIT_BAL']]\n",
    "print('y =', y)\n",
    "print('X =', X)"
   ]
  },
  {
   "cell_type": "markdown",
   "metadata": {},
   "source": [
    "#### Helper function for recoding values in the UCI credict card default data\n",
    "This simple function maps longer, more understandable character string values from the UCI credit card default data dictionary to the original integer values of the input variables found in the dataset. These character values can be used directly in h2o decision tree models, and the function returns the original Pandas DataFrame as an h2o object, an H2OFrame. H2o models cannot run on Pandas DataFrames. They require H2OFrames."
   ]
  },
  {
   "cell_type": "code",
   "execution_count": 6,
   "metadata": {},
   "outputs": [
    {
     "name": "stdout",
     "output_type": "stream",
     "text": [
      "Parse progress: |█████████████████████████████████████████████████████████| 100%\n"
     ]
    }
   ],
   "source": [
    "def recode_cc_data(frame):\n",
    "    \n",
    "    \"\"\" Recodes numeric categorical variables into categorical character variables\n",
    "    with more transparent values. \n",
    "    \n",
    "    Args:\n",
    "        frame: Pandas DataFrame version of UCI credit card default data.\n",
    "        \n",
    "    Returns: \n",
    "        H2OFrame with recoded values.\n",
    "        \n",
    "    \"\"\"\n",
    "    \n",
    "    # define recoded values\n",
    "    sex_dict = {1:'male', 2:'female'}\n",
    "    education_dict = {0:'other', 1:'graduate school', 2:'university', 3:'high school', \n",
    "                      4:'other', 5:'other', 6:'other'}\n",
    "    marriage_dict = {0:'other', 1:'married', 2:'single', 3:'divorced'}\n",
    "    pay_dict = {-2:'no consumption (-2)', -1:'pay duly (-1)', 0:'use of revolving credit (0)', 1:'1 month delay', \n",
    "                2:'2 month delay', 3:'3 month delay', 4:'4 month delay', 5:'5 month delay', 6:'6 month delay', \n",
    "                7:'7 month delay', 8:'8 month delay', 9:'9+ month delay'}\n",
    "    \n",
    "    # recode values using Pandas apply() and anonymous function\n",
    "    frame['SEX'] = frame['SEX'].apply(lambda i: sex_dict[i])\n",
    "    frame['EDUCATION'] = frame['EDUCATION'].apply(lambda i: education_dict[i])    \n",
    "    frame['MARRIAGE'] = frame['MARRIAGE'].apply(lambda i: marriage_dict[i]) \n",
    "    for name in frame.columns:\n",
    "        if name in ['PAY_0', 'PAY_2', 'PAY_3', 'PAY_4', 'PAY_5', 'PAY_6']:\n",
    "            frame[name] = frame[name].apply(lambda i: pay_dict[i])            \n",
    "                \n",
    "    return h2o.H2OFrame(frame)\n",
    "\n",
    "data = recode_cc_data(data)"
   ]
  },
  {
   "cell_type": "markdown",
   "metadata": {},
   "source": [
    "#### Ensure target is handled as a categorical variable"
   ]
  },
  {
   "cell_type": "code",
   "execution_count": 7,
   "metadata": {},
   "outputs": [],
   "source": [
    "data[y] = data[y].asfactor() "
   ]
  },
  {
   "cell_type": "markdown",
   "metadata": {},
   "source": [
    "#### Display descriptive statistics"
   ]
  },
  {
   "cell_type": "code",
   "execution_count": 8,
   "metadata": {},
   "outputs": [
    {
     "name": "stdout",
     "output_type": "stream",
     "text": [
      "Rows:30000\n",
      "Cols:25\n",
      "\n",
      "\n"
     ]
    },
    {
     "data": {
      "text/html": [
       "<table>\n",
       "<thead>\n",
       "<tr><th>       </th><th>ID               </th><th>LIMIT_BAL         </th><th>SEX   </th><th>EDUCATION      </th><th>MARRIAGE  </th><th>AGE              </th><th>PAY_0                      </th><th>PAY_2                      </th><th>PAY_3                      </th><th>PAY_4                      </th><th>PAY_5                      </th><th>PAY_6                      </th><th>BILL_AMT1         </th><th>BILL_AMT2        </th><th>BILL_AMT3        </th><th>BILL_AMT4         </th><th>BILL_AMT5       </th><th>BILL_AMT6        </th><th>PAY_AMT1          </th><th>PAY_AMT2         </th><th>PAY_AMT3          </th><th>PAY_AMT4          </th><th>PAY_AMT5          </th><th>PAY_AMT6          </th><th>DEFAULT_NEXT_MONTH  </th></tr>\n",
       "</thead>\n",
       "<tbody>\n",
       "<tr><td>type   </td><td>int              </td><td>int               </td><td>enum  </td><td>enum           </td><td>enum      </td><td>int              </td><td>enum                       </td><td>enum                       </td><td>enum                       </td><td>enum                       </td><td>enum                       </td><td>enum                       </td><td>int               </td><td>int              </td><td>int              </td><td>int               </td><td>int             </td><td>int              </td><td>int               </td><td>int              </td><td>int               </td><td>int               </td><td>int               </td><td>int               </td><td>enum                </td></tr>\n",
       "<tr><td>mins   </td><td>1.0              </td><td>10000.0           </td><td>      </td><td>               </td><td>          </td><td>21.0             </td><td>                           </td><td>                           </td><td>                           </td><td>                           </td><td>                           </td><td>                           </td><td>-165580.0         </td><td>-69777.0         </td><td>-157264.0        </td><td>-170000.0         </td><td>-81334.0        </td><td>-339603.0        </td><td>0.0               </td><td>0.0              </td><td>0.0               </td><td>0.0               </td><td>0.0               </td><td>0.0               </td><td>                    </td></tr>\n",
       "<tr><td>mean   </td><td>15000.5          </td><td>167484.32266666667</td><td>      </td><td>               </td><td>          </td><td>35.48549999999987</td><td>                           </td><td>                           </td><td>                           </td><td>                           </td><td>                           </td><td>                           </td><td>51223.330899999935</td><td>49179.0751666667 </td><td>47013.15479999978</td><td>43262.94896666669 </td><td>40311.4009666666</td><td>38871.76040000009</td><td>5663.580500000006 </td><td>5921.1635        </td><td>5225.681500000008 </td><td>4826.076866666684 </td><td>4799.3876333333155</td><td>5215.502566666679 </td><td>                    </td></tr>\n",
       "<tr><td>maxs   </td><td>30000.0          </td><td>1000000.0         </td><td>      </td><td>               </td><td>          </td><td>79.0             </td><td>                           </td><td>                           </td><td>                           </td><td>                           </td><td>                           </td><td>                           </td><td>964511.0          </td><td>983931.0         </td><td>1664089.0        </td><td>891586.0          </td><td>927171.0        </td><td>961664.0         </td><td>873552.0          </td><td>1684259.0        </td><td>896040.0          </td><td>621000.0          </td><td>426529.0          </td><td>528666.0          </td><td>                    </td></tr>\n",
       "<tr><td>sigma  </td><td>8660.398374208891</td><td>129747.66156720246</td><td>      </td><td>               </td><td>          </td><td>9.217904068090172</td><td>                           </td><td>                           </td><td>                           </td><td>                           </td><td>                           </td><td>                           </td><td>73635.86057552964 </td><td>71173.76878252838</td><td>69349.38742703681</td><td>64332.856133916415</td><td>60797.1557702648</td><td>59554.10753674574</td><td>16563.280354025763</td><td>23040.87040205722</td><td>17606.961469803107</td><td>15666.159744031986</td><td>15278.305679144814</td><td>17777.465775435325</td><td>                    </td></tr>\n",
       "<tr><td>zeros  </td><td>0                </td><td>0                 </td><td>      </td><td>               </td><td>          </td><td>0                </td><td>                           </td><td>                           </td><td>                           </td><td>                           </td><td>                           </td><td>                           </td><td>2008              </td><td>2506             </td><td>2870             </td><td>3195              </td><td>3506            </td><td>4020             </td><td>5249              </td><td>5396             </td><td>5968              </td><td>6408              </td><td>6703              </td><td>7173              </td><td>                    </td></tr>\n",
       "<tr><td>missing</td><td>0                </td><td>0                 </td><td>0     </td><td>0              </td><td>0         </td><td>0                </td><td>0                          </td><td>0                          </td><td>0                          </td><td>0                          </td><td>0                          </td><td>0                          </td><td>0                 </td><td>0                </td><td>0                </td><td>0                 </td><td>0               </td><td>0                </td><td>0                 </td><td>0                </td><td>0                 </td><td>0                 </td><td>0                 </td><td>0                 </td><td>0                   </td></tr>\n",
       "<tr><td>0      </td><td>1.0              </td><td>20000.0           </td><td>female</td><td>university     </td><td>married   </td><td>24.0             </td><td>2 month delay              </td><td>2 month delay              </td><td>pay duly (-1)              </td><td>pay duly (-1)              </td><td>no consumption (-2)        </td><td>no consumption (-2)        </td><td>3913.0            </td><td>3102.0           </td><td>689.0            </td><td>0.0               </td><td>0.0             </td><td>0.0              </td><td>0.0               </td><td>689.0            </td><td>0.0               </td><td>0.0               </td><td>0.0               </td><td>0.0               </td><td>1                   </td></tr>\n",
       "<tr><td>1      </td><td>2.0              </td><td>120000.0          </td><td>female</td><td>university     </td><td>single    </td><td>26.0             </td><td>pay duly (-1)              </td><td>2 month delay              </td><td>use of revolving credit (0)</td><td>use of revolving credit (0)</td><td>use of revolving credit (0)</td><td>2 month delay              </td><td>2682.0            </td><td>1725.0           </td><td>2682.0           </td><td>3272.0            </td><td>3455.0          </td><td>3261.0           </td><td>0.0               </td><td>1000.0           </td><td>1000.0            </td><td>1000.0            </td><td>0.0               </td><td>2000.0            </td><td>1                   </td></tr>\n",
       "<tr><td>2      </td><td>3.0              </td><td>90000.0           </td><td>female</td><td>university     </td><td>single    </td><td>34.0             </td><td>use of revolving credit (0)</td><td>use of revolving credit (0)</td><td>use of revolving credit (0)</td><td>use of revolving credit (0)</td><td>use of revolving credit (0)</td><td>use of revolving credit (0)</td><td>29239.0           </td><td>14027.0          </td><td>13559.0          </td><td>14331.0           </td><td>14948.0         </td><td>15549.0          </td><td>1518.0            </td><td>1500.0           </td><td>1000.0            </td><td>1000.0            </td><td>1000.0            </td><td>5000.0            </td><td>0                   </td></tr>\n",
       "<tr><td>3      </td><td>4.0              </td><td>50000.0           </td><td>female</td><td>university     </td><td>married   </td><td>37.0             </td><td>use of revolving credit (0)</td><td>use of revolving credit (0)</td><td>use of revolving credit (0)</td><td>use of revolving credit (0)</td><td>use of revolving credit (0)</td><td>use of revolving credit (0)</td><td>46990.0           </td><td>48233.0          </td><td>49291.0          </td><td>28314.0           </td><td>28959.0         </td><td>29547.0          </td><td>2000.0            </td><td>2019.0           </td><td>1200.0            </td><td>1100.0            </td><td>1069.0            </td><td>1000.0            </td><td>0                   </td></tr>\n",
       "<tr><td>4      </td><td>5.0              </td><td>50000.0           </td><td>male  </td><td>university     </td><td>married   </td><td>57.0             </td><td>pay duly (-1)              </td><td>use of revolving credit (0)</td><td>pay duly (-1)              </td><td>use of revolving credit (0)</td><td>use of revolving credit (0)</td><td>use of revolving credit (0)</td><td>8617.0            </td><td>5670.0           </td><td>35835.0          </td><td>20940.0           </td><td>19146.0         </td><td>19131.0          </td><td>2000.0            </td><td>36681.0          </td><td>10000.0           </td><td>9000.0            </td><td>689.0             </td><td>679.0             </td><td>0                   </td></tr>\n",
       "<tr><td>5      </td><td>6.0              </td><td>50000.0           </td><td>male  </td><td>graduate school</td><td>single    </td><td>37.0             </td><td>use of revolving credit (0)</td><td>use of revolving credit (0)</td><td>use of revolving credit (0)</td><td>use of revolving credit (0)</td><td>use of revolving credit (0)</td><td>use of revolving credit (0)</td><td>64400.0           </td><td>57069.0          </td><td>57608.0          </td><td>19394.0           </td><td>19619.0         </td><td>20024.0          </td><td>2500.0            </td><td>1815.0           </td><td>657.0             </td><td>1000.0            </td><td>1000.0            </td><td>800.0             </td><td>0                   </td></tr>\n",
       "<tr><td>6      </td><td>7.0              </td><td>500000.0          </td><td>male  </td><td>graduate school</td><td>single    </td><td>29.0             </td><td>use of revolving credit (0)</td><td>use of revolving credit (0)</td><td>use of revolving credit (0)</td><td>use of revolving credit (0)</td><td>use of revolving credit (0)</td><td>use of revolving credit (0)</td><td>367965.0          </td><td>412023.0         </td><td>445007.0         </td><td>542653.0          </td><td>483003.0        </td><td>473944.0         </td><td>55000.0           </td><td>40000.0          </td><td>38000.0           </td><td>20239.0           </td><td>13750.0           </td><td>13770.0           </td><td>0                   </td></tr>\n",
       "<tr><td>7      </td><td>8.0              </td><td>100000.0          </td><td>female</td><td>university     </td><td>single    </td><td>23.0             </td><td>use of revolving credit (0)</td><td>pay duly (-1)              </td><td>pay duly (-1)              </td><td>use of revolving credit (0)</td><td>use of revolving credit (0)</td><td>pay duly (-1)              </td><td>11876.0           </td><td>380.0            </td><td>601.0            </td><td>221.0             </td><td>-159.0          </td><td>567.0            </td><td>380.0             </td><td>601.0            </td><td>0.0               </td><td>581.0             </td><td>1687.0            </td><td>1542.0            </td><td>0                   </td></tr>\n",
       "<tr><td>8      </td><td>9.0              </td><td>140000.0          </td><td>female</td><td>high school    </td><td>married   </td><td>28.0             </td><td>use of revolving credit (0)</td><td>use of revolving credit (0)</td><td>2 month delay              </td><td>use of revolving credit (0)</td><td>use of revolving credit (0)</td><td>use of revolving credit (0)</td><td>11285.0           </td><td>14096.0          </td><td>12108.0          </td><td>12211.0           </td><td>11793.0         </td><td>3719.0           </td><td>3329.0            </td><td>0.0              </td><td>432.0             </td><td>1000.0            </td><td>1000.0            </td><td>1000.0            </td><td>0                   </td></tr>\n",
       "<tr><td>9      </td><td>10.0             </td><td>20000.0           </td><td>male  </td><td>high school    </td><td>single    </td><td>35.0             </td><td>no consumption (-2)        </td><td>no consumption (-2)        </td><td>no consumption (-2)        </td><td>no consumption (-2)        </td><td>pay duly (-1)              </td><td>pay duly (-1)              </td><td>0.0               </td><td>0.0              </td><td>0.0              </td><td>0.0               </td><td>13007.0         </td><td>13912.0          </td><td>0.0               </td><td>0.0              </td><td>0.0               </td><td>13007.0           </td><td>1122.0            </td><td>0.0               </td><td>0                   </td></tr>\n",
       "</tbody>\n",
       "</table>"
      ]
     },
     "metadata": {},
     "output_type": "display_data"
    }
   ],
   "source": [
    "data.describe()"
   ]
  },
  {
   "cell_type": "markdown",
   "metadata": {},
   "source": [
    "## Train an H2O GBM classifier\n",
    "\n",
    "#### Split data into training and test sets for early stopping\n",
    "The credit card default data is split into training and test sets to monitor and prevent overtraining. Reproducibility is also important factor in creating trustworthy models, and randomly splitting datasets can introduce randomness in model predictions and other results. A random seed is used here to ensure the data split is reproducible."
   ]
  },
  {
   "cell_type": "code",
   "execution_count": 9,
   "metadata": {},
   "outputs": [
    {
     "name": "stdout",
     "output_type": "stream",
     "text": [
      "Train data rows = 21060, columns = 25\n",
      "Test data rows = 8940, columns = 25\n"
     ]
    }
   ],
   "source": [
    "# split into training and validation\n",
    "train, test = data.split_frame([0.7], seed=12345)\n",
    "\n",
    "# summarize split\n",
    "print('Train data rows = %d, columns = %d' % (train.shape[0], train.shape[1]))\n",
    "print('Test data rows = %d, columns = %d' % (test.shape[0], test.shape[1]))"
   ]
  },
  {
   "cell_type": "markdown",
   "metadata": {},
   "source": [
    "#### Train h2o an unconstrained GBM classifier"
   ]
  },
  {
   "cell_type": "code",
   "execution_count": 10,
   "metadata": {},
   "outputs": [
    {
     "name": "stdout",
     "output_type": "stream",
     "text": [
      "gbm Model Build progress: |███████████████████████████████████████████████| 100%\n",
      "GBM Test AUC = 0.7714\n"
     ]
    }
   ],
   "source": [
    "# initialize GBM model\n",
    "model = H2OGradientBoostingEstimator(ntrees=150,            # maximum 150 trees in GBM\n",
    "                                     max_depth=4,           # trees can have maximum depth of 4\n",
    "                                     sample_rate=0.9,       # use 90% of rows in each iteration (tree)\n",
    "                                     col_sample_rate=0.9,   # use 90% of variables in each iteration (tree)\n",
    "                                     stopping_rounds=5,     # stop if validation error does not decrease for 5 iterations (trees)\n",
    "                                     seed=12345)            # for reproducibility\n",
    "\n",
    "# train a GBM model\n",
    "model.train(y=y, x=X, training_frame=train, validation_frame=test)\n",
    "\n",
    "# print AUC\n",
    "print('GBM Test AUC = %.4f' % model.auc(valid=True))\n",
    "\n",
    "# uncomment to see model details\n",
    "# print(model) "
   ]
  },
  {
   "cell_type": "markdown",
   "metadata": {},
   "source": [
    "#### Display Shapley variable importance\n",
    "Shapley values are a locally-accurate and globally consistent variable importance metric. Instead of relying on traditional single-value variable importance measures, local Shapley values for each input will be calculated and aggregated below to get a more holistic and consisent measurement for the global importance of each input variable."
   ]
  },
  {
   "cell_type": "code",
   "execution_count": 11,
   "metadata": {},
   "outputs": [
    {
     "data": {
      "image/png": "[encoded data removed]",
      "text/plain": [
       "<Figure size 576x626.4 with 1 Axes>"
      ]
     },
     "metadata": {
      "needs_background": "light"
     },
     "output_type": "display_data"
    }
   ],
   "source": [
    "contributions = model.predict_contributions(test)\n",
    "contributions_matrix = contributions.as_data_frame().as_matrix()\n",
    "shap_values = contributions_matrix[:,:-1]\n",
    "shap.summary_plot(shap_values, X, plot_type='bar', color='royalblue')"
   ]
  },
  {
   "cell_type": "markdown",
   "metadata": {},
   "source": [
    "## Conduct residual analysis to debug model\n",
    "Residuals refer to the difference between the recorded value of a dependent variable and the predicted value of a dependent variable for every row in a data set. Plotting the residual values against the predicted values is a time-honored model assessment technique and a great way to see all your modeling results in two dimensions.\n",
    "\n",
    "#### Bind model predictions onto test data \n",
    "To calculate the residuals for our GBM model, first the model predictions are merged onto the test set. The test data is used here to see how the model behaves on holdout data, which should be closer to its behavior on new data than analyzing residuals for the training inputs and predictions."
   ]
  },
  {
   "cell_type": "code",
   "execution_count": 12,
   "metadata": {},
   "outputs": [
    {
     "name": "stdout",
     "output_type": "stream",
     "text": [
      "gbm prediction progress: |████████████████████████████████████████████████| 100%\n"
     ]
    }
   ],
   "source": [
    "yhat = 'p_DEFAULT_NEXT_MONTH'\n",
    "preds1 = model.predict(test).drop(['predict', 'p0'])\n",
    "preds1.columns = [yhat]\n",
    "test_yhat = test.cbind(preds1[yhat])"
   ]
  },
  {
   "cell_type": "markdown",
   "metadata": {},
   "source": [
    "#### Calculate deviance residuals for binomial classification\n",
    "For binomial classification, deviance residuals are related to the logloss cost function. Like analyzing $y - \\hat{y}$ for linear regression, these residuals are related to the quantities that the GBM sought to minimize. Deviance residual values are calculated by applying the formula in the cell directly below."
   ]
  },
  {
   "cell_type": "code",
   "execution_count": 13,
   "metadata": {},
   "outputs": [],
   "source": [
    "# use Pandas for adding columns and plotting\n",
    "test_yhat = test_yhat.as_data_frame()\n",
    "test_yhat['s'] = 1\n",
    "test_yhat.loc[test_yhat['DEFAULT_NEXT_MONTH'] == 0, 's'] = -1\n",
    "test_yhat['r_DEFAULT_NEXT_MONTH'] = test_yhat['s'] * np.sqrt(-2*(test_yhat[y]*np.log(test_yhat[yhat]) +\n",
    "                                                                 ((1 - test_yhat[y])*np.log(1 - test_yhat[yhat]))))\n",
    "test_yhat = test_yhat.drop('s', axis=1)"
   ]
  },
  {
   "cell_type": "markdown",
   "metadata": {},
   "source": [
    "#### Sort data by residuals and display data and residuals"
   ]
  },
  {
   "cell_type": "code",
   "execution_count": 14,
   "metadata": {},
   "outputs": [
    {
     "data": {
      "text/html": [
       "<div>\n",
       "<style scoped>\n",
       "    .dataframe tbody tr th:only-of-type {\n",
       "        vertical-align: middle;\n",
       "    }\n",
       "\n",
       "    .dataframe tbody tr th {\n",
       "        vertical-align: top;\n",
       "    }\n",
       "\n",
       "    .dataframe thead th {\n",
       "        text-align: right;\n",
       "    }\n",
       "</style>\n",
       "<table border=\"1\" class=\"dataframe\">\n",
       "  <thead>\n",
       "    <tr style=\"text-align: right;\">\n",
       "      <th></th>\n",
       "      <th>ID</th>\n",
       "      <th>LIMIT_BAL</th>\n",
       "      <th>SEX</th>\n",
       "      <th>EDUCATION</th>\n",
       "      <th>MARRIAGE</th>\n",
       "      <th>AGE</th>\n",
       "      <th>PAY_0</th>\n",
       "      <th>PAY_2</th>\n",
       "      <th>PAY_3</th>\n",
       "      <th>PAY_4</th>\n",
       "      <th>PAY_5</th>\n",
       "      <th>PAY_6</th>\n",
       "      <th>BILL_AMT1</th>\n",
       "      <th>BILL_AMT2</th>\n",
       "      <th>BILL_AMT3</th>\n",
       "      <th>BILL_AMT4</th>\n",
       "      <th>BILL_AMT5</th>\n",
       "      <th>BILL_AMT6</th>\n",
       "      <th>PAY_AMT1</th>\n",
       "      <th>PAY_AMT2</th>\n",
       "      <th>PAY_AMT3</th>\n",
       "      <th>PAY_AMT4</th>\n",
       "      <th>PAY_AMT5</th>\n",
       "      <th>PAY_AMT6</th>\n",
       "      <th>DEFAULT_NEXT_MONTH</th>\n",
       "      <th>p_DEFAULT_NEXT_MONTH</th>\n",
       "      <th>r_DEFAULT_NEXT_MONTH</th>\n",
       "    </tr>\n",
       "  </thead>\n",
       "  <tbody>\n",
       "    <tr>\n",
       "      <td>0</td>\n",
       "      <td>6933</td>\n",
       "      <td>500000</td>\n",
       "      <td>male</td>\n",
       "      <td>graduate school</td>\n",
       "      <td>single</td>\n",
       "      <td>37</td>\n",
       "      <td>pay duly (-1)</td>\n",
       "      <td>pay duly (-1)</td>\n",
       "      <td>pay duly (-1)</td>\n",
       "      <td>pay duly (-1)</td>\n",
       "      <td>pay duly (-1)</td>\n",
       "      <td>pay duly (-1)</td>\n",
       "      <td>4331</td>\n",
       "      <td>60446</td>\n",
       "      <td>30592</td>\n",
       "      <td>154167</td>\n",
       "      <td>13410</td>\n",
       "      <td>25426</td>\n",
       "      <td>60446</td>\n",
       "      <td>30594</td>\n",
       "      <td>150843</td>\n",
       "      <td>163881</td>\n",
       "      <td>25426</td>\n",
       "      <td>39526</td>\n",
       "      <td>1</td>\n",
       "      <td>0.048142</td>\n",
       "      <td>2.463165</td>\n",
       "    </tr>\n",
       "    <tr>\n",
       "      <td>1</td>\n",
       "      <td>22505</td>\n",
       "      <td>260000</td>\n",
       "      <td>female</td>\n",
       "      <td>university</td>\n",
       "      <td>single</td>\n",
       "      <td>33</td>\n",
       "      <td>pay duly (-1)</td>\n",
       "      <td>pay duly (-1)</td>\n",
       "      <td>pay duly (-1)</td>\n",
       "      <td>pay duly (-1)</td>\n",
       "      <td>pay duly (-1)</td>\n",
       "      <td>use of revolving credit (0)</td>\n",
       "      <td>5188</td>\n",
       "      <td>12357</td>\n",
       "      <td>28656</td>\n",
       "      <td>7497</td>\n",
       "      <td>7685</td>\n",
       "      <td>15434</td>\n",
       "      <td>13000</td>\n",
       "      <td>29022</td>\n",
       "      <td>7500</td>\n",
       "      <td>27769</td>\n",
       "      <td>12000</td>\n",
       "      <td>6200</td>\n",
       "      <td>1</td>\n",
       "      <td>0.048142</td>\n",
       "      <td>2.463165</td>\n",
       "    </tr>\n",
       "    <tr>\n",
       "      <td>2</td>\n",
       "      <td>2561</td>\n",
       "      <td>310000</td>\n",
       "      <td>female</td>\n",
       "      <td>graduate school</td>\n",
       "      <td>single</td>\n",
       "      <td>32</td>\n",
       "      <td>no consumption (-2)</td>\n",
       "      <td>no consumption (-2)</td>\n",
       "      <td>no consumption (-2)</td>\n",
       "      <td>no consumption (-2)</td>\n",
       "      <td>no consumption (-2)</td>\n",
       "      <td>no consumption (-2)</td>\n",
       "      <td>20138</td>\n",
       "      <td>8267</td>\n",
       "      <td>65993</td>\n",
       "      <td>8543</td>\n",
       "      <td>1695</td>\n",
       "      <td>750</td>\n",
       "      <td>8267</td>\n",
       "      <td>66008</td>\n",
       "      <td>8543</td>\n",
       "      <td>1695</td>\n",
       "      <td>750</td>\n",
       "      <td>7350</td>\n",
       "      <td>1</td>\n",
       "      <td>0.056123</td>\n",
       "      <td>2.400086</td>\n",
       "    </tr>\n",
       "    <tr>\n",
       "      <td>3</td>\n",
       "      <td>11745</td>\n",
       "      <td>220000</td>\n",
       "      <td>male</td>\n",
       "      <td>graduate school</td>\n",
       "      <td>single</td>\n",
       "      <td>51</td>\n",
       "      <td>pay duly (-1)</td>\n",
       "      <td>pay duly (-1)</td>\n",
       "      <td>pay duly (-1)</td>\n",
       "      <td>pay duly (-1)</td>\n",
       "      <td>pay duly (-1)</td>\n",
       "      <td>pay duly (-1)</td>\n",
       "      <td>20730</td>\n",
       "      <td>-270</td>\n",
       "      <td>53895</td>\n",
       "      <td>-105</td>\n",
       "      <td>20895</td>\n",
       "      <td>20835</td>\n",
       "      <td>0</td>\n",
       "      <td>54165</td>\n",
       "      <td>0</td>\n",
       "      <td>21000</td>\n",
       "      <td>20940</td>\n",
       "      <td>33460</td>\n",
       "      <td>1</td>\n",
       "      <td>0.056634</td>\n",
       "      <td>2.396310</td>\n",
       "    </tr>\n",
       "    <tr>\n",
       "      <td>4</td>\n",
       "      <td>25772</td>\n",
       "      <td>350000</td>\n",
       "      <td>female</td>\n",
       "      <td>graduate school</td>\n",
       "      <td>married</td>\n",
       "      <td>33</td>\n",
       "      <td>use of revolving credit (0)</td>\n",
       "      <td>pay duly (-1)</td>\n",
       "      <td>pay duly (-1)</td>\n",
       "      <td>pay duly (-1)</td>\n",
       "      <td>pay duly (-1)</td>\n",
       "      <td>pay duly (-1)</td>\n",
       "      <td>82964</td>\n",
       "      <td>68532</td>\n",
       "      <td>17926</td>\n",
       "      <td>17966</td>\n",
       "      <td>30741</td>\n",
       "      <td>31088</td>\n",
       "      <td>68940</td>\n",
       "      <td>18018</td>\n",
       "      <td>18058</td>\n",
       "      <td>30897</td>\n",
       "      <td>31244</td>\n",
       "      <td>88461</td>\n",
       "      <td>1</td>\n",
       "      <td>0.061981</td>\n",
       "      <td>2.358360</td>\n",
       "    </tr>\n",
       "    <tr>\n",
       "      <td>...</td>\n",
       "      <td>...</td>\n",
       "      <td>...</td>\n",
       "      <td>...</td>\n",
       "      <td>...</td>\n",
       "      <td>...</td>\n",
       "      <td>...</td>\n",
       "      <td>...</td>\n",
       "      <td>...</td>\n",
       "      <td>...</td>\n",
       "      <td>...</td>\n",
       "      <td>...</td>\n",
       "      <td>...</td>\n",
       "      <td>...</td>\n",
       "      <td>...</td>\n",
       "      <td>...</td>\n",
       "      <td>...</td>\n",
       "      <td>...</td>\n",
       "      <td>...</td>\n",
       "      <td>...</td>\n",
       "      <td>...</td>\n",
       "      <td>...</td>\n",
       "      <td>...</td>\n",
       "      <td>...</td>\n",
       "      <td>...</td>\n",
       "      <td>...</td>\n",
       "      <td>...</td>\n",
       "      <td>...</td>\n",
       "    </tr>\n",
       "    <tr>\n",
       "      <td>8935</td>\n",
       "      <td>5916</td>\n",
       "      <td>110000</td>\n",
       "      <td>female</td>\n",
       "      <td>graduate school</td>\n",
       "      <td>married</td>\n",
       "      <td>41</td>\n",
       "      <td>2 month delay</td>\n",
       "      <td>2 month delay</td>\n",
       "      <td>7 month delay</td>\n",
       "      <td>7 month delay</td>\n",
       "      <td>7 month delay</td>\n",
       "      <td>7 month delay</td>\n",
       "      <td>150</td>\n",
       "      <td>150</td>\n",
       "      <td>150</td>\n",
       "      <td>150</td>\n",
       "      <td>150</td>\n",
       "      <td>150</td>\n",
       "      <td>0</td>\n",
       "      <td>0</td>\n",
       "      <td>0</td>\n",
       "      <td>0</td>\n",
       "      <td>0</td>\n",
       "      <td>0</td>\n",
       "      <td>0</td>\n",
       "      <td>0.810125</td>\n",
       "      <td>-1.822848</td>\n",
       "    </tr>\n",
       "    <tr>\n",
       "      <td>8936</td>\n",
       "      <td>565</td>\n",
       "      <td>390000</td>\n",
       "      <td>female</td>\n",
       "      <td>graduate school</td>\n",
       "      <td>single</td>\n",
       "      <td>45</td>\n",
       "      <td>2 month delay</td>\n",
       "      <td>2 month delay</td>\n",
       "      <td>2 month delay</td>\n",
       "      <td>pay duly (-1)</td>\n",
       "      <td>2 month delay</td>\n",
       "      <td>2 month delay</td>\n",
       "      <td>834</td>\n",
       "      <td>155</td>\n",
       "      <td>-1690</td>\n",
       "      <td>4240</td>\n",
       "      <td>3346</td>\n",
       "      <td>2698</td>\n",
       "      <td>1</td>\n",
       "      <td>1693</td>\n",
       "      <td>6940</td>\n",
       "      <td>7</td>\n",
       "      <td>1230</td>\n",
       "      <td>3</td>\n",
       "      <td>0</td>\n",
       "      <td>0.825543</td>\n",
       "      <td>-1.868731</td>\n",
       "    </tr>\n",
       "    <tr>\n",
       "      <td>8937</td>\n",
       "      <td>9672</td>\n",
       "      <td>170000</td>\n",
       "      <td>male</td>\n",
       "      <td>graduate school</td>\n",
       "      <td>single</td>\n",
       "      <td>48</td>\n",
       "      <td>2 month delay</td>\n",
       "      <td>2 month delay</td>\n",
       "      <td>7 month delay</td>\n",
       "      <td>7 month delay</td>\n",
       "      <td>7 month delay</td>\n",
       "      <td>7 month delay</td>\n",
       "      <td>2400</td>\n",
       "      <td>2400</td>\n",
       "      <td>2400</td>\n",
       "      <td>2400</td>\n",
       "      <td>2400</td>\n",
       "      <td>2400</td>\n",
       "      <td>0</td>\n",
       "      <td>0</td>\n",
       "      <td>0</td>\n",
       "      <td>0</td>\n",
       "      <td>0</td>\n",
       "      <td>0</td>\n",
       "      <td>0</td>\n",
       "      <td>0.850514</td>\n",
       "      <td>-1.949642</td>\n",
       "    </tr>\n",
       "    <tr>\n",
       "      <td>8938</td>\n",
       "      <td>19316</td>\n",
       "      <td>110000</td>\n",
       "      <td>female</td>\n",
       "      <td>graduate school</td>\n",
       "      <td>married</td>\n",
       "      <td>41</td>\n",
       "      <td>3 month delay</td>\n",
       "      <td>2 month delay</td>\n",
       "      <td>2 month delay</td>\n",
       "      <td>7 month delay</td>\n",
       "      <td>7 month delay</td>\n",
       "      <td>7 month delay</td>\n",
       "      <td>150</td>\n",
       "      <td>150</td>\n",
       "      <td>150</td>\n",
       "      <td>150</td>\n",
       "      <td>150</td>\n",
       "      <td>150</td>\n",
       "      <td>0</td>\n",
       "      <td>0</td>\n",
       "      <td>0</td>\n",
       "      <td>0</td>\n",
       "      <td>0</td>\n",
       "      <td>0</td>\n",
       "      <td>0</td>\n",
       "      <td>0.854803</td>\n",
       "      <td>-1.964518</td>\n",
       "    </tr>\n",
       "    <tr>\n",
       "      <td>8939</td>\n",
       "      <td>22725</td>\n",
       "      <td>100000</td>\n",
       "      <td>female</td>\n",
       "      <td>university</td>\n",
       "      <td>married</td>\n",
       "      <td>38</td>\n",
       "      <td>3 month delay</td>\n",
       "      <td>2 month delay</td>\n",
       "      <td>2 month delay</td>\n",
       "      <td>3 month delay</td>\n",
       "      <td>3 month delay</td>\n",
       "      <td>3 month delay</td>\n",
       "      <td>750</td>\n",
       "      <td>750</td>\n",
       "      <td>750</td>\n",
       "      <td>750</td>\n",
       "      <td>750</td>\n",
       "      <td>750</td>\n",
       "      <td>0</td>\n",
       "      <td>0</td>\n",
       "      <td>0</td>\n",
       "      <td>0</td>\n",
       "      <td>0</td>\n",
       "      <td>1500</td>\n",
       "      <td>0</td>\n",
       "      <td>0.875889</td>\n",
       "      <td>-2.042829</td>\n",
       "    </tr>\n",
       "  </tbody>\n",
       "</table>\n",
       "<p>8940 rows × 27 columns</p>\n",
       "</div>"
      ],
      "text/plain": [
       "         ID  LIMIT_BAL     SEX        EDUCATION MARRIAGE  AGE  \\\n",
       "0      6933     500000    male  graduate school   single   37   \n",
       "1     22505     260000  female       university   single   33   \n",
       "2      2561     310000  female  graduate school   single   32   \n",
       "3     11745     220000    male  graduate school   single   51   \n",
       "4     25772     350000  female  graduate school  married   33   \n",
       "...     ...        ...     ...              ...      ...  ...   \n",
       "8935   5916     110000  female  graduate school  married   41   \n",
       "8936    565     390000  female  graduate school   single   45   \n",
       "8937   9672     170000    male  graduate school   single   48   \n",
       "8938  19316     110000  female  graduate school  married   41   \n",
       "8939  22725     100000  female       university  married   38   \n",
       "\n",
       "                            PAY_0                PAY_2                PAY_3  \\\n",
       "0                   pay duly (-1)        pay duly (-1)        pay duly (-1)   \n",
       "1                   pay duly (-1)        pay duly (-1)        pay duly (-1)   \n",
       "2             no consumption (-2)  no consumption (-2)  no consumption (-2)   \n",
       "3                   pay duly (-1)        pay duly (-1)        pay duly (-1)   \n",
       "4     use of revolving credit (0)        pay duly (-1)        pay duly (-1)   \n",
       "...                           ...                  ...                  ...   \n",
       "8935                2 month delay        2 month delay        7 month delay   \n",
       "8936                2 month delay        2 month delay        2 month delay   \n",
       "8937                2 month delay        2 month delay        7 month delay   \n",
       "8938                3 month delay        2 month delay        2 month delay   \n",
       "8939                3 month delay        2 month delay        2 month delay   \n",
       "\n",
       "                    PAY_4                PAY_5                        PAY_6  \\\n",
       "0           pay duly (-1)        pay duly (-1)                pay duly (-1)   \n",
       "1           pay duly (-1)        pay duly (-1)  use of revolving credit (0)   \n",
       "2     no consumption (-2)  no consumption (-2)          no consumption (-2)   \n",
       "3           pay duly (-1)        pay duly (-1)                pay duly (-1)   \n",
       "4           pay duly (-1)        pay duly (-1)                pay duly (-1)   \n",
       "...                   ...                  ...                          ...   \n",
       "8935        7 month delay        7 month delay                7 month delay   \n",
       "8936        pay duly (-1)        2 month delay                2 month delay   \n",
       "8937        7 month delay        7 month delay                7 month delay   \n",
       "8938        7 month delay        7 month delay                7 month delay   \n",
       "8939        3 month delay        3 month delay                3 month delay   \n",
       "\n",
       "      BILL_AMT1  BILL_AMT2  BILL_AMT3  BILL_AMT4  BILL_AMT5  BILL_AMT6  \\\n",
       "0          4331      60446      30592     154167      13410      25426   \n",
       "1          5188      12357      28656       7497       7685      15434   \n",
       "2         20138       8267      65993       8543       1695        750   \n",
       "3         20730       -270      53895       -105      20895      20835   \n",
       "4         82964      68532      17926      17966      30741      31088   \n",
       "...         ...        ...        ...        ...        ...        ...   \n",
       "8935        150        150        150        150        150        150   \n",
       "8936        834        155      -1690       4240       3346       2698   \n",
       "8937       2400       2400       2400       2400       2400       2400   \n",
       "8938        150        150        150        150        150        150   \n",
       "8939        750        750        750        750        750        750   \n",
       "\n",
       "      PAY_AMT1  PAY_AMT2  PAY_AMT3  PAY_AMT4  PAY_AMT5  PAY_AMT6  \\\n",
       "0        60446     30594    150843    163881     25426     39526   \n",
       "1        13000     29022      7500     27769     12000      6200   \n",
       "2         8267     66008      8543      1695       750      7350   \n",
       "3            0     54165         0     21000     20940     33460   \n",
       "4        68940     18018     18058     30897     31244     88461   \n",
       "...        ...       ...       ...       ...       ...       ...   \n",
       "8935         0         0         0         0         0         0   \n",
       "8936         1      1693      6940         7      1230         3   \n",
       "8937         0         0         0         0         0         0   \n",
       "8938         0         0         0         0         0         0   \n",
       "8939         0         0         0         0         0      1500   \n",
       "\n",
       "      DEFAULT_NEXT_MONTH  p_DEFAULT_NEXT_MONTH  r_DEFAULT_NEXT_MONTH  \n",
       "0                      1              0.048142              2.463165  \n",
       "1                      1              0.048142              2.463165  \n",
       "2                      1              0.056123              2.400086  \n",
       "3                      1              0.056634              2.396310  \n",
       "4                      1              0.061981              2.358360  \n",
       "...                  ...                   ...                   ...  \n",
       "8935                   0              0.810125             -1.822848  \n",
       "8936                   0              0.825543             -1.868731  \n",
       "8937                   0              0.850514             -1.949642  \n",
       "8938                   0              0.854803             -1.964518  \n",
       "8939                   0              0.875889             -2.042829  \n",
       "\n",
       "[8940 rows x 27 columns]"
      ]
     },
     "execution_count": 14,
     "metadata": {},
     "output_type": "execute_result"
    }
   ],
   "source": [
    "test_yhat = test_yhat.sort_values(by='r_DEFAULT_NEXT_MONTH', ascending=False).reset_index(drop=True)\n",
    "test_yhat"
   ]
  },
  {
   "cell_type": "markdown",
   "metadata": {},
   "source": [
    "#### Plot residuals by most important input variable \n",
    "Plotting residuals is a model debugging and diagnostic tool that enables users to see modeling results, and any anomolies, in a single two-dimensional plot. Here the green points represent customers who defaulted, and the blue points represent customers who did not. A few potential outliers are visible. There appear to be several cases in the test data with relatively large negative residuals. Understanding and addressing the factors that cause these outliers could lead to a more acccurate model.\n",
    "\n",
    "Residuals can also be plotted for important input variables to understand how the values of a single input variable affect prediction errors. When plotted by PAY_0, the residuals confirm that the GBM is struggling to accurately predict cases where default status is not correlated with recent payment behavior in an obvious way. The residual plots for values of PAY_0 indicating timely payment behavior (e.g., use of revolving credit, pay duly, and no consumption) generally display the highest positive residuals and relatively small negative residuals. Residuals for the other values of PAY_0, those that represent late recent payments, tend to show large negative residuals and relatively small positive residuals."
   ]
  },
  {
   "cell_type": "code",
   "execution_count": 15,
   "metadata": {},
   "outputs": [
    {
     "data": {
      "image/png": "[encoded data removed]",
      "text/plain": [
       "<Figure size 919.895x648 with 11 Axes>"
      ]
     },
     "metadata": {},
     "output_type": "display_data"
    }
   ],
   "source": [
    "# sort for better organization in plot\n",
    "sorted_ = test_yhat.sort_values(by='PAY_0')\n",
    "sorted_.rename(columns={yhat: 'Predicted', \n",
    "                        'r_DEFAULT_NEXT_MONTH': 'Residual',\n",
    "                        y: 'Default'}, \n",
    "               inplace=True)\n",
    "\n",
    "# use Seaborn FacetGrid for convenience\n",
    "sns.set(font_scale=1.2) \n",
    "sns.set_style('whitegrid', {'axes.grid': False})\n",
    "sns.set_palette((sns.diverging_palette(255, 133, l=60, n=2, center='dark')))\n",
    "g = sns.FacetGrid(sorted_, col='PAY_0', hue='Default', col_wrap=4)\n",
    "_ = g.map(plt.scatter, 'Predicted', 'Residual', alpha=0.4)\n",
    "_ = g.add_legend() "
   ]
  },
  {
   "cell_type": "markdown",
   "metadata": {},
   "source": [
    "#### Shutdown H2O\n",
    "After using h2o, it's typically best to shut it down. However, before doing so, users should ensure that they have saved any h2o data structures, such as models and H2OFrames, or scoring artifacts, such as POJOs and MOJOs."
   ]
  },
  {
   "cell_type": "code",
   "execution_count": 16,
   "metadata": {},
   "outputs": [
    {
     "name": "stdout",
     "output_type": "stream",
     "text": [
      "H2O session _sid_a2b9 closed.\n"
     ]
    }
   ],
   "source": [
    "# be careful, this can erase your work!\n",
    "h2o.cluster().shutdown()"
   ]
  },
  {
   "cell_type": "markdown",
   "metadata": {},
   "source": [
    "**Conclusion**: The unconstrained GBM in this notebook makes predictable mistakes, that are plainly obvious after applying straightforward explanation and model debugging techniques. This model is explainable, but not trustworthy. "
   ]
  }
 ],
 "metadata": {
  "anaconda-cloud": {},
  "kernelspec": {
   "display_name": "Python 3",
   "language": "python",
   "name": "python3"
  },
  "language_info": {
   "codemirror_mode": {
    "name": "ipython",
    "version": 3
   },
   "file_extension": ".py",
   "mimetype": "text/x-python",
   "name": "python",
   "nbconvert_exporter": "python",
   "pygments_lexer": "ipython3",
   "version": "3.6.9"
  }
 },
 "nbformat": 4,
 "nbformat_minor": 2
}
