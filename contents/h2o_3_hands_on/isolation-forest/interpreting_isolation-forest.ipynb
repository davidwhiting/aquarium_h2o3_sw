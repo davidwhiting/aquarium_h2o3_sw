{
 "cells": [
  {
   "cell_type": "markdown",
   "metadata": {},
   "source": [
    "# Interpreting Anomalies from Isolation Forest\n",
    "\n",
    "\n",
    "## Isolation Forest\n",
    "\n",
    "The idea behind Isolation Forest is that anomalies are easier to separate from the rest of the data than other points.  The Isolation Forest algorithm partitions the data through a forest of decision trees.  Each split is made randomly.  The number of splits it takes to isolate a record indicates whether or not the record is an anomaly. When a forest of random trees collectively produces shorter path lengths for particular samples, they are highly likely to be anomalies.\n",
    "\n",
    "In this demo, we will use the Isolation Forest technique to find employees that may be anomalies.  \n",
    "\n",
    "\n",
    "## Loading the Data\n",
    "\n",
    "Before we dive into the anomaly detection, let's initialize the h2o cluster and load our data in. We will be using the [synthetic employee attrition dataset](https://www.ibm.com/communities/analytics/watson-analytics-blog/hr-employee-attrition/). This contains a record per employee with information about their employment history and whether they engaged in attrition."
   ]
  },
  {
   "cell_type": "code",
   "execution_count": 1,
   "metadata": {
    "collapsed": false
   },
   "outputs": [
    {
     "name": "stdout",
     "output_type": "stream",
     "text": [
      "Checking whether there is an H2O instance running at http://localhost:54321..... not found.\n",
      "Attempting to start a local H2O server...\n",
      "  Java Version: java version \"1.8.0_91\"; Java(TM) SE Runtime Environment (build 1.8.0_91-b14); Java HotSpot(TM) 64-Bit Server VM (build 25.91-b14, mixed mode)\n",
      "  Starting server from /Users/megankurka/anaconda3/lib/python3.6/site-packages/h2o/backend/bin/h2o.jar\n",
      "  Ice root: /var/folders/gv/w2f3zs_d33l3dt5j67k9nhhr0000gn/T/tmpunkdm8n5\n",
      "  JVM stdout: /var/folders/gv/w2f3zs_d33l3dt5j67k9nhhr0000gn/T/tmpunkdm8n5/h2o_megankurka_started_from_python.out\n",
      "  JVM stderr: /var/folders/gv/w2f3zs_d33l3dt5j67k9nhhr0000gn/T/tmpunkdm8n5/h2o_megankurka_started_from_python.err\n",
      "  Server is running at http://127.0.0.1:54321\n",
      "Connecting to H2O server at http://127.0.0.1:54321... successful.\n"
     ]
    },
    {
     "data": {
      "text/html": [
       "<div style=\"overflow:auto\"><table style=\"width:50%\"><tr><td>H2O cluster uptime:</td>\n",
       "<td>01 secs</td></tr>\n",
       "<tr><td>H2O cluster timezone:</td>\n",
       "<td>America/Los_Angeles</td></tr>\n",
       "<tr><td>H2O data parsing timezone:</td>\n",
       "<td>UTC</td></tr>\n",
       "<tr><td>H2O cluster version:</td>\n",
       "<td>3.22.1.1</td></tr>\n",
       "<tr><td>H2O cluster version age:</td>\n",
       "<td>13 days </td></tr>\n",
       "<tr><td>H2O cluster name:</td>\n",
       "<td>H2O_from_python_megankurka_5vc8pq</td></tr>\n",
       "<tr><td>H2O cluster total nodes:</td>\n",
       "<td>1</td></tr>\n",
       "<tr><td>H2O cluster free memory:</td>\n",
       "<td>3.556 Gb</td></tr>\n",
       "<tr><td>H2O cluster total cores:</td>\n",
       "<td>8</td></tr>\n",
       "<tr><td>H2O cluster allowed cores:</td>\n",
       "<td>8</td></tr>\n",
       "<tr><td>H2O cluster status:</td>\n",
       "<td>accepting new members, healthy</td></tr>\n",
       "<tr><td>H2O connection url:</td>\n",
       "<td>http://127.0.0.1:54321</td></tr>\n",
       "<tr><td>H2O connection proxy:</td>\n",
       "<td>None</td></tr>\n",
       "<tr><td>H2O internal security:</td>\n",
       "<td>False</td></tr>\n",
       "<tr><td>H2O API Extensions:</td>\n",
       "<td>XGBoost, Algos, AutoML, Core V3, Core V4</td></tr>\n",
       "<tr><td>Python version:</td>\n",
       "<td>3.6.0 final</td></tr></table></div>"
      ],
      "text/plain": [
       "--------------------------  ----------------------------------------\n",
       "H2O cluster uptime:         01 secs\n",
       "H2O cluster timezone:       America/Los_Angeles\n",
       "H2O data parsing timezone:  UTC\n",
       "H2O cluster version:        3.22.1.1\n",
       "H2O cluster version age:    13 days\n",
       "H2O cluster name:           H2O_from_python_megankurka_5vc8pq\n",
       "H2O cluster total nodes:    1\n",
       "H2O cluster free memory:    3.556 Gb\n",
       "H2O cluster total cores:    8\n",
       "H2O cluster allowed cores:  8\n",
       "H2O cluster status:         accepting new members, healthy\n",
       "H2O connection url:         http://127.0.0.1:54321\n",
       "H2O connection proxy:\n",
       "H2O internal security:      False\n",
       "H2O API Extensions:         XGBoost, Algos, AutoML, Core V3, Core V4\n",
       "Python version:             3.6.0 final\n",
       "--------------------------  ----------------------------------------"
      ]
     },
     "metadata": {},
     "output_type": "display_data"
    }
   ],
   "source": [
    "import h2o\n",
    "h2o.init()"
   ]
  },
  {
   "cell_type": "code",
   "execution_count": 2,
   "metadata": {
    "collapsed": false
   },
   "outputs": [
    {
     "name": "stdout",
     "output_type": "stream",
     "text": [
      "Parse progress: |█████████████████████████████████████████████████████████| 100%\n"
     ]
    }
   ],
   "source": [
    "employee_data = h2o.import_file(\"./WA_Fn-UseC_-HR-Employee-Attrition.csv\")"
   ]
  },
  {
   "cell_type": "code",
   "execution_count": 3,
   "metadata": {
    "collapsed": false
   },
   "outputs": [
    {
     "data": {
      "text/html": [
       "<table>\n",
       "<thead>\n",
       "<tr><th style=\"text-align: right;\">  Age</th><th>Attrition  </th><th>BusinessTravel   </th><th style=\"text-align: right;\">  DailyRate</th><th>Department            </th><th style=\"text-align: right;\">  DistanceFromHome</th><th style=\"text-align: right;\">  Education</th><th>EducationField  </th><th style=\"text-align: right;\">  EmployeeCount</th><th style=\"text-align: right;\">  EmployeeNumber</th><th style=\"text-align: right;\">  EnvironmentSatisfaction</th><th>Gender  </th><th style=\"text-align: right;\">  HourlyRate</th><th style=\"text-align: right;\">  JobInvolvement</th><th style=\"text-align: right;\">  JobLevel</th><th>JobRole                  </th><th style=\"text-align: right;\">  JobSatisfaction</th><th>MaritalStatus  </th><th style=\"text-align: right;\">  MonthlyIncome</th><th style=\"text-align: right;\">  MonthlyRate</th><th style=\"text-align: right;\">  NumCompaniesWorked</th><th>Over18  </th><th>OverTime  </th><th style=\"text-align: right;\">  PercentSalaryHike</th><th style=\"text-align: right;\">  PerformanceRating</th><th style=\"text-align: right;\">  RelationshipSatisfaction</th><th style=\"text-align: right;\">  StandardHours</th><th style=\"text-align: right;\">  StockOptionLevel</th><th style=\"text-align: right;\">  TotalWorkingYears</th><th style=\"text-align: right;\">  TrainingTimesLastYear</th><th style=\"text-align: right;\">  WorkLifeBalance</th><th style=\"text-align: right;\">  YearsAtCompany</th><th style=\"text-align: right;\">  YearsInCurrentRole</th><th style=\"text-align: right;\">  YearsSinceLastPromotion</th><th style=\"text-align: right;\">  YearsWithCurrManager</th></tr>\n",
       "</thead>\n",
       "<tbody>\n",
       "<tr><td style=\"text-align: right;\">   41</td><td>Yes        </td><td>Travel_Rarely    </td><td style=\"text-align: right;\">       1102</td><td>Sales                 </td><td style=\"text-align: right;\">                 1</td><td style=\"text-align: right;\">          2</td><td>Life Sciences   </td><td style=\"text-align: right;\">              1</td><td style=\"text-align: right;\">               1</td><td style=\"text-align: right;\">                        2</td><td>Female  </td><td style=\"text-align: right;\">          94</td><td style=\"text-align: right;\">               3</td><td style=\"text-align: right;\">         2</td><td>Sales Executive          </td><td style=\"text-align: right;\">                4</td><td>Single         </td><td style=\"text-align: right;\">           5993</td><td style=\"text-align: right;\">        19479</td><td style=\"text-align: right;\">                   8</td><td>Y       </td><td>Yes       </td><td style=\"text-align: right;\">                 11</td><td style=\"text-align: right;\">                  3</td><td style=\"text-align: right;\">                         1</td><td style=\"text-align: right;\">             80</td><td style=\"text-align: right;\">                 0</td><td style=\"text-align: right;\">                  8</td><td style=\"text-align: right;\">                      0</td><td style=\"text-align: right;\">                1</td><td style=\"text-align: right;\">               6</td><td style=\"text-align: right;\">                   4</td><td style=\"text-align: right;\">                        0</td><td style=\"text-align: right;\">                     5</td></tr>\n",
       "<tr><td style=\"text-align: right;\">   49</td><td>No         </td><td>Travel_Frequently</td><td style=\"text-align: right;\">        279</td><td>Research & Development</td><td style=\"text-align: right;\">                 8</td><td style=\"text-align: right;\">          1</td><td>Life Sciences   </td><td style=\"text-align: right;\">              1</td><td style=\"text-align: right;\">               2</td><td style=\"text-align: right;\">                        3</td><td>Male    </td><td style=\"text-align: right;\">          61</td><td style=\"text-align: right;\">               2</td><td style=\"text-align: right;\">         2</td><td>Research Scientist       </td><td style=\"text-align: right;\">                2</td><td>Married        </td><td style=\"text-align: right;\">           5130</td><td style=\"text-align: right;\">        24907</td><td style=\"text-align: right;\">                   1</td><td>Y       </td><td>No        </td><td style=\"text-align: right;\">                 23</td><td style=\"text-align: right;\">                  4</td><td style=\"text-align: right;\">                         4</td><td style=\"text-align: right;\">             80</td><td style=\"text-align: right;\">                 1</td><td style=\"text-align: right;\">                 10</td><td style=\"text-align: right;\">                      3</td><td style=\"text-align: right;\">                3</td><td style=\"text-align: right;\">              10</td><td style=\"text-align: right;\">                   7</td><td style=\"text-align: right;\">                        1</td><td style=\"text-align: right;\">                     7</td></tr>\n",
       "<tr><td style=\"text-align: right;\">   37</td><td>Yes        </td><td>Travel_Rarely    </td><td style=\"text-align: right;\">       1373</td><td>Research & Development</td><td style=\"text-align: right;\">                 2</td><td style=\"text-align: right;\">          2</td><td>Other           </td><td style=\"text-align: right;\">              1</td><td style=\"text-align: right;\">               4</td><td style=\"text-align: right;\">                        4</td><td>Male    </td><td style=\"text-align: right;\">          92</td><td style=\"text-align: right;\">               2</td><td style=\"text-align: right;\">         1</td><td>Laboratory Technician    </td><td style=\"text-align: right;\">                3</td><td>Single         </td><td style=\"text-align: right;\">           2090</td><td style=\"text-align: right;\">         2396</td><td style=\"text-align: right;\">                   6</td><td>Y       </td><td>Yes       </td><td style=\"text-align: right;\">                 15</td><td style=\"text-align: right;\">                  3</td><td style=\"text-align: right;\">                         2</td><td style=\"text-align: right;\">             80</td><td style=\"text-align: right;\">                 0</td><td style=\"text-align: right;\">                  7</td><td style=\"text-align: right;\">                      3</td><td style=\"text-align: right;\">                3</td><td style=\"text-align: right;\">               0</td><td style=\"text-align: right;\">                   0</td><td style=\"text-align: right;\">                        0</td><td style=\"text-align: right;\">                     0</td></tr>\n",
       "<tr><td style=\"text-align: right;\">   33</td><td>No         </td><td>Travel_Frequently</td><td style=\"text-align: right;\">       1392</td><td>Research & Development</td><td style=\"text-align: right;\">                 3</td><td style=\"text-align: right;\">          4</td><td>Life Sciences   </td><td style=\"text-align: right;\">              1</td><td style=\"text-align: right;\">               5</td><td style=\"text-align: right;\">                        4</td><td>Female  </td><td style=\"text-align: right;\">          56</td><td style=\"text-align: right;\">               3</td><td style=\"text-align: right;\">         1</td><td>Research Scientist       </td><td style=\"text-align: right;\">                3</td><td>Married        </td><td style=\"text-align: right;\">           2909</td><td style=\"text-align: right;\">        23159</td><td style=\"text-align: right;\">                   1</td><td>Y       </td><td>Yes       </td><td style=\"text-align: right;\">                 11</td><td style=\"text-align: right;\">                  3</td><td style=\"text-align: right;\">                         3</td><td style=\"text-align: right;\">             80</td><td style=\"text-align: right;\">                 0</td><td style=\"text-align: right;\">                  8</td><td style=\"text-align: right;\">                      3</td><td style=\"text-align: right;\">                3</td><td style=\"text-align: right;\">               8</td><td style=\"text-align: right;\">                   7</td><td style=\"text-align: right;\">                        3</td><td style=\"text-align: right;\">                     0</td></tr>\n",
       "<tr><td style=\"text-align: right;\">   27</td><td>No         </td><td>Travel_Rarely    </td><td style=\"text-align: right;\">        591</td><td>Research & Development</td><td style=\"text-align: right;\">                 2</td><td style=\"text-align: right;\">          1</td><td>Medical         </td><td style=\"text-align: right;\">              1</td><td style=\"text-align: right;\">               7</td><td style=\"text-align: right;\">                        1</td><td>Male    </td><td style=\"text-align: right;\">          40</td><td style=\"text-align: right;\">               3</td><td style=\"text-align: right;\">         1</td><td>Laboratory Technician    </td><td style=\"text-align: right;\">                2</td><td>Married        </td><td style=\"text-align: right;\">           3468</td><td style=\"text-align: right;\">        16632</td><td style=\"text-align: right;\">                   9</td><td>Y       </td><td>No        </td><td style=\"text-align: right;\">                 12</td><td style=\"text-align: right;\">                  3</td><td style=\"text-align: right;\">                         4</td><td style=\"text-align: right;\">             80</td><td style=\"text-align: right;\">                 1</td><td style=\"text-align: right;\">                  6</td><td style=\"text-align: right;\">                      3</td><td style=\"text-align: right;\">                3</td><td style=\"text-align: right;\">               2</td><td style=\"text-align: right;\">                   2</td><td style=\"text-align: right;\">                        2</td><td style=\"text-align: right;\">                     2</td></tr>\n",
       "<tr><td style=\"text-align: right;\">   32</td><td>No         </td><td>Travel_Frequently</td><td style=\"text-align: right;\">       1005</td><td>Research & Development</td><td style=\"text-align: right;\">                 2</td><td style=\"text-align: right;\">          2</td><td>Life Sciences   </td><td style=\"text-align: right;\">              1</td><td style=\"text-align: right;\">               8</td><td style=\"text-align: right;\">                        4</td><td>Male    </td><td style=\"text-align: right;\">          79</td><td style=\"text-align: right;\">               3</td><td style=\"text-align: right;\">         1</td><td>Laboratory Technician    </td><td style=\"text-align: right;\">                4</td><td>Single         </td><td style=\"text-align: right;\">           3068</td><td style=\"text-align: right;\">        11864</td><td style=\"text-align: right;\">                   0</td><td>Y       </td><td>No        </td><td style=\"text-align: right;\">                 13</td><td style=\"text-align: right;\">                  3</td><td style=\"text-align: right;\">                         3</td><td style=\"text-align: right;\">             80</td><td style=\"text-align: right;\">                 0</td><td style=\"text-align: right;\">                  8</td><td style=\"text-align: right;\">                      2</td><td style=\"text-align: right;\">                2</td><td style=\"text-align: right;\">               7</td><td style=\"text-align: right;\">                   7</td><td style=\"text-align: right;\">                        3</td><td style=\"text-align: right;\">                     6</td></tr>\n",
       "<tr><td style=\"text-align: right;\">   59</td><td>No         </td><td>Travel_Rarely    </td><td style=\"text-align: right;\">       1324</td><td>Research & Development</td><td style=\"text-align: right;\">                 3</td><td style=\"text-align: right;\">          3</td><td>Medical         </td><td style=\"text-align: right;\">              1</td><td style=\"text-align: right;\">              10</td><td style=\"text-align: right;\">                        3</td><td>Female  </td><td style=\"text-align: right;\">          81</td><td style=\"text-align: right;\">               4</td><td style=\"text-align: right;\">         1</td><td>Laboratory Technician    </td><td style=\"text-align: right;\">                1</td><td>Married        </td><td style=\"text-align: right;\">           2670</td><td style=\"text-align: right;\">         9964</td><td style=\"text-align: right;\">                   4</td><td>Y       </td><td>Yes       </td><td style=\"text-align: right;\">                 20</td><td style=\"text-align: right;\">                  4</td><td style=\"text-align: right;\">                         1</td><td style=\"text-align: right;\">             80</td><td style=\"text-align: right;\">                 3</td><td style=\"text-align: right;\">                 12</td><td style=\"text-align: right;\">                      3</td><td style=\"text-align: right;\">                2</td><td style=\"text-align: right;\">               1</td><td style=\"text-align: right;\">                   0</td><td style=\"text-align: right;\">                        0</td><td style=\"text-align: right;\">                     0</td></tr>\n",
       "<tr><td style=\"text-align: right;\">   30</td><td>No         </td><td>Travel_Rarely    </td><td style=\"text-align: right;\">       1358</td><td>Research & Development</td><td style=\"text-align: right;\">                24</td><td style=\"text-align: right;\">          1</td><td>Life Sciences   </td><td style=\"text-align: right;\">              1</td><td style=\"text-align: right;\">              11</td><td style=\"text-align: right;\">                        4</td><td>Male    </td><td style=\"text-align: right;\">          67</td><td style=\"text-align: right;\">               3</td><td style=\"text-align: right;\">         1</td><td>Laboratory Technician    </td><td style=\"text-align: right;\">                3</td><td>Divorced       </td><td style=\"text-align: right;\">           2693</td><td style=\"text-align: right;\">        13335</td><td style=\"text-align: right;\">                   1</td><td>Y       </td><td>No        </td><td style=\"text-align: right;\">                 22</td><td style=\"text-align: right;\">                  4</td><td style=\"text-align: right;\">                         2</td><td style=\"text-align: right;\">             80</td><td style=\"text-align: right;\">                 1</td><td style=\"text-align: right;\">                  1</td><td style=\"text-align: right;\">                      2</td><td style=\"text-align: right;\">                3</td><td style=\"text-align: right;\">               1</td><td style=\"text-align: right;\">                   0</td><td style=\"text-align: right;\">                        0</td><td style=\"text-align: right;\">                     0</td></tr>\n",
       "<tr><td style=\"text-align: right;\">   38</td><td>No         </td><td>Travel_Frequently</td><td style=\"text-align: right;\">        216</td><td>Research & Development</td><td style=\"text-align: right;\">                23</td><td style=\"text-align: right;\">          3</td><td>Life Sciences   </td><td style=\"text-align: right;\">              1</td><td style=\"text-align: right;\">              12</td><td style=\"text-align: right;\">                        4</td><td>Male    </td><td style=\"text-align: right;\">          44</td><td style=\"text-align: right;\">               2</td><td style=\"text-align: right;\">         3</td><td>Manufacturing Director   </td><td style=\"text-align: right;\">                3</td><td>Single         </td><td style=\"text-align: right;\">           9526</td><td style=\"text-align: right;\">         8787</td><td style=\"text-align: right;\">                   0</td><td>Y       </td><td>No        </td><td style=\"text-align: right;\">                 21</td><td style=\"text-align: right;\">                  4</td><td style=\"text-align: right;\">                         2</td><td style=\"text-align: right;\">             80</td><td style=\"text-align: right;\">                 0</td><td style=\"text-align: right;\">                 10</td><td style=\"text-align: right;\">                      2</td><td style=\"text-align: right;\">                3</td><td style=\"text-align: right;\">               9</td><td style=\"text-align: right;\">                   7</td><td style=\"text-align: right;\">                        1</td><td style=\"text-align: right;\">                     8</td></tr>\n",
       "<tr><td style=\"text-align: right;\">   36</td><td>No         </td><td>Travel_Rarely    </td><td style=\"text-align: right;\">       1299</td><td>Research & Development</td><td style=\"text-align: right;\">                27</td><td style=\"text-align: right;\">          3</td><td>Medical         </td><td style=\"text-align: right;\">              1</td><td style=\"text-align: right;\">              13</td><td style=\"text-align: right;\">                        3</td><td>Male    </td><td style=\"text-align: right;\">          94</td><td style=\"text-align: right;\">               3</td><td style=\"text-align: right;\">         2</td><td>Healthcare Representative</td><td style=\"text-align: right;\">                3</td><td>Married        </td><td style=\"text-align: right;\">           5237</td><td style=\"text-align: right;\">        16577</td><td style=\"text-align: right;\">                   6</td><td>Y       </td><td>No        </td><td style=\"text-align: right;\">                 13</td><td style=\"text-align: right;\">                  3</td><td style=\"text-align: right;\">                         2</td><td style=\"text-align: right;\">             80</td><td style=\"text-align: right;\">                 2</td><td style=\"text-align: right;\">                 17</td><td style=\"text-align: right;\">                      3</td><td style=\"text-align: right;\">                2</td><td style=\"text-align: right;\">               7</td><td style=\"text-align: right;\">                   7</td><td style=\"text-align: right;\">                        7</td><td style=\"text-align: right;\">                     7</td></tr>\n",
       "</tbody>\n",
       "</table>"
      ]
     },
     "metadata": {},
     "output_type": "display_data"
    },
    {
     "data": {
      "text/plain": []
     },
     "execution_count": 3,
     "metadata": {},
     "output_type": "execute_result"
    }
   ],
   "source": [
    "employee_data.head()"
   ]
  },
  {
   "cell_type": "markdown",
   "metadata": {},
   "source": [
    "## Isolation Forests\n",
    "\n",
    "To find our anomalous employees, let's train our isolation forest and see how the predictions look. We will only use a subset of columns for demo purposes."
   ]
  },
  {
   "cell_type": "code",
   "execution_count": 4,
   "metadata": {
    "collapsed": false
   },
   "outputs": [
    {
     "name": "stdout",
     "output_type": "stream",
     "text": [
      "isolationforest Model Build progress: |███████████████████████████████████| 100%\n"
     ]
    }
   ],
   "source": [
    "from h2o.estimators import H2OIsolationForestEstimator\n",
    "myX = ['Age', 'BusinessTravel', 'DistanceFromHome', 'Education', 'Gender', 'JobInvolvement', 'JobLevel', \n",
    "       'MaritalStatus', 'MonthlyIncome', 'NumCompaniesWorked', 'OverTime', 'PercentSalaryHike',\n",
    "       'PerformanceRating', 'TotalWorkingYears', 'TrainingTimesLastYear', 'YearsAtCompany', \n",
    "       'YearsInCurrentRole', 'YearsSinceLastPromotion', 'YearsWithCurrManager']\n",
    "\n",
    "isolation_model = H2OIsolationForestEstimator(model_id = \"isolation_forest.hex\", seed = 1234)\n",
    "isolation_model.train(training_frame = employee_data, x = myX)"
   ]
  },
  {
   "cell_type": "markdown",
   "metadata": {},
   "source": [
    "The predictions from the isolation forest return the `mean_length`.  This is the average number of splits it took to isolate the record across all the decision trees in the forest.  Records with a smaller `mean_length` are more likely to be anomalous since it takes fewer partitions of the data to isolate them."
   ]
  },
  {
   "cell_type": "code",
   "execution_count": 5,
   "metadata": {
    "collapsed": false
   },
   "outputs": [
    {
     "name": "stdout",
     "output_type": "stream",
     "text": [
      "isolationforest prediction progress: |████████████████████████████████████| 100%\n"
     ]
    },
    {
     "data": {
      "text/html": [
       "<table>\n",
       "<thead>\n",
       "<tr><th style=\"text-align: right;\">   predict</th><th style=\"text-align: right;\">  mean_length</th></tr>\n",
       "</thead>\n",
       "<tbody>\n",
       "<tr><td style=\"text-align: right;\"> 0.120301 </td><td style=\"text-align: right;\">         6.54</td></tr>\n",
       "<tr><td style=\"text-align: right;\"> 0.037594 </td><td style=\"text-align: right;\">         6.76</td></tr>\n",
       "<tr><td style=\"text-align: right;\"> 0.180451 </td><td style=\"text-align: right;\">         6.38</td></tr>\n",
       "<tr><td style=\"text-align: right;\">-0.0225564</td><td style=\"text-align: right;\">         6.92</td></tr>\n",
       "<tr><td style=\"text-align: right;\">-0.0150376</td><td style=\"text-align: right;\">         6.9 </td></tr>\n",
       "<tr><td style=\"text-align: right;\">-0.0451128</td><td style=\"text-align: right;\">         6.98</td></tr>\n",
       "<tr><td style=\"text-align: right;\"> 0.172932 </td><td style=\"text-align: right;\">         6.4 </td></tr>\n",
       "<tr><td style=\"text-align: right;\"> 0.0225564</td><td style=\"text-align: right;\">         6.8 </td></tr>\n",
       "<tr><td style=\"text-align: right;\"> 0.150376 </td><td style=\"text-align: right;\">         6.46</td></tr>\n",
       "<tr><td style=\"text-align: right;\"> 0.037594 </td><td style=\"text-align: right;\">         6.76</td></tr>\n",
       "</tbody>\n",
       "</table>"
      ]
     },
     "metadata": {},
     "output_type": "display_data"
    },
    {
     "data": {
      "text/plain": []
     },
     "execution_count": 5,
     "metadata": {},
     "output_type": "execute_result"
    }
   ],
   "source": [
    "predictions = isolation_model.predict(employee_data)\n",
    "predictions.head()"
   ]
  },
  {
   "cell_type": "markdown",
   "metadata": {},
   "source": [
    "The histogram of the `mean_length` shows that most employees have a `mean_length` greater than 6.5.  This means that it takes more than 6 splits on average to partition them.  "
   ]
  },
  {
   "cell_type": "code",
   "execution_count": 6,
   "metadata": {
    "collapsed": false
   },
   "outputs": [
    {
     "data": {
      "image/png": "[encoded data removed]",
      "text/plain": [
       "<matplotlib.figure.Figure at 0x1128e2940>"
      ]
     },
     "metadata": {},
     "output_type": "display_data"
    }
   ],
   "source": [
    "predictions[\"mean_length\"].hist()"
   ]
  },
  {
   "cell_type": "markdown",
   "metadata": {},
   "source": [
    "## Defining Anomalies\n",
    "\n",
    "We will define an anomaly as an employee who's `mean_length` is less than 5.5.  These were employees who were easier to isolate from the rest of the data.\n",
    "\n",
    "There are 34 anomalous employees."
   ]
  },
  {
   "cell_type": "code",
   "execution_count": 7,
   "metadata": {
    "collapsed": false
   },
   "outputs": [
    {
     "name": "stdout",
     "output_type": "stream",
     "text": [
      "Number of Anomalies: 34\n"
     ]
    }
   ],
   "source": [
    "anomalies = employee_data[predictions[\"mean_length\"] < 5.5]\n",
    "print(\"Number of Anomalies: \" + str(anomalies.nrow))"
   ]
  },
  {
   "cell_type": "code",
   "execution_count": 8,
   "metadata": {
    "collapsed": false
   },
   "outputs": [
    {
     "name": "stdout",
     "output_type": "stream",
     "text": [
      "isolationforest prediction progress: |████████████████████████████████████| 100%\n"
     ]
    },
    {
     "data": {
      "text/html": [
       "<table>\n",
       "<thead>\n",
       "<tr><th style=\"text-align: right;\">  mean_length</th><th style=\"text-align: right;\">  Age</th><th>BusinessTravel  </th><th style=\"text-align: right;\">  DistanceFromHome</th><th style=\"text-align: right;\">  Education</th><th>Gender  </th><th style=\"text-align: right;\">  JobInvolvement</th><th style=\"text-align: right;\">  JobLevel</th><th>MaritalStatus  </th><th style=\"text-align: right;\">  MonthlyIncome</th><th style=\"text-align: right;\">  NumCompaniesWorked</th><th>OverTime  </th><th style=\"text-align: right;\">  PercentSalaryHike</th><th style=\"text-align: right;\">  PerformanceRating</th><th style=\"text-align: right;\">  TotalWorkingYears</th><th style=\"text-align: right;\">  TrainingTimesLastYear</th><th style=\"text-align: right;\">  YearsAtCompany</th><th style=\"text-align: right;\">  YearsInCurrentRole</th><th style=\"text-align: right;\">  YearsSinceLastPromotion</th><th style=\"text-align: right;\">  YearsWithCurrManager</th></tr>\n",
       "</thead>\n",
       "<tbody>\n",
       "<tr><td style=\"text-align: right;\">         5.48</td><td style=\"text-align: right;\">   59</td><td>Travel_Rarely   </td><td style=\"text-align: right;\">                25</td><td style=\"text-align: right;\">          3</td><td>Female  </td><td style=\"text-align: right;\">               3</td><td style=\"text-align: right;\">         3</td><td>Single         </td><td style=\"text-align: right;\">           7637</td><td style=\"text-align: right;\">                   7</td><td>No        </td><td style=\"text-align: right;\">                 11</td><td style=\"text-align: right;\">                  3</td><td style=\"text-align: right;\">                 28</td><td style=\"text-align: right;\">                      3</td><td style=\"text-align: right;\">              21</td><td style=\"text-align: right;\">                  16</td><td style=\"text-align: right;\">                        7</td><td style=\"text-align: right;\">                     9</td></tr>\n",
       "<tr><td style=\"text-align: right;\">         5.38</td><td style=\"text-align: right;\">   58</td><td>Travel_Rarely   </td><td style=\"text-align: right;\">                10</td><td style=\"text-align: right;\">          4</td><td>Male    </td><td style=\"text-align: right;\">               3</td><td style=\"text-align: right;\">         4</td><td>Single         </td><td style=\"text-align: right;\">          13872</td><td style=\"text-align: right;\">                   0</td><td>No        </td><td style=\"text-align: right;\">                 13</td><td style=\"text-align: right;\">                  3</td><td style=\"text-align: right;\">                 38</td><td style=\"text-align: right;\">                      1</td><td style=\"text-align: right;\">              37</td><td style=\"text-align: right;\">                  10</td><td style=\"text-align: right;\">                        1</td><td style=\"text-align: right;\">                     8</td></tr>\n",
       "<tr><td style=\"text-align: right;\">         5.4 </td><td style=\"text-align: right;\">   59</td><td>Non-Travel      </td><td style=\"text-align: right;\">                 2</td><td style=\"text-align: right;\">          4</td><td>Female  </td><td style=\"text-align: right;\">               2</td><td style=\"text-align: right;\">         5</td><td>Married        </td><td style=\"text-align: right;\">          18844</td><td style=\"text-align: right;\">                   9</td><td>No        </td><td style=\"text-align: right;\">                 21</td><td style=\"text-align: right;\">                  4</td><td style=\"text-align: right;\">                 30</td><td style=\"text-align: right;\">                      3</td><td style=\"text-align: right;\">               3</td><td style=\"text-align: right;\">                   2</td><td style=\"text-align: right;\">                        2</td><td style=\"text-align: right;\">                     2</td></tr>\n",
       "<tr><td style=\"text-align: right;\">         4.88</td><td style=\"text-align: right;\">   51</td><td>Travel_Rarely   </td><td style=\"text-align: right;\">                 6</td><td style=\"text-align: right;\">          3</td><td>Male    </td><td style=\"text-align: right;\">               3</td><td style=\"text-align: right;\">         5</td><td>Single         </td><td style=\"text-align: right;\">          19537</td><td style=\"text-align: right;\">                   7</td><td>No        </td><td style=\"text-align: right;\">                 13</td><td style=\"text-align: right;\">                  3</td><td style=\"text-align: right;\">                 23</td><td style=\"text-align: right;\">                      5</td><td style=\"text-align: right;\">              20</td><td style=\"text-align: right;\">                  18</td><td style=\"text-align: right;\">                       15</td><td style=\"text-align: right;\">                    15</td></tr>\n",
       "<tr><td style=\"text-align: right;\">         4.92</td><td style=\"text-align: right;\">   58</td><td>Travel_Rarely   </td><td style=\"text-align: right;\">                23</td><td style=\"text-align: right;\">          4</td><td>Female  </td><td style=\"text-align: right;\">               3</td><td style=\"text-align: right;\">         3</td><td>Married        </td><td style=\"text-align: right;\">          10312</td><td style=\"text-align: right;\">                   1</td><td>No        </td><td style=\"text-align: right;\">                 12</td><td style=\"text-align: right;\">                  3</td><td style=\"text-align: right;\">                 40</td><td style=\"text-align: right;\">                      3</td><td style=\"text-align: right;\">              40</td><td style=\"text-align: right;\">                  10</td><td style=\"text-align: right;\">                       15</td><td style=\"text-align: right;\">                     6</td></tr>\n",
       "<tr><td style=\"text-align: right;\">         5.48</td><td style=\"text-align: right;\">   46</td><td>Travel_Rarely   </td><td style=\"text-align: right;\">                 1</td><td style=\"text-align: right;\">          2</td><td>Female  </td><td style=\"text-align: right;\">               3</td><td style=\"text-align: right;\">         3</td><td>Divorced       </td><td style=\"text-align: right;\">          10453</td><td style=\"text-align: right;\">                   1</td><td>No        </td><td style=\"text-align: right;\">                 25</td><td style=\"text-align: right;\">                  4</td><td style=\"text-align: right;\">                 24</td><td style=\"text-align: right;\">                      2</td><td style=\"text-align: right;\">              24</td><td style=\"text-align: right;\">                  13</td><td style=\"text-align: right;\">                       15</td><td style=\"text-align: right;\">                     7</td></tr>\n",
       "<tr><td style=\"text-align: right;\">         4.92</td><td style=\"text-align: right;\">   55</td><td>Travel_Rarely   </td><td style=\"text-align: right;\">                14</td><td style=\"text-align: right;\">          4</td><td>Male    </td><td style=\"text-align: right;\">               4</td><td style=\"text-align: right;\">         5</td><td>Single         </td><td style=\"text-align: right;\">          18722</td><td style=\"text-align: right;\">                   8</td><td>No        </td><td style=\"text-align: right;\">                 11</td><td style=\"text-align: right;\">                  3</td><td style=\"text-align: right;\">                 36</td><td style=\"text-align: right;\">                      3</td><td style=\"text-align: right;\">              24</td><td style=\"text-align: right;\">                  15</td><td style=\"text-align: right;\">                        2</td><td style=\"text-align: right;\">                    15</td></tr>\n",
       "<tr><td style=\"text-align: right;\">         5.04</td><td style=\"text-align: right;\">   52</td><td>Travel_Rarely   </td><td style=\"text-align: right;\">                 1</td><td style=\"text-align: right;\">          4</td><td>Male    </td><td style=\"text-align: right;\">               2</td><td style=\"text-align: right;\">         5</td><td>Married        </td><td style=\"text-align: right;\">          19999</td><td style=\"text-align: right;\">                   0</td><td>No        </td><td style=\"text-align: right;\">                 14</td><td style=\"text-align: right;\">                  3</td><td style=\"text-align: right;\">                 34</td><td style=\"text-align: right;\">                      5</td><td style=\"text-align: right;\">              33</td><td style=\"text-align: right;\">                  18</td><td style=\"text-align: right;\">                       11</td><td style=\"text-align: right;\">                     9</td></tr>\n",
       "<tr><td style=\"text-align: right;\">         5.04</td><td style=\"text-align: right;\">   52</td><td>Non-Travel      </td><td style=\"text-align: right;\">                 2</td><td style=\"text-align: right;\">          4</td><td>Male    </td><td style=\"text-align: right;\">               2</td><td style=\"text-align: right;\">         5</td><td>Single         </td><td style=\"text-align: right;\">          19068</td><td style=\"text-align: right;\">                   1</td><td>Yes       </td><td style=\"text-align: right;\">                 18</td><td style=\"text-align: right;\">                  3</td><td style=\"text-align: right;\">                 33</td><td style=\"text-align: right;\">                      2</td><td style=\"text-align: right;\">              33</td><td style=\"text-align: right;\">                   7</td><td style=\"text-align: right;\">                       15</td><td style=\"text-align: right;\">                    12</td></tr>\n",
       "<tr><td style=\"text-align: right;\">         4.92</td><td style=\"text-align: right;\">   55</td><td>Travel_Rarely   </td><td style=\"text-align: right;\">                 1</td><td style=\"text-align: right;\">          3</td><td>Male    </td><td style=\"text-align: right;\">               3</td><td style=\"text-align: right;\">         5</td><td>Single         </td><td style=\"text-align: right;\">          19045</td><td style=\"text-align: right;\">                   0</td><td>Yes       </td><td style=\"text-align: right;\">                 14</td><td style=\"text-align: right;\">                  3</td><td style=\"text-align: right;\">                 37</td><td style=\"text-align: right;\">                      2</td><td style=\"text-align: right;\">              36</td><td style=\"text-align: right;\">                  10</td><td style=\"text-align: right;\">                        4</td><td style=\"text-align: right;\">                    13</td></tr>\n",
       "</tbody>\n",
       "</table>"
      ]
     },
     "metadata": {},
     "output_type": "display_data"
    },
    {
     "data": {
      "text/plain": []
     },
     "execution_count": 8,
     "metadata": {},
     "output_type": "execute_result"
    }
   ],
   "source": [
    "isolation_model.predict(anomalies)[\"mean_length\"].cbind(anomalies[myX])"
   ]
  },
  {
   "cell_type": "markdown",
   "metadata": {},
   "source": [
    "## Interpreting Anomalies\n",
    "\n",
    "Now that we have found anomalous employees, we are interested in why they are considered anomalies.  Let's examine the first anomaly."
   ]
  },
  {
   "cell_type": "code",
   "execution_count": 18,
   "metadata": {
    "collapsed": false
   },
   "outputs": [
    {
     "data": {
      "text/html": [
       "<table>\n",
       "<thead>\n",
       "<tr><th style=\"text-align: right;\">  Age</th><th>BusinessTravel  </th><th style=\"text-align: right;\">  DistanceFromHome</th><th style=\"text-align: right;\">  Education</th><th>Gender  </th><th style=\"text-align: right;\">  JobInvolvement</th><th style=\"text-align: right;\">  JobLevel</th><th>MaritalStatus  </th><th style=\"text-align: right;\">  MonthlyIncome</th><th style=\"text-align: right;\">  NumCompaniesWorked</th><th>OverTime  </th><th style=\"text-align: right;\">  PercentSalaryHike</th><th style=\"text-align: right;\">  PerformanceRating</th><th style=\"text-align: right;\">  TotalWorkingYears</th><th style=\"text-align: right;\">  TrainingTimesLastYear</th><th style=\"text-align: right;\">  YearsAtCompany</th><th style=\"text-align: right;\">  YearsInCurrentRole</th><th style=\"text-align: right;\">  YearsSinceLastPromotion</th><th style=\"text-align: right;\">  YearsWithCurrManager</th></tr>\n",
       "</thead>\n",
       "<tbody>\n",
       "<tr><td style=\"text-align: right;\">   59</td><td>Travel_Rarely   </td><td style=\"text-align: right;\">                25</td><td style=\"text-align: right;\">          3</td><td>Female  </td><td style=\"text-align: right;\">               3</td><td style=\"text-align: right;\">         3</td><td>Single         </td><td style=\"text-align: right;\">           7637</td><td style=\"text-align: right;\">                   7</td><td>No        </td><td style=\"text-align: right;\">                 11</td><td style=\"text-align: right;\">                  3</td><td style=\"text-align: right;\">                 28</td><td style=\"text-align: right;\">                      3</td><td style=\"text-align: right;\">              21</td><td style=\"text-align: right;\">                  16</td><td style=\"text-align: right;\">                        7</td><td style=\"text-align: right;\">                     9</td></tr>\n",
       "</tbody>\n",
       "</table>"
      ]
     },
     "metadata": {},
     "output_type": "display_data"
    },
    {
     "data": {
      "text/plain": []
     },
     "execution_count": 18,
     "metadata": {},
     "output_type": "execute_result"
    }
   ],
   "source": [
    "anomalies[0, myX]"
   ]
  },
  {
   "cell_type": "code",
   "execution_count": 10,
   "metadata": {
    "collapsed": false
   },
   "outputs": [
    {
     "name": "stdout",
     "output_type": "stream",
     "text": [
      "isolationforest prediction progress: |████████████████████████████████████| 100%\n"
     ]
    },
    {
     "data": {
      "text/html": [
       "<table>\n",
       "<thead>\n",
       "<tr><th style=\"text-align: right;\">  predict</th><th style=\"text-align: right;\">  mean_length</th></tr>\n",
       "</thead>\n",
       "<tbody>\n",
       "<tr><td style=\"text-align: right;\"> 0.518797</td><td style=\"text-align: right;\">         5.48</td></tr>\n",
       "</tbody>\n",
       "</table>"
      ]
     },
     "metadata": {},
     "output_type": "display_data"
    },
    {
     "data": {
      "text/plain": []
     },
     "execution_count": 10,
     "metadata": {},
     "output_type": "execute_result"
    }
   ],
   "source": [
    "isolation_model.predict(anomalies[0, :])"
   ]
  },
  {
   "cell_type": "markdown",
   "metadata": {},
   "source": [
    "To determine why this employee is considered anomalous, we will build a surrogate decision tree.  The goal of the decision tree is to separate this employee from all other employees.\n",
    "\n",
    "The structure of the decision tree will tell us why the employee is different from others."
   ]
  },
  {
   "cell_type": "code",
   "execution_count": 11,
   "metadata": {
    "collapsed": true
   },
   "outputs": [],
   "source": [
    "surrogate_data = employee_data[:, :]\n",
    "surrogate_data[\"AnomalyRecord\"] = (surrogate_data[\"EmployeeNumber\"] == 81).ifelse(\"Anomaly\", \"NotAnomaly\")"
   ]
  },
  {
   "cell_type": "code",
   "execution_count": 19,
   "metadata": {
    "collapsed": false
   },
   "outputs": [
    {
     "data": {
      "text/html": [
       "<table>\n",
       "<thead>\n",
       "<tr><th>AnomalyRecord  </th><th style=\"text-align: right;\">  Count</th></tr>\n",
       "</thead>\n",
       "<tbody>\n",
       "<tr><td>NotAnomaly     </td><td style=\"text-align: right;\">   1469</td></tr>\n",
       "<tr><td>Anomaly        </td><td style=\"text-align: right;\">      1</td></tr>\n",
       "</tbody>\n",
       "</table>"
      ]
     },
     "metadata": {},
     "output_type": "display_data"
    },
    {
     "data": {
      "text/plain": []
     },
     "execution_count": 19,
     "metadata": {},
     "output_type": "execute_result"
    }
   ],
   "source": [
    "surrogate_data[\"AnomalyRecord\"].table()"
   ]
  },
  {
   "cell_type": "code",
   "execution_count": 12,
   "metadata": {
    "collapsed": false
   },
   "outputs": [
    {
     "name": "stdout",
     "output_type": "stream",
     "text": [
      "drf Model Build progress: |███████████████████████████████████████████████| 100%\n"
     ]
    }
   ],
   "source": [
    "from h2o.estimators import H2ORandomForestEstimator\n",
    "\n",
    "decision_tree = H2ORandomForestEstimator(model_id = \"surrogate_decision_tree.hex\", ntrees = 1, max_depth = 3,\n",
    "                                         sample_rate = 1, mtries = len(myX))\n",
    "decision_tree.train(training_frame = surrogate_data, x = myX, y = \"AnomalyRecord\")"
   ]
  },
  {
   "cell_type": "markdown",
   "metadata": {},
   "source": [
    "We can visualize this decision tree to see how it split to isolate our anomaly record."
   ]
  },
  {
   "cell_type": "code",
   "execution_count": 13,
   "metadata": {
    "collapsed": true
   },
   "outputs": [],
   "source": [
    "import os\n",
    "import subprocess\n",
    "from IPython.display import Image\n",
    "def generateTreeImage(decision_tree, image_file_path):\n",
    "    # Download MOJO\n",
    "    mojo_path = decision_tree.download_mojo(get_genmodel_jar=True)\n",
    "    directory = os.path.dirname(mojo_path)\n",
    "    h2o_jar_path = os.path.join(directory, \"h2o-genmodel.jar\")\n",
    "    # Create Graphviz file\n",
    "    gv_file_path = os.path.join(directory, \"decision_tree.gv\")\n",
    "    gv_call = \" \".join([\"java\", \"-cp\", h2o_jar_path, \"hex.genmodel.tools.PrintMojo\", \"--tree 0 -i\", mojo_path , \"-o\", gv_file_path])\n",
    "    result = subprocess.call(gv_call, shell=True)\n",
    "    result = subprocess.call([\"ls\", gv_file_path], shell = False)\n",
    "    result = subprocess.call([\"dot\", \"-Tpng\", gv_file_path, \"-o\", image_file_path], shell=False)\n",
    "    result = subprocess.call([\"ls\",image_file_path], shell = False)\n",
    "    \n",
    "    return Image(image_file_path)"
   ]
  },
  {
   "cell_type": "code",
   "execution_count": 14,
   "metadata": {
    "collapsed": false,
    "scrolled": true
   },
   "outputs": [
    {
     "data": {
      "image/png": "[encoded data removed]",
      "text/plain": [
       "<IPython.core.display.Image object>"
      ]
     },
     "execution_count": 14,
     "metadata": {},
     "output_type": "execute_result"
    }
   ],
   "source": [
    "generateTreeImage(decision_tree, \"./decision_tree.png\")"
   ]
  },
  {
   "cell_type": "markdown",
   "metadata": {},
   "source": [
    "The anomalous employee falls in the bucket of employees with a high number of years in the Current Role and Age. It falls in the bucket: `YearsInCurrentRole >= 15.5` and `Age >= 57.5`.  \n",
    "\n",
    "We can see that our simple decision tree is perfectly able to separate the anomaly from the other employees because it has an AUC of 1.  This means that this employee is the only one in the data that has been in his/her current role more than 15.5 years and is older than 57."
   ]
  },
  {
   "cell_type": "code",
   "execution_count": 22,
   "metadata": {
    "collapsed": false
   },
   "outputs": [
    {
     "data": {
      "text/plain": [
       "1.0"
      ]
     },
     "execution_count": 22,
     "metadata": {},
     "output_type": "execute_result"
    }
   ],
   "source": [
    "decision_tree.model_performance(surrogate_data).auc()"
   ]
  },
  {
   "cell_type": "code",
   "execution_count": 15,
   "metadata": {
    "collapsed": false
   },
   "outputs": [
    {
     "data": {
      "text/html": [
       "<table>\n",
       "<thead>\n",
       "<tr><th style=\"text-align: right;\">  Age</th><th style=\"text-align: right;\">  YearsInCurrentRole</th></tr>\n",
       "</thead>\n",
       "<tbody>\n",
       "<tr><td style=\"text-align: right;\">   59</td><td style=\"text-align: right;\">                  16</td></tr>\n",
       "</tbody>\n",
       "</table>"
      ]
     },
     "metadata": {},
     "output_type": "display_data"
    },
    {
     "data": {
      "text/plain": []
     },
     "execution_count": 15,
     "metadata": {},
     "output_type": "execute_result"
    }
   ],
   "source": [
    "anomalies[0, [\"Age\", \"YearsInCurrentRole\"]]"
   ]
  },
  {
   "cell_type": "markdown",
   "metadata": {},
   "source": [
    "If we examine the distribution of these two features, we can see that the employee falls on the right of the spectrum for both."
   ]
  },
  {
   "cell_type": "code",
   "execution_count": 16,
   "metadata": {
    "collapsed": false
   },
   "outputs": [
    {
     "data": {
      "image/png": "[encoded data removed]",
      "text/plain": [
       "<matplotlib.figure.Figure at 0x1111070b8>"
      ]
     },
     "metadata": {},
     "output_type": "display_data"
    }
   ],
   "source": [
    "employee_data[\"Age\"].hist()"
   ]
  },
  {
   "cell_type": "code",
   "execution_count": 17,
   "metadata": {
    "collapsed": false
   },
   "outputs": [
    {
     "data": {
      "image/png": "[encoded data removed]",
      "text/plain": [
       "<matplotlib.figure.Figure at 0x11adac748>"
      ]
     },
     "metadata": {},
     "output_type": "display_data"
    }
   ],
   "source": [
    "employee_data[\"YearsInCurrentRole\"].hist()"
   ]
  },
  {
   "cell_type": "code",
   "execution_count": null,
   "metadata": {
    "collapsed": true
   },
   "outputs": [],
   "source": []
  }
 ],
 "metadata": {
  "kernelspec": {
   "display_name": "Python 3",
   "language": "python",
   "name": "python3"
  },
  "language_info": {
   "codemirror_mode": {
    "name": "ipython",
    "version": 3
   },
   "file_extension": ".py",
   "mimetype": "text/x-python",
   "name": "python",
   "nbconvert_exporter": "python",
   "pygments_lexer": "ipython3",
   "version": "3.6.0"
  }
 },
 "nbformat": 4,
 "nbformat_minor": 2
}
