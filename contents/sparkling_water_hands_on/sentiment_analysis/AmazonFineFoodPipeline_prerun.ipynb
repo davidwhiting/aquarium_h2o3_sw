{
 "cells": [
  {
   "cell_type": "markdown",
   "metadata": {},
   "source": [
    "# Sparkling Water Pipeline Productionalization\n",
    "\n",
    "## Background\n",
    "\n",
    "Sparkling Water provides access to H2O algorithms and publishes an API to integrate them as part of regular Spark pipelines. This feature allows for seamless training and deployment of H2O algorithms in the Spark environment. Furthermore, thanks to MOJO (java binary) representations of trained H2O models, production pipelines do not require access to H2O runtime. This enables a wide variety of deployment scenarios. Similarly, Sparkling Water can be used for deploying MOJOs from Driverless AI models.\n",
    "\n",
    "Moreover, by supporting Python and Scala environments, we enable a simple transfer of modeling results between data scientists (\"Python land\") and production (\"JVM land\").\n",
    "\n",
    "\n",
    "## Goal\n",
    "\n",
    "The goals of this hands-on are two-fold:\n",
    "  - Show integration of H2O models into Spark pipelines using PySpark and PySparkling,\n",
    "  - Demonstrate deployment of the trained pipeline in the context of JVM and Spark streaming.\n",
    "  \n",
    "Our modeling goal is to predict sentiment of Amazon food reviews. For this purpose, we use a pre-processed dataset from [SNAP repository](https://snap.stanford.edu/data/web-FineFoods.html). The dataset contains multiple columns but for simplicity, we will use only `date`, `summary` and overall `score`. The score helps us to approximate sentiment.\n",
    "\n",
    "![Scenario](./img/scenario.png)"
   ]
  },
  {
   "cell_type": "markdown",
   "metadata": {},
   "source": [
    "## Environment preparation\n",
    "\n",
    "First, let's verify that `SparkSession` is available in the notebook environment. We do not need to explicitly create a `SparkSession` as it is automatically created for us\n",
    "during startup of the Jupyter notebook. This works because Jupyter is configured with a Spark kernel.\n"
   ]
  },
  {
   "cell_type": "code",
   "execution_count": 1,
   "metadata": {},
   "outputs": [
    {
     "data": {
      "text/html": [
       "\n",
       "            <div>\n",
       "                <p><b>SparkSession - in-memory</b></p>\n",
       "                \n",
       "        <div>\n",
       "            <p><b>SparkContext</b></p>\n",
       "\n",
       "            <p><a href=\"http://3d915dbc845f:4040\">Spark UI</a></p>\n",
       "\n",
       "            <dl>\n",
       "              <dt>Version</dt>\n",
       "                <dd><code>v2.4.3</code></dd>\n",
       "              <dt>Master</dt>\n",
       "                <dd><code>local[*]</code></dd>\n",
       "              <dt>AppName</dt>\n",
       "                <dd><code>pyspark-shell</code></dd>\n",
       "            </dl>\n",
       "        </div>\n",
       "        \n",
       "            </div>\n",
       "        "
      ],
      "text/plain": [
       "<pyspark.sql.session.SparkSession at 0x7f6048b8ddd8>"
      ]
     },
     "execution_count": 1,
     "metadata": {},
     "output_type": "execute_result"
    }
   ],
   "source": [
    "spark"
   ]
  },
  {
   "cell_type": "markdown",
   "metadata": {},
   "source": [
    "### Prepare `H2OContext`\n",
    "\n",
    "We will start `H2OContext` in the so-called _internal backend_ mode. The means H2O is sharing the JVM with Spark, as shown below.\n",
    "\n",
    "![InternalBackend](./img/internal_backend.png)\n",
    "\n",
    "The following call initializes H2O on each Spark executor in the Spark cluster."
   ]
  },
  {
   "cell_type": "code",
   "execution_count": 2,
   "metadata": {},
   "outputs": [
    {
     "name": "stdout",
     "output_type": "stream",
     "text": [
      "Connecting to H2O server at http://172.17.0.2:54321/h2o ... successful.\n"
     ]
    },
    {
     "data": {
      "text/html": [
       "<div style=\"overflow:auto\"><table style=\"width:50%\"><tr><td>H2O cluster uptime:</td>\n",
       "<td>06 secs</td></tr>\n",
       "<tr><td>H2O cluster timezone:</td>\n",
       "<td>Etc/UTC</td></tr>\n",
       "<tr><td>H2O data parsing timezone:</td>\n",
       "<td>UTC</td></tr>\n",
       "<tr><td>H2O cluster version:</td>\n",
       "<td>3.24.0.5</td></tr>\n",
       "<tr><td>H2O cluster version age:</td>\n",
       "<td>2 months and 23 days </td></tr>\n",
       "<tr><td>H2O cluster name:</td>\n",
       "<td>sparkling-water-h2o_local-1568217527506</td></tr>\n",
       "<tr><td>H2O cluster total nodes:</td>\n",
       "<td>1</td></tr>\n",
       "<tr><td>H2O cluster free memory:</td>\n",
       "<td>7.076 Gb</td></tr>\n",
       "<tr><td>H2O cluster total cores:</td>\n",
       "<td>16</td></tr>\n",
       "<tr><td>H2O cluster allowed cores:</td>\n",
       "<td>16</td></tr>\n",
       "<tr><td>H2O cluster status:</td>\n",
       "<td>accepting new members, healthy</td></tr>\n",
       "<tr><td>H2O connection url:</td>\n",
       "<td>http://172.17.0.2:54321/h2o</td></tr>\n",
       "<tr><td>H2O connection proxy:</td>\n",
       "<td>None</td></tr>\n",
       "<tr><td>H2O internal security:</td>\n",
       "<td>False</td></tr>\n",
       "<tr><td>H2O API Extensions:</td>\n",
       "<td>XGBoost, Algos, Amazon S3, AutoML, Core V3, Core V4</td></tr>\n",
       "<tr><td>Python version:</td>\n",
       "<td>3.6.9 final</td></tr></table></div>"
      ],
      "text/plain": [
       "--------------------------  ---------------------------------------------------\n",
       "H2O cluster uptime:         06 secs\n",
       "H2O cluster timezone:       Etc/UTC\n",
       "H2O data parsing timezone:  UTC\n",
       "H2O cluster version:        3.24.0.5\n",
       "H2O cluster version age:    2 months and 23 days\n",
       "H2O cluster name:           sparkling-water-h2o_local-1568217527506\n",
       "H2O cluster total nodes:    1\n",
       "H2O cluster free memory:    7.076 Gb\n",
       "H2O cluster total cores:    16\n",
       "H2O cluster allowed cores:  16\n",
       "H2O cluster status:         accepting new members, healthy\n",
       "H2O connection url:         http://172.17.0.2:54321/h2o\n",
       "H2O connection proxy:\n",
       "H2O internal security:      False\n",
       "H2O API Extensions:         XGBoost, Algos, Amazon S3, AutoML, Core V3, Core V4\n",
       "Python version:             3.6.9 final\n",
       "--------------------------  ---------------------------------------------------"
      ]
     },
     "metadata": {},
     "output_type": "display_data"
    },
    {
     "name": "stdout",
     "output_type": "stream",
     "text": [
      "\n",
      "Sparkling Water Context:\n",
      " * Sparkling Water Version: 2.4.13\n",
      " * H2O name: sparkling-water-h2o_local-1568217527506\n",
      " * cluster size: 1\n",
      " * list of used nodes:\n",
      "  (executorId, host, port)\n",
      "  ------------------------\n",
      "  (driver,3d915dbc845f,54321)\n",
      "  ------------------------\n",
      "\n",
      "  Open H2O Flow in browser: http://172.17.0.2:54321/h2o (CMD + click in Mac OSX)\n",
      "\n",
      "    \n"
     ]
    }
   ],
   "source": [
    "from pysparkling import *\n",
    "hc = H2OContext.getOrCreate(spark)"
   ]
  },
  {
   "cell_type": "markdown",
   "metadata": {},
   "source": [
    ">Note: the reported IP is the private IP of the docker container where the notebook is running. To open H2O Flow in your own browser, copy your browser URL and replace the port with 54321. In Aquarium you would replace `/jupyter` with `/h2o`, since Aquarium uses reverse portmapping to get to the standard ports.\n",
    ">\n",
    ">For example, my Jupyter notebook's URL is `http://52.202.98.125/jupyter`. After opening a new browser tab or window, copy the address and replace port `/jupyter` with `/h2o`:\n",
    ">`http://52.202.98.125/h2o`."
   ]
  },
  {
   "cell_type": "markdown",
   "metadata": {},
   "source": [
    "## Spark Steps\n",
    "\n",
    "We are going to use Spark for all the initial steps, from data ingestion to data cleaning and feature engineering.\n",
    "\n",
    ">Alternately, one could load the data into H2O \n",
    ">\n",
    ">```\n",
    "import h2o\n",
    "reviews_h2o = h2o.upload_file(\"AmazonReviews_Train.csv\", \"reviews.hex\")\n",
    ">```\n",
    ">\n",
    ">use H2O Flow to investigate the data, and then convert the H2O frame to a Spark frame\n",
    ">\n",
    ">```\n",
    "reviews_spark = hc.as_spark_frame(reviews_h2o)\n",
    ">```"
   ]
  },
  {
   "cell_type": "code",
   "execution_count": 3,
   "metadata": {},
   "outputs": [],
   "source": [
    "reviews_spark = spark.read.load(\"/home/h2o/data/amazon_reviews/AmazonReviews_Train.csv\",\n",
    "                                format=\"csv\", sep=\",\", inferSchema=\"true\", header=\"true\")"
   ]
  },
  {
   "cell_type": "markdown",
   "metadata": {},
   "source": [
    "#### Trick #1: Save the original Spark schema\n",
    "\n",
    "At this point, we will save the input data schema to be used later in the deployed Spark streaming application."
   ]
  },
  {
   "cell_type": "code",
   "execution_count": 4,
   "metadata": {},
   "outputs": [
    {
     "name": "stdout",
     "output_type": "stream",
     "text": [
      "root\n",
      " |-- Id: integer (nullable = true)\n",
      " |-- ProductId: string (nullable = true)\n",
      " |-- UserId: string (nullable = true)\n",
      " |-- ProfileName: string (nullable = true)\n",
      " |-- HelpfulnessNumerator: string (nullable = true)\n",
      " |-- HelpfulnessDenominator: string (nullable = true)\n",
      " |-- Score: string (nullable = true)\n",
      " |-- Time: string (nullable = true)\n",
      " |-- Summary: string (nullable = true)\n",
      " |-- Text: string (nullable = true)\n",
      "\n"
     ]
    }
   ],
   "source": [
    "reviews_spark.printSchema()\n",
    "\n",
    "with open('schema.json','w') as f:\n",
    "    f.write(str(reviews_spark.schema.json()))"
   ]
  },
  {
   "cell_type": "markdown",
   "metadata": {},
   "source": [
    "## Now let's define all the stages for the pipeline\n",
    "\n",
    "The Spark pipelines are composed of various transformers. In our example, we combine a few Spark transformers to clean up textual data and transform it into numerical format. The pipeline is finalized by training an H2O XGBoost binomial model.\n",
    "\n",
    "> Note: The pipeline stages are not executed right away, they are executed during each fit and transform call.\n",
    "\n",
    "### Define transformer to drop unnecessary columns\n",
    "The Spark `SQLTransformer` allows for using SQL to munge data.\n",
    "\n",
    "As part of this transformer, we convert timestamp to a human readable date string.\n",
    "\n",
    "For this example, we are selecting just the `Score`, `Time` and `Summary` columns. The goal of this analysis is to predict sentiment, i.e., whether the review is positive or negative. The review can be influenced by several aspects. The `Summary` is of course the mostly important information, but `Time` can influence the model as well. For example, people may tend to give higher reviews on Friday evenings because there's a weekend in front of them. :)"
   ]
  },
  {
   "cell_type": "code",
   "execution_count": 5,
   "metadata": {},
   "outputs": [],
   "source": [
    "from pyspark.ml.feature import SQLTransformer\n",
    "colSelect = SQLTransformer(\n",
    "    statement=\"SELECT Score, from_unixtime(Time) as Time, Summary FROM __THIS__\")"
   ]
  },
  {
   "cell_type": "markdown",
   "metadata": {},
   "source": [
    "#### Trick #2: Explore intermediate results\n",
    "To explore intermediate results, we can invoke the defined transformer directly. Note that this will cause Spark to execute the transformer as well as all unevaluated upstream code. "
   ]
  },
  {
   "cell_type": "code",
   "execution_count": 6,
   "metadata": {},
   "outputs": [
    {
     "name": "stdout",
     "output_type": "stream",
     "text": [
      "+-----+-------------------+--------------------+\n",
      "|Score|               Time|             Summary|\n",
      "+-----+-------------------+--------------------+\n",
      "|    5|2011-04-27 00:00:00|Good Quality Dog ...|\n",
      "|    1|2012-09-07 00:00:00|   Not as Advertised|\n",
      "|    4|2008-08-18 00:00:00|\"\"\"Delight\"\" says...|\n",
      "|    2|2011-06-13 00:00:00|      Cough Medicine|\n",
      "|    5|2012-10-21 00:00:00|         Great taffy|\n",
      "|    4|2012-07-12 00:00:00|          Nice Taffy|\n",
      "|    5|2012-06-20 00:00:00|Great!  Just as g...|\n",
      "|    5|2012-05-03 00:00:00|Wonderful, tasty ...|\n",
      "|    5|2011-11-23 00:00:00|          Yay Barley|\n",
      "|    5|2012-10-26 00:00:00|    Healthy Dog Food|\n",
      "|    5|2005-02-08 00:00:00|The Best Hot Sauc...|\n",
      "|    5|2010-08-27 00:00:00|\"My cats LOVE thi...|\n",
      "|    1|2012-06-13 00:00:00|My Cats Are Not F...|\n",
      "|    4|2010-11-05 00:00:00|   fresh and greasy!|\n",
      "|    5|2010-03-12 00:00:00|Strawberry Twizzl...|\n",
      "|    5|2009-12-29 00:00:00|Lots of twizzlers...|\n",
      "|    2|2012-09-20 00:00:00|          poor taste|\n",
      "|    5|2012-08-16 00:00:00|            Love it!|\n",
      "|    5|2011-12-23 00:00:00|  GREAT SWEET CANDY!|\n",
      "|    5|2011-10-08 00:00:00|Home delivered tw...|\n",
      "+-----+-------------------+--------------------+\n",
      "only showing top 20 rows\n",
      "\n"
     ]
    }
   ],
   "source": [
    "selected = colSelect.transform(reviews_spark)\n",
    "selected.show()"
   ]
  },
  {
   "cell_type": "markdown",
   "metadata": {},
   "source": [
    "### Define transformer to create multiple time features based on the `Time` column\n",
    "\n",
    "The `Time` column is stored internally as a timestamp. To be useful in modeling, we need to extract the time information in a format that is understandable by the predictive algorithms we employ. We can use SparkSQL data methods such as `month`, `dayofmonth`, etc. to engineer multiple new features from the timestamp information. "
   ]
  },
  {
   "cell_type": "code",
   "execution_count": 7,
   "metadata": {},
   "outputs": [],
   "source": [
    "refineTime = SQLTransformer(\n",
    "    statement=\"\"\"\n",
    "    SELECT  Score,\n",
    "            Summary, \n",
    "            dayofmonth(Time) as Day, \n",
    "            month(Time) as Month, \n",
    "            year(Time) as Year, \n",
    "            weekofyear(Time) as WeekNum, \n",
    "            date_format(Time, 'EEE') as Weekday, \n",
    "            hour(Time) as HourOfDay, \n",
    "            IF(date_format(Time, 'EEE')='Sat' OR date_format(Time, 'EEE')='Sun', 1, 0) as Weekend, \n",
    "            CASE \n",
    "                WHEN month(TIME)=12 OR month(Time)<=2 THEN 'Winter' \n",
    "                WHEN month(TIME)>=3 OR month(Time)<=5 THEN 'Spring' \n",
    "                WHEN month(TIME)>=6 AND month(Time)<=9 THEN 'Summer' \n",
    "                ELSE 'Fall' END as Season \n",
    "    FROM __THIS__\"\"\")"
   ]
  },
  {
   "cell_type": "markdown",
   "metadata": {},
   "source": [
    "Now inspect the updated data"
   ]
  },
  {
   "cell_type": "code",
   "execution_count": 8,
   "metadata": {},
   "outputs": [
    {
     "name": "stdout",
     "output_type": "stream",
     "text": [
      "+-----+--------------------+---+-----+----+-------+-------+---------+-------+------+\n",
      "|Score|             Summary|Day|Month|Year|WeekNum|Weekday|HourOfDay|Weekend|Season|\n",
      "+-----+--------------------+---+-----+----+-------+-------+---------+-------+------+\n",
      "|    5|Good Quality Dog ...| 27|    4|2011|     17|    Wed|        0|      0|Spring|\n",
      "|    1|   Not as Advertised|  7|    9|2012|     36|    Fri|        0|      0|Spring|\n",
      "|    4|\"\"\"Delight\"\" says...| 18|    8|2008|     34|    Mon|        0|      0|Spring|\n",
      "|    2|      Cough Medicine| 13|    6|2011|     24|    Mon|        0|      0|Spring|\n",
      "|    5|         Great taffy| 21|   10|2012|     42|    Sun|        0|      1|Spring|\n",
      "|    4|          Nice Taffy| 12|    7|2012|     28|    Thu|        0|      0|Spring|\n",
      "|    5|Great!  Just as g...| 20|    6|2012|     25|    Wed|        0|      0|Spring|\n",
      "|    5|Wonderful, tasty ...|  3|    5|2012|     18|    Thu|        0|      0|Spring|\n",
      "|    5|          Yay Barley| 23|   11|2011|     47|    Wed|        0|      0|Spring|\n",
      "|    5|    Healthy Dog Food| 26|   10|2012|     43|    Fri|        0|      0|Spring|\n",
      "|    5|The Best Hot Sauc...|  8|    2|2005|      6|    Tue|        0|      0|Winter|\n",
      "|    5|\"My cats LOVE thi...| 27|    8|2010|     34|    Fri|        0|      0|Spring|\n",
      "|    1|My Cats Are Not F...| 13|    6|2012|     24|    Wed|        0|      0|Spring|\n",
      "|    4|   fresh and greasy!|  5|   11|2010|     44|    Fri|        0|      0|Spring|\n",
      "|    5|Strawberry Twizzl...| 12|    3|2010|     10|    Fri|        0|      0|Spring|\n",
      "|    5|Lots of twizzlers...| 29|   12|2009|     53|    Tue|        0|      0|Winter|\n",
      "|    2|          poor taste| 20|    9|2012|     38|    Thu|        0|      0|Spring|\n",
      "|    5|            Love it!| 16|    8|2012|     33|    Thu|        0|      0|Spring|\n",
      "|    5|  GREAT SWEET CANDY!| 23|   12|2011|     51|    Fri|        0|      0|Winter|\n",
      "|    5|Home delivered tw...|  8|   10|2011|     40|    Sat|        0|      1|Spring|\n",
      "+-----+--------------------+---+-----+----+-------+-------+---------+-------+------+\n",
      "only showing top 20 rows\n",
      "\n"
     ]
    }
   ],
   "source": [
    "refined = refineTime.transform(selected)\n",
    "refined.show()"
   ]
  },
  {
   "cell_type": "markdown",
   "metadata": {},
   "source": [
    "### Remove neutral reviews and classify the Scores\n",
    "\n",
    "We are not interested in the neutral reviews (reviews with the `Score=3`) as they would not add much information to the model. This is a fairly standard approach in NPS (net promoter score) type analyses, and common in particular in sentiment analysis. "
   ]
  },
  {
   "cell_type": "code",
   "execution_count": 9,
   "metadata": {},
   "outputs": [],
   "source": [
    "from pyspark.sql.types import FloatType\n",
    "from pyspark.sql.functions import col, udf\n",
    "from pyspark.ml import Pipeline\n",
    "from pyspark.ml.feature import Tokenizer, RegexTokenizer, StopWordsRemover, IDF, CountVectorizer\n",
    "\n",
    "filterScore = SQLTransformer(\n",
    "    statement=\"\"\"\n",
    "    SELECT  IF(Score<3,'NEGATIVE', 'POSITIVE') as Sentiment, Summary, Day, Month, Year,\n",
    "            WeekNum, Weekday, HourOfDay, Weekend, Season \n",
    "    FROM __THIS__ WHERE Score !=3 \"\"\")"
   ]
  },
  {
   "cell_type": "markdown",
   "metadata": {},
   "source": [
    " Inspect the data"
   ]
  },
  {
   "cell_type": "code",
   "execution_count": 10,
   "metadata": {},
   "outputs": [
    {
     "name": "stdout",
     "output_type": "stream",
     "text": [
      "+---------+--------------------+---+-----+----+-------+-------+---------+-------+------+\n",
      "|Sentiment|             Summary|Day|Month|Year|WeekNum|Weekday|HourOfDay|Weekend|Season|\n",
      "+---------+--------------------+---+-----+----+-------+-------+---------+-------+------+\n",
      "| POSITIVE|Good Quality Dog ...| 27|    4|2011|     17|    Wed|        0|      0|Spring|\n",
      "| NEGATIVE|   Not as Advertised|  7|    9|2012|     36|    Fri|        0|      0|Spring|\n",
      "| POSITIVE|\"\"\"Delight\"\" says...| 18|    8|2008|     34|    Mon|        0|      0|Spring|\n",
      "| NEGATIVE|      Cough Medicine| 13|    6|2011|     24|    Mon|        0|      0|Spring|\n",
      "| POSITIVE|         Great taffy| 21|   10|2012|     42|    Sun|        0|      1|Spring|\n",
      "| POSITIVE|          Nice Taffy| 12|    7|2012|     28|    Thu|        0|      0|Spring|\n",
      "| POSITIVE|Great!  Just as g...| 20|    6|2012|     25|    Wed|        0|      0|Spring|\n",
      "| POSITIVE|Wonderful, tasty ...|  3|    5|2012|     18|    Thu|        0|      0|Spring|\n",
      "| POSITIVE|          Yay Barley| 23|   11|2011|     47|    Wed|        0|      0|Spring|\n",
      "| POSITIVE|    Healthy Dog Food| 26|   10|2012|     43|    Fri|        0|      0|Spring|\n",
      "| POSITIVE|The Best Hot Sauc...|  8|    2|2005|      6|    Tue|        0|      0|Winter|\n",
      "| POSITIVE|\"My cats LOVE thi...| 27|    8|2010|     34|    Fri|        0|      0|Spring|\n",
      "| NEGATIVE|My Cats Are Not F...| 13|    6|2012|     24|    Wed|        0|      0|Spring|\n",
      "| POSITIVE|   fresh and greasy!|  5|   11|2010|     44|    Fri|        0|      0|Spring|\n",
      "| POSITIVE|Strawberry Twizzl...| 12|    3|2010|     10|    Fri|        0|      0|Spring|\n",
      "| POSITIVE|Lots of twizzlers...| 29|   12|2009|     53|    Tue|        0|      0|Winter|\n",
      "| NEGATIVE|          poor taste| 20|    9|2012|     38|    Thu|        0|      0|Spring|\n",
      "| POSITIVE|            Love it!| 16|    8|2012|     33|    Thu|        0|      0|Spring|\n",
      "| POSITIVE|  GREAT SWEET CANDY!| 23|   12|2011|     51|    Fri|        0|      0|Winter|\n",
      "| POSITIVE|Home delivered tw...|  8|   10|2011|     40|    Sat|        0|      1|Spring|\n",
      "+---------+--------------------+---+-----+----+-------+-------+---------+-------+------+\n",
      "only showing top 20 rows\n",
      "\n"
     ]
    }
   ],
   "source": [
    "filtered = filterScore.transform(refined)\n",
    "filtered.show()"
   ]
  },
  {
   "cell_type": "markdown",
   "metadata": {},
   "source": [
    "### Tokenize the message\n",
    "\n",
    "Here we use Spark's [RegexTokenizer](https://spark.apache.org/docs/2.1.0/ml-features.html#tokenizer) to tokenize the messages."
   ]
  },
  {
   "cell_type": "code",
   "execution_count": 11,
   "metadata": {},
   "outputs": [],
   "source": [
    "regexTokenizer = RegexTokenizer(inputCol=\"Summary\",\n",
    "                                outputCol=\"tokenized_summary\",\n",
    "                                pattern=\"[, ]\",\n",
    "                                toLowercase=True)"
   ]
  },
  {
   "cell_type": "markdown",
   "metadata": {},
   "source": [
    "Inspect the data"
   ]
  },
  {
   "cell_type": "code",
   "execution_count": 12,
   "metadata": {},
   "outputs": [
    {
     "name": "stdout",
     "output_type": "stream",
     "text": [
      "+---------+--------------------+---+-----+----+-------+-------+---------+-------+------+--------------------+\n",
      "|Sentiment|             Summary|Day|Month|Year|WeekNum|Weekday|HourOfDay|Weekend|Season|   tokenized_summary|\n",
      "+---------+--------------------+---+-----+----+-------+-------+---------+-------+------+--------------------+\n",
      "| POSITIVE|Good Quality Dog ...| 27|    4|2011|     17|    Wed|        0|      0|Spring|[good, quality, d...|\n",
      "| NEGATIVE|   Not as Advertised|  7|    9|2012|     36|    Fri|        0|      0|Spring|[not, as, adverti...|\n",
      "| POSITIVE|\"\"\"Delight\"\" says...| 18|    8|2008|     34|    Mon|        0|      0|Spring|[\"\"\"delight\"\", sa...|\n",
      "| NEGATIVE|      Cough Medicine| 13|    6|2011|     24|    Mon|        0|      0|Spring|   [cough, medicine]|\n",
      "| POSITIVE|         Great taffy| 21|   10|2012|     42|    Sun|        0|      1|Spring|      [great, taffy]|\n",
      "| POSITIVE|          Nice Taffy| 12|    7|2012|     28|    Thu|        0|      0|Spring|       [nice, taffy]|\n",
      "| POSITIVE|Great!  Just as g...| 20|    6|2012|     25|    Wed|        0|      0|Spring|[great!, just, as...|\n",
      "| POSITIVE|Wonderful, tasty ...|  3|    5|2012|     18|    Thu|        0|      0|Spring|[wonderful, tasty...|\n",
      "| POSITIVE|          Yay Barley| 23|   11|2011|     47|    Wed|        0|      0|Spring|       [yay, barley]|\n",
      "| POSITIVE|    Healthy Dog Food| 26|   10|2012|     43|    Fri|        0|      0|Spring|[healthy, dog, food]|\n",
      "| POSITIVE|The Best Hot Sauc...|  8|    2|2005|      6|    Tue|        0|      0|Winter|[the, best, hot, ...|\n",
      "| POSITIVE|\"My cats LOVE thi...| 27|    8|2010|     34|    Fri|        0|      0|Spring|[\"my, cats, love,...|\n",
      "| NEGATIVE|My Cats Are Not F...| 13|    6|2012|     24|    Wed|        0|      0|Spring|[my, cats, are, n...|\n",
      "| POSITIVE|   fresh and greasy!|  5|   11|2010|     44|    Fri|        0|      0|Spring|[fresh, and, grea...|\n",
      "| POSITIVE|Strawberry Twizzl...| 12|    3|2010|     10|    Fri|        0|      0|Spring|[strawberry, twiz...|\n",
      "| POSITIVE|Lots of twizzlers...| 29|   12|2009|     53|    Tue|        0|      0|Winter|[lots, of, twizzl...|\n",
      "| NEGATIVE|          poor taste| 20|    9|2012|     38|    Thu|        0|      0|Spring|       [poor, taste]|\n",
      "| POSITIVE|            Love it!| 16|    8|2012|     33|    Thu|        0|      0|Spring|         [love, it!]|\n",
      "| POSITIVE|  GREAT SWEET CANDY!| 23|   12|2011|     51|    Fri|        0|      0|Winter|[great, sweet, ca...|\n",
      "| POSITIVE|Home delivered tw...|  8|   10|2011|     40|    Sat|        0|      1|Spring|[home, delivered,...|\n",
      "+---------+--------------------+---+-----+----+-------+-------+---------+-------+------+--------------------+\n",
      "only showing top 20 rows\n",
      "\n"
     ]
    }
   ],
   "source": [
    "tokenized = regexTokenizer.transform(filtered)\n",
    "tokenized.show()"
   ]
  },
  {
   "cell_type": "markdown",
   "metadata": {},
   "source": [
    "### Remove unnecessary words\n",
    "\n",
    "Some words do not bring much information for the resulting model. For this, we use Spark's [StopWordsRemover](https://spark.apache.org/docs/2.1.0/ml-features.html#stopwordsremover) to clean the data."
   ]
  },
  {
   "cell_type": "code",
   "execution_count": 13,
   "metadata": {},
   "outputs": [],
   "source": [
    "stopWordsRemover = StopWordsRemover(inputCol=regexTokenizer.getOutputCol(),\n",
    "                                    outputCol=\"CleanedSummary\",\n",
    "                                    caseSensitive=False)"
   ]
  },
  {
   "cell_type": "markdown",
   "metadata": {},
   "source": [
    "Inspect the data"
   ]
  },
  {
   "cell_type": "code",
   "execution_count": 14,
   "metadata": {},
   "outputs": [
    {
     "name": "stdout",
     "output_type": "stream",
     "text": [
      "+---------+--------------------+--------------------+\n",
      "|Sentiment|             Summary|      CleanedSummary|\n",
      "+---------+--------------------+--------------------+\n",
      "| POSITIVE|Good Quality Dog ...|[good, quality, d...|\n",
      "| NEGATIVE|   Not as Advertised|        [advertised]|\n",
      "| POSITIVE|\"\"\"Delight\"\" says...|[\"\"\"delight\"\", sa...|\n",
      "| NEGATIVE|      Cough Medicine|   [cough, medicine]|\n",
      "| POSITIVE|         Great taffy|      [great, taffy]|\n",
      "| POSITIVE|          Nice Taffy|       [nice, taffy]|\n",
      "| POSITIVE|Great!  Just as g...|[great!, good, ex...|\n",
      "| POSITIVE|Wonderful, tasty ...|[wonderful, tasty...|\n",
      "| POSITIVE|          Yay Barley|       [yay, barley]|\n",
      "| POSITIVE|    Healthy Dog Food|[healthy, dog, food]|\n",
      "| POSITIVE|The Best Hot Sauc...|[best, hot, sauce...|\n",
      "| POSITIVE|\"My cats LOVE thi...|[\"my, cats, love,...|\n",
      "| NEGATIVE|My Cats Are Not F...|[cats, fans, new,...|\n",
      "| POSITIVE|   fresh and greasy!|    [fresh, greasy!]|\n",
      "| POSITIVE|Strawberry Twizzl...|[strawberry, twiz...|\n",
      "| POSITIVE|Lots of twizzlers...|[lots, twizzlers,...|\n",
      "| NEGATIVE|          poor taste|       [poor, taste]|\n",
      "| POSITIVE|            Love it!|         [love, it!]|\n",
      "| POSITIVE|  GREAT SWEET CANDY!|[great, sweet, ca...|\n",
      "| POSITIVE|Home delivered tw...|[home, delivered,...|\n",
      "+---------+--------------------+--------------------+\n",
      "only showing top 20 rows\n",
      "\n"
     ]
    }
   ],
   "source": [
    "stopWordsRemoved = stopWordsRemover.transform(tokenized)\n",
    "stopWordsRemoved.select([\"Sentiment\", \"Summary\", \"CleanedSummary\"]).show()"
   ]
  },
  {
   "cell_type": "markdown",
   "metadata": {},
   "source": [
    "### Hash the words\n",
    "\n",
    "NLP (natural language processing) for predictive modeling is based on the idea that text can be represented as numeric values. These values are then fed into any algorithm the user chooses. One choice of numeric representation uses [CountVectorizer](https://spark.apache.org/docs/2.1.0/ml-features.html#countvectorizer).\n",
    "\n",
    "`CountVectorizer` is very similar to the [HashingTF](https://spark.apache.org/docs/2.1.0/ml-features.html#tf-idf) function, except that it preserves the mapping from the index back to the word using an internal vocabulary.\n",
    "\n",
    "For example, if the word `Dog` is stored in the hash at the index `100`, we can get the word back as `countVectorizerModel.vocabulary[100]`.\n",
    "\n",
    "#### Trick #3: Set minDF parameter to limit number of words\n",
    "\n",
    "The `minDF` parameter ensures that only words which occur more the `minDF` times in our case are included. This both speeds the process of modeling and ensures that outliers (infrequent words) do not affect our model that much."
   ]
  },
  {
   "cell_type": "code",
   "execution_count": 15,
   "metadata": {},
   "outputs": [],
   "source": [
    "countVectorizer = CountVectorizer(inputCol=stopWordsRemover.getOutputCol(),\n",
    "                                  outputCol=\"frequencies\",\n",
    "                                  minDF=100)"
   ]
  },
  {
   "cell_type": "markdown",
   "metadata": {},
   "source": [
    "#### Trick #4: Manually train the count vectorizer so we can see how it behaves before we execute the pipeline\n"
   ]
  },
  {
   "cell_type": "code",
   "execution_count": 16,
   "metadata": {},
   "outputs": [],
   "source": [
    "countVecModel = countVectorizer.fit(stopWordsRemoved)"
   ]
  },
  {
   "cell_type": "markdown",
   "metadata": {},
   "source": [
    "See the vocabulary:"
   ]
  },
  {
   "cell_type": "code",
   "execution_count": 17,
   "metadata": {},
   "outputs": [
    {
     "name": "stdout",
     "output_type": "stream",
     "text": [
      "Vocabulary size is 1513\n",
      "['great', 'good', 'best', 'love', 'coffee', 'tea', 'product', 'taste', 'delicious', 'excellent']\n"
     ]
    }
   ],
   "source": [
    "print(\"Vocabulary size is \" + str(len(countVecModel.vocabulary)))\n",
    "print(countVecModel.vocabulary[:10])"
   ]
  },
  {
   "cell_type": "markdown",
   "metadata": {},
   "source": [
    "Inspect the data"
   ]
  },
  {
   "cell_type": "code",
   "execution_count": 18,
   "metadata": {},
   "outputs": [
    {
     "name": "stdout",
     "output_type": "stream",
     "text": [
      "+---------+--------------------+--------------------+\n",
      "|Sentiment|      CleanedSummary|         frequencies|\n",
      "+---------+--------------------+--------------------+\n",
      "| POSITIVE|[good, quality, d...|(1513,[1,10,12,35...|\n",
      "| NEGATIVE|        [advertised]|  (1513,[617],[1.0])|\n",
      "| POSITIVE|[\"\"\"delight\"\", sa...|  (1513,[418],[1.0])|\n",
      "| NEGATIVE|   [cough, medicine]|        (1513,[],[])|\n",
      "| POSITIVE|      [great, taffy]|(1513,[0,1430],[1...|\n",
      "| POSITIVE|       [nice, taffy]|(1513,[30,1430],[...|\n",
      "| POSITIVE|[great!, good, ex...|(1513,[1,59,126],...|\n",
      "| POSITIVE|[wonderful, tasty...|(1513,[15,37,1430...|\n",
      "| POSITIVE|       [yay, barley]|        (1513,[],[])|\n",
      "| POSITIVE|[healthy, dog, food]|(1513,[10,12,21],...|\n",
      "| POSITIVE|[best, hot, sauce...|(1513,[2,44,86,45...|\n",
      "| POSITIVE|[\"my, cats, love,...|(1513,[3,12,23,41...|\n",
      "| NEGATIVE|[cats, fans, new,...|(1513,[12,41,80],...|\n",
      "| POSITIVE|    [fresh, greasy!]|   (1513,[83],[1.0])|\n",
      "| POSITIVE|[strawberry, twiz...|(1513,[13,19,666]...|\n",
      "| POSITIVE|[lots, twizzlers,...|  (1513,[408],[1.0])|\n",
      "| NEGATIVE|       [poor, taste]|(1513,[7,178],[1....|\n",
      "| POSITIVE|         [love, it!]|(1513,[3,31],[1.0...|\n",
      "| POSITIVE|[great, sweet, ca...|(1513,[0,43,934],...|\n",
      "| POSITIVE|[home, delivered,...|(1513,[353,1069],...|\n",
      "+---------+--------------------+--------------------+\n",
      "only showing top 20 rows\n",
      "\n"
     ]
    }
   ],
   "source": [
    "vectorized = countVecModel.transform(stopWordsRemoved)\n",
    "vectorized.select([\"Sentiment\", \"CleanedSummary\", \"frequencies\"]).show()"
   ]
  },
  {
   "cell_type": "markdown",
   "metadata": {
    "collapsed": true
   },
   "source": [
    "### Create an Inverse Document Frequency (IDF) model\n",
    "\n",
    "Here we use Spark's [tf-idf](https://spark.apache.org/docs/2.1.0/ml-features.html#tf-idf) method to model the importance of a term in a document to the given set of data. Please see the [Spark documentation](https://spark.apache.org/docs/2.1.0/ml-features.html#tf-idf) for more information on TF-IDF."
   ]
  },
  {
   "cell_type": "code",
   "execution_count": 19,
   "metadata": {},
   "outputs": [],
   "source": [
    "idf = IDF(inputCol=countVectorizer.getOutputCol(),\n",
    "          outputCol=\"tf_idf_frequencies\",\n",
    "          minDocFreq=1)"
   ]
  },
  {
   "cell_type": "markdown",
   "metadata": {},
   "source": [
    "Manually train the IDF model to see the results before we execute the pipeline,"
   ]
  },
  {
   "cell_type": "code",
   "execution_count": 20,
   "metadata": {},
   "outputs": [],
   "source": [
    "idfModel = idf.fit(vectorized)"
   ]
  },
  {
   "cell_type": "markdown",
   "metadata": {},
   "source": [
    "Inspect the data"
   ]
  },
  {
   "cell_type": "code",
   "execution_count": 21,
   "metadata": {},
   "outputs": [
    {
     "name": "stdout",
     "output_type": "stream",
     "text": [
      "+---------+--------------------+--------------------+--------------------+\n",
      "|Sentiment|      CleanedSummary|         frequencies|  tf_idf_frequencies|\n",
      "+---------+--------------------+--------------------+--------------------+\n",
      "| POSITIVE|[good, quality, d...|(1513,[1,10,12,35...|(1513,[1,10,12,35...|\n",
      "| NEGATIVE|        [advertised]|  (1513,[617],[1.0])|(1513,[617],[7.32...|\n",
      "| POSITIVE|[\"\"\"delight\"\", sa...|  (1513,[418],[1.0])|(1513,[418],[6.91...|\n",
      "| NEGATIVE|   [cough, medicine]|        (1513,[],[])|        (1513,[],[])|\n",
      "| POSITIVE|      [great, taffy]|(1513,[0,1430],[1...|(1513,[0,1430],[2...|\n",
      "| POSITIVE|       [nice, taffy]|(1513,[30,1430],[...|(1513,[30,1430],[...|\n",
      "| POSITIVE|[great!, good, ex...|(1513,[1,59,126],...|(1513,[1,59,126],...|\n",
      "| POSITIVE|[wonderful, tasty...|(1513,[15,37,1430...|(1513,[15,37,1430...|\n",
      "| POSITIVE|       [yay, barley]|        (1513,[],[])|        (1513,[],[])|\n",
      "| POSITIVE|[healthy, dog, food]|(1513,[10,12,21],...|(1513,[10,12,21],...|\n",
      "| POSITIVE|[best, hot, sauce...|(1513,[2,44,86,45...|(1513,[2,44,86,45...|\n",
      "| POSITIVE|[\"my, cats, love,...|(1513,[3,12,23,41...|(1513,[3,12,23,41...|\n",
      "| NEGATIVE|[cats, fans, new,...|(1513,[12,41,80],...|(1513,[12,41,80],...|\n",
      "| POSITIVE|    [fresh, greasy!]|   (1513,[83],[1.0])|(1513,[83],[5.521...|\n",
      "| POSITIVE|[strawberry, twiz...|(1513,[13,19,666]...|(1513,[13,19,666]...|\n",
      "| POSITIVE|[lots, twizzlers,...|  (1513,[408],[1.0])|(1513,[408],[6.89...|\n",
      "| NEGATIVE|       [poor, taste]|(1513,[7,178],[1....|(1513,[7,178],[3....|\n",
      "| POSITIVE|         [love, it!]|(1513,[3,31],[1.0...|(1513,[3,31],[3.0...|\n",
      "| POSITIVE|[great, sweet, ca...|(1513,[0,43,934],...|(1513,[0,43,934],...|\n",
      "| POSITIVE|[home, delivered,...|(1513,[353,1069],...|(1513,[353,1069],...|\n",
      "+---------+--------------------+--------------------+--------------------+\n",
      "only showing top 20 rows\n",
      "\n"
     ]
    }
   ],
   "source": [
    "afterIdf = idfModel.transform(vectorized)\n",
    "afterIdf.select([\"Sentiment\", \"CleanedSummary\", \"frequencies\", \"tf_idf_frequencies\"]).show()"
   ]
  },
  {
   "cell_type": "markdown",
   "metadata": {
    "collapsed": true
   },
   "source": [
    "### Remove Summary Column\n",
    "\n",
    "Recall from above that predictive algorithms do not understand string values very well. This is why we transformed the text data of the `Summary` column using TF-IDF. We will keep the numeric representations of `Summary` and drop the original text so that we do not confuse the model."
   ]
  },
  {
   "cell_type": "code",
   "execution_count": 22,
   "metadata": {},
   "outputs": [],
   "source": [
    "removeSummary = SQLTransformer(\n",
    "    statement=\"\"\"\n",
    "    SELECT Sentiment, Day, Month, Year, WeekNum, Weekday, HourOfDay, Weekend, Season, tf_idf_frequencies\n",
    "    FROM __THIS__ \"\"\")"
   ]
  },
  {
   "cell_type": "markdown",
   "metadata": {},
   "source": [
    "Inspect the data"
   ]
  },
  {
   "cell_type": "code",
   "execution_count": 23,
   "metadata": {},
   "outputs": [
    {
     "name": "stdout",
     "output_type": "stream",
     "text": [
      "+---------+---+-----+----+-------+-------+---------+-------+------+--------------------+\n",
      "|Sentiment|Day|Month|Year|WeekNum|Weekday|HourOfDay|Weekend|Season|  tf_idf_frequencies|\n",
      "+---------+---+-----+----+-------+-------+---------+-------+------+--------------------+\n",
      "| POSITIVE| 27|    4|2011|     17|    Wed|        0|      0|Spring|(1513,[1,10,12,35...|\n",
      "| NEGATIVE|  7|    9|2012|     36|    Fri|        0|      0|Spring|(1513,[617],[7.32...|\n",
      "| POSITIVE| 18|    8|2008|     34|    Mon|        0|      0|Spring|(1513,[418],[6.91...|\n",
      "| NEGATIVE| 13|    6|2011|     24|    Mon|        0|      0|Spring|        (1513,[],[])|\n",
      "| POSITIVE| 21|   10|2012|     42|    Sun|        0|      1|Spring|(1513,[0,1430],[2...|\n",
      "| POSITIVE| 12|    7|2012|     28|    Thu|        0|      0|Spring|(1513,[30,1430],[...|\n",
      "| POSITIVE| 20|    6|2012|     25|    Wed|        0|      0|Spring|(1513,[1,59,126],...|\n",
      "| POSITIVE|  3|    5|2012|     18|    Thu|        0|      0|Spring|(1513,[15,37,1430...|\n",
      "| POSITIVE| 23|   11|2011|     47|    Wed|        0|      0|Spring|        (1513,[],[])|\n",
      "| POSITIVE| 26|   10|2012|     43|    Fri|        0|      0|Spring|(1513,[10,12,21],...|\n",
      "| POSITIVE|  8|    2|2005|      6|    Tue|        0|      0|Winter|(1513,[2,44,86,45...|\n",
      "| POSITIVE| 27|    8|2010|     34|    Fri|        0|      0|Spring|(1513,[3,12,23,41...|\n",
      "| NEGATIVE| 13|    6|2012|     24|    Wed|        0|      0|Spring|(1513,[12,41,80],...|\n",
      "| POSITIVE|  5|   11|2010|     44|    Fri|        0|      0|Spring|(1513,[83],[5.521...|\n",
      "| POSITIVE| 12|    3|2010|     10|    Fri|        0|      0|Spring|(1513,[13,19,666]...|\n",
      "| POSITIVE| 29|   12|2009|     53|    Tue|        0|      0|Winter|(1513,[408],[6.89...|\n",
      "| NEGATIVE| 20|    9|2012|     38|    Thu|        0|      0|Spring|(1513,[7,178],[3....|\n",
      "| POSITIVE| 16|    8|2012|     33|    Thu|        0|      0|Spring|(1513,[3,31],[3.0...|\n",
      "| POSITIVE| 23|   12|2011|     51|    Fri|        0|      0|Winter|(1513,[0,43,934],...|\n",
      "| POSITIVE|  8|   10|2011|     40|    Sat|        0|      1|Spring|(1513,[353,1069],...|\n",
      "+---------+---+-----+----+-------+-------+---------+-------+------+--------------------+\n",
      "only showing top 20 rows\n",
      "\n"
     ]
    }
   ],
   "source": [
    "removedSummary = removeSummary.transform(afterIdf)\n",
    "removedSummary.show()"
   ]
  },
  {
   "cell_type": "markdown",
   "metadata": {},
   "source": [
    "------------\n",
    "# Now use H2O\n",
    "\n",
    "### Create an XGBoost model using H2O\n",
    "\n",
    "Up to this point, all of our data wrangling and feature engineering efforts have used Spark methods exclusively. Now we turn to H2O to train an H2O XGBoost model on the `Sentiment` column (using default settings). Note that there are many more steps involved with tuning an XGBoost model which we omit here. The full documentation for XGBoost is available at [H2O Documentation](http://docs.h2o.ai/h2o/latest-stable/h2o-docs/data-science/xgboost.html)"
   ]
  },
  {
   "cell_type": "code",
   "execution_count": 24,
   "metadata": {},
   "outputs": [],
   "source": [
    "import h2o\n",
    "from pysparkling.ml import ColumnPruner, H2OXGBoost\n",
    "\n",
    "xgboost = H2OXGBoost(splitRatio=0.8,\n",
    "             featuresCols=[idf.getOutputCol()],\n",
    "             labelCol=\"Sentiment\")"
   ]
  },
  {
   "cell_type": "markdown",
   "metadata": {},
   "source": [
    "###  Create the pipeline by defining all the stages\n",
    "\n",
    "Now we have all the pieces ready and can define the final pipeline."
   ]
  },
  {
   "cell_type": "code",
   "execution_count": 25,
   "metadata": {},
   "outputs": [],
   "source": [
    "pipeline = Pipeline(stages=[colSelect,\n",
    "                            refineTime,\n",
    "                            filterScore,\n",
    "                            regexTokenizer,\n",
    "                            stopWordsRemover,\n",
    "                            countVectorizer,\n",
    "                            idf,\n",
    "                            removeSummary,\n",
    "                            xgboost])"
   ]
  },
  {
   "cell_type": "markdown",
   "metadata": {},
   "source": [
    "## Train the pipeline model\n",
    "\n",
    "The `fit` call calls each trasformer and estimator in the pipeline and creates so called the `PipelineModel`. The model is trained from the cleaned data from previous transformers and the final model is ready to accept the raw data to make predictions"
   ]
  },
  {
   "cell_type": "code",
   "execution_count": 26,
   "metadata": {},
   "outputs": [],
   "source": [
    "model = pipeline.fit(reviews_spark)"
   ]
  },
  {
   "cell_type": "markdown",
   "metadata": {},
   "source": [
    "### Try predictions\n",
    "\n",
    "First, let's load the data that we can use for prediction"
   ]
  },
  {
   "cell_type": "code",
   "execution_count": 27,
   "metadata": {},
   "outputs": [],
   "source": [
    "reviews_spark_pred = spark.read.load(\"/home/h2o/data/amazon_reviews/AmazonReviews_Predictions.csv\",\n",
    "                                     format=\"csv\", sep=\",\", inferSchema=\"true\", header=\"true\")"
   ]
  },
  {
   "cell_type": "markdown",
   "metadata": {},
   "source": [
    "Now run the predictions:"
   ]
  },
  {
   "cell_type": "code",
   "execution_count": 28,
   "metadata": {
    "scrolled": true
   },
   "outputs": [
    {
     "name": "stdout",
     "output_type": "stream",
     "text": [
      "+---------+---+-----+----+-------+-------+---------+-------+------+--------------------+--------------------+\n",
      "|Sentiment|Day|Month|Year|WeekNum|Weekday|HourOfDay|Weekend|Season|  tf_idf_frequencies|   prediction_output|\n",
      "+---------+---+-----+----+-------+-------+---------+-------+------+--------------------+--------------------+\n",
      "| POSITIVE|  8|    6|2012|     23|    Fri|        0|      0|Spring|(1513,[48,645,130...|[0.21973294019699...|\n",
      "| POSITIVE| 15|   12|2011|     50|    Thu|        0|      0|Winter|        (1513,[],[])|[0.21973294019699...|\n",
      "| POSITIVE| 14|    9|2011|     37|    Wed|        0|      0|Spring|(1513,[258,307],[...|[0.21973294019699...|\n",
      "| POSITIVE| 20|   10|2011|     42|    Thu|        0|      0|Spring|(1513,[26,445],[4...|[0.21973294019699...|\n",
      "| POSITIVE|  9|    9|2012|     36|    Sun|        0|      1|Spring|(1513,[36,1409],[...|[0.21973294019699...|\n",
      "| POSITIVE|  8|    2|2012|      6|    Wed|        0|      0|Winter|        (1513,[],[])|[0.21973294019699...|\n",
      "| NEGATIVE| 18|    6|2012|     25|    Mon|        0|      0|Spring|        (1513,[],[])|[0.21973294019699...|\n",
      "| POSITIVE| 27|   11|2010|     47|    Sat|        0|      1|Spring|(1513,[2,215,489,...|[0.21973294019699...|\n",
      "| POSITIVE|  4|    4|2011|     14|    Mon|        0|      0|Spring|(1513,[215],[6.28...|[0.21973294019699...|\n",
      "| POSITIVE| 19|    2|2012|      7|    Sun|        0|      1|Winter|(1513,[0,215,631]...|[0.21973294019699...|\n",
      "| POSITIVE|  1|    2|2012|      5|    Wed|        0|      0|Winter|(1513,[23,34,1264...|[0.21973294019699...|\n",
      "| POSITIVE| 29|    3|2009|     13|    Sun|        0|      1|Spring|(1513,[156,232],[...|[0.21973294019699...|\n",
      "| POSITIVE| 28|   12|2007|     52|    Fri|        0|      0|Winter|(1513,[40],[4.819...|[0.21973294019699...|\n",
      "| POSITIVE| 13|    6|2012|     24|    Wed|        0|      0|Spring|(1513,[608],[7.33...|[0.21973294019699...|\n",
      "| NEGATIVE| 28|    4|2012|     17|    Sat|        0|      1|Spring|(1513,[6,970],[3....|[0.21973294019699...|\n",
      "| POSITIVE| 29|    1|2010|      4|    Fri|        0|      0|Winter|(1513,[214,306,13...|[0.21973294019699...|\n",
      "| POSITIVE|  7|    1|2010|      1|    Thu|        0|      0|Winter|(1513,[36,306],[4...|[0.21973294019699...|\n",
      "| POSITIVE| 30|    3|2010|     13|    Tue|        0|      0|Spring|(1513,[61],[5.282...|[0.21973294019699...|\n",
      "| POSITIVE| 24|    6|2010|     25|    Thu|        0|      0|Spring|(1513,[1262],[8.1...|[0.21973294019699...|\n",
      "| POSITIVE| 13|    9|2009|     37|    Sun|        0|      1|Spring|(1513,[1],[2.5857...|[0.21973294019699...|\n",
      "+---------+---+-----+----+-------+-------+---------+-------+------+--------------------+--------------------+\n",
      "only showing top 20 rows\n",
      "\n"
     ]
    }
   ],
   "source": [
    "model.transform(reviews_spark_pred).show()"
   ]
  },
  {
   "cell_type": "markdown",
   "metadata": {},
   "source": [
    "## Save the pipeline model\n",
    "\n",
    "Later we can use the pipeline model in Scala to demonstrate the deployment of the pipeline in the JVM world."
   ]
  },
  {
   "cell_type": "code",
   "execution_count": 29,
   "metadata": {},
   "outputs": [],
   "source": [
    "model.write().overwrite().save(\"reviews_pipeline.model\")"
   ]
  },
  {
   "cell_type": "markdown",
   "metadata": {},
   "source": [
    "#### Trick #5: Check variable importances\n",
    "\n",
    "We can inspect the model in H2O Flow and see the variable importances. However, we do not have information about the words, just the indices. We can ask the `CountVectorizer` what word is on the specific index to see what words affect our model the most."
   ]
  },
  {
   "cell_type": "code",
   "execution_count": 30,
   "metadata": {},
   "outputs": [
    {
     "data": {
      "text/plain": [
       "'great'"
      ]
     },
     "execution_count": 30,
     "metadata": {},
     "output_type": "execute_result"
    }
   ],
   "source": [
    "model.stages[5].vocabulary[0]"
   ]
  },
  {
   "cell_type": "markdown",
   "metadata": {},
   "source": [
    "## Let's Deploy the Application\n",
    "\n",
    "Up to this point, we have defined the PySpark pipeline. We will now demonstrate its deployment using the PySpark Streaming application in python, where the pipeline defined above will receive raw streaming data and run predictions on them in real time.\n",
    "\n",
    "The steps will be:\n",
    "\n",
    " 1. Load the schema from the schema file.\n",
    " 1. Load the pipeline from the pipeline file.\n",
    " 1. Create an input data stream and pass it the schema. The input data stream will point to a directory where a new csv files will be coming from different streaming sources.\n",
    " 1. Create and output the data stream. For the purposes of this tutorial, we store the data into memory and also into a SparkSQL table.\n",
    " 1. We can inspect the predictions in \"real time\" by regularly displaying the content of the desired table."
   ]
  },
  {
   "cell_type": "markdown",
   "metadata": {},
   "source": [
    "### 1. Check again that we have spark available"
   ]
  },
  {
   "cell_type": "code",
   "execution_count": 31,
   "metadata": {},
   "outputs": [
    {
     "data": {
      "text/html": [
       "\n",
       "            <div>\n",
       "                <p><b>SparkSession - in-memory</b></p>\n",
       "                \n",
       "        <div>\n",
       "            <p><b>SparkContext</b></p>\n",
       "\n",
       "            <p><a href=\"http://3d915dbc845f:4040\">Spark UI</a></p>\n",
       "\n",
       "            <dl>\n",
       "              <dt>Version</dt>\n",
       "                <dd><code>v2.4.3</code></dd>\n",
       "              <dt>Master</dt>\n",
       "                <dd><code>local[*]</code></dd>\n",
       "              <dt>AppName</dt>\n",
       "                <dd><code>pyspark-shell</code></dd>\n",
       "            </dl>\n",
       "        </div>\n",
       "        \n",
       "            </div>\n",
       "        "
      ],
      "text/plain": [
       "<pyspark.sql.session.SparkSession at 0x7f6048b8ddd8>"
      ]
     },
     "execution_count": 31,
     "metadata": {},
     "output_type": "execute_result"
    }
   ],
   "source": [
    "spark"
   ]
  },
  {
   "cell_type": "markdown",
   "metadata": {},
   "source": [
    "### 2. Load the exported schema of our input data"
   ]
  },
  {
   "cell_type": "code",
   "execution_count": 32,
   "metadata": {},
   "outputs": [
    {
     "name": "stdout",
     "output_type": "stream",
     "text": [
      "StructType(List(StructField(Id,IntegerType,true),StructField(ProductId,StringType,true),StructField(UserId,StringType,true),StructField(ProfileName,StringType,true),StructField(HelpfulnessNumerator,StringType,true),StructField(HelpfulnessDenominator,StringType,true),StructField(Score,StringType,true),StructField(Time,StringType,true),StructField(Summary,StringType,true),StructField(Text,StringType,true)))\n"
     ]
    }
   ],
   "source": [
    "from pyspark.sql.types import StructType\n",
    "import json\n",
    "\n",
    "schema = StructType.fromJson(json.load(open(\"schema.json\", 'r')))\n",
    "print(schema)"
   ]
  },
  {
   "cell_type": "markdown",
   "metadata": {},
   "source": [
    "### 3. Load the exported pipeline model"
   ]
  },
  {
   "cell_type": "code",
   "execution_count": 33,
   "metadata": {},
   "outputs": [],
   "source": [
    "from pyspark.ml import PipelineModel\n",
    "pipeline_model = PipelineModel.load(\"reviews_pipeline.model/\")"
   ]
  },
  {
   "cell_type": "markdown",
   "metadata": {},
   "source": [
    "### 4. Start Streaming"
   ]
  },
  {
   "cell_type": "code",
   "execution_count": 34,
   "metadata": {},
   "outputs": [
    {
     "data": {
      "text/plain": [
       "<subprocess.Popen at 0x7f602f651588>"
      ]
     },
     "execution_count": 34,
     "metadata": {},
     "output_type": "execute_result"
    }
   ],
   "source": [
    "from subprocess import Popen\n",
    "Popen([\"./start_streaming.sh\"])"
   ]
  },
  {
   "cell_type": "code",
   "execution_count": 35,
   "metadata": {},
   "outputs": [
    {
     "name": "stdout",
     "output_type": "stream",
     "text": [
      "0.csv  1.csv\r\n"
     ]
    }
   ],
   "source": [
    "!ls output"
   ]
  },
  {
   "cell_type": "markdown",
   "metadata": {},
   "source": [
    "### 5. Prepare the input data stream"
   ]
  },
  {
   "cell_type": "code",
   "execution_count": 36,
   "metadata": {},
   "outputs": [],
   "source": [
    "input_data_stream = spark.readStream.schema(schema).csv(\"output\")"
   ]
  },
  {
   "cell_type": "markdown",
   "metadata": {},
   "source": [
    "### 6. Prepare the output data stream"
   ]
  },
  {
   "cell_type": "code",
   "execution_count": 37,
   "metadata": {},
   "outputs": [],
   "source": [
    "output_data_stream = pipeline_model.transform(input_data_stream)"
   ]
  },
  {
   "cell_type": "markdown",
   "metadata": {},
   "source": [
    "### 7. Start processing the input data"
   ]
  },
  {
   "cell_type": "code",
   "execution_count": 38,
   "metadata": {},
   "outputs": [
    {
     "data": {
      "text/plain": [
       "<pyspark.sql.streaming.StreamingQuery at 0x7f602f6727b8>"
      ]
     },
     "execution_count": 38,
     "metadata": {},
     "output_type": "execute_result"
    }
   ],
   "source": [
    "output_data_stream.writeStream.format(\"memory\").queryName(\"predictions\").start()"
   ]
  },
  {
   "cell_type": "markdown",
   "metadata": {},
   "source": [
    "### 8. List the output"
   ]
  },
  {
   "cell_type": "code",
   "execution_count": 39,
   "metadata": {
    "scrolled": true
   },
   "outputs": [
    {
     "name": "stdout",
     "output_type": "stream",
     "text": [
      "+---------+---+-----+----+-------+-------+---------+-------+------+--------------------+--------------------+\n",
      "|Sentiment|Day|Month|Year|WeekNum|Weekday|HourOfDay|Weekend|Season|  tf_idf_frequencies|   prediction_output|\n",
      "+---------+---+-----+----+-------+-------+---------+-------+------+--------------------+--------------------+\n",
      "| POSITIVE| 18|    8|2008|     34|    Mon|        0|      0|Spring|(1513,[419],[6.91...|[0.21973294019699...|\n",
      "| POSITIVE| 12|    7|2012|     28|    Thu|        0|      0|Spring|(1513,[30,1426],[...|[0.21973294019699...|\n",
      "| POSITIVE| 20|    6|2012|     25|    Wed|        0|      0|Spring|(1513,[1,59,126],...|[0.21973294019699...|\n",
      "| POSITIVE| 27|    4|2011|     17|    Wed|        0|      0|Spring|(1513,[1,10,12,35...|[0.21973294019699...|\n",
      "| NEGATIVE| 13|    6|2011|     24|    Mon|        0|      0|Spring|        (1513,[],[])|[0.21973294019699...|\n",
      "| NEGATIVE|  7|    9|2012|     36|    Fri|        0|      0|Spring|(1513,[618],[7.32...|[0.21973294019699...|\n",
      "| POSITIVE| 21|   10|2012|     42|    Sun|        0|      1|Spring|(1513,[0,1426],[2...|[0.21973294019699...|\n",
      "| POSITIVE|  3|    5|2012|     18|    Thu|        0|      0|Spring|(1513,[15,37,1426...|[0.21973294019699...|\n",
      "| POSITIVE| 26|   10|2012|     43|    Fri|        0|      0|Spring|(1513,[10,12,21],...|[0.21973294019699...|\n",
      "| POSITIVE| 23|   11|2011|     47|    Wed|        0|      0|Spring|        (1513,[],[])|[0.21973294019699...|\n",
      "| POSITIVE|  8|    2|2005|      6|    Tue|        0|      0|Winter|(1513,[2,44,86,45...|[0.21973294019699...|\n",
      "+---------+---+-----+----+-------+-------+---------+-------+------+--------------------+--------------------+\n",
      "\n",
      "+---------+---+-----+----+-------+-------+---------+-------+------+--------------------+--------------------+\n",
      "|Sentiment|Day|Month|Year|WeekNum|Weekday|HourOfDay|Weekend|Season|  tf_idf_frequencies|   prediction_output|\n",
      "+---------+---+-----+----+-------+-------+---------+-------+------+--------------------+--------------------+\n",
      "| POSITIVE| 18|    8|2008|     34|    Mon|        0|      0|Spring|(1513,[419],[6.91...|[0.21973294019699...|\n",
      "| POSITIVE| 12|    7|2012|     28|    Thu|        0|      0|Spring|(1513,[30,1426],[...|[0.21973294019699...|\n",
      "| POSITIVE| 20|    6|2012|     25|    Wed|        0|      0|Spring|(1513,[1,59,126],...|[0.21973294019699...|\n",
      "| POSITIVE| 27|    4|2011|     17|    Wed|        0|      0|Spring|(1513,[1,10,12,35...|[0.21973294019699...|\n",
      "| NEGATIVE| 13|    6|2011|     24|    Mon|        0|      0|Spring|        (1513,[],[])|[0.21973294019699...|\n",
      "| NEGATIVE|  7|    9|2012|     36|    Fri|        0|      0|Spring|(1513,[618],[7.32...|[0.21973294019699...|\n",
      "| POSITIVE| 21|   10|2012|     42|    Sun|        0|      1|Spring|(1513,[0,1426],[2...|[0.21973294019699...|\n",
      "| POSITIVE|  3|    5|2012|     18|    Thu|        0|      0|Spring|(1513,[15,37,1426...|[0.21973294019699...|\n",
      "| POSITIVE| 26|   10|2012|     43|    Fri|        0|      0|Spring|(1513,[10,12,21],...|[0.21973294019699...|\n",
      "| POSITIVE| 23|   11|2011|     47|    Wed|        0|      0|Spring|        (1513,[],[])|[0.21973294019699...|\n",
      "| POSITIVE|  8|    2|2005|      6|    Tue|        0|      0|Winter|(1513,[2,44,86,45...|[0.21973294019699...|\n",
      "| POSITIVE| 27|    8|2010|     34|    Fri|        0|      0|Spring|(1513,[3,12,23,41...|[0.21973294019699...|\n",
      "| NEGATIVE| 13|    6|2012|     24|    Wed|        0|      0|Spring|(1513,[12,41,80],...|[0.21973294019699...|\n",
      "| POSITIVE|  5|   11|2010|     44|    Fri|        0|      0|Spring|(1513,[83],[5.521...|[0.21973294019699...|\n",
      "| POSITIVE| 12|    3|2010|     10|    Fri|        0|      0|Spring|(1513,[13,19,663]...|[0.21973294019699...|\n",
      "+---------+---+-----+----+-------+-------+---------+-------+------+--------------------+--------------------+\n",
      "\n",
      "+---------+---+-----+----+-------+-------+---------+-------+------+--------------------+--------------------+\n",
      "|Sentiment|Day|Month|Year|WeekNum|Weekday|HourOfDay|Weekend|Season|  tf_idf_frequencies|   prediction_output|\n",
      "+---------+---+-----+----+-------+-------+---------+-------+------+--------------------+--------------------+\n",
      "| POSITIVE| 18|    8|2008|     34|    Mon|        0|      0|Spring|(1513,[419],[6.91...|[0.21973294019699...|\n",
      "| POSITIVE| 12|    7|2012|     28|    Thu|        0|      0|Spring|(1513,[30,1426],[...|[0.21973294019699...|\n",
      "| POSITIVE| 20|    6|2012|     25|    Wed|        0|      0|Spring|(1513,[1,59,126],...|[0.21973294019699...|\n",
      "| POSITIVE| 27|    4|2011|     17|    Wed|        0|      0|Spring|(1513,[1,10,12,35...|[0.21973294019699...|\n",
      "| NEGATIVE| 13|    6|2011|     24|    Mon|        0|      0|Spring|        (1513,[],[])|[0.21973294019699...|\n",
      "| NEGATIVE|  7|    9|2012|     36|    Fri|        0|      0|Spring|(1513,[618],[7.32...|[0.21973294019699...|\n",
      "| POSITIVE| 21|   10|2012|     42|    Sun|        0|      1|Spring|(1513,[0,1426],[2...|[0.21973294019699...|\n",
      "| POSITIVE|  3|    5|2012|     18|    Thu|        0|      0|Spring|(1513,[15,37,1426...|[0.21973294019699...|\n",
      "| POSITIVE| 26|   10|2012|     43|    Fri|        0|      0|Spring|(1513,[10,12,21],...|[0.21973294019699...|\n",
      "| POSITIVE| 23|   11|2011|     47|    Wed|        0|      0|Spring|        (1513,[],[])|[0.21973294019699...|\n",
      "| POSITIVE|  8|    2|2005|      6|    Tue|        0|      0|Winter|(1513,[2,44,86,45...|[0.21973294019699...|\n",
      "| POSITIVE| 27|    8|2010|     34|    Fri|        0|      0|Spring|(1513,[3,12,23,41...|[0.21973294019699...|\n",
      "| NEGATIVE| 13|    6|2012|     24|    Wed|        0|      0|Spring|(1513,[12,41,80],...|[0.21973294019699...|\n",
      "| POSITIVE|  5|   11|2010|     44|    Fri|        0|      0|Spring|(1513,[83],[5.521...|[0.21973294019699...|\n",
      "| POSITIVE| 12|    3|2010|     10|    Fri|        0|      0|Spring|(1513,[13,19,663]...|[0.21973294019699...|\n",
      "| POSITIVE| 29|   12|2009|     53|    Tue|        0|      0|Winter|(1513,[406],[6.89...|[0.21973294019699...|\n",
      "| NEGATIVE| 20|    9|2012|     38|    Thu|        0|      0|Spring|(1513,[7,178],[3....|[0.21973294019699...|\n",
      "| POSITIVE| 16|    8|2012|     33|    Thu|        0|      0|Spring|(1513,[3,31],[3.0...|[0.21973294019699...|\n",
      "+---------+---+-----+----+-------+-------+---------+-------+------+--------------------+--------------------+\n",
      "\n",
      "+---------+---+-----+----+-------+-------+---------+-------+------+--------------------+--------------------+\n",
      "|Sentiment|Day|Month|Year|WeekNum|Weekday|HourOfDay|Weekend|Season|  tf_idf_frequencies|   prediction_output|\n",
      "+---------+---+-----+----+-------+-------+---------+-------+------+--------------------+--------------------+\n",
      "| POSITIVE| 18|    8|2008|     34|    Mon|        0|      0|Spring|(1513,[419],[6.91...|[0.21973294019699...|\n",
      "| POSITIVE| 12|    7|2012|     28|    Thu|        0|      0|Spring|(1513,[30,1426],[...|[0.21973294019699...|\n",
      "| POSITIVE| 20|    6|2012|     25|    Wed|        0|      0|Spring|(1513,[1,59,126],...|[0.21973294019699...|\n",
      "| POSITIVE| 27|    4|2011|     17|    Wed|        0|      0|Spring|(1513,[1,10,12,35...|[0.21973294019699...|\n",
      "| NEGATIVE| 13|    6|2011|     24|    Mon|        0|      0|Spring|        (1513,[],[])|[0.21973294019699...|\n",
      "| NEGATIVE|  7|    9|2012|     36|    Fri|        0|      0|Spring|(1513,[618],[7.32...|[0.21973294019699...|\n",
      "| POSITIVE| 21|   10|2012|     42|    Sun|        0|      1|Spring|(1513,[0,1426],[2...|[0.21973294019699...|\n",
      "| POSITIVE|  3|    5|2012|     18|    Thu|        0|      0|Spring|(1513,[15,37,1426...|[0.21973294019699...|\n",
      "| POSITIVE| 26|   10|2012|     43|    Fri|        0|      0|Spring|(1513,[10,12,21],...|[0.21973294019699...|\n",
      "| POSITIVE| 23|   11|2011|     47|    Wed|        0|      0|Spring|        (1513,[],[])|[0.21973294019699...|\n",
      "| POSITIVE|  8|    2|2005|      6|    Tue|        0|      0|Winter|(1513,[2,44,86,45...|[0.21973294019699...|\n",
      "| POSITIVE| 27|    8|2010|     34|    Fri|        0|      0|Spring|(1513,[3,12,23,41...|[0.21973294019699...|\n",
      "| NEGATIVE| 13|    6|2012|     24|    Wed|        0|      0|Spring|(1513,[12,41,80],...|[0.21973294019699...|\n",
      "| POSITIVE|  5|   11|2010|     44|    Fri|        0|      0|Spring|(1513,[83],[5.521...|[0.21973294019699...|\n",
      "| POSITIVE| 12|    3|2010|     10|    Fri|        0|      0|Spring|(1513,[13,19,663]...|[0.21973294019699...|\n",
      "| POSITIVE| 29|   12|2009|     53|    Tue|        0|      0|Winter|(1513,[406],[6.89...|[0.21973294019699...|\n",
      "| NEGATIVE| 20|    9|2012|     38|    Thu|        0|      0|Spring|(1513,[7,178],[3....|[0.21973294019699...|\n",
      "| POSITIVE| 16|    8|2012|     33|    Thu|        0|      0|Spring|(1513,[3,31],[3.0...|[0.21973294019699...|\n",
      "| POSITIVE| 23|   12|2011|     51|    Fri|        0|      0|Winter|(1513,[0,43,933],...|[0.21973294019699...|\n",
      "| POSITIVE|  8|   10|2011|     40|    Sat|        0|      1|Spring|(1513,[353,1069],...|[0.21973294019699...|\n",
      "+---------+---+-----+----+-------+-------+---------+-------+------+--------------------+--------------------+\n",
      "only showing top 20 rows\n",
      "\n",
      "+---------+---+-----+----+-------+-------+---------+-------+------+--------------------+--------------------+\n",
      "|Sentiment|Day|Month|Year|WeekNum|Weekday|HourOfDay|Weekend|Season|  tf_idf_frequencies|   prediction_output|\n",
      "+---------+---+-----+----+-------+-------+---------+-------+------+--------------------+--------------------+\n",
      "| POSITIVE| 18|    8|2008|     34|    Mon|        0|      0|Spring|(1513,[419],[6.91...|[0.21973294019699...|\n",
      "| POSITIVE| 12|    7|2012|     28|    Thu|        0|      0|Spring|(1513,[30,1426],[...|[0.21973294019699...|\n",
      "| POSITIVE| 20|    6|2012|     25|    Wed|        0|      0|Spring|(1513,[1,59,126],...|[0.21973294019699...|\n",
      "| POSITIVE| 27|    4|2011|     17|    Wed|        0|      0|Spring|(1513,[1,10,12,35...|[0.21973294019699...|\n",
      "| NEGATIVE| 13|    6|2011|     24|    Mon|        0|      0|Spring|        (1513,[],[])|[0.21973294019699...|\n",
      "| NEGATIVE|  7|    9|2012|     36|    Fri|        0|      0|Spring|(1513,[618],[7.32...|[0.21973294019699...|\n",
      "| POSITIVE| 21|   10|2012|     42|    Sun|        0|      1|Spring|(1513,[0,1426],[2...|[0.21973294019699...|\n",
      "| POSITIVE|  3|    5|2012|     18|    Thu|        0|      0|Spring|(1513,[15,37,1426...|[0.21973294019699...|\n",
      "| POSITIVE| 26|   10|2012|     43|    Fri|        0|      0|Spring|(1513,[10,12,21],...|[0.21973294019699...|\n",
      "| POSITIVE| 23|   11|2011|     47|    Wed|        0|      0|Spring|        (1513,[],[])|[0.21973294019699...|\n",
      "| POSITIVE|  8|    2|2005|      6|    Tue|        0|      0|Winter|(1513,[2,44,86,45...|[0.21973294019699...|\n",
      "| POSITIVE| 27|    8|2010|     34|    Fri|        0|      0|Spring|(1513,[3,12,23,41...|[0.21973294019699...|\n",
      "| NEGATIVE| 13|    6|2012|     24|    Wed|        0|      0|Spring|(1513,[12,41,80],...|[0.21973294019699...|\n",
      "| POSITIVE|  5|   11|2010|     44|    Fri|        0|      0|Spring|(1513,[83],[5.521...|[0.21973294019699...|\n",
      "| POSITIVE| 12|    3|2010|     10|    Fri|        0|      0|Spring|(1513,[13,19,663]...|[0.21973294019699...|\n",
      "| POSITIVE| 29|   12|2009|     53|    Tue|        0|      0|Winter|(1513,[406],[6.89...|[0.21973294019699...|\n",
      "| NEGATIVE| 20|    9|2012|     38|    Thu|        0|      0|Spring|(1513,[7,178],[3....|[0.21973294019699...|\n",
      "| POSITIVE| 16|    8|2012|     33|    Thu|        0|      0|Spring|(1513,[3,31],[3.0...|[0.21973294019699...|\n",
      "| POSITIVE| 23|   12|2011|     51|    Fri|        0|      0|Winter|(1513,[0,43,933],...|[0.21973294019699...|\n",
      "| POSITIVE|  8|   10|2011|     40|    Sat|        0|      1|Spring|(1513,[353,1069],...|[0.21973294019699...|\n",
      "+---------+---+-----+----+-------+-------+---------+-------+------+--------------------+--------------------+\n",
      "only showing top 20 rows\n",
      "\n",
      "+---------+---+-----+----+-------+-------+---------+-------+------+--------------------+--------------------+\n",
      "|Sentiment|Day|Month|Year|WeekNum|Weekday|HourOfDay|Weekend|Season|  tf_idf_frequencies|   prediction_output|\n",
      "+---------+---+-----+----+-------+-------+---------+-------+------+--------------------+--------------------+\n",
      "| POSITIVE| 18|    8|2008|     34|    Mon|        0|      0|Spring|(1513,[419],[6.91...|[0.21973294019699...|\n",
      "| POSITIVE| 12|    7|2012|     28|    Thu|        0|      0|Spring|(1513,[30,1426],[...|[0.21973294019699...|\n",
      "| POSITIVE| 20|    6|2012|     25|    Wed|        0|      0|Spring|(1513,[1,59,126],...|[0.21973294019699...|\n",
      "| POSITIVE| 27|    4|2011|     17|    Wed|        0|      0|Spring|(1513,[1,10,12,35...|[0.21973294019699...|\n",
      "| NEGATIVE| 13|    6|2011|     24|    Mon|        0|      0|Spring|        (1513,[],[])|[0.21973294019699...|\n",
      "| NEGATIVE|  7|    9|2012|     36|    Fri|        0|      0|Spring|(1513,[618],[7.32...|[0.21973294019699...|\n",
      "| POSITIVE| 21|   10|2012|     42|    Sun|        0|      1|Spring|(1513,[0,1426],[2...|[0.21973294019699...|\n",
      "| POSITIVE|  3|    5|2012|     18|    Thu|        0|      0|Spring|(1513,[15,37,1426...|[0.21973294019699...|\n",
      "| POSITIVE| 26|   10|2012|     43|    Fri|        0|      0|Spring|(1513,[10,12,21],...|[0.21973294019699...|\n",
      "| POSITIVE| 23|   11|2011|     47|    Wed|        0|      0|Spring|        (1513,[],[])|[0.21973294019699...|\n",
      "| POSITIVE|  8|    2|2005|      6|    Tue|        0|      0|Winter|(1513,[2,44,86,45...|[0.21973294019699...|\n",
      "| POSITIVE| 27|    8|2010|     34|    Fri|        0|      0|Spring|(1513,[3,12,23,41...|[0.21973294019699...|\n",
      "| NEGATIVE| 13|    6|2012|     24|    Wed|        0|      0|Spring|(1513,[12,41,80],...|[0.21973294019699...|\n",
      "| POSITIVE|  5|   11|2010|     44|    Fri|        0|      0|Spring|(1513,[83],[5.521...|[0.21973294019699...|\n",
      "| POSITIVE| 12|    3|2010|     10|    Fri|        0|      0|Spring|(1513,[13,19,663]...|[0.21973294019699...|\n",
      "| POSITIVE| 29|   12|2009|     53|    Tue|        0|      0|Winter|(1513,[406],[6.89...|[0.21973294019699...|\n",
      "| NEGATIVE| 20|    9|2012|     38|    Thu|        0|      0|Spring|(1513,[7,178],[3....|[0.21973294019699...|\n",
      "| POSITIVE| 16|    8|2012|     33|    Thu|        0|      0|Spring|(1513,[3,31],[3.0...|[0.21973294019699...|\n",
      "| POSITIVE| 23|   12|2011|     51|    Fri|        0|      0|Winter|(1513,[0,43,933],...|[0.21973294019699...|\n",
      "| POSITIVE|  8|   10|2011|     40|    Sat|        0|      1|Spring|(1513,[353,1069],...|[0.21973294019699...|\n",
      "+---------+---+-----+----+-------+-------+---------+-------+------+--------------------+--------------------+\n",
      "only showing top 20 rows\n",
      "\n",
      "+---------+---+-----+----+-------+-------+---------+-------+------+--------------------+--------------------+\n",
      "|Sentiment|Day|Month|Year|WeekNum|Weekday|HourOfDay|Weekend|Season|  tf_idf_frequencies|   prediction_output|\n",
      "+---------+---+-----+----+-------+-------+---------+-------+------+--------------------+--------------------+\n",
      "| POSITIVE| 18|    8|2008|     34|    Mon|        0|      0|Spring|(1513,[419],[6.91...|[0.21973294019699...|\n",
      "| POSITIVE| 12|    7|2012|     28|    Thu|        0|      0|Spring|(1513,[30,1426],[...|[0.21973294019699...|\n",
      "| POSITIVE| 20|    6|2012|     25|    Wed|        0|      0|Spring|(1513,[1,59,126],...|[0.21973294019699...|\n",
      "| POSITIVE| 27|    4|2011|     17|    Wed|        0|      0|Spring|(1513,[1,10,12,35...|[0.21973294019699...|\n",
      "| NEGATIVE| 13|    6|2011|     24|    Mon|        0|      0|Spring|        (1513,[],[])|[0.21973294019699...|\n",
      "| NEGATIVE|  7|    9|2012|     36|    Fri|        0|      0|Spring|(1513,[618],[7.32...|[0.21973294019699...|\n",
      "| POSITIVE| 21|   10|2012|     42|    Sun|        0|      1|Spring|(1513,[0,1426],[2...|[0.21973294019699...|\n",
      "| POSITIVE|  3|    5|2012|     18|    Thu|        0|      0|Spring|(1513,[15,37,1426...|[0.21973294019699...|\n",
      "| POSITIVE| 26|   10|2012|     43|    Fri|        0|      0|Spring|(1513,[10,12,21],...|[0.21973294019699...|\n",
      "| POSITIVE| 23|   11|2011|     47|    Wed|        0|      0|Spring|        (1513,[],[])|[0.21973294019699...|\n",
      "| POSITIVE|  8|    2|2005|      6|    Tue|        0|      0|Winter|(1513,[2,44,86,45...|[0.21973294019699...|\n",
      "| POSITIVE| 27|    8|2010|     34|    Fri|        0|      0|Spring|(1513,[3,12,23,41...|[0.21973294019699...|\n",
      "| NEGATIVE| 13|    6|2012|     24|    Wed|        0|      0|Spring|(1513,[12,41,80],...|[0.21973294019699...|\n",
      "| POSITIVE|  5|   11|2010|     44|    Fri|        0|      0|Spring|(1513,[83],[5.521...|[0.21973294019699...|\n",
      "| POSITIVE| 12|    3|2010|     10|    Fri|        0|      0|Spring|(1513,[13,19,663]...|[0.21973294019699...|\n",
      "| POSITIVE| 29|   12|2009|     53|    Tue|        0|      0|Winter|(1513,[406],[6.89...|[0.21973294019699...|\n",
      "| NEGATIVE| 20|    9|2012|     38|    Thu|        0|      0|Spring|(1513,[7,178],[3....|[0.21973294019699...|\n",
      "| POSITIVE| 16|    8|2012|     33|    Thu|        0|      0|Spring|(1513,[3,31],[3.0...|[0.21973294019699...|\n",
      "| POSITIVE| 23|   12|2011|     51|    Fri|        0|      0|Winter|(1513,[0,43,933],...|[0.21973294019699...|\n",
      "| POSITIVE|  8|   10|2011|     40|    Sat|        0|      1|Spring|(1513,[353,1069],...|[0.21973294019699...|\n",
      "+---------+---+-----+----+-------+-------+---------+-------+------+--------------------+--------------------+\n",
      "only showing top 20 rows\n",
      "\n",
      "+---------+---+-----+----+-------+-------+---------+-------+------+--------------------+--------------------+\n",
      "|Sentiment|Day|Month|Year|WeekNum|Weekday|HourOfDay|Weekend|Season|  tf_idf_frequencies|   prediction_output|\n",
      "+---------+---+-----+----+-------+-------+---------+-------+------+--------------------+--------------------+\n",
      "| POSITIVE| 18|    8|2008|     34|    Mon|        0|      0|Spring|(1513,[419],[6.91...|[0.21973294019699...|\n",
      "| POSITIVE| 12|    7|2012|     28|    Thu|        0|      0|Spring|(1513,[30,1426],[...|[0.21973294019699...|\n",
      "| POSITIVE| 20|    6|2012|     25|    Wed|        0|      0|Spring|(1513,[1,59,126],...|[0.21973294019699...|\n",
      "| POSITIVE| 27|    4|2011|     17|    Wed|        0|      0|Spring|(1513,[1,10,12,35...|[0.21973294019699...|\n",
      "| NEGATIVE| 13|    6|2011|     24|    Mon|        0|      0|Spring|        (1513,[],[])|[0.21973294019699...|\n",
      "| NEGATIVE|  7|    9|2012|     36|    Fri|        0|      0|Spring|(1513,[618],[7.32...|[0.21973294019699...|\n",
      "| POSITIVE| 21|   10|2012|     42|    Sun|        0|      1|Spring|(1513,[0,1426],[2...|[0.21973294019699...|\n",
      "| POSITIVE|  3|    5|2012|     18|    Thu|        0|      0|Spring|(1513,[15,37,1426...|[0.21973294019699...|\n",
      "| POSITIVE| 26|   10|2012|     43|    Fri|        0|      0|Spring|(1513,[10,12,21],...|[0.21973294019699...|\n",
      "| POSITIVE| 23|   11|2011|     47|    Wed|        0|      0|Spring|        (1513,[],[])|[0.21973294019699...|\n",
      "| POSITIVE|  8|    2|2005|      6|    Tue|        0|      0|Winter|(1513,[2,44,86,45...|[0.21973294019699...|\n",
      "| POSITIVE| 27|    8|2010|     34|    Fri|        0|      0|Spring|(1513,[3,12,23,41...|[0.21973294019699...|\n",
      "| NEGATIVE| 13|    6|2012|     24|    Wed|        0|      0|Spring|(1513,[12,41,80],...|[0.21973294019699...|\n",
      "| POSITIVE|  5|   11|2010|     44|    Fri|        0|      0|Spring|(1513,[83],[5.521...|[0.21973294019699...|\n",
      "| POSITIVE| 12|    3|2010|     10|    Fri|        0|      0|Spring|(1513,[13,19,663]...|[0.21973294019699...|\n",
      "| POSITIVE| 29|   12|2009|     53|    Tue|        0|      0|Winter|(1513,[406],[6.89...|[0.21973294019699...|\n",
      "| NEGATIVE| 20|    9|2012|     38|    Thu|        0|      0|Spring|(1513,[7,178],[3....|[0.21973294019699...|\n",
      "| POSITIVE| 16|    8|2012|     33|    Thu|        0|      0|Spring|(1513,[3,31],[3.0...|[0.21973294019699...|\n",
      "| POSITIVE| 23|   12|2011|     51|    Fri|        0|      0|Winter|(1513,[0,43,933],...|[0.21973294019699...|\n",
      "| POSITIVE|  8|   10|2011|     40|    Sat|        0|      1|Spring|(1513,[353,1069],...|[0.21973294019699...|\n",
      "+---------+---+-----+----+-------+-------+---------+-------+------+--------------------+--------------------+\n",
      "only showing top 20 rows\n",
      "\n",
      "+---------+---+-----+----+-------+-------+---------+-------+------+--------------------+--------------------+\n",
      "|Sentiment|Day|Month|Year|WeekNum|Weekday|HourOfDay|Weekend|Season|  tf_idf_frequencies|   prediction_output|\n",
      "+---------+---+-----+----+-------+-------+---------+-------+------+--------------------+--------------------+\n",
      "| POSITIVE| 18|    8|2008|     34|    Mon|        0|      0|Spring|(1513,[419],[6.91...|[0.21973294019699...|\n",
      "| POSITIVE| 12|    7|2012|     28|    Thu|        0|      0|Spring|(1513,[30,1426],[...|[0.21973294019699...|\n",
      "| POSITIVE| 20|    6|2012|     25|    Wed|        0|      0|Spring|(1513,[1,59,126],...|[0.21973294019699...|\n",
      "| POSITIVE| 27|    4|2011|     17|    Wed|        0|      0|Spring|(1513,[1,10,12,35...|[0.21973294019699...|\n",
      "| NEGATIVE| 13|    6|2011|     24|    Mon|        0|      0|Spring|        (1513,[],[])|[0.21973294019699...|\n",
      "| NEGATIVE|  7|    9|2012|     36|    Fri|        0|      0|Spring|(1513,[618],[7.32...|[0.21973294019699...|\n",
      "| POSITIVE| 21|   10|2012|     42|    Sun|        0|      1|Spring|(1513,[0,1426],[2...|[0.21973294019699...|\n",
      "| POSITIVE|  3|    5|2012|     18|    Thu|        0|      0|Spring|(1513,[15,37,1426...|[0.21973294019699...|\n",
      "| POSITIVE| 26|   10|2012|     43|    Fri|        0|      0|Spring|(1513,[10,12,21],...|[0.21973294019699...|\n",
      "| POSITIVE| 23|   11|2011|     47|    Wed|        0|      0|Spring|        (1513,[],[])|[0.21973294019699...|\n",
      "| POSITIVE|  8|    2|2005|      6|    Tue|        0|      0|Winter|(1513,[2,44,86,45...|[0.21973294019699...|\n",
      "| POSITIVE| 27|    8|2010|     34|    Fri|        0|      0|Spring|(1513,[3,12,23,41...|[0.21973294019699...|\n",
      "| NEGATIVE| 13|    6|2012|     24|    Wed|        0|      0|Spring|(1513,[12,41,80],...|[0.21973294019699...|\n",
      "| POSITIVE|  5|   11|2010|     44|    Fri|        0|      0|Spring|(1513,[83],[5.521...|[0.21973294019699...|\n",
      "| POSITIVE| 12|    3|2010|     10|    Fri|        0|      0|Spring|(1513,[13,19,663]...|[0.21973294019699...|\n",
      "| POSITIVE| 29|   12|2009|     53|    Tue|        0|      0|Winter|(1513,[406],[6.89...|[0.21973294019699...|\n",
      "| NEGATIVE| 20|    9|2012|     38|    Thu|        0|      0|Spring|(1513,[7,178],[3....|[0.21973294019699...|\n",
      "| POSITIVE| 16|    8|2012|     33|    Thu|        0|      0|Spring|(1513,[3,31],[3.0...|[0.21973294019699...|\n",
      "| POSITIVE| 23|   12|2011|     51|    Fri|        0|      0|Winter|(1513,[0,43,933],...|[0.21973294019699...|\n",
      "| POSITIVE|  8|   10|2011|     40|    Sat|        0|      1|Spring|(1513,[353,1069],...|[0.21973294019699...|\n",
      "+---------+---+-----+----+-------+-------+---------+-------+------+--------------------+--------------------+\n",
      "only showing top 20 rows\n",
      "\n",
      "+---------+---+-----+----+-------+-------+---------+-------+------+--------------------+--------------------+\n",
      "|Sentiment|Day|Month|Year|WeekNum|Weekday|HourOfDay|Weekend|Season|  tf_idf_frequencies|   prediction_output|\n",
      "+---------+---+-----+----+-------+-------+---------+-------+------+--------------------+--------------------+\n",
      "| POSITIVE| 18|    8|2008|     34|    Mon|        0|      0|Spring|(1513,[419],[6.91...|[0.21973294019699...|\n",
      "| POSITIVE| 12|    7|2012|     28|    Thu|        0|      0|Spring|(1513,[30,1426],[...|[0.21973294019699...|\n",
      "| POSITIVE| 20|    6|2012|     25|    Wed|        0|      0|Spring|(1513,[1,59,126],...|[0.21973294019699...|\n",
      "| POSITIVE| 27|    4|2011|     17|    Wed|        0|      0|Spring|(1513,[1,10,12,35...|[0.21973294019699...|\n",
      "| NEGATIVE| 13|    6|2011|     24|    Mon|        0|      0|Spring|        (1513,[],[])|[0.21973294019699...|\n",
      "| NEGATIVE|  7|    9|2012|     36|    Fri|        0|      0|Spring|(1513,[618],[7.32...|[0.21973294019699...|\n",
      "| POSITIVE| 21|   10|2012|     42|    Sun|        0|      1|Spring|(1513,[0,1426],[2...|[0.21973294019699...|\n",
      "| POSITIVE|  3|    5|2012|     18|    Thu|        0|      0|Spring|(1513,[15,37,1426...|[0.21973294019699...|\n",
      "| POSITIVE| 26|   10|2012|     43|    Fri|        0|      0|Spring|(1513,[10,12,21],...|[0.21973294019699...|\n",
      "| POSITIVE| 23|   11|2011|     47|    Wed|        0|      0|Spring|        (1513,[],[])|[0.21973294019699...|\n",
      "| POSITIVE|  8|    2|2005|      6|    Tue|        0|      0|Winter|(1513,[2,44,86,45...|[0.21973294019699...|\n",
      "| POSITIVE| 27|    8|2010|     34|    Fri|        0|      0|Spring|(1513,[3,12,23,41...|[0.21973294019699...|\n",
      "| NEGATIVE| 13|    6|2012|     24|    Wed|        0|      0|Spring|(1513,[12,41,80],...|[0.21973294019699...|\n",
      "| POSITIVE|  5|   11|2010|     44|    Fri|        0|      0|Spring|(1513,[83],[5.521...|[0.21973294019699...|\n",
      "| POSITIVE| 12|    3|2010|     10|    Fri|        0|      0|Spring|(1513,[13,19,663]...|[0.21973294019699...|\n",
      "| POSITIVE| 29|   12|2009|     53|    Tue|        0|      0|Winter|(1513,[406],[6.89...|[0.21973294019699...|\n",
      "| NEGATIVE| 20|    9|2012|     38|    Thu|        0|      0|Spring|(1513,[7,178],[3....|[0.21973294019699...|\n",
      "| POSITIVE| 16|    8|2012|     33|    Thu|        0|      0|Spring|(1513,[3,31],[3.0...|[0.21973294019699...|\n",
      "| POSITIVE| 23|   12|2011|     51|    Fri|        0|      0|Winter|(1513,[0,43,933],...|[0.21973294019699...|\n",
      "| POSITIVE|  8|   10|2011|     40|    Sat|        0|      1|Spring|(1513,[353,1069],...|[0.21973294019699...|\n",
      "+---------+---+-----+----+-------+-------+---------+-------+------+--------------------+--------------------+\n",
      "only showing top 20 rows\n",
      "\n"
     ]
    }
   ],
   "source": [
    "import time\n",
    "# limit to 10 for hands-on\n",
    "# could replace with \n",
    "# while(True):\n",
    "\n",
    "for x in range(10):\n",
    "    spark.sql(\"select * from predictions\").show()\n",
    "    time.sleep(3)"
   ]
  },
  {
   "cell_type": "markdown",
   "metadata": {},
   "source": [
    "### 9. Shut down the cluster"
   ]
  },
  {
   "cell_type": "code",
   "execution_count": 40,
   "metadata": {},
   "outputs": [],
   "source": [
    "h2o.cluster().shutdown()\n",
    "spark.stop()"
   ]
  }
 ],
 "metadata": {
  "kernelspec": {
   "display_name": "PySparkling",
   "language": "python",
   "name": "pyspark"
  },
  "language_info": {
   "codemirror_mode": {
    "name": "ipython",
    "version": 3
   },
   "file_extension": ".py",
   "mimetype": "text/x-python",
   "name": "python",
   "nbconvert_exporter": "python",
   "pygments_lexer": "ipython3",
   "version": "3.6.9"
  }
 },
 "nbformat": 4,
 "nbformat_minor": 2
}
